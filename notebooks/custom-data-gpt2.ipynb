{
 "cells": [
  {
   "cell_type": "code",
   "execution_count": null,
   "metadata": {
    "collapsed": true
   },
   "outputs": [],
   "source": [
    "om torch.utils.data import Dataset, random_split\n",
    "from simpletransformers.language_modeling import LanguageModelingModel\n",
    "from transformers import GPT2Tokenizer, GPT2LMHeadModel, GPT2Model\n",
    "from transformers import TrainingArguments, Trainer\n",
    "import os\n",
    "import pandas\n",
    "import torch\n",
    "import gc\n",
    "import logging\n",
    "import random\n",
    "os.environ[\"WANDB_DISABLED\"] = \"true\""
   ]
  },
  {
   "cell_type": "code",
   "execution_count": null,
   "outputs": [],
   "source": [
    "class CustomDataset(Dataset):\n",
    "\t_input_id: str = 'input_ids'\n",
    "\t_attention_mask: str = 'attention_mask'\n",
    "\n",
    "\tdef __init__(self, text_list, tokenizer, max_length, truncation=False):\n",
    "\t\tself.input_ids = []\n",
    "\t\tself.attention_mask = []\n",
    "\t\tself.labels = []\n",
    "\t\tfor text in text_list:\n",
    "\t\t\tencodings_dict = tokenizer(text, truncation=truncation, max_length=max_length)\n",
    "\t\t\tself.input_ids.append(torch.tensor(encodings_dict[self._input_id]))\n",
    "\t\t\tself.attention_mask.append(torch.tensor(encodings_dict[self._attention_mask]))\n",
    "\n",
    "\tdef __len__(self):\n",
    "\t\treturn len(self.input_ids)\n",
    "\n",
    "\tdef __getitem__(self, index):\n",
    "\t\treturn self.input_ids[index], self.attention_mask[index]"
   ],
   "metadata": {
    "collapsed": false
   }
  },
  {
   "cell_type": "code",
   "execution_count": null,
   "outputs": [],
   "source": [
    "class QuestionAnswer(object):\n",
    "\tdef __init__(self, question: str, answer: str):\n",
    "\t\tself.question: str = question\n",
    "\t\tself.answer: str = answer"
   ],
   "metadata": {
    "collapsed": false
   }
  },
  {
   "cell_type": "code",
   "execution_count": null,
   "outputs": [],
   "source": [
    "class DataGenerator(object):\n",
    "\t__bos_token: str = '<|startoftext|>'\n",
    "\t__eos_token: str = '<|endoftext|>'\n",
    "\n",
    "\t# Non-Standard Tokens\n",
    "\t__start_of_question_token: str = '<|startofquestion|>'\n",
    "\t__end_of_question_token: str = '<|endofquestion|>'\n",
    "\t__start_of_reply_token: str = '<|startofreply|>'\n",
    "\t__end_of_reply_token: str = '<|endofreply|>'\n",
    "\n",
    "\t@classmethod\n",
    "\tdef create_data_line(cls, data_line: QuestionAnswer) -> str:\n",
    "\t\ttagged_text: str = cls.__bos_token\n",
    "\t\ttagged_text += cls.__start_of_question_token\n",
    "\t\ttagged_text += data_line.question\n",
    "\t\ttagged_text += cls.__end_of_question_token\n",
    "\t\ttagged_text += cls.__start_of_reply_token\n",
    "\t\ttagged_text += data_line.answer\n",
    "\t\ttagged_text += cls.__end_of_reply_token\n",
    "\t\ttagged_text += cls.__eos_token\n",
    "\n",
    "\t\treturn tagged_text\n",
    "\n",
    "\t@classmethod\n",
    "\tdef get_special_token_dict(cls) -> dict:\n",
    "\t\treturn {\n",
    "\t\t\t\"bos_tag\": f\"{cls.__bos_token}\",\n",
    "\t\t\t\"eos_token\": f\"{cls.__eos_token}\",\n",
    "\t\t\t\"additional_special_tokens\": [\n",
    "\t\t\t\tf\"{cls.__bos_token}\",\n",
    "\t\t\t\tf\"{cls.__eos_token}\",\n",
    "\t\t\t\tf\"{cls.__start_of_question_token}\"\n",
    "\t\t\t\tf\"{cls.__end_of_question_token}\"\n",
    "\t\t\t\tf\"{cls.__start_of_reply_token}\"\n",
    "\t\t\t\tf\"{cls.__end_of_reply_token}\"\n",
    "\t\t\t]}"
   ],
   "metadata": {
    "collapsed": false
   }
  },
  {
   "cell_type": "code",
   "execution_count": null,
   "outputs": [],
   "source": [
    "model_type = \"\"\n",
    "# model_type = \"-medium\"\n",
    "# model_type = \"-large\""
   ],
   "metadata": {
    "collapsed": false
   }
  },
  {
   "cell_type": "code",
   "execution_count": null,
   "outputs": [],
   "source": [
    "model_name = f\"sexy-prompt-bot{model_type}\"\n",
    "\n",
    "parent_directory = \"/content/model_base\"\n",
    "\n",
    "model_output_dir = f\"{parent_directory}/{model_name}\"\n",
    "\n",
    "tokenizer_path = f\"{model_output_dir}\""
   ],
   "metadata": {
    "collapsed": false
   }
  },
  {
   "cell_type": "code",
   "execution_count": null,
   "outputs": [],
   "source": [
    "# data_lines = [\n",
    "# \tQuestionAnswer(question=\"what is required to sign up a customer for ENS?\", answer=\"To enroll in the encounter notification service please ensure that your organization has executed a participation agreement with CRISP and updated your organizations Notice of Privacy Practices (NPP). Once those steps are completed the CRISP team will provide a template file for you to securely submit your patient member file to the HIE. Additionally there is a checklist that will allow you to choose what notifications you want to receive and how you want to receive them. All users can use our ENS PROMPT tool at no cost.\"),\n",
    "# \tQuestionAnswer(question=\"what types of organizations participate in CRISP?\", answer=\"A Health Information Exchange, or HIE, is a way of sharing your health information among participating doctors’ offices, hospitals, care coordinators, labs, radiology centers, and other health care providers through secure, electronic means. The purpose is so that each of your participating healthcare providers can have the benefit of the most recent information available from your other participating providers when taking care of you. When you opt out of participation in the HIE, doctors and nurses will not be able to search for your health information through the HIE to use while treating you. Your physician or other treating providers will still be able to select the HIE as a way to receive your lab results, radiology reports, and other data sent directly to them that they may have previously received by fax, mail, or other electronic communications.\"),\n",
    "# \tQuestionAnswer(question=\"If I don't want to share my information with CRISP can I choose to opt-out?\", answer=\"Please be advised that opting out does not preclude any participating organization that has received or accessed personal health information via the HIE prior to such opt-out, and incorporated such personal health information into its records, from retaining such information in its records. Additionally, in accordance with the law, Public health reporting, such as the reporting of infectious diseases to public health officials, will still occur through the HIE after you decide to opt out. Controlled Dangerous Substances (CDS) information, as part of the Maryland Prescription Drug Monitoring Program, will continue to be available through the HIE to licensed providers.\\n\\nIf you choose to opt out of research only, your information will be available to your treating providers, but will be excluded from any data sets created for researchers.\"),\n",
    "# \tQuestionAnswer(question=\"what is the value of becoming an affiliate of CRISP Shared Services?\", answer=\"As Maryland’s official regional Health Information Exchange, the CRISP HIE network is comprised of hundreds of connected providers, consisting of hospitals, EMRs, pharmacies, payors, health departments, and health centers.\"),\n",
    "# \tQuestionAnswer(question=\"what is the CRISP Shared Services?\", answer=\"CRISP Shared Services (CSS) is a non-profit support organization that provides technology infrastructure and other core services to Health Information Exchanges (HIEs) across the US. We are different than a vendor in that each of our Member HIEs participates in the governance of the organization.\"),\n",
    "# \tQuestionAnswer(question=\"what is the motivation of CRISP Shared Services?\", answer=\"Our primary motivation is to enable and support each local jurisdiction’s Healthcare community so that it can improve health outcomes for its patients. We work with local HIE leadership to implement solutions which best serve the needs of their unique communities, even if those solutions are deployed or built by external vendors.\"),\n",
    "# \tQuestionAnswer(question=\"what is the mission of CRISP Shared Services?\", answer=\"Our mission is to assist member organizations in achieving economies of scale, pooling innovation efforts, and implementing best practices.\"),\n",
    "# \tQuestionAnswer(question=\"What is CRISP?\", answer=\"CRISP is the State Designated Health Information Exchange (HIE) for Maryland.\"),\n",
    "# \tQuestionAnswer(question=\"What does CRISP do?\", answer=\"We are a non-profit organization that facilitates the electronic transfer of clinical information between disparate health information systems.\"),\n",
    "# \tQuestionAnswer(question=\"Clinical Data\", answer=\"As clinical information is created and shared with CRISP, it is made accessible in near real-time to participating health care providers through the CRISP tools. Providers have the ability to securely look up patient information through the internet. CRISP tools retrieve clinical data from participants and display it in a view-only screen at the point of care.\"),\n",
    "# \tQuestionAnswer(question=\"Where is CRISP clinical data? When Is It Made Available?\", answer=\"CRISP clinical data is available through the CRISP Portal at no cost to clinical staff. As clinical information is created and shared with CRISP, it is made accessible in real-time to participating healthcare providers across institutional boundaries through the Clinical Information Service. The portal gives providers the ability to securely look up patient information via their browser. It retrieves clinical data from participants and displays it in a view-only screen at the point of care.\"),\n",
    "# \tQuestionAnswer(question=\"How can I View Patient Data?\", answer=\"The Patient Care Snapshot combines critical information relevant to your role in the patient’s care. It displays data from a variety of sources to provide an at-a-glance view of the patient’s clinical history. Information is presented from a compilation of care management data alongside real-time hospital encounter feeds, up-to-date demographic information, patient to care provider attribution, and clinical summaries of care from our real-time interfaces with providers across the region.\"),\n",
    "# \tQuestionAnswer(question=\"How can I View Patient Data?\", answer=\"Imaging Worklist allows users to compare images across multiple locations via the Imaging Worklist tab through CRISP’s Portal. Patient images from CRISP participating sites dating back to 01/01/2000 are available through CRISP’s Imaging Worklist as well. In addition, up to four imaging studies can be selected, viewed, and compared at the same time.\"),\n",
    "# \tQuestionAnswer(question=\"How can I View Patient Data?\", answer=\"Image Exchange is an online image-sharing service that allows CRISP users to view patient diagnostic images in one central location.\\nCurrently, 50 hospitals and 9 outpatient groups across Maryland and DC are contributing images to the Image Exchange service. These images are then made available to CRISP users through our portals to facilitate greater collaboration and efficiency among healthcare providers, ultimately leading to higher quality patient care.\\nThe diagnostic images are securely stored on servers located within each connected hospital’s local environment. Images taken within the last 90 days are made available to all authorized CRISP users within seconds of collection, while deeper archives of images older than 90 days are available within minutes.\\nCRISP offers two ways of viewing patient clinical data and images. The first option is to directly log on to the CRISP Portal, using specific user credentials. The second option is to access images via the HIE InContext platform within each respective EMR.\\nIn addition to the image access provided through Health Records and Imaging Worklist, Image Exchange participants can also request access to the following features: Transfer-to-PACS and Emergent.\"),\n",
    "# \tQuestionAnswer(question=\"Is access to an Electronic Medical Record (EMR) required to participate in CRISP?\", answer=\"An EMR is not required to access CRISP or the data we provide. CRISP data is accessible through any Internet browser via the CRISP Portal.\"),\n",
    "# \tQuestionAnswer(question=\"Is there a cost associated with accessing CRISP data?\", answer=\"There is no cost. Access to CRISP is free to ambulatory practices.\"),\n",
    "# \tQuestionAnswer(question=\"How do I get started?\", answer=\"To get started, an organization must sign a CRISP Participation agreement for single sites or an agreement for organizations with multiple sites and must update its Notice of Privacy Practices documents. If your organization has already signed a participation agreement, you will be able to skip this step during the onboarding process and simply contact your organization’s CRISP Point of Contact for access.The participation agreement is the uniform data sharing agreement signed by every organization that participates in CRISP. It ensures that everyone sharing data follows the same rules and regulations. Updating your NPP ensures that your practice does its part to inform patients about how CRISP is being used to deliver and coordinate care and informs them of the right to opt-out. Organizations must have CRISP Opt-Out Forms on-site to distribute to patients who ask for one. They must also maintain copies of the Patient Factsheets in registration areas. New users without an agreement will be prompted to upload one during the onboarding process.\"),\n",
    "# \tQuestionAnswer(question=\"How do I get started?\", answer=\"In addition, an organization must: \\n-Submit LabCorp/Quest Data Release Form if it wishes to make its results available in CRISP.\\n-Send a patient panel (all patients seen within the last 18 months) using DIRECT secure emailto panelupload@crispdirect.org. This patient list will be used to audit your organization’s future activity to help ensure appropriate use. Here is a sample [Patient Panel](https://crisphealth.org/wp-content/uploads/2016/03/Sample-ENS-Patient-Panel.xlsx).\\n-In order to send us your panel, please email [support@crisphealth.org](panelupload@crispdirect.org) to request a DIRECT secure email address. Then, follow these [instructions](https://crisphealth.org/wp-content/uploads/2016/03/How-to-Upload-ENS-Participant-Panel.pdf)\"),\n",
    "# \tQuestionAnswer(question=\"Who Contributes Health Information?\", answer=\"All 50 acute-care hospitals in Maryland and 7 acute care hospitals in DC are working with CRISP. To see which of these hospitals are currently providing clinical information, visit our Participating Providers page [here](https://crisphealth.org/about-crisp/connected-providers/).\")\n",
    "# ]\n",
    "\n",
    "data_lines = []\n",
    "with open('training.txt', 'r', encoding=\"UTF-8\") as f:\n",
    "\tlines = f.readlines()\n",
    "\tfor line in lines:\n",
    "\t\tfoo = \"<|startoftext|>\" + line\n",
    "\t\tprint(foo)\n",
    "\t\tdata_lines.append(foo)\n",
    "\n",
    "random.shuffle(data_lines)"
   ],
   "metadata": {
    "collapsed": false
   }
  },
  {
   "cell_type": "code",
   "execution_count": null,
   "outputs": [],
   "source": [
    "from transformers.models.gpt2.modeling_gpt2 import GPT2PreTrainedModel\n",
    "tokenizer = GPT2Tokenizer.from_pretrained(f\"gpt2{model_type}\")\n",
    "\n",
    "model = GPT2LMHeadModel.from_pretrained(f\"gpt2{model_type}\")\n",
    "\n",
    "special_tokens_dict = {\n",
    "    \"bos_token\": \"<|startoftext|>\",\n",
    "    \"eos_token\": \"<|endoftext|>\",\n",
    "    \"additional_special_tokens\": [\n",
    "        \"<|endoftext|>\",\n",
    "        \"<|startoftext|>\"\n",
    "    ]\n",
    "}\n",
    "\n",
    "print(tokenizer.eos_token)\n",
    "\n",
    "num_added_toks = tokenizer.add_special_tokens(special_tokens_dict)\n",
    "\n",
    "print(\"We have added\", num_added_toks, \"tokens\")\n",
    "\n",
    "print(tokenizer.eos_token)\n",
    "\n",
    "# Notice: resize_token_embeddings expect to receive the full size of the new vocabulary, i.e., the length of the tokenizer.\n",
    "model.resize_token_embeddings(len(tokenizer))\n",
    "\n",
    "model.save_pretrained(model_output_dir)\n",
    "\n",
    "tokenizer.save_pretrained(tokenizer_path)\n",
    "\n",
    "model = GPT2LMHeadModel.from_pretrained(model_output_dir)\n",
    "\n",
    "tokenizer = GPT2Tokenizer.from_pretrained(tokenizer_path)\n",
    "\n",
    "model.cuda()"
   ],
   "metadata": {
    "collapsed": false
   }
  },
  {
   "cell_type": "code",
   "execution_count": null,
   "outputs": [],
   "source": [
    "generator = torch.Generator()\n",
    "\n",
    "generator.manual_seed(0)\n",
    "\n",
    "print(f\":: Total Number Of Samples {len(data_lines)}\")\n",
    "\n",
    "max_length = max([len(tokenizer.encode(prompt)) for prompt in data_lines])\n",
    "\n",
    "print(f\":: Max Length Of Sample {max_length}\")\n",
    "\n",
    "dataset = CustomDataset(data_lines, tokenizer, max_length=max_length)\n",
    "\n",
    "train_size = int(0.9 * len(dataset))\n",
    "\n",
    "train_dataset, eval_dataset = random_split(dataset, [train_size, len(dataset) - train_size], generator=generator)"
   ],
   "metadata": {
    "collapsed": false
   }
  },
  {
   "cell_type": "code",
   "execution_count": null,
   "outputs": [],
   "source": [
    "training_args = TrainingArguments(output_dir=model_output_dir)\n",
    "training_args.num_train_epochs = 5\n",
    "training_args.per_device_train_batch_size = 1\n",
    "training_args.per_device_eval_batch_size = 1\n",
    "training_args.logging_steps=50\n",
    "training_args.save_steps=1000\n",
    "training_args.weight_decay=0.0\n",
    "training_args.logging_dir='./logs'\n",
    "training_args.fp16=True\n",
    "training_args.auto_find_batch_size=True\n",
    "training_args.gradient_accumulation_steps=50\n",
    "training_args.learning_rate=1e-4"
   ],
   "metadata": {
    "collapsed": false
   }
  },
  {
   "cell_type": "code",
   "execution_count": null,
   "outputs": [],
   "source": [
    "trainer: Trainer = Trainer(\n",
    "\t\tmodel=model,\n",
    "\t\targs=training_args,\n",
    "\t\ttrain_dataset=train_dataset,\n",
    "\t\teval_dataset=eval_dataset,\n",
    "\t\tdata_collator=lambda data: {\n",
    "\t\t\t'input_ids': torch.stack([f[0] for f in data]),\n",
    "\t\t\t'attention_mask': torch.stack([f[1] for f in data]),\n",
    "\t\t\t'labels': torch.stack([f[0] for f in data])\n",
    "\t\t}\n",
    "\t)"
   ],
   "metadata": {
    "collapsed": false
   }
  },
  {
   "cell_type": "code",
   "execution_count": null,
   "outputs": [],
   "source": [
    "trainer.train()\n",
    "\n",
    "trainer.save_model(model_output_dir)"
   ],
   "metadata": {
    "collapsed": false
   }
  },
  {
   "cell_type": "code",
   "execution_count": null,
   "outputs": [],
   "source": [
    "import time\n",
    "\n",
    "tokenizer = GPT2Tokenizer.from_pretrained(tokenizer_path)\n",
    "\n",
    "model = GPT2LMHeadModel.from_pretrained(model_output_dir)"
   ],
   "metadata": {
    "collapsed": false
   }
  },
  {
   "cell_type": "code",
   "execution_count": null,
   "outputs": [],
   "source": [
    "import re\n",
    "question = \"<|startoftext|>\"\n",
    "\n",
    "prompt = f\"{question}\"\n",
    "\n",
    "device = torch.device(f\"cuda\" if torch.cuda.is_available() else \"cpu\")\n",
    "\n",
    "generation_prompt = tokenizer(prompt, add_special_tokens=False, return_tensors=\"pt\")\n",
    "\n",
    "model.to(device)\n",
    "\n",
    "generation_prompt.to(device)\n",
    "\n",
    "inputs = generation_prompt.input_ids\n",
    "\n",
    "attention_mask = generation_prompt['attention_mask']\n",
    "\n",
    "sample_outputs = model.generate(inputs=inputs,\n",
    "                                attention_mask=attention_mask,\n",
    "                                do_sample=True,\n",
    "                                top_k=0,\n",
    "                                top_p=0.95,\n",
    "                                max_length=1024,\n",
    "                                num_return_sequences=5,\n",
    "                                repetition_penalty=1.1)\n",
    "\n",
    "result = \"\"\n",
    "for i, sample_output in enumerate(sample_outputs):\n",
    "    result = tokenizer.decode(sample_output, skip_special_tokens=True)\n",
    "    print(result)"
   ],
   "metadata": {
    "collapsed": false
   }
  }
 ],
 "metadata": {
  "kernelspec": {
   "display_name": "Python 3",
   "language": "python",
   "name": "python3"
  },
  "language_info": {
   "codemirror_mode": {
    "name": "ipython",
    "version": 2
   },
   "file_extension": ".py",
   "mimetype": "text/x-python",
   "name": "python",
   "nbconvert_exporter": "python",
   "pygments_lexer": "ipython2",
   "version": "2.7.6"
  }
 },
 "nbformat": 4,
 "nbformat_minor": 0
}
