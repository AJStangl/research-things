{
 "cells": [
  {
   "cell_type": "code",
   "execution_count": 1,
   "metadata": {
    "collapsed": true,
    "ExecuteTime": {
     "end_time": "2023-04-30T18:29:03.356930500Z",
     "start_time": "2023-04-30T18:28:49.504098700Z"
    }
   },
   "outputs": [],
   "source": [
    "\n",
    "import hashlib\n",
    "import os\n",
    "import random\n",
    "import time\n",
    "from datetime import datetime\n",
    "from io import BytesIO\n",
    "\n",
    "import pandas as pd\n",
    "import praw\n",
    "import requests\n",
    "import torch\n",
    "from PIL import Image\n",
    "from dask.diagnostics import ProgressBar\n",
    "from pmaw import PushshiftAPI\n",
    "from tqdm import tqdm\n",
    "\n",
    "from shared_code.utility.schemas.pyarrow_schema import schema\n",
    "from shared_code.utility.spark.set_environ import set_azure_env\n",
    "\n",
    "set_azure_env()\n",
    "\n",
    "from shared_code.utility.storage.azure_file_storage import AzureFileStorageAdapter\n",
    "from shared_code.utility.scripts.blip_caption import BlipCaption\n",
    "\n",
    "pbar = ProgressBar()\n",
    "pbar.register()\n",
    "\n",
    "tqdm.pandas()\n",
    "tqdm.pandas(desc=\"global\")\n",
    "\n",
    "from tqdm.dask import TqdmCallback\n",
    "\n",
    "cb = TqdmCallback(desc=\"global\")\n",
    "cb.register()\n",
    "\n",
    "file_system = AzureFileStorageAdapter('data').get_file_storage()"
   ]
  },
  {
   "cell_type": "code",
   "execution_count": 2,
   "outputs": [
    {
     "name": "stdout",
     "output_type": "stream",
     "text": [
      "CPU times: total: 0 ns\n",
      "Wall time: 0 ns\n"
     ]
    }
   ],
   "source": [
    "%%time\n",
    "\n",
    "subs = [\n",
    "\t\"SFWRedheads\",\n",
    "\t\"sfwpetite\",\n",
    "\t\"SFWNextDoorGirls\",\n",
    "\t\"trippinthroughtime\",\n",
    "\t\"fatsquirrelhate\",\n",
    "\t\"itookapicture\",\n",
    "\t\"memes\",\n",
    "\t\"WhitePeopleTwitter\",\n",
    "\t\"CityPorn\",\n",
    "\t\"EarthPorn\",\n",
    "\t\"spaceporn\",\n",
    "\t\"realasians\",\n",
    "\t\"KoreanHotties\",\n",
    "\t\"prettyasiangirls\",\n",
    "\t\"AsianOfficeLady\",\n",
    "\t\"mildlypenis\",\n",
    "\t\"cougars_and_milfs_sfw\",\n",
    "\t\"AsianInvasion\",\n",
    "\t\"sexygirls\",\n",
    "\t\"PrettyGirls\",\n",
    "\t\"gentlemanboners\",\n",
    "\t\"hotofficegirls\",\n",
    "\t\"tightdresses\",\n",
    "\t\"DLAH\"\n",
    "]\n"
   ],
   "metadata": {
    "collapsed": false,
    "ExecuteTime": {
     "end_time": "2023-04-30T18:29:03.372556100Z",
     "start_time": "2023-04-30T18:29:03.356930500Z"
    }
   }
  },
  {
   "cell_type": "code",
   "execution_count": 3,
   "outputs": [
    {
     "data": {
      "text/plain": "            id         subreddit                author  \\\n0      128z5ns       celebrities           A-Sexy-Name   \n1      11yk8db  prettyasiangirls          MisoShiru520   \n2      11hfioi     KoreanHotties  Majestic_Painter8660   \n3      1000mjs         spaceporn    MorningStar_imangi   \n4      1000qpd         spaceporn    MorningStar_imangi   \n...        ...               ...                   ...   \n41500  131dso7              DLAH        Wallydinger123   \n41501  131eznp              DLAH          Long_dong111   \n41502  131g3am              DLAH       ThrownAwayMiles   \n41503  131jvcx              DLAH              robok212   \n41504  131n2by              DLAH  Dependent_Secret9424   \n\n                               title  \\\n0                       Rachel Weisz   \n1                            Library   \n2                   Underboob bikini   \n3      Northern Lights above Lofoten   \n4                      Viking Lights   \n...                              ...   \n41500                    Happy B Day   \n41501                        Perfect   \n41502             DLAH left or right   \n41503                 Good morning 😍   \n41504           Perfection (Sisters)   \n\n                                                 caption  \\\n0      cars are parked on the side of the road in the...   \n1      blonde woman with blonde hair and tattoos on h...   \n2      a man with a beard and a beard sitting in fron...   \n3      a view of a view of a large green and purple a...   \n4      a scene of a boat is sitting on the shore of a...   \n...                                                  ...   \n41500  there are three women posing for a picture in ...   \n41501  araffe woman in a white dress sitting on a pur...   \n41502  two women in short dresses posing for a pictur...   \n41503      araffe in a pink dress posing on a white wall   \n41504  two women in shorts and sandals taking a selfi...   \n\n                                   hash  \\\n0      f09b1c0c5dea50c934081a04c83d4d33   \n1      9d5b7331b941ecf3fdbc8ad322303825   \n2      a154a56b1b87cf3a0bc93600c86e4585   \n3      2c39ce1290fba541abd0b004b09da6b2   \n4      0f72de47c69ff50eca5fa3990215f4ac   \n...                                 ...   \n41500  ebb4b4a88dc79e2f2f57b10f32bf03c0   \n41501  5c944c6d62b1ae182c5a6a40c64195f4   \n41502  ab1f8fc33c85f4cfce12c810cf22229e   \n41503  01f5058855526ef25888cff88065db4c   \n41504  b162dd1999dbf9ea3c7adccd34624a46   \n\n                                               permalink  \\\n0          /r/celebrities/comments/128z5ns/rachel_weisz/   \n1          /r/prettyasiangirls/comments/11yk8db/library/   \n2      /r/KoreanHotties/comments/11hfioi/underboob_bi...   \n3      /r/spaceporn/comments/1000mjs/northern_lights_...   \n4           /r/spaceporn/comments/1000qpd/viking_lights/   \n...                                                  ...   \n41500              /r/DLAH/comments/131dso7/happy_b_day/   \n41501                  /r/DLAH/comments/131eznp/perfect/   \n41502       /r/DLAH/comments/131g3am/dlah_left_or_right/   \n41503             /r/DLAH/comments/131jvcx/good_morning/   \n41504       /r/DLAH/comments/131n2by/perfection_sisters/   \n\n                              original_url  \\\n0      https://i.redd.it/nv80afddacra1.jpg   \n1      https://i.redd.it/ht4d2wuusapa1.jpg   \n2      https://i.redd.it/cimr17q84jla1.jpg   \n3      https://i.redd.it/7s5aafaqkb9a1.jpg   \n4      https://i.redd.it/abojw7lqlb9a1.jpg   \n...                                    ...   \n41500  https://i.redd.it/36gurz533jwa1.jpg   \n41501  https://i.redd.it/dnbbx4zucjwa1.jpg   \n41502  https://i.redd.it/zpp70oor3lwa1.jpg   \n41503  https://i.redd.it/ozmbfhjv3mwa1.jpg   \n41504  https://i.redd.it/pfg1u0aw1nwa1.jpg   \n\n                                 image_name  \\\n0      f09b1c0c5dea50c934081a04c83d4d33.jpg   \n1      9d5b7331b941ecf3fdbc8ad322303825.jpg   \n2      a154a56b1b87cf3a0bc93600c86e4585.jpg   \n3                         7s5aafaqkb9a1.jpg   \n4                         abojw7lqlb9a1.jpg   \n...                                     ...   \n41500  ebb4b4a88dc79e2f2f57b10f32bf03c0.jpg   \n41501  5c944c6d62b1ae182c5a6a40c64195f4.jpg   \n41502  ab1f8fc33c85f4cfce12c810cf22229e.jpg   \n41503  01f5058855526ef25888cff88065db4c.jpg   \n41504  b162dd1999dbf9ea3c7adccd34624a46.jpg   \n\n                                                    path model  exists  \\\n0      D:\\data\\images\\celebrities\\f09b1c0c5dea50c9340...  None    True   \n1      D:\\data\\images\\prettyasiangirls\\9d5b7331b941ec...  None    True   \n2                               D:\\ImageDoesNotExist.png  None   False   \n3             D:\\data\\images\\spaceporn\\7s5aafaqkb9a1.jpg  None    True   \n4             D:\\data\\images\\spaceporn\\abojw7lqlb9a1.jpg  None    True   \n...                                                  ...   ...     ...   \n41500  D:\\data\\images\\DLAH\\ebb4b4a88dc79e2f2f57b10f32...  None    True   \n41501  D:\\data\\images\\DLAH\\5c944c6d62b1ae182c5a6a40c6...  None    True   \n41502  D:\\data\\images\\DLAH\\ab1f8fc33c85f4cfce12c810cf...  None    True   \n41503  D:\\data\\images\\DLAH\\01f5058855526ef25888cff880...  None    True   \n41504  D:\\data\\images\\DLAH\\b162dd1999dbf9ea3c7adccd34...  None    True   \n\n       curated accept  tags  \n0        False   None  None  \n1        False   None  None  \n2        False   None  None  \n3        False   None  None  \n4        False   None  None  \n...        ...    ...   ...  \n41500    False   None  None  \n41501    False   None  None  \n41502    False   None  None  \n41503    False   None  None  \n41504    False   None  None  \n\n[41505 rows x 15 columns]",
      "text/html": "<div>\n<style scoped>\n    .dataframe tbody tr th:only-of-type {\n        vertical-align: middle;\n    }\n\n    .dataframe tbody tr th {\n        vertical-align: top;\n    }\n\n    .dataframe thead th {\n        text-align: right;\n    }\n</style>\n<table border=\"1\" class=\"dataframe\">\n  <thead>\n    <tr style=\"text-align: right;\">\n      <th></th>\n      <th>id</th>\n      <th>subreddit</th>\n      <th>author</th>\n      <th>title</th>\n      <th>caption</th>\n      <th>hash</th>\n      <th>permalink</th>\n      <th>original_url</th>\n      <th>image_name</th>\n      <th>path</th>\n      <th>model</th>\n      <th>exists</th>\n      <th>curated</th>\n      <th>accept</th>\n      <th>tags</th>\n    </tr>\n  </thead>\n  <tbody>\n    <tr>\n      <th>0</th>\n      <td>128z5ns</td>\n      <td>celebrities</td>\n      <td>A-Sexy-Name</td>\n      <td>Rachel Weisz</td>\n      <td>cars are parked on the side of the road in the...</td>\n      <td>f09b1c0c5dea50c934081a04c83d4d33</td>\n      <td>/r/celebrities/comments/128z5ns/rachel_weisz/</td>\n      <td>https://i.redd.it/nv80afddacra1.jpg</td>\n      <td>f09b1c0c5dea50c934081a04c83d4d33.jpg</td>\n      <td>D:\\data\\images\\celebrities\\f09b1c0c5dea50c9340...</td>\n      <td>None</td>\n      <td>True</td>\n      <td>False</td>\n      <td>None</td>\n      <td>None</td>\n    </tr>\n    <tr>\n      <th>1</th>\n      <td>11yk8db</td>\n      <td>prettyasiangirls</td>\n      <td>MisoShiru520</td>\n      <td>Library</td>\n      <td>blonde woman with blonde hair and tattoos on h...</td>\n      <td>9d5b7331b941ecf3fdbc8ad322303825</td>\n      <td>/r/prettyasiangirls/comments/11yk8db/library/</td>\n      <td>https://i.redd.it/ht4d2wuusapa1.jpg</td>\n      <td>9d5b7331b941ecf3fdbc8ad322303825.jpg</td>\n      <td>D:\\data\\images\\prettyasiangirls\\9d5b7331b941ec...</td>\n      <td>None</td>\n      <td>True</td>\n      <td>False</td>\n      <td>None</td>\n      <td>None</td>\n    </tr>\n    <tr>\n      <th>2</th>\n      <td>11hfioi</td>\n      <td>KoreanHotties</td>\n      <td>Majestic_Painter8660</td>\n      <td>Underboob bikini</td>\n      <td>a man with a beard and a beard sitting in fron...</td>\n      <td>a154a56b1b87cf3a0bc93600c86e4585</td>\n      <td>/r/KoreanHotties/comments/11hfioi/underboob_bi...</td>\n      <td>https://i.redd.it/cimr17q84jla1.jpg</td>\n      <td>a154a56b1b87cf3a0bc93600c86e4585.jpg</td>\n      <td>D:\\ImageDoesNotExist.png</td>\n      <td>None</td>\n      <td>False</td>\n      <td>False</td>\n      <td>None</td>\n      <td>None</td>\n    </tr>\n    <tr>\n      <th>3</th>\n      <td>1000mjs</td>\n      <td>spaceporn</td>\n      <td>MorningStar_imangi</td>\n      <td>Northern Lights above Lofoten</td>\n      <td>a view of a view of a large green and purple a...</td>\n      <td>2c39ce1290fba541abd0b004b09da6b2</td>\n      <td>/r/spaceporn/comments/1000mjs/northern_lights_...</td>\n      <td>https://i.redd.it/7s5aafaqkb9a1.jpg</td>\n      <td>7s5aafaqkb9a1.jpg</td>\n      <td>D:\\data\\images\\spaceporn\\7s5aafaqkb9a1.jpg</td>\n      <td>None</td>\n      <td>True</td>\n      <td>False</td>\n      <td>None</td>\n      <td>None</td>\n    </tr>\n    <tr>\n      <th>4</th>\n      <td>1000qpd</td>\n      <td>spaceporn</td>\n      <td>MorningStar_imangi</td>\n      <td>Viking Lights</td>\n      <td>a scene of a boat is sitting on the shore of a...</td>\n      <td>0f72de47c69ff50eca5fa3990215f4ac</td>\n      <td>/r/spaceporn/comments/1000qpd/viking_lights/</td>\n      <td>https://i.redd.it/abojw7lqlb9a1.jpg</td>\n      <td>abojw7lqlb9a1.jpg</td>\n      <td>D:\\data\\images\\spaceporn\\abojw7lqlb9a1.jpg</td>\n      <td>None</td>\n      <td>True</td>\n      <td>False</td>\n      <td>None</td>\n      <td>None</td>\n    </tr>\n    <tr>\n      <th>...</th>\n      <td>...</td>\n      <td>...</td>\n      <td>...</td>\n      <td>...</td>\n      <td>...</td>\n      <td>...</td>\n      <td>...</td>\n      <td>...</td>\n      <td>...</td>\n      <td>...</td>\n      <td>...</td>\n      <td>...</td>\n      <td>...</td>\n      <td>...</td>\n      <td>...</td>\n    </tr>\n    <tr>\n      <th>41500</th>\n      <td>131dso7</td>\n      <td>DLAH</td>\n      <td>Wallydinger123</td>\n      <td>Happy B Day</td>\n      <td>there are three women posing for a picture in ...</td>\n      <td>ebb4b4a88dc79e2f2f57b10f32bf03c0</td>\n      <td>/r/DLAH/comments/131dso7/happy_b_day/</td>\n      <td>https://i.redd.it/36gurz533jwa1.jpg</td>\n      <td>ebb4b4a88dc79e2f2f57b10f32bf03c0.jpg</td>\n      <td>D:\\data\\images\\DLAH\\ebb4b4a88dc79e2f2f57b10f32...</td>\n      <td>None</td>\n      <td>True</td>\n      <td>False</td>\n      <td>None</td>\n      <td>None</td>\n    </tr>\n    <tr>\n      <th>41501</th>\n      <td>131eznp</td>\n      <td>DLAH</td>\n      <td>Long_dong111</td>\n      <td>Perfect</td>\n      <td>araffe woman in a white dress sitting on a pur...</td>\n      <td>5c944c6d62b1ae182c5a6a40c64195f4</td>\n      <td>/r/DLAH/comments/131eznp/perfect/</td>\n      <td>https://i.redd.it/dnbbx4zucjwa1.jpg</td>\n      <td>5c944c6d62b1ae182c5a6a40c64195f4.jpg</td>\n      <td>D:\\data\\images\\DLAH\\5c944c6d62b1ae182c5a6a40c6...</td>\n      <td>None</td>\n      <td>True</td>\n      <td>False</td>\n      <td>None</td>\n      <td>None</td>\n    </tr>\n    <tr>\n      <th>41502</th>\n      <td>131g3am</td>\n      <td>DLAH</td>\n      <td>ThrownAwayMiles</td>\n      <td>DLAH left or right</td>\n      <td>two women in short dresses posing for a pictur...</td>\n      <td>ab1f8fc33c85f4cfce12c810cf22229e</td>\n      <td>/r/DLAH/comments/131g3am/dlah_left_or_right/</td>\n      <td>https://i.redd.it/zpp70oor3lwa1.jpg</td>\n      <td>ab1f8fc33c85f4cfce12c810cf22229e.jpg</td>\n      <td>D:\\data\\images\\DLAH\\ab1f8fc33c85f4cfce12c810cf...</td>\n      <td>None</td>\n      <td>True</td>\n      <td>False</td>\n      <td>None</td>\n      <td>None</td>\n    </tr>\n    <tr>\n      <th>41503</th>\n      <td>131jvcx</td>\n      <td>DLAH</td>\n      <td>robok212</td>\n      <td>Good morning 😍</td>\n      <td>araffe in a pink dress posing on a white wall</td>\n      <td>01f5058855526ef25888cff88065db4c</td>\n      <td>/r/DLAH/comments/131jvcx/good_morning/</td>\n      <td>https://i.redd.it/ozmbfhjv3mwa1.jpg</td>\n      <td>01f5058855526ef25888cff88065db4c.jpg</td>\n      <td>D:\\data\\images\\DLAH\\01f5058855526ef25888cff880...</td>\n      <td>None</td>\n      <td>True</td>\n      <td>False</td>\n      <td>None</td>\n      <td>None</td>\n    </tr>\n    <tr>\n      <th>41504</th>\n      <td>131n2by</td>\n      <td>DLAH</td>\n      <td>Dependent_Secret9424</td>\n      <td>Perfection (Sisters)</td>\n      <td>two women in shorts and sandals taking a selfi...</td>\n      <td>b162dd1999dbf9ea3c7adccd34624a46</td>\n      <td>/r/DLAH/comments/131n2by/perfection_sisters/</td>\n      <td>https://i.redd.it/pfg1u0aw1nwa1.jpg</td>\n      <td>b162dd1999dbf9ea3c7adccd34624a46.jpg</td>\n      <td>D:\\data\\images\\DLAH\\b162dd1999dbf9ea3c7adccd34...</td>\n      <td>None</td>\n      <td>True</td>\n      <td>False</td>\n      <td>None</td>\n      <td>None</td>\n    </tr>\n  </tbody>\n</table>\n<p>41505 rows × 15 columns</p>\n</div>"
     },
     "metadata": {},
     "output_type": "display_data"
    },
    {
     "name": "stdout",
     "output_type": "stream",
     "text": [
      "CPU times: total: 344 ms\n",
      "Wall time: 1.34 s\n"
     ]
    }
   ],
   "source": [
    "%%time\n",
    "\n",
    "extant_data = pd.read_parquet(\"data/processed_raw_data.parquet\", engine='pyarrow', filesystem=file_system, schema=schema)\n",
    "display(extant_data)"
   ],
   "metadata": {
    "collapsed": false,
    "ExecuteTime": {
     "end_time": "2023-04-30T18:29:04.840442700Z",
     "start_time": "2023-04-30T18:29:03.372556100Z"
    }
   }
  },
  {
   "cell_type": "code",
   "execution_count": 4,
   "outputs": [
    {
     "name": "stdout",
     "output_type": "stream",
     "text": [
      "CPU times: total: 31.2 ms\n",
      "Wall time: 139 ms\n"
     ]
    },
    {
     "name": "stderr",
     "output_type": "stream",
     "text": [
      "Version 7.6.1 of praw is outdated. Version 7.7.0 was released Saturday February 25, 2023.\n"
     ]
    }
   ],
   "source": [
    "%%time\n",
    "\n",
    "reddit: praw.Reddit = praw.Reddit(client_id='5hVavL0PIRyM_1JSvqT6UQ', client_secret='BjD2kS3WNLnJc59RKY-JJUuc_Z9-JA', user_agent='script:%(bot_name)s:v%(bot_version)s (by /u/%(bot_author)s)')\n",
    "api: PushshiftAPI = PushshiftAPI(praw=reddit, num_workers=12)"
   ],
   "metadata": {
    "collapsed": false,
    "ExecuteTime": {
     "end_time": "2023-04-30T18:29:04.965467900Z",
     "start_time": "2023-04-30T18:29:04.840442700Z"
    }
   }
  },
  {
   "cell_type": "code",
   "execution_count": 5,
   "outputs": [
    {
     "name": "stdout",
     "output_type": "stream",
     "text": [
      "CPU times: total: 0 ns\n",
      "Wall time: 0 ns\n"
     ]
    }
   ],
   "source": [
    "%%time\n",
    "\n",
    "from dask.callbacks import Callback\n",
    "from tqdm.autonotebook import tqdm\n",
    "\n",
    "\n",
    "class TQDMDaskProgressBar(Callback, object):\n",
    "\t\"\"\"\n",
    "    A tqdm progress bar for dask.\n",
    "    Usage:\n",
    "        ```\n",
    "        with TQDMDaskProgressBar():\n",
    "            da.compute()\n",
    "        ```\n",
    "    Author : wassname\n",
    "    Source : https://gist.github.com/wassname/1837d0365247430e02abda41f0e7f184\n",
    "    See: http://dask.pydata.org/en/latest/diagnostics-local.html?highlight=progress\n",
    "    \"\"\"\n",
    "\n",
    "\tdef __init__(self, start=None, start_state=None, pretask=None, posttask=None, finish=None, **kwargs):\n",
    "\t\tsuper(TQDMDaskProgressBar, self).__init__(\n",
    "\t\t\tstart=start,\n",
    "\t\t\tstart_state=start_state,\n",
    "\t\t\tpretask=pretask,\n",
    "\t\t\tposttask=posttask,\n",
    "\t\t\tfinish=finish,\n",
    "\t\t)\n",
    "\t\tself.tqdm_args = kwargs\n",
    "\t\tself.states = [\"ready\", \"waiting\", \"running\", \"finished\"]\n",
    "\n",
    "\tdef _start_state(self, dsk, state):\n",
    "\t\tself._tqdm = tqdm(total=sum(len(state[k]) for k in self.states), **self.tqdm_args)\n",
    "\n",
    "\tdef _posttask(self, key, result, dsk, state, worker_id):\n",
    "\t\tself._tqdm.update(1)\n",
    "\n",
    "\tdef _finish(self, dsk, state, errored):\n",
    "\t\tself._tqdm.close()"
   ],
   "metadata": {
    "collapsed": false,
    "ExecuteTime": {
     "end_time": "2023-04-30T18:29:04.965467900Z",
     "start_time": "2023-04-30T18:29:04.918588600Z"
    }
   }
  },
  {
   "cell_type": "code",
   "execution_count": 6,
   "outputs": [],
   "source": [
    "def filter_by_image_post(item) -> bool:\n",
    "\treturn not (item['selftext'].__contains__('[removed]') or item['selftext'].__contains__('[deleted]') and not item[\n",
    "\t\t'url'].endswith('.jpg'))"
   ],
   "metadata": {
    "collapsed": false,
    "ExecuteTime": {
     "end_time": "2023-04-30T18:29:05.005130800Z",
     "start_time": "2023-04-30T18:29:04.934214700Z"
    }
   }
  },
  {
   "cell_type": "code",
   "execution_count": 7,
   "outputs": [],
   "source": [
    "def fetch_image(x: object) -> object:\n",
    "\ttry:\n",
    "\t\ttime.sleep(0.1)\n",
    "\t\turl = x['original_url']\n",
    "\t\tsubreddit = x['subreddit']\n",
    "\t\tresponse = requests.get(url)\n",
    "\t\tmd5 = hashlib.md5(response.content).hexdigest()\n",
    "\t\tos.makedirs(f\"D:\\\\data\\\\images\\\\{subreddit}\", exist_ok=True)\n",
    "\t\tout_path = f\"D:\\\\data\\\\images\\\\{subreddit}\\\\{md5}.jpg\"\n",
    "\n",
    "\t\tif os.path.exists(out_path):\n",
    "\t\t\treturn out_path\n",
    "\n",
    "\t\tif md5 in list(extant_data['hash']):\n",
    "\t\t\treturn out_path\n",
    "\n",
    "\t\tif md5 != \"f17b01901c752c1bb04928131d1661af\" or md5 != \"d835884373f4d6c8f24742ceabe74946\":\n",
    "\t\t\traw_image = Image.open(BytesIO(response.content))\n",
    "\t\t\traw_image.save(out_path)\n",
    "\t\t\traw_image.close()\n",
    "\t\t\treturn out_path\n",
    "\t\telse:\n",
    "\t\t\treturn \"\"\n",
    "\texcept Exception as e:\n",
    "\t\tprint(e)\n",
    "\t\treturn \"\""
   ],
   "metadata": {
    "collapsed": false,
    "ExecuteTime": {
     "end_time": "2023-04-30T18:29:05.006143700Z",
     "start_time": "2023-04-30T18:29:04.949839Z"
    }
   }
  },
  {
   "cell_type": "code",
   "execution_count": 8,
   "outputs": [],
   "source": [
    "def exists(x: object) -> bool:\n",
    "\ttry:\n",
    "\t\timage_path = os.path.exists(x['path'])\n",
    "\t\treturn image_path\n",
    "\texcept Exception as e:\n",
    "\t\tprint(e)\n",
    "\t\treturn False"
   ],
   "metadata": {
    "collapsed": false,
    "ExecuteTime": {
     "end_time": "2023-04-30T18:29:05.009278800Z",
     "start_time": "2023-04-30T18:29:04.965467900Z"
    }
   }
  },
  {
   "cell_type": "code",
   "execution_count": 9,
   "outputs": [],
   "source": [
    "def split_hash(x: object) -> str:\n",
    "\ttry:\n",
    "\t\tname = x['image_name']\n",
    "\t\treturn name.split('.')[0]\n",
    "\texcept Exception as e:\n",
    "\t\tprint(e)\n",
    "\t\treturn \"\""
   ],
   "metadata": {
    "collapsed": false,
    "ExecuteTime": {
     "end_time": "2023-04-30T18:29:05.009278800Z",
     "start_time": "2023-04-30T18:29:04.981117800Z"
    }
   }
  },
  {
   "cell_type": "code",
   "execution_count": 10,
   "outputs": [],
   "source": [
    "def caption_image(x: object, blip_captioning_list: [BlipCaption, BlipCaption]) -> str:\n",
    "\ttry:\n",
    "\t\tpath = x['path']\n",
    "\t\texists_image = bool(x['exists'])\n",
    "\t\tresulting_caption = x['caption']\n",
    "\n",
    "\t\tif not os.path.exists(path):\n",
    "\t\t\treturn \"\"\n",
    "\n",
    "\t\tif not exists_image:\n",
    "\t\t\treturn \"\"\n",
    "\n",
    "\t\tif resulting_caption == None:\n",
    "\t\t\tpass\n",
    "\t\tif resulting_caption is None:\n",
    "\t\t\tpass\n",
    "\t\telse:\n",
    "\t\t\tif len(resulting_caption) > 6:\n",
    "\t\t\t\treturn resulting_caption\n",
    "\t\t\tif resulting_caption != \"\":\n",
    "\t\t\t\treturn resulting_caption\n",
    "\t\t\telse:\n",
    "\t\t\t\tpass\n",
    "\n",
    "\t\tblip_captioning = random.choice(blip_captioning_list)\n",
    "\n",
    "\t\tresulting_caption = blip_captioning.caption_image(path)\n",
    "\n",
    "\t\treturn resulting_caption\n",
    "\n",
    "\texcept Exception as e:\n",
    "\t\tprint(e)\n",
    "\t\treturn \"\"\n",
    "\tfinally:\n",
    "\t\tpass"
   ],
   "metadata": {
    "collapsed": false,
    "ExecuteTime": {
     "end_time": "2023-04-30T18:29:05.059289600Z",
     "start_time": "2023-04-30T18:29:05.006143700Z"
    }
   }
  },
  {
   "cell_type": "code",
   "execution_count": 11,
   "outputs": [],
   "source": [
    "def get_image_name(x: object) -> str:\n",
    "\ttry:\n",
    "\t\tpath = x['path']\n",
    "\t\tif path == \"\":\n",
    "\t\t\treturn \"\"\n",
    "\t\treturn os.path.basename(path)\n",
    "\texcept Exception as e:\n",
    "\t\tprint(e)\n",
    "\t\treturn \"\""
   ],
   "metadata": {
    "collapsed": false,
    "ExecuteTime": {
     "end_time": "2023-04-30T18:29:05.074888900Z",
     "start_time": "2023-04-30T18:29:05.017473900Z"
    }
   }
  },
  {
   "cell_type": "code",
   "execution_count": 12,
   "outputs": [
    {
     "data": {
      "text/plain": "Creating subs:   0%|          | 0/24 [00:00<?, ?it/s]",
      "application/vnd.jupyter.widget-view+json": {
       "version_major": 2,
       "version_minor": 0,
       "model_id": "a49d7a7868e14e0e91521d13dfdbfcda"
      }
     },
     "metadata": {},
     "output_type": "display_data"
    }
   ],
   "source": [
    "from praw.models import ListingGenerator\n",
    "import pandas as pd\n",
    "\n",
    "posts = []\n",
    "for sub in tqdm(subs, total=len(subs), desc=\"Creating subs\"):\n",
    "\tif not os.path.exists(f\"{sub}\"):\n",
    "\t\tos.makedirs(f\"{sub}\")\n",
    "\texisting_data = pd.read_parquet(f\"{sub}\")\n",
    "\tos.makedirs(f\"{sub}\", exist_ok=True)"
   ],
   "metadata": {
    "collapsed": false,
    "ExecuteTime": {
     "end_time": "2023-04-30T18:30:09.351932400Z",
     "start_time": "2023-04-30T18:29:05.027993300Z"
    }
   }
  },
  {
   "cell_type": "code",
   "execution_count": 13,
   "outputs": [
    {
     "data": {
      "text/plain": "all:   0%|          | 0/24 [00:00<?, ?it/s]",
      "application/vnd.jupyter.widget-view+json": {
       "version_major": 2,
       "version_minor": 0,
       "model_id": "728f237054ac486d833b624c99b94242"
      }
     },
     "metadata": {},
     "output_type": "display_data"
    },
    {
     "data": {
      "text/plain": "Posts - SFWRedheads - all:   0%|          | 0/100 [00:00<?, ?it/s]",
      "application/vnd.jupyter.widget-view+json": {
       "version_major": 2,
       "version_minor": 0,
       "model_id": "db7f27d1fdbd4b228c2f120987e47fb7"
      }
     },
     "metadata": {},
     "output_type": "display_data"
    },
    {
     "data": {
      "text/plain": "Posts - sfwpetite - all:   0%|          | 0/100 [00:00<?, ?it/s]",
      "application/vnd.jupyter.widget-view+json": {
       "version_major": 2,
       "version_minor": 0,
       "model_id": "dd820bb14735407aae4cd0a060d75d32"
      }
     },
     "metadata": {},
     "output_type": "display_data"
    },
    {
     "data": {
      "text/plain": "Posts - SFWNextDoorGirls - all:   0%|          | 0/100 [00:00<?, ?it/s]",
      "application/vnd.jupyter.widget-view+json": {
       "version_major": 2,
       "version_minor": 0,
       "model_id": "e5cf5db89da1454c9415689f7c23277e"
      }
     },
     "metadata": {},
     "output_type": "display_data"
    },
    {
     "data": {
      "text/plain": "Posts - trippinthroughtime - all:   0%|          | 0/100 [00:00<?, ?it/s]",
      "application/vnd.jupyter.widget-view+json": {
       "version_major": 2,
       "version_minor": 0,
       "model_id": "cc6eed1fb4c7449fb4686326195184b7"
      }
     },
     "metadata": {},
     "output_type": "display_data"
    },
    {
     "data": {
      "text/plain": "Posts - fatsquirrelhate - all:   0%|          | 0/100 [00:00<?, ?it/s]",
      "application/vnd.jupyter.widget-view+json": {
       "version_major": 2,
       "version_minor": 0,
       "model_id": "2f62378d22144841912902f32e25209d"
      }
     },
     "metadata": {},
     "output_type": "display_data"
    },
    {
     "data": {
      "text/plain": "Posts - itookapicture - all:   0%|          | 0/100 [00:00<?, ?it/s]",
      "application/vnd.jupyter.widget-view+json": {
       "version_major": 2,
       "version_minor": 0,
       "model_id": "4126b3c0d84e42629790a036b086dd00"
      }
     },
     "metadata": {},
     "output_type": "display_data"
    },
    {
     "data": {
      "text/plain": "Posts - memes - all:   0%|          | 0/100 [00:00<?, ?it/s]",
      "application/vnd.jupyter.widget-view+json": {
       "version_major": 2,
       "version_minor": 0,
       "model_id": "9e5d6ca4c77e44188072e24f37507ead"
      }
     },
     "metadata": {},
     "output_type": "display_data"
    },
    {
     "data": {
      "text/plain": "Posts - WhitePeopleTwitter - all:   0%|          | 0/100 [00:00<?, ?it/s]",
      "application/vnd.jupyter.widget-view+json": {
       "version_major": 2,
       "version_minor": 0,
       "model_id": "8a7bf8ca49a446f4b692251c7c3c686f"
      }
     },
     "metadata": {},
     "output_type": "display_data"
    },
    {
     "data": {
      "text/plain": "Posts - CityPorn - all:   0%|          | 0/100 [00:00<?, ?it/s]",
      "application/vnd.jupyter.widget-view+json": {
       "version_major": 2,
       "version_minor": 0,
       "model_id": "146e5e015f934e61bdd224730cb92c05"
      }
     },
     "metadata": {},
     "output_type": "display_data"
    },
    {
     "data": {
      "text/plain": "Posts - EarthPorn - all:   0%|          | 0/100 [00:00<?, ?it/s]",
      "application/vnd.jupyter.widget-view+json": {
       "version_major": 2,
       "version_minor": 0,
       "model_id": "4df843f3274549e98dec7b324b8f9c44"
      }
     },
     "metadata": {},
     "output_type": "display_data"
    },
    {
     "data": {
      "text/plain": "Posts - spaceporn - all:   0%|          | 0/100 [00:00<?, ?it/s]",
      "application/vnd.jupyter.widget-view+json": {
       "version_major": 2,
       "version_minor": 0,
       "model_id": "fda9b4803b8340c49db82932ab9b85a7"
      }
     },
     "metadata": {},
     "output_type": "display_data"
    },
    {
     "data": {
      "text/plain": "Posts - realasians - all:   0%|          | 0/100 [00:00<?, ?it/s]",
      "application/vnd.jupyter.widget-view+json": {
       "version_major": 2,
       "version_minor": 0,
       "model_id": "f9c2c3edd5344624b09b1d2d342f2232"
      }
     },
     "metadata": {},
     "output_type": "display_data"
    },
    {
     "data": {
      "text/plain": "Posts - KoreanHotties - all:   0%|          | 0/100 [00:00<?, ?it/s]",
      "application/vnd.jupyter.widget-view+json": {
       "version_major": 2,
       "version_minor": 0,
       "model_id": "22c67f9d316b477d839b1a3f8c6d737e"
      }
     },
     "metadata": {},
     "output_type": "display_data"
    },
    {
     "data": {
      "text/plain": "Posts - prettyasiangirls - all:   0%|          | 0/100 [00:00<?, ?it/s]",
      "application/vnd.jupyter.widget-view+json": {
       "version_major": 2,
       "version_minor": 0,
       "model_id": "396e8eaab4a4492ab09fa00e05b33e63"
      }
     },
     "metadata": {},
     "output_type": "display_data"
    },
    {
     "data": {
      "text/plain": "Posts - AsianOfficeLady - all:   0%|          | 0/100 [00:00<?, ?it/s]",
      "application/vnd.jupyter.widget-view+json": {
       "version_major": 2,
       "version_minor": 0,
       "model_id": "5ca44322088143d2bf6cd7faf5185ef5"
      }
     },
     "metadata": {},
     "output_type": "display_data"
    },
    {
     "data": {
      "text/plain": "Posts - mildlypenis - all:   0%|          | 0/100 [00:00<?, ?it/s]",
      "application/vnd.jupyter.widget-view+json": {
       "version_major": 2,
       "version_minor": 0,
       "model_id": "a5e51813416748ea8d65aca83168cbf5"
      }
     },
     "metadata": {},
     "output_type": "display_data"
    },
    {
     "data": {
      "text/plain": "Posts - cougars_and_milfs_sfw - all:   0%|          | 0/100 [00:00<?, ?it/s]",
      "application/vnd.jupyter.widget-view+json": {
       "version_major": 2,
       "version_minor": 0,
       "model_id": "876db728bd1540caa649a98e01df94d6"
      }
     },
     "metadata": {},
     "output_type": "display_data"
    },
    {
     "data": {
      "text/plain": "Posts - AsianInvasion - all:   0%|          | 0/100 [00:00<?, ?it/s]",
      "application/vnd.jupyter.widget-view+json": {
       "version_major": 2,
       "version_minor": 0,
       "model_id": "36ed911938e8418684e253e1a3fdfc97"
      }
     },
     "metadata": {},
     "output_type": "display_data"
    },
    {
     "data": {
      "text/plain": "Posts - sexygirls - all:   0%|          | 0/100 [00:00<?, ?it/s]",
      "application/vnd.jupyter.widget-view+json": {
       "version_major": 2,
       "version_minor": 0,
       "model_id": "6e6b7bbd01424a57b5aa9c70e85a2d04"
      }
     },
     "metadata": {},
     "output_type": "display_data"
    },
    {
     "data": {
      "text/plain": "Posts - PrettyGirls - all:   0%|          | 0/100 [00:00<?, ?it/s]",
      "application/vnd.jupyter.widget-view+json": {
       "version_major": 2,
       "version_minor": 0,
       "model_id": "aa5e171749be460394c2ca4912e7778e"
      }
     },
     "metadata": {},
     "output_type": "display_data"
    },
    {
     "data": {
      "text/plain": "Posts - gentlemanboners - all:   0%|          | 0/100 [00:00<?, ?it/s]",
      "application/vnd.jupyter.widget-view+json": {
       "version_major": 2,
       "version_minor": 0,
       "model_id": "f2069e9027c14191ab13af4229171db4"
      }
     },
     "metadata": {},
     "output_type": "display_data"
    },
    {
     "data": {
      "text/plain": "Posts - hotofficegirls - all:   0%|          | 0/100 [00:00<?, ?it/s]",
      "application/vnd.jupyter.widget-view+json": {
       "version_major": 2,
       "version_minor": 0,
       "model_id": "b50d0b298319473baacfaca032bd1a55"
      }
     },
     "metadata": {},
     "output_type": "display_data"
    },
    {
     "data": {
      "text/plain": "Posts - tightdresses - all:   0%|          | 0/100 [00:00<?, ?it/s]",
      "application/vnd.jupyter.widget-view+json": {
       "version_major": 2,
       "version_minor": 0,
       "model_id": "c0e3c8aa813341fdabf7c01c65189980"
      }
     },
     "metadata": {},
     "output_type": "display_data"
    },
    {
     "data": {
      "text/plain": "Posts - DLAH - all:   0%|          | 0/100 [00:00<?, ?it/s]",
      "application/vnd.jupyter.widget-view+json": {
       "version_major": 2,
       "version_minor": 0,
       "model_id": "c28bea3e6acb4a5f9c31afde3e90679b"
      }
     },
     "metadata": {},
     "output_type": "display_data"
    },
    {
     "data": {
      "text/plain": "year:   0%|          | 0/24 [00:00<?, ?it/s]",
      "application/vnd.jupyter.widget-view+json": {
       "version_major": 2,
       "version_minor": 0,
       "model_id": "fd3ec53d45f04fe0abba45afa1db406d"
      }
     },
     "metadata": {},
     "output_type": "display_data"
    },
    {
     "data": {
      "text/plain": "Posts - SFWRedheads - year:   0%|          | 0/100 [00:00<?, ?it/s]",
      "application/vnd.jupyter.widget-view+json": {
       "version_major": 2,
       "version_minor": 0,
       "model_id": "57e945a509e3426b9d58e6590002ddeb"
      }
     },
     "metadata": {},
     "output_type": "display_data"
    },
    {
     "data": {
      "text/plain": "Posts - sfwpetite - year:   0%|          | 0/100 [00:00<?, ?it/s]",
      "application/vnd.jupyter.widget-view+json": {
       "version_major": 2,
       "version_minor": 0,
       "model_id": "abdfa7d0f1c94b70842caf501da902f0"
      }
     },
     "metadata": {},
     "output_type": "display_data"
    },
    {
     "data": {
      "text/plain": "Posts - SFWNextDoorGirls - year:   0%|          | 0/100 [00:00<?, ?it/s]",
      "application/vnd.jupyter.widget-view+json": {
       "version_major": 2,
       "version_minor": 0,
       "model_id": "e2d8c6a4060f4b75b32c6cd4572c69e2"
      }
     },
     "metadata": {},
     "output_type": "display_data"
    },
    {
     "data": {
      "text/plain": "Posts - trippinthroughtime - year:   0%|          | 0/100 [00:00<?, ?it/s]",
      "application/vnd.jupyter.widget-view+json": {
       "version_major": 2,
       "version_minor": 0,
       "model_id": "008592ebe7104feea23a3cf6e318d6d1"
      }
     },
     "metadata": {},
     "output_type": "display_data"
    },
    {
     "data": {
      "text/plain": "Posts - fatsquirrelhate - year:   0%|          | 0/100 [00:00<?, ?it/s]",
      "application/vnd.jupyter.widget-view+json": {
       "version_major": 2,
       "version_minor": 0,
       "model_id": "edb9d499b6b048729cb048e6f3e7dac0"
      }
     },
     "metadata": {},
     "output_type": "display_data"
    },
    {
     "data": {
      "text/plain": "Posts - itookapicture - year:   0%|          | 0/100 [00:00<?, ?it/s]",
      "application/vnd.jupyter.widget-view+json": {
       "version_major": 2,
       "version_minor": 0,
       "model_id": "6080bc14a2d54fffa9983ab28804df50"
      }
     },
     "metadata": {},
     "output_type": "display_data"
    },
    {
     "data": {
      "text/plain": "Posts - memes - year:   0%|          | 0/100 [00:00<?, ?it/s]",
      "application/vnd.jupyter.widget-view+json": {
       "version_major": 2,
       "version_minor": 0,
       "model_id": "4d5182a7e8ab4486bbb3081510a6ae51"
      }
     },
     "metadata": {},
     "output_type": "display_data"
    },
    {
     "data": {
      "text/plain": "Posts - WhitePeopleTwitter - year:   0%|          | 0/100 [00:00<?, ?it/s]",
      "application/vnd.jupyter.widget-view+json": {
       "version_major": 2,
       "version_minor": 0,
       "model_id": "a84fe46cad1d455f93084c5cbf456c13"
      }
     },
     "metadata": {},
     "output_type": "display_data"
    },
    {
     "data": {
      "text/plain": "Posts - CityPorn - year:   0%|          | 0/100 [00:00<?, ?it/s]",
      "application/vnd.jupyter.widget-view+json": {
       "version_major": 2,
       "version_minor": 0,
       "model_id": "5121d4b74c52454da2a08d5e6d4a3afd"
      }
     },
     "metadata": {},
     "output_type": "display_data"
    },
    {
     "data": {
      "text/plain": "Posts - EarthPorn - year:   0%|          | 0/100 [00:00<?, ?it/s]",
      "application/vnd.jupyter.widget-view+json": {
       "version_major": 2,
       "version_minor": 0,
       "model_id": "ab31dce624c649318704b8e8818db26a"
      }
     },
     "metadata": {},
     "output_type": "display_data"
    },
    {
     "data": {
      "text/plain": "Posts - spaceporn - year:   0%|          | 0/100 [00:00<?, ?it/s]",
      "application/vnd.jupyter.widget-view+json": {
       "version_major": 2,
       "version_minor": 0,
       "model_id": "fd7c588792be422aa046fe01f420f6c6"
      }
     },
     "metadata": {},
     "output_type": "display_data"
    },
    {
     "data": {
      "text/plain": "Posts - realasians - year:   0%|          | 0/100 [00:00<?, ?it/s]",
      "application/vnd.jupyter.widget-view+json": {
       "version_major": 2,
       "version_minor": 0,
       "model_id": "e7bfb40719504e9795cadf8d38b60377"
      }
     },
     "metadata": {},
     "output_type": "display_data"
    },
    {
     "data": {
      "text/plain": "Posts - KoreanHotties - year:   0%|          | 0/100 [00:00<?, ?it/s]",
      "application/vnd.jupyter.widget-view+json": {
       "version_major": 2,
       "version_minor": 0,
       "model_id": "91a97d39b2644a2f8c386b806e4866ef"
      }
     },
     "metadata": {},
     "output_type": "display_data"
    },
    {
     "data": {
      "text/plain": "Posts - prettyasiangirls - year:   0%|          | 0/100 [00:00<?, ?it/s]",
      "application/vnd.jupyter.widget-view+json": {
       "version_major": 2,
       "version_minor": 0,
       "model_id": "9762c978f30440fe90e711515859c32e"
      }
     },
     "metadata": {},
     "output_type": "display_data"
    },
    {
     "data": {
      "text/plain": "Posts - AsianOfficeLady - year:   0%|          | 0/100 [00:00<?, ?it/s]",
      "application/vnd.jupyter.widget-view+json": {
       "version_major": 2,
       "version_minor": 0,
       "model_id": "066bdaabb6334f4998053d6e6257518d"
      }
     },
     "metadata": {},
     "output_type": "display_data"
    },
    {
     "data": {
      "text/plain": "Posts - mildlypenis - year:   0%|          | 0/100 [00:00<?, ?it/s]",
      "application/vnd.jupyter.widget-view+json": {
       "version_major": 2,
       "version_minor": 0,
       "model_id": "cccfeb20faa54ad48854ea45a9f576af"
      }
     },
     "metadata": {},
     "output_type": "display_data"
    },
    {
     "data": {
      "text/plain": "Posts - cougars_and_milfs_sfw - year:   0%|          | 0/100 [00:00<?, ?it/s]",
      "application/vnd.jupyter.widget-view+json": {
       "version_major": 2,
       "version_minor": 0,
       "model_id": "855588d77c214c26b5573977c077d0d5"
      }
     },
     "metadata": {},
     "output_type": "display_data"
    },
    {
     "data": {
      "text/plain": "Posts - AsianInvasion - year:   0%|          | 0/100 [00:00<?, ?it/s]",
      "application/vnd.jupyter.widget-view+json": {
       "version_major": 2,
       "version_minor": 0,
       "model_id": "3f7a78dd07314b9ba9e4115e9ba4394c"
      }
     },
     "metadata": {},
     "output_type": "display_data"
    },
    {
     "data": {
      "text/plain": "Posts - sexygirls - year:   0%|          | 0/100 [00:00<?, ?it/s]",
      "application/vnd.jupyter.widget-view+json": {
       "version_major": 2,
       "version_minor": 0,
       "model_id": "bca5f572b48c45c6997b68a12d1fb8bf"
      }
     },
     "metadata": {},
     "output_type": "display_data"
    },
    {
     "data": {
      "text/plain": "Posts - PrettyGirls - year:   0%|          | 0/100 [00:00<?, ?it/s]",
      "application/vnd.jupyter.widget-view+json": {
       "version_major": 2,
       "version_minor": 0,
       "model_id": "1c8aacc54d6b4eeda297727bc86fe9de"
      }
     },
     "metadata": {},
     "output_type": "display_data"
    },
    {
     "data": {
      "text/plain": "Posts - gentlemanboners - year:   0%|          | 0/100 [00:00<?, ?it/s]",
      "application/vnd.jupyter.widget-view+json": {
       "version_major": 2,
       "version_minor": 0,
       "model_id": "3b4745b7c1ed4feababeb403c1f1295f"
      }
     },
     "metadata": {},
     "output_type": "display_data"
    },
    {
     "data": {
      "text/plain": "Posts - hotofficegirls - year:   0%|          | 0/100 [00:00<?, ?it/s]",
      "application/vnd.jupyter.widget-view+json": {
       "version_major": 2,
       "version_minor": 0,
       "model_id": "35eacda54f2f49079f6c4fc7b8bdd366"
      }
     },
     "metadata": {},
     "output_type": "display_data"
    },
    {
     "data": {
      "text/plain": "Posts - tightdresses - year:   0%|          | 0/100 [00:00<?, ?it/s]",
      "application/vnd.jupyter.widget-view+json": {
       "version_major": 2,
       "version_minor": 0,
       "model_id": "164cdebdcf324dbfb3429f3f43cf5d8f"
      }
     },
     "metadata": {},
     "output_type": "display_data"
    },
    {
     "data": {
      "text/plain": "Posts - DLAH - year:   0%|          | 0/100 [00:00<?, ?it/s]",
      "application/vnd.jupyter.widget-view+json": {
       "version_major": 2,
       "version_minor": 0,
       "model_id": "c9655145b799498291e006a6a4f14c79"
      }
     },
     "metadata": {},
     "output_type": "display_data"
    },
    {
     "data": {
      "text/plain": "month:   0%|          | 0/24 [00:00<?, ?it/s]",
      "application/vnd.jupyter.widget-view+json": {
       "version_major": 2,
       "version_minor": 0,
       "model_id": "32fbbf39eff5493d9afb1f5899d22370"
      }
     },
     "metadata": {},
     "output_type": "display_data"
    },
    {
     "data": {
      "text/plain": "Posts - SFWRedheads - month:   0%|          | 0/100 [00:00<?, ?it/s]",
      "application/vnd.jupyter.widget-view+json": {
       "version_major": 2,
       "version_minor": 0,
       "model_id": "604b3e8ae95848d095abe387fc7da085"
      }
     },
     "metadata": {},
     "output_type": "display_data"
    },
    {
     "data": {
      "text/plain": "Posts - sfwpetite - month:   0%|          | 0/100 [00:00<?, ?it/s]",
      "application/vnd.jupyter.widget-view+json": {
       "version_major": 2,
       "version_minor": 0,
       "model_id": "f045e83aeb124e7197ff54af0b53faf4"
      }
     },
     "metadata": {},
     "output_type": "display_data"
    },
    {
     "data": {
      "text/plain": "Posts - SFWNextDoorGirls - month:   0%|          | 0/100 [00:00<?, ?it/s]",
      "application/vnd.jupyter.widget-view+json": {
       "version_major": 2,
       "version_minor": 0,
       "model_id": "44639a7ff3bb48ee8178cb137d0d4949"
      }
     },
     "metadata": {},
     "output_type": "display_data"
    },
    {
     "data": {
      "text/plain": "Posts - trippinthroughtime - month:   0%|          | 0/89 [00:00<?, ?it/s]",
      "application/vnd.jupyter.widget-view+json": {
       "version_major": 2,
       "version_minor": 0,
       "model_id": "f75b1fb4302a49baa7f28ce68a3d26f3"
      }
     },
     "metadata": {},
     "output_type": "display_data"
    },
    {
     "data": {
      "text/plain": "Posts - fatsquirrelhate - month:   0%|          | 0/100 [00:00<?, ?it/s]",
      "application/vnd.jupyter.widget-view+json": {
       "version_major": 2,
       "version_minor": 0,
       "model_id": "aa1267c122ea4150a010101aadf4743e"
      }
     },
     "metadata": {},
     "output_type": "display_data"
    },
    {
     "data": {
      "text/plain": "Posts - itookapicture - month:   0%|          | 0/100 [00:00<?, ?it/s]",
      "application/vnd.jupyter.widget-view+json": {
       "version_major": 2,
       "version_minor": 0,
       "model_id": "d25b198a71ff4e4d82b63b4d77dfd6e9"
      }
     },
     "metadata": {},
     "output_type": "display_data"
    },
    {
     "data": {
      "text/plain": "Posts - memes - month:   0%|          | 0/100 [00:00<?, ?it/s]",
      "application/vnd.jupyter.widget-view+json": {
       "version_major": 2,
       "version_minor": 0,
       "model_id": "ab7ec150702e41d091c2d474301944f9"
      }
     },
     "metadata": {},
     "output_type": "display_data"
    },
    {
     "data": {
      "text/plain": "Posts - WhitePeopleTwitter - month:   0%|          | 0/100 [00:00<?, ?it/s]",
      "application/vnd.jupyter.widget-view+json": {
       "version_major": 2,
       "version_minor": 0,
       "model_id": "f68f050a78054778ba49482aa4a5cc71"
      }
     },
     "metadata": {},
     "output_type": "display_data"
    },
    {
     "data": {
      "text/plain": "Posts - CityPorn - month:   0%|          | 0/100 [00:00<?, ?it/s]",
      "application/vnd.jupyter.widget-view+json": {
       "version_major": 2,
       "version_minor": 0,
       "model_id": "c413d1f4b5674b68adea70813555b1f8"
      }
     },
     "metadata": {},
     "output_type": "display_data"
    },
    {
     "data": {
      "text/plain": "Posts - EarthPorn - month:   0%|          | 0/100 [00:00<?, ?it/s]",
      "application/vnd.jupyter.widget-view+json": {
       "version_major": 2,
       "version_minor": 0,
       "model_id": "ac497038fed044449d06b8ab6ec88bd0"
      }
     },
     "metadata": {},
     "output_type": "display_data"
    },
    {
     "data": {
      "text/plain": "Posts - spaceporn - month:   0%|          | 0/100 [00:00<?, ?it/s]",
      "application/vnd.jupyter.widget-view+json": {
       "version_major": 2,
       "version_minor": 0,
       "model_id": "e8e475c0071a42ecb8f3b046e7b87d45"
      }
     },
     "metadata": {},
     "output_type": "display_data"
    },
    {
     "data": {
      "text/plain": "Posts - realasians - month:   0%|          | 0/100 [00:00<?, ?it/s]",
      "application/vnd.jupyter.widget-view+json": {
       "version_major": 2,
       "version_minor": 0,
       "model_id": "45264a51cd55437ea27fd395694172b0"
      }
     },
     "metadata": {},
     "output_type": "display_data"
    },
    {
     "data": {
      "text/plain": "Posts - KoreanHotties - month:   0%|          | 0/100 [00:00<?, ?it/s]",
      "application/vnd.jupyter.widget-view+json": {
       "version_major": 2,
       "version_minor": 0,
       "model_id": "6e7cd752918945b4810a79bf36ff8ade"
      }
     },
     "metadata": {},
     "output_type": "display_data"
    },
    {
     "data": {
      "text/plain": "Posts - prettyasiangirls - month:   0%|          | 0/100 [00:00<?, ?it/s]",
      "application/vnd.jupyter.widget-view+json": {
       "version_major": 2,
       "version_minor": 0,
       "model_id": "68b709b862274ec5854ddfb6a90dbf0d"
      }
     },
     "metadata": {},
     "output_type": "display_data"
    },
    {
     "data": {
      "text/plain": "Posts - AsianOfficeLady - month:   0%|          | 0/59 [00:00<?, ?it/s]",
      "application/vnd.jupyter.widget-view+json": {
       "version_major": 2,
       "version_minor": 0,
       "model_id": "56a8a8f1e509451fa89d05cb2cab4c06"
      }
     },
     "metadata": {},
     "output_type": "display_data"
    },
    {
     "data": {
      "text/plain": "Posts - mildlypenis - month:   0%|          | 0/100 [00:00<?, ?it/s]",
      "application/vnd.jupyter.widget-view+json": {
       "version_major": 2,
       "version_minor": 0,
       "model_id": "1aca23b0637b41198d414d354c1eda95"
      }
     },
     "metadata": {},
     "output_type": "display_data"
    },
    {
     "data": {
      "text/plain": "Posts - cougars_and_milfs_sfw - month:   0%|          | 0/100 [00:00<?, ?it/s]",
      "application/vnd.jupyter.widget-view+json": {
       "version_major": 2,
       "version_minor": 0,
       "model_id": "5e967ad84a414f7db2660212f2f31fe7"
      }
     },
     "metadata": {},
     "output_type": "display_data"
    },
    {
     "data": {
      "text/plain": "Posts - AsianInvasion - month:   0%|          | 0/81 [00:00<?, ?it/s]",
      "application/vnd.jupyter.widget-view+json": {
       "version_major": 2,
       "version_minor": 0,
       "model_id": "ca212f80df3d4c3e93aa2a8a924df027"
      }
     },
     "metadata": {},
     "output_type": "display_data"
    },
    {
     "data": {
      "text/plain": "Posts - sexygirls - month:   0%|          | 0/100 [00:00<?, ?it/s]",
      "application/vnd.jupyter.widget-view+json": {
       "version_major": 2,
       "version_minor": 0,
       "model_id": "e6d217ad730d4dae920e1441014da0ba"
      }
     },
     "metadata": {},
     "output_type": "display_data"
    },
    {
     "data": {
      "text/plain": "Posts - PrettyGirls - month:   0%|          | 0/100 [00:00<?, ?it/s]",
      "application/vnd.jupyter.widget-view+json": {
       "version_major": 2,
       "version_minor": 0,
       "model_id": "c51792b937664f87a573755362d78b10"
      }
     },
     "metadata": {},
     "output_type": "display_data"
    },
    {
     "data": {
      "text/plain": "Posts - gentlemanboners - month:   0%|          | 0/100 [00:00<?, ?it/s]",
      "application/vnd.jupyter.widget-view+json": {
       "version_major": 2,
       "version_minor": 0,
       "model_id": "7f1fd0bb45ea496b907ba5bb0e3dd8f8"
      }
     },
     "metadata": {},
     "output_type": "display_data"
    },
    {
     "data": {
      "text/plain": "Posts - hotofficegirls - month:   0%|          | 0/61 [00:00<?, ?it/s]",
      "application/vnd.jupyter.widget-view+json": {
       "version_major": 2,
       "version_minor": 0,
       "model_id": "0454e8a2483043d6ab6d1f5c54779bde"
      }
     },
     "metadata": {},
     "output_type": "display_data"
    },
    {
     "data": {
      "text/plain": "Posts - tightdresses - month:   0%|          | 0/100 [00:00<?, ?it/s]",
      "application/vnd.jupyter.widget-view+json": {
       "version_major": 2,
       "version_minor": 0,
       "model_id": "b9189bad61104dbca47e49092cd8e3e7"
      }
     },
     "metadata": {},
     "output_type": "display_data"
    },
    {
     "data": {
      "text/plain": "Posts - DLAH - month:   0%|          | 0/100 [00:00<?, ?it/s]",
      "application/vnd.jupyter.widget-view+json": {
       "version_major": 2,
       "version_minor": 0,
       "model_id": "4dfed2bb07c140f39e199e077b2df3db"
      }
     },
     "metadata": {},
     "output_type": "display_data"
    },
    {
     "data": {
      "text/plain": "week:   0%|          | 0/24 [00:00<?, ?it/s]",
      "application/vnd.jupyter.widget-view+json": {
       "version_major": 2,
       "version_minor": 0,
       "model_id": "08ad533b5b6c4ad4bb88c0a06b392f8e"
      }
     },
     "metadata": {},
     "output_type": "display_data"
    },
    {
     "data": {
      "text/plain": "Posts - SFWRedheads - week:   0%|          | 0/100 [00:00<?, ?it/s]",
      "application/vnd.jupyter.widget-view+json": {
       "version_major": 2,
       "version_minor": 0,
       "model_id": "73ed6444f57543919110739f34bcfafc"
      }
     },
     "metadata": {},
     "output_type": "display_data"
    },
    {
     "data": {
      "text/plain": "Posts - sfwpetite - week:   0%|          | 0/40 [00:00<?, ?it/s]",
      "application/vnd.jupyter.widget-view+json": {
       "version_major": 2,
       "version_minor": 0,
       "model_id": "5edf7b0a7b40404a8cbfcc7e6393a109"
      }
     },
     "metadata": {},
     "output_type": "display_data"
    },
    {
     "data": {
      "text/plain": "Posts - SFWNextDoorGirls - week:   0%|          | 0/100 [00:00<?, ?it/s]",
      "application/vnd.jupyter.widget-view+json": {
       "version_major": 2,
       "version_minor": 0,
       "model_id": "a46b43b251c94a16a5d4603d963a61f8"
      }
     },
     "metadata": {},
     "output_type": "display_data"
    },
    {
     "data": {
      "text/plain": "Posts - trippinthroughtime - week:   0%|          | 0/18 [00:00<?, ?it/s]",
      "application/vnd.jupyter.widget-view+json": {
       "version_major": 2,
       "version_minor": 0,
       "model_id": "1e5e58790ca640798e5f767cc2ad1e26"
      }
     },
     "metadata": {},
     "output_type": "display_data"
    },
    {
     "data": {
      "text/plain": "Posts - fatsquirrelhate - week:   0%|          | 0/98 [00:00<?, ?it/s]",
      "application/vnd.jupyter.widget-view+json": {
       "version_major": 2,
       "version_minor": 0,
       "model_id": "202ce9b9a95b41739e9f52de2d8ab6e4"
      }
     },
     "metadata": {},
     "output_type": "display_data"
    },
    {
     "data": {
      "text/plain": "Posts - itookapicture - week:   0%|          | 0/100 [00:00<?, ?it/s]",
      "application/vnd.jupyter.widget-view+json": {
       "version_major": 2,
       "version_minor": 0,
       "model_id": "1bb2176cb97a41c19f029c3a488057b6"
      }
     },
     "metadata": {},
     "output_type": "display_data"
    },
    {
     "data": {
      "text/plain": "Posts - memes - week:   0%|          | 0/100 [00:00<?, ?it/s]",
      "application/vnd.jupyter.widget-view+json": {
       "version_major": 2,
       "version_minor": 0,
       "model_id": "7853d7cd6640486999b2fade354d1c51"
      }
     },
     "metadata": {},
     "output_type": "display_data"
    },
    {
     "data": {
      "text/plain": "Posts - WhitePeopleTwitter - week:   0%|          | 0/100 [00:00<?, ?it/s]",
      "application/vnd.jupyter.widget-view+json": {
       "version_major": 2,
       "version_minor": 0,
       "model_id": "9096ea0f923941f6bebfea904c1a9d1e"
      }
     },
     "metadata": {},
     "output_type": "display_data"
    },
    {
     "data": {
      "text/plain": "Posts - CityPorn - week:   0%|          | 0/100 [00:00<?, ?it/s]",
      "application/vnd.jupyter.widget-view+json": {
       "version_major": 2,
       "version_minor": 0,
       "model_id": "2a3b0d3582f144cc9bde0bfdbbb6b83f"
      }
     },
     "metadata": {},
     "output_type": "display_data"
    },
    {
     "data": {
      "text/plain": "Posts - EarthPorn - week:   0%|          | 0/100 [00:00<?, ?it/s]",
      "application/vnd.jupyter.widget-view+json": {
       "version_major": 2,
       "version_minor": 0,
       "model_id": "a65445949ead44319d986ba890b222b9"
      }
     },
     "metadata": {},
     "output_type": "display_data"
    },
    {
     "data": {
      "text/plain": "Posts - spaceporn - week:   0%|          | 0/97 [00:00<?, ?it/s]",
      "application/vnd.jupyter.widget-view+json": {
       "version_major": 2,
       "version_minor": 0,
       "model_id": "82f5c662ae504c9581e91cb3c16ca346"
      }
     },
     "metadata": {},
     "output_type": "display_data"
    },
    {
     "data": {
      "text/plain": "Posts - realasians - week:   0%|          | 0/100 [00:00<?, ?it/s]",
      "application/vnd.jupyter.widget-view+json": {
       "version_major": 2,
       "version_minor": 0,
       "model_id": "96d37144dfd1400880d74d78e2ea4889"
      }
     },
     "metadata": {},
     "output_type": "display_data"
    },
    {
     "data": {
      "text/plain": "Posts - KoreanHotties - week:   0%|          | 0/100 [00:00<?, ?it/s]",
      "application/vnd.jupyter.widget-view+json": {
       "version_major": 2,
       "version_minor": 0,
       "model_id": "c5bf1acf11ca418a8bb6388051bef0b8"
      }
     },
     "metadata": {},
     "output_type": "display_data"
    },
    {
     "data": {
      "text/plain": "Posts - prettyasiangirls - week:   0%|          | 0/100 [00:00<?, ?it/s]",
      "application/vnd.jupyter.widget-view+json": {
       "version_major": 2,
       "version_minor": 0,
       "model_id": "93d811a7bc8e40b4ad07afb2aa98daaf"
      }
     },
     "metadata": {},
     "output_type": "display_data"
    },
    {
     "data": {
      "text/plain": "Posts - AsianOfficeLady - week:   0%|          | 0/14 [00:00<?, ?it/s]",
      "application/vnd.jupyter.widget-view+json": {
       "version_major": 2,
       "version_minor": 0,
       "model_id": "477518e23e944c62a5c8a0294c653010"
      }
     },
     "metadata": {},
     "output_type": "display_data"
    },
    {
     "data": {
      "text/plain": "Posts - mildlypenis - week:   0%|          | 0/100 [00:00<?, ?it/s]",
      "application/vnd.jupyter.widget-view+json": {
       "version_major": 2,
       "version_minor": 0,
       "model_id": "8ca9a093e34044dda519020ad0d8cb4a"
      }
     },
     "metadata": {},
     "output_type": "display_data"
    },
    {
     "data": {
      "text/plain": "Posts - cougars_and_milfs_sfw - week:   0%|          | 0/100 [00:00<?, ?it/s]",
      "application/vnd.jupyter.widget-view+json": {
       "version_major": 2,
       "version_minor": 0,
       "model_id": "7e4a418cf9404816b65c265189cb2eb4"
      }
     },
     "metadata": {},
     "output_type": "display_data"
    },
    {
     "data": {
      "text/plain": "Posts - AsianInvasion - week:   0%|          | 0/15 [00:00<?, ?it/s]",
      "application/vnd.jupyter.widget-view+json": {
       "version_major": 2,
       "version_minor": 0,
       "model_id": "2be28de67ce44eeb9ef9cb21f975f08c"
      }
     },
     "metadata": {},
     "output_type": "display_data"
    },
    {
     "data": {
      "text/plain": "Posts - sexygirls - week:   0%|          | 0/100 [00:00<?, ?it/s]",
      "application/vnd.jupyter.widget-view+json": {
       "version_major": 2,
       "version_minor": 0,
       "model_id": "b478503d7cfa464eb84bcc10506e4e96"
      }
     },
     "metadata": {},
     "output_type": "display_data"
    },
    {
     "data": {
      "text/plain": "Posts - PrettyGirls - week:   0%|          | 0/100 [00:00<?, ?it/s]",
      "application/vnd.jupyter.widget-view+json": {
       "version_major": 2,
       "version_minor": 0,
       "model_id": "b852016b1c1e4694a36e8b8f18705b7e"
      }
     },
     "metadata": {},
     "output_type": "display_data"
    },
    {
     "data": {
      "text/plain": "Posts - gentlemanboners - week:   0%|          | 0/100 [00:00<?, ?it/s]",
      "application/vnd.jupyter.widget-view+json": {
       "version_major": 2,
       "version_minor": 0,
       "model_id": "31ced528bb5d4f4a82240c0a54aeb7fd"
      }
     },
     "metadata": {},
     "output_type": "display_data"
    },
    {
     "data": {
      "text/plain": "Posts - hotofficegirls - week:   0%|          | 0/10 [00:00<?, ?it/s]",
      "application/vnd.jupyter.widget-view+json": {
       "version_major": 2,
       "version_minor": 0,
       "model_id": "20c4b79ede3e40a58480b8ebf3d42030"
      }
     },
     "metadata": {},
     "output_type": "display_data"
    },
    {
     "data": {
      "text/plain": "Posts - tightdresses - week:   0%|          | 0/100 [00:00<?, ?it/s]",
      "application/vnd.jupyter.widget-view+json": {
       "version_major": 2,
       "version_minor": 0,
       "model_id": "5d21fa0809284432a6ff1a2dbaac8c78"
      }
     },
     "metadata": {},
     "output_type": "display_data"
    },
    {
     "data": {
      "text/plain": "Posts - DLAH - week:   0%|          | 0/100 [00:00<?, ?it/s]",
      "application/vnd.jupyter.widget-view+json": {
       "version_major": 2,
       "version_minor": 0,
       "model_id": "ba99072a24984aaaa6b924c00c926d1c"
      }
     },
     "metadata": {},
     "output_type": "display_data"
    },
    {
     "data": {
      "text/plain": "day:   0%|          | 0/24 [00:00<?, ?it/s]",
      "application/vnd.jupyter.widget-view+json": {
       "version_major": 2,
       "version_minor": 0,
       "model_id": "2a1949f8c4454c6eaa81f5fde78350a2"
      }
     },
     "metadata": {},
     "output_type": "display_data"
    },
    {
     "data": {
      "text/plain": "Posts - SFWRedheads - day:   0%|          | 0/44 [00:00<?, ?it/s]",
      "application/vnd.jupyter.widget-view+json": {
       "version_major": 2,
       "version_minor": 0,
       "model_id": "07f8efe767c544e58eb9f6e554d6b24f"
      }
     },
     "metadata": {},
     "output_type": "display_data"
    },
    {
     "data": {
      "text/plain": "Posts - sfwpetite - day:   0%|          | 0/5 [00:00<?, ?it/s]",
      "application/vnd.jupyter.widget-view+json": {
       "version_major": 2,
       "version_minor": 0,
       "model_id": "f03db77ea9954f4e84083b8ea4fc64a4"
      }
     },
     "metadata": {},
     "output_type": "display_data"
    },
    {
     "data": {
      "text/plain": "Posts - SFWNextDoorGirls - day:   0%|          | 0/92 [00:00<?, ?it/s]",
      "application/vnd.jupyter.widget-view+json": {
       "version_major": 2,
       "version_minor": 0,
       "model_id": "ae1d193c639d4aef9e4a34dbf53ac58c"
      }
     },
     "metadata": {},
     "output_type": "display_data"
    },
    {
     "data": {
      "text/plain": "Posts - trippinthroughtime - day:   0%|          | 0/3 [00:00<?, ?it/s]",
      "application/vnd.jupyter.widget-view+json": {
       "version_major": 2,
       "version_minor": 0,
       "model_id": "d47eeebbf6f345c59f70570ace41b038"
      }
     },
     "metadata": {},
     "output_type": "display_data"
    },
    {
     "data": {
      "text/plain": "Posts - fatsquirrelhate - day:   0%|          | 0/17 [00:00<?, ?it/s]",
      "application/vnd.jupyter.widget-view+json": {
       "version_major": 2,
       "version_minor": 0,
       "model_id": "dff16777f4254a25bfa3e6d98a071f57"
      }
     },
     "metadata": {},
     "output_type": "display_data"
    },
    {
     "data": {
      "text/plain": "Posts - itookapicture - day:   0%|          | 0/100 [00:00<?, ?it/s]",
      "application/vnd.jupyter.widget-view+json": {
       "version_major": 2,
       "version_minor": 0,
       "model_id": "97dd11290d654aed84facc8cf6bfacbc"
      }
     },
     "metadata": {},
     "output_type": "display_data"
    },
    {
     "data": {
      "text/plain": "Posts - memes - day:   0%|          | 0/100 [00:00<?, ?it/s]",
      "application/vnd.jupyter.widget-view+json": {
       "version_major": 2,
       "version_minor": 0,
       "model_id": "6fa6f9d9c2fd4a01a6689cefd3c73f78"
      }
     },
     "metadata": {},
     "output_type": "display_data"
    },
    {
     "data": {
      "text/plain": "Posts - WhitePeopleTwitter - day:   0%|          | 0/100 [00:00<?, ?it/s]",
      "application/vnd.jupyter.widget-view+json": {
       "version_major": 2,
       "version_minor": 0,
       "model_id": "1c5eda702ed6451e9d9d5c503bfd18c3"
      }
     },
     "metadata": {},
     "output_type": "display_data"
    },
    {
     "data": {
      "text/plain": "Posts - CityPorn - day:   0%|          | 0/40 [00:00<?, ?it/s]",
      "application/vnd.jupyter.widget-view+json": {
       "version_major": 2,
       "version_minor": 0,
       "model_id": "f2dc1b69f2574058a75aa85504a32d61"
      }
     },
     "metadata": {},
     "output_type": "display_data"
    },
    {
     "data": {
      "text/plain": "Posts - EarthPorn - day:   0%|          | 0/30 [00:00<?, ?it/s]",
      "application/vnd.jupyter.widget-view+json": {
       "version_major": 2,
       "version_minor": 0,
       "model_id": "2f1b210509454667b533e79144087e5c"
      }
     },
     "metadata": {},
     "output_type": "display_data"
    },
    {
     "data": {
      "text/plain": "Posts - spaceporn - day:   0%|          | 0/13 [00:00<?, ?it/s]",
      "application/vnd.jupyter.widget-view+json": {
       "version_major": 2,
       "version_minor": 0,
       "model_id": "512514360edc43c897be579a2a45a7a6"
      }
     },
     "metadata": {},
     "output_type": "display_data"
    },
    {
     "data": {
      "text/plain": "Posts - realasians - day:   0%|          | 0/39 [00:00<?, ?it/s]",
      "application/vnd.jupyter.widget-view+json": {
       "version_major": 2,
       "version_minor": 0,
       "model_id": "b213dc05841643b1b550e291310f36c3"
      }
     },
     "metadata": {},
     "output_type": "display_data"
    },
    {
     "data": {
      "text/plain": "Posts - KoreanHotties - day:   0%|          | 0/14 [00:00<?, ?it/s]",
      "application/vnd.jupyter.widget-view+json": {
       "version_major": 2,
       "version_minor": 0,
       "model_id": "779789086c044cf8823cb73113774743"
      }
     },
     "metadata": {},
     "output_type": "display_data"
    },
    {
     "data": {
      "text/plain": "Posts - prettyasiangirls - day:   0%|          | 0/25 [00:00<?, ?it/s]",
      "application/vnd.jupyter.widget-view+json": {
       "version_major": 2,
       "version_minor": 0,
       "model_id": "a0d1dbd1681c4652829fea2b8e9bf167"
      }
     },
     "metadata": {},
     "output_type": "display_data"
    },
    {
     "data": {
      "text/plain": "Posts - AsianOfficeLady - day:   0%|          | 0/2 [00:00<?, ?it/s]",
      "application/vnd.jupyter.widget-view+json": {
       "version_major": 2,
       "version_minor": 0,
       "model_id": "8c8061c3fe094697b6b170d1ba377124"
      }
     },
     "metadata": {},
     "output_type": "display_data"
    },
    {
     "data": {
      "text/plain": "Posts - mildlypenis - day:   0%|          | 0/45 [00:00<?, ?it/s]",
      "application/vnd.jupyter.widget-view+json": {
       "version_major": 2,
       "version_minor": 0,
       "model_id": "210cb2856f124b00a0f1d667aa018138"
      }
     },
     "metadata": {},
     "output_type": "display_data"
    },
    {
     "data": {
      "text/plain": "Posts - cougars_and_milfs_sfw - day:   0%|          | 0/30 [00:00<?, ?it/s]",
      "application/vnd.jupyter.widget-view+json": {
       "version_major": 2,
       "version_minor": 0,
       "model_id": "a2ed9bea67324f4d80b269a8188edef7"
      }
     },
     "metadata": {},
     "output_type": "display_data"
    },
    {
     "data": {
      "text/plain": "Posts - AsianInvasion - day:   0%|          | 0/2 [00:00<?, ?it/s]",
      "application/vnd.jupyter.widget-view+json": {
       "version_major": 2,
       "version_minor": 0,
       "model_id": "60fe48d38d4c43dda5ca9c00196dfb99"
      }
     },
     "metadata": {},
     "output_type": "display_data"
    },
    {
     "data": {
      "text/plain": "Posts - sexygirls - day:   0%|          | 0/12 [00:00<?, ?it/s]",
      "application/vnd.jupyter.widget-view+json": {
       "version_major": 2,
       "version_minor": 0,
       "model_id": "59f3fb0b0c0e44baa13d347e70b2d4d4"
      }
     },
     "metadata": {},
     "output_type": "display_data"
    },
    {
     "data": {
      "text/plain": "Posts - PrettyGirls - day:   0%|          | 0/12 [00:00<?, ?it/s]",
      "application/vnd.jupyter.widget-view+json": {
       "version_major": 2,
       "version_minor": 0,
       "model_id": "0db1f3b887384ff59111f2248a564a65"
      }
     },
     "metadata": {},
     "output_type": "display_data"
    },
    {
     "data": {
      "text/plain": "Posts - gentlemanboners - day:   0%|          | 0/37 [00:00<?, ?it/s]",
      "application/vnd.jupyter.widget-view+json": {
       "version_major": 2,
       "version_minor": 0,
       "model_id": "381ee25743504fb5bdc317ba7c82c5b3"
      }
     },
     "metadata": {},
     "output_type": "display_data"
    },
    {
     "data": {
      "text/plain": "Posts - hotofficegirls - day:   0%|          | 0/3 [00:00<?, ?it/s]",
      "application/vnd.jupyter.widget-view+json": {
       "version_major": 2,
       "version_minor": 0,
       "model_id": "b8cf951be6b94d958bea50276e604436"
      }
     },
     "metadata": {},
     "output_type": "display_data"
    },
    {
     "data": {
      "text/plain": "Posts - tightdresses - day:   0%|          | 0/43 [00:00<?, ?it/s]",
      "application/vnd.jupyter.widget-view+json": {
       "version_major": 2,
       "version_minor": 0,
       "model_id": "aeee70c73d664c52a997f4a818c7b4a2"
      }
     },
     "metadata": {},
     "output_type": "display_data"
    },
    {
     "data": {
      "text/plain": "Posts - DLAH - day:   0%|          | 0/33 [00:00<?, ?it/s]",
      "application/vnd.jupyter.widget-view+json": {
       "version_major": 2,
       "version_minor": 0,
       "model_id": "0cc5e227df884a88b89985942cc23435"
      }
     },
     "metadata": {},
     "output_type": "display_data"
    }
   ],
   "source": [
    "# 'all', 'year', 'month',\n",
    "for time_filter in ['week', 'day']:\n",
    "\tfor sub in tqdm(subs, desc=f\"{time_filter}\", total=len(subs)):\n",
    "\t\texisting_data = pd.read_parquet(f\"{sub}\")\n",
    "\t\ttry:\n",
    "\t\t\tsubreddit_stream: ListingGenerator = reddit.subreddit(display_name=sub).top(limit=100, time_filter=time_filter)\n",
    "\t\t\tsubreddit_stream = list(subreddit_stream)\n",
    "\t\t\tfor submission in tqdm(subreddit_stream, total=len(subreddit_stream), desc=f\"Posts - {sub} - {time_filter}\"):\n",
    "\t\t\t\tif submission is None:\n",
    "\t\t\t\t\tcontinue\n",
    "\t\t\t\tif not os.path.exists(f\"{sub}\"):\n",
    "\t\t\t\t\tos.makedirs(f\"{sub}\")\n",
    "\t\t\t\telse:\n",
    "\t\t\t\t\tif submission.id in list(extant_data['id']):\n",
    "\t\t\t\t\t\tcontinue\n",
    "\t\t\t\ttry:\n",
    "\t\t\t\t\tauthor_name = 'Unknown'\n",
    "\t\t\t\t\tsubreddit_name = sub\n",
    "\t\t\t\t\ttry:\n",
    "\t\t\t\t\t\tauthor_name = submission.author.name\n",
    "\t\t\t\t\texcept Exception as e:\n",
    "\t\t\t\t\t\tauthor_name = 'Unknown'\n",
    "\t\t\t\t\t\tpass\n",
    "\t\t\t\t\tp = {\n",
    "\t\t\t\t\t\t'id': submission.id,\n",
    "\t\t\t\t\t\t'subreddit': subreddit_name,\n",
    "\t\t\t\t\t\t'author': author_name,\n",
    "\t\t\t\t\t\t'title': submission.title,\n",
    "\t\t\t\t\t\t'caption': '',\n",
    "\t\t\t\t\t\t'hash': '',\n",
    "\t\t\t\t\t\t'permalink': submission.permalink,\n",
    "\t\t\t\t\t\t'original_url': submission.url,\n",
    "\t\t\t\t\t\t'image_name': '',\n",
    "\t\t\t\t\t\t'path': '',\n",
    "\t\t\t\t\t\t'thumbnail_path': '',\n",
    "\t\t\t\t\t\t'exists': False,\n",
    "\t\t\t\t\t\t'curated': False\n",
    "\t\t\t\t\t}\n",
    "\t\t\t\t\tpd.DataFrame([p]).to_parquet(f\"{sub}/{submission.id}-{time_filter}.parquet\")\n",
    "\t\t\t\texcept Exception as e:\n",
    "\t\t\t\t\t# print(e)\n",
    "\t\t\t\t\tcontinue\n",
    "\t\texcept Exception as e:\n",
    "\t\t\tprint(e)\n",
    "\t\t\tcontinue"
   ],
   "metadata": {
    "collapsed": false,
    "ExecuteTime": {
     "end_time": "2023-04-30T18:38:40.080441800Z",
     "start_time": "2023-04-30T18:30:09.356932500Z"
    }
   }
  },
  {
   "cell_type": "code",
   "execution_count": 28,
   "outputs": [
    {
     "data": {
      "text/plain": "            id    subreddit             author  \\\n0      100zkn4  SFWRedheads  ChanceUnlikely659   \n1      100zkn4  SFWRedheads  ChanceUnlikely659   \n2      100zkn4  SFWRedheads  ChanceUnlikely659   \n3      101h21m  SFWRedheads  ChanceUnlikely659   \n4      101h21m  SFWRedheads  ChanceUnlikely659   \n...        ...          ...                ...   \n12121   zrcokh         DLAH        LetReal1805   \n12122   zufk0e         DLAH           mikano96   \n12123   zvn0a6         DLAH      ThePinkTaco65   \n12124   zxkmz0         DLAH     -SirSpankalot-   \n12125   zz01i9         DLAH     ResponsiveCock   \n\n                                      title caption hash  \\\n0                  Cute mirror pic for you🤍                \n1                  Cute mirror pic for you🤍                \n2                  Cute mirror pic for you🤍                \n3      Do you like my little black dress? 🖤                \n4      Do you like my little black dress? 🖤                \n...                                     ...     ...  ...   \n12121                           Jaw dropper                \n12122                                 Cutie                \n12123                          showing lots                \n12124                     Red wrapped candy                \n12125                        What a stunner                \n\n                                               permalink  \\\n0      /r/SFWRedheads/comments/100zkn4/cute_mirror_pi...   \n1      /r/SFWRedheads/comments/100zkn4/cute_mirror_pi...   \n2      /r/SFWRedheads/comments/100zkn4/cute_mirror_pi...   \n3      /r/SFWRedheads/comments/101h21m/do_you_like_my...   \n4      /r/SFWRedheads/comments/101h21m/do_you_like_my...   \n...                                                  ...   \n12121               /r/DLAH/comments/zrcokh/jaw_dropper/   \n12122                     /r/DLAH/comments/zufk0e/cutie/   \n12123              /r/DLAH/comments/zvn0a6/showing_lots/   \n12124         /r/DLAH/comments/zxkmz0/red_wrapped_candy/   \n12125            /r/DLAH/comments/zz01i9/what_a_stunner/   \n\n                              original_url image_name path  model exists  \\\n0      https://i.redd.it/hhuwwg4yqk9a1.jpg                    NaN  False   \n1      https://i.redd.it/hhuwwg4yqk9a1.jpg                    NaN  False   \n2      https://i.redd.it/hhuwwg4yqk9a1.jpg                    NaN  False   \n3      https://i.redd.it/wirfsk0s9p9a1.jpg                    NaN  False   \n4      https://i.redd.it/wirfsk0s9p9a1.jpg                    NaN  False   \n...                                    ...        ...  ...    ...    ...   \n12121  https://i.redd.it/i5h6kx2vm87a1.jpg                    NaN  False   \n12122  https://i.redd.it/ry23hojujx7a1.jpg                    NaN  False   \n12123  https://i.redd.it/u9w5hzlgba8a1.jpg                    NaN  False   \n12124  https://i.redd.it/m5elilvrtq8a1.jpg                    NaN  False   \n12125  https://i.redd.it/naup5r1zr29a1.jpg                    NaN  False   \n\n      curated  accept  tags  \n0       False     NaN   NaN  \n1       False     NaN   NaN  \n2       False     NaN   NaN  \n3       False     NaN   NaN  \n4       False     NaN   NaN  \n...       ...     ...   ...  \n12121   False     NaN   NaN  \n12122   False     NaN   NaN  \n12123   False     NaN   NaN  \n12124   False     NaN   NaN  \n12125   False     NaN   NaN  \n\n[12126 rows x 15 columns]",
      "text/html": "<div>\n<style scoped>\n    .dataframe tbody tr th:only-of-type {\n        vertical-align: middle;\n    }\n\n    .dataframe tbody tr th {\n        vertical-align: top;\n    }\n\n    .dataframe thead th {\n        text-align: right;\n    }\n</style>\n<table border=\"1\" class=\"dataframe\">\n  <thead>\n    <tr style=\"text-align: right;\">\n      <th></th>\n      <th>id</th>\n      <th>subreddit</th>\n      <th>author</th>\n      <th>title</th>\n      <th>caption</th>\n      <th>hash</th>\n      <th>permalink</th>\n      <th>original_url</th>\n      <th>image_name</th>\n      <th>path</th>\n      <th>model</th>\n      <th>exists</th>\n      <th>curated</th>\n      <th>accept</th>\n      <th>tags</th>\n    </tr>\n  </thead>\n  <tbody>\n    <tr>\n      <th>0</th>\n      <td>100zkn4</td>\n      <td>SFWRedheads</td>\n      <td>ChanceUnlikely659</td>\n      <td>Cute mirror pic for you🤍</td>\n      <td></td>\n      <td></td>\n      <td>/r/SFWRedheads/comments/100zkn4/cute_mirror_pi...</td>\n      <td>https://i.redd.it/hhuwwg4yqk9a1.jpg</td>\n      <td></td>\n      <td></td>\n      <td>NaN</td>\n      <td>False</td>\n      <td>False</td>\n      <td>NaN</td>\n      <td>NaN</td>\n    </tr>\n    <tr>\n      <th>1</th>\n      <td>100zkn4</td>\n      <td>SFWRedheads</td>\n      <td>ChanceUnlikely659</td>\n      <td>Cute mirror pic for you🤍</td>\n      <td></td>\n      <td></td>\n      <td>/r/SFWRedheads/comments/100zkn4/cute_mirror_pi...</td>\n      <td>https://i.redd.it/hhuwwg4yqk9a1.jpg</td>\n      <td></td>\n      <td></td>\n      <td>NaN</td>\n      <td>False</td>\n      <td>False</td>\n      <td>NaN</td>\n      <td>NaN</td>\n    </tr>\n    <tr>\n      <th>2</th>\n      <td>100zkn4</td>\n      <td>SFWRedheads</td>\n      <td>ChanceUnlikely659</td>\n      <td>Cute mirror pic for you🤍</td>\n      <td></td>\n      <td></td>\n      <td>/r/SFWRedheads/comments/100zkn4/cute_mirror_pi...</td>\n      <td>https://i.redd.it/hhuwwg4yqk9a1.jpg</td>\n      <td></td>\n      <td></td>\n      <td>NaN</td>\n      <td>False</td>\n      <td>False</td>\n      <td>NaN</td>\n      <td>NaN</td>\n    </tr>\n    <tr>\n      <th>3</th>\n      <td>101h21m</td>\n      <td>SFWRedheads</td>\n      <td>ChanceUnlikely659</td>\n      <td>Do you like my little black dress? 🖤</td>\n      <td></td>\n      <td></td>\n      <td>/r/SFWRedheads/comments/101h21m/do_you_like_my...</td>\n      <td>https://i.redd.it/wirfsk0s9p9a1.jpg</td>\n      <td></td>\n      <td></td>\n      <td>NaN</td>\n      <td>False</td>\n      <td>False</td>\n      <td>NaN</td>\n      <td>NaN</td>\n    </tr>\n    <tr>\n      <th>4</th>\n      <td>101h21m</td>\n      <td>SFWRedheads</td>\n      <td>ChanceUnlikely659</td>\n      <td>Do you like my little black dress? 🖤</td>\n      <td></td>\n      <td></td>\n      <td>/r/SFWRedheads/comments/101h21m/do_you_like_my...</td>\n      <td>https://i.redd.it/wirfsk0s9p9a1.jpg</td>\n      <td></td>\n      <td></td>\n      <td>NaN</td>\n      <td>False</td>\n      <td>False</td>\n      <td>NaN</td>\n      <td>NaN</td>\n    </tr>\n    <tr>\n      <th>...</th>\n      <td>...</td>\n      <td>...</td>\n      <td>...</td>\n      <td>...</td>\n      <td>...</td>\n      <td>...</td>\n      <td>...</td>\n      <td>...</td>\n      <td>...</td>\n      <td>...</td>\n      <td>...</td>\n      <td>...</td>\n      <td>...</td>\n      <td>...</td>\n      <td>...</td>\n    </tr>\n    <tr>\n      <th>12121</th>\n      <td>zrcokh</td>\n      <td>DLAH</td>\n      <td>LetReal1805</td>\n      <td>Jaw dropper</td>\n      <td></td>\n      <td></td>\n      <td>/r/DLAH/comments/zrcokh/jaw_dropper/</td>\n      <td>https://i.redd.it/i5h6kx2vm87a1.jpg</td>\n      <td></td>\n      <td></td>\n      <td>NaN</td>\n      <td>False</td>\n      <td>False</td>\n      <td>NaN</td>\n      <td>NaN</td>\n    </tr>\n    <tr>\n      <th>12122</th>\n      <td>zufk0e</td>\n      <td>DLAH</td>\n      <td>mikano96</td>\n      <td>Cutie</td>\n      <td></td>\n      <td></td>\n      <td>/r/DLAH/comments/zufk0e/cutie/</td>\n      <td>https://i.redd.it/ry23hojujx7a1.jpg</td>\n      <td></td>\n      <td></td>\n      <td>NaN</td>\n      <td>False</td>\n      <td>False</td>\n      <td>NaN</td>\n      <td>NaN</td>\n    </tr>\n    <tr>\n      <th>12123</th>\n      <td>zvn0a6</td>\n      <td>DLAH</td>\n      <td>ThePinkTaco65</td>\n      <td>showing lots</td>\n      <td></td>\n      <td></td>\n      <td>/r/DLAH/comments/zvn0a6/showing_lots/</td>\n      <td>https://i.redd.it/u9w5hzlgba8a1.jpg</td>\n      <td></td>\n      <td></td>\n      <td>NaN</td>\n      <td>False</td>\n      <td>False</td>\n      <td>NaN</td>\n      <td>NaN</td>\n    </tr>\n    <tr>\n      <th>12124</th>\n      <td>zxkmz0</td>\n      <td>DLAH</td>\n      <td>-SirSpankalot-</td>\n      <td>Red wrapped candy</td>\n      <td></td>\n      <td></td>\n      <td>/r/DLAH/comments/zxkmz0/red_wrapped_candy/</td>\n      <td>https://i.redd.it/m5elilvrtq8a1.jpg</td>\n      <td></td>\n      <td></td>\n      <td>NaN</td>\n      <td>False</td>\n      <td>False</td>\n      <td>NaN</td>\n      <td>NaN</td>\n    </tr>\n    <tr>\n      <th>12125</th>\n      <td>zz01i9</td>\n      <td>DLAH</td>\n      <td>ResponsiveCock</td>\n      <td>What a stunner</td>\n      <td></td>\n      <td></td>\n      <td>/r/DLAH/comments/zz01i9/what_a_stunner/</td>\n      <td>https://i.redd.it/naup5r1zr29a1.jpg</td>\n      <td></td>\n      <td></td>\n      <td>NaN</td>\n      <td>False</td>\n      <td>False</td>\n      <td>NaN</td>\n      <td>NaN</td>\n    </tr>\n  </tbody>\n</table>\n<p>12126 rows × 15 columns</p>\n</div>"
     },
     "metadata": {},
     "output_type": "display_data"
    },
    {
     "name": "stdout",
     "output_type": "stream",
     "text": [
      "CPU times: total: 59.1 s\n",
      "Wall time: 11.2 s\n"
     ]
    }
   ],
   "source": [
    "%%time\n",
    "dfs = pd.DataFrame({}, columns=schema.names)\n",
    "data = []\n",
    "for sub in subs:\n",
    "\tdf = pd.read_parquet(f\"{sub}\")\n",
    "\tinitial = pd.DataFrame({}, columns=schema.names)\n",
    "\tinitial.id = df.id\n",
    "\tinitial.subreddit = df.subreddit\n",
    "\tinitial.author = df.author\n",
    "\tinitial.title = df.title\n",
    "\tinitial.caption = \"\"\n",
    "\tinitial.hash = \"\"\n",
    "\tinitial.permalink = df.permalink\n",
    "\tinitial.original_url = df.original_url\n",
    "\tinitial.image_name = \"\"\n",
    "\tinitial.path = \"\"\n",
    "\tinitial.thumbnail_path = \"\"\n",
    "\tinitial.exists = False\n",
    "\tinitial.curated = False\n",
    "\tinitial.model = \"\"\n",
    "\tinitial.accept = False\n",
    "\tinitial.tags = None\n",
    "\n",
    "\trecords = df.to_dict(orient='records')\n",
    "\n",
    "\tdata.extend(records)\n",
    "\n",
    "initial = pd.DataFrame(data=data, columns=schema.names)\n",
    "filtered_initial = initial.where(initial['original_url'].str.endswith('.jpg')).dropna(how='all').reset_index().drop('index', axis=1)\n",
    "\n",
    "display(filtered_initial)"
   ],
   "metadata": {
    "collapsed": false,
    "ExecuteTime": {
     "end_time": "2023-04-30T18:58:56.023981400Z",
     "start_time": "2023-04-30T18:58:44.773328500Z"
    }
   }
  },
  {
   "cell_type": "code",
   "execution_count": 29,
   "outputs": [
    {
     "data": {
      "text/plain": "           id    subreddit                author  \\\n0     120ekkv  SFWRedheads              Tana_Lee   \n1     120ekkv  SFWRedheads              Tana_Lee   \n2     12jm6mv  SFWRedheads          Redhotwife88   \n3     12jm6mv  SFWRedheads          Redhotwife88   \n4     12jqjkk  SFWRedheads        crystalcolette   \n...       ...          ...                   ...   \n1856  133y5u6         DLAH        -SirSpankalot-   \n1857  133ykc1         DLAH  Virtual-Pressure-948   \n1858   wrq8jd         DLAH                zUUmee   \n1859   wwp80d         DLAH        -SirSpankalot-   \n1860   zufk0e         DLAH              mikano96   \n\n                                         title caption hash  \\\n0                  Have a great weekend boys 😘                \n1                  Have a great weekend boys 😘                \n2            Redhead Mom at 35 years old ! [F]                \n3            Redhead Mom at 35 years old ! [F]                \n4     Red hair, blue eyes and so many freckles                \n...                                        ...     ...  ...   \n1856                               Open buffet                \n1857                          Black Hole Dress                \n1858                           Emma and Olivia                \n1859             Italian sports TV is superior                \n1860                                     Cutie                \n\n                                              permalink  \\\n0     /r/SFWRedheads/comments/120ekkv/have_a_great_w...   \n1     /r/SFWRedheads/comments/120ekkv/have_a_great_w...   \n2     /r/SFWRedheads/comments/12jm6mv/redhead_mom_at...   \n3     /r/SFWRedheads/comments/12jm6mv/redhead_mom_at...   \n4     /r/SFWRedheads/comments/12jqjkk/red_hair_blue_...   \n...                                                 ...   \n1856              /r/DLAH/comments/133y5u6/open_buffet/   \n1857         /r/DLAH/comments/133ykc1/black_hole_dress/   \n1858           /r/DLAH/comments/wrq8jd/emma_and_olivia/   \n1859  /r/DLAH/comments/wwp80d/italian_sports_tv_is_s...   \n1860                     /r/DLAH/comments/zufk0e/cutie/   \n\n                             original_url image_name path  model exists  \\\n0     https://i.redd.it/8w177b9l1ppa1.jpg                    NaN  False   \n1     https://i.redd.it/8w177b9l1ppa1.jpg                    NaN  False   \n2         https://i.imgur.com/nWeLBAM.jpg                    NaN  False   \n3         https://i.imgur.com/nWeLBAM.jpg                    NaN  False   \n4     https://i.redd.it/jcwet8iloita1.jpg                    NaN  False   \n...                                   ...        ...  ...    ...    ...   \n1856  https://i.redd.it/j9pvks78o3xa1.jpg                    NaN  False   \n1857  https://i.redd.it/l3akos88r3xa1.jpg                    NaN  False   \n1858      https://i.imgur.com/vC03BwB.jpg                    NaN  False   \n1859  https://i.redd.it/unosrxq63pj91.jpg                    NaN  False   \n1860  https://i.redd.it/ry23hojujx7a1.jpg                    NaN  False   \n\n     curated  accept  tags  \n0      False     NaN   NaN  \n1      False     NaN   NaN  \n2      False     NaN   NaN  \n3      False     NaN   NaN  \n4      False     NaN   NaN  \n...      ...     ...   ...  \n1856   False     NaN   NaN  \n1857   False     NaN   NaN  \n1858   False     NaN   NaN  \n1859   False     NaN   NaN  \n1860   False     NaN   NaN  \n\n[1861 rows x 15 columns]",
      "text/html": "<div>\n<style scoped>\n    .dataframe tbody tr th:only-of-type {\n        vertical-align: middle;\n    }\n\n    .dataframe tbody tr th {\n        vertical-align: top;\n    }\n\n    .dataframe thead th {\n        text-align: right;\n    }\n</style>\n<table border=\"1\" class=\"dataframe\">\n  <thead>\n    <tr style=\"text-align: right;\">\n      <th></th>\n      <th>id</th>\n      <th>subreddit</th>\n      <th>author</th>\n      <th>title</th>\n      <th>caption</th>\n      <th>hash</th>\n      <th>permalink</th>\n      <th>original_url</th>\n      <th>image_name</th>\n      <th>path</th>\n      <th>model</th>\n      <th>exists</th>\n      <th>curated</th>\n      <th>accept</th>\n      <th>tags</th>\n    </tr>\n  </thead>\n  <tbody>\n    <tr>\n      <th>0</th>\n      <td>120ekkv</td>\n      <td>SFWRedheads</td>\n      <td>Tana_Lee</td>\n      <td>Have a great weekend boys 😘</td>\n      <td></td>\n      <td></td>\n      <td>/r/SFWRedheads/comments/120ekkv/have_a_great_w...</td>\n      <td>https://i.redd.it/8w177b9l1ppa1.jpg</td>\n      <td></td>\n      <td></td>\n      <td>NaN</td>\n      <td>False</td>\n      <td>False</td>\n      <td>NaN</td>\n      <td>NaN</td>\n    </tr>\n    <tr>\n      <th>1</th>\n      <td>120ekkv</td>\n      <td>SFWRedheads</td>\n      <td>Tana_Lee</td>\n      <td>Have a great weekend boys 😘</td>\n      <td></td>\n      <td></td>\n      <td>/r/SFWRedheads/comments/120ekkv/have_a_great_w...</td>\n      <td>https://i.redd.it/8w177b9l1ppa1.jpg</td>\n      <td></td>\n      <td></td>\n      <td>NaN</td>\n      <td>False</td>\n      <td>False</td>\n      <td>NaN</td>\n      <td>NaN</td>\n    </tr>\n    <tr>\n      <th>2</th>\n      <td>12jm6mv</td>\n      <td>SFWRedheads</td>\n      <td>Redhotwife88</td>\n      <td>Redhead Mom at 35 years old ! [F]</td>\n      <td></td>\n      <td></td>\n      <td>/r/SFWRedheads/comments/12jm6mv/redhead_mom_at...</td>\n      <td>https://i.imgur.com/nWeLBAM.jpg</td>\n      <td></td>\n      <td></td>\n      <td>NaN</td>\n      <td>False</td>\n      <td>False</td>\n      <td>NaN</td>\n      <td>NaN</td>\n    </tr>\n    <tr>\n      <th>3</th>\n      <td>12jm6mv</td>\n      <td>SFWRedheads</td>\n      <td>Redhotwife88</td>\n      <td>Redhead Mom at 35 years old ! [F]</td>\n      <td></td>\n      <td></td>\n      <td>/r/SFWRedheads/comments/12jm6mv/redhead_mom_at...</td>\n      <td>https://i.imgur.com/nWeLBAM.jpg</td>\n      <td></td>\n      <td></td>\n      <td>NaN</td>\n      <td>False</td>\n      <td>False</td>\n      <td>NaN</td>\n      <td>NaN</td>\n    </tr>\n    <tr>\n      <th>4</th>\n      <td>12jqjkk</td>\n      <td>SFWRedheads</td>\n      <td>crystalcolette</td>\n      <td>Red hair, blue eyes and so many freckles</td>\n      <td></td>\n      <td></td>\n      <td>/r/SFWRedheads/comments/12jqjkk/red_hair_blue_...</td>\n      <td>https://i.redd.it/jcwet8iloita1.jpg</td>\n      <td></td>\n      <td></td>\n      <td>NaN</td>\n      <td>False</td>\n      <td>False</td>\n      <td>NaN</td>\n      <td>NaN</td>\n    </tr>\n    <tr>\n      <th>...</th>\n      <td>...</td>\n      <td>...</td>\n      <td>...</td>\n      <td>...</td>\n      <td>...</td>\n      <td>...</td>\n      <td>...</td>\n      <td>...</td>\n      <td>...</td>\n      <td>...</td>\n      <td>...</td>\n      <td>...</td>\n      <td>...</td>\n      <td>...</td>\n      <td>...</td>\n    </tr>\n    <tr>\n      <th>1856</th>\n      <td>133y5u6</td>\n      <td>DLAH</td>\n      <td>-SirSpankalot-</td>\n      <td>Open buffet</td>\n      <td></td>\n      <td></td>\n      <td>/r/DLAH/comments/133y5u6/open_buffet/</td>\n      <td>https://i.redd.it/j9pvks78o3xa1.jpg</td>\n      <td></td>\n      <td></td>\n      <td>NaN</td>\n      <td>False</td>\n      <td>False</td>\n      <td>NaN</td>\n      <td>NaN</td>\n    </tr>\n    <tr>\n      <th>1857</th>\n      <td>133ykc1</td>\n      <td>DLAH</td>\n      <td>Virtual-Pressure-948</td>\n      <td>Black Hole Dress</td>\n      <td></td>\n      <td></td>\n      <td>/r/DLAH/comments/133ykc1/black_hole_dress/</td>\n      <td>https://i.redd.it/l3akos88r3xa1.jpg</td>\n      <td></td>\n      <td></td>\n      <td>NaN</td>\n      <td>False</td>\n      <td>False</td>\n      <td>NaN</td>\n      <td>NaN</td>\n    </tr>\n    <tr>\n      <th>1858</th>\n      <td>wrq8jd</td>\n      <td>DLAH</td>\n      <td>zUUmee</td>\n      <td>Emma and Olivia</td>\n      <td></td>\n      <td></td>\n      <td>/r/DLAH/comments/wrq8jd/emma_and_olivia/</td>\n      <td>https://i.imgur.com/vC03BwB.jpg</td>\n      <td></td>\n      <td></td>\n      <td>NaN</td>\n      <td>False</td>\n      <td>False</td>\n      <td>NaN</td>\n      <td>NaN</td>\n    </tr>\n    <tr>\n      <th>1859</th>\n      <td>wwp80d</td>\n      <td>DLAH</td>\n      <td>-SirSpankalot-</td>\n      <td>Italian sports TV is superior</td>\n      <td></td>\n      <td></td>\n      <td>/r/DLAH/comments/wwp80d/italian_sports_tv_is_s...</td>\n      <td>https://i.redd.it/unosrxq63pj91.jpg</td>\n      <td></td>\n      <td></td>\n      <td>NaN</td>\n      <td>False</td>\n      <td>False</td>\n      <td>NaN</td>\n      <td>NaN</td>\n    </tr>\n    <tr>\n      <th>1860</th>\n      <td>zufk0e</td>\n      <td>DLAH</td>\n      <td>mikano96</td>\n      <td>Cutie</td>\n      <td></td>\n      <td></td>\n      <td>/r/DLAH/comments/zufk0e/cutie/</td>\n      <td>https://i.redd.it/ry23hojujx7a1.jpg</td>\n      <td></td>\n      <td></td>\n      <td>NaN</td>\n      <td>False</td>\n      <td>False</td>\n      <td>NaN</td>\n      <td>NaN</td>\n    </tr>\n  </tbody>\n</table>\n<p>1861 rows × 15 columns</p>\n</div>"
     },
     "metadata": {},
     "output_type": "display_data"
    },
    {
     "name": "stdout",
     "output_type": "stream",
     "text": [
      "CPU times: total: 1.42 s\n",
      "Wall time: 2.74 s\n"
     ]
    },
    {
     "data": {
      "text/plain": "<Axes: xlabel='subreddit'>"
     },
     "execution_count": 29,
     "metadata": {},
     "output_type": "execute_result"
    },
    {
     "data": {
      "text/plain": "<Figure size 640x480 with 1 Axes>",
      "image/png": "[encoded data removed]"
     },
     "metadata": {},
     "output_type": "display_data"
    }
   ],
   "source": [
    "%%time\n",
    "\n",
    "tqdm.pandas(desc=\"Filtering Exists For Id List\")\n",
    "with ProgressBar():\n",
    "\textant = extant_data.where((extant_data['exists'].isin([True]))).dropna(how='all').reset_index().drop('index', axis=1)\n",
    "\n",
    "extant_id_list = list(extant.id)\n",
    "\n",
    "tqdm.pandas(desc=\"Filtering Based on Id\")\n",
    "with ProgressBar():\n",
    "\tnew_entries = filtered_initial.where((~filtered_initial['id'].isin(extant_id_list))).dropna(\n",
    "\t\thow='all').reset_index().drop('index', axis=1)\n",
    "\n",
    "display(new_entries)\n",
    "\n",
    "new_images_by_sub = new_entries.groupby('subreddit')\n",
    "\n",
    "new_images_by_sub.count().plot.bar(y='id')"
   ],
   "metadata": {
    "collapsed": false,
    "ExecuteTime": {
     "end_time": "2023-04-30T19:00:27.416910600Z",
     "start_time": "2023-04-30T19:00:23.951769200Z"
    }
   }
  },
  {
   "cell_type": "code",
   "execution_count": 30,
   "outputs": [
    {
     "data": {
      "text/plain": "Fetch-Image:   0%|          | 0/1861 [00:00<?, ?it/s]",
      "application/vnd.jupyter.widget-view+json": {
       "version_major": 2,
       "version_minor": 0,
       "model_id": "153af4a29b4f49b680209c2c16890c47"
      }
     },
     "metadata": {},
     "output_type": "display_data"
    },
    {
     "name": "stdout",
     "output_type": "stream",
     "text": [
      "cannot identify image file <_io.BytesIO object at 0x0000024E9A9C4040>\n",
      "cannot identify image file <_io.BytesIO object at 0x0000024E9A66BBD0>\n",
      "cannot identify image file <_io.BytesIO object at 0x0000024E941D6AE0>\n",
      "cannot identify image file <_io.BytesIO object at 0x0000024E941D6AE0>\n",
      "cannot identify image file <_io.BytesIO object at 0x0000024E9A66BBD0>\n",
      "cannot identify image file <_io.BytesIO object at 0x0000024E9AC9EA40>\n",
      "cannot identify image file <_io.BytesIO object at 0x0000024E96480130>\n",
      "cannot write mode P as JPEG\n",
      "cannot write mode P as JPEG\n",
      "cannot write mode P as JPEG\n",
      "cannot write mode P as JPEG\n",
      "Image size (199756800 pixels) exceeds limit of 178956970 pixels, could be decompression bomb DOS attack.\n",
      "cannot write mode RGBA as JPEG\n",
      "cannot write mode RGBA as JPEG\n",
      "cannot write mode RGBA as JPEG\n",
      "cannot write mode P as JPEG\n",
      "cannot write mode P as JPEG\n",
      "cannot write mode P as JPEG\n",
      "HTTPSConnectionPool(host='instagram.fsnc1-1.fna.fbcdn.net', port=443): Max retries exceeded with url: /t51.2885-15/28428436_181683505781847_1434093046173007872_n.jpg (Caused by NewConnectionError('<urllib3.connection.HTTPSConnection object at 0x0000024E9A9355E0>: Failed to establish a new connection: [Errno 11001] getaddrinfo failed'))\n",
      "cannot identify image file <_io.BytesIO object at 0x0000024E9A6ED770>\n",
      "cannot identify image file <_io.BytesIO object at 0x0000024E96480130>\n",
      "cannot identify image file <_io.BytesIO object at 0x0000024E9ACBA860>\n",
      "cannot identify image file <_io.BytesIO object at 0x0000024E9AC9EA40>\n",
      "cannot identify image file <_io.BytesIO object at 0x0000024E9ACB5810>\n",
      "cannot identify image file <_io.BytesIO object at 0x0000024E9ACB5810>\n",
      "cannot write mode RGBA as JPEG\n",
      "cannot write mode P as JPEG\n",
      "cannot write mode P as JPEG\n",
      "cannot write mode P as JPEG\n",
      "cannot write mode P as JPEG\n",
      "cannot write mode P as JPEG\n",
      "cannot write mode P as JPEG\n",
      "cannot write mode P as JPEG\n",
      "cannot identify image file <_io.BytesIO object at 0x0000024E9A4C37C0>\n",
      "cannot identify image file <_io.BytesIO object at 0x0000024E9A92FE00>\n",
      "cannot write mode P as JPEG\n",
      "cannot write mode P as JPEG\n",
      "cannot write mode P as JPEG\n",
      "cannot write mode P as JPEG\n",
      "cannot write mode P as JPEG\n",
      "cannot write mode P as JPEG\n",
      "cannot write mode P as JPEG\n",
      "cannot write mode P as JPEG\n",
      "cannot write mode RGBA as JPEG\n",
      "cannot identify image file <_io.BytesIO object at 0x0000024E9AC9EA40>\n",
      "cannot write mode RGBA as JPEG\n",
      "cannot write mode RGBA as JPEG\n",
      "cannot identify image file <_io.BytesIO object at 0x0000024E941D6AE0>\n",
      "cannot write mode RGBA as JPEG\n",
      "cannot write mode RGBA as JPEG\n",
      "cannot write mode RGBA as JPEG\n",
      "cannot identify image file <_io.BytesIO object at 0x0000024E9ACB5EF0>\n",
      "cannot write mode RGBA as JPEG\n",
      "cannot write mode P as JPEG\n",
      "cannot write mode P as JPEG\n",
      "cannot write mode P as JPEG\n"
     ]
    },
    {
     "data": {
      "text/plain": "Get-Image-Name:   0%|          | 0/1861 [00:00<?, ?it/s]",
      "application/vnd.jupyter.widget-view+json": {
       "version_major": 2,
       "version_minor": 0,
       "model_id": "7cdbc46d95a747bcacd9aeb2662af2f9"
      }
     },
     "metadata": {},
     "output_type": "display_data"
    },
    {
     "data": {
      "text/plain": "Split-Hash:   0%|          | 0/1861 [00:00<?, ?it/s]",
      "application/vnd.jupyter.widget-view+json": {
       "version_major": 2,
       "version_minor": 0,
       "model_id": "737a8d54e69643e3912d48d2df615317"
      }
     },
     "metadata": {},
     "output_type": "display_data"
    },
    {
     "data": {
      "text/plain": "Checking-Exists:   0%|          | 0/1861 [00:00<?, ?it/s]",
      "application/vnd.jupyter.widget-view+json": {
       "version_major": 2,
       "version_minor": 0,
       "model_id": "3e178385f276446aaefc9ddf1d587ed0"
      }
     },
     "metadata": {},
     "output_type": "display_data"
    },
    {
     "data": {
      "text/plain": "           id    subreddit                author  \\\n0     120ekkv  SFWRedheads              Tana_Lee   \n1     120ekkv  SFWRedheads              Tana_Lee   \n2     12jm6mv  SFWRedheads          Redhotwife88   \n3     12jm6mv  SFWRedheads          Redhotwife88   \n4     12jqjkk  SFWRedheads        crystalcolette   \n...       ...          ...                   ...   \n1856  133y5u6         DLAH        -SirSpankalot-   \n1857  133ykc1         DLAH  Virtual-Pressure-948   \n1858   wrq8jd         DLAH                zUUmee   \n1859   wwp80d         DLAH        -SirSpankalot-   \n1860   zufk0e         DLAH              mikano96   \n\n                                         title caption  \\\n0                  Have a great weekend boys 😘           \n1                  Have a great weekend boys 😘           \n2            Redhead Mom at 35 years old ! [F]           \n3            Redhead Mom at 35 years old ! [F]           \n4     Red hair, blue eyes and so many freckles           \n...                                        ...     ...   \n1856                               Open buffet           \n1857                          Black Hole Dress           \n1858                           Emma and Olivia           \n1859             Italian sports TV is superior           \n1860                                     Cutie           \n\n                                  hash  \\\n0     36994a3127bac74ec622b4fb6ffef7b1   \n1     36994a3127bac74ec622b4fb6ffef7b1   \n2     6516c5e65d8a7c441dcd10db1cd19155   \n3     6516c5e65d8a7c441dcd10db1cd19155   \n4     114e551778963bf6bb8a21ca8901da0e   \n...                                ...   \n1856  93c9cd072d5d248b9a31b15eeed51530   \n1857  ec259b0d608d0a8d673418879081dd7f   \n1858  996dfcbfa63e4570056b45ff07213cc0   \n1859  543a8e67b9c4e28b4330d4b273b2fe17   \n1860  416bea723ad0bef186cbcef0c4a44082   \n\n                                              permalink  \\\n0     /r/SFWRedheads/comments/120ekkv/have_a_great_w...   \n1     /r/SFWRedheads/comments/120ekkv/have_a_great_w...   \n2     /r/SFWRedheads/comments/12jm6mv/redhead_mom_at...   \n3     /r/SFWRedheads/comments/12jm6mv/redhead_mom_at...   \n4     /r/SFWRedheads/comments/12jqjkk/red_hair_blue_...   \n...                                                 ...   \n1856              /r/DLAH/comments/133y5u6/open_buffet/   \n1857         /r/DLAH/comments/133ykc1/black_hole_dress/   \n1858           /r/DLAH/comments/wrq8jd/emma_and_olivia/   \n1859  /r/DLAH/comments/wwp80d/italian_sports_tv_is_s...   \n1860                     /r/DLAH/comments/zufk0e/cutie/   \n\n                             original_url  \\\n0     https://i.redd.it/8w177b9l1ppa1.jpg   \n1     https://i.redd.it/8w177b9l1ppa1.jpg   \n2         https://i.imgur.com/nWeLBAM.jpg   \n3         https://i.imgur.com/nWeLBAM.jpg   \n4     https://i.redd.it/jcwet8iloita1.jpg   \n...                                   ...   \n1856  https://i.redd.it/j9pvks78o3xa1.jpg   \n1857  https://i.redd.it/l3akos88r3xa1.jpg   \n1858      https://i.imgur.com/vC03BwB.jpg   \n1859  https://i.redd.it/unosrxq63pj91.jpg   \n1860  https://i.redd.it/ry23hojujx7a1.jpg   \n\n                                image_name  \\\n0     36994a3127bac74ec622b4fb6ffef7b1.jpg   \n1     36994a3127bac74ec622b4fb6ffef7b1.jpg   \n2     6516c5e65d8a7c441dcd10db1cd19155.jpg   \n3     6516c5e65d8a7c441dcd10db1cd19155.jpg   \n4     114e551778963bf6bb8a21ca8901da0e.jpg   \n...                                    ...   \n1856  93c9cd072d5d248b9a31b15eeed51530.jpg   \n1857  ec259b0d608d0a8d673418879081dd7f.jpg   \n1858  996dfcbfa63e4570056b45ff07213cc0.jpg   \n1859  543a8e67b9c4e28b4330d4b273b2fe17.jpg   \n1860  416bea723ad0bef186cbcef0c4a44082.jpg   \n\n                                                   path  model  exists  \\\n0     D:\\data\\images\\SFWRedheads\\36994a3127bac74ec62...    NaN   False   \n1     D:\\data\\images\\SFWRedheads\\36994a3127bac74ec62...    NaN   False   \n2     D:\\data\\images\\SFWRedheads\\6516c5e65d8a7c441dc...    NaN   False   \n3     D:\\data\\images\\SFWRedheads\\6516c5e65d8a7c441dc...    NaN   False   \n4     D:\\data\\images\\SFWRedheads\\114e551778963bf6bb8...    NaN   False   \n...                                                 ...    ...     ...   \n1856  D:\\data\\images\\DLAH\\93c9cd072d5d248b9a31b15eee...    NaN    True   \n1857  D:\\data\\images\\DLAH\\ec259b0d608d0a8d6734188790...    NaN    True   \n1858  D:\\data\\images\\DLAH\\996dfcbfa63e4570056b45ff07...    NaN    True   \n1859  D:\\data\\images\\DLAH\\543a8e67b9c4e28b4330d4b273...    NaN    True   \n1860  D:\\data\\images\\DLAH\\416bea723ad0bef186cbcef0c4...    NaN   False   \n\n     curated  accept  tags  \n0      False     NaN   NaN  \n1      False     NaN   NaN  \n2      False     NaN   NaN  \n3      False     NaN   NaN  \n4      False     NaN   NaN  \n...      ...     ...   ...  \n1856   False     NaN   NaN  \n1857   False     NaN   NaN  \n1858   False     NaN   NaN  \n1859   False     NaN   NaN  \n1860   False     NaN   NaN  \n\n[1861 rows x 15 columns]",
      "text/html": "<div>\n<style scoped>\n    .dataframe tbody tr th:only-of-type {\n        vertical-align: middle;\n    }\n\n    .dataframe tbody tr th {\n        vertical-align: top;\n    }\n\n    .dataframe thead th {\n        text-align: right;\n    }\n</style>\n<table border=\"1\" class=\"dataframe\">\n  <thead>\n    <tr style=\"text-align: right;\">\n      <th></th>\n      <th>id</th>\n      <th>subreddit</th>\n      <th>author</th>\n      <th>title</th>\n      <th>caption</th>\n      <th>hash</th>\n      <th>permalink</th>\n      <th>original_url</th>\n      <th>image_name</th>\n      <th>path</th>\n      <th>model</th>\n      <th>exists</th>\n      <th>curated</th>\n      <th>accept</th>\n      <th>tags</th>\n    </tr>\n  </thead>\n  <tbody>\n    <tr>\n      <th>0</th>\n      <td>120ekkv</td>\n      <td>SFWRedheads</td>\n      <td>Tana_Lee</td>\n      <td>Have a great weekend boys 😘</td>\n      <td></td>\n      <td>36994a3127bac74ec622b4fb6ffef7b1</td>\n      <td>/r/SFWRedheads/comments/120ekkv/have_a_great_w...</td>\n      <td>https://i.redd.it/8w177b9l1ppa1.jpg</td>\n      <td>36994a3127bac74ec622b4fb6ffef7b1.jpg</td>\n      <td>D:\\data\\images\\SFWRedheads\\36994a3127bac74ec62...</td>\n      <td>NaN</td>\n      <td>False</td>\n      <td>False</td>\n      <td>NaN</td>\n      <td>NaN</td>\n    </tr>\n    <tr>\n      <th>1</th>\n      <td>120ekkv</td>\n      <td>SFWRedheads</td>\n      <td>Tana_Lee</td>\n      <td>Have a great weekend boys 😘</td>\n      <td></td>\n      <td>36994a3127bac74ec622b4fb6ffef7b1</td>\n      <td>/r/SFWRedheads/comments/120ekkv/have_a_great_w...</td>\n      <td>https://i.redd.it/8w177b9l1ppa1.jpg</td>\n      <td>36994a3127bac74ec622b4fb6ffef7b1.jpg</td>\n      <td>D:\\data\\images\\SFWRedheads\\36994a3127bac74ec62...</td>\n      <td>NaN</td>\n      <td>False</td>\n      <td>False</td>\n      <td>NaN</td>\n      <td>NaN</td>\n    </tr>\n    <tr>\n      <th>2</th>\n      <td>12jm6mv</td>\n      <td>SFWRedheads</td>\n      <td>Redhotwife88</td>\n      <td>Redhead Mom at 35 years old ! [F]</td>\n      <td></td>\n      <td>6516c5e65d8a7c441dcd10db1cd19155</td>\n      <td>/r/SFWRedheads/comments/12jm6mv/redhead_mom_at...</td>\n      <td>https://i.imgur.com/nWeLBAM.jpg</td>\n      <td>6516c5e65d8a7c441dcd10db1cd19155.jpg</td>\n      <td>D:\\data\\images\\SFWRedheads\\6516c5e65d8a7c441dc...</td>\n      <td>NaN</td>\n      <td>False</td>\n      <td>False</td>\n      <td>NaN</td>\n      <td>NaN</td>\n    </tr>\n    <tr>\n      <th>3</th>\n      <td>12jm6mv</td>\n      <td>SFWRedheads</td>\n      <td>Redhotwife88</td>\n      <td>Redhead Mom at 35 years old ! [F]</td>\n      <td></td>\n      <td>6516c5e65d8a7c441dcd10db1cd19155</td>\n      <td>/r/SFWRedheads/comments/12jm6mv/redhead_mom_at...</td>\n      <td>https://i.imgur.com/nWeLBAM.jpg</td>\n      <td>6516c5e65d8a7c441dcd10db1cd19155.jpg</td>\n      <td>D:\\data\\images\\SFWRedheads\\6516c5e65d8a7c441dc...</td>\n      <td>NaN</td>\n      <td>False</td>\n      <td>False</td>\n      <td>NaN</td>\n      <td>NaN</td>\n    </tr>\n    <tr>\n      <th>4</th>\n      <td>12jqjkk</td>\n      <td>SFWRedheads</td>\n      <td>crystalcolette</td>\n      <td>Red hair, blue eyes and so many freckles</td>\n      <td></td>\n      <td>114e551778963bf6bb8a21ca8901da0e</td>\n      <td>/r/SFWRedheads/comments/12jqjkk/red_hair_blue_...</td>\n      <td>https://i.redd.it/jcwet8iloita1.jpg</td>\n      <td>114e551778963bf6bb8a21ca8901da0e.jpg</td>\n      <td>D:\\data\\images\\SFWRedheads\\114e551778963bf6bb8...</td>\n      <td>NaN</td>\n      <td>False</td>\n      <td>False</td>\n      <td>NaN</td>\n      <td>NaN</td>\n    </tr>\n    <tr>\n      <th>...</th>\n      <td>...</td>\n      <td>...</td>\n      <td>...</td>\n      <td>...</td>\n      <td>...</td>\n      <td>...</td>\n      <td>...</td>\n      <td>...</td>\n      <td>...</td>\n      <td>...</td>\n      <td>...</td>\n      <td>...</td>\n      <td>...</td>\n      <td>...</td>\n      <td>...</td>\n    </tr>\n    <tr>\n      <th>1856</th>\n      <td>133y5u6</td>\n      <td>DLAH</td>\n      <td>-SirSpankalot-</td>\n      <td>Open buffet</td>\n      <td></td>\n      <td>93c9cd072d5d248b9a31b15eeed51530</td>\n      <td>/r/DLAH/comments/133y5u6/open_buffet/</td>\n      <td>https://i.redd.it/j9pvks78o3xa1.jpg</td>\n      <td>93c9cd072d5d248b9a31b15eeed51530.jpg</td>\n      <td>D:\\data\\images\\DLAH\\93c9cd072d5d248b9a31b15eee...</td>\n      <td>NaN</td>\n      <td>True</td>\n      <td>False</td>\n      <td>NaN</td>\n      <td>NaN</td>\n    </tr>\n    <tr>\n      <th>1857</th>\n      <td>133ykc1</td>\n      <td>DLAH</td>\n      <td>Virtual-Pressure-948</td>\n      <td>Black Hole Dress</td>\n      <td></td>\n      <td>ec259b0d608d0a8d673418879081dd7f</td>\n      <td>/r/DLAH/comments/133ykc1/black_hole_dress/</td>\n      <td>https://i.redd.it/l3akos88r3xa1.jpg</td>\n      <td>ec259b0d608d0a8d673418879081dd7f.jpg</td>\n      <td>D:\\data\\images\\DLAH\\ec259b0d608d0a8d6734188790...</td>\n      <td>NaN</td>\n      <td>True</td>\n      <td>False</td>\n      <td>NaN</td>\n      <td>NaN</td>\n    </tr>\n    <tr>\n      <th>1858</th>\n      <td>wrq8jd</td>\n      <td>DLAH</td>\n      <td>zUUmee</td>\n      <td>Emma and Olivia</td>\n      <td></td>\n      <td>996dfcbfa63e4570056b45ff07213cc0</td>\n      <td>/r/DLAH/comments/wrq8jd/emma_and_olivia/</td>\n      <td>https://i.imgur.com/vC03BwB.jpg</td>\n      <td>996dfcbfa63e4570056b45ff07213cc0.jpg</td>\n      <td>D:\\data\\images\\DLAH\\996dfcbfa63e4570056b45ff07...</td>\n      <td>NaN</td>\n      <td>True</td>\n      <td>False</td>\n      <td>NaN</td>\n      <td>NaN</td>\n    </tr>\n    <tr>\n      <th>1859</th>\n      <td>wwp80d</td>\n      <td>DLAH</td>\n      <td>-SirSpankalot-</td>\n      <td>Italian sports TV is superior</td>\n      <td></td>\n      <td>543a8e67b9c4e28b4330d4b273b2fe17</td>\n      <td>/r/DLAH/comments/wwp80d/italian_sports_tv_is_s...</td>\n      <td>https://i.redd.it/unosrxq63pj91.jpg</td>\n      <td>543a8e67b9c4e28b4330d4b273b2fe17.jpg</td>\n      <td>D:\\data\\images\\DLAH\\543a8e67b9c4e28b4330d4b273...</td>\n      <td>NaN</td>\n      <td>True</td>\n      <td>False</td>\n      <td>NaN</td>\n      <td>NaN</td>\n    </tr>\n    <tr>\n      <th>1860</th>\n      <td>zufk0e</td>\n      <td>DLAH</td>\n      <td>mikano96</td>\n      <td>Cutie</td>\n      <td></td>\n      <td>416bea723ad0bef186cbcef0c4a44082</td>\n      <td>/r/DLAH/comments/zufk0e/cutie/</td>\n      <td>https://i.redd.it/ry23hojujx7a1.jpg</td>\n      <td>416bea723ad0bef186cbcef0c4a44082.jpg</td>\n      <td>D:\\data\\images\\DLAH\\416bea723ad0bef186cbcef0c4...</td>\n      <td>NaN</td>\n      <td>False</td>\n      <td>False</td>\n      <td>NaN</td>\n      <td>NaN</td>\n    </tr>\n  </tbody>\n</table>\n<p>1861 rows × 15 columns</p>\n</div>"
     },
     "metadata": {},
     "output_type": "display_data"
    },
    {
     "name": "stdout",
     "output_type": "stream",
     "text": [
      "CPU times: total: 1min 51s\n",
      "Wall time: 9min 6s\n"
     ]
    }
   ],
   "source": [
    "%%time\n",
    "\n",
    "new_entries_1 = new_entries.copy()\n",
    "\n",
    "tqdm.pandas(desc=\"Fetch-Image\")\n",
    "with ProgressBar():\n",
    "\tnew_entries_1['path'] = new_entries_1.progress_apply(lambda x: fetch_image(x), axis=1)\n",
    "\n",
    "tqdm.pandas(desc=\"Get-Image-Name\")\n",
    "with ProgressBar():\n",
    "\tnew_entries_1['image_name'] = new_entries_1.progress_apply(lambda x: get_image_name(x), axis=1)\n",
    "\n",
    "tqdm.pandas(desc=\"Split-Hash\")\n",
    "with ProgressBar():\n",
    "\tnew_entries_1['hash'] = new_entries_1.progress_apply(lambda x: split_hash(x), axis=1)\n",
    "\n",
    "tqdm.pandas(desc=\"Checking-Exists\")\n",
    "with ProgressBar():\n",
    "\tnew_entries_1['exists'] = new_entries_1.progress_apply(lambda x: exists(x), axis=1)\n",
    "\n",
    "display(new_entries_1)"
   ],
   "metadata": {
    "collapsed": false,
    "ExecuteTime": {
     "end_time": "2023-04-30T19:09:53.717031300Z",
     "start_time": "2023-04-30T19:00:46.859208100Z"
    }
   }
  },
  {
   "cell_type": "code",
   "execution_count": 17,
   "outputs": [
    {
     "name": "stdout",
     "output_type": "stream",
     "text": [
      "CPU times: total: 40.8 s\n",
      "Wall time: 41.2 s\n"
     ]
    }
   ],
   "source": [
    "%%time\n",
    "\n",
    "blip_0 = BlipCaption(1)\n",
    "blip_1 = BlipCaption(0)"
   ],
   "metadata": {
    "collapsed": false,
    "ExecuteTime": {
     "end_time": "2023-04-30T18:39:24.451741200Z",
     "start_time": "2023-04-30T18:38:43.274136Z"
    }
   }
  },
  {
   "cell_type": "code",
   "execution_count": 31,
   "outputs": [
    {
     "data": {
      "text/plain": "Caption-Image:   0%|          | 0/1861 [00:00<?, ?it/s]",
      "application/vnd.jupyter.widget-view+json": {
       "version_major": 2,
       "version_minor": 0,
       "model_id": "a09c3491de014e1295411d1beb31ed77"
      }
     },
     "metadata": {},
     "output_type": "display_data"
    },
    {
     "name": "stderr",
     "output_type": "stream",
     "text": [
      "D:\\workspaces\\General\\venv\\lib\\site-packages\\transformers\\generation\\utils.py:1288: UserWarning: Using `max_length`'s default (20) to control the generation length. This behaviour is deprecated and will be removed from the config in v5 of Transformers -- we recommend using `max_new_tokens` to control the maximum length of the generation.\n",
      "  warnings.warn(\n"
     ]
    },
    {
     "data": {
      "text/plain": "           id    subreddit                author  \\\n0     120ekkv  SFWRedheads              Tana_Lee   \n1     120ekkv  SFWRedheads              Tana_Lee   \n2     12jm6mv  SFWRedheads          Redhotwife88   \n3     12jm6mv  SFWRedheads          Redhotwife88   \n4     12jqjkk  SFWRedheads        crystalcolette   \n...       ...          ...                   ...   \n1856  133y5u6         DLAH        -SirSpankalot-   \n1857  133ykc1         DLAH  Virtual-Pressure-948   \n1858   wrq8jd         DLAH                zUUmee   \n1859   wwp80d         DLAH        -SirSpankalot-   \n1860   zufk0e         DLAH              mikano96   \n\n                                         title  \\\n0                  Have a great weekend boys 😘   \n1                  Have a great weekend boys 😘   \n2            Redhead Mom at 35 years old ! [F]   \n3            Redhead Mom at 35 years old ! [F]   \n4     Red hair, blue eyes and so many freckles   \n...                                        ...   \n1856                               Open buffet   \n1857                          Black Hole Dress   \n1858                           Emma and Olivia   \n1859             Italian sports TV is superior   \n1860                                     Cutie   \n\n                                                caption  \\\n0                                                         \n1                                                         \n2                                                         \n3                                                         \n4                                                         \n...                                                 ...   \n1856  araffes of women sitting on a couch posing for...   \n1857  there is a woman posing in a black dress on th...   \n1858  two women in black dresses posing for a pictur...   \n1859  arafassino sport model in a yellow dress sitti...   \n1860                                                      \n\n                                  hash  \\\n0     36994a3127bac74ec622b4fb6ffef7b1   \n1     36994a3127bac74ec622b4fb6ffef7b1   \n2     6516c5e65d8a7c441dcd10db1cd19155   \n3     6516c5e65d8a7c441dcd10db1cd19155   \n4     114e551778963bf6bb8a21ca8901da0e   \n...                                ...   \n1856  93c9cd072d5d248b9a31b15eeed51530   \n1857  ec259b0d608d0a8d673418879081dd7f   \n1858  996dfcbfa63e4570056b45ff07213cc0   \n1859  543a8e67b9c4e28b4330d4b273b2fe17   \n1860  416bea723ad0bef186cbcef0c4a44082   \n\n                                              permalink  \\\n0     /r/SFWRedheads/comments/120ekkv/have_a_great_w...   \n1     /r/SFWRedheads/comments/120ekkv/have_a_great_w...   \n2     /r/SFWRedheads/comments/12jm6mv/redhead_mom_at...   \n3     /r/SFWRedheads/comments/12jm6mv/redhead_mom_at...   \n4     /r/SFWRedheads/comments/12jqjkk/red_hair_blue_...   \n...                                                 ...   \n1856              /r/DLAH/comments/133y5u6/open_buffet/   \n1857         /r/DLAH/comments/133ykc1/black_hole_dress/   \n1858           /r/DLAH/comments/wrq8jd/emma_and_olivia/   \n1859  /r/DLAH/comments/wwp80d/italian_sports_tv_is_s...   \n1860                     /r/DLAH/comments/zufk0e/cutie/   \n\n                             original_url  \\\n0     https://i.redd.it/8w177b9l1ppa1.jpg   \n1     https://i.redd.it/8w177b9l1ppa1.jpg   \n2         https://i.imgur.com/nWeLBAM.jpg   \n3         https://i.imgur.com/nWeLBAM.jpg   \n4     https://i.redd.it/jcwet8iloita1.jpg   \n...                                   ...   \n1856  https://i.redd.it/j9pvks78o3xa1.jpg   \n1857  https://i.redd.it/l3akos88r3xa1.jpg   \n1858      https://i.imgur.com/vC03BwB.jpg   \n1859  https://i.redd.it/unosrxq63pj91.jpg   \n1860  https://i.redd.it/ry23hojujx7a1.jpg   \n\n                                image_name  \\\n0     36994a3127bac74ec622b4fb6ffef7b1.jpg   \n1     36994a3127bac74ec622b4fb6ffef7b1.jpg   \n2     6516c5e65d8a7c441dcd10db1cd19155.jpg   \n3     6516c5e65d8a7c441dcd10db1cd19155.jpg   \n4     114e551778963bf6bb8a21ca8901da0e.jpg   \n...                                    ...   \n1856  93c9cd072d5d248b9a31b15eeed51530.jpg   \n1857  ec259b0d608d0a8d673418879081dd7f.jpg   \n1858  996dfcbfa63e4570056b45ff07213cc0.jpg   \n1859  543a8e67b9c4e28b4330d4b273b2fe17.jpg   \n1860  416bea723ad0bef186cbcef0c4a44082.jpg   \n\n                                                   path  model  exists  \\\n0     D:\\data\\images\\SFWRedheads\\36994a3127bac74ec62...    NaN   False   \n1     D:\\data\\images\\SFWRedheads\\36994a3127bac74ec62...    NaN   False   \n2     D:\\data\\images\\SFWRedheads\\6516c5e65d8a7c441dc...    NaN   False   \n3     D:\\data\\images\\SFWRedheads\\6516c5e65d8a7c441dc...    NaN   False   \n4     D:\\data\\images\\SFWRedheads\\114e551778963bf6bb8...    NaN   False   \n...                                                 ...    ...     ...   \n1856  D:\\data\\images\\DLAH\\93c9cd072d5d248b9a31b15eee...    NaN    True   \n1857  D:\\data\\images\\DLAH\\ec259b0d608d0a8d6734188790...    NaN    True   \n1858  D:\\data\\images\\DLAH\\996dfcbfa63e4570056b45ff07...    NaN    True   \n1859  D:\\data\\images\\DLAH\\543a8e67b9c4e28b4330d4b273...    NaN    True   \n1860  D:\\data\\images\\DLAH\\416bea723ad0bef186cbcef0c4...    NaN   False   \n\n     curated  accept  tags  \n0      False     NaN   NaN  \n1      False     NaN   NaN  \n2      False     NaN   NaN  \n3      False     NaN   NaN  \n4      False     NaN   NaN  \n...      ...     ...   ...  \n1856   False     NaN   NaN  \n1857   False     NaN   NaN  \n1858   False     NaN   NaN  \n1859   False     NaN   NaN  \n1860   False     NaN   NaN  \n\n[1861 rows x 15 columns]",
      "text/html": "<div>\n<style scoped>\n    .dataframe tbody tr th:only-of-type {\n        vertical-align: middle;\n    }\n\n    .dataframe tbody tr th {\n        vertical-align: top;\n    }\n\n    .dataframe thead th {\n        text-align: right;\n    }\n</style>\n<table border=\"1\" class=\"dataframe\">\n  <thead>\n    <tr style=\"text-align: right;\">\n      <th></th>\n      <th>id</th>\n      <th>subreddit</th>\n      <th>author</th>\n      <th>title</th>\n      <th>caption</th>\n      <th>hash</th>\n      <th>permalink</th>\n      <th>original_url</th>\n      <th>image_name</th>\n      <th>path</th>\n      <th>model</th>\n      <th>exists</th>\n      <th>curated</th>\n      <th>accept</th>\n      <th>tags</th>\n    </tr>\n  </thead>\n  <tbody>\n    <tr>\n      <th>0</th>\n      <td>120ekkv</td>\n      <td>SFWRedheads</td>\n      <td>Tana_Lee</td>\n      <td>Have a great weekend boys 😘</td>\n      <td></td>\n      <td>36994a3127bac74ec622b4fb6ffef7b1</td>\n      <td>/r/SFWRedheads/comments/120ekkv/have_a_great_w...</td>\n      <td>https://i.redd.it/8w177b9l1ppa1.jpg</td>\n      <td>36994a3127bac74ec622b4fb6ffef7b1.jpg</td>\n      <td>D:\\data\\images\\SFWRedheads\\36994a3127bac74ec62...</td>\n      <td>NaN</td>\n      <td>False</td>\n      <td>False</td>\n      <td>NaN</td>\n      <td>NaN</td>\n    </tr>\n    <tr>\n      <th>1</th>\n      <td>120ekkv</td>\n      <td>SFWRedheads</td>\n      <td>Tana_Lee</td>\n      <td>Have a great weekend boys 😘</td>\n      <td></td>\n      <td>36994a3127bac74ec622b4fb6ffef7b1</td>\n      <td>/r/SFWRedheads/comments/120ekkv/have_a_great_w...</td>\n      <td>https://i.redd.it/8w177b9l1ppa1.jpg</td>\n      <td>36994a3127bac74ec622b4fb6ffef7b1.jpg</td>\n      <td>D:\\data\\images\\SFWRedheads\\36994a3127bac74ec62...</td>\n      <td>NaN</td>\n      <td>False</td>\n      <td>False</td>\n      <td>NaN</td>\n      <td>NaN</td>\n    </tr>\n    <tr>\n      <th>2</th>\n      <td>12jm6mv</td>\n      <td>SFWRedheads</td>\n      <td>Redhotwife88</td>\n      <td>Redhead Mom at 35 years old ! [F]</td>\n      <td></td>\n      <td>6516c5e65d8a7c441dcd10db1cd19155</td>\n      <td>/r/SFWRedheads/comments/12jm6mv/redhead_mom_at...</td>\n      <td>https://i.imgur.com/nWeLBAM.jpg</td>\n      <td>6516c5e65d8a7c441dcd10db1cd19155.jpg</td>\n      <td>D:\\data\\images\\SFWRedheads\\6516c5e65d8a7c441dc...</td>\n      <td>NaN</td>\n      <td>False</td>\n      <td>False</td>\n      <td>NaN</td>\n      <td>NaN</td>\n    </tr>\n    <tr>\n      <th>3</th>\n      <td>12jm6mv</td>\n      <td>SFWRedheads</td>\n      <td>Redhotwife88</td>\n      <td>Redhead Mom at 35 years old ! [F]</td>\n      <td></td>\n      <td>6516c5e65d8a7c441dcd10db1cd19155</td>\n      <td>/r/SFWRedheads/comments/12jm6mv/redhead_mom_at...</td>\n      <td>https://i.imgur.com/nWeLBAM.jpg</td>\n      <td>6516c5e65d8a7c441dcd10db1cd19155.jpg</td>\n      <td>D:\\data\\images\\SFWRedheads\\6516c5e65d8a7c441dc...</td>\n      <td>NaN</td>\n      <td>False</td>\n      <td>False</td>\n      <td>NaN</td>\n      <td>NaN</td>\n    </tr>\n    <tr>\n      <th>4</th>\n      <td>12jqjkk</td>\n      <td>SFWRedheads</td>\n      <td>crystalcolette</td>\n      <td>Red hair, blue eyes and so many freckles</td>\n      <td></td>\n      <td>114e551778963bf6bb8a21ca8901da0e</td>\n      <td>/r/SFWRedheads/comments/12jqjkk/red_hair_blue_...</td>\n      <td>https://i.redd.it/jcwet8iloita1.jpg</td>\n      <td>114e551778963bf6bb8a21ca8901da0e.jpg</td>\n      <td>D:\\data\\images\\SFWRedheads\\114e551778963bf6bb8...</td>\n      <td>NaN</td>\n      <td>False</td>\n      <td>False</td>\n      <td>NaN</td>\n      <td>NaN</td>\n    </tr>\n    <tr>\n      <th>...</th>\n      <td>...</td>\n      <td>...</td>\n      <td>...</td>\n      <td>...</td>\n      <td>...</td>\n      <td>...</td>\n      <td>...</td>\n      <td>...</td>\n      <td>...</td>\n      <td>...</td>\n      <td>...</td>\n      <td>...</td>\n      <td>...</td>\n      <td>...</td>\n      <td>...</td>\n    </tr>\n    <tr>\n      <th>1856</th>\n      <td>133y5u6</td>\n      <td>DLAH</td>\n      <td>-SirSpankalot-</td>\n      <td>Open buffet</td>\n      <td>araffes of women sitting on a couch posing for...</td>\n      <td>93c9cd072d5d248b9a31b15eeed51530</td>\n      <td>/r/DLAH/comments/133y5u6/open_buffet/</td>\n      <td>https://i.redd.it/j9pvks78o3xa1.jpg</td>\n      <td>93c9cd072d5d248b9a31b15eeed51530.jpg</td>\n      <td>D:\\data\\images\\DLAH\\93c9cd072d5d248b9a31b15eee...</td>\n      <td>NaN</td>\n      <td>True</td>\n      <td>False</td>\n      <td>NaN</td>\n      <td>NaN</td>\n    </tr>\n    <tr>\n      <th>1857</th>\n      <td>133ykc1</td>\n      <td>DLAH</td>\n      <td>Virtual-Pressure-948</td>\n      <td>Black Hole Dress</td>\n      <td>there is a woman posing in a black dress on th...</td>\n      <td>ec259b0d608d0a8d673418879081dd7f</td>\n      <td>/r/DLAH/comments/133ykc1/black_hole_dress/</td>\n      <td>https://i.redd.it/l3akos88r3xa1.jpg</td>\n      <td>ec259b0d608d0a8d673418879081dd7f.jpg</td>\n      <td>D:\\data\\images\\DLAH\\ec259b0d608d0a8d6734188790...</td>\n      <td>NaN</td>\n      <td>True</td>\n      <td>False</td>\n      <td>NaN</td>\n      <td>NaN</td>\n    </tr>\n    <tr>\n      <th>1858</th>\n      <td>wrq8jd</td>\n      <td>DLAH</td>\n      <td>zUUmee</td>\n      <td>Emma and Olivia</td>\n      <td>two women in black dresses posing for a pictur...</td>\n      <td>996dfcbfa63e4570056b45ff07213cc0</td>\n      <td>/r/DLAH/comments/wrq8jd/emma_and_olivia/</td>\n      <td>https://i.imgur.com/vC03BwB.jpg</td>\n      <td>996dfcbfa63e4570056b45ff07213cc0.jpg</td>\n      <td>D:\\data\\images\\DLAH\\996dfcbfa63e4570056b45ff07...</td>\n      <td>NaN</td>\n      <td>True</td>\n      <td>False</td>\n      <td>NaN</td>\n      <td>NaN</td>\n    </tr>\n    <tr>\n      <th>1859</th>\n      <td>wwp80d</td>\n      <td>DLAH</td>\n      <td>-SirSpankalot-</td>\n      <td>Italian sports TV is superior</td>\n      <td>arafassino sport model in a yellow dress sitti...</td>\n      <td>543a8e67b9c4e28b4330d4b273b2fe17</td>\n      <td>/r/DLAH/comments/wwp80d/italian_sports_tv_is_s...</td>\n      <td>https://i.redd.it/unosrxq63pj91.jpg</td>\n      <td>543a8e67b9c4e28b4330d4b273b2fe17.jpg</td>\n      <td>D:\\data\\images\\DLAH\\543a8e67b9c4e28b4330d4b273...</td>\n      <td>NaN</td>\n      <td>True</td>\n      <td>False</td>\n      <td>NaN</td>\n      <td>NaN</td>\n    </tr>\n    <tr>\n      <th>1860</th>\n      <td>zufk0e</td>\n      <td>DLAH</td>\n      <td>mikano96</td>\n      <td>Cutie</td>\n      <td></td>\n      <td>416bea723ad0bef186cbcef0c4a44082</td>\n      <td>/r/DLAH/comments/zufk0e/cutie/</td>\n      <td>https://i.redd.it/ry23hojujx7a1.jpg</td>\n      <td>416bea723ad0bef186cbcef0c4a44082.jpg</td>\n      <td>D:\\data\\images\\DLAH\\416bea723ad0bef186cbcef0c4...</td>\n      <td>NaN</td>\n      <td>False</td>\n      <td>False</td>\n      <td>NaN</td>\n      <td>NaN</td>\n    </tr>\n  </tbody>\n</table>\n<p>1861 rows × 15 columns</p>\n</div>"
     },
     "metadata": {},
     "output_type": "display_data"
    },
    {
     "name": "stdout",
     "output_type": "stream",
     "text": [
      "CPU times: total: 57min 48s\n",
      "Wall time: 32min 11s\n"
     ]
    }
   ],
   "source": [
    "%%time\n",
    "\n",
    "torch.cuda.empty_cache()\n",
    "new_entries_final = new_entries_1.copy()\n",
    "\n",
    "tqdm.pandas(desc=\"Caption-Image\")\n",
    "with ProgressBar():\n",
    "\tnew_entries_final['caption'] = new_entries_1.progress_apply(lambda x: caption_image(x, [blip_0, blip_1]), axis=1)\n",
    "display(new_entries_final)"
   ],
   "metadata": {
    "collapsed": false,
    "pycharm": {
     "is_executing": true
    },
    "ExecuteTime": {
     "end_time": "2023-04-30T19:45:26.031350200Z",
     "start_time": "2023-04-30T19:13:14.168471200Z"
    }
   }
  },
  {
   "cell_type": "code",
   "execution_count": 19,
   "outputs": [],
   "source": [
    "# extant_data.set_index('id', inplace=True)\n",
    "# extant_data.update(new_entries_final.set_index('id'))\n",
    "# extant_data.reset_index()\n",
    "#\n",
    "# display(extant_data)"
   ],
   "metadata": {
    "collapsed": false,
    "pycharm": {
     "is_executing": true
    },
    "ExecuteTime": {
     "end_time": "2023-04-30T18:39:24.561115200Z",
     "start_time": "2023-04-30T18:39:24.545492500Z"
    }
   }
  },
  {
   "cell_type": "code",
   "execution_count": 32,
   "outputs": [
    {
     "data": {
      "text/plain": "           id    subreddit                author  \\\n0     12yb431  SFWRedheads       i_am_gingerbaby   \n1     12yls95  SFWRedheads       Dasharkiss_real   \n2     131oph5  SFWRedheads         Sister_Moon21   \n3     131p0dq  SFWRedheads      spicyclementine7   \n4     131p0dq  SFWRedheads      spicyclementine7   \n...       ...          ...                   ...   \n1680  133wb8f         DLAH            localchavs   \n1681  133x63h         DLAH  imgonnaplopmypantsss   \n1682  133x85w         DLAH  Virtual-Pressure-948   \n1683  133y5u6         DLAH        -SirSpankalot-   \n1684  133ykc1         DLAH  Virtual-Pressure-948   \n\n                                                  title  \\\n0                                     Curly mood today)   \n1     Be kinder - there is so much evil in the world 💞🙂   \n2        Hope you're having as good a day as I am. f 46   \n3     My face while being given driving directions, ...   \n4     My face while being given driving directions, ...   \n...                                                 ...   \n1680                                               Faye   \n1681                                       a DLAH Queen   \n1682                                           Stunning   \n1683                                        Open buffet   \n1684                                   Black Hole Dress   \n\n                                                caption  \\\n0     there is a woman laying on a couch with a flow...   \n1     there is a woman in a pink top and jeans posin...   \n2      smiling woman in a car with a green floral shirt   \n3     there is a woman that is sitting on a couch wi...   \n4     there is a woman that is sitting on a couch wi...   \n...                                                 ...   \n1680  araffe woman in a blue dress posing in front o...   \n1681  there is a woman sitting on a bench in a room ...   \n1682      araffes in a short dress posing in a bathroom   \n1683  araffes of women sitting on a couch posing for...   \n1684  there is a woman posing in a black dress on th...   \n\n                                  hash  \\\n0     88ed62047340012c3474f6c636767595   \n1     455c7e5adb0fe643bf41d690e2448039   \n2     98a8e21e78b3f3bde87d4c1652c86f23   \n3     bacef07075937c29c66600007c3ffacf   \n4     bacef07075937c29c66600007c3ffacf   \n...                                ...   \n1680  3a7d98cc3b475a9d5c5b71d6106ee8a0   \n1681  6adbe4cc041f1fe67e9284f11372a456   \n1682  9e69b2ee74c33883d4b1b567186731cd   \n1683  93c9cd072d5d248b9a31b15eeed51530   \n1684  ec259b0d608d0a8d673418879081dd7f   \n\n                                              permalink  \\\n0     /r/SFWRedheads/comments/12yb431/curly_mood_today/   \n1     /r/SFWRedheads/comments/12yls95/be_kinder_ther...   \n2     /r/SFWRedheads/comments/131oph5/hope_youre_hav...   \n3     /r/SFWRedheads/comments/131p0dq/my_face_while_...   \n4     /r/SFWRedheads/comments/131p0dq/my_face_while_...   \n...                                                 ...   \n1680                     /r/DLAH/comments/133wb8f/faye/   \n1681             /r/DLAH/comments/133x63h/a_dlah_queen/   \n1682                 /r/DLAH/comments/133x85w/stunning/   \n1683              /r/DLAH/comments/133y5u6/open_buffet/   \n1684         /r/DLAH/comments/133ykc1/black_hole_dress/   \n\n                             original_url  \\\n0     https://i.redd.it/p07hg5rjr0wa1.jpg   \n1         https://i.imgur.com/1082YgL.jpg   \n2     https://i.redd.it/ak79e773hnwa1.jpg   \n3     https://i.redd.it/gjs7tg6sjnwa1.jpg   \n4     https://i.redd.it/gjs7tg6sjnwa1.jpg   \n...                                   ...   \n1680  https://i.redd.it/8jzergxha3xa1.jpg   \n1681      https://i.imgur.com/gwhWE0J.jpg   \n1682  https://i.redd.it/9gr5eh37h3xa1.jpg   \n1683  https://i.redd.it/j9pvks78o3xa1.jpg   \n1684  https://i.redd.it/l3akos88r3xa1.jpg   \n\n                                image_name  \\\n0     88ed62047340012c3474f6c636767595.jpg   \n1     455c7e5adb0fe643bf41d690e2448039.jpg   \n2     98a8e21e78b3f3bde87d4c1652c86f23.jpg   \n3     bacef07075937c29c66600007c3ffacf.jpg   \n4     bacef07075937c29c66600007c3ffacf.jpg   \n...                                    ...   \n1680  3a7d98cc3b475a9d5c5b71d6106ee8a0.jpg   \n1681  6adbe4cc041f1fe67e9284f11372a456.jpg   \n1682  9e69b2ee74c33883d4b1b567186731cd.jpg   \n1683  93c9cd072d5d248b9a31b15eeed51530.jpg   \n1684  ec259b0d608d0a8d673418879081dd7f.jpg   \n\n                                                   path  model exists curated  \\\n0     D:\\data\\images\\SFWRedheads\\88ed62047340012c347...    NaN   True   False   \n1     D:\\data\\images\\SFWRedheads\\455c7e5adb0fe643bf4...    NaN   True   False   \n2     D:\\data\\images\\SFWRedheads\\98a8e21e78b3f3bde87...    NaN   True   False   \n3     D:\\data\\images\\SFWRedheads\\bacef07075937c29c66...    NaN   True   False   \n4     D:\\data\\images\\SFWRedheads\\bacef07075937c29c66...    NaN   True   False   \n...                                                 ...    ...    ...     ...   \n1680  D:\\data\\images\\DLAH\\3a7d98cc3b475a9d5c5b71d610...    NaN   True   False   \n1681  D:\\data\\images\\DLAH\\6adbe4cc041f1fe67e9284f113...    NaN   True   False   \n1682  D:\\data\\images\\DLAH\\9e69b2ee74c33883d4b1b56718...    NaN   True   False   \n1683  D:\\data\\images\\DLAH\\93c9cd072d5d248b9a31b15eee...    NaN   True   False   \n1684  D:\\data\\images\\DLAH\\ec259b0d608d0a8d6734188790...    NaN   True   False   \n\n      accept  tags  \n0        NaN   NaN  \n1        NaN   NaN  \n2        NaN   NaN  \n3        NaN   NaN  \n4        NaN   NaN  \n...      ...   ...  \n1680     NaN   NaN  \n1681     NaN   NaN  \n1682     NaN   NaN  \n1683     NaN   NaN  \n1684     NaN   NaN  \n\n[1685 rows x 15 columns]",
      "text/html": "<div>\n<style scoped>\n    .dataframe tbody tr th:only-of-type {\n        vertical-align: middle;\n    }\n\n    .dataframe tbody tr th {\n        vertical-align: top;\n    }\n\n    .dataframe thead th {\n        text-align: right;\n    }\n</style>\n<table border=\"1\" class=\"dataframe\">\n  <thead>\n    <tr style=\"text-align: right;\">\n      <th></th>\n      <th>id</th>\n      <th>subreddit</th>\n      <th>author</th>\n      <th>title</th>\n      <th>caption</th>\n      <th>hash</th>\n      <th>permalink</th>\n      <th>original_url</th>\n      <th>image_name</th>\n      <th>path</th>\n      <th>model</th>\n      <th>exists</th>\n      <th>curated</th>\n      <th>accept</th>\n      <th>tags</th>\n    </tr>\n  </thead>\n  <tbody>\n    <tr>\n      <th>0</th>\n      <td>12yb431</td>\n      <td>SFWRedheads</td>\n      <td>i_am_gingerbaby</td>\n      <td>Curly mood today)</td>\n      <td>there is a woman laying on a couch with a flow...</td>\n      <td>88ed62047340012c3474f6c636767595</td>\n      <td>/r/SFWRedheads/comments/12yb431/curly_mood_today/</td>\n      <td>https://i.redd.it/p07hg5rjr0wa1.jpg</td>\n      <td>88ed62047340012c3474f6c636767595.jpg</td>\n      <td>D:\\data\\images\\SFWRedheads\\88ed62047340012c347...</td>\n      <td>NaN</td>\n      <td>True</td>\n      <td>False</td>\n      <td>NaN</td>\n      <td>NaN</td>\n    </tr>\n    <tr>\n      <th>1</th>\n      <td>12yls95</td>\n      <td>SFWRedheads</td>\n      <td>Dasharkiss_real</td>\n      <td>Be kinder - there is so much evil in the world 💞🙂</td>\n      <td>there is a woman in a pink top and jeans posin...</td>\n      <td>455c7e5adb0fe643bf41d690e2448039</td>\n      <td>/r/SFWRedheads/comments/12yls95/be_kinder_ther...</td>\n      <td>https://i.imgur.com/1082YgL.jpg</td>\n      <td>455c7e5adb0fe643bf41d690e2448039.jpg</td>\n      <td>D:\\data\\images\\SFWRedheads\\455c7e5adb0fe643bf4...</td>\n      <td>NaN</td>\n      <td>True</td>\n      <td>False</td>\n      <td>NaN</td>\n      <td>NaN</td>\n    </tr>\n    <tr>\n      <th>2</th>\n      <td>131oph5</td>\n      <td>SFWRedheads</td>\n      <td>Sister_Moon21</td>\n      <td>Hope you're having as good a day as I am. f 46</td>\n      <td>smiling woman in a car with a green floral shirt</td>\n      <td>98a8e21e78b3f3bde87d4c1652c86f23</td>\n      <td>/r/SFWRedheads/comments/131oph5/hope_youre_hav...</td>\n      <td>https://i.redd.it/ak79e773hnwa1.jpg</td>\n      <td>98a8e21e78b3f3bde87d4c1652c86f23.jpg</td>\n      <td>D:\\data\\images\\SFWRedheads\\98a8e21e78b3f3bde87...</td>\n      <td>NaN</td>\n      <td>True</td>\n      <td>False</td>\n      <td>NaN</td>\n      <td>NaN</td>\n    </tr>\n    <tr>\n      <th>3</th>\n      <td>131p0dq</td>\n      <td>SFWRedheads</td>\n      <td>spicyclementine7</td>\n      <td>My face while being given driving directions, ...</td>\n      <td>there is a woman that is sitting on a couch wi...</td>\n      <td>bacef07075937c29c66600007c3ffacf</td>\n      <td>/r/SFWRedheads/comments/131p0dq/my_face_while_...</td>\n      <td>https://i.redd.it/gjs7tg6sjnwa1.jpg</td>\n      <td>bacef07075937c29c66600007c3ffacf.jpg</td>\n      <td>D:\\data\\images\\SFWRedheads\\bacef07075937c29c66...</td>\n      <td>NaN</td>\n      <td>True</td>\n      <td>False</td>\n      <td>NaN</td>\n      <td>NaN</td>\n    </tr>\n    <tr>\n      <th>4</th>\n      <td>131p0dq</td>\n      <td>SFWRedheads</td>\n      <td>spicyclementine7</td>\n      <td>My face while being given driving directions, ...</td>\n      <td>there is a woman that is sitting on a couch wi...</td>\n      <td>bacef07075937c29c66600007c3ffacf</td>\n      <td>/r/SFWRedheads/comments/131p0dq/my_face_while_...</td>\n      <td>https://i.redd.it/gjs7tg6sjnwa1.jpg</td>\n      <td>bacef07075937c29c66600007c3ffacf.jpg</td>\n      <td>D:\\data\\images\\SFWRedheads\\bacef07075937c29c66...</td>\n      <td>NaN</td>\n      <td>True</td>\n      <td>False</td>\n      <td>NaN</td>\n      <td>NaN</td>\n    </tr>\n    <tr>\n      <th>...</th>\n      <td>...</td>\n      <td>...</td>\n      <td>...</td>\n      <td>...</td>\n      <td>...</td>\n      <td>...</td>\n      <td>...</td>\n      <td>...</td>\n      <td>...</td>\n      <td>...</td>\n      <td>...</td>\n      <td>...</td>\n      <td>...</td>\n      <td>...</td>\n      <td>...</td>\n    </tr>\n    <tr>\n      <th>1680</th>\n      <td>133wb8f</td>\n      <td>DLAH</td>\n      <td>localchavs</td>\n      <td>Faye</td>\n      <td>araffe woman in a blue dress posing in front o...</td>\n      <td>3a7d98cc3b475a9d5c5b71d6106ee8a0</td>\n      <td>/r/DLAH/comments/133wb8f/faye/</td>\n      <td>https://i.redd.it/8jzergxha3xa1.jpg</td>\n      <td>3a7d98cc3b475a9d5c5b71d6106ee8a0.jpg</td>\n      <td>D:\\data\\images\\DLAH\\3a7d98cc3b475a9d5c5b71d610...</td>\n      <td>NaN</td>\n      <td>True</td>\n      <td>False</td>\n      <td>NaN</td>\n      <td>NaN</td>\n    </tr>\n    <tr>\n      <th>1681</th>\n      <td>133x63h</td>\n      <td>DLAH</td>\n      <td>imgonnaplopmypantsss</td>\n      <td>a DLAH Queen</td>\n      <td>there is a woman sitting on a bench in a room ...</td>\n      <td>6adbe4cc041f1fe67e9284f11372a456</td>\n      <td>/r/DLAH/comments/133x63h/a_dlah_queen/</td>\n      <td>https://i.imgur.com/gwhWE0J.jpg</td>\n      <td>6adbe4cc041f1fe67e9284f11372a456.jpg</td>\n      <td>D:\\data\\images\\DLAH\\6adbe4cc041f1fe67e9284f113...</td>\n      <td>NaN</td>\n      <td>True</td>\n      <td>False</td>\n      <td>NaN</td>\n      <td>NaN</td>\n    </tr>\n    <tr>\n      <th>1682</th>\n      <td>133x85w</td>\n      <td>DLAH</td>\n      <td>Virtual-Pressure-948</td>\n      <td>Stunning</td>\n      <td>araffes in a short dress posing in a bathroom</td>\n      <td>9e69b2ee74c33883d4b1b567186731cd</td>\n      <td>/r/DLAH/comments/133x85w/stunning/</td>\n      <td>https://i.redd.it/9gr5eh37h3xa1.jpg</td>\n      <td>9e69b2ee74c33883d4b1b567186731cd.jpg</td>\n      <td>D:\\data\\images\\DLAH\\9e69b2ee74c33883d4b1b56718...</td>\n      <td>NaN</td>\n      <td>True</td>\n      <td>False</td>\n      <td>NaN</td>\n      <td>NaN</td>\n    </tr>\n    <tr>\n      <th>1683</th>\n      <td>133y5u6</td>\n      <td>DLAH</td>\n      <td>-SirSpankalot-</td>\n      <td>Open buffet</td>\n      <td>araffes of women sitting on a couch posing for...</td>\n      <td>93c9cd072d5d248b9a31b15eeed51530</td>\n      <td>/r/DLAH/comments/133y5u6/open_buffet/</td>\n      <td>https://i.redd.it/j9pvks78o3xa1.jpg</td>\n      <td>93c9cd072d5d248b9a31b15eeed51530.jpg</td>\n      <td>D:\\data\\images\\DLAH\\93c9cd072d5d248b9a31b15eee...</td>\n      <td>NaN</td>\n      <td>True</td>\n      <td>False</td>\n      <td>NaN</td>\n      <td>NaN</td>\n    </tr>\n    <tr>\n      <th>1684</th>\n      <td>133ykc1</td>\n      <td>DLAH</td>\n      <td>Virtual-Pressure-948</td>\n      <td>Black Hole Dress</td>\n      <td>there is a woman posing in a black dress on th...</td>\n      <td>ec259b0d608d0a8d673418879081dd7f</td>\n      <td>/r/DLAH/comments/133ykc1/black_hole_dress/</td>\n      <td>https://i.redd.it/l3akos88r3xa1.jpg</td>\n      <td>ec259b0d608d0a8d673418879081dd7f.jpg</td>\n      <td>D:\\data\\images\\DLAH\\ec259b0d608d0a8d6734188790...</td>\n      <td>NaN</td>\n      <td>True</td>\n      <td>False</td>\n      <td>NaN</td>\n      <td>NaN</td>\n    </tr>\n  </tbody>\n</table>\n<p>1685 rows × 15 columns</p>\n</div>"
     },
     "metadata": {},
     "output_type": "display_data"
    },
    {
     "name": "stdout",
     "output_type": "stream",
     "text": [
      "CPU times: total: 31.2 ms\n",
      "Wall time: 31.2 ms\n"
     ]
    }
   ],
   "source": [
    "%%time\n",
    "\n",
    "tqdm.pandas(desc=\"Filtering\")\n",
    "writeable_entries = new_entries_final \\\n",
    "\t.where(~new_entries_final['id'].isin(extant_data['id'])) \\\n",
    "\t.dropna(how='all') \\\n",
    "\t.reset_index() \\\n",
    "\t.drop('index', axis=1)\n",
    "\n",
    "display(writeable_entries)"
   ],
   "metadata": {
    "collapsed": false,
    "pycharm": {
     "is_executing": true
    },
    "ExecuteTime": {
     "end_time": "2023-04-30T19:45:26.234703Z",
     "start_time": "2023-04-30T19:45:26.031350200Z"
    }
   }
  },
  {
   "cell_type": "code",
   "execution_count": 33,
   "outputs": [
    {
     "data": {
      "text/plain": "           id         subreddit                author  \\\n0     128z5ns       celebrities           A-Sexy-Name   \n1     11yk8db  prettyasiangirls          MisoShiru520   \n2     11hfioi     KoreanHotties  Majestic_Painter8660   \n3     1000mjs         spaceporn    MorningStar_imangi   \n4     1000qpd         spaceporn    MorningStar_imangi   \n...       ...               ...                   ...   \n1680  133wb8f              DLAH            localchavs   \n1681  133x63h              DLAH  imgonnaplopmypantsss   \n1682  133x85w              DLAH  Virtual-Pressure-948   \n1683  133y5u6              DLAH        -SirSpankalot-   \n1684  133ykc1              DLAH  Virtual-Pressure-948   \n\n                              title  \\\n0                      Rachel Weisz   \n1                           Library   \n2                  Underboob bikini   \n3     Northern Lights above Lofoten   \n4                     Viking Lights   \n...                             ...   \n1680                           Faye   \n1681                   a DLAH Queen   \n1682                       Stunning   \n1683                    Open buffet   \n1684               Black Hole Dress   \n\n                                                caption  \\\n0     cars are parked on the side of the road in the...   \n1     blonde woman with blonde hair and tattoos on h...   \n2     a man with a beard and a beard sitting in fron...   \n3     a view of a view of a large green and purple a...   \n4     a scene of a boat is sitting on the shore of a...   \n...                                                 ...   \n1680  araffe woman in a blue dress posing in front o...   \n1681  there is a woman sitting on a bench in a room ...   \n1682      araffes in a short dress posing in a bathroom   \n1683  araffes of women sitting on a couch posing for...   \n1684  there is a woman posing in a black dress on th...   \n\n                                  hash  \\\n0     f09b1c0c5dea50c934081a04c83d4d33   \n1     9d5b7331b941ecf3fdbc8ad322303825   \n2     a154a56b1b87cf3a0bc93600c86e4585   \n3     2c39ce1290fba541abd0b004b09da6b2   \n4     0f72de47c69ff50eca5fa3990215f4ac   \n...                                ...   \n1680  3a7d98cc3b475a9d5c5b71d6106ee8a0   \n1681  6adbe4cc041f1fe67e9284f11372a456   \n1682  9e69b2ee74c33883d4b1b567186731cd   \n1683  93c9cd072d5d248b9a31b15eeed51530   \n1684  ec259b0d608d0a8d673418879081dd7f   \n\n                                              permalink  \\\n0         /r/celebrities/comments/128z5ns/rachel_weisz/   \n1         /r/prettyasiangirls/comments/11yk8db/library/   \n2     /r/KoreanHotties/comments/11hfioi/underboob_bi...   \n3     /r/spaceporn/comments/1000mjs/northern_lights_...   \n4          /r/spaceporn/comments/1000qpd/viking_lights/   \n...                                                 ...   \n1680                     /r/DLAH/comments/133wb8f/faye/   \n1681             /r/DLAH/comments/133x63h/a_dlah_queen/   \n1682                 /r/DLAH/comments/133x85w/stunning/   \n1683              /r/DLAH/comments/133y5u6/open_buffet/   \n1684         /r/DLAH/comments/133ykc1/black_hole_dress/   \n\n                             original_url  \\\n0     https://i.redd.it/nv80afddacra1.jpg   \n1     https://i.redd.it/ht4d2wuusapa1.jpg   \n2     https://i.redd.it/cimr17q84jla1.jpg   \n3     https://i.redd.it/7s5aafaqkb9a1.jpg   \n4     https://i.redd.it/abojw7lqlb9a1.jpg   \n...                                   ...   \n1680  https://i.redd.it/8jzergxha3xa1.jpg   \n1681      https://i.imgur.com/gwhWE0J.jpg   \n1682  https://i.redd.it/9gr5eh37h3xa1.jpg   \n1683  https://i.redd.it/j9pvks78o3xa1.jpg   \n1684  https://i.redd.it/l3akos88r3xa1.jpg   \n\n                                image_name  \\\n0     f09b1c0c5dea50c934081a04c83d4d33.jpg   \n1     9d5b7331b941ecf3fdbc8ad322303825.jpg   \n2     a154a56b1b87cf3a0bc93600c86e4585.jpg   \n3                        7s5aafaqkb9a1.jpg   \n4                        abojw7lqlb9a1.jpg   \n...                                    ...   \n1680  3a7d98cc3b475a9d5c5b71d6106ee8a0.jpg   \n1681  6adbe4cc041f1fe67e9284f11372a456.jpg   \n1682  9e69b2ee74c33883d4b1b567186731cd.jpg   \n1683  93c9cd072d5d248b9a31b15eeed51530.jpg   \n1684  ec259b0d608d0a8d673418879081dd7f.jpg   \n\n                                                   path model exists curated  \\\n0     D:\\data\\images\\celebrities\\f09b1c0c5dea50c9340...  None   True   False   \n1     D:\\data\\images\\prettyasiangirls\\9d5b7331b941ec...  None   True   False   \n2                              D:\\ImageDoesNotExist.png  None  False   False   \n3            D:\\data\\images\\spaceporn\\7s5aafaqkb9a1.jpg  None   True   False   \n4            D:\\data\\images\\spaceporn\\abojw7lqlb9a1.jpg  None   True   False   \n...                                                 ...   ...    ...     ...   \n1680  D:\\data\\images\\DLAH\\3a7d98cc3b475a9d5c5b71d610...   NaN   True   False   \n1681  D:\\data\\images\\DLAH\\6adbe4cc041f1fe67e9284f113...   NaN   True   False   \n1682  D:\\data\\images\\DLAH\\9e69b2ee74c33883d4b1b56718...   NaN   True   False   \n1683  D:\\data\\images\\DLAH\\93c9cd072d5d248b9a31b15eee...   NaN   True   False   \n1684  D:\\data\\images\\DLAH\\ec259b0d608d0a8d6734188790...   NaN   True   False   \n\n     accept  tags  \n0      None  None  \n1      None  None  \n2      None  None  \n3      None  None  \n4      None  None  \n...     ...   ...  \n1680    NaN   NaN  \n1681    NaN   NaN  \n1682    NaN   NaN  \n1683    NaN   NaN  \n1684    NaN   NaN  \n\n[43190 rows x 15 columns]",
      "text/html": "<div>\n<style scoped>\n    .dataframe tbody tr th:only-of-type {\n        vertical-align: middle;\n    }\n\n    .dataframe tbody tr th {\n        vertical-align: top;\n    }\n\n    .dataframe thead th {\n        text-align: right;\n    }\n</style>\n<table border=\"1\" class=\"dataframe\">\n  <thead>\n    <tr style=\"text-align: right;\">\n      <th></th>\n      <th>id</th>\n      <th>subreddit</th>\n      <th>author</th>\n      <th>title</th>\n      <th>caption</th>\n      <th>hash</th>\n      <th>permalink</th>\n      <th>original_url</th>\n      <th>image_name</th>\n      <th>path</th>\n      <th>model</th>\n      <th>exists</th>\n      <th>curated</th>\n      <th>accept</th>\n      <th>tags</th>\n    </tr>\n  </thead>\n  <tbody>\n    <tr>\n      <th>0</th>\n      <td>128z5ns</td>\n      <td>celebrities</td>\n      <td>A-Sexy-Name</td>\n      <td>Rachel Weisz</td>\n      <td>cars are parked on the side of the road in the...</td>\n      <td>f09b1c0c5dea50c934081a04c83d4d33</td>\n      <td>/r/celebrities/comments/128z5ns/rachel_weisz/</td>\n      <td>https://i.redd.it/nv80afddacra1.jpg</td>\n      <td>f09b1c0c5dea50c934081a04c83d4d33.jpg</td>\n      <td>D:\\data\\images\\celebrities\\f09b1c0c5dea50c9340...</td>\n      <td>None</td>\n      <td>True</td>\n      <td>False</td>\n      <td>None</td>\n      <td>None</td>\n    </tr>\n    <tr>\n      <th>1</th>\n      <td>11yk8db</td>\n      <td>prettyasiangirls</td>\n      <td>MisoShiru520</td>\n      <td>Library</td>\n      <td>blonde woman with blonde hair and tattoos on h...</td>\n      <td>9d5b7331b941ecf3fdbc8ad322303825</td>\n      <td>/r/prettyasiangirls/comments/11yk8db/library/</td>\n      <td>https://i.redd.it/ht4d2wuusapa1.jpg</td>\n      <td>9d5b7331b941ecf3fdbc8ad322303825.jpg</td>\n      <td>D:\\data\\images\\prettyasiangirls\\9d5b7331b941ec...</td>\n      <td>None</td>\n      <td>True</td>\n      <td>False</td>\n      <td>None</td>\n      <td>None</td>\n    </tr>\n    <tr>\n      <th>2</th>\n      <td>11hfioi</td>\n      <td>KoreanHotties</td>\n      <td>Majestic_Painter8660</td>\n      <td>Underboob bikini</td>\n      <td>a man with a beard and a beard sitting in fron...</td>\n      <td>a154a56b1b87cf3a0bc93600c86e4585</td>\n      <td>/r/KoreanHotties/comments/11hfioi/underboob_bi...</td>\n      <td>https://i.redd.it/cimr17q84jla1.jpg</td>\n      <td>a154a56b1b87cf3a0bc93600c86e4585.jpg</td>\n      <td>D:\\ImageDoesNotExist.png</td>\n      <td>None</td>\n      <td>False</td>\n      <td>False</td>\n      <td>None</td>\n      <td>None</td>\n    </tr>\n    <tr>\n      <th>3</th>\n      <td>1000mjs</td>\n      <td>spaceporn</td>\n      <td>MorningStar_imangi</td>\n      <td>Northern Lights above Lofoten</td>\n      <td>a view of a view of a large green and purple a...</td>\n      <td>2c39ce1290fba541abd0b004b09da6b2</td>\n      <td>/r/spaceporn/comments/1000mjs/northern_lights_...</td>\n      <td>https://i.redd.it/7s5aafaqkb9a1.jpg</td>\n      <td>7s5aafaqkb9a1.jpg</td>\n      <td>D:\\data\\images\\spaceporn\\7s5aafaqkb9a1.jpg</td>\n      <td>None</td>\n      <td>True</td>\n      <td>False</td>\n      <td>None</td>\n      <td>None</td>\n    </tr>\n    <tr>\n      <th>4</th>\n      <td>1000qpd</td>\n      <td>spaceporn</td>\n      <td>MorningStar_imangi</td>\n      <td>Viking Lights</td>\n      <td>a scene of a boat is sitting on the shore of a...</td>\n      <td>0f72de47c69ff50eca5fa3990215f4ac</td>\n      <td>/r/spaceporn/comments/1000qpd/viking_lights/</td>\n      <td>https://i.redd.it/abojw7lqlb9a1.jpg</td>\n      <td>abojw7lqlb9a1.jpg</td>\n      <td>D:\\data\\images\\spaceporn\\abojw7lqlb9a1.jpg</td>\n      <td>None</td>\n      <td>True</td>\n      <td>False</td>\n      <td>None</td>\n      <td>None</td>\n    </tr>\n    <tr>\n      <th>...</th>\n      <td>...</td>\n      <td>...</td>\n      <td>...</td>\n      <td>...</td>\n      <td>...</td>\n      <td>...</td>\n      <td>...</td>\n      <td>...</td>\n      <td>...</td>\n      <td>...</td>\n      <td>...</td>\n      <td>...</td>\n      <td>...</td>\n      <td>...</td>\n      <td>...</td>\n    </tr>\n    <tr>\n      <th>1680</th>\n      <td>133wb8f</td>\n      <td>DLAH</td>\n      <td>localchavs</td>\n      <td>Faye</td>\n      <td>araffe woman in a blue dress posing in front o...</td>\n      <td>3a7d98cc3b475a9d5c5b71d6106ee8a0</td>\n      <td>/r/DLAH/comments/133wb8f/faye/</td>\n      <td>https://i.redd.it/8jzergxha3xa1.jpg</td>\n      <td>3a7d98cc3b475a9d5c5b71d6106ee8a0.jpg</td>\n      <td>D:\\data\\images\\DLAH\\3a7d98cc3b475a9d5c5b71d610...</td>\n      <td>NaN</td>\n      <td>True</td>\n      <td>False</td>\n      <td>NaN</td>\n      <td>NaN</td>\n    </tr>\n    <tr>\n      <th>1681</th>\n      <td>133x63h</td>\n      <td>DLAH</td>\n      <td>imgonnaplopmypantsss</td>\n      <td>a DLAH Queen</td>\n      <td>there is a woman sitting on a bench in a room ...</td>\n      <td>6adbe4cc041f1fe67e9284f11372a456</td>\n      <td>/r/DLAH/comments/133x63h/a_dlah_queen/</td>\n      <td>https://i.imgur.com/gwhWE0J.jpg</td>\n      <td>6adbe4cc041f1fe67e9284f11372a456.jpg</td>\n      <td>D:\\data\\images\\DLAH\\6adbe4cc041f1fe67e9284f113...</td>\n      <td>NaN</td>\n      <td>True</td>\n      <td>False</td>\n      <td>NaN</td>\n      <td>NaN</td>\n    </tr>\n    <tr>\n      <th>1682</th>\n      <td>133x85w</td>\n      <td>DLAH</td>\n      <td>Virtual-Pressure-948</td>\n      <td>Stunning</td>\n      <td>araffes in a short dress posing in a bathroom</td>\n      <td>9e69b2ee74c33883d4b1b567186731cd</td>\n      <td>/r/DLAH/comments/133x85w/stunning/</td>\n      <td>https://i.redd.it/9gr5eh37h3xa1.jpg</td>\n      <td>9e69b2ee74c33883d4b1b567186731cd.jpg</td>\n      <td>D:\\data\\images\\DLAH\\9e69b2ee74c33883d4b1b56718...</td>\n      <td>NaN</td>\n      <td>True</td>\n      <td>False</td>\n      <td>NaN</td>\n      <td>NaN</td>\n    </tr>\n    <tr>\n      <th>1683</th>\n      <td>133y5u6</td>\n      <td>DLAH</td>\n      <td>-SirSpankalot-</td>\n      <td>Open buffet</td>\n      <td>araffes of women sitting on a couch posing for...</td>\n      <td>93c9cd072d5d248b9a31b15eeed51530</td>\n      <td>/r/DLAH/comments/133y5u6/open_buffet/</td>\n      <td>https://i.redd.it/j9pvks78o3xa1.jpg</td>\n      <td>93c9cd072d5d248b9a31b15eeed51530.jpg</td>\n      <td>D:\\data\\images\\DLAH\\93c9cd072d5d248b9a31b15eee...</td>\n      <td>NaN</td>\n      <td>True</td>\n      <td>False</td>\n      <td>NaN</td>\n      <td>NaN</td>\n    </tr>\n    <tr>\n      <th>1684</th>\n      <td>133ykc1</td>\n      <td>DLAH</td>\n      <td>Virtual-Pressure-948</td>\n      <td>Black Hole Dress</td>\n      <td>there is a woman posing in a black dress on th...</td>\n      <td>ec259b0d608d0a8d673418879081dd7f</td>\n      <td>/r/DLAH/comments/133ykc1/black_hole_dress/</td>\n      <td>https://i.redd.it/l3akos88r3xa1.jpg</td>\n      <td>ec259b0d608d0a8d673418879081dd7f.jpg</td>\n      <td>D:\\data\\images\\DLAH\\ec259b0d608d0a8d6734188790...</td>\n      <td>NaN</td>\n      <td>True</td>\n      <td>False</td>\n      <td>NaN</td>\n      <td>NaN</td>\n    </tr>\n  </tbody>\n</table>\n<p>43190 rows × 15 columns</p>\n</div>"
     },
     "metadata": {},
     "output_type": "display_data"
    },
    {
     "name": "stdout",
     "output_type": "stream",
     "text": [
      "CPU times: total: 62.5 ms\n",
      "Wall time: 47.1 ms\n"
     ]
    }
   ],
   "source": [
    "%%time\n",
    "\n",
    "combined_result = pd.concat([extant_data, writeable_entries])\n",
    "\n",
    "display(combined_result)"
   ],
   "metadata": {
    "collapsed": false,
    "pycharm": {
     "is_executing": true
    },
    "ExecuteTime": {
     "end_time": "2023-04-30T19:45:26.313219Z",
     "start_time": "2023-04-30T19:45:26.078256200Z"
    }
   }
  },
  {
   "cell_type": "code",
   "execution_count": 34,
   "outputs": [
    {
     "name": "stdout",
     "output_type": "stream",
     "text": [
      "CPU times: total: 875 ms\n",
      "Wall time: 8.02 s\n"
     ]
    },
    {
     "data": {
      "text/plain": "[None]"
     },
     "execution_count": 34,
     "metadata": {},
     "output_type": "execute_result"
    }
   ],
   "source": [
    "%%time\n",
    "\n",
    "combined_result.reindex()\n",
    "combined_result.to_csv('processed_raw_data.csv', index=False)\n",
    "f = AzureFileStorageAdapter('data').get_file_storage()\n",
    "f.put('processed_raw_data.csv', 'data/processed_raw_data.csv', overwrite=True)"
   ],
   "metadata": {
    "collapsed": false,
    "pycharm": {
     "is_executing": true
    },
    "ExecuteTime": {
     "end_time": "2023-04-30T19:45:34.178051800Z",
     "start_time": "2023-04-30T19:45:26.140951Z"
    }
   }
  },
  {
   "cell_type": "code",
   "execution_count": null,
   "outputs": [
    {
     "data": {
      "text/plain": "",
      "text/html": "<pre style=\"white-space:pre;overflow-x:auto;line-height:normal;font-family:Menlo,'DejaVu Sans Mono',consolas,'Courier New',monospace\"></pre>\n"
     },
     "metadata": {},
     "output_type": "display_data"
    },
    {
     "data": {
      "text/plain": "",
      "text/html": "<pre style=\"white-space:pre;overflow-x:auto;line-height:normal;font-family:Menlo,'DejaVu Sans Mono',consolas,'Courier New',monospace\"></pre>\n"
     },
     "metadata": {},
     "output_type": "display_data"
    },
    {
     "data": {
      "text/plain": "",
      "text/html": "<pre style=\"white-space:pre;overflow-x:auto;line-height:normal;font-family:Menlo,'DejaVu Sans Mono',consolas,'Courier New',monospace\"></pre>\n"
     },
     "metadata": {},
     "output_type": "display_data"
    },
    {
     "data": {
      "text/plain": "",
      "text/html": "<pre style=\"white-space:pre;overflow-x:auto;line-height:normal;font-family:Menlo,'DejaVu Sans Mono',consolas,'Courier New',monospace\"></pre>\n"
     },
     "metadata": {},
     "output_type": "display_data"
    }
   ],
   "source": [
    "%%time\n",
    "\n",
    "final = pd.read_csv(f.open('data/processed_raw_data.csv'))\n",
    "final.to_parquet(\"data/processed_raw_data.parquet\", engine='pyarrow', filesystem=file_system, schema=schema)"
   ],
   "metadata": {
    "collapsed": false,
    "pycharm": {
     "is_executing": true
    },
    "is_executing": true,
    "ExecuteTime": {
     "start_time": "2023-04-30T19:45:34.178051800Z"
    }
   }
  },
  {
   "cell_type": "code",
   "execution_count": 36,
   "outputs": [
    {
     "data": {
      "text/plain": "            id         subreddit                author  \\\n0      128z5ns       celebrities           A-Sexy-Name   \n1      11yk8db  prettyasiangirls          MisoShiru520   \n2      11hfioi     KoreanHotties  Majestic_Painter8660   \n3      1000mjs         spaceporn    MorningStar_imangi   \n4      1000qpd         spaceporn    MorningStar_imangi   \n...        ...               ...                   ...   \n41500  131dso7              DLAH        Wallydinger123   \n41501  131eznp              DLAH          Long_dong111   \n41502  131g3am              DLAH       ThrownAwayMiles   \n41503  131jvcx              DLAH              robok212   \n41504  131n2by              DLAH  Dependent_Secret9424   \n\n                               title  \\\n0                       Rachel Weisz   \n1                            Library   \n2                   Underboob bikini   \n3      Northern Lights above Lofoten   \n4                      Viking Lights   \n...                              ...   \n41500                    Happy B Day   \n41501                        Perfect   \n41502             DLAH left or right   \n41503                 Good morning 😍   \n41504           Perfection (Sisters)   \n\n                                                 caption  \\\n0      cars are parked on the side of the road in the...   \n1      blonde woman with blonde hair and tattoos on h...   \n2      a man with a beard and a beard sitting in fron...   \n3      a view of a view of a large green and purple a...   \n4      a scene of a boat is sitting on the shore of a...   \n...                                                  ...   \n41500  there are three women posing for a picture in ...   \n41501  araffe woman in a white dress sitting on a pur...   \n41502  two women in short dresses posing for a pictur...   \n41503      araffe in a pink dress posing on a white wall   \n41504  two women in shorts and sandals taking a selfi...   \n\n                                   hash  \\\n0      f09b1c0c5dea50c934081a04c83d4d33   \n1      9d5b7331b941ecf3fdbc8ad322303825   \n2      a154a56b1b87cf3a0bc93600c86e4585   \n3      2c39ce1290fba541abd0b004b09da6b2   \n4      0f72de47c69ff50eca5fa3990215f4ac   \n...                                 ...   \n41500  ebb4b4a88dc79e2f2f57b10f32bf03c0   \n41501  5c944c6d62b1ae182c5a6a40c64195f4   \n41502  ab1f8fc33c85f4cfce12c810cf22229e   \n41503  01f5058855526ef25888cff88065db4c   \n41504  b162dd1999dbf9ea3c7adccd34624a46   \n\n                                               permalink  \\\n0          /r/celebrities/comments/128z5ns/rachel_weisz/   \n1          /r/prettyasiangirls/comments/11yk8db/library/   \n2      /r/KoreanHotties/comments/11hfioi/underboob_bi...   \n3      /r/spaceporn/comments/1000mjs/northern_lights_...   \n4           /r/spaceporn/comments/1000qpd/viking_lights/   \n...                                                  ...   \n41500              /r/DLAH/comments/131dso7/happy_b_day/   \n41501                  /r/DLAH/comments/131eznp/perfect/   \n41502       /r/DLAH/comments/131g3am/dlah_left_or_right/   \n41503             /r/DLAH/comments/131jvcx/good_morning/   \n41504       /r/DLAH/comments/131n2by/perfection_sisters/   \n\n                              original_url  \\\n0      https://i.redd.it/nv80afddacra1.jpg   \n1      https://i.redd.it/ht4d2wuusapa1.jpg   \n2      https://i.redd.it/cimr17q84jla1.jpg   \n3      https://i.redd.it/7s5aafaqkb9a1.jpg   \n4      https://i.redd.it/abojw7lqlb9a1.jpg   \n...                                    ...   \n41500  https://i.redd.it/36gurz533jwa1.jpg   \n41501  https://i.redd.it/dnbbx4zucjwa1.jpg   \n41502  https://i.redd.it/zpp70oor3lwa1.jpg   \n41503  https://i.redd.it/ozmbfhjv3mwa1.jpg   \n41504  https://i.redd.it/pfg1u0aw1nwa1.jpg   \n\n                                 image_name  \\\n0      f09b1c0c5dea50c934081a04c83d4d33.jpg   \n1      9d5b7331b941ecf3fdbc8ad322303825.jpg   \n2      a154a56b1b87cf3a0bc93600c86e4585.jpg   \n3                         7s5aafaqkb9a1.jpg   \n4                         abojw7lqlb9a1.jpg   \n...                                     ...   \n41500  ebb4b4a88dc79e2f2f57b10f32bf03c0.jpg   \n41501  5c944c6d62b1ae182c5a6a40c64195f4.jpg   \n41502  ab1f8fc33c85f4cfce12c810cf22229e.jpg   \n41503  01f5058855526ef25888cff88065db4c.jpg   \n41504  b162dd1999dbf9ea3c7adccd34624a46.jpg   \n\n                                                    path  \\\n0      D:\\data\\images\\celebrities\\f09b1c0c5dea50c9340...   \n1      D:\\data\\images\\prettyasiangirls\\9d5b7331b941ec...   \n2                               D:\\ImageDoesNotExist.png   \n3             D:\\data\\images\\spaceporn\\7s5aafaqkb9a1.jpg   \n4             D:\\data\\images\\spaceporn\\abojw7lqlb9a1.jpg   \n...                                                  ...   \n41500  D:\\data\\images\\DLAH\\ebb4b4a88dc79e2f2f57b10f32...   \n41501  D:\\data\\images\\DLAH\\5c944c6d62b1ae182c5a6a40c6...   \n41502  D:\\data\\images\\DLAH\\ab1f8fc33c85f4cfce12c810cf...   \n41503  D:\\data\\images\\DLAH\\01f5058855526ef25888cff880...   \n41504  D:\\data\\images\\DLAH\\b162dd1999dbf9ea3c7adccd34...   \n\n                                          thumbnail_path  exists  curated  \n0      D:\\data\\images\\celebrities\\thumbnail\\f09b1c0c5...    True    False  \n1      D:\\data\\images\\prettyasiangirls\\thumbnail\\9d5b...    True    False  \n2      D:\\data\\images\\KoreanHotties\\thumbnail\\a154a56...   False    False  \n3      /data/images/spaceporn/thumbnail/7s5aafaqkb9a1...    True    False  \n4      /data/images/spaceporn/thumbnail/abojw7lqlb9a1...    True    False  \n...                                                  ...     ...      ...  \n41500                                               None    True    False  \n41501                                               None    True    False  \n41502                                               None    True    False  \n41503                                               None    True    False  \n41504                                               None    True    False  \n\n[41505 rows x 13 columns]",
      "text/html": "<div>\n<style scoped>\n    .dataframe tbody tr th:only-of-type {\n        vertical-align: middle;\n    }\n\n    .dataframe tbody tr th {\n        vertical-align: top;\n    }\n\n    .dataframe thead th {\n        text-align: right;\n    }\n</style>\n<table border=\"1\" class=\"dataframe\">\n  <thead>\n    <tr style=\"text-align: right;\">\n      <th></th>\n      <th>id</th>\n      <th>subreddit</th>\n      <th>author</th>\n      <th>title</th>\n      <th>caption</th>\n      <th>hash</th>\n      <th>permalink</th>\n      <th>original_url</th>\n      <th>image_name</th>\n      <th>path</th>\n      <th>thumbnail_path</th>\n      <th>exists</th>\n      <th>curated</th>\n    </tr>\n  </thead>\n  <tbody>\n    <tr>\n      <th>0</th>\n      <td>128z5ns</td>\n      <td>celebrities</td>\n      <td>A-Sexy-Name</td>\n      <td>Rachel Weisz</td>\n      <td>cars are parked on the side of the road in the...</td>\n      <td>f09b1c0c5dea50c934081a04c83d4d33</td>\n      <td>/r/celebrities/comments/128z5ns/rachel_weisz/</td>\n      <td>https://i.redd.it/nv80afddacra1.jpg</td>\n      <td>f09b1c0c5dea50c934081a04c83d4d33.jpg</td>\n      <td>D:\\data\\images\\celebrities\\f09b1c0c5dea50c9340...</td>\n      <td>D:\\data\\images\\celebrities\\thumbnail\\f09b1c0c5...</td>\n      <td>True</td>\n      <td>False</td>\n    </tr>\n    <tr>\n      <th>1</th>\n      <td>11yk8db</td>\n      <td>prettyasiangirls</td>\n      <td>MisoShiru520</td>\n      <td>Library</td>\n      <td>blonde woman with blonde hair and tattoos on h...</td>\n      <td>9d5b7331b941ecf3fdbc8ad322303825</td>\n      <td>/r/prettyasiangirls/comments/11yk8db/library/</td>\n      <td>https://i.redd.it/ht4d2wuusapa1.jpg</td>\n      <td>9d5b7331b941ecf3fdbc8ad322303825.jpg</td>\n      <td>D:\\data\\images\\prettyasiangirls\\9d5b7331b941ec...</td>\n      <td>D:\\data\\images\\prettyasiangirls\\thumbnail\\9d5b...</td>\n      <td>True</td>\n      <td>False</td>\n    </tr>\n    <tr>\n      <th>2</th>\n      <td>11hfioi</td>\n      <td>KoreanHotties</td>\n      <td>Majestic_Painter8660</td>\n      <td>Underboob bikini</td>\n      <td>a man with a beard and a beard sitting in fron...</td>\n      <td>a154a56b1b87cf3a0bc93600c86e4585</td>\n      <td>/r/KoreanHotties/comments/11hfioi/underboob_bi...</td>\n      <td>https://i.redd.it/cimr17q84jla1.jpg</td>\n      <td>a154a56b1b87cf3a0bc93600c86e4585.jpg</td>\n      <td>D:\\ImageDoesNotExist.png</td>\n      <td>D:\\data\\images\\KoreanHotties\\thumbnail\\a154a56...</td>\n      <td>False</td>\n      <td>False</td>\n    </tr>\n    <tr>\n      <th>3</th>\n      <td>1000mjs</td>\n      <td>spaceporn</td>\n      <td>MorningStar_imangi</td>\n      <td>Northern Lights above Lofoten</td>\n      <td>a view of a view of a large green and purple a...</td>\n      <td>2c39ce1290fba541abd0b004b09da6b2</td>\n      <td>/r/spaceporn/comments/1000mjs/northern_lights_...</td>\n      <td>https://i.redd.it/7s5aafaqkb9a1.jpg</td>\n      <td>7s5aafaqkb9a1.jpg</td>\n      <td>D:\\data\\images\\spaceporn\\7s5aafaqkb9a1.jpg</td>\n      <td>/data/images/spaceporn/thumbnail/7s5aafaqkb9a1...</td>\n      <td>True</td>\n      <td>False</td>\n    </tr>\n    <tr>\n      <th>4</th>\n      <td>1000qpd</td>\n      <td>spaceporn</td>\n      <td>MorningStar_imangi</td>\n      <td>Viking Lights</td>\n      <td>a scene of a boat is sitting on the shore of a...</td>\n      <td>0f72de47c69ff50eca5fa3990215f4ac</td>\n      <td>/r/spaceporn/comments/1000qpd/viking_lights/</td>\n      <td>https://i.redd.it/abojw7lqlb9a1.jpg</td>\n      <td>abojw7lqlb9a1.jpg</td>\n      <td>D:\\data\\images\\spaceporn\\abojw7lqlb9a1.jpg</td>\n      <td>/data/images/spaceporn/thumbnail/abojw7lqlb9a1...</td>\n      <td>True</td>\n      <td>False</td>\n    </tr>\n    <tr>\n      <th>...</th>\n      <td>...</td>\n      <td>...</td>\n      <td>...</td>\n      <td>...</td>\n      <td>...</td>\n      <td>...</td>\n      <td>...</td>\n      <td>...</td>\n      <td>...</td>\n      <td>...</td>\n      <td>...</td>\n      <td>...</td>\n      <td>...</td>\n    </tr>\n    <tr>\n      <th>41500</th>\n      <td>131dso7</td>\n      <td>DLAH</td>\n      <td>Wallydinger123</td>\n      <td>Happy B Day</td>\n      <td>there are three women posing for a picture in ...</td>\n      <td>ebb4b4a88dc79e2f2f57b10f32bf03c0</td>\n      <td>/r/DLAH/comments/131dso7/happy_b_day/</td>\n      <td>https://i.redd.it/36gurz533jwa1.jpg</td>\n      <td>ebb4b4a88dc79e2f2f57b10f32bf03c0.jpg</td>\n      <td>D:\\data\\images\\DLAH\\ebb4b4a88dc79e2f2f57b10f32...</td>\n      <td>None</td>\n      <td>True</td>\n      <td>False</td>\n    </tr>\n    <tr>\n      <th>41501</th>\n      <td>131eznp</td>\n      <td>DLAH</td>\n      <td>Long_dong111</td>\n      <td>Perfect</td>\n      <td>araffe woman in a white dress sitting on a pur...</td>\n      <td>5c944c6d62b1ae182c5a6a40c64195f4</td>\n      <td>/r/DLAH/comments/131eznp/perfect/</td>\n      <td>https://i.redd.it/dnbbx4zucjwa1.jpg</td>\n      <td>5c944c6d62b1ae182c5a6a40c64195f4.jpg</td>\n      <td>D:\\data\\images\\DLAH\\5c944c6d62b1ae182c5a6a40c6...</td>\n      <td>None</td>\n      <td>True</td>\n      <td>False</td>\n    </tr>\n    <tr>\n      <th>41502</th>\n      <td>131g3am</td>\n      <td>DLAH</td>\n      <td>ThrownAwayMiles</td>\n      <td>DLAH left or right</td>\n      <td>two women in short dresses posing for a pictur...</td>\n      <td>ab1f8fc33c85f4cfce12c810cf22229e</td>\n      <td>/r/DLAH/comments/131g3am/dlah_left_or_right/</td>\n      <td>https://i.redd.it/zpp70oor3lwa1.jpg</td>\n      <td>ab1f8fc33c85f4cfce12c810cf22229e.jpg</td>\n      <td>D:\\data\\images\\DLAH\\ab1f8fc33c85f4cfce12c810cf...</td>\n      <td>None</td>\n      <td>True</td>\n      <td>False</td>\n    </tr>\n    <tr>\n      <th>41503</th>\n      <td>131jvcx</td>\n      <td>DLAH</td>\n      <td>robok212</td>\n      <td>Good morning 😍</td>\n      <td>araffe in a pink dress posing on a white wall</td>\n      <td>01f5058855526ef25888cff88065db4c</td>\n      <td>/r/DLAH/comments/131jvcx/good_morning/</td>\n      <td>https://i.redd.it/ozmbfhjv3mwa1.jpg</td>\n      <td>01f5058855526ef25888cff88065db4c.jpg</td>\n      <td>D:\\data\\images\\DLAH\\01f5058855526ef25888cff880...</td>\n      <td>None</td>\n      <td>True</td>\n      <td>False</td>\n    </tr>\n    <tr>\n      <th>41504</th>\n      <td>131n2by</td>\n      <td>DLAH</td>\n      <td>Dependent_Secret9424</td>\n      <td>Perfection (Sisters)</td>\n      <td>two women in shorts and sandals taking a selfi...</td>\n      <td>b162dd1999dbf9ea3c7adccd34624a46</td>\n      <td>/r/DLAH/comments/131n2by/perfection_sisters/</td>\n      <td>https://i.redd.it/pfg1u0aw1nwa1.jpg</td>\n      <td>b162dd1999dbf9ea3c7adccd34624a46.jpg</td>\n      <td>D:\\data\\images\\DLAH\\b162dd1999dbf9ea3c7adccd34...</td>\n      <td>None</td>\n      <td>True</td>\n      <td>False</td>\n    </tr>\n  </tbody>\n</table>\n<p>41505 rows × 13 columns</p>\n</div>"
     },
     "metadata": {},
     "output_type": "display_data"
    },
    {
     "name": "stdout",
     "output_type": "stream",
     "text": [
      "CPU times: total: 391 ms\n",
      "Wall time: 860 ms\n"
     ]
    }
   ],
   "source": [
    "%%time\n",
    "\n",
    "final = pd.read_parquet(\"data/processed_raw_data.parquet\", engine='pyarrow', filesystem=file_system)\n",
    "display(final)"
   ],
   "metadata": {
    "collapsed": false,
    "pycharm": {
     "is_executing": true
    },
    "ExecuteTime": {
     "end_time": "2023-04-30T20:05:47.972936500Z",
     "start_time": "2023-04-30T20:05:47.096890400Z"
    }
   }
  }
 ],
 "metadata": {
  "kernelspec": {
   "display_name": "Python 3",
   "language": "python",
   "name": "python3"
  },
  "language_info": {
   "codemirror_mode": {
    "name": "ipython",
    "version": 2
   },
   "file_extension": ".py",
   "mimetype": "text/x-python",
   "name": "python",
   "nbconvert_exporter": "python",
   "pygments_lexer": "ipython2",
   "version": "2.7.6"
  }
 },
 "nbformat": 4,
 "nbformat_minor": 0
}
