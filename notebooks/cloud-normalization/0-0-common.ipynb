{
 "cells": [
  {
   "cell_type": "code",
   "execution_count": 1,
   "metadata": {
    "collapsed": true,
    "ExecuteTime": {
     "start_time": "2023-04-15T09:39:40.258744Z",
     "end_time": "2023-04-15T09:39:51.589727Z"
    }
   },
   "outputs": [],
   "source": [
    "import os\n",
    "from io import BytesIO\n",
    "import os.path\n",
    "import dask.dataframe as dd\n",
    "import pandas as pd\n",
    "import praw\n",
    "import requests\n",
    "from PIL import Image\n",
    "from tqdm import tqdm\n",
    "import shutil\n",
    "import os.path\n",
    "import pandas\n",
    "from bigtree import Node, print_tree\n",
    "from tqdm import notebook\n",
    "from shared_code.utility.schemas.pyarrow_schema import schema\n",
    "from shared_code.utility.storage import azure_file_storage\n",
    "\n",
    "from shared_code.utility.storage.azure_file_storage import AzureFileStorageAdapter\n",
    "\n",
    "tqdm.pandas()\n",
    "tqdm.pandas(desc=\"global\")\n",
    "\n",
    "file_system = AzureFileStorageAdapter('data').get_file_storage()"
   ]
  },
  {
   "cell_type": "code",
   "execution_count": null,
   "outputs": [],
   "source": [
    "from typing import Union\n",
    "\n",
    "def update_data_frame_by_id(df: pd.DataFrame, id_value: str, column: str, value: Union[str,bool,int,None,list]) -> pd.DataFrame:\n",
    "\tdf.loc[df['id'] == id_value, column] = value\n",
    "\treturn df"
   ],
   "metadata": {
    "collapsed": false
   }
  },
  {
   "cell_type": "code",
   "execution_count": null,
   "outputs": [],
   "source": [
    "def filter_on_existing_thumbnail_path(x: object) -> bool:\n",
    "\ttry:\n",
    "\t\tpath = x['thumbnail_path']\n",
    "\t\treturn os.path.exists(path)\n",
    "\texcept:\n",
    "\t\treturn False"
   ],
   "metadata": {
    "collapsed": false
   }
  },
  {
   "cell_type": "code",
   "execution_count": null,
   "outputs": [],
   "source": [
    "def get_image_bytes(x: object) -> object:\n",
    "\ttry:\n",
    "\t\tpath = x['path']\n",
    "\t\tdata = open(path, 'rb').read()\n",
    "\t\treturn data\n",
    "\texcept:\n",
    "\t\treturn None"
   ],
   "metadata": {
    "collapsed": false
   }
  },
  {
   "cell_type": "code",
   "execution_count": 1,
   "outputs": [
    {
     "ename": "NameError",
     "evalue": "name 'pd' is not defined",
     "output_type": "error",
     "traceback": [
      "\u001B[1;31m---------------------------------------------------------------------------\u001B[0m",
      "\u001B[1;31mNameError\u001B[0m                                 Traceback (most recent call last)",
      "Cell \u001B[1;32mIn[1], line 19\u001B[0m\n\u001B[0;32m      1\u001B[0m sources \u001B[38;5;241m=\u001B[39m [\n\u001B[0;32m      2\u001B[0m \t{\u001B[38;5;124m\"\u001B[39m\u001B[38;5;124mname\u001B[39m\u001B[38;5;124m\"\u001B[39m: \u001B[38;5;124m\"\u001B[39m\u001B[38;5;124mCityDiffusion\u001B[39m\u001B[38;5;124m\"\u001B[39m, \u001B[38;5;124m\"\u001B[39m\u001B[38;5;124mdata\u001B[39m\u001B[38;5;124m\"\u001B[39m: [\u001B[38;5;124m\"\u001B[39m\u001B[38;5;124mCityPorn\u001B[39m\u001B[38;5;124m\"\u001B[39m]},\n\u001B[0;32m      3\u001B[0m \t{\u001B[38;5;124m\"\u001B[39m\u001B[38;5;124mname\u001B[39m\u001B[38;5;124m\"\u001B[39m: \u001B[38;5;124m\"\u001B[39m\u001B[38;5;124mNatureDiffusion\u001B[39m\u001B[38;5;124m\"\u001B[39m, \u001B[38;5;124m\"\u001B[39m\u001B[38;5;124mdata\u001B[39m\u001B[38;5;124m\"\u001B[39m: [\u001B[38;5;124m\"\u001B[39m\u001B[38;5;124mEarthPorn\u001B[39m\u001B[38;5;124m\"\u001B[39m]},\n\u001B[1;32m   (...)\u001B[0m\n\u001B[0;32m     17\u001B[0m \t{\u001B[38;5;124m\"\u001B[39m\u001B[38;5;124mname\u001B[39m\u001B[38;5;124m\"\u001B[39m: \u001B[38;5;124m\"\u001B[39m\u001B[38;5;124mMildlyPenisDiffusion\u001B[39m\u001B[38;5;124m\"\u001B[39m, \u001B[38;5;124m\"\u001B[39m\u001B[38;5;124mdata\u001B[39m\u001B[38;5;124m\"\u001B[39m: [\u001B[38;5;124m\"\u001B[39m\u001B[38;5;124mmildlypenis\u001B[39m\u001B[38;5;124m\"\u001B[39m]}\n\u001B[0;32m     18\u001B[0m ]\n\u001B[1;32m---> 19\u001B[0m sources_df \u001B[38;5;241m=\u001B[39m \u001B[43mpd\u001B[49m\u001B[38;5;241m.\u001B[39mDataFrame\u001B[38;5;241m.\u001B[39mfrom_records(sources)\n",
      "\u001B[1;31mNameError\u001B[0m: name 'pd' is not defined"
     ]
    }
   ],
   "source": [
    "sources = [\n",
    "\t{\"name\": \"CityDiffusion\", \"data\": [\"CityPorn\"]},\n",
    "\t{\"name\": \"NatureDiffusion\", \"data\": [\"EarthPorn\"]},\n",
    "\t{\"name\": \"CosmicDiffusion\", \"data\": [\"spaceporn\"]},\n",
    "\t{\"name\": \"ITAPDiffusion\", \"data\": [\"itookapicture\"]},\n",
    "\t{\"name\": \"MemeDiffusion\", \"data\": [\"memes\"]},\n",
    "\t{\"name\": \"TTTDiffusion\", \"data\": [\"trippinthroughtime\"]},\n",
    "\t{\"name\": \"WallStreetDiffusion\", \"data\": [\"wallstreetbets\"]},\n",
    "\t{\"name\": \"SexyDiffusion\", \"data\": [ \"selfies\", \"Amicute\", \"amihot\", \"AmIhotAF\", \"HotGirlNextDoor\" ]},\n",
    "\t{\"name\": \"FatSquirrelDiffusion\", \"data\": [\"fatsquirrelhate\"]},\n",
    "\t{\"name\": \"CelebrityDiffusion\", \"data\": [\"celebrities\"]},\n",
    "\t{\"name\": \"OldLadyDiffusion\", \"data\": [\"oldladiesbakingpies\"]},\n",
    "\t{\"name\": \"SWFPetite\", \"data\": [\"sfwpetite\"]},\n",
    "\t{\"name\": \"SFWMilfs\", \"data\": [\"cougars_and_milfs_sfw\"]},\n",
    "\t{\"name\": \"RedHeadDiffusion\", \"data\": [\"SFWRedheads\"]},\n",
    "\t{\"name\": \"NextDoorGirlsDiffusion\", \"data\": [\"SFWNextDoorGirls\"]},\n",
    "\t{\"name\": \"SexyAsianDiffusion\", \"data\": [\"realasians\", \"KoreanHotties\", \"prettyasiangirls\", \"AsianOfficeLady\", \"AsianInvasion\"]},\n",
    "\t{\"name\": \"MildlyPenisDiffusion\", \"data\": [\"mildlypenis\"]},\n",
    "\t{\"name\": \"PrettyGirlDiffusion\", \"data\": [\"sexygirls\", \"PrettyGirls\", \"gentlemanboners\", \"hotofficegirls\", \"tightdresses\", \"DLAH\"]}\n",
    "]\n",
    "sources_df = pd.DataFrame.from_records(sources)"
   ],
   "metadata": {
    "collapsed": false
   }
  },
  {
   "cell_type": "code",
   "execution_count": null,
   "outputs": [],
   "source": [
    "def make_alt_thumbnail(subreddit, md5_sum, image_path) -> str:\n",
    "\tsubreddit = subreddit\n",
    "\tos.makedirs(f\"D:\\\\data\\\\images\\\\{subreddit}\\\\thumbnail\", exist_ok=True)\n",
    "\tout_path = f\"D:\\\\data\\\\images\\\\{subreddit}\\\\thumbnail\\\\{md5_sum}.jpg\"\n",
    "\tmax_size = (512, 512)\n",
    "\n",
    "\tif image_path is None:\n",
    "\t\treturn \"\"\n",
    "\tif md5_sum is None:\n",
    "\t\treturn \"\"\n",
    "\tif subreddit is None:\n",
    "\t\treturn \"\"\n",
    "\n",
    "\tif not os.path.exists(image_path):\n",
    "\t\treturn \"\"\n",
    "\tif os.path.exists(out_path):\n",
    "\t\treturn out_path\n",
    "\n",
    "\ttry:\n",
    "\t\timg = Image.open(image_path)\n",
    "\t\tcopy = img.copy()\n",
    "\t\tcopy.thumbnail(max_size, Image.LANCZOS)\n",
    "\t\tcopy.save(out_path)\n",
    "\t\tcopy.close()\n",
    "\t\timg.close()\n",
    "\t\treturn out_path\n",
    "\n",
    "\texcept Exception as e:\n",
    "\t\tprint(e)\n",
    "\t\treturn \"\""
   ],
   "metadata": {
    "collapsed": false
   }
  },
  {
   "cell_type": "code",
   "execution_count": null,
   "outputs": [],
   "source": [
    "def check_if_exists(thumbnail_path):\n",
    "\tif thumbnail_path is None:\n",
    "\t\treturn False\n",
    "\tif not os.path.exists(thumbnail_path):\n",
    "\t\treturn False\n",
    "\treturn True"
   ],
   "metadata": {
    "collapsed": false
   }
  },
  {
   "cell_type": "code",
   "execution_count": null,
   "outputs": [],
   "source": [
    "def check_if_thumb_and_image_exist(x: object):\n",
    "\ttry:\n",
    "\t\tpath = x['path']\n",
    "\t\tif path is None:\n",
    "\t\t\treturn False\n",
    "\t\tthumb_nail_path = x['thumbnail_path']\n",
    "\t\tif thumb_nail_path is None:\n",
    "\t\t\treturn False\n",
    "\t\tfull_image_exists = os.path.exists(path)\n",
    "\t\tthumbnail_image_exists = os.path.exists(thumb_nail_path)\n",
    "\t\treturn full_image_exists and thumbnail_image_exists\n",
    "\texcept Exception as e:\n",
    "\t\tprint(\"Error In check_if_thumb_and_image_exist: \" + str(e))\n",
    "\t\treturn False"
   ],
   "metadata": {
    "collapsed": false
   }
  },
  {
   "cell_type": "code",
   "execution_count": null,
   "outputs": [],
   "source": [
    "def move_file(x: object) -> str:\n",
    "\ttry:\n",
    "\t\tif not os.path.exists(x['path']):\n",
    "\t\t\treturn \"\"\n",
    "\t\telse:\n",
    "\t\t\tout_path = f\"{x['name']}/{x['image_name']}\"\n",
    "\t\t\tshutil.copy2(x['path'], out_path)\n",
    "\t\t\treturn out_path\n",
    "\texcept Exception as e:\n",
    "\t\tprint(e)\n",
    "\t\treturn \"\""
   ],
   "metadata": {
    "collapsed": false
   }
  },
  {
   "cell_type": "code",
   "execution_count": null,
   "outputs": [],
   "source": [
    "import hashlib\n",
    "def fetch_image(subreddit: str, url: str, known_hash_list: [str]) -> object:\n",
    "\ttry:\n",
    "\t\tresponse = requests.get(url)\n",
    "\t\tmd5_ = hashlib.md5(response.content).hexdigest()\n",
    "\t\tos.makedirs(f\"D:\\\\data\\\\images\\\\{subreddit}\", exist_ok=True)\n",
    "\t\tout_path = f\"D:\\\\data\\\\images\\\\{subreddit}\\\\{md5_}.jpg\"\n",
    "\n",
    "\t\tif os.path.exists(out_path):\n",
    "\t\t\tsmall_out_path = make_thumbnail(subreddit, md5_, out_path)\n",
    "\t\t\treturn out_path, small_out_path, md5_\n",
    "\n",
    "\t\tif md5_ in known_hash_list:\n",
    "\t\t\tsmall_out_path = make_thumbnail(subreddit, md5_, out_path)\n",
    "\t\t\treturn out_path, small_out_path, md5_\n",
    "\n",
    "\t\tif md5_ != \"f17b01901c752c1bb04928131d1661af\" or md5_ != \"d835884373f4d6c8f24742ceabe74946\":\n",
    "\t\t\traw_image = Image.open(BytesIO(response.content))\n",
    "\t\t\traw_image.convert('RGB')\n",
    "\t\t\traw_image.save(out_path)\n",
    "\t\t\traw_image.close()\n",
    "\t\t\tsmall_out_path = make_thumbnail(subreddit, md5_, out_path)\n",
    "\t\t\treturn out_path, small_out_path, md5_\n",
    "\t\telse:\n",
    "\t\t\treturn \"\", \"\", \"\"\n",
    "\n",
    "\texcept Exception as e:\n",
    "\t\tprint(e)\n",
    "\t\treturn \"\", \"\", \"\""
   ],
   "metadata": {
    "collapsed": false
   }
  },
  {
   "cell_type": "code",
   "execution_count": null,
   "outputs": [],
   "source": [
    "def make_thumbnail(subreddit, md5_thing, original_image_path) -> str:\n",
    "\toriginal_image_path = original_image_path\n",
    "\tmd5_ = md5_thing\n",
    "\tsubreddit = subreddit\n",
    "\tos.makedirs(f\"D:\\\\data\\\\images\\\\{subreddit}\\\\thumbnail\", exist_ok=True)\n",
    "\tout_path = f\"D:\\\\data\\\\images\\\\{subreddit}\\\\thumbnail\\\\{md5_}.jpg\"\n",
    "\tif not os.path.exists(original_image_path):\n",
    "\t\treturn \"\"\n",
    "\tif os.path.exists(out_path):\n",
    "\t\treturn out_path\n",
    "\timg = Image.open(original_image_path)\n",
    "\ttry:\n",
    "\t\tcopied_image = img.copy()\n",
    "\t\tresult_copy = copied_image.resize((512, 512))\n",
    "\t\tresult_copy.save(out_path)\n",
    "\t\tresult_copy.close()\n",
    "\t\timg.close()\n",
    "\t\treturn out_path\n",
    "\texcept Exception as e:\n",
    "\t\tprint(e)\n",
    "\t\treturn \"\"\n",
    "\tfinally:\n",
    "\t\timg.close()"
   ],
   "metadata": {
    "collapsed": false
   }
  },
  {
   "cell_type": "code",
   "execution_count": null,
   "outputs": [],
   "source": [
    "def add_source(x: object, source_list) -> str:\n",
    "\tfor source in source_list:\n",
    "\t\tif x['subreddit'] in source['data']:\n",
    "\t\t\treturn source['name']\n",
    "\treturn \"\""
   ],
   "metadata": {
    "collapsed": false
   }
  },
  {
   "cell_type": "code",
   "execution_count": null,
   "outputs": [],
   "source": [
    "from dataclasses import dataclass\n",
    "\n",
    "from typing import List\n",
    "\n",
    "\n",
    "@dataclass\n",
    "class DataSources:\n",
    "\tname: str\n",
    "\tdata: List[str]\n",
    "\n",
    "\t@staticmethod\n",
    "\tdef from_dict(obj: dict) -> 'DataSources':\n",
    "\t\t_name = obj.get(\"name\")\n",
    "\t\t_data = [x for x in obj.get(\"data\")]\n",
    "\t\treturn DataSources(_name, _data)"
   ],
   "metadata": {
    "collapsed": false
   }
  }
 ],
 "metadata": {
  "kernelspec": {
   "display_name": "Python 3",
   "language": "python",
   "name": "python3"
  },
  "language_info": {
   "codemirror_mode": {
    "name": "ipython",
    "version": 2
   },
   "file_extension": ".py",
   "mimetype": "text/x-python",
   "name": "python",
   "nbconvert_exporter": "python",
   "pygments_lexer": "ipython2",
   "version": "2.7.6"
  }
 },
 "nbformat": 4,
 "nbformat_minor": 0
}
