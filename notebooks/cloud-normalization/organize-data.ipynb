{
 "cells": [
  {
   "cell_type": "code",
   "execution_count": 1,
   "metadata": {
    "collapsed": true,
    "ExecuteTime": {
     "end_time": "2023-05-03T15:24:26.464210500Z",
     "start_time": "2023-05-03T15:24:24.721202100Z"
    }
   },
   "outputs": [],
   "source": [
    "import os.path\n",
    "\n",
    "import PIL.Image\n",
    "import pandas as pd\n",
    "\n",
    "%run 0-0-common.ipynb"
   ]
  },
  {
   "cell_type": "code",
   "execution_count": 2,
   "outputs": [
    {
     "name": "stdout",
     "output_type": "stream",
     "text": [
      "CPU times: total: 0 ns\n",
      "Wall time: 0 ns\n"
     ]
    }
   ],
   "source": [
    "%%time\n",
    "\n",
    "from shared_code.utility.storage.azure_file_storage import AzureFileStorageAdapter\n",
    "from adlfs import AzureBlobFileSystem\n",
    "\n",
    "storage_adapter: AzureFileStorageAdapter = AzureFileStorageAdapter('data')\n",
    "\n",
    "file_system: AzureBlobFileSystem = storage_adapter.get_file_storage()\n"
   ],
   "metadata": {
    "collapsed": false,
    "ExecuteTime": {
     "end_time": "2023-05-03T15:24:50.286130300Z",
     "start_time": "2023-05-03T15:24:50.268636700Z"
    }
   }
  },
  {
   "cell_type": "code",
   "execution_count": 3,
   "outputs": [
    {
     "name": "stdout",
     "output_type": "stream",
     "text": [
      "=== RAW DATA ===\n"
     ]
    },
    {
     "data": {
      "text/plain": "(41505, 15)"
     },
     "metadata": {},
     "output_type": "display_data"
    },
    {
     "name": "stdout",
     "output_type": "stream",
     "text": [
      "=== Deduplicated DATA ===\n"
     ]
    },
    {
     "data": {
      "text/plain": "(38051, 15)"
     },
     "metadata": {},
     "output_type": "display_data"
    },
    {
     "data": {
      "text/plain": "            id         subreddit                author   \n0      128z5ns       celebrities           A-Sexy-Name  \\\n1      11yk8db  prettyasiangirls          MisoShiru520   \n2      11hfioi     KoreanHotties  Majestic_Painter8660   \n3      1000mjs         spaceporn    MorningStar_imangi   \n4      1000qpd         spaceporn    MorningStar_imangi   \n...        ...               ...                   ...   \n41500  131dso7              DLAH        Wallydinger123   \n41501  131eznp              DLAH          Long_dong111   \n41502  131g3am              DLAH       ThrownAwayMiles   \n41503  131jvcx              DLAH              robok212   \n41504  131n2by              DLAH  Dependent_Secret9424   \n\n                               title   \n0                       Rachel Weisz  \\\n1                            Library   \n2                   Underboob bikini   \n3      Northern Lights above Lofoten   \n4                      Viking Lights   \n...                              ...   \n41500                    Happy B Day   \n41501                        Perfect   \n41502             DLAH left or right   \n41503                 Good morning 😍   \n41504           Perfection (Sisters)   \n\n                                                 caption   \n0      cars are parked on the side of the road in the...  \\\n1      blonde woman with blonde hair and tattoos on h...   \n2      a man with a beard and a beard sitting in fron...   \n3      a view of a view of a large green and purple a...   \n4      a scene of a boat is sitting on the shore of a...   \n...                                                  ...   \n41500  there are three women posing for a picture in ...   \n41501  araffe woman in a white dress sitting on a pur...   \n41502  two women in short dresses posing for a pictur...   \n41503      araffe in a pink dress posing on a white wall   \n41504  two women in shorts and sandals taking a selfi...   \n\n                                   hash   \n0      f09b1c0c5dea50c934081a04c83d4d33  \\\n1      9d5b7331b941ecf3fdbc8ad322303825   \n2      a154a56b1b87cf3a0bc93600c86e4585   \n3      2c39ce1290fba541abd0b004b09da6b2   \n4      0f72de47c69ff50eca5fa3990215f4ac   \n...                                 ...   \n41500  ebb4b4a88dc79e2f2f57b10f32bf03c0   \n41501  5c944c6d62b1ae182c5a6a40c64195f4   \n41502  ab1f8fc33c85f4cfce12c810cf22229e   \n41503  01f5058855526ef25888cff88065db4c   \n41504  b162dd1999dbf9ea3c7adccd34624a46   \n\n                                               permalink   \n0          /r/celebrities/comments/128z5ns/rachel_weisz/  \\\n1          /r/prettyasiangirls/comments/11yk8db/library/   \n2      /r/KoreanHotties/comments/11hfioi/underboob_bi...   \n3      /r/spaceporn/comments/1000mjs/northern_lights_...   \n4           /r/spaceporn/comments/1000qpd/viking_lights/   \n...                                                  ...   \n41500              /r/DLAH/comments/131dso7/happy_b_day/   \n41501                  /r/DLAH/comments/131eznp/perfect/   \n41502       /r/DLAH/comments/131g3am/dlah_left_or_right/   \n41503             /r/DLAH/comments/131jvcx/good_morning/   \n41504       /r/DLAH/comments/131n2by/perfection_sisters/   \n\n                              original_url   \n0      https://i.redd.it/nv80afddacra1.jpg  \\\n1      https://i.redd.it/ht4d2wuusapa1.jpg   \n2      https://i.redd.it/cimr17q84jla1.jpg   \n3      https://i.redd.it/7s5aafaqkb9a1.jpg   \n4      https://i.redd.it/abojw7lqlb9a1.jpg   \n...                                    ...   \n41500  https://i.redd.it/36gurz533jwa1.jpg   \n41501  https://i.redd.it/dnbbx4zucjwa1.jpg   \n41502  https://i.redd.it/zpp70oor3lwa1.jpg   \n41503  https://i.redd.it/ozmbfhjv3mwa1.jpg   \n41504  https://i.redd.it/pfg1u0aw1nwa1.jpg   \n\n                                 image_name   \n0      f09b1c0c5dea50c934081a04c83d4d33.jpg  \\\n1      9d5b7331b941ecf3fdbc8ad322303825.jpg   \n2      a154a56b1b87cf3a0bc93600c86e4585.jpg   \n3                         7s5aafaqkb9a1.jpg   \n4                         abojw7lqlb9a1.jpg   \n...                                     ...   \n41500  ebb4b4a88dc79e2f2f57b10f32bf03c0.jpg   \n41501  5c944c6d62b1ae182c5a6a40c64195f4.jpg   \n41502  ab1f8fc33c85f4cfce12c810cf22229e.jpg   \n41503  01f5058855526ef25888cff88065db4c.jpg   \n41504  b162dd1999dbf9ea3c7adccd34624a46.jpg   \n\n                                                    path model  exists   \n0      D:\\data\\images\\celebrities\\f09b1c0c5dea50c9340...  None    True  \\\n1      D:\\data\\images\\prettyasiangirls\\9d5b7331b941ec...  None    True   \n2                               D:\\ImageDoesNotExist.png  None   False   \n3             D:\\data\\images\\spaceporn\\7s5aafaqkb9a1.jpg  None    True   \n4             D:\\data\\images\\spaceporn\\abojw7lqlb9a1.jpg  None    True   \n...                                                  ...   ...     ...   \n41500  D:\\data\\images\\DLAH\\ebb4b4a88dc79e2f2f57b10f32...  None    True   \n41501  D:\\data\\images\\DLAH\\5c944c6d62b1ae182c5a6a40c6...  None    True   \n41502  D:\\data\\images\\DLAH\\ab1f8fc33c85f4cfce12c810cf...  None    True   \n41503  D:\\data\\images\\DLAH\\01f5058855526ef25888cff880...  None    True   \n41504  D:\\data\\images\\DLAH\\b162dd1999dbf9ea3c7adccd34...  None    True   \n\n       curated accept  tags  \n0        False   None  None  \n1        False   None  None  \n2        False   None  None  \n3        False   None  None  \n4        False   None  None  \n...        ...    ...   ...  \n41500    False   None  None  \n41501    False   None  None  \n41502    False   None  None  \n41503    False   None  None  \n41504    False   None  None  \n\n[38051 rows x 15 columns]",
      "text/html": "<div>\n<style scoped>\n    .dataframe tbody tr th:only-of-type {\n        vertical-align: middle;\n    }\n\n    .dataframe tbody tr th {\n        vertical-align: top;\n    }\n\n    .dataframe thead th {\n        text-align: right;\n    }\n</style>\n<table border=\"1\" class=\"dataframe\">\n  <thead>\n    <tr style=\"text-align: right;\">\n      <th></th>\n      <th>id</th>\n      <th>subreddit</th>\n      <th>author</th>\n      <th>title</th>\n      <th>caption</th>\n      <th>hash</th>\n      <th>permalink</th>\n      <th>original_url</th>\n      <th>image_name</th>\n      <th>path</th>\n      <th>model</th>\n      <th>exists</th>\n      <th>curated</th>\n      <th>accept</th>\n      <th>tags</th>\n    </tr>\n  </thead>\n  <tbody>\n    <tr>\n      <th>0</th>\n      <td>128z5ns</td>\n      <td>celebrities</td>\n      <td>A-Sexy-Name</td>\n      <td>Rachel Weisz</td>\n      <td>cars are parked on the side of the road in the...</td>\n      <td>f09b1c0c5dea50c934081a04c83d4d33</td>\n      <td>/r/celebrities/comments/128z5ns/rachel_weisz/</td>\n      <td>https://i.redd.it/nv80afddacra1.jpg</td>\n      <td>f09b1c0c5dea50c934081a04c83d4d33.jpg</td>\n      <td>D:\\data\\images\\celebrities\\f09b1c0c5dea50c9340...</td>\n      <td>None</td>\n      <td>True</td>\n      <td>False</td>\n      <td>None</td>\n      <td>None</td>\n    </tr>\n    <tr>\n      <th>1</th>\n      <td>11yk8db</td>\n      <td>prettyasiangirls</td>\n      <td>MisoShiru520</td>\n      <td>Library</td>\n      <td>blonde woman with blonde hair and tattoos on h...</td>\n      <td>9d5b7331b941ecf3fdbc8ad322303825</td>\n      <td>/r/prettyasiangirls/comments/11yk8db/library/</td>\n      <td>https://i.redd.it/ht4d2wuusapa1.jpg</td>\n      <td>9d5b7331b941ecf3fdbc8ad322303825.jpg</td>\n      <td>D:\\data\\images\\prettyasiangirls\\9d5b7331b941ec...</td>\n      <td>None</td>\n      <td>True</td>\n      <td>False</td>\n      <td>None</td>\n      <td>None</td>\n    </tr>\n    <tr>\n      <th>2</th>\n      <td>11hfioi</td>\n      <td>KoreanHotties</td>\n      <td>Majestic_Painter8660</td>\n      <td>Underboob bikini</td>\n      <td>a man with a beard and a beard sitting in fron...</td>\n      <td>a154a56b1b87cf3a0bc93600c86e4585</td>\n      <td>/r/KoreanHotties/comments/11hfioi/underboob_bi...</td>\n      <td>https://i.redd.it/cimr17q84jla1.jpg</td>\n      <td>a154a56b1b87cf3a0bc93600c86e4585.jpg</td>\n      <td>D:\\ImageDoesNotExist.png</td>\n      <td>None</td>\n      <td>False</td>\n      <td>False</td>\n      <td>None</td>\n      <td>None</td>\n    </tr>\n    <tr>\n      <th>3</th>\n      <td>1000mjs</td>\n      <td>spaceporn</td>\n      <td>MorningStar_imangi</td>\n      <td>Northern Lights above Lofoten</td>\n      <td>a view of a view of a large green and purple a...</td>\n      <td>2c39ce1290fba541abd0b004b09da6b2</td>\n      <td>/r/spaceporn/comments/1000mjs/northern_lights_...</td>\n      <td>https://i.redd.it/7s5aafaqkb9a1.jpg</td>\n      <td>7s5aafaqkb9a1.jpg</td>\n      <td>D:\\data\\images\\spaceporn\\7s5aafaqkb9a1.jpg</td>\n      <td>None</td>\n      <td>True</td>\n      <td>False</td>\n      <td>None</td>\n      <td>None</td>\n    </tr>\n    <tr>\n      <th>4</th>\n      <td>1000qpd</td>\n      <td>spaceporn</td>\n      <td>MorningStar_imangi</td>\n      <td>Viking Lights</td>\n      <td>a scene of a boat is sitting on the shore of a...</td>\n      <td>0f72de47c69ff50eca5fa3990215f4ac</td>\n      <td>/r/spaceporn/comments/1000qpd/viking_lights/</td>\n      <td>https://i.redd.it/abojw7lqlb9a1.jpg</td>\n      <td>abojw7lqlb9a1.jpg</td>\n      <td>D:\\data\\images\\spaceporn\\abojw7lqlb9a1.jpg</td>\n      <td>None</td>\n      <td>True</td>\n      <td>False</td>\n      <td>None</td>\n      <td>None</td>\n    </tr>\n    <tr>\n      <th>...</th>\n      <td>...</td>\n      <td>...</td>\n      <td>...</td>\n      <td>...</td>\n      <td>...</td>\n      <td>...</td>\n      <td>...</td>\n      <td>...</td>\n      <td>...</td>\n      <td>...</td>\n      <td>...</td>\n      <td>...</td>\n      <td>...</td>\n      <td>...</td>\n      <td>...</td>\n    </tr>\n    <tr>\n      <th>41500</th>\n      <td>131dso7</td>\n      <td>DLAH</td>\n      <td>Wallydinger123</td>\n      <td>Happy B Day</td>\n      <td>there are three women posing for a picture in ...</td>\n      <td>ebb4b4a88dc79e2f2f57b10f32bf03c0</td>\n      <td>/r/DLAH/comments/131dso7/happy_b_day/</td>\n      <td>https://i.redd.it/36gurz533jwa1.jpg</td>\n      <td>ebb4b4a88dc79e2f2f57b10f32bf03c0.jpg</td>\n      <td>D:\\data\\images\\DLAH\\ebb4b4a88dc79e2f2f57b10f32...</td>\n      <td>None</td>\n      <td>True</td>\n      <td>False</td>\n      <td>None</td>\n      <td>None</td>\n    </tr>\n    <tr>\n      <th>41501</th>\n      <td>131eznp</td>\n      <td>DLAH</td>\n      <td>Long_dong111</td>\n      <td>Perfect</td>\n      <td>araffe woman in a white dress sitting on a pur...</td>\n      <td>5c944c6d62b1ae182c5a6a40c64195f4</td>\n      <td>/r/DLAH/comments/131eznp/perfect/</td>\n      <td>https://i.redd.it/dnbbx4zucjwa1.jpg</td>\n      <td>5c944c6d62b1ae182c5a6a40c64195f4.jpg</td>\n      <td>D:\\data\\images\\DLAH\\5c944c6d62b1ae182c5a6a40c6...</td>\n      <td>None</td>\n      <td>True</td>\n      <td>False</td>\n      <td>None</td>\n      <td>None</td>\n    </tr>\n    <tr>\n      <th>41502</th>\n      <td>131g3am</td>\n      <td>DLAH</td>\n      <td>ThrownAwayMiles</td>\n      <td>DLAH left or right</td>\n      <td>two women in short dresses posing for a pictur...</td>\n      <td>ab1f8fc33c85f4cfce12c810cf22229e</td>\n      <td>/r/DLAH/comments/131g3am/dlah_left_or_right/</td>\n      <td>https://i.redd.it/zpp70oor3lwa1.jpg</td>\n      <td>ab1f8fc33c85f4cfce12c810cf22229e.jpg</td>\n      <td>D:\\data\\images\\DLAH\\ab1f8fc33c85f4cfce12c810cf...</td>\n      <td>None</td>\n      <td>True</td>\n      <td>False</td>\n      <td>None</td>\n      <td>None</td>\n    </tr>\n    <tr>\n      <th>41503</th>\n      <td>131jvcx</td>\n      <td>DLAH</td>\n      <td>robok212</td>\n      <td>Good morning 😍</td>\n      <td>araffe in a pink dress posing on a white wall</td>\n      <td>01f5058855526ef25888cff88065db4c</td>\n      <td>/r/DLAH/comments/131jvcx/good_morning/</td>\n      <td>https://i.redd.it/ozmbfhjv3mwa1.jpg</td>\n      <td>01f5058855526ef25888cff88065db4c.jpg</td>\n      <td>D:\\data\\images\\DLAH\\01f5058855526ef25888cff880...</td>\n      <td>None</td>\n      <td>True</td>\n      <td>False</td>\n      <td>None</td>\n      <td>None</td>\n    </tr>\n    <tr>\n      <th>41504</th>\n      <td>131n2by</td>\n      <td>DLAH</td>\n      <td>Dependent_Secret9424</td>\n      <td>Perfection (Sisters)</td>\n      <td>two women in shorts and sandals taking a selfi...</td>\n      <td>b162dd1999dbf9ea3c7adccd34624a46</td>\n      <td>/r/DLAH/comments/131n2by/perfection_sisters/</td>\n      <td>https://i.redd.it/pfg1u0aw1nwa1.jpg</td>\n      <td>b162dd1999dbf9ea3c7adccd34624a46.jpg</td>\n      <td>D:\\data\\images\\DLAH\\b162dd1999dbf9ea3c7adccd34...</td>\n      <td>None</td>\n      <td>True</td>\n      <td>False</td>\n      <td>None</td>\n      <td>None</td>\n    </tr>\n  </tbody>\n</table>\n<p>38051 rows × 15 columns</p>\n</div>"
     },
     "metadata": {},
     "output_type": "display_data"
    },
    {
     "name": "stdout",
     "output_type": "stream",
     "text": [
      "CPU times: total: 78.1 ms\n",
      "Wall time: 35.6 s\n"
     ]
    }
   ],
   "source": [
    "%%time\n",
    "\n",
    "extant_raw = pd.read_parquet('data/processed_raw_data.parquet', filesystem=file_system, engine='pyarrow', schema=schema)\n",
    "\n",
    "display(\"=== RAW DATA ===\")\n",
    "display(extant_raw.shape)\n",
    "\n",
    "extant_raw.drop_duplicates(subset=['id'], keep='first', inplace=True)\n",
    "\n",
    "display(\"=== Deduplicated DATA ===\")\n",
    "display(extant_raw.shape)\n",
    "display(extant_raw)"
   ],
   "metadata": {
    "collapsed": false,
    "ExecuteTime": {
     "end_time": "2023-05-03T15:25:28.456396Z",
     "start_time": "2023-05-03T15:24:52.785030900Z"
    }
   }
  },
  {
   "cell_type": "code",
   "execution_count": 4,
   "outputs": [
    {
     "name": "stdout",
     "output_type": "stream",
     "text": [
      "=== CURATED DATA ===\n"
     ]
    },
    {
     "data": {
      "text/plain": "(33710, 15)"
     },
     "metadata": {},
     "output_type": "display_data"
    },
    {
     "data": {
      "text/plain": "            id       subreddit             author   \n0      100rn7k        AmIhotAF       veritynicole  \\\n1      1013bdt        AmIhotAF        RaulDea9286   \n2      105mekt        AmIhotAF           lindaniz   \n3      105qvgl        AmIhotAF        CaitVLove11   \n4      105rpcj        AmIhotAF    Flashy-Desk1858   \n...        ...             ...                ...   \n33705  10kzd5c  wallstreetbets           pocfdept   \n33706  10kzbey  wallstreetbets           pocfdept   \n33707  10kyx5z  wallstreetbets          Bg_KiLLeR   \n33708  10kywrx  wallstreetbets     lostin_dasauce   \n33709  10ky1q6  wallstreetbets  yupthatwalmartguy   \n\n                                                   title   \n0                    hey, hows your new year going (23F)  \\\n1                                          36F - ITALIAN   \n2         interesting in good forward relationship (f24)   \n3                              Laughing is my favorite 😆   \n4               [f22] What do you think when you see me?   \n...                                                  ...   \n33705                        ii illegal short selling… 🤔   \n33706                         II illegal short selling 🤔   \n33707  BAER expected to begin trading in Nasdaq on Ja...   \n33708                                Thought of you guys   \n33709                   time to yolo on Adani ports puts   \n\n                                                 caption   \n0      a woman in a white shirt and black pants is po...  \\\n1                arafed image of a woman in a bikini top   \n2      a close up of a woman with red hair and a whit...   \n3      a woman in a blue tank top and shorts is smili...   \n4        a woman in a blue bikini top and a blue bra top   \n...                                                  ...   \n33705  a screenshote of a cell phone showing a messag...   \n33706  a screenshote of a cell phone showing a screen...   \n33707  a screenshote of a dashboard with a bunch of d...   \n33708  a black and white photo of a man in a suit and...   \n33709  a picture taken from a video of a bear in the ...   \n\n                                   hash   \n0      4bd00c19fa0ff2ade855e6d364b0760b  \\\n1      7c0d158cba8654ef1c635cbc5471d597   \n2      ba4a0962cca2266a741e1e1700589c04   \n3      27bfe82c37314a0bcf02ab72eaf3a9e5   \n4      329eb42b8267fa1cc2980da8e48bcef1   \n...                                 ...   \n33705  d68443295aac515459b13ad786e9649f   \n33706  959579cc440ec31a1cbb228fa3e4a3af   \n33707  07a6f67b65c0452c98aa59c1b57fc75d   \n33708  03c75f7d48f92b73c5fd14ad5ee46b83   \n33709  12657d17c8f3d5f6c14959c78dcf3205   \n\n                                               permalink   \n0      /r/AmIhotAF/comments/100rn7k/hey_hows_your_new...  \\\n1              /r/AmIhotAF/comments/1013bdt/36f_italian/   \n2      /r/AmIhotAF/comments/105mekt/interesting_in_go...   \n3      /r/AmIhotAF/comments/105qvgl/laughing_is_my_fa...   \n4      /r/AmIhotAF/comments/105rpcj/f22_what_do_you_t...   \n...                                                  ...   \n33705  /r/wallstreetbets/comments/10kzd5c/ii_illegal_...   \n33706  /r/wallstreetbets/comments/10kzbey/ii_illegal_...   \n33707  /r/wallstreetbets/comments/10kyx5z/baer_expect...   \n33708  /r/wallstreetbets/comments/10kywrx/thought_of_...   \n33709  /r/wallstreetbets/comments/10ky1q6/time_to_yol...   \n\n                              original_url   image_name   \n0      https://i.redd.it/n7r47s0gkh9a1.jpg  100rn7k.jpg  \\\n1      https://i.redd.it/bg0wwdlt5k9a1.jpg  1013bdt.jpg   \n2      https://i.redd.it/4avjshsz8naa1.jpg  105mekt.jpg   \n3      https://i.redd.it/2pulzr0lxmaa1.jpg  105qvgl.jpg   \n4      https://i.redd.it/rz68pf934naa1.jpg  105rpcj.jpg   \n...                                    ...          ...   \n33705  https://i.redd.it/g6xzdy7mm8ea1.jpg  10kzd5c.jpg   \n33706  https://i.redd.it/cltd77i7m8ea1.jpg  10kzbey.jpg   \n33707  https://i.redd.it/grm4vq4ui8ea1.jpg  10kyx5z.jpg   \n33708  https://i.redd.it/78nm8qdqi8ea1.jpg  10kywrx.jpg   \n33709  https://i.redd.it/mpj7805at6ea1.jpg  10ky1q6.jpg   \n\n                         path                model  exists  curated  accept   \n0      data/image/100rn7k.jpg        SexyDiffusion    True     True   False  \\\n1      data/image/1013bdt.jpg        SexyDiffusion    True     True    True   \n2      data/image/105mekt.jpg        SexyDiffusion    True     True    True   \n3      data/image/105qvgl.jpg        SexyDiffusion    True     True    True   \n4      data/image/105rpcj.jpg        SexyDiffusion    True     True    True   \n...                       ...                  ...     ...      ...     ...   \n33705  data/image/10kzd5c.jpg  WallStreetDiffusion    True    False   False   \n33706  data/image/10kzbey.jpg  WallStreetDiffusion    True    False   False   \n33707  data/image/10kyx5z.jpg  WallStreetDiffusion    True    False   False   \n33708  data/image/10kywrx.jpg  WallStreetDiffusion    True    False   False   \n33709  data/image/10ky1q6.jpg  WallStreetDiffusion    True    False   False   \n\n      tags  \n0       []  \n1       []  \n2       []  \n3       []  \n4       []  \n...    ...  \n33705   []  \n33706   []  \n33707   []  \n33708   []  \n33709   []  \n\n[33710 rows x 15 columns]",
      "text/html": "<div>\n<style scoped>\n    .dataframe tbody tr th:only-of-type {\n        vertical-align: middle;\n    }\n\n    .dataframe tbody tr th {\n        vertical-align: top;\n    }\n\n    .dataframe thead th {\n        text-align: right;\n    }\n</style>\n<table border=\"1\" class=\"dataframe\">\n  <thead>\n    <tr style=\"text-align: right;\">\n      <th></th>\n      <th>id</th>\n      <th>subreddit</th>\n      <th>author</th>\n      <th>title</th>\n      <th>caption</th>\n      <th>hash</th>\n      <th>permalink</th>\n      <th>original_url</th>\n      <th>image_name</th>\n      <th>path</th>\n      <th>model</th>\n      <th>exists</th>\n      <th>curated</th>\n      <th>accept</th>\n      <th>tags</th>\n    </tr>\n  </thead>\n  <tbody>\n    <tr>\n      <th>0</th>\n      <td>100rn7k</td>\n      <td>AmIhotAF</td>\n      <td>veritynicole</td>\n      <td>hey, hows your new year going (23F)</td>\n      <td>a woman in a white shirt and black pants is po...</td>\n      <td>4bd00c19fa0ff2ade855e6d364b0760b</td>\n      <td>/r/AmIhotAF/comments/100rn7k/hey_hows_your_new...</td>\n      <td>https://i.redd.it/n7r47s0gkh9a1.jpg</td>\n      <td>100rn7k.jpg</td>\n      <td>data/image/100rn7k.jpg</td>\n      <td>SexyDiffusion</td>\n      <td>True</td>\n      <td>True</td>\n      <td>False</td>\n      <td>[]</td>\n    </tr>\n    <tr>\n      <th>1</th>\n      <td>1013bdt</td>\n      <td>AmIhotAF</td>\n      <td>RaulDea9286</td>\n      <td>36F - ITALIAN</td>\n      <td>arafed image of a woman in a bikini top</td>\n      <td>7c0d158cba8654ef1c635cbc5471d597</td>\n      <td>/r/AmIhotAF/comments/1013bdt/36f_italian/</td>\n      <td>https://i.redd.it/bg0wwdlt5k9a1.jpg</td>\n      <td>1013bdt.jpg</td>\n      <td>data/image/1013bdt.jpg</td>\n      <td>SexyDiffusion</td>\n      <td>True</td>\n      <td>True</td>\n      <td>True</td>\n      <td>[]</td>\n    </tr>\n    <tr>\n      <th>2</th>\n      <td>105mekt</td>\n      <td>AmIhotAF</td>\n      <td>lindaniz</td>\n      <td>interesting in good forward relationship (f24)</td>\n      <td>a close up of a woman with red hair and a whit...</td>\n      <td>ba4a0962cca2266a741e1e1700589c04</td>\n      <td>/r/AmIhotAF/comments/105mekt/interesting_in_go...</td>\n      <td>https://i.redd.it/4avjshsz8naa1.jpg</td>\n      <td>105mekt.jpg</td>\n      <td>data/image/105mekt.jpg</td>\n      <td>SexyDiffusion</td>\n      <td>True</td>\n      <td>True</td>\n      <td>True</td>\n      <td>[]</td>\n    </tr>\n    <tr>\n      <th>3</th>\n      <td>105qvgl</td>\n      <td>AmIhotAF</td>\n      <td>CaitVLove11</td>\n      <td>Laughing is my favorite 😆</td>\n      <td>a woman in a blue tank top and shorts is smili...</td>\n      <td>27bfe82c37314a0bcf02ab72eaf3a9e5</td>\n      <td>/r/AmIhotAF/comments/105qvgl/laughing_is_my_fa...</td>\n      <td>https://i.redd.it/2pulzr0lxmaa1.jpg</td>\n      <td>105qvgl.jpg</td>\n      <td>data/image/105qvgl.jpg</td>\n      <td>SexyDiffusion</td>\n      <td>True</td>\n      <td>True</td>\n      <td>True</td>\n      <td>[]</td>\n    </tr>\n    <tr>\n      <th>4</th>\n      <td>105rpcj</td>\n      <td>AmIhotAF</td>\n      <td>Flashy-Desk1858</td>\n      <td>[f22] What do you think when you see me?</td>\n      <td>a woman in a blue bikini top and a blue bra top</td>\n      <td>329eb42b8267fa1cc2980da8e48bcef1</td>\n      <td>/r/AmIhotAF/comments/105rpcj/f22_what_do_you_t...</td>\n      <td>https://i.redd.it/rz68pf934naa1.jpg</td>\n      <td>105rpcj.jpg</td>\n      <td>data/image/105rpcj.jpg</td>\n      <td>SexyDiffusion</td>\n      <td>True</td>\n      <td>True</td>\n      <td>True</td>\n      <td>[]</td>\n    </tr>\n    <tr>\n      <th>...</th>\n      <td>...</td>\n      <td>...</td>\n      <td>...</td>\n      <td>...</td>\n      <td>...</td>\n      <td>...</td>\n      <td>...</td>\n      <td>...</td>\n      <td>...</td>\n      <td>...</td>\n      <td>...</td>\n      <td>...</td>\n      <td>...</td>\n      <td>...</td>\n      <td>...</td>\n    </tr>\n    <tr>\n      <th>33705</th>\n      <td>10kzd5c</td>\n      <td>wallstreetbets</td>\n      <td>pocfdept</td>\n      <td>ii illegal short selling… 🤔</td>\n      <td>a screenshote of a cell phone showing a messag...</td>\n      <td>d68443295aac515459b13ad786e9649f</td>\n      <td>/r/wallstreetbets/comments/10kzd5c/ii_illegal_...</td>\n      <td>https://i.redd.it/g6xzdy7mm8ea1.jpg</td>\n      <td>10kzd5c.jpg</td>\n      <td>data/image/10kzd5c.jpg</td>\n      <td>WallStreetDiffusion</td>\n      <td>True</td>\n      <td>False</td>\n      <td>False</td>\n      <td>[]</td>\n    </tr>\n    <tr>\n      <th>33706</th>\n      <td>10kzbey</td>\n      <td>wallstreetbets</td>\n      <td>pocfdept</td>\n      <td>II illegal short selling 🤔</td>\n      <td>a screenshote of a cell phone showing a screen...</td>\n      <td>959579cc440ec31a1cbb228fa3e4a3af</td>\n      <td>/r/wallstreetbets/comments/10kzbey/ii_illegal_...</td>\n      <td>https://i.redd.it/cltd77i7m8ea1.jpg</td>\n      <td>10kzbey.jpg</td>\n      <td>data/image/10kzbey.jpg</td>\n      <td>WallStreetDiffusion</td>\n      <td>True</td>\n      <td>False</td>\n      <td>False</td>\n      <td>[]</td>\n    </tr>\n    <tr>\n      <th>33707</th>\n      <td>10kyx5z</td>\n      <td>wallstreetbets</td>\n      <td>Bg_KiLLeR</td>\n      <td>BAER expected to begin trading in Nasdaq on Ja...</td>\n      <td>a screenshote of a dashboard with a bunch of d...</td>\n      <td>07a6f67b65c0452c98aa59c1b57fc75d</td>\n      <td>/r/wallstreetbets/comments/10kyx5z/baer_expect...</td>\n      <td>https://i.redd.it/grm4vq4ui8ea1.jpg</td>\n      <td>10kyx5z.jpg</td>\n      <td>data/image/10kyx5z.jpg</td>\n      <td>WallStreetDiffusion</td>\n      <td>True</td>\n      <td>False</td>\n      <td>False</td>\n      <td>[]</td>\n    </tr>\n    <tr>\n      <th>33708</th>\n      <td>10kywrx</td>\n      <td>wallstreetbets</td>\n      <td>lostin_dasauce</td>\n      <td>Thought of you guys</td>\n      <td>a black and white photo of a man in a suit and...</td>\n      <td>03c75f7d48f92b73c5fd14ad5ee46b83</td>\n      <td>/r/wallstreetbets/comments/10kywrx/thought_of_...</td>\n      <td>https://i.redd.it/78nm8qdqi8ea1.jpg</td>\n      <td>10kywrx.jpg</td>\n      <td>data/image/10kywrx.jpg</td>\n      <td>WallStreetDiffusion</td>\n      <td>True</td>\n      <td>False</td>\n      <td>False</td>\n      <td>[]</td>\n    </tr>\n    <tr>\n      <th>33709</th>\n      <td>10ky1q6</td>\n      <td>wallstreetbets</td>\n      <td>yupthatwalmartguy</td>\n      <td>time to yolo on Adani ports puts</td>\n      <td>a picture taken from a video of a bear in the ...</td>\n      <td>12657d17c8f3d5f6c14959c78dcf3205</td>\n      <td>/r/wallstreetbets/comments/10ky1q6/time_to_yol...</td>\n      <td>https://i.redd.it/mpj7805at6ea1.jpg</td>\n      <td>10ky1q6.jpg</td>\n      <td>data/image/10ky1q6.jpg</td>\n      <td>WallStreetDiffusion</td>\n      <td>True</td>\n      <td>False</td>\n      <td>False</td>\n      <td>[]</td>\n    </tr>\n  </tbody>\n</table>\n<p>33710 rows × 15 columns</p>\n</div>"
     },
     "metadata": {},
     "output_type": "display_data"
    },
    {
     "name": "stdout",
     "output_type": "stream",
     "text": [
      "CPU times: total: 46.9 ms\n",
      "Wall time: 23.4 s\n"
     ]
    }
   ],
   "source": [
    "%%time\n",
    "\n",
    "curated_data = pd.read_parquet('data/parquet/back.parquet', filesystem=file_system, engine='pyarrow', schema=schema)\n",
    "\n",
    "display(\"=== CURATED DATA ===\")\n",
    "\n",
    "display(curated_data.shape)\n",
    "\n",
    "display(curated_data)"
   ],
   "metadata": {
    "collapsed": false,
    "ExecuteTime": {
     "end_time": "2023-05-03T15:25:51.898014400Z",
     "start_time": "2023-05-03T15:25:28.415206500Z"
    }
   }
  },
  {
   "cell_type": "code",
   "execution_count": 5,
   "outputs": [
    {
     "data": {
      "text/plain": "'=== MERGED DATA ==='"
     },
     "metadata": {},
     "output_type": "display_data"
    },
    {
     "data": {
      "text/plain": "(38051, 30)"
     },
     "metadata": {},
     "output_type": "display_data"
    },
    {
     "data": {
      "text/plain": "            id     subreddit_raw            author_raw   \n0      128z5ns       celebrities           A-Sexy-Name  \\\n1      11yk8db  prettyasiangirls          MisoShiru520   \n2      11hfioi     KoreanHotties  Majestic_Painter8660   \n3      1000mjs         spaceporn    MorningStar_imangi   \n4      1000qpd         spaceporn    MorningStar_imangi   \n...        ...               ...                   ...   \n38046  131dso7              DLAH        Wallydinger123   \n38047  131eznp              DLAH          Long_dong111   \n38048  131g3am              DLAH       ThrownAwayMiles   \n38049  131jvcx              DLAH              robok212   \n38050  131n2by              DLAH  Dependent_Secret9424   \n\n                           title_raw   \n0                       Rachel Weisz  \\\n1                            Library   \n2                   Underboob bikini   \n3      Northern Lights above Lofoten   \n4                      Viking Lights   \n...                              ...   \n38046                    Happy B Day   \n38047                        Perfect   \n38048             DLAH left or right   \n38049                 Good morning 😍   \n38050           Perfection (Sisters)   \n\n                                             caption_raw   \n0      cars are parked on the side of the road in the...  \\\n1      blonde woman with blonde hair and tattoos on h...   \n2      a man with a beard and a beard sitting in fron...   \n3      a view of a view of a large green and purple a...   \n4      a scene of a boat is sitting on the shore of a...   \n...                                                  ...   \n38046  there are three women posing for a picture in ...   \n38047  araffe woman in a white dress sitting on a pur...   \n38048  two women in short dresses posing for a pictur...   \n38049      araffe in a pink dress posing on a white wall   \n38050  two women in shorts and sandals taking a selfi...   \n\n                               hash_raw   \n0      f09b1c0c5dea50c934081a04c83d4d33  \\\n1      9d5b7331b941ecf3fdbc8ad322303825   \n2      a154a56b1b87cf3a0bc93600c86e4585   \n3      2c39ce1290fba541abd0b004b09da6b2   \n4      0f72de47c69ff50eca5fa3990215f4ac   \n...                                 ...   \n38046  ebb4b4a88dc79e2f2f57b10f32bf03c0   \n38047  5c944c6d62b1ae182c5a6a40c64195f4   \n38048  ab1f8fc33c85f4cfce12c810cf22229e   \n38049  01f5058855526ef25888cff88065db4c   \n38050  b162dd1999dbf9ea3c7adccd34624a46   \n\n                                           permalink_raw   \n0          /r/celebrities/comments/128z5ns/rachel_weisz/  \\\n1          /r/prettyasiangirls/comments/11yk8db/library/   \n2      /r/KoreanHotties/comments/11hfioi/underboob_bi...   \n3      /r/spaceporn/comments/1000mjs/northern_lights_...   \n4           /r/spaceporn/comments/1000qpd/viking_lights/   \n...                                                  ...   \n38046              /r/DLAH/comments/131dso7/happy_b_day/   \n38047                  /r/DLAH/comments/131eznp/perfect/   \n38048       /r/DLAH/comments/131g3am/dlah_left_or_right/   \n38049             /r/DLAH/comments/131jvcx/good_morning/   \n38050       /r/DLAH/comments/131n2by/perfection_sisters/   \n\n                          original_url_raw   \n0      https://i.redd.it/nv80afddacra1.jpg  \\\n1      https://i.redd.it/ht4d2wuusapa1.jpg   \n2      https://i.redd.it/cimr17q84jla1.jpg   \n3      https://i.redd.it/7s5aafaqkb9a1.jpg   \n4      https://i.redd.it/abojw7lqlb9a1.jpg   \n...                                    ...   \n38046  https://i.redd.it/36gurz533jwa1.jpg   \n38047  https://i.redd.it/dnbbx4zucjwa1.jpg   \n38048  https://i.redd.it/zpp70oor3lwa1.jpg   \n38049  https://i.redd.it/ozmbfhjv3mwa1.jpg   \n38050  https://i.redd.it/pfg1u0aw1nwa1.jpg   \n\n                             image_name_raw   \n0      f09b1c0c5dea50c934081a04c83d4d33.jpg  \\\n1      9d5b7331b941ecf3fdbc8ad322303825.jpg   \n2      a154a56b1b87cf3a0bc93600c86e4585.jpg   \n3                         7s5aafaqkb9a1.jpg   \n4                         abojw7lqlb9a1.jpg   \n...                                     ...   \n38046  ebb4b4a88dc79e2f2f57b10f32bf03c0.jpg   \n38047  5c944c6d62b1ae182c5a6a40c64195f4.jpg   \n38048  ab1f8fc33c85f4cfce12c810cf22229e.jpg   \n38049  01f5058855526ef25888cff88065db4c.jpg   \n38050  b162dd1999dbf9ea3c7adccd34624a46.jpg   \n\n                                                path_raw  ...   \n0      D:\\data\\images\\celebrities\\f09b1c0c5dea50c9340...  ...  \\\n1      D:\\data\\images\\prettyasiangirls\\9d5b7331b941ec...  ...   \n2                               D:\\ImageDoesNotExist.png  ...   \n3             D:\\data\\images\\spaceporn\\7s5aafaqkb9a1.jpg  ...   \n4             D:\\data\\images\\spaceporn\\abojw7lqlb9a1.jpg  ...   \n...                                                  ...  ...   \n38046  D:\\data\\images\\DLAH\\ebb4b4a88dc79e2f2f57b10f32...  ...   \n38047  D:\\data\\images\\DLAH\\5c944c6d62b1ae182c5a6a40c6...  ...   \n38048  D:\\data\\images\\DLAH\\ab1f8fc33c85f4cfce12c810cf...  ...   \n38049  D:\\data\\images\\DLAH\\01f5058855526ef25888cff880...  ...   \n38050  D:\\data\\images\\DLAH\\b162dd1999dbf9ea3c7adccd34...  ...   \n\n                                       permalink_curated   \n0          /r/celebrities/comments/128z5ns/rachel_weisz/  \\\n1          /r/prettyasiangirls/comments/11yk8db/library/   \n2                                                    NaN   \n3      /r/spaceporn/comments/1000mjs/northern_lights_...   \n4           /r/spaceporn/comments/1000qpd/viking_lights/   \n...                                                  ...   \n38046              /r/DLAH/comments/131dso7/happy_b_day/   \n38047                  /r/DLAH/comments/131eznp/perfect/   \n38048       /r/DLAH/comments/131g3am/dlah_left_or_right/   \n38049             /r/DLAH/comments/131jvcx/good_morning/   \n38050       /r/DLAH/comments/131n2by/perfection_sisters/   \n\n                      original_url_curated  image_name_curated   \n0      https://i.redd.it/nv80afddacra1.jpg         128z5ns.jpg  \\\n1      https://i.redd.it/ht4d2wuusapa1.jpg         11yk8db.jpg   \n2                                      NaN                 NaN   \n3      https://i.redd.it/7s5aafaqkb9a1.jpg         1000mjs.jpg   \n4      https://i.redd.it/abojw7lqlb9a1.jpg         1000qpd.jpg   \n...                                    ...                 ...   \n38046  https://i.redd.it/36gurz533jwa1.jpg         131dso7.jpg   \n38047  https://i.redd.it/dnbbx4zucjwa1.jpg         131eznp.jpg   \n38048  https://i.redd.it/zpp70oor3lwa1.jpg         131g3am.jpg   \n38049  https://i.redd.it/ozmbfhjv3mwa1.jpg         131jvcx.jpg   \n38050  https://i.redd.it/pfg1u0aw1nwa1.jpg         131n2by.jpg   \n\n                 path_curated        model_curated exists_curated   \n0      data/image/128z5ns.jpg   CelebrityDiffusion           True  \\\n1      data/image/11yk8db.jpg   SexyAsianDiffusion           True   \n2                         NaN                  NaN            NaN   \n3      data/image/1000mjs.jpg      CosmicDiffusion           True   \n4      data/image/1000qpd.jpg      CosmicDiffusion           True   \n...                       ...                  ...            ...   \n38046  data/image/131dso7.jpg  PrettyGirlDiffusion           True   \n38047  data/image/131eznp.jpg  PrettyGirlDiffusion           True   \n38048  data/image/131g3am.jpg  PrettyGirlDiffusion           True   \n38049  data/image/131jvcx.jpg  PrettyGirlDiffusion           True   \n38050  data/image/131n2by.jpg  PrettyGirlDiffusion           True   \n\n      curated_curated accept_curated tags_curated     _merge  \n0               False          False           []       both  \n1               False          False           []       both  \n2                 NaN            NaN          NaN  left_only  \n3               False          False           []       both  \n4               False          False           []       both  \n...               ...            ...          ...        ...  \n38046            True          False           []       both  \n38047            True           True           []       both  \n38048            True           True           []       both  \n38049            True          False           []       both  \n38050            True          False           []       both  \n\n[38051 rows x 30 columns]",
      "text/html": "<div>\n<style scoped>\n    .dataframe tbody tr th:only-of-type {\n        vertical-align: middle;\n    }\n\n    .dataframe tbody tr th {\n        vertical-align: top;\n    }\n\n    .dataframe thead th {\n        text-align: right;\n    }\n</style>\n<table border=\"1\" class=\"dataframe\">\n  <thead>\n    <tr style=\"text-align: right;\">\n      <th></th>\n      <th>id</th>\n      <th>subreddit_raw</th>\n      <th>author_raw</th>\n      <th>title_raw</th>\n      <th>caption_raw</th>\n      <th>hash_raw</th>\n      <th>permalink_raw</th>\n      <th>original_url_raw</th>\n      <th>image_name_raw</th>\n      <th>path_raw</th>\n      <th>...</th>\n      <th>permalink_curated</th>\n      <th>original_url_curated</th>\n      <th>image_name_curated</th>\n      <th>path_curated</th>\n      <th>model_curated</th>\n      <th>exists_curated</th>\n      <th>curated_curated</th>\n      <th>accept_curated</th>\n      <th>tags_curated</th>\n      <th>_merge</th>\n    </tr>\n  </thead>\n  <tbody>\n    <tr>\n      <th>0</th>\n      <td>128z5ns</td>\n      <td>celebrities</td>\n      <td>A-Sexy-Name</td>\n      <td>Rachel Weisz</td>\n      <td>cars are parked on the side of the road in the...</td>\n      <td>f09b1c0c5dea50c934081a04c83d4d33</td>\n      <td>/r/celebrities/comments/128z5ns/rachel_weisz/</td>\n      <td>https://i.redd.it/nv80afddacra1.jpg</td>\n      <td>f09b1c0c5dea50c934081a04c83d4d33.jpg</td>\n      <td>D:\\data\\images\\celebrities\\f09b1c0c5dea50c9340...</td>\n      <td>...</td>\n      <td>/r/celebrities/comments/128z5ns/rachel_weisz/</td>\n      <td>https://i.redd.it/nv80afddacra1.jpg</td>\n      <td>128z5ns.jpg</td>\n      <td>data/image/128z5ns.jpg</td>\n      <td>CelebrityDiffusion</td>\n      <td>True</td>\n      <td>False</td>\n      <td>False</td>\n      <td>[]</td>\n      <td>both</td>\n    </tr>\n    <tr>\n      <th>1</th>\n      <td>11yk8db</td>\n      <td>prettyasiangirls</td>\n      <td>MisoShiru520</td>\n      <td>Library</td>\n      <td>blonde woman with blonde hair and tattoos on h...</td>\n      <td>9d5b7331b941ecf3fdbc8ad322303825</td>\n      <td>/r/prettyasiangirls/comments/11yk8db/library/</td>\n      <td>https://i.redd.it/ht4d2wuusapa1.jpg</td>\n      <td>9d5b7331b941ecf3fdbc8ad322303825.jpg</td>\n      <td>D:\\data\\images\\prettyasiangirls\\9d5b7331b941ec...</td>\n      <td>...</td>\n      <td>/r/prettyasiangirls/comments/11yk8db/library/</td>\n      <td>https://i.redd.it/ht4d2wuusapa1.jpg</td>\n      <td>11yk8db.jpg</td>\n      <td>data/image/11yk8db.jpg</td>\n      <td>SexyAsianDiffusion</td>\n      <td>True</td>\n      <td>False</td>\n      <td>False</td>\n      <td>[]</td>\n      <td>both</td>\n    </tr>\n    <tr>\n      <th>2</th>\n      <td>11hfioi</td>\n      <td>KoreanHotties</td>\n      <td>Majestic_Painter8660</td>\n      <td>Underboob bikini</td>\n      <td>a man with a beard and a beard sitting in fron...</td>\n      <td>a154a56b1b87cf3a0bc93600c86e4585</td>\n      <td>/r/KoreanHotties/comments/11hfioi/underboob_bi...</td>\n      <td>https://i.redd.it/cimr17q84jla1.jpg</td>\n      <td>a154a56b1b87cf3a0bc93600c86e4585.jpg</td>\n      <td>D:\\ImageDoesNotExist.png</td>\n      <td>...</td>\n      <td>NaN</td>\n      <td>NaN</td>\n      <td>NaN</td>\n      <td>NaN</td>\n      <td>NaN</td>\n      <td>NaN</td>\n      <td>NaN</td>\n      <td>NaN</td>\n      <td>NaN</td>\n      <td>left_only</td>\n    </tr>\n    <tr>\n      <th>3</th>\n      <td>1000mjs</td>\n      <td>spaceporn</td>\n      <td>MorningStar_imangi</td>\n      <td>Northern Lights above Lofoten</td>\n      <td>a view of a view of a large green and purple a...</td>\n      <td>2c39ce1290fba541abd0b004b09da6b2</td>\n      <td>/r/spaceporn/comments/1000mjs/northern_lights_...</td>\n      <td>https://i.redd.it/7s5aafaqkb9a1.jpg</td>\n      <td>7s5aafaqkb9a1.jpg</td>\n      <td>D:\\data\\images\\spaceporn\\7s5aafaqkb9a1.jpg</td>\n      <td>...</td>\n      <td>/r/spaceporn/comments/1000mjs/northern_lights_...</td>\n      <td>https://i.redd.it/7s5aafaqkb9a1.jpg</td>\n      <td>1000mjs.jpg</td>\n      <td>data/image/1000mjs.jpg</td>\n      <td>CosmicDiffusion</td>\n      <td>True</td>\n      <td>False</td>\n      <td>False</td>\n      <td>[]</td>\n      <td>both</td>\n    </tr>\n    <tr>\n      <th>4</th>\n      <td>1000qpd</td>\n      <td>spaceporn</td>\n      <td>MorningStar_imangi</td>\n      <td>Viking Lights</td>\n      <td>a scene of a boat is sitting on the shore of a...</td>\n      <td>0f72de47c69ff50eca5fa3990215f4ac</td>\n      <td>/r/spaceporn/comments/1000qpd/viking_lights/</td>\n      <td>https://i.redd.it/abojw7lqlb9a1.jpg</td>\n      <td>abojw7lqlb9a1.jpg</td>\n      <td>D:\\data\\images\\spaceporn\\abojw7lqlb9a1.jpg</td>\n      <td>...</td>\n      <td>/r/spaceporn/comments/1000qpd/viking_lights/</td>\n      <td>https://i.redd.it/abojw7lqlb9a1.jpg</td>\n      <td>1000qpd.jpg</td>\n      <td>data/image/1000qpd.jpg</td>\n      <td>CosmicDiffusion</td>\n      <td>True</td>\n      <td>False</td>\n      <td>False</td>\n      <td>[]</td>\n      <td>both</td>\n    </tr>\n    <tr>\n      <th>...</th>\n      <td>...</td>\n      <td>...</td>\n      <td>...</td>\n      <td>...</td>\n      <td>...</td>\n      <td>...</td>\n      <td>...</td>\n      <td>...</td>\n      <td>...</td>\n      <td>...</td>\n      <td>...</td>\n      <td>...</td>\n      <td>...</td>\n      <td>...</td>\n      <td>...</td>\n      <td>...</td>\n      <td>...</td>\n      <td>...</td>\n      <td>...</td>\n      <td>...</td>\n      <td>...</td>\n    </tr>\n    <tr>\n      <th>38046</th>\n      <td>131dso7</td>\n      <td>DLAH</td>\n      <td>Wallydinger123</td>\n      <td>Happy B Day</td>\n      <td>there are three women posing for a picture in ...</td>\n      <td>ebb4b4a88dc79e2f2f57b10f32bf03c0</td>\n      <td>/r/DLAH/comments/131dso7/happy_b_day/</td>\n      <td>https://i.redd.it/36gurz533jwa1.jpg</td>\n      <td>ebb4b4a88dc79e2f2f57b10f32bf03c0.jpg</td>\n      <td>D:\\data\\images\\DLAH\\ebb4b4a88dc79e2f2f57b10f32...</td>\n      <td>...</td>\n      <td>/r/DLAH/comments/131dso7/happy_b_day/</td>\n      <td>https://i.redd.it/36gurz533jwa1.jpg</td>\n      <td>131dso7.jpg</td>\n      <td>data/image/131dso7.jpg</td>\n      <td>PrettyGirlDiffusion</td>\n      <td>True</td>\n      <td>True</td>\n      <td>False</td>\n      <td>[]</td>\n      <td>both</td>\n    </tr>\n    <tr>\n      <th>38047</th>\n      <td>131eznp</td>\n      <td>DLAH</td>\n      <td>Long_dong111</td>\n      <td>Perfect</td>\n      <td>araffe woman in a white dress sitting on a pur...</td>\n      <td>5c944c6d62b1ae182c5a6a40c64195f4</td>\n      <td>/r/DLAH/comments/131eznp/perfect/</td>\n      <td>https://i.redd.it/dnbbx4zucjwa1.jpg</td>\n      <td>5c944c6d62b1ae182c5a6a40c64195f4.jpg</td>\n      <td>D:\\data\\images\\DLAH\\5c944c6d62b1ae182c5a6a40c6...</td>\n      <td>...</td>\n      <td>/r/DLAH/comments/131eznp/perfect/</td>\n      <td>https://i.redd.it/dnbbx4zucjwa1.jpg</td>\n      <td>131eznp.jpg</td>\n      <td>data/image/131eznp.jpg</td>\n      <td>PrettyGirlDiffusion</td>\n      <td>True</td>\n      <td>True</td>\n      <td>True</td>\n      <td>[]</td>\n      <td>both</td>\n    </tr>\n    <tr>\n      <th>38048</th>\n      <td>131g3am</td>\n      <td>DLAH</td>\n      <td>ThrownAwayMiles</td>\n      <td>DLAH left or right</td>\n      <td>two women in short dresses posing for a pictur...</td>\n      <td>ab1f8fc33c85f4cfce12c810cf22229e</td>\n      <td>/r/DLAH/comments/131g3am/dlah_left_or_right/</td>\n      <td>https://i.redd.it/zpp70oor3lwa1.jpg</td>\n      <td>ab1f8fc33c85f4cfce12c810cf22229e.jpg</td>\n      <td>D:\\data\\images\\DLAH\\ab1f8fc33c85f4cfce12c810cf...</td>\n      <td>...</td>\n      <td>/r/DLAH/comments/131g3am/dlah_left_or_right/</td>\n      <td>https://i.redd.it/zpp70oor3lwa1.jpg</td>\n      <td>131g3am.jpg</td>\n      <td>data/image/131g3am.jpg</td>\n      <td>PrettyGirlDiffusion</td>\n      <td>True</td>\n      <td>True</td>\n      <td>True</td>\n      <td>[]</td>\n      <td>both</td>\n    </tr>\n    <tr>\n      <th>38049</th>\n      <td>131jvcx</td>\n      <td>DLAH</td>\n      <td>robok212</td>\n      <td>Good morning 😍</td>\n      <td>araffe in a pink dress posing on a white wall</td>\n      <td>01f5058855526ef25888cff88065db4c</td>\n      <td>/r/DLAH/comments/131jvcx/good_morning/</td>\n      <td>https://i.redd.it/ozmbfhjv3mwa1.jpg</td>\n      <td>01f5058855526ef25888cff88065db4c.jpg</td>\n      <td>D:\\data\\images\\DLAH\\01f5058855526ef25888cff880...</td>\n      <td>...</td>\n      <td>/r/DLAH/comments/131jvcx/good_morning/</td>\n      <td>https://i.redd.it/ozmbfhjv3mwa1.jpg</td>\n      <td>131jvcx.jpg</td>\n      <td>data/image/131jvcx.jpg</td>\n      <td>PrettyGirlDiffusion</td>\n      <td>True</td>\n      <td>True</td>\n      <td>False</td>\n      <td>[]</td>\n      <td>both</td>\n    </tr>\n    <tr>\n      <th>38050</th>\n      <td>131n2by</td>\n      <td>DLAH</td>\n      <td>Dependent_Secret9424</td>\n      <td>Perfection (Sisters)</td>\n      <td>two women in shorts and sandals taking a selfi...</td>\n      <td>b162dd1999dbf9ea3c7adccd34624a46</td>\n      <td>/r/DLAH/comments/131n2by/perfection_sisters/</td>\n      <td>https://i.redd.it/pfg1u0aw1nwa1.jpg</td>\n      <td>b162dd1999dbf9ea3c7adccd34624a46.jpg</td>\n      <td>D:\\data\\images\\DLAH\\b162dd1999dbf9ea3c7adccd34...</td>\n      <td>...</td>\n      <td>/r/DLAH/comments/131n2by/perfection_sisters/</td>\n      <td>https://i.redd.it/pfg1u0aw1nwa1.jpg</td>\n      <td>131n2by.jpg</td>\n      <td>data/image/131n2by.jpg</td>\n      <td>PrettyGirlDiffusion</td>\n      <td>True</td>\n      <td>True</td>\n      <td>False</td>\n      <td>[]</td>\n      <td>both</td>\n    </tr>\n  </tbody>\n</table>\n<p>38051 rows × 30 columns</p>\n</div>"
     },
     "metadata": {},
     "output_type": "display_data"
    },
    {
     "name": "stdout",
     "output_type": "stream",
     "text": [
      "CPU times: total: 93.8 ms\n",
      "Wall time: 130 ms\n"
     ]
    }
   ],
   "source": [
    "%%time\n",
    "\n",
    "merged_data = pd.merge(extant_raw, curated_data,\n",
    "                       how='outer',\n",
    "                       left_on='id',\n",
    "                       right_on='id',\n",
    "                       suffixes=('_raw', '_curated'),\n",
    "                       indicator=True)\n",
    "\n",
    "display(\"=== MERGED DATA ===\")\n",
    "display(merged_data.shape)\n",
    "display(merged_data)"
   ],
   "metadata": {
    "collapsed": false,
    "ExecuteTime": {
     "end_time": "2023-05-03T15:25:56.596971200Z",
     "start_time": "2023-05-03T15:25:56.452371100Z"
    }
   }
  },
  {
   "cell_type": "code",
   "execution_count": 6,
   "outputs": [
    {
     "name": "stdout",
     "output_type": "stream",
     "text": [
      "=== IN BOTH DATA SETS -- Curated===\n"
     ]
    },
    {
     "data": {
      "text/plain": "(33710, 30)"
     },
     "metadata": {},
     "output_type": "display_data"
    },
    {
     "name": "stdout",
     "output_type": "stream",
     "text": [
      "=== IN LEFT DATA -- New Data===\n"
     ]
    },
    {
     "data": {
      "text/plain": "(4341, 30)"
     },
     "metadata": {},
     "output_type": "display_data"
    },
    {
     "name": "stdout",
     "output_type": "stream",
     "text": [
      "=== IN RIGHT DATA ===\n"
     ]
    },
    {
     "data": {
      "text/plain": "(0, 30)"
     },
     "metadata": {},
     "output_type": "display_data"
    },
    {
     "name": "stdout",
     "output_type": "stream",
     "text": [
      "=== IN NEITHER DATA ===\n"
     ]
    },
    {
     "data": {
      "text/plain": "(0, 30)"
     },
     "metadata": {},
     "output_type": "display_data"
    },
    {
     "name": "stdout",
     "output_type": "stream",
     "text": [
      "CPU times: total: 0 ns\n",
      "Wall time: 22 ms\n"
     ]
    }
   ],
   "source": [
    "%%time\n",
    "\n",
    "print(\"=== IN BOTH DATA SETS -- Curated===\")\n",
    "both = merged_data.loc[merged_data['_merge'] == 'both']\n",
    "display(both.shape)\n",
    "\n",
    "print(\"=== IN LEFT DATA -- New Data===\")\n",
    "left = merged_data.loc[merged_data['_merge'] == 'left_only']\n",
    "display(left.shape)\n",
    "\n",
    "print(\"=== IN RIGHT DATA ===\")\n",
    "right = merged_data.loc[merged_data['_merge'] == 'right_only']\n",
    "display(right.shape)\n",
    "\n",
    "print(\"=== IN NEITHER DATA ===\")\n",
    "neither = merged_data.loc[merged_data['_merge'] == 'neither']\n",
    "display(neither.shape)"
   ],
   "metadata": {
    "collapsed": false,
    "ExecuteTime": {
     "end_time": "2023-05-03T15:26:05.167836200Z",
     "start_time": "2023-05-03T15:26:05.119927200Z"
    }
   }
  },
  {
   "cell_type": "code",
   "execution_count": 9,
   "outputs": [
    {
     "data": {
      "text/plain": "(4341, 16)"
     },
     "metadata": {},
     "output_type": "display_data"
    },
    {
     "data": {
      "text/plain": "            id      subreddit                author   \n2      11hfioi  KoreanHotties  Majestic_Painter8660  \\\n13236   ziaoyg  itookapicture   Beowawe_Ghostkeeper   \n16646  11aujg6  itookapicture                Tychke   \n23620   z4t3ln     realasians  Majestic_Painter8660   \n23622   z4s4ye     realasians   jenniferaniston1619   \n...        ...            ...                   ...   \n37917  131huiu      EarthPorn           BadShaman87   \n37938  131e3f8     realasians          throwawaychf   \n38032  131f550   tightdresses            Puzzled_MJ   \n38037  131jcn7   tightdresses         systemx123456   \n38038  131jen0   tightdresses         systemx123456   \n\n                                                   title   \n2                                       Underboob bikini  \\\n13236  ITAP of an injured cardinal about to take her ...   \n16646                   ITAP of our underground campsite   \n23620                                  Cute blonde asian   \n23622                                            rate me   \n...                                                  ...   \n37917  2/16/23 Thor’s Hammer, Bryce Canyon NP, Utah (...   \n37938                                        Coy glasses   \n38032                         Let me be your lady in red   \n38037                                        Green (AIC)   \n38038                                        Fancy (AIC)   \n\n                                                 caption   \n2      a man with a beard and a beard sitting in fron...  \\\n13236  a close up of a small bird perched on a wooden...   \n16646   there is a bed with a mattress and candles on it   \n23620  blonde haired woman in a green dress sitting o...   \n23622   arafed image of a woman in a black top and a car   \n...                                                  ...   \n37917                                               None   \n37938                                               None   \n38032                                               None   \n38037                                               None   \n38038                                               None   \n\n                                   hash   \n2      a154a56b1b87cf3a0bc93600c86e4585  \\\n13236  71daa45cc13faf381458f972eaba44c3   \n16646  5ce0690cecd81e5393bc4d294f942052   \n23620  4c7cdcbf083e1932116b7000bc2792d0   \n23622  f909a45f8e164b2b44da5ed10764271a   \n...                                 ...   \n37917  d2f2efe7df5464fa22c22584ea9c94c5   \n37938                              None   \n38032  7d33738941b8662867a978a80c5c6322   \n38037                              None   \n38038                              None   \n\n                                               permalink   \n2      /r/KoreanHotties/comments/11hfioi/underboob_bi...  \\\n13236  /r/itookapicture/comments/ziaoyg/itap_of_an_in...   \n16646  /r/itookapicture/comments/11aujg6/itap_of_our_...   \n23620   /r/realasians/comments/z4t3ln/cute_blonde_asian/   \n23622             /r/realasians/comments/z4s4ye/rate_me/   \n...                                                  ...   \n37917  /r/EarthPorn/comments/131huiu/21623_thors_hamm...   \n37938        /r/realasians/comments/131e3f8/coy_glasses/   \n38032  /r/tightdresses/comments/131f550/let_me_be_you...   \n38037        /r/tightdresses/comments/131jcn7/green_aic/   \n38038        /r/tightdresses/comments/131jen0/fancy_aic/   \n\n                              original_url   \n2      https://i.redd.it/cimr17q84jla1.jpg  \\\n13236  https://i.redd.it/r9m41y02e65a1.jpg   \n16646  https://i.redd.it/zhfwpf71o5ka1.jpg   \n23620  https://i.redd.it/wiqozus4pep91.jpg   \n23622  https://i.redd.it/9l122aosp62a1.jpg   \n...                                    ...   \n37917  https://i.redd.it/x8qut5htjlwa1.jpg   \n37938      https://i.imgur.com/zJWNbuE.jpg   \n38032  https://i.redd.it/ohgin41nvkwa1.jpg   \n38037        https://imgur.com/RjenuFx.jpg   \n38038        https://imgur.com/zT6YxcF.jpg   \n\n                                 image_name   \n2      a154a56b1b87cf3a0bc93600c86e4585.jpg  \\\n13236  71daa45cc13faf381458f972eaba44c3.jpg   \n16646  5ce0690cecd81e5393bc4d294f942052.jpg   \n23620  4c7cdcbf083e1932116b7000bc2792d0.jpg   \n23622  f909a45f8e164b2b44da5ed10764271a.jpg   \n...                                     ...   \n37917  d2f2efe7df5464fa22c22584ea9c94c5.jpg   \n37938                                  None   \n38032  7d33738941b8662867a978a80c5c6322.jpg   \n38037                                  None   \n38038                                  None   \n\n                                                    path model  exists   \n2                               D:\\ImageDoesNotExist.png  None   False  \\\n13236                           D:\\ImageDoesNotExist.png  None   False   \n16646                           D:\\ImageDoesNotExist.png  None   False   \n23620                           D:\\ImageDoesNotExist.png  None   False   \n23622                           D:\\ImageDoesNotExist.png  None   False   \n...                                                  ...   ...     ...   \n37917  D:\\data\\images\\EarthPorn\\d2f2efe7df5464fa22c22...  None   False   \n37938                                               None  None   False   \n38032  D:\\data\\images\\tightdresses\\7d33738941b8662867...  None   False   \n38037                                               None  None   False   \n38038                                               None  None   False   \n\n       curated accept  tags     _merge  \n2        False   None  None  left_only  \n13236    False   None  None  left_only  \n16646    False   None  None  left_only  \n23620    False   None  None  left_only  \n23622    False   None  None  left_only  \n...        ...    ...   ...        ...  \n37917    False   None  None  left_only  \n37938    False   None  None  left_only  \n38032    False   None  None  left_only  \n38037    False   None  None  left_only  \n38038    False   None  None  left_only  \n\n[4341 rows x 16 columns]",
      "text/html": "<div>\n<style scoped>\n    .dataframe tbody tr th:only-of-type {\n        vertical-align: middle;\n    }\n\n    .dataframe tbody tr th {\n        vertical-align: top;\n    }\n\n    .dataframe thead th {\n        text-align: right;\n    }\n</style>\n<table border=\"1\" class=\"dataframe\">\n  <thead>\n    <tr style=\"text-align: right;\">\n      <th></th>\n      <th>id</th>\n      <th>subreddit</th>\n      <th>author</th>\n      <th>title</th>\n      <th>caption</th>\n      <th>hash</th>\n      <th>permalink</th>\n      <th>original_url</th>\n      <th>image_name</th>\n      <th>path</th>\n      <th>model</th>\n      <th>exists</th>\n      <th>curated</th>\n      <th>accept</th>\n      <th>tags</th>\n      <th>_merge</th>\n    </tr>\n  </thead>\n  <tbody>\n    <tr>\n      <th>2</th>\n      <td>11hfioi</td>\n      <td>KoreanHotties</td>\n      <td>Majestic_Painter8660</td>\n      <td>Underboob bikini</td>\n      <td>a man with a beard and a beard sitting in fron...</td>\n      <td>a154a56b1b87cf3a0bc93600c86e4585</td>\n      <td>/r/KoreanHotties/comments/11hfioi/underboob_bi...</td>\n      <td>https://i.redd.it/cimr17q84jla1.jpg</td>\n      <td>a154a56b1b87cf3a0bc93600c86e4585.jpg</td>\n      <td>D:\\ImageDoesNotExist.png</td>\n      <td>None</td>\n      <td>False</td>\n      <td>False</td>\n      <td>None</td>\n      <td>None</td>\n      <td>left_only</td>\n    </tr>\n    <tr>\n      <th>13236</th>\n      <td>ziaoyg</td>\n      <td>itookapicture</td>\n      <td>Beowawe_Ghostkeeper</td>\n      <td>ITAP of an injured cardinal about to take her ...</td>\n      <td>a close up of a small bird perched on a wooden...</td>\n      <td>71daa45cc13faf381458f972eaba44c3</td>\n      <td>/r/itookapicture/comments/ziaoyg/itap_of_an_in...</td>\n      <td>https://i.redd.it/r9m41y02e65a1.jpg</td>\n      <td>71daa45cc13faf381458f972eaba44c3.jpg</td>\n      <td>D:\\ImageDoesNotExist.png</td>\n      <td>None</td>\n      <td>False</td>\n      <td>False</td>\n      <td>None</td>\n      <td>None</td>\n      <td>left_only</td>\n    </tr>\n    <tr>\n      <th>16646</th>\n      <td>11aujg6</td>\n      <td>itookapicture</td>\n      <td>Tychke</td>\n      <td>ITAP of our underground campsite</td>\n      <td>there is a bed with a mattress and candles on it</td>\n      <td>5ce0690cecd81e5393bc4d294f942052</td>\n      <td>/r/itookapicture/comments/11aujg6/itap_of_our_...</td>\n      <td>https://i.redd.it/zhfwpf71o5ka1.jpg</td>\n      <td>5ce0690cecd81e5393bc4d294f942052.jpg</td>\n      <td>D:\\ImageDoesNotExist.png</td>\n      <td>None</td>\n      <td>False</td>\n      <td>False</td>\n      <td>None</td>\n      <td>None</td>\n      <td>left_only</td>\n    </tr>\n    <tr>\n      <th>23620</th>\n      <td>z4t3ln</td>\n      <td>realasians</td>\n      <td>Majestic_Painter8660</td>\n      <td>Cute blonde asian</td>\n      <td>blonde haired woman in a green dress sitting o...</td>\n      <td>4c7cdcbf083e1932116b7000bc2792d0</td>\n      <td>/r/realasians/comments/z4t3ln/cute_blonde_asian/</td>\n      <td>https://i.redd.it/wiqozus4pep91.jpg</td>\n      <td>4c7cdcbf083e1932116b7000bc2792d0.jpg</td>\n      <td>D:\\ImageDoesNotExist.png</td>\n      <td>None</td>\n      <td>False</td>\n      <td>False</td>\n      <td>None</td>\n      <td>None</td>\n      <td>left_only</td>\n    </tr>\n    <tr>\n      <th>23622</th>\n      <td>z4s4ye</td>\n      <td>realasians</td>\n      <td>jenniferaniston1619</td>\n      <td>rate me</td>\n      <td>arafed image of a woman in a black top and a car</td>\n      <td>f909a45f8e164b2b44da5ed10764271a</td>\n      <td>/r/realasians/comments/z4s4ye/rate_me/</td>\n      <td>https://i.redd.it/9l122aosp62a1.jpg</td>\n      <td>f909a45f8e164b2b44da5ed10764271a.jpg</td>\n      <td>D:\\ImageDoesNotExist.png</td>\n      <td>None</td>\n      <td>False</td>\n      <td>False</td>\n      <td>None</td>\n      <td>None</td>\n      <td>left_only</td>\n    </tr>\n    <tr>\n      <th>...</th>\n      <td>...</td>\n      <td>...</td>\n      <td>...</td>\n      <td>...</td>\n      <td>...</td>\n      <td>...</td>\n      <td>...</td>\n      <td>...</td>\n      <td>...</td>\n      <td>...</td>\n      <td>...</td>\n      <td>...</td>\n      <td>...</td>\n      <td>...</td>\n      <td>...</td>\n      <td>...</td>\n    </tr>\n    <tr>\n      <th>37917</th>\n      <td>131huiu</td>\n      <td>EarthPorn</td>\n      <td>BadShaman87</td>\n      <td>2/16/23 Thor’s Hammer, Bryce Canyon NP, Utah (...</td>\n      <td>None</td>\n      <td>d2f2efe7df5464fa22c22584ea9c94c5</td>\n      <td>/r/EarthPorn/comments/131huiu/21623_thors_hamm...</td>\n      <td>https://i.redd.it/x8qut5htjlwa1.jpg</td>\n      <td>d2f2efe7df5464fa22c22584ea9c94c5.jpg</td>\n      <td>D:\\data\\images\\EarthPorn\\d2f2efe7df5464fa22c22...</td>\n      <td>None</td>\n      <td>False</td>\n      <td>False</td>\n      <td>None</td>\n      <td>None</td>\n      <td>left_only</td>\n    </tr>\n    <tr>\n      <th>37938</th>\n      <td>131e3f8</td>\n      <td>realasians</td>\n      <td>throwawaychf</td>\n      <td>Coy glasses</td>\n      <td>None</td>\n      <td>None</td>\n      <td>/r/realasians/comments/131e3f8/coy_glasses/</td>\n      <td>https://i.imgur.com/zJWNbuE.jpg</td>\n      <td>None</td>\n      <td>None</td>\n      <td>None</td>\n      <td>False</td>\n      <td>False</td>\n      <td>None</td>\n      <td>None</td>\n      <td>left_only</td>\n    </tr>\n    <tr>\n      <th>38032</th>\n      <td>131f550</td>\n      <td>tightdresses</td>\n      <td>Puzzled_MJ</td>\n      <td>Let me be your lady in red</td>\n      <td>None</td>\n      <td>7d33738941b8662867a978a80c5c6322</td>\n      <td>/r/tightdresses/comments/131f550/let_me_be_you...</td>\n      <td>https://i.redd.it/ohgin41nvkwa1.jpg</td>\n      <td>7d33738941b8662867a978a80c5c6322.jpg</td>\n      <td>D:\\data\\images\\tightdresses\\7d33738941b8662867...</td>\n      <td>None</td>\n      <td>False</td>\n      <td>False</td>\n      <td>None</td>\n      <td>None</td>\n      <td>left_only</td>\n    </tr>\n    <tr>\n      <th>38037</th>\n      <td>131jcn7</td>\n      <td>tightdresses</td>\n      <td>systemx123456</td>\n      <td>Green (AIC)</td>\n      <td>None</td>\n      <td>None</td>\n      <td>/r/tightdresses/comments/131jcn7/green_aic/</td>\n      <td>https://imgur.com/RjenuFx.jpg</td>\n      <td>None</td>\n      <td>None</td>\n      <td>None</td>\n      <td>False</td>\n      <td>False</td>\n      <td>None</td>\n      <td>None</td>\n      <td>left_only</td>\n    </tr>\n    <tr>\n      <th>38038</th>\n      <td>131jen0</td>\n      <td>tightdresses</td>\n      <td>systemx123456</td>\n      <td>Fancy (AIC)</td>\n      <td>None</td>\n      <td>None</td>\n      <td>/r/tightdresses/comments/131jen0/fancy_aic/</td>\n      <td>https://imgur.com/zT6YxcF.jpg</td>\n      <td>None</td>\n      <td>None</td>\n      <td>None</td>\n      <td>False</td>\n      <td>False</td>\n      <td>None</td>\n      <td>None</td>\n      <td>left_only</td>\n    </tr>\n  </tbody>\n</table>\n<p>4341 rows × 16 columns</p>\n</div>"
     },
     "metadata": {},
     "output_type": "display_data"
    },
    {
     "name": "stdout",
     "output_type": "stream",
     "text": [
      "CPU times: total: 0 ns\n",
      "Wall time: 18 ms\n"
     ]
    }
   ],
   "source": [
    "%%time\n",
    "\n",
    "names = [item + \"_curated\" for item in schema.names if item != 'id']\n",
    "new_left = left.drop(columns=names)\n",
    "\n",
    "name_map = [{item + \"_raw\": item} for item in schema.names if item != 'id']\n",
    "for elem in name_map:\n",
    "    new_left.rename(mapper=elem, axis='columns', inplace=True)\n",
    "\n",
    "display(new_left.shape)\n",
    "display(new_left)"
   ],
   "metadata": {
    "collapsed": false,
    "ExecuteTime": {
     "end_time": "2023-05-03T15:31:30.629740300Z",
     "start_time": "2023-05-03T15:31:30.600341200Z"
    }
   }
  },
  {
   "cell_type": "code",
   "execution_count": 11,
   "outputs": [
    {
     "name": "stderr",
     "output_type": "stream",
     "text": [
      "global: 100%|██████████| 4341/4341 [00:00<00:00, 33496.16it/s]\n"
     ]
    },
    {
     "data": {
      "text/plain": "'== Added Model =='"
     },
     "metadata": {},
     "output_type": "display_data"
    },
    {
     "data": {
      "text/plain": "(4341, 16)"
     },
     "metadata": {},
     "output_type": "display_data"
    },
    {
     "data": {
      "text/plain": "            id      subreddit                author   \n2      11hfioi  KoreanHotties  Majestic_Painter8660  \\\n13236   ziaoyg  itookapicture   Beowawe_Ghostkeeper   \n16646  11aujg6  itookapicture                Tychke   \n23620   z4t3ln     realasians  Majestic_Painter8660   \n23622   z4s4ye     realasians   jenniferaniston1619   \n...        ...            ...                   ...   \n37917  131huiu      EarthPorn           BadShaman87   \n37938  131e3f8     realasians          throwawaychf   \n38032  131f550   tightdresses            Puzzled_MJ   \n38037  131jcn7   tightdresses         systemx123456   \n38038  131jen0   tightdresses         systemx123456   \n\n                                                   title   \n2                                       Underboob bikini  \\\n13236  ITAP of an injured cardinal about to take her ...   \n16646                   ITAP of our underground campsite   \n23620                                  Cute blonde asian   \n23622                                            rate me   \n...                                                  ...   \n37917  2/16/23 Thor’s Hammer, Bryce Canyon NP, Utah (...   \n37938                                        Coy glasses   \n38032                         Let me be your lady in red   \n38037                                        Green (AIC)   \n38038                                        Fancy (AIC)   \n\n                                                 caption   \n2      a man with a beard and a beard sitting in fron...  \\\n13236  a close up of a small bird perched on a wooden...   \n16646   there is a bed with a mattress and candles on it   \n23620  blonde haired woman in a green dress sitting o...   \n23622   arafed image of a woman in a black top and a car   \n...                                                  ...   \n37917                                               None   \n37938                                               None   \n38032                                               None   \n38037                                               None   \n38038                                               None   \n\n                                   hash   \n2      a154a56b1b87cf3a0bc93600c86e4585  \\\n13236  71daa45cc13faf381458f972eaba44c3   \n16646  5ce0690cecd81e5393bc4d294f942052   \n23620  4c7cdcbf083e1932116b7000bc2792d0   \n23622  f909a45f8e164b2b44da5ed10764271a   \n...                                 ...   \n37917  d2f2efe7df5464fa22c22584ea9c94c5   \n37938                              None   \n38032  7d33738941b8662867a978a80c5c6322   \n38037                              None   \n38038                              None   \n\n                                               permalink   \n2      /r/KoreanHotties/comments/11hfioi/underboob_bi...  \\\n13236  /r/itookapicture/comments/ziaoyg/itap_of_an_in...   \n16646  /r/itookapicture/comments/11aujg6/itap_of_our_...   \n23620   /r/realasians/comments/z4t3ln/cute_blonde_asian/   \n23622             /r/realasians/comments/z4s4ye/rate_me/   \n...                                                  ...   \n37917  /r/EarthPorn/comments/131huiu/21623_thors_hamm...   \n37938        /r/realasians/comments/131e3f8/coy_glasses/   \n38032  /r/tightdresses/comments/131f550/let_me_be_you...   \n38037        /r/tightdresses/comments/131jcn7/green_aic/   \n38038        /r/tightdresses/comments/131jen0/fancy_aic/   \n\n                              original_url   \n2      https://i.redd.it/cimr17q84jla1.jpg  \\\n13236  https://i.redd.it/r9m41y02e65a1.jpg   \n16646  https://i.redd.it/zhfwpf71o5ka1.jpg   \n23620  https://i.redd.it/wiqozus4pep91.jpg   \n23622  https://i.redd.it/9l122aosp62a1.jpg   \n...                                    ...   \n37917  https://i.redd.it/x8qut5htjlwa1.jpg   \n37938      https://i.imgur.com/zJWNbuE.jpg   \n38032  https://i.redd.it/ohgin41nvkwa1.jpg   \n38037        https://imgur.com/RjenuFx.jpg   \n38038        https://imgur.com/zT6YxcF.jpg   \n\n                                 image_name   \n2      a154a56b1b87cf3a0bc93600c86e4585.jpg  \\\n13236  71daa45cc13faf381458f972eaba44c3.jpg   \n16646  5ce0690cecd81e5393bc4d294f942052.jpg   \n23620  4c7cdcbf083e1932116b7000bc2792d0.jpg   \n23622  f909a45f8e164b2b44da5ed10764271a.jpg   \n...                                     ...   \n37917  d2f2efe7df5464fa22c22584ea9c94c5.jpg   \n37938                                  None   \n38032  7d33738941b8662867a978a80c5c6322.jpg   \n38037                                  None   \n38038                                  None   \n\n                                                    path                model   \n2                               D:\\ImageDoesNotExist.png   SexyAsianDiffusion  \\\n13236                           D:\\ImageDoesNotExist.png        ITAPDiffusion   \n16646                           D:\\ImageDoesNotExist.png        ITAPDiffusion   \n23620                           D:\\ImageDoesNotExist.png   SexyAsianDiffusion   \n23622                           D:\\ImageDoesNotExist.png   SexyAsianDiffusion   \n...                                                  ...                  ...   \n37917  D:\\data\\images\\EarthPorn\\d2f2efe7df5464fa22c22...      NatureDiffusion   \n37938                                               None   SexyAsianDiffusion   \n38032  D:\\data\\images\\tightdresses\\7d33738941b8662867...  PrettyGirlDiffusion   \n38037                                               None  PrettyGirlDiffusion   \n38038                                               None  PrettyGirlDiffusion   \n\n       exists  curated accept  tags     _merge  \n2       False    False   None  None  left_only  \n13236   False    False   None  None  left_only  \n16646   False    False   None  None  left_only  \n23620   False    False   None  None  left_only  \n23622   False    False   None  None  left_only  \n...       ...      ...    ...   ...        ...  \n37917   False    False   None  None  left_only  \n37938   False    False   None  None  left_only  \n38032   False    False   None  None  left_only  \n38037   False    False   None  None  left_only  \n38038   False    False   None  None  left_only  \n\n[4341 rows x 16 columns]",
      "text/html": "<div>\n<style scoped>\n    .dataframe tbody tr th:only-of-type {\n        vertical-align: middle;\n    }\n\n    .dataframe tbody tr th {\n        vertical-align: top;\n    }\n\n    .dataframe thead th {\n        text-align: right;\n    }\n</style>\n<table border=\"1\" class=\"dataframe\">\n  <thead>\n    <tr style=\"text-align: right;\">\n      <th></th>\n      <th>id</th>\n      <th>subreddit</th>\n      <th>author</th>\n      <th>title</th>\n      <th>caption</th>\n      <th>hash</th>\n      <th>permalink</th>\n      <th>original_url</th>\n      <th>image_name</th>\n      <th>path</th>\n      <th>model</th>\n      <th>exists</th>\n      <th>curated</th>\n      <th>accept</th>\n      <th>tags</th>\n      <th>_merge</th>\n    </tr>\n  </thead>\n  <tbody>\n    <tr>\n      <th>2</th>\n      <td>11hfioi</td>\n      <td>KoreanHotties</td>\n      <td>Majestic_Painter8660</td>\n      <td>Underboob bikini</td>\n      <td>a man with a beard and a beard sitting in fron...</td>\n      <td>a154a56b1b87cf3a0bc93600c86e4585</td>\n      <td>/r/KoreanHotties/comments/11hfioi/underboob_bi...</td>\n      <td>https://i.redd.it/cimr17q84jla1.jpg</td>\n      <td>a154a56b1b87cf3a0bc93600c86e4585.jpg</td>\n      <td>D:\\ImageDoesNotExist.png</td>\n      <td>SexyAsianDiffusion</td>\n      <td>False</td>\n      <td>False</td>\n      <td>None</td>\n      <td>None</td>\n      <td>left_only</td>\n    </tr>\n    <tr>\n      <th>13236</th>\n      <td>ziaoyg</td>\n      <td>itookapicture</td>\n      <td>Beowawe_Ghostkeeper</td>\n      <td>ITAP of an injured cardinal about to take her ...</td>\n      <td>a close up of a small bird perched on a wooden...</td>\n      <td>71daa45cc13faf381458f972eaba44c3</td>\n      <td>/r/itookapicture/comments/ziaoyg/itap_of_an_in...</td>\n      <td>https://i.redd.it/r9m41y02e65a1.jpg</td>\n      <td>71daa45cc13faf381458f972eaba44c3.jpg</td>\n      <td>D:\\ImageDoesNotExist.png</td>\n      <td>ITAPDiffusion</td>\n      <td>False</td>\n      <td>False</td>\n      <td>None</td>\n      <td>None</td>\n      <td>left_only</td>\n    </tr>\n    <tr>\n      <th>16646</th>\n      <td>11aujg6</td>\n      <td>itookapicture</td>\n      <td>Tychke</td>\n      <td>ITAP of our underground campsite</td>\n      <td>there is a bed with a mattress and candles on it</td>\n      <td>5ce0690cecd81e5393bc4d294f942052</td>\n      <td>/r/itookapicture/comments/11aujg6/itap_of_our_...</td>\n      <td>https://i.redd.it/zhfwpf71o5ka1.jpg</td>\n      <td>5ce0690cecd81e5393bc4d294f942052.jpg</td>\n      <td>D:\\ImageDoesNotExist.png</td>\n      <td>ITAPDiffusion</td>\n      <td>False</td>\n      <td>False</td>\n      <td>None</td>\n      <td>None</td>\n      <td>left_only</td>\n    </tr>\n    <tr>\n      <th>23620</th>\n      <td>z4t3ln</td>\n      <td>realasians</td>\n      <td>Majestic_Painter8660</td>\n      <td>Cute blonde asian</td>\n      <td>blonde haired woman in a green dress sitting o...</td>\n      <td>4c7cdcbf083e1932116b7000bc2792d0</td>\n      <td>/r/realasians/comments/z4t3ln/cute_blonde_asian/</td>\n      <td>https://i.redd.it/wiqozus4pep91.jpg</td>\n      <td>4c7cdcbf083e1932116b7000bc2792d0.jpg</td>\n      <td>D:\\ImageDoesNotExist.png</td>\n      <td>SexyAsianDiffusion</td>\n      <td>False</td>\n      <td>False</td>\n      <td>None</td>\n      <td>None</td>\n      <td>left_only</td>\n    </tr>\n    <tr>\n      <th>23622</th>\n      <td>z4s4ye</td>\n      <td>realasians</td>\n      <td>jenniferaniston1619</td>\n      <td>rate me</td>\n      <td>arafed image of a woman in a black top and a car</td>\n      <td>f909a45f8e164b2b44da5ed10764271a</td>\n      <td>/r/realasians/comments/z4s4ye/rate_me/</td>\n      <td>https://i.redd.it/9l122aosp62a1.jpg</td>\n      <td>f909a45f8e164b2b44da5ed10764271a.jpg</td>\n      <td>D:\\ImageDoesNotExist.png</td>\n      <td>SexyAsianDiffusion</td>\n      <td>False</td>\n      <td>False</td>\n      <td>None</td>\n      <td>None</td>\n      <td>left_only</td>\n    </tr>\n    <tr>\n      <th>...</th>\n      <td>...</td>\n      <td>...</td>\n      <td>...</td>\n      <td>...</td>\n      <td>...</td>\n      <td>...</td>\n      <td>...</td>\n      <td>...</td>\n      <td>...</td>\n      <td>...</td>\n      <td>...</td>\n      <td>...</td>\n      <td>...</td>\n      <td>...</td>\n      <td>...</td>\n      <td>...</td>\n    </tr>\n    <tr>\n      <th>37917</th>\n      <td>131huiu</td>\n      <td>EarthPorn</td>\n      <td>BadShaman87</td>\n      <td>2/16/23 Thor’s Hammer, Bryce Canyon NP, Utah (...</td>\n      <td>None</td>\n      <td>d2f2efe7df5464fa22c22584ea9c94c5</td>\n      <td>/r/EarthPorn/comments/131huiu/21623_thors_hamm...</td>\n      <td>https://i.redd.it/x8qut5htjlwa1.jpg</td>\n      <td>d2f2efe7df5464fa22c22584ea9c94c5.jpg</td>\n      <td>D:\\data\\images\\EarthPorn\\d2f2efe7df5464fa22c22...</td>\n      <td>NatureDiffusion</td>\n      <td>False</td>\n      <td>False</td>\n      <td>None</td>\n      <td>None</td>\n      <td>left_only</td>\n    </tr>\n    <tr>\n      <th>37938</th>\n      <td>131e3f8</td>\n      <td>realasians</td>\n      <td>throwawaychf</td>\n      <td>Coy glasses</td>\n      <td>None</td>\n      <td>None</td>\n      <td>/r/realasians/comments/131e3f8/coy_glasses/</td>\n      <td>https://i.imgur.com/zJWNbuE.jpg</td>\n      <td>None</td>\n      <td>None</td>\n      <td>SexyAsianDiffusion</td>\n      <td>False</td>\n      <td>False</td>\n      <td>None</td>\n      <td>None</td>\n      <td>left_only</td>\n    </tr>\n    <tr>\n      <th>38032</th>\n      <td>131f550</td>\n      <td>tightdresses</td>\n      <td>Puzzled_MJ</td>\n      <td>Let me be your lady in red</td>\n      <td>None</td>\n      <td>7d33738941b8662867a978a80c5c6322</td>\n      <td>/r/tightdresses/comments/131f550/let_me_be_you...</td>\n      <td>https://i.redd.it/ohgin41nvkwa1.jpg</td>\n      <td>7d33738941b8662867a978a80c5c6322.jpg</td>\n      <td>D:\\data\\images\\tightdresses\\7d33738941b8662867...</td>\n      <td>PrettyGirlDiffusion</td>\n      <td>False</td>\n      <td>False</td>\n      <td>None</td>\n      <td>None</td>\n      <td>left_only</td>\n    </tr>\n    <tr>\n      <th>38037</th>\n      <td>131jcn7</td>\n      <td>tightdresses</td>\n      <td>systemx123456</td>\n      <td>Green (AIC)</td>\n      <td>None</td>\n      <td>None</td>\n      <td>/r/tightdresses/comments/131jcn7/green_aic/</td>\n      <td>https://imgur.com/RjenuFx.jpg</td>\n      <td>None</td>\n      <td>None</td>\n      <td>PrettyGirlDiffusion</td>\n      <td>False</td>\n      <td>False</td>\n      <td>None</td>\n      <td>None</td>\n      <td>left_only</td>\n    </tr>\n    <tr>\n      <th>38038</th>\n      <td>131jen0</td>\n      <td>tightdresses</td>\n      <td>systemx123456</td>\n      <td>Fancy (AIC)</td>\n      <td>None</td>\n      <td>None</td>\n      <td>/r/tightdresses/comments/131jen0/fancy_aic/</td>\n      <td>https://imgur.com/zT6YxcF.jpg</td>\n      <td>None</td>\n      <td>None</td>\n      <td>PrettyGirlDiffusion</td>\n      <td>False</td>\n      <td>False</td>\n      <td>None</td>\n      <td>None</td>\n      <td>left_only</td>\n    </tr>\n  </tbody>\n</table>\n<p>4341 rows × 16 columns</p>\n</div>"
     },
     "metadata": {},
     "output_type": "display_data"
    }
   ],
   "source": [
    "new_left['model'] = new_left.progress_apply(lambda x: add_source(x, sources), axis=1)\n",
    "\n",
    "display(\"== Added Model ==\")\n",
    "display(new_left.shape)\n",
    "display(new_left)"
   ],
   "metadata": {
    "collapsed": false,
    "ExecuteTime": {
     "end_time": "2023-05-03T15:31:47.787077800Z",
     "start_time": "2023-05-03T15:31:47.589847100Z"
    }
   }
  },
  {
   "cell_type": "code",
   "execution_count": null,
   "outputs": [
    {
     "data": {
      "text/plain": "Downloading pytorch_model.bin:   0%|          | 0.00/1.88G [00:00<?, ?B/s]",
      "application/vnd.jupyter.widget-view+json": {
       "version_major": 2,
       "version_minor": 0,
       "model_id": "81d098bc92d945f1a950e78f38aeaf2a"
      }
     },
     "metadata": {},
     "output_type": "display_data"
    }
   ],
   "source": [
    "from shared_code.utility.scripts.blip_caption import BlipCaption\n",
    "import random\n",
    "\n",
    "blip = BlipCaption(0)\n",
    "\n",
    "def caption_image(x: object, blip_captioning_list: [BlipCaption, BlipCaption]) -> str:\n",
    "    try:\n",
    "        path = x['path']\n",
    "        exists_image = bool(x['exists'])\n",
    "        resulting_caption = x['caption']\n",
    "\n",
    "        if not os.path.exists(path):\n",
    "            return \"\"\n",
    "\n",
    "        if not exists_image:\n",
    "            return \"\"\n",
    "\n",
    "        if resulting_caption == None:\n",
    "            pass\n",
    "        if resulting_caption is None:\n",
    "            pass\n",
    "        else:\n",
    "            if len(resulting_caption) > 6:\n",
    "                return resulting_caption\n",
    "            if resulting_caption != \"\":\n",
    "                return resulting_caption\n",
    "            else:\n",
    "                pass\n",
    "\n",
    "        blip_captioning = random.choice(blip_captioning_list)\n",
    "\n",
    "        resulting_caption = blip_captioning.caption_image(path)\n",
    "\n",
    "        return resulting_caption\n",
    "\n",
    "    except Exception as e:\n",
    "        print(e)\n",
    "        return \"\"\n",
    "    finally:\n",
    "        pass"
   ],
   "metadata": {
    "collapsed": false,
    "is_executing": true,
    "ExecuteTime": {
     "start_time": "2023-05-03T15:32:15.538366700Z"
    }
   }
  },
  {
   "cell_type": "code",
   "execution_count": null,
   "outputs": [],
   "source": [
    "%%time\n",
    "\n",
    "from PIL import Image\n",
    "import hashlib\n",
    "from tqdm import tqdm\n",
    "from io import BytesIO\n",
    "import requests\n",
    "import shutil\n",
    "\n",
    "records = new_left.to_dict(orient='records')\n",
    "\n",
    "out_records = []\n",
    "cloud_ready_files = [os.path.basename(file) for file in file_system.ls('data/image/')]\n",
    "\n",
    "for elem in tqdm(records, total=len(records), desc='Captioning And Uploading Images'):\n",
    "    try:\n",
    "        if elem['id'] + '.jpg' in cloud_ready_files:\n",
    "            pass\n",
    "        else:\n",
    "            image_url = elem['original_url']\n",
    "            result = requests.get(image_url)\n",
    "            content = result.content\n",
    "            md5 = hashlib.md5(content).hexdigest()\n",
    "            if md5 == \"f17b01901c752c1bb04928131d1661af\" or md5 == \"d835884373f4d6c8f24742ceabe74946\":\n",
    "                continue\n",
    "            image = Image.open(BytesIO(content))\n",
    "            result = caption_image(elem, [blip, blip])\n",
    "            image.save(f'{elem[\"id\"]}.jpg')\n",
    "            update_data_frame_by_id(new_left, elem['id'], 'caption', result)\n",
    "            update_data_frame_by_id(new_left, elem['id'], 'hash', md5)\n",
    "            update_data_frame_by_id(new_left, elem['id'], 'exists', True)\n",
    "            update_data_frame_by_id(new_left, elem['id'], 'path', f'data/image/{elem[\"id\"]}.jpg')\n",
    "            update_data_frame_by_id(new_left, elem['id'], 'image_name', f'{elem[\"id\"]}.jpg')\n",
    "            update_data_frame_by_id(new_left, elem['id'], 'accept', False)\n",
    "            update_data_frame_by_id(new_left, elem['id'], 'curated', False)\n",
    "            update_data_frame_by_id(new_left, elem['id'], 'tags', [])\n",
    "            new_left.loc(new_left['id'] == elem['id'], 'caption', result)\n",
    "            new_left.loc(new_left['id'] == elem['id'], 'hash', md5)\n",
    "            new_left.loc(new_left['id'] == elem['id'], 'exists', True)\n",
    "            new_left.loc(new_left['id'] == elem['id'], 'path', f'data/image/{elem[\"id\"]}.jpg')\n",
    "            new_left.loc(new_left['id'] == elem['id'], 'image_name', f'{elem[\"id\"]}.jpg')\n",
    "            new_left.loc(new_left['id'] == elem['id'], 'accept', False)\n",
    "            new_left.loc(new_left['id'] == elem['id'], 'curated', False)\n",
    "            new_left.loc(new_left['id'] == elem['id'], 'tags', [])\n",
    "            file_system.upload(f'{elem[\"id\"]}.jpg', f'data/image/{elem[\"id\"]}.jpg', overwrite=True)\n",
    "            out_records.append(elem)\n",
    "            shutil.rmtree(f'{elem[\"id\"]}.jpg')\n",
    "    except Exception as e:\n",
    "        print(e)\n",
    "        continue"
   ],
   "metadata": {
    "collapsed": false
   }
  },
  {
   "cell_type": "code",
   "execution_count": null,
   "outputs": [],
   "source": [
    "cloud_ready_files = [os.path.basename(file) for file in file_system.ls('data/image/')]\n",
    "# display(cloud_ready_files)"
   ],
   "metadata": {
    "collapsed": false
   }
  },
  {
   "cell_type": "code",
   "execution_count": null,
   "outputs": [],
   "source": [
    "# curated = pd.read_parquet('data/parquet/back.parquet', filesystem=file_system, engine='pyarrow', schema=schema)\n",
    "# already_curated_ids = curated.loc[curated['accept'] == True].id.to_list()\n",
    "# display(already_curated_ids)"
   ],
   "metadata": {
    "collapsed": false
   }
  },
  {
   "cell_type": "code",
   "execution_count": null,
   "outputs": [],
   "source": [
    "# from tqdm import tqdm\n",
    "#\n",
    "# records = extant_raw_indexed.to_dict(orient='records')\n",
    "# curated_records = curated.to_dict(orient='records')\n",
    "#\n",
    "# extant_records = []\n",
    "#\n",
    "# for record in tqdm(records, total=len(records), desc='Checking Local records'):\n",
    "#     try:\n",
    "#         if os.path.exists(record['path']):\n",
    "#             extant_records.append(record)\n",
    "#     except Exception as e:\n",
    "#         continue\n",
    "#\n",
    "# out = []\n",
    "#\n",
    "# # for record in tqdm(extant_records, total=len(extant_records), desc='Saving Extant Records'):\n",
    "# #     link = record['permalink'].split('/')\n",
    "# #     record['id'] = link[4]\n",
    "# #\n",
    "# #     if record['id'] in already_curated_ids:\n",
    "# #         continue\n",
    "# #     if not record['id'] + \".jpg\" in cloud_ready_files:\n",
    "# #         print(record['path'])\n",
    "# #         file_system.upload(record['path'], f'data/image/{record[\"id\"]}.jpg', overwrite=True)\n",
    "# #     else:\n",
    "# #         record['path'] = f'data/image/{record[\"id\"]}.jpg'\n",
    "# #         record['image_name'] = f'{record[\"id\"]}.jpg'\n",
    "# #         record['accept'] = False\n",
    "# #         record['curated'] = False\n",
    "# #         record['tags'] = []\n",
    "# #         try:\n",
    "# #             record['model'] = [source['name'] for source in sources if record['subreddit'] in source['data']][0]\n",
    "# #             record['tags'] = []\n",
    "# #         except:\n",
    "# #             pass\n",
    "# #         if record['id'] in [curated_record['id'] for curated_record in curated_records]:\n",
    "# #             record['model'] = \"\"\n",
    "# #             record['tags'] = []\n",
    "# #             continue\n",
    "# #         out.append(record)\n",
    "# #\n",
    "# # new_things = pd.DataFrame(data=out)"
   ],
   "metadata": {
    "collapsed": false
   }
  },
  {
   "cell_type": "code",
   "execution_count": null,
   "outputs": [],
   "source": [
    "# display(new_things)"
   ],
   "metadata": {
    "collapsed": false
   }
  },
  {
   "cell_type": "code",
   "execution_count": null,
   "outputs": [],
   "source": [
    "# foo.to_parquet('data/parquet/', filesystem=file_system, engine='pyarrow', schema=schema, partition_cols=['subreddit'], index=['id'])"
   ],
   "metadata": {
    "collapsed": false
   }
  },
  {
   "cell_type": "code",
   "execution_count": null,
   "outputs": [],
   "source": [
    "# import pandas\n",
    "#\n",
    "# foo = pandas.read_parquet('data/parquet/back.parquet', filesystem=file_system, engine='pyarrow', schema=schema)\n",
    "#\n",
    "# # foo.set_index('id', inplace=True, drop=False)\n",
    "#\n",
    "# # foo.drop_duplicates(subset=['id'], keep='last', inplace=True)\n",
    "#\n",
    "# print(foo.shape)\n",
    "#\n",
    "# display(foo)\n",
    "#\n",
    "# # foo.to_parquet('data/parquet/back.parquet', filesystem=file_system, engine='pyarrow', schema=schema)\n",
    "# # df_index.to_parquet('data/parquet/', filesystem=file_system, engine='pyarrow', schema=schema)\n",
    "# # records = foo.to_dict(orient='records')\n",
    "# #\n",
    "# # thing = records[0]\n",
    "# #\n",
    "# # bar = pandas.DataFrame(data=[thing], index=['id'])\n",
    "# #\n",
    "# # display(bar)\n",
    "# #\n",
    "# # foo.update(bar, overwrite=True)\n",
    "# #\n",
    "# # print(foo.shape)\n",
    "# #\n",
    "# # display(foo)\n",
    "# #\n",
    "# # display(foo.loc[foo['id'] == '106mh03'])"
   ],
   "metadata": {
    "collapsed": false
   }
  },
  {
   "cell_type": "code",
   "execution_count": null,
   "outputs": [],
   "source": [
    "# temp = foo\n",
    "# display(temp)"
   ],
   "metadata": {
    "collapsed": false
   }
  },
  {
   "cell_type": "code",
   "execution_count": null,
   "outputs": [],
   "source": [
    "# temp = foo\n",
    "# display(temp)\n",
    "# df_index.to_parquet('data/parquet/ready_to_curate.parquet', filesystem=file_system, engine='pyarrow', schema=schema)"
   ],
   "metadata": {
    "collapsed": false
   }
  },
  {
   "cell_type": "code",
   "execution_count": null,
   "outputs": [],
   "source": [
    "\n",
    "# foo = pandas.DataFrame(data=[{\n",
    "#     'id': '10kzbey',\n",
    "#     'path': 'data/image/1.jpg',\n",
    "#     'image_name': '1.jpg',\n",
    "#     'accept': True,\n",
    "#     'curated': True,\n",
    "#     'model': 'test',\n",
    "#     'tags': []\n",
    "# }])\n",
    "#\n",
    "# temp = df\n",
    "\n",
    "# display(df.loc[df['id'] == '105styc'])\n",
    "\n",
    "# display(temp.loc[temp['id'] == '10kzbey'])\n",
    "\n",
    "# display(temp.loc[temp['id'] == '10kzbey'])"
   ],
   "metadata": {
    "collapsed": false
   }
  }
 ],
 "metadata": {
  "kernelspec": {
   "display_name": "Python 3",
   "language": "python",
   "name": "python3"
  },
  "language_info": {
   "codemirror_mode": {
    "name": "ipython",
    "version": 2
   },
   "file_extension": ".py",
   "mimetype": "text/x-python",
   "name": "python",
   "nbconvert_exporter": "python",
   "pygments_lexer": "ipython2",
   "version": "2.7.6"
  }
 },
 "nbformat": 4,
 "nbformat_minor": 0
}
