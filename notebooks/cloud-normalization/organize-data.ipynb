{
 "cells": [
  {
   "cell_type": "code",
   "execution_count": 1,
   "metadata": {
    "collapsed": true,
    "ExecuteTime": {
     "end_time": "2023-04-30T18:04:39.327076700Z",
     "start_time": "2023-04-30T18:04:37.727238800Z"
    }
   },
   "outputs": [],
   "source": [
    "import os.path\n",
    "\n",
    "import pandas as pd\n",
    "\n",
    "\n",
    "%run D:\\workspaces\\General\\notebooks\\image-processing\\0-0-common.ipynb"
   ]
  },
  {
   "cell_type": "code",
   "execution_count": 2,
   "outputs": [
    {
     "name": "stdout",
     "output_type": "stream",
     "text": [
      "CPU times: total: 0 ns\n",
      "Wall time: 0 ns\n"
     ]
    }
   ],
   "source": [
    "%%time\n",
    "\n",
    "from shared_code.utility.storage.azure_file_storage import AzureFileStorageAdapter\n",
    "from adlfs import AzureBlobFileSystem\n",
    "\n",
    "storage_adapter: AzureFileStorageAdapter = AzureFileStorageAdapter('data')\n",
    "file_system: AzureBlobFileSystem = storage_adapter.get_file_storage()\n"
   ],
   "metadata": {
    "collapsed": false,
    "ExecuteTime": {
     "end_time": "2023-04-30T18:04:39.327076700Z",
     "start_time": "2023-04-30T18:04:39.310545100Z"
    }
   }
  },
  {
   "cell_type": "code",
   "execution_count": 3,
   "outputs": [
    {
     "name": "stdout",
     "output_type": "stream",
     "text": [
      "(41505, 13)\n",
      "(38051, 13)\n",
      "CPU times: total: 781 ms\n",
      "Wall time: 3.14 s\n"
     ]
    }
   ],
   "source": [
    "%%time\n",
    "\n",
    "local_df = pd.read_parquet('data/processed_raw_data.parquet', filesystem=file_system, engine='pyarrow')\n",
    "\n",
    "print(local_df.shape)\n",
    "\n",
    "de_duplicated = local_df.drop_duplicates(subset=['id'], keep='first')\n",
    "\n",
    "print(de_duplicated.shape)"
   ],
   "metadata": {
    "collapsed": false,
    "ExecuteTime": {
     "end_time": "2023-04-30T12:38:39.225801800Z",
     "start_time": "2023-04-30T12:38:36.041428900Z"
    }
   }
  },
  {
   "cell_type": "code",
   "execution_count": 4,
   "outputs": [
    {
     "name": "stdout",
     "output_type": "stream",
     "text": [
      "(38051, 13)\n",
      "CPU times: total: 31.2 ms\n",
      "Wall time: 13.2 ms\n"
     ]
    }
   ],
   "source": [
    "%%time\n",
    "\n",
    "df_pre_index = de_duplicated.set_index('id')\n",
    "\n",
    "df_pre_index['id'] = df_pre_index.index\n",
    "\n",
    "print(df_pre_index.shape)"
   ],
   "metadata": {
    "collapsed": false,
    "ExecuteTime": {
     "end_time": "2023-04-30T12:38:39.277352900Z",
     "start_time": "2023-04-30T12:38:39.133454400Z"
    }
   }
  },
  {
   "cell_type": "code",
   "execution_count": 5,
   "outputs": [],
   "source": [
    "loaded_files = [os.path.basename(file) for file in file_system.ls('data/image/')]"
   ],
   "metadata": {
    "collapsed": false,
    "ExecuteTime": {
     "end_time": "2023-04-30T12:40:36.926336100Z",
     "start_time": "2023-04-30T12:38:50.599543400Z"
    }
   }
  },
  {
   "cell_type": "code",
   "execution_count": 17,
   "outputs": [
    {
     "name": "stderr",
     "output_type": "stream",
     "text": [
      "Checking Local records: 100%|██████████| 38051/38051 [00:01<00:00, 28538.62it/s]\n",
      "Saving Extant Records: 100%|██████████| 33710/33710 [00:08<00:00, 4140.47it/s]\n"
     ]
    }
   ],
   "source": [
    "from tqdm import tqdm\n",
    "\n",
    "records = df_pre_index.to_dict(orient='records')\n",
    "extant_records = []\n",
    "\n",
    "for record in tqdm(records, total=len(records), desc='Checking Local records'):\n",
    "    try:\n",
    "        if os.path.exists(record['path']):\n",
    "            extant_records.append(record)\n",
    "    except Exception as e:\n",
    "        continue\n",
    "\n",
    "out = []\n",
    "\n",
    "for record in tqdm(extant_records, total=len(extant_records), desc='Saving Extant Records'):\n",
    "    if not record['id'] + \".jpg\" in loaded_files:\n",
    "        file_system.upload(record['path'], f'data/image/{record[\"id\"]}.jpg', overwrite=True)\n",
    "    else:\n",
    "        record['path'] = f'data/image/{record[\"id\"]}.jpg'\n",
    "        record['image_name'] = f'{record[\"id\"]}.jpg'\n",
    "        record['accept'] = False\n",
    "        record['curated'] = False\n",
    "        try:\n",
    "            record['model'] = [source['name'] for source in sources if record['subreddit'] in source['data']][0]\n",
    "        except:\n",
    "            record['model'] = \"\"\n",
    "        record['tags'] = []\n",
    "        out.append(record)\n",
    "\n",
    "df = pd.DataFrame(data=out)"
   ],
   "metadata": {
    "collapsed": false,
    "ExecuteTime": {
     "end_time": "2023-04-30T13:01:07.115419400Z",
     "start_time": "2023-04-30T13:00:57.277057400Z"
    }
   }
  },
  {
   "cell_type": "code",
   "execution_count": 79,
   "outputs": [
    {
     "data": {
      "text/plain": "              id       subreddit             author  \\\nid                                                    \n100rn7k  100rn7k        AmIhotAF       veritynicole   \n1013bdt  1013bdt        AmIhotAF        RaulDea9286   \n105mekt  105mekt        AmIhotAF           lindaniz   \n105qvgl  105qvgl        AmIhotAF        CaitVLove11   \n105rpcj  105rpcj        AmIhotAF    Flashy-Desk1858   \n...          ...             ...                ...   \n10kzd5c  10kzd5c  wallstreetbets           pocfdept   \n10kzbey  10kzbey  wallstreetbets           pocfdept   \n10kyx5z  10kyx5z  wallstreetbets          Bg_KiLLeR   \n10kywrx  10kywrx  wallstreetbets     lostin_dasauce   \n10ky1q6  10ky1q6  wallstreetbets  yupthatwalmartguy   \n\n                                                     title  \\\nid                                                           \n100rn7k                hey, hows your new year going (23F)   \n1013bdt                                      36F - ITALIAN   \n105mekt     interesting in good forward relationship (f24)   \n105qvgl                          Laughing is my favorite 😆   \n105rpcj           [f22] What do you think when you see me?   \n...                                                    ...   \n10kzd5c                        ii illegal short selling… 🤔   \n10kzbey                         II illegal short selling 🤔   \n10kyx5z  BAER expected to begin trading in Nasdaq on Ja...   \n10kywrx                                Thought of you guys   \n10ky1q6                   time to yolo on Adani ports puts   \n\n                                                   caption  \\\nid                                                           \n100rn7k  a woman in a white shirt and black pants is po...   \n1013bdt            arafed image of a woman in a bikini top   \n105mekt  a close up of a woman with red hair and a whit...   \n105qvgl  a woman in a blue tank top and shorts is smili...   \n105rpcj    a woman in a blue bikini top and a blue bra top   \n...                                                    ...   \n10kzd5c  a screenshote of a cell phone showing a messag...   \n10kzbey  a screenshote of a cell phone showing a screen...   \n10kyx5z  a screenshote of a dashboard with a bunch of d...   \n10kywrx  a black and white photo of a man in a suit and...   \n10ky1q6  a picture taken from a video of a bear in the ...   \n\n                                     hash  \\\nid                                          \n100rn7k  4bd00c19fa0ff2ade855e6d364b0760b   \n1013bdt  7c0d158cba8654ef1c635cbc5471d597   \n105mekt  ba4a0962cca2266a741e1e1700589c04   \n105qvgl  27bfe82c37314a0bcf02ab72eaf3a9e5   \n105rpcj  329eb42b8267fa1cc2980da8e48bcef1   \n...                                   ...   \n10kzd5c  d68443295aac515459b13ad786e9649f   \n10kzbey  959579cc440ec31a1cbb228fa3e4a3af   \n10kyx5z  07a6f67b65c0452c98aa59c1b57fc75d   \n10kywrx  03c75f7d48f92b73c5fd14ad5ee46b83   \n10ky1q6  12657d17c8f3d5f6c14959c78dcf3205   \n\n                                                 permalink  \\\nid                                                           \n100rn7k  /r/AmIhotAF/comments/100rn7k/hey_hows_your_new...   \n1013bdt          /r/AmIhotAF/comments/1013bdt/36f_italian/   \n105mekt  /r/AmIhotAF/comments/105mekt/interesting_in_go...   \n105qvgl  /r/AmIhotAF/comments/105qvgl/laughing_is_my_fa...   \n105rpcj  /r/AmIhotAF/comments/105rpcj/f22_what_do_you_t...   \n...                                                    ...   \n10kzd5c  /r/wallstreetbets/comments/10kzd5c/ii_illegal_...   \n10kzbey  /r/wallstreetbets/comments/10kzbey/ii_illegal_...   \n10kyx5z  /r/wallstreetbets/comments/10kyx5z/baer_expect...   \n10kywrx  /r/wallstreetbets/comments/10kywrx/thought_of_...   \n10ky1q6  /r/wallstreetbets/comments/10ky1q6/time_to_yol...   \n\n                                original_url   image_name  \\\nid                                                          \n100rn7k  https://i.redd.it/n7r47s0gkh9a1.jpg  100rn7k.jpg   \n1013bdt  https://i.redd.it/bg0wwdlt5k9a1.jpg  1013bdt.jpg   \n105mekt  https://i.redd.it/4avjshsz8naa1.jpg  105mekt.jpg   \n105qvgl  https://i.redd.it/2pulzr0lxmaa1.jpg  105qvgl.jpg   \n105rpcj  https://i.redd.it/rz68pf934naa1.jpg  105rpcj.jpg   \n...                                      ...          ...   \n10kzd5c  https://i.redd.it/g6xzdy7mm8ea1.jpg  10kzd5c.jpg   \n10kzbey  https://i.redd.it/cltd77i7m8ea1.jpg  10kzbey.jpg   \n10kyx5z  https://i.redd.it/grm4vq4ui8ea1.jpg  10kyx5z.jpg   \n10kywrx  https://i.redd.it/78nm8qdqi8ea1.jpg  10kywrx.jpg   \n10ky1q6  https://i.redd.it/mpj7805at6ea1.jpg  10ky1q6.jpg   \n\n                           path                model  exists  curated  accept  \\\nid                                                                              \n100rn7k  data/image/100rn7k.jpg        SexyDiffusion    True     True   False   \n1013bdt  data/image/1013bdt.jpg        SexyDiffusion    True    False   False   \n105mekt  data/image/105mekt.jpg        SexyDiffusion    True    False   False   \n105qvgl  data/image/105qvgl.jpg        SexyDiffusion    True    False   False   \n105rpcj  data/image/105rpcj.jpg        SexyDiffusion    True    False   False   \n...                         ...                  ...     ...      ...     ...   \n10kzd5c  data/image/10kzd5c.jpg  WallStreetDiffusion    True    False   False   \n10kzbey  data/image/10kzbey.jpg  WallStreetDiffusion    True    False   False   \n10kyx5z  data/image/10kyx5z.jpg  WallStreetDiffusion    True    False   False   \n10kywrx  data/image/10kywrx.jpg  WallStreetDiffusion    True    False   False   \n10ky1q6  data/image/10ky1q6.jpg  WallStreetDiffusion    True    False   False   \n\n        tags  \nid            \n100rn7k   []  \n1013bdt   []  \n105mekt   []  \n105qvgl   []  \n105rpcj   []  \n...      ...  \n10kzd5c   []  \n10kzbey   []  \n10kyx5z   []  \n10kywrx   []  \n10ky1q6   []  \n\n[33710 rows x 15 columns]",
      "text/html": "<div>\n<style scoped>\n    .dataframe tbody tr th:only-of-type {\n        vertical-align: middle;\n    }\n\n    .dataframe tbody tr th {\n        vertical-align: top;\n    }\n\n    .dataframe thead th {\n        text-align: right;\n    }\n</style>\n<table border=\"1\" class=\"dataframe\">\n  <thead>\n    <tr style=\"text-align: right;\">\n      <th></th>\n      <th>id</th>\n      <th>subreddit</th>\n      <th>author</th>\n      <th>title</th>\n      <th>caption</th>\n      <th>hash</th>\n      <th>permalink</th>\n      <th>original_url</th>\n      <th>image_name</th>\n      <th>path</th>\n      <th>model</th>\n      <th>exists</th>\n      <th>curated</th>\n      <th>accept</th>\n      <th>tags</th>\n    </tr>\n    <tr>\n      <th>id</th>\n      <th></th>\n      <th></th>\n      <th></th>\n      <th></th>\n      <th></th>\n      <th></th>\n      <th></th>\n      <th></th>\n      <th></th>\n      <th></th>\n      <th></th>\n      <th></th>\n      <th></th>\n      <th></th>\n      <th></th>\n    </tr>\n  </thead>\n  <tbody>\n    <tr>\n      <th>100rn7k</th>\n      <td>100rn7k</td>\n      <td>AmIhotAF</td>\n      <td>veritynicole</td>\n      <td>hey, hows your new year going (23F)</td>\n      <td>a woman in a white shirt and black pants is po...</td>\n      <td>4bd00c19fa0ff2ade855e6d364b0760b</td>\n      <td>/r/AmIhotAF/comments/100rn7k/hey_hows_your_new...</td>\n      <td>https://i.redd.it/n7r47s0gkh9a1.jpg</td>\n      <td>100rn7k.jpg</td>\n      <td>data/image/100rn7k.jpg</td>\n      <td>SexyDiffusion</td>\n      <td>True</td>\n      <td>True</td>\n      <td>False</td>\n      <td>[]</td>\n    </tr>\n    <tr>\n      <th>1013bdt</th>\n      <td>1013bdt</td>\n      <td>AmIhotAF</td>\n      <td>RaulDea9286</td>\n      <td>36F - ITALIAN</td>\n      <td>arafed image of a woman in a bikini top</td>\n      <td>7c0d158cba8654ef1c635cbc5471d597</td>\n      <td>/r/AmIhotAF/comments/1013bdt/36f_italian/</td>\n      <td>https://i.redd.it/bg0wwdlt5k9a1.jpg</td>\n      <td>1013bdt.jpg</td>\n      <td>data/image/1013bdt.jpg</td>\n      <td>SexyDiffusion</td>\n      <td>True</td>\n      <td>False</td>\n      <td>False</td>\n      <td>[]</td>\n    </tr>\n    <tr>\n      <th>105mekt</th>\n      <td>105mekt</td>\n      <td>AmIhotAF</td>\n      <td>lindaniz</td>\n      <td>interesting in good forward relationship (f24)</td>\n      <td>a close up of a woman with red hair and a whit...</td>\n      <td>ba4a0962cca2266a741e1e1700589c04</td>\n      <td>/r/AmIhotAF/comments/105mekt/interesting_in_go...</td>\n      <td>https://i.redd.it/4avjshsz8naa1.jpg</td>\n      <td>105mekt.jpg</td>\n      <td>data/image/105mekt.jpg</td>\n      <td>SexyDiffusion</td>\n      <td>True</td>\n      <td>False</td>\n      <td>False</td>\n      <td>[]</td>\n    </tr>\n    <tr>\n      <th>105qvgl</th>\n      <td>105qvgl</td>\n      <td>AmIhotAF</td>\n      <td>CaitVLove11</td>\n      <td>Laughing is my favorite 😆</td>\n      <td>a woman in a blue tank top and shorts is smili...</td>\n      <td>27bfe82c37314a0bcf02ab72eaf3a9e5</td>\n      <td>/r/AmIhotAF/comments/105qvgl/laughing_is_my_fa...</td>\n      <td>https://i.redd.it/2pulzr0lxmaa1.jpg</td>\n      <td>105qvgl.jpg</td>\n      <td>data/image/105qvgl.jpg</td>\n      <td>SexyDiffusion</td>\n      <td>True</td>\n      <td>False</td>\n      <td>False</td>\n      <td>[]</td>\n    </tr>\n    <tr>\n      <th>105rpcj</th>\n      <td>105rpcj</td>\n      <td>AmIhotAF</td>\n      <td>Flashy-Desk1858</td>\n      <td>[f22] What do you think when you see me?</td>\n      <td>a woman in a blue bikini top and a blue bra top</td>\n      <td>329eb42b8267fa1cc2980da8e48bcef1</td>\n      <td>/r/AmIhotAF/comments/105rpcj/f22_what_do_you_t...</td>\n      <td>https://i.redd.it/rz68pf934naa1.jpg</td>\n      <td>105rpcj.jpg</td>\n      <td>data/image/105rpcj.jpg</td>\n      <td>SexyDiffusion</td>\n      <td>True</td>\n      <td>False</td>\n      <td>False</td>\n      <td>[]</td>\n    </tr>\n    <tr>\n      <th>...</th>\n      <td>...</td>\n      <td>...</td>\n      <td>...</td>\n      <td>...</td>\n      <td>...</td>\n      <td>...</td>\n      <td>...</td>\n      <td>...</td>\n      <td>...</td>\n      <td>...</td>\n      <td>...</td>\n      <td>...</td>\n      <td>...</td>\n      <td>...</td>\n      <td>...</td>\n    </tr>\n    <tr>\n      <th>10kzd5c</th>\n      <td>10kzd5c</td>\n      <td>wallstreetbets</td>\n      <td>pocfdept</td>\n      <td>ii illegal short selling… 🤔</td>\n      <td>a screenshote of a cell phone showing a messag...</td>\n      <td>d68443295aac515459b13ad786e9649f</td>\n      <td>/r/wallstreetbets/comments/10kzd5c/ii_illegal_...</td>\n      <td>https://i.redd.it/g6xzdy7mm8ea1.jpg</td>\n      <td>10kzd5c.jpg</td>\n      <td>data/image/10kzd5c.jpg</td>\n      <td>WallStreetDiffusion</td>\n      <td>True</td>\n      <td>False</td>\n      <td>False</td>\n      <td>[]</td>\n    </tr>\n    <tr>\n      <th>10kzbey</th>\n      <td>10kzbey</td>\n      <td>wallstreetbets</td>\n      <td>pocfdept</td>\n      <td>II illegal short selling 🤔</td>\n      <td>a screenshote of a cell phone showing a screen...</td>\n      <td>959579cc440ec31a1cbb228fa3e4a3af</td>\n      <td>/r/wallstreetbets/comments/10kzbey/ii_illegal_...</td>\n      <td>https://i.redd.it/cltd77i7m8ea1.jpg</td>\n      <td>10kzbey.jpg</td>\n      <td>data/image/10kzbey.jpg</td>\n      <td>WallStreetDiffusion</td>\n      <td>True</td>\n      <td>False</td>\n      <td>False</td>\n      <td>[]</td>\n    </tr>\n    <tr>\n      <th>10kyx5z</th>\n      <td>10kyx5z</td>\n      <td>wallstreetbets</td>\n      <td>Bg_KiLLeR</td>\n      <td>BAER expected to begin trading in Nasdaq on Ja...</td>\n      <td>a screenshote of a dashboard with a bunch of d...</td>\n      <td>07a6f67b65c0452c98aa59c1b57fc75d</td>\n      <td>/r/wallstreetbets/comments/10kyx5z/baer_expect...</td>\n      <td>https://i.redd.it/grm4vq4ui8ea1.jpg</td>\n      <td>10kyx5z.jpg</td>\n      <td>data/image/10kyx5z.jpg</td>\n      <td>WallStreetDiffusion</td>\n      <td>True</td>\n      <td>False</td>\n      <td>False</td>\n      <td>[]</td>\n    </tr>\n    <tr>\n      <th>10kywrx</th>\n      <td>10kywrx</td>\n      <td>wallstreetbets</td>\n      <td>lostin_dasauce</td>\n      <td>Thought of you guys</td>\n      <td>a black and white photo of a man in a suit and...</td>\n      <td>03c75f7d48f92b73c5fd14ad5ee46b83</td>\n      <td>/r/wallstreetbets/comments/10kywrx/thought_of_...</td>\n      <td>https://i.redd.it/78nm8qdqi8ea1.jpg</td>\n      <td>10kywrx.jpg</td>\n      <td>data/image/10kywrx.jpg</td>\n      <td>WallStreetDiffusion</td>\n      <td>True</td>\n      <td>False</td>\n      <td>False</td>\n      <td>[]</td>\n    </tr>\n    <tr>\n      <th>10ky1q6</th>\n      <td>10ky1q6</td>\n      <td>wallstreetbets</td>\n      <td>yupthatwalmartguy</td>\n      <td>time to yolo on Adani ports puts</td>\n      <td>a picture taken from a video of a bear in the ...</td>\n      <td>12657d17c8f3d5f6c14959c78dcf3205</td>\n      <td>/r/wallstreetbets/comments/10ky1q6/time_to_yol...</td>\n      <td>https://i.redd.it/mpj7805at6ea1.jpg</td>\n      <td>10ky1q6.jpg</td>\n      <td>data/image/10ky1q6.jpg</td>\n      <td>WallStreetDiffusion</td>\n      <td>True</td>\n      <td>False</td>\n      <td>False</td>\n      <td>[]</td>\n    </tr>\n  </tbody>\n</table>\n<p>33710 rows × 15 columns</p>\n</div>"
     },
     "metadata": {},
     "output_type": "display_data"
    },
    {
     "name": "stdout",
     "output_type": "stream",
     "text": [
      "(33710, 15)\n"
     ]
    }
   ],
   "source": [
    "df = df.drop_duplicates(subset=['id'], keep='first')\n",
    "df_index = df.set_index(['id'], drop=False)\n",
    "df_index.reindex()\n",
    "display(df_index)\n",
    "print(df_index.shape)"
   ],
   "metadata": {
    "collapsed": false,
    "ExecuteTime": {
     "end_time": "2023-04-30T16:01:13.334745900Z",
     "start_time": "2023-04-30T16:01:13.272276500Z"
    }
   }
  },
  {
   "cell_type": "code",
   "execution_count": 126,
   "outputs": [
    {
     "name": "stdout",
     "output_type": "stream",
     "text": [
      "(33710, 15)\n"
     ]
    }
   ],
   "source": [
    "print(df_index.shape)"
   ],
   "metadata": {
    "collapsed": false,
    "ExecuteTime": {
     "end_time": "2023-04-30T16:45:51.577243Z",
     "start_time": "2023-04-30T16:45:48.610643600Z"
    }
   }
  },
  {
   "cell_type": "code",
   "execution_count": 102,
   "outputs": [],
   "source": [
    "# foo.to_parquet('data/parquet/', filesystem=file_system, engine='pyarrow', schema=schema, partition_cols=['subreddit'], index=['id'])"
   ],
   "metadata": {
    "collapsed": false,
    "ExecuteTime": {
     "end_time": "2023-04-30T16:21:38.993942800Z",
     "start_time": "2023-04-30T16:21:35.715200500Z"
    }
   }
  },
  {
   "cell_type": "code",
   "execution_count": 3,
   "outputs": [
    {
     "name": "stdout",
     "output_type": "stream",
     "text": [
      "(33710, 15)\n"
     ]
    },
    {
     "data": {
      "text/plain": "            id       subreddit             author  \\\n0      100rn7k        AmIhotAF       veritynicole   \n1      1013bdt        AmIhotAF        RaulDea9286   \n2      105mekt        AmIhotAF           lindaniz   \n3      105qvgl        AmIhotAF        CaitVLove11   \n4      105rpcj        AmIhotAF    Flashy-Desk1858   \n...        ...             ...                ...   \n33705  10kzd5c  wallstreetbets           pocfdept   \n33706  10kzbey  wallstreetbets           pocfdept   \n33707  10kyx5z  wallstreetbets          Bg_KiLLeR   \n33708  10kywrx  wallstreetbets     lostin_dasauce   \n33709  10ky1q6  wallstreetbets  yupthatwalmartguy   \n\n                                                   title  \\\n0                    hey, hows your new year going (23F)   \n1                                          36F - ITALIAN   \n2         interesting in good forward relationship (f24)   \n3                              Laughing is my favorite 😆   \n4               [f22] What do you think when you see me?   \n...                                                  ...   \n33705                        ii illegal short selling… 🤔   \n33706                         II illegal short selling 🤔   \n33707  BAER expected to begin trading in Nasdaq on Ja...   \n33708                                Thought of you guys   \n33709                   time to yolo on Adani ports puts   \n\n                                                 caption  \\\n0      a woman in a white shirt and black pants is po...   \n1                arafed image of a woman in a bikini top   \n2      a close up of a woman with red hair and a whit...   \n3      a woman in a blue tank top and shorts is smili...   \n4        a woman in a blue bikini top and a blue bra top   \n...                                                  ...   \n33705  a screenshote of a cell phone showing a messag...   \n33706  a screenshote of a cell phone showing a screen...   \n33707  a screenshote of a dashboard with a bunch of d...   \n33708  a black and white photo of a man in a suit and...   \n33709  a picture taken from a video of a bear in the ...   \n\n                                   hash  \\\n0      4bd00c19fa0ff2ade855e6d364b0760b   \n1      7c0d158cba8654ef1c635cbc5471d597   \n2      ba4a0962cca2266a741e1e1700589c04   \n3      27bfe82c37314a0bcf02ab72eaf3a9e5   \n4      329eb42b8267fa1cc2980da8e48bcef1   \n...                                 ...   \n33705  d68443295aac515459b13ad786e9649f   \n33706  959579cc440ec31a1cbb228fa3e4a3af   \n33707  07a6f67b65c0452c98aa59c1b57fc75d   \n33708  03c75f7d48f92b73c5fd14ad5ee46b83   \n33709  12657d17c8f3d5f6c14959c78dcf3205   \n\n                                               permalink  \\\n0      /r/AmIhotAF/comments/100rn7k/hey_hows_your_new...   \n1              /r/AmIhotAF/comments/1013bdt/36f_italian/   \n2      /r/AmIhotAF/comments/105mekt/interesting_in_go...   \n3      /r/AmIhotAF/comments/105qvgl/laughing_is_my_fa...   \n4      /r/AmIhotAF/comments/105rpcj/f22_what_do_you_t...   \n...                                                  ...   \n33705  /r/wallstreetbets/comments/10kzd5c/ii_illegal_...   \n33706  /r/wallstreetbets/comments/10kzbey/ii_illegal_...   \n33707  /r/wallstreetbets/comments/10kyx5z/baer_expect...   \n33708  /r/wallstreetbets/comments/10kywrx/thought_of_...   \n33709  /r/wallstreetbets/comments/10ky1q6/time_to_yol...   \n\n                              original_url   image_name  \\\n0      https://i.redd.it/n7r47s0gkh9a1.jpg  100rn7k.jpg   \n1      https://i.redd.it/bg0wwdlt5k9a1.jpg  1013bdt.jpg   \n2      https://i.redd.it/4avjshsz8naa1.jpg  105mekt.jpg   \n3      https://i.redd.it/2pulzr0lxmaa1.jpg  105qvgl.jpg   \n4      https://i.redd.it/rz68pf934naa1.jpg  105rpcj.jpg   \n...                                    ...          ...   \n33705  https://i.redd.it/g6xzdy7mm8ea1.jpg  10kzd5c.jpg   \n33706  https://i.redd.it/cltd77i7m8ea1.jpg  10kzbey.jpg   \n33707  https://i.redd.it/grm4vq4ui8ea1.jpg  10kyx5z.jpg   \n33708  https://i.redd.it/78nm8qdqi8ea1.jpg  10kywrx.jpg   \n33709  https://i.redd.it/mpj7805at6ea1.jpg  10ky1q6.jpg   \n\n                         path                model  exists  curated  accept  \\\n0      data/image/100rn7k.jpg        SexyDiffusion    True     True   False   \n1      data/image/1013bdt.jpg        SexyDiffusion    True     True    True   \n2      data/image/105mekt.jpg        SexyDiffusion    True     True    True   \n3      data/image/105qvgl.jpg        SexyDiffusion    True     True    True   \n4      data/image/105rpcj.jpg        SexyDiffusion    True     True    True   \n...                       ...                  ...     ...      ...     ...   \n33705  data/image/10kzd5c.jpg  WallStreetDiffusion    True    False   False   \n33706  data/image/10kzbey.jpg  WallStreetDiffusion    True    False   False   \n33707  data/image/10kyx5z.jpg  WallStreetDiffusion    True    False   False   \n33708  data/image/10kywrx.jpg  WallStreetDiffusion    True    False   False   \n33709  data/image/10ky1q6.jpg  WallStreetDiffusion    True    False   False   \n\n      tags  \n0       []  \n1       []  \n2       []  \n3       []  \n4       []  \n...    ...  \n33705   []  \n33706   []  \n33707   []  \n33708   []  \n33709   []  \n\n[33710 rows x 15 columns]",
      "text/html": "<div>\n<style scoped>\n    .dataframe tbody tr th:only-of-type {\n        vertical-align: middle;\n    }\n\n    .dataframe tbody tr th {\n        vertical-align: top;\n    }\n\n    .dataframe thead th {\n        text-align: right;\n    }\n</style>\n<table border=\"1\" class=\"dataframe\">\n  <thead>\n    <tr style=\"text-align: right;\">\n      <th></th>\n      <th>id</th>\n      <th>subreddit</th>\n      <th>author</th>\n      <th>title</th>\n      <th>caption</th>\n      <th>hash</th>\n      <th>permalink</th>\n      <th>original_url</th>\n      <th>image_name</th>\n      <th>path</th>\n      <th>model</th>\n      <th>exists</th>\n      <th>curated</th>\n      <th>accept</th>\n      <th>tags</th>\n    </tr>\n  </thead>\n  <tbody>\n    <tr>\n      <th>0</th>\n      <td>100rn7k</td>\n      <td>AmIhotAF</td>\n      <td>veritynicole</td>\n      <td>hey, hows your new year going (23F)</td>\n      <td>a woman in a white shirt and black pants is po...</td>\n      <td>4bd00c19fa0ff2ade855e6d364b0760b</td>\n      <td>/r/AmIhotAF/comments/100rn7k/hey_hows_your_new...</td>\n      <td>https://i.redd.it/n7r47s0gkh9a1.jpg</td>\n      <td>100rn7k.jpg</td>\n      <td>data/image/100rn7k.jpg</td>\n      <td>SexyDiffusion</td>\n      <td>True</td>\n      <td>True</td>\n      <td>False</td>\n      <td>[]</td>\n    </tr>\n    <tr>\n      <th>1</th>\n      <td>1013bdt</td>\n      <td>AmIhotAF</td>\n      <td>RaulDea9286</td>\n      <td>36F - ITALIAN</td>\n      <td>arafed image of a woman in a bikini top</td>\n      <td>7c0d158cba8654ef1c635cbc5471d597</td>\n      <td>/r/AmIhotAF/comments/1013bdt/36f_italian/</td>\n      <td>https://i.redd.it/bg0wwdlt5k9a1.jpg</td>\n      <td>1013bdt.jpg</td>\n      <td>data/image/1013bdt.jpg</td>\n      <td>SexyDiffusion</td>\n      <td>True</td>\n      <td>True</td>\n      <td>True</td>\n      <td>[]</td>\n    </tr>\n    <tr>\n      <th>2</th>\n      <td>105mekt</td>\n      <td>AmIhotAF</td>\n      <td>lindaniz</td>\n      <td>interesting in good forward relationship (f24)</td>\n      <td>a close up of a woman with red hair and a whit...</td>\n      <td>ba4a0962cca2266a741e1e1700589c04</td>\n      <td>/r/AmIhotAF/comments/105mekt/interesting_in_go...</td>\n      <td>https://i.redd.it/4avjshsz8naa1.jpg</td>\n      <td>105mekt.jpg</td>\n      <td>data/image/105mekt.jpg</td>\n      <td>SexyDiffusion</td>\n      <td>True</td>\n      <td>True</td>\n      <td>True</td>\n      <td>[]</td>\n    </tr>\n    <tr>\n      <th>3</th>\n      <td>105qvgl</td>\n      <td>AmIhotAF</td>\n      <td>CaitVLove11</td>\n      <td>Laughing is my favorite 😆</td>\n      <td>a woman in a blue tank top and shorts is smili...</td>\n      <td>27bfe82c37314a0bcf02ab72eaf3a9e5</td>\n      <td>/r/AmIhotAF/comments/105qvgl/laughing_is_my_fa...</td>\n      <td>https://i.redd.it/2pulzr0lxmaa1.jpg</td>\n      <td>105qvgl.jpg</td>\n      <td>data/image/105qvgl.jpg</td>\n      <td>SexyDiffusion</td>\n      <td>True</td>\n      <td>True</td>\n      <td>True</td>\n      <td>[]</td>\n    </tr>\n    <tr>\n      <th>4</th>\n      <td>105rpcj</td>\n      <td>AmIhotAF</td>\n      <td>Flashy-Desk1858</td>\n      <td>[f22] What do you think when you see me?</td>\n      <td>a woman in a blue bikini top and a blue bra top</td>\n      <td>329eb42b8267fa1cc2980da8e48bcef1</td>\n      <td>/r/AmIhotAF/comments/105rpcj/f22_what_do_you_t...</td>\n      <td>https://i.redd.it/rz68pf934naa1.jpg</td>\n      <td>105rpcj.jpg</td>\n      <td>data/image/105rpcj.jpg</td>\n      <td>SexyDiffusion</td>\n      <td>True</td>\n      <td>True</td>\n      <td>True</td>\n      <td>[]</td>\n    </tr>\n    <tr>\n      <th>...</th>\n      <td>...</td>\n      <td>...</td>\n      <td>...</td>\n      <td>...</td>\n      <td>...</td>\n      <td>...</td>\n      <td>...</td>\n      <td>...</td>\n      <td>...</td>\n      <td>...</td>\n      <td>...</td>\n      <td>...</td>\n      <td>...</td>\n      <td>...</td>\n      <td>...</td>\n    </tr>\n    <tr>\n      <th>33705</th>\n      <td>10kzd5c</td>\n      <td>wallstreetbets</td>\n      <td>pocfdept</td>\n      <td>ii illegal short selling… 🤔</td>\n      <td>a screenshote of a cell phone showing a messag...</td>\n      <td>d68443295aac515459b13ad786e9649f</td>\n      <td>/r/wallstreetbets/comments/10kzd5c/ii_illegal_...</td>\n      <td>https://i.redd.it/g6xzdy7mm8ea1.jpg</td>\n      <td>10kzd5c.jpg</td>\n      <td>data/image/10kzd5c.jpg</td>\n      <td>WallStreetDiffusion</td>\n      <td>True</td>\n      <td>False</td>\n      <td>False</td>\n      <td>[]</td>\n    </tr>\n    <tr>\n      <th>33706</th>\n      <td>10kzbey</td>\n      <td>wallstreetbets</td>\n      <td>pocfdept</td>\n      <td>II illegal short selling 🤔</td>\n      <td>a screenshote of a cell phone showing a screen...</td>\n      <td>959579cc440ec31a1cbb228fa3e4a3af</td>\n      <td>/r/wallstreetbets/comments/10kzbey/ii_illegal_...</td>\n      <td>https://i.redd.it/cltd77i7m8ea1.jpg</td>\n      <td>10kzbey.jpg</td>\n      <td>data/image/10kzbey.jpg</td>\n      <td>WallStreetDiffusion</td>\n      <td>True</td>\n      <td>False</td>\n      <td>False</td>\n      <td>[]</td>\n    </tr>\n    <tr>\n      <th>33707</th>\n      <td>10kyx5z</td>\n      <td>wallstreetbets</td>\n      <td>Bg_KiLLeR</td>\n      <td>BAER expected to begin trading in Nasdaq on Ja...</td>\n      <td>a screenshote of a dashboard with a bunch of d...</td>\n      <td>07a6f67b65c0452c98aa59c1b57fc75d</td>\n      <td>/r/wallstreetbets/comments/10kyx5z/baer_expect...</td>\n      <td>https://i.redd.it/grm4vq4ui8ea1.jpg</td>\n      <td>10kyx5z.jpg</td>\n      <td>data/image/10kyx5z.jpg</td>\n      <td>WallStreetDiffusion</td>\n      <td>True</td>\n      <td>False</td>\n      <td>False</td>\n      <td>[]</td>\n    </tr>\n    <tr>\n      <th>33708</th>\n      <td>10kywrx</td>\n      <td>wallstreetbets</td>\n      <td>lostin_dasauce</td>\n      <td>Thought of you guys</td>\n      <td>a black and white photo of a man in a suit and...</td>\n      <td>03c75f7d48f92b73c5fd14ad5ee46b83</td>\n      <td>/r/wallstreetbets/comments/10kywrx/thought_of_...</td>\n      <td>https://i.redd.it/78nm8qdqi8ea1.jpg</td>\n      <td>10kywrx.jpg</td>\n      <td>data/image/10kywrx.jpg</td>\n      <td>WallStreetDiffusion</td>\n      <td>True</td>\n      <td>False</td>\n      <td>False</td>\n      <td>[]</td>\n    </tr>\n    <tr>\n      <th>33709</th>\n      <td>10ky1q6</td>\n      <td>wallstreetbets</td>\n      <td>yupthatwalmartguy</td>\n      <td>time to yolo on Adani ports puts</td>\n      <td>a picture taken from a video of a bear in the ...</td>\n      <td>12657d17c8f3d5f6c14959c78dcf3205</td>\n      <td>/r/wallstreetbets/comments/10ky1q6/time_to_yol...</td>\n      <td>https://i.redd.it/mpj7805at6ea1.jpg</td>\n      <td>10ky1q6.jpg</td>\n      <td>data/image/10ky1q6.jpg</td>\n      <td>WallStreetDiffusion</td>\n      <td>True</td>\n      <td>False</td>\n      <td>False</td>\n      <td>[]</td>\n    </tr>\n  </tbody>\n</table>\n<p>33710 rows × 15 columns</p>\n</div>"
     },
     "metadata": {},
     "output_type": "display_data"
    },
    {
     "data": {
      "text/plain": "         id subreddit          author                             title  \\\n12  106mh03  AmIhotAF  SleepHeavy3935  [F25] Who wants to go for a dip?   \n\n                              caption                              hash  \\\n12  woman in bikini getting on a boat  e856ecb714dc9acb82548764684306c8   \n\n                                            permalink  \\\n12  /r/AmIhotAF/comments/106mh03/f25_who_wants_to_...   \n\n                           original_url   image_name                    path  \\\n12  https://i.redd.it/4pjc7v12duaa1.jpg  106mh03.jpg  data/image/106mh03.jpg   \n\n            model  exists  curated  accept tags  \n12  SexyDiffusion    True     True    True   []  ",
      "text/html": "<div>\n<style scoped>\n    .dataframe tbody tr th:only-of-type {\n        vertical-align: middle;\n    }\n\n    .dataframe tbody tr th {\n        vertical-align: top;\n    }\n\n    .dataframe thead th {\n        text-align: right;\n    }\n</style>\n<table border=\"1\" class=\"dataframe\">\n  <thead>\n    <tr style=\"text-align: right;\">\n      <th></th>\n      <th>id</th>\n      <th>subreddit</th>\n      <th>author</th>\n      <th>title</th>\n      <th>caption</th>\n      <th>hash</th>\n      <th>permalink</th>\n      <th>original_url</th>\n      <th>image_name</th>\n      <th>path</th>\n      <th>model</th>\n      <th>exists</th>\n      <th>curated</th>\n      <th>accept</th>\n      <th>tags</th>\n    </tr>\n  </thead>\n  <tbody>\n    <tr>\n      <th>12</th>\n      <td>106mh03</td>\n      <td>AmIhotAF</td>\n      <td>SleepHeavy3935</td>\n      <td>[F25] Who wants to go for a dip?</td>\n      <td>woman in bikini getting on a boat</td>\n      <td>e856ecb714dc9acb82548764684306c8</td>\n      <td>/r/AmIhotAF/comments/106mh03/f25_who_wants_to_...</td>\n      <td>https://i.redd.it/4pjc7v12duaa1.jpg</td>\n      <td>106mh03.jpg</td>\n      <td>data/image/106mh03.jpg</td>\n      <td>SexyDiffusion</td>\n      <td>True</td>\n      <td>True</td>\n      <td>True</td>\n      <td>[]</td>\n    </tr>\n  </tbody>\n</table>\n</div>"
     },
     "metadata": {},
     "output_type": "display_data"
    }
   ],
   "source": [
    "# import pandas\n",
    "\n",
    "# foo = pandas.read_parquet('data/parquet/back.parquet', filesystem=file_system, engine='pyarrow', schema=schema)\n",
    "\n",
    "# foo.set_index('id', inplace=True, drop=False)\n",
    "\n",
    "# foo.drop_duplicates(subset=['id'], keep='last', inplace=True)\n",
    "\n",
    "# print(foo.shape)\n",
    "\n",
    "# display(foo)\n",
    "\n",
    "# foo.to_parquet('data/parquet/back.parquet', filesystem=file_system, engine='pyarrow', schema=schema)\n",
    "# df_index.to_parquet('data/parquet/', filesystem=file_system, engine='pyarrow', schema=schema)\n",
    "# records = foo.to_dict(orient='records')\n",
    "#\n",
    "# thing = records[0]\n",
    "#\n",
    "# bar = pandas.DataFrame(data=[thing], index=['id'])\n",
    "#\n",
    "# display(bar)\n",
    "#\n",
    "# foo.update(bar, overwrite=True)\n",
    "#\n",
    "# print(foo.shape)\n",
    "#\n",
    "# display(foo)\n",
    "#\n",
    "# display(foo.loc[foo['id'] == '106mh03'])"
   ],
   "metadata": {
    "collapsed": false,
    "ExecuteTime": {
     "end_time": "2023-04-30T18:04:46.710360Z",
     "start_time": "2023-04-30T18:04:45.126368800Z"
    }
   }
  },
  {
   "cell_type": "code",
   "execution_count": 129,
   "outputs": [
    {
     "data": {
      "text/plain": "            id       subreddit             author  \\\n0      100rn7k        AmIhotAF       veritynicole   \n1      1013bdt        AmIhotAF        RaulDea9286   \n2      105mekt        AmIhotAF           lindaniz   \n3      105qvgl        AmIhotAF        CaitVLove11   \n4      105rpcj        AmIhotAF    Flashy-Desk1858   \n...        ...             ...                ...   \n33705  10kzd5c  wallstreetbets           pocfdept   \n33706  10kzbey  wallstreetbets           pocfdept   \n33707  10kyx5z  wallstreetbets          Bg_KiLLeR   \n33708  10kywrx  wallstreetbets     lostin_dasauce   \n33709  10ky1q6  wallstreetbets  yupthatwalmartguy   \n\n                                                   title  \\\n0                    hey, hows your new year going (23F)   \n1                                          36F - ITALIAN   \n2         interesting in good forward relationship (f24)   \n3                              Laughing is my favorite 😆   \n4               [f22] What do you think when you see me?   \n...                                                  ...   \n33705                        ii illegal short selling… 🤔   \n33706                         II illegal short selling 🤔   \n33707  BAER expected to begin trading in Nasdaq on Ja...   \n33708                                Thought of you guys   \n33709                   time to yolo on Adani ports puts   \n\n                                                 caption  \\\n0      a woman in a white shirt and black pants is po...   \n1                arafed image of a woman in a bikini top   \n2      a close up of a woman with red hair and a whit...   \n3      a woman in a blue tank top and shorts is smili...   \n4        a woman in a blue bikini top and a blue bra top   \n...                                                  ...   \n33705  a screenshote of a cell phone showing a messag...   \n33706  a screenshote of a cell phone showing a screen...   \n33707  a screenshote of a dashboard with a bunch of d...   \n33708  a black and white photo of a man in a suit and...   \n33709  a picture taken from a video of a bear in the ...   \n\n                                   hash  \\\n0      4bd00c19fa0ff2ade855e6d364b0760b   \n1      7c0d158cba8654ef1c635cbc5471d597   \n2      ba4a0962cca2266a741e1e1700589c04   \n3      27bfe82c37314a0bcf02ab72eaf3a9e5   \n4      329eb42b8267fa1cc2980da8e48bcef1   \n...                                 ...   \n33705  d68443295aac515459b13ad786e9649f   \n33706  959579cc440ec31a1cbb228fa3e4a3af   \n33707  07a6f67b65c0452c98aa59c1b57fc75d   \n33708  03c75f7d48f92b73c5fd14ad5ee46b83   \n33709  12657d17c8f3d5f6c14959c78dcf3205   \n\n                                               permalink  \\\n0      /r/AmIhotAF/comments/100rn7k/hey_hows_your_new...   \n1              /r/AmIhotAF/comments/1013bdt/36f_italian/   \n2      /r/AmIhotAF/comments/105mekt/interesting_in_go...   \n3      /r/AmIhotAF/comments/105qvgl/laughing_is_my_fa...   \n4      /r/AmIhotAF/comments/105rpcj/f22_what_do_you_t...   \n...                                                  ...   \n33705  /r/wallstreetbets/comments/10kzd5c/ii_illegal_...   \n33706  /r/wallstreetbets/comments/10kzbey/ii_illegal_...   \n33707  /r/wallstreetbets/comments/10kyx5z/baer_expect...   \n33708  /r/wallstreetbets/comments/10kywrx/thought_of_...   \n33709  /r/wallstreetbets/comments/10ky1q6/time_to_yol...   \n\n                              original_url   image_name  \\\n0      https://i.redd.it/n7r47s0gkh9a1.jpg  100rn7k.jpg   \n1      https://i.redd.it/bg0wwdlt5k9a1.jpg  1013bdt.jpg   \n2      https://i.redd.it/4avjshsz8naa1.jpg  105mekt.jpg   \n3      https://i.redd.it/2pulzr0lxmaa1.jpg  105qvgl.jpg   \n4      https://i.redd.it/rz68pf934naa1.jpg  105rpcj.jpg   \n...                                    ...          ...   \n33705  https://i.redd.it/g6xzdy7mm8ea1.jpg  10kzd5c.jpg   \n33706  https://i.redd.it/cltd77i7m8ea1.jpg  10kzbey.jpg   \n33707  https://i.redd.it/grm4vq4ui8ea1.jpg  10kyx5z.jpg   \n33708  https://i.redd.it/78nm8qdqi8ea1.jpg  10kywrx.jpg   \n33709  https://i.redd.it/mpj7805at6ea1.jpg  10ky1q6.jpg   \n\n                         path                model  exists  curated  accept  \\\n0      data/image/100rn7k.jpg        SexyDiffusion    True     True   False   \n1      data/image/1013bdt.jpg        SexyDiffusion    True    False   False   \n2      data/image/105mekt.jpg        SexyDiffusion    True    False   False   \n3      data/image/105qvgl.jpg        SexyDiffusion    True    False   False   \n4      data/image/105rpcj.jpg        SexyDiffusion    True    False   False   \n...                       ...                  ...     ...      ...     ...   \n33705  data/image/10kzd5c.jpg  WallStreetDiffusion    True    False   False   \n33706  data/image/10kzbey.jpg  WallStreetDiffusion    True    False   False   \n33707  data/image/10kyx5z.jpg  WallStreetDiffusion    True    False   False   \n33708  data/image/10kywrx.jpg  WallStreetDiffusion    True    False   False   \n33709  data/image/10ky1q6.jpg  WallStreetDiffusion    True    False   False   \n\n      tags  \n0       []  \n1       []  \n2       []  \n3       []  \n4       []  \n...    ...  \n33705   []  \n33706   []  \n33707   []  \n33708   []  \n33709   []  \n\n[33710 rows x 15 columns]",
      "text/html": "<div>\n<style scoped>\n    .dataframe tbody tr th:only-of-type {\n        vertical-align: middle;\n    }\n\n    .dataframe tbody tr th {\n        vertical-align: top;\n    }\n\n    .dataframe thead th {\n        text-align: right;\n    }\n</style>\n<table border=\"1\" class=\"dataframe\">\n  <thead>\n    <tr style=\"text-align: right;\">\n      <th></th>\n      <th>id</th>\n      <th>subreddit</th>\n      <th>author</th>\n      <th>title</th>\n      <th>caption</th>\n      <th>hash</th>\n      <th>permalink</th>\n      <th>original_url</th>\n      <th>image_name</th>\n      <th>path</th>\n      <th>model</th>\n      <th>exists</th>\n      <th>curated</th>\n      <th>accept</th>\n      <th>tags</th>\n    </tr>\n  </thead>\n  <tbody>\n    <tr>\n      <th>0</th>\n      <td>100rn7k</td>\n      <td>AmIhotAF</td>\n      <td>veritynicole</td>\n      <td>hey, hows your new year going (23F)</td>\n      <td>a woman in a white shirt and black pants is po...</td>\n      <td>4bd00c19fa0ff2ade855e6d364b0760b</td>\n      <td>/r/AmIhotAF/comments/100rn7k/hey_hows_your_new...</td>\n      <td>https://i.redd.it/n7r47s0gkh9a1.jpg</td>\n      <td>100rn7k.jpg</td>\n      <td>data/image/100rn7k.jpg</td>\n      <td>SexyDiffusion</td>\n      <td>True</td>\n      <td>True</td>\n      <td>False</td>\n      <td>[]</td>\n    </tr>\n    <tr>\n      <th>1</th>\n      <td>1013bdt</td>\n      <td>AmIhotAF</td>\n      <td>RaulDea9286</td>\n      <td>36F - ITALIAN</td>\n      <td>arafed image of a woman in a bikini top</td>\n      <td>7c0d158cba8654ef1c635cbc5471d597</td>\n      <td>/r/AmIhotAF/comments/1013bdt/36f_italian/</td>\n      <td>https://i.redd.it/bg0wwdlt5k9a1.jpg</td>\n      <td>1013bdt.jpg</td>\n      <td>data/image/1013bdt.jpg</td>\n      <td>SexyDiffusion</td>\n      <td>True</td>\n      <td>False</td>\n      <td>False</td>\n      <td>[]</td>\n    </tr>\n    <tr>\n      <th>2</th>\n      <td>105mekt</td>\n      <td>AmIhotAF</td>\n      <td>lindaniz</td>\n      <td>interesting in good forward relationship (f24)</td>\n      <td>a close up of a woman with red hair and a whit...</td>\n      <td>ba4a0962cca2266a741e1e1700589c04</td>\n      <td>/r/AmIhotAF/comments/105mekt/interesting_in_go...</td>\n      <td>https://i.redd.it/4avjshsz8naa1.jpg</td>\n      <td>105mekt.jpg</td>\n      <td>data/image/105mekt.jpg</td>\n      <td>SexyDiffusion</td>\n      <td>True</td>\n      <td>False</td>\n      <td>False</td>\n      <td>[]</td>\n    </tr>\n    <tr>\n      <th>3</th>\n      <td>105qvgl</td>\n      <td>AmIhotAF</td>\n      <td>CaitVLove11</td>\n      <td>Laughing is my favorite 😆</td>\n      <td>a woman in a blue tank top and shorts is smili...</td>\n      <td>27bfe82c37314a0bcf02ab72eaf3a9e5</td>\n      <td>/r/AmIhotAF/comments/105qvgl/laughing_is_my_fa...</td>\n      <td>https://i.redd.it/2pulzr0lxmaa1.jpg</td>\n      <td>105qvgl.jpg</td>\n      <td>data/image/105qvgl.jpg</td>\n      <td>SexyDiffusion</td>\n      <td>True</td>\n      <td>False</td>\n      <td>False</td>\n      <td>[]</td>\n    </tr>\n    <tr>\n      <th>4</th>\n      <td>105rpcj</td>\n      <td>AmIhotAF</td>\n      <td>Flashy-Desk1858</td>\n      <td>[f22] What do you think when you see me?</td>\n      <td>a woman in a blue bikini top and a blue bra top</td>\n      <td>329eb42b8267fa1cc2980da8e48bcef1</td>\n      <td>/r/AmIhotAF/comments/105rpcj/f22_what_do_you_t...</td>\n      <td>https://i.redd.it/rz68pf934naa1.jpg</td>\n      <td>105rpcj.jpg</td>\n      <td>data/image/105rpcj.jpg</td>\n      <td>SexyDiffusion</td>\n      <td>True</td>\n      <td>False</td>\n      <td>False</td>\n      <td>[]</td>\n    </tr>\n    <tr>\n      <th>...</th>\n      <td>...</td>\n      <td>...</td>\n      <td>...</td>\n      <td>...</td>\n      <td>...</td>\n      <td>...</td>\n      <td>...</td>\n      <td>...</td>\n      <td>...</td>\n      <td>...</td>\n      <td>...</td>\n      <td>...</td>\n      <td>...</td>\n      <td>...</td>\n      <td>...</td>\n    </tr>\n    <tr>\n      <th>33705</th>\n      <td>10kzd5c</td>\n      <td>wallstreetbets</td>\n      <td>pocfdept</td>\n      <td>ii illegal short selling… 🤔</td>\n      <td>a screenshote of a cell phone showing a messag...</td>\n      <td>d68443295aac515459b13ad786e9649f</td>\n      <td>/r/wallstreetbets/comments/10kzd5c/ii_illegal_...</td>\n      <td>https://i.redd.it/g6xzdy7mm8ea1.jpg</td>\n      <td>10kzd5c.jpg</td>\n      <td>data/image/10kzd5c.jpg</td>\n      <td>WallStreetDiffusion</td>\n      <td>True</td>\n      <td>False</td>\n      <td>False</td>\n      <td>[]</td>\n    </tr>\n    <tr>\n      <th>33706</th>\n      <td>10kzbey</td>\n      <td>wallstreetbets</td>\n      <td>pocfdept</td>\n      <td>II illegal short selling 🤔</td>\n      <td>a screenshote of a cell phone showing a screen...</td>\n      <td>959579cc440ec31a1cbb228fa3e4a3af</td>\n      <td>/r/wallstreetbets/comments/10kzbey/ii_illegal_...</td>\n      <td>https://i.redd.it/cltd77i7m8ea1.jpg</td>\n      <td>10kzbey.jpg</td>\n      <td>data/image/10kzbey.jpg</td>\n      <td>WallStreetDiffusion</td>\n      <td>True</td>\n      <td>False</td>\n      <td>False</td>\n      <td>[]</td>\n    </tr>\n    <tr>\n      <th>33707</th>\n      <td>10kyx5z</td>\n      <td>wallstreetbets</td>\n      <td>Bg_KiLLeR</td>\n      <td>BAER expected to begin trading in Nasdaq on Ja...</td>\n      <td>a screenshote of a dashboard with a bunch of d...</td>\n      <td>07a6f67b65c0452c98aa59c1b57fc75d</td>\n      <td>/r/wallstreetbets/comments/10kyx5z/baer_expect...</td>\n      <td>https://i.redd.it/grm4vq4ui8ea1.jpg</td>\n      <td>10kyx5z.jpg</td>\n      <td>data/image/10kyx5z.jpg</td>\n      <td>WallStreetDiffusion</td>\n      <td>True</td>\n      <td>False</td>\n      <td>False</td>\n      <td>[]</td>\n    </tr>\n    <tr>\n      <th>33708</th>\n      <td>10kywrx</td>\n      <td>wallstreetbets</td>\n      <td>lostin_dasauce</td>\n      <td>Thought of you guys</td>\n      <td>a black and white photo of a man in a suit and...</td>\n      <td>03c75f7d48f92b73c5fd14ad5ee46b83</td>\n      <td>/r/wallstreetbets/comments/10kywrx/thought_of_...</td>\n      <td>https://i.redd.it/78nm8qdqi8ea1.jpg</td>\n      <td>10kywrx.jpg</td>\n      <td>data/image/10kywrx.jpg</td>\n      <td>WallStreetDiffusion</td>\n      <td>True</td>\n      <td>False</td>\n      <td>False</td>\n      <td>[]</td>\n    </tr>\n    <tr>\n      <th>33709</th>\n      <td>10ky1q6</td>\n      <td>wallstreetbets</td>\n      <td>yupthatwalmartguy</td>\n      <td>time to yolo on Adani ports puts</td>\n      <td>a picture taken from a video of a bear in the ...</td>\n      <td>12657d17c8f3d5f6c14959c78dcf3205</td>\n      <td>/r/wallstreetbets/comments/10ky1q6/time_to_yol...</td>\n      <td>https://i.redd.it/mpj7805at6ea1.jpg</td>\n      <td>10ky1q6.jpg</td>\n      <td>data/image/10ky1q6.jpg</td>\n      <td>WallStreetDiffusion</td>\n      <td>True</td>\n      <td>False</td>\n      <td>False</td>\n      <td>[]</td>\n    </tr>\n  </tbody>\n</table>\n<p>33710 rows × 15 columns</p>\n</div>"
     },
     "metadata": {},
     "output_type": "display_data"
    }
   ],
   "source": [
    "# temp = foo\n",
    "# display(temp)"
   ],
   "metadata": {
    "collapsed": false,
    "ExecuteTime": {
     "end_time": "2023-04-30T16:50:07.695378300Z",
     "start_time": "2023-04-30T16:50:07.660284100Z"
    }
   }
  },
  {
   "cell_type": "code",
   "execution_count": 130,
   "outputs": [
    {
     "data": {
      "text/plain": "            id       subreddit             author  \\\n0      100rn7k        AmIhotAF       veritynicole   \n1      1013bdt        AmIhotAF        RaulDea9286   \n2      105mekt        AmIhotAF           lindaniz   \n3      105qvgl        AmIhotAF        CaitVLove11   \n4      105rpcj        AmIhotAF    Flashy-Desk1858   \n...        ...             ...                ...   \n33705  10kzd5c  wallstreetbets           pocfdept   \n33706  10kzbey  wallstreetbets           pocfdept   \n33707  10kyx5z  wallstreetbets          Bg_KiLLeR   \n33708  10kywrx  wallstreetbets     lostin_dasauce   \n33709  10ky1q6  wallstreetbets  yupthatwalmartguy   \n\n                                                   title  \\\n0                    hey, hows your new year going (23F)   \n1                                          36F - ITALIAN   \n2         interesting in good forward relationship (f24)   \n3                              Laughing is my favorite 😆   \n4               [f22] What do you think when you see me?   \n...                                                  ...   \n33705                        ii illegal short selling… 🤔   \n33706                         II illegal short selling 🤔   \n33707  BAER expected to begin trading in Nasdaq on Ja...   \n33708                                Thought of you guys   \n33709                   time to yolo on Adani ports puts   \n\n                                                 caption  \\\n0      a woman in a white shirt and black pants is po...   \n1                arafed image of a woman in a bikini top   \n2      a close up of a woman with red hair and a whit...   \n3      a woman in a blue tank top and shorts is smili...   \n4        a woman in a blue bikini top and a blue bra top   \n...                                                  ...   \n33705  a screenshote of a cell phone showing a messag...   \n33706  a screenshote of a cell phone showing a screen...   \n33707  a screenshote of a dashboard with a bunch of d...   \n33708  a black and white photo of a man in a suit and...   \n33709  a picture taken from a video of a bear in the ...   \n\n                                   hash  \\\n0      4bd00c19fa0ff2ade855e6d364b0760b   \n1      7c0d158cba8654ef1c635cbc5471d597   \n2      ba4a0962cca2266a741e1e1700589c04   \n3      27bfe82c37314a0bcf02ab72eaf3a9e5   \n4      329eb42b8267fa1cc2980da8e48bcef1   \n...                                 ...   \n33705  d68443295aac515459b13ad786e9649f   \n33706  959579cc440ec31a1cbb228fa3e4a3af   \n33707  07a6f67b65c0452c98aa59c1b57fc75d   \n33708  03c75f7d48f92b73c5fd14ad5ee46b83   \n33709  12657d17c8f3d5f6c14959c78dcf3205   \n\n                                               permalink  \\\n0      /r/AmIhotAF/comments/100rn7k/hey_hows_your_new...   \n1              /r/AmIhotAF/comments/1013bdt/36f_italian/   \n2      /r/AmIhotAF/comments/105mekt/interesting_in_go...   \n3      /r/AmIhotAF/comments/105qvgl/laughing_is_my_fa...   \n4      /r/AmIhotAF/comments/105rpcj/f22_what_do_you_t...   \n...                                                  ...   \n33705  /r/wallstreetbets/comments/10kzd5c/ii_illegal_...   \n33706  /r/wallstreetbets/comments/10kzbey/ii_illegal_...   \n33707  /r/wallstreetbets/comments/10kyx5z/baer_expect...   \n33708  /r/wallstreetbets/comments/10kywrx/thought_of_...   \n33709  /r/wallstreetbets/comments/10ky1q6/time_to_yol...   \n\n                              original_url   image_name  \\\n0      https://i.redd.it/n7r47s0gkh9a1.jpg  100rn7k.jpg   \n1      https://i.redd.it/bg0wwdlt5k9a1.jpg  1013bdt.jpg   \n2      https://i.redd.it/4avjshsz8naa1.jpg  105mekt.jpg   \n3      https://i.redd.it/2pulzr0lxmaa1.jpg  105qvgl.jpg   \n4      https://i.redd.it/rz68pf934naa1.jpg  105rpcj.jpg   \n...                                    ...          ...   \n33705  https://i.redd.it/g6xzdy7mm8ea1.jpg  10kzd5c.jpg   \n33706  https://i.redd.it/cltd77i7m8ea1.jpg  10kzbey.jpg   \n33707  https://i.redd.it/grm4vq4ui8ea1.jpg  10kyx5z.jpg   \n33708  https://i.redd.it/78nm8qdqi8ea1.jpg  10kywrx.jpg   \n33709  https://i.redd.it/mpj7805at6ea1.jpg  10ky1q6.jpg   \n\n                         path                model  exists  curated  accept  \\\n0      data/image/100rn7k.jpg        SexyDiffusion    True     True   False   \n1      data/image/1013bdt.jpg        SexyDiffusion    True    False   False   \n2      data/image/105mekt.jpg        SexyDiffusion    True    False   False   \n3      data/image/105qvgl.jpg        SexyDiffusion    True    False   False   \n4      data/image/105rpcj.jpg        SexyDiffusion    True    False   False   \n...                       ...                  ...     ...      ...     ...   \n33705  data/image/10kzd5c.jpg  WallStreetDiffusion    True    False   False   \n33706  data/image/10kzbey.jpg  WallStreetDiffusion    True    False   False   \n33707  data/image/10kyx5z.jpg  WallStreetDiffusion    True    False   False   \n33708  data/image/10kywrx.jpg  WallStreetDiffusion    True    False   False   \n33709  data/image/10ky1q6.jpg  WallStreetDiffusion    True    False   False   \n\n      tags  \n0       []  \n1       []  \n2       []  \n3       []  \n4       []  \n...    ...  \n33705   []  \n33706   []  \n33707   []  \n33708   []  \n33709   []  \n\n[33710 rows x 15 columns]",
      "text/html": "<div>\n<style scoped>\n    .dataframe tbody tr th:only-of-type {\n        vertical-align: middle;\n    }\n\n    .dataframe tbody tr th {\n        vertical-align: top;\n    }\n\n    .dataframe thead th {\n        text-align: right;\n    }\n</style>\n<table border=\"1\" class=\"dataframe\">\n  <thead>\n    <tr style=\"text-align: right;\">\n      <th></th>\n      <th>id</th>\n      <th>subreddit</th>\n      <th>author</th>\n      <th>title</th>\n      <th>caption</th>\n      <th>hash</th>\n      <th>permalink</th>\n      <th>original_url</th>\n      <th>image_name</th>\n      <th>path</th>\n      <th>model</th>\n      <th>exists</th>\n      <th>curated</th>\n      <th>accept</th>\n      <th>tags</th>\n    </tr>\n  </thead>\n  <tbody>\n    <tr>\n      <th>0</th>\n      <td>100rn7k</td>\n      <td>AmIhotAF</td>\n      <td>veritynicole</td>\n      <td>hey, hows your new year going (23F)</td>\n      <td>a woman in a white shirt and black pants is po...</td>\n      <td>4bd00c19fa0ff2ade855e6d364b0760b</td>\n      <td>/r/AmIhotAF/comments/100rn7k/hey_hows_your_new...</td>\n      <td>https://i.redd.it/n7r47s0gkh9a1.jpg</td>\n      <td>100rn7k.jpg</td>\n      <td>data/image/100rn7k.jpg</td>\n      <td>SexyDiffusion</td>\n      <td>True</td>\n      <td>True</td>\n      <td>False</td>\n      <td>[]</td>\n    </tr>\n    <tr>\n      <th>1</th>\n      <td>1013bdt</td>\n      <td>AmIhotAF</td>\n      <td>RaulDea9286</td>\n      <td>36F - ITALIAN</td>\n      <td>arafed image of a woman in a bikini top</td>\n      <td>7c0d158cba8654ef1c635cbc5471d597</td>\n      <td>/r/AmIhotAF/comments/1013bdt/36f_italian/</td>\n      <td>https://i.redd.it/bg0wwdlt5k9a1.jpg</td>\n      <td>1013bdt.jpg</td>\n      <td>data/image/1013bdt.jpg</td>\n      <td>SexyDiffusion</td>\n      <td>True</td>\n      <td>False</td>\n      <td>False</td>\n      <td>[]</td>\n    </tr>\n    <tr>\n      <th>2</th>\n      <td>105mekt</td>\n      <td>AmIhotAF</td>\n      <td>lindaniz</td>\n      <td>interesting in good forward relationship (f24)</td>\n      <td>a close up of a woman with red hair and a whit...</td>\n      <td>ba4a0962cca2266a741e1e1700589c04</td>\n      <td>/r/AmIhotAF/comments/105mekt/interesting_in_go...</td>\n      <td>https://i.redd.it/4avjshsz8naa1.jpg</td>\n      <td>105mekt.jpg</td>\n      <td>data/image/105mekt.jpg</td>\n      <td>SexyDiffusion</td>\n      <td>True</td>\n      <td>False</td>\n      <td>False</td>\n      <td>[]</td>\n    </tr>\n    <tr>\n      <th>3</th>\n      <td>105qvgl</td>\n      <td>AmIhotAF</td>\n      <td>CaitVLove11</td>\n      <td>Laughing is my favorite 😆</td>\n      <td>a woman in a blue tank top and shorts is smili...</td>\n      <td>27bfe82c37314a0bcf02ab72eaf3a9e5</td>\n      <td>/r/AmIhotAF/comments/105qvgl/laughing_is_my_fa...</td>\n      <td>https://i.redd.it/2pulzr0lxmaa1.jpg</td>\n      <td>105qvgl.jpg</td>\n      <td>data/image/105qvgl.jpg</td>\n      <td>SexyDiffusion</td>\n      <td>True</td>\n      <td>False</td>\n      <td>False</td>\n      <td>[]</td>\n    </tr>\n    <tr>\n      <th>4</th>\n      <td>105rpcj</td>\n      <td>AmIhotAF</td>\n      <td>Flashy-Desk1858</td>\n      <td>[f22] What do you think when you see me?</td>\n      <td>a woman in a blue bikini top and a blue bra top</td>\n      <td>329eb42b8267fa1cc2980da8e48bcef1</td>\n      <td>/r/AmIhotAF/comments/105rpcj/f22_what_do_you_t...</td>\n      <td>https://i.redd.it/rz68pf934naa1.jpg</td>\n      <td>105rpcj.jpg</td>\n      <td>data/image/105rpcj.jpg</td>\n      <td>SexyDiffusion</td>\n      <td>True</td>\n      <td>False</td>\n      <td>False</td>\n      <td>[]</td>\n    </tr>\n    <tr>\n      <th>...</th>\n      <td>...</td>\n      <td>...</td>\n      <td>...</td>\n      <td>...</td>\n      <td>...</td>\n      <td>...</td>\n      <td>...</td>\n      <td>...</td>\n      <td>...</td>\n      <td>...</td>\n      <td>...</td>\n      <td>...</td>\n      <td>...</td>\n      <td>...</td>\n      <td>...</td>\n    </tr>\n    <tr>\n      <th>33705</th>\n      <td>10kzd5c</td>\n      <td>wallstreetbets</td>\n      <td>pocfdept</td>\n      <td>ii illegal short selling… 🤔</td>\n      <td>a screenshote of a cell phone showing a messag...</td>\n      <td>d68443295aac515459b13ad786e9649f</td>\n      <td>/r/wallstreetbets/comments/10kzd5c/ii_illegal_...</td>\n      <td>https://i.redd.it/g6xzdy7mm8ea1.jpg</td>\n      <td>10kzd5c.jpg</td>\n      <td>data/image/10kzd5c.jpg</td>\n      <td>WallStreetDiffusion</td>\n      <td>True</td>\n      <td>False</td>\n      <td>False</td>\n      <td>[]</td>\n    </tr>\n    <tr>\n      <th>33706</th>\n      <td>10kzbey</td>\n      <td>wallstreetbets</td>\n      <td>pocfdept</td>\n      <td>II illegal short selling 🤔</td>\n      <td>a screenshote of a cell phone showing a screen...</td>\n      <td>959579cc440ec31a1cbb228fa3e4a3af</td>\n      <td>/r/wallstreetbets/comments/10kzbey/ii_illegal_...</td>\n      <td>https://i.redd.it/cltd77i7m8ea1.jpg</td>\n      <td>10kzbey.jpg</td>\n      <td>data/image/10kzbey.jpg</td>\n      <td>WallStreetDiffusion</td>\n      <td>True</td>\n      <td>False</td>\n      <td>False</td>\n      <td>[]</td>\n    </tr>\n    <tr>\n      <th>33707</th>\n      <td>10kyx5z</td>\n      <td>wallstreetbets</td>\n      <td>Bg_KiLLeR</td>\n      <td>BAER expected to begin trading in Nasdaq on Ja...</td>\n      <td>a screenshote of a dashboard with a bunch of d...</td>\n      <td>07a6f67b65c0452c98aa59c1b57fc75d</td>\n      <td>/r/wallstreetbets/comments/10kyx5z/baer_expect...</td>\n      <td>https://i.redd.it/grm4vq4ui8ea1.jpg</td>\n      <td>10kyx5z.jpg</td>\n      <td>data/image/10kyx5z.jpg</td>\n      <td>WallStreetDiffusion</td>\n      <td>True</td>\n      <td>False</td>\n      <td>False</td>\n      <td>[]</td>\n    </tr>\n    <tr>\n      <th>33708</th>\n      <td>10kywrx</td>\n      <td>wallstreetbets</td>\n      <td>lostin_dasauce</td>\n      <td>Thought of you guys</td>\n      <td>a black and white photo of a man in a suit and...</td>\n      <td>03c75f7d48f92b73c5fd14ad5ee46b83</td>\n      <td>/r/wallstreetbets/comments/10kywrx/thought_of_...</td>\n      <td>https://i.redd.it/78nm8qdqi8ea1.jpg</td>\n      <td>10kywrx.jpg</td>\n      <td>data/image/10kywrx.jpg</td>\n      <td>WallStreetDiffusion</td>\n      <td>True</td>\n      <td>False</td>\n      <td>False</td>\n      <td>[]</td>\n    </tr>\n    <tr>\n      <th>33709</th>\n      <td>10ky1q6</td>\n      <td>wallstreetbets</td>\n      <td>yupthatwalmartguy</td>\n      <td>time to yolo on Adani ports puts</td>\n      <td>a picture taken from a video of a bear in the ...</td>\n      <td>12657d17c8f3d5f6c14959c78dcf3205</td>\n      <td>/r/wallstreetbets/comments/10ky1q6/time_to_yol...</td>\n      <td>https://i.redd.it/mpj7805at6ea1.jpg</td>\n      <td>10ky1q6.jpg</td>\n      <td>data/image/10ky1q6.jpg</td>\n      <td>WallStreetDiffusion</td>\n      <td>True</td>\n      <td>False</td>\n      <td>False</td>\n      <td>[]</td>\n    </tr>\n  </tbody>\n</table>\n<p>33710 rows × 15 columns</p>\n</div>"
     },
     "metadata": {},
     "output_type": "display_data"
    }
   ],
   "source": [
    "temp = foo\n",
    "display(temp)\n",
    "# df_index.to_parquet('data/parquet/ready_to_curate.parquet', filesystem=file_system, engine='pyarrow', schema=schema)"
   ],
   "metadata": {
    "collapsed": false,
    "ExecuteTime": {
     "end_time": "2023-04-30T16:50:14.252093100Z",
     "start_time": "2023-04-30T16:50:14.219939900Z"
    }
   }
  },
  {
   "cell_type": "code",
   "execution_count": 57,
   "outputs": [
    {
     "data": {
      "text/plain": "          id subreddit        author                     title  \\\n5    105styc  AmIhotAF  Gizzygirl127  Low key… still bangable?   \n187  105styc  AmIhotAF  Gizzygirl127  Low key… still bangable?   \n369  105styc  AmIhotAF  Gizzygirl127  Low key… still bangable?   \n551  105styc  AmIhotAF  Gizzygirl127  Low key… still bangable?   \n733  105styc  AmIhotAF  Gizzygirl127  Low key… still bangable?   \n\n                                               caption  \\\n5    smiling woman sitting on couch with remote con...   \n187  A smiling woman sitting on couch with taking a...   \n369  smiling woman sitting on couch with remote con...   \n551  smiling woman sitting on couch with remote con...   \n733  smiling woman sitting on couch with remote con...   \n\n                                 hash  \\\n5    6d555943be4fbc21ff92417c6f582298   \n187  6d555943be4fbc21ff92417c6f582298   \n369  6d555943be4fbc21ff92417c6f582298   \n551  6d555943be4fbc21ff92417c6f582298   \n733  6d555943be4fbc21ff92417c6f582298   \n\n                                             permalink  \\\n5    /r/AmIhotAF/comments/105styc/low_key_still_ban...   \n187  /r/AmIhotAF/comments/105styc/low_key_still_ban...   \n369  /r/AmIhotAF/comments/105styc/low_key_still_ban...   \n551  /r/AmIhotAF/comments/105styc/low_key_still_ban...   \n733  /r/AmIhotAF/comments/105styc/low_key_still_ban...   \n\n                            original_url   image_name                    path  \\\n5    https://i.redd.it/aiaxxoz9uoaa1.jpg  105styc.jpg  data/image/105styc.jpg   \n187  https://i.redd.it/aiaxxoz9uoaa1.jpg  105styc.jpg  data/image/105styc.jpg   \n369  https://i.redd.it/aiaxxoz9uoaa1.jpg  105styc.jpg  data/image/105styc.jpg   \n551  https://i.redd.it/aiaxxoz9uoaa1.jpg  105styc.jpg  data/image/105styc.jpg   \n733  https://i.redd.it/aiaxxoz9uoaa1.jpg  105styc.jpg  data/image/105styc.jpg   \n\n             model  exists  curated  accept tags  \n5    SexyDiffusion    True    False   False   []  \n187  SexyDiffusion    True     True    True   []  \n369  SexyDiffusion    True    False   False   []  \n551  SexyDiffusion    True    False   False   []  \n733  SexyDiffusion    True    False   False   []  ",
      "text/html": "<div>\n<style scoped>\n    .dataframe tbody tr th:only-of-type {\n        vertical-align: middle;\n    }\n\n    .dataframe tbody tr th {\n        vertical-align: top;\n    }\n\n    .dataframe thead th {\n        text-align: right;\n    }\n</style>\n<table border=\"1\" class=\"dataframe\">\n  <thead>\n    <tr style=\"text-align: right;\">\n      <th></th>\n      <th>id</th>\n      <th>subreddit</th>\n      <th>author</th>\n      <th>title</th>\n      <th>caption</th>\n      <th>hash</th>\n      <th>permalink</th>\n      <th>original_url</th>\n      <th>image_name</th>\n      <th>path</th>\n      <th>model</th>\n      <th>exists</th>\n      <th>curated</th>\n      <th>accept</th>\n      <th>tags</th>\n    </tr>\n  </thead>\n  <tbody>\n    <tr>\n      <th>5</th>\n      <td>105styc</td>\n      <td>AmIhotAF</td>\n      <td>Gizzygirl127</td>\n      <td>Low key… still bangable?</td>\n      <td>smiling woman sitting on couch with remote con...</td>\n      <td>6d555943be4fbc21ff92417c6f582298</td>\n      <td>/r/AmIhotAF/comments/105styc/low_key_still_ban...</td>\n      <td>https://i.redd.it/aiaxxoz9uoaa1.jpg</td>\n      <td>105styc.jpg</td>\n      <td>data/image/105styc.jpg</td>\n      <td>SexyDiffusion</td>\n      <td>True</td>\n      <td>False</td>\n      <td>False</td>\n      <td>[]</td>\n    </tr>\n    <tr>\n      <th>187</th>\n      <td>105styc</td>\n      <td>AmIhotAF</td>\n      <td>Gizzygirl127</td>\n      <td>Low key… still bangable?</td>\n      <td>A smiling woman sitting on couch with taking a...</td>\n      <td>6d555943be4fbc21ff92417c6f582298</td>\n      <td>/r/AmIhotAF/comments/105styc/low_key_still_ban...</td>\n      <td>https://i.redd.it/aiaxxoz9uoaa1.jpg</td>\n      <td>105styc.jpg</td>\n      <td>data/image/105styc.jpg</td>\n      <td>SexyDiffusion</td>\n      <td>True</td>\n      <td>True</td>\n      <td>True</td>\n      <td>[]</td>\n    </tr>\n    <tr>\n      <th>369</th>\n      <td>105styc</td>\n      <td>AmIhotAF</td>\n      <td>Gizzygirl127</td>\n      <td>Low key… still bangable?</td>\n      <td>smiling woman sitting on couch with remote con...</td>\n      <td>6d555943be4fbc21ff92417c6f582298</td>\n      <td>/r/AmIhotAF/comments/105styc/low_key_still_ban...</td>\n      <td>https://i.redd.it/aiaxxoz9uoaa1.jpg</td>\n      <td>105styc.jpg</td>\n      <td>data/image/105styc.jpg</td>\n      <td>SexyDiffusion</td>\n      <td>True</td>\n      <td>False</td>\n      <td>False</td>\n      <td>[]</td>\n    </tr>\n    <tr>\n      <th>551</th>\n      <td>105styc</td>\n      <td>AmIhotAF</td>\n      <td>Gizzygirl127</td>\n      <td>Low key… still bangable?</td>\n      <td>smiling woman sitting on couch with remote con...</td>\n      <td>6d555943be4fbc21ff92417c6f582298</td>\n      <td>/r/AmIhotAF/comments/105styc/low_key_still_ban...</td>\n      <td>https://i.redd.it/aiaxxoz9uoaa1.jpg</td>\n      <td>105styc.jpg</td>\n      <td>data/image/105styc.jpg</td>\n      <td>SexyDiffusion</td>\n      <td>True</td>\n      <td>False</td>\n      <td>False</td>\n      <td>[]</td>\n    </tr>\n    <tr>\n      <th>733</th>\n      <td>105styc</td>\n      <td>AmIhotAF</td>\n      <td>Gizzygirl127</td>\n      <td>Low key… still bangable?</td>\n      <td>smiling woman sitting on couch with remote con...</td>\n      <td>6d555943be4fbc21ff92417c6f582298</td>\n      <td>/r/AmIhotAF/comments/105styc/low_key_still_ban...</td>\n      <td>https://i.redd.it/aiaxxoz9uoaa1.jpg</td>\n      <td>105styc.jpg</td>\n      <td>data/image/105styc.jpg</td>\n      <td>SexyDiffusion</td>\n      <td>True</td>\n      <td>False</td>\n      <td>False</td>\n      <td>[]</td>\n    </tr>\n  </tbody>\n</table>\n</div>"
     },
     "metadata": {},
     "output_type": "display_data"
    }
   ],
   "source": [
    "\n",
    "# foo = pandas.DataFrame(data=[{\n",
    "#     'id': '10kzbey',\n",
    "#     'path': 'data/image/1.jpg',\n",
    "#     'image_name': '1.jpg',\n",
    "#     'accept': True,\n",
    "#     'curated': True,\n",
    "#     'model': 'test',\n",
    "#     'tags': []\n",
    "# }])\n",
    "#\n",
    "# temp = df\n",
    "\n",
    "# display(df.loc[df['id'] == '105styc'])\n",
    "\n",
    "# display(temp.loc[temp['id'] == '10kzbey'])\n",
    "\n",
    "# display(temp.loc[temp['id'] == '10kzbey'])"
   ],
   "metadata": {
    "collapsed": false,
    "ExecuteTime": {
     "end_time": "2023-04-30T15:48:40.582669400Z",
     "start_time": "2023-04-30T15:48:40.550951800Z"
    }
   }
  }
 ],
 "metadata": {
  "kernelspec": {
   "display_name": "Python 3",
   "language": "python",
   "name": "python3"
  },
  "language_info": {
   "codemirror_mode": {
    "name": "ipython",
    "version": 2
   },
   "file_extension": ".py",
   "mimetype": "text/x-python",
   "name": "python",
   "nbconvert_exporter": "python",
   "pygments_lexer": "ipython2",
   "version": "2.7.6"
  }
 },
 "nbformat": 4,
 "nbformat_minor": 0
}
