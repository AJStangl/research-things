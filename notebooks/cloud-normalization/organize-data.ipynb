{
 "cells": [
  {
   "cell_type": "code",
   "execution_count": 2,
   "metadata": {
    "collapsed": true,
    "ExecuteTime": {
     "end_time": "2023-05-03T01:08:12.797928300Z",
     "start_time": "2023-05-03T01:08:01.344777700Z"
    }
   },
   "outputs": [],
   "source": [
    "import os.path\n",
    "\n",
    "import pandas as pd\n",
    "\n",
    "\n",
    "%run 0-0-common.ipynb"
   ]
  },
  {
   "cell_type": "code",
   "execution_count": 4,
   "outputs": [
    {
     "name": "stdout",
     "output_type": "stream",
     "text": [
      "CPU times: total: 0 ns\n",
      "Wall time: 0 ns\n"
     ]
    }
   ],
   "source": [
    "%%time\n",
    "\n",
    "from shared_code.utility.storage.azure_file_storage import AzureFileStorageAdapter\n",
    "from adlfs import AzureBlobFileSystem\n",
    "\n",
    "storage_adapter: AzureFileStorageAdapter = AzureFileStorageAdapter('data')\n",
    "file_system: AzureBlobFileSystem = storage_adapter.get_file_storage()\n"
   ],
   "metadata": {
    "collapsed": false,
    "ExecuteTime": {
     "end_time": "2023-05-01T21:00:51.469880500Z",
     "start_time": "2023-05-01T21:00:51.344877Z"
    }
   }
  },
  {
   "cell_type": "code",
   "execution_count": 5,
   "outputs": [
    {
     "name": "stdout",
     "output_type": "stream",
     "text": [
      "=== RAW DATA ===\n"
     ]
    },
    {
     "data": {
      "text/plain": "(41505, 15)"
     },
     "metadata": {},
     "output_type": "display_data"
    },
    {
     "name": "stdout",
     "output_type": "stream",
     "text": [
      "=== Deduplicated DATA ===\n"
     ]
    },
    {
     "data": {
      "text/plain": "(38051, 15)"
     },
     "metadata": {},
     "output_type": "display_data"
    },
    {
     "name": "stdout",
     "output_type": "stream",
     "text": [
      "CPU times: total: 703 ms\n",
      "Wall time: 2.14 s\n"
     ]
    }
   ],
   "source": [
    "%%time\n",
    "\n",
    "extant_raw = pd.read_parquet('data/processed_raw_data.parquet', filesystem=file_system, engine='pyarrow', schema=schema)\n",
    "\n",
    "print(\"=== RAW DATA ===\")\n",
    "display(extant_raw.shape)\n",
    "\n",
    "extant_raw.drop_duplicates(subset=['id'], keep='first', inplace=True)\n",
    "\n",
    "print(\"=== Deduplicated DATA ===\")\n",
    "display(extant_raw.shape)"
   ],
   "metadata": {
    "collapsed": false,
    "ExecuteTime": {
     "end_time": "2023-05-01T21:00:53.629168800Z",
     "start_time": "2023-05-01T21:00:51.376136700Z"
    }
   }
  },
  {
   "cell_type": "code",
   "execution_count": 6,
   "outputs": [
    {
     "name": "stdout",
     "output_type": "stream",
     "text": [
      "(38051, 15)\n"
     ]
    },
    {
     "data": {
      "text/plain": "                subreddit                author  \\\nid                                                \n128z5ns       celebrities           A-Sexy-Name   \n11yk8db  prettyasiangirls          MisoShiru520   \n11hfioi     KoreanHotties  Majestic_Painter8660   \n1000mjs         spaceporn    MorningStar_imangi   \n1000qpd         spaceporn    MorningStar_imangi   \n...                   ...                   ...   \n131dso7              DLAH        Wallydinger123   \n131eznp              DLAH          Long_dong111   \n131g3am              DLAH       ThrownAwayMiles   \n131jvcx              DLAH              robok212   \n131n2by              DLAH  Dependent_Secret9424   \n\n                                 title  \\\nid                                       \n128z5ns                   Rachel Weisz   \n11yk8db                        Library   \n11hfioi               Underboob bikini   \n1000mjs  Northern Lights above Lofoten   \n1000qpd                  Viking Lights   \n...                                ...   \n131dso7                    Happy B Day   \n131eznp                        Perfect   \n131g3am             DLAH left or right   \n131jvcx                 Good morning 😍   \n131n2by           Perfection (Sisters)   \n\n                                                   caption  \\\nid                                                           \n128z5ns  cars are parked on the side of the road in the...   \n11yk8db  blonde woman with blonde hair and tattoos on h...   \n11hfioi  a man with a beard and a beard sitting in fron...   \n1000mjs  a view of a view of a large green and purple a...   \n1000qpd  a scene of a boat is sitting on the shore of a...   \n...                                                    ...   \n131dso7  there are three women posing for a picture in ...   \n131eznp  araffe woman in a white dress sitting on a pur...   \n131g3am  two women in short dresses posing for a pictur...   \n131jvcx      araffe in a pink dress posing on a white wall   \n131n2by  two women in shorts and sandals taking a selfi...   \n\n                                     hash  \\\nid                                          \n128z5ns  f09b1c0c5dea50c934081a04c83d4d33   \n11yk8db  9d5b7331b941ecf3fdbc8ad322303825   \n11hfioi  a154a56b1b87cf3a0bc93600c86e4585   \n1000mjs  2c39ce1290fba541abd0b004b09da6b2   \n1000qpd  0f72de47c69ff50eca5fa3990215f4ac   \n...                                   ...   \n131dso7  ebb4b4a88dc79e2f2f57b10f32bf03c0   \n131eznp  5c944c6d62b1ae182c5a6a40c64195f4   \n131g3am  ab1f8fc33c85f4cfce12c810cf22229e   \n131jvcx  01f5058855526ef25888cff88065db4c   \n131n2by  b162dd1999dbf9ea3c7adccd34624a46   \n\n                                                 permalink  \\\nid                                                           \n128z5ns      /r/celebrities/comments/128z5ns/rachel_weisz/   \n11yk8db      /r/prettyasiangirls/comments/11yk8db/library/   \n11hfioi  /r/KoreanHotties/comments/11hfioi/underboob_bi...   \n1000mjs  /r/spaceporn/comments/1000mjs/northern_lights_...   \n1000qpd       /r/spaceporn/comments/1000qpd/viking_lights/   \n...                                                    ...   \n131dso7              /r/DLAH/comments/131dso7/happy_b_day/   \n131eznp                  /r/DLAH/comments/131eznp/perfect/   \n131g3am       /r/DLAH/comments/131g3am/dlah_left_or_right/   \n131jvcx             /r/DLAH/comments/131jvcx/good_morning/   \n131n2by       /r/DLAH/comments/131n2by/perfection_sisters/   \n\n                                original_url  \\\nid                                             \n128z5ns  https://i.redd.it/nv80afddacra1.jpg   \n11yk8db  https://i.redd.it/ht4d2wuusapa1.jpg   \n11hfioi  https://i.redd.it/cimr17q84jla1.jpg   \n1000mjs  https://i.redd.it/7s5aafaqkb9a1.jpg   \n1000qpd  https://i.redd.it/abojw7lqlb9a1.jpg   \n...                                      ...   \n131dso7  https://i.redd.it/36gurz533jwa1.jpg   \n131eznp  https://i.redd.it/dnbbx4zucjwa1.jpg   \n131g3am  https://i.redd.it/zpp70oor3lwa1.jpg   \n131jvcx  https://i.redd.it/ozmbfhjv3mwa1.jpg   \n131n2by  https://i.redd.it/pfg1u0aw1nwa1.jpg   \n\n                                   image_name  \\\nid                                              \n128z5ns  f09b1c0c5dea50c934081a04c83d4d33.jpg   \n11yk8db  9d5b7331b941ecf3fdbc8ad322303825.jpg   \n11hfioi  a154a56b1b87cf3a0bc93600c86e4585.jpg   \n1000mjs                     7s5aafaqkb9a1.jpg   \n1000qpd                     abojw7lqlb9a1.jpg   \n...                                       ...   \n131dso7  ebb4b4a88dc79e2f2f57b10f32bf03c0.jpg   \n131eznp  5c944c6d62b1ae182c5a6a40c64195f4.jpg   \n131g3am  ab1f8fc33c85f4cfce12c810cf22229e.jpg   \n131jvcx  01f5058855526ef25888cff88065db4c.jpg   \n131n2by  b162dd1999dbf9ea3c7adccd34624a46.jpg   \n\n                                                      path model  exists  \\\nid                                                                         \n128z5ns  D:\\data\\images\\celebrities\\f09b1c0c5dea50c9340...  None    True   \n11yk8db  D:\\data\\images\\prettyasiangirls\\9d5b7331b941ec...  None    True   \n11hfioi                           D:\\ImageDoesNotExist.png  None   False   \n1000mjs         D:\\data\\images\\spaceporn\\7s5aafaqkb9a1.jpg  None    True   \n1000qpd         D:\\data\\images\\spaceporn\\abojw7lqlb9a1.jpg  None    True   \n...                                                    ...   ...     ...   \n131dso7  D:\\data\\images\\DLAH\\ebb4b4a88dc79e2f2f57b10f32...  None    True   \n131eznp  D:\\data\\images\\DLAH\\5c944c6d62b1ae182c5a6a40c6...  None    True   \n131g3am  D:\\data\\images\\DLAH\\ab1f8fc33c85f4cfce12c810cf...  None    True   \n131jvcx  D:\\data\\images\\DLAH\\01f5058855526ef25888cff880...  None    True   \n131n2by  D:\\data\\images\\DLAH\\b162dd1999dbf9ea3c7adccd34...  None    True   \n\n         curated accept  tags     id  \nid                                    \n128z5ns    False   None  None      0  \n11yk8db    False   None  None      1  \n11hfioi    False   None  None      2  \n1000mjs    False   None  None      3  \n1000qpd    False   None  None      4  \n...          ...    ...   ...    ...  \n131dso7    False   None  None  41500  \n131eznp    False   None  None  41501  \n131g3am    False   None  None  41502  \n131jvcx    False   None  None  41503  \n131n2by    False   None  None  41504  \n\n[38051 rows x 15 columns]",
      "text/html": "<div>\n<style scoped>\n    .dataframe tbody tr th:only-of-type {\n        vertical-align: middle;\n    }\n\n    .dataframe tbody tr th {\n        vertical-align: top;\n    }\n\n    .dataframe thead th {\n        text-align: right;\n    }\n</style>\n<table border=\"1\" class=\"dataframe\">\n  <thead>\n    <tr style=\"text-align: right;\">\n      <th></th>\n      <th>subreddit</th>\n      <th>author</th>\n      <th>title</th>\n      <th>caption</th>\n      <th>hash</th>\n      <th>permalink</th>\n      <th>original_url</th>\n      <th>image_name</th>\n      <th>path</th>\n      <th>model</th>\n      <th>exists</th>\n      <th>curated</th>\n      <th>accept</th>\n      <th>tags</th>\n      <th>id</th>\n    </tr>\n    <tr>\n      <th>id</th>\n      <th></th>\n      <th></th>\n      <th></th>\n      <th></th>\n      <th></th>\n      <th></th>\n      <th></th>\n      <th></th>\n      <th></th>\n      <th></th>\n      <th></th>\n      <th></th>\n      <th></th>\n      <th></th>\n      <th></th>\n    </tr>\n  </thead>\n  <tbody>\n    <tr>\n      <th>128z5ns</th>\n      <td>celebrities</td>\n      <td>A-Sexy-Name</td>\n      <td>Rachel Weisz</td>\n      <td>cars are parked on the side of the road in the...</td>\n      <td>f09b1c0c5dea50c934081a04c83d4d33</td>\n      <td>/r/celebrities/comments/128z5ns/rachel_weisz/</td>\n      <td>https://i.redd.it/nv80afddacra1.jpg</td>\n      <td>f09b1c0c5dea50c934081a04c83d4d33.jpg</td>\n      <td>D:\\data\\images\\celebrities\\f09b1c0c5dea50c9340...</td>\n      <td>None</td>\n      <td>True</td>\n      <td>False</td>\n      <td>None</td>\n      <td>None</td>\n      <td>0</td>\n    </tr>\n    <tr>\n      <th>11yk8db</th>\n      <td>prettyasiangirls</td>\n      <td>MisoShiru520</td>\n      <td>Library</td>\n      <td>blonde woman with blonde hair and tattoos on h...</td>\n      <td>9d5b7331b941ecf3fdbc8ad322303825</td>\n      <td>/r/prettyasiangirls/comments/11yk8db/library/</td>\n      <td>https://i.redd.it/ht4d2wuusapa1.jpg</td>\n      <td>9d5b7331b941ecf3fdbc8ad322303825.jpg</td>\n      <td>D:\\data\\images\\prettyasiangirls\\9d5b7331b941ec...</td>\n      <td>None</td>\n      <td>True</td>\n      <td>False</td>\n      <td>None</td>\n      <td>None</td>\n      <td>1</td>\n    </tr>\n    <tr>\n      <th>11hfioi</th>\n      <td>KoreanHotties</td>\n      <td>Majestic_Painter8660</td>\n      <td>Underboob bikini</td>\n      <td>a man with a beard and a beard sitting in fron...</td>\n      <td>a154a56b1b87cf3a0bc93600c86e4585</td>\n      <td>/r/KoreanHotties/comments/11hfioi/underboob_bi...</td>\n      <td>https://i.redd.it/cimr17q84jla1.jpg</td>\n      <td>a154a56b1b87cf3a0bc93600c86e4585.jpg</td>\n      <td>D:\\ImageDoesNotExist.png</td>\n      <td>None</td>\n      <td>False</td>\n      <td>False</td>\n      <td>None</td>\n      <td>None</td>\n      <td>2</td>\n    </tr>\n    <tr>\n      <th>1000mjs</th>\n      <td>spaceporn</td>\n      <td>MorningStar_imangi</td>\n      <td>Northern Lights above Lofoten</td>\n      <td>a view of a view of a large green and purple a...</td>\n      <td>2c39ce1290fba541abd0b004b09da6b2</td>\n      <td>/r/spaceporn/comments/1000mjs/northern_lights_...</td>\n      <td>https://i.redd.it/7s5aafaqkb9a1.jpg</td>\n      <td>7s5aafaqkb9a1.jpg</td>\n      <td>D:\\data\\images\\spaceporn\\7s5aafaqkb9a1.jpg</td>\n      <td>None</td>\n      <td>True</td>\n      <td>False</td>\n      <td>None</td>\n      <td>None</td>\n      <td>3</td>\n    </tr>\n    <tr>\n      <th>1000qpd</th>\n      <td>spaceporn</td>\n      <td>MorningStar_imangi</td>\n      <td>Viking Lights</td>\n      <td>a scene of a boat is sitting on the shore of a...</td>\n      <td>0f72de47c69ff50eca5fa3990215f4ac</td>\n      <td>/r/spaceporn/comments/1000qpd/viking_lights/</td>\n      <td>https://i.redd.it/abojw7lqlb9a1.jpg</td>\n      <td>abojw7lqlb9a1.jpg</td>\n      <td>D:\\data\\images\\spaceporn\\abojw7lqlb9a1.jpg</td>\n      <td>None</td>\n      <td>True</td>\n      <td>False</td>\n      <td>None</td>\n      <td>None</td>\n      <td>4</td>\n    </tr>\n    <tr>\n      <th>...</th>\n      <td>...</td>\n      <td>...</td>\n      <td>...</td>\n      <td>...</td>\n      <td>...</td>\n      <td>...</td>\n      <td>...</td>\n      <td>...</td>\n      <td>...</td>\n      <td>...</td>\n      <td>...</td>\n      <td>...</td>\n      <td>...</td>\n      <td>...</td>\n      <td>...</td>\n    </tr>\n    <tr>\n      <th>131dso7</th>\n      <td>DLAH</td>\n      <td>Wallydinger123</td>\n      <td>Happy B Day</td>\n      <td>there are three women posing for a picture in ...</td>\n      <td>ebb4b4a88dc79e2f2f57b10f32bf03c0</td>\n      <td>/r/DLAH/comments/131dso7/happy_b_day/</td>\n      <td>https://i.redd.it/36gurz533jwa1.jpg</td>\n      <td>ebb4b4a88dc79e2f2f57b10f32bf03c0.jpg</td>\n      <td>D:\\data\\images\\DLAH\\ebb4b4a88dc79e2f2f57b10f32...</td>\n      <td>None</td>\n      <td>True</td>\n      <td>False</td>\n      <td>None</td>\n      <td>None</td>\n      <td>41500</td>\n    </tr>\n    <tr>\n      <th>131eznp</th>\n      <td>DLAH</td>\n      <td>Long_dong111</td>\n      <td>Perfect</td>\n      <td>araffe woman in a white dress sitting on a pur...</td>\n      <td>5c944c6d62b1ae182c5a6a40c64195f4</td>\n      <td>/r/DLAH/comments/131eznp/perfect/</td>\n      <td>https://i.redd.it/dnbbx4zucjwa1.jpg</td>\n      <td>5c944c6d62b1ae182c5a6a40c64195f4.jpg</td>\n      <td>D:\\data\\images\\DLAH\\5c944c6d62b1ae182c5a6a40c6...</td>\n      <td>None</td>\n      <td>True</td>\n      <td>False</td>\n      <td>None</td>\n      <td>None</td>\n      <td>41501</td>\n    </tr>\n    <tr>\n      <th>131g3am</th>\n      <td>DLAH</td>\n      <td>ThrownAwayMiles</td>\n      <td>DLAH left or right</td>\n      <td>two women in short dresses posing for a pictur...</td>\n      <td>ab1f8fc33c85f4cfce12c810cf22229e</td>\n      <td>/r/DLAH/comments/131g3am/dlah_left_or_right/</td>\n      <td>https://i.redd.it/zpp70oor3lwa1.jpg</td>\n      <td>ab1f8fc33c85f4cfce12c810cf22229e.jpg</td>\n      <td>D:\\data\\images\\DLAH\\ab1f8fc33c85f4cfce12c810cf...</td>\n      <td>None</td>\n      <td>True</td>\n      <td>False</td>\n      <td>None</td>\n      <td>None</td>\n      <td>41502</td>\n    </tr>\n    <tr>\n      <th>131jvcx</th>\n      <td>DLAH</td>\n      <td>robok212</td>\n      <td>Good morning 😍</td>\n      <td>araffe in a pink dress posing on a white wall</td>\n      <td>01f5058855526ef25888cff88065db4c</td>\n      <td>/r/DLAH/comments/131jvcx/good_morning/</td>\n      <td>https://i.redd.it/ozmbfhjv3mwa1.jpg</td>\n      <td>01f5058855526ef25888cff88065db4c.jpg</td>\n      <td>D:\\data\\images\\DLAH\\01f5058855526ef25888cff880...</td>\n      <td>None</td>\n      <td>True</td>\n      <td>False</td>\n      <td>None</td>\n      <td>None</td>\n      <td>41503</td>\n    </tr>\n    <tr>\n      <th>131n2by</th>\n      <td>DLAH</td>\n      <td>Dependent_Secret9424</td>\n      <td>Perfection (Sisters)</td>\n      <td>two women in shorts and sandals taking a selfi...</td>\n      <td>b162dd1999dbf9ea3c7adccd34624a46</td>\n      <td>/r/DLAH/comments/131n2by/perfection_sisters/</td>\n      <td>https://i.redd.it/pfg1u0aw1nwa1.jpg</td>\n      <td>b162dd1999dbf9ea3c7adccd34624a46.jpg</td>\n      <td>D:\\data\\images\\DLAH\\b162dd1999dbf9ea3c7adccd34...</td>\n      <td>None</td>\n      <td>True</td>\n      <td>False</td>\n      <td>None</td>\n      <td>None</td>\n      <td>41504</td>\n    </tr>\n  </tbody>\n</table>\n<p>38051 rows × 15 columns</p>\n</div>"
     },
     "metadata": {},
     "output_type": "display_data"
    },
    {
     "name": "stdout",
     "output_type": "stream",
     "text": [
      "CPU times: total: 78.1 ms\n",
      "Wall time: 79 ms\n"
     ]
    }
   ],
   "source": [
    "%%time\n",
    "\n",
    "extant_raw_indexed = extant_raw.set_index('id')\n",
    "\n",
    "extant_raw_indexed['id'] = extant_raw.index\n",
    "\n",
    "print(extant_raw_indexed.shape)\n",
    "display(extant_raw_indexed)"
   ],
   "metadata": {
    "collapsed": false,
    "ExecuteTime": {
     "end_time": "2023-05-01T21:00:53.819305800Z",
     "start_time": "2023-05-01T21:00:53.581828400Z"
    }
   }
  },
  {
   "cell_type": "code",
   "execution_count": 1,
   "outputs": [
    {
     "ename": "NameError",
     "evalue": "name 'file_system' is not defined",
     "output_type": "error",
     "traceback": [
      "\u001B[1;31m---------------------------------------------------------------------------\u001B[0m",
      "\u001B[1;31mNameError\u001B[0m                                 Traceback (most recent call last)",
      "Cell \u001B[1;32mIn[1], line 1\u001B[0m\n\u001B[1;32m----> 1\u001B[0m cloud_ready_files \u001B[38;5;241m=\u001B[39m [os\u001B[38;5;241m.\u001B[39mpath\u001B[38;5;241m.\u001B[39mbasename(file) \u001B[38;5;28;01mfor\u001B[39;00m file \u001B[38;5;129;01min\u001B[39;00m \u001B[43mfile_system\u001B[49m\u001B[38;5;241m.\u001B[39mls(\u001B[38;5;124m'\u001B[39m\u001B[38;5;124mdata/image/\u001B[39m\u001B[38;5;124m'\u001B[39m)]\n\u001B[0;32m      2\u001B[0m display(cloud_ready_files)\n",
      "\u001B[1;31mNameError\u001B[0m: name 'file_system' is not defined"
     ]
    }
   ],
   "source": [
    "cloud_ready_files = [os.path.basename(file) for file in file_system.ls('data/image/')]\n",
    "display(cloud_ready_files)"
   ],
   "metadata": {
    "collapsed": false,
    "ExecuteTime": {
     "end_time": "2023-05-01T21:00:35.110715Z",
     "start_time": "2023-05-01T21:00:34.438570900Z"
    }
   }
  },
  {
   "cell_type": "code",
   "execution_count": 7,
   "outputs": [
    {
     "data": {
      "text/plain": "['1013bdt',\n '105mekt',\n '105qvgl',\n '105rpcj',\n '105styc',\n '105tw6t',\n '106673i',\n '106lsw4',\n '106mh03',\n '10ce95f',\n '10cywc7',\n '10i1flv',\n '10i1qkq',\n '10i56sz',\n '10i8he7',\n '10iuhd0',\n '10nyadr',\n '10o96va',\n '10odumt',\n '10ok9gc',\n '10olva7',\n '10onw06',\n '10osnnk',\n '10pl8zt',\n '10pq54f',\n '10prtpi',\n '10q17m7',\n '10q1t59',\n '10q46tx',\n '10q6wg2',\n '10q8gj9',\n '10q97um',\n '10qdfml',\n '10qizmn',\n 'ymvhze',\n 'yn2irc',\n 'ynlbt6',\n 'yo71q9',\n 'ysgkjg',\n 'ytjs2s',\n 'ytttbp',\n 'yugsit',\n 'ywiv0k',\n 'yxhlpc',\n 'yxt6t9',\n 'z4rzpq',\n 'z4u1xz',\n 'z6gu0e',\n 'za5a21',\n 'zawc2b',\n 'zbn64p',\n 'zbvyyg',\n 'zitlo7',\n 'znqjpa',\n 'zp68ea',\n 'zp99sa',\n 'zyscw8',\n '1019kyo',\n '1032j8y',\n '103h4hd',\n '106hchf',\n '108e7ml',\n '109n66u',\n '109x870',\n '10bpm50',\n '10f78ow',\n '10i05he',\n '10qddse',\n 'ymlcfe',\n 'z7fn51',\n 'ze9wml',\n 'zqyw7y',\n 'zrkhhb',\n '1027i9a',\n '103zqoc',\n '10gzlqt',\n '1213x1h',\n '129z5l8']"
     },
     "metadata": {},
     "output_type": "display_data"
    }
   ],
   "source": [
    "curated = pd.read_parquet('data/parquet/back.parquet', filesystem=file_system, engine='pyarrow', schema=schema)\n",
    "already_curated_ids = curated.loc[curated['accept'] == True].id.to_list()\n",
    "display(already_curated_ids)"
   ],
   "metadata": {
    "collapsed": false,
    "ExecuteTime": {
     "end_time": "2023-04-30T20:48:36.213943700Z",
     "start_time": "2023-04-30T20:48:35.393863900Z"
    }
   }
  },
  {
   "cell_type": "code",
   "execution_count": 16,
   "outputs": [
    {
     "name": "stderr",
     "output_type": "stream",
     "text": [
      "Checking Local records: 100%|██████████| 38051/38051 [00:16<00:00, 2271.93it/s]\n",
      "Saving Extant Records: 100%|██████████| 33710/33710 [10:58<00:00, 51.18it/s] \n"
     ]
    }
   ],
   "source": [
    "from tqdm import tqdm\n",
    "\n",
    "records = extant_raw_indexed.to_dict(orient='records')\n",
    "curated_records = curated.to_dict(orient='records')\n",
    "\n",
    "extant_records = []\n",
    "\n",
    "for record in tqdm(records, total=len(records), desc='Checking Local records'):\n",
    "    try:\n",
    "        if os.path.exists(record['path']):\n",
    "            extant_records.append(record)\n",
    "    except Exception as e:\n",
    "        continue\n",
    "\n",
    "out = []\n",
    "\n",
    "# for record in tqdm(extant_records, total=len(extant_records), desc='Saving Extant Records'):\n",
    "#     link = record['permalink'].split('/')\n",
    "#     record['id'] = link[4]\n",
    "#\n",
    "#     if record['id'] in already_curated_ids:\n",
    "#         continue\n",
    "#     if not record['id'] + \".jpg\" in cloud_ready_files:\n",
    "#         print(record['path'])\n",
    "#         file_system.upload(record['path'], f'data/image/{record[\"id\"]}.jpg', overwrite=True)\n",
    "#     else:\n",
    "#         record['path'] = f'data/image/{record[\"id\"]}.jpg'\n",
    "#         record['image_name'] = f'{record[\"id\"]}.jpg'\n",
    "#         record['accept'] = False\n",
    "#         record['curated'] = False\n",
    "#         record['tags'] = []\n",
    "#         try:\n",
    "#             record['model'] = [source['name'] for source in sources if record['subreddit'] in source['data']][0]\n",
    "#             record['tags'] = []\n",
    "#         except:\n",
    "#             pass\n",
    "#         if record['id'] in [curated_record['id'] for curated_record in curated_records]:\n",
    "#             record['model'] = \"\"\n",
    "#             record['tags'] = []\n",
    "#             continue\n",
    "#         out.append(record)\n",
    "#\n",
    "# new_things = pd.DataFrame(data=out)"
   ],
   "metadata": {
    "collapsed": false,
    "ExecuteTime": {
     "end_time": "2023-04-30T22:57:46.907270600Z",
     "start_time": "2023-04-30T22:46:26.721843500Z"
    }
   }
  },
  {
   "cell_type": "code",
   "execution_count": 17,
   "outputs": [
    {
     "data": {
      "text/plain": "Empty DataFrame\nColumns: []\nIndex: []",
      "text/html": "<div>\n<style scoped>\n    .dataframe tbody tr th:only-of-type {\n        vertical-align: middle;\n    }\n\n    .dataframe tbody tr th {\n        vertical-align: top;\n    }\n\n    .dataframe thead th {\n        text-align: right;\n    }\n</style>\n<table border=\"1\" class=\"dataframe\">\n  <thead>\n    <tr style=\"text-align: right;\">\n      <th></th>\n    </tr>\n  </thead>\n  <tbody>\n  </tbody>\n</table>\n</div>"
     },
     "metadata": {},
     "output_type": "display_data"
    }
   ],
   "source": [
    "# display(new_things)"
   ],
   "metadata": {
    "collapsed": false,
    "ExecuteTime": {
     "end_time": "2023-04-30T23:41:49.055617Z",
     "start_time": "2023-04-30T23:41:48.961840100Z"
    }
   }
  },
  {
   "cell_type": "code",
   "execution_count": 10,
   "outputs": [],
   "source": [
    "# foo.to_parquet('data/parquet/', filesystem=file_system, engine='pyarrow', schema=schema, partition_cols=['subreddit'], index=['id'])"
   ],
   "metadata": {
    "collapsed": false,
    "ExecuteTime": {
     "end_time": "2023-04-30T20:58:09.498193300Z",
     "start_time": "2023-04-30T20:58:09.378829200Z"
    }
   }
  },
  {
   "cell_type": "code",
   "execution_count": 1,
   "outputs": [
    {
     "ename": "NameError",
     "evalue": "name 'file_system' is not defined",
     "output_type": "error",
     "traceback": [
      "\u001B[1;31m---------------------------------------------------------------------------\u001B[0m",
      "\u001B[1;31mNameError\u001B[0m                                 Traceback (most recent call last)",
      "Cell \u001B[1;32mIn[1], line 3\u001B[0m\n\u001B[0;32m      1\u001B[0m \u001B[38;5;28;01mimport\u001B[39;00m \u001B[38;5;21;01mpandas\u001B[39;00m\n\u001B[1;32m----> 3\u001B[0m foo \u001B[38;5;241m=\u001B[39m pandas\u001B[38;5;241m.\u001B[39mread_parquet(\u001B[38;5;124m'\u001B[39m\u001B[38;5;124mdata/parquet/back.parquet\u001B[39m\u001B[38;5;124m'\u001B[39m, filesystem\u001B[38;5;241m=\u001B[39m\u001B[43mfile_system\u001B[49m, engine\u001B[38;5;241m=\u001B[39m\u001B[38;5;124m'\u001B[39m\u001B[38;5;124mpyarrow\u001B[39m\u001B[38;5;124m'\u001B[39m, schema\u001B[38;5;241m=\u001B[39mschema)\n\u001B[0;32m      5\u001B[0m \u001B[38;5;66;03m# foo.set_index('id', inplace=True, drop=False)\u001B[39;00m\n\u001B[0;32m      6\u001B[0m \n\u001B[0;32m      7\u001B[0m \u001B[38;5;66;03m# foo.drop_duplicates(subset=['id'], keep='last', inplace=True)\u001B[39;00m\n\u001B[0;32m      9\u001B[0m \u001B[38;5;28mprint\u001B[39m(foo\u001B[38;5;241m.\u001B[39mshape)\n",
      "\u001B[1;31mNameError\u001B[0m: name 'file_system' is not defined"
     ]
    }
   ],
   "source": [
    "import pandas\n",
    "\n",
    "foo = pandas.read_parquet('data/parquet/back.parquet', filesystem=file_system, engine='pyarrow', schema=schema)\n",
    "\n",
    "# foo.set_index('id', inplace=True, drop=False)\n",
    "\n",
    "# foo.drop_duplicates(subset=['id'], keep='last', inplace=True)\n",
    "\n",
    "print(foo.shape)\n",
    "\n",
    "display(foo)\n",
    "\n",
    "# foo.to_parquet('data/parquet/back.parquet', filesystem=file_system, engine='pyarrow', schema=schema)\n",
    "# df_index.to_parquet('data/parquet/', filesystem=file_system, engine='pyarrow', schema=schema)\n",
    "# records = foo.to_dict(orient='records')\n",
    "#\n",
    "# thing = records[0]\n",
    "#\n",
    "# bar = pandas.DataFrame(data=[thing], index=['id'])\n",
    "#\n",
    "# display(bar)\n",
    "#\n",
    "# foo.update(bar, overwrite=True)\n",
    "#\n",
    "# print(foo.shape)\n",
    "#\n",
    "# display(foo)\n",
    "#\n",
    "# display(foo.loc[foo['id'] == '106mh03'])"
   ],
   "metadata": {
    "collapsed": false,
    "ExecuteTime": {
     "end_time": "2023-05-03T01:08:12.547929700Z",
     "start_time": "2023-05-03T01:07:36.350434900Z"
    }
   }
  },
  {
   "cell_type": "code",
   "execution_count": 12,
   "outputs": [],
   "source": [
    "# temp = foo\n",
    "# display(temp)"
   ],
   "metadata": {
    "collapsed": false,
    "ExecuteTime": {
     "end_time": "2023-04-30T20:58:15.554493300Z",
     "start_time": "2023-04-30T20:58:15.550336500Z"
    }
   }
  },
  {
   "cell_type": "code",
   "execution_count": 13,
   "outputs": [],
   "source": [
    "# temp = foo\n",
    "# display(temp)\n",
    "# df_index.to_parquet('data/parquet/ready_to_curate.parquet', filesystem=file_system, engine='pyarrow', schema=schema)"
   ],
   "metadata": {
    "collapsed": false,
    "ExecuteTime": {
     "end_time": "2023-04-30T20:58:15.559698600Z",
     "start_time": "2023-04-30T20:58:15.557693400Z"
    }
   }
  },
  {
   "cell_type": "code",
   "execution_count": 14,
   "outputs": [],
   "source": [
    "\n",
    "# foo = pandas.DataFrame(data=[{\n",
    "#     'id': '10kzbey',\n",
    "#     'path': 'data/image/1.jpg',\n",
    "#     'image_name': '1.jpg',\n",
    "#     'accept': True,\n",
    "#     'curated': True,\n",
    "#     'model': 'test',\n",
    "#     'tags': []\n",
    "# }])\n",
    "#\n",
    "# temp = df\n",
    "\n",
    "# display(df.loc[df['id'] == '105styc'])\n",
    "\n",
    "# display(temp.loc[temp['id'] == '10kzbey'])\n",
    "\n",
    "# display(temp.loc[temp['id'] == '10kzbey'])"
   ],
   "metadata": {
    "collapsed": false,
    "ExecuteTime": {
     "end_time": "2023-04-30T20:58:15.703141800Z",
     "start_time": "2023-04-30T20:58:15.641583Z"
    }
   }
  }
 ],
 "metadata": {
  "kernelspec": {
   "display_name": "Python 3",
   "language": "python",
   "name": "python3"
  },
  "language_info": {
   "codemirror_mode": {
    "name": "ipython",
    "version": 2
   },
   "file_extension": ".py",
   "mimetype": "text/x-python",
   "name": "python",
   "nbconvert_exporter": "python",
   "pygments_lexer": "ipython2",
   "version": "2.7.6"
  }
 },
 "nbformat": 4,
 "nbformat_minor": 0
}
