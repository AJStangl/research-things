{
 "cells": [
  {
   "cell_type": "code",
   "execution_count": 1,
   "metadata": {
    "collapsed": true
   },
   "outputs": [],
   "source": [
    "import pandas as pd\n",
    "import dask.dataframe as dd\n",
    "import praw\n",
    "from dask.diagnostics import ProgressBar\n",
    "from tqdm import tqdm\n",
    "import hashlib\n",
    "from PIL import Image\n",
    "import requests\n",
    "from io import BytesIO\n",
    "from shared_code.utility.schemas.pyarrow_schema import schema\n",
    "from shared_code.utility.spark.set_environ import set_azure_env\n",
    "import os\n",
    "import torch\n",
    "from datetime import datetime\n",
    "import pandas as pd\n",
    "from pmaw import PushshiftAPI\n",
    "\n",
    "set_azure_env()\n",
    "\n",
    "from shared_code.utility.storage.azure_file_storage import AzureFileStorageAdapter\n",
    "from shared_code.utility.scripts.blip_caption import BlipCaption\n",
    "\n",
    "pbar = ProgressBar()\n",
    "pbar.register()\n",
    "\n",
    "tqdm.pandas()\n",
    "tqdm.pandas(desc=\"global\")\n",
    "\n",
    "from tqdm.dask import TqdmCallback\n",
    "cb = TqdmCallback(desc=\"global\")\n",
    "cb.register()\n",
    "\n",
    "file_system = AzureFileStorageAdapter('data').get_file_storage()"
   ]
  },
  {
   "cell_type": "code",
   "execution_count": 2,
   "outputs": [
    {
     "name": "stdout",
     "output_type": "stream",
     "text": [
      "CPU times: total: 0 ns\n",
      "Wall time: 0 ns\n"
     ]
    }
   ],
   "source": [
    "%%time\n",
    "\n",
    "subs = [\"SFWRedheads\",\"sfwpetite\",\"SFWNextDoorGirls\",\"CityPorn\",\"EarthPorn\",\"memes\",\"spaceporn\",\"trippinthroughtime\",\"fatsquirrelhate\",\"oldladiesbakingpies\",\"itookapicture\"]"
   ],
   "metadata": {
    "collapsed": false
   }
  },
  {
   "cell_type": "code",
   "execution_count": 3,
   "outputs": [
    {
     "data": {
      "text/plain": "            id      subreddit              author  \\\n0      1000cej       CityPorn         OtterlyFoxy   \n1      1000glf       AmIhotAF   toolate_sharkbait   \n2      1000j1n      greentext           trent8051   \n3      1000mjs      spaceporn  MorningStar_imangi   \n4      1000qpd      spaceporn  MorningStar_imangi   \n...        ...            ...                 ...   \n17020  11ajmf8  itookapicture             caue_st   \n17021  11aijs3  itookapicture            Eirik100   \n17022  11aies8  itookapicture        WittilyOrder   \n17023  11aibqx  itookapicture         Max_McAlpin   \n17024  11ai823  itookapicture        RunicBubbles   \n\n                                                 title  \\\n0                                  New York in the fog   \n1                       Just looking for entertainment   \n2                                  Anon wants Elon cut   \n3                        Northern Lights above Lofoten   \n4                                        Viking Lights   \n...                                                ...   \n17020                          ITAP of a little spider   \n17021                              ITAP of an old wall   \n17022  ITAP of a buck and his bird in the morning mist   \n17023                  ITAP a Mountain in Niseko Japan   \n17024                        ITAP of the afternoon sky   \n\n                                                 caption  \\\n0      cars are parked on the side of the road in the...   \n1      blonde woman with blonde hair and tattoos on h...   \n2      a man with a beard and a beard sitting in fron...   \n3      a view of a view of a large green and purple a...   \n4      a scene of a boat is sitting on the shore of a...   \n...                                                  ...   \n17020  there is a small insect on the red flowers in ...   \n17021  a close up of a red and white fire hydrant wit...   \n17022        arafed image of a deer in the foggy morning   \n17023  skiers on a ski slope with a mountain in the b...   \n17024   arafed view of a street light in the evening sky   \n\n                                   hash  \\\n0      7a8d96e378c15c8ab8440ac311f12c11   \n1      e554c1ed7ffa2740436ac082068b2824   \n2      1dec3dabb5e46cde01855d06089c287a   \n3      2c39ce1290fba541abd0b004b09da6b2   \n4      0f72de47c69ff50eca5fa3990215f4ac   \n...                                 ...   \n17020  2ea9dabac6e5e29fcabba6bb4e67d69c   \n17021  3f2168df91d1ad5ee78e5cf14c947045   \n17022  6230a5e6312b05a2728785e10c5f59bb   \n17023  2e670a882739afed75ed8c0883e89c78   \n17024  760452420f64b411e6117366266c31cb   \n\n                                               permalink  \\\n0      /r/CityPorn/comments/1000cej/new_york_in_the_fog/   \n1      /r/AmIhotAF/comments/1000glf/just_looking_for_...   \n2      /r/greentext/comments/1000j1n/anon_wants_elon_...   \n3      /r/spaceporn/comments/1000mjs/northern_lights_...   \n4           /r/spaceporn/comments/1000qpd/viking_lights/   \n...                                                  ...   \n17020  /r/itookapicture/comments/11ajmf8/itap_of_a_li...   \n17021  /r/itookapicture/comments/11aijs3/itap_of_an_o...   \n17022  /r/itookapicture/comments/11aies8/itap_of_a_bu...   \n17023  /r/itookapicture/comments/11aibqx/itap_a_mount...   \n17024  /r/itookapicture/comments/11ai823/itap_of_the_...   \n\n                              original_url  \\\n0      https://i.redd.it/4emw5uldib9a1.jpg   \n1      https://i.redd.it/4xyb1vgbjb9a1.jpg   \n2      https://i.redd.it/3mewbe0wjb9a1.jpg   \n3      https://i.redd.it/7s5aafaqkb9a1.jpg   \n4      https://i.redd.it/abojw7lqlb9a1.jpg   \n...                                    ...   \n17020  https://i.redd.it/7hda3drs64ka1.jpg   \n17021      https://i.imgur.com/h17lyth.jpg   \n17022  https://i.redd.it/gkugpkb9d2ka1.jpg   \n17023  https://i.redd.it/b8k6tgc0u3ka1.jpg   \n17024  https://i.redd.it/dq26m7e0t3ka1.jpg   \n\n                                 image_name  \\\n0                         4emw5uldib9a1.jpg   \n1                         4xyb1vgbjb9a1.jpg   \n2                         3mewbe0wjb9a1.jpg   \n3                         7s5aafaqkb9a1.jpg   \n4                         abojw7lqlb9a1.jpg   \n...                                     ...   \n17020  2ea9dabac6e5e29fcabba6bb4e67d69c.jpg   \n17021  3f2168df91d1ad5ee78e5cf14c947045.jpg   \n17022  6230a5e6312b05a2728785e10c5f59bb.jpg   \n17023  2e670a882739afed75ed8c0883e89c78.jpg   \n17024  760452420f64b411e6117366266c31cb.jpg   \n\n                                                    path  \\\n0              D:\\data\\images\\CityPorn\\4emw5uldib9a1.jpg   \n1              D:\\data\\images\\AmIhotAF\\4xyb1vgbjb9a1.jpg   \n2             D:\\data\\images\\greentext\\3mewbe0wjb9a1.jpg   \n3               /data/images/spaceporn/7s5aafaqkb9a1.jpg   \n4               /data/images/spaceporn/abojw7lqlb9a1.jpg   \n...                                                  ...   \n17020  D:\\data\\images\\itookapicture\\2ea9dabac6e5e29fc...   \n17021  D:\\data\\images\\itookapicture\\3f2168df91d1ad5ee...   \n17022  D:\\data\\images\\itookapicture\\6230a5e6312b05a27...   \n17023  D:\\data\\images\\itookapicture\\2e670a882739afed7...   \n17024  D:\\data\\images\\itookapicture\\760452420f64b411e...   \n\n                                          thumbnail_path  exists  curated  \n0      D:\\data\\images\\CityPorn\\thumbnail\\4emw5uldib9a...    True    False  \n1      D:\\data\\images\\AmIhotAF\\thumbnail\\4xyb1vgbjb9a...    True    False  \n2      D:\\data\\images\\greentext\\thumbnail\\3mewbe0wjb9...    True    False  \n3      /data/images/spaceporn/thumbnail/7s5aafaqkb9a1...    True    False  \n4      /data/images/spaceporn/thumbnail/abojw7lqlb9a1...    True    False  \n...                                                  ...     ...      ...  \n17020  D:\\data\\images\\itookapicture\\thumbnail\\2ea9dab...    True    False  \n17021  D:\\data\\images\\itookapicture\\thumbnail\\3f2168d...    True    False  \n17022  D:\\data\\images\\itookapicture\\thumbnail\\6230a5e...    True    False  \n17023  D:\\data\\images\\itookapicture\\thumbnail\\2e670a8...    True    False  \n17024  D:\\data\\images\\itookapicture\\thumbnail\\7604524...    True    False  \n\n[17025 rows x 13 columns]",
      "text/html": "<div>\n<style scoped>\n    .dataframe tbody tr th:only-of-type {\n        vertical-align: middle;\n    }\n\n    .dataframe tbody tr th {\n        vertical-align: top;\n    }\n\n    .dataframe thead th {\n        text-align: right;\n    }\n</style>\n<table border=\"1\" class=\"dataframe\">\n  <thead>\n    <tr style=\"text-align: right;\">\n      <th></th>\n      <th>id</th>\n      <th>subreddit</th>\n      <th>author</th>\n      <th>title</th>\n      <th>caption</th>\n      <th>hash</th>\n      <th>permalink</th>\n      <th>original_url</th>\n      <th>image_name</th>\n      <th>path</th>\n      <th>thumbnail_path</th>\n      <th>exists</th>\n      <th>curated</th>\n    </tr>\n  </thead>\n  <tbody>\n    <tr>\n      <th>0</th>\n      <td>1000cej</td>\n      <td>CityPorn</td>\n      <td>OtterlyFoxy</td>\n      <td>New York in the fog</td>\n      <td>cars are parked on the side of the road in the...</td>\n      <td>7a8d96e378c15c8ab8440ac311f12c11</td>\n      <td>/r/CityPorn/comments/1000cej/new_york_in_the_fog/</td>\n      <td>https://i.redd.it/4emw5uldib9a1.jpg</td>\n      <td>4emw5uldib9a1.jpg</td>\n      <td>D:\\data\\images\\CityPorn\\4emw5uldib9a1.jpg</td>\n      <td>D:\\data\\images\\CityPorn\\thumbnail\\4emw5uldib9a...</td>\n      <td>True</td>\n      <td>False</td>\n    </tr>\n    <tr>\n      <th>1</th>\n      <td>1000glf</td>\n      <td>AmIhotAF</td>\n      <td>toolate_sharkbait</td>\n      <td>Just looking for entertainment</td>\n      <td>blonde woman with blonde hair and tattoos on h...</td>\n      <td>e554c1ed7ffa2740436ac082068b2824</td>\n      <td>/r/AmIhotAF/comments/1000glf/just_looking_for_...</td>\n      <td>https://i.redd.it/4xyb1vgbjb9a1.jpg</td>\n      <td>4xyb1vgbjb9a1.jpg</td>\n      <td>D:\\data\\images\\AmIhotAF\\4xyb1vgbjb9a1.jpg</td>\n      <td>D:\\data\\images\\AmIhotAF\\thumbnail\\4xyb1vgbjb9a...</td>\n      <td>True</td>\n      <td>False</td>\n    </tr>\n    <tr>\n      <th>2</th>\n      <td>1000j1n</td>\n      <td>greentext</td>\n      <td>trent8051</td>\n      <td>Anon wants Elon cut</td>\n      <td>a man with a beard and a beard sitting in fron...</td>\n      <td>1dec3dabb5e46cde01855d06089c287a</td>\n      <td>/r/greentext/comments/1000j1n/anon_wants_elon_...</td>\n      <td>https://i.redd.it/3mewbe0wjb9a1.jpg</td>\n      <td>3mewbe0wjb9a1.jpg</td>\n      <td>D:\\data\\images\\greentext\\3mewbe0wjb9a1.jpg</td>\n      <td>D:\\data\\images\\greentext\\thumbnail\\3mewbe0wjb9...</td>\n      <td>True</td>\n      <td>False</td>\n    </tr>\n    <tr>\n      <th>3</th>\n      <td>1000mjs</td>\n      <td>spaceporn</td>\n      <td>MorningStar_imangi</td>\n      <td>Northern Lights above Lofoten</td>\n      <td>a view of a view of a large green and purple a...</td>\n      <td>2c39ce1290fba541abd0b004b09da6b2</td>\n      <td>/r/spaceporn/comments/1000mjs/northern_lights_...</td>\n      <td>https://i.redd.it/7s5aafaqkb9a1.jpg</td>\n      <td>7s5aafaqkb9a1.jpg</td>\n      <td>/data/images/spaceporn/7s5aafaqkb9a1.jpg</td>\n      <td>/data/images/spaceporn/thumbnail/7s5aafaqkb9a1...</td>\n      <td>True</td>\n      <td>False</td>\n    </tr>\n    <tr>\n      <th>4</th>\n      <td>1000qpd</td>\n      <td>spaceporn</td>\n      <td>MorningStar_imangi</td>\n      <td>Viking Lights</td>\n      <td>a scene of a boat is sitting on the shore of a...</td>\n      <td>0f72de47c69ff50eca5fa3990215f4ac</td>\n      <td>/r/spaceporn/comments/1000qpd/viking_lights/</td>\n      <td>https://i.redd.it/abojw7lqlb9a1.jpg</td>\n      <td>abojw7lqlb9a1.jpg</td>\n      <td>/data/images/spaceporn/abojw7lqlb9a1.jpg</td>\n      <td>/data/images/spaceporn/thumbnail/abojw7lqlb9a1...</td>\n      <td>True</td>\n      <td>False</td>\n    </tr>\n    <tr>\n      <th>...</th>\n      <td>...</td>\n      <td>...</td>\n      <td>...</td>\n      <td>...</td>\n      <td>...</td>\n      <td>...</td>\n      <td>...</td>\n      <td>...</td>\n      <td>...</td>\n      <td>...</td>\n      <td>...</td>\n      <td>...</td>\n      <td>...</td>\n    </tr>\n    <tr>\n      <th>17020</th>\n      <td>11ajmf8</td>\n      <td>itookapicture</td>\n      <td>caue_st</td>\n      <td>ITAP of a little spider</td>\n      <td>there is a small insect on the red flowers in ...</td>\n      <td>2ea9dabac6e5e29fcabba6bb4e67d69c</td>\n      <td>/r/itookapicture/comments/11ajmf8/itap_of_a_li...</td>\n      <td>https://i.redd.it/7hda3drs64ka1.jpg</td>\n      <td>2ea9dabac6e5e29fcabba6bb4e67d69c.jpg</td>\n      <td>D:\\data\\images\\itookapicture\\2ea9dabac6e5e29fc...</td>\n      <td>D:\\data\\images\\itookapicture\\thumbnail\\2ea9dab...</td>\n      <td>True</td>\n      <td>False</td>\n    </tr>\n    <tr>\n      <th>17021</th>\n      <td>11aijs3</td>\n      <td>itookapicture</td>\n      <td>Eirik100</td>\n      <td>ITAP of an old wall</td>\n      <td>a close up of a red and white fire hydrant wit...</td>\n      <td>3f2168df91d1ad5ee78e5cf14c947045</td>\n      <td>/r/itookapicture/comments/11aijs3/itap_of_an_o...</td>\n      <td>https://i.imgur.com/h17lyth.jpg</td>\n      <td>3f2168df91d1ad5ee78e5cf14c947045.jpg</td>\n      <td>D:\\data\\images\\itookapicture\\3f2168df91d1ad5ee...</td>\n      <td>D:\\data\\images\\itookapicture\\thumbnail\\3f2168d...</td>\n      <td>True</td>\n      <td>False</td>\n    </tr>\n    <tr>\n      <th>17022</th>\n      <td>11aies8</td>\n      <td>itookapicture</td>\n      <td>WittilyOrder</td>\n      <td>ITAP of a buck and his bird in the morning mist</td>\n      <td>arafed image of a deer in the foggy morning</td>\n      <td>6230a5e6312b05a2728785e10c5f59bb</td>\n      <td>/r/itookapicture/comments/11aies8/itap_of_a_bu...</td>\n      <td>https://i.redd.it/gkugpkb9d2ka1.jpg</td>\n      <td>6230a5e6312b05a2728785e10c5f59bb.jpg</td>\n      <td>D:\\data\\images\\itookapicture\\6230a5e6312b05a27...</td>\n      <td>D:\\data\\images\\itookapicture\\thumbnail\\6230a5e...</td>\n      <td>True</td>\n      <td>False</td>\n    </tr>\n    <tr>\n      <th>17023</th>\n      <td>11aibqx</td>\n      <td>itookapicture</td>\n      <td>Max_McAlpin</td>\n      <td>ITAP a Mountain in Niseko Japan</td>\n      <td>skiers on a ski slope with a mountain in the b...</td>\n      <td>2e670a882739afed75ed8c0883e89c78</td>\n      <td>/r/itookapicture/comments/11aibqx/itap_a_mount...</td>\n      <td>https://i.redd.it/b8k6tgc0u3ka1.jpg</td>\n      <td>2e670a882739afed75ed8c0883e89c78.jpg</td>\n      <td>D:\\data\\images\\itookapicture\\2e670a882739afed7...</td>\n      <td>D:\\data\\images\\itookapicture\\thumbnail\\2e670a8...</td>\n      <td>True</td>\n      <td>False</td>\n    </tr>\n    <tr>\n      <th>17024</th>\n      <td>11ai823</td>\n      <td>itookapicture</td>\n      <td>RunicBubbles</td>\n      <td>ITAP of the afternoon sky</td>\n      <td>arafed view of a street light in the evening sky</td>\n      <td>760452420f64b411e6117366266c31cb</td>\n      <td>/r/itookapicture/comments/11ai823/itap_of_the_...</td>\n      <td>https://i.redd.it/dq26m7e0t3ka1.jpg</td>\n      <td>760452420f64b411e6117366266c31cb.jpg</td>\n      <td>D:\\data\\images\\itookapicture\\760452420f64b411e...</td>\n      <td>D:\\data\\images\\itookapicture\\thumbnail\\7604524...</td>\n      <td>True</td>\n      <td>False</td>\n    </tr>\n  </tbody>\n</table>\n<p>17025 rows × 13 columns</p>\n</div>"
     },
     "metadata": {},
     "output_type": "display_data"
    },
    {
     "name": "stdout",
     "output_type": "stream",
     "text": [
      "CPU times: total: 672 ms\n",
      "Wall time: 1.38 s\n"
     ]
    }
   ],
   "source": [
    "%%time\n",
    "\n",
    "extant_data = pd.read_parquet(\"data/processed_raw_data.parquet\", engine='pyarrow', filesystem=file_system, schema=schema)\n",
    "display(extant_data)"
   ],
   "metadata": {
    "collapsed": false
   }
  },
  {
   "cell_type": "code",
   "execution_count": 4,
   "outputs": [
    {
     "name": "stderr",
     "output_type": "stream",
     "text": [
      "Version 7.6.1 of praw is outdated. Version 7.7.0 was released Saturday February 25, 2023.\n"
     ]
    }
   ],
   "source": [
    "reddit: praw.Reddit = praw.Reddit(client_id='5hVavL0PIRyM_1JSvqT6UQ', client_secret='BjD2kS3WNLnJc59RKY-JJUuc_Z9-JA',\n",
    "\t\t\t\t\t\t\t\t  user_agent='script:%(bot_name)s:v%(bot_version)s (by /u/%(bot_author)s)')\n",
    "\n",
    "api: PushshiftAPI = PushshiftAPI(praw=reddit, num_workers=12)\n",
    "start_date: int = int(datetime.strptime('2022-01-01', '%Y-%m-%d').timestamp())"
   ],
   "metadata": {
    "collapsed": false
   }
  },
  {
   "cell_type": "code",
   "execution_count": 5,
   "outputs": [],
   "source": [
    "def filter_by_image_post(item) -> bool:\n",
    "\treturn not (item['selftext'].__contains__('[removed]') or item['selftext'].__contains__('[deleted]') and not item[\n",
    "\t\t'url'].endswith('.jpg'))"
   ],
   "metadata": {
    "collapsed": false
   }
  },
  {
   "cell_type": "code",
   "execution_count": 6,
   "outputs": [],
   "source": [
    "def fetch_image(x: object) -> object:\n",
    "\ttry:\n",
    "\t\turl = x['original_url']\n",
    "\t\tsubreddit = x['subreddit']\n",
    "\t\tresponse = requests.get(url)\n",
    "\t\tmd5 = hashlib.md5(response.content).hexdigest()\n",
    "\t\tos.makedirs(f\"D:\\\\data\\\\images\\\\{subreddit}\", exist_ok=True)\n",
    "\t\tout_path = f\"D:\\\\data\\\\images\\\\{subreddit}\\\\{md5}.jpg\"\n",
    "\n",
    "\t\tif os.path.exists(out_path):\n",
    "\t\t\treturn out_path\n",
    "\n",
    "\t\tif md5 in list(extant_data['hash']):\n",
    "\t\t\treturn out_path\n",
    "\n",
    "\t\tif md5 != \"f17b01901c752c1bb04928131d1661af\" or md5 != \"d835884373f4d6c8f24742ceabe74946\":\n",
    "\t\t\traw_image = Image.open(BytesIO(response.content))\n",
    "\t\t\traw_image.save(out_path)\n",
    "\t\t\traw_image.close()\n",
    "\t\t\treturn out_path\n",
    "\t\telse:\n",
    "\t\t\treturn \"\"\n",
    "\texcept Exception as e:\n",
    "\t\t# print(e)\n",
    "\t\treturn \"\""
   ],
   "metadata": {
    "collapsed": false
   }
  },
  {
   "cell_type": "code",
   "execution_count": 7,
   "outputs": [],
   "source": [
    "def make_thumbnail(x: object) -> str:\n",
    "\timage_path = x['path']\n",
    "\tmd5 = x['hash']\n",
    "\tsubreddit = x['subreddit']\n",
    "\tos.makedirs(f\"D:\\\\data\\\\images\\\\{subreddit}\\\\thumbnail\", exist_ok=True)\n",
    "\tout_path = f\"D:\\\\data\\\\images\\\\{subreddit}\\\\thumbnail\\\\{md5}.jpg\"\n",
    "\tif not os.path.exists(image_path):\n",
    "\t\treturn \"\"\n",
    "\tif os.path.exists(out_path):\n",
    "\t\treturn out_path\n",
    "\timg = Image.open(image_path)\n",
    "\ttry:\n",
    "\t\tcopied_image = img.copy()\n",
    "\t\tresult_copy = copied_image.resize((512, 512))\n",
    "\t\tresult_copy.save(out_path)\n",
    "\t\tresult_copy.close()\n",
    "\t\timg.close()\n",
    "\t\treturn out_path\n",
    "\texcept Exception as e:\n",
    "\t\t# print(e)\n",
    "\t\treturn \"\"\n",
    "\tfinally:\n",
    "\t\timg.close()"
   ],
   "metadata": {
    "collapsed": false
   }
  },
  {
   "cell_type": "code",
   "execution_count": 8,
   "outputs": [],
   "source": [
    "def exists(x: object) -> bool:\n",
    "\ttry:\n",
    "\t\timage_path = os.path.exists(x['path'])\n",
    "\t\tthumbnail_path = os.path.exists(x['thumbnail_path'])\n",
    "\t\treturn image_path and thumbnail_path\n",
    "\texcept Exception as e:\n",
    "\t\t# print(e)\n",
    "\t\treturn False"
   ],
   "metadata": {
    "collapsed": false
   }
  },
  {
   "cell_type": "code",
   "execution_count": 9,
   "outputs": [],
   "source": [
    "def split_hash(x: object) -> str:\n",
    "\ttry:\n",
    "\t\tname = x['image_name']\n",
    "\t\treturn name.split('.')[0]\n",
    "\texcept Exception as e:\n",
    "\t\t# print(e)\n",
    "\t\treturn \"\""
   ],
   "metadata": {
    "collapsed": false
   }
  },
  {
   "cell_type": "code",
   "execution_count": 10,
   "outputs": [],
   "source": [
    "def caption_image(x: object, blip_captioning: BlipCaption) -> str:\n",
    "\ttry:\n",
    "\t\tpath = x['path']\n",
    "\t\texists_image = bool(x['exists'])\n",
    "\t\tresulting_caption = x['caption']\n",
    "\n",
    "\t\tif not os.path.exists(path):\n",
    "\t\t\treturn \"\"\n",
    "\n",
    "\t\tif not exists_image:\n",
    "\t\t\treturn \"\"\n",
    "\n",
    "\t\tif len(resulting_caption) > 5:\n",
    "\t\t\treturn resulting_caption\n",
    "\n",
    "\t\tresulting_caption = blip_captioning.caption_image(path)\n",
    "\t\treturn resulting_caption\n",
    "\n",
    "\texcept Exception as e:\n",
    "\t\treturn \"\"\n",
    "\tfinally:\n",
    "\t\tpass"
   ],
   "metadata": {
    "collapsed": false
   }
  },
  {
   "cell_type": "code",
   "execution_count": 11,
   "outputs": [],
   "source": [
    "def get_image_name(x: object) -> str:\n",
    "\ttry:\n",
    "\t\tpath = x['path']\n",
    "\t\tif path == \"\":\n",
    "\t\t\treturn \"\"\n",
    "\t\treturn os.path.basename(path)\n",
    "\texcept Exception as e:\n",
    "\t\t# print(e)\n",
    "\t\treturn \"\""
   ],
   "metadata": {
    "collapsed": false
   }
  },
  {
   "cell_type": "code",
   "execution_count": 12,
   "outputs": [
    {
     "name": "stdout",
     "output_type": "stream",
     "text": [
      "CPU times: total: 38.9 s\n",
      "Wall time: 9min 48s\n"
     ]
    }
   ],
   "source": [
    "%%time\n",
    "\n",
    "all_posts = []\n",
    "\n",
    "for item in subs:\n",
    "\tposts = api.search_submissions(search_window=365, subreddit=item, limit=1000, filter_fn=filter_by_image_post, mem_safe=True, cache_dir='D:\\\\cache\\\\')\n",
    "\t[ all_posts.append(post) for post in posts ]"
   ],
   "metadata": {
    "collapsed": false
   }
  },
  {
   "cell_type": "code",
   "execution_count": 13,
   "outputs": [
    {
     "data": {
      "text/plain": "      comment_limit comment_sort  \\\n0              2048   confidence   \n1              2048   confidence   \n2              2048   confidence   \n3              2048   confidence   \n4              2048   confidence   \n...             ...          ...   \n7514           2048   confidence   \n7515           2048   confidence   \n7516           2048   confidence   \n7517           2048   confidence   \n7518           2048   confidence   \n\n                                                _reddit approved_at_utc  \\\n0     <praw.reddit.Reddit object at 0x0000021E6F586C40>            None   \n1     <praw.reddit.Reddit object at 0x0000021E6F586C40>            None   \n2     <praw.reddit.Reddit object at 0x0000021E6F586C40>            None   \n3     <praw.reddit.Reddit object at 0x0000021E6F586C40>            None   \n4     <praw.reddit.Reddit object at 0x0000021E6F586C40>            None   \n...                                                 ...             ...   \n7514  <praw.reddit.Reddit object at 0x0000021E7758B490>            None   \n7515  <praw.reddit.Reddit object at 0x0000021E7758B490>            None   \n7516  <praw.reddit.Reddit object at 0x0000021E7758B490>            None   \n7517  <praw.reddit.Reddit object at 0x0000021E7758B490>            None   \n7518  <praw.reddit.Reddit object at 0x0000021E7758B490>            None   \n\n          subreddit selftext author_fullname  saved mod_reason_title  gilded  \\\n0       SFWRedheads              t2_fctwly2q  False             None       0   \n1       SFWRedheads              t2_g7saqeok  False             None       0   \n2       SFWRedheads              t2_jb4tww7x  False             None       0   \n3       SFWRedheads              t2_t3oiarza  False             None       0   \n4       SFWRedheads              t2_4xbd29su  False             None       0   \n...             ...      ...             ...    ...              ...     ...   \n7514  itookapicture                t2_15tmjm  False             None       0   \n7515  itookapicture                 t2_iwawx  False             None       0   \n7516  itookapicture              t2_6dksijry  False             None       0   \n7517  itookapicture              t2_21sya524  False             None       0   \n7518  itookapicture                 t2_7ki8e  False             None       0   \n\n      ...  _fetched _comments_by_id is_gallery media_metadata  gallery_data  \\\n0     ...     False              {}        NaN            NaN           NaN   \n1     ...     False              {}        NaN            NaN           NaN   \n2     ...     False              {}        NaN            NaN           NaN   \n3     ...     False              {}        NaN            NaN           NaN   \n4     ...     False              {}        NaN            NaN           NaN   \n...   ...       ...             ...        ...            ...           ...   \n7514  ...     False              {}        NaN            NaN           NaN   \n7515  ...     False              {}        NaN            NaN           NaN   \n7516  ...     False              {}        NaN            NaN           NaN   \n7517  ...     False              {}        NaN            NaN           NaN   \n7518  ...     False              {}        NaN            NaN           NaN   \n\n      crosspost_parent_list crosspost_parent  \\\n0                       NaN              NaN   \n1                       NaN              NaN   \n2                       NaN              NaN   \n3                       NaN              NaN   \n4                       NaN              NaN   \n...                     ...              ...   \n7514                    NaN              NaN   \n7515                    NaN              NaN   \n7516                    NaN              NaN   \n7517                    NaN              NaN   \n7518                    NaN              NaN   \n\n                    link_flair_template_id  author_cakeday poll_data  \n0                                      NaN             NaN       NaN  \n1                                      NaN             NaN       NaN  \n2                                      NaN             NaN       NaN  \n3                                      NaN             NaN       NaN  \n4                                      NaN             NaN       NaN  \n...                                    ...             ...       ...  \n7514  0beb6f5e-621e-11e6-b150-0ed58fa42e6b             NaN       NaN  \n7515                                   NaN             NaN       NaN  \n7516                                   NaN             NaN       NaN  \n7517                                   NaN             NaN       NaN  \n7518                                   NaN             NaN       NaN  \n\n[7519 rows x 122 columns]",
      "text/html": "<div>\n<style scoped>\n    .dataframe tbody tr th:only-of-type {\n        vertical-align: middle;\n    }\n\n    .dataframe tbody tr th {\n        vertical-align: top;\n    }\n\n    .dataframe thead th {\n        text-align: right;\n    }\n</style>\n<table border=\"1\" class=\"dataframe\">\n  <thead>\n    <tr style=\"text-align: right;\">\n      <th></th>\n      <th>comment_limit</th>\n      <th>comment_sort</th>\n      <th>_reddit</th>\n      <th>approved_at_utc</th>\n      <th>subreddit</th>\n      <th>selftext</th>\n      <th>author_fullname</th>\n      <th>saved</th>\n      <th>mod_reason_title</th>\n      <th>gilded</th>\n      <th>...</th>\n      <th>_fetched</th>\n      <th>_comments_by_id</th>\n      <th>is_gallery</th>\n      <th>media_metadata</th>\n      <th>gallery_data</th>\n      <th>crosspost_parent_list</th>\n      <th>crosspost_parent</th>\n      <th>link_flair_template_id</th>\n      <th>author_cakeday</th>\n      <th>poll_data</th>\n    </tr>\n  </thead>\n  <tbody>\n    <tr>\n      <th>0</th>\n      <td>2048</td>\n      <td>confidence</td>\n      <td>&lt;praw.reddit.Reddit object at 0x0000021E6F586C40&gt;</td>\n      <td>None</td>\n      <td>SFWRedheads</td>\n      <td></td>\n      <td>t2_fctwly2q</td>\n      <td>False</td>\n      <td>None</td>\n      <td>0</td>\n      <td>...</td>\n      <td>False</td>\n      <td>{}</td>\n      <td>NaN</td>\n      <td>NaN</td>\n      <td>NaN</td>\n      <td>NaN</td>\n      <td>NaN</td>\n      <td>NaN</td>\n      <td>NaN</td>\n      <td>NaN</td>\n    </tr>\n    <tr>\n      <th>1</th>\n      <td>2048</td>\n      <td>confidence</td>\n      <td>&lt;praw.reddit.Reddit object at 0x0000021E6F586C40&gt;</td>\n      <td>None</td>\n      <td>SFWRedheads</td>\n      <td></td>\n      <td>t2_g7saqeok</td>\n      <td>False</td>\n      <td>None</td>\n      <td>0</td>\n      <td>...</td>\n      <td>False</td>\n      <td>{}</td>\n      <td>NaN</td>\n      <td>NaN</td>\n      <td>NaN</td>\n      <td>NaN</td>\n      <td>NaN</td>\n      <td>NaN</td>\n      <td>NaN</td>\n      <td>NaN</td>\n    </tr>\n    <tr>\n      <th>2</th>\n      <td>2048</td>\n      <td>confidence</td>\n      <td>&lt;praw.reddit.Reddit object at 0x0000021E6F586C40&gt;</td>\n      <td>None</td>\n      <td>SFWRedheads</td>\n      <td></td>\n      <td>t2_jb4tww7x</td>\n      <td>False</td>\n      <td>None</td>\n      <td>0</td>\n      <td>...</td>\n      <td>False</td>\n      <td>{}</td>\n      <td>NaN</td>\n      <td>NaN</td>\n      <td>NaN</td>\n      <td>NaN</td>\n      <td>NaN</td>\n      <td>NaN</td>\n      <td>NaN</td>\n      <td>NaN</td>\n    </tr>\n    <tr>\n      <th>3</th>\n      <td>2048</td>\n      <td>confidence</td>\n      <td>&lt;praw.reddit.Reddit object at 0x0000021E6F586C40&gt;</td>\n      <td>None</td>\n      <td>SFWRedheads</td>\n      <td></td>\n      <td>t2_t3oiarza</td>\n      <td>False</td>\n      <td>None</td>\n      <td>0</td>\n      <td>...</td>\n      <td>False</td>\n      <td>{}</td>\n      <td>NaN</td>\n      <td>NaN</td>\n      <td>NaN</td>\n      <td>NaN</td>\n      <td>NaN</td>\n      <td>NaN</td>\n      <td>NaN</td>\n      <td>NaN</td>\n    </tr>\n    <tr>\n      <th>4</th>\n      <td>2048</td>\n      <td>confidence</td>\n      <td>&lt;praw.reddit.Reddit object at 0x0000021E6F586C40&gt;</td>\n      <td>None</td>\n      <td>SFWRedheads</td>\n      <td></td>\n      <td>t2_4xbd29su</td>\n      <td>False</td>\n      <td>None</td>\n      <td>0</td>\n      <td>...</td>\n      <td>False</td>\n      <td>{}</td>\n      <td>NaN</td>\n      <td>NaN</td>\n      <td>NaN</td>\n      <td>NaN</td>\n      <td>NaN</td>\n      <td>NaN</td>\n      <td>NaN</td>\n      <td>NaN</td>\n    </tr>\n    <tr>\n      <th>...</th>\n      <td>...</td>\n      <td>...</td>\n      <td>...</td>\n      <td>...</td>\n      <td>...</td>\n      <td>...</td>\n      <td>...</td>\n      <td>...</td>\n      <td>...</td>\n      <td>...</td>\n      <td>...</td>\n      <td>...</td>\n      <td>...</td>\n      <td>...</td>\n      <td>...</td>\n      <td>...</td>\n      <td>...</td>\n      <td>...</td>\n      <td>...</td>\n      <td>...</td>\n      <td>...</td>\n    </tr>\n    <tr>\n      <th>7514</th>\n      <td>2048</td>\n      <td>confidence</td>\n      <td>&lt;praw.reddit.Reddit object at 0x0000021E7758B490&gt;</td>\n      <td>None</td>\n      <td>itookapicture</td>\n      <td></td>\n      <td>t2_15tmjm</td>\n      <td>False</td>\n      <td>None</td>\n      <td>0</td>\n      <td>...</td>\n      <td>False</td>\n      <td>{}</td>\n      <td>NaN</td>\n      <td>NaN</td>\n      <td>NaN</td>\n      <td>NaN</td>\n      <td>NaN</td>\n      <td>0beb6f5e-621e-11e6-b150-0ed58fa42e6b</td>\n      <td>NaN</td>\n      <td>NaN</td>\n    </tr>\n    <tr>\n      <th>7515</th>\n      <td>2048</td>\n      <td>confidence</td>\n      <td>&lt;praw.reddit.Reddit object at 0x0000021E7758B490&gt;</td>\n      <td>None</td>\n      <td>itookapicture</td>\n      <td></td>\n      <td>t2_iwawx</td>\n      <td>False</td>\n      <td>None</td>\n      <td>0</td>\n      <td>...</td>\n      <td>False</td>\n      <td>{}</td>\n      <td>NaN</td>\n      <td>NaN</td>\n      <td>NaN</td>\n      <td>NaN</td>\n      <td>NaN</td>\n      <td>NaN</td>\n      <td>NaN</td>\n      <td>NaN</td>\n    </tr>\n    <tr>\n      <th>7516</th>\n      <td>2048</td>\n      <td>confidence</td>\n      <td>&lt;praw.reddit.Reddit object at 0x0000021E7758B490&gt;</td>\n      <td>None</td>\n      <td>itookapicture</td>\n      <td></td>\n      <td>t2_6dksijry</td>\n      <td>False</td>\n      <td>None</td>\n      <td>0</td>\n      <td>...</td>\n      <td>False</td>\n      <td>{}</td>\n      <td>NaN</td>\n      <td>NaN</td>\n      <td>NaN</td>\n      <td>NaN</td>\n      <td>NaN</td>\n      <td>NaN</td>\n      <td>NaN</td>\n      <td>NaN</td>\n    </tr>\n    <tr>\n      <th>7517</th>\n      <td>2048</td>\n      <td>confidence</td>\n      <td>&lt;praw.reddit.Reddit object at 0x0000021E7758B490&gt;</td>\n      <td>None</td>\n      <td>itookapicture</td>\n      <td></td>\n      <td>t2_21sya524</td>\n      <td>False</td>\n      <td>None</td>\n      <td>0</td>\n      <td>...</td>\n      <td>False</td>\n      <td>{}</td>\n      <td>NaN</td>\n      <td>NaN</td>\n      <td>NaN</td>\n      <td>NaN</td>\n      <td>NaN</td>\n      <td>NaN</td>\n      <td>NaN</td>\n      <td>NaN</td>\n    </tr>\n    <tr>\n      <th>7518</th>\n      <td>2048</td>\n      <td>confidence</td>\n      <td>&lt;praw.reddit.Reddit object at 0x0000021E7758B490&gt;</td>\n      <td>None</td>\n      <td>itookapicture</td>\n      <td></td>\n      <td>t2_7ki8e</td>\n      <td>False</td>\n      <td>None</td>\n      <td>0</td>\n      <td>...</td>\n      <td>False</td>\n      <td>{}</td>\n      <td>NaN</td>\n      <td>NaN</td>\n      <td>NaN</td>\n      <td>NaN</td>\n      <td>NaN</td>\n      <td>NaN</td>\n      <td>NaN</td>\n      <td>NaN</td>\n    </tr>\n  </tbody>\n</table>\n<p>7519 rows × 122 columns</p>\n</div>"
     },
     "metadata": {},
     "output_type": "display_data"
    },
    {
     "name": "stdout",
     "output_type": "stream",
     "text": [
      "CPU times: total: 703 ms\n",
      "Wall time: 1.02 s\n"
     ]
    }
   ],
   "source": [
    "%%time\n",
    "\n",
    "df = pd.DataFrame([item for item in all_posts])\n",
    "display(df)"
   ],
   "metadata": {
    "collapsed": false
   }
  },
  {
   "cell_type": "code",
   "execution_count": 14,
   "outputs": [
    {
     "data": {
      "text/plain": "          id      subreddit                author  \\\n0     yx16dt    SFWRedheads       Iambatmansmom38   \n1     ywyq7p    SFWRedheads         xangelxfacexx   \n2     ywyol9    SFWRedheads            BeeBinisky   \n3     ywxa1i    SFWRedheads             badddjuju   \n4     ywsrq0    SFWRedheads                SS_A_D   \n...      ...            ...                   ...   \n5624  ywjp42  itookapicture              leflore4   \n5625  ywjli7  itookapicture                Naj183   \n5626  ywjew1  itookapicture  ExaminationHopeful36   \n5627  ywjeai  itookapicture          retrospektor   \n5628  ywj1ef  itookapicture              basil016   \n\n                                                  title caption hash  \\\n0                   Do you like to read, favorite book?                \n1                                  embrace my cuteness!                \n2                   First Snow Fall Has Me Excited ! ❄⛄                \n3                                          good morning                \n4     I had to take a selfie before going to the gym...                \n...                                                 ...     ...  ...   \n5624  ITAP - Of coach teaching young men to stand st...                \n5625       ITAP of a Turkey Vulture spreading its wings                \n5626           ITAP of my cat looking out of the window                \n5627                       ITAP of an empty beer bottle                \n5628                      ITAP of fall leaves on a tree                \n\n                                              permalink  \\\n0     /r/SFWRedheads/comments/yx16dt/do_you_like_to_...   \n1     /r/SFWRedheads/comments/ywyq7p/embrace_my_cute...   \n2     /r/SFWRedheads/comments/ywyol9/first_snow_fall...   \n3          /r/SFWRedheads/comments/ywxa1i/good_morning/   \n4     /r/SFWRedheads/comments/ywsrq0/i_had_to_take_a...   \n...                                                 ...   \n5624  /r/itookapicture/comments/ywjp42/itap_of_coach...   \n5625  /r/itookapicture/comments/ywjli7/itap_of_a_tur...   \n5626  /r/itookapicture/comments/ywjew1/itap_of_my_ca...   \n5627  /r/itookapicture/comments/ywjeai/itap_of_an_em...   \n5628  /r/itookapicture/comments/ywj1ef/itap_of_fall_...   \n\n                             original_url image_name path thumbnail_path  \\\n0     https://i.redd.it/v0u97to9ae0a1.jpg                                  \n1         https://i.imgur.com/24D9QJU.jpg                                  \n2     https://i.redd.it/qg97b6r9vd0a1.jpg                                  \n3     https://i.redd.it/rkbwiuqvmd0a1.jpg                                  \n4     https://i.redd.it/hecmor3src0a1.jpg                                  \n...                                   ...        ...  ...            ...   \n5624  https://i.redd.it/8e4ku12iq80a1.jpg                                  \n5625  https://i.redd.it/35zgwn967a0a1.jpg                                  \n5626  https://i.redd.it/orn7pcse5a0a1.jpg                                  \n5627  https://i.redd.it/oyuscvpg5a0a1.jpg                                  \n5628  https://i.redd.it/38qftp6uk80a1.jpg                                  \n\n     exists curated  \n0     False   False  \n1     False   False  \n2     False   False  \n3     False   False  \n4     False   False  \n...     ...     ...  \n5624  False   False  \n5625  False   False  \n5626  False   False  \n5627  False   False  \n5628  False   False  \n\n[5629 rows x 13 columns]",
      "text/html": "<div>\n<style scoped>\n    .dataframe tbody tr th:only-of-type {\n        vertical-align: middle;\n    }\n\n    .dataframe tbody tr th {\n        vertical-align: top;\n    }\n\n    .dataframe thead th {\n        text-align: right;\n    }\n</style>\n<table border=\"1\" class=\"dataframe\">\n  <thead>\n    <tr style=\"text-align: right;\">\n      <th></th>\n      <th>id</th>\n      <th>subreddit</th>\n      <th>author</th>\n      <th>title</th>\n      <th>caption</th>\n      <th>hash</th>\n      <th>permalink</th>\n      <th>original_url</th>\n      <th>image_name</th>\n      <th>path</th>\n      <th>thumbnail_path</th>\n      <th>exists</th>\n      <th>curated</th>\n    </tr>\n  </thead>\n  <tbody>\n    <tr>\n      <th>0</th>\n      <td>yx16dt</td>\n      <td>SFWRedheads</td>\n      <td>Iambatmansmom38</td>\n      <td>Do you like to read, favorite book?</td>\n      <td></td>\n      <td></td>\n      <td>/r/SFWRedheads/comments/yx16dt/do_you_like_to_...</td>\n      <td>https://i.redd.it/v0u97to9ae0a1.jpg</td>\n      <td></td>\n      <td></td>\n      <td></td>\n      <td>False</td>\n      <td>False</td>\n    </tr>\n    <tr>\n      <th>1</th>\n      <td>ywyq7p</td>\n      <td>SFWRedheads</td>\n      <td>xangelxfacexx</td>\n      <td>embrace my cuteness!</td>\n      <td></td>\n      <td></td>\n      <td>/r/SFWRedheads/comments/ywyq7p/embrace_my_cute...</td>\n      <td>https://i.imgur.com/24D9QJU.jpg</td>\n      <td></td>\n      <td></td>\n      <td></td>\n      <td>False</td>\n      <td>False</td>\n    </tr>\n    <tr>\n      <th>2</th>\n      <td>ywyol9</td>\n      <td>SFWRedheads</td>\n      <td>BeeBinisky</td>\n      <td>First Snow Fall Has Me Excited ! ❄⛄</td>\n      <td></td>\n      <td></td>\n      <td>/r/SFWRedheads/comments/ywyol9/first_snow_fall...</td>\n      <td>https://i.redd.it/qg97b6r9vd0a1.jpg</td>\n      <td></td>\n      <td></td>\n      <td></td>\n      <td>False</td>\n      <td>False</td>\n    </tr>\n    <tr>\n      <th>3</th>\n      <td>ywxa1i</td>\n      <td>SFWRedheads</td>\n      <td>badddjuju</td>\n      <td>good morning</td>\n      <td></td>\n      <td></td>\n      <td>/r/SFWRedheads/comments/ywxa1i/good_morning/</td>\n      <td>https://i.redd.it/rkbwiuqvmd0a1.jpg</td>\n      <td></td>\n      <td></td>\n      <td></td>\n      <td>False</td>\n      <td>False</td>\n    </tr>\n    <tr>\n      <th>4</th>\n      <td>ywsrq0</td>\n      <td>SFWRedheads</td>\n      <td>SS_A_D</td>\n      <td>I had to take a selfie before going to the gym...</td>\n      <td></td>\n      <td></td>\n      <td>/r/SFWRedheads/comments/ywsrq0/i_had_to_take_a...</td>\n      <td>https://i.redd.it/hecmor3src0a1.jpg</td>\n      <td></td>\n      <td></td>\n      <td></td>\n      <td>False</td>\n      <td>False</td>\n    </tr>\n    <tr>\n      <th>...</th>\n      <td>...</td>\n      <td>...</td>\n      <td>...</td>\n      <td>...</td>\n      <td>...</td>\n      <td>...</td>\n      <td>...</td>\n      <td>...</td>\n      <td>...</td>\n      <td>...</td>\n      <td>...</td>\n      <td>...</td>\n      <td>...</td>\n    </tr>\n    <tr>\n      <th>5624</th>\n      <td>ywjp42</td>\n      <td>itookapicture</td>\n      <td>leflore4</td>\n      <td>ITAP - Of coach teaching young men to stand st...</td>\n      <td></td>\n      <td></td>\n      <td>/r/itookapicture/comments/ywjp42/itap_of_coach...</td>\n      <td>https://i.redd.it/8e4ku12iq80a1.jpg</td>\n      <td></td>\n      <td></td>\n      <td></td>\n      <td>False</td>\n      <td>False</td>\n    </tr>\n    <tr>\n      <th>5625</th>\n      <td>ywjli7</td>\n      <td>itookapicture</td>\n      <td>Naj183</td>\n      <td>ITAP of a Turkey Vulture spreading its wings</td>\n      <td></td>\n      <td></td>\n      <td>/r/itookapicture/comments/ywjli7/itap_of_a_tur...</td>\n      <td>https://i.redd.it/35zgwn967a0a1.jpg</td>\n      <td></td>\n      <td></td>\n      <td></td>\n      <td>False</td>\n      <td>False</td>\n    </tr>\n    <tr>\n      <th>5626</th>\n      <td>ywjew1</td>\n      <td>itookapicture</td>\n      <td>ExaminationHopeful36</td>\n      <td>ITAP of my cat looking out of the window</td>\n      <td></td>\n      <td></td>\n      <td>/r/itookapicture/comments/ywjew1/itap_of_my_ca...</td>\n      <td>https://i.redd.it/orn7pcse5a0a1.jpg</td>\n      <td></td>\n      <td></td>\n      <td></td>\n      <td>False</td>\n      <td>False</td>\n    </tr>\n    <tr>\n      <th>5627</th>\n      <td>ywjeai</td>\n      <td>itookapicture</td>\n      <td>retrospektor</td>\n      <td>ITAP of an empty beer bottle</td>\n      <td></td>\n      <td></td>\n      <td>/r/itookapicture/comments/ywjeai/itap_of_an_em...</td>\n      <td>https://i.redd.it/oyuscvpg5a0a1.jpg</td>\n      <td></td>\n      <td></td>\n      <td></td>\n      <td>False</td>\n      <td>False</td>\n    </tr>\n    <tr>\n      <th>5628</th>\n      <td>ywj1ef</td>\n      <td>itookapicture</td>\n      <td>basil016</td>\n      <td>ITAP of fall leaves on a tree</td>\n      <td></td>\n      <td></td>\n      <td>/r/itookapicture/comments/ywj1ef/itap_of_fall_...</td>\n      <td>https://i.redd.it/38qftp6uk80a1.jpg</td>\n      <td></td>\n      <td></td>\n      <td></td>\n      <td>False</td>\n      <td>False</td>\n    </tr>\n  </tbody>\n</table>\n<p>5629 rows × 13 columns</p>\n</div>"
     },
     "metadata": {},
     "output_type": "display_data"
    },
    {
     "name": "stdout",
     "output_type": "stream",
     "text": [
      "CPU times: total: 172 ms\n",
      "Wall time: 265 ms\n"
     ]
    }
   ],
   "source": [
    "%%time\n",
    "\n",
    "initial = pd.DataFrame({}, columns=schema.names)\n",
    "initial['id'] = df['id']\n",
    "initial['subreddit'] = df['subreddit']\n",
    "initial['author'] = df['author']\n",
    "initial['title'] = df['title']\n",
    "initial['caption'] = \"\"\n",
    "initial['hash'] = \"\"\n",
    "initial['permalink'] = df['permalink']\n",
    "initial['original_url'] = df['url']\n",
    "initial['image_name'] = \"\"\n",
    "initial['path'] = \"\"\n",
    "initial['thumbnail_path'] = \"\"\n",
    "initial['exists'] = False\n",
    "initial['curated'] = False\n",
    "\n",
    "filtered_initial = initial.where(initial['original_url'].str.endswith('.jpg')).dropna(how='all').reset_index().drop('index', axis=1)\n",
    "\n",
    "display(filtered_initial)"
   ],
   "metadata": {
    "collapsed": false
   }
  },
  {
   "cell_type": "code",
   "execution_count": 15,
   "outputs": [
    {
     "data": {
      "text/plain": "          id      subreddit                author  \\\n0     yx16dt    SFWRedheads       Iambatmansmom38   \n1     ywyq7p    SFWRedheads         xangelxfacexx   \n2     ywyol9    SFWRedheads            BeeBinisky   \n3     ywxa1i    SFWRedheads             badddjuju   \n4     ywsrq0    SFWRedheads                SS_A_D   \n...      ...            ...                   ...   \n3383  ywjp42  itookapicture              leflore4   \n3384  ywjli7  itookapicture                Naj183   \n3385  ywjew1  itookapicture  ExaminationHopeful36   \n3386  ywjeai  itookapicture          retrospektor   \n3387  ywj1ef  itookapicture              basil016   \n\n                                                  title caption hash  \\\n0                   Do you like to read, favorite book?                \n1                                  embrace my cuteness!                \n2                   First Snow Fall Has Me Excited ! ❄⛄                \n3                                          good morning                \n4     I had to take a selfie before going to the gym...                \n...                                                 ...     ...  ...   \n3383  ITAP - Of coach teaching young men to stand st...                \n3384       ITAP of a Turkey Vulture spreading its wings                \n3385           ITAP of my cat looking out of the window                \n3386                       ITAP of an empty beer bottle                \n3387                      ITAP of fall leaves on a tree                \n\n                                              permalink  \\\n0     /r/SFWRedheads/comments/yx16dt/do_you_like_to_...   \n1     /r/SFWRedheads/comments/ywyq7p/embrace_my_cute...   \n2     /r/SFWRedheads/comments/ywyol9/first_snow_fall...   \n3          /r/SFWRedheads/comments/ywxa1i/good_morning/   \n4     /r/SFWRedheads/comments/ywsrq0/i_had_to_take_a...   \n...                                                 ...   \n3383  /r/itookapicture/comments/ywjp42/itap_of_coach...   \n3384  /r/itookapicture/comments/ywjli7/itap_of_a_tur...   \n3385  /r/itookapicture/comments/ywjew1/itap_of_my_ca...   \n3386  /r/itookapicture/comments/ywjeai/itap_of_an_em...   \n3387  /r/itookapicture/comments/ywj1ef/itap_of_fall_...   \n\n                             original_url image_name path thumbnail_path  \\\n0     https://i.redd.it/v0u97to9ae0a1.jpg                                  \n1         https://i.imgur.com/24D9QJU.jpg                                  \n2     https://i.redd.it/qg97b6r9vd0a1.jpg                                  \n3     https://i.redd.it/rkbwiuqvmd0a1.jpg                                  \n4     https://i.redd.it/hecmor3src0a1.jpg                                  \n...                                   ...        ...  ...            ...   \n3383  https://i.redd.it/8e4ku12iq80a1.jpg                                  \n3384  https://i.redd.it/35zgwn967a0a1.jpg                                  \n3385  https://i.redd.it/orn7pcse5a0a1.jpg                                  \n3386  https://i.redd.it/oyuscvpg5a0a1.jpg                                  \n3387  https://i.redd.it/38qftp6uk80a1.jpg                                  \n\n     exists curated  \n0     False   False  \n1     False   False  \n2     False   False  \n3     False   False  \n4     False   False  \n...     ...     ...  \n3383  False   False  \n3384  False   False  \n3385  False   False  \n3386  False   False  \n3387  False   False  \n\n[3388 rows x 13 columns]",
      "text/html": "<div>\n<style scoped>\n    .dataframe tbody tr th:only-of-type {\n        vertical-align: middle;\n    }\n\n    .dataframe tbody tr th {\n        vertical-align: top;\n    }\n\n    .dataframe thead th {\n        text-align: right;\n    }\n</style>\n<table border=\"1\" class=\"dataframe\">\n  <thead>\n    <tr style=\"text-align: right;\">\n      <th></th>\n      <th>id</th>\n      <th>subreddit</th>\n      <th>author</th>\n      <th>title</th>\n      <th>caption</th>\n      <th>hash</th>\n      <th>permalink</th>\n      <th>original_url</th>\n      <th>image_name</th>\n      <th>path</th>\n      <th>thumbnail_path</th>\n      <th>exists</th>\n      <th>curated</th>\n    </tr>\n  </thead>\n  <tbody>\n    <tr>\n      <th>0</th>\n      <td>yx16dt</td>\n      <td>SFWRedheads</td>\n      <td>Iambatmansmom38</td>\n      <td>Do you like to read, favorite book?</td>\n      <td></td>\n      <td></td>\n      <td>/r/SFWRedheads/comments/yx16dt/do_you_like_to_...</td>\n      <td>https://i.redd.it/v0u97to9ae0a1.jpg</td>\n      <td></td>\n      <td></td>\n      <td></td>\n      <td>False</td>\n      <td>False</td>\n    </tr>\n    <tr>\n      <th>1</th>\n      <td>ywyq7p</td>\n      <td>SFWRedheads</td>\n      <td>xangelxfacexx</td>\n      <td>embrace my cuteness!</td>\n      <td></td>\n      <td></td>\n      <td>/r/SFWRedheads/comments/ywyq7p/embrace_my_cute...</td>\n      <td>https://i.imgur.com/24D9QJU.jpg</td>\n      <td></td>\n      <td></td>\n      <td></td>\n      <td>False</td>\n      <td>False</td>\n    </tr>\n    <tr>\n      <th>2</th>\n      <td>ywyol9</td>\n      <td>SFWRedheads</td>\n      <td>BeeBinisky</td>\n      <td>First Snow Fall Has Me Excited ! ❄⛄</td>\n      <td></td>\n      <td></td>\n      <td>/r/SFWRedheads/comments/ywyol9/first_snow_fall...</td>\n      <td>https://i.redd.it/qg97b6r9vd0a1.jpg</td>\n      <td></td>\n      <td></td>\n      <td></td>\n      <td>False</td>\n      <td>False</td>\n    </tr>\n    <tr>\n      <th>3</th>\n      <td>ywxa1i</td>\n      <td>SFWRedheads</td>\n      <td>badddjuju</td>\n      <td>good morning</td>\n      <td></td>\n      <td></td>\n      <td>/r/SFWRedheads/comments/ywxa1i/good_morning/</td>\n      <td>https://i.redd.it/rkbwiuqvmd0a1.jpg</td>\n      <td></td>\n      <td></td>\n      <td></td>\n      <td>False</td>\n      <td>False</td>\n    </tr>\n    <tr>\n      <th>4</th>\n      <td>ywsrq0</td>\n      <td>SFWRedheads</td>\n      <td>SS_A_D</td>\n      <td>I had to take a selfie before going to the gym...</td>\n      <td></td>\n      <td></td>\n      <td>/r/SFWRedheads/comments/ywsrq0/i_had_to_take_a...</td>\n      <td>https://i.redd.it/hecmor3src0a1.jpg</td>\n      <td></td>\n      <td></td>\n      <td></td>\n      <td>False</td>\n      <td>False</td>\n    </tr>\n    <tr>\n      <th>...</th>\n      <td>...</td>\n      <td>...</td>\n      <td>...</td>\n      <td>...</td>\n      <td>...</td>\n      <td>...</td>\n      <td>...</td>\n      <td>...</td>\n      <td>...</td>\n      <td>...</td>\n      <td>...</td>\n      <td>...</td>\n      <td>...</td>\n    </tr>\n    <tr>\n      <th>3383</th>\n      <td>ywjp42</td>\n      <td>itookapicture</td>\n      <td>leflore4</td>\n      <td>ITAP - Of coach teaching young men to stand st...</td>\n      <td></td>\n      <td></td>\n      <td>/r/itookapicture/comments/ywjp42/itap_of_coach...</td>\n      <td>https://i.redd.it/8e4ku12iq80a1.jpg</td>\n      <td></td>\n      <td></td>\n      <td></td>\n      <td>False</td>\n      <td>False</td>\n    </tr>\n    <tr>\n      <th>3384</th>\n      <td>ywjli7</td>\n      <td>itookapicture</td>\n      <td>Naj183</td>\n      <td>ITAP of a Turkey Vulture spreading its wings</td>\n      <td></td>\n      <td></td>\n      <td>/r/itookapicture/comments/ywjli7/itap_of_a_tur...</td>\n      <td>https://i.redd.it/35zgwn967a0a1.jpg</td>\n      <td></td>\n      <td></td>\n      <td></td>\n      <td>False</td>\n      <td>False</td>\n    </tr>\n    <tr>\n      <th>3385</th>\n      <td>ywjew1</td>\n      <td>itookapicture</td>\n      <td>ExaminationHopeful36</td>\n      <td>ITAP of my cat looking out of the window</td>\n      <td></td>\n      <td></td>\n      <td>/r/itookapicture/comments/ywjew1/itap_of_my_ca...</td>\n      <td>https://i.redd.it/orn7pcse5a0a1.jpg</td>\n      <td></td>\n      <td></td>\n      <td></td>\n      <td>False</td>\n      <td>False</td>\n    </tr>\n    <tr>\n      <th>3386</th>\n      <td>ywjeai</td>\n      <td>itookapicture</td>\n      <td>retrospektor</td>\n      <td>ITAP of an empty beer bottle</td>\n      <td></td>\n      <td></td>\n      <td>/r/itookapicture/comments/ywjeai/itap_of_an_em...</td>\n      <td>https://i.redd.it/oyuscvpg5a0a1.jpg</td>\n      <td></td>\n      <td></td>\n      <td></td>\n      <td>False</td>\n      <td>False</td>\n    </tr>\n    <tr>\n      <th>3387</th>\n      <td>ywj1ef</td>\n      <td>itookapicture</td>\n      <td>basil016</td>\n      <td>ITAP of fall leaves on a tree</td>\n      <td></td>\n      <td></td>\n      <td>/r/itookapicture/comments/ywj1ef/itap_of_fall_...</td>\n      <td>https://i.redd.it/38qftp6uk80a1.jpg</td>\n      <td></td>\n      <td></td>\n      <td></td>\n      <td>False</td>\n      <td>False</td>\n    </tr>\n  </tbody>\n</table>\n<p>3388 rows × 13 columns</p>\n</div>"
     },
     "metadata": {},
     "output_type": "display_data"
    },
    {
     "name": "stdout",
     "output_type": "stream",
     "text": [
      "CPU times: total: 109 ms\n",
      "Wall time: 154 ms\n"
     ]
    }
   ],
   "source": [
    "%%time\n",
    "\n",
    "new_entries = filtered_initial.where(~filtered_initial['id'].isin(extant_data['id'])).dropna(how='all').reset_index().drop('index', axis=1)\n",
    "\n",
    "display(new_entries)"
   ],
   "metadata": {
    "collapsed": false
   }
  },
  {
   "cell_type": "code",
   "execution_count": 16,
   "outputs": [
    {
     "name": "stderr",
     "output_type": "stream",
     "text": [
      "Fetch-Image:   0%|          | 9/3388 [00:03<20:50,  2.70it/s]"
     ]
    },
    {
     "name": "stdout",
     "output_type": "stream",
     "text": [
      "cannot write mode P as JPEG\n"
     ]
    },
    {
     "name": "stderr",
     "output_type": "stream",
     "text": [
      "Fetch-Image:   1%|          | 40/3388 [00:24<19:33,  2.85it/s]  "
     ]
    },
    {
     "name": "stdout",
     "output_type": "stream",
     "text": [
      "cannot write mode P as JPEG\n",
      "cannot write mode P as JPEG\n"
     ]
    },
    {
     "name": "stderr",
     "output_type": "stream",
     "text": [
      "Fetch-Image:   4%|▍         | 129/3388 [00:57<11:59,  4.53it/s]"
     ]
    },
    {
     "name": "stdout",
     "output_type": "stream",
     "text": [
      "cannot identify image file <_io.BytesIO object at 0x0000021E78350D60>\n"
     ]
    },
    {
     "name": "stderr",
     "output_type": "stream",
     "text": [
      "Fetch-Image:   8%|▊         | 264/3388 [01:35<18:27,  2.82it/s]"
     ]
    },
    {
     "name": "stdout",
     "output_type": "stream",
     "text": [
      "cannot identify image file <_io.BytesIO object at 0x0000021E78350E00>\n"
     ]
    },
    {
     "name": "stderr",
     "output_type": "stream",
     "text": [
      "Fetch-Image:  14%|█▍        | 482/3388 [02:48<09:19,  5.20it/s]  "
     ]
    },
    {
     "name": "stdout",
     "output_type": "stream",
     "text": [
      "cannot write mode P as JPEG\n"
     ]
    },
    {
     "name": "stderr",
     "output_type": "stream",
     "text": [
      "Fetch-Image:  23%|██▎       | 775/3388 [04:17<12:22,  3.52it/s]"
     ]
    },
    {
     "name": "stdout",
     "output_type": "stream",
     "text": [
      "cannot write mode P as JPEG\n"
     ]
    },
    {
     "name": "stderr",
     "output_type": "stream",
     "text": [
      "Fetch-Image:  24%|██▍       | 827/3388 [04:35<10:21,  4.12it/s]"
     ]
    },
    {
     "name": "stdout",
     "output_type": "stream",
     "text": [
      "cannot write mode P as JPEG\n"
     ]
    },
    {
     "name": "stderr",
     "output_type": "stream",
     "text": [
      "Fetch-Image:  24%|██▍       | 830/3388 [04:36<10:10,  4.19it/s]"
     ]
    },
    {
     "name": "stdout",
     "output_type": "stream",
     "text": [
      "cannot write mode P as JPEG\n"
     ]
    },
    {
     "name": "stderr",
     "output_type": "stream",
     "text": [
      "Fetch-Image:  26%|██▌       | 864/3388 [04:47<11:00,  3.82it/s]"
     ]
    },
    {
     "name": "stdout",
     "output_type": "stream",
     "text": [
      "cannot write mode P as JPEG\n",
      "cannot write mode P as JPEG\n"
     ]
    },
    {
     "name": "stderr",
     "output_type": "stream",
     "text": [
      "Fetch-Image:  26%|██▌       | 865/3388 [04:48<09:43,  4.32it/s]"
     ]
    },
    {
     "name": "stdout",
     "output_type": "stream",
     "text": [
      "cannot write mode P as JPEG\n"
     ]
    },
    {
     "name": "stderr",
     "output_type": "stream",
     "text": [
      "Fetch-Image:  50%|█████     | 1694/3388 [12:14<14:18,  1.97it/s]  "
     ]
    },
    {
     "name": "stdout",
     "output_type": "stream",
     "text": [
      "cannot identify image file <_io.BytesIO object at 0x0000021E7819E540>\n"
     ]
    },
    {
     "name": "stderr",
     "output_type": "stream",
     "text": [
      "Fetch-Image:  65%|██████▍   | 2198/3388 [15:11<03:24,  5.82it/s]"
     ]
    },
    {
     "name": "stdout",
     "output_type": "stream",
     "text": [
      "cannot identify image file <_io.BytesIO object at 0x0000021E7819E450>\n",
      "cannot identify image file <_io.BytesIO object at 0x0000021E5FA54270>\n"
     ]
    },
    {
     "name": "stderr",
     "output_type": "stream",
     "text": [
      "Fetch-Image:  65%|██████▌   | 2209/3388 [15:14<04:14,  4.63it/s]"
     ]
    },
    {
     "name": "stdout",
     "output_type": "stream",
     "text": [
      "cannot identify image file <_io.BytesIO object at 0x0000021E78035AE0>\n"
     ]
    },
    {
     "name": "stderr",
     "output_type": "stream",
     "text": [
      "Fetch-Image:  65%|██████▌   | 2214/3388 [15:15<03:40,  5.31it/s]"
     ]
    },
    {
     "name": "stdout",
     "output_type": "stream",
     "text": [
      "cannot identify image file <_io.BytesIO object at 0x0000021E78035AE0>\n"
     ]
    },
    {
     "name": "stderr",
     "output_type": "stream",
     "text": [
      "Fetch-Image:  66%|██████▌   | 2223/3388 [15:19<05:06,  3.81it/s]"
     ]
    },
    {
     "name": "stdout",
     "output_type": "stream",
     "text": [
      "cannot identify image file <_io.BytesIO object at 0x0000021E78035AE0>\n"
     ]
    },
    {
     "name": "stderr",
     "output_type": "stream",
     "text": [
      "Fetch-Image:  66%|██████▋   | 2247/3388 [15:32<04:21,  4.37it/s]"
     ]
    },
    {
     "name": "stdout",
     "output_type": "stream",
     "text": [
      "cannot identify image file <_io.BytesIO object at 0x0000021E77B73E50>\n"
     ]
    },
    {
     "name": "stderr",
     "output_type": "stream",
     "text": [
      "Fetch-Image:  67%|██████▋   | 2281/3388 [15:46<04:48,  3.83it/s]"
     ]
    },
    {
     "name": "stdout",
     "output_type": "stream",
     "text": [
      "cannot identify image file <_io.BytesIO object at 0x0000021E7819EE00>\n"
     ]
    },
    {
     "name": "stderr",
     "output_type": "stream",
     "text": [
      "Fetch-Image:  68%|██████▊   | 2314/3388 [16:02<07:01,  2.55it/s]"
     ]
    },
    {
     "name": "stdout",
     "output_type": "stream",
     "text": [
      "cannot identify image file <_io.BytesIO object at 0x0000021E78350E50>\n"
     ]
    },
    {
     "name": "stderr",
     "output_type": "stream",
     "text": [
      "Fetch-Image:  69%|██████▊   | 2324/3388 [16:05<05:31,  3.21it/s]"
     ]
    },
    {
     "name": "stdout",
     "output_type": "stream",
     "text": [
      "cannot identify image file <_io.BytesIO object at 0x0000021E77B73E50>\n"
     ]
    },
    {
     "name": "stderr",
     "output_type": "stream",
     "text": [
      "Fetch-Image:  69%|██████▉   | 2343/3388 [16:14<04:57,  3.51it/s]"
     ]
    },
    {
     "name": "stdout",
     "output_type": "stream",
     "text": [
      "cannot identify image file <_io.BytesIO object at 0x0000021E78350E50>\n"
     ]
    },
    {
     "name": "stderr",
     "output_type": "stream",
     "text": [
      "Fetch-Image:  70%|███████   | 2381/3388 [16:33<05:19,  3.15it/s]"
     ]
    },
    {
     "name": "stdout",
     "output_type": "stream",
     "text": [
      "cannot identify image file <_io.BytesIO object at 0x0000021E78035AE0>\n",
      "cannot identify image file <_io.BytesIO object at 0x0000021E7819E540>\n"
     ]
    },
    {
     "name": "stderr",
     "output_type": "stream",
     "text": [
      "Fetch-Image:  70%|███████   | 2383/3388 [16:33<03:39,  4.57it/s]"
     ]
    },
    {
     "name": "stdout",
     "output_type": "stream",
     "text": [
      "cannot identify image file <_io.BytesIO object at 0x0000021E78035AE0>\n",
      "cannot identify image file <_io.BytesIO object at 0x0000021E7835D2C0>\n"
     ]
    },
    {
     "name": "stderr",
     "output_type": "stream",
     "text": [
      "Fetch-Image:  71%|███████   | 2394/3388 [16:37<03:35,  4.61it/s]"
     ]
    },
    {
     "name": "stdout",
     "output_type": "stream",
     "text": [
      "cannot identify image file <_io.BytesIO object at 0x0000021E7819EE00>\n"
     ]
    },
    {
     "name": "stderr",
     "output_type": "stream",
     "text": [
      "Fetch-Image:  71%|███████   | 2407/3388 [16:42<06:06,  2.68it/s]"
     ]
    },
    {
     "name": "stdout",
     "output_type": "stream",
     "text": [
      "cannot write mode RGBA as JPEG\n"
     ]
    },
    {
     "name": "stderr",
     "output_type": "stream",
     "text": [
      "Fetch-Image:  72%|███████▏  | 2430/3388 [16:48<05:27,  2.92it/s]"
     ]
    },
    {
     "name": "stdout",
     "output_type": "stream",
     "text": [
      "cannot write mode RGBA as JPEG\n"
     ]
    },
    {
     "name": "stderr",
     "output_type": "stream",
     "text": [
      "Fetch-Image:  81%|████████  | 2751/3388 [19:10<04:31,  2.35it/s]"
     ]
    },
    {
     "name": "stdout",
     "output_type": "stream",
     "text": [
      "cannot write mode P as JPEG\n",
      "cannot write mode P as JPEG\n"
     ]
    },
    {
     "name": "stderr",
     "output_type": "stream",
     "text": [
      "Fetch-Image:  81%|████████▏ | 2753/3388 [19:11<03:08,  3.36it/s]"
     ]
    },
    {
     "name": "stdout",
     "output_type": "stream",
     "text": [
      "cannot write mode P as JPEG\n"
     ]
    },
    {
     "name": "stderr",
     "output_type": "stream",
     "text": [
      "Fetch-Image:  82%|████████▏ | 2763/3388 [19:13<03:06,  3.36it/s]"
     ]
    },
    {
     "name": "stdout",
     "output_type": "stream",
     "text": [
      "cannot identify image file <_io.BytesIO object at 0x0000021E77B73E50>\n",
      "HTTPConnectionPool(host='inside.chick-fil-a.com', port=80): Max retries exceeded with url: /wp-content/uploads/2016/03/Pie-Lady-Photo-2-1.jpg (Caused by NewConnectionError('<urllib3.connection.HTTPConnection object at 0x0000021E00098970>: Failed to establish a new connection: [Errno 11002] getaddrinfo failed'))\n"
     ]
    },
    {
     "name": "stderr",
     "output_type": "stream",
     "text": [
      "Fetch-Image:  82%|████████▏ | 2764/3388 [19:13<03:07,  3.33it/s]"
     ]
    },
    {
     "name": "stdout",
     "output_type": "stream",
     "text": [
      "cannot identify image file <_io.BytesIO object at 0x0000021E78350EF0>\n"
     ]
    },
    {
     "name": "stderr",
     "output_type": "stream",
     "text": [
      "Fetch-Image:  82%|████████▏ | 2765/3388 [19:14<03:45,  2.77it/s]"
     ]
    },
    {
     "name": "stdout",
     "output_type": "stream",
     "text": [
      "cannot identify image file <_io.BytesIO object at 0x0000021E78350CC0>\n"
     ]
    },
    {
     "name": "stderr",
     "output_type": "stream",
     "text": [
      "Fetch-Image:  82%|████████▏ | 2766/3388 [19:15<05:04,  2.04it/s]"
     ]
    },
    {
     "name": "stdout",
     "output_type": "stream",
     "text": [
      "cannot identify image file <_io.BytesIO object at 0x0000021E5FA54270>\n"
     ]
    },
    {
     "name": "stderr",
     "output_type": "stream",
     "text": [
      "Fetch-Image:  82%|████████▏ | 2767/3388 [19:15<04:32,  2.28it/s]"
     ]
    },
    {
     "name": "stdout",
     "output_type": "stream",
     "text": [
      "HTTPConnectionPool(host='www.protoss-tech.com', port=80): Max retries exceeded with url: /images_mmrs/width800/44.112.2_800.jpg (Caused by NewConnectionError('<urllib3.connection.HTTPConnection object at 0x0000021E00098E20>: Failed to establish a new connection: [Errno 11001] getaddrinfo failed'))\n",
      "HTTPConnectionPool(host='sydney.fuller.name', port=80): Max retries exceeded with url: /photos/2005/2005-09-25--Pie_Making_with_Grandma.jpg (Caused by NewConnectionError('<urllib3.connection.HTTPConnection object at 0x0000021E000985B0>: Failed to establish a new connection: [Errno 11002] getaddrinfo failed'))\n"
     ]
    },
    {
     "name": "stderr",
     "output_type": "stream",
     "text": [
      "Fetch-Image:  82%|████████▏ | 2768/3388 [19:15<03:49,  2.70it/s]"
     ]
    },
    {
     "name": "stdout",
     "output_type": "stream",
     "text": [
      "HTTPConnectionPool(host='images.magnetsusa.com', port=80): Max retries exceeded with url: /images/blog/gmas-pie.jpg (Caused by NewConnectionError('<urllib3.connection.HTTPConnection object at 0x0000021E00098160>: Failed to establish a new connection: [Errno 11001] getaddrinfo failed'))\n"
     ]
    },
    {
     "name": "stderr",
     "output_type": "stream",
     "text": [
      "Fetch-Image:  82%|████████▏ | 2770/3388 [19:16<03:30,  2.94it/s]"
     ]
    },
    {
     "name": "stdout",
     "output_type": "stream",
     "text": [
      "cannot identify image file <_io.BytesIO object at 0x0000021E78350CC0>\n"
     ]
    },
    {
     "name": "stderr",
     "output_type": "stream",
     "text": [
      "Fetch-Image:  82%|████████▏ | 2771/3388 [19:17<04:18,  2.39it/s]"
     ]
    },
    {
     "name": "stdout",
     "output_type": "stream",
     "text": [
      "cannot identify image file <_io.BytesIO object at 0x0000021E78350AE0>\n"
     ]
    },
    {
     "name": "stderr",
     "output_type": "stream",
     "text": [
      "Fetch-Image:  82%|████████▏ | 2772/3388 [19:18<05:43,  1.79it/s]"
     ]
    },
    {
     "name": "stdout",
     "output_type": "stream",
     "text": [
      "cannot identify image file <_io.BytesIO object at 0x0000021E77B73E50>\n",
      "HTTPConnectionPool(host='www.theresident.com', port=80): Max retries exceeded with url: /wp-content/uploads/2009/11/Pie-Ladies.jpg (Caused by NewConnectionError('<urllib3.connection.HTTPConnection object at 0x0000021E00098520>: Failed to establish a new connection: [Errno 11001] getaddrinfo failed'))\n"
     ]
    },
    {
     "name": "stderr",
     "output_type": "stream",
     "text": [
      "Fetch-Image:  82%|████████▏ | 2775/3388 [19:18<03:19,  3.08it/s]"
     ]
    },
    {
     "name": "stdout",
     "output_type": "stream",
     "text": [
      "cannot identify image file <_io.BytesIO object at 0x0000021E78350E50>\n",
      "cannot identify image file <_io.BytesIO object at 0x0000021E7835D720>\n"
     ]
    },
    {
     "name": "stderr",
     "output_type": "stream",
     "text": [
      "Fetch-Image:  82%|████████▏ | 2776/3388 [19:18<03:44,  2.72it/s]"
     ]
    },
    {
     "name": "stdout",
     "output_type": "stream",
     "text": [
      "cannot identify image file <_io.BytesIO object at 0x0000021E7835D180>\n"
     ]
    },
    {
     "name": "stderr",
     "output_type": "stream",
     "text": [
      "Fetch-Image:  82%|████████▏ | 2777/3388 [19:19<03:56,  2.58it/s]"
     ]
    },
    {
     "name": "stdout",
     "output_type": "stream",
     "text": [
      "HTTPSConnectionPool(host='70.32.91.78', port=443): Max retries exceeded with url: /bgb/book_images/images_215/9780525456452.jpg (Caused by SSLError(CertificateError(\"hostname '70.32.91.78' doesn't match either of 'adchost.com', 'webmail.adchost.com', 'www.adchost.com'\")))\n"
     ]
    },
    {
     "name": "stderr",
     "output_type": "stream",
     "text": [
      "Fetch-Image:  82%|████████▏ | 2778/3388 [19:19<04:06,  2.47it/s]"
     ]
    },
    {
     "name": "stdout",
     "output_type": "stream",
     "text": [
      "cannot identify image file <_io.BytesIO object at 0x0000021E7835D720>\n"
     ]
    },
    {
     "name": "stderr",
     "output_type": "stream",
     "text": [
      "Fetch-Image:  82%|████████▏ | 2779/3388 [19:20<03:42,  2.73it/s]"
     ]
    },
    {
     "name": "stdout",
     "output_type": "stream",
     "text": [
      "cannot identify image file <_io.BytesIO object at 0x0000021E78350AE0>\n",
      "HTTPConnectionPool(host='media.collegepublisher.com', port=80): Max retries exceeded with url: /media/paper332/stills/uqkg8e4v.jpg (Caused by NewConnectionError('<urllib3.connection.HTTPConnection object at 0x0000021E00098FA0>: Failed to establish a new connection: [Errno 11001] getaddrinfo failed'))\n"
     ]
    },
    {
     "name": "stderr",
     "output_type": "stream",
     "text": [
      "Fetch-Image:  82%|████████▏ | 2781/3388 [19:21<05:31,  1.83it/s]"
     ]
    },
    {
     "name": "stdout",
     "output_type": "stream",
     "text": [
      "cannot identify image file <_io.BytesIO object at 0x0000021E77B73E50>\n"
     ]
    },
    {
     "name": "stderr",
     "output_type": "stream",
     "text": [
      "Fetch-Image:  85%|████████▌ | 2887/3388 [20:24<05:45,  1.45it/s]"
     ]
    },
    {
     "name": "stdout",
     "output_type": "stream",
     "text": [
      "cannot write mode RGBA as JPEG\n"
     ]
    },
    {
     "name": "stderr",
     "output_type": "stream",
     "text": [
      "Fetch-Image: 100%|██████████| 3388/3388 [25:57<00:00,  2.17it/s]\n",
      "Get-Image-Name: 100%|██████████| 3388/3388 [00:00<00:00, 14794.71it/s]\n",
      "Split-Hash: 100%|██████████| 3388/3388 [00:00<00:00, 22437.15it/s]\n"
     ]
    },
    {
     "data": {
      "text/plain": "          id      subreddit                author  \\\n0     yx16dt    SFWRedheads       Iambatmansmom38   \n1     ywyq7p    SFWRedheads         xangelxfacexx   \n2     ywyol9    SFWRedheads            BeeBinisky   \n3     ywxa1i    SFWRedheads             badddjuju   \n4     ywsrq0    SFWRedheads                SS_A_D   \n...      ...            ...                   ...   \n3383  ywjp42  itookapicture              leflore4   \n3384  ywjli7  itookapicture                Naj183   \n3385  ywjew1  itookapicture  ExaminationHopeful36   \n3386  ywjeai  itookapicture          retrospektor   \n3387  ywj1ef  itookapicture              basil016   \n\n                                                  title caption  \\\n0                   Do you like to read, favorite book?           \n1                                  embrace my cuteness!           \n2                   First Snow Fall Has Me Excited ! ❄⛄           \n3                                          good morning           \n4     I had to take a selfie before going to the gym...           \n...                                                 ...     ...   \n3383  ITAP - Of coach teaching young men to stand st...           \n3384       ITAP of a Turkey Vulture spreading its wings           \n3385           ITAP of my cat looking out of the window           \n3386                       ITAP of an empty beer bottle           \n3387                      ITAP of fall leaves on a tree           \n\n                                  hash  \\\n0     fd91eb6f88d9a51e253c88a0c61daf53   \n1     bb4f9cbc9342c47b74e49877a6445d68   \n2     47e18745b435f4796978ad6078e2d9c6   \n3     ca5a9e6b00ccfebeabbf07e236670288   \n4     427ab2dc4bc15b2ea6180f3457dacd58   \n...                                ...   \n3383  f9c5e68a2e6082b0827469253807647e   \n3384  a37c752a3ecdd654cd402280b0a3de7f   \n3385  53f99cb828e71b8a3172fea41d1f2259   \n3386  9d5acf1a16798238d606fc3646d16f75   \n3387  aa650c79d5b82c9121c902140aff9202   \n\n                                              permalink  \\\n0     /r/SFWRedheads/comments/yx16dt/do_you_like_to_...   \n1     /r/SFWRedheads/comments/ywyq7p/embrace_my_cute...   \n2     /r/SFWRedheads/comments/ywyol9/first_snow_fall...   \n3          /r/SFWRedheads/comments/ywxa1i/good_morning/   \n4     /r/SFWRedheads/comments/ywsrq0/i_had_to_take_a...   \n...                                                 ...   \n3383  /r/itookapicture/comments/ywjp42/itap_of_coach...   \n3384  /r/itookapicture/comments/ywjli7/itap_of_a_tur...   \n3385  /r/itookapicture/comments/ywjew1/itap_of_my_ca...   \n3386  /r/itookapicture/comments/ywjeai/itap_of_an_em...   \n3387  /r/itookapicture/comments/ywj1ef/itap_of_fall_...   \n\n                             original_url  \\\n0     https://i.redd.it/v0u97to9ae0a1.jpg   \n1         https://i.imgur.com/24D9QJU.jpg   \n2     https://i.redd.it/qg97b6r9vd0a1.jpg   \n3     https://i.redd.it/rkbwiuqvmd0a1.jpg   \n4     https://i.redd.it/hecmor3src0a1.jpg   \n...                                   ...   \n3383  https://i.redd.it/8e4ku12iq80a1.jpg   \n3384  https://i.redd.it/35zgwn967a0a1.jpg   \n3385  https://i.redd.it/orn7pcse5a0a1.jpg   \n3386  https://i.redd.it/oyuscvpg5a0a1.jpg   \n3387  https://i.redd.it/38qftp6uk80a1.jpg   \n\n                                image_name  \\\n0     fd91eb6f88d9a51e253c88a0c61daf53.jpg   \n1     bb4f9cbc9342c47b74e49877a6445d68.jpg   \n2     47e18745b435f4796978ad6078e2d9c6.jpg   \n3     ca5a9e6b00ccfebeabbf07e236670288.jpg   \n4     427ab2dc4bc15b2ea6180f3457dacd58.jpg   \n...                                    ...   \n3383  f9c5e68a2e6082b0827469253807647e.jpg   \n3384  a37c752a3ecdd654cd402280b0a3de7f.jpg   \n3385  53f99cb828e71b8a3172fea41d1f2259.jpg   \n3386  9d5acf1a16798238d606fc3646d16f75.jpg   \n3387  aa650c79d5b82c9121c902140aff9202.jpg   \n\n                                                   path thumbnail_path exists  \\\n0     D:\\data\\images\\SFWRedheads\\fd91eb6f88d9a51e253...                 False   \n1     D:\\data\\images\\SFWRedheads\\bb4f9cbc9342c47b74e...                 False   \n2     D:\\data\\images\\SFWRedheads\\47e18745b435f479697...                 False   \n3     D:\\data\\images\\SFWRedheads\\ca5a9e6b00ccfebeabb...                 False   \n4     D:\\data\\images\\SFWRedheads\\427ab2dc4bc15b2ea61...                 False   \n...                                                 ...            ...    ...   \n3383  D:\\data\\images\\itookapicture\\f9c5e68a2e6082b08...                 False   \n3384  D:\\data\\images\\itookapicture\\a37c752a3ecdd654c...                 False   \n3385  D:\\data\\images\\itookapicture\\53f99cb828e71b8a3...                 False   \n3386  D:\\data\\images\\itookapicture\\9d5acf1a16798238d...                 False   \n3387  D:\\data\\images\\itookapicture\\aa650c79d5b82c912...                 False   \n\n     curated  \n0      False  \n1      False  \n2      False  \n3      False  \n4      False  \n...      ...  \n3383   False  \n3384   False  \n3385   False  \n3386   False  \n3387   False  \n\n[3388 rows x 13 columns]",
      "text/html": "<div>\n<style scoped>\n    .dataframe tbody tr th:only-of-type {\n        vertical-align: middle;\n    }\n\n    .dataframe tbody tr th {\n        vertical-align: top;\n    }\n\n    .dataframe thead th {\n        text-align: right;\n    }\n</style>\n<table border=\"1\" class=\"dataframe\">\n  <thead>\n    <tr style=\"text-align: right;\">\n      <th></th>\n      <th>id</th>\n      <th>subreddit</th>\n      <th>author</th>\n      <th>title</th>\n      <th>caption</th>\n      <th>hash</th>\n      <th>permalink</th>\n      <th>original_url</th>\n      <th>image_name</th>\n      <th>path</th>\n      <th>thumbnail_path</th>\n      <th>exists</th>\n      <th>curated</th>\n    </tr>\n  </thead>\n  <tbody>\n    <tr>\n      <th>0</th>\n      <td>yx16dt</td>\n      <td>SFWRedheads</td>\n      <td>Iambatmansmom38</td>\n      <td>Do you like to read, favorite book?</td>\n      <td></td>\n      <td>fd91eb6f88d9a51e253c88a0c61daf53</td>\n      <td>/r/SFWRedheads/comments/yx16dt/do_you_like_to_...</td>\n      <td>https://i.redd.it/v0u97to9ae0a1.jpg</td>\n      <td>fd91eb6f88d9a51e253c88a0c61daf53.jpg</td>\n      <td>D:\\data\\images\\SFWRedheads\\fd91eb6f88d9a51e253...</td>\n      <td></td>\n      <td>False</td>\n      <td>False</td>\n    </tr>\n    <tr>\n      <th>1</th>\n      <td>ywyq7p</td>\n      <td>SFWRedheads</td>\n      <td>xangelxfacexx</td>\n      <td>embrace my cuteness!</td>\n      <td></td>\n      <td>bb4f9cbc9342c47b74e49877a6445d68</td>\n      <td>/r/SFWRedheads/comments/ywyq7p/embrace_my_cute...</td>\n      <td>https://i.imgur.com/24D9QJU.jpg</td>\n      <td>bb4f9cbc9342c47b74e49877a6445d68.jpg</td>\n      <td>D:\\data\\images\\SFWRedheads\\bb4f9cbc9342c47b74e...</td>\n      <td></td>\n      <td>False</td>\n      <td>False</td>\n    </tr>\n    <tr>\n      <th>2</th>\n      <td>ywyol9</td>\n      <td>SFWRedheads</td>\n      <td>BeeBinisky</td>\n      <td>First Snow Fall Has Me Excited ! ❄⛄</td>\n      <td></td>\n      <td>47e18745b435f4796978ad6078e2d9c6</td>\n      <td>/r/SFWRedheads/comments/ywyol9/first_snow_fall...</td>\n      <td>https://i.redd.it/qg97b6r9vd0a1.jpg</td>\n      <td>47e18745b435f4796978ad6078e2d9c6.jpg</td>\n      <td>D:\\data\\images\\SFWRedheads\\47e18745b435f479697...</td>\n      <td></td>\n      <td>False</td>\n      <td>False</td>\n    </tr>\n    <tr>\n      <th>3</th>\n      <td>ywxa1i</td>\n      <td>SFWRedheads</td>\n      <td>badddjuju</td>\n      <td>good morning</td>\n      <td></td>\n      <td>ca5a9e6b00ccfebeabbf07e236670288</td>\n      <td>/r/SFWRedheads/comments/ywxa1i/good_morning/</td>\n      <td>https://i.redd.it/rkbwiuqvmd0a1.jpg</td>\n      <td>ca5a9e6b00ccfebeabbf07e236670288.jpg</td>\n      <td>D:\\data\\images\\SFWRedheads\\ca5a9e6b00ccfebeabb...</td>\n      <td></td>\n      <td>False</td>\n      <td>False</td>\n    </tr>\n    <tr>\n      <th>4</th>\n      <td>ywsrq0</td>\n      <td>SFWRedheads</td>\n      <td>SS_A_D</td>\n      <td>I had to take a selfie before going to the gym...</td>\n      <td></td>\n      <td>427ab2dc4bc15b2ea6180f3457dacd58</td>\n      <td>/r/SFWRedheads/comments/ywsrq0/i_had_to_take_a...</td>\n      <td>https://i.redd.it/hecmor3src0a1.jpg</td>\n      <td>427ab2dc4bc15b2ea6180f3457dacd58.jpg</td>\n      <td>D:\\data\\images\\SFWRedheads\\427ab2dc4bc15b2ea61...</td>\n      <td></td>\n      <td>False</td>\n      <td>False</td>\n    </tr>\n    <tr>\n      <th>...</th>\n      <td>...</td>\n      <td>...</td>\n      <td>...</td>\n      <td>...</td>\n      <td>...</td>\n      <td>...</td>\n      <td>...</td>\n      <td>...</td>\n      <td>...</td>\n      <td>...</td>\n      <td>...</td>\n      <td>...</td>\n      <td>...</td>\n    </tr>\n    <tr>\n      <th>3383</th>\n      <td>ywjp42</td>\n      <td>itookapicture</td>\n      <td>leflore4</td>\n      <td>ITAP - Of coach teaching young men to stand st...</td>\n      <td></td>\n      <td>f9c5e68a2e6082b0827469253807647e</td>\n      <td>/r/itookapicture/comments/ywjp42/itap_of_coach...</td>\n      <td>https://i.redd.it/8e4ku12iq80a1.jpg</td>\n      <td>f9c5e68a2e6082b0827469253807647e.jpg</td>\n      <td>D:\\data\\images\\itookapicture\\f9c5e68a2e6082b08...</td>\n      <td></td>\n      <td>False</td>\n      <td>False</td>\n    </tr>\n    <tr>\n      <th>3384</th>\n      <td>ywjli7</td>\n      <td>itookapicture</td>\n      <td>Naj183</td>\n      <td>ITAP of a Turkey Vulture spreading its wings</td>\n      <td></td>\n      <td>a37c752a3ecdd654cd402280b0a3de7f</td>\n      <td>/r/itookapicture/comments/ywjli7/itap_of_a_tur...</td>\n      <td>https://i.redd.it/35zgwn967a0a1.jpg</td>\n      <td>a37c752a3ecdd654cd402280b0a3de7f.jpg</td>\n      <td>D:\\data\\images\\itookapicture\\a37c752a3ecdd654c...</td>\n      <td></td>\n      <td>False</td>\n      <td>False</td>\n    </tr>\n    <tr>\n      <th>3385</th>\n      <td>ywjew1</td>\n      <td>itookapicture</td>\n      <td>ExaminationHopeful36</td>\n      <td>ITAP of my cat looking out of the window</td>\n      <td></td>\n      <td>53f99cb828e71b8a3172fea41d1f2259</td>\n      <td>/r/itookapicture/comments/ywjew1/itap_of_my_ca...</td>\n      <td>https://i.redd.it/orn7pcse5a0a1.jpg</td>\n      <td>53f99cb828e71b8a3172fea41d1f2259.jpg</td>\n      <td>D:\\data\\images\\itookapicture\\53f99cb828e71b8a3...</td>\n      <td></td>\n      <td>False</td>\n      <td>False</td>\n    </tr>\n    <tr>\n      <th>3386</th>\n      <td>ywjeai</td>\n      <td>itookapicture</td>\n      <td>retrospektor</td>\n      <td>ITAP of an empty beer bottle</td>\n      <td></td>\n      <td>9d5acf1a16798238d606fc3646d16f75</td>\n      <td>/r/itookapicture/comments/ywjeai/itap_of_an_em...</td>\n      <td>https://i.redd.it/oyuscvpg5a0a1.jpg</td>\n      <td>9d5acf1a16798238d606fc3646d16f75.jpg</td>\n      <td>D:\\data\\images\\itookapicture\\9d5acf1a16798238d...</td>\n      <td></td>\n      <td>False</td>\n      <td>False</td>\n    </tr>\n    <tr>\n      <th>3387</th>\n      <td>ywj1ef</td>\n      <td>itookapicture</td>\n      <td>basil016</td>\n      <td>ITAP of fall leaves on a tree</td>\n      <td></td>\n      <td>aa650c79d5b82c9121c902140aff9202</td>\n      <td>/r/itookapicture/comments/ywj1ef/itap_of_fall_...</td>\n      <td>https://i.redd.it/38qftp6uk80a1.jpg</td>\n      <td>aa650c79d5b82c9121c902140aff9202.jpg</td>\n      <td>D:\\data\\images\\itookapicture\\aa650c79d5b82c912...</td>\n      <td></td>\n      <td>False</td>\n      <td>False</td>\n    </tr>\n  </tbody>\n</table>\n<p>3388 rows × 13 columns</p>\n</div>"
     },
     "metadata": {},
     "output_type": "display_data"
    },
    {
     "name": "stdout",
     "output_type": "stream",
     "text": [
      "CPU times: total: 12min 26s\n",
      "Wall time: 25min 58s\n"
     ]
    }
   ],
   "source": [
    "%%time\n",
    "\n",
    "new_entries_1 = new_entries.copy()\n",
    "\n",
    "tqdm.pandas(desc=\"Fetch-Image\")\n",
    "with ProgressBar():\n",
    "\tnew_entries_1['path'] = new_entries_1.progress_apply(lambda x: fetch_image(x), axis=1)\n",
    "\n",
    "tqdm.pandas(desc=\"Get-Image-Name\")\n",
    "with ProgressBar():\n",
    "\tnew_entries_1['image_name'] = new_entries_1.progress_apply(lambda x: get_image_name(x), axis=1)\n",
    "\n",
    "tqdm.pandas(desc=\"Split-Hash\")\n",
    "with ProgressBar():\n",
    "\tnew_entries_1['hash'] = new_entries_1.progress_apply(lambda x: split_hash(x), axis=1)\n",
    "\n",
    "display(new_entries_1)"
   ],
   "metadata": {
    "collapsed": false
   }
  },
  {
   "cell_type": "code",
   "execution_count": 17,
   "outputs": [
    {
     "name": "stderr",
     "output_type": "stream",
     "text": [
      "Create-Thumbnail: 100%|██████████| 3388/3388 [16:48<00:00,  3.36it/s]  \n",
      "Checking-Exists: 100%|██████████| 3388/3388 [00:01<00:00, 2204.29it/s]\n"
     ]
    },
    {
     "data": {
      "text/plain": "          id      subreddit                author  \\\n0     yx16dt    SFWRedheads       Iambatmansmom38   \n1     ywyq7p    SFWRedheads         xangelxfacexx   \n2     ywyol9    SFWRedheads            BeeBinisky   \n3     ywxa1i    SFWRedheads             badddjuju   \n4     ywsrq0    SFWRedheads                SS_A_D   \n...      ...            ...                   ...   \n3383  ywjp42  itookapicture              leflore4   \n3384  ywjli7  itookapicture                Naj183   \n3385  ywjew1  itookapicture  ExaminationHopeful36   \n3386  ywjeai  itookapicture          retrospektor   \n3387  ywj1ef  itookapicture              basil016   \n\n                                                  title caption  \\\n0                   Do you like to read, favorite book?           \n1                                  embrace my cuteness!           \n2                   First Snow Fall Has Me Excited ! ❄⛄           \n3                                          good morning           \n4     I had to take a selfie before going to the gym...           \n...                                                 ...     ...   \n3383  ITAP - Of coach teaching young men to stand st...           \n3384       ITAP of a Turkey Vulture spreading its wings           \n3385           ITAP of my cat looking out of the window           \n3386                       ITAP of an empty beer bottle           \n3387                      ITAP of fall leaves on a tree           \n\n                                  hash  \\\n0     fd91eb6f88d9a51e253c88a0c61daf53   \n1     bb4f9cbc9342c47b74e49877a6445d68   \n2     47e18745b435f4796978ad6078e2d9c6   \n3     ca5a9e6b00ccfebeabbf07e236670288   \n4     427ab2dc4bc15b2ea6180f3457dacd58   \n...                                ...   \n3383  f9c5e68a2e6082b0827469253807647e   \n3384  a37c752a3ecdd654cd402280b0a3de7f   \n3385  53f99cb828e71b8a3172fea41d1f2259   \n3386  9d5acf1a16798238d606fc3646d16f75   \n3387  aa650c79d5b82c9121c902140aff9202   \n\n                                              permalink  \\\n0     /r/SFWRedheads/comments/yx16dt/do_you_like_to_...   \n1     /r/SFWRedheads/comments/ywyq7p/embrace_my_cute...   \n2     /r/SFWRedheads/comments/ywyol9/first_snow_fall...   \n3          /r/SFWRedheads/comments/ywxa1i/good_morning/   \n4     /r/SFWRedheads/comments/ywsrq0/i_had_to_take_a...   \n...                                                 ...   \n3383  /r/itookapicture/comments/ywjp42/itap_of_coach...   \n3384  /r/itookapicture/comments/ywjli7/itap_of_a_tur...   \n3385  /r/itookapicture/comments/ywjew1/itap_of_my_ca...   \n3386  /r/itookapicture/comments/ywjeai/itap_of_an_em...   \n3387  /r/itookapicture/comments/ywj1ef/itap_of_fall_...   \n\n                             original_url  \\\n0     https://i.redd.it/v0u97to9ae0a1.jpg   \n1         https://i.imgur.com/24D9QJU.jpg   \n2     https://i.redd.it/qg97b6r9vd0a1.jpg   \n3     https://i.redd.it/rkbwiuqvmd0a1.jpg   \n4     https://i.redd.it/hecmor3src0a1.jpg   \n...                                   ...   \n3383  https://i.redd.it/8e4ku12iq80a1.jpg   \n3384  https://i.redd.it/35zgwn967a0a1.jpg   \n3385  https://i.redd.it/orn7pcse5a0a1.jpg   \n3386  https://i.redd.it/oyuscvpg5a0a1.jpg   \n3387  https://i.redd.it/38qftp6uk80a1.jpg   \n\n                                image_name  \\\n0     fd91eb6f88d9a51e253c88a0c61daf53.jpg   \n1     bb4f9cbc9342c47b74e49877a6445d68.jpg   \n2     47e18745b435f4796978ad6078e2d9c6.jpg   \n3     ca5a9e6b00ccfebeabbf07e236670288.jpg   \n4     427ab2dc4bc15b2ea6180f3457dacd58.jpg   \n...                                    ...   \n3383  f9c5e68a2e6082b0827469253807647e.jpg   \n3384  a37c752a3ecdd654cd402280b0a3de7f.jpg   \n3385  53f99cb828e71b8a3172fea41d1f2259.jpg   \n3386  9d5acf1a16798238d606fc3646d16f75.jpg   \n3387  aa650c79d5b82c9121c902140aff9202.jpg   \n\n                                                   path  \\\n0     D:\\data\\images\\SFWRedheads\\fd91eb6f88d9a51e253...   \n1     D:\\data\\images\\SFWRedheads\\bb4f9cbc9342c47b74e...   \n2     D:\\data\\images\\SFWRedheads\\47e18745b435f479697...   \n3     D:\\data\\images\\SFWRedheads\\ca5a9e6b00ccfebeabb...   \n4     D:\\data\\images\\SFWRedheads\\427ab2dc4bc15b2ea61...   \n...                                                 ...   \n3383  D:\\data\\images\\itookapicture\\f9c5e68a2e6082b08...   \n3384  D:\\data\\images\\itookapicture\\a37c752a3ecdd654c...   \n3385  D:\\data\\images\\itookapicture\\53f99cb828e71b8a3...   \n3386  D:\\data\\images\\itookapicture\\9d5acf1a16798238d...   \n3387  D:\\data\\images\\itookapicture\\aa650c79d5b82c912...   \n\n                                         thumbnail_path  exists curated  \n0     D:\\data\\images\\SFWRedheads\\thumbnail\\fd91eb6f8...    True   False  \n1     D:\\data\\images\\SFWRedheads\\thumbnail\\bb4f9cbc9...    True   False  \n2     D:\\data\\images\\SFWRedheads\\thumbnail\\47e18745b...    True   False  \n3     D:\\data\\images\\SFWRedheads\\thumbnail\\ca5a9e6b0...    True   False  \n4     D:\\data\\images\\SFWRedheads\\thumbnail\\427ab2dc4...    True   False  \n...                                                 ...     ...     ...  \n3383  D:\\data\\images\\itookapicture\\thumbnail\\f9c5e68...    True   False  \n3384  D:\\data\\images\\itookapicture\\thumbnail\\a37c752...    True   False  \n3385  D:\\data\\images\\itookapicture\\thumbnail\\53f99cb...    True   False  \n3386  D:\\data\\images\\itookapicture\\thumbnail\\9d5acf1...    True   False  \n3387  D:\\data\\images\\itookapicture\\thumbnail\\aa650c7...    True   False  \n\n[3388 rows x 13 columns]",
      "text/html": "<div>\n<style scoped>\n    .dataframe tbody tr th:only-of-type {\n        vertical-align: middle;\n    }\n\n    .dataframe tbody tr th {\n        vertical-align: top;\n    }\n\n    .dataframe thead th {\n        text-align: right;\n    }\n</style>\n<table border=\"1\" class=\"dataframe\">\n  <thead>\n    <tr style=\"text-align: right;\">\n      <th></th>\n      <th>id</th>\n      <th>subreddit</th>\n      <th>author</th>\n      <th>title</th>\n      <th>caption</th>\n      <th>hash</th>\n      <th>permalink</th>\n      <th>original_url</th>\n      <th>image_name</th>\n      <th>path</th>\n      <th>thumbnail_path</th>\n      <th>exists</th>\n      <th>curated</th>\n    </tr>\n  </thead>\n  <tbody>\n    <tr>\n      <th>0</th>\n      <td>yx16dt</td>\n      <td>SFWRedheads</td>\n      <td>Iambatmansmom38</td>\n      <td>Do you like to read, favorite book?</td>\n      <td></td>\n      <td>fd91eb6f88d9a51e253c88a0c61daf53</td>\n      <td>/r/SFWRedheads/comments/yx16dt/do_you_like_to_...</td>\n      <td>https://i.redd.it/v0u97to9ae0a1.jpg</td>\n      <td>fd91eb6f88d9a51e253c88a0c61daf53.jpg</td>\n      <td>D:\\data\\images\\SFWRedheads\\fd91eb6f88d9a51e253...</td>\n      <td>D:\\data\\images\\SFWRedheads\\thumbnail\\fd91eb6f8...</td>\n      <td>True</td>\n      <td>False</td>\n    </tr>\n    <tr>\n      <th>1</th>\n      <td>ywyq7p</td>\n      <td>SFWRedheads</td>\n      <td>xangelxfacexx</td>\n      <td>embrace my cuteness!</td>\n      <td></td>\n      <td>bb4f9cbc9342c47b74e49877a6445d68</td>\n      <td>/r/SFWRedheads/comments/ywyq7p/embrace_my_cute...</td>\n      <td>https://i.imgur.com/24D9QJU.jpg</td>\n      <td>bb4f9cbc9342c47b74e49877a6445d68.jpg</td>\n      <td>D:\\data\\images\\SFWRedheads\\bb4f9cbc9342c47b74e...</td>\n      <td>D:\\data\\images\\SFWRedheads\\thumbnail\\bb4f9cbc9...</td>\n      <td>True</td>\n      <td>False</td>\n    </tr>\n    <tr>\n      <th>2</th>\n      <td>ywyol9</td>\n      <td>SFWRedheads</td>\n      <td>BeeBinisky</td>\n      <td>First Snow Fall Has Me Excited ! ❄⛄</td>\n      <td></td>\n      <td>47e18745b435f4796978ad6078e2d9c6</td>\n      <td>/r/SFWRedheads/comments/ywyol9/first_snow_fall...</td>\n      <td>https://i.redd.it/qg97b6r9vd0a1.jpg</td>\n      <td>47e18745b435f4796978ad6078e2d9c6.jpg</td>\n      <td>D:\\data\\images\\SFWRedheads\\47e18745b435f479697...</td>\n      <td>D:\\data\\images\\SFWRedheads\\thumbnail\\47e18745b...</td>\n      <td>True</td>\n      <td>False</td>\n    </tr>\n    <tr>\n      <th>3</th>\n      <td>ywxa1i</td>\n      <td>SFWRedheads</td>\n      <td>badddjuju</td>\n      <td>good morning</td>\n      <td></td>\n      <td>ca5a9e6b00ccfebeabbf07e236670288</td>\n      <td>/r/SFWRedheads/comments/ywxa1i/good_morning/</td>\n      <td>https://i.redd.it/rkbwiuqvmd0a1.jpg</td>\n      <td>ca5a9e6b00ccfebeabbf07e236670288.jpg</td>\n      <td>D:\\data\\images\\SFWRedheads\\ca5a9e6b00ccfebeabb...</td>\n      <td>D:\\data\\images\\SFWRedheads\\thumbnail\\ca5a9e6b0...</td>\n      <td>True</td>\n      <td>False</td>\n    </tr>\n    <tr>\n      <th>4</th>\n      <td>ywsrq0</td>\n      <td>SFWRedheads</td>\n      <td>SS_A_D</td>\n      <td>I had to take a selfie before going to the gym...</td>\n      <td></td>\n      <td>427ab2dc4bc15b2ea6180f3457dacd58</td>\n      <td>/r/SFWRedheads/comments/ywsrq0/i_had_to_take_a...</td>\n      <td>https://i.redd.it/hecmor3src0a1.jpg</td>\n      <td>427ab2dc4bc15b2ea6180f3457dacd58.jpg</td>\n      <td>D:\\data\\images\\SFWRedheads\\427ab2dc4bc15b2ea61...</td>\n      <td>D:\\data\\images\\SFWRedheads\\thumbnail\\427ab2dc4...</td>\n      <td>True</td>\n      <td>False</td>\n    </tr>\n    <tr>\n      <th>...</th>\n      <td>...</td>\n      <td>...</td>\n      <td>...</td>\n      <td>...</td>\n      <td>...</td>\n      <td>...</td>\n      <td>...</td>\n      <td>...</td>\n      <td>...</td>\n      <td>...</td>\n      <td>...</td>\n      <td>...</td>\n      <td>...</td>\n    </tr>\n    <tr>\n      <th>3383</th>\n      <td>ywjp42</td>\n      <td>itookapicture</td>\n      <td>leflore4</td>\n      <td>ITAP - Of coach teaching young men to stand st...</td>\n      <td></td>\n      <td>f9c5e68a2e6082b0827469253807647e</td>\n      <td>/r/itookapicture/comments/ywjp42/itap_of_coach...</td>\n      <td>https://i.redd.it/8e4ku12iq80a1.jpg</td>\n      <td>f9c5e68a2e6082b0827469253807647e.jpg</td>\n      <td>D:\\data\\images\\itookapicture\\f9c5e68a2e6082b08...</td>\n      <td>D:\\data\\images\\itookapicture\\thumbnail\\f9c5e68...</td>\n      <td>True</td>\n      <td>False</td>\n    </tr>\n    <tr>\n      <th>3384</th>\n      <td>ywjli7</td>\n      <td>itookapicture</td>\n      <td>Naj183</td>\n      <td>ITAP of a Turkey Vulture spreading its wings</td>\n      <td></td>\n      <td>a37c752a3ecdd654cd402280b0a3de7f</td>\n      <td>/r/itookapicture/comments/ywjli7/itap_of_a_tur...</td>\n      <td>https://i.redd.it/35zgwn967a0a1.jpg</td>\n      <td>a37c752a3ecdd654cd402280b0a3de7f.jpg</td>\n      <td>D:\\data\\images\\itookapicture\\a37c752a3ecdd654c...</td>\n      <td>D:\\data\\images\\itookapicture\\thumbnail\\a37c752...</td>\n      <td>True</td>\n      <td>False</td>\n    </tr>\n    <tr>\n      <th>3385</th>\n      <td>ywjew1</td>\n      <td>itookapicture</td>\n      <td>ExaminationHopeful36</td>\n      <td>ITAP of my cat looking out of the window</td>\n      <td></td>\n      <td>53f99cb828e71b8a3172fea41d1f2259</td>\n      <td>/r/itookapicture/comments/ywjew1/itap_of_my_ca...</td>\n      <td>https://i.redd.it/orn7pcse5a0a1.jpg</td>\n      <td>53f99cb828e71b8a3172fea41d1f2259.jpg</td>\n      <td>D:\\data\\images\\itookapicture\\53f99cb828e71b8a3...</td>\n      <td>D:\\data\\images\\itookapicture\\thumbnail\\53f99cb...</td>\n      <td>True</td>\n      <td>False</td>\n    </tr>\n    <tr>\n      <th>3386</th>\n      <td>ywjeai</td>\n      <td>itookapicture</td>\n      <td>retrospektor</td>\n      <td>ITAP of an empty beer bottle</td>\n      <td></td>\n      <td>9d5acf1a16798238d606fc3646d16f75</td>\n      <td>/r/itookapicture/comments/ywjeai/itap_of_an_em...</td>\n      <td>https://i.redd.it/oyuscvpg5a0a1.jpg</td>\n      <td>9d5acf1a16798238d606fc3646d16f75.jpg</td>\n      <td>D:\\data\\images\\itookapicture\\9d5acf1a16798238d...</td>\n      <td>D:\\data\\images\\itookapicture\\thumbnail\\9d5acf1...</td>\n      <td>True</td>\n      <td>False</td>\n    </tr>\n    <tr>\n      <th>3387</th>\n      <td>ywj1ef</td>\n      <td>itookapicture</td>\n      <td>basil016</td>\n      <td>ITAP of fall leaves on a tree</td>\n      <td></td>\n      <td>aa650c79d5b82c9121c902140aff9202</td>\n      <td>/r/itookapicture/comments/ywj1ef/itap_of_fall_...</td>\n      <td>https://i.redd.it/38qftp6uk80a1.jpg</td>\n      <td>aa650c79d5b82c9121c902140aff9202.jpg</td>\n      <td>D:\\data\\images\\itookapicture\\aa650c79d5b82c912...</td>\n      <td>D:\\data\\images\\itookapicture\\thumbnail\\aa650c7...</td>\n      <td>True</td>\n      <td>False</td>\n    </tr>\n  </tbody>\n</table>\n<p>3388 rows × 13 columns</p>\n</div>"
     },
     "metadata": {},
     "output_type": "display_data"
    },
    {
     "name": "stdout",
     "output_type": "stream",
     "text": [
      "CPU times: total: 13min 38s\n",
      "Wall time: 16min 50s\n"
     ]
    }
   ],
   "source": [
    "%%time\n",
    "\n",
    "new_entries_2 = new_entries_1.copy()\n",
    "\n",
    "tqdm.pandas(desc=\"Create-Thumbnail\")\n",
    "with ProgressBar():\n",
    "\tnew_entries_2['thumbnail_path'] = new_entries_2.progress_apply(lambda x: make_thumbnail(x), axis=1)\n",
    "\n",
    "tqdm.pandas(desc=\"Checking-Exists\")\n",
    "with ProgressBar():\n",
    "\tnew_entries_2['exists'] = new_entries_2.progress_apply(lambda x: exists(x), axis=1)\n",
    "\n",
    "display(new_entries_2)"
   ],
   "metadata": {
    "collapsed": false
   }
  },
  {
   "cell_type": "code",
   "execution_count": 18,
   "outputs": [
    {
     "name": "stdout",
     "output_type": "stream",
     "text": [
      "CPU times: total: 1min 4s\n",
      "Wall time: 1min 16s\n"
     ]
    }
   ],
   "source": [
    "%%time\n",
    "\n",
    "blip = BlipCaption(1)"
   ],
   "metadata": {
    "collapsed": false
   }
  },
  {
   "cell_type": "code",
   "execution_count": null,
   "outputs": [
    {
     "name": "stdout",
     "output_type": "stream",
     "text": [
      "[                                        ] | 0% Completed | 10.07 ms"
     ]
    },
    {
     "data": {
      "text/plain": "global:   0%|          | 0/6 [00:00<?, ?it/s]",
      "application/vnd.jupyter.widget-view+json": {
       "version_major": 2,
       "version_minor": 0,
       "model_id": "79ede4ff086048aba628b981c34ce4d3"
      }
     },
     "metadata": {},
     "output_type": "display_data"
    },
    {
     "name": "stdout",
     "output_type": "stream",
     "text": [
      "[                                        ] | 0% Completed | 21.97 sms"
     ]
    },
    {
     "name": "stderr",
     "output_type": "stream",
     "text": [
      "D:\\workspaces\\General\\venv\\lib\\site-packages\\transformers\\generation\\utils.py:1288: UserWarning: Using `max_length`'s default (20) to control the generation length. This behaviour is deprecated and will be removed from the config in v5 of Transformers -- we recommend using `max_new_tokens` to control the maximum length of the generation.\n",
      "  warnings.warn(\n"
     ]
    },
    {
     "name": "stdout",
     "output_type": "stream",
     "text": [
      "[                                        ] | 0% Completed | 56m 34ss"
     ]
    }
   ],
   "source": [
    "%%time\n",
    "\n",
    "new_entries_final = new_entries_2.copy()\n",
    "torch.cuda.empty_cache()\n",
    "\n",
    "with pbar:\n",
    "\tddf = dd.from_pandas(new_entries_final, npartitions=6)\n",
    "\tnew_entries_final['caption'] = ddf.apply(lambda x: caption_image(x, blip), meta=('str', object), axis=1).compute()\n",
    "\n",
    "torch.cuda.empty_cache()\n",
    "\n",
    "display(new_entries_final)"
   ],
   "metadata": {
    "collapsed": false,
    "pycharm": {
     "is_executing": true
    }
   }
  },
  {
   "cell_type": "code",
   "execution_count": null,
   "outputs": [],
   "source": [
    "%%time\n",
    "\n",
    "tqdm.pandas(desc=\"Filtering\")\n",
    "writeable_entries = new_entries_final\\\n",
    "\t.where(~new_entries_final['id'].isin(extant_data['id']))\\\n",
    "\t.dropna(how='all')\\\n",
    "\t.reset_index()\\\n",
    "\t.drop('index', axis=1)\n",
    "\n",
    "display(writeable_entries)"
   ],
   "metadata": {
    "collapsed": false,
    "pycharm": {
     "is_executing": true
    }
   }
  },
  {
   "cell_type": "code",
   "execution_count": null,
   "outputs": [],
   "source": [
    "%%time\n",
    "\n",
    "combined_result = pd.concat([extant_data, writeable_entries])\n",
    "\n",
    "display(combined_result)"
   ],
   "metadata": {
    "collapsed": false,
    "pycharm": {
     "is_executing": true
    }
   }
  },
  {
   "cell_type": "code",
   "execution_count": null,
   "outputs": [],
   "source": [
    "combined_result.reindex()\n",
    "combined_result.to_csv('processed_raw_data.csv', index=False)\n",
    "f = AzureFileStorageAdapter('data').get_file_storage()\n",
    "f.put('processed_raw_data.csv','data/processed_raw_data.csv', overwrite=True)"
   ],
   "metadata": {
    "collapsed": false,
    "pycharm": {
     "is_executing": true
    }
   }
  },
  {
   "cell_type": "code",
   "execution_count": null,
   "outputs": [],
   "source": [
    "final = pd.read_csv(f.open('data/processed_raw_data.csv'))\n",
    "final.to_parquet(\"data/processed_raw_data.parquet\", engine='pyarrow', filesystem=file_system, schema=schema)"
   ],
   "metadata": {
    "collapsed": false,
    "pycharm": {
     "is_executing": true
    }
   }
  },
  {
   "cell_type": "code",
   "execution_count": null,
   "outputs": [],
   "source": [
    "final = pd.read_parquet(\"data/processed_raw_data.parquet\", engine='pyarrow', filesystem=file_system)\n",
    "display(final)"
   ],
   "metadata": {
    "collapsed": false,
    "pycharm": {
     "is_executing": true
    }
   }
  }
 ],
 "metadata": {
  "kernelspec": {
   "display_name": "Python 3",
   "language": "python",
   "name": "python3"
  },
  "language_info": {
   "codemirror_mode": {
    "name": "ipython",
    "version": 2
   },
   "file_extension": ".py",
   "mimetype": "text/x-python",
   "name": "python",
   "nbconvert_exporter": "python",
   "pygments_lexer": "ipython2",
   "version": "2.7.6"
  }
 },
 "nbformat": 4,
 "nbformat_minor": 0
}
