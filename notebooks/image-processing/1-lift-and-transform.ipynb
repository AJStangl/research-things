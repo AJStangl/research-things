{
 "cells": [
  {
   "cell_type": "code",
   "execution_count": 1,
   "metadata": {
    "collapsed": true
   },
   "outputs": [],
   "source": [
    "import pandas as pd\n",
    "import dask.dataframe as dd\n",
    "import praw\n",
    "from dask.diagnostics import ProgressBar\n",
    "from tqdm import tqdm\n",
    "import hashlib\n",
    "from PIL import Image\n",
    "import requests\n",
    "from io import BytesIO\n",
    "from shared_code.utility.schemas.pyarrow_schema import schema\n",
    "from shared_code.utility.spark.set_environ import set_azure_env\n",
    "import os\n",
    "import torch\n",
    "from datetime import datetime\n",
    "import pandas as pd\n",
    "from pmaw import PushshiftAPI\n",
    "\n",
    "set_azure_env()\n",
    "\n",
    "from shared_code.utility.storage.azure_file_storage import AzureFileStorageAdapter\n",
    "from shared_code.utility.scripts.blip_caption import BlipCaption\n",
    "\n",
    "pbar = ProgressBar()\n",
    "pbar.register()\n",
    "\n",
    "tqdm.pandas()\n",
    "tqdm.pandas(desc=\"global\")\n",
    "\n",
    "from tqdm.dask import TqdmCallback\n",
    "cb = TqdmCallback(desc=\"global\")\n",
    "cb.register()\n",
    "\n",
    "file_system = AzureFileStorageAdapter('data').get_file_storage()"
   ]
  },
  {
   "cell_type": "code",
   "execution_count": 2,
   "outputs": [
    {
     "name": "stdout",
     "output_type": "stream",
     "text": [
      "CPU times: total: 0 ns\n",
      "Wall time: 0 ns\n"
     ]
    }
   ],
   "source": [
    "%%time\n",
    "#\"SFWRedheads\",\"sfwpetite\",\"SFWNextDoorGirls\",\n",
    "# subs = [\"CityPorn\",\"EarthPorn\",\"memes\",\"spaceporn\",\"trippinthroughtime\",\"fatsquirrelhate\",\"oldladiesbakingpies\",\"itookapicture\", \"celebrities\"\n",
    "subs = [\"wallstreetbets\"]"
   ],
   "metadata": {
    "collapsed": false
   }
  },
  {
   "cell_type": "code",
   "execution_count": 3,
   "outputs": [
    {
     "data": {
      "text/plain": "            id    subreddit              author  \\\n0      1000cej     CityPorn         OtterlyFoxy   \n1      1000glf     AmIhotAF   toolate_sharkbait   \n2      1000j1n    greentext           trent8051   \n3      1000mjs    spaceporn  MorningStar_imangi   \n4      1000qpd    spaceporn  MorningStar_imangi   \n...        ...          ...                 ...   \n21741  11j03l0  celebrities              Jzk592   \n21742  11ns444  celebrities    ConnectionOk8413   \n21743  11nrqmo  celebrities            Ahenze85   \n21744  11nmtns  celebrities            mikere24   \n21745  11nj6je  celebrities              oponen   \n\n                                title  \\\n0                 New York in the fog   \n1      Just looking for entertainment   \n2                 Anon wants Elon cut   \n3       Northern Lights above Lofoten   \n4                       Viking Lights   \n...                               ...   \n21741                       Gal Gadot   \n21742                       Amy Adams   \n21743                 Kate Beckinsale   \n21744                Madelaine Petsch   \n21745  Rihanna, beautiful as always 😍   \n\n                                                 caption  \\\n0      cars are parked on the side of the road in the...   \n1      blonde woman with blonde hair and tattoos on h...   \n2      a man with a beard and a beard sitting in fron...   \n3      a view of a view of a large green and purple a...   \n4      a scene of a boat is sitting on the shore of a...   \n...                                                  ...   \n21741  arafed image of a woman in a scarf around her ...   \n21742  a woman in a black leather jacket and tie dyes...   \n21743  arafed image of a woman sitting in a chair wit...   \n21744  a woman in a sheer - lined dress with a sheer ...   \n21745  a woman in a black bra top and panties is posi...   \n\n                                   hash  \\\n0      7a8d96e378c15c8ab8440ac311f12c11   \n1      e554c1ed7ffa2740436ac082068b2824   \n2      1dec3dabb5e46cde01855d06089c287a   \n3      2c39ce1290fba541abd0b004b09da6b2   \n4      0f72de47c69ff50eca5fa3990215f4ac   \n...                                 ...   \n21741  937ab8bcc41f39055217d64c38a447d9   \n21742  641520ae16f4aabd494172f80267ebed   \n21743  85ea0e7a20268adaaefd8cbc31868647   \n21744  296b6a7b159560e2811f41a4d659050e   \n21745  cb445857333490b577764c3cd16dcf12   \n\n                                               permalink  \\\n0      /r/CityPorn/comments/1000cej/new_york_in_the_fog/   \n1      /r/AmIhotAF/comments/1000glf/just_looking_for_...   \n2      /r/greentext/comments/1000j1n/anon_wants_elon_...   \n3      /r/spaceporn/comments/1000mjs/northern_lights_...   \n4           /r/spaceporn/comments/1000qpd/viking_lights/   \n...                                                  ...   \n21741         /r/celebrities/comments/11j03l0/gal_gadot/   \n21742         /r/celebrities/comments/11ns444/amy_adams/   \n21743   /r/celebrities/comments/11nrqmo/kate_beckinsale/   \n21744  /r/celebrities/comments/11nmtns/madelaine_petsch/   \n21745  /r/celebrities/comments/11nj6je/rihanna_beauti...   \n\n                              original_url  \\\n0      https://i.redd.it/4emw5uldib9a1.jpg   \n1      https://i.redd.it/4xyb1vgbjb9a1.jpg   \n2      https://i.redd.it/3mewbe0wjb9a1.jpg   \n3      https://i.redd.it/7s5aafaqkb9a1.jpg   \n4      https://i.redd.it/abojw7lqlb9a1.jpg   \n...                                    ...   \n21741  https://i.redd.it/s1ik1llgqve81.jpg   \n21742  https://i.redd.it/niul7blwjxma1.jpg   \n21743  https://i.redd.it/qihkgqruyyma1.jpg   \n21744  https://i.redd.it/kifsl6yywxma1.jpg   \n21745  https://i.redd.it/dftsc2m4xwma1.jpg   \n\n                                 image_name  \\\n0                         4emw5uldib9a1.jpg   \n1                         4xyb1vgbjb9a1.jpg   \n2                         3mewbe0wjb9a1.jpg   \n3                         7s5aafaqkb9a1.jpg   \n4                         abojw7lqlb9a1.jpg   \n...                                     ...   \n21741  937ab8bcc41f39055217d64c38a447d9.jpg   \n21742  641520ae16f4aabd494172f80267ebed.jpg   \n21743  85ea0e7a20268adaaefd8cbc31868647.jpg   \n21744  296b6a7b159560e2811f41a4d659050e.jpg   \n21745  cb445857333490b577764c3cd16dcf12.jpg   \n\n                                                    path  \\\n0              D:\\data\\images\\CityPorn\\4emw5uldib9a1.jpg   \n1              D:\\data\\images\\AmIhotAF\\4xyb1vgbjb9a1.jpg   \n2             D:\\data\\images\\greentext\\3mewbe0wjb9a1.jpg   \n3               /data/images/spaceporn/7s5aafaqkb9a1.jpg   \n4               /data/images/spaceporn/abojw7lqlb9a1.jpg   \n...                                                  ...   \n21741  D:\\data\\images\\celebrities\\937ab8bcc41f3905521...   \n21742  D:\\data\\images\\celebrities\\641520ae16f4aabd494...   \n21743  D:\\data\\images\\celebrities\\85ea0e7a20268adaaef...   \n21744  D:\\data\\images\\celebrities\\296b6a7b159560e2811...   \n21745  D:\\data\\images\\celebrities\\cb445857333490b5777...   \n\n                                          thumbnail_path  exists  curated  \n0      D:\\data\\images\\CityPorn\\thumbnail\\4emw5uldib9a...    True    False  \n1      D:\\data\\images\\AmIhotAF\\thumbnail\\4xyb1vgbjb9a...    True    False  \n2      D:\\data\\images\\greentext\\thumbnail\\3mewbe0wjb9...    True    False  \n3      /data/images/spaceporn/thumbnail/7s5aafaqkb9a1...    True    False  \n4      /data/images/spaceporn/thumbnail/abojw7lqlb9a1...    True    False  \n...                                                  ...     ...      ...  \n21741  D:\\data\\images\\celebrities\\thumbnail\\937ab8bcc...    True    False  \n21742  D:\\data\\images\\celebrities\\thumbnail\\641520ae1...    True    False  \n21743  D:\\data\\images\\celebrities\\thumbnail\\85ea0e7a2...    True    False  \n21744  D:\\data\\images\\celebrities\\thumbnail\\296b6a7b1...    True    False  \n21745  D:\\data\\images\\celebrities\\thumbnail\\cb4458573...    True    False  \n\n[21746 rows x 13 columns]",
      "text/html": "<div>\n<style scoped>\n    .dataframe tbody tr th:only-of-type {\n        vertical-align: middle;\n    }\n\n    .dataframe tbody tr th {\n        vertical-align: top;\n    }\n\n    .dataframe thead th {\n        text-align: right;\n    }\n</style>\n<table border=\"1\" class=\"dataframe\">\n  <thead>\n    <tr style=\"text-align: right;\">\n      <th></th>\n      <th>id</th>\n      <th>subreddit</th>\n      <th>author</th>\n      <th>title</th>\n      <th>caption</th>\n      <th>hash</th>\n      <th>permalink</th>\n      <th>original_url</th>\n      <th>image_name</th>\n      <th>path</th>\n      <th>thumbnail_path</th>\n      <th>exists</th>\n      <th>curated</th>\n    </tr>\n  </thead>\n  <tbody>\n    <tr>\n      <th>0</th>\n      <td>1000cej</td>\n      <td>CityPorn</td>\n      <td>OtterlyFoxy</td>\n      <td>New York in the fog</td>\n      <td>cars are parked on the side of the road in the...</td>\n      <td>7a8d96e378c15c8ab8440ac311f12c11</td>\n      <td>/r/CityPorn/comments/1000cej/new_york_in_the_fog/</td>\n      <td>https://i.redd.it/4emw5uldib9a1.jpg</td>\n      <td>4emw5uldib9a1.jpg</td>\n      <td>D:\\data\\images\\CityPorn\\4emw5uldib9a1.jpg</td>\n      <td>D:\\data\\images\\CityPorn\\thumbnail\\4emw5uldib9a...</td>\n      <td>True</td>\n      <td>False</td>\n    </tr>\n    <tr>\n      <th>1</th>\n      <td>1000glf</td>\n      <td>AmIhotAF</td>\n      <td>toolate_sharkbait</td>\n      <td>Just looking for entertainment</td>\n      <td>blonde woman with blonde hair and tattoos on h...</td>\n      <td>e554c1ed7ffa2740436ac082068b2824</td>\n      <td>/r/AmIhotAF/comments/1000glf/just_looking_for_...</td>\n      <td>https://i.redd.it/4xyb1vgbjb9a1.jpg</td>\n      <td>4xyb1vgbjb9a1.jpg</td>\n      <td>D:\\data\\images\\AmIhotAF\\4xyb1vgbjb9a1.jpg</td>\n      <td>D:\\data\\images\\AmIhotAF\\thumbnail\\4xyb1vgbjb9a...</td>\n      <td>True</td>\n      <td>False</td>\n    </tr>\n    <tr>\n      <th>2</th>\n      <td>1000j1n</td>\n      <td>greentext</td>\n      <td>trent8051</td>\n      <td>Anon wants Elon cut</td>\n      <td>a man with a beard and a beard sitting in fron...</td>\n      <td>1dec3dabb5e46cde01855d06089c287a</td>\n      <td>/r/greentext/comments/1000j1n/anon_wants_elon_...</td>\n      <td>https://i.redd.it/3mewbe0wjb9a1.jpg</td>\n      <td>3mewbe0wjb9a1.jpg</td>\n      <td>D:\\data\\images\\greentext\\3mewbe0wjb9a1.jpg</td>\n      <td>D:\\data\\images\\greentext\\thumbnail\\3mewbe0wjb9...</td>\n      <td>True</td>\n      <td>False</td>\n    </tr>\n    <tr>\n      <th>3</th>\n      <td>1000mjs</td>\n      <td>spaceporn</td>\n      <td>MorningStar_imangi</td>\n      <td>Northern Lights above Lofoten</td>\n      <td>a view of a view of a large green and purple a...</td>\n      <td>2c39ce1290fba541abd0b004b09da6b2</td>\n      <td>/r/spaceporn/comments/1000mjs/northern_lights_...</td>\n      <td>https://i.redd.it/7s5aafaqkb9a1.jpg</td>\n      <td>7s5aafaqkb9a1.jpg</td>\n      <td>/data/images/spaceporn/7s5aafaqkb9a1.jpg</td>\n      <td>/data/images/spaceporn/thumbnail/7s5aafaqkb9a1...</td>\n      <td>True</td>\n      <td>False</td>\n    </tr>\n    <tr>\n      <th>4</th>\n      <td>1000qpd</td>\n      <td>spaceporn</td>\n      <td>MorningStar_imangi</td>\n      <td>Viking Lights</td>\n      <td>a scene of a boat is sitting on the shore of a...</td>\n      <td>0f72de47c69ff50eca5fa3990215f4ac</td>\n      <td>/r/spaceporn/comments/1000qpd/viking_lights/</td>\n      <td>https://i.redd.it/abojw7lqlb9a1.jpg</td>\n      <td>abojw7lqlb9a1.jpg</td>\n      <td>/data/images/spaceporn/abojw7lqlb9a1.jpg</td>\n      <td>/data/images/spaceporn/thumbnail/abojw7lqlb9a1...</td>\n      <td>True</td>\n      <td>False</td>\n    </tr>\n    <tr>\n      <th>...</th>\n      <td>...</td>\n      <td>...</td>\n      <td>...</td>\n      <td>...</td>\n      <td>...</td>\n      <td>...</td>\n      <td>...</td>\n      <td>...</td>\n      <td>...</td>\n      <td>...</td>\n      <td>...</td>\n      <td>...</td>\n      <td>...</td>\n    </tr>\n    <tr>\n      <th>21741</th>\n      <td>11j03l0</td>\n      <td>celebrities</td>\n      <td>Jzk592</td>\n      <td>Gal Gadot</td>\n      <td>arafed image of a woman in a scarf around her ...</td>\n      <td>937ab8bcc41f39055217d64c38a447d9</td>\n      <td>/r/celebrities/comments/11j03l0/gal_gadot/</td>\n      <td>https://i.redd.it/s1ik1llgqve81.jpg</td>\n      <td>937ab8bcc41f39055217d64c38a447d9.jpg</td>\n      <td>D:\\data\\images\\celebrities\\937ab8bcc41f3905521...</td>\n      <td>D:\\data\\images\\celebrities\\thumbnail\\937ab8bcc...</td>\n      <td>True</td>\n      <td>False</td>\n    </tr>\n    <tr>\n      <th>21742</th>\n      <td>11ns444</td>\n      <td>celebrities</td>\n      <td>ConnectionOk8413</td>\n      <td>Amy Adams</td>\n      <td>a woman in a black leather jacket and tie dyes...</td>\n      <td>641520ae16f4aabd494172f80267ebed</td>\n      <td>/r/celebrities/comments/11ns444/amy_adams/</td>\n      <td>https://i.redd.it/niul7blwjxma1.jpg</td>\n      <td>641520ae16f4aabd494172f80267ebed.jpg</td>\n      <td>D:\\data\\images\\celebrities\\641520ae16f4aabd494...</td>\n      <td>D:\\data\\images\\celebrities\\thumbnail\\641520ae1...</td>\n      <td>True</td>\n      <td>False</td>\n    </tr>\n    <tr>\n      <th>21743</th>\n      <td>11nrqmo</td>\n      <td>celebrities</td>\n      <td>Ahenze85</td>\n      <td>Kate Beckinsale</td>\n      <td>arafed image of a woman sitting in a chair wit...</td>\n      <td>85ea0e7a20268adaaefd8cbc31868647</td>\n      <td>/r/celebrities/comments/11nrqmo/kate_beckinsale/</td>\n      <td>https://i.redd.it/qihkgqruyyma1.jpg</td>\n      <td>85ea0e7a20268adaaefd8cbc31868647.jpg</td>\n      <td>D:\\data\\images\\celebrities\\85ea0e7a20268adaaef...</td>\n      <td>D:\\data\\images\\celebrities\\thumbnail\\85ea0e7a2...</td>\n      <td>True</td>\n      <td>False</td>\n    </tr>\n    <tr>\n      <th>21744</th>\n      <td>11nmtns</td>\n      <td>celebrities</td>\n      <td>mikere24</td>\n      <td>Madelaine Petsch</td>\n      <td>a woman in a sheer - lined dress with a sheer ...</td>\n      <td>296b6a7b159560e2811f41a4d659050e</td>\n      <td>/r/celebrities/comments/11nmtns/madelaine_petsch/</td>\n      <td>https://i.redd.it/kifsl6yywxma1.jpg</td>\n      <td>296b6a7b159560e2811f41a4d659050e.jpg</td>\n      <td>D:\\data\\images\\celebrities\\296b6a7b159560e2811...</td>\n      <td>D:\\data\\images\\celebrities\\thumbnail\\296b6a7b1...</td>\n      <td>True</td>\n      <td>False</td>\n    </tr>\n    <tr>\n      <th>21745</th>\n      <td>11nj6je</td>\n      <td>celebrities</td>\n      <td>oponen</td>\n      <td>Rihanna, beautiful as always 😍</td>\n      <td>a woman in a black bra top and panties is posi...</td>\n      <td>cb445857333490b577764c3cd16dcf12</td>\n      <td>/r/celebrities/comments/11nj6je/rihanna_beauti...</td>\n      <td>https://i.redd.it/dftsc2m4xwma1.jpg</td>\n      <td>cb445857333490b577764c3cd16dcf12.jpg</td>\n      <td>D:\\data\\images\\celebrities\\cb445857333490b5777...</td>\n      <td>D:\\data\\images\\celebrities\\thumbnail\\cb4458573...</td>\n      <td>True</td>\n      <td>False</td>\n    </tr>\n  </tbody>\n</table>\n<p>21746 rows × 13 columns</p>\n</div>"
     },
     "metadata": {},
     "output_type": "display_data"
    },
    {
     "name": "stdout",
     "output_type": "stream",
     "text": [
      "CPU times: total: 922 ms\n",
      "Wall time: 2.4 s\n"
     ]
    }
   ],
   "source": [
    "%%time\n",
    "\n",
    "extant_data = pd.read_parquet(\"data/processed_raw_data.parquet\", engine='pyarrow', filesystem=file_system, schema=schema)\n",
    "display(extant_data)"
   ],
   "metadata": {
    "collapsed": false
   }
  },
  {
   "cell_type": "code",
   "execution_count": 4,
   "outputs": [
    {
     "name": "stderr",
     "output_type": "stream",
     "text": [
      "Version 7.6.1 of praw is outdated. Version 7.7.0 was released Saturday February 25, 2023.\n"
     ]
    }
   ],
   "source": [
    "reddit: praw.Reddit = praw.Reddit(client_id='5hVavL0PIRyM_1JSvqT6UQ', client_secret='BjD2kS3WNLnJc59RKY-JJUuc_Z9-JA',\n",
    "\t\t\t\t\t\t\t\t  user_agent='script:%(bot_name)s:v%(bot_version)s (by /u/%(bot_author)s)')\n",
    "\n",
    "api: PushshiftAPI = PushshiftAPI(praw=reddit, num_workers=12)\n",
    "start_date: int = int(datetime.strptime('2022-01-01', '%Y-%m-%d').timestamp())\n",
    "end_date: int = int(datetime.today().strftime('%Y-%m-%d').timestamp())"
   ],
   "metadata": {
    "collapsed": false
   }
  },
  {
   "cell_type": "code",
   "execution_count": 5,
   "outputs": [],
   "source": [
    "def filter_by_image_post(item) -> bool:\n",
    "\treturn not (item['selftext'].__contains__('[removed]') or item['selftext'].__contains__('[deleted]') and not item[\n",
    "\t\t'url'].endswith('.jpg'))"
   ],
   "metadata": {
    "collapsed": false
   }
  },
  {
   "cell_type": "code",
   "execution_count": 6,
   "outputs": [],
   "source": [
    "def fetch_image(x: object) -> object:\n",
    "\ttry:\n",
    "\t\turl = x['original_url']\n",
    "\t\tsubreddit = x['subreddit']\n",
    "\t\tresponse = requests.get(url)\n",
    "\t\tmd5 = hashlib.md5(response.content).hexdigest()\n",
    "\t\tos.makedirs(f\"D:\\\\data\\\\images\\\\{subreddit}\", exist_ok=True)\n",
    "\t\tout_path = f\"D:\\\\data\\\\images\\\\{subreddit}\\\\{md5}.jpg\"\n",
    "\n",
    "\t\tif os.path.exists(out_path):\n",
    "\t\t\treturn out_path\n",
    "\n",
    "\t\tif md5 in list(extant_data['hash']):\n",
    "\t\t\treturn out_path\n",
    "\n",
    "\t\tif md5 != \"f17b01901c752c1bb04928131d1661af\" or md5 != \"d835884373f4d6c8f24742ceabe74946\":\n",
    "\t\t\traw_image = Image.open(BytesIO(response.content))\n",
    "\t\t\traw_image.save(out_path)\n",
    "\t\t\traw_image.close()\n",
    "\t\t\treturn out_path\n",
    "\t\telse:\n",
    "\t\t\treturn \"\"\n",
    "\texcept Exception as e:\n",
    "\t\t# print(e)\n",
    "\t\treturn \"\""
   ],
   "metadata": {
    "collapsed": false
   }
  },
  {
   "cell_type": "code",
   "execution_count": 7,
   "outputs": [],
   "source": [
    "def make_thumbnail(x: object) -> str:\n",
    "\timage_path = x['path']\n",
    "\tmd5 = x['hash']\n",
    "\tsubreddit = x['subreddit']\n",
    "\tos.makedirs(f\"D:\\\\data\\\\images\\\\{subreddit}\\\\thumbnail\", exist_ok=True)\n",
    "\tout_path = f\"D:\\\\data\\\\images\\\\{subreddit}\\\\thumbnail\\\\{md5}.jpg\"\n",
    "\tif not os.path.exists(image_path):\n",
    "\t\treturn \"\"\n",
    "\tif os.path.exists(out_path):\n",
    "\t\treturn out_path\n",
    "\timg = Image.open(image_path)\n",
    "\ttry:\n",
    "\t\tcopied_image = img.copy()\n",
    "\t\tresult_copy = copied_image.resize((512, 512))\n",
    "\t\tresult_copy.save(out_path)\n",
    "\t\tresult_copy.close()\n",
    "\t\timg.close()\n",
    "\t\treturn out_path\n",
    "\texcept Exception as e:\n",
    "\t\t# print(e)\n",
    "\t\treturn \"\"\n",
    "\tfinally:\n",
    "\t\timg.close()"
   ],
   "metadata": {
    "collapsed": false
   }
  },
  {
   "cell_type": "code",
   "execution_count": 8,
   "outputs": [],
   "source": [
    "def exists(x: object) -> bool:\n",
    "\ttry:\n",
    "\t\timage_path = os.path.exists(x['path'])\n",
    "\t\tthumbnail_path = os.path.exists(x['thumbnail_path'])\n",
    "\t\treturn image_path and thumbnail_path\n",
    "\texcept Exception as e:\n",
    "\t\t# print(e)\n",
    "\t\treturn False"
   ],
   "metadata": {
    "collapsed": false
   }
  },
  {
   "cell_type": "code",
   "execution_count": 9,
   "outputs": [],
   "source": [
    "def split_hash(x: object) -> str:\n",
    "\ttry:\n",
    "\t\tname = x['image_name']\n",
    "\t\treturn name.split('.')[0]\n",
    "\texcept Exception as e:\n",
    "\t\t# print(e)\n",
    "\t\treturn \"\""
   ],
   "metadata": {
    "collapsed": false
   }
  },
  {
   "cell_type": "code",
   "execution_count": 10,
   "outputs": [],
   "source": [
    "def caption_image(x: object, blip_captioning: BlipCaption) -> str:\n",
    "\ttry:\n",
    "\t\tpath = x['path']\n",
    "\t\texists_image = bool(x['exists'])\n",
    "\t\tresulting_caption = x['caption']\n",
    "\n",
    "\t\tif not os.path.exists(path):\n",
    "\t\t\treturn \"\"\n",
    "\n",
    "\t\tif not exists_image:\n",
    "\t\t\treturn \"\"\n",
    "\n",
    "\t\tif len(resulting_caption) > 5:\n",
    "\t\t\treturn resulting_caption\n",
    "\n",
    "\t\tresulting_caption = blip_captioning.caption_image(path)\n",
    "\t\treturn resulting_caption\n",
    "\n",
    "\texcept Exception as e:\n",
    "\t\treturn \"\"\n",
    "\tfinally:\n",
    "\t\tpass"
   ],
   "metadata": {
    "collapsed": false
   }
  },
  {
   "cell_type": "code",
   "execution_count": 11,
   "outputs": [],
   "source": [
    "def get_image_name(x: object) -> str:\n",
    "\ttry:\n",
    "\t\tpath = x['path']\n",
    "\t\tif path == \"\":\n",
    "\t\t\treturn \"\"\n",
    "\t\treturn os.path.basename(path)\n",
    "\texcept Exception as e:\n",
    "\t\t# print(e)\n",
    "\t\treturn \"\""
   ],
   "metadata": {
    "collapsed": false
   }
  },
  {
   "cell_type": "code",
   "execution_count": 12,
   "outputs": [
    {
     "name": "stdout",
     "output_type": "stream",
     "text": [
      "CPU times: total: 2.72 s\n",
      "Wall time: 30.1 s\n"
     ]
    }
   ],
   "source": [
    "%%time\n",
    "\n",
    "all_posts = []\n",
    "\n",
    "for item in subs:\n",
    "\tposts = api.search_submissions(search_window=365, subreddit=item, limit=1000, filter_fn=filter_by_image_post, mem_safe=True, cache_dir='D:\\\\cache\\\\')\n",
    "\t[ all_posts.append(post) for post in posts ]"
   ],
   "metadata": {
    "collapsed": false
   }
  },
  {
   "cell_type": "code",
   "execution_count": 13,
   "outputs": [
    {
     "data": {
      "text/plain": "     comment_limit comment_sort  \\\n0             2048   confidence   \n1             2048   confidence   \n2             2048   confidence   \n3             2048   confidence   \n4             2048   confidence   \n..             ...          ...   \n515           2048   confidence   \n516           2048   confidence   \n517           2048   confidence   \n518           2048   confidence   \n519           2048   confidence   \n\n                                               _reddit approved_at_utc  \\\n0    <praw.reddit.Reddit object at 0x000001E80E0F30A0>            None   \n1    <praw.reddit.Reddit object at 0x000001E80E0F30A0>            None   \n2    <praw.reddit.Reddit object at 0x000001E80E0F30A0>            None   \n3    <praw.reddit.Reddit object at 0x000001E80E0F30A0>            None   \n4    <praw.reddit.Reddit object at 0x000001E80E0F30A0>            None   \n..                                                 ...             ...   \n515  <praw.reddit.Reddit object at 0x000001E80E0F30A0>            None   \n516  <praw.reddit.Reddit object at 0x000001E80E0F30A0>            None   \n517  <praw.reddit.Reddit object at 0x000001E80E0F30A0>            None   \n518  <praw.reddit.Reddit object at 0x000001E80E0F30A0>            None   \n519  <praw.reddit.Reddit object at 0x000001E80E0F30A0>            None   \n\n          subreddit selftext author_fullname  saved mod_reason_title  gilded  \\\n0    wallstreetbets              t2_czgquvwj  False             None       0   \n1    wallstreetbets              t2_7swvtua2  False             None       0   \n2    wallstreetbets              t2_h0pgvyzr  False             None       0   \n3    wallstreetbets             t2_5i7a4jyal  False             None       0   \n4    wallstreetbets              t2_2f59r55a  False             None       0   \n..              ...      ...             ...    ...              ...     ...   \n515  wallstreetbets              t2_a2xnhr02  False             None       0   \n516  wallstreetbets                t2_135x51  False             None       0   \n517  wallstreetbets              t2_1n9p9vz7  False             None       0   \n518  wallstreetbets              t2_7d7h6j85  False             None       0   \n519  wallstreetbets              t2_ih1nqnml  False             None       0   \n\n     ...  is_video _fetched _comments_by_id is_gallery  media_metadata  \\\n0    ...     False    False              {}        NaN             NaN   \n1    ...     False    False              {}       True            None   \n2    ...     False    False              {}        NaN             NaN   \n3    ...     False    False              {}        NaN             NaN   \n4    ...     False    False              {}        NaN             NaN   \n..   ...       ...      ...             ...        ...             ...   \n515  ...     False    False              {}        NaN             NaN   \n516  ...     False    False              {}        NaN             NaN   \n517  ...     False    False              {}        NaN             NaN   \n518  ...     False    False              {}        NaN             NaN   \n519  ...     False    False              {}        NaN             NaN   \n\n     gallery_data post_hint  \\\n0             NaN       NaN   \n1            None       NaN   \n2             NaN       NaN   \n3             NaN       NaN   \n4             NaN       NaN   \n..            ...       ...   \n515           NaN       NaN   \n516           NaN     image   \n517           NaN       NaN   \n518           NaN       NaN   \n519           NaN       NaN   \n\n                                               preview  live_audio poll_data  \n0                                                  NaN         NaN       NaN  \n1                                                  NaN         NaN       NaN  \n2                                                  NaN         NaN       NaN  \n3                                                  NaN         NaN       NaN  \n4                                                  NaN         NaN       NaN  \n..                                                 ...         ...       ...  \n515                                                NaN         NaN       NaN  \n516  {'images': [{'source': {'url': 'https://previe...         NaN       NaN  \n517                                                NaN         NaN       NaN  \n518                                                NaN         NaN       NaN  \n519                                                NaN         NaN       NaN  \n\n[520 rows x 120 columns]",
      "text/html": "<div>\n<style scoped>\n    .dataframe tbody tr th:only-of-type {\n        vertical-align: middle;\n    }\n\n    .dataframe tbody tr th {\n        vertical-align: top;\n    }\n\n    .dataframe thead th {\n        text-align: right;\n    }\n</style>\n<table border=\"1\" class=\"dataframe\">\n  <thead>\n    <tr style=\"text-align: right;\">\n      <th></th>\n      <th>comment_limit</th>\n      <th>comment_sort</th>\n      <th>_reddit</th>\n      <th>approved_at_utc</th>\n      <th>subreddit</th>\n      <th>selftext</th>\n      <th>author_fullname</th>\n      <th>saved</th>\n      <th>mod_reason_title</th>\n      <th>gilded</th>\n      <th>...</th>\n      <th>is_video</th>\n      <th>_fetched</th>\n      <th>_comments_by_id</th>\n      <th>is_gallery</th>\n      <th>media_metadata</th>\n      <th>gallery_data</th>\n      <th>post_hint</th>\n      <th>preview</th>\n      <th>live_audio</th>\n      <th>poll_data</th>\n    </tr>\n  </thead>\n  <tbody>\n    <tr>\n      <th>0</th>\n      <td>2048</td>\n      <td>confidence</td>\n      <td>&lt;praw.reddit.Reddit object at 0x000001E80E0F30A0&gt;</td>\n      <td>None</td>\n      <td>wallstreetbets</td>\n      <td></td>\n      <td>t2_czgquvwj</td>\n      <td>False</td>\n      <td>None</td>\n      <td>0</td>\n      <td>...</td>\n      <td>False</td>\n      <td>False</td>\n      <td>{}</td>\n      <td>NaN</td>\n      <td>NaN</td>\n      <td>NaN</td>\n      <td>NaN</td>\n      <td>NaN</td>\n      <td>NaN</td>\n      <td>NaN</td>\n    </tr>\n    <tr>\n      <th>1</th>\n      <td>2048</td>\n      <td>confidence</td>\n      <td>&lt;praw.reddit.Reddit object at 0x000001E80E0F30A0&gt;</td>\n      <td>None</td>\n      <td>wallstreetbets</td>\n      <td></td>\n      <td>t2_7swvtua2</td>\n      <td>False</td>\n      <td>None</td>\n      <td>0</td>\n      <td>...</td>\n      <td>False</td>\n      <td>False</td>\n      <td>{}</td>\n      <td>True</td>\n      <td>None</td>\n      <td>None</td>\n      <td>NaN</td>\n      <td>NaN</td>\n      <td>NaN</td>\n      <td>NaN</td>\n    </tr>\n    <tr>\n      <th>2</th>\n      <td>2048</td>\n      <td>confidence</td>\n      <td>&lt;praw.reddit.Reddit object at 0x000001E80E0F30A0&gt;</td>\n      <td>None</td>\n      <td>wallstreetbets</td>\n      <td></td>\n      <td>t2_h0pgvyzr</td>\n      <td>False</td>\n      <td>None</td>\n      <td>0</td>\n      <td>...</td>\n      <td>False</td>\n      <td>False</td>\n      <td>{}</td>\n      <td>NaN</td>\n      <td>NaN</td>\n      <td>NaN</td>\n      <td>NaN</td>\n      <td>NaN</td>\n      <td>NaN</td>\n      <td>NaN</td>\n    </tr>\n    <tr>\n      <th>3</th>\n      <td>2048</td>\n      <td>confidence</td>\n      <td>&lt;praw.reddit.Reddit object at 0x000001E80E0F30A0&gt;</td>\n      <td>None</td>\n      <td>wallstreetbets</td>\n      <td></td>\n      <td>t2_5i7a4jyal</td>\n      <td>False</td>\n      <td>None</td>\n      <td>0</td>\n      <td>...</td>\n      <td>False</td>\n      <td>False</td>\n      <td>{}</td>\n      <td>NaN</td>\n      <td>NaN</td>\n      <td>NaN</td>\n      <td>NaN</td>\n      <td>NaN</td>\n      <td>NaN</td>\n      <td>NaN</td>\n    </tr>\n    <tr>\n      <th>4</th>\n      <td>2048</td>\n      <td>confidence</td>\n      <td>&lt;praw.reddit.Reddit object at 0x000001E80E0F30A0&gt;</td>\n      <td>None</td>\n      <td>wallstreetbets</td>\n      <td></td>\n      <td>t2_2f59r55a</td>\n      <td>False</td>\n      <td>None</td>\n      <td>0</td>\n      <td>...</td>\n      <td>False</td>\n      <td>False</td>\n      <td>{}</td>\n      <td>NaN</td>\n      <td>NaN</td>\n      <td>NaN</td>\n      <td>NaN</td>\n      <td>NaN</td>\n      <td>NaN</td>\n      <td>NaN</td>\n    </tr>\n    <tr>\n      <th>...</th>\n      <td>...</td>\n      <td>...</td>\n      <td>...</td>\n      <td>...</td>\n      <td>...</td>\n      <td>...</td>\n      <td>...</td>\n      <td>...</td>\n      <td>...</td>\n      <td>...</td>\n      <td>...</td>\n      <td>...</td>\n      <td>...</td>\n      <td>...</td>\n      <td>...</td>\n      <td>...</td>\n      <td>...</td>\n      <td>...</td>\n      <td>...</td>\n      <td>...</td>\n      <td>...</td>\n    </tr>\n    <tr>\n      <th>515</th>\n      <td>2048</td>\n      <td>confidence</td>\n      <td>&lt;praw.reddit.Reddit object at 0x000001E80E0F30A0&gt;</td>\n      <td>None</td>\n      <td>wallstreetbets</td>\n      <td></td>\n      <td>t2_a2xnhr02</td>\n      <td>False</td>\n      <td>None</td>\n      <td>0</td>\n      <td>...</td>\n      <td>False</td>\n      <td>False</td>\n      <td>{}</td>\n      <td>NaN</td>\n      <td>NaN</td>\n      <td>NaN</td>\n      <td>NaN</td>\n      <td>NaN</td>\n      <td>NaN</td>\n      <td>NaN</td>\n    </tr>\n    <tr>\n      <th>516</th>\n      <td>2048</td>\n      <td>confidence</td>\n      <td>&lt;praw.reddit.Reddit object at 0x000001E80E0F30A0&gt;</td>\n      <td>None</td>\n      <td>wallstreetbets</td>\n      <td></td>\n      <td>t2_135x51</td>\n      <td>False</td>\n      <td>None</td>\n      <td>0</td>\n      <td>...</td>\n      <td>False</td>\n      <td>False</td>\n      <td>{}</td>\n      <td>NaN</td>\n      <td>NaN</td>\n      <td>NaN</td>\n      <td>image</td>\n      <td>{'images': [{'source': {'url': 'https://previe...</td>\n      <td>NaN</td>\n      <td>NaN</td>\n    </tr>\n    <tr>\n      <th>517</th>\n      <td>2048</td>\n      <td>confidence</td>\n      <td>&lt;praw.reddit.Reddit object at 0x000001E80E0F30A0&gt;</td>\n      <td>None</td>\n      <td>wallstreetbets</td>\n      <td></td>\n      <td>t2_1n9p9vz7</td>\n      <td>False</td>\n      <td>None</td>\n      <td>0</td>\n      <td>...</td>\n      <td>False</td>\n      <td>False</td>\n      <td>{}</td>\n      <td>NaN</td>\n      <td>NaN</td>\n      <td>NaN</td>\n      <td>NaN</td>\n      <td>NaN</td>\n      <td>NaN</td>\n      <td>NaN</td>\n    </tr>\n    <tr>\n      <th>518</th>\n      <td>2048</td>\n      <td>confidence</td>\n      <td>&lt;praw.reddit.Reddit object at 0x000001E80E0F30A0&gt;</td>\n      <td>None</td>\n      <td>wallstreetbets</td>\n      <td></td>\n      <td>t2_7d7h6j85</td>\n      <td>False</td>\n      <td>None</td>\n      <td>0</td>\n      <td>...</td>\n      <td>False</td>\n      <td>False</td>\n      <td>{}</td>\n      <td>NaN</td>\n      <td>NaN</td>\n      <td>NaN</td>\n      <td>NaN</td>\n      <td>NaN</td>\n      <td>NaN</td>\n      <td>NaN</td>\n    </tr>\n    <tr>\n      <th>519</th>\n      <td>2048</td>\n      <td>confidence</td>\n      <td>&lt;praw.reddit.Reddit object at 0x000001E80E0F30A0&gt;</td>\n      <td>None</td>\n      <td>wallstreetbets</td>\n      <td></td>\n      <td>t2_ih1nqnml</td>\n      <td>False</td>\n      <td>None</td>\n      <td>0</td>\n      <td>...</td>\n      <td>False</td>\n      <td>False</td>\n      <td>{}</td>\n      <td>NaN</td>\n      <td>NaN</td>\n      <td>NaN</td>\n      <td>NaN</td>\n      <td>NaN</td>\n      <td>NaN</td>\n      <td>NaN</td>\n    </tr>\n  </tbody>\n</table>\n<p>520 rows × 120 columns</p>\n</div>"
     },
     "metadata": {},
     "output_type": "display_data"
    },
    {
     "name": "stdout",
     "output_type": "stream",
     "text": [
      "CPU times: total: 125 ms\n",
      "Wall time: 133 ms\n"
     ]
    }
   ],
   "source": [
    "%%time\n",
    "\n",
    "df = pd.DataFrame([item for item in all_posts])\n",
    "display(df)"
   ],
   "metadata": {
    "collapsed": false
   }
  },
  {
   "cell_type": "code",
   "execution_count": 14,
   "outputs": [
    {
     "data": {
      "text/plain": "          id       subreddit           author  \\\n0    1165ays  wallstreetbets           n618ft   \n1    1162tt3  wallstreetbets        backtosky   \n2    1161lt4  wallstreetbets    Sirachacopter   \n3    1161k6p  wallstreetbets    Sirachacopter   \n4    1160kjj  wallstreetbets    SharkSapphire   \n..       ...             ...              ...   \n200  10365m3  wallstreetbets      ToiletHandl   \n201  1036071  wallstreetbets  Bethanysteele72   \n202  1035vqc  wallstreetbets     kevinyyh2020   \n203  1035nhr  wallstreetbets    ElNinoDelGato   \n204  1035ij0  wallstreetbets          GhostRz   \n\n                                                 title caption hash  \\\n0    What banks and other assets will be picked off...                \n1                                 The struggle is real                \n2                  Apes everywhere - Carrizo gorge, CA                \n3    Carrizo Gorge, CA - Ok, which one of you apes ...                \n4                                 $TSLA Cybertruck 2.0                \n..                                                 ...     ...  ...   \n200  I sold at 32% gain, but it’s still going up.. ...                \n201                                            Bite me                \n202              SPY PUTS GAIN. 100k achieved finally.                \n203                      Going short on the SPY again.                \n204  Thanks to SPY and Tesla, I’ve been able to rec...                \n\n                                             permalink  \\\n0    /r/wallstreetbets/comments/1165ays/what_banks_...   \n1    /r/wallstreetbets/comments/1162tt3/the_struggl...   \n2    /r/wallstreetbets/comments/1161lt4/apes_everyw...   \n3    /r/wallstreetbets/comments/1161k6p/carrizo_gor...   \n4    /r/wallstreetbets/comments/1160kjj/tsla_cybert...   \n..                                                 ...   \n200  /r/wallstreetbets/comments/10365m3/i_sold_at_3...   \n201        /r/wallstreetbets/comments/1036071/bite_me/   \n202  /r/wallstreetbets/comments/1035vqc/spy_puts_ga...   \n203  /r/wallstreetbets/comments/1035nhr/going_short...   \n204  /r/wallstreetbets/comments/1035ij0/thanks_to_s...   \n\n                            original_url image_name path thumbnail_path  \\\n0    https://i.redd.it/y5owo797c5ja1.jpg                                  \n1    https://i.redd.it/v4u2azo8k4ja1.jpg                                  \n2        https://i.imgur.com/5MGcjws.jpg                                  \n3        https://i.imgur.com/dZ03inb.jpg                                  \n4    https://i.redd.it/6mf7m5qmx3ja1.jpg                                  \n..                                   ...        ...  ...            ...   \n200  https://i.redd.it/bv84lwzv43aa1.jpg                                  \n201  https://i.redd.it/vybemlat33aa1.jpg                                  \n202  https://i.redd.it/9ctzlozv23aa1.jpg                                  \n203  https://i.redd.it/rojt96f713aa1.jpg                                  \n204  https://i.redd.it/7fa4c8s303aa1.jpg                                  \n\n    exists curated  \n0    False   False  \n1    False   False  \n2    False   False  \n3    False   False  \n4    False   False  \n..     ...     ...  \n200  False   False  \n201  False   False  \n202  False   False  \n203  False   False  \n204  False   False  \n\n[205 rows x 13 columns]",
      "text/html": "<div>\n<style scoped>\n    .dataframe tbody tr th:only-of-type {\n        vertical-align: middle;\n    }\n\n    .dataframe tbody tr th {\n        vertical-align: top;\n    }\n\n    .dataframe thead th {\n        text-align: right;\n    }\n</style>\n<table border=\"1\" class=\"dataframe\">\n  <thead>\n    <tr style=\"text-align: right;\">\n      <th></th>\n      <th>id</th>\n      <th>subreddit</th>\n      <th>author</th>\n      <th>title</th>\n      <th>caption</th>\n      <th>hash</th>\n      <th>permalink</th>\n      <th>original_url</th>\n      <th>image_name</th>\n      <th>path</th>\n      <th>thumbnail_path</th>\n      <th>exists</th>\n      <th>curated</th>\n    </tr>\n  </thead>\n  <tbody>\n    <tr>\n      <th>0</th>\n      <td>1165ays</td>\n      <td>wallstreetbets</td>\n      <td>n618ft</td>\n      <td>What banks and other assets will be picked off...</td>\n      <td></td>\n      <td></td>\n      <td>/r/wallstreetbets/comments/1165ays/what_banks_...</td>\n      <td>https://i.redd.it/y5owo797c5ja1.jpg</td>\n      <td></td>\n      <td></td>\n      <td></td>\n      <td>False</td>\n      <td>False</td>\n    </tr>\n    <tr>\n      <th>1</th>\n      <td>1162tt3</td>\n      <td>wallstreetbets</td>\n      <td>backtosky</td>\n      <td>The struggle is real</td>\n      <td></td>\n      <td></td>\n      <td>/r/wallstreetbets/comments/1162tt3/the_struggl...</td>\n      <td>https://i.redd.it/v4u2azo8k4ja1.jpg</td>\n      <td></td>\n      <td></td>\n      <td></td>\n      <td>False</td>\n      <td>False</td>\n    </tr>\n    <tr>\n      <th>2</th>\n      <td>1161lt4</td>\n      <td>wallstreetbets</td>\n      <td>Sirachacopter</td>\n      <td>Apes everywhere - Carrizo gorge, CA</td>\n      <td></td>\n      <td></td>\n      <td>/r/wallstreetbets/comments/1161lt4/apes_everyw...</td>\n      <td>https://i.imgur.com/5MGcjws.jpg</td>\n      <td></td>\n      <td></td>\n      <td></td>\n      <td>False</td>\n      <td>False</td>\n    </tr>\n    <tr>\n      <th>3</th>\n      <td>1161k6p</td>\n      <td>wallstreetbets</td>\n      <td>Sirachacopter</td>\n      <td>Carrizo Gorge, CA - Ok, which one of you apes ...</td>\n      <td></td>\n      <td></td>\n      <td>/r/wallstreetbets/comments/1161k6p/carrizo_gor...</td>\n      <td>https://i.imgur.com/dZ03inb.jpg</td>\n      <td></td>\n      <td></td>\n      <td></td>\n      <td>False</td>\n      <td>False</td>\n    </tr>\n    <tr>\n      <th>4</th>\n      <td>1160kjj</td>\n      <td>wallstreetbets</td>\n      <td>SharkSapphire</td>\n      <td>$TSLA Cybertruck 2.0</td>\n      <td></td>\n      <td></td>\n      <td>/r/wallstreetbets/comments/1160kjj/tsla_cybert...</td>\n      <td>https://i.redd.it/6mf7m5qmx3ja1.jpg</td>\n      <td></td>\n      <td></td>\n      <td></td>\n      <td>False</td>\n      <td>False</td>\n    </tr>\n    <tr>\n      <th>...</th>\n      <td>...</td>\n      <td>...</td>\n      <td>...</td>\n      <td>...</td>\n      <td>...</td>\n      <td>...</td>\n      <td>...</td>\n      <td>...</td>\n      <td>...</td>\n      <td>...</td>\n      <td>...</td>\n      <td>...</td>\n      <td>...</td>\n    </tr>\n    <tr>\n      <th>200</th>\n      <td>10365m3</td>\n      <td>wallstreetbets</td>\n      <td>ToiletHandl</td>\n      <td>I sold at 32% gain, but it’s still going up.. ...</td>\n      <td></td>\n      <td></td>\n      <td>/r/wallstreetbets/comments/10365m3/i_sold_at_3...</td>\n      <td>https://i.redd.it/bv84lwzv43aa1.jpg</td>\n      <td></td>\n      <td></td>\n      <td></td>\n      <td>False</td>\n      <td>False</td>\n    </tr>\n    <tr>\n      <th>201</th>\n      <td>1036071</td>\n      <td>wallstreetbets</td>\n      <td>Bethanysteele72</td>\n      <td>Bite me</td>\n      <td></td>\n      <td></td>\n      <td>/r/wallstreetbets/comments/1036071/bite_me/</td>\n      <td>https://i.redd.it/vybemlat33aa1.jpg</td>\n      <td></td>\n      <td></td>\n      <td></td>\n      <td>False</td>\n      <td>False</td>\n    </tr>\n    <tr>\n      <th>202</th>\n      <td>1035vqc</td>\n      <td>wallstreetbets</td>\n      <td>kevinyyh2020</td>\n      <td>SPY PUTS GAIN. 100k achieved finally.</td>\n      <td></td>\n      <td></td>\n      <td>/r/wallstreetbets/comments/1035vqc/spy_puts_ga...</td>\n      <td>https://i.redd.it/9ctzlozv23aa1.jpg</td>\n      <td></td>\n      <td></td>\n      <td></td>\n      <td>False</td>\n      <td>False</td>\n    </tr>\n    <tr>\n      <th>203</th>\n      <td>1035nhr</td>\n      <td>wallstreetbets</td>\n      <td>ElNinoDelGato</td>\n      <td>Going short on the SPY again.</td>\n      <td></td>\n      <td></td>\n      <td>/r/wallstreetbets/comments/1035nhr/going_short...</td>\n      <td>https://i.redd.it/rojt96f713aa1.jpg</td>\n      <td></td>\n      <td></td>\n      <td></td>\n      <td>False</td>\n      <td>False</td>\n    </tr>\n    <tr>\n      <th>204</th>\n      <td>1035ij0</td>\n      <td>wallstreetbets</td>\n      <td>GhostRz</td>\n      <td>Thanks to SPY and Tesla, I’ve been able to rec...</td>\n      <td></td>\n      <td></td>\n      <td>/r/wallstreetbets/comments/1035ij0/thanks_to_s...</td>\n      <td>https://i.redd.it/7fa4c8s303aa1.jpg</td>\n      <td></td>\n      <td></td>\n      <td></td>\n      <td>False</td>\n      <td>False</td>\n    </tr>\n  </tbody>\n</table>\n<p>205 rows × 13 columns</p>\n</div>"
     },
     "metadata": {},
     "output_type": "display_data"
    },
    {
     "name": "stdout",
     "output_type": "stream",
     "text": [
      "CPU times: total: 78.1 ms\n",
      "Wall time: 86.7 ms\n"
     ]
    }
   ],
   "source": [
    "%%time\n",
    "\n",
    "initial = pd.DataFrame({}, columns=schema.names)\n",
    "initial['id'] = df['id']\n",
    "initial['subreddit'] = df['subreddit']\n",
    "initial['author'] = df['author']\n",
    "initial['title'] = df['title']\n",
    "initial['caption'] = \"\"\n",
    "initial['hash'] = \"\"\n",
    "initial['permalink'] = df['permalink']\n",
    "initial['original_url'] = df['url']\n",
    "initial['image_name'] = \"\"\n",
    "initial['path'] = \"\"\n",
    "initial['thumbnail_path'] = \"\"\n",
    "initial['exists'] = False\n",
    "initial['curated'] = False\n",
    "\n",
    "filtered_initial = initial.where(initial['original_url'].str.endswith('.jpg')).dropna(how='all').reset_index().drop('index', axis=1)\n",
    "\n",
    "display(filtered_initial)"
   ],
   "metadata": {
    "collapsed": false
   }
  },
  {
   "cell_type": "code",
   "execution_count": 15,
   "outputs": [
    {
     "data": {
      "text/plain": "          id       subreddit           author  \\\n0    1165ays  wallstreetbets           n618ft   \n1    1162tt3  wallstreetbets        backtosky   \n2    1161lt4  wallstreetbets    Sirachacopter   \n3    1161k6p  wallstreetbets    Sirachacopter   \n4    1160kjj  wallstreetbets    SharkSapphire   \n..       ...             ...              ...   \n200  10365m3  wallstreetbets      ToiletHandl   \n201  1036071  wallstreetbets  Bethanysteele72   \n202  1035vqc  wallstreetbets     kevinyyh2020   \n203  1035nhr  wallstreetbets    ElNinoDelGato   \n204  1035ij0  wallstreetbets          GhostRz   \n\n                                                 title caption hash  \\\n0    What banks and other assets will be picked off...                \n1                                 The struggle is real                \n2                  Apes everywhere - Carrizo gorge, CA                \n3    Carrizo Gorge, CA - Ok, which one of you apes ...                \n4                                 $TSLA Cybertruck 2.0                \n..                                                 ...     ...  ...   \n200  I sold at 32% gain, but it’s still going up.. ...                \n201                                            Bite me                \n202              SPY PUTS GAIN. 100k achieved finally.                \n203                      Going short on the SPY again.                \n204  Thanks to SPY and Tesla, I’ve been able to rec...                \n\n                                             permalink  \\\n0    /r/wallstreetbets/comments/1165ays/what_banks_...   \n1    /r/wallstreetbets/comments/1162tt3/the_struggl...   \n2    /r/wallstreetbets/comments/1161lt4/apes_everyw...   \n3    /r/wallstreetbets/comments/1161k6p/carrizo_gor...   \n4    /r/wallstreetbets/comments/1160kjj/tsla_cybert...   \n..                                                 ...   \n200  /r/wallstreetbets/comments/10365m3/i_sold_at_3...   \n201        /r/wallstreetbets/comments/1036071/bite_me/   \n202  /r/wallstreetbets/comments/1035vqc/spy_puts_ga...   \n203  /r/wallstreetbets/comments/1035nhr/going_short...   \n204  /r/wallstreetbets/comments/1035ij0/thanks_to_s...   \n\n                            original_url image_name path thumbnail_path  \\\n0    https://i.redd.it/y5owo797c5ja1.jpg                                  \n1    https://i.redd.it/v4u2azo8k4ja1.jpg                                  \n2        https://i.imgur.com/5MGcjws.jpg                                  \n3        https://i.imgur.com/dZ03inb.jpg                                  \n4    https://i.redd.it/6mf7m5qmx3ja1.jpg                                  \n..                                   ...        ...  ...            ...   \n200  https://i.redd.it/bv84lwzv43aa1.jpg                                  \n201  https://i.redd.it/vybemlat33aa1.jpg                                  \n202  https://i.redd.it/9ctzlozv23aa1.jpg                                  \n203  https://i.redd.it/rojt96f713aa1.jpg                                  \n204  https://i.redd.it/7fa4c8s303aa1.jpg                                  \n\n    exists curated  \n0    False   False  \n1    False   False  \n2    False   False  \n3    False   False  \n4    False   False  \n..     ...     ...  \n200  False   False  \n201  False   False  \n202  False   False  \n203  False   False  \n204  False   False  \n\n[205 rows x 13 columns]",
      "text/html": "<div>\n<style scoped>\n    .dataframe tbody tr th:only-of-type {\n        vertical-align: middle;\n    }\n\n    .dataframe tbody tr th {\n        vertical-align: top;\n    }\n\n    .dataframe thead th {\n        text-align: right;\n    }\n</style>\n<table border=\"1\" class=\"dataframe\">\n  <thead>\n    <tr style=\"text-align: right;\">\n      <th></th>\n      <th>id</th>\n      <th>subreddit</th>\n      <th>author</th>\n      <th>title</th>\n      <th>caption</th>\n      <th>hash</th>\n      <th>permalink</th>\n      <th>original_url</th>\n      <th>image_name</th>\n      <th>path</th>\n      <th>thumbnail_path</th>\n      <th>exists</th>\n      <th>curated</th>\n    </tr>\n  </thead>\n  <tbody>\n    <tr>\n      <th>0</th>\n      <td>1165ays</td>\n      <td>wallstreetbets</td>\n      <td>n618ft</td>\n      <td>What banks and other assets will be picked off...</td>\n      <td></td>\n      <td></td>\n      <td>/r/wallstreetbets/comments/1165ays/what_banks_...</td>\n      <td>https://i.redd.it/y5owo797c5ja1.jpg</td>\n      <td></td>\n      <td></td>\n      <td></td>\n      <td>False</td>\n      <td>False</td>\n    </tr>\n    <tr>\n      <th>1</th>\n      <td>1162tt3</td>\n      <td>wallstreetbets</td>\n      <td>backtosky</td>\n      <td>The struggle is real</td>\n      <td></td>\n      <td></td>\n      <td>/r/wallstreetbets/comments/1162tt3/the_struggl...</td>\n      <td>https://i.redd.it/v4u2azo8k4ja1.jpg</td>\n      <td></td>\n      <td></td>\n      <td></td>\n      <td>False</td>\n      <td>False</td>\n    </tr>\n    <tr>\n      <th>2</th>\n      <td>1161lt4</td>\n      <td>wallstreetbets</td>\n      <td>Sirachacopter</td>\n      <td>Apes everywhere - Carrizo gorge, CA</td>\n      <td></td>\n      <td></td>\n      <td>/r/wallstreetbets/comments/1161lt4/apes_everyw...</td>\n      <td>https://i.imgur.com/5MGcjws.jpg</td>\n      <td></td>\n      <td></td>\n      <td></td>\n      <td>False</td>\n      <td>False</td>\n    </tr>\n    <tr>\n      <th>3</th>\n      <td>1161k6p</td>\n      <td>wallstreetbets</td>\n      <td>Sirachacopter</td>\n      <td>Carrizo Gorge, CA - Ok, which one of you apes ...</td>\n      <td></td>\n      <td></td>\n      <td>/r/wallstreetbets/comments/1161k6p/carrizo_gor...</td>\n      <td>https://i.imgur.com/dZ03inb.jpg</td>\n      <td></td>\n      <td></td>\n      <td></td>\n      <td>False</td>\n      <td>False</td>\n    </tr>\n    <tr>\n      <th>4</th>\n      <td>1160kjj</td>\n      <td>wallstreetbets</td>\n      <td>SharkSapphire</td>\n      <td>$TSLA Cybertruck 2.0</td>\n      <td></td>\n      <td></td>\n      <td>/r/wallstreetbets/comments/1160kjj/tsla_cybert...</td>\n      <td>https://i.redd.it/6mf7m5qmx3ja1.jpg</td>\n      <td></td>\n      <td></td>\n      <td></td>\n      <td>False</td>\n      <td>False</td>\n    </tr>\n    <tr>\n      <th>...</th>\n      <td>...</td>\n      <td>...</td>\n      <td>...</td>\n      <td>...</td>\n      <td>...</td>\n      <td>...</td>\n      <td>...</td>\n      <td>...</td>\n      <td>...</td>\n      <td>...</td>\n      <td>...</td>\n      <td>...</td>\n      <td>...</td>\n    </tr>\n    <tr>\n      <th>200</th>\n      <td>10365m3</td>\n      <td>wallstreetbets</td>\n      <td>ToiletHandl</td>\n      <td>I sold at 32% gain, but it’s still going up.. ...</td>\n      <td></td>\n      <td></td>\n      <td>/r/wallstreetbets/comments/10365m3/i_sold_at_3...</td>\n      <td>https://i.redd.it/bv84lwzv43aa1.jpg</td>\n      <td></td>\n      <td></td>\n      <td></td>\n      <td>False</td>\n      <td>False</td>\n    </tr>\n    <tr>\n      <th>201</th>\n      <td>1036071</td>\n      <td>wallstreetbets</td>\n      <td>Bethanysteele72</td>\n      <td>Bite me</td>\n      <td></td>\n      <td></td>\n      <td>/r/wallstreetbets/comments/1036071/bite_me/</td>\n      <td>https://i.redd.it/vybemlat33aa1.jpg</td>\n      <td></td>\n      <td></td>\n      <td></td>\n      <td>False</td>\n      <td>False</td>\n    </tr>\n    <tr>\n      <th>202</th>\n      <td>1035vqc</td>\n      <td>wallstreetbets</td>\n      <td>kevinyyh2020</td>\n      <td>SPY PUTS GAIN. 100k achieved finally.</td>\n      <td></td>\n      <td></td>\n      <td>/r/wallstreetbets/comments/1035vqc/spy_puts_ga...</td>\n      <td>https://i.redd.it/9ctzlozv23aa1.jpg</td>\n      <td></td>\n      <td></td>\n      <td></td>\n      <td>False</td>\n      <td>False</td>\n    </tr>\n    <tr>\n      <th>203</th>\n      <td>1035nhr</td>\n      <td>wallstreetbets</td>\n      <td>ElNinoDelGato</td>\n      <td>Going short on the SPY again.</td>\n      <td></td>\n      <td></td>\n      <td>/r/wallstreetbets/comments/1035nhr/going_short...</td>\n      <td>https://i.redd.it/rojt96f713aa1.jpg</td>\n      <td></td>\n      <td></td>\n      <td></td>\n      <td>False</td>\n      <td>False</td>\n    </tr>\n    <tr>\n      <th>204</th>\n      <td>1035ij0</td>\n      <td>wallstreetbets</td>\n      <td>GhostRz</td>\n      <td>Thanks to SPY and Tesla, I’ve been able to rec...</td>\n      <td></td>\n      <td></td>\n      <td>/r/wallstreetbets/comments/1035ij0/thanks_to_s...</td>\n      <td>https://i.redd.it/7fa4c8s303aa1.jpg</td>\n      <td></td>\n      <td></td>\n      <td></td>\n      <td>False</td>\n      <td>False</td>\n    </tr>\n  </tbody>\n</table>\n<p>205 rows × 13 columns</p>\n</div>"
     },
     "metadata": {},
     "output_type": "display_data"
    },
    {
     "name": "stdout",
     "output_type": "stream",
     "text": [
      "CPU times: total: 46.9 ms\n",
      "Wall time: 46.9 ms\n"
     ]
    }
   ],
   "source": [
    "%%time\n",
    "\n",
    "new_entries = filtered_initial.where(~filtered_initial['id'].isin(extant_data['id'])).dropna(how='all').reset_index().drop('index', axis=1)\n",
    "\n",
    "display(new_entries)"
   ],
   "metadata": {
    "collapsed": false
   }
  },
  {
   "cell_type": "code",
   "execution_count": 16,
   "outputs": [
    {
     "name": "stderr",
     "output_type": "stream",
     "text": [
      "Fetch-Image: 100%|██████████| 205/205 [01:08<00:00,  2.98it/s]\n",
      "Get-Image-Name: 100%|██████████| 205/205 [00:00<00:00, 13118.40it/s]\n",
      "Split-Hash: 100%|██████████| 205/205 [00:00<00:00, 6560.15it/s]\n"
     ]
    },
    {
     "data": {
      "text/plain": "          id       subreddit           author  \\\n0    1165ays  wallstreetbets           n618ft   \n1    1162tt3  wallstreetbets        backtosky   \n2    1161lt4  wallstreetbets    Sirachacopter   \n3    1161k6p  wallstreetbets    Sirachacopter   \n4    1160kjj  wallstreetbets    SharkSapphire   \n..       ...             ...              ...   \n200  10365m3  wallstreetbets      ToiletHandl   \n201  1036071  wallstreetbets  Bethanysteele72   \n202  1035vqc  wallstreetbets     kevinyyh2020   \n203  1035nhr  wallstreetbets    ElNinoDelGato   \n204  1035ij0  wallstreetbets          GhostRz   \n\n                                                 title caption  \\\n0    What banks and other assets will be picked off...           \n1                                 The struggle is real           \n2                  Apes everywhere - Carrizo gorge, CA           \n3    Carrizo Gorge, CA - Ok, which one of you apes ...           \n4                                 $TSLA Cybertruck 2.0           \n..                                                 ...     ...   \n200  I sold at 32% gain, but it’s still going up.. ...           \n201                                            Bite me           \n202              SPY PUTS GAIN. 100k achieved finally.           \n203                      Going short on the SPY again.           \n204  Thanks to SPY and Tesla, I’ve been able to rec...           \n\n                                 hash  \\\n0    772ccdf2d1730340471ff107b0f14c40   \n1    f7ca83705918c420f9d544af776d6c1e   \n2    6889e2316257e41c60186c4f5edfa3e1   \n3    6889e2316257e41c60186c4f5edfa3e1   \n4    fd2fdbf24ccb6f22068e139a7082b87a   \n..                                ...   \n200  4cd75ac12563baded80ac7a79152ae1e   \n201  39a441be43bebb6c64301069c71c2e84   \n202  a50173fd92b92f08d1f96b6cf921788f   \n203  9edbc56e99449ad01b07e632396d18c3   \n204  b7a3e3e05e17c54345d4e9f96e512814   \n\n                                             permalink  \\\n0    /r/wallstreetbets/comments/1165ays/what_banks_...   \n1    /r/wallstreetbets/comments/1162tt3/the_struggl...   \n2    /r/wallstreetbets/comments/1161lt4/apes_everyw...   \n3    /r/wallstreetbets/comments/1161k6p/carrizo_gor...   \n4    /r/wallstreetbets/comments/1160kjj/tsla_cybert...   \n..                                                 ...   \n200  /r/wallstreetbets/comments/10365m3/i_sold_at_3...   \n201        /r/wallstreetbets/comments/1036071/bite_me/   \n202  /r/wallstreetbets/comments/1035vqc/spy_puts_ga...   \n203  /r/wallstreetbets/comments/1035nhr/going_short...   \n204  /r/wallstreetbets/comments/1035ij0/thanks_to_s...   \n\n                            original_url  \\\n0    https://i.redd.it/y5owo797c5ja1.jpg   \n1    https://i.redd.it/v4u2azo8k4ja1.jpg   \n2        https://i.imgur.com/5MGcjws.jpg   \n3        https://i.imgur.com/dZ03inb.jpg   \n4    https://i.redd.it/6mf7m5qmx3ja1.jpg   \n..                                   ...   \n200  https://i.redd.it/bv84lwzv43aa1.jpg   \n201  https://i.redd.it/vybemlat33aa1.jpg   \n202  https://i.redd.it/9ctzlozv23aa1.jpg   \n203  https://i.redd.it/rojt96f713aa1.jpg   \n204  https://i.redd.it/7fa4c8s303aa1.jpg   \n\n                               image_name  \\\n0    772ccdf2d1730340471ff107b0f14c40.jpg   \n1    f7ca83705918c420f9d544af776d6c1e.jpg   \n2    6889e2316257e41c60186c4f5edfa3e1.jpg   \n3    6889e2316257e41c60186c4f5edfa3e1.jpg   \n4    fd2fdbf24ccb6f22068e139a7082b87a.jpg   \n..                                    ...   \n200  4cd75ac12563baded80ac7a79152ae1e.jpg   \n201  39a441be43bebb6c64301069c71c2e84.jpg   \n202  a50173fd92b92f08d1f96b6cf921788f.jpg   \n203  9edbc56e99449ad01b07e632396d18c3.jpg   \n204  b7a3e3e05e17c54345d4e9f96e512814.jpg   \n\n                                                  path thumbnail_path exists  \\\n0    D:\\data\\images\\wallstreetbets\\772ccdf2d1730340...                 False   \n1    D:\\data\\images\\wallstreetbets\\f7ca83705918c420...                 False   \n2    D:\\data\\images\\wallstreetbets\\6889e2316257e41c...                 False   \n3    D:\\data\\images\\wallstreetbets\\6889e2316257e41c...                 False   \n4    D:\\data\\images\\wallstreetbets\\fd2fdbf24ccb6f22...                 False   \n..                                                 ...            ...    ...   \n200  D:\\data\\images\\wallstreetbets\\4cd75ac12563bade...                 False   \n201  D:\\data\\images\\wallstreetbets\\39a441be43bebb6c...                 False   \n202  D:\\data\\images\\wallstreetbets\\a50173fd92b92f08...                 False   \n203  D:\\data\\images\\wallstreetbets\\9edbc56e99449ad0...                 False   \n204  D:\\data\\images\\wallstreetbets\\b7a3e3e05e17c543...                 False   \n\n    curated  \n0     False  \n1     False  \n2     False  \n3     False  \n4     False  \n..      ...  \n200   False  \n201   False  \n202   False  \n203   False  \n204   False  \n\n[205 rows x 13 columns]",
      "text/html": "<div>\n<style scoped>\n    .dataframe tbody tr th:only-of-type {\n        vertical-align: middle;\n    }\n\n    .dataframe tbody tr th {\n        vertical-align: top;\n    }\n\n    .dataframe thead th {\n        text-align: right;\n    }\n</style>\n<table border=\"1\" class=\"dataframe\">\n  <thead>\n    <tr style=\"text-align: right;\">\n      <th></th>\n      <th>id</th>\n      <th>subreddit</th>\n      <th>author</th>\n      <th>title</th>\n      <th>caption</th>\n      <th>hash</th>\n      <th>permalink</th>\n      <th>original_url</th>\n      <th>image_name</th>\n      <th>path</th>\n      <th>thumbnail_path</th>\n      <th>exists</th>\n      <th>curated</th>\n    </tr>\n  </thead>\n  <tbody>\n    <tr>\n      <th>0</th>\n      <td>1165ays</td>\n      <td>wallstreetbets</td>\n      <td>n618ft</td>\n      <td>What banks and other assets will be picked off...</td>\n      <td></td>\n      <td>772ccdf2d1730340471ff107b0f14c40</td>\n      <td>/r/wallstreetbets/comments/1165ays/what_banks_...</td>\n      <td>https://i.redd.it/y5owo797c5ja1.jpg</td>\n      <td>772ccdf2d1730340471ff107b0f14c40.jpg</td>\n      <td>D:\\data\\images\\wallstreetbets\\772ccdf2d1730340...</td>\n      <td></td>\n      <td>False</td>\n      <td>False</td>\n    </tr>\n    <tr>\n      <th>1</th>\n      <td>1162tt3</td>\n      <td>wallstreetbets</td>\n      <td>backtosky</td>\n      <td>The struggle is real</td>\n      <td></td>\n      <td>f7ca83705918c420f9d544af776d6c1e</td>\n      <td>/r/wallstreetbets/comments/1162tt3/the_struggl...</td>\n      <td>https://i.redd.it/v4u2azo8k4ja1.jpg</td>\n      <td>f7ca83705918c420f9d544af776d6c1e.jpg</td>\n      <td>D:\\data\\images\\wallstreetbets\\f7ca83705918c420...</td>\n      <td></td>\n      <td>False</td>\n      <td>False</td>\n    </tr>\n    <tr>\n      <th>2</th>\n      <td>1161lt4</td>\n      <td>wallstreetbets</td>\n      <td>Sirachacopter</td>\n      <td>Apes everywhere - Carrizo gorge, CA</td>\n      <td></td>\n      <td>6889e2316257e41c60186c4f5edfa3e1</td>\n      <td>/r/wallstreetbets/comments/1161lt4/apes_everyw...</td>\n      <td>https://i.imgur.com/5MGcjws.jpg</td>\n      <td>6889e2316257e41c60186c4f5edfa3e1.jpg</td>\n      <td>D:\\data\\images\\wallstreetbets\\6889e2316257e41c...</td>\n      <td></td>\n      <td>False</td>\n      <td>False</td>\n    </tr>\n    <tr>\n      <th>3</th>\n      <td>1161k6p</td>\n      <td>wallstreetbets</td>\n      <td>Sirachacopter</td>\n      <td>Carrizo Gorge, CA - Ok, which one of you apes ...</td>\n      <td></td>\n      <td>6889e2316257e41c60186c4f5edfa3e1</td>\n      <td>/r/wallstreetbets/comments/1161k6p/carrizo_gor...</td>\n      <td>https://i.imgur.com/dZ03inb.jpg</td>\n      <td>6889e2316257e41c60186c4f5edfa3e1.jpg</td>\n      <td>D:\\data\\images\\wallstreetbets\\6889e2316257e41c...</td>\n      <td></td>\n      <td>False</td>\n      <td>False</td>\n    </tr>\n    <tr>\n      <th>4</th>\n      <td>1160kjj</td>\n      <td>wallstreetbets</td>\n      <td>SharkSapphire</td>\n      <td>$TSLA Cybertruck 2.0</td>\n      <td></td>\n      <td>fd2fdbf24ccb6f22068e139a7082b87a</td>\n      <td>/r/wallstreetbets/comments/1160kjj/tsla_cybert...</td>\n      <td>https://i.redd.it/6mf7m5qmx3ja1.jpg</td>\n      <td>fd2fdbf24ccb6f22068e139a7082b87a.jpg</td>\n      <td>D:\\data\\images\\wallstreetbets\\fd2fdbf24ccb6f22...</td>\n      <td></td>\n      <td>False</td>\n      <td>False</td>\n    </tr>\n    <tr>\n      <th>...</th>\n      <td>...</td>\n      <td>...</td>\n      <td>...</td>\n      <td>...</td>\n      <td>...</td>\n      <td>...</td>\n      <td>...</td>\n      <td>...</td>\n      <td>...</td>\n      <td>...</td>\n      <td>...</td>\n      <td>...</td>\n      <td>...</td>\n    </tr>\n    <tr>\n      <th>200</th>\n      <td>10365m3</td>\n      <td>wallstreetbets</td>\n      <td>ToiletHandl</td>\n      <td>I sold at 32% gain, but it’s still going up.. ...</td>\n      <td></td>\n      <td>4cd75ac12563baded80ac7a79152ae1e</td>\n      <td>/r/wallstreetbets/comments/10365m3/i_sold_at_3...</td>\n      <td>https://i.redd.it/bv84lwzv43aa1.jpg</td>\n      <td>4cd75ac12563baded80ac7a79152ae1e.jpg</td>\n      <td>D:\\data\\images\\wallstreetbets\\4cd75ac12563bade...</td>\n      <td></td>\n      <td>False</td>\n      <td>False</td>\n    </tr>\n    <tr>\n      <th>201</th>\n      <td>1036071</td>\n      <td>wallstreetbets</td>\n      <td>Bethanysteele72</td>\n      <td>Bite me</td>\n      <td></td>\n      <td>39a441be43bebb6c64301069c71c2e84</td>\n      <td>/r/wallstreetbets/comments/1036071/bite_me/</td>\n      <td>https://i.redd.it/vybemlat33aa1.jpg</td>\n      <td>39a441be43bebb6c64301069c71c2e84.jpg</td>\n      <td>D:\\data\\images\\wallstreetbets\\39a441be43bebb6c...</td>\n      <td></td>\n      <td>False</td>\n      <td>False</td>\n    </tr>\n    <tr>\n      <th>202</th>\n      <td>1035vqc</td>\n      <td>wallstreetbets</td>\n      <td>kevinyyh2020</td>\n      <td>SPY PUTS GAIN. 100k achieved finally.</td>\n      <td></td>\n      <td>a50173fd92b92f08d1f96b6cf921788f</td>\n      <td>/r/wallstreetbets/comments/1035vqc/spy_puts_ga...</td>\n      <td>https://i.redd.it/9ctzlozv23aa1.jpg</td>\n      <td>a50173fd92b92f08d1f96b6cf921788f.jpg</td>\n      <td>D:\\data\\images\\wallstreetbets\\a50173fd92b92f08...</td>\n      <td></td>\n      <td>False</td>\n      <td>False</td>\n    </tr>\n    <tr>\n      <th>203</th>\n      <td>1035nhr</td>\n      <td>wallstreetbets</td>\n      <td>ElNinoDelGato</td>\n      <td>Going short on the SPY again.</td>\n      <td></td>\n      <td>9edbc56e99449ad01b07e632396d18c3</td>\n      <td>/r/wallstreetbets/comments/1035nhr/going_short...</td>\n      <td>https://i.redd.it/rojt96f713aa1.jpg</td>\n      <td>9edbc56e99449ad01b07e632396d18c3.jpg</td>\n      <td>D:\\data\\images\\wallstreetbets\\9edbc56e99449ad0...</td>\n      <td></td>\n      <td>False</td>\n      <td>False</td>\n    </tr>\n    <tr>\n      <th>204</th>\n      <td>1035ij0</td>\n      <td>wallstreetbets</td>\n      <td>GhostRz</td>\n      <td>Thanks to SPY and Tesla, I’ve been able to rec...</td>\n      <td></td>\n      <td>b7a3e3e05e17c54345d4e9f96e512814</td>\n      <td>/r/wallstreetbets/comments/1035ij0/thanks_to_s...</td>\n      <td>https://i.redd.it/7fa4c8s303aa1.jpg</td>\n      <td>b7a3e3e05e17c54345d4e9f96e512814.jpg</td>\n      <td>D:\\data\\images\\wallstreetbets\\b7a3e3e05e17c543...</td>\n      <td></td>\n      <td>False</td>\n      <td>False</td>\n    </tr>\n  </tbody>\n</table>\n<p>205 rows × 13 columns</p>\n</div>"
     },
     "metadata": {},
     "output_type": "display_data"
    },
    {
     "name": "stdout",
     "output_type": "stream",
     "text": [
      "CPU times: total: 25.2 s\n",
      "Wall time: 1min 8s\n"
     ]
    }
   ],
   "source": [
    "%%time\n",
    "\n",
    "new_entries_1 = new_entries.copy()\n",
    "\n",
    "tqdm.pandas(desc=\"Fetch-Image\")\n",
    "with ProgressBar():\n",
    "\tnew_entries_1['path'] = new_entries_1.progress_apply(lambda x: fetch_image(x), axis=1)\n",
    "\n",
    "tqdm.pandas(desc=\"Get-Image-Name\")\n",
    "with ProgressBar():\n",
    "\tnew_entries_1['image_name'] = new_entries_1.progress_apply(lambda x: get_image_name(x), axis=1)\n",
    "\n",
    "tqdm.pandas(desc=\"Split-Hash\")\n",
    "with ProgressBar():\n",
    "\tnew_entries_1['hash'] = new_entries_1.progress_apply(lambda x: split_hash(x), axis=1)\n",
    "\n",
    "display(new_entries_1)"
   ],
   "metadata": {
    "collapsed": false
   }
  },
  {
   "cell_type": "code",
   "execution_count": 17,
   "outputs": [
    {
     "name": "stderr",
     "output_type": "stream",
     "text": [
      "Create-Thumbnail: 100%|██████████| 205/205 [00:30<00:00,  6.62it/s]\n",
      "Checking-Exists: 100%|██████████| 205/205 [00:00<00:00, 3279.99it/s]\n"
     ]
    },
    {
     "data": {
      "text/plain": "          id       subreddit           author  \\\n0    1165ays  wallstreetbets           n618ft   \n1    1162tt3  wallstreetbets        backtosky   \n2    1161lt4  wallstreetbets    Sirachacopter   \n3    1161k6p  wallstreetbets    Sirachacopter   \n4    1160kjj  wallstreetbets    SharkSapphire   \n..       ...             ...              ...   \n200  10365m3  wallstreetbets      ToiletHandl   \n201  1036071  wallstreetbets  Bethanysteele72   \n202  1035vqc  wallstreetbets     kevinyyh2020   \n203  1035nhr  wallstreetbets    ElNinoDelGato   \n204  1035ij0  wallstreetbets          GhostRz   \n\n                                                 title caption  \\\n0    What banks and other assets will be picked off...           \n1                                 The struggle is real           \n2                  Apes everywhere - Carrizo gorge, CA           \n3    Carrizo Gorge, CA - Ok, which one of you apes ...           \n4                                 $TSLA Cybertruck 2.0           \n..                                                 ...     ...   \n200  I sold at 32% gain, but it’s still going up.. ...           \n201                                            Bite me           \n202              SPY PUTS GAIN. 100k achieved finally.           \n203                      Going short on the SPY again.           \n204  Thanks to SPY and Tesla, I’ve been able to rec...           \n\n                                 hash  \\\n0    772ccdf2d1730340471ff107b0f14c40   \n1    f7ca83705918c420f9d544af776d6c1e   \n2    6889e2316257e41c60186c4f5edfa3e1   \n3    6889e2316257e41c60186c4f5edfa3e1   \n4    fd2fdbf24ccb6f22068e139a7082b87a   \n..                                ...   \n200  4cd75ac12563baded80ac7a79152ae1e   \n201  39a441be43bebb6c64301069c71c2e84   \n202  a50173fd92b92f08d1f96b6cf921788f   \n203  9edbc56e99449ad01b07e632396d18c3   \n204  b7a3e3e05e17c54345d4e9f96e512814   \n\n                                             permalink  \\\n0    /r/wallstreetbets/comments/1165ays/what_banks_...   \n1    /r/wallstreetbets/comments/1162tt3/the_struggl...   \n2    /r/wallstreetbets/comments/1161lt4/apes_everyw...   \n3    /r/wallstreetbets/comments/1161k6p/carrizo_gor...   \n4    /r/wallstreetbets/comments/1160kjj/tsla_cybert...   \n..                                                 ...   \n200  /r/wallstreetbets/comments/10365m3/i_sold_at_3...   \n201        /r/wallstreetbets/comments/1036071/bite_me/   \n202  /r/wallstreetbets/comments/1035vqc/spy_puts_ga...   \n203  /r/wallstreetbets/comments/1035nhr/going_short...   \n204  /r/wallstreetbets/comments/1035ij0/thanks_to_s...   \n\n                            original_url  \\\n0    https://i.redd.it/y5owo797c5ja1.jpg   \n1    https://i.redd.it/v4u2azo8k4ja1.jpg   \n2        https://i.imgur.com/5MGcjws.jpg   \n3        https://i.imgur.com/dZ03inb.jpg   \n4    https://i.redd.it/6mf7m5qmx3ja1.jpg   \n..                                   ...   \n200  https://i.redd.it/bv84lwzv43aa1.jpg   \n201  https://i.redd.it/vybemlat33aa1.jpg   \n202  https://i.redd.it/9ctzlozv23aa1.jpg   \n203  https://i.redd.it/rojt96f713aa1.jpg   \n204  https://i.redd.it/7fa4c8s303aa1.jpg   \n\n                               image_name  \\\n0    772ccdf2d1730340471ff107b0f14c40.jpg   \n1    f7ca83705918c420f9d544af776d6c1e.jpg   \n2    6889e2316257e41c60186c4f5edfa3e1.jpg   \n3    6889e2316257e41c60186c4f5edfa3e1.jpg   \n4    fd2fdbf24ccb6f22068e139a7082b87a.jpg   \n..                                    ...   \n200  4cd75ac12563baded80ac7a79152ae1e.jpg   \n201  39a441be43bebb6c64301069c71c2e84.jpg   \n202  a50173fd92b92f08d1f96b6cf921788f.jpg   \n203  9edbc56e99449ad01b07e632396d18c3.jpg   \n204  b7a3e3e05e17c54345d4e9f96e512814.jpg   \n\n                                                  path  \\\n0    D:\\data\\images\\wallstreetbets\\772ccdf2d1730340...   \n1    D:\\data\\images\\wallstreetbets\\f7ca83705918c420...   \n2    D:\\data\\images\\wallstreetbets\\6889e2316257e41c...   \n3    D:\\data\\images\\wallstreetbets\\6889e2316257e41c...   \n4    D:\\data\\images\\wallstreetbets\\fd2fdbf24ccb6f22...   \n..                                                 ...   \n200  D:\\data\\images\\wallstreetbets\\4cd75ac12563bade...   \n201  D:\\data\\images\\wallstreetbets\\39a441be43bebb6c...   \n202  D:\\data\\images\\wallstreetbets\\a50173fd92b92f08...   \n203  D:\\data\\images\\wallstreetbets\\9edbc56e99449ad0...   \n204  D:\\data\\images\\wallstreetbets\\b7a3e3e05e17c543...   \n\n                                        thumbnail_path  exists curated  \n0    D:\\data\\images\\wallstreetbets\\thumbnail\\772ccd...    True   False  \n1    D:\\data\\images\\wallstreetbets\\thumbnail\\f7ca83...    True   False  \n2    D:\\data\\images\\wallstreetbets\\thumbnail\\6889e2...    True   False  \n3    D:\\data\\images\\wallstreetbets\\thumbnail\\6889e2...    True   False  \n4    D:\\data\\images\\wallstreetbets\\thumbnail\\fd2fdb...    True   False  \n..                                                 ...     ...     ...  \n200  D:\\data\\images\\wallstreetbets\\thumbnail\\4cd75a...    True   False  \n201  D:\\data\\images\\wallstreetbets\\thumbnail\\39a441...    True   False  \n202  D:\\data\\images\\wallstreetbets\\thumbnail\\a50173...    True   False  \n203  D:\\data\\images\\wallstreetbets\\thumbnail\\9edbc5...    True   False  \n204  D:\\data\\images\\wallstreetbets\\thumbnail\\b7a3e3...    True   False  \n\n[205 rows x 13 columns]",
      "text/html": "<div>\n<style scoped>\n    .dataframe tbody tr th:only-of-type {\n        vertical-align: middle;\n    }\n\n    .dataframe tbody tr th {\n        vertical-align: top;\n    }\n\n    .dataframe thead th {\n        text-align: right;\n    }\n</style>\n<table border=\"1\" class=\"dataframe\">\n  <thead>\n    <tr style=\"text-align: right;\">\n      <th></th>\n      <th>id</th>\n      <th>subreddit</th>\n      <th>author</th>\n      <th>title</th>\n      <th>caption</th>\n      <th>hash</th>\n      <th>permalink</th>\n      <th>original_url</th>\n      <th>image_name</th>\n      <th>path</th>\n      <th>thumbnail_path</th>\n      <th>exists</th>\n      <th>curated</th>\n    </tr>\n  </thead>\n  <tbody>\n    <tr>\n      <th>0</th>\n      <td>1165ays</td>\n      <td>wallstreetbets</td>\n      <td>n618ft</td>\n      <td>What banks and other assets will be picked off...</td>\n      <td></td>\n      <td>772ccdf2d1730340471ff107b0f14c40</td>\n      <td>/r/wallstreetbets/comments/1165ays/what_banks_...</td>\n      <td>https://i.redd.it/y5owo797c5ja1.jpg</td>\n      <td>772ccdf2d1730340471ff107b0f14c40.jpg</td>\n      <td>D:\\data\\images\\wallstreetbets\\772ccdf2d1730340...</td>\n      <td>D:\\data\\images\\wallstreetbets\\thumbnail\\772ccd...</td>\n      <td>True</td>\n      <td>False</td>\n    </tr>\n    <tr>\n      <th>1</th>\n      <td>1162tt3</td>\n      <td>wallstreetbets</td>\n      <td>backtosky</td>\n      <td>The struggle is real</td>\n      <td></td>\n      <td>f7ca83705918c420f9d544af776d6c1e</td>\n      <td>/r/wallstreetbets/comments/1162tt3/the_struggl...</td>\n      <td>https://i.redd.it/v4u2azo8k4ja1.jpg</td>\n      <td>f7ca83705918c420f9d544af776d6c1e.jpg</td>\n      <td>D:\\data\\images\\wallstreetbets\\f7ca83705918c420...</td>\n      <td>D:\\data\\images\\wallstreetbets\\thumbnail\\f7ca83...</td>\n      <td>True</td>\n      <td>False</td>\n    </tr>\n    <tr>\n      <th>2</th>\n      <td>1161lt4</td>\n      <td>wallstreetbets</td>\n      <td>Sirachacopter</td>\n      <td>Apes everywhere - Carrizo gorge, CA</td>\n      <td></td>\n      <td>6889e2316257e41c60186c4f5edfa3e1</td>\n      <td>/r/wallstreetbets/comments/1161lt4/apes_everyw...</td>\n      <td>https://i.imgur.com/5MGcjws.jpg</td>\n      <td>6889e2316257e41c60186c4f5edfa3e1.jpg</td>\n      <td>D:\\data\\images\\wallstreetbets\\6889e2316257e41c...</td>\n      <td>D:\\data\\images\\wallstreetbets\\thumbnail\\6889e2...</td>\n      <td>True</td>\n      <td>False</td>\n    </tr>\n    <tr>\n      <th>3</th>\n      <td>1161k6p</td>\n      <td>wallstreetbets</td>\n      <td>Sirachacopter</td>\n      <td>Carrizo Gorge, CA - Ok, which one of you apes ...</td>\n      <td></td>\n      <td>6889e2316257e41c60186c4f5edfa3e1</td>\n      <td>/r/wallstreetbets/comments/1161k6p/carrizo_gor...</td>\n      <td>https://i.imgur.com/dZ03inb.jpg</td>\n      <td>6889e2316257e41c60186c4f5edfa3e1.jpg</td>\n      <td>D:\\data\\images\\wallstreetbets\\6889e2316257e41c...</td>\n      <td>D:\\data\\images\\wallstreetbets\\thumbnail\\6889e2...</td>\n      <td>True</td>\n      <td>False</td>\n    </tr>\n    <tr>\n      <th>4</th>\n      <td>1160kjj</td>\n      <td>wallstreetbets</td>\n      <td>SharkSapphire</td>\n      <td>$TSLA Cybertruck 2.0</td>\n      <td></td>\n      <td>fd2fdbf24ccb6f22068e139a7082b87a</td>\n      <td>/r/wallstreetbets/comments/1160kjj/tsla_cybert...</td>\n      <td>https://i.redd.it/6mf7m5qmx3ja1.jpg</td>\n      <td>fd2fdbf24ccb6f22068e139a7082b87a.jpg</td>\n      <td>D:\\data\\images\\wallstreetbets\\fd2fdbf24ccb6f22...</td>\n      <td>D:\\data\\images\\wallstreetbets\\thumbnail\\fd2fdb...</td>\n      <td>True</td>\n      <td>False</td>\n    </tr>\n    <tr>\n      <th>...</th>\n      <td>...</td>\n      <td>...</td>\n      <td>...</td>\n      <td>...</td>\n      <td>...</td>\n      <td>...</td>\n      <td>...</td>\n      <td>...</td>\n      <td>...</td>\n      <td>...</td>\n      <td>...</td>\n      <td>...</td>\n      <td>...</td>\n    </tr>\n    <tr>\n      <th>200</th>\n      <td>10365m3</td>\n      <td>wallstreetbets</td>\n      <td>ToiletHandl</td>\n      <td>I sold at 32% gain, but it’s still going up.. ...</td>\n      <td></td>\n      <td>4cd75ac12563baded80ac7a79152ae1e</td>\n      <td>/r/wallstreetbets/comments/10365m3/i_sold_at_3...</td>\n      <td>https://i.redd.it/bv84lwzv43aa1.jpg</td>\n      <td>4cd75ac12563baded80ac7a79152ae1e.jpg</td>\n      <td>D:\\data\\images\\wallstreetbets\\4cd75ac12563bade...</td>\n      <td>D:\\data\\images\\wallstreetbets\\thumbnail\\4cd75a...</td>\n      <td>True</td>\n      <td>False</td>\n    </tr>\n    <tr>\n      <th>201</th>\n      <td>1036071</td>\n      <td>wallstreetbets</td>\n      <td>Bethanysteele72</td>\n      <td>Bite me</td>\n      <td></td>\n      <td>39a441be43bebb6c64301069c71c2e84</td>\n      <td>/r/wallstreetbets/comments/1036071/bite_me/</td>\n      <td>https://i.redd.it/vybemlat33aa1.jpg</td>\n      <td>39a441be43bebb6c64301069c71c2e84.jpg</td>\n      <td>D:\\data\\images\\wallstreetbets\\39a441be43bebb6c...</td>\n      <td>D:\\data\\images\\wallstreetbets\\thumbnail\\39a441...</td>\n      <td>True</td>\n      <td>False</td>\n    </tr>\n    <tr>\n      <th>202</th>\n      <td>1035vqc</td>\n      <td>wallstreetbets</td>\n      <td>kevinyyh2020</td>\n      <td>SPY PUTS GAIN. 100k achieved finally.</td>\n      <td></td>\n      <td>a50173fd92b92f08d1f96b6cf921788f</td>\n      <td>/r/wallstreetbets/comments/1035vqc/spy_puts_ga...</td>\n      <td>https://i.redd.it/9ctzlozv23aa1.jpg</td>\n      <td>a50173fd92b92f08d1f96b6cf921788f.jpg</td>\n      <td>D:\\data\\images\\wallstreetbets\\a50173fd92b92f08...</td>\n      <td>D:\\data\\images\\wallstreetbets\\thumbnail\\a50173...</td>\n      <td>True</td>\n      <td>False</td>\n    </tr>\n    <tr>\n      <th>203</th>\n      <td>1035nhr</td>\n      <td>wallstreetbets</td>\n      <td>ElNinoDelGato</td>\n      <td>Going short on the SPY again.</td>\n      <td></td>\n      <td>9edbc56e99449ad01b07e632396d18c3</td>\n      <td>/r/wallstreetbets/comments/1035nhr/going_short...</td>\n      <td>https://i.redd.it/rojt96f713aa1.jpg</td>\n      <td>9edbc56e99449ad01b07e632396d18c3.jpg</td>\n      <td>D:\\data\\images\\wallstreetbets\\9edbc56e99449ad0...</td>\n      <td>D:\\data\\images\\wallstreetbets\\thumbnail\\9edbc5...</td>\n      <td>True</td>\n      <td>False</td>\n    </tr>\n    <tr>\n      <th>204</th>\n      <td>1035ij0</td>\n      <td>wallstreetbets</td>\n      <td>GhostRz</td>\n      <td>Thanks to SPY and Tesla, I’ve been able to rec...</td>\n      <td></td>\n      <td>b7a3e3e05e17c54345d4e9f96e512814</td>\n      <td>/r/wallstreetbets/comments/1035ij0/thanks_to_s...</td>\n      <td>https://i.redd.it/7fa4c8s303aa1.jpg</td>\n      <td>b7a3e3e05e17c54345d4e9f96e512814.jpg</td>\n      <td>D:\\data\\images\\wallstreetbets\\b7a3e3e05e17c543...</td>\n      <td>D:\\data\\images\\wallstreetbets\\thumbnail\\b7a3e3...</td>\n      <td>True</td>\n      <td>False</td>\n    </tr>\n  </tbody>\n</table>\n<p>205 rows × 13 columns</p>\n</div>"
     },
     "metadata": {},
     "output_type": "display_data"
    },
    {
     "name": "stdout",
     "output_type": "stream",
     "text": [
      "CPU times: total: 20.8 s\n",
      "Wall time: 31.1 s\n"
     ]
    }
   ],
   "source": [
    "%%time\n",
    "\n",
    "new_entries_2 = new_entries_1.copy()\n",
    "\n",
    "tqdm.pandas(desc=\"Create-Thumbnail\")\n",
    "with ProgressBar():\n",
    "\tnew_entries_2['thumbnail_path'] = new_entries_2.progress_apply(lambda x: make_thumbnail(x), axis=1)\n",
    "\n",
    "tqdm.pandas(desc=\"Checking-Exists\")\n",
    "with ProgressBar():\n",
    "\tnew_entries_2['exists'] = new_entries_2.progress_apply(lambda x: exists(x), axis=1)\n",
    "\n",
    "display(new_entries_2)"
   ],
   "metadata": {
    "collapsed": false
   }
  },
  {
   "cell_type": "code",
   "execution_count": 18,
   "outputs": [
    {
     "name": "stdout",
     "output_type": "stream",
     "text": [
      "CPU times: total: 1min 2s\n",
      "Wall time: 1min 21s\n"
     ]
    }
   ],
   "source": [
    "%%time\n",
    "\n",
    "blip = BlipCaption(1)"
   ],
   "metadata": {
    "collapsed": false
   }
  },
  {
   "cell_type": "code",
   "execution_count": null,
   "outputs": [
    {
     "name": "stdout",
     "output_type": "stream",
     "text": [
      "[                                        ] | 0% Completed | 4.93 ms"
     ]
    },
    {
     "data": {
      "text/plain": "global:   0%|          | 0/6 [00:00<?, ?it/s]",
      "application/vnd.jupyter.widget-view+json": {
       "version_major": 2,
       "version_minor": 0,
       "model_id": "7997fa83ddc3479f943d655c531a4478"
      }
     },
     "metadata": {},
     "output_type": "display_data"
    },
    {
     "name": "stdout",
     "output_type": "stream",
     "text": [
      "[                                        ] | 0% Completed | 28.28 sms"
     ]
    },
    {
     "name": "stderr",
     "output_type": "stream",
     "text": [
      "D:\\workspaces\\General\\venv\\lib\\site-packages\\transformers\\generation\\utils.py:1288: UserWarning: Using `max_length`'s default (20) to control the generation length. This behaviour is deprecated and will be removed from the config in v5 of Transformers -- we recommend using `max_new_tokens` to control the maximum length of the generation.\n",
      "  warnings.warn(\n"
     ]
    },
    {
     "name": "stdout",
     "output_type": "stream",
     "text": [
      "[######                                  ] | 16% Completed | 198.08 s"
     ]
    },
    {
     "name": "stderr",
     "output_type": "stream",
     "text": [
      "D:\\workspaces\\General\\venv\\lib\\site-packages\\transformers\\generation\\utils.py:1288: UserWarning: Using `max_length`'s default (20) to control the generation length. This behaviour is deprecated and will be removed from the config in v5 of Transformers -- we recommend using `max_new_tokens` to control the maximum length of the generation.\n",
      "  warnings.warn(\n"
     ]
    },
    {
     "name": "stdout",
     "output_type": "stream",
     "text": [
      "[######                                  ] | 16% Completed | 230.87 s"
     ]
    }
   ],
   "source": [
    "%%time\n",
    "\n",
    "new_entries_final = new_entries_2.copy()\n",
    "torch.cuda.empty_cache()\n",
    "\n",
    "with pbar:\n",
    "\tddf = dd.from_pandas(new_entries_final, npartitions=6)\n",
    "\tnew_entries_final['caption'] = ddf.apply(lambda x: caption_image(x, blip), meta=('str', object), axis=1).compute()\n",
    "\n",
    "torch.cuda.empty_cache()\n",
    "\n",
    "display(new_entries_final)"
   ],
   "metadata": {
    "collapsed": false,
    "pycharm": {
     "is_executing": true
    }
   }
  },
  {
   "cell_type": "code",
   "execution_count": null,
   "outputs": [],
   "source": [
    "%%time\n",
    "\n",
    "tqdm.pandas(desc=\"Filtering\")\n",
    "writeable_entries = new_entries_final\\\n",
    "\t.where(~new_entries_final['id'].isin(extant_data['id']))\\\n",
    "\t.dropna(how='all')\\\n",
    "\t.reset_index()\\\n",
    "\t.drop('index', axis=1)\n",
    "\n",
    "display(writeable_entries)"
   ],
   "metadata": {
    "collapsed": false,
    "pycharm": {
     "is_executing": true
    }
   }
  },
  {
   "cell_type": "code",
   "execution_count": null,
   "outputs": [],
   "source": [
    "%%time\n",
    "\n",
    "combined_result = pd.concat([extant_data, writeable_entries])\n",
    "\n",
    "display(combined_result)"
   ],
   "metadata": {
    "collapsed": false,
    "pycharm": {
     "is_executing": true
    }
   }
  },
  {
   "cell_type": "code",
   "execution_count": null,
   "outputs": [],
   "source": [
    "combined_result.reindex()\n",
    "combined_result.to_csv('processed_raw_data.csv', index=False)\n",
    "f = AzureFileStorageAdapter('data').get_file_storage()\n",
    "f.put('processed_raw_data.csv','data/processed_raw_data.csv', overwrite=True)"
   ],
   "metadata": {
    "collapsed": false,
    "pycharm": {
     "is_executing": true
    }
   }
  },
  {
   "cell_type": "code",
   "execution_count": null,
   "outputs": [],
   "source": [
    "final = pd.read_csv(f.open('data/processed_raw_data.csv'))\n",
    "final.to_parquet(\"data/processed_raw_data.parquet\", engine='pyarrow', filesystem=file_system, schema=schema)"
   ],
   "metadata": {
    "collapsed": false,
    "pycharm": {
     "is_executing": true
    }
   }
  },
  {
   "cell_type": "code",
   "execution_count": null,
   "outputs": [],
   "source": [
    "final = pd.read_parquet(\"data/processed_raw_data.parquet\", engine='pyarrow', filesystem=file_system)\n",
    "display(final)"
   ],
   "metadata": {
    "collapsed": false,
    "pycharm": {
     "is_executing": true
    }
   }
  }
 ],
 "metadata": {
  "kernelspec": {
   "display_name": "Python 3",
   "language": "python",
   "name": "python3"
  },
  "language_info": {
   "codemirror_mode": {
    "name": "ipython",
    "version": 2
   },
   "file_extension": ".py",
   "mimetype": "text/x-python",
   "name": "python",
   "nbconvert_exporter": "python",
   "pygments_lexer": "ipython2",
   "version": "2.7.6"
  }
 },
 "nbformat": 4,
 "nbformat_minor": 0
}
