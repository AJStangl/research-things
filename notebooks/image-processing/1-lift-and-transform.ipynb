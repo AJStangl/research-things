{
 "cells": [
  {
   "cell_type": "code",
   "execution_count": 1,
   "metadata": {
    "collapsed": true
   },
   "outputs": [],
   "source": [
    "import pandas as pd\n",
    "import dask.dataframe as dd\n",
    "import praw\n",
    "from dask.diagnostics import ProgressBar\n",
    "from tqdm import tqdm\n",
    "import hashlib\n",
    "from PIL import Image\n",
    "import requests\n",
    "from io import BytesIO\n",
    "from shared_code.utility.schemas.pyarrow_schema import schema\n",
    "from shared_code.utility.spark.set_environ import set_azure_env\n",
    "import os\n",
    "import torch\n",
    "from datetime import datetime\n",
    "import pandas as pd\n",
    "from pmaw import PushshiftAPI\n",
    "\n",
    "set_azure_env()\n",
    "\n",
    "from shared_code.utility.storage.azure_file_storage import AzureFileStorageAdapter\n",
    "from shared_code.utility.scripts.blip_caption import BlipCaption\n",
    "\n",
    "pbar = ProgressBar()\n",
    "pbar.register()\n",
    "\n",
    "tqdm.pandas()\n",
    "tqdm.pandas(desc=\"global\")\n",
    "\n",
    "from tqdm.dask import TqdmCallback\n",
    "cb = TqdmCallback(desc=\"global\")\n",
    "cb.register()\n",
    "\n",
    "file_system = AzureFileStorageAdapter('data').get_file_storage()"
   ]
  },
  {
   "cell_type": "code",
   "execution_count": 2,
   "outputs": [
    {
     "name": "stdout",
     "output_type": "stream",
     "text": [
      "CPU times: total: 0 ns\n",
      "Wall time: 1 ms\n"
     ]
    }
   ],
   "source": [
    "%%time\n",
    "#\"SFWRedheads\",\"sfwpetite\",\"SFWNextDoorGirls\",\n",
    "subs = [\"CityPorn\",\"EarthPorn\",\"memes\",\"spaceporn\",\"trippinthroughtime\",\"fatsquirrelhate\",\"oldladiesbakingpies\",\"itookapicture\"]"
   ],
   "metadata": {
    "collapsed": false
   }
  },
  {
   "cell_type": "code",
   "execution_count": 3,
   "outputs": [
    {
     "data": {
      "text/plain": "            id      subreddit                author  \\\n0      1000cej       CityPorn           OtterlyFoxy   \n1      1000glf       AmIhotAF     toolate_sharkbait   \n2      1000j1n      greentext             trent8051   \n3      1000mjs      spaceporn    MorningStar_imangi   \n4      1000qpd      spaceporn    MorningStar_imangi   \n...        ...            ...                   ...   \n19763   ywjp42  itookapicture              leflore4   \n19764   ywjli7  itookapicture                Naj183   \n19765   ywjew1  itookapicture  ExaminationHopeful36   \n19766   ywjeai  itookapicture          retrospektor   \n19767   ywj1ef  itookapicture              basil016   \n\n                                                   title  \\\n0                                    New York in the fog   \n1                         Just looking for entertainment   \n2                                    Anon wants Elon cut   \n3                          Northern Lights above Lofoten   \n4                                          Viking Lights   \n...                                                  ...   \n19763  ITAP - Of coach teaching young men to stand st...   \n19764       ITAP of a Turkey Vulture spreading its wings   \n19765           ITAP of my cat looking out of the window   \n19766                       ITAP of an empty beer bottle   \n19767                      ITAP of fall leaves on a tree   \n\n                                                 caption  \\\n0      cars are parked on the side of the road in the...   \n1      blonde woman with blonde hair and tattoos on h...   \n2      a man with a beard and a beard sitting in fron...   \n3      a view of a view of a large green and purple a...   \n4      a scene of a boat is sitting on the shore of a...   \n...                                                  ...   \n19763  there is a man in a black hat and a baseball c...   \n19764  a close up of a large bird with its wings open...   \n19765  a close up of a black cat sitting on a window ...   \n19766     a close up of a candle lit up in a candlelight   \n19767      a close up of a tree with orange leaves on it   \n\n                                   hash  \\\n0      7a8d96e378c15c8ab8440ac311f12c11   \n1      e554c1ed7ffa2740436ac082068b2824   \n2      1dec3dabb5e46cde01855d06089c287a   \n3      2c39ce1290fba541abd0b004b09da6b2   \n4      0f72de47c69ff50eca5fa3990215f4ac   \n...                                 ...   \n19763  f9c5e68a2e6082b0827469253807647e   \n19764  a37c752a3ecdd654cd402280b0a3de7f   \n19765  53f99cb828e71b8a3172fea41d1f2259   \n19766  9d5acf1a16798238d606fc3646d16f75   \n19767  aa650c79d5b82c9121c902140aff9202   \n\n                                               permalink  \\\n0      /r/CityPorn/comments/1000cej/new_york_in_the_fog/   \n1      /r/AmIhotAF/comments/1000glf/just_looking_for_...   \n2      /r/greentext/comments/1000j1n/anon_wants_elon_...   \n3      /r/spaceporn/comments/1000mjs/northern_lights_...   \n4           /r/spaceporn/comments/1000qpd/viking_lights/   \n...                                                  ...   \n19763  /r/itookapicture/comments/ywjp42/itap_of_coach...   \n19764  /r/itookapicture/comments/ywjli7/itap_of_a_tur...   \n19765  /r/itookapicture/comments/ywjew1/itap_of_my_ca...   \n19766  /r/itookapicture/comments/ywjeai/itap_of_an_em...   \n19767  /r/itookapicture/comments/ywj1ef/itap_of_fall_...   \n\n                              original_url  \\\n0      https://i.redd.it/4emw5uldib9a1.jpg   \n1      https://i.redd.it/4xyb1vgbjb9a1.jpg   \n2      https://i.redd.it/3mewbe0wjb9a1.jpg   \n3      https://i.redd.it/7s5aafaqkb9a1.jpg   \n4      https://i.redd.it/abojw7lqlb9a1.jpg   \n...                                    ...   \n19763  https://i.redd.it/8e4ku12iq80a1.jpg   \n19764  https://i.redd.it/35zgwn967a0a1.jpg   \n19765  https://i.redd.it/orn7pcse5a0a1.jpg   \n19766  https://i.redd.it/oyuscvpg5a0a1.jpg   \n19767  https://i.redd.it/38qftp6uk80a1.jpg   \n\n                                 image_name  \\\n0                         4emw5uldib9a1.jpg   \n1                         4xyb1vgbjb9a1.jpg   \n2                         3mewbe0wjb9a1.jpg   \n3                         7s5aafaqkb9a1.jpg   \n4                         abojw7lqlb9a1.jpg   \n...                                     ...   \n19763  f9c5e68a2e6082b0827469253807647e.jpg   \n19764  a37c752a3ecdd654cd402280b0a3de7f.jpg   \n19765  53f99cb828e71b8a3172fea41d1f2259.jpg   \n19766  9d5acf1a16798238d606fc3646d16f75.jpg   \n19767  aa650c79d5b82c9121c902140aff9202.jpg   \n\n                                                    path  \\\n0              D:\\data\\images\\CityPorn\\4emw5uldib9a1.jpg   \n1              D:\\data\\images\\AmIhotAF\\4xyb1vgbjb9a1.jpg   \n2             D:\\data\\images\\greentext\\3mewbe0wjb9a1.jpg   \n3               /data/images/spaceporn/7s5aafaqkb9a1.jpg   \n4               /data/images/spaceporn/abojw7lqlb9a1.jpg   \n...                                                  ...   \n19763  D:\\data\\images\\itookapicture\\f9c5e68a2e6082b08...   \n19764  D:\\data\\images\\itookapicture\\a37c752a3ecdd654c...   \n19765  D:\\data\\images\\itookapicture\\53f99cb828e71b8a3...   \n19766  D:\\data\\images\\itookapicture\\9d5acf1a16798238d...   \n19767  D:\\data\\images\\itookapicture\\aa650c79d5b82c912...   \n\n                                          thumbnail_path  exists  curated  \n0      D:\\data\\images\\CityPorn\\thumbnail\\4emw5uldib9a...    True    False  \n1      D:\\data\\images\\AmIhotAF\\thumbnail\\4xyb1vgbjb9a...    True    False  \n2      D:\\data\\images\\greentext\\thumbnail\\3mewbe0wjb9...    True    False  \n3      /data/images/spaceporn/thumbnail/7s5aafaqkb9a1...    True    False  \n4      /data/images/spaceporn/thumbnail/abojw7lqlb9a1...    True    False  \n...                                                  ...     ...      ...  \n19763  D:\\data\\images\\itookapicture\\thumbnail\\f9c5e68...    True    False  \n19764  D:\\data\\images\\itookapicture\\thumbnail\\a37c752...    True    False  \n19765  D:\\data\\images\\itookapicture\\thumbnail\\53f99cb...    True    False  \n19766  D:\\data\\images\\itookapicture\\thumbnail\\9d5acf1...    True    False  \n19767  D:\\data\\images\\itookapicture\\thumbnail\\aa650c7...    True    False  \n\n[19768 rows x 13 columns]",
      "text/html": "<div>\n<style scoped>\n    .dataframe tbody tr th:only-of-type {\n        vertical-align: middle;\n    }\n\n    .dataframe tbody tr th {\n        vertical-align: top;\n    }\n\n    .dataframe thead th {\n        text-align: right;\n    }\n</style>\n<table border=\"1\" class=\"dataframe\">\n  <thead>\n    <tr style=\"text-align: right;\">\n      <th></th>\n      <th>id</th>\n      <th>subreddit</th>\n      <th>author</th>\n      <th>title</th>\n      <th>caption</th>\n      <th>hash</th>\n      <th>permalink</th>\n      <th>original_url</th>\n      <th>image_name</th>\n      <th>path</th>\n      <th>thumbnail_path</th>\n      <th>exists</th>\n      <th>curated</th>\n    </tr>\n  </thead>\n  <tbody>\n    <tr>\n      <th>0</th>\n      <td>1000cej</td>\n      <td>CityPorn</td>\n      <td>OtterlyFoxy</td>\n      <td>New York in the fog</td>\n      <td>cars are parked on the side of the road in the...</td>\n      <td>7a8d96e378c15c8ab8440ac311f12c11</td>\n      <td>/r/CityPorn/comments/1000cej/new_york_in_the_fog/</td>\n      <td>https://i.redd.it/4emw5uldib9a1.jpg</td>\n      <td>4emw5uldib9a1.jpg</td>\n      <td>D:\\data\\images\\CityPorn\\4emw5uldib9a1.jpg</td>\n      <td>D:\\data\\images\\CityPorn\\thumbnail\\4emw5uldib9a...</td>\n      <td>True</td>\n      <td>False</td>\n    </tr>\n    <tr>\n      <th>1</th>\n      <td>1000glf</td>\n      <td>AmIhotAF</td>\n      <td>toolate_sharkbait</td>\n      <td>Just looking for entertainment</td>\n      <td>blonde woman with blonde hair and tattoos on h...</td>\n      <td>e554c1ed7ffa2740436ac082068b2824</td>\n      <td>/r/AmIhotAF/comments/1000glf/just_looking_for_...</td>\n      <td>https://i.redd.it/4xyb1vgbjb9a1.jpg</td>\n      <td>4xyb1vgbjb9a1.jpg</td>\n      <td>D:\\data\\images\\AmIhotAF\\4xyb1vgbjb9a1.jpg</td>\n      <td>D:\\data\\images\\AmIhotAF\\thumbnail\\4xyb1vgbjb9a...</td>\n      <td>True</td>\n      <td>False</td>\n    </tr>\n    <tr>\n      <th>2</th>\n      <td>1000j1n</td>\n      <td>greentext</td>\n      <td>trent8051</td>\n      <td>Anon wants Elon cut</td>\n      <td>a man with a beard and a beard sitting in fron...</td>\n      <td>1dec3dabb5e46cde01855d06089c287a</td>\n      <td>/r/greentext/comments/1000j1n/anon_wants_elon_...</td>\n      <td>https://i.redd.it/3mewbe0wjb9a1.jpg</td>\n      <td>3mewbe0wjb9a1.jpg</td>\n      <td>D:\\data\\images\\greentext\\3mewbe0wjb9a1.jpg</td>\n      <td>D:\\data\\images\\greentext\\thumbnail\\3mewbe0wjb9...</td>\n      <td>True</td>\n      <td>False</td>\n    </tr>\n    <tr>\n      <th>3</th>\n      <td>1000mjs</td>\n      <td>spaceporn</td>\n      <td>MorningStar_imangi</td>\n      <td>Northern Lights above Lofoten</td>\n      <td>a view of a view of a large green and purple a...</td>\n      <td>2c39ce1290fba541abd0b004b09da6b2</td>\n      <td>/r/spaceporn/comments/1000mjs/northern_lights_...</td>\n      <td>https://i.redd.it/7s5aafaqkb9a1.jpg</td>\n      <td>7s5aafaqkb9a1.jpg</td>\n      <td>/data/images/spaceporn/7s5aafaqkb9a1.jpg</td>\n      <td>/data/images/spaceporn/thumbnail/7s5aafaqkb9a1...</td>\n      <td>True</td>\n      <td>False</td>\n    </tr>\n    <tr>\n      <th>4</th>\n      <td>1000qpd</td>\n      <td>spaceporn</td>\n      <td>MorningStar_imangi</td>\n      <td>Viking Lights</td>\n      <td>a scene of a boat is sitting on the shore of a...</td>\n      <td>0f72de47c69ff50eca5fa3990215f4ac</td>\n      <td>/r/spaceporn/comments/1000qpd/viking_lights/</td>\n      <td>https://i.redd.it/abojw7lqlb9a1.jpg</td>\n      <td>abojw7lqlb9a1.jpg</td>\n      <td>/data/images/spaceporn/abojw7lqlb9a1.jpg</td>\n      <td>/data/images/spaceporn/thumbnail/abojw7lqlb9a1...</td>\n      <td>True</td>\n      <td>False</td>\n    </tr>\n    <tr>\n      <th>...</th>\n      <td>...</td>\n      <td>...</td>\n      <td>...</td>\n      <td>...</td>\n      <td>...</td>\n      <td>...</td>\n      <td>...</td>\n      <td>...</td>\n      <td>...</td>\n      <td>...</td>\n      <td>...</td>\n      <td>...</td>\n      <td>...</td>\n    </tr>\n    <tr>\n      <th>19763</th>\n      <td>ywjp42</td>\n      <td>itookapicture</td>\n      <td>leflore4</td>\n      <td>ITAP - Of coach teaching young men to stand st...</td>\n      <td>there is a man in a black hat and a baseball c...</td>\n      <td>f9c5e68a2e6082b0827469253807647e</td>\n      <td>/r/itookapicture/comments/ywjp42/itap_of_coach...</td>\n      <td>https://i.redd.it/8e4ku12iq80a1.jpg</td>\n      <td>f9c5e68a2e6082b0827469253807647e.jpg</td>\n      <td>D:\\data\\images\\itookapicture\\f9c5e68a2e6082b08...</td>\n      <td>D:\\data\\images\\itookapicture\\thumbnail\\f9c5e68...</td>\n      <td>True</td>\n      <td>False</td>\n    </tr>\n    <tr>\n      <th>19764</th>\n      <td>ywjli7</td>\n      <td>itookapicture</td>\n      <td>Naj183</td>\n      <td>ITAP of a Turkey Vulture spreading its wings</td>\n      <td>a close up of a large bird with its wings open...</td>\n      <td>a37c752a3ecdd654cd402280b0a3de7f</td>\n      <td>/r/itookapicture/comments/ywjli7/itap_of_a_tur...</td>\n      <td>https://i.redd.it/35zgwn967a0a1.jpg</td>\n      <td>a37c752a3ecdd654cd402280b0a3de7f.jpg</td>\n      <td>D:\\data\\images\\itookapicture\\a37c752a3ecdd654c...</td>\n      <td>D:\\data\\images\\itookapicture\\thumbnail\\a37c752...</td>\n      <td>True</td>\n      <td>False</td>\n    </tr>\n    <tr>\n      <th>19765</th>\n      <td>ywjew1</td>\n      <td>itookapicture</td>\n      <td>ExaminationHopeful36</td>\n      <td>ITAP of my cat looking out of the window</td>\n      <td>a close up of a black cat sitting on a window ...</td>\n      <td>53f99cb828e71b8a3172fea41d1f2259</td>\n      <td>/r/itookapicture/comments/ywjew1/itap_of_my_ca...</td>\n      <td>https://i.redd.it/orn7pcse5a0a1.jpg</td>\n      <td>53f99cb828e71b8a3172fea41d1f2259.jpg</td>\n      <td>D:\\data\\images\\itookapicture\\53f99cb828e71b8a3...</td>\n      <td>D:\\data\\images\\itookapicture\\thumbnail\\53f99cb...</td>\n      <td>True</td>\n      <td>False</td>\n    </tr>\n    <tr>\n      <th>19766</th>\n      <td>ywjeai</td>\n      <td>itookapicture</td>\n      <td>retrospektor</td>\n      <td>ITAP of an empty beer bottle</td>\n      <td>a close up of a candle lit up in a candlelight</td>\n      <td>9d5acf1a16798238d606fc3646d16f75</td>\n      <td>/r/itookapicture/comments/ywjeai/itap_of_an_em...</td>\n      <td>https://i.redd.it/oyuscvpg5a0a1.jpg</td>\n      <td>9d5acf1a16798238d606fc3646d16f75.jpg</td>\n      <td>D:\\data\\images\\itookapicture\\9d5acf1a16798238d...</td>\n      <td>D:\\data\\images\\itookapicture\\thumbnail\\9d5acf1...</td>\n      <td>True</td>\n      <td>False</td>\n    </tr>\n    <tr>\n      <th>19767</th>\n      <td>ywj1ef</td>\n      <td>itookapicture</td>\n      <td>basil016</td>\n      <td>ITAP of fall leaves on a tree</td>\n      <td>a close up of a tree with orange leaves on it</td>\n      <td>aa650c79d5b82c9121c902140aff9202</td>\n      <td>/r/itookapicture/comments/ywj1ef/itap_of_fall_...</td>\n      <td>https://i.redd.it/38qftp6uk80a1.jpg</td>\n      <td>aa650c79d5b82c9121c902140aff9202.jpg</td>\n      <td>D:\\data\\images\\itookapicture\\aa650c79d5b82c912...</td>\n      <td>D:\\data\\images\\itookapicture\\thumbnail\\aa650c7...</td>\n      <td>True</td>\n      <td>False</td>\n    </tr>\n  </tbody>\n</table>\n<p>19768 rows × 13 columns</p>\n</div>"
     },
     "metadata": {},
     "output_type": "display_data"
    },
    {
     "name": "stdout",
     "output_type": "stream",
     "text": [
      "CPU times: total: 766 ms\n",
      "Wall time: 3.33 s\n"
     ]
    }
   ],
   "source": [
    "%%time\n",
    "\n",
    "extant_data = pd.read_parquet(\"data/processed_raw_data.parquet\", engine='pyarrow', filesystem=file_system, schema=schema)\n",
    "display(extant_data)"
   ],
   "metadata": {
    "collapsed": false
   }
  },
  {
   "cell_type": "code",
   "execution_count": 4,
   "outputs": [
    {
     "name": "stderr",
     "output_type": "stream",
     "text": [
      "Version 7.6.1 of praw is outdated. Version 7.7.0 was released Saturday February 25, 2023.\n"
     ]
    }
   ],
   "source": [
    "reddit: praw.Reddit = praw.Reddit(client_id='5hVavL0PIRyM_1JSvqT6UQ', client_secret='BjD2kS3WNLnJc59RKY-JJUuc_Z9-JA',\n",
    "\t\t\t\t\t\t\t\t  user_agent='script:%(bot_name)s:v%(bot_version)s (by /u/%(bot_author)s)')\n",
    "\n",
    "api: PushshiftAPI = PushshiftAPI(praw=reddit, num_workers=12)\n",
    "start_date: int = int(datetime.strptime('2022-01-01', '%Y-%m-%d').timestamp())"
   ],
   "metadata": {
    "collapsed": false
   }
  },
  {
   "cell_type": "code",
   "execution_count": 5,
   "outputs": [],
   "source": [
    "def filter_by_image_post(item) -> bool:\n",
    "\treturn not (item['selftext'].__contains__('[removed]') or item['selftext'].__contains__('[deleted]') and not item[\n",
    "\t\t'url'].endswith('.jpg'))"
   ],
   "metadata": {
    "collapsed": false
   }
  },
  {
   "cell_type": "code",
   "execution_count": 6,
   "outputs": [],
   "source": [
    "def fetch_image(x: object) -> object:\n",
    "\ttry:\n",
    "\t\turl = x['original_url']\n",
    "\t\tsubreddit = x['subreddit']\n",
    "\t\tresponse = requests.get(url)\n",
    "\t\tmd5 = hashlib.md5(response.content).hexdigest()\n",
    "\t\tos.makedirs(f\"D:\\\\data\\\\images\\\\{subreddit}\", exist_ok=True)\n",
    "\t\tout_path = f\"D:\\\\data\\\\images\\\\{subreddit}\\\\{md5}.jpg\"\n",
    "\n",
    "\t\tif os.path.exists(out_path):\n",
    "\t\t\treturn out_path\n",
    "\n",
    "\t\tif md5 in list(extant_data['hash']):\n",
    "\t\t\treturn out_path\n",
    "\n",
    "\t\tif md5 != \"f17b01901c752c1bb04928131d1661af\" or md5 != \"d835884373f4d6c8f24742ceabe74946\":\n",
    "\t\t\traw_image = Image.open(BytesIO(response.content))\n",
    "\t\t\traw_image.save(out_path)\n",
    "\t\t\traw_image.close()\n",
    "\t\t\treturn out_path\n",
    "\t\telse:\n",
    "\t\t\treturn \"\"\n",
    "\texcept Exception as e:\n",
    "\t\t# print(e)\n",
    "\t\treturn \"\""
   ],
   "metadata": {
    "collapsed": false
   }
  },
  {
   "cell_type": "code",
   "execution_count": 7,
   "outputs": [],
   "source": [
    "def make_thumbnail(x: object) -> str:\n",
    "\timage_path = x['path']\n",
    "\tmd5 = x['hash']\n",
    "\tsubreddit = x['subreddit']\n",
    "\tos.makedirs(f\"D:\\\\data\\\\images\\\\{subreddit}\\\\thumbnail\", exist_ok=True)\n",
    "\tout_path = f\"D:\\\\data\\\\images\\\\{subreddit}\\\\thumbnail\\\\{md5}.jpg\"\n",
    "\tif not os.path.exists(image_path):\n",
    "\t\treturn \"\"\n",
    "\tif os.path.exists(out_path):\n",
    "\t\treturn out_path\n",
    "\timg = Image.open(image_path)\n",
    "\ttry:\n",
    "\t\tcopied_image = img.copy()\n",
    "\t\tresult_copy = copied_image.resize((512, 512))\n",
    "\t\tresult_copy.save(out_path)\n",
    "\t\tresult_copy.close()\n",
    "\t\timg.close()\n",
    "\t\treturn out_path\n",
    "\texcept Exception as e:\n",
    "\t\t# print(e)\n",
    "\t\treturn \"\"\n",
    "\tfinally:\n",
    "\t\timg.close()"
   ],
   "metadata": {
    "collapsed": false
   }
  },
  {
   "cell_type": "code",
   "execution_count": 8,
   "outputs": [],
   "source": [
    "def exists(x: object) -> bool:\n",
    "\ttry:\n",
    "\t\timage_path = os.path.exists(x['path'])\n",
    "\t\tthumbnail_path = os.path.exists(x['thumbnail_path'])\n",
    "\t\treturn image_path and thumbnail_path\n",
    "\texcept Exception as e:\n",
    "\t\t# print(e)\n",
    "\t\treturn False"
   ],
   "metadata": {
    "collapsed": false
   }
  },
  {
   "cell_type": "code",
   "execution_count": 9,
   "outputs": [],
   "source": [
    "def split_hash(x: object) -> str:\n",
    "\ttry:\n",
    "\t\tname = x['image_name']\n",
    "\t\treturn name.split('.')[0]\n",
    "\texcept Exception as e:\n",
    "\t\t# print(e)\n",
    "\t\treturn \"\""
   ],
   "metadata": {
    "collapsed": false
   }
  },
  {
   "cell_type": "code",
   "execution_count": 10,
   "outputs": [],
   "source": [
    "def caption_image(x: object, blip_captioning: BlipCaption) -> str:\n",
    "\ttry:\n",
    "\t\tpath = x['path']\n",
    "\t\texists_image = bool(x['exists'])\n",
    "\t\tresulting_caption = x['caption']\n",
    "\n",
    "\t\tif not os.path.exists(path):\n",
    "\t\t\treturn \"\"\n",
    "\n",
    "\t\tif not exists_image:\n",
    "\t\t\treturn \"\"\n",
    "\n",
    "\t\tif len(resulting_caption) > 5:\n",
    "\t\t\treturn resulting_caption\n",
    "\n",
    "\t\tresulting_caption = blip_captioning.caption_image(path)\n",
    "\t\treturn resulting_caption\n",
    "\n",
    "\texcept Exception as e:\n",
    "\t\treturn \"\"\n",
    "\tfinally:\n",
    "\t\tpass"
   ],
   "metadata": {
    "collapsed": false
   }
  },
  {
   "cell_type": "code",
   "execution_count": 11,
   "outputs": [],
   "source": [
    "def get_image_name(x: object) -> str:\n",
    "\ttry:\n",
    "\t\tpath = x['path']\n",
    "\t\tif path == \"\":\n",
    "\t\t\treturn \"\"\n",
    "\t\treturn os.path.basename(path)\n",
    "\texcept Exception as e:\n",
    "\t\t# print(e)\n",
    "\t\treturn \"\""
   ],
   "metadata": {
    "collapsed": false
   }
  },
  {
   "cell_type": "code",
   "execution_count": 12,
   "outputs": [
    {
     "name": "stdout",
     "output_type": "stream",
     "text": [
      "CPU times: total: 30 s\n",
      "Wall time: 7min 47s\n"
     ]
    }
   ],
   "source": [
    "%%time\n",
    "\n",
    "all_posts = []\n",
    "\n",
    "for item in subs:\n",
    "\tposts = api.search_submissions(search_window=365, subreddit=item, limit=1000, filter_fn=filter_by_image_post, mem_safe=True, cache_dir='D:\\\\cache\\\\')\n",
    "\t[ all_posts.append(post) for post in posts ]"
   ],
   "metadata": {
    "collapsed": false
   }
  },
  {
   "cell_type": "code",
   "execution_count": 13,
   "outputs": [
    {
     "data": {
      "text/plain": "      comment_limit comment_sort  \\\n0              2048   confidence   \n1              2048   confidence   \n2              2048   confidence   \n3              2048   confidence   \n4              2048   confidence   \n...             ...          ...   \n5318           2048   confidence   \n5319           2048   confidence   \n5320           2048   confidence   \n5321           2048   confidence   \n5322           2048   confidence   \n\n                                                _reddit approved_at_utc  \\\n0     <praw.reddit.Reddit object at 0x00000242616E10A0>            None   \n1     <praw.reddit.Reddit object at 0x00000242616E10A0>            None   \n2     <praw.reddit.Reddit object at 0x00000242616E10A0>            None   \n3     <praw.reddit.Reddit object at 0x00000242616E10A0>            None   \n4     <praw.reddit.Reddit object at 0x00000242616E10A0>            None   \n...                                                 ...             ...   \n5318  <praw.reddit.Reddit object at 0x00000242674D4940>            None   \n5319  <praw.reddit.Reddit object at 0x00000242674D4940>            None   \n5320  <praw.reddit.Reddit object at 0x00000242674D4940>            None   \n5321  <praw.reddit.Reddit object at 0x00000242674D4940>            None   \n5322  <praw.reddit.Reddit object at 0x00000242674D4940>            None   \n\n          subreddit selftext author_fullname  saved mod_reason_title  gilded  \\\n0          CityPorn                 t2_xy5rp  False             None       0   \n1          CityPorn              t2_97hh49l1  False             None       0   \n2          CityPorn              t2_t2wcr4zn  False             None       0   \n3          CityPorn              t2_mvttb7jg  False             None       0   \n4          CityPorn                 t2_74uby  False             None       0   \n...             ...      ...             ...    ...              ...     ...   \n5318  itookapicture              t2_5zpnd38m  False             None       0   \n5319  itookapicture              t2_3l98q7vy  False             None       0   \n5320  itookapicture              t2_1rjdre0w  False             None       0   \n5321  itookapicture              t2_6e45t8f6  False             None       0   \n5322  itookapicture              t2_v8oxa19r  False             None       0   \n\n      ...  _fetched _comments_by_id                link_flair_template_id  \\\n0     ...     False              {}                                   NaN   \n1     ...     False              {}                                   NaN   \n2     ...     False              {}                                   NaN   \n3     ...     False              {}                                   NaN   \n4     ...     False              {}                                   NaN   \n...   ...       ...             ...                                   ...   \n5318  ...     False              {}                                   NaN   \n5319  ...     False              {}  f16cd2a8-621d-11e6-a75b-0eaaaf3b3d9d   \n5320  ...     False              {}                                   NaN   \n5321  ...     False              {}                                   NaN   \n5322  ...     False              {}                                   NaN   \n\n     crosspost_parent_list  crosspost_parent  author_cakeday is_gallery  \\\n0                      NaN               NaN             NaN        NaN   \n1                      NaN               NaN             NaN        NaN   \n2                      NaN               NaN             NaN        NaN   \n3                      NaN               NaN             NaN        NaN   \n4                      NaN               NaN             NaN        NaN   \n...                    ...               ...             ...        ...   \n5318                   NaN               NaN             NaN        NaN   \n5319                   NaN               NaN             NaN        NaN   \n5320                   NaN               NaN             NaN        NaN   \n5321                   NaN               NaN             NaN        NaN   \n5322                   NaN               NaN             NaN        NaN   \n\n      media_metadata  gallery_data poll_data  \n0                NaN           NaN       NaN  \n1                NaN           NaN       NaN  \n2                NaN           NaN       NaN  \n3                NaN           NaN       NaN  \n4                NaN           NaN       NaN  \n...              ...           ...       ...  \n5318             NaN           NaN       NaN  \n5319             NaN           NaN       NaN  \n5320             NaN           NaN       NaN  \n5321             NaN           NaN       NaN  \n5322             NaN           NaN       NaN  \n\n[5323 rows x 122 columns]",
      "text/html": "<div>\n<style scoped>\n    .dataframe tbody tr th:only-of-type {\n        vertical-align: middle;\n    }\n\n    .dataframe tbody tr th {\n        vertical-align: top;\n    }\n\n    .dataframe thead th {\n        text-align: right;\n    }\n</style>\n<table border=\"1\" class=\"dataframe\">\n  <thead>\n    <tr style=\"text-align: right;\">\n      <th></th>\n      <th>comment_limit</th>\n      <th>comment_sort</th>\n      <th>_reddit</th>\n      <th>approved_at_utc</th>\n      <th>subreddit</th>\n      <th>selftext</th>\n      <th>author_fullname</th>\n      <th>saved</th>\n      <th>mod_reason_title</th>\n      <th>gilded</th>\n      <th>...</th>\n      <th>_fetched</th>\n      <th>_comments_by_id</th>\n      <th>link_flair_template_id</th>\n      <th>crosspost_parent_list</th>\n      <th>crosspost_parent</th>\n      <th>author_cakeday</th>\n      <th>is_gallery</th>\n      <th>media_metadata</th>\n      <th>gallery_data</th>\n      <th>poll_data</th>\n    </tr>\n  </thead>\n  <tbody>\n    <tr>\n      <th>0</th>\n      <td>2048</td>\n      <td>confidence</td>\n      <td>&lt;praw.reddit.Reddit object at 0x00000242616E10A0&gt;</td>\n      <td>None</td>\n      <td>CityPorn</td>\n      <td></td>\n      <td>t2_xy5rp</td>\n      <td>False</td>\n      <td>None</td>\n      <td>0</td>\n      <td>...</td>\n      <td>False</td>\n      <td>{}</td>\n      <td>NaN</td>\n      <td>NaN</td>\n      <td>NaN</td>\n      <td>NaN</td>\n      <td>NaN</td>\n      <td>NaN</td>\n      <td>NaN</td>\n      <td>NaN</td>\n    </tr>\n    <tr>\n      <th>1</th>\n      <td>2048</td>\n      <td>confidence</td>\n      <td>&lt;praw.reddit.Reddit object at 0x00000242616E10A0&gt;</td>\n      <td>None</td>\n      <td>CityPorn</td>\n      <td></td>\n      <td>t2_97hh49l1</td>\n      <td>False</td>\n      <td>None</td>\n      <td>0</td>\n      <td>...</td>\n      <td>False</td>\n      <td>{}</td>\n      <td>NaN</td>\n      <td>NaN</td>\n      <td>NaN</td>\n      <td>NaN</td>\n      <td>NaN</td>\n      <td>NaN</td>\n      <td>NaN</td>\n      <td>NaN</td>\n    </tr>\n    <tr>\n      <th>2</th>\n      <td>2048</td>\n      <td>confidence</td>\n      <td>&lt;praw.reddit.Reddit object at 0x00000242616E10A0&gt;</td>\n      <td>None</td>\n      <td>CityPorn</td>\n      <td></td>\n      <td>t2_t2wcr4zn</td>\n      <td>False</td>\n      <td>None</td>\n      <td>0</td>\n      <td>...</td>\n      <td>False</td>\n      <td>{}</td>\n      <td>NaN</td>\n      <td>NaN</td>\n      <td>NaN</td>\n      <td>NaN</td>\n      <td>NaN</td>\n      <td>NaN</td>\n      <td>NaN</td>\n      <td>NaN</td>\n    </tr>\n    <tr>\n      <th>3</th>\n      <td>2048</td>\n      <td>confidence</td>\n      <td>&lt;praw.reddit.Reddit object at 0x00000242616E10A0&gt;</td>\n      <td>None</td>\n      <td>CityPorn</td>\n      <td></td>\n      <td>t2_mvttb7jg</td>\n      <td>False</td>\n      <td>None</td>\n      <td>0</td>\n      <td>...</td>\n      <td>False</td>\n      <td>{}</td>\n      <td>NaN</td>\n      <td>NaN</td>\n      <td>NaN</td>\n      <td>NaN</td>\n      <td>NaN</td>\n      <td>NaN</td>\n      <td>NaN</td>\n      <td>NaN</td>\n    </tr>\n    <tr>\n      <th>4</th>\n      <td>2048</td>\n      <td>confidence</td>\n      <td>&lt;praw.reddit.Reddit object at 0x00000242616E10A0&gt;</td>\n      <td>None</td>\n      <td>CityPorn</td>\n      <td></td>\n      <td>t2_74uby</td>\n      <td>False</td>\n      <td>None</td>\n      <td>0</td>\n      <td>...</td>\n      <td>False</td>\n      <td>{}</td>\n      <td>NaN</td>\n      <td>NaN</td>\n      <td>NaN</td>\n      <td>NaN</td>\n      <td>NaN</td>\n      <td>NaN</td>\n      <td>NaN</td>\n      <td>NaN</td>\n    </tr>\n    <tr>\n      <th>...</th>\n      <td>...</td>\n      <td>...</td>\n      <td>...</td>\n      <td>...</td>\n      <td>...</td>\n      <td>...</td>\n      <td>...</td>\n      <td>...</td>\n      <td>...</td>\n      <td>...</td>\n      <td>...</td>\n      <td>...</td>\n      <td>...</td>\n      <td>...</td>\n      <td>...</td>\n      <td>...</td>\n      <td>...</td>\n      <td>...</td>\n      <td>...</td>\n      <td>...</td>\n      <td>...</td>\n    </tr>\n    <tr>\n      <th>5318</th>\n      <td>2048</td>\n      <td>confidence</td>\n      <td>&lt;praw.reddit.Reddit object at 0x00000242674D4940&gt;</td>\n      <td>None</td>\n      <td>itookapicture</td>\n      <td></td>\n      <td>t2_5zpnd38m</td>\n      <td>False</td>\n      <td>None</td>\n      <td>0</td>\n      <td>...</td>\n      <td>False</td>\n      <td>{}</td>\n      <td>NaN</td>\n      <td>NaN</td>\n      <td>NaN</td>\n      <td>NaN</td>\n      <td>NaN</td>\n      <td>NaN</td>\n      <td>NaN</td>\n      <td>NaN</td>\n    </tr>\n    <tr>\n      <th>5319</th>\n      <td>2048</td>\n      <td>confidence</td>\n      <td>&lt;praw.reddit.Reddit object at 0x00000242674D4940&gt;</td>\n      <td>None</td>\n      <td>itookapicture</td>\n      <td></td>\n      <td>t2_3l98q7vy</td>\n      <td>False</td>\n      <td>None</td>\n      <td>0</td>\n      <td>...</td>\n      <td>False</td>\n      <td>{}</td>\n      <td>f16cd2a8-621d-11e6-a75b-0eaaaf3b3d9d</td>\n      <td>NaN</td>\n      <td>NaN</td>\n      <td>NaN</td>\n      <td>NaN</td>\n      <td>NaN</td>\n      <td>NaN</td>\n      <td>NaN</td>\n    </tr>\n    <tr>\n      <th>5320</th>\n      <td>2048</td>\n      <td>confidence</td>\n      <td>&lt;praw.reddit.Reddit object at 0x00000242674D4940&gt;</td>\n      <td>None</td>\n      <td>itookapicture</td>\n      <td></td>\n      <td>t2_1rjdre0w</td>\n      <td>False</td>\n      <td>None</td>\n      <td>0</td>\n      <td>...</td>\n      <td>False</td>\n      <td>{}</td>\n      <td>NaN</td>\n      <td>NaN</td>\n      <td>NaN</td>\n      <td>NaN</td>\n      <td>NaN</td>\n      <td>NaN</td>\n      <td>NaN</td>\n      <td>NaN</td>\n    </tr>\n    <tr>\n      <th>5321</th>\n      <td>2048</td>\n      <td>confidence</td>\n      <td>&lt;praw.reddit.Reddit object at 0x00000242674D4940&gt;</td>\n      <td>None</td>\n      <td>itookapicture</td>\n      <td></td>\n      <td>t2_6e45t8f6</td>\n      <td>False</td>\n      <td>None</td>\n      <td>0</td>\n      <td>...</td>\n      <td>False</td>\n      <td>{}</td>\n      <td>NaN</td>\n      <td>NaN</td>\n      <td>NaN</td>\n      <td>NaN</td>\n      <td>NaN</td>\n      <td>NaN</td>\n      <td>NaN</td>\n      <td>NaN</td>\n    </tr>\n    <tr>\n      <th>5322</th>\n      <td>2048</td>\n      <td>confidence</td>\n      <td>&lt;praw.reddit.Reddit object at 0x00000242674D4940&gt;</td>\n      <td>None</td>\n      <td>itookapicture</td>\n      <td></td>\n      <td>t2_v8oxa19r</td>\n      <td>False</td>\n      <td>None</td>\n      <td>0</td>\n      <td>...</td>\n      <td>False</td>\n      <td>{}</td>\n      <td>NaN</td>\n      <td>NaN</td>\n      <td>NaN</td>\n      <td>NaN</td>\n      <td>NaN</td>\n      <td>NaN</td>\n      <td>NaN</td>\n      <td>NaN</td>\n    </tr>\n  </tbody>\n</table>\n<p>5323 rows × 122 columns</p>\n</div>"
     },
     "metadata": {},
     "output_type": "display_data"
    },
    {
     "name": "stdout",
     "output_type": "stream",
     "text": [
      "CPU times: total: 594 ms\n",
      "Wall time: 789 ms\n"
     ]
    }
   ],
   "source": [
    "%%time\n",
    "\n",
    "df = pd.DataFrame([item for item in all_posts])\n",
    "display(df)"
   ],
   "metadata": {
    "collapsed": false
   }
  },
  {
   "cell_type": "code",
   "execution_count": 14,
   "outputs": [
    {
     "data": {
      "text/plain": "           id      subreddit             author  \\\n0     114fd0m       CityPorn         Saltedline   \n1     114dsn9       CityPorn     SumfinityPhoto   \n2     1149ggo       CityPorn        LbamaGaming   \n3     11494fv       CityPorn  Pittsburgh_Photos   \n4     11493wd       CityPorn      Surrealplaces   \n...       ...            ...                ...   \n4040  10r04ji  itookapicture      RalphieLils28   \n4041  10r02f5  itookapicture     DigitalDavid94   \n4042  10qzp5z  itookapicture          giveneric   \n4043  10qzmcp  itookapicture          ankitdb11   \n4044  10qzerd  itookapicture  panuccispizza3000   \n\n                                                  title caption hash  \\\n0          Yashio Residential Complex, Shinagawa, Tokyo                \n1     Mädlerpassage in Leipzig - Home to Auerbachs K...                \n2                              Seattle, Washington, USA                \n3     This use to be a parking lot. Schenley Plaza, ...                \n4                                       Calgary, Canada                \n...                                                 ...     ...  ...   \n4040                                     ITAP of a swan                \n4041                                    ITAP of a witch                \n4042                               ITAP of a Bald Eagle                \n4043                                 ITAP of flamingos.                \n4044        ITAP of some buildings in Glasgow, Scotland                \n\n                                              permalink  \\\n0     /r/CityPorn/comments/114fd0m/yashio_residentia...   \n1     /r/CityPorn/comments/114dsn9/mädlerpassage_in_...   \n2     /r/CityPorn/comments/1149ggo/seattle_washingto...   \n3     /r/CityPorn/comments/11494fv/this_use_to_be_a_...   \n4          /r/CityPorn/comments/11493wd/calgary_canada/   \n...                                                 ...   \n4040  /r/itookapicture/comments/10r04ji/itap_of_a_swan/   \n4041  /r/itookapicture/comments/10r02f5/itap_of_a_wi...   \n4042  /r/itookapicture/comments/10qzp5z/itap_of_a_ba...   \n4043  /r/itookapicture/comments/10qzmcp/itap_of_flam...   \n4044  /r/itookapicture/comments/10qzerd/itap_of_some...   \n\n                             original_url image_name path thumbnail_path  \\\n0         https://i.imgur.com/QXJ78B6.jpg                                  \n1     https://i.redd.it/yjb5k2bpdpia1.jpg                                  \n2     https://i.redd.it/diojclrtlpia1.jpg                                  \n3     https://i.redd.it/gdpd814ripia1.jpg                                  \n4     https://i.redd.it/rxt7w6f31oia1.jpg                                  \n...                                   ...        ...  ...            ...   \n4040  https://i.redd.it/dbsr1mczinfa1.jpg                                  \n4041  https://i.redd.it/myn7gm5linfa1.jpg                                  \n4042  https://i.redd.it/m62h1tq5gnfa1.jpg                                  \n4043  https://i.redd.it/xxgisiclfnfa1.jpg                                  \n4044  https://i.redd.it/369avhk2enfa1.jpg                                  \n\n     exists curated  \n0     False   False  \n1     False   False  \n2     False   False  \n3     False   False  \n4     False   False  \n...     ...     ...  \n4040  False   False  \n4041  False   False  \n4042  False   False  \n4043  False   False  \n4044  False   False  \n\n[4045 rows x 13 columns]",
      "text/html": "<div>\n<style scoped>\n    .dataframe tbody tr th:only-of-type {\n        vertical-align: middle;\n    }\n\n    .dataframe tbody tr th {\n        vertical-align: top;\n    }\n\n    .dataframe thead th {\n        text-align: right;\n    }\n</style>\n<table border=\"1\" class=\"dataframe\">\n  <thead>\n    <tr style=\"text-align: right;\">\n      <th></th>\n      <th>id</th>\n      <th>subreddit</th>\n      <th>author</th>\n      <th>title</th>\n      <th>caption</th>\n      <th>hash</th>\n      <th>permalink</th>\n      <th>original_url</th>\n      <th>image_name</th>\n      <th>path</th>\n      <th>thumbnail_path</th>\n      <th>exists</th>\n      <th>curated</th>\n    </tr>\n  </thead>\n  <tbody>\n    <tr>\n      <th>0</th>\n      <td>114fd0m</td>\n      <td>CityPorn</td>\n      <td>Saltedline</td>\n      <td>Yashio Residential Complex, Shinagawa, Tokyo</td>\n      <td></td>\n      <td></td>\n      <td>/r/CityPorn/comments/114fd0m/yashio_residentia...</td>\n      <td>https://i.imgur.com/QXJ78B6.jpg</td>\n      <td></td>\n      <td></td>\n      <td></td>\n      <td>False</td>\n      <td>False</td>\n    </tr>\n    <tr>\n      <th>1</th>\n      <td>114dsn9</td>\n      <td>CityPorn</td>\n      <td>SumfinityPhoto</td>\n      <td>Mädlerpassage in Leipzig - Home to Auerbachs K...</td>\n      <td></td>\n      <td></td>\n      <td>/r/CityPorn/comments/114dsn9/mädlerpassage_in_...</td>\n      <td>https://i.redd.it/yjb5k2bpdpia1.jpg</td>\n      <td></td>\n      <td></td>\n      <td></td>\n      <td>False</td>\n      <td>False</td>\n    </tr>\n    <tr>\n      <th>2</th>\n      <td>1149ggo</td>\n      <td>CityPorn</td>\n      <td>LbamaGaming</td>\n      <td>Seattle, Washington, USA</td>\n      <td></td>\n      <td></td>\n      <td>/r/CityPorn/comments/1149ggo/seattle_washingto...</td>\n      <td>https://i.redd.it/diojclrtlpia1.jpg</td>\n      <td></td>\n      <td></td>\n      <td></td>\n      <td>False</td>\n      <td>False</td>\n    </tr>\n    <tr>\n      <th>3</th>\n      <td>11494fv</td>\n      <td>CityPorn</td>\n      <td>Pittsburgh_Photos</td>\n      <td>This use to be a parking lot. Schenley Plaza, ...</td>\n      <td></td>\n      <td></td>\n      <td>/r/CityPorn/comments/11494fv/this_use_to_be_a_...</td>\n      <td>https://i.redd.it/gdpd814ripia1.jpg</td>\n      <td></td>\n      <td></td>\n      <td></td>\n      <td>False</td>\n      <td>False</td>\n    </tr>\n    <tr>\n      <th>4</th>\n      <td>11493wd</td>\n      <td>CityPorn</td>\n      <td>Surrealplaces</td>\n      <td>Calgary, Canada</td>\n      <td></td>\n      <td></td>\n      <td>/r/CityPorn/comments/11493wd/calgary_canada/</td>\n      <td>https://i.redd.it/rxt7w6f31oia1.jpg</td>\n      <td></td>\n      <td></td>\n      <td></td>\n      <td>False</td>\n      <td>False</td>\n    </tr>\n    <tr>\n      <th>...</th>\n      <td>...</td>\n      <td>...</td>\n      <td>...</td>\n      <td>...</td>\n      <td>...</td>\n      <td>...</td>\n      <td>...</td>\n      <td>...</td>\n      <td>...</td>\n      <td>...</td>\n      <td>...</td>\n      <td>...</td>\n      <td>...</td>\n    </tr>\n    <tr>\n      <th>4040</th>\n      <td>10r04ji</td>\n      <td>itookapicture</td>\n      <td>RalphieLils28</td>\n      <td>ITAP of a swan</td>\n      <td></td>\n      <td></td>\n      <td>/r/itookapicture/comments/10r04ji/itap_of_a_swan/</td>\n      <td>https://i.redd.it/dbsr1mczinfa1.jpg</td>\n      <td></td>\n      <td></td>\n      <td></td>\n      <td>False</td>\n      <td>False</td>\n    </tr>\n    <tr>\n      <th>4041</th>\n      <td>10r02f5</td>\n      <td>itookapicture</td>\n      <td>DigitalDavid94</td>\n      <td>ITAP of a witch</td>\n      <td></td>\n      <td></td>\n      <td>/r/itookapicture/comments/10r02f5/itap_of_a_wi...</td>\n      <td>https://i.redd.it/myn7gm5linfa1.jpg</td>\n      <td></td>\n      <td></td>\n      <td></td>\n      <td>False</td>\n      <td>False</td>\n    </tr>\n    <tr>\n      <th>4042</th>\n      <td>10qzp5z</td>\n      <td>itookapicture</td>\n      <td>giveneric</td>\n      <td>ITAP of a Bald Eagle</td>\n      <td></td>\n      <td></td>\n      <td>/r/itookapicture/comments/10qzp5z/itap_of_a_ba...</td>\n      <td>https://i.redd.it/m62h1tq5gnfa1.jpg</td>\n      <td></td>\n      <td></td>\n      <td></td>\n      <td>False</td>\n      <td>False</td>\n    </tr>\n    <tr>\n      <th>4043</th>\n      <td>10qzmcp</td>\n      <td>itookapicture</td>\n      <td>ankitdb11</td>\n      <td>ITAP of flamingos.</td>\n      <td></td>\n      <td></td>\n      <td>/r/itookapicture/comments/10qzmcp/itap_of_flam...</td>\n      <td>https://i.redd.it/xxgisiclfnfa1.jpg</td>\n      <td></td>\n      <td></td>\n      <td></td>\n      <td>False</td>\n      <td>False</td>\n    </tr>\n    <tr>\n      <th>4044</th>\n      <td>10qzerd</td>\n      <td>itookapicture</td>\n      <td>panuccispizza3000</td>\n      <td>ITAP of some buildings in Glasgow, Scotland</td>\n      <td></td>\n      <td></td>\n      <td>/r/itookapicture/comments/10qzerd/itap_of_some...</td>\n      <td>https://i.redd.it/369avhk2enfa1.jpg</td>\n      <td></td>\n      <td></td>\n      <td></td>\n      <td>False</td>\n      <td>False</td>\n    </tr>\n  </tbody>\n</table>\n<p>4045 rows × 13 columns</p>\n</div>"
     },
     "metadata": {},
     "output_type": "display_data"
    },
    {
     "name": "stdout",
     "output_type": "stream",
     "text": [
      "CPU times: total: 188 ms\n",
      "Wall time: 315 ms\n"
     ]
    }
   ],
   "source": [
    "%%time\n",
    "\n",
    "initial = pd.DataFrame({}, columns=schema.names)\n",
    "initial['id'] = df['id']\n",
    "initial['subreddit'] = df['subreddit']\n",
    "initial['author'] = df['author']\n",
    "initial['title'] = df['title']\n",
    "initial['caption'] = \"\"\n",
    "initial['hash'] = \"\"\n",
    "initial['permalink'] = df['permalink']\n",
    "initial['original_url'] = df['url']\n",
    "initial['image_name'] = \"\"\n",
    "initial['path'] = \"\"\n",
    "initial['thumbnail_path'] = \"\"\n",
    "initial['exists'] = False\n",
    "initial['curated'] = False\n",
    "\n",
    "filtered_initial = initial.where(initial['original_url'].str.endswith('.jpg')).dropna(how='all').reset_index().drop('index', axis=1)\n",
    "\n",
    "display(filtered_initial)"
   ],
   "metadata": {
    "collapsed": false
   }
  },
  {
   "cell_type": "code",
   "execution_count": 15,
   "outputs": [
    {
     "data": {
      "text/plain": "           id      subreddit             author  \\\n0     1144tsr       CityPorn            egnogra   \n1     11v1wnw       CityPorn          HamSolo14   \n2     11v17te       CityPorn     gabigolterasga   \n3     11uyetd       CityPorn           atzucach   \n4     11uww70       CityPorn          Beatnik64   \n...       ...            ...                ...   \n1688  10r04ji  itookapicture      RalphieLils28   \n1689  10r02f5  itookapicture     DigitalDavid94   \n1690  10qzp5z  itookapicture          giveneric   \n1691  10qzmcp  itookapicture          ankitdb11   \n1692  10qzerd  itookapicture  panuccispizza3000   \n\n                                                  title caption hash  \\\n0                              Neo Goldlen Gai 新宿ゴールデン街                \n1                   São Paulo Historical Center, Brasil                \n2     Santiago, Chile. The city with the Highest HDI...                \n3                                             Barcelona                \n4                             San Francisco, California                \n...                                                 ...     ...  ...   \n1688                                     ITAP of a swan                \n1689                                    ITAP of a witch                \n1690                               ITAP of a Bald Eagle                \n1691                                 ITAP of flamingos.                \n1692        ITAP of some buildings in Glasgow, Scotland                \n\n                                              permalink  \\\n0     /r/CityPorn/comments/1144tsr/neo_goldlen_gai_新...   \n1     /r/CityPorn/comments/11v1wnw/são_paulo_histori...   \n2     /r/CityPorn/comments/11v17te/santiago_chile_th...   \n3               /r/CityPorn/comments/11uyetd/barcelona/   \n4     /r/CityPorn/comments/11uww70/san_francisco_cal...   \n...                                                 ...   \n1688  /r/itookapicture/comments/10r04ji/itap_of_a_swan/   \n1689  /r/itookapicture/comments/10r02f5/itap_of_a_wi...   \n1690  /r/itookapicture/comments/10qzp5z/itap_of_a_ba...   \n1691  /r/itookapicture/comments/10qzmcp/itap_of_flam...   \n1692  /r/itookapicture/comments/10qzerd/itap_of_some...   \n\n                             original_url image_name path thumbnail_path  \\\n0     https://i.redd.it/56m7bhauhoia1.jpg                                  \n1     https://i.redd.it/j1yn5isj0moa1.jpg                                  \n2     https://i.redd.it/08jhmp5zdkoa1.jpg                                  \n3     https://i.redd.it/rzrdrgpjfloa1.jpg                                  \n4     https://i.redd.it/16vgdp5qpjoa1.jpg                                  \n...                                   ...        ...  ...            ...   \n1688  https://i.redd.it/dbsr1mczinfa1.jpg                                  \n1689  https://i.redd.it/myn7gm5linfa1.jpg                                  \n1690  https://i.redd.it/m62h1tq5gnfa1.jpg                                  \n1691  https://i.redd.it/xxgisiclfnfa1.jpg                                  \n1692  https://i.redd.it/369avhk2enfa1.jpg                                  \n\n     exists curated  \n0     False   False  \n1     False   False  \n2     False   False  \n3     False   False  \n4     False   False  \n...     ...     ...  \n1688  False   False  \n1689  False   False  \n1690  False   False  \n1691  False   False  \n1692  False   False  \n\n[1693 rows x 13 columns]",
      "text/html": "<div>\n<style scoped>\n    .dataframe tbody tr th:only-of-type {\n        vertical-align: middle;\n    }\n\n    .dataframe tbody tr th {\n        vertical-align: top;\n    }\n\n    .dataframe thead th {\n        text-align: right;\n    }\n</style>\n<table border=\"1\" class=\"dataframe\">\n  <thead>\n    <tr style=\"text-align: right;\">\n      <th></th>\n      <th>id</th>\n      <th>subreddit</th>\n      <th>author</th>\n      <th>title</th>\n      <th>caption</th>\n      <th>hash</th>\n      <th>permalink</th>\n      <th>original_url</th>\n      <th>image_name</th>\n      <th>path</th>\n      <th>thumbnail_path</th>\n      <th>exists</th>\n      <th>curated</th>\n    </tr>\n  </thead>\n  <tbody>\n    <tr>\n      <th>0</th>\n      <td>1144tsr</td>\n      <td>CityPorn</td>\n      <td>egnogra</td>\n      <td>Neo Goldlen Gai 新宿ゴールデン街</td>\n      <td></td>\n      <td></td>\n      <td>/r/CityPorn/comments/1144tsr/neo_goldlen_gai_新...</td>\n      <td>https://i.redd.it/56m7bhauhoia1.jpg</td>\n      <td></td>\n      <td></td>\n      <td></td>\n      <td>False</td>\n      <td>False</td>\n    </tr>\n    <tr>\n      <th>1</th>\n      <td>11v1wnw</td>\n      <td>CityPorn</td>\n      <td>HamSolo14</td>\n      <td>São Paulo Historical Center, Brasil</td>\n      <td></td>\n      <td></td>\n      <td>/r/CityPorn/comments/11v1wnw/são_paulo_histori...</td>\n      <td>https://i.redd.it/j1yn5isj0moa1.jpg</td>\n      <td></td>\n      <td></td>\n      <td></td>\n      <td>False</td>\n      <td>False</td>\n    </tr>\n    <tr>\n      <th>2</th>\n      <td>11v17te</td>\n      <td>CityPorn</td>\n      <td>gabigolterasga</td>\n      <td>Santiago, Chile. The city with the Highest HDI...</td>\n      <td></td>\n      <td></td>\n      <td>/r/CityPorn/comments/11v17te/santiago_chile_th...</td>\n      <td>https://i.redd.it/08jhmp5zdkoa1.jpg</td>\n      <td></td>\n      <td></td>\n      <td></td>\n      <td>False</td>\n      <td>False</td>\n    </tr>\n    <tr>\n      <th>3</th>\n      <td>11uyetd</td>\n      <td>CityPorn</td>\n      <td>atzucach</td>\n      <td>Barcelona</td>\n      <td></td>\n      <td></td>\n      <td>/r/CityPorn/comments/11uyetd/barcelona/</td>\n      <td>https://i.redd.it/rzrdrgpjfloa1.jpg</td>\n      <td></td>\n      <td></td>\n      <td></td>\n      <td>False</td>\n      <td>False</td>\n    </tr>\n    <tr>\n      <th>4</th>\n      <td>11uww70</td>\n      <td>CityPorn</td>\n      <td>Beatnik64</td>\n      <td>San Francisco, California</td>\n      <td></td>\n      <td></td>\n      <td>/r/CityPorn/comments/11uww70/san_francisco_cal...</td>\n      <td>https://i.redd.it/16vgdp5qpjoa1.jpg</td>\n      <td></td>\n      <td></td>\n      <td></td>\n      <td>False</td>\n      <td>False</td>\n    </tr>\n    <tr>\n      <th>...</th>\n      <td>...</td>\n      <td>...</td>\n      <td>...</td>\n      <td>...</td>\n      <td>...</td>\n      <td>...</td>\n      <td>...</td>\n      <td>...</td>\n      <td>...</td>\n      <td>...</td>\n      <td>...</td>\n      <td>...</td>\n      <td>...</td>\n    </tr>\n    <tr>\n      <th>1688</th>\n      <td>10r04ji</td>\n      <td>itookapicture</td>\n      <td>RalphieLils28</td>\n      <td>ITAP of a swan</td>\n      <td></td>\n      <td></td>\n      <td>/r/itookapicture/comments/10r04ji/itap_of_a_swan/</td>\n      <td>https://i.redd.it/dbsr1mczinfa1.jpg</td>\n      <td></td>\n      <td></td>\n      <td></td>\n      <td>False</td>\n      <td>False</td>\n    </tr>\n    <tr>\n      <th>1689</th>\n      <td>10r02f5</td>\n      <td>itookapicture</td>\n      <td>DigitalDavid94</td>\n      <td>ITAP of a witch</td>\n      <td></td>\n      <td></td>\n      <td>/r/itookapicture/comments/10r02f5/itap_of_a_wi...</td>\n      <td>https://i.redd.it/myn7gm5linfa1.jpg</td>\n      <td></td>\n      <td></td>\n      <td></td>\n      <td>False</td>\n      <td>False</td>\n    </tr>\n    <tr>\n      <th>1690</th>\n      <td>10qzp5z</td>\n      <td>itookapicture</td>\n      <td>giveneric</td>\n      <td>ITAP of a Bald Eagle</td>\n      <td></td>\n      <td></td>\n      <td>/r/itookapicture/comments/10qzp5z/itap_of_a_ba...</td>\n      <td>https://i.redd.it/m62h1tq5gnfa1.jpg</td>\n      <td></td>\n      <td></td>\n      <td></td>\n      <td>False</td>\n      <td>False</td>\n    </tr>\n    <tr>\n      <th>1691</th>\n      <td>10qzmcp</td>\n      <td>itookapicture</td>\n      <td>ankitdb11</td>\n      <td>ITAP of flamingos.</td>\n      <td></td>\n      <td></td>\n      <td>/r/itookapicture/comments/10qzmcp/itap_of_flam...</td>\n      <td>https://i.redd.it/xxgisiclfnfa1.jpg</td>\n      <td></td>\n      <td></td>\n      <td></td>\n      <td>False</td>\n      <td>False</td>\n    </tr>\n    <tr>\n      <th>1692</th>\n      <td>10qzerd</td>\n      <td>itookapicture</td>\n      <td>panuccispizza3000</td>\n      <td>ITAP of some buildings in Glasgow, Scotland</td>\n      <td></td>\n      <td></td>\n      <td>/r/itookapicture/comments/10qzerd/itap_of_some...</td>\n      <td>https://i.redd.it/369avhk2enfa1.jpg</td>\n      <td></td>\n      <td></td>\n      <td></td>\n      <td>False</td>\n      <td>False</td>\n    </tr>\n  </tbody>\n</table>\n<p>1693 rows × 13 columns</p>\n</div>"
     },
     "metadata": {},
     "output_type": "display_data"
    },
    {
     "name": "stdout",
     "output_type": "stream",
     "text": [
      "CPU times: total: 109 ms\n",
      "Wall time: 163 ms\n"
     ]
    }
   ],
   "source": [
    "%%time\n",
    "\n",
    "new_entries = filtered_initial.where(~filtered_initial['id'].isin(extant_data['id'])).dropna(how='all').reset_index().drop('index', axis=1)\n",
    "\n",
    "display(new_entries)"
   ],
   "metadata": {
    "collapsed": false
   }
  },
  {
   "cell_type": "code",
   "execution_count": 16,
   "outputs": [
    {
     "name": "stderr",
     "output_type": "stream",
     "text": [
      "Fetch-Image: 100%|██████████| 1693/1693 [16:08<00:00,  1.75it/s]\n",
      "Get-Image-Name: 100%|██████████| 1693/1693 [00:00<00:00, 6980.28it/s]\n",
      "Split-Hash: 100%|██████████| 1693/1693 [00:00<00:00, 17453.37it/s]\n"
     ]
    },
    {
     "data": {
      "text/plain": "           id      subreddit             author  \\\n0     1144tsr       CityPorn            egnogra   \n1     11v1wnw       CityPorn          HamSolo14   \n2     11v17te       CityPorn     gabigolterasga   \n3     11uyetd       CityPorn           atzucach   \n4     11uww70       CityPorn          Beatnik64   \n...       ...            ...                ...   \n1688  10r04ji  itookapicture      RalphieLils28   \n1689  10r02f5  itookapicture     DigitalDavid94   \n1690  10qzp5z  itookapicture          giveneric   \n1691  10qzmcp  itookapicture          ankitdb11   \n1692  10qzerd  itookapicture  panuccispizza3000   \n\n                                                  title caption  \\\n0                              Neo Goldlen Gai 新宿ゴールデン街           \n1                   São Paulo Historical Center, Brasil           \n2     Santiago, Chile. The city with the Highest HDI...           \n3                                             Barcelona           \n4                             San Francisco, California           \n...                                                 ...     ...   \n1688                                     ITAP of a swan           \n1689                                    ITAP of a witch           \n1690                               ITAP of a Bald Eagle           \n1691                                 ITAP of flamingos.           \n1692        ITAP of some buildings in Glasgow, Scotland           \n\n                                  hash  \\\n0     9c726e3ad6114dd06a25ae0e9d3dd9ba   \n1     57cfe2d8e6229af18cca2fc497ba9a1b   \n2     c02b0059628ef836c1c5f883fbc0fd66   \n3     54936a6255c7c3df757ecef506f786d4   \n4     43d548a485831050458f3c71dc6109d1   \n...                                ...   \n1688  b9d9119d89c2473df5828a15db9f5264   \n1689  17fc7087b047d9e5b5da9ce299077706   \n1690  a7205f636ae0be5b3c6dd1f5e73ab7ee   \n1691  827260f27293bf219f260ed275534368   \n1692  2c4864a1e8a131ff0f821a8c0afe7427   \n\n                                              permalink  \\\n0     /r/CityPorn/comments/1144tsr/neo_goldlen_gai_新...   \n1     /r/CityPorn/comments/11v1wnw/são_paulo_histori...   \n2     /r/CityPorn/comments/11v17te/santiago_chile_th...   \n3               /r/CityPorn/comments/11uyetd/barcelona/   \n4     /r/CityPorn/comments/11uww70/san_francisco_cal...   \n...                                                 ...   \n1688  /r/itookapicture/comments/10r04ji/itap_of_a_swan/   \n1689  /r/itookapicture/comments/10r02f5/itap_of_a_wi...   \n1690  /r/itookapicture/comments/10qzp5z/itap_of_a_ba...   \n1691  /r/itookapicture/comments/10qzmcp/itap_of_flam...   \n1692  /r/itookapicture/comments/10qzerd/itap_of_some...   \n\n                             original_url  \\\n0     https://i.redd.it/56m7bhauhoia1.jpg   \n1     https://i.redd.it/j1yn5isj0moa1.jpg   \n2     https://i.redd.it/08jhmp5zdkoa1.jpg   \n3     https://i.redd.it/rzrdrgpjfloa1.jpg   \n4     https://i.redd.it/16vgdp5qpjoa1.jpg   \n...                                   ...   \n1688  https://i.redd.it/dbsr1mczinfa1.jpg   \n1689  https://i.redd.it/myn7gm5linfa1.jpg   \n1690  https://i.redd.it/m62h1tq5gnfa1.jpg   \n1691  https://i.redd.it/xxgisiclfnfa1.jpg   \n1692  https://i.redd.it/369avhk2enfa1.jpg   \n\n                                image_name  \\\n0     9c726e3ad6114dd06a25ae0e9d3dd9ba.jpg   \n1     57cfe2d8e6229af18cca2fc497ba9a1b.jpg   \n2     c02b0059628ef836c1c5f883fbc0fd66.jpg   \n3     54936a6255c7c3df757ecef506f786d4.jpg   \n4     43d548a485831050458f3c71dc6109d1.jpg   \n...                                    ...   \n1688  b9d9119d89c2473df5828a15db9f5264.jpg   \n1689  17fc7087b047d9e5b5da9ce299077706.jpg   \n1690  a7205f636ae0be5b3c6dd1f5e73ab7ee.jpg   \n1691  827260f27293bf219f260ed275534368.jpg   \n1692  2c4864a1e8a131ff0f821a8c0afe7427.jpg   \n\n                                                   path thumbnail_path exists  \\\n0     D:\\data\\images\\CityPorn\\9c726e3ad6114dd06a25ae...                 False   \n1     D:\\data\\images\\CityPorn\\57cfe2d8e6229af18cca2f...                 False   \n2     D:\\data\\images\\CityPorn\\c02b0059628ef836c1c5f8...                 False   \n3     D:\\data\\images\\CityPorn\\54936a6255c7c3df757ece...                 False   \n4     D:\\data\\images\\CityPorn\\43d548a485831050458f3c...                 False   \n...                                                 ...            ...    ...   \n1688  D:\\data\\images\\itookapicture\\b9d9119d89c2473df...                 False   \n1689  D:\\data\\images\\itookapicture\\17fc7087b047d9e5b...                 False   \n1690  D:\\data\\images\\itookapicture\\a7205f636ae0be5b3...                 False   \n1691  D:\\data\\images\\itookapicture\\827260f27293bf219...                 False   \n1692  D:\\data\\images\\itookapicture\\2c4864a1e8a131ff0...                 False   \n\n     curated  \n0      False  \n1      False  \n2      False  \n3      False  \n4      False  \n...      ...  \n1688   False  \n1689   False  \n1690   False  \n1691   False  \n1692   False  \n\n[1693 rows x 13 columns]",
      "text/html": "<div>\n<style scoped>\n    .dataframe tbody tr th:only-of-type {\n        vertical-align: middle;\n    }\n\n    .dataframe tbody tr th {\n        vertical-align: top;\n    }\n\n    .dataframe thead th {\n        text-align: right;\n    }\n</style>\n<table border=\"1\" class=\"dataframe\">\n  <thead>\n    <tr style=\"text-align: right;\">\n      <th></th>\n      <th>id</th>\n      <th>subreddit</th>\n      <th>author</th>\n      <th>title</th>\n      <th>caption</th>\n      <th>hash</th>\n      <th>permalink</th>\n      <th>original_url</th>\n      <th>image_name</th>\n      <th>path</th>\n      <th>thumbnail_path</th>\n      <th>exists</th>\n      <th>curated</th>\n    </tr>\n  </thead>\n  <tbody>\n    <tr>\n      <th>0</th>\n      <td>1144tsr</td>\n      <td>CityPorn</td>\n      <td>egnogra</td>\n      <td>Neo Goldlen Gai 新宿ゴールデン街</td>\n      <td></td>\n      <td>9c726e3ad6114dd06a25ae0e9d3dd9ba</td>\n      <td>/r/CityPorn/comments/1144tsr/neo_goldlen_gai_新...</td>\n      <td>https://i.redd.it/56m7bhauhoia1.jpg</td>\n      <td>9c726e3ad6114dd06a25ae0e9d3dd9ba.jpg</td>\n      <td>D:\\data\\images\\CityPorn\\9c726e3ad6114dd06a25ae...</td>\n      <td></td>\n      <td>False</td>\n      <td>False</td>\n    </tr>\n    <tr>\n      <th>1</th>\n      <td>11v1wnw</td>\n      <td>CityPorn</td>\n      <td>HamSolo14</td>\n      <td>São Paulo Historical Center, Brasil</td>\n      <td></td>\n      <td>57cfe2d8e6229af18cca2fc497ba9a1b</td>\n      <td>/r/CityPorn/comments/11v1wnw/são_paulo_histori...</td>\n      <td>https://i.redd.it/j1yn5isj0moa1.jpg</td>\n      <td>57cfe2d8e6229af18cca2fc497ba9a1b.jpg</td>\n      <td>D:\\data\\images\\CityPorn\\57cfe2d8e6229af18cca2f...</td>\n      <td></td>\n      <td>False</td>\n      <td>False</td>\n    </tr>\n    <tr>\n      <th>2</th>\n      <td>11v17te</td>\n      <td>CityPorn</td>\n      <td>gabigolterasga</td>\n      <td>Santiago, Chile. The city with the Highest HDI...</td>\n      <td></td>\n      <td>c02b0059628ef836c1c5f883fbc0fd66</td>\n      <td>/r/CityPorn/comments/11v17te/santiago_chile_th...</td>\n      <td>https://i.redd.it/08jhmp5zdkoa1.jpg</td>\n      <td>c02b0059628ef836c1c5f883fbc0fd66.jpg</td>\n      <td>D:\\data\\images\\CityPorn\\c02b0059628ef836c1c5f8...</td>\n      <td></td>\n      <td>False</td>\n      <td>False</td>\n    </tr>\n    <tr>\n      <th>3</th>\n      <td>11uyetd</td>\n      <td>CityPorn</td>\n      <td>atzucach</td>\n      <td>Barcelona</td>\n      <td></td>\n      <td>54936a6255c7c3df757ecef506f786d4</td>\n      <td>/r/CityPorn/comments/11uyetd/barcelona/</td>\n      <td>https://i.redd.it/rzrdrgpjfloa1.jpg</td>\n      <td>54936a6255c7c3df757ecef506f786d4.jpg</td>\n      <td>D:\\data\\images\\CityPorn\\54936a6255c7c3df757ece...</td>\n      <td></td>\n      <td>False</td>\n      <td>False</td>\n    </tr>\n    <tr>\n      <th>4</th>\n      <td>11uww70</td>\n      <td>CityPorn</td>\n      <td>Beatnik64</td>\n      <td>San Francisco, California</td>\n      <td></td>\n      <td>43d548a485831050458f3c71dc6109d1</td>\n      <td>/r/CityPorn/comments/11uww70/san_francisco_cal...</td>\n      <td>https://i.redd.it/16vgdp5qpjoa1.jpg</td>\n      <td>43d548a485831050458f3c71dc6109d1.jpg</td>\n      <td>D:\\data\\images\\CityPorn\\43d548a485831050458f3c...</td>\n      <td></td>\n      <td>False</td>\n      <td>False</td>\n    </tr>\n    <tr>\n      <th>...</th>\n      <td>...</td>\n      <td>...</td>\n      <td>...</td>\n      <td>...</td>\n      <td>...</td>\n      <td>...</td>\n      <td>...</td>\n      <td>...</td>\n      <td>...</td>\n      <td>...</td>\n      <td>...</td>\n      <td>...</td>\n      <td>...</td>\n    </tr>\n    <tr>\n      <th>1688</th>\n      <td>10r04ji</td>\n      <td>itookapicture</td>\n      <td>RalphieLils28</td>\n      <td>ITAP of a swan</td>\n      <td></td>\n      <td>b9d9119d89c2473df5828a15db9f5264</td>\n      <td>/r/itookapicture/comments/10r04ji/itap_of_a_swan/</td>\n      <td>https://i.redd.it/dbsr1mczinfa1.jpg</td>\n      <td>b9d9119d89c2473df5828a15db9f5264.jpg</td>\n      <td>D:\\data\\images\\itookapicture\\b9d9119d89c2473df...</td>\n      <td></td>\n      <td>False</td>\n      <td>False</td>\n    </tr>\n    <tr>\n      <th>1689</th>\n      <td>10r02f5</td>\n      <td>itookapicture</td>\n      <td>DigitalDavid94</td>\n      <td>ITAP of a witch</td>\n      <td></td>\n      <td>17fc7087b047d9e5b5da9ce299077706</td>\n      <td>/r/itookapicture/comments/10r02f5/itap_of_a_wi...</td>\n      <td>https://i.redd.it/myn7gm5linfa1.jpg</td>\n      <td>17fc7087b047d9e5b5da9ce299077706.jpg</td>\n      <td>D:\\data\\images\\itookapicture\\17fc7087b047d9e5b...</td>\n      <td></td>\n      <td>False</td>\n      <td>False</td>\n    </tr>\n    <tr>\n      <th>1690</th>\n      <td>10qzp5z</td>\n      <td>itookapicture</td>\n      <td>giveneric</td>\n      <td>ITAP of a Bald Eagle</td>\n      <td></td>\n      <td>a7205f636ae0be5b3c6dd1f5e73ab7ee</td>\n      <td>/r/itookapicture/comments/10qzp5z/itap_of_a_ba...</td>\n      <td>https://i.redd.it/m62h1tq5gnfa1.jpg</td>\n      <td>a7205f636ae0be5b3c6dd1f5e73ab7ee.jpg</td>\n      <td>D:\\data\\images\\itookapicture\\a7205f636ae0be5b3...</td>\n      <td></td>\n      <td>False</td>\n      <td>False</td>\n    </tr>\n    <tr>\n      <th>1691</th>\n      <td>10qzmcp</td>\n      <td>itookapicture</td>\n      <td>ankitdb11</td>\n      <td>ITAP of flamingos.</td>\n      <td></td>\n      <td>827260f27293bf219f260ed275534368</td>\n      <td>/r/itookapicture/comments/10qzmcp/itap_of_flam...</td>\n      <td>https://i.redd.it/xxgisiclfnfa1.jpg</td>\n      <td>827260f27293bf219f260ed275534368.jpg</td>\n      <td>D:\\data\\images\\itookapicture\\827260f27293bf219...</td>\n      <td></td>\n      <td>False</td>\n      <td>False</td>\n    </tr>\n    <tr>\n      <th>1692</th>\n      <td>10qzerd</td>\n      <td>itookapicture</td>\n      <td>panuccispizza3000</td>\n      <td>ITAP of some buildings in Glasgow, Scotland</td>\n      <td></td>\n      <td>2c4864a1e8a131ff0f821a8c0afe7427</td>\n      <td>/r/itookapicture/comments/10qzerd/itap_of_some...</td>\n      <td>https://i.redd.it/369avhk2enfa1.jpg</td>\n      <td>2c4864a1e8a131ff0f821a8c0afe7427.jpg</td>\n      <td>D:\\data\\images\\itookapicture\\2c4864a1e8a131ff0...</td>\n      <td></td>\n      <td>False</td>\n      <td>False</td>\n    </tr>\n  </tbody>\n</table>\n<p>1693 rows × 13 columns</p>\n</div>"
     },
     "metadata": {},
     "output_type": "display_data"
    },
    {
     "name": "stdout",
     "output_type": "stream",
     "text": [
      "CPU times: total: 8min 20s\n",
      "Wall time: 16min 8s\n"
     ]
    }
   ],
   "source": [
    "%%time\n",
    "\n",
    "new_entries_1 = new_entries.copy()\n",
    "\n",
    "tqdm.pandas(desc=\"Fetch-Image\")\n",
    "with ProgressBar():\n",
    "\tnew_entries_1['path'] = new_entries_1.progress_apply(lambda x: fetch_image(x), axis=1)\n",
    "\n",
    "tqdm.pandas(desc=\"Get-Image-Name\")\n",
    "with ProgressBar():\n",
    "\tnew_entries_1['image_name'] = new_entries_1.progress_apply(lambda x: get_image_name(x), axis=1)\n",
    "\n",
    "tqdm.pandas(desc=\"Split-Hash\")\n",
    "with ProgressBar():\n",
    "\tnew_entries_1['hash'] = new_entries_1.progress_apply(lambda x: split_hash(x), axis=1)\n",
    "\n",
    "display(new_entries_1)"
   ],
   "metadata": {
    "collapsed": false
   }
  },
  {
   "cell_type": "code",
   "execution_count": 17,
   "outputs": [
    {
     "name": "stderr",
     "output_type": "stream",
     "text": [
      "Create-Thumbnail: 100%|██████████| 1693/1693 [10:59<00:00,  2.57it/s]\n",
      "Checking-Exists: 100%|██████████| 1693/1693 [00:01<00:00, 1674.75it/s]\n"
     ]
    },
    {
     "data": {
      "text/plain": "           id      subreddit             author  \\\n0     1144tsr       CityPorn            egnogra   \n1     11v1wnw       CityPorn          HamSolo14   \n2     11v17te       CityPorn     gabigolterasga   \n3     11uyetd       CityPorn           atzucach   \n4     11uww70       CityPorn          Beatnik64   \n...       ...            ...                ...   \n1688  10r04ji  itookapicture      RalphieLils28   \n1689  10r02f5  itookapicture     DigitalDavid94   \n1690  10qzp5z  itookapicture          giveneric   \n1691  10qzmcp  itookapicture          ankitdb11   \n1692  10qzerd  itookapicture  panuccispizza3000   \n\n                                                  title caption  \\\n0                              Neo Goldlen Gai 新宿ゴールデン街           \n1                   São Paulo Historical Center, Brasil           \n2     Santiago, Chile. The city with the Highest HDI...           \n3                                             Barcelona           \n4                             San Francisco, California           \n...                                                 ...     ...   \n1688                                     ITAP of a swan           \n1689                                    ITAP of a witch           \n1690                               ITAP of a Bald Eagle           \n1691                                 ITAP of flamingos.           \n1692        ITAP of some buildings in Glasgow, Scotland           \n\n                                  hash  \\\n0     9c726e3ad6114dd06a25ae0e9d3dd9ba   \n1     57cfe2d8e6229af18cca2fc497ba9a1b   \n2     c02b0059628ef836c1c5f883fbc0fd66   \n3     54936a6255c7c3df757ecef506f786d4   \n4     43d548a485831050458f3c71dc6109d1   \n...                                ...   \n1688  b9d9119d89c2473df5828a15db9f5264   \n1689  17fc7087b047d9e5b5da9ce299077706   \n1690  a7205f636ae0be5b3c6dd1f5e73ab7ee   \n1691  827260f27293bf219f260ed275534368   \n1692  2c4864a1e8a131ff0f821a8c0afe7427   \n\n                                              permalink  \\\n0     /r/CityPorn/comments/1144tsr/neo_goldlen_gai_新...   \n1     /r/CityPorn/comments/11v1wnw/são_paulo_histori...   \n2     /r/CityPorn/comments/11v17te/santiago_chile_th...   \n3               /r/CityPorn/comments/11uyetd/barcelona/   \n4     /r/CityPorn/comments/11uww70/san_francisco_cal...   \n...                                                 ...   \n1688  /r/itookapicture/comments/10r04ji/itap_of_a_swan/   \n1689  /r/itookapicture/comments/10r02f5/itap_of_a_wi...   \n1690  /r/itookapicture/comments/10qzp5z/itap_of_a_ba...   \n1691  /r/itookapicture/comments/10qzmcp/itap_of_flam...   \n1692  /r/itookapicture/comments/10qzerd/itap_of_some...   \n\n                             original_url  \\\n0     https://i.redd.it/56m7bhauhoia1.jpg   \n1     https://i.redd.it/j1yn5isj0moa1.jpg   \n2     https://i.redd.it/08jhmp5zdkoa1.jpg   \n3     https://i.redd.it/rzrdrgpjfloa1.jpg   \n4     https://i.redd.it/16vgdp5qpjoa1.jpg   \n...                                   ...   \n1688  https://i.redd.it/dbsr1mczinfa1.jpg   \n1689  https://i.redd.it/myn7gm5linfa1.jpg   \n1690  https://i.redd.it/m62h1tq5gnfa1.jpg   \n1691  https://i.redd.it/xxgisiclfnfa1.jpg   \n1692  https://i.redd.it/369avhk2enfa1.jpg   \n\n                                image_name  \\\n0     9c726e3ad6114dd06a25ae0e9d3dd9ba.jpg   \n1     57cfe2d8e6229af18cca2fc497ba9a1b.jpg   \n2     c02b0059628ef836c1c5f883fbc0fd66.jpg   \n3     54936a6255c7c3df757ecef506f786d4.jpg   \n4     43d548a485831050458f3c71dc6109d1.jpg   \n...                                    ...   \n1688  b9d9119d89c2473df5828a15db9f5264.jpg   \n1689  17fc7087b047d9e5b5da9ce299077706.jpg   \n1690  a7205f636ae0be5b3c6dd1f5e73ab7ee.jpg   \n1691  827260f27293bf219f260ed275534368.jpg   \n1692  2c4864a1e8a131ff0f821a8c0afe7427.jpg   \n\n                                                   path  \\\n0     D:\\data\\images\\CityPorn\\9c726e3ad6114dd06a25ae...   \n1     D:\\data\\images\\CityPorn\\57cfe2d8e6229af18cca2f...   \n2     D:\\data\\images\\CityPorn\\c02b0059628ef836c1c5f8...   \n3     D:\\data\\images\\CityPorn\\54936a6255c7c3df757ece...   \n4     D:\\data\\images\\CityPorn\\43d548a485831050458f3c...   \n...                                                 ...   \n1688  D:\\data\\images\\itookapicture\\b9d9119d89c2473df...   \n1689  D:\\data\\images\\itookapicture\\17fc7087b047d9e5b...   \n1690  D:\\data\\images\\itookapicture\\a7205f636ae0be5b3...   \n1691  D:\\data\\images\\itookapicture\\827260f27293bf219...   \n1692  D:\\data\\images\\itookapicture\\2c4864a1e8a131ff0...   \n\n                                         thumbnail_path  exists curated  \n0     D:\\data\\images\\CityPorn\\thumbnail\\9c726e3ad611...    True   False  \n1     D:\\data\\images\\CityPorn\\thumbnail\\57cfe2d8e622...    True   False  \n2     D:\\data\\images\\CityPorn\\thumbnail\\c02b0059628e...    True   False  \n3     D:\\data\\images\\CityPorn\\thumbnail\\54936a6255c7...    True   False  \n4     D:\\data\\images\\CityPorn\\thumbnail\\43d548a48583...    True   False  \n...                                                 ...     ...     ...  \n1688  D:\\data\\images\\itookapicture\\thumbnail\\b9d9119...    True   False  \n1689  D:\\data\\images\\itookapicture\\thumbnail\\17fc708...    True   False  \n1690  D:\\data\\images\\itookapicture\\thumbnail\\a7205f6...    True   False  \n1691  D:\\data\\images\\itookapicture\\thumbnail\\827260f...    True   False  \n1692  D:\\data\\images\\itookapicture\\thumbnail\\2c4864a...    True   False  \n\n[1693 rows x 13 columns]",
      "text/html": "<div>\n<style scoped>\n    .dataframe tbody tr th:only-of-type {\n        vertical-align: middle;\n    }\n\n    .dataframe tbody tr th {\n        vertical-align: top;\n    }\n\n    .dataframe thead th {\n        text-align: right;\n    }\n</style>\n<table border=\"1\" class=\"dataframe\">\n  <thead>\n    <tr style=\"text-align: right;\">\n      <th></th>\n      <th>id</th>\n      <th>subreddit</th>\n      <th>author</th>\n      <th>title</th>\n      <th>caption</th>\n      <th>hash</th>\n      <th>permalink</th>\n      <th>original_url</th>\n      <th>image_name</th>\n      <th>path</th>\n      <th>thumbnail_path</th>\n      <th>exists</th>\n      <th>curated</th>\n    </tr>\n  </thead>\n  <tbody>\n    <tr>\n      <th>0</th>\n      <td>1144tsr</td>\n      <td>CityPorn</td>\n      <td>egnogra</td>\n      <td>Neo Goldlen Gai 新宿ゴールデン街</td>\n      <td></td>\n      <td>9c726e3ad6114dd06a25ae0e9d3dd9ba</td>\n      <td>/r/CityPorn/comments/1144tsr/neo_goldlen_gai_新...</td>\n      <td>https://i.redd.it/56m7bhauhoia1.jpg</td>\n      <td>9c726e3ad6114dd06a25ae0e9d3dd9ba.jpg</td>\n      <td>D:\\data\\images\\CityPorn\\9c726e3ad6114dd06a25ae...</td>\n      <td>D:\\data\\images\\CityPorn\\thumbnail\\9c726e3ad611...</td>\n      <td>True</td>\n      <td>False</td>\n    </tr>\n    <tr>\n      <th>1</th>\n      <td>11v1wnw</td>\n      <td>CityPorn</td>\n      <td>HamSolo14</td>\n      <td>São Paulo Historical Center, Brasil</td>\n      <td></td>\n      <td>57cfe2d8e6229af18cca2fc497ba9a1b</td>\n      <td>/r/CityPorn/comments/11v1wnw/são_paulo_histori...</td>\n      <td>https://i.redd.it/j1yn5isj0moa1.jpg</td>\n      <td>57cfe2d8e6229af18cca2fc497ba9a1b.jpg</td>\n      <td>D:\\data\\images\\CityPorn\\57cfe2d8e6229af18cca2f...</td>\n      <td>D:\\data\\images\\CityPorn\\thumbnail\\57cfe2d8e622...</td>\n      <td>True</td>\n      <td>False</td>\n    </tr>\n    <tr>\n      <th>2</th>\n      <td>11v17te</td>\n      <td>CityPorn</td>\n      <td>gabigolterasga</td>\n      <td>Santiago, Chile. The city with the Highest HDI...</td>\n      <td></td>\n      <td>c02b0059628ef836c1c5f883fbc0fd66</td>\n      <td>/r/CityPorn/comments/11v17te/santiago_chile_th...</td>\n      <td>https://i.redd.it/08jhmp5zdkoa1.jpg</td>\n      <td>c02b0059628ef836c1c5f883fbc0fd66.jpg</td>\n      <td>D:\\data\\images\\CityPorn\\c02b0059628ef836c1c5f8...</td>\n      <td>D:\\data\\images\\CityPorn\\thumbnail\\c02b0059628e...</td>\n      <td>True</td>\n      <td>False</td>\n    </tr>\n    <tr>\n      <th>3</th>\n      <td>11uyetd</td>\n      <td>CityPorn</td>\n      <td>atzucach</td>\n      <td>Barcelona</td>\n      <td></td>\n      <td>54936a6255c7c3df757ecef506f786d4</td>\n      <td>/r/CityPorn/comments/11uyetd/barcelona/</td>\n      <td>https://i.redd.it/rzrdrgpjfloa1.jpg</td>\n      <td>54936a6255c7c3df757ecef506f786d4.jpg</td>\n      <td>D:\\data\\images\\CityPorn\\54936a6255c7c3df757ece...</td>\n      <td>D:\\data\\images\\CityPorn\\thumbnail\\54936a6255c7...</td>\n      <td>True</td>\n      <td>False</td>\n    </tr>\n    <tr>\n      <th>4</th>\n      <td>11uww70</td>\n      <td>CityPorn</td>\n      <td>Beatnik64</td>\n      <td>San Francisco, California</td>\n      <td></td>\n      <td>43d548a485831050458f3c71dc6109d1</td>\n      <td>/r/CityPorn/comments/11uww70/san_francisco_cal...</td>\n      <td>https://i.redd.it/16vgdp5qpjoa1.jpg</td>\n      <td>43d548a485831050458f3c71dc6109d1.jpg</td>\n      <td>D:\\data\\images\\CityPorn\\43d548a485831050458f3c...</td>\n      <td>D:\\data\\images\\CityPorn\\thumbnail\\43d548a48583...</td>\n      <td>True</td>\n      <td>False</td>\n    </tr>\n    <tr>\n      <th>...</th>\n      <td>...</td>\n      <td>...</td>\n      <td>...</td>\n      <td>...</td>\n      <td>...</td>\n      <td>...</td>\n      <td>...</td>\n      <td>...</td>\n      <td>...</td>\n      <td>...</td>\n      <td>...</td>\n      <td>...</td>\n      <td>...</td>\n    </tr>\n    <tr>\n      <th>1688</th>\n      <td>10r04ji</td>\n      <td>itookapicture</td>\n      <td>RalphieLils28</td>\n      <td>ITAP of a swan</td>\n      <td></td>\n      <td>b9d9119d89c2473df5828a15db9f5264</td>\n      <td>/r/itookapicture/comments/10r04ji/itap_of_a_swan/</td>\n      <td>https://i.redd.it/dbsr1mczinfa1.jpg</td>\n      <td>b9d9119d89c2473df5828a15db9f5264.jpg</td>\n      <td>D:\\data\\images\\itookapicture\\b9d9119d89c2473df...</td>\n      <td>D:\\data\\images\\itookapicture\\thumbnail\\b9d9119...</td>\n      <td>True</td>\n      <td>False</td>\n    </tr>\n    <tr>\n      <th>1689</th>\n      <td>10r02f5</td>\n      <td>itookapicture</td>\n      <td>DigitalDavid94</td>\n      <td>ITAP of a witch</td>\n      <td></td>\n      <td>17fc7087b047d9e5b5da9ce299077706</td>\n      <td>/r/itookapicture/comments/10r02f5/itap_of_a_wi...</td>\n      <td>https://i.redd.it/myn7gm5linfa1.jpg</td>\n      <td>17fc7087b047d9e5b5da9ce299077706.jpg</td>\n      <td>D:\\data\\images\\itookapicture\\17fc7087b047d9e5b...</td>\n      <td>D:\\data\\images\\itookapicture\\thumbnail\\17fc708...</td>\n      <td>True</td>\n      <td>False</td>\n    </tr>\n    <tr>\n      <th>1690</th>\n      <td>10qzp5z</td>\n      <td>itookapicture</td>\n      <td>giveneric</td>\n      <td>ITAP of a Bald Eagle</td>\n      <td></td>\n      <td>a7205f636ae0be5b3c6dd1f5e73ab7ee</td>\n      <td>/r/itookapicture/comments/10qzp5z/itap_of_a_ba...</td>\n      <td>https://i.redd.it/m62h1tq5gnfa1.jpg</td>\n      <td>a7205f636ae0be5b3c6dd1f5e73ab7ee.jpg</td>\n      <td>D:\\data\\images\\itookapicture\\a7205f636ae0be5b3...</td>\n      <td>D:\\data\\images\\itookapicture\\thumbnail\\a7205f6...</td>\n      <td>True</td>\n      <td>False</td>\n    </tr>\n    <tr>\n      <th>1691</th>\n      <td>10qzmcp</td>\n      <td>itookapicture</td>\n      <td>ankitdb11</td>\n      <td>ITAP of flamingos.</td>\n      <td></td>\n      <td>827260f27293bf219f260ed275534368</td>\n      <td>/r/itookapicture/comments/10qzmcp/itap_of_flam...</td>\n      <td>https://i.redd.it/xxgisiclfnfa1.jpg</td>\n      <td>827260f27293bf219f260ed275534368.jpg</td>\n      <td>D:\\data\\images\\itookapicture\\827260f27293bf219...</td>\n      <td>D:\\data\\images\\itookapicture\\thumbnail\\827260f...</td>\n      <td>True</td>\n      <td>False</td>\n    </tr>\n    <tr>\n      <th>1692</th>\n      <td>10qzerd</td>\n      <td>itookapicture</td>\n      <td>panuccispizza3000</td>\n      <td>ITAP of some buildings in Glasgow, Scotland</td>\n      <td></td>\n      <td>2c4864a1e8a131ff0f821a8c0afe7427</td>\n      <td>/r/itookapicture/comments/10qzerd/itap_of_some...</td>\n      <td>https://i.redd.it/369avhk2enfa1.jpg</td>\n      <td>2c4864a1e8a131ff0f821a8c0afe7427.jpg</td>\n      <td>D:\\data\\images\\itookapicture\\2c4864a1e8a131ff0...</td>\n      <td>D:\\data\\images\\itookapicture\\thumbnail\\2c4864a...</td>\n      <td>True</td>\n      <td>False</td>\n    </tr>\n  </tbody>\n</table>\n<p>1693 rows × 13 columns</p>\n</div>"
     },
     "metadata": {},
     "output_type": "display_data"
    },
    {
     "name": "stdout",
     "output_type": "stream",
     "text": [
      "CPU times: total: 8min 35s\n",
      "Wall time: 11min\n"
     ]
    }
   ],
   "source": [
    "%%time\n",
    "\n",
    "new_entries_2 = new_entries_1.copy()\n",
    "\n",
    "tqdm.pandas(desc=\"Create-Thumbnail\")\n",
    "with ProgressBar():\n",
    "\tnew_entries_2['thumbnail_path'] = new_entries_2.progress_apply(lambda x: make_thumbnail(x), axis=1)\n",
    "\n",
    "tqdm.pandas(desc=\"Checking-Exists\")\n",
    "with ProgressBar():\n",
    "\tnew_entries_2['exists'] = new_entries_2.progress_apply(lambda x: exists(x), axis=1)\n",
    "\n",
    "display(new_entries_2)"
   ],
   "metadata": {
    "collapsed": false
   }
  },
  {
   "cell_type": "code",
   "execution_count": 18,
   "outputs": [
    {
     "name": "stdout",
     "output_type": "stream",
     "text": [
      "CPU times: total: 1min 7s\n",
      "Wall time: 1min 17s\n"
     ]
    }
   ],
   "source": [
    "%%time\n",
    "\n",
    "blip = BlipCaption(1)"
   ],
   "metadata": {
    "collapsed": false
   }
  },
  {
   "cell_type": "code",
   "execution_count": null,
   "outputs": [
    {
     "name": "stdout",
     "output_type": "stream",
     "text": [
      "[                                        ] | 0% Completed | 790.10 us"
     ]
    },
    {
     "data": {
      "text/plain": "global:   0%|          | 0/6 [00:00<?, ?it/s]",
      "application/vnd.jupyter.widget-view+json": {
       "version_major": 2,
       "version_minor": 0,
       "model_id": "593fd82f768b40b1b50fabb340506424"
      }
     },
     "metadata": {},
     "output_type": "display_data"
    },
    {
     "name": "stdout",
     "output_type": "stream",
     "text": [
      "[                                        ] | 0% Completed | 14.97 sms"
     ]
    },
    {
     "name": "stderr",
     "output_type": "stream",
     "text": [
      "D:\\workspaces\\General\\venv\\lib\\site-packages\\transformers\\generation\\utils.py:1288: UserWarning: Using `max_length`'s default (20) to control the generation length. This behaviour is deprecated and will be removed from the config in v5 of Transformers -- we recommend using `max_new_tokens` to control the maximum length of the generation.\n",
      "  warnings.warn(\n"
     ]
    },
    {
     "name": "stdout",
     "output_type": "stream",
     "text": [
      "[                                        ] | 0% Completed | 27m 8sss"
     ]
    }
   ],
   "source": [
    "%%time\n",
    "\n",
    "new_entries_final = new_entries_2.copy()\n",
    "torch.cuda.empty_cache()\n",
    "\n",
    "with pbar:\n",
    "\tddf = dd.from_pandas(new_entries_final, npartitions=6)\n",
    "\tnew_entries_final['caption'] = ddf.apply(lambda x: caption_image(x, blip), meta=('str', object), axis=1).compute()\n",
    "\n",
    "torch.cuda.empty_cache()\n",
    "\n",
    "display(new_entries_final)"
   ],
   "metadata": {
    "collapsed": false,
    "pycharm": {
     "is_executing": true
    }
   }
  },
  {
   "cell_type": "code",
   "execution_count": null,
   "outputs": [],
   "source": [
    "%%time\n",
    "\n",
    "tqdm.pandas(desc=\"Filtering\")\n",
    "writeable_entries = new_entries_final\\\n",
    "\t.where(~new_entries_final['id'].isin(extant_data['id']))\\\n",
    "\t.dropna(how='all')\\\n",
    "\t.reset_index()\\\n",
    "\t.drop('index', axis=1)\n",
    "\n",
    "display(writeable_entries)"
   ],
   "metadata": {
    "collapsed": false,
    "pycharm": {
     "is_executing": true
    }
   }
  },
  {
   "cell_type": "code",
   "execution_count": null,
   "outputs": [],
   "source": [
    "%%time\n",
    "\n",
    "combined_result = pd.concat([extant_data, writeable_entries])\n",
    "\n",
    "display(combined_result)"
   ],
   "metadata": {
    "collapsed": false,
    "pycharm": {
     "is_executing": true
    }
   }
  },
  {
   "cell_type": "code",
   "execution_count": null,
   "outputs": [],
   "source": [
    "combined_result.reindex()\n",
    "combined_result.to_csv('processed_raw_data.csv', index=False)\n",
    "f = AzureFileStorageAdapter('data').get_file_storage()\n",
    "f.put('processed_raw_data.csv','data/processed_raw_data.csv', overwrite=True)"
   ],
   "metadata": {
    "collapsed": false,
    "pycharm": {
     "is_executing": true
    }
   }
  },
  {
   "cell_type": "code",
   "execution_count": null,
   "outputs": [],
   "source": [
    "final = pd.read_csv(f.open('data/processed_raw_data.csv'))\n",
    "final.to_parquet(\"data/processed_raw_data.parquet\", engine='pyarrow', filesystem=file_system, schema=schema)"
   ],
   "metadata": {
    "collapsed": false,
    "pycharm": {
     "is_executing": true
    }
   }
  },
  {
   "cell_type": "code",
   "execution_count": null,
   "outputs": [],
   "source": [
    "final = pd.read_parquet(\"data/processed_raw_data.parquet\", engine='pyarrow', filesystem=file_system)\n",
    "display(final)"
   ],
   "metadata": {
    "collapsed": false,
    "pycharm": {
     "is_executing": true
    }
   }
  }
 ],
 "metadata": {
  "kernelspec": {
   "display_name": "Python 3",
   "language": "python",
   "name": "python3"
  },
  "language_info": {
   "codemirror_mode": {
    "name": "ipython",
    "version": 2
   },
   "file_extension": ".py",
   "mimetype": "text/x-python",
   "name": "python",
   "nbconvert_exporter": "python",
   "pygments_lexer": "ipython2",
   "version": "2.7.6"
  }
 },
 "nbformat": 4,
 "nbformat_minor": 0
}
