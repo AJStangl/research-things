{
 "cells": [
  {
   "cell_type": "code",
   "execution_count": null,
   "outputs": [],
   "source": [
    "import time\n",
    "import pandas as pd\n",
    "import pyarrow as pa\n",
    "\n",
    "from shared_code.utility.spark.set_environ import set_azure_env\n",
    "from shared_code.utility.storage.azure_file_storage import AzureFileStorageAdapter\n",
    "set_azure_env()"
   ],
   "metadata": {
    "collapsed": false,
    "ExecuteTime": {
     "start_time": "2023-03-27T07:46:09.650584Z",
     "end_time": "2023-03-27T07:46:12.214600Z"
    }
   }
  },
  {
   "cell_type": "code",
   "execution_count": null,
   "outputs": [],
   "source": [
    "fs_adapter = AzureFileStorageAdapter('data')\n",
    "file_system = fs_adapter.get_file_storage()"
   ],
   "metadata": {
    "collapsed": false,
    "ExecuteTime": {
     "start_time": "2023-03-27T07:46:12.217612Z",
     "end_time": "2023-03-27T07:46:12.230736Z"
    }
   }
  },
  {
   "cell_type": "code",
   "execution_count": null,
   "metadata": {
    "collapsed": true,
    "ExecuteTime": {
     "start_time": "2023-03-27T08:06:28.190041Z",
     "end_time": "2023-03-27T08:06:28.971283Z"
    }
   },
   "outputs": [],
   "source": [
    "%%time\n",
    "extant_data = pd.read_parquet(\"data/processed_raw_data.parquet\", engine='pyarrow', filesystem=file_system)\n",
    "display(extant_data)"
   ]
  },
  {
   "cell_type": "code",
   "execution_count": null,
   "outputs": [],
   "source": [
    "%%time\n",
    "\n",
    "columns = ['id', 'subreddit', 'title', 'caption', 'image_name', 'exists', 'curated']\n",
    "\n",
    "slim_df = extant_data[columns]\n",
    "\n",
    "exists = slim_df\\\n",
    "    .where(slim_df['exists'] == True)\\\n",
    "    .dropna(axis=1)\\\n",
    "    .dropna(how='all')\\\n",
    "    .reset_index(drop=True)\n",
    "\n",
    "display(exists)"
   ],
   "metadata": {
    "collapsed": false,
    "ExecuteTime": {
     "start_time": "2023-03-27T08:06:31.160117Z",
     "end_time": "2023-03-27T08:06:31.207916Z"
    }
   }
  },
  {
   "cell_type": "code",
   "execution_count": null,
   "outputs": [],
   "source": [
    "%%time\n",
    "\n",
    "foo = exists.rename(columns={'id':'Id', 'subreddit': 'SubReddit', 'title':\"Title\", 'caption': 'Caption', 'image_name': 'ImageName', 'exists': 'Exists', 'curated': 'Curated'})\n",
    "\n",
    "display(foo)"
   ],
   "metadata": {
    "collapsed": false,
    "ExecuteTime": {
     "start_time": "2023-03-27T09:13:27.904370Z",
     "end_time": "2023-03-27T09:13:27.921431Z"
    }
   }
  },
  {
   "cell_type": "code",
   "execution_count": null,
   "outputs": [],
   "source": [
    "%%time\n",
    "\n",
    "from shared_code.utility.storage.table import TableAdapter\n",
    "\n",
    "tableAdapter: TableAdapter = TableAdapter()\n",
    "\n",
    "curation_table = tableAdapter.get_table_client('curation')\n",
    "\n",
    "records = foo.to_dict(orient='records')\n",
    "\n",
    "for record in records:\n",
    "    record['PartitionKey'] = record['SubReddit']\n",
    "    record['RowKey'] = record['Id']\n",
    "    curation_table.create_entity(entity=record)"
   ],
   "metadata": {
    "collapsed": false,
    "ExecuteTime": {
     "start_time": "2023-03-27T09:14:35.377894Z",
     "end_time": "2023-03-27T09:18:26.730700Z"
    }
   }
  }
 ],
 "metadata": {
  "kernelspec": {
   "display_name": "Python 3",
   "language": "python",
   "name": "python3"
  },
  "language_info": {
   "codemirror_mode": {
    "name": "ipython",
    "version": 2
   },
   "file_extension": ".py",
   "mimetype": "text/x-python",
   "name": "python",
   "nbconvert_exporter": "python",
   "pygments_lexer": "ipython2",
   "version": "2.7.6"
  }
 },
 "nbformat": 4,
 "nbformat_minor": 0
}
