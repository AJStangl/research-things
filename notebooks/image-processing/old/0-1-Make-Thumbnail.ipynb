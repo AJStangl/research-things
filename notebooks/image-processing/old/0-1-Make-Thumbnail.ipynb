{
 "cells": [
  {
   "cell_type": "code",
   "execution_count": null,
   "metadata": {
    "collapsed": true,
    "ExecuteTime": {
     "start_time": "2023-04-02T07:09:09.589637Z",
     "end_time": "2023-04-02T07:09:14.601561Z"
    }
   },
   "outputs": [],
   "source": [
    "import os.path\n",
    "%run 0-0-common.ipynb"
   ]
  },
  {
   "cell_type": "code",
   "execution_count": null,
   "outputs": [],
   "source": [
    "%%time\n",
    "\n",
    "subs = [\"SFWRedheads\",\"sfwpetite\",\"SFWNextDoorGirls\", \"celebrities\", \"wallstreetbets\", \"fatsquirrelhate\",\"CityPorn\",\"EarthPorn\",\"memes\",\"spaceporn\",\"trippinthroughtime\",\"fatsquirrelhate\",\"oldladiesbakingpies\",\"itookapicture\", \"celebrities\", \"realasians\", \"KoreanHotties\", \"prettyasiangirls\",\"AsianOfficeLady\", \"mildlypenis\"]\n",
    "\n",
    "extant_data: pd.DataFrame = pd.read_parquet(\"data/processed_raw_data.parquet\", engine='pyarrow', filesystem=file_system, schema=schema)\n",
    "\n",
    "distinct_data: pd.DataFrame = extant_data.drop_duplicates(subset=['id', 'title']).reset_index(drop=True)\n",
    "\n",
    "target_frame: pd.DataFrame = distinct_data[distinct_data['subreddit'].isin(subs)]\n",
    "\n",
    "sorted_target_frame = target_frame.sort_values(by=['title'], ascending=False)\n",
    "\n",
    "display(sorted_target_frame)"
   ],
   "metadata": {
    "collapsed": false,
    "ExecuteTime": {
     "start_time": "2023-04-02T07:09:15.462022Z",
     "end_time": "2023-04-02T07:09:17.101531Z"
    }
   }
  },
  {
   "cell_type": "code",
   "execution_count": null,
   "outputs": [],
   "source": [
    "%%time\n",
    "\n",
    "target_frame['exists'] = target_frame.apply(lambda row: check_if_exists(row['thumbnail_path']), axis=1)\n",
    "\n",
    "exists = target_frame.where(target_frame['exists']).dropna(how='all').reset_index(drop=True)\n",
    "\n",
    "display(exists)"
   ],
   "metadata": {
    "collapsed": false,
    "ExecuteTime": {
     "start_time": "2023-04-02T07:11:24.221370Z",
     "end_time": "2023-04-02T07:11:24.872822Z"
    }
   }
  },
  {
   "cell_type": "code",
   "execution_count": null,
   "outputs": [],
   "source": [
    "exists.where(lambda x: x['caption'] != \"\").dropna(how='all').reset_index(drop=True)\n",
    "display(exists)"
   ],
   "metadata": {
    "collapsed": false,
    "ExecuteTime": {
     "start_time": "2023-04-02T07:12:17.062332Z",
     "end_time": "2023-04-02T07:12:17.109181Z"
    }
   }
  },
  {
   "cell_type": "code",
   "execution_count": null,
   "outputs": [],
   "source": [
    "display(sources_df)"
   ],
   "metadata": {
    "collapsed": false,
    "ExecuteTime": {
     "start_time": "2023-04-02T07:12:21.611295Z",
     "end_time": "2023-04-02T07:12:21.658198Z"
    }
   }
  },
  {
   "cell_type": "code",
   "execution_count": null,
   "outputs": [],
   "source": [
    "smaller_exportable_df = pd.DataFrame(\n",
    "\tdata=[exists['path'], exists['image_name'], exists['caption'], exists['title'], exists['subreddit']],\n",
    "\tindex=['path', 'image_name', 'caption', 'title', 'subreddit']).T\n",
    "\n",
    "display(smaller_exportable_df)"
   ],
   "metadata": {
    "collapsed": false,
    "ExecuteTime": {
     "start_time": "2023-04-02T07:12:26.219385Z",
     "end_time": "2023-04-02T07:12:26.281885Z"
    }
   }
  },
  {
   "cell_type": "code",
   "execution_count": null,
   "outputs": [],
   "source": [
    "smaller_exportable_df['name'] = smaller_exportable_df.progress_apply(lambda x: add_source(x, sources), axis=1)\n",
    "display(smaller_exportable_df)"
   ],
   "metadata": {
    "collapsed": false
   }
  },
  {
   "cell_type": "code",
   "execution_count": null,
   "outputs": [],
   "source": [
    "!mkdir CelebrityDiffusion"
   ],
   "metadata": {
    "collapsed": false,
    "ExecuteTime": {
     "start_time": "2023-04-02T07:14:59.285810Z",
     "end_time": "2023-04-02T07:14:59.395188Z"
    }
   }
  },
  {
   "cell_type": "code",
   "execution_count": null,
   "outputs": [],
   "source": [
    "from dask.diagnostics import ProgressBar\n",
    "\n",
    "with ProgressBar():\n",
    "\tdask_frame = dd.from_pandas(smaller_exportable_df, npartitions=10)\n",
    "\tsmaller_exportable_df['image_data'] = dask_frame.apply(lambda x: move_file(x), meta=('str', object),axis=1).compute()\n",
    "display(smaller_exportable_df)"
   ],
   "metadata": {
    "collapsed": false,
    "ExecuteTime": {
     "start_time": "2023-04-02T07:15:00.741375Z",
     "end_time": "2023-04-02T07:15:01.462919Z"
    }
   }
  },
  {
   "cell_type": "code",
   "execution_count": null,
   "outputs": [],
   "source": [
    "smaller_exportable_df.to_parquet(\"celebrities.parquet\")"
   ],
   "metadata": {
    "collapsed": false,
    "ExecuteTime": {
     "start_time": "2023-04-02T07:15:07.775886Z",
     "end_time": "2023-04-02T07:15:09.930496Z"
    }
   }
  },
  {
   "cell_type": "code",
   "execution_count": null,
   "outputs": [],
   "source": [
    "extant_files = os.listdir(\"CelebrityDiffusion\")\n",
    "\n",
    "things = []\n",
    "records = smaller_exportable_df.to_dict('records')\n",
    "for record in records:\n",
    "\tif record['image_name'] in extant_files:\n",
    "\t\timage_name = record['image_name']\n",
    "\t\ttext = record['title']\n",
    "\t\tcaption = record['caption']\n",
    "\t\tout_record = {\"file_name\": image_name, \"text\": [text, caption]}\n",
    "\t\tthings.append(out_record)\n",
    "\n",
    "pd.DataFrame(things).to_json(f\"CelebrityDiffusion/metadata.jsonl\", orient=\"records\", lines=True)"
   ],
   "metadata": {
    "collapsed": false,
    "ExecuteTime": {
     "start_time": "2023-04-02T07:15:21.487591Z",
     "end_time": "2023-04-02T07:15:21.554585Z"
    }
   }
  },
  {
   "cell_type": "code",
   "execution_count": null,
   "outputs": [],
   "source": [
    "!type CelebrityDiffusion\\metadata.jsonl"
   ],
   "metadata": {
    "collapsed": false,
    "ExecuteTime": {
     "start_time": "2023-04-02T07:15:24.688586Z",
     "end_time": "2023-04-02T07:15:24.785593Z"
    }
   }
  },
  {
   "cell_type": "code",
   "execution_count": null,
   "outputs": [],
   "source": [
    "!powershell Compress-Archive CelebrityDiffusion CelebrityDiffusion.zip"
   ],
   "metadata": {
    "collapsed": false,
    "ExecuteTime": {
     "start_time": "2023-04-02T07:15:35.670304Z",
     "end_time": "2023-04-02T07:15:59.493001Z"
    }
   }
  },
  {
   "cell_type": "code",
   "execution_count": null,
   "outputs": [],
   "source": [
    "len(extant_files)"
   ],
   "metadata": {
    "collapsed": false,
    "ExecuteTime": {
     "start_time": "2023-04-01T14:37:56.478969Z",
     "end_time": "2023-04-01T14:37:56.493351Z"
    }
   }
  }
 ],
 "metadata": {
  "kernelspec": {
   "display_name": "Python 3",
   "language": "python",
   "name": "python3"
  },
  "language_info": {
   "codemirror_mode": {
    "name": "ipython",
    "version": 2
   },
   "file_extension": ".py",
   "mimetype": "text/x-python",
   "name": "python",
   "nbconvert_exporter": "python",
   "pygments_lexer": "ipython2",
   "version": "2.7.6"
  }
 },
 "nbformat": 4,
 "nbformat_minor": 0
}
