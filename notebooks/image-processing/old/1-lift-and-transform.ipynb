{
 "cells": [
  {
   "cell_type": "code",
   "execution_count": 1,
   "metadata": {
    "collapsed": true,
    "ExecuteTime": {
     "start_time": "2023-03-31T15:26:43.731191Z",
     "end_time": "2023-03-31T15:27:15.299293Z"
    }
   },
   "outputs": [],
   "source": [
    "import pandas as pd\n",
    "import dask.dataframe as dd\n",
    "import praw\n",
    "from dask.diagnostics import ProgressBar\n",
    "from tqdm import tqdm\n",
    "import hashlib\n",
    "from PIL import Image\n",
    "import requests\n",
    "from io import BytesIO\n",
    "from shared_code.utility.schemas.pyarrow_schema import schema\n",
    "from shared_code.utility.spark.set_environ import set_azure_env\n",
    "import os\n",
    "import torch\n",
    "from datetime import datetime\n",
    "import pandas as pd\n",
    "from pmaw import PushshiftAPI\n",
    "import time\n",
    "set_azure_env()\n",
    "\n",
    "from shared_code.utility.storage.azure_file_storage import AzureFileStorageAdapter\n",
    "from shared_code.utility.scripts.blip_caption import BlipCaption\n",
    "\n",
    "pbar = ProgressBar()\n",
    "pbar.register()\n",
    "\n",
    "tqdm.pandas()\n",
    "tqdm.pandas(desc=\"global\")\n",
    "\n",
    "from tqdm.dask import TqdmCallback\n",
    "cb = TqdmCallback(desc=\"global\")\n",
    "cb.register()\n",
    "\n",
    "file_system = AzureFileStorageAdapter('data').get_file_storage()"
   ]
  },
  {
   "cell_type": "code",
   "execution_count": 2,
   "outputs": [
    {
     "name": "stdout",
     "output_type": "stream",
     "text": [
      "CPU times: total: 0 ns\n",
      "Wall time: 0 ns\n"
     ]
    }
   ],
   "source": [
    "%%time\n",
    " #[\"SFWRedheads\",\"sfwpetite\",\"SFWNextDoorGirls\", \"celebrities\", \"wallstreetbets\", \"fatsquirrelhate\",\"CityPorn\",\"EarthPorn\",\"memes\",\"spaceporn\",\"trippinthroughtime\",\"fatsquirrelhate\",\"oldladiesbakingpies\",\"itookapicture\", \"celebrities\", \"realasians\", \"KoreanHotties\", \"prettyasiangirls\",\"AsianOfficeLady\", \"mildlypenis\"]\n",
    "subs = [\"AsianOfficeLady\"]"
   ],
   "metadata": {
    "collapsed": false,
    "ExecuteTime": {
     "start_time": "2023-03-31T15:27:15.318294Z",
     "end_time": "2023-03-31T15:27:15.446296Z"
    }
   }
  },
  {
   "cell_type": "code",
   "execution_count": 3,
   "outputs": [
    {
     "data": {
      "text/plain": "            id        subreddit              author  \\\n0      1000cej         CityPorn         OtterlyFoxy   \n1      1000glf         AmIhotAF   toolate_sharkbait   \n2      1000j1n        greentext           trent8051   \n3      1000mjs        spaceporn  MorningStar_imangi   \n4      1000qpd        spaceporn  MorningStar_imangi   \n...        ...              ...                 ...   \n26270   twjucg  AsianOfficeLady          King_Oppai   \n26271   tw2pnj  AsianOfficeLady          King_Oppai   \n26272   tvqba6  AsianOfficeLady          King_Oppai   \n26273   tv9wzv  AsianOfficeLady          King_Oppai   \n26274  10o9ld7  AsianOfficeLady          King_Oppai   \n\n                                title  \\\n0                 New York in the fog   \n1      Just looking for entertainment   \n2                 Anon wants Elon cut   \n3       Northern Lights above Lofoten   \n4                       Viking Lights   \n...                               ...   \n26270                            #500   \n26271                            #499   \n26272                            #498   \n26273                            #497   \n26274                           #1084   \n\n                                                 caption  \\\n0      cars are parked on the side of the road in the...   \n1      blonde woman with blonde hair and tattoos on h...   \n2      a man with a beard and a beard sitting in fron...   \n3      a view of a view of a large green and purple a...   \n4      a scene of a boat is sitting on the shore of a...   \n...                                                  ...   \n26270  a woman in a suit and heels is sitting in a chair   \n26271  a woman in a short skirted skirt and high heel...   \n26272  woman in white shirt and black stockings with ...   \n26273  asian woman in short skirt and black stockings...   \n26274  a woman in glasses and a white shirt is posing...   \n\n                                   hash  \\\n0      7a8d96e378c15c8ab8440ac311f12c11   \n1      e554c1ed7ffa2740436ac082068b2824   \n2      1dec3dabb5e46cde01855d06089c287a   \n3      2c39ce1290fba541abd0b004b09da6b2   \n4      0f72de47c69ff50eca5fa3990215f4ac   \n...                                 ...   \n26270  1aae27f01d51c5e4aa70969e29fd9eed   \n26271  38a842e5241334b4ec98142120f51507   \n26272  45fd977542d10efb20c08a2a7fcf3062   \n26273  7bd2a4eec57b53f820a0666181cd65e8   \n26274  716c461800f09f45537547cccb560973   \n\n                                               permalink  \\\n0      /r/CityPorn/comments/1000cej/new_york_in_the_fog/   \n1      /r/AmIhotAF/comments/1000glf/just_looking_for_...   \n2      /r/greentext/comments/1000j1n/anon_wants_elon_...   \n3      /r/spaceporn/comments/1000mjs/northern_lights_...   \n4           /r/spaceporn/comments/1000qpd/viking_lights/   \n...                                                  ...   \n26270            /r/AsianOfficeLady/comments/twjucg/500/   \n26271            /r/AsianOfficeLady/comments/tw2pnj/499/   \n26272            /r/AsianOfficeLady/comments/tvqba6/498/   \n26273            /r/AsianOfficeLady/comments/tv9wzv/497/   \n26274          /r/AsianOfficeLady/comments/10o9ld7/1084/   \n\n                              original_url  \\\n0      https://i.redd.it/4emw5uldib9a1.jpg   \n1      https://i.redd.it/4xyb1vgbjb9a1.jpg   \n2      https://i.redd.it/3mewbe0wjb9a1.jpg   \n3      https://i.redd.it/7s5aafaqkb9a1.jpg   \n4      https://i.redd.it/abojw7lqlb9a1.jpg   \n...                                    ...   \n26270  https://i.redd.it/4lmcky1uamr81.jpg   \n26271  https://i.redd.it/axmwk1odqir81.jpg   \n26272  https://i.redd.it/hlxxvp9x5fr81.jpg   \n26273  https://i.redd.it/rq4w4xwglbr81.jpg   \n26274  https://i.redd.it/c0961nvjyzea1.jpg   \n\n                                 image_name  \\\n0                         4emw5uldib9a1.jpg   \n1                         4xyb1vgbjb9a1.jpg   \n2                         3mewbe0wjb9a1.jpg   \n3                         7s5aafaqkb9a1.jpg   \n4                         abojw7lqlb9a1.jpg   \n...                                     ...   \n26270  1aae27f01d51c5e4aa70969e29fd9eed.jpg   \n26271  38a842e5241334b4ec98142120f51507.jpg   \n26272  45fd977542d10efb20c08a2a7fcf3062.jpg   \n26273  7bd2a4eec57b53f820a0666181cd65e8.jpg   \n26274  716c461800f09f45537547cccb560973.jpg   \n\n                                                    path  \\\n0              D:\\data\\images\\CityPorn\\4emw5uldib9a1.jpg   \n1              D:\\data\\images\\AmIhotAF\\4xyb1vgbjb9a1.jpg   \n2             D:\\data\\images\\greentext\\3mewbe0wjb9a1.jpg   \n3               /data/images/spaceporn/7s5aafaqkb9a1.jpg   \n4               /data/images/spaceporn/abojw7lqlb9a1.jpg   \n...                                                  ...   \n26270  D:\\data\\images\\AsianOfficeLady\\1aae27f01d51c5e...   \n26271  D:\\data\\images\\AsianOfficeLady\\38a842e5241334b...   \n26272  D:\\data\\images\\AsianOfficeLady\\45fd977542d10ef...   \n26273  D:\\data\\images\\AsianOfficeLady\\7bd2a4eec57b53f...   \n26274  D:\\data\\images\\AsianOfficeLady\\716c461800f09f4...   \n\n                                          thumbnail_path  exists  curated  \n0      D:\\data\\images\\CityPorn\\thumbnail\\4emw5uldib9a...    True    False  \n1      D:\\data\\images\\AmIhotAF\\thumbnail\\4xyb1vgbjb9a...    True    False  \n2      D:\\data\\images\\greentext\\thumbnail\\3mewbe0wjb9...    True    False  \n3      /data/images/spaceporn/thumbnail/7s5aafaqkb9a1...    True    False  \n4      /data/images/spaceporn/thumbnail/abojw7lqlb9a1...    True    False  \n...                                                  ...     ...      ...  \n26270  D:\\data\\images\\AsianOfficeLady\\thumbnail\\1aae2...    True    False  \n26271  D:\\data\\images\\AsianOfficeLady\\thumbnail\\38a84...    True    False  \n26272  D:\\data\\images\\AsianOfficeLady\\thumbnail\\45fd9...    True    False  \n26273  D:\\data\\images\\AsianOfficeLady\\thumbnail\\7bd2a...    True    False  \n26274  D:\\data\\images\\AsianOfficeLady\\thumbnail\\716c4...    True    False  \n\n[26275 rows x 13 columns]",
      "text/html": "<div>\n<style scoped>\n    .dataframe tbody tr th:only-of-type {\n        vertical-align: middle;\n    }\n\n    .dataframe tbody tr th {\n        vertical-align: top;\n    }\n\n    .dataframe thead th {\n        text-align: right;\n    }\n</style>\n<table border=\"1\" class=\"dataframe\">\n  <thead>\n    <tr style=\"text-align: right;\">\n      <th></th>\n      <th>id</th>\n      <th>subreddit</th>\n      <th>author</th>\n      <th>title</th>\n      <th>caption</th>\n      <th>hash</th>\n      <th>permalink</th>\n      <th>original_url</th>\n      <th>image_name</th>\n      <th>path</th>\n      <th>thumbnail_path</th>\n      <th>exists</th>\n      <th>curated</th>\n    </tr>\n  </thead>\n  <tbody>\n    <tr>\n      <th>0</th>\n      <td>1000cej</td>\n      <td>CityPorn</td>\n      <td>OtterlyFoxy</td>\n      <td>New York in the fog</td>\n      <td>cars are parked on the side of the road in the...</td>\n      <td>7a8d96e378c15c8ab8440ac311f12c11</td>\n      <td>/r/CityPorn/comments/1000cej/new_york_in_the_fog/</td>\n      <td>https://i.redd.it/4emw5uldib9a1.jpg</td>\n      <td>4emw5uldib9a1.jpg</td>\n      <td>D:\\data\\images\\CityPorn\\4emw5uldib9a1.jpg</td>\n      <td>D:\\data\\images\\CityPorn\\thumbnail\\4emw5uldib9a...</td>\n      <td>True</td>\n      <td>False</td>\n    </tr>\n    <tr>\n      <th>1</th>\n      <td>1000glf</td>\n      <td>AmIhotAF</td>\n      <td>toolate_sharkbait</td>\n      <td>Just looking for entertainment</td>\n      <td>blonde woman with blonde hair and tattoos on h...</td>\n      <td>e554c1ed7ffa2740436ac082068b2824</td>\n      <td>/r/AmIhotAF/comments/1000glf/just_looking_for_...</td>\n      <td>https://i.redd.it/4xyb1vgbjb9a1.jpg</td>\n      <td>4xyb1vgbjb9a1.jpg</td>\n      <td>D:\\data\\images\\AmIhotAF\\4xyb1vgbjb9a1.jpg</td>\n      <td>D:\\data\\images\\AmIhotAF\\thumbnail\\4xyb1vgbjb9a...</td>\n      <td>True</td>\n      <td>False</td>\n    </tr>\n    <tr>\n      <th>2</th>\n      <td>1000j1n</td>\n      <td>greentext</td>\n      <td>trent8051</td>\n      <td>Anon wants Elon cut</td>\n      <td>a man with a beard and a beard sitting in fron...</td>\n      <td>1dec3dabb5e46cde01855d06089c287a</td>\n      <td>/r/greentext/comments/1000j1n/anon_wants_elon_...</td>\n      <td>https://i.redd.it/3mewbe0wjb9a1.jpg</td>\n      <td>3mewbe0wjb9a1.jpg</td>\n      <td>D:\\data\\images\\greentext\\3mewbe0wjb9a1.jpg</td>\n      <td>D:\\data\\images\\greentext\\thumbnail\\3mewbe0wjb9...</td>\n      <td>True</td>\n      <td>False</td>\n    </tr>\n    <tr>\n      <th>3</th>\n      <td>1000mjs</td>\n      <td>spaceporn</td>\n      <td>MorningStar_imangi</td>\n      <td>Northern Lights above Lofoten</td>\n      <td>a view of a view of a large green and purple a...</td>\n      <td>2c39ce1290fba541abd0b004b09da6b2</td>\n      <td>/r/spaceporn/comments/1000mjs/northern_lights_...</td>\n      <td>https://i.redd.it/7s5aafaqkb9a1.jpg</td>\n      <td>7s5aafaqkb9a1.jpg</td>\n      <td>/data/images/spaceporn/7s5aafaqkb9a1.jpg</td>\n      <td>/data/images/spaceporn/thumbnail/7s5aafaqkb9a1...</td>\n      <td>True</td>\n      <td>False</td>\n    </tr>\n    <tr>\n      <th>4</th>\n      <td>1000qpd</td>\n      <td>spaceporn</td>\n      <td>MorningStar_imangi</td>\n      <td>Viking Lights</td>\n      <td>a scene of a boat is sitting on the shore of a...</td>\n      <td>0f72de47c69ff50eca5fa3990215f4ac</td>\n      <td>/r/spaceporn/comments/1000qpd/viking_lights/</td>\n      <td>https://i.redd.it/abojw7lqlb9a1.jpg</td>\n      <td>abojw7lqlb9a1.jpg</td>\n      <td>/data/images/spaceporn/abojw7lqlb9a1.jpg</td>\n      <td>/data/images/spaceporn/thumbnail/abojw7lqlb9a1...</td>\n      <td>True</td>\n      <td>False</td>\n    </tr>\n    <tr>\n      <th>...</th>\n      <td>...</td>\n      <td>...</td>\n      <td>...</td>\n      <td>...</td>\n      <td>...</td>\n      <td>...</td>\n      <td>...</td>\n      <td>...</td>\n      <td>...</td>\n      <td>...</td>\n      <td>...</td>\n      <td>...</td>\n      <td>...</td>\n    </tr>\n    <tr>\n      <th>26270</th>\n      <td>twjucg</td>\n      <td>AsianOfficeLady</td>\n      <td>King_Oppai</td>\n      <td>#500</td>\n      <td>a woman in a suit and heels is sitting in a chair</td>\n      <td>1aae27f01d51c5e4aa70969e29fd9eed</td>\n      <td>/r/AsianOfficeLady/comments/twjucg/500/</td>\n      <td>https://i.redd.it/4lmcky1uamr81.jpg</td>\n      <td>1aae27f01d51c5e4aa70969e29fd9eed.jpg</td>\n      <td>D:\\data\\images\\AsianOfficeLady\\1aae27f01d51c5e...</td>\n      <td>D:\\data\\images\\AsianOfficeLady\\thumbnail\\1aae2...</td>\n      <td>True</td>\n      <td>False</td>\n    </tr>\n    <tr>\n      <th>26271</th>\n      <td>tw2pnj</td>\n      <td>AsianOfficeLady</td>\n      <td>King_Oppai</td>\n      <td>#499</td>\n      <td>a woman in a short skirted skirt and high heel...</td>\n      <td>38a842e5241334b4ec98142120f51507</td>\n      <td>/r/AsianOfficeLady/comments/tw2pnj/499/</td>\n      <td>https://i.redd.it/axmwk1odqir81.jpg</td>\n      <td>38a842e5241334b4ec98142120f51507.jpg</td>\n      <td>D:\\data\\images\\AsianOfficeLady\\38a842e5241334b...</td>\n      <td>D:\\data\\images\\AsianOfficeLady\\thumbnail\\38a84...</td>\n      <td>True</td>\n      <td>False</td>\n    </tr>\n    <tr>\n      <th>26272</th>\n      <td>tvqba6</td>\n      <td>AsianOfficeLady</td>\n      <td>King_Oppai</td>\n      <td>#498</td>\n      <td>woman in white shirt and black stockings with ...</td>\n      <td>45fd977542d10efb20c08a2a7fcf3062</td>\n      <td>/r/AsianOfficeLady/comments/tvqba6/498/</td>\n      <td>https://i.redd.it/hlxxvp9x5fr81.jpg</td>\n      <td>45fd977542d10efb20c08a2a7fcf3062.jpg</td>\n      <td>D:\\data\\images\\AsianOfficeLady\\45fd977542d10ef...</td>\n      <td>D:\\data\\images\\AsianOfficeLady\\thumbnail\\45fd9...</td>\n      <td>True</td>\n      <td>False</td>\n    </tr>\n    <tr>\n      <th>26273</th>\n      <td>tv9wzv</td>\n      <td>AsianOfficeLady</td>\n      <td>King_Oppai</td>\n      <td>#497</td>\n      <td>asian woman in short skirt and black stockings...</td>\n      <td>7bd2a4eec57b53f820a0666181cd65e8</td>\n      <td>/r/AsianOfficeLady/comments/tv9wzv/497/</td>\n      <td>https://i.redd.it/rq4w4xwglbr81.jpg</td>\n      <td>7bd2a4eec57b53f820a0666181cd65e8.jpg</td>\n      <td>D:\\data\\images\\AsianOfficeLady\\7bd2a4eec57b53f...</td>\n      <td>D:\\data\\images\\AsianOfficeLady\\thumbnail\\7bd2a...</td>\n      <td>True</td>\n      <td>False</td>\n    </tr>\n    <tr>\n      <th>26274</th>\n      <td>10o9ld7</td>\n      <td>AsianOfficeLady</td>\n      <td>King_Oppai</td>\n      <td>#1084</td>\n      <td>a woman in glasses and a white shirt is posing...</td>\n      <td>716c461800f09f45537547cccb560973</td>\n      <td>/r/AsianOfficeLady/comments/10o9ld7/1084/</td>\n      <td>https://i.redd.it/c0961nvjyzea1.jpg</td>\n      <td>716c461800f09f45537547cccb560973.jpg</td>\n      <td>D:\\data\\images\\AsianOfficeLady\\716c461800f09f4...</td>\n      <td>D:\\data\\images\\AsianOfficeLady\\thumbnail\\716c4...</td>\n      <td>True</td>\n      <td>False</td>\n    </tr>\n  </tbody>\n</table>\n<p>26275 rows × 13 columns</p>\n</div>"
     },
     "metadata": {},
     "output_type": "display_data"
    },
    {
     "name": "stdout",
     "output_type": "stream",
     "text": [
      "CPU times: total: 750 ms\n",
      "Wall time: 2.96 s\n"
     ]
    }
   ],
   "source": [
    "%%time\n",
    "\n",
    "extant_data = pd.read_parquet(\"data/processed_raw_data.parquet\", engine='pyarrow', filesystem=file_system, schema=schema)\n",
    "display(extant_data)"
   ],
   "metadata": {
    "collapsed": false,
    "ExecuteTime": {
     "start_time": "2023-03-31T15:27:15.347293Z",
     "end_time": "2023-03-31T15:27:18.357953Z"
    }
   }
  },
  {
   "cell_type": "code",
   "execution_count": 4,
   "outputs": [
    {
     "name": "stderr",
     "output_type": "stream",
     "text": [
      "Version 7.6.1 of praw is outdated. Version 7.7.0 was released Saturday February 25, 2023.\n"
     ]
    }
   ],
   "source": [
    "reddit: praw.Reddit = praw.Reddit(client_id='5hVavL0PIRyM_1JSvqT6UQ', client_secret='BjD2kS3WNLnJc59RKY-JJUuc_Z9-JA',\n",
    "\t\t\t\t\t\t\t\t  user_agent='script:%(bot_name)s:v%(bot_version)s (by /u/%(bot_author)s)')\n",
    "\n",
    "api: PushshiftAPI = PushshiftAPI(praw=reddit, num_workers=12)"
   ],
   "metadata": {
    "collapsed": false,
    "ExecuteTime": {
     "start_time": "2023-03-31T15:27:18.356954Z",
     "end_time": "2023-03-31T15:27:18.617483Z"
    }
   }
  },
  {
   "cell_type": "code",
   "execution_count": 5,
   "outputs": [],
   "source": [
    "def filter_by_image_post(item) -> bool:\n",
    "\treturn not (item['selftext'].__contains__('[removed]') or item['selftext'].__contains__('[deleted]') and not item[\n",
    "\t\t'url'].endswith('.jpg'))"
   ],
   "metadata": {
    "collapsed": false,
    "ExecuteTime": {
     "start_time": "2023-03-31T15:27:18.396483Z",
     "end_time": "2023-03-31T15:27:18.912481Z"
    }
   }
  },
  {
   "cell_type": "code",
   "execution_count": 6,
   "outputs": [],
   "source": [
    "def fetch_image(x: object) -> object:\n",
    "\ttry:\n",
    "\t\ttime.sleep(0.1)\n",
    "\t\turl = x['original_url']\n",
    "\t\tsubreddit = x['subreddit']\n",
    "\t\tresponse = requests.get(url)\n",
    "\t\tmd5 = hashlib.md5(response.content).hexdigest()\n",
    "\t\tos.makedirs(f\"D:\\\\data\\\\images\\\\{subreddit}\", exist_ok=True)\n",
    "\t\tout_path = f\"D:\\\\data\\\\images\\\\{subreddit}\\\\{md5}.jpg\"\n",
    "\n",
    "\t\tif os.path.exists(out_path):\n",
    "\t\t\treturn out_path\n",
    "\n",
    "\t\tif md5 in list(extant_data['hash']):\n",
    "\t\t\treturn out_path\n",
    "\n",
    "\t\tif md5 != \"f17b01901c752c1bb04928131d1661af\" or md5 != \"d835884373f4d6c8f24742ceabe74946\":\n",
    "\t\t\traw_image = Image.open(BytesIO(response.content))\n",
    "\t\t\traw_image.save(out_path)\n",
    "\t\t\traw_image.close()\n",
    "\t\t\treturn out_path\n",
    "\t\telse:\n",
    "\t\t\treturn \"\"\n",
    "\texcept Exception as e:\n",
    "\t\tprint(e)\n",
    "\t\treturn \"\""
   ],
   "metadata": {
    "collapsed": false,
    "ExecuteTime": {
     "start_time": "2023-03-31T15:27:18.429484Z",
     "end_time": "2023-03-31T15:27:18.913481Z"
    }
   }
  },
  {
   "cell_type": "code",
   "execution_count": 7,
   "outputs": [],
   "source": [
    "def make_thumbnail(x: object) -> str:\n",
    "\timage_path = x['path']\n",
    "\tmd5 = x['hash']\n",
    "\tsubreddit = x['subreddit']\n",
    "\tos.makedirs(f\"D:\\\\data\\\\images\\\\{subreddit}\\\\thumbnail\", exist_ok=True)\n",
    "\tout_path = f\"D:\\\\data\\\\images\\\\{subreddit}\\\\thumbnail\\\\{md5}.jpg\"\n",
    "\tif not os.path.exists(image_path):\n",
    "\t\treturn \"\"\n",
    "\tif os.path.exists(out_path):\n",
    "\t\treturn out_path\n",
    "\timg = Image.open(image_path)\n",
    "\ttry:\n",
    "\t\tcopied_image = img.copy()\n",
    "\t\tresult_copy = copied_image.resize((512, 512))\n",
    "\t\tresult_copy.save(out_path)\n",
    "\t\tresult_copy.close()\n",
    "\t\timg.close()\n",
    "\t\treturn out_path\n",
    "\texcept Exception as e:\n",
    "\t\tprint(e)\n",
    "\t\treturn \"\"\n",
    "\tfinally:\n",
    "\t\timg.close()"
   ],
   "metadata": {
    "collapsed": false,
    "ExecuteTime": {
     "start_time": "2023-03-31T15:27:18.460485Z",
     "end_time": "2023-03-31T15:27:18.913481Z"
    }
   }
  },
  {
   "cell_type": "code",
   "execution_count": 8,
   "outputs": [],
   "source": [
    "def exists(x: object) -> bool:\n",
    "\ttry:\n",
    "\t\timage_path = os.path.exists(x['path'])\n",
    "\t\tthumbnail_path = os.path.exists(x['thumbnail_path'])\n",
    "\t\treturn image_path and thumbnail_path\n",
    "\texcept Exception as e:\n",
    "\t\tprint(e)\n",
    "\t\treturn False"
   ],
   "metadata": {
    "collapsed": false,
    "ExecuteTime": {
     "start_time": "2023-03-31T15:27:18.488484Z",
     "end_time": "2023-03-31T15:27:18.914481Z"
    }
   }
  },
  {
   "cell_type": "code",
   "execution_count": 9,
   "outputs": [],
   "source": [
    "def split_hash(x: object) -> str:\n",
    "\ttry:\n",
    "\t\tname = x['image_name']\n",
    "\t\treturn name.split('.')[0]\n",
    "\texcept Exception as e:\n",
    "\t\tprint(e)\n",
    "\t\treturn \"\""
   ],
   "metadata": {
    "collapsed": false,
    "ExecuteTime": {
     "start_time": "2023-03-31T15:27:18.504483Z",
     "end_time": "2023-03-31T15:27:18.915480Z"
    }
   }
  },
  {
   "cell_type": "code",
   "execution_count": 10,
   "outputs": [],
   "source": [
    "def caption_image(x: object, blip_captioning: BlipCaption) -> str:\n",
    "\ttry:\n",
    "\t\tpath = x['path']\n",
    "\t\texists_image = bool(x['exists'])\n",
    "\t\tresulting_caption = x['caption']\n",
    "\n",
    "\t\tif not os.path.exists(path):\n",
    "\t\t\treturn \"\"\n",
    "\n",
    "\t\tif not exists_image:\n",
    "\t\t\treturn \"\"\n",
    "\n",
    "\t\tif len(resulting_caption) > 5:\n",
    "\t\t\treturn resulting_caption\n",
    "\n",
    "\t\tresulting_caption = blip_captioning.caption_image(path)\n",
    "\t\treturn resulting_caption\n",
    "\n",
    "\texcept Exception as e:\n",
    "\t\tprint(e)\n",
    "\t\treturn \"\"\n",
    "\tfinally:\n",
    "\t\tpass"
   ],
   "metadata": {
    "collapsed": false,
    "ExecuteTime": {
     "start_time": "2023-03-31T15:27:18.539482Z",
     "end_time": "2023-03-31T15:27:19.057485Z"
    }
   }
  },
  {
   "cell_type": "code",
   "execution_count": 11,
   "outputs": [],
   "source": [
    "def get_image_name(x: object) -> str:\n",
    "\ttry:\n",
    "\t\tpath = x['path']\n",
    "\t\tif path == \"\":\n",
    "\t\t\treturn \"\"\n",
    "\t\treturn os.path.basename(path)\n",
    "\texcept Exception as e:\n",
    "\t\tprint(e)\n",
    "\t\treturn \"\""
   ],
   "metadata": {
    "collapsed": false,
    "ExecuteTime": {
     "start_time": "2023-03-31T15:27:18.566485Z",
     "end_time": "2023-03-31T15:27:19.163481Z"
    }
   }
  },
  {
   "cell_type": "code",
   "execution_count": 12,
   "outputs": [
    {
     "name": "stdout",
     "output_type": "stream",
     "text": [
      "CPU times: total: 2.33 s\n",
      "Wall time: 25.6 s\n"
     ]
    }
   ],
   "source": [
    "%%time\n",
    "\n",
    "all_posts = []\n",
    "start_date: int = int(datetime.strptime('2021-01-01', '%Y-%m-%d').timestamp())\n",
    "end_date: int = int(datetime.today().timestamp())\n",
    "search_window=365,\n",
    "for item in subs:\n",
    "\tposts = api.search_submissions(until=end_date, after=start_date, subreddit=item, limit=1000, filter_fn=filter_by_image_post, mem_safe=True, cache_dir='D:\\\\cache\\\\')\n",
    "\t[ all_posts.append(post) for post in posts ]"
   ],
   "metadata": {
    "collapsed": false,
    "ExecuteTime": {
     "start_time": "2023-03-31T15:27:18.578483Z",
     "end_time": "2023-03-31T15:27:44.168603Z"
    }
   }
  },
  {
   "cell_type": "code",
   "execution_count": 13,
   "outputs": [
    {
     "data": {
      "text/plain": "     comment_limit comment_sort  \\\n0             2048   confidence   \n1             2048   confidence   \n2             2048   confidence   \n3             2048   confidence   \n4             2048   confidence   \n..             ...          ...   \n995           2048   confidence   \n996           2048   confidence   \n997           2048   confidence   \n998           2048   confidence   \n999           2048   confidence   \n\n                                               _reddit approved_at_utc  \\\n0    <praw.reddit.Reddit object at 0x000001E0D94499D0>            None   \n1    <praw.reddit.Reddit object at 0x000001E0D94499D0>            None   \n2    <praw.reddit.Reddit object at 0x000001E0D94499D0>            None   \n3    <praw.reddit.Reddit object at 0x000001E0D94499D0>            None   \n4    <praw.reddit.Reddit object at 0x000001E0D94499D0>            None   \n..                                                 ...             ...   \n995  <praw.reddit.Reddit object at 0x000001E0D94499D0>            None   \n996  <praw.reddit.Reddit object at 0x000001E0D94499D0>            None   \n997  <praw.reddit.Reddit object at 0x000001E0D94499D0>            None   \n998  <praw.reddit.Reddit object at 0x000001E0D94499D0>            None   \n999  <praw.reddit.Reddit object at 0x000001E0D94499D0>            None   \n\n           subreddit selftext author_fullname  saved mod_reason_title  gilded  \\\n0    AsianOfficeLady                 t2_khb7s  False             None       0   \n1    AsianOfficeLady                 t2_khb7s  False             None       0   \n2    AsianOfficeLady                 t2_khb7s  False             None       0   \n3    AsianOfficeLady                 t2_khb7s  False             None       0   \n4    AsianOfficeLady                 t2_khb7s  False             None       0   \n..               ...      ...             ...    ...              ...     ...   \n995  AsianOfficeLady                 t2_khb7s  False             None       0   \n996  AsianOfficeLady                 t2_khb7s  False             None       0   \n997  AsianOfficeLady                 t2_khb7s  False             None       0   \n998  AsianOfficeLady                 t2_khb7s  False             None       0   \n999  AsianOfficeLady                 t2_khb7s  False             None       0   \n\n     ...  parent_whitelist_status stickied  \\\n0    ...                     None    False   \n1    ...                     None    False   \n2    ...                     None    False   \n3    ...                     None    False   \n4    ...                     None    False   \n..   ...                      ...      ...   \n995  ...                     None    False   \n996  ...                     None    False   \n997  ...                     None    False   \n998  ...                     None    False   \n999  ...                     None    False   \n\n                                     url subreddit_subscribers   created_utc  \\\n0    https://i.redd.it/ejlwu8bjurw81.jpg                  3924  1.651370e+09   \n1    https://i.redd.it/nieclgv2aow81.jpg                  3924  1.651327e+09   \n2    https://i.redd.it/p08gw7gmpkw81.jpg                  3924  1.651284e+09   \n3    https://i.redd.it/g5epw6465hw81.jpg                  3924  1.651241e+09   \n4    https://i.redd.it/jetdbmqpkdw81.jpg                  3924  1.651198e+09   \n..                                   ...                   ...           ...   \n995  https://i.redd.it/b3vqo72z435a1.jpg                  3924  1.670684e+09   \n996  https://i.redd.it/d31cyrnikz4a1.jpg                  3924  1.670641e+09   \n997  https://i.redd.it/cfyz5na20w4a1.jpg                  3924  1.670598e+09   \n998  https://i.redd.it/3itnt8tlfs4a1.jpg                  3924  1.670555e+09   \n999  https://i.redd.it/cy6fhff5vo4a1.jpg                  3924  1.670512e+09   \n\n    num_crossposts media  is_video  _fetched _comments_by_id  \n0                0  None     False     False              {}  \n1                0  None     False     False              {}  \n2                0  None     False     False              {}  \n3                0  None     False     False              {}  \n4                0  None     False     False              {}  \n..             ...   ...       ...       ...             ...  \n995              0  None     False     False              {}  \n996              0  None     False     False              {}  \n997              0  None     False     False              {}  \n998              0  None     False     False              {}  \n999              0  None     False     False              {}  \n\n[1000 rows x 114 columns]",
      "text/html": "<div>\n<style scoped>\n    .dataframe tbody tr th:only-of-type {\n        vertical-align: middle;\n    }\n\n    .dataframe tbody tr th {\n        vertical-align: top;\n    }\n\n    .dataframe thead th {\n        text-align: right;\n    }\n</style>\n<table border=\"1\" class=\"dataframe\">\n  <thead>\n    <tr style=\"text-align: right;\">\n      <th></th>\n      <th>comment_limit</th>\n      <th>comment_sort</th>\n      <th>_reddit</th>\n      <th>approved_at_utc</th>\n      <th>subreddit</th>\n      <th>selftext</th>\n      <th>author_fullname</th>\n      <th>saved</th>\n      <th>mod_reason_title</th>\n      <th>gilded</th>\n      <th>...</th>\n      <th>parent_whitelist_status</th>\n      <th>stickied</th>\n      <th>url</th>\n      <th>subreddit_subscribers</th>\n      <th>created_utc</th>\n      <th>num_crossposts</th>\n      <th>media</th>\n      <th>is_video</th>\n      <th>_fetched</th>\n      <th>_comments_by_id</th>\n    </tr>\n  </thead>\n  <tbody>\n    <tr>\n      <th>0</th>\n      <td>2048</td>\n      <td>confidence</td>\n      <td>&lt;praw.reddit.Reddit object at 0x000001E0D94499D0&gt;</td>\n      <td>None</td>\n      <td>AsianOfficeLady</td>\n      <td></td>\n      <td>t2_khb7s</td>\n      <td>False</td>\n      <td>None</td>\n      <td>0</td>\n      <td>...</td>\n      <td>None</td>\n      <td>False</td>\n      <td>https://i.redd.it/ejlwu8bjurw81.jpg</td>\n      <td>3924</td>\n      <td>1.651370e+09</td>\n      <td>0</td>\n      <td>None</td>\n      <td>False</td>\n      <td>False</td>\n      <td>{}</td>\n    </tr>\n    <tr>\n      <th>1</th>\n      <td>2048</td>\n      <td>confidence</td>\n      <td>&lt;praw.reddit.Reddit object at 0x000001E0D94499D0&gt;</td>\n      <td>None</td>\n      <td>AsianOfficeLady</td>\n      <td></td>\n      <td>t2_khb7s</td>\n      <td>False</td>\n      <td>None</td>\n      <td>0</td>\n      <td>...</td>\n      <td>None</td>\n      <td>False</td>\n      <td>https://i.redd.it/nieclgv2aow81.jpg</td>\n      <td>3924</td>\n      <td>1.651327e+09</td>\n      <td>0</td>\n      <td>None</td>\n      <td>False</td>\n      <td>False</td>\n      <td>{}</td>\n    </tr>\n    <tr>\n      <th>2</th>\n      <td>2048</td>\n      <td>confidence</td>\n      <td>&lt;praw.reddit.Reddit object at 0x000001E0D94499D0&gt;</td>\n      <td>None</td>\n      <td>AsianOfficeLady</td>\n      <td></td>\n      <td>t2_khb7s</td>\n      <td>False</td>\n      <td>None</td>\n      <td>0</td>\n      <td>...</td>\n      <td>None</td>\n      <td>False</td>\n      <td>https://i.redd.it/p08gw7gmpkw81.jpg</td>\n      <td>3924</td>\n      <td>1.651284e+09</td>\n      <td>0</td>\n      <td>None</td>\n      <td>False</td>\n      <td>False</td>\n      <td>{}</td>\n    </tr>\n    <tr>\n      <th>3</th>\n      <td>2048</td>\n      <td>confidence</td>\n      <td>&lt;praw.reddit.Reddit object at 0x000001E0D94499D0&gt;</td>\n      <td>None</td>\n      <td>AsianOfficeLady</td>\n      <td></td>\n      <td>t2_khb7s</td>\n      <td>False</td>\n      <td>None</td>\n      <td>0</td>\n      <td>...</td>\n      <td>None</td>\n      <td>False</td>\n      <td>https://i.redd.it/g5epw6465hw81.jpg</td>\n      <td>3924</td>\n      <td>1.651241e+09</td>\n      <td>0</td>\n      <td>None</td>\n      <td>False</td>\n      <td>False</td>\n      <td>{}</td>\n    </tr>\n    <tr>\n      <th>4</th>\n      <td>2048</td>\n      <td>confidence</td>\n      <td>&lt;praw.reddit.Reddit object at 0x000001E0D94499D0&gt;</td>\n      <td>None</td>\n      <td>AsianOfficeLady</td>\n      <td></td>\n      <td>t2_khb7s</td>\n      <td>False</td>\n      <td>None</td>\n      <td>0</td>\n      <td>...</td>\n      <td>None</td>\n      <td>False</td>\n      <td>https://i.redd.it/jetdbmqpkdw81.jpg</td>\n      <td>3924</td>\n      <td>1.651198e+09</td>\n      <td>0</td>\n      <td>None</td>\n      <td>False</td>\n      <td>False</td>\n      <td>{}</td>\n    </tr>\n    <tr>\n      <th>...</th>\n      <td>...</td>\n      <td>...</td>\n      <td>...</td>\n      <td>...</td>\n      <td>...</td>\n      <td>...</td>\n      <td>...</td>\n      <td>...</td>\n      <td>...</td>\n      <td>...</td>\n      <td>...</td>\n      <td>...</td>\n      <td>...</td>\n      <td>...</td>\n      <td>...</td>\n      <td>...</td>\n      <td>...</td>\n      <td>...</td>\n      <td>...</td>\n      <td>...</td>\n      <td>...</td>\n    </tr>\n    <tr>\n      <th>995</th>\n      <td>2048</td>\n      <td>confidence</td>\n      <td>&lt;praw.reddit.Reddit object at 0x000001E0D94499D0&gt;</td>\n      <td>None</td>\n      <td>AsianOfficeLady</td>\n      <td></td>\n      <td>t2_khb7s</td>\n      <td>False</td>\n      <td>None</td>\n      <td>0</td>\n      <td>...</td>\n      <td>None</td>\n      <td>False</td>\n      <td>https://i.redd.it/b3vqo72z435a1.jpg</td>\n      <td>3924</td>\n      <td>1.670684e+09</td>\n      <td>0</td>\n      <td>None</td>\n      <td>False</td>\n      <td>False</td>\n      <td>{}</td>\n    </tr>\n    <tr>\n      <th>996</th>\n      <td>2048</td>\n      <td>confidence</td>\n      <td>&lt;praw.reddit.Reddit object at 0x000001E0D94499D0&gt;</td>\n      <td>None</td>\n      <td>AsianOfficeLady</td>\n      <td></td>\n      <td>t2_khb7s</td>\n      <td>False</td>\n      <td>None</td>\n      <td>0</td>\n      <td>...</td>\n      <td>None</td>\n      <td>False</td>\n      <td>https://i.redd.it/d31cyrnikz4a1.jpg</td>\n      <td>3924</td>\n      <td>1.670641e+09</td>\n      <td>0</td>\n      <td>None</td>\n      <td>False</td>\n      <td>False</td>\n      <td>{}</td>\n    </tr>\n    <tr>\n      <th>997</th>\n      <td>2048</td>\n      <td>confidence</td>\n      <td>&lt;praw.reddit.Reddit object at 0x000001E0D94499D0&gt;</td>\n      <td>None</td>\n      <td>AsianOfficeLady</td>\n      <td></td>\n      <td>t2_khb7s</td>\n      <td>False</td>\n      <td>None</td>\n      <td>0</td>\n      <td>...</td>\n      <td>None</td>\n      <td>False</td>\n      <td>https://i.redd.it/cfyz5na20w4a1.jpg</td>\n      <td>3924</td>\n      <td>1.670598e+09</td>\n      <td>0</td>\n      <td>None</td>\n      <td>False</td>\n      <td>False</td>\n      <td>{}</td>\n    </tr>\n    <tr>\n      <th>998</th>\n      <td>2048</td>\n      <td>confidence</td>\n      <td>&lt;praw.reddit.Reddit object at 0x000001E0D94499D0&gt;</td>\n      <td>None</td>\n      <td>AsianOfficeLady</td>\n      <td></td>\n      <td>t2_khb7s</td>\n      <td>False</td>\n      <td>None</td>\n      <td>0</td>\n      <td>...</td>\n      <td>None</td>\n      <td>False</td>\n      <td>https://i.redd.it/3itnt8tlfs4a1.jpg</td>\n      <td>3924</td>\n      <td>1.670555e+09</td>\n      <td>0</td>\n      <td>None</td>\n      <td>False</td>\n      <td>False</td>\n      <td>{}</td>\n    </tr>\n    <tr>\n      <th>999</th>\n      <td>2048</td>\n      <td>confidence</td>\n      <td>&lt;praw.reddit.Reddit object at 0x000001E0D94499D0&gt;</td>\n      <td>None</td>\n      <td>AsianOfficeLady</td>\n      <td></td>\n      <td>t2_khb7s</td>\n      <td>False</td>\n      <td>None</td>\n      <td>0</td>\n      <td>...</td>\n      <td>None</td>\n      <td>False</td>\n      <td>https://i.redd.it/cy6fhff5vo4a1.jpg</td>\n      <td>3924</td>\n      <td>1.670512e+09</td>\n      <td>0</td>\n      <td>None</td>\n      <td>False</td>\n      <td>False</td>\n      <td>{}</td>\n    </tr>\n  </tbody>\n</table>\n<p>1000 rows × 114 columns</p>\n</div>"
     },
     "metadata": {},
     "output_type": "display_data"
    },
    {
     "name": "stdout",
     "output_type": "stream",
     "text": [
      "CPU times: total: 188 ms\n",
      "Wall time: 219 ms\n"
     ]
    }
   ],
   "source": [
    "%%time\n",
    "\n",
    "df = pd.DataFrame([item for item in all_posts])\n",
    "display(df)"
   ],
   "metadata": {
    "collapsed": false,
    "ExecuteTime": {
     "start_time": "2023-03-31T15:27:44.169603Z",
     "end_time": "2023-03-31T15:27:44.407606Z"
    }
   }
  },
  {
   "cell_type": "code",
   "execution_count": 14,
   "outputs": [
    {
     "data": {
      "text/plain": "         id        subreddit      author title caption hash  \\\n0    ufpk6z  AsianOfficeLady  King_Oppai  #550                \n1    ufbo95  AsianOfficeLady  King_Oppai  #549                \n2    uf12qi  AsianOfficeLady  King_Oppai  #548                \n3    uemk5o  AsianOfficeLady  King_Oppai  #547                \n4    ueb57q  AsianOfficeLady  King_Oppai  #546                \n..      ...              ...         ...   ...     ...  ...   \n986  zhulkb  AsianOfficeLady  King_Oppai  #985                \n987  zhh1qb  AsianOfficeLady  King_Oppai  #984                \n988  zgzhzl  AsianOfficeLady  King_Oppai  #983                \n989  zgkxf8  AsianOfficeLady  King_Oppai  #982                \n990  zg1c7f  AsianOfficeLady  King_Oppai  #981                \n\n                                   permalink  \\\n0    /r/AsianOfficeLady/comments/ufpk6z/550/   \n1    /r/AsianOfficeLady/comments/ufbo95/549/   \n2    /r/AsianOfficeLady/comments/uf12qi/548/   \n3    /r/AsianOfficeLady/comments/uemk5o/547/   \n4    /r/AsianOfficeLady/comments/ueb57q/546/   \n..                                       ...   \n986  /r/AsianOfficeLady/comments/zhulkb/985/   \n987  /r/AsianOfficeLady/comments/zhh1qb/984/   \n988  /r/AsianOfficeLady/comments/zgzhzl/983/   \n989  /r/AsianOfficeLady/comments/zgkxf8/982/   \n990  /r/AsianOfficeLady/comments/zg1c7f/981/   \n\n                            original_url image_name path thumbnail_path  \\\n0    https://i.redd.it/ejlwu8bjurw81.jpg                                  \n1    https://i.redd.it/nieclgv2aow81.jpg                                  \n2    https://i.redd.it/p08gw7gmpkw81.jpg                                  \n3    https://i.redd.it/g5epw6465hw81.jpg                                  \n4    https://i.redd.it/jetdbmqpkdw81.jpg                                  \n..                                   ...        ...  ...            ...   \n986  https://i.redd.it/b3vqo72z435a1.jpg                                  \n987  https://i.redd.it/d31cyrnikz4a1.jpg                                  \n988  https://i.redd.it/cfyz5na20w4a1.jpg                                  \n989  https://i.redd.it/3itnt8tlfs4a1.jpg                                  \n990  https://i.redd.it/cy6fhff5vo4a1.jpg                                  \n\n    exists curated  \n0    False   False  \n1    False   False  \n2    False   False  \n3    False   False  \n4    False   False  \n..     ...     ...  \n986  False   False  \n987  False   False  \n988  False   False  \n989  False   False  \n990  False   False  \n\n[991 rows x 13 columns]",
      "text/html": "<div>\n<style scoped>\n    .dataframe tbody tr th:only-of-type {\n        vertical-align: middle;\n    }\n\n    .dataframe tbody tr th {\n        vertical-align: top;\n    }\n\n    .dataframe thead th {\n        text-align: right;\n    }\n</style>\n<table border=\"1\" class=\"dataframe\">\n  <thead>\n    <tr style=\"text-align: right;\">\n      <th></th>\n      <th>id</th>\n      <th>subreddit</th>\n      <th>author</th>\n      <th>title</th>\n      <th>caption</th>\n      <th>hash</th>\n      <th>permalink</th>\n      <th>original_url</th>\n      <th>image_name</th>\n      <th>path</th>\n      <th>thumbnail_path</th>\n      <th>exists</th>\n      <th>curated</th>\n    </tr>\n  </thead>\n  <tbody>\n    <tr>\n      <th>0</th>\n      <td>ufpk6z</td>\n      <td>AsianOfficeLady</td>\n      <td>King_Oppai</td>\n      <td>#550</td>\n      <td></td>\n      <td></td>\n      <td>/r/AsianOfficeLady/comments/ufpk6z/550/</td>\n      <td>https://i.redd.it/ejlwu8bjurw81.jpg</td>\n      <td></td>\n      <td></td>\n      <td></td>\n      <td>False</td>\n      <td>False</td>\n    </tr>\n    <tr>\n      <th>1</th>\n      <td>ufbo95</td>\n      <td>AsianOfficeLady</td>\n      <td>King_Oppai</td>\n      <td>#549</td>\n      <td></td>\n      <td></td>\n      <td>/r/AsianOfficeLady/comments/ufbo95/549/</td>\n      <td>https://i.redd.it/nieclgv2aow81.jpg</td>\n      <td></td>\n      <td></td>\n      <td></td>\n      <td>False</td>\n      <td>False</td>\n    </tr>\n    <tr>\n      <th>2</th>\n      <td>uf12qi</td>\n      <td>AsianOfficeLady</td>\n      <td>King_Oppai</td>\n      <td>#548</td>\n      <td></td>\n      <td></td>\n      <td>/r/AsianOfficeLady/comments/uf12qi/548/</td>\n      <td>https://i.redd.it/p08gw7gmpkw81.jpg</td>\n      <td></td>\n      <td></td>\n      <td></td>\n      <td>False</td>\n      <td>False</td>\n    </tr>\n    <tr>\n      <th>3</th>\n      <td>uemk5o</td>\n      <td>AsianOfficeLady</td>\n      <td>King_Oppai</td>\n      <td>#547</td>\n      <td></td>\n      <td></td>\n      <td>/r/AsianOfficeLady/comments/uemk5o/547/</td>\n      <td>https://i.redd.it/g5epw6465hw81.jpg</td>\n      <td></td>\n      <td></td>\n      <td></td>\n      <td>False</td>\n      <td>False</td>\n    </tr>\n    <tr>\n      <th>4</th>\n      <td>ueb57q</td>\n      <td>AsianOfficeLady</td>\n      <td>King_Oppai</td>\n      <td>#546</td>\n      <td></td>\n      <td></td>\n      <td>/r/AsianOfficeLady/comments/ueb57q/546/</td>\n      <td>https://i.redd.it/jetdbmqpkdw81.jpg</td>\n      <td></td>\n      <td></td>\n      <td></td>\n      <td>False</td>\n      <td>False</td>\n    </tr>\n    <tr>\n      <th>...</th>\n      <td>...</td>\n      <td>...</td>\n      <td>...</td>\n      <td>...</td>\n      <td>...</td>\n      <td>...</td>\n      <td>...</td>\n      <td>...</td>\n      <td>...</td>\n      <td>...</td>\n      <td>...</td>\n      <td>...</td>\n      <td>...</td>\n    </tr>\n    <tr>\n      <th>986</th>\n      <td>zhulkb</td>\n      <td>AsianOfficeLady</td>\n      <td>King_Oppai</td>\n      <td>#985</td>\n      <td></td>\n      <td></td>\n      <td>/r/AsianOfficeLady/comments/zhulkb/985/</td>\n      <td>https://i.redd.it/b3vqo72z435a1.jpg</td>\n      <td></td>\n      <td></td>\n      <td></td>\n      <td>False</td>\n      <td>False</td>\n    </tr>\n    <tr>\n      <th>987</th>\n      <td>zhh1qb</td>\n      <td>AsianOfficeLady</td>\n      <td>King_Oppai</td>\n      <td>#984</td>\n      <td></td>\n      <td></td>\n      <td>/r/AsianOfficeLady/comments/zhh1qb/984/</td>\n      <td>https://i.redd.it/d31cyrnikz4a1.jpg</td>\n      <td></td>\n      <td></td>\n      <td></td>\n      <td>False</td>\n      <td>False</td>\n    </tr>\n    <tr>\n      <th>988</th>\n      <td>zgzhzl</td>\n      <td>AsianOfficeLady</td>\n      <td>King_Oppai</td>\n      <td>#983</td>\n      <td></td>\n      <td></td>\n      <td>/r/AsianOfficeLady/comments/zgzhzl/983/</td>\n      <td>https://i.redd.it/cfyz5na20w4a1.jpg</td>\n      <td></td>\n      <td></td>\n      <td></td>\n      <td>False</td>\n      <td>False</td>\n    </tr>\n    <tr>\n      <th>989</th>\n      <td>zgkxf8</td>\n      <td>AsianOfficeLady</td>\n      <td>King_Oppai</td>\n      <td>#982</td>\n      <td></td>\n      <td></td>\n      <td>/r/AsianOfficeLady/comments/zgkxf8/982/</td>\n      <td>https://i.redd.it/3itnt8tlfs4a1.jpg</td>\n      <td></td>\n      <td></td>\n      <td></td>\n      <td>False</td>\n      <td>False</td>\n    </tr>\n    <tr>\n      <th>990</th>\n      <td>zg1c7f</td>\n      <td>AsianOfficeLady</td>\n      <td>King_Oppai</td>\n      <td>#981</td>\n      <td></td>\n      <td></td>\n      <td>/r/AsianOfficeLady/comments/zg1c7f/981/</td>\n      <td>https://i.redd.it/cy6fhff5vo4a1.jpg</td>\n      <td></td>\n      <td></td>\n      <td></td>\n      <td>False</td>\n      <td>False</td>\n    </tr>\n  </tbody>\n</table>\n<p>991 rows × 13 columns</p>\n</div>"
     },
     "metadata": {},
     "output_type": "display_data"
    },
    {
     "name": "stdout",
     "output_type": "stream",
     "text": [
      "CPU times: total: 78.1 ms\n",
      "Wall time: 93 ms\n"
     ]
    }
   ],
   "source": [
    "%%time\n",
    "\n",
    "initial = pd.DataFrame({}, columns=schema.names)\n",
    "initial['id'] = df['id']\n",
    "initial['subreddit'] = df['subreddit']\n",
    "initial['author'] = df['author']\n",
    "initial['title'] = df['title']\n",
    "initial['caption'] = \"\"\n",
    "initial['hash'] = \"\"\n",
    "initial['permalink'] = df['permalink']\n",
    "initial['original_url'] = df['url']\n",
    "initial['image_name'] = \"\"\n",
    "initial['path'] = \"\"\n",
    "initial['thumbnail_path'] = \"\"\n",
    "initial['exists'] = False\n",
    "initial['curated'] = False\n",
    "\n",
    "filtered_initial = initial.where(initial['original_url'].str.endswith('.jpg')).dropna(how='all').reset_index().drop('index', axis=1)\n",
    "\n",
    "display(filtered_initial)"
   ],
   "metadata": {
    "collapsed": false,
    "ExecuteTime": {
     "start_time": "2023-03-31T15:27:44.414605Z",
     "end_time": "2023-03-31T15:27:44.874605Z"
    }
   }
  },
  {
   "cell_type": "code",
   "execution_count": 15,
   "outputs": [
    {
     "data": {
      "text/plain": "         id        subreddit      author title caption hash  \\\n0    ufpk6z  AsianOfficeLady  King_Oppai  #550                \n1    ufbo95  AsianOfficeLady  King_Oppai  #549                \n2    ussmi2  AsianOfficeLady  King_Oppai  #585                \n3    us26ex  AsianOfficeLady  King_Oppai  #584                \n4    urn3u5  AsianOfficeLady  King_Oppai  #583                \n..      ...              ...         ...   ...     ...  ...   \n256  ugqaap  AsianOfficeLady  King_Oppai  #553                \n257  ugf0ll  AsianOfficeLady  King_Oppai  #552                \n258  ug0hqo  AsianOfficeLady  King_Oppai  #551                \n259  ufpk6z  AsianOfficeLady  King_Oppai  #550                \n260  ufbo95  AsianOfficeLady  King_Oppai  #549                \n\n                                   permalink  \\\n0    /r/AsianOfficeLady/comments/ufpk6z/550/   \n1    /r/AsianOfficeLady/comments/ufbo95/549/   \n2    /r/AsianOfficeLady/comments/ussmi2/585/   \n3    /r/AsianOfficeLady/comments/us26ex/584/   \n4    /r/AsianOfficeLady/comments/urn3u5/583/   \n..                                       ...   \n256  /r/AsianOfficeLady/comments/ugqaap/553/   \n257  /r/AsianOfficeLady/comments/ugf0ll/552/   \n258  /r/AsianOfficeLady/comments/ug0hqo/551/   \n259  /r/AsianOfficeLady/comments/ufpk6z/550/   \n260  /r/AsianOfficeLady/comments/ufbo95/549/   \n\n                            original_url image_name path thumbnail_path  \\\n0    https://i.redd.it/ejlwu8bjurw81.jpg                                  \n1    https://i.redd.it/nieclgv2aow81.jpg                                  \n2    https://i.redd.it/hm5sv01yac091.jpg                                  \n3    https://i.redd.it/w35xt16165091.jpg                                  \n4    https://i.redd.it/wrrqtqtkl1091.jpg                                  \n..                                   ...        ...  ...            ...   \n256  https://i.redd.it/tju3k4kwj2x81.jpg                                  \n257  https://i.redd.it/5zf9nx5gzyw81.jpg                                  \n258  https://i.redd.it/wkrizvrzevw81.jpg                                  \n259  https://i.redd.it/ejlwu8bjurw81.jpg                                  \n260  https://i.redd.it/nieclgv2aow81.jpg                                  \n\n    exists curated  \n0    False   False  \n1    False   False  \n2    False   False  \n3    False   False  \n4    False   False  \n..     ...     ...  \n256  False   False  \n257  False   False  \n258  False   False  \n259  False   False  \n260  False   False  \n\n[261 rows x 13 columns]",
      "text/html": "<div>\n<style scoped>\n    .dataframe tbody tr th:only-of-type {\n        vertical-align: middle;\n    }\n\n    .dataframe tbody tr th {\n        vertical-align: top;\n    }\n\n    .dataframe thead th {\n        text-align: right;\n    }\n</style>\n<table border=\"1\" class=\"dataframe\">\n  <thead>\n    <tr style=\"text-align: right;\">\n      <th></th>\n      <th>id</th>\n      <th>subreddit</th>\n      <th>author</th>\n      <th>title</th>\n      <th>caption</th>\n      <th>hash</th>\n      <th>permalink</th>\n      <th>original_url</th>\n      <th>image_name</th>\n      <th>path</th>\n      <th>thumbnail_path</th>\n      <th>exists</th>\n      <th>curated</th>\n    </tr>\n  </thead>\n  <tbody>\n    <tr>\n      <th>0</th>\n      <td>ufpk6z</td>\n      <td>AsianOfficeLady</td>\n      <td>King_Oppai</td>\n      <td>#550</td>\n      <td></td>\n      <td></td>\n      <td>/r/AsianOfficeLady/comments/ufpk6z/550/</td>\n      <td>https://i.redd.it/ejlwu8bjurw81.jpg</td>\n      <td></td>\n      <td></td>\n      <td></td>\n      <td>False</td>\n      <td>False</td>\n    </tr>\n    <tr>\n      <th>1</th>\n      <td>ufbo95</td>\n      <td>AsianOfficeLady</td>\n      <td>King_Oppai</td>\n      <td>#549</td>\n      <td></td>\n      <td></td>\n      <td>/r/AsianOfficeLady/comments/ufbo95/549/</td>\n      <td>https://i.redd.it/nieclgv2aow81.jpg</td>\n      <td></td>\n      <td></td>\n      <td></td>\n      <td>False</td>\n      <td>False</td>\n    </tr>\n    <tr>\n      <th>2</th>\n      <td>ussmi2</td>\n      <td>AsianOfficeLady</td>\n      <td>King_Oppai</td>\n      <td>#585</td>\n      <td></td>\n      <td></td>\n      <td>/r/AsianOfficeLady/comments/ussmi2/585/</td>\n      <td>https://i.redd.it/hm5sv01yac091.jpg</td>\n      <td></td>\n      <td></td>\n      <td></td>\n      <td>False</td>\n      <td>False</td>\n    </tr>\n    <tr>\n      <th>3</th>\n      <td>us26ex</td>\n      <td>AsianOfficeLady</td>\n      <td>King_Oppai</td>\n      <td>#584</td>\n      <td></td>\n      <td></td>\n      <td>/r/AsianOfficeLady/comments/us26ex/584/</td>\n      <td>https://i.redd.it/w35xt16165091.jpg</td>\n      <td></td>\n      <td></td>\n      <td></td>\n      <td>False</td>\n      <td>False</td>\n    </tr>\n    <tr>\n      <th>4</th>\n      <td>urn3u5</td>\n      <td>AsianOfficeLady</td>\n      <td>King_Oppai</td>\n      <td>#583</td>\n      <td></td>\n      <td></td>\n      <td>/r/AsianOfficeLady/comments/urn3u5/583/</td>\n      <td>https://i.redd.it/wrrqtqtkl1091.jpg</td>\n      <td></td>\n      <td></td>\n      <td></td>\n      <td>False</td>\n      <td>False</td>\n    </tr>\n    <tr>\n      <th>...</th>\n      <td>...</td>\n      <td>...</td>\n      <td>...</td>\n      <td>...</td>\n      <td>...</td>\n      <td>...</td>\n      <td>...</td>\n      <td>...</td>\n      <td>...</td>\n      <td>...</td>\n      <td>...</td>\n      <td>...</td>\n      <td>...</td>\n    </tr>\n    <tr>\n      <th>256</th>\n      <td>ugqaap</td>\n      <td>AsianOfficeLady</td>\n      <td>King_Oppai</td>\n      <td>#553</td>\n      <td></td>\n      <td></td>\n      <td>/r/AsianOfficeLady/comments/ugqaap/553/</td>\n      <td>https://i.redd.it/tju3k4kwj2x81.jpg</td>\n      <td></td>\n      <td></td>\n      <td></td>\n      <td>False</td>\n      <td>False</td>\n    </tr>\n    <tr>\n      <th>257</th>\n      <td>ugf0ll</td>\n      <td>AsianOfficeLady</td>\n      <td>King_Oppai</td>\n      <td>#552</td>\n      <td></td>\n      <td></td>\n      <td>/r/AsianOfficeLady/comments/ugf0ll/552/</td>\n      <td>https://i.redd.it/5zf9nx5gzyw81.jpg</td>\n      <td></td>\n      <td></td>\n      <td></td>\n      <td>False</td>\n      <td>False</td>\n    </tr>\n    <tr>\n      <th>258</th>\n      <td>ug0hqo</td>\n      <td>AsianOfficeLady</td>\n      <td>King_Oppai</td>\n      <td>#551</td>\n      <td></td>\n      <td></td>\n      <td>/r/AsianOfficeLady/comments/ug0hqo/551/</td>\n      <td>https://i.redd.it/wkrizvrzevw81.jpg</td>\n      <td></td>\n      <td></td>\n      <td></td>\n      <td>False</td>\n      <td>False</td>\n    </tr>\n    <tr>\n      <th>259</th>\n      <td>ufpk6z</td>\n      <td>AsianOfficeLady</td>\n      <td>King_Oppai</td>\n      <td>#550</td>\n      <td></td>\n      <td></td>\n      <td>/r/AsianOfficeLady/comments/ufpk6z/550/</td>\n      <td>https://i.redd.it/ejlwu8bjurw81.jpg</td>\n      <td></td>\n      <td></td>\n      <td></td>\n      <td>False</td>\n      <td>False</td>\n    </tr>\n    <tr>\n      <th>260</th>\n      <td>ufbo95</td>\n      <td>AsianOfficeLady</td>\n      <td>King_Oppai</td>\n      <td>#549</td>\n      <td></td>\n      <td></td>\n      <td>/r/AsianOfficeLady/comments/ufbo95/549/</td>\n      <td>https://i.redd.it/nieclgv2aow81.jpg</td>\n      <td></td>\n      <td></td>\n      <td></td>\n      <td>False</td>\n      <td>False</td>\n    </tr>\n  </tbody>\n</table>\n<p>261 rows × 13 columns</p>\n</div>"
     },
     "metadata": {},
     "output_type": "display_data"
    },
    {
     "name": "stdout",
     "output_type": "stream",
     "text": [
      "CPU times: total: 78.1 ms\n",
      "Wall time: 103 ms\n"
     ]
    }
   ],
   "source": [
    "%%time\n",
    "\n",
    "new_entries = filtered_initial.where(~filtered_initial['id'].isin(extant_data['id'])).dropna(how='all').reset_index().drop('index', axis=1)\n",
    "\n",
    "display(new_entries)"
   ],
   "metadata": {
    "collapsed": false,
    "ExecuteTime": {
     "start_time": "2023-03-31T15:27:44.530605Z",
     "end_time": "2023-03-31T15:27:45.190603Z"
    }
   }
  },
  {
   "cell_type": "code",
   "execution_count": 16,
   "outputs": [
    {
     "name": "stderr",
     "output_type": "stream",
     "text": [
      "Fetch-Image:   5%|▍         | 13/261 [00:04<01:55,  2.16it/s]"
     ]
    },
    {
     "name": "stdout",
     "output_type": "stream",
     "text": [
      "image file is truncated (1 bytes not processed)\n"
     ]
    },
    {
     "name": "stderr",
     "output_type": "stream",
     "text": [
      "Fetch-Image:  19%|█▉        | 50/261 [00:18<00:59,  3.54it/s]"
     ]
    },
    {
     "name": "stdout",
     "output_type": "stream",
     "text": [
      "image file is truncated (1 bytes not processed)\n"
     ]
    },
    {
     "name": "stderr",
     "output_type": "stream",
     "text": [
      "Fetch-Image:  33%|███▎      | 87/261 [00:27<00:46,  3.74it/s]"
     ]
    },
    {
     "name": "stdout",
     "output_type": "stream",
     "text": [
      "image file is truncated (1 bytes not processed)\n"
     ]
    },
    {
     "name": "stderr",
     "output_type": "stream",
     "text": [
      "Fetch-Image:  48%|████▊     | 124/261 [00:37<00:37,  3.67it/s]"
     ]
    },
    {
     "name": "stdout",
     "output_type": "stream",
     "text": [
      "image file is truncated (1 bytes not processed)\n"
     ]
    },
    {
     "name": "stderr",
     "output_type": "stream",
     "text": [
      "Fetch-Image:  62%|██████▏   | 161/261 [00:46<00:28,  3.48it/s]"
     ]
    },
    {
     "name": "stdout",
     "output_type": "stream",
     "text": [
      "image file is truncated (1 bytes not processed)\n"
     ]
    },
    {
     "name": "stderr",
     "output_type": "stream",
     "text": [
      "Fetch-Image:  76%|███████▌  | 198/261 [00:56<00:17,  3.68it/s]"
     ]
    },
    {
     "name": "stdout",
     "output_type": "stream",
     "text": [
      "image file is truncated (1 bytes not processed)\n"
     ]
    },
    {
     "name": "stderr",
     "output_type": "stream",
     "text": [
      "Fetch-Image:  90%|█████████ | 235/261 [01:06<00:07,  3.69it/s]"
     ]
    },
    {
     "name": "stdout",
     "output_type": "stream",
     "text": [
      "image file is truncated (1 bytes not processed)\n"
     ]
    },
    {
     "name": "stderr",
     "output_type": "stream",
     "text": [
      "Fetch-Image: 100%|██████████| 261/261 [01:13<00:00,  3.57it/s]\n",
      "Get-Image-Name: 100%|██████████| 261/261 [00:00<00:00, 14501.05it/s]\n",
      "Split-Hash: 100%|██████████| 261/261 [00:00<00:00, 21729.56it/s]\n"
     ]
    },
    {
     "data": {
      "text/plain": "         id        subreddit      author title caption  \\\n0    ufpk6z  AsianOfficeLady  King_Oppai  #550           \n1    ufbo95  AsianOfficeLady  King_Oppai  #549           \n2    ussmi2  AsianOfficeLady  King_Oppai  #585           \n3    us26ex  AsianOfficeLady  King_Oppai  #584           \n4    urn3u5  AsianOfficeLady  King_Oppai  #583           \n..      ...              ...         ...   ...     ...   \n256  ugqaap  AsianOfficeLady  King_Oppai  #553           \n257  ugf0ll  AsianOfficeLady  King_Oppai  #552           \n258  ug0hqo  AsianOfficeLady  King_Oppai  #551           \n259  ufpk6z  AsianOfficeLady  King_Oppai  #550           \n260  ufbo95  AsianOfficeLady  King_Oppai  #549           \n\n                                 hash  \\\n0    9cf6b89609ec7c9c26bcb06a41e1bb1f   \n1    5e4ad6bc3b6af21a811cc0c91fdac890   \n2    874fe479be1a696968be6ea0822e67be   \n3    b32bd930779af7964e7537c33b9559e8   \n4    0fc684a023538e8eb97b4f64338b9af6   \n..                                ...   \n256  28f6a8ca470803c3e4e18ba7b02b1ed0   \n257  47961ab8ac4e292562501a06e9f84d24   \n258  57f69a9a8360af0706ed0566c5981665   \n259  9cf6b89609ec7c9c26bcb06a41e1bb1f   \n260  5e4ad6bc3b6af21a811cc0c91fdac890   \n\n                                   permalink  \\\n0    /r/AsianOfficeLady/comments/ufpk6z/550/   \n1    /r/AsianOfficeLady/comments/ufbo95/549/   \n2    /r/AsianOfficeLady/comments/ussmi2/585/   \n3    /r/AsianOfficeLady/comments/us26ex/584/   \n4    /r/AsianOfficeLady/comments/urn3u5/583/   \n..                                       ...   \n256  /r/AsianOfficeLady/comments/ugqaap/553/   \n257  /r/AsianOfficeLady/comments/ugf0ll/552/   \n258  /r/AsianOfficeLady/comments/ug0hqo/551/   \n259  /r/AsianOfficeLady/comments/ufpk6z/550/   \n260  /r/AsianOfficeLady/comments/ufbo95/549/   \n\n                            original_url  \\\n0    https://i.redd.it/ejlwu8bjurw81.jpg   \n1    https://i.redd.it/nieclgv2aow81.jpg   \n2    https://i.redd.it/hm5sv01yac091.jpg   \n3    https://i.redd.it/w35xt16165091.jpg   \n4    https://i.redd.it/wrrqtqtkl1091.jpg   \n..                                   ...   \n256  https://i.redd.it/tju3k4kwj2x81.jpg   \n257  https://i.redd.it/5zf9nx5gzyw81.jpg   \n258  https://i.redd.it/wkrizvrzevw81.jpg   \n259  https://i.redd.it/ejlwu8bjurw81.jpg   \n260  https://i.redd.it/nieclgv2aow81.jpg   \n\n                               image_name  \\\n0    9cf6b89609ec7c9c26bcb06a41e1bb1f.jpg   \n1    5e4ad6bc3b6af21a811cc0c91fdac890.jpg   \n2    874fe479be1a696968be6ea0822e67be.jpg   \n3    b32bd930779af7964e7537c33b9559e8.jpg   \n4    0fc684a023538e8eb97b4f64338b9af6.jpg   \n..                                    ...   \n256  28f6a8ca470803c3e4e18ba7b02b1ed0.jpg   \n257  47961ab8ac4e292562501a06e9f84d24.jpg   \n258  57f69a9a8360af0706ed0566c5981665.jpg   \n259  9cf6b89609ec7c9c26bcb06a41e1bb1f.jpg   \n260  5e4ad6bc3b6af21a811cc0c91fdac890.jpg   \n\n                                                  path thumbnail_path exists  \\\n0    D:\\data\\images\\AsianOfficeLady\\9cf6b89609ec7c9...                 False   \n1    D:\\data\\images\\AsianOfficeLady\\5e4ad6bc3b6af21...                 False   \n2    D:\\data\\images\\AsianOfficeLady\\874fe479be1a696...                 False   \n3    D:\\data\\images\\AsianOfficeLady\\b32bd930779af79...                 False   \n4    D:\\data\\images\\AsianOfficeLady\\0fc684a023538e8...                 False   \n..                                                 ...            ...    ...   \n256  D:\\data\\images\\AsianOfficeLady\\28f6a8ca470803c...                 False   \n257  D:\\data\\images\\AsianOfficeLady\\47961ab8ac4e292...                 False   \n258  D:\\data\\images\\AsianOfficeLady\\57f69a9a8360af0...                 False   \n259  D:\\data\\images\\AsianOfficeLady\\9cf6b89609ec7c9...                 False   \n260  D:\\data\\images\\AsianOfficeLady\\5e4ad6bc3b6af21...                 False   \n\n    curated  \n0     False  \n1     False  \n2     False  \n3     False  \n4     False  \n..      ...  \n256   False  \n257   False  \n258   False  \n259   False  \n260   False  \n\n[261 rows x 13 columns]",
      "text/html": "<div>\n<style scoped>\n    .dataframe tbody tr th:only-of-type {\n        vertical-align: middle;\n    }\n\n    .dataframe tbody tr th {\n        vertical-align: top;\n    }\n\n    .dataframe thead th {\n        text-align: right;\n    }\n</style>\n<table border=\"1\" class=\"dataframe\">\n  <thead>\n    <tr style=\"text-align: right;\">\n      <th></th>\n      <th>id</th>\n      <th>subreddit</th>\n      <th>author</th>\n      <th>title</th>\n      <th>caption</th>\n      <th>hash</th>\n      <th>permalink</th>\n      <th>original_url</th>\n      <th>image_name</th>\n      <th>path</th>\n      <th>thumbnail_path</th>\n      <th>exists</th>\n      <th>curated</th>\n    </tr>\n  </thead>\n  <tbody>\n    <tr>\n      <th>0</th>\n      <td>ufpk6z</td>\n      <td>AsianOfficeLady</td>\n      <td>King_Oppai</td>\n      <td>#550</td>\n      <td></td>\n      <td>9cf6b89609ec7c9c26bcb06a41e1bb1f</td>\n      <td>/r/AsianOfficeLady/comments/ufpk6z/550/</td>\n      <td>https://i.redd.it/ejlwu8bjurw81.jpg</td>\n      <td>9cf6b89609ec7c9c26bcb06a41e1bb1f.jpg</td>\n      <td>D:\\data\\images\\AsianOfficeLady\\9cf6b89609ec7c9...</td>\n      <td></td>\n      <td>False</td>\n      <td>False</td>\n    </tr>\n    <tr>\n      <th>1</th>\n      <td>ufbo95</td>\n      <td>AsianOfficeLady</td>\n      <td>King_Oppai</td>\n      <td>#549</td>\n      <td></td>\n      <td>5e4ad6bc3b6af21a811cc0c91fdac890</td>\n      <td>/r/AsianOfficeLady/comments/ufbo95/549/</td>\n      <td>https://i.redd.it/nieclgv2aow81.jpg</td>\n      <td>5e4ad6bc3b6af21a811cc0c91fdac890.jpg</td>\n      <td>D:\\data\\images\\AsianOfficeLady\\5e4ad6bc3b6af21...</td>\n      <td></td>\n      <td>False</td>\n      <td>False</td>\n    </tr>\n    <tr>\n      <th>2</th>\n      <td>ussmi2</td>\n      <td>AsianOfficeLady</td>\n      <td>King_Oppai</td>\n      <td>#585</td>\n      <td></td>\n      <td>874fe479be1a696968be6ea0822e67be</td>\n      <td>/r/AsianOfficeLady/comments/ussmi2/585/</td>\n      <td>https://i.redd.it/hm5sv01yac091.jpg</td>\n      <td>874fe479be1a696968be6ea0822e67be.jpg</td>\n      <td>D:\\data\\images\\AsianOfficeLady\\874fe479be1a696...</td>\n      <td></td>\n      <td>False</td>\n      <td>False</td>\n    </tr>\n    <tr>\n      <th>3</th>\n      <td>us26ex</td>\n      <td>AsianOfficeLady</td>\n      <td>King_Oppai</td>\n      <td>#584</td>\n      <td></td>\n      <td>b32bd930779af7964e7537c33b9559e8</td>\n      <td>/r/AsianOfficeLady/comments/us26ex/584/</td>\n      <td>https://i.redd.it/w35xt16165091.jpg</td>\n      <td>b32bd930779af7964e7537c33b9559e8.jpg</td>\n      <td>D:\\data\\images\\AsianOfficeLady\\b32bd930779af79...</td>\n      <td></td>\n      <td>False</td>\n      <td>False</td>\n    </tr>\n    <tr>\n      <th>4</th>\n      <td>urn3u5</td>\n      <td>AsianOfficeLady</td>\n      <td>King_Oppai</td>\n      <td>#583</td>\n      <td></td>\n      <td>0fc684a023538e8eb97b4f64338b9af6</td>\n      <td>/r/AsianOfficeLady/comments/urn3u5/583/</td>\n      <td>https://i.redd.it/wrrqtqtkl1091.jpg</td>\n      <td>0fc684a023538e8eb97b4f64338b9af6.jpg</td>\n      <td>D:\\data\\images\\AsianOfficeLady\\0fc684a023538e8...</td>\n      <td></td>\n      <td>False</td>\n      <td>False</td>\n    </tr>\n    <tr>\n      <th>...</th>\n      <td>...</td>\n      <td>...</td>\n      <td>...</td>\n      <td>...</td>\n      <td>...</td>\n      <td>...</td>\n      <td>...</td>\n      <td>...</td>\n      <td>...</td>\n      <td>...</td>\n      <td>...</td>\n      <td>...</td>\n      <td>...</td>\n    </tr>\n    <tr>\n      <th>256</th>\n      <td>ugqaap</td>\n      <td>AsianOfficeLady</td>\n      <td>King_Oppai</td>\n      <td>#553</td>\n      <td></td>\n      <td>28f6a8ca470803c3e4e18ba7b02b1ed0</td>\n      <td>/r/AsianOfficeLady/comments/ugqaap/553/</td>\n      <td>https://i.redd.it/tju3k4kwj2x81.jpg</td>\n      <td>28f6a8ca470803c3e4e18ba7b02b1ed0.jpg</td>\n      <td>D:\\data\\images\\AsianOfficeLady\\28f6a8ca470803c...</td>\n      <td></td>\n      <td>False</td>\n      <td>False</td>\n    </tr>\n    <tr>\n      <th>257</th>\n      <td>ugf0ll</td>\n      <td>AsianOfficeLady</td>\n      <td>King_Oppai</td>\n      <td>#552</td>\n      <td></td>\n      <td>47961ab8ac4e292562501a06e9f84d24</td>\n      <td>/r/AsianOfficeLady/comments/ugf0ll/552/</td>\n      <td>https://i.redd.it/5zf9nx5gzyw81.jpg</td>\n      <td>47961ab8ac4e292562501a06e9f84d24.jpg</td>\n      <td>D:\\data\\images\\AsianOfficeLady\\47961ab8ac4e292...</td>\n      <td></td>\n      <td>False</td>\n      <td>False</td>\n    </tr>\n    <tr>\n      <th>258</th>\n      <td>ug0hqo</td>\n      <td>AsianOfficeLady</td>\n      <td>King_Oppai</td>\n      <td>#551</td>\n      <td></td>\n      <td>57f69a9a8360af0706ed0566c5981665</td>\n      <td>/r/AsianOfficeLady/comments/ug0hqo/551/</td>\n      <td>https://i.redd.it/wkrizvrzevw81.jpg</td>\n      <td>57f69a9a8360af0706ed0566c5981665.jpg</td>\n      <td>D:\\data\\images\\AsianOfficeLady\\57f69a9a8360af0...</td>\n      <td></td>\n      <td>False</td>\n      <td>False</td>\n    </tr>\n    <tr>\n      <th>259</th>\n      <td>ufpk6z</td>\n      <td>AsianOfficeLady</td>\n      <td>King_Oppai</td>\n      <td>#550</td>\n      <td></td>\n      <td>9cf6b89609ec7c9c26bcb06a41e1bb1f</td>\n      <td>/r/AsianOfficeLady/comments/ufpk6z/550/</td>\n      <td>https://i.redd.it/ejlwu8bjurw81.jpg</td>\n      <td>9cf6b89609ec7c9c26bcb06a41e1bb1f.jpg</td>\n      <td>D:\\data\\images\\AsianOfficeLady\\9cf6b89609ec7c9...</td>\n      <td></td>\n      <td>False</td>\n      <td>False</td>\n    </tr>\n    <tr>\n      <th>260</th>\n      <td>ufbo95</td>\n      <td>AsianOfficeLady</td>\n      <td>King_Oppai</td>\n      <td>#549</td>\n      <td></td>\n      <td>5e4ad6bc3b6af21a811cc0c91fdac890</td>\n      <td>/r/AsianOfficeLady/comments/ufbo95/549/</td>\n      <td>https://i.redd.it/nieclgv2aow81.jpg</td>\n      <td>5e4ad6bc3b6af21a811cc0c91fdac890.jpg</td>\n      <td>D:\\data\\images\\AsianOfficeLady\\5e4ad6bc3b6af21...</td>\n      <td></td>\n      <td>False</td>\n      <td>False</td>\n    </tr>\n  </tbody>\n</table>\n<p>261 rows × 13 columns</p>\n</div>"
     },
     "metadata": {},
     "output_type": "display_data"
    },
    {
     "name": "stdout",
     "output_type": "stream",
     "text": [
      "CPU times: total: 18.8 s\n",
      "Wall time: 1min 13s\n"
     ]
    }
   ],
   "source": [
    "%%time\n",
    "\n",
    "new_entries_1 = new_entries.copy()\n",
    "\n",
    "tqdm.pandas(desc=\"Fetch-Image\")\n",
    "with ProgressBar():\n",
    "\tnew_entries_1['path'] = new_entries_1.progress_apply(lambda x: fetch_image(x), axis=1)\n",
    "\n",
    "tqdm.pandas(desc=\"Get-Image-Name\")\n",
    "with ProgressBar():\n",
    "\tnew_entries_1['image_name'] = new_entries_1.progress_apply(lambda x: get_image_name(x), axis=1)\n",
    "\n",
    "tqdm.pandas(desc=\"Split-Hash\")\n",
    "with ProgressBar():\n",
    "\tnew_entries_1['hash'] = new_entries_1.progress_apply(lambda x: split_hash(x), axis=1)\n",
    "\n",
    "display(new_entries_1)"
   ],
   "metadata": {
    "collapsed": false,
    "ExecuteTime": {
     "start_time": "2023-03-31T15:27:44.654602Z",
     "end_time": "2023-03-31T15:28:57.973328Z"
    }
   }
  },
  {
   "cell_type": "code",
   "execution_count": 17,
   "outputs": [
    {
     "name": "stderr",
     "output_type": "stream",
     "text": [
      "Create-Thumbnail: 100%|██████████| 261/261 [00:02<00:00, 88.16it/s] \n",
      "Checking-Exists: 100%|██████████| 261/261 [00:00<00:00, 3675.89it/s]\n"
     ]
    },
    {
     "data": {
      "text/plain": "         id        subreddit      author title caption  \\\n0    ufpk6z  AsianOfficeLady  King_Oppai  #550           \n1    ufbo95  AsianOfficeLady  King_Oppai  #549           \n2    ussmi2  AsianOfficeLady  King_Oppai  #585           \n3    us26ex  AsianOfficeLady  King_Oppai  #584           \n4    urn3u5  AsianOfficeLady  King_Oppai  #583           \n..      ...              ...         ...   ...     ...   \n256  ugqaap  AsianOfficeLady  King_Oppai  #553           \n257  ugf0ll  AsianOfficeLady  King_Oppai  #552           \n258  ug0hqo  AsianOfficeLady  King_Oppai  #551           \n259  ufpk6z  AsianOfficeLady  King_Oppai  #550           \n260  ufbo95  AsianOfficeLady  King_Oppai  #549           \n\n                                 hash  \\\n0    9cf6b89609ec7c9c26bcb06a41e1bb1f   \n1    5e4ad6bc3b6af21a811cc0c91fdac890   \n2    874fe479be1a696968be6ea0822e67be   \n3    b32bd930779af7964e7537c33b9559e8   \n4    0fc684a023538e8eb97b4f64338b9af6   \n..                                ...   \n256  28f6a8ca470803c3e4e18ba7b02b1ed0   \n257  47961ab8ac4e292562501a06e9f84d24   \n258  57f69a9a8360af0706ed0566c5981665   \n259  9cf6b89609ec7c9c26bcb06a41e1bb1f   \n260  5e4ad6bc3b6af21a811cc0c91fdac890   \n\n                                   permalink  \\\n0    /r/AsianOfficeLady/comments/ufpk6z/550/   \n1    /r/AsianOfficeLady/comments/ufbo95/549/   \n2    /r/AsianOfficeLady/comments/ussmi2/585/   \n3    /r/AsianOfficeLady/comments/us26ex/584/   \n4    /r/AsianOfficeLady/comments/urn3u5/583/   \n..                                       ...   \n256  /r/AsianOfficeLady/comments/ugqaap/553/   \n257  /r/AsianOfficeLady/comments/ugf0ll/552/   \n258  /r/AsianOfficeLady/comments/ug0hqo/551/   \n259  /r/AsianOfficeLady/comments/ufpk6z/550/   \n260  /r/AsianOfficeLady/comments/ufbo95/549/   \n\n                            original_url  \\\n0    https://i.redd.it/ejlwu8bjurw81.jpg   \n1    https://i.redd.it/nieclgv2aow81.jpg   \n2    https://i.redd.it/hm5sv01yac091.jpg   \n3    https://i.redd.it/w35xt16165091.jpg   \n4    https://i.redd.it/wrrqtqtkl1091.jpg   \n..                                   ...   \n256  https://i.redd.it/tju3k4kwj2x81.jpg   \n257  https://i.redd.it/5zf9nx5gzyw81.jpg   \n258  https://i.redd.it/wkrizvrzevw81.jpg   \n259  https://i.redd.it/ejlwu8bjurw81.jpg   \n260  https://i.redd.it/nieclgv2aow81.jpg   \n\n                               image_name  \\\n0    9cf6b89609ec7c9c26bcb06a41e1bb1f.jpg   \n1    5e4ad6bc3b6af21a811cc0c91fdac890.jpg   \n2    874fe479be1a696968be6ea0822e67be.jpg   \n3    b32bd930779af7964e7537c33b9559e8.jpg   \n4    0fc684a023538e8eb97b4f64338b9af6.jpg   \n..                                    ...   \n256  28f6a8ca470803c3e4e18ba7b02b1ed0.jpg   \n257  47961ab8ac4e292562501a06e9f84d24.jpg   \n258  57f69a9a8360af0706ed0566c5981665.jpg   \n259  9cf6b89609ec7c9c26bcb06a41e1bb1f.jpg   \n260  5e4ad6bc3b6af21a811cc0c91fdac890.jpg   \n\n                                                  path  \\\n0    D:\\data\\images\\AsianOfficeLady\\9cf6b89609ec7c9...   \n1    D:\\data\\images\\AsianOfficeLady\\5e4ad6bc3b6af21...   \n2    D:\\data\\images\\AsianOfficeLady\\874fe479be1a696...   \n3    D:\\data\\images\\AsianOfficeLady\\b32bd930779af79...   \n4    D:\\data\\images\\AsianOfficeLady\\0fc684a023538e8...   \n..                                                 ...   \n256  D:\\data\\images\\AsianOfficeLady\\28f6a8ca470803c...   \n257  D:\\data\\images\\AsianOfficeLady\\47961ab8ac4e292...   \n258  D:\\data\\images\\AsianOfficeLady\\57f69a9a8360af0...   \n259  D:\\data\\images\\AsianOfficeLady\\9cf6b89609ec7c9...   \n260  D:\\data\\images\\AsianOfficeLady\\5e4ad6bc3b6af21...   \n\n                                        thumbnail_path  exists curated  \n0    D:\\data\\images\\AsianOfficeLady\\thumbnail\\9cf6b...    True   False  \n1    D:\\data\\images\\AsianOfficeLady\\thumbnail\\5e4ad...    True   False  \n2    D:\\data\\images\\AsianOfficeLady\\thumbnail\\874fe...    True   False  \n3    D:\\data\\images\\AsianOfficeLady\\thumbnail\\b32bd...    True   False  \n4    D:\\data\\images\\AsianOfficeLady\\thumbnail\\0fc68...    True   False  \n..                                                 ...     ...     ...  \n256  D:\\data\\images\\AsianOfficeLady\\thumbnail\\28f6a...    True   False  \n257  D:\\data\\images\\AsianOfficeLady\\thumbnail\\47961...    True   False  \n258  D:\\data\\images\\AsianOfficeLady\\thumbnail\\57f69...    True   False  \n259  D:\\data\\images\\AsianOfficeLady\\thumbnail\\9cf6b...    True   False  \n260  D:\\data\\images\\AsianOfficeLady\\thumbnail\\5e4ad...    True   False  \n\n[261 rows x 13 columns]",
      "text/html": "<div>\n<style scoped>\n    .dataframe tbody tr th:only-of-type {\n        vertical-align: middle;\n    }\n\n    .dataframe tbody tr th {\n        vertical-align: top;\n    }\n\n    .dataframe thead th {\n        text-align: right;\n    }\n</style>\n<table border=\"1\" class=\"dataframe\">\n  <thead>\n    <tr style=\"text-align: right;\">\n      <th></th>\n      <th>id</th>\n      <th>subreddit</th>\n      <th>author</th>\n      <th>title</th>\n      <th>caption</th>\n      <th>hash</th>\n      <th>permalink</th>\n      <th>original_url</th>\n      <th>image_name</th>\n      <th>path</th>\n      <th>thumbnail_path</th>\n      <th>exists</th>\n      <th>curated</th>\n    </tr>\n  </thead>\n  <tbody>\n    <tr>\n      <th>0</th>\n      <td>ufpk6z</td>\n      <td>AsianOfficeLady</td>\n      <td>King_Oppai</td>\n      <td>#550</td>\n      <td></td>\n      <td>9cf6b89609ec7c9c26bcb06a41e1bb1f</td>\n      <td>/r/AsianOfficeLady/comments/ufpk6z/550/</td>\n      <td>https://i.redd.it/ejlwu8bjurw81.jpg</td>\n      <td>9cf6b89609ec7c9c26bcb06a41e1bb1f.jpg</td>\n      <td>D:\\data\\images\\AsianOfficeLady\\9cf6b89609ec7c9...</td>\n      <td>D:\\data\\images\\AsianOfficeLady\\thumbnail\\9cf6b...</td>\n      <td>True</td>\n      <td>False</td>\n    </tr>\n    <tr>\n      <th>1</th>\n      <td>ufbo95</td>\n      <td>AsianOfficeLady</td>\n      <td>King_Oppai</td>\n      <td>#549</td>\n      <td></td>\n      <td>5e4ad6bc3b6af21a811cc0c91fdac890</td>\n      <td>/r/AsianOfficeLady/comments/ufbo95/549/</td>\n      <td>https://i.redd.it/nieclgv2aow81.jpg</td>\n      <td>5e4ad6bc3b6af21a811cc0c91fdac890.jpg</td>\n      <td>D:\\data\\images\\AsianOfficeLady\\5e4ad6bc3b6af21...</td>\n      <td>D:\\data\\images\\AsianOfficeLady\\thumbnail\\5e4ad...</td>\n      <td>True</td>\n      <td>False</td>\n    </tr>\n    <tr>\n      <th>2</th>\n      <td>ussmi2</td>\n      <td>AsianOfficeLady</td>\n      <td>King_Oppai</td>\n      <td>#585</td>\n      <td></td>\n      <td>874fe479be1a696968be6ea0822e67be</td>\n      <td>/r/AsianOfficeLady/comments/ussmi2/585/</td>\n      <td>https://i.redd.it/hm5sv01yac091.jpg</td>\n      <td>874fe479be1a696968be6ea0822e67be.jpg</td>\n      <td>D:\\data\\images\\AsianOfficeLady\\874fe479be1a696...</td>\n      <td>D:\\data\\images\\AsianOfficeLady\\thumbnail\\874fe...</td>\n      <td>True</td>\n      <td>False</td>\n    </tr>\n    <tr>\n      <th>3</th>\n      <td>us26ex</td>\n      <td>AsianOfficeLady</td>\n      <td>King_Oppai</td>\n      <td>#584</td>\n      <td></td>\n      <td>b32bd930779af7964e7537c33b9559e8</td>\n      <td>/r/AsianOfficeLady/comments/us26ex/584/</td>\n      <td>https://i.redd.it/w35xt16165091.jpg</td>\n      <td>b32bd930779af7964e7537c33b9559e8.jpg</td>\n      <td>D:\\data\\images\\AsianOfficeLady\\b32bd930779af79...</td>\n      <td>D:\\data\\images\\AsianOfficeLady\\thumbnail\\b32bd...</td>\n      <td>True</td>\n      <td>False</td>\n    </tr>\n    <tr>\n      <th>4</th>\n      <td>urn3u5</td>\n      <td>AsianOfficeLady</td>\n      <td>King_Oppai</td>\n      <td>#583</td>\n      <td></td>\n      <td>0fc684a023538e8eb97b4f64338b9af6</td>\n      <td>/r/AsianOfficeLady/comments/urn3u5/583/</td>\n      <td>https://i.redd.it/wrrqtqtkl1091.jpg</td>\n      <td>0fc684a023538e8eb97b4f64338b9af6.jpg</td>\n      <td>D:\\data\\images\\AsianOfficeLady\\0fc684a023538e8...</td>\n      <td>D:\\data\\images\\AsianOfficeLady\\thumbnail\\0fc68...</td>\n      <td>True</td>\n      <td>False</td>\n    </tr>\n    <tr>\n      <th>...</th>\n      <td>...</td>\n      <td>...</td>\n      <td>...</td>\n      <td>...</td>\n      <td>...</td>\n      <td>...</td>\n      <td>...</td>\n      <td>...</td>\n      <td>...</td>\n      <td>...</td>\n      <td>...</td>\n      <td>...</td>\n      <td>...</td>\n    </tr>\n    <tr>\n      <th>256</th>\n      <td>ugqaap</td>\n      <td>AsianOfficeLady</td>\n      <td>King_Oppai</td>\n      <td>#553</td>\n      <td></td>\n      <td>28f6a8ca470803c3e4e18ba7b02b1ed0</td>\n      <td>/r/AsianOfficeLady/comments/ugqaap/553/</td>\n      <td>https://i.redd.it/tju3k4kwj2x81.jpg</td>\n      <td>28f6a8ca470803c3e4e18ba7b02b1ed0.jpg</td>\n      <td>D:\\data\\images\\AsianOfficeLady\\28f6a8ca470803c...</td>\n      <td>D:\\data\\images\\AsianOfficeLady\\thumbnail\\28f6a...</td>\n      <td>True</td>\n      <td>False</td>\n    </tr>\n    <tr>\n      <th>257</th>\n      <td>ugf0ll</td>\n      <td>AsianOfficeLady</td>\n      <td>King_Oppai</td>\n      <td>#552</td>\n      <td></td>\n      <td>47961ab8ac4e292562501a06e9f84d24</td>\n      <td>/r/AsianOfficeLady/comments/ugf0ll/552/</td>\n      <td>https://i.redd.it/5zf9nx5gzyw81.jpg</td>\n      <td>47961ab8ac4e292562501a06e9f84d24.jpg</td>\n      <td>D:\\data\\images\\AsianOfficeLady\\47961ab8ac4e292...</td>\n      <td>D:\\data\\images\\AsianOfficeLady\\thumbnail\\47961...</td>\n      <td>True</td>\n      <td>False</td>\n    </tr>\n    <tr>\n      <th>258</th>\n      <td>ug0hqo</td>\n      <td>AsianOfficeLady</td>\n      <td>King_Oppai</td>\n      <td>#551</td>\n      <td></td>\n      <td>57f69a9a8360af0706ed0566c5981665</td>\n      <td>/r/AsianOfficeLady/comments/ug0hqo/551/</td>\n      <td>https://i.redd.it/wkrizvrzevw81.jpg</td>\n      <td>57f69a9a8360af0706ed0566c5981665.jpg</td>\n      <td>D:\\data\\images\\AsianOfficeLady\\57f69a9a8360af0...</td>\n      <td>D:\\data\\images\\AsianOfficeLady\\thumbnail\\57f69...</td>\n      <td>True</td>\n      <td>False</td>\n    </tr>\n    <tr>\n      <th>259</th>\n      <td>ufpk6z</td>\n      <td>AsianOfficeLady</td>\n      <td>King_Oppai</td>\n      <td>#550</td>\n      <td></td>\n      <td>9cf6b89609ec7c9c26bcb06a41e1bb1f</td>\n      <td>/r/AsianOfficeLady/comments/ufpk6z/550/</td>\n      <td>https://i.redd.it/ejlwu8bjurw81.jpg</td>\n      <td>9cf6b89609ec7c9c26bcb06a41e1bb1f.jpg</td>\n      <td>D:\\data\\images\\AsianOfficeLady\\9cf6b89609ec7c9...</td>\n      <td>D:\\data\\images\\AsianOfficeLady\\thumbnail\\9cf6b...</td>\n      <td>True</td>\n      <td>False</td>\n    </tr>\n    <tr>\n      <th>260</th>\n      <td>ufbo95</td>\n      <td>AsianOfficeLady</td>\n      <td>King_Oppai</td>\n      <td>#549</td>\n      <td></td>\n      <td>5e4ad6bc3b6af21a811cc0c91fdac890</td>\n      <td>/r/AsianOfficeLady/comments/ufbo95/549/</td>\n      <td>https://i.redd.it/nieclgv2aow81.jpg</td>\n      <td>5e4ad6bc3b6af21a811cc0c91fdac890.jpg</td>\n      <td>D:\\data\\images\\AsianOfficeLady\\5e4ad6bc3b6af21...</td>\n      <td>D:\\data\\images\\AsianOfficeLady\\thumbnail\\5e4ad...</td>\n      <td>True</td>\n      <td>False</td>\n    </tr>\n  </tbody>\n</table>\n<p>261 rows × 13 columns</p>\n</div>"
     },
     "metadata": {},
     "output_type": "display_data"
    },
    {
     "name": "stdout",
     "output_type": "stream",
     "text": [
      "CPU times: total: 2.97 s\n",
      "Wall time: 3.11 s\n"
     ]
    }
   ],
   "source": [
    "%%time\n",
    "\n",
    "new_entries_2 = new_entries_1.copy()\n",
    "\n",
    "tqdm.pandas(desc=\"Create-Thumbnail\")\n",
    "with ProgressBar():\n",
    "\tnew_entries_2['thumbnail_path'] = new_entries_2.progress_apply(lambda x: make_thumbnail(x), axis=1)\n",
    "\n",
    "tqdm.pandas(desc=\"Checking-Exists\")\n",
    "with ProgressBar():\n",
    "\tnew_entries_2['exists'] = new_entries_2.progress_apply(lambda x: exists(x), axis=1)\n",
    "\n",
    "display(new_entries_2)"
   ],
   "metadata": {
    "collapsed": false,
    "ExecuteTime": {
     "start_time": "2023-03-31T15:28:57.957325Z",
     "end_time": "2023-03-31T15:29:01.324875Z"
    }
   }
  },
  {
   "cell_type": "code",
   "execution_count": 18,
   "outputs": [
    {
     "name": "stdout",
     "output_type": "stream",
     "text": [
      "CPU times: total: 1min 4s\n",
      "Wall time: 1min 9s\n"
     ]
    }
   ],
   "source": [
    "%%time\n",
    "\n",
    "blip = BlipCaption(1)"
   ],
   "metadata": {
    "collapsed": false,
    "ExecuteTime": {
     "start_time": "2023-03-31T15:29:01.097877Z",
     "end_time": "2023-03-31T15:30:10.180487Z"
    }
   }
  },
  {
   "cell_type": "code",
   "execution_count": 19,
   "outputs": [
    {
     "name": "stdout",
     "output_type": "stream",
     "text": [
      "[                                        ] | 0% Completed | 1.17 ms"
     ]
    },
    {
     "data": {
      "text/plain": "global:   0%|          | 0/6 [00:00<?, ?it/s]",
      "application/vnd.jupyter.widget-view+json": {
       "version_major": 2,
       "version_minor": 0,
       "model_id": "4b39f3a77bff4395964ea144f0ac4c42"
      }
     },
     "metadata": {},
     "output_type": "display_data"
    },
    {
     "name": "stdout",
     "output_type": "stream",
     "text": [
      "[                                        ] | 0% Completed | 23.33 sms"
     ]
    },
    {
     "name": "stderr",
     "output_type": "stream",
     "text": [
      "D:\\workspaces\\General\\venv\\lib\\site-packages\\transformers\\generation\\utils.py:1288: UserWarning: Using `max_length`'s default (20) to control the generation length. This behaviour is deprecated and will be removed from the config in v5 of Transformers -- we recommend using `max_new_tokens` to control the maximum length of the generation.\n",
      "  warnings.warn(\n"
     ]
    },
    {
     "name": "stdout",
     "output_type": "stream",
     "text": [
      "[######                                  ] | 16% Completed | 302.20 s"
     ]
    },
    {
     "name": "stderr",
     "output_type": "stream",
     "text": [
      "D:\\workspaces\\General\\venv\\lib\\site-packages\\transformers\\generation\\utils.py:1288: UserWarning: Using `max_length`'s default (20) to control the generation length. This behaviour is deprecated and will be removed from the config in v5 of Transformers -- we recommend using `max_new_tokens` to control the maximum length of the generation.\n",
      "  warnings.warn(\n"
     ]
    },
    {
     "name": "stdout",
     "output_type": "stream",
     "text": [
      "[#############                           ] | 33% Completed | 308.58 s"
     ]
    },
    {
     "name": "stderr",
     "output_type": "stream",
     "text": [
      "D:\\workspaces\\General\\venv\\lib\\site-packages\\transformers\\generation\\utils.py:1288: UserWarning: Using `max_length`'s default (20) to control the generation length. This behaviour is deprecated and will be removed from the config in v5 of Transformers -- we recommend using `max_new_tokens` to control the maximum length of the generation.\n",
      "  warnings.warn(\n"
     ]
    },
    {
     "name": "stdout",
     "output_type": "stream",
     "text": [
      "[####################                    ] | 50% Completed | 310.56 s"
     ]
    },
    {
     "name": "stderr",
     "output_type": "stream",
     "text": [
      "D:\\workspaces\\General\\venv\\lib\\site-packages\\transformers\\generation\\utils.py:1288: UserWarning: Using `max_length`'s default (20) to control the generation length. This behaviour is deprecated and will be removed from the config in v5 of Transformers -- we recommend using `max_new_tokens` to control the maximum length of the generation.\n",
      "  warnings.warn(\n"
     ]
    },
    {
     "name": "stdout",
     "output_type": "stream",
     "text": [
      "[##########################              ] | 66% Completed | 312.91 s"
     ]
    },
    {
     "name": "stderr",
     "output_type": "stream",
     "text": [
      "D:\\workspaces\\General\\venv\\lib\\site-packages\\transformers\\generation\\utils.py:1288: UserWarning: Using `max_length`'s default (20) to control the generation length. This behaviour is deprecated and will be removed from the config in v5 of Transformers -- we recommend using `max_new_tokens` to control the maximum length of the generation.\n",
      "  warnings.warn(\n"
     ]
    },
    {
     "name": "stdout",
     "output_type": "stream",
     "text": [
      "[########################################] | 100% Completed | 314.99 s\n"
     ]
    },
    {
     "data": {
      "text/plain": "         id        subreddit      author title  \\\n0    ufpk6z  AsianOfficeLady  King_Oppai  #550   \n1    ufbo95  AsianOfficeLady  King_Oppai  #549   \n2    ussmi2  AsianOfficeLady  King_Oppai  #585   \n3    us26ex  AsianOfficeLady  King_Oppai  #584   \n4    urn3u5  AsianOfficeLady  King_Oppai  #583   \n..      ...              ...         ...   ...   \n256  ugqaap  AsianOfficeLady  King_Oppai  #553   \n257  ugf0ll  AsianOfficeLady  King_Oppai  #552   \n258  ug0hqo  AsianOfficeLady  King_Oppai  #551   \n259  ufpk6z  AsianOfficeLady  King_Oppai  #550   \n260  ufbo95  AsianOfficeLady  King_Oppai  #549   \n\n                                               caption  \\\n0    a woman in a white shirt and black skirt sitti...   \n1    a woman in a white shirt and red panties is po...   \n2    a woman in a short skirt and tight stockings i...   \n3    a woman in a skirted skirt and stockings is sh...   \n4    a woman in a white dress and red shoes is posi...   \n..                                                 ...   \n256  a woman in a short dress standing in front of ...   \n257  a woman in a white dress and stockings is sitt...   \n258       a woman in a red dress is standing in a room   \n259  a woman in a white shirt and black skirt sitti...   \n260  a woman in a white shirt and red panties is po...   \n\n                                 hash  \\\n0    9cf6b89609ec7c9c26bcb06a41e1bb1f   \n1    5e4ad6bc3b6af21a811cc0c91fdac890   \n2    874fe479be1a696968be6ea0822e67be   \n3    b32bd930779af7964e7537c33b9559e8   \n4    0fc684a023538e8eb97b4f64338b9af6   \n..                                ...   \n256  28f6a8ca470803c3e4e18ba7b02b1ed0   \n257  47961ab8ac4e292562501a06e9f84d24   \n258  57f69a9a8360af0706ed0566c5981665   \n259  9cf6b89609ec7c9c26bcb06a41e1bb1f   \n260  5e4ad6bc3b6af21a811cc0c91fdac890   \n\n                                   permalink  \\\n0    /r/AsianOfficeLady/comments/ufpk6z/550/   \n1    /r/AsianOfficeLady/comments/ufbo95/549/   \n2    /r/AsianOfficeLady/comments/ussmi2/585/   \n3    /r/AsianOfficeLady/comments/us26ex/584/   \n4    /r/AsianOfficeLady/comments/urn3u5/583/   \n..                                       ...   \n256  /r/AsianOfficeLady/comments/ugqaap/553/   \n257  /r/AsianOfficeLady/comments/ugf0ll/552/   \n258  /r/AsianOfficeLady/comments/ug0hqo/551/   \n259  /r/AsianOfficeLady/comments/ufpk6z/550/   \n260  /r/AsianOfficeLady/comments/ufbo95/549/   \n\n                            original_url  \\\n0    https://i.redd.it/ejlwu8bjurw81.jpg   \n1    https://i.redd.it/nieclgv2aow81.jpg   \n2    https://i.redd.it/hm5sv01yac091.jpg   \n3    https://i.redd.it/w35xt16165091.jpg   \n4    https://i.redd.it/wrrqtqtkl1091.jpg   \n..                                   ...   \n256  https://i.redd.it/tju3k4kwj2x81.jpg   \n257  https://i.redd.it/5zf9nx5gzyw81.jpg   \n258  https://i.redd.it/wkrizvrzevw81.jpg   \n259  https://i.redd.it/ejlwu8bjurw81.jpg   \n260  https://i.redd.it/nieclgv2aow81.jpg   \n\n                               image_name  \\\n0    9cf6b89609ec7c9c26bcb06a41e1bb1f.jpg   \n1    5e4ad6bc3b6af21a811cc0c91fdac890.jpg   \n2    874fe479be1a696968be6ea0822e67be.jpg   \n3    b32bd930779af7964e7537c33b9559e8.jpg   \n4    0fc684a023538e8eb97b4f64338b9af6.jpg   \n..                                    ...   \n256  28f6a8ca470803c3e4e18ba7b02b1ed0.jpg   \n257  47961ab8ac4e292562501a06e9f84d24.jpg   \n258  57f69a9a8360af0706ed0566c5981665.jpg   \n259  9cf6b89609ec7c9c26bcb06a41e1bb1f.jpg   \n260  5e4ad6bc3b6af21a811cc0c91fdac890.jpg   \n\n                                                  path  \\\n0    D:\\data\\images\\AsianOfficeLady\\9cf6b89609ec7c9...   \n1    D:\\data\\images\\AsianOfficeLady\\5e4ad6bc3b6af21...   \n2    D:\\data\\images\\AsianOfficeLady\\874fe479be1a696...   \n3    D:\\data\\images\\AsianOfficeLady\\b32bd930779af79...   \n4    D:\\data\\images\\AsianOfficeLady\\0fc684a023538e8...   \n..                                                 ...   \n256  D:\\data\\images\\AsianOfficeLady\\28f6a8ca470803c...   \n257  D:\\data\\images\\AsianOfficeLady\\47961ab8ac4e292...   \n258  D:\\data\\images\\AsianOfficeLady\\57f69a9a8360af0...   \n259  D:\\data\\images\\AsianOfficeLady\\9cf6b89609ec7c9...   \n260  D:\\data\\images\\AsianOfficeLady\\5e4ad6bc3b6af21...   \n\n                                        thumbnail_path  exists curated  \n0    D:\\data\\images\\AsianOfficeLady\\thumbnail\\9cf6b...    True   False  \n1    D:\\data\\images\\AsianOfficeLady\\thumbnail\\5e4ad...    True   False  \n2    D:\\data\\images\\AsianOfficeLady\\thumbnail\\874fe...    True   False  \n3    D:\\data\\images\\AsianOfficeLady\\thumbnail\\b32bd...    True   False  \n4    D:\\data\\images\\AsianOfficeLady\\thumbnail\\0fc68...    True   False  \n..                                                 ...     ...     ...  \n256  D:\\data\\images\\AsianOfficeLady\\thumbnail\\28f6a...    True   False  \n257  D:\\data\\images\\AsianOfficeLady\\thumbnail\\47961...    True   False  \n258  D:\\data\\images\\AsianOfficeLady\\thumbnail\\57f69...    True   False  \n259  D:\\data\\images\\AsianOfficeLady\\thumbnail\\9cf6b...    True   False  \n260  D:\\data\\images\\AsianOfficeLady\\thumbnail\\5e4ad...    True   False  \n\n[261 rows x 13 columns]",
      "text/html": "<div>\n<style scoped>\n    .dataframe tbody tr th:only-of-type {\n        vertical-align: middle;\n    }\n\n    .dataframe tbody tr th {\n        vertical-align: top;\n    }\n\n    .dataframe thead th {\n        text-align: right;\n    }\n</style>\n<table border=\"1\" class=\"dataframe\">\n  <thead>\n    <tr style=\"text-align: right;\">\n      <th></th>\n      <th>id</th>\n      <th>subreddit</th>\n      <th>author</th>\n      <th>title</th>\n      <th>caption</th>\n      <th>hash</th>\n      <th>permalink</th>\n      <th>original_url</th>\n      <th>image_name</th>\n      <th>path</th>\n      <th>thumbnail_path</th>\n      <th>exists</th>\n      <th>curated</th>\n    </tr>\n  </thead>\n  <tbody>\n    <tr>\n      <th>0</th>\n      <td>ufpk6z</td>\n      <td>AsianOfficeLady</td>\n      <td>King_Oppai</td>\n      <td>#550</td>\n      <td>a woman in a white shirt and black skirt sitti...</td>\n      <td>9cf6b89609ec7c9c26bcb06a41e1bb1f</td>\n      <td>/r/AsianOfficeLady/comments/ufpk6z/550/</td>\n      <td>https://i.redd.it/ejlwu8bjurw81.jpg</td>\n      <td>9cf6b89609ec7c9c26bcb06a41e1bb1f.jpg</td>\n      <td>D:\\data\\images\\AsianOfficeLady\\9cf6b89609ec7c9...</td>\n      <td>D:\\data\\images\\AsianOfficeLady\\thumbnail\\9cf6b...</td>\n      <td>True</td>\n      <td>False</td>\n    </tr>\n    <tr>\n      <th>1</th>\n      <td>ufbo95</td>\n      <td>AsianOfficeLady</td>\n      <td>King_Oppai</td>\n      <td>#549</td>\n      <td>a woman in a white shirt and red panties is po...</td>\n      <td>5e4ad6bc3b6af21a811cc0c91fdac890</td>\n      <td>/r/AsianOfficeLady/comments/ufbo95/549/</td>\n      <td>https://i.redd.it/nieclgv2aow81.jpg</td>\n      <td>5e4ad6bc3b6af21a811cc0c91fdac890.jpg</td>\n      <td>D:\\data\\images\\AsianOfficeLady\\5e4ad6bc3b6af21...</td>\n      <td>D:\\data\\images\\AsianOfficeLady\\thumbnail\\5e4ad...</td>\n      <td>True</td>\n      <td>False</td>\n    </tr>\n    <tr>\n      <th>2</th>\n      <td>ussmi2</td>\n      <td>AsianOfficeLady</td>\n      <td>King_Oppai</td>\n      <td>#585</td>\n      <td>a woman in a short skirt and tight stockings i...</td>\n      <td>874fe479be1a696968be6ea0822e67be</td>\n      <td>/r/AsianOfficeLady/comments/ussmi2/585/</td>\n      <td>https://i.redd.it/hm5sv01yac091.jpg</td>\n      <td>874fe479be1a696968be6ea0822e67be.jpg</td>\n      <td>D:\\data\\images\\AsianOfficeLady\\874fe479be1a696...</td>\n      <td>D:\\data\\images\\AsianOfficeLady\\thumbnail\\874fe...</td>\n      <td>True</td>\n      <td>False</td>\n    </tr>\n    <tr>\n      <th>3</th>\n      <td>us26ex</td>\n      <td>AsianOfficeLady</td>\n      <td>King_Oppai</td>\n      <td>#584</td>\n      <td>a woman in a skirted skirt and stockings is sh...</td>\n      <td>b32bd930779af7964e7537c33b9559e8</td>\n      <td>/r/AsianOfficeLady/comments/us26ex/584/</td>\n      <td>https://i.redd.it/w35xt16165091.jpg</td>\n      <td>b32bd930779af7964e7537c33b9559e8.jpg</td>\n      <td>D:\\data\\images\\AsianOfficeLady\\b32bd930779af79...</td>\n      <td>D:\\data\\images\\AsianOfficeLady\\thumbnail\\b32bd...</td>\n      <td>True</td>\n      <td>False</td>\n    </tr>\n    <tr>\n      <th>4</th>\n      <td>urn3u5</td>\n      <td>AsianOfficeLady</td>\n      <td>King_Oppai</td>\n      <td>#583</td>\n      <td>a woman in a white dress and red shoes is posi...</td>\n      <td>0fc684a023538e8eb97b4f64338b9af6</td>\n      <td>/r/AsianOfficeLady/comments/urn3u5/583/</td>\n      <td>https://i.redd.it/wrrqtqtkl1091.jpg</td>\n      <td>0fc684a023538e8eb97b4f64338b9af6.jpg</td>\n      <td>D:\\data\\images\\AsianOfficeLady\\0fc684a023538e8...</td>\n      <td>D:\\data\\images\\AsianOfficeLady\\thumbnail\\0fc68...</td>\n      <td>True</td>\n      <td>False</td>\n    </tr>\n    <tr>\n      <th>...</th>\n      <td>...</td>\n      <td>...</td>\n      <td>...</td>\n      <td>...</td>\n      <td>...</td>\n      <td>...</td>\n      <td>...</td>\n      <td>...</td>\n      <td>...</td>\n      <td>...</td>\n      <td>...</td>\n      <td>...</td>\n      <td>...</td>\n    </tr>\n    <tr>\n      <th>256</th>\n      <td>ugqaap</td>\n      <td>AsianOfficeLady</td>\n      <td>King_Oppai</td>\n      <td>#553</td>\n      <td>a woman in a short dress standing in front of ...</td>\n      <td>28f6a8ca470803c3e4e18ba7b02b1ed0</td>\n      <td>/r/AsianOfficeLady/comments/ugqaap/553/</td>\n      <td>https://i.redd.it/tju3k4kwj2x81.jpg</td>\n      <td>28f6a8ca470803c3e4e18ba7b02b1ed0.jpg</td>\n      <td>D:\\data\\images\\AsianOfficeLady\\28f6a8ca470803c...</td>\n      <td>D:\\data\\images\\AsianOfficeLady\\thumbnail\\28f6a...</td>\n      <td>True</td>\n      <td>False</td>\n    </tr>\n    <tr>\n      <th>257</th>\n      <td>ugf0ll</td>\n      <td>AsianOfficeLady</td>\n      <td>King_Oppai</td>\n      <td>#552</td>\n      <td>a woman in a white dress and stockings is sitt...</td>\n      <td>47961ab8ac4e292562501a06e9f84d24</td>\n      <td>/r/AsianOfficeLady/comments/ugf0ll/552/</td>\n      <td>https://i.redd.it/5zf9nx5gzyw81.jpg</td>\n      <td>47961ab8ac4e292562501a06e9f84d24.jpg</td>\n      <td>D:\\data\\images\\AsianOfficeLady\\47961ab8ac4e292...</td>\n      <td>D:\\data\\images\\AsianOfficeLady\\thumbnail\\47961...</td>\n      <td>True</td>\n      <td>False</td>\n    </tr>\n    <tr>\n      <th>258</th>\n      <td>ug0hqo</td>\n      <td>AsianOfficeLady</td>\n      <td>King_Oppai</td>\n      <td>#551</td>\n      <td>a woman in a red dress is standing in a room</td>\n      <td>57f69a9a8360af0706ed0566c5981665</td>\n      <td>/r/AsianOfficeLady/comments/ug0hqo/551/</td>\n      <td>https://i.redd.it/wkrizvrzevw81.jpg</td>\n      <td>57f69a9a8360af0706ed0566c5981665.jpg</td>\n      <td>D:\\data\\images\\AsianOfficeLady\\57f69a9a8360af0...</td>\n      <td>D:\\data\\images\\AsianOfficeLady\\thumbnail\\57f69...</td>\n      <td>True</td>\n      <td>False</td>\n    </tr>\n    <tr>\n      <th>259</th>\n      <td>ufpk6z</td>\n      <td>AsianOfficeLady</td>\n      <td>King_Oppai</td>\n      <td>#550</td>\n      <td>a woman in a white shirt and black skirt sitti...</td>\n      <td>9cf6b89609ec7c9c26bcb06a41e1bb1f</td>\n      <td>/r/AsianOfficeLady/comments/ufpk6z/550/</td>\n      <td>https://i.redd.it/ejlwu8bjurw81.jpg</td>\n      <td>9cf6b89609ec7c9c26bcb06a41e1bb1f.jpg</td>\n      <td>D:\\data\\images\\AsianOfficeLady\\9cf6b89609ec7c9...</td>\n      <td>D:\\data\\images\\AsianOfficeLady\\thumbnail\\9cf6b...</td>\n      <td>True</td>\n      <td>False</td>\n    </tr>\n    <tr>\n      <th>260</th>\n      <td>ufbo95</td>\n      <td>AsianOfficeLady</td>\n      <td>King_Oppai</td>\n      <td>#549</td>\n      <td>a woman in a white shirt and red panties is po...</td>\n      <td>5e4ad6bc3b6af21a811cc0c91fdac890</td>\n      <td>/r/AsianOfficeLady/comments/ufbo95/549/</td>\n      <td>https://i.redd.it/nieclgv2aow81.jpg</td>\n      <td>5e4ad6bc3b6af21a811cc0c91fdac890.jpg</td>\n      <td>D:\\data\\images\\AsianOfficeLady\\5e4ad6bc3b6af21...</td>\n      <td>D:\\data\\images\\AsianOfficeLady\\thumbnail\\5e4ad...</td>\n      <td>True</td>\n      <td>False</td>\n    </tr>\n  </tbody>\n</table>\n<p>261 rows × 13 columns</p>\n</div>"
     },
     "metadata": {},
     "output_type": "display_data"
    },
    {
     "name": "stdout",
     "output_type": "stream",
     "text": [
      "CPU times: total: 11min 37s\n",
      "Wall time: 6min 5s\n"
     ]
    }
   ],
   "source": [
    "%%time\n",
    "\n",
    "new_entries_final = new_entries_2.copy()\n",
    "torch.cuda.empty_cache()\n",
    "\n",
    "with pbar:\n",
    "\tddf = dd.from_pandas(new_entries_final, npartitions=6)\n",
    "\tnew_entries_final['caption'] = ddf.apply(lambda x: caption_image(x, blip), meta=('str', object), axis=1).compute()\n",
    "\n",
    "torch.cuda.empty_cache()\n",
    "\n",
    "display(new_entries_final)"
   ],
   "metadata": {
    "collapsed": false,
    "ExecuteTime": {
     "start_time": "2023-03-31T15:30:10.182506Z",
     "end_time": "2023-03-31T15:36:15.377989Z"
    }
   }
  },
  {
   "cell_type": "code",
   "execution_count": 20,
   "outputs": [
    {
     "data": {
      "text/plain": "         id        subreddit      author title  \\\n0    ufpk6z  AsianOfficeLady  King_Oppai  #550   \n1    ufbo95  AsianOfficeLady  King_Oppai  #549   \n2    ussmi2  AsianOfficeLady  King_Oppai  #585   \n3    us26ex  AsianOfficeLady  King_Oppai  #584   \n4    urn3u5  AsianOfficeLady  King_Oppai  #583   \n..      ...              ...         ...   ...   \n256  ugqaap  AsianOfficeLady  King_Oppai  #553   \n257  ugf0ll  AsianOfficeLady  King_Oppai  #552   \n258  ug0hqo  AsianOfficeLady  King_Oppai  #551   \n259  ufpk6z  AsianOfficeLady  King_Oppai  #550   \n260  ufbo95  AsianOfficeLady  King_Oppai  #549   \n\n                                               caption  \\\n0    a woman in a white shirt and black skirt sitti...   \n1    a woman in a white shirt and red panties is po...   \n2    a woman in a short skirt and tight stockings i...   \n3    a woman in a skirted skirt and stockings is sh...   \n4    a woman in a white dress and red shoes is posi...   \n..                                                 ...   \n256  a woman in a short dress standing in front of ...   \n257  a woman in a white dress and stockings is sitt...   \n258       a woman in a red dress is standing in a room   \n259  a woman in a white shirt and black skirt sitti...   \n260  a woman in a white shirt and red panties is po...   \n\n                                 hash  \\\n0    9cf6b89609ec7c9c26bcb06a41e1bb1f   \n1    5e4ad6bc3b6af21a811cc0c91fdac890   \n2    874fe479be1a696968be6ea0822e67be   \n3    b32bd930779af7964e7537c33b9559e8   \n4    0fc684a023538e8eb97b4f64338b9af6   \n..                                ...   \n256  28f6a8ca470803c3e4e18ba7b02b1ed0   \n257  47961ab8ac4e292562501a06e9f84d24   \n258  57f69a9a8360af0706ed0566c5981665   \n259  9cf6b89609ec7c9c26bcb06a41e1bb1f   \n260  5e4ad6bc3b6af21a811cc0c91fdac890   \n\n                                   permalink  \\\n0    /r/AsianOfficeLady/comments/ufpk6z/550/   \n1    /r/AsianOfficeLady/comments/ufbo95/549/   \n2    /r/AsianOfficeLady/comments/ussmi2/585/   \n3    /r/AsianOfficeLady/comments/us26ex/584/   \n4    /r/AsianOfficeLady/comments/urn3u5/583/   \n..                                       ...   \n256  /r/AsianOfficeLady/comments/ugqaap/553/   \n257  /r/AsianOfficeLady/comments/ugf0ll/552/   \n258  /r/AsianOfficeLady/comments/ug0hqo/551/   \n259  /r/AsianOfficeLady/comments/ufpk6z/550/   \n260  /r/AsianOfficeLady/comments/ufbo95/549/   \n\n                            original_url  \\\n0    https://i.redd.it/ejlwu8bjurw81.jpg   \n1    https://i.redd.it/nieclgv2aow81.jpg   \n2    https://i.redd.it/hm5sv01yac091.jpg   \n3    https://i.redd.it/w35xt16165091.jpg   \n4    https://i.redd.it/wrrqtqtkl1091.jpg   \n..                                   ...   \n256  https://i.redd.it/tju3k4kwj2x81.jpg   \n257  https://i.redd.it/5zf9nx5gzyw81.jpg   \n258  https://i.redd.it/wkrizvrzevw81.jpg   \n259  https://i.redd.it/ejlwu8bjurw81.jpg   \n260  https://i.redd.it/nieclgv2aow81.jpg   \n\n                               image_name  \\\n0    9cf6b89609ec7c9c26bcb06a41e1bb1f.jpg   \n1    5e4ad6bc3b6af21a811cc0c91fdac890.jpg   \n2    874fe479be1a696968be6ea0822e67be.jpg   \n3    b32bd930779af7964e7537c33b9559e8.jpg   \n4    0fc684a023538e8eb97b4f64338b9af6.jpg   \n..                                    ...   \n256  28f6a8ca470803c3e4e18ba7b02b1ed0.jpg   \n257  47961ab8ac4e292562501a06e9f84d24.jpg   \n258  57f69a9a8360af0706ed0566c5981665.jpg   \n259  9cf6b89609ec7c9c26bcb06a41e1bb1f.jpg   \n260  5e4ad6bc3b6af21a811cc0c91fdac890.jpg   \n\n                                                  path  \\\n0    D:\\data\\images\\AsianOfficeLady\\9cf6b89609ec7c9...   \n1    D:\\data\\images\\AsianOfficeLady\\5e4ad6bc3b6af21...   \n2    D:\\data\\images\\AsianOfficeLady\\874fe479be1a696...   \n3    D:\\data\\images\\AsianOfficeLady\\b32bd930779af79...   \n4    D:\\data\\images\\AsianOfficeLady\\0fc684a023538e8...   \n..                                                 ...   \n256  D:\\data\\images\\AsianOfficeLady\\28f6a8ca470803c...   \n257  D:\\data\\images\\AsianOfficeLady\\47961ab8ac4e292...   \n258  D:\\data\\images\\AsianOfficeLady\\57f69a9a8360af0...   \n259  D:\\data\\images\\AsianOfficeLady\\9cf6b89609ec7c9...   \n260  D:\\data\\images\\AsianOfficeLady\\5e4ad6bc3b6af21...   \n\n                                        thumbnail_path  exists curated  \n0    D:\\data\\images\\AsianOfficeLady\\thumbnail\\9cf6b...    True   False  \n1    D:\\data\\images\\AsianOfficeLady\\thumbnail\\5e4ad...    True   False  \n2    D:\\data\\images\\AsianOfficeLady\\thumbnail\\874fe...    True   False  \n3    D:\\data\\images\\AsianOfficeLady\\thumbnail\\b32bd...    True   False  \n4    D:\\data\\images\\AsianOfficeLady\\thumbnail\\0fc68...    True   False  \n..                                                 ...     ...     ...  \n256  D:\\data\\images\\AsianOfficeLady\\thumbnail\\28f6a...    True   False  \n257  D:\\data\\images\\AsianOfficeLady\\thumbnail\\47961...    True   False  \n258  D:\\data\\images\\AsianOfficeLady\\thumbnail\\57f69...    True   False  \n259  D:\\data\\images\\AsianOfficeLady\\thumbnail\\9cf6b...    True   False  \n260  D:\\data\\images\\AsianOfficeLady\\thumbnail\\5e4ad...    True   False  \n\n[261 rows x 13 columns]",
      "text/html": "<div>\n<style scoped>\n    .dataframe tbody tr th:only-of-type {\n        vertical-align: middle;\n    }\n\n    .dataframe tbody tr th {\n        vertical-align: top;\n    }\n\n    .dataframe thead th {\n        text-align: right;\n    }\n</style>\n<table border=\"1\" class=\"dataframe\">\n  <thead>\n    <tr style=\"text-align: right;\">\n      <th></th>\n      <th>id</th>\n      <th>subreddit</th>\n      <th>author</th>\n      <th>title</th>\n      <th>caption</th>\n      <th>hash</th>\n      <th>permalink</th>\n      <th>original_url</th>\n      <th>image_name</th>\n      <th>path</th>\n      <th>thumbnail_path</th>\n      <th>exists</th>\n      <th>curated</th>\n    </tr>\n  </thead>\n  <tbody>\n    <tr>\n      <th>0</th>\n      <td>ufpk6z</td>\n      <td>AsianOfficeLady</td>\n      <td>King_Oppai</td>\n      <td>#550</td>\n      <td>a woman in a white shirt and black skirt sitti...</td>\n      <td>9cf6b89609ec7c9c26bcb06a41e1bb1f</td>\n      <td>/r/AsianOfficeLady/comments/ufpk6z/550/</td>\n      <td>https://i.redd.it/ejlwu8bjurw81.jpg</td>\n      <td>9cf6b89609ec7c9c26bcb06a41e1bb1f.jpg</td>\n      <td>D:\\data\\images\\AsianOfficeLady\\9cf6b89609ec7c9...</td>\n      <td>D:\\data\\images\\AsianOfficeLady\\thumbnail\\9cf6b...</td>\n      <td>True</td>\n      <td>False</td>\n    </tr>\n    <tr>\n      <th>1</th>\n      <td>ufbo95</td>\n      <td>AsianOfficeLady</td>\n      <td>King_Oppai</td>\n      <td>#549</td>\n      <td>a woman in a white shirt and red panties is po...</td>\n      <td>5e4ad6bc3b6af21a811cc0c91fdac890</td>\n      <td>/r/AsianOfficeLady/comments/ufbo95/549/</td>\n      <td>https://i.redd.it/nieclgv2aow81.jpg</td>\n      <td>5e4ad6bc3b6af21a811cc0c91fdac890.jpg</td>\n      <td>D:\\data\\images\\AsianOfficeLady\\5e4ad6bc3b6af21...</td>\n      <td>D:\\data\\images\\AsianOfficeLady\\thumbnail\\5e4ad...</td>\n      <td>True</td>\n      <td>False</td>\n    </tr>\n    <tr>\n      <th>2</th>\n      <td>ussmi2</td>\n      <td>AsianOfficeLady</td>\n      <td>King_Oppai</td>\n      <td>#585</td>\n      <td>a woman in a short skirt and tight stockings i...</td>\n      <td>874fe479be1a696968be6ea0822e67be</td>\n      <td>/r/AsianOfficeLady/comments/ussmi2/585/</td>\n      <td>https://i.redd.it/hm5sv01yac091.jpg</td>\n      <td>874fe479be1a696968be6ea0822e67be.jpg</td>\n      <td>D:\\data\\images\\AsianOfficeLady\\874fe479be1a696...</td>\n      <td>D:\\data\\images\\AsianOfficeLady\\thumbnail\\874fe...</td>\n      <td>True</td>\n      <td>False</td>\n    </tr>\n    <tr>\n      <th>3</th>\n      <td>us26ex</td>\n      <td>AsianOfficeLady</td>\n      <td>King_Oppai</td>\n      <td>#584</td>\n      <td>a woman in a skirted skirt and stockings is sh...</td>\n      <td>b32bd930779af7964e7537c33b9559e8</td>\n      <td>/r/AsianOfficeLady/comments/us26ex/584/</td>\n      <td>https://i.redd.it/w35xt16165091.jpg</td>\n      <td>b32bd930779af7964e7537c33b9559e8.jpg</td>\n      <td>D:\\data\\images\\AsianOfficeLady\\b32bd930779af79...</td>\n      <td>D:\\data\\images\\AsianOfficeLady\\thumbnail\\b32bd...</td>\n      <td>True</td>\n      <td>False</td>\n    </tr>\n    <tr>\n      <th>4</th>\n      <td>urn3u5</td>\n      <td>AsianOfficeLady</td>\n      <td>King_Oppai</td>\n      <td>#583</td>\n      <td>a woman in a white dress and red shoes is posi...</td>\n      <td>0fc684a023538e8eb97b4f64338b9af6</td>\n      <td>/r/AsianOfficeLady/comments/urn3u5/583/</td>\n      <td>https://i.redd.it/wrrqtqtkl1091.jpg</td>\n      <td>0fc684a023538e8eb97b4f64338b9af6.jpg</td>\n      <td>D:\\data\\images\\AsianOfficeLady\\0fc684a023538e8...</td>\n      <td>D:\\data\\images\\AsianOfficeLady\\thumbnail\\0fc68...</td>\n      <td>True</td>\n      <td>False</td>\n    </tr>\n    <tr>\n      <th>...</th>\n      <td>...</td>\n      <td>...</td>\n      <td>...</td>\n      <td>...</td>\n      <td>...</td>\n      <td>...</td>\n      <td>...</td>\n      <td>...</td>\n      <td>...</td>\n      <td>...</td>\n      <td>...</td>\n      <td>...</td>\n      <td>...</td>\n    </tr>\n    <tr>\n      <th>256</th>\n      <td>ugqaap</td>\n      <td>AsianOfficeLady</td>\n      <td>King_Oppai</td>\n      <td>#553</td>\n      <td>a woman in a short dress standing in front of ...</td>\n      <td>28f6a8ca470803c3e4e18ba7b02b1ed0</td>\n      <td>/r/AsianOfficeLady/comments/ugqaap/553/</td>\n      <td>https://i.redd.it/tju3k4kwj2x81.jpg</td>\n      <td>28f6a8ca470803c3e4e18ba7b02b1ed0.jpg</td>\n      <td>D:\\data\\images\\AsianOfficeLady\\28f6a8ca470803c...</td>\n      <td>D:\\data\\images\\AsianOfficeLady\\thumbnail\\28f6a...</td>\n      <td>True</td>\n      <td>False</td>\n    </tr>\n    <tr>\n      <th>257</th>\n      <td>ugf0ll</td>\n      <td>AsianOfficeLady</td>\n      <td>King_Oppai</td>\n      <td>#552</td>\n      <td>a woman in a white dress and stockings is sitt...</td>\n      <td>47961ab8ac4e292562501a06e9f84d24</td>\n      <td>/r/AsianOfficeLady/comments/ugf0ll/552/</td>\n      <td>https://i.redd.it/5zf9nx5gzyw81.jpg</td>\n      <td>47961ab8ac4e292562501a06e9f84d24.jpg</td>\n      <td>D:\\data\\images\\AsianOfficeLady\\47961ab8ac4e292...</td>\n      <td>D:\\data\\images\\AsianOfficeLady\\thumbnail\\47961...</td>\n      <td>True</td>\n      <td>False</td>\n    </tr>\n    <tr>\n      <th>258</th>\n      <td>ug0hqo</td>\n      <td>AsianOfficeLady</td>\n      <td>King_Oppai</td>\n      <td>#551</td>\n      <td>a woman in a red dress is standing in a room</td>\n      <td>57f69a9a8360af0706ed0566c5981665</td>\n      <td>/r/AsianOfficeLady/comments/ug0hqo/551/</td>\n      <td>https://i.redd.it/wkrizvrzevw81.jpg</td>\n      <td>57f69a9a8360af0706ed0566c5981665.jpg</td>\n      <td>D:\\data\\images\\AsianOfficeLady\\57f69a9a8360af0...</td>\n      <td>D:\\data\\images\\AsianOfficeLady\\thumbnail\\57f69...</td>\n      <td>True</td>\n      <td>False</td>\n    </tr>\n    <tr>\n      <th>259</th>\n      <td>ufpk6z</td>\n      <td>AsianOfficeLady</td>\n      <td>King_Oppai</td>\n      <td>#550</td>\n      <td>a woman in a white shirt and black skirt sitti...</td>\n      <td>9cf6b89609ec7c9c26bcb06a41e1bb1f</td>\n      <td>/r/AsianOfficeLady/comments/ufpk6z/550/</td>\n      <td>https://i.redd.it/ejlwu8bjurw81.jpg</td>\n      <td>9cf6b89609ec7c9c26bcb06a41e1bb1f.jpg</td>\n      <td>D:\\data\\images\\AsianOfficeLady\\9cf6b89609ec7c9...</td>\n      <td>D:\\data\\images\\AsianOfficeLady\\thumbnail\\9cf6b...</td>\n      <td>True</td>\n      <td>False</td>\n    </tr>\n    <tr>\n      <th>260</th>\n      <td>ufbo95</td>\n      <td>AsianOfficeLady</td>\n      <td>King_Oppai</td>\n      <td>#549</td>\n      <td>a woman in a white shirt and red panties is po...</td>\n      <td>5e4ad6bc3b6af21a811cc0c91fdac890</td>\n      <td>/r/AsianOfficeLady/comments/ufbo95/549/</td>\n      <td>https://i.redd.it/nieclgv2aow81.jpg</td>\n      <td>5e4ad6bc3b6af21a811cc0c91fdac890.jpg</td>\n      <td>D:\\data\\images\\AsianOfficeLady\\5e4ad6bc3b6af21...</td>\n      <td>D:\\data\\images\\AsianOfficeLady\\thumbnail\\5e4ad...</td>\n      <td>True</td>\n      <td>False</td>\n    </tr>\n  </tbody>\n</table>\n<p>261 rows × 13 columns</p>\n</div>"
     },
     "metadata": {},
     "output_type": "display_data"
    },
    {
     "name": "stdout",
     "output_type": "stream",
     "text": [
      "CPU times: total: 78.1 ms\n",
      "Wall time: 66 ms\n"
     ]
    }
   ],
   "source": [
    "%%time\n",
    "\n",
    "tqdm.pandas(desc=\"Filtering\")\n",
    "writeable_entries = new_entries_final\\\n",
    "\t.where(~new_entries_final['id'].isin(extant_data['id']))\\\n",
    "\t.dropna(how='all')\\\n",
    "\t.reset_index()\\\n",
    "\t.drop('index', axis=1)\n",
    "\n",
    "display(writeable_entries)"
   ],
   "metadata": {
    "collapsed": false,
    "ExecuteTime": {
     "start_time": "2023-03-31T15:36:15.375990Z",
     "end_time": "2023-03-31T15:36:15.816990Z"
    }
   }
  },
  {
   "cell_type": "code",
   "execution_count": 21,
   "outputs": [
    {
     "data": {
      "text/plain": "          id        subreddit              author  \\\n0    1000cej         CityPorn         OtterlyFoxy   \n1    1000glf         AmIhotAF   toolate_sharkbait   \n2    1000j1n        greentext           trent8051   \n3    1000mjs        spaceporn  MorningStar_imangi   \n4    1000qpd        spaceporn  MorningStar_imangi   \n..       ...              ...                 ...   \n256   ugqaap  AsianOfficeLady          King_Oppai   \n257   ugf0ll  AsianOfficeLady          King_Oppai   \n258   ug0hqo  AsianOfficeLady          King_Oppai   \n259   ufpk6z  AsianOfficeLady          King_Oppai   \n260   ufbo95  AsianOfficeLady          King_Oppai   \n\n                              title  \\\n0               New York in the fog   \n1    Just looking for entertainment   \n2               Anon wants Elon cut   \n3     Northern Lights above Lofoten   \n4                     Viking Lights   \n..                              ...   \n256                            #553   \n257                            #552   \n258                            #551   \n259                            #550   \n260                            #549   \n\n                                               caption  \\\n0    cars are parked on the side of the road in the...   \n1    blonde woman with blonde hair and tattoos on h...   \n2    a man with a beard and a beard sitting in fron...   \n3    a view of a view of a large green and purple a...   \n4    a scene of a boat is sitting on the shore of a...   \n..                                                 ...   \n256  a woman in a short dress standing in front of ...   \n257  a woman in a white dress and stockings is sitt...   \n258       a woman in a red dress is standing in a room   \n259  a woman in a white shirt and black skirt sitti...   \n260  a woman in a white shirt and red panties is po...   \n\n                                 hash  \\\n0    7a8d96e378c15c8ab8440ac311f12c11   \n1    e554c1ed7ffa2740436ac082068b2824   \n2    1dec3dabb5e46cde01855d06089c287a   \n3    2c39ce1290fba541abd0b004b09da6b2   \n4    0f72de47c69ff50eca5fa3990215f4ac   \n..                                ...   \n256  28f6a8ca470803c3e4e18ba7b02b1ed0   \n257  47961ab8ac4e292562501a06e9f84d24   \n258  57f69a9a8360af0706ed0566c5981665   \n259  9cf6b89609ec7c9c26bcb06a41e1bb1f   \n260  5e4ad6bc3b6af21a811cc0c91fdac890   \n\n                                             permalink  \\\n0    /r/CityPorn/comments/1000cej/new_york_in_the_fog/   \n1    /r/AmIhotAF/comments/1000glf/just_looking_for_...   \n2    /r/greentext/comments/1000j1n/anon_wants_elon_...   \n3    /r/spaceporn/comments/1000mjs/northern_lights_...   \n4         /r/spaceporn/comments/1000qpd/viking_lights/   \n..                                                 ...   \n256            /r/AsianOfficeLady/comments/ugqaap/553/   \n257            /r/AsianOfficeLady/comments/ugf0ll/552/   \n258            /r/AsianOfficeLady/comments/ug0hqo/551/   \n259            /r/AsianOfficeLady/comments/ufpk6z/550/   \n260            /r/AsianOfficeLady/comments/ufbo95/549/   \n\n                            original_url  \\\n0    https://i.redd.it/4emw5uldib9a1.jpg   \n1    https://i.redd.it/4xyb1vgbjb9a1.jpg   \n2    https://i.redd.it/3mewbe0wjb9a1.jpg   \n3    https://i.redd.it/7s5aafaqkb9a1.jpg   \n4    https://i.redd.it/abojw7lqlb9a1.jpg   \n..                                   ...   \n256  https://i.redd.it/tju3k4kwj2x81.jpg   \n257  https://i.redd.it/5zf9nx5gzyw81.jpg   \n258  https://i.redd.it/wkrizvrzevw81.jpg   \n259  https://i.redd.it/ejlwu8bjurw81.jpg   \n260  https://i.redd.it/nieclgv2aow81.jpg   \n\n                               image_name  \\\n0                       4emw5uldib9a1.jpg   \n1                       4xyb1vgbjb9a1.jpg   \n2                       3mewbe0wjb9a1.jpg   \n3                       7s5aafaqkb9a1.jpg   \n4                       abojw7lqlb9a1.jpg   \n..                                    ...   \n256  28f6a8ca470803c3e4e18ba7b02b1ed0.jpg   \n257  47961ab8ac4e292562501a06e9f84d24.jpg   \n258  57f69a9a8360af0706ed0566c5981665.jpg   \n259  9cf6b89609ec7c9c26bcb06a41e1bb1f.jpg   \n260  5e4ad6bc3b6af21a811cc0c91fdac890.jpg   \n\n                                                  path  \\\n0            D:\\data\\images\\CityPorn\\4emw5uldib9a1.jpg   \n1            D:\\data\\images\\AmIhotAF\\4xyb1vgbjb9a1.jpg   \n2           D:\\data\\images\\greentext\\3mewbe0wjb9a1.jpg   \n3             /data/images/spaceporn/7s5aafaqkb9a1.jpg   \n4             /data/images/spaceporn/abojw7lqlb9a1.jpg   \n..                                                 ...   \n256  D:\\data\\images\\AsianOfficeLady\\28f6a8ca470803c...   \n257  D:\\data\\images\\AsianOfficeLady\\47961ab8ac4e292...   \n258  D:\\data\\images\\AsianOfficeLady\\57f69a9a8360af0...   \n259  D:\\data\\images\\AsianOfficeLady\\9cf6b89609ec7c9...   \n260  D:\\data\\images\\AsianOfficeLady\\5e4ad6bc3b6af21...   \n\n                                        thumbnail_path  exists curated  \n0    D:\\data\\images\\CityPorn\\thumbnail\\4emw5uldib9a...    True   False  \n1    D:\\data\\images\\AmIhotAF\\thumbnail\\4xyb1vgbjb9a...    True   False  \n2    D:\\data\\images\\greentext\\thumbnail\\3mewbe0wjb9...    True   False  \n3    /data/images/spaceporn/thumbnail/7s5aafaqkb9a1...    True   False  \n4    /data/images/spaceporn/thumbnail/abojw7lqlb9a1...    True   False  \n..                                                 ...     ...     ...  \n256  D:\\data\\images\\AsianOfficeLady\\thumbnail\\28f6a...    True   False  \n257  D:\\data\\images\\AsianOfficeLady\\thumbnail\\47961...    True   False  \n258  D:\\data\\images\\AsianOfficeLady\\thumbnail\\57f69...    True   False  \n259  D:\\data\\images\\AsianOfficeLady\\thumbnail\\9cf6b...    True   False  \n260  D:\\data\\images\\AsianOfficeLady\\thumbnail\\5e4ad...    True   False  \n\n[26536 rows x 13 columns]",
      "text/html": "<div>\n<style scoped>\n    .dataframe tbody tr th:only-of-type {\n        vertical-align: middle;\n    }\n\n    .dataframe tbody tr th {\n        vertical-align: top;\n    }\n\n    .dataframe thead th {\n        text-align: right;\n    }\n</style>\n<table border=\"1\" class=\"dataframe\">\n  <thead>\n    <tr style=\"text-align: right;\">\n      <th></th>\n      <th>id</th>\n      <th>subreddit</th>\n      <th>author</th>\n      <th>title</th>\n      <th>caption</th>\n      <th>hash</th>\n      <th>permalink</th>\n      <th>original_url</th>\n      <th>image_name</th>\n      <th>path</th>\n      <th>thumbnail_path</th>\n      <th>exists</th>\n      <th>curated</th>\n    </tr>\n  </thead>\n  <tbody>\n    <tr>\n      <th>0</th>\n      <td>1000cej</td>\n      <td>CityPorn</td>\n      <td>OtterlyFoxy</td>\n      <td>New York in the fog</td>\n      <td>cars are parked on the side of the road in the...</td>\n      <td>7a8d96e378c15c8ab8440ac311f12c11</td>\n      <td>/r/CityPorn/comments/1000cej/new_york_in_the_fog/</td>\n      <td>https://i.redd.it/4emw5uldib9a1.jpg</td>\n      <td>4emw5uldib9a1.jpg</td>\n      <td>D:\\data\\images\\CityPorn\\4emw5uldib9a1.jpg</td>\n      <td>D:\\data\\images\\CityPorn\\thumbnail\\4emw5uldib9a...</td>\n      <td>True</td>\n      <td>False</td>\n    </tr>\n    <tr>\n      <th>1</th>\n      <td>1000glf</td>\n      <td>AmIhotAF</td>\n      <td>toolate_sharkbait</td>\n      <td>Just looking for entertainment</td>\n      <td>blonde woman with blonde hair and tattoos on h...</td>\n      <td>e554c1ed7ffa2740436ac082068b2824</td>\n      <td>/r/AmIhotAF/comments/1000glf/just_looking_for_...</td>\n      <td>https://i.redd.it/4xyb1vgbjb9a1.jpg</td>\n      <td>4xyb1vgbjb9a1.jpg</td>\n      <td>D:\\data\\images\\AmIhotAF\\4xyb1vgbjb9a1.jpg</td>\n      <td>D:\\data\\images\\AmIhotAF\\thumbnail\\4xyb1vgbjb9a...</td>\n      <td>True</td>\n      <td>False</td>\n    </tr>\n    <tr>\n      <th>2</th>\n      <td>1000j1n</td>\n      <td>greentext</td>\n      <td>trent8051</td>\n      <td>Anon wants Elon cut</td>\n      <td>a man with a beard and a beard sitting in fron...</td>\n      <td>1dec3dabb5e46cde01855d06089c287a</td>\n      <td>/r/greentext/comments/1000j1n/anon_wants_elon_...</td>\n      <td>https://i.redd.it/3mewbe0wjb9a1.jpg</td>\n      <td>3mewbe0wjb9a1.jpg</td>\n      <td>D:\\data\\images\\greentext\\3mewbe0wjb9a1.jpg</td>\n      <td>D:\\data\\images\\greentext\\thumbnail\\3mewbe0wjb9...</td>\n      <td>True</td>\n      <td>False</td>\n    </tr>\n    <tr>\n      <th>3</th>\n      <td>1000mjs</td>\n      <td>spaceporn</td>\n      <td>MorningStar_imangi</td>\n      <td>Northern Lights above Lofoten</td>\n      <td>a view of a view of a large green and purple a...</td>\n      <td>2c39ce1290fba541abd0b004b09da6b2</td>\n      <td>/r/spaceporn/comments/1000mjs/northern_lights_...</td>\n      <td>https://i.redd.it/7s5aafaqkb9a1.jpg</td>\n      <td>7s5aafaqkb9a1.jpg</td>\n      <td>/data/images/spaceporn/7s5aafaqkb9a1.jpg</td>\n      <td>/data/images/spaceporn/thumbnail/7s5aafaqkb9a1...</td>\n      <td>True</td>\n      <td>False</td>\n    </tr>\n    <tr>\n      <th>4</th>\n      <td>1000qpd</td>\n      <td>spaceporn</td>\n      <td>MorningStar_imangi</td>\n      <td>Viking Lights</td>\n      <td>a scene of a boat is sitting on the shore of a...</td>\n      <td>0f72de47c69ff50eca5fa3990215f4ac</td>\n      <td>/r/spaceporn/comments/1000qpd/viking_lights/</td>\n      <td>https://i.redd.it/abojw7lqlb9a1.jpg</td>\n      <td>abojw7lqlb9a1.jpg</td>\n      <td>/data/images/spaceporn/abojw7lqlb9a1.jpg</td>\n      <td>/data/images/spaceporn/thumbnail/abojw7lqlb9a1...</td>\n      <td>True</td>\n      <td>False</td>\n    </tr>\n    <tr>\n      <th>...</th>\n      <td>...</td>\n      <td>...</td>\n      <td>...</td>\n      <td>...</td>\n      <td>...</td>\n      <td>...</td>\n      <td>...</td>\n      <td>...</td>\n      <td>...</td>\n      <td>...</td>\n      <td>...</td>\n      <td>...</td>\n      <td>...</td>\n    </tr>\n    <tr>\n      <th>256</th>\n      <td>ugqaap</td>\n      <td>AsianOfficeLady</td>\n      <td>King_Oppai</td>\n      <td>#553</td>\n      <td>a woman in a short dress standing in front of ...</td>\n      <td>28f6a8ca470803c3e4e18ba7b02b1ed0</td>\n      <td>/r/AsianOfficeLady/comments/ugqaap/553/</td>\n      <td>https://i.redd.it/tju3k4kwj2x81.jpg</td>\n      <td>28f6a8ca470803c3e4e18ba7b02b1ed0.jpg</td>\n      <td>D:\\data\\images\\AsianOfficeLady\\28f6a8ca470803c...</td>\n      <td>D:\\data\\images\\AsianOfficeLady\\thumbnail\\28f6a...</td>\n      <td>True</td>\n      <td>False</td>\n    </tr>\n    <tr>\n      <th>257</th>\n      <td>ugf0ll</td>\n      <td>AsianOfficeLady</td>\n      <td>King_Oppai</td>\n      <td>#552</td>\n      <td>a woman in a white dress and stockings is sitt...</td>\n      <td>47961ab8ac4e292562501a06e9f84d24</td>\n      <td>/r/AsianOfficeLady/comments/ugf0ll/552/</td>\n      <td>https://i.redd.it/5zf9nx5gzyw81.jpg</td>\n      <td>47961ab8ac4e292562501a06e9f84d24.jpg</td>\n      <td>D:\\data\\images\\AsianOfficeLady\\47961ab8ac4e292...</td>\n      <td>D:\\data\\images\\AsianOfficeLady\\thumbnail\\47961...</td>\n      <td>True</td>\n      <td>False</td>\n    </tr>\n    <tr>\n      <th>258</th>\n      <td>ug0hqo</td>\n      <td>AsianOfficeLady</td>\n      <td>King_Oppai</td>\n      <td>#551</td>\n      <td>a woman in a red dress is standing in a room</td>\n      <td>57f69a9a8360af0706ed0566c5981665</td>\n      <td>/r/AsianOfficeLady/comments/ug0hqo/551/</td>\n      <td>https://i.redd.it/wkrizvrzevw81.jpg</td>\n      <td>57f69a9a8360af0706ed0566c5981665.jpg</td>\n      <td>D:\\data\\images\\AsianOfficeLady\\57f69a9a8360af0...</td>\n      <td>D:\\data\\images\\AsianOfficeLady\\thumbnail\\57f69...</td>\n      <td>True</td>\n      <td>False</td>\n    </tr>\n    <tr>\n      <th>259</th>\n      <td>ufpk6z</td>\n      <td>AsianOfficeLady</td>\n      <td>King_Oppai</td>\n      <td>#550</td>\n      <td>a woman in a white shirt and black skirt sitti...</td>\n      <td>9cf6b89609ec7c9c26bcb06a41e1bb1f</td>\n      <td>/r/AsianOfficeLady/comments/ufpk6z/550/</td>\n      <td>https://i.redd.it/ejlwu8bjurw81.jpg</td>\n      <td>9cf6b89609ec7c9c26bcb06a41e1bb1f.jpg</td>\n      <td>D:\\data\\images\\AsianOfficeLady\\9cf6b89609ec7c9...</td>\n      <td>D:\\data\\images\\AsianOfficeLady\\thumbnail\\9cf6b...</td>\n      <td>True</td>\n      <td>False</td>\n    </tr>\n    <tr>\n      <th>260</th>\n      <td>ufbo95</td>\n      <td>AsianOfficeLady</td>\n      <td>King_Oppai</td>\n      <td>#549</td>\n      <td>a woman in a white shirt and red panties is po...</td>\n      <td>5e4ad6bc3b6af21a811cc0c91fdac890</td>\n      <td>/r/AsianOfficeLady/comments/ufbo95/549/</td>\n      <td>https://i.redd.it/nieclgv2aow81.jpg</td>\n      <td>5e4ad6bc3b6af21a811cc0c91fdac890.jpg</td>\n      <td>D:\\data\\images\\AsianOfficeLady\\5e4ad6bc3b6af21...</td>\n      <td>D:\\data\\images\\AsianOfficeLady\\thumbnail\\5e4ad...</td>\n      <td>True</td>\n      <td>False</td>\n    </tr>\n  </tbody>\n</table>\n<p>26536 rows × 13 columns</p>\n</div>"
     },
     "metadata": {},
     "output_type": "display_data"
    },
    {
     "name": "stdout",
     "output_type": "stream",
     "text": [
      "CPU times: total: 62.5 ms\n",
      "Wall time: 60 ms\n"
     ]
    }
   ],
   "source": [
    "%%time\n",
    "\n",
    "combined_result = pd.concat([extant_data, writeable_entries])\n",
    "\n",
    "display(combined_result)"
   ],
   "metadata": {
    "collapsed": false,
    "ExecuteTime": {
     "start_time": "2023-03-31T15:36:15.466990Z",
     "end_time": "2023-03-31T15:36:15.893990Z"
    }
   }
  },
  {
   "cell_type": "code",
   "execution_count": 22,
   "outputs": [
    {
     "data": {
      "text/plain": "[None]"
     },
     "execution_count": 22,
     "metadata": {},
     "output_type": "execute_result"
    }
   ],
   "source": [
    "combined_result.reindex()\n",
    "combined_result.to_csv('processed_raw_data.csv', index=False)\n",
    "f = AzureFileStorageAdapter('data').get_file_storage()\n",
    "f.put('processed_raw_data.csv','data/processed_raw_data.csv', overwrite=True)"
   ],
   "metadata": {
    "collapsed": false,
    "ExecuteTime": {
     "start_time": "2023-03-31T15:36:15.548994Z",
     "end_time": "2023-03-31T15:36:22.485223Z"
    }
   }
  },
  {
   "cell_type": "code",
   "execution_count": 23,
   "outputs": [],
   "source": [
    "final = pd.read_csv(f.open('data/processed_raw_data.csv'))\n",
    "final.to_parquet(\"data/processed_raw_data.parquet\", engine='pyarrow', filesystem=file_system, schema=schema)"
   ],
   "metadata": {
    "collapsed": false,
    "ExecuteTime": {
     "start_time": "2023-03-31T15:36:22.487224Z",
     "end_time": "2023-03-31T15:36:27.377400Z"
    }
   }
  },
  {
   "cell_type": "code",
   "execution_count": 24,
   "outputs": [
    {
     "data": {
      "text/plain": "            id        subreddit              author  \\\n0      1000cej         CityPorn         OtterlyFoxy   \n1      1000glf         AmIhotAF   toolate_sharkbait   \n2      1000j1n        greentext           trent8051   \n3      1000mjs        spaceporn  MorningStar_imangi   \n4      1000qpd        spaceporn  MorningStar_imangi   \n...        ...              ...                 ...   \n26531   ugqaap  AsianOfficeLady          King_Oppai   \n26532   ugf0ll  AsianOfficeLady          King_Oppai   \n26533   ug0hqo  AsianOfficeLady          King_Oppai   \n26534   ufpk6z  AsianOfficeLady          King_Oppai   \n26535   ufbo95  AsianOfficeLady          King_Oppai   \n\n                                title  \\\n0                 New York in the fog   \n1      Just looking for entertainment   \n2                 Anon wants Elon cut   \n3       Northern Lights above Lofoten   \n4                       Viking Lights   \n...                               ...   \n26531                            #553   \n26532                            #552   \n26533                            #551   \n26534                            #550   \n26535                            #549   \n\n                                                 caption  \\\n0      cars are parked on the side of the road in the...   \n1      blonde woman with blonde hair and tattoos on h...   \n2      a man with a beard and a beard sitting in fron...   \n3      a view of a view of a large green and purple a...   \n4      a scene of a boat is sitting on the shore of a...   \n...                                                  ...   \n26531  a woman in a short dress standing in front of ...   \n26532  a woman in a white dress and stockings is sitt...   \n26533       a woman in a red dress is standing in a room   \n26534  a woman in a white shirt and black skirt sitti...   \n26535  a woman in a white shirt and red panties is po...   \n\n                                   hash  \\\n0      7a8d96e378c15c8ab8440ac311f12c11   \n1      e554c1ed7ffa2740436ac082068b2824   \n2      1dec3dabb5e46cde01855d06089c287a   \n3      2c39ce1290fba541abd0b004b09da6b2   \n4      0f72de47c69ff50eca5fa3990215f4ac   \n...                                 ...   \n26531  28f6a8ca470803c3e4e18ba7b02b1ed0   \n26532  47961ab8ac4e292562501a06e9f84d24   \n26533  57f69a9a8360af0706ed0566c5981665   \n26534  9cf6b89609ec7c9c26bcb06a41e1bb1f   \n26535  5e4ad6bc3b6af21a811cc0c91fdac890   \n\n                                               permalink  \\\n0      /r/CityPorn/comments/1000cej/new_york_in_the_fog/   \n1      /r/AmIhotAF/comments/1000glf/just_looking_for_...   \n2      /r/greentext/comments/1000j1n/anon_wants_elon_...   \n3      /r/spaceporn/comments/1000mjs/northern_lights_...   \n4           /r/spaceporn/comments/1000qpd/viking_lights/   \n...                                                  ...   \n26531            /r/AsianOfficeLady/comments/ugqaap/553/   \n26532            /r/AsianOfficeLady/comments/ugf0ll/552/   \n26533            /r/AsianOfficeLady/comments/ug0hqo/551/   \n26534            /r/AsianOfficeLady/comments/ufpk6z/550/   \n26535            /r/AsianOfficeLady/comments/ufbo95/549/   \n\n                              original_url  \\\n0      https://i.redd.it/4emw5uldib9a1.jpg   \n1      https://i.redd.it/4xyb1vgbjb9a1.jpg   \n2      https://i.redd.it/3mewbe0wjb9a1.jpg   \n3      https://i.redd.it/7s5aafaqkb9a1.jpg   \n4      https://i.redd.it/abojw7lqlb9a1.jpg   \n...                                    ...   \n26531  https://i.redd.it/tju3k4kwj2x81.jpg   \n26532  https://i.redd.it/5zf9nx5gzyw81.jpg   \n26533  https://i.redd.it/wkrizvrzevw81.jpg   \n26534  https://i.redd.it/ejlwu8bjurw81.jpg   \n26535  https://i.redd.it/nieclgv2aow81.jpg   \n\n                                 image_name  \\\n0                         4emw5uldib9a1.jpg   \n1                         4xyb1vgbjb9a1.jpg   \n2                         3mewbe0wjb9a1.jpg   \n3                         7s5aafaqkb9a1.jpg   \n4                         abojw7lqlb9a1.jpg   \n...                                     ...   \n26531  28f6a8ca470803c3e4e18ba7b02b1ed0.jpg   \n26532  47961ab8ac4e292562501a06e9f84d24.jpg   \n26533  57f69a9a8360af0706ed0566c5981665.jpg   \n26534  9cf6b89609ec7c9c26bcb06a41e1bb1f.jpg   \n26535  5e4ad6bc3b6af21a811cc0c91fdac890.jpg   \n\n                                                    path  \\\n0              D:\\data\\images\\CityPorn\\4emw5uldib9a1.jpg   \n1              D:\\data\\images\\AmIhotAF\\4xyb1vgbjb9a1.jpg   \n2             D:\\data\\images\\greentext\\3mewbe0wjb9a1.jpg   \n3               /data/images/spaceporn/7s5aafaqkb9a1.jpg   \n4               /data/images/spaceporn/abojw7lqlb9a1.jpg   \n...                                                  ...   \n26531  D:\\data\\images\\AsianOfficeLady\\28f6a8ca470803c...   \n26532  D:\\data\\images\\AsianOfficeLady\\47961ab8ac4e292...   \n26533  D:\\data\\images\\AsianOfficeLady\\57f69a9a8360af0...   \n26534  D:\\data\\images\\AsianOfficeLady\\9cf6b89609ec7c9...   \n26535  D:\\data\\images\\AsianOfficeLady\\5e4ad6bc3b6af21...   \n\n                                          thumbnail_path  exists  curated  \n0      D:\\data\\images\\CityPorn\\thumbnail\\4emw5uldib9a...    True    False  \n1      D:\\data\\images\\AmIhotAF\\thumbnail\\4xyb1vgbjb9a...    True    False  \n2      D:\\data\\images\\greentext\\thumbnail\\3mewbe0wjb9...    True    False  \n3      /data/images/spaceporn/thumbnail/7s5aafaqkb9a1...    True    False  \n4      /data/images/spaceporn/thumbnail/abojw7lqlb9a1...    True    False  \n...                                                  ...     ...      ...  \n26531  D:\\data\\images\\AsianOfficeLady\\thumbnail\\28f6a...    True    False  \n26532  D:\\data\\images\\AsianOfficeLady\\thumbnail\\47961...    True    False  \n26533  D:\\data\\images\\AsianOfficeLady\\thumbnail\\57f69...    True    False  \n26534  D:\\data\\images\\AsianOfficeLady\\thumbnail\\9cf6b...    True    False  \n26535  D:\\data\\images\\AsianOfficeLady\\thumbnail\\5e4ad...    True    False  \n\n[26536 rows x 13 columns]",
      "text/html": "<div>\n<style scoped>\n    .dataframe tbody tr th:only-of-type {\n        vertical-align: middle;\n    }\n\n    .dataframe tbody tr th {\n        vertical-align: top;\n    }\n\n    .dataframe thead th {\n        text-align: right;\n    }\n</style>\n<table border=\"1\" class=\"dataframe\">\n  <thead>\n    <tr style=\"text-align: right;\">\n      <th></th>\n      <th>id</th>\n      <th>subreddit</th>\n      <th>author</th>\n      <th>title</th>\n      <th>caption</th>\n      <th>hash</th>\n      <th>permalink</th>\n      <th>original_url</th>\n      <th>image_name</th>\n      <th>path</th>\n      <th>thumbnail_path</th>\n      <th>exists</th>\n      <th>curated</th>\n    </tr>\n  </thead>\n  <tbody>\n    <tr>\n      <th>0</th>\n      <td>1000cej</td>\n      <td>CityPorn</td>\n      <td>OtterlyFoxy</td>\n      <td>New York in the fog</td>\n      <td>cars are parked on the side of the road in the...</td>\n      <td>7a8d96e378c15c8ab8440ac311f12c11</td>\n      <td>/r/CityPorn/comments/1000cej/new_york_in_the_fog/</td>\n      <td>https://i.redd.it/4emw5uldib9a1.jpg</td>\n      <td>4emw5uldib9a1.jpg</td>\n      <td>D:\\data\\images\\CityPorn\\4emw5uldib9a1.jpg</td>\n      <td>D:\\data\\images\\CityPorn\\thumbnail\\4emw5uldib9a...</td>\n      <td>True</td>\n      <td>False</td>\n    </tr>\n    <tr>\n      <th>1</th>\n      <td>1000glf</td>\n      <td>AmIhotAF</td>\n      <td>toolate_sharkbait</td>\n      <td>Just looking for entertainment</td>\n      <td>blonde woman with blonde hair and tattoos on h...</td>\n      <td>e554c1ed7ffa2740436ac082068b2824</td>\n      <td>/r/AmIhotAF/comments/1000glf/just_looking_for_...</td>\n      <td>https://i.redd.it/4xyb1vgbjb9a1.jpg</td>\n      <td>4xyb1vgbjb9a1.jpg</td>\n      <td>D:\\data\\images\\AmIhotAF\\4xyb1vgbjb9a1.jpg</td>\n      <td>D:\\data\\images\\AmIhotAF\\thumbnail\\4xyb1vgbjb9a...</td>\n      <td>True</td>\n      <td>False</td>\n    </tr>\n    <tr>\n      <th>2</th>\n      <td>1000j1n</td>\n      <td>greentext</td>\n      <td>trent8051</td>\n      <td>Anon wants Elon cut</td>\n      <td>a man with a beard and a beard sitting in fron...</td>\n      <td>1dec3dabb5e46cde01855d06089c287a</td>\n      <td>/r/greentext/comments/1000j1n/anon_wants_elon_...</td>\n      <td>https://i.redd.it/3mewbe0wjb9a1.jpg</td>\n      <td>3mewbe0wjb9a1.jpg</td>\n      <td>D:\\data\\images\\greentext\\3mewbe0wjb9a1.jpg</td>\n      <td>D:\\data\\images\\greentext\\thumbnail\\3mewbe0wjb9...</td>\n      <td>True</td>\n      <td>False</td>\n    </tr>\n    <tr>\n      <th>3</th>\n      <td>1000mjs</td>\n      <td>spaceporn</td>\n      <td>MorningStar_imangi</td>\n      <td>Northern Lights above Lofoten</td>\n      <td>a view of a view of a large green and purple a...</td>\n      <td>2c39ce1290fba541abd0b004b09da6b2</td>\n      <td>/r/spaceporn/comments/1000mjs/northern_lights_...</td>\n      <td>https://i.redd.it/7s5aafaqkb9a1.jpg</td>\n      <td>7s5aafaqkb9a1.jpg</td>\n      <td>/data/images/spaceporn/7s5aafaqkb9a1.jpg</td>\n      <td>/data/images/spaceporn/thumbnail/7s5aafaqkb9a1...</td>\n      <td>True</td>\n      <td>False</td>\n    </tr>\n    <tr>\n      <th>4</th>\n      <td>1000qpd</td>\n      <td>spaceporn</td>\n      <td>MorningStar_imangi</td>\n      <td>Viking Lights</td>\n      <td>a scene of a boat is sitting on the shore of a...</td>\n      <td>0f72de47c69ff50eca5fa3990215f4ac</td>\n      <td>/r/spaceporn/comments/1000qpd/viking_lights/</td>\n      <td>https://i.redd.it/abojw7lqlb9a1.jpg</td>\n      <td>abojw7lqlb9a1.jpg</td>\n      <td>/data/images/spaceporn/abojw7lqlb9a1.jpg</td>\n      <td>/data/images/spaceporn/thumbnail/abojw7lqlb9a1...</td>\n      <td>True</td>\n      <td>False</td>\n    </tr>\n    <tr>\n      <th>...</th>\n      <td>...</td>\n      <td>...</td>\n      <td>...</td>\n      <td>...</td>\n      <td>...</td>\n      <td>...</td>\n      <td>...</td>\n      <td>...</td>\n      <td>...</td>\n      <td>...</td>\n      <td>...</td>\n      <td>...</td>\n      <td>...</td>\n    </tr>\n    <tr>\n      <th>26531</th>\n      <td>ugqaap</td>\n      <td>AsianOfficeLady</td>\n      <td>King_Oppai</td>\n      <td>#553</td>\n      <td>a woman in a short dress standing in front of ...</td>\n      <td>28f6a8ca470803c3e4e18ba7b02b1ed0</td>\n      <td>/r/AsianOfficeLady/comments/ugqaap/553/</td>\n      <td>https://i.redd.it/tju3k4kwj2x81.jpg</td>\n      <td>28f6a8ca470803c3e4e18ba7b02b1ed0.jpg</td>\n      <td>D:\\data\\images\\AsianOfficeLady\\28f6a8ca470803c...</td>\n      <td>D:\\data\\images\\AsianOfficeLady\\thumbnail\\28f6a...</td>\n      <td>True</td>\n      <td>False</td>\n    </tr>\n    <tr>\n      <th>26532</th>\n      <td>ugf0ll</td>\n      <td>AsianOfficeLady</td>\n      <td>King_Oppai</td>\n      <td>#552</td>\n      <td>a woman in a white dress and stockings is sitt...</td>\n      <td>47961ab8ac4e292562501a06e9f84d24</td>\n      <td>/r/AsianOfficeLady/comments/ugf0ll/552/</td>\n      <td>https://i.redd.it/5zf9nx5gzyw81.jpg</td>\n      <td>47961ab8ac4e292562501a06e9f84d24.jpg</td>\n      <td>D:\\data\\images\\AsianOfficeLady\\47961ab8ac4e292...</td>\n      <td>D:\\data\\images\\AsianOfficeLady\\thumbnail\\47961...</td>\n      <td>True</td>\n      <td>False</td>\n    </tr>\n    <tr>\n      <th>26533</th>\n      <td>ug0hqo</td>\n      <td>AsianOfficeLady</td>\n      <td>King_Oppai</td>\n      <td>#551</td>\n      <td>a woman in a red dress is standing in a room</td>\n      <td>57f69a9a8360af0706ed0566c5981665</td>\n      <td>/r/AsianOfficeLady/comments/ug0hqo/551/</td>\n      <td>https://i.redd.it/wkrizvrzevw81.jpg</td>\n      <td>57f69a9a8360af0706ed0566c5981665.jpg</td>\n      <td>D:\\data\\images\\AsianOfficeLady\\57f69a9a8360af0...</td>\n      <td>D:\\data\\images\\AsianOfficeLady\\thumbnail\\57f69...</td>\n      <td>True</td>\n      <td>False</td>\n    </tr>\n    <tr>\n      <th>26534</th>\n      <td>ufpk6z</td>\n      <td>AsianOfficeLady</td>\n      <td>King_Oppai</td>\n      <td>#550</td>\n      <td>a woman in a white shirt and black skirt sitti...</td>\n      <td>9cf6b89609ec7c9c26bcb06a41e1bb1f</td>\n      <td>/r/AsianOfficeLady/comments/ufpk6z/550/</td>\n      <td>https://i.redd.it/ejlwu8bjurw81.jpg</td>\n      <td>9cf6b89609ec7c9c26bcb06a41e1bb1f.jpg</td>\n      <td>D:\\data\\images\\AsianOfficeLady\\9cf6b89609ec7c9...</td>\n      <td>D:\\data\\images\\AsianOfficeLady\\thumbnail\\9cf6b...</td>\n      <td>True</td>\n      <td>False</td>\n    </tr>\n    <tr>\n      <th>26535</th>\n      <td>ufbo95</td>\n      <td>AsianOfficeLady</td>\n      <td>King_Oppai</td>\n      <td>#549</td>\n      <td>a woman in a white shirt and red panties is po...</td>\n      <td>5e4ad6bc3b6af21a811cc0c91fdac890</td>\n      <td>/r/AsianOfficeLady/comments/ufbo95/549/</td>\n      <td>https://i.redd.it/nieclgv2aow81.jpg</td>\n      <td>5e4ad6bc3b6af21a811cc0c91fdac890.jpg</td>\n      <td>D:\\data\\images\\AsianOfficeLady\\5e4ad6bc3b6af21...</td>\n      <td>D:\\data\\images\\AsianOfficeLady\\thumbnail\\5e4ad...</td>\n      <td>True</td>\n      <td>False</td>\n    </tr>\n  </tbody>\n</table>\n<p>26536 rows × 13 columns</p>\n</div>"
     },
     "metadata": {},
     "output_type": "display_data"
    }
   ],
   "source": [
    "final = pd.read_parquet(\"data/processed_raw_data.parquet\", engine='pyarrow', filesystem=file_system)\n",
    "display(final)"
   ],
   "metadata": {
    "collapsed": false,
    "ExecuteTime": {
     "start_time": "2023-03-31T15:36:27.366400Z",
     "end_time": "2023-03-31T15:36:28.140966Z"
    }
   }
  }
 ],
 "metadata": {
  "kernelspec": {
   "display_name": "Python 3",
   "language": "python",
   "name": "python3"
  },
  "language_info": {
   "codemirror_mode": {
    "name": "ipython",
    "version": 2
   },
   "file_extension": ".py",
   "mimetype": "text/x-python",
   "name": "python",
   "nbconvert_exporter": "python",
   "pygments_lexer": "ipython2",
   "version": "2.7.6"
  }
 },
 "nbformat": 4,
 "nbformat_minor": 0
}
