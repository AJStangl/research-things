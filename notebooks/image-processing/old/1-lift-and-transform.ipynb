{
 "cells": [
  {
   "cell_type": "code",
   "execution_count": 26,
   "metadata": {
    "collapsed": true,
    "ExecuteTime": {
     "start_time": "2023-04-09T17:59:37.467206Z",
     "end_time": "2023-04-09T18:11:14.227679Z"
    }
   },
   "outputs": [],
   "source": [
    "import pandas as pd\n",
    "import dask.dataframe as dd\n",
    "import praw\n",
    "from dask.diagnostics import ProgressBar\n",
    "from tqdm import tqdm\n",
    "import hashlib\n",
    "from PIL import Image\n",
    "import requests\n",
    "from io import BytesIO\n",
    "from shared_code.utility.schemas.pyarrow_schema import schema\n",
    "from shared_code.utility.spark.set_environ import set_azure_env\n",
    "import os\n",
    "import torch\n",
    "from datetime import datetime\n",
    "import pandas as pd\n",
    "from pmaw import PushshiftAPI\n",
    "import time\n",
    "set_azure_env()\n",
    "\n",
    "from shared_code.utility.storage.azure_file_storage import AzureFileStorageAdapter\n",
    "from shared_code.utility.scripts.blip_caption import BlipCaption\n",
    "\n",
    "pbar = ProgressBar()\n",
    "pbar.register()\n",
    "\n",
    "tqdm.pandas()\n",
    "tqdm.pandas(desc=\"global\")\n",
    "\n",
    "from tqdm.dask import TqdmCallback\n",
    "cb = TqdmCallback(desc=\"global\")\n",
    "cb.register()\n",
    "\n",
    "file_system = AzureFileStorageAdapter('data').get_file_storage()"
   ]
  },
  {
   "cell_type": "code",
   "execution_count": 27,
   "outputs": [
    {
     "name": "stdout",
     "output_type": "stream",
     "text": [
      "CPU times: total: 0 ns\n",
      "Wall time: 0 ns\n",
      "CPU times: total: 0 ns\n",
      "Wall time: 0 ns\n"
     ]
    }
   ],
   "source": [
    "%%time\n",
    " #[\"SFWRedheads\",\"sfwpetite\",\"SFWNextDoorGirls\", \"celebrities\", \"wallstreetbets\", \"fatsquirrelhate\",\"CityPorn\",\"EarthPorn\",\"memes\",\"spaceporn\",\"trippinthroughtime\",\"fatsquirrelhate\",\"oldladiesbakingpies\",\"itookapicture\", \"celebrities\", \"realasians\", \"KoreanHotties\", \"prettyasiangirls\",\"AsianOfficeLady\", \"mildlypenis\",\"AsianOfficeLady\"]\n",
    "subs = [\"realasians\"]"
   ],
   "metadata": {
    "collapsed": false,
    "ExecuteTime": {
     "start_time": "2023-04-09T17:59:37.498455Z",
     "end_time": "2023-04-09T18:11:14.290179Z"
    }
   }
  },
  {
   "cell_type": "code",
   "execution_count": 28,
   "outputs": [
    {
     "data": {
      "text/plain": "            id         subreddit                author  \\\n0      128z5ns       celebrities           A-Sexy-Name   \n1      11yk8db  prettyasiangirls          MisoShiru520   \n2      11hfioi     KoreanHotties  Majestic_Painter8660   \n3      1000mjs         spaceporn    MorningStar_imangi   \n4      1000qpd         spaceporn    MorningStar_imangi   \n...        ...               ...                   ...   \n29597  11oz7fi       mildlypenis          Extra-Lie489   \n29598  11oz73d       mildlypenis              DeimosLV   \n29599  11oyzm3       mildlypenis       Mymemesareswell   \n29600  11oyvx1       mildlypenis        LucindaBobinda   \n29601  11oxx6r       mildlypenis             DoggyCube   \n\n                                                   title  \\\n0                                           Rachel Weisz   \n1                                                Library   \n2                                       Underboob bikini   \n3                          Northern Lights above Lofoten   \n4                                          Viking Lights   \n...                                                  ...   \n29597                                              Lenis   \n29598  My friend is making a stuffed animal and this ...   \n29599                    This weird Mickey keychain hand   \n29600                                     Parking lot pp   \n29601  Can't figure out why they didn't approve of th...   \n\n                                                 caption  \\\n0      cars are parked on the side of the road in the...   \n1      blonde woman with blonde hair and tattoos on h...   \n2      a man with a beard and a beard sitting in fron...   \n3      a view of a view of a large green and purple a...   \n4      a scene of a boat is sitting on the shore of a...   \n...                                                  ...   \n29597  there is a small piece of metal with two small...   \n29598    a close up of a blue knitted bagueth on a chair   \n29599  someone is holding a key chain with a mickey m...   \n29600  a close up of a black and white photo of a bla...   \n29601  there is a picture of a video game on the tv s...   \n\n                                   hash  \\\n0      f09b1c0c5dea50c934081a04c83d4d33   \n1      9d5b7331b941ecf3fdbc8ad322303825   \n2      a154a56b1b87cf3a0bc93600c86e4585   \n3      2c39ce1290fba541abd0b004b09da6b2   \n4      0f72de47c69ff50eca5fa3990215f4ac   \n...                                 ...   \n29597  7604c3e55ce8dbf238520683d6e71f89   \n29598  389f8aa0fb191bdeba08c8d2cfff8ce2   \n29599  87563ac0c8ddeeb0ce47bc915b99308b   \n29600  88b596be6de959bd29eed4e8946bb476   \n29601  eb7ed95bedcd44c130938e2f09069f08   \n\n                                               permalink  \\\n0          /r/celebrities/comments/128z5ns/rachel_weisz/   \n1          /r/prettyasiangirls/comments/11yk8db/library/   \n2      /r/KoreanHotties/comments/11hfioi/underboob_bi...   \n3      /r/spaceporn/comments/1000mjs/northern_lights_...   \n4           /r/spaceporn/comments/1000qpd/viking_lights/   \n...                                                  ...   \n29597             /r/mildlypenis/comments/11oz7fi/lenis/   \n29598  /r/mildlypenis/comments/11oz73d/my_friend_is_m...   \n29599  /r/mildlypenis/comments/11oyzm3/this_weird_mic...   \n29600    /r/mildlypenis/comments/11oyvx1/parking_lot_pp/   \n29601  /r/mildlypenis/comments/11oxx6r/cant_figure_ou...   \n\n                              original_url  \\\n0      https://i.redd.it/nv80afddacra1.jpg   \n1      https://i.redd.it/ht4d2wuusapa1.jpg   \n2      https://i.redd.it/cimr17q84jla1.jpg   \n3      https://i.redd.it/7s5aafaqkb9a1.jpg   \n4      https://i.redd.it/abojw7lqlb9a1.jpg   \n...                                    ...   \n29597  https://i.redd.it/pskj3q0ao8na1.jpg   \n29598  https://i.redd.it/gemqhq67o8na1.jpg   \n29599  https://i.redd.it/vrivt8rom8na1.jpg   \n29600  https://i.redd.it/w1vebizwl8na1.jpg   \n29601  https://i.redd.it/92hm0ia2f8na1.jpg   \n\n                                 image_name  \\\n0      f09b1c0c5dea50c934081a04c83d4d33.jpg   \n1      9d5b7331b941ecf3fdbc8ad322303825.jpg   \n2      a154a56b1b87cf3a0bc93600c86e4585.jpg   \n3                         7s5aafaqkb9a1.jpg   \n4                         abojw7lqlb9a1.jpg   \n...                                     ...   \n29597  7604c3e55ce8dbf238520683d6e71f89.jpg   \n29598  389f8aa0fb191bdeba08c8d2cfff8ce2.jpg   \n29599  87563ac0c8ddeeb0ce47bc915b99308b.jpg   \n29600  88b596be6de959bd29eed4e8946bb476.jpg   \n29601  eb7ed95bedcd44c130938e2f09069f08.jpg   \n\n                                                    path  \\\n0      D:\\data\\images\\celebrities\\f09b1c0c5dea50c9340...   \n1      D:\\data\\images\\prettyasiangirls\\9d5b7331b941ec...   \n2      D:\\data\\images\\KoreanHotties\\a154a56b1b87cf3a0...   \n3               /data/images/spaceporn/7s5aafaqkb9a1.jpg   \n4               /data/images/spaceporn/abojw7lqlb9a1.jpg   \n...                                                  ...   \n29597  D:\\data\\images\\mildlypenis\\7604c3e55ce8dbf2385...   \n29598  D:\\data\\images\\mildlypenis\\389f8aa0fb191bdeba0...   \n29599  D:\\data\\images\\mildlypenis\\87563ac0c8ddeeb0ce4...   \n29600  D:\\data\\images\\mildlypenis\\88b596be6de959bd29e...   \n29601  D:\\data\\images\\mildlypenis\\eb7ed95bedcd44c1309...   \n\n                                          thumbnail_path  exists  curated  \n0      D:\\data\\images\\celebrities\\thumbnail\\f09b1c0c5...    True    False  \n1      D:\\data\\images\\prettyasiangirls\\thumbnail\\9d5b...    True    False  \n2      D:\\data\\images\\KoreanHotties\\thumbnail\\a154a56...    True    False  \n3      /data/images/spaceporn/thumbnail/7s5aafaqkb9a1...    True    False  \n4      /data/images/spaceporn/thumbnail/abojw7lqlb9a1...    True    False  \n...                                                  ...     ...      ...  \n29597  D:\\data\\images\\mildlypenis\\thumbnail\\7604c3e55...    True    False  \n29598  D:\\data\\images\\mildlypenis\\thumbnail\\389f8aa0f...    True    False  \n29599  D:\\data\\images\\mildlypenis\\thumbnail\\87563ac0c...    True    False  \n29600  D:\\data\\images\\mildlypenis\\thumbnail\\88b596be6...    True    False  \n29601  D:\\data\\images\\mildlypenis\\thumbnail\\eb7ed95be...    True    False  \n\n[29602 rows x 13 columns]",
      "text/html": "<div>\n<style scoped>\n    .dataframe tbody tr th:only-of-type {\n        vertical-align: middle;\n    }\n\n    .dataframe tbody tr th {\n        vertical-align: top;\n    }\n\n    .dataframe thead th {\n        text-align: right;\n    }\n</style>\n<table border=\"1\" class=\"dataframe\">\n  <thead>\n    <tr style=\"text-align: right;\">\n      <th></th>\n      <th>id</th>\n      <th>subreddit</th>\n      <th>author</th>\n      <th>title</th>\n      <th>caption</th>\n      <th>hash</th>\n      <th>permalink</th>\n      <th>original_url</th>\n      <th>image_name</th>\n      <th>path</th>\n      <th>thumbnail_path</th>\n      <th>exists</th>\n      <th>curated</th>\n    </tr>\n  </thead>\n  <tbody>\n    <tr>\n      <th>0</th>\n      <td>128z5ns</td>\n      <td>celebrities</td>\n      <td>A-Sexy-Name</td>\n      <td>Rachel Weisz</td>\n      <td>cars are parked on the side of the road in the...</td>\n      <td>f09b1c0c5dea50c934081a04c83d4d33</td>\n      <td>/r/celebrities/comments/128z5ns/rachel_weisz/</td>\n      <td>https://i.redd.it/nv80afddacra1.jpg</td>\n      <td>f09b1c0c5dea50c934081a04c83d4d33.jpg</td>\n      <td>D:\\data\\images\\celebrities\\f09b1c0c5dea50c9340...</td>\n      <td>D:\\data\\images\\celebrities\\thumbnail\\f09b1c0c5...</td>\n      <td>True</td>\n      <td>False</td>\n    </tr>\n    <tr>\n      <th>1</th>\n      <td>11yk8db</td>\n      <td>prettyasiangirls</td>\n      <td>MisoShiru520</td>\n      <td>Library</td>\n      <td>blonde woman with blonde hair and tattoos on h...</td>\n      <td>9d5b7331b941ecf3fdbc8ad322303825</td>\n      <td>/r/prettyasiangirls/comments/11yk8db/library/</td>\n      <td>https://i.redd.it/ht4d2wuusapa1.jpg</td>\n      <td>9d5b7331b941ecf3fdbc8ad322303825.jpg</td>\n      <td>D:\\data\\images\\prettyasiangirls\\9d5b7331b941ec...</td>\n      <td>D:\\data\\images\\prettyasiangirls\\thumbnail\\9d5b...</td>\n      <td>True</td>\n      <td>False</td>\n    </tr>\n    <tr>\n      <th>2</th>\n      <td>11hfioi</td>\n      <td>KoreanHotties</td>\n      <td>Majestic_Painter8660</td>\n      <td>Underboob bikini</td>\n      <td>a man with a beard and a beard sitting in fron...</td>\n      <td>a154a56b1b87cf3a0bc93600c86e4585</td>\n      <td>/r/KoreanHotties/comments/11hfioi/underboob_bi...</td>\n      <td>https://i.redd.it/cimr17q84jla1.jpg</td>\n      <td>a154a56b1b87cf3a0bc93600c86e4585.jpg</td>\n      <td>D:\\data\\images\\KoreanHotties\\a154a56b1b87cf3a0...</td>\n      <td>D:\\data\\images\\KoreanHotties\\thumbnail\\a154a56...</td>\n      <td>True</td>\n      <td>False</td>\n    </tr>\n    <tr>\n      <th>3</th>\n      <td>1000mjs</td>\n      <td>spaceporn</td>\n      <td>MorningStar_imangi</td>\n      <td>Northern Lights above Lofoten</td>\n      <td>a view of a view of a large green and purple a...</td>\n      <td>2c39ce1290fba541abd0b004b09da6b2</td>\n      <td>/r/spaceporn/comments/1000mjs/northern_lights_...</td>\n      <td>https://i.redd.it/7s5aafaqkb9a1.jpg</td>\n      <td>7s5aafaqkb9a1.jpg</td>\n      <td>/data/images/spaceporn/7s5aafaqkb9a1.jpg</td>\n      <td>/data/images/spaceporn/thumbnail/7s5aafaqkb9a1...</td>\n      <td>True</td>\n      <td>False</td>\n    </tr>\n    <tr>\n      <th>4</th>\n      <td>1000qpd</td>\n      <td>spaceporn</td>\n      <td>MorningStar_imangi</td>\n      <td>Viking Lights</td>\n      <td>a scene of a boat is sitting on the shore of a...</td>\n      <td>0f72de47c69ff50eca5fa3990215f4ac</td>\n      <td>/r/spaceporn/comments/1000qpd/viking_lights/</td>\n      <td>https://i.redd.it/abojw7lqlb9a1.jpg</td>\n      <td>abojw7lqlb9a1.jpg</td>\n      <td>/data/images/spaceporn/abojw7lqlb9a1.jpg</td>\n      <td>/data/images/spaceporn/thumbnail/abojw7lqlb9a1...</td>\n      <td>True</td>\n      <td>False</td>\n    </tr>\n    <tr>\n      <th>...</th>\n      <td>...</td>\n      <td>...</td>\n      <td>...</td>\n      <td>...</td>\n      <td>...</td>\n      <td>...</td>\n      <td>...</td>\n      <td>...</td>\n      <td>...</td>\n      <td>...</td>\n      <td>...</td>\n      <td>...</td>\n      <td>...</td>\n    </tr>\n    <tr>\n      <th>29597</th>\n      <td>11oz7fi</td>\n      <td>mildlypenis</td>\n      <td>Extra-Lie489</td>\n      <td>Lenis</td>\n      <td>there is a small piece of metal with two small...</td>\n      <td>7604c3e55ce8dbf238520683d6e71f89</td>\n      <td>/r/mildlypenis/comments/11oz7fi/lenis/</td>\n      <td>https://i.redd.it/pskj3q0ao8na1.jpg</td>\n      <td>7604c3e55ce8dbf238520683d6e71f89.jpg</td>\n      <td>D:\\data\\images\\mildlypenis\\7604c3e55ce8dbf2385...</td>\n      <td>D:\\data\\images\\mildlypenis\\thumbnail\\7604c3e55...</td>\n      <td>True</td>\n      <td>False</td>\n    </tr>\n    <tr>\n      <th>29598</th>\n      <td>11oz73d</td>\n      <td>mildlypenis</td>\n      <td>DeimosLV</td>\n      <td>My friend is making a stuffed animal and this ...</td>\n      <td>a close up of a blue knitted bagueth on a chair</td>\n      <td>389f8aa0fb191bdeba08c8d2cfff8ce2</td>\n      <td>/r/mildlypenis/comments/11oz73d/my_friend_is_m...</td>\n      <td>https://i.redd.it/gemqhq67o8na1.jpg</td>\n      <td>389f8aa0fb191bdeba08c8d2cfff8ce2.jpg</td>\n      <td>D:\\data\\images\\mildlypenis\\389f8aa0fb191bdeba0...</td>\n      <td>D:\\data\\images\\mildlypenis\\thumbnail\\389f8aa0f...</td>\n      <td>True</td>\n      <td>False</td>\n    </tr>\n    <tr>\n      <th>29599</th>\n      <td>11oyzm3</td>\n      <td>mildlypenis</td>\n      <td>Mymemesareswell</td>\n      <td>This weird Mickey keychain hand</td>\n      <td>someone is holding a key chain with a mickey m...</td>\n      <td>87563ac0c8ddeeb0ce47bc915b99308b</td>\n      <td>/r/mildlypenis/comments/11oyzm3/this_weird_mic...</td>\n      <td>https://i.redd.it/vrivt8rom8na1.jpg</td>\n      <td>87563ac0c8ddeeb0ce47bc915b99308b.jpg</td>\n      <td>D:\\data\\images\\mildlypenis\\87563ac0c8ddeeb0ce4...</td>\n      <td>D:\\data\\images\\mildlypenis\\thumbnail\\87563ac0c...</td>\n      <td>True</td>\n      <td>False</td>\n    </tr>\n    <tr>\n      <th>29600</th>\n      <td>11oyvx1</td>\n      <td>mildlypenis</td>\n      <td>LucindaBobinda</td>\n      <td>Parking lot pp</td>\n      <td>a close up of a black and white photo of a bla...</td>\n      <td>88b596be6de959bd29eed4e8946bb476</td>\n      <td>/r/mildlypenis/comments/11oyvx1/parking_lot_pp/</td>\n      <td>https://i.redd.it/w1vebizwl8na1.jpg</td>\n      <td>88b596be6de959bd29eed4e8946bb476.jpg</td>\n      <td>D:\\data\\images\\mildlypenis\\88b596be6de959bd29e...</td>\n      <td>D:\\data\\images\\mildlypenis\\thumbnail\\88b596be6...</td>\n      <td>True</td>\n      <td>False</td>\n    </tr>\n    <tr>\n      <th>29601</th>\n      <td>11oxx6r</td>\n      <td>mildlypenis</td>\n      <td>DoggyCube</td>\n      <td>Can't figure out why they didn't approve of th...</td>\n      <td>there is a picture of a video game on the tv s...</td>\n      <td>eb7ed95bedcd44c130938e2f09069f08</td>\n      <td>/r/mildlypenis/comments/11oxx6r/cant_figure_ou...</td>\n      <td>https://i.redd.it/92hm0ia2f8na1.jpg</td>\n      <td>eb7ed95bedcd44c130938e2f09069f08.jpg</td>\n      <td>D:\\data\\images\\mildlypenis\\eb7ed95bedcd44c1309...</td>\n      <td>D:\\data\\images\\mildlypenis\\thumbnail\\eb7ed95be...</td>\n      <td>True</td>\n      <td>False</td>\n    </tr>\n  </tbody>\n</table>\n<p>29602 rows × 13 columns</p>\n</div>"
     },
     "metadata": {},
     "output_type": "display_data"
    },
    {
     "name": "stdout",
     "output_type": "stream",
     "text": [
      "CPU times: total: 641 ms\n",
      "Wall time: 1.73 s\n"
     ]
    },
    {
     "data": {
      "text/plain": "            id         subreddit                author  \\\n0      128z5ns       celebrities           A-Sexy-Name   \n1      11yk8db  prettyasiangirls          MisoShiru520   \n2      11hfioi     KoreanHotties  Majestic_Painter8660   \n3      1000mjs         spaceporn    MorningStar_imangi   \n4      1000qpd         spaceporn    MorningStar_imangi   \n...        ...               ...                   ...   \n29713  12fu3tr        realasians    Impossible-Act6792   \n29714  12ftdwo        realasians                 sfsfw   \n29715  12ft1ri        realasians             SKTminion   \n29716  12fst4o        realasians            dahyunscat   \n29717  12frvjy        realasians               a_teb89   \n\n                               title  \\\n0                       Rachel Weisz   \n1                            Library   \n2                   Underboob bikini   \n3      Northern Lights above Lofoten   \n4                      Viking Lights   \n...                              ...   \n29713                           Cute   \n29714            Trying on new shirt   \n29715                     Cruise gal   \n29716                     Choose one   \n29717                         Demure   \n\n                                                 caption  \\\n0      cars are parked on the side of the road in the...   \n1      blonde woman with blonde hair and tattoos on h...   \n2      a man with a beard and a beard sitting in fron...   \n3      a view of a view of a large green and purple a...   \n4      a scene of a boat is sitting on the shore of a...   \n...                                                  ...   \n29713  there is a woman laying on a bed with a white ...   \n29714  araffed woman sitting on the floor taking a se...   \n29715          araffe woman in a bikini on a cruise ship   \n29716  two women in bikinis standing on a beach at night   \n29717         there is a woman taking a selfie in a room   \n\n                                   hash  \\\n0      f09b1c0c5dea50c934081a04c83d4d33   \n1      9d5b7331b941ecf3fdbc8ad322303825   \n2      a154a56b1b87cf3a0bc93600c86e4585   \n3      2c39ce1290fba541abd0b004b09da6b2   \n4      0f72de47c69ff50eca5fa3990215f4ac   \n...                                 ...   \n29713  10b92a383163fc494c78382a13942705   \n29714  35a3e44afa15890b9f62f4e5d8895e50   \n29715  ace0f33ad4affe4e0f112bf8dd1f36fe   \n29716  959ea8c1956b7ff8a0a4eb61bb161436   \n29717  9fc9cb3bab671843a80210d6e293bec3   \n\n                                               permalink  \\\n0          /r/celebrities/comments/128z5ns/rachel_weisz/   \n1          /r/prettyasiangirls/comments/11yk8db/library/   \n2      /r/KoreanHotties/comments/11hfioi/underboob_bi...   \n3      /r/spaceporn/comments/1000mjs/northern_lights_...   \n4           /r/spaceporn/comments/1000qpd/viking_lights/   \n...                                                  ...   \n29713               /r/realasians/comments/12fu3tr/cute/   \n29714  /r/realasians/comments/12ftdwo/trying_on_new_s...   \n29715         /r/realasians/comments/12ft1ri/cruise_gal/   \n29716         /r/realasians/comments/12fst4o/choose_one/   \n29717             /r/realasians/comments/12frvjy/demure/   \n\n                              original_url  \\\n0      https://i.redd.it/nv80afddacra1.jpg   \n1      https://i.redd.it/ht4d2wuusapa1.jpg   \n2      https://i.redd.it/cimr17q84jla1.jpg   \n3      https://i.redd.it/7s5aafaqkb9a1.jpg   \n4      https://i.redd.it/abojw7lqlb9a1.jpg   \n...                                    ...   \n29713  https://i.redd.it/61rm6nl4vqsa1.jpg   \n29714  https://i.redd.it/xtnkp0q29psa1.jpg   \n29715      https://i.imgur.com/TPq6yuj.jpg   \n29716  https://i.redd.it/ye63r1c1nqsa1.jpg   \n29717  https://i.redd.it/xmjd76awzosa1.jpg   \n\n                                 image_name  \\\n0      f09b1c0c5dea50c934081a04c83d4d33.jpg   \n1      9d5b7331b941ecf3fdbc8ad322303825.jpg   \n2      a154a56b1b87cf3a0bc93600c86e4585.jpg   \n3                         7s5aafaqkb9a1.jpg   \n4                         abojw7lqlb9a1.jpg   \n...                                     ...   \n29713  10b92a383163fc494c78382a13942705.jpg   \n29714  35a3e44afa15890b9f62f4e5d8895e50.jpg   \n29715  ace0f33ad4affe4e0f112bf8dd1f36fe.jpg   \n29716  959ea8c1956b7ff8a0a4eb61bb161436.jpg   \n29717  9fc9cb3bab671843a80210d6e293bec3.jpg   \n\n                                                    path  \\\n0      D:\\data\\images\\celebrities\\f09b1c0c5dea50c9340...   \n1      D:\\data\\images\\prettyasiangirls\\9d5b7331b941ec...   \n2      D:\\data\\images\\KoreanHotties\\a154a56b1b87cf3a0...   \n3               /data/images/spaceporn/7s5aafaqkb9a1.jpg   \n4               /data/images/spaceporn/abojw7lqlb9a1.jpg   \n...                                                  ...   \n29713  D:\\data\\images\\realasians\\10b92a383163fc494c78...   \n29714  D:\\data\\images\\realasians\\35a3e44afa15890b9f62...   \n29715  D:\\data\\images\\realasians\\ace0f33ad4affe4e0f11...   \n29716  D:\\data\\images\\realasians\\959ea8c1956b7ff8a0a4...   \n29717  D:\\data\\images\\realasians\\9fc9cb3bab671843a802...   \n\n                                          thumbnail_path  exists  curated  \n0      D:\\data\\images\\celebrities\\thumbnail\\f09b1c0c5...    True    False  \n1      D:\\data\\images\\prettyasiangirls\\thumbnail\\9d5b...    True    False  \n2      D:\\data\\images\\KoreanHotties\\thumbnail\\a154a56...    True    False  \n3      /data/images/spaceporn/thumbnail/7s5aafaqkb9a1...    True    False  \n4      /data/images/spaceporn/thumbnail/abojw7lqlb9a1...    True    False  \n...                                                  ...     ...      ...  \n29713  D:\\data\\images\\realasians\\thumbnail\\10b92a3831...    True    False  \n29714  D:\\data\\images\\realasians\\thumbnail\\35a3e44afa...    True    False  \n29715  D:\\data\\images\\realasians\\thumbnail\\ace0f33ad4...    True    False  \n29716  D:\\data\\images\\realasians\\thumbnail\\959ea8c195...    True    False  \n29717  D:\\data\\images\\realasians\\thumbnail\\9fc9cb3bab...    True    False  \n\n[29718 rows x 13 columns]",
      "text/html": "<div>\n<style scoped>\n    .dataframe tbody tr th:only-of-type {\n        vertical-align: middle;\n    }\n\n    .dataframe tbody tr th {\n        vertical-align: top;\n    }\n\n    .dataframe thead th {\n        text-align: right;\n    }\n</style>\n<table border=\"1\" class=\"dataframe\">\n  <thead>\n    <tr style=\"text-align: right;\">\n      <th></th>\n      <th>id</th>\n      <th>subreddit</th>\n      <th>author</th>\n      <th>title</th>\n      <th>caption</th>\n      <th>hash</th>\n      <th>permalink</th>\n      <th>original_url</th>\n      <th>image_name</th>\n      <th>path</th>\n      <th>thumbnail_path</th>\n      <th>exists</th>\n      <th>curated</th>\n    </tr>\n  </thead>\n  <tbody>\n    <tr>\n      <th>0</th>\n      <td>128z5ns</td>\n      <td>celebrities</td>\n      <td>A-Sexy-Name</td>\n      <td>Rachel Weisz</td>\n      <td>cars are parked on the side of the road in the...</td>\n      <td>f09b1c0c5dea50c934081a04c83d4d33</td>\n      <td>/r/celebrities/comments/128z5ns/rachel_weisz/</td>\n      <td>https://i.redd.it/nv80afddacra1.jpg</td>\n      <td>f09b1c0c5dea50c934081a04c83d4d33.jpg</td>\n      <td>D:\\data\\images\\celebrities\\f09b1c0c5dea50c9340...</td>\n      <td>D:\\data\\images\\celebrities\\thumbnail\\f09b1c0c5...</td>\n      <td>True</td>\n      <td>False</td>\n    </tr>\n    <tr>\n      <th>1</th>\n      <td>11yk8db</td>\n      <td>prettyasiangirls</td>\n      <td>MisoShiru520</td>\n      <td>Library</td>\n      <td>blonde woman with blonde hair and tattoos on h...</td>\n      <td>9d5b7331b941ecf3fdbc8ad322303825</td>\n      <td>/r/prettyasiangirls/comments/11yk8db/library/</td>\n      <td>https://i.redd.it/ht4d2wuusapa1.jpg</td>\n      <td>9d5b7331b941ecf3fdbc8ad322303825.jpg</td>\n      <td>D:\\data\\images\\prettyasiangirls\\9d5b7331b941ec...</td>\n      <td>D:\\data\\images\\prettyasiangirls\\thumbnail\\9d5b...</td>\n      <td>True</td>\n      <td>False</td>\n    </tr>\n    <tr>\n      <th>2</th>\n      <td>11hfioi</td>\n      <td>KoreanHotties</td>\n      <td>Majestic_Painter8660</td>\n      <td>Underboob bikini</td>\n      <td>a man with a beard and a beard sitting in fron...</td>\n      <td>a154a56b1b87cf3a0bc93600c86e4585</td>\n      <td>/r/KoreanHotties/comments/11hfioi/underboob_bi...</td>\n      <td>https://i.redd.it/cimr17q84jla1.jpg</td>\n      <td>a154a56b1b87cf3a0bc93600c86e4585.jpg</td>\n      <td>D:\\data\\images\\KoreanHotties\\a154a56b1b87cf3a0...</td>\n      <td>D:\\data\\images\\KoreanHotties\\thumbnail\\a154a56...</td>\n      <td>True</td>\n      <td>False</td>\n    </tr>\n    <tr>\n      <th>3</th>\n      <td>1000mjs</td>\n      <td>spaceporn</td>\n      <td>MorningStar_imangi</td>\n      <td>Northern Lights above Lofoten</td>\n      <td>a view of a view of a large green and purple a...</td>\n      <td>2c39ce1290fba541abd0b004b09da6b2</td>\n      <td>/r/spaceporn/comments/1000mjs/northern_lights_...</td>\n      <td>https://i.redd.it/7s5aafaqkb9a1.jpg</td>\n      <td>7s5aafaqkb9a1.jpg</td>\n      <td>/data/images/spaceporn/7s5aafaqkb9a1.jpg</td>\n      <td>/data/images/spaceporn/thumbnail/7s5aafaqkb9a1...</td>\n      <td>True</td>\n      <td>False</td>\n    </tr>\n    <tr>\n      <th>4</th>\n      <td>1000qpd</td>\n      <td>spaceporn</td>\n      <td>MorningStar_imangi</td>\n      <td>Viking Lights</td>\n      <td>a scene of a boat is sitting on the shore of a...</td>\n      <td>0f72de47c69ff50eca5fa3990215f4ac</td>\n      <td>/r/spaceporn/comments/1000qpd/viking_lights/</td>\n      <td>https://i.redd.it/abojw7lqlb9a1.jpg</td>\n      <td>abojw7lqlb9a1.jpg</td>\n      <td>/data/images/spaceporn/abojw7lqlb9a1.jpg</td>\n      <td>/data/images/spaceporn/thumbnail/abojw7lqlb9a1...</td>\n      <td>True</td>\n      <td>False</td>\n    </tr>\n    <tr>\n      <th>...</th>\n      <td>...</td>\n      <td>...</td>\n      <td>...</td>\n      <td>...</td>\n      <td>...</td>\n      <td>...</td>\n      <td>...</td>\n      <td>...</td>\n      <td>...</td>\n      <td>...</td>\n      <td>...</td>\n      <td>...</td>\n      <td>...</td>\n    </tr>\n    <tr>\n      <th>29713</th>\n      <td>12fu3tr</td>\n      <td>realasians</td>\n      <td>Impossible-Act6792</td>\n      <td>Cute</td>\n      <td>there is a woman laying on a bed with a white ...</td>\n      <td>10b92a383163fc494c78382a13942705</td>\n      <td>/r/realasians/comments/12fu3tr/cute/</td>\n      <td>https://i.redd.it/61rm6nl4vqsa1.jpg</td>\n      <td>10b92a383163fc494c78382a13942705.jpg</td>\n      <td>D:\\data\\images\\realasians\\10b92a383163fc494c78...</td>\n      <td>D:\\data\\images\\realasians\\thumbnail\\10b92a3831...</td>\n      <td>True</td>\n      <td>False</td>\n    </tr>\n    <tr>\n      <th>29714</th>\n      <td>12ftdwo</td>\n      <td>realasians</td>\n      <td>sfsfw</td>\n      <td>Trying on new shirt</td>\n      <td>araffed woman sitting on the floor taking a se...</td>\n      <td>35a3e44afa15890b9f62f4e5d8895e50</td>\n      <td>/r/realasians/comments/12ftdwo/trying_on_new_s...</td>\n      <td>https://i.redd.it/xtnkp0q29psa1.jpg</td>\n      <td>35a3e44afa15890b9f62f4e5d8895e50.jpg</td>\n      <td>D:\\data\\images\\realasians\\35a3e44afa15890b9f62...</td>\n      <td>D:\\data\\images\\realasians\\thumbnail\\35a3e44afa...</td>\n      <td>True</td>\n      <td>False</td>\n    </tr>\n    <tr>\n      <th>29715</th>\n      <td>12ft1ri</td>\n      <td>realasians</td>\n      <td>SKTminion</td>\n      <td>Cruise gal</td>\n      <td>araffe woman in a bikini on a cruise ship</td>\n      <td>ace0f33ad4affe4e0f112bf8dd1f36fe</td>\n      <td>/r/realasians/comments/12ft1ri/cruise_gal/</td>\n      <td>https://i.imgur.com/TPq6yuj.jpg</td>\n      <td>ace0f33ad4affe4e0f112bf8dd1f36fe.jpg</td>\n      <td>D:\\data\\images\\realasians\\ace0f33ad4affe4e0f11...</td>\n      <td>D:\\data\\images\\realasians\\thumbnail\\ace0f33ad4...</td>\n      <td>True</td>\n      <td>False</td>\n    </tr>\n    <tr>\n      <th>29716</th>\n      <td>12fst4o</td>\n      <td>realasians</td>\n      <td>dahyunscat</td>\n      <td>Choose one</td>\n      <td>two women in bikinis standing on a beach at night</td>\n      <td>959ea8c1956b7ff8a0a4eb61bb161436</td>\n      <td>/r/realasians/comments/12fst4o/choose_one/</td>\n      <td>https://i.redd.it/ye63r1c1nqsa1.jpg</td>\n      <td>959ea8c1956b7ff8a0a4eb61bb161436.jpg</td>\n      <td>D:\\data\\images\\realasians\\959ea8c1956b7ff8a0a4...</td>\n      <td>D:\\data\\images\\realasians\\thumbnail\\959ea8c195...</td>\n      <td>True</td>\n      <td>False</td>\n    </tr>\n    <tr>\n      <th>29717</th>\n      <td>12frvjy</td>\n      <td>realasians</td>\n      <td>a_teb89</td>\n      <td>Demure</td>\n      <td>there is a woman taking a selfie in a room</td>\n      <td>9fc9cb3bab671843a80210d6e293bec3</td>\n      <td>/r/realasians/comments/12frvjy/demure/</td>\n      <td>https://i.redd.it/xmjd76awzosa1.jpg</td>\n      <td>9fc9cb3bab671843a80210d6e293bec3.jpg</td>\n      <td>D:\\data\\images\\realasians\\9fc9cb3bab671843a802...</td>\n      <td>D:\\data\\images\\realasians\\thumbnail\\9fc9cb3bab...</td>\n      <td>True</td>\n      <td>False</td>\n    </tr>\n  </tbody>\n</table>\n<p>29718 rows × 13 columns</p>\n</div>"
     },
     "metadata": {},
     "output_type": "display_data"
    },
    {
     "name": "stdout",
     "output_type": "stream",
     "text": [
      "CPU times: total: 375 ms\n",
      "Wall time: 743 ms\n"
     ]
    }
   ],
   "source": [
    "%%time\n",
    "\n",
    "extant_data = pd.read_parquet(\"data/processed_raw_data.parquet\", engine='pyarrow', filesystem=file_system, schema=schema)\n",
    "display(extant_data)"
   ],
   "metadata": {
    "collapsed": false,
    "ExecuteTime": {
     "start_time": "2023-04-09T17:59:39.263562Z",
     "end_time": "2023-04-09T18:11:14.732263Z"
    }
   }
  },
  {
   "cell_type": "code",
   "execution_count": 29,
   "outputs": [
    {
     "name": "stderr",
     "output_type": "stream",
     "text": [
      "Version 7.6.1 of praw is outdated. Version 7.7.0 was released Saturday February 25, 2023.\n"
     ]
    }
   ],
   "source": [
    "reddit: praw.Reddit = praw.Reddit(client_id='5hVavL0PIRyM_1JSvqT6UQ', client_secret='BjD2kS3WNLnJc59RKY-JJUuc_Z9-JA',\n",
    "\t\t\t\t\t\t\t\t  user_agent='script:%(bot_name)s:v%(bot_version)s (by /u/%(bot_author)s)')\n",
    "\n",
    "api: PushshiftAPI = PushshiftAPI(praw=reddit, num_workers=12)"
   ],
   "metadata": {
    "collapsed": false,
    "ExecuteTime": {
     "start_time": "2023-04-09T17:59:39.388560Z",
     "end_time": "2023-04-09T18:11:14.732263Z"
    }
   }
  },
  {
   "cell_type": "code",
   "execution_count": 30,
   "outputs": [],
   "source": [
    "def filter_by_image_post(item) -> bool:\n",
    "\treturn not (item['selftext'].__contains__('[removed]') or item['selftext'].__contains__('[deleted]') and not item[\n",
    "\t\t'url'].endswith('.jpg'))"
   ],
   "metadata": {
    "collapsed": false,
    "ExecuteTime": {
     "start_time": "2023-04-09T17:59:39.732308Z",
     "end_time": "2023-04-09T18:11:14.732263Z"
    }
   }
  },
  {
   "cell_type": "code",
   "execution_count": 31,
   "outputs": [],
   "source": [
    "def fetch_image(x: object) -> object:\n",
    "\ttry:\n",
    "\t\ttime.sleep(0.1)\n",
    "\t\turl = x['original_url']\n",
    "\t\tsubreddit = x['subreddit']\n",
    "\t\tresponse = requests.get(url)\n",
    "\t\tmd5 = hashlib.md5(response.content).hexdigest()\n",
    "\t\tos.makedirs(f\"D:\\\\data\\\\images\\\\{subreddit}\", exist_ok=True)\n",
    "\t\tout_path = f\"D:\\\\data\\\\images\\\\{subreddit}\\\\{md5}.jpg\"\n",
    "\n",
    "\t\tif os.path.exists(out_path):\n",
    "\t\t\treturn out_path\n",
    "\n",
    "\t\tif md5 in list(extant_data['hash']):\n",
    "\t\t\treturn out_path\n",
    "\n",
    "\t\tif md5 != \"f17b01901c752c1bb04928131d1661af\" or md5 != \"d835884373f4d6c8f24742ceabe74946\":\n",
    "\t\t\traw_image = Image.open(BytesIO(response.content))\n",
    "\t\t\traw_image.save(out_path)\n",
    "\t\t\traw_image.close()\n",
    "\t\t\treturn out_path\n",
    "\t\telse:\n",
    "\t\t\treturn \"\"\n",
    "\texcept Exception as e:\n",
    "\t\tprint(e)\n",
    "\t\treturn \"\""
   ],
   "metadata": {
    "collapsed": false,
    "ExecuteTime": {
     "start_time": "2023-04-09T17:59:39.747933Z",
     "end_time": "2023-04-09T18:11:14.838555Z"
    }
   }
  },
  {
   "cell_type": "code",
   "execution_count": 32,
   "outputs": [],
   "source": [
    "def make_thumbnail(x: object) -> str:\n",
    "\timage_path = x['path']\n",
    "\tmd5 = x['hash']\n",
    "\tsubreddit = x['subreddit']\n",
    "\tos.makedirs(f\"D:\\\\data\\\\images\\\\{subreddit}\\\\thumbnail\", exist_ok=True)\n",
    "\tout_path = f\"D:\\\\data\\\\images\\\\{subreddit}\\\\thumbnail\\\\{md5}.jpg\"\n",
    "\tif not os.path.exists(image_path):\n",
    "\t\treturn \"\"\n",
    "\tif os.path.exists(out_path):\n",
    "\t\treturn out_path\n",
    "\timg = Image.open(image_path)\n",
    "\ttry:\n",
    "\t\tcopied_image = img.copy()\n",
    "\t\tresult_copy = copied_image.resize((512, 512))\n",
    "\t\tresult_copy.save(out_path)\n",
    "\t\tresult_copy.close()\n",
    "\t\timg.close()\n",
    "\t\treturn out_path\n",
    "\texcept Exception as e:\n",
    "\t\tprint(e)\n",
    "\t\treturn \"\"\n",
    "\tfinally:\n",
    "\t\timg.close()"
   ],
   "metadata": {
    "collapsed": false,
    "ExecuteTime": {
     "start_time": "2023-04-09T17:59:39.761198Z",
     "end_time": "2023-04-09T18:11:15.151375Z"
    }
   }
  },
  {
   "cell_type": "code",
   "execution_count": 33,
   "outputs": [],
   "source": [
    "def exists(x: object) -> bool:\n",
    "\ttry:\n",
    "\t\timage_path = os.path.exists(x['path'])\n",
    "\t\tthumbnail_path = os.path.exists(x['thumbnail_path'])\n",
    "\t\treturn image_path and thumbnail_path\n",
    "\texcept Exception as e:\n",
    "\t\tprint(e)\n",
    "\t\treturn False"
   ],
   "metadata": {
    "collapsed": false,
    "ExecuteTime": {
     "start_time": "2023-04-09T17:59:39.841864Z",
     "end_time": "2023-04-09T18:11:15.385744Z"
    }
   }
  },
  {
   "cell_type": "code",
   "execution_count": 34,
   "outputs": [],
   "source": [
    "def split_hash(x: object) -> str:\n",
    "\ttry:\n",
    "\t\tname = x['image_name']\n",
    "\t\treturn name.split('.')[0]\n",
    "\texcept Exception as e:\n",
    "\t\tprint(e)\n",
    "\t\treturn \"\""
   ],
   "metadata": {
    "collapsed": false,
    "ExecuteTime": {
     "start_time": "2023-04-09T17:59:39.857486Z",
     "end_time": "2023-04-09T18:11:15.479496Z"
    }
   }
  },
  {
   "cell_type": "code",
   "execution_count": 35,
   "outputs": [],
   "source": [
    "def caption_image(x: object, blip_captioning: BlipCaption) -> str:\n",
    "\ttry:\n",
    "\t\tpath = x['path']\n",
    "\t\texists_image = bool(x['exists'])\n",
    "\t\tresulting_caption = x['caption']\n",
    "\n",
    "\t\tif not os.path.exists(path):\n",
    "\t\t\treturn \"\"\n",
    "\n",
    "\t\tif not exists_image:\n",
    "\t\t\treturn \"\"\n",
    "\n",
    "\t\tif len(resulting_caption) > 5:\n",
    "\t\t\treturn resulting_caption\n",
    "\n",
    "\t\tresulting_caption = blip_captioning.caption_image(path)\n",
    "\t\treturn resulting_caption\n",
    "\n",
    "\texcept Exception as e:\n",
    "\t\tprint(e)\n",
    "\t\treturn \"\"\n",
    "\tfinally:\n",
    "\t\tpass"
   ],
   "metadata": {
    "collapsed": false,
    "ExecuteTime": {
     "start_time": "2023-04-09T17:59:39.919988Z",
     "end_time": "2023-04-09T18:11:15.495123Z"
    }
   }
  },
  {
   "cell_type": "code",
   "execution_count": 36,
   "outputs": [],
   "source": [
    "def get_image_name(x: object) -> str:\n",
    "\ttry:\n",
    "\t\tpath = x['path']\n",
    "\t\tif path == \"\":\n",
    "\t\t\treturn \"\"\n",
    "\t\treturn os.path.basename(path)\n",
    "\texcept Exception as e:\n",
    "\t\tprint(e)\n",
    "\t\treturn \"\""
   ],
   "metadata": {
    "collapsed": false,
    "ExecuteTime": {
     "start_time": "2023-04-09T17:59:39.919988Z",
     "end_time": "2023-04-09T18:11:15.495123Z"
    }
   }
  },
  {
   "cell_type": "code",
   "execution_count": 37,
   "outputs": [
    {
     "name": "stdout",
     "output_type": "stream",
     "text": [
      "Total Number Of Intervals: 2\n",
      "\n",
      "Total Number Of Intervals: 2\n",
      "\n"
     ]
    }
   ],
   "source": [
    "#@title Calculate Time Intervals For Training\n",
    "\n",
    "start_date = \"2023-04-08\"\n",
    "end_date = datetime.today().timestamp()\n",
    "day_in_seconds = 86400\n",
    "\n",
    "start_date_time_stamp: int = int(datetime.strptime(start_date, '%Y-%m-%d').timestamp())\n",
    "\n",
    "end_date_time_stamp: int = int(end_date)\n",
    "\n",
    "total_number_days_since_start = (end_date_time_stamp - start_date_time_stamp) // day_in_seconds\n",
    "\n",
    "temp = start_date_time_stamp\n",
    "\n",
    "intervals = []\n",
    "while temp < end_date_time_stamp:\n",
    "    temp = temp + day_in_seconds\n",
    "    intervals.append(temp)\n",
    "\n",
    "print(f\"Total Number Of Intervals: {len(intervals)}\\n\")"
   ],
   "metadata": {
    "collapsed": false,
    "ExecuteTime": {
     "start_time": "2023-04-09T17:59:40.013738Z",
     "end_time": "2023-04-09T18:11:15.510745Z"
    }
   }
  },
  {
   "cell_type": "code",
   "execution_count": 13,
   "outputs": [
    {
     "data": {
      "text/plain": "Downloading Reddit Data 1681012800 - 1681099200:   0%|          | 0/2 [00:00<?, ?it/s]",
      "application/vnd.jupyter.widget-view+json": {
       "version_major": 2,
       "version_minor": 0,
       "model_id": "1bdc944eab4a4de7961d2ef0fd8aa2d9"
      }
     },
     "metadata": {},
     "output_type": "display_data"
    },
    {
     "data": {
      "text/plain": "     comment_limit comment_sort  \\\n0             2048   confidence   \n1             2048   confidence   \n2             2048   confidence   \n3             2048   confidence   \n4             2048   confidence   \n..             ...          ...   \n163           2048   confidence   \n164           2048   confidence   \n165           2048   confidence   \n166           2048   confidence   \n167           2048   confidence   \n\n                                               _reddit approved_at_utc  \\\n0    <praw.reddit.Reddit object at 0x000001AE748CB1F0>            None   \n1    <praw.reddit.Reddit object at 0x000001AE748CB1F0>            None   \n2    <praw.reddit.Reddit object at 0x000001AE748CB1F0>            None   \n3    <praw.reddit.Reddit object at 0x000001AE748CB1F0>            None   \n4    <praw.reddit.Reddit object at 0x000001AE748CB1F0>            None   \n..                                                 ...             ...   \n163  <praw.reddit.Reddit object at 0x000001AE748BF100>            None   \n164  <praw.reddit.Reddit object at 0x000001AE748BF100>            None   \n165  <praw.reddit.Reddit object at 0x000001AE748BF100>            None   \n166  <praw.reddit.Reddit object at 0x000001AE748BF100>            None   \n167  <praw.reddit.Reddit object at 0x000001AE748BF100>            None   \n\n      subreddit selftext author_fullname  saved mod_reason_title  gilded  ...  \\\n0    realasians              t2_u4kgo17v  False             None       0  ...   \n1    realasians              t2_820i830e  False             None       0  ...   \n2    realasians              t2_998p7yvn  False             None       0  ...   \n3    realasians              t2_789j3g7j  False             None       0  ...   \n4    realasians              t2_vlf07z8o  False             None       0  ...   \n..          ...      ...             ...    ...              ...     ...  ...   \n163  realasians                 t2_izy0b  False             None       0  ...   \n164  realasians              t2_5br9wc0x  False             None       0  ...   \n165  realasians              t2_2p195ro0  False             None       0  ...   \n166  realasians              t2_82rkecd7  False             None       0  ...   \n167  realasians              t2_amiyz2k7  False             None       0  ...   \n\n     num_crossposts                                              media  \\\n0                 0                                               None   \n1                 0                                               None   \n2                 0                                               None   \n3                 0                                               None   \n4                 0                                               None   \n..              ...                                                ...   \n163               0                                               None   \n164               0                                               None   \n165               0                                               None   \n166               0                                               None   \n167               0  {'type': 'redgifs.com', 'oembed': {'provider_u...   \n\n    is_video _fetched  _comments_by_id post_hint  \\\n0      False    False               {}       NaN   \n1      False    False               {}     image   \n2      False    False               {}       NaN   \n3      False    False               {}     image   \n4      False    False               {}     image   \n..       ...      ...              ...       ...   \n163    False    False               {}     image   \n164    False    False               {}     image   \n165    False    False               {}     image   \n166    False    False               {}     image   \n167    False    False               {}       NaN   \n\n                                               preview  is_gallery  \\\n0                                                  NaN         NaN   \n1    {'images': [{'source': {'url': 'https://previe...         NaN   \n2                                                  NaN        True   \n3    {'images': [{'source': {'url': 'https://previe...         NaN   \n4    {'images': [{'source': {'url': 'https://previe...         NaN   \n..                                                 ...         ...   \n163  {'images': [{'source': {'url': 'https://previe...         NaN   \n164  {'images': [{'source': {'url': 'https://extern...         NaN   \n165  {'images': [{'source': {'url': 'https://previe...         NaN   \n166  {'images': [{'source': {'url': 'https://previe...         NaN   \n167                                                NaN         NaN   \n\n                                        media_metadata  \\\n0                                                  NaN   \n1                                                  NaN   \n2    {'lsvomih88xsa1': {'status': 'valid', 'e': 'Im...   \n3                                                  NaN   \n4                                                  NaN   \n..                                                 ...   \n163                                                NaN   \n164                                                NaN   \n165                                                NaN   \n166                                                NaN   \n167                                                NaN   \n\n                                          gallery_data  \n0                                                  NaN  \n1                                                  NaN  \n2    {'items': [{'media_id': '27fafih88xsa1', 'id':...  \n3                                                  NaN  \n4                                                  NaN  \n..                                                 ...  \n163                                                NaN  \n164                                                NaN  \n165                                                NaN  \n166                                                NaN  \n167                                                NaN  \n\n[168 rows x 117 columns]",
      "text/html": "<div>\n<style scoped>\n    .dataframe tbody tr th:only-of-type {\n        vertical-align: middle;\n    }\n\n    .dataframe tbody tr th {\n        vertical-align: top;\n    }\n\n    .dataframe thead th {\n        text-align: right;\n    }\n</style>\n<table border=\"1\" class=\"dataframe\">\n  <thead>\n    <tr style=\"text-align: right;\">\n      <th></th>\n      <th>comment_limit</th>\n      <th>comment_sort</th>\n      <th>_reddit</th>\n      <th>approved_at_utc</th>\n      <th>subreddit</th>\n      <th>selftext</th>\n      <th>author_fullname</th>\n      <th>saved</th>\n      <th>mod_reason_title</th>\n      <th>gilded</th>\n      <th>...</th>\n      <th>num_crossposts</th>\n      <th>media</th>\n      <th>is_video</th>\n      <th>_fetched</th>\n      <th>_comments_by_id</th>\n      <th>post_hint</th>\n      <th>preview</th>\n      <th>is_gallery</th>\n      <th>media_metadata</th>\n      <th>gallery_data</th>\n    </tr>\n  </thead>\n  <tbody>\n    <tr>\n      <th>0</th>\n      <td>2048</td>\n      <td>confidence</td>\n      <td>&lt;praw.reddit.Reddit object at 0x000001AE748CB1F0&gt;</td>\n      <td>None</td>\n      <td>realasians</td>\n      <td></td>\n      <td>t2_u4kgo17v</td>\n      <td>False</td>\n      <td>None</td>\n      <td>0</td>\n      <td>...</td>\n      <td>0</td>\n      <td>None</td>\n      <td>False</td>\n      <td>False</td>\n      <td>{}</td>\n      <td>NaN</td>\n      <td>NaN</td>\n      <td>NaN</td>\n      <td>NaN</td>\n      <td>NaN</td>\n    </tr>\n    <tr>\n      <th>1</th>\n      <td>2048</td>\n      <td>confidence</td>\n      <td>&lt;praw.reddit.Reddit object at 0x000001AE748CB1F0&gt;</td>\n      <td>None</td>\n      <td>realasians</td>\n      <td></td>\n      <td>t2_820i830e</td>\n      <td>False</td>\n      <td>None</td>\n      <td>0</td>\n      <td>...</td>\n      <td>0</td>\n      <td>None</td>\n      <td>False</td>\n      <td>False</td>\n      <td>{}</td>\n      <td>image</td>\n      <td>{'images': [{'source': {'url': 'https://previe...</td>\n      <td>NaN</td>\n      <td>NaN</td>\n      <td>NaN</td>\n    </tr>\n    <tr>\n      <th>2</th>\n      <td>2048</td>\n      <td>confidence</td>\n      <td>&lt;praw.reddit.Reddit object at 0x000001AE748CB1F0&gt;</td>\n      <td>None</td>\n      <td>realasians</td>\n      <td></td>\n      <td>t2_998p7yvn</td>\n      <td>False</td>\n      <td>None</td>\n      <td>0</td>\n      <td>...</td>\n      <td>0</td>\n      <td>None</td>\n      <td>False</td>\n      <td>False</td>\n      <td>{}</td>\n      <td>NaN</td>\n      <td>NaN</td>\n      <td>True</td>\n      <td>{'lsvomih88xsa1': {'status': 'valid', 'e': 'Im...</td>\n      <td>{'items': [{'media_id': '27fafih88xsa1', 'id':...</td>\n    </tr>\n    <tr>\n      <th>3</th>\n      <td>2048</td>\n      <td>confidence</td>\n      <td>&lt;praw.reddit.Reddit object at 0x000001AE748CB1F0&gt;</td>\n      <td>None</td>\n      <td>realasians</td>\n      <td></td>\n      <td>t2_789j3g7j</td>\n      <td>False</td>\n      <td>None</td>\n      <td>0</td>\n      <td>...</td>\n      <td>0</td>\n      <td>None</td>\n      <td>False</td>\n      <td>False</td>\n      <td>{}</td>\n      <td>image</td>\n      <td>{'images': [{'source': {'url': 'https://previe...</td>\n      <td>NaN</td>\n      <td>NaN</td>\n      <td>NaN</td>\n    </tr>\n    <tr>\n      <th>4</th>\n      <td>2048</td>\n      <td>confidence</td>\n      <td>&lt;praw.reddit.Reddit object at 0x000001AE748CB1F0&gt;</td>\n      <td>None</td>\n      <td>realasians</td>\n      <td></td>\n      <td>t2_vlf07z8o</td>\n      <td>False</td>\n      <td>None</td>\n      <td>0</td>\n      <td>...</td>\n      <td>0</td>\n      <td>None</td>\n      <td>False</td>\n      <td>False</td>\n      <td>{}</td>\n      <td>image</td>\n      <td>{'images': [{'source': {'url': 'https://previe...</td>\n      <td>NaN</td>\n      <td>NaN</td>\n      <td>NaN</td>\n    </tr>\n    <tr>\n      <th>...</th>\n      <td>...</td>\n      <td>...</td>\n      <td>...</td>\n      <td>...</td>\n      <td>...</td>\n      <td>...</td>\n      <td>...</td>\n      <td>...</td>\n      <td>...</td>\n      <td>...</td>\n      <td>...</td>\n      <td>...</td>\n      <td>...</td>\n      <td>...</td>\n      <td>...</td>\n      <td>...</td>\n      <td>...</td>\n      <td>...</td>\n      <td>...</td>\n      <td>...</td>\n      <td>...</td>\n    </tr>\n    <tr>\n      <th>163</th>\n      <td>2048</td>\n      <td>confidence</td>\n      <td>&lt;praw.reddit.Reddit object at 0x000001AE748BF100&gt;</td>\n      <td>None</td>\n      <td>realasians</td>\n      <td></td>\n      <td>t2_izy0b</td>\n      <td>False</td>\n      <td>None</td>\n      <td>0</td>\n      <td>...</td>\n      <td>0</td>\n      <td>None</td>\n      <td>False</td>\n      <td>False</td>\n      <td>{}</td>\n      <td>image</td>\n      <td>{'images': [{'source': {'url': 'https://previe...</td>\n      <td>NaN</td>\n      <td>NaN</td>\n      <td>NaN</td>\n    </tr>\n    <tr>\n      <th>164</th>\n      <td>2048</td>\n      <td>confidence</td>\n      <td>&lt;praw.reddit.Reddit object at 0x000001AE748BF100&gt;</td>\n      <td>None</td>\n      <td>realasians</td>\n      <td></td>\n      <td>t2_5br9wc0x</td>\n      <td>False</td>\n      <td>None</td>\n      <td>0</td>\n      <td>...</td>\n      <td>0</td>\n      <td>None</td>\n      <td>False</td>\n      <td>False</td>\n      <td>{}</td>\n      <td>image</td>\n      <td>{'images': [{'source': {'url': 'https://extern...</td>\n      <td>NaN</td>\n      <td>NaN</td>\n      <td>NaN</td>\n    </tr>\n    <tr>\n      <th>165</th>\n      <td>2048</td>\n      <td>confidence</td>\n      <td>&lt;praw.reddit.Reddit object at 0x000001AE748BF100&gt;</td>\n      <td>None</td>\n      <td>realasians</td>\n      <td></td>\n      <td>t2_2p195ro0</td>\n      <td>False</td>\n      <td>None</td>\n      <td>0</td>\n      <td>...</td>\n      <td>0</td>\n      <td>None</td>\n      <td>False</td>\n      <td>False</td>\n      <td>{}</td>\n      <td>image</td>\n      <td>{'images': [{'source': {'url': 'https://previe...</td>\n      <td>NaN</td>\n      <td>NaN</td>\n      <td>NaN</td>\n    </tr>\n    <tr>\n      <th>166</th>\n      <td>2048</td>\n      <td>confidence</td>\n      <td>&lt;praw.reddit.Reddit object at 0x000001AE748BF100&gt;</td>\n      <td>None</td>\n      <td>realasians</td>\n      <td></td>\n      <td>t2_82rkecd7</td>\n      <td>False</td>\n      <td>None</td>\n      <td>0</td>\n      <td>...</td>\n      <td>0</td>\n      <td>None</td>\n      <td>False</td>\n      <td>False</td>\n      <td>{}</td>\n      <td>image</td>\n      <td>{'images': [{'source': {'url': 'https://previe...</td>\n      <td>NaN</td>\n      <td>NaN</td>\n      <td>NaN</td>\n    </tr>\n    <tr>\n      <th>167</th>\n      <td>2048</td>\n      <td>confidence</td>\n      <td>&lt;praw.reddit.Reddit object at 0x000001AE748BF100&gt;</td>\n      <td>None</td>\n      <td>realasians</td>\n      <td></td>\n      <td>t2_amiyz2k7</td>\n      <td>False</td>\n      <td>None</td>\n      <td>0</td>\n      <td>...</td>\n      <td>0</td>\n      <td>{'type': 'redgifs.com', 'oembed': {'provider_u...</td>\n      <td>False</td>\n      <td>False</td>\n      <td>{}</td>\n      <td>NaN</td>\n      <td>NaN</td>\n      <td>NaN</td>\n      <td>NaN</td>\n      <td>NaN</td>\n    </tr>\n  </tbody>\n</table>\n<p>168 rows × 117 columns</p>\n</div>"
     },
     "metadata": {},
     "output_type": "display_data"
    },
    {
     "data": {
      "text/plain": "Downloading Reddit Data 1681012800 - 1681099200:   0%|          | 0/2 [00:00<?, ?it/s]",
      "application/vnd.jupyter.widget-view+json": {
       "version_major": 2,
       "version_minor": 0,
       "model_id": "d12df0cbb80344f08cf438c762f11379"
      }
     },
     "metadata": {},
     "output_type": "display_data"
    }
   ],
   "source": [
    "from tqdm import notebook\n",
    "posts = []\n",
    "for date in notebook.tqdm(intervals, desc=f\"Downloading Reddit Data {intervals[0]} - {intervals[-1]}\"):\n",
    "    post_in_interval = api.search_submissions(subreddit=subs[0], limit=100, until=end_date_time_stamp, after=start_date_time_stamp, cache_dir='D:\\\\cache\\\\', mem_safe=True, filter_fn=filter_by_image_post)\n",
    "    posts.extend(post_in_interval)\n",
    "\n",
    "foo=pd.DataFrame(data=posts)\n",
    "\n",
    "display(foo)"
   ],
   "metadata": {
    "collapsed": false,
    "ExecuteTime": {
     "start_time": "2023-04-09T17:59:39.576061Z",
     "end_time": "2023-04-09T18:01:51.913853Z"
    }
   }
  },
  {
   "cell_type": "code",
   "execution_count": 14,
   "outputs": [
    {
     "data": {
      "text/plain": "     comment_limit comment_sort  \\\n0             2048   confidence   \n1             2048   confidence   \n2             2048   confidence   \n3             2048   confidence   \n4             2048   confidence   \n..             ...          ...   \n163           2048   confidence   \n164           2048   confidence   \n165           2048   confidence   \n166           2048   confidence   \n167           2048   confidence   \n\n                                               _reddit approved_at_utc  \\\n0    <praw.reddit.Reddit object at 0x000001AE748CB1F0>            None   \n1    <praw.reddit.Reddit object at 0x000001AE748CB1F0>            None   \n2    <praw.reddit.Reddit object at 0x000001AE748CB1F0>            None   \n3    <praw.reddit.Reddit object at 0x000001AE748CB1F0>            None   \n4    <praw.reddit.Reddit object at 0x000001AE748CB1F0>            None   \n..                                                 ...             ...   \n163  <praw.reddit.Reddit object at 0x000001AE748BF100>            None   \n164  <praw.reddit.Reddit object at 0x000001AE748BF100>            None   \n165  <praw.reddit.Reddit object at 0x000001AE748BF100>            None   \n166  <praw.reddit.Reddit object at 0x000001AE748BF100>            None   \n167  <praw.reddit.Reddit object at 0x000001AE748BF100>            None   \n\n      subreddit selftext author_fullname  saved mod_reason_title  gilded  ...  \\\n0    realasians              t2_u4kgo17v  False             None       0  ...   \n1    realasians              t2_820i830e  False             None       0  ...   \n2    realasians              t2_998p7yvn  False             None       0  ...   \n3    realasians              t2_789j3g7j  False             None       0  ...   \n4    realasians              t2_vlf07z8o  False             None       0  ...   \n..          ...      ...             ...    ...              ...     ...  ...   \n163  realasians                 t2_izy0b  False             None       0  ...   \n164  realasians              t2_5br9wc0x  False             None       0  ...   \n165  realasians              t2_2p195ro0  False             None       0  ...   \n166  realasians              t2_82rkecd7  False             None       0  ...   \n167  realasians              t2_amiyz2k7  False             None       0  ...   \n\n     num_crossposts                                              media  \\\n0                 0                                               None   \n1                 0                                               None   \n2                 0                                               None   \n3                 0                                               None   \n4                 0                                               None   \n..              ...                                                ...   \n163               0                                               None   \n164               0                                               None   \n165               0                                               None   \n166               0                                               None   \n167               0  {'type': 'redgifs.com', 'oembed': {'provider_u...   \n\n    is_video _fetched  _comments_by_id post_hint  \\\n0      False    False               {}       NaN   \n1      False    False               {}     image   \n2      False    False               {}       NaN   \n3      False    False               {}     image   \n4      False    False               {}     image   \n..       ...      ...              ...       ...   \n163    False    False               {}     image   \n164    False    False               {}     image   \n165    False    False               {}     image   \n166    False    False               {}     image   \n167    False    False               {}       NaN   \n\n                                               preview  is_gallery  \\\n0                                                  NaN         NaN   \n1    {'images': [{'source': {'url': 'https://previe...         NaN   \n2                                                  NaN        True   \n3    {'images': [{'source': {'url': 'https://previe...         NaN   \n4    {'images': [{'source': {'url': 'https://previe...         NaN   \n..                                                 ...         ...   \n163  {'images': [{'source': {'url': 'https://previe...         NaN   \n164  {'images': [{'source': {'url': 'https://extern...         NaN   \n165  {'images': [{'source': {'url': 'https://previe...         NaN   \n166  {'images': [{'source': {'url': 'https://previe...         NaN   \n167                                                NaN         NaN   \n\n                                        media_metadata  \\\n0                                                  NaN   \n1                                                  NaN   \n2    {'lsvomih88xsa1': {'status': 'valid', 'e': 'Im...   \n3                                                  NaN   \n4                                                  NaN   \n..                                                 ...   \n163                                                NaN   \n164                                                NaN   \n165                                                NaN   \n166                                                NaN   \n167                                                NaN   \n\n                                          gallery_data  \n0                                                  NaN  \n1                                                  NaN  \n2    {'items': [{'media_id': '27fafih88xsa1', 'id':...  \n3                                                  NaN  \n4                                                  NaN  \n..                                                 ...  \n163                                                NaN  \n164                                                NaN  \n165                                                NaN  \n166                                                NaN  \n167                                                NaN  \n\n[168 rows x 117 columns]",
      "text/html": "<div>\n<style scoped>\n    .dataframe tbody tr th:only-of-type {\n        vertical-align: middle;\n    }\n\n    .dataframe tbody tr th {\n        vertical-align: top;\n    }\n\n    .dataframe thead th {\n        text-align: right;\n    }\n</style>\n<table border=\"1\" class=\"dataframe\">\n  <thead>\n    <tr style=\"text-align: right;\">\n      <th></th>\n      <th>comment_limit</th>\n      <th>comment_sort</th>\n      <th>_reddit</th>\n      <th>approved_at_utc</th>\n      <th>subreddit</th>\n      <th>selftext</th>\n      <th>author_fullname</th>\n      <th>saved</th>\n      <th>mod_reason_title</th>\n      <th>gilded</th>\n      <th>...</th>\n      <th>num_crossposts</th>\n      <th>media</th>\n      <th>is_video</th>\n      <th>_fetched</th>\n      <th>_comments_by_id</th>\n      <th>post_hint</th>\n      <th>preview</th>\n      <th>is_gallery</th>\n      <th>media_metadata</th>\n      <th>gallery_data</th>\n    </tr>\n  </thead>\n  <tbody>\n    <tr>\n      <th>0</th>\n      <td>2048</td>\n      <td>confidence</td>\n      <td>&lt;praw.reddit.Reddit object at 0x000001AE748CB1F0&gt;</td>\n      <td>None</td>\n      <td>realasians</td>\n      <td></td>\n      <td>t2_u4kgo17v</td>\n      <td>False</td>\n      <td>None</td>\n      <td>0</td>\n      <td>...</td>\n      <td>0</td>\n      <td>None</td>\n      <td>False</td>\n      <td>False</td>\n      <td>{}</td>\n      <td>NaN</td>\n      <td>NaN</td>\n      <td>NaN</td>\n      <td>NaN</td>\n      <td>NaN</td>\n    </tr>\n    <tr>\n      <th>1</th>\n      <td>2048</td>\n      <td>confidence</td>\n      <td>&lt;praw.reddit.Reddit object at 0x000001AE748CB1F0&gt;</td>\n      <td>None</td>\n      <td>realasians</td>\n      <td></td>\n      <td>t2_820i830e</td>\n      <td>False</td>\n      <td>None</td>\n      <td>0</td>\n      <td>...</td>\n      <td>0</td>\n      <td>None</td>\n      <td>False</td>\n      <td>False</td>\n      <td>{}</td>\n      <td>image</td>\n      <td>{'images': [{'source': {'url': 'https://previe...</td>\n      <td>NaN</td>\n      <td>NaN</td>\n      <td>NaN</td>\n    </tr>\n    <tr>\n      <th>2</th>\n      <td>2048</td>\n      <td>confidence</td>\n      <td>&lt;praw.reddit.Reddit object at 0x000001AE748CB1F0&gt;</td>\n      <td>None</td>\n      <td>realasians</td>\n      <td></td>\n      <td>t2_998p7yvn</td>\n      <td>False</td>\n      <td>None</td>\n      <td>0</td>\n      <td>...</td>\n      <td>0</td>\n      <td>None</td>\n      <td>False</td>\n      <td>False</td>\n      <td>{}</td>\n      <td>NaN</td>\n      <td>NaN</td>\n      <td>True</td>\n      <td>{'lsvomih88xsa1': {'status': 'valid', 'e': 'Im...</td>\n      <td>{'items': [{'media_id': '27fafih88xsa1', 'id':...</td>\n    </tr>\n    <tr>\n      <th>3</th>\n      <td>2048</td>\n      <td>confidence</td>\n      <td>&lt;praw.reddit.Reddit object at 0x000001AE748CB1F0&gt;</td>\n      <td>None</td>\n      <td>realasians</td>\n      <td></td>\n      <td>t2_789j3g7j</td>\n      <td>False</td>\n      <td>None</td>\n      <td>0</td>\n      <td>...</td>\n      <td>0</td>\n      <td>None</td>\n      <td>False</td>\n      <td>False</td>\n      <td>{}</td>\n      <td>image</td>\n      <td>{'images': [{'source': {'url': 'https://previe...</td>\n      <td>NaN</td>\n      <td>NaN</td>\n      <td>NaN</td>\n    </tr>\n    <tr>\n      <th>4</th>\n      <td>2048</td>\n      <td>confidence</td>\n      <td>&lt;praw.reddit.Reddit object at 0x000001AE748CB1F0&gt;</td>\n      <td>None</td>\n      <td>realasians</td>\n      <td></td>\n      <td>t2_vlf07z8o</td>\n      <td>False</td>\n      <td>None</td>\n      <td>0</td>\n      <td>...</td>\n      <td>0</td>\n      <td>None</td>\n      <td>False</td>\n      <td>False</td>\n      <td>{}</td>\n      <td>image</td>\n      <td>{'images': [{'source': {'url': 'https://previe...</td>\n      <td>NaN</td>\n      <td>NaN</td>\n      <td>NaN</td>\n    </tr>\n    <tr>\n      <th>...</th>\n      <td>...</td>\n      <td>...</td>\n      <td>...</td>\n      <td>...</td>\n      <td>...</td>\n      <td>...</td>\n      <td>...</td>\n      <td>...</td>\n      <td>...</td>\n      <td>...</td>\n      <td>...</td>\n      <td>...</td>\n      <td>...</td>\n      <td>...</td>\n      <td>...</td>\n      <td>...</td>\n      <td>...</td>\n      <td>...</td>\n      <td>...</td>\n      <td>...</td>\n      <td>...</td>\n    </tr>\n    <tr>\n      <th>163</th>\n      <td>2048</td>\n      <td>confidence</td>\n      <td>&lt;praw.reddit.Reddit object at 0x000001AE748BF100&gt;</td>\n      <td>None</td>\n      <td>realasians</td>\n      <td></td>\n      <td>t2_izy0b</td>\n      <td>False</td>\n      <td>None</td>\n      <td>0</td>\n      <td>...</td>\n      <td>0</td>\n      <td>None</td>\n      <td>False</td>\n      <td>False</td>\n      <td>{}</td>\n      <td>image</td>\n      <td>{'images': [{'source': {'url': 'https://previe...</td>\n      <td>NaN</td>\n      <td>NaN</td>\n      <td>NaN</td>\n    </tr>\n    <tr>\n      <th>164</th>\n      <td>2048</td>\n      <td>confidence</td>\n      <td>&lt;praw.reddit.Reddit object at 0x000001AE748BF100&gt;</td>\n      <td>None</td>\n      <td>realasians</td>\n      <td></td>\n      <td>t2_5br9wc0x</td>\n      <td>False</td>\n      <td>None</td>\n      <td>0</td>\n      <td>...</td>\n      <td>0</td>\n      <td>None</td>\n      <td>False</td>\n      <td>False</td>\n      <td>{}</td>\n      <td>image</td>\n      <td>{'images': [{'source': {'url': 'https://extern...</td>\n      <td>NaN</td>\n      <td>NaN</td>\n      <td>NaN</td>\n    </tr>\n    <tr>\n      <th>165</th>\n      <td>2048</td>\n      <td>confidence</td>\n      <td>&lt;praw.reddit.Reddit object at 0x000001AE748BF100&gt;</td>\n      <td>None</td>\n      <td>realasians</td>\n      <td></td>\n      <td>t2_2p195ro0</td>\n      <td>False</td>\n      <td>None</td>\n      <td>0</td>\n      <td>...</td>\n      <td>0</td>\n      <td>None</td>\n      <td>False</td>\n      <td>False</td>\n      <td>{}</td>\n      <td>image</td>\n      <td>{'images': [{'source': {'url': 'https://previe...</td>\n      <td>NaN</td>\n      <td>NaN</td>\n      <td>NaN</td>\n    </tr>\n    <tr>\n      <th>166</th>\n      <td>2048</td>\n      <td>confidence</td>\n      <td>&lt;praw.reddit.Reddit object at 0x000001AE748BF100&gt;</td>\n      <td>None</td>\n      <td>realasians</td>\n      <td></td>\n      <td>t2_82rkecd7</td>\n      <td>False</td>\n      <td>None</td>\n      <td>0</td>\n      <td>...</td>\n      <td>0</td>\n      <td>None</td>\n      <td>False</td>\n      <td>False</td>\n      <td>{}</td>\n      <td>image</td>\n      <td>{'images': [{'source': {'url': 'https://previe...</td>\n      <td>NaN</td>\n      <td>NaN</td>\n      <td>NaN</td>\n    </tr>\n    <tr>\n      <th>167</th>\n      <td>2048</td>\n      <td>confidence</td>\n      <td>&lt;praw.reddit.Reddit object at 0x000001AE748BF100&gt;</td>\n      <td>None</td>\n      <td>realasians</td>\n      <td></td>\n      <td>t2_amiyz2k7</td>\n      <td>False</td>\n      <td>None</td>\n      <td>0</td>\n      <td>...</td>\n      <td>0</td>\n      <td>{'type': 'redgifs.com', 'oembed': {'provider_u...</td>\n      <td>False</td>\n      <td>False</td>\n      <td>{}</td>\n      <td>NaN</td>\n      <td>NaN</td>\n      <td>NaN</td>\n      <td>NaN</td>\n      <td>NaN</td>\n    </tr>\n  </tbody>\n</table>\n<p>168 rows × 117 columns</p>\n</div>"
     },
     "metadata": {},
     "output_type": "display_data"
    },
    {
     "name": "stdout",
     "output_type": "stream",
     "text": [
      "CPU times: total: 109 ms\n",
      "Wall time: 313 ms\n"
     ]
    }
   ],
   "source": [
    "%%time\n",
    "\n",
    "df = pd.DataFrame([item for item in posts])\n",
    "display(df)"
   ],
   "metadata": {
    "collapsed": false,
    "ExecuteTime": {
     "start_time": "2023-04-09T18:01:51.991975Z",
     "end_time": "2023-04-09T18:01:52.445526Z"
    }
   }
  },
  {
   "cell_type": "code",
   "execution_count": 15,
   "outputs": [
    {
     "data": {
      "text/plain": "          id   subreddit              author                            title  \\\n0    12gvw57  realasians           phoshodoe                   Like the view?   \n1    12gurwb  realasians        notaverage22  Tank tops are always in fashion   \n2    12gul8c  realasians       ricecooker276                              KS2   \n3    12gtcel  realasians         OOO00O0O000                                🌍   \n4    12gt7fa  realasians         smolnmighty                     Lazy Sundays   \n..       ...         ...                 ...                              ...   \n111  12fu3tr  realasians  Impossible-Act6792                             Cute   \n112  12ftdwo  realasians               sfsfw              Trying on new shirt   \n113  12ft1ri  realasians           SKTminion                       Cruise gal   \n114  12fst4o  realasians          dahyunscat                       Choose one   \n115  12frvjy  realasians             a_teb89                           Demure   \n\n    caption hash                                          permalink  \\\n0                     /r/realasians/comments/12gvw57/like_the_view/   \n1                 /r/realasians/comments/12gurwb/tank_tops_are_a...   \n2                               /r/realasians/comments/12gul8c/ks2/   \n3                                 /r/realasians/comments/12gtcel/_/   \n4                      /r/realasians/comments/12gt7fa/lazy_sundays/   \n..      ...  ...                                                ...   \n111                            /r/realasians/comments/12fu3tr/cute/   \n112               /r/realasians/comments/12ftdwo/trying_on_new_s...   \n113                      /r/realasians/comments/12ft1ri/cruise_gal/   \n114                      /r/realasians/comments/12fst4o/choose_one/   \n115                          /r/realasians/comments/12frvjy/demure/   \n\n                            original_url image_name path thumbnail_path  \\\n0    https://i.redd.it/2j7jg8b0uysa1.jpg                                  \n1    https://i.redd.it/yrlht9nxmysa1.jpg                                  \n2    https://i.redd.it/1p32g7l94xsa1.jpg                                  \n3    https://i.redd.it/i276gl0rdysa1.jpg                                  \n4    https://i.redd.it/5ljho7qtcysa1.jpg                                  \n..                                   ...        ...  ...            ...   \n111  https://i.redd.it/61rm6nl4vqsa1.jpg                                  \n112  https://i.redd.it/xtnkp0q29psa1.jpg                                  \n113      https://i.imgur.com/TPq6yuj.jpg                                  \n114  https://i.redd.it/ye63r1c1nqsa1.jpg                                  \n115  https://i.redd.it/xmjd76awzosa1.jpg                                  \n\n    exists curated  \n0    False   False  \n1    False   False  \n2    False   False  \n3    False   False  \n4    False   False  \n..     ...     ...  \n111  False   False  \n112  False   False  \n113  False   False  \n114  False   False  \n115  False   False  \n\n[116 rows x 13 columns]",
      "text/html": "<div>\n<style scoped>\n    .dataframe tbody tr th:only-of-type {\n        vertical-align: middle;\n    }\n\n    .dataframe tbody tr th {\n        vertical-align: top;\n    }\n\n    .dataframe thead th {\n        text-align: right;\n    }\n</style>\n<table border=\"1\" class=\"dataframe\">\n  <thead>\n    <tr style=\"text-align: right;\">\n      <th></th>\n      <th>id</th>\n      <th>subreddit</th>\n      <th>author</th>\n      <th>title</th>\n      <th>caption</th>\n      <th>hash</th>\n      <th>permalink</th>\n      <th>original_url</th>\n      <th>image_name</th>\n      <th>path</th>\n      <th>thumbnail_path</th>\n      <th>exists</th>\n      <th>curated</th>\n    </tr>\n  </thead>\n  <tbody>\n    <tr>\n      <th>0</th>\n      <td>12gvw57</td>\n      <td>realasians</td>\n      <td>phoshodoe</td>\n      <td>Like the view?</td>\n      <td></td>\n      <td></td>\n      <td>/r/realasians/comments/12gvw57/like_the_view/</td>\n      <td>https://i.redd.it/2j7jg8b0uysa1.jpg</td>\n      <td></td>\n      <td></td>\n      <td></td>\n      <td>False</td>\n      <td>False</td>\n    </tr>\n    <tr>\n      <th>1</th>\n      <td>12gurwb</td>\n      <td>realasians</td>\n      <td>notaverage22</td>\n      <td>Tank tops are always in fashion</td>\n      <td></td>\n      <td></td>\n      <td>/r/realasians/comments/12gurwb/tank_tops_are_a...</td>\n      <td>https://i.redd.it/yrlht9nxmysa1.jpg</td>\n      <td></td>\n      <td></td>\n      <td></td>\n      <td>False</td>\n      <td>False</td>\n    </tr>\n    <tr>\n      <th>2</th>\n      <td>12gul8c</td>\n      <td>realasians</td>\n      <td>ricecooker276</td>\n      <td>KS2</td>\n      <td></td>\n      <td></td>\n      <td>/r/realasians/comments/12gul8c/ks2/</td>\n      <td>https://i.redd.it/1p32g7l94xsa1.jpg</td>\n      <td></td>\n      <td></td>\n      <td></td>\n      <td>False</td>\n      <td>False</td>\n    </tr>\n    <tr>\n      <th>3</th>\n      <td>12gtcel</td>\n      <td>realasians</td>\n      <td>OOO00O0O000</td>\n      <td>🌍</td>\n      <td></td>\n      <td></td>\n      <td>/r/realasians/comments/12gtcel/_/</td>\n      <td>https://i.redd.it/i276gl0rdysa1.jpg</td>\n      <td></td>\n      <td></td>\n      <td></td>\n      <td>False</td>\n      <td>False</td>\n    </tr>\n    <tr>\n      <th>4</th>\n      <td>12gt7fa</td>\n      <td>realasians</td>\n      <td>smolnmighty</td>\n      <td>Lazy Sundays</td>\n      <td></td>\n      <td></td>\n      <td>/r/realasians/comments/12gt7fa/lazy_sundays/</td>\n      <td>https://i.redd.it/5ljho7qtcysa1.jpg</td>\n      <td></td>\n      <td></td>\n      <td></td>\n      <td>False</td>\n      <td>False</td>\n    </tr>\n    <tr>\n      <th>...</th>\n      <td>...</td>\n      <td>...</td>\n      <td>...</td>\n      <td>...</td>\n      <td>...</td>\n      <td>...</td>\n      <td>...</td>\n      <td>...</td>\n      <td>...</td>\n      <td>...</td>\n      <td>...</td>\n      <td>...</td>\n      <td>...</td>\n    </tr>\n    <tr>\n      <th>111</th>\n      <td>12fu3tr</td>\n      <td>realasians</td>\n      <td>Impossible-Act6792</td>\n      <td>Cute</td>\n      <td></td>\n      <td></td>\n      <td>/r/realasians/comments/12fu3tr/cute/</td>\n      <td>https://i.redd.it/61rm6nl4vqsa1.jpg</td>\n      <td></td>\n      <td></td>\n      <td></td>\n      <td>False</td>\n      <td>False</td>\n    </tr>\n    <tr>\n      <th>112</th>\n      <td>12ftdwo</td>\n      <td>realasians</td>\n      <td>sfsfw</td>\n      <td>Trying on new shirt</td>\n      <td></td>\n      <td></td>\n      <td>/r/realasians/comments/12ftdwo/trying_on_new_s...</td>\n      <td>https://i.redd.it/xtnkp0q29psa1.jpg</td>\n      <td></td>\n      <td></td>\n      <td></td>\n      <td>False</td>\n      <td>False</td>\n    </tr>\n    <tr>\n      <th>113</th>\n      <td>12ft1ri</td>\n      <td>realasians</td>\n      <td>SKTminion</td>\n      <td>Cruise gal</td>\n      <td></td>\n      <td></td>\n      <td>/r/realasians/comments/12ft1ri/cruise_gal/</td>\n      <td>https://i.imgur.com/TPq6yuj.jpg</td>\n      <td></td>\n      <td></td>\n      <td></td>\n      <td>False</td>\n      <td>False</td>\n    </tr>\n    <tr>\n      <th>114</th>\n      <td>12fst4o</td>\n      <td>realasians</td>\n      <td>dahyunscat</td>\n      <td>Choose one</td>\n      <td></td>\n      <td></td>\n      <td>/r/realasians/comments/12fst4o/choose_one/</td>\n      <td>https://i.redd.it/ye63r1c1nqsa1.jpg</td>\n      <td></td>\n      <td></td>\n      <td></td>\n      <td>False</td>\n      <td>False</td>\n    </tr>\n    <tr>\n      <th>115</th>\n      <td>12frvjy</td>\n      <td>realasians</td>\n      <td>a_teb89</td>\n      <td>Demure</td>\n      <td></td>\n      <td></td>\n      <td>/r/realasians/comments/12frvjy/demure/</td>\n      <td>https://i.redd.it/xmjd76awzosa1.jpg</td>\n      <td></td>\n      <td></td>\n      <td></td>\n      <td>False</td>\n      <td>False</td>\n    </tr>\n  </tbody>\n</table>\n<p>116 rows × 13 columns</p>\n</div>"
     },
     "metadata": {},
     "output_type": "display_data"
    },
    {
     "name": "stdout",
     "output_type": "stream",
     "text": [
      "CPU times: total: 62.5 ms\n",
      "Wall time: 250 ms\n"
     ]
    }
   ],
   "source": [
    "%%time\n",
    "\n",
    "initial = pd.DataFrame({}, columns=schema.names)\n",
    "initial['id'] = df['id']\n",
    "initial['subreddit'] = df['subreddit']\n",
    "initial['author'] = df['author']\n",
    "initial['title'] = df['title']\n",
    "initial['caption'] = \"\"\n",
    "initial['hash'] = \"\"\n",
    "initial['permalink'] = df['permalink']\n",
    "initial['original_url'] = df['url']\n",
    "initial['image_name'] = \"\"\n",
    "initial['path'] = \"\"\n",
    "initial['thumbnail_path'] = \"\"\n",
    "initial['exists'] = False\n",
    "initial['curated'] = False\n",
    "\n",
    "filtered_initial = initial.where(initial['original_url'].str.endswith('.jpg')).dropna(how='all').reset_index().drop('index', axis=1)\n",
    "\n",
    "display(filtered_initial)"
   ],
   "metadata": {
    "collapsed": false,
    "ExecuteTime": {
     "start_time": "2023-04-09T18:01:52.320526Z",
     "end_time": "2023-04-09T18:01:53.181131Z"
    }
   }
  },
  {
   "cell_type": "code",
   "execution_count": 16,
   "outputs": [
    {
     "data": {
      "text/plain": "          id   subreddit              author                            title  \\\n0    12gvw57  realasians           phoshodoe                   Like the view?   \n1    12gurwb  realasians        notaverage22  Tank tops are always in fashion   \n2    12gul8c  realasians       ricecooker276                              KS2   \n3    12gtcel  realasians         OOO00O0O000                                🌍   \n4    12gt7fa  realasians         smolnmighty                     Lazy Sundays   \n..       ...         ...                 ...                              ...   \n111  12fu3tr  realasians  Impossible-Act6792                             Cute   \n112  12ftdwo  realasians               sfsfw              Trying on new shirt   \n113  12ft1ri  realasians           SKTminion                       Cruise gal   \n114  12fst4o  realasians          dahyunscat                       Choose one   \n115  12frvjy  realasians             a_teb89                           Demure   \n\n    caption hash                                          permalink  \\\n0                     /r/realasians/comments/12gvw57/like_the_view/   \n1                 /r/realasians/comments/12gurwb/tank_tops_are_a...   \n2                               /r/realasians/comments/12gul8c/ks2/   \n3                                 /r/realasians/comments/12gtcel/_/   \n4                      /r/realasians/comments/12gt7fa/lazy_sundays/   \n..      ...  ...                                                ...   \n111                            /r/realasians/comments/12fu3tr/cute/   \n112               /r/realasians/comments/12ftdwo/trying_on_new_s...   \n113                      /r/realasians/comments/12ft1ri/cruise_gal/   \n114                      /r/realasians/comments/12fst4o/choose_one/   \n115                          /r/realasians/comments/12frvjy/demure/   \n\n                            original_url image_name path thumbnail_path  \\\n0    https://i.redd.it/2j7jg8b0uysa1.jpg                                  \n1    https://i.redd.it/yrlht9nxmysa1.jpg                                  \n2    https://i.redd.it/1p32g7l94xsa1.jpg                                  \n3    https://i.redd.it/i276gl0rdysa1.jpg                                  \n4    https://i.redd.it/5ljho7qtcysa1.jpg                                  \n..                                   ...        ...  ...            ...   \n111  https://i.redd.it/61rm6nl4vqsa1.jpg                                  \n112  https://i.redd.it/xtnkp0q29psa1.jpg                                  \n113      https://i.imgur.com/TPq6yuj.jpg                                  \n114  https://i.redd.it/ye63r1c1nqsa1.jpg                                  \n115  https://i.redd.it/xmjd76awzosa1.jpg                                  \n\n    exists curated  \n0    False   False  \n1    False   False  \n2    False   False  \n3    False   False  \n4    False   False  \n..     ...     ...  \n111  False   False  \n112  False   False  \n113  False   False  \n114  False   False  \n115  False   False  \n\n[116 rows x 13 columns]",
      "text/html": "<div>\n<style scoped>\n    .dataframe tbody tr th:only-of-type {\n        vertical-align: middle;\n    }\n\n    .dataframe tbody tr th {\n        vertical-align: top;\n    }\n\n    .dataframe thead th {\n        text-align: right;\n    }\n</style>\n<table border=\"1\" class=\"dataframe\">\n  <thead>\n    <tr style=\"text-align: right;\">\n      <th></th>\n      <th>id</th>\n      <th>subreddit</th>\n      <th>author</th>\n      <th>title</th>\n      <th>caption</th>\n      <th>hash</th>\n      <th>permalink</th>\n      <th>original_url</th>\n      <th>image_name</th>\n      <th>path</th>\n      <th>thumbnail_path</th>\n      <th>exists</th>\n      <th>curated</th>\n    </tr>\n  </thead>\n  <tbody>\n    <tr>\n      <th>0</th>\n      <td>12gvw57</td>\n      <td>realasians</td>\n      <td>phoshodoe</td>\n      <td>Like the view?</td>\n      <td></td>\n      <td></td>\n      <td>/r/realasians/comments/12gvw57/like_the_view/</td>\n      <td>https://i.redd.it/2j7jg8b0uysa1.jpg</td>\n      <td></td>\n      <td></td>\n      <td></td>\n      <td>False</td>\n      <td>False</td>\n    </tr>\n    <tr>\n      <th>1</th>\n      <td>12gurwb</td>\n      <td>realasians</td>\n      <td>notaverage22</td>\n      <td>Tank tops are always in fashion</td>\n      <td></td>\n      <td></td>\n      <td>/r/realasians/comments/12gurwb/tank_tops_are_a...</td>\n      <td>https://i.redd.it/yrlht9nxmysa1.jpg</td>\n      <td></td>\n      <td></td>\n      <td></td>\n      <td>False</td>\n      <td>False</td>\n    </tr>\n    <tr>\n      <th>2</th>\n      <td>12gul8c</td>\n      <td>realasians</td>\n      <td>ricecooker276</td>\n      <td>KS2</td>\n      <td></td>\n      <td></td>\n      <td>/r/realasians/comments/12gul8c/ks2/</td>\n      <td>https://i.redd.it/1p32g7l94xsa1.jpg</td>\n      <td></td>\n      <td></td>\n      <td></td>\n      <td>False</td>\n      <td>False</td>\n    </tr>\n    <tr>\n      <th>3</th>\n      <td>12gtcel</td>\n      <td>realasians</td>\n      <td>OOO00O0O000</td>\n      <td>🌍</td>\n      <td></td>\n      <td></td>\n      <td>/r/realasians/comments/12gtcel/_/</td>\n      <td>https://i.redd.it/i276gl0rdysa1.jpg</td>\n      <td></td>\n      <td></td>\n      <td></td>\n      <td>False</td>\n      <td>False</td>\n    </tr>\n    <tr>\n      <th>4</th>\n      <td>12gt7fa</td>\n      <td>realasians</td>\n      <td>smolnmighty</td>\n      <td>Lazy Sundays</td>\n      <td></td>\n      <td></td>\n      <td>/r/realasians/comments/12gt7fa/lazy_sundays/</td>\n      <td>https://i.redd.it/5ljho7qtcysa1.jpg</td>\n      <td></td>\n      <td></td>\n      <td></td>\n      <td>False</td>\n      <td>False</td>\n    </tr>\n    <tr>\n      <th>...</th>\n      <td>...</td>\n      <td>...</td>\n      <td>...</td>\n      <td>...</td>\n      <td>...</td>\n      <td>...</td>\n      <td>...</td>\n      <td>...</td>\n      <td>...</td>\n      <td>...</td>\n      <td>...</td>\n      <td>...</td>\n      <td>...</td>\n    </tr>\n    <tr>\n      <th>111</th>\n      <td>12fu3tr</td>\n      <td>realasians</td>\n      <td>Impossible-Act6792</td>\n      <td>Cute</td>\n      <td></td>\n      <td></td>\n      <td>/r/realasians/comments/12fu3tr/cute/</td>\n      <td>https://i.redd.it/61rm6nl4vqsa1.jpg</td>\n      <td></td>\n      <td></td>\n      <td></td>\n      <td>False</td>\n      <td>False</td>\n    </tr>\n    <tr>\n      <th>112</th>\n      <td>12ftdwo</td>\n      <td>realasians</td>\n      <td>sfsfw</td>\n      <td>Trying on new shirt</td>\n      <td></td>\n      <td></td>\n      <td>/r/realasians/comments/12ftdwo/trying_on_new_s...</td>\n      <td>https://i.redd.it/xtnkp0q29psa1.jpg</td>\n      <td></td>\n      <td></td>\n      <td></td>\n      <td>False</td>\n      <td>False</td>\n    </tr>\n    <tr>\n      <th>113</th>\n      <td>12ft1ri</td>\n      <td>realasians</td>\n      <td>SKTminion</td>\n      <td>Cruise gal</td>\n      <td></td>\n      <td></td>\n      <td>/r/realasians/comments/12ft1ri/cruise_gal/</td>\n      <td>https://i.imgur.com/TPq6yuj.jpg</td>\n      <td></td>\n      <td></td>\n      <td></td>\n      <td>False</td>\n      <td>False</td>\n    </tr>\n    <tr>\n      <th>114</th>\n      <td>12fst4o</td>\n      <td>realasians</td>\n      <td>dahyunscat</td>\n      <td>Choose one</td>\n      <td></td>\n      <td></td>\n      <td>/r/realasians/comments/12fst4o/choose_one/</td>\n      <td>https://i.redd.it/ye63r1c1nqsa1.jpg</td>\n      <td></td>\n      <td></td>\n      <td></td>\n      <td>False</td>\n      <td>False</td>\n    </tr>\n    <tr>\n      <th>115</th>\n      <td>12frvjy</td>\n      <td>realasians</td>\n      <td>a_teb89</td>\n      <td>Demure</td>\n      <td></td>\n      <td></td>\n      <td>/r/realasians/comments/12frvjy/demure/</td>\n      <td>https://i.redd.it/xmjd76awzosa1.jpg</td>\n      <td></td>\n      <td></td>\n      <td></td>\n      <td>False</td>\n      <td>False</td>\n    </tr>\n  </tbody>\n</table>\n<p>116 rows × 13 columns</p>\n</div>"
     },
     "metadata": {},
     "output_type": "display_data"
    },
    {
     "name": "stdout",
     "output_type": "stream",
     "text": [
      "CPU times: total: 62.5 ms\n",
      "Wall time: 141 ms\n"
     ]
    }
   ],
   "source": [
    "%%time\n",
    "\n",
    "new_entries = filtered_initial.where(~filtered_initial['id'].isin(extant_data['id'])).dropna(how='all').reset_index().drop('index', axis=1)\n",
    "\n",
    "display(new_entries)"
   ],
   "metadata": {
    "collapsed": false,
    "ExecuteTime": {
     "start_time": "2023-04-09T18:01:52.679900Z",
     "end_time": "2023-04-09T18:01:53.228005Z"
    }
   }
  },
  {
   "cell_type": "code",
   "execution_count": 17,
   "outputs": [
    {
     "name": "stderr",
     "output_type": "stream",
     "text": [
      "Fetch-Image: 100%|██████████| 116/116 [00:42<00:00,  2.71it/s]\n",
      "Get-Image-Name: 100%|██████████| 116/116 [00:00<00:00, 7423.55it/s]\n",
      "Split-Hash: 100%|██████████| 116/116 [00:00<?, ?it/s]\n"
     ]
    },
    {
     "data": {
      "text/plain": "          id   subreddit              author                            title  \\\n0    12gvw57  realasians           phoshodoe                   Like the view?   \n1    12gurwb  realasians        notaverage22  Tank tops are always in fashion   \n2    12gul8c  realasians       ricecooker276                              KS2   \n3    12gtcel  realasians         OOO00O0O000                                🌍   \n4    12gt7fa  realasians         smolnmighty                     Lazy Sundays   \n..       ...         ...                 ...                              ...   \n111  12fu3tr  realasians  Impossible-Act6792                             Cute   \n112  12ftdwo  realasians               sfsfw              Trying on new shirt   \n113  12ft1ri  realasians           SKTminion                       Cruise gal   \n114  12fst4o  realasians          dahyunscat                       Choose one   \n115  12frvjy  realasians             a_teb89                           Demure   \n\n    caption                              hash  \\\n0            29d35ab3ec2380fc8dedc9fd802c5ce2   \n1            4971bc097716eb86431b748eb77fdf81   \n2            1a72d23ec23a94213d1d5d88118da7d8   \n3            44ac6b32fcd9c60aaf8aba61d4d1a9a9   \n4            51a58273487e67a9cdc5c7d2be473e12   \n..      ...                               ...   \n111          10b92a383163fc494c78382a13942705   \n112          35a3e44afa15890b9f62f4e5d8895e50   \n113          ace0f33ad4affe4e0f112bf8dd1f36fe   \n114          959ea8c1956b7ff8a0a4eb61bb161436   \n115          9fc9cb3bab671843a80210d6e293bec3   \n\n                                             permalink  \\\n0        /r/realasians/comments/12gvw57/like_the_view/   \n1    /r/realasians/comments/12gurwb/tank_tops_are_a...   \n2                  /r/realasians/comments/12gul8c/ks2/   \n3                    /r/realasians/comments/12gtcel/_/   \n4         /r/realasians/comments/12gt7fa/lazy_sundays/   \n..                                                 ...   \n111               /r/realasians/comments/12fu3tr/cute/   \n112  /r/realasians/comments/12ftdwo/trying_on_new_s...   \n113         /r/realasians/comments/12ft1ri/cruise_gal/   \n114         /r/realasians/comments/12fst4o/choose_one/   \n115             /r/realasians/comments/12frvjy/demure/   \n\n                            original_url  \\\n0    https://i.redd.it/2j7jg8b0uysa1.jpg   \n1    https://i.redd.it/yrlht9nxmysa1.jpg   \n2    https://i.redd.it/1p32g7l94xsa1.jpg   \n3    https://i.redd.it/i276gl0rdysa1.jpg   \n4    https://i.redd.it/5ljho7qtcysa1.jpg   \n..                                   ...   \n111  https://i.redd.it/61rm6nl4vqsa1.jpg   \n112  https://i.redd.it/xtnkp0q29psa1.jpg   \n113      https://i.imgur.com/TPq6yuj.jpg   \n114  https://i.redd.it/ye63r1c1nqsa1.jpg   \n115  https://i.redd.it/xmjd76awzosa1.jpg   \n\n                               image_name  \\\n0    29d35ab3ec2380fc8dedc9fd802c5ce2.jpg   \n1    4971bc097716eb86431b748eb77fdf81.jpg   \n2    1a72d23ec23a94213d1d5d88118da7d8.jpg   \n3    44ac6b32fcd9c60aaf8aba61d4d1a9a9.jpg   \n4    51a58273487e67a9cdc5c7d2be473e12.jpg   \n..                                    ...   \n111  10b92a383163fc494c78382a13942705.jpg   \n112  35a3e44afa15890b9f62f4e5d8895e50.jpg   \n113  ace0f33ad4affe4e0f112bf8dd1f36fe.jpg   \n114  959ea8c1956b7ff8a0a4eb61bb161436.jpg   \n115  9fc9cb3bab671843a80210d6e293bec3.jpg   \n\n                                                  path thumbnail_path exists  \\\n0    D:\\data\\images\\realasians\\29d35ab3ec2380fc8ded...                 False   \n1    D:\\data\\images\\realasians\\4971bc097716eb86431b...                 False   \n2    D:\\data\\images\\realasians\\1a72d23ec23a94213d1d...                 False   \n3    D:\\data\\images\\realasians\\44ac6b32fcd9c60aaf8a...                 False   \n4    D:\\data\\images\\realasians\\51a58273487e67a9cdc5...                 False   \n..                                                 ...            ...    ...   \n111  D:\\data\\images\\realasians\\10b92a383163fc494c78...                 False   \n112  D:\\data\\images\\realasians\\35a3e44afa15890b9f62...                 False   \n113  D:\\data\\images\\realasians\\ace0f33ad4affe4e0f11...                 False   \n114  D:\\data\\images\\realasians\\959ea8c1956b7ff8a0a4...                 False   \n115  D:\\data\\images\\realasians\\9fc9cb3bab671843a802...                 False   \n\n    curated  \n0     False  \n1     False  \n2     False  \n3     False  \n4     False  \n..      ...  \n111   False  \n112   False  \n113   False  \n114   False  \n115   False  \n\n[116 rows x 13 columns]",
      "text/html": "<div>\n<style scoped>\n    .dataframe tbody tr th:only-of-type {\n        vertical-align: middle;\n    }\n\n    .dataframe tbody tr th {\n        vertical-align: top;\n    }\n\n    .dataframe thead th {\n        text-align: right;\n    }\n</style>\n<table border=\"1\" class=\"dataframe\">\n  <thead>\n    <tr style=\"text-align: right;\">\n      <th></th>\n      <th>id</th>\n      <th>subreddit</th>\n      <th>author</th>\n      <th>title</th>\n      <th>caption</th>\n      <th>hash</th>\n      <th>permalink</th>\n      <th>original_url</th>\n      <th>image_name</th>\n      <th>path</th>\n      <th>thumbnail_path</th>\n      <th>exists</th>\n      <th>curated</th>\n    </tr>\n  </thead>\n  <tbody>\n    <tr>\n      <th>0</th>\n      <td>12gvw57</td>\n      <td>realasians</td>\n      <td>phoshodoe</td>\n      <td>Like the view?</td>\n      <td></td>\n      <td>29d35ab3ec2380fc8dedc9fd802c5ce2</td>\n      <td>/r/realasians/comments/12gvw57/like_the_view/</td>\n      <td>https://i.redd.it/2j7jg8b0uysa1.jpg</td>\n      <td>29d35ab3ec2380fc8dedc9fd802c5ce2.jpg</td>\n      <td>D:\\data\\images\\realasians\\29d35ab3ec2380fc8ded...</td>\n      <td></td>\n      <td>False</td>\n      <td>False</td>\n    </tr>\n    <tr>\n      <th>1</th>\n      <td>12gurwb</td>\n      <td>realasians</td>\n      <td>notaverage22</td>\n      <td>Tank tops are always in fashion</td>\n      <td></td>\n      <td>4971bc097716eb86431b748eb77fdf81</td>\n      <td>/r/realasians/comments/12gurwb/tank_tops_are_a...</td>\n      <td>https://i.redd.it/yrlht9nxmysa1.jpg</td>\n      <td>4971bc097716eb86431b748eb77fdf81.jpg</td>\n      <td>D:\\data\\images\\realasians\\4971bc097716eb86431b...</td>\n      <td></td>\n      <td>False</td>\n      <td>False</td>\n    </tr>\n    <tr>\n      <th>2</th>\n      <td>12gul8c</td>\n      <td>realasians</td>\n      <td>ricecooker276</td>\n      <td>KS2</td>\n      <td></td>\n      <td>1a72d23ec23a94213d1d5d88118da7d8</td>\n      <td>/r/realasians/comments/12gul8c/ks2/</td>\n      <td>https://i.redd.it/1p32g7l94xsa1.jpg</td>\n      <td>1a72d23ec23a94213d1d5d88118da7d8.jpg</td>\n      <td>D:\\data\\images\\realasians\\1a72d23ec23a94213d1d...</td>\n      <td></td>\n      <td>False</td>\n      <td>False</td>\n    </tr>\n    <tr>\n      <th>3</th>\n      <td>12gtcel</td>\n      <td>realasians</td>\n      <td>OOO00O0O000</td>\n      <td>🌍</td>\n      <td></td>\n      <td>44ac6b32fcd9c60aaf8aba61d4d1a9a9</td>\n      <td>/r/realasians/comments/12gtcel/_/</td>\n      <td>https://i.redd.it/i276gl0rdysa1.jpg</td>\n      <td>44ac6b32fcd9c60aaf8aba61d4d1a9a9.jpg</td>\n      <td>D:\\data\\images\\realasians\\44ac6b32fcd9c60aaf8a...</td>\n      <td></td>\n      <td>False</td>\n      <td>False</td>\n    </tr>\n    <tr>\n      <th>4</th>\n      <td>12gt7fa</td>\n      <td>realasians</td>\n      <td>smolnmighty</td>\n      <td>Lazy Sundays</td>\n      <td></td>\n      <td>51a58273487e67a9cdc5c7d2be473e12</td>\n      <td>/r/realasians/comments/12gt7fa/lazy_sundays/</td>\n      <td>https://i.redd.it/5ljho7qtcysa1.jpg</td>\n      <td>51a58273487e67a9cdc5c7d2be473e12.jpg</td>\n      <td>D:\\data\\images\\realasians\\51a58273487e67a9cdc5...</td>\n      <td></td>\n      <td>False</td>\n      <td>False</td>\n    </tr>\n    <tr>\n      <th>...</th>\n      <td>...</td>\n      <td>...</td>\n      <td>...</td>\n      <td>...</td>\n      <td>...</td>\n      <td>...</td>\n      <td>...</td>\n      <td>...</td>\n      <td>...</td>\n      <td>...</td>\n      <td>...</td>\n      <td>...</td>\n      <td>...</td>\n    </tr>\n    <tr>\n      <th>111</th>\n      <td>12fu3tr</td>\n      <td>realasians</td>\n      <td>Impossible-Act6792</td>\n      <td>Cute</td>\n      <td></td>\n      <td>10b92a383163fc494c78382a13942705</td>\n      <td>/r/realasians/comments/12fu3tr/cute/</td>\n      <td>https://i.redd.it/61rm6nl4vqsa1.jpg</td>\n      <td>10b92a383163fc494c78382a13942705.jpg</td>\n      <td>D:\\data\\images\\realasians\\10b92a383163fc494c78...</td>\n      <td></td>\n      <td>False</td>\n      <td>False</td>\n    </tr>\n    <tr>\n      <th>112</th>\n      <td>12ftdwo</td>\n      <td>realasians</td>\n      <td>sfsfw</td>\n      <td>Trying on new shirt</td>\n      <td></td>\n      <td>35a3e44afa15890b9f62f4e5d8895e50</td>\n      <td>/r/realasians/comments/12ftdwo/trying_on_new_s...</td>\n      <td>https://i.redd.it/xtnkp0q29psa1.jpg</td>\n      <td>35a3e44afa15890b9f62f4e5d8895e50.jpg</td>\n      <td>D:\\data\\images\\realasians\\35a3e44afa15890b9f62...</td>\n      <td></td>\n      <td>False</td>\n      <td>False</td>\n    </tr>\n    <tr>\n      <th>113</th>\n      <td>12ft1ri</td>\n      <td>realasians</td>\n      <td>SKTminion</td>\n      <td>Cruise gal</td>\n      <td></td>\n      <td>ace0f33ad4affe4e0f112bf8dd1f36fe</td>\n      <td>/r/realasians/comments/12ft1ri/cruise_gal/</td>\n      <td>https://i.imgur.com/TPq6yuj.jpg</td>\n      <td>ace0f33ad4affe4e0f112bf8dd1f36fe.jpg</td>\n      <td>D:\\data\\images\\realasians\\ace0f33ad4affe4e0f11...</td>\n      <td></td>\n      <td>False</td>\n      <td>False</td>\n    </tr>\n    <tr>\n      <th>114</th>\n      <td>12fst4o</td>\n      <td>realasians</td>\n      <td>dahyunscat</td>\n      <td>Choose one</td>\n      <td></td>\n      <td>959ea8c1956b7ff8a0a4eb61bb161436</td>\n      <td>/r/realasians/comments/12fst4o/choose_one/</td>\n      <td>https://i.redd.it/ye63r1c1nqsa1.jpg</td>\n      <td>959ea8c1956b7ff8a0a4eb61bb161436.jpg</td>\n      <td>D:\\data\\images\\realasians\\959ea8c1956b7ff8a0a4...</td>\n      <td></td>\n      <td>False</td>\n      <td>False</td>\n    </tr>\n    <tr>\n      <th>115</th>\n      <td>12frvjy</td>\n      <td>realasians</td>\n      <td>a_teb89</td>\n      <td>Demure</td>\n      <td></td>\n      <td>9fc9cb3bab671843a80210d6e293bec3</td>\n      <td>/r/realasians/comments/12frvjy/demure/</td>\n      <td>https://i.redd.it/xmjd76awzosa1.jpg</td>\n      <td>9fc9cb3bab671843a80210d6e293bec3.jpg</td>\n      <td>D:\\data\\images\\realasians\\9fc9cb3bab671843a802...</td>\n      <td></td>\n      <td>False</td>\n      <td>False</td>\n    </tr>\n  </tbody>\n</table>\n<p>116 rows × 13 columns</p>\n</div>"
     },
     "metadata": {},
     "output_type": "display_data"
    },
    {
     "name": "stdout",
     "output_type": "stream",
     "text": [
      "CPU times: total: 11.1 s\n",
      "Wall time: 42.9 s\n"
     ]
    }
   ],
   "source": [
    "%%time\n",
    "\n",
    "new_entries_1 = new_entries.copy()\n",
    "\n",
    "tqdm.pandas(desc=\"Fetch-Image\")\n",
    "with ProgressBar():\n",
    "\tnew_entries_1['path'] = new_entries_1.progress_apply(lambda x: fetch_image(x), axis=1)\n",
    "\n",
    "tqdm.pandas(desc=\"Get-Image-Name\")\n",
    "with ProgressBar():\n",
    "\tnew_entries_1['image_name'] = new_entries_1.progress_apply(lambda x: get_image_name(x), axis=1)\n",
    "\n",
    "tqdm.pandas(desc=\"Split-Hash\")\n",
    "with ProgressBar():\n",
    "\tnew_entries_1['hash'] = new_entries_1.progress_apply(lambda x: split_hash(x), axis=1)\n",
    "\n",
    "display(new_entries_1)"
   ],
   "metadata": {
    "collapsed": false,
    "ExecuteTime": {
     "start_time": "2023-04-09T18:01:52.804899Z",
     "end_time": "2023-04-09T18:02:37.310286Z"
    }
   }
  },
  {
   "cell_type": "code",
   "execution_count": 18,
   "outputs": [
    {
     "name": "stderr",
     "output_type": "stream",
     "text": [
      "Create-Thumbnail: 100%|██████████| 116/116 [00:09<00:00, 12.63it/s]\n",
      "Checking-Exists: 100%|██████████| 116/116 [00:00<00:00, 1484.83it/s]\n"
     ]
    },
    {
     "data": {
      "text/plain": "          id   subreddit              author                            title  \\\n0    12gvw57  realasians           phoshodoe                   Like the view?   \n1    12gurwb  realasians        notaverage22  Tank tops are always in fashion   \n2    12gul8c  realasians       ricecooker276                              KS2   \n3    12gtcel  realasians         OOO00O0O000                                🌍   \n4    12gt7fa  realasians         smolnmighty                     Lazy Sundays   \n..       ...         ...                 ...                              ...   \n111  12fu3tr  realasians  Impossible-Act6792                             Cute   \n112  12ftdwo  realasians               sfsfw              Trying on new shirt   \n113  12ft1ri  realasians           SKTminion                       Cruise gal   \n114  12fst4o  realasians          dahyunscat                       Choose one   \n115  12frvjy  realasians             a_teb89                           Demure   \n\n    caption                              hash  \\\n0            29d35ab3ec2380fc8dedc9fd802c5ce2   \n1            4971bc097716eb86431b748eb77fdf81   \n2            1a72d23ec23a94213d1d5d88118da7d8   \n3            44ac6b32fcd9c60aaf8aba61d4d1a9a9   \n4            51a58273487e67a9cdc5c7d2be473e12   \n..      ...                               ...   \n111          10b92a383163fc494c78382a13942705   \n112          35a3e44afa15890b9f62f4e5d8895e50   \n113          ace0f33ad4affe4e0f112bf8dd1f36fe   \n114          959ea8c1956b7ff8a0a4eb61bb161436   \n115          9fc9cb3bab671843a80210d6e293bec3   \n\n                                             permalink  \\\n0        /r/realasians/comments/12gvw57/like_the_view/   \n1    /r/realasians/comments/12gurwb/tank_tops_are_a...   \n2                  /r/realasians/comments/12gul8c/ks2/   \n3                    /r/realasians/comments/12gtcel/_/   \n4         /r/realasians/comments/12gt7fa/lazy_sundays/   \n..                                                 ...   \n111               /r/realasians/comments/12fu3tr/cute/   \n112  /r/realasians/comments/12ftdwo/trying_on_new_s...   \n113         /r/realasians/comments/12ft1ri/cruise_gal/   \n114         /r/realasians/comments/12fst4o/choose_one/   \n115             /r/realasians/comments/12frvjy/demure/   \n\n                            original_url  \\\n0    https://i.redd.it/2j7jg8b0uysa1.jpg   \n1    https://i.redd.it/yrlht9nxmysa1.jpg   \n2    https://i.redd.it/1p32g7l94xsa1.jpg   \n3    https://i.redd.it/i276gl0rdysa1.jpg   \n4    https://i.redd.it/5ljho7qtcysa1.jpg   \n..                                   ...   \n111  https://i.redd.it/61rm6nl4vqsa1.jpg   \n112  https://i.redd.it/xtnkp0q29psa1.jpg   \n113      https://i.imgur.com/TPq6yuj.jpg   \n114  https://i.redd.it/ye63r1c1nqsa1.jpg   \n115  https://i.redd.it/xmjd76awzosa1.jpg   \n\n                               image_name  \\\n0    29d35ab3ec2380fc8dedc9fd802c5ce2.jpg   \n1    4971bc097716eb86431b748eb77fdf81.jpg   \n2    1a72d23ec23a94213d1d5d88118da7d8.jpg   \n3    44ac6b32fcd9c60aaf8aba61d4d1a9a9.jpg   \n4    51a58273487e67a9cdc5c7d2be473e12.jpg   \n..                                    ...   \n111  10b92a383163fc494c78382a13942705.jpg   \n112  35a3e44afa15890b9f62f4e5d8895e50.jpg   \n113  ace0f33ad4affe4e0f112bf8dd1f36fe.jpg   \n114  959ea8c1956b7ff8a0a4eb61bb161436.jpg   \n115  9fc9cb3bab671843a80210d6e293bec3.jpg   \n\n                                                  path  \\\n0    D:\\data\\images\\realasians\\29d35ab3ec2380fc8ded...   \n1    D:\\data\\images\\realasians\\4971bc097716eb86431b...   \n2    D:\\data\\images\\realasians\\1a72d23ec23a94213d1d...   \n3    D:\\data\\images\\realasians\\44ac6b32fcd9c60aaf8a...   \n4    D:\\data\\images\\realasians\\51a58273487e67a9cdc5...   \n..                                                 ...   \n111  D:\\data\\images\\realasians\\10b92a383163fc494c78...   \n112  D:\\data\\images\\realasians\\35a3e44afa15890b9f62...   \n113  D:\\data\\images\\realasians\\ace0f33ad4affe4e0f11...   \n114  D:\\data\\images\\realasians\\959ea8c1956b7ff8a0a4...   \n115  D:\\data\\images\\realasians\\9fc9cb3bab671843a802...   \n\n                                        thumbnail_path  exists curated  \n0    D:\\data\\images\\realasians\\thumbnail\\29d35ab3ec...    True   False  \n1    D:\\data\\images\\realasians\\thumbnail\\4971bc0977...    True   False  \n2    D:\\data\\images\\realasians\\thumbnail\\1a72d23ec2...    True   False  \n3    D:\\data\\images\\realasians\\thumbnail\\44ac6b32fc...    True   False  \n4    D:\\data\\images\\realasians\\thumbnail\\51a5827348...    True   False  \n..                                                 ...     ...     ...  \n111  D:\\data\\images\\realasians\\thumbnail\\10b92a3831...    True   False  \n112  D:\\data\\images\\realasians\\thumbnail\\35a3e44afa...    True   False  \n113  D:\\data\\images\\realasians\\thumbnail\\ace0f33ad4...    True   False  \n114  D:\\data\\images\\realasians\\thumbnail\\959ea8c195...    True   False  \n115  D:\\data\\images\\realasians\\thumbnail\\9fc9cb3bab...    True   False  \n\n[116 rows x 13 columns]",
      "text/html": "<div>\n<style scoped>\n    .dataframe tbody tr th:only-of-type {\n        vertical-align: middle;\n    }\n\n    .dataframe tbody tr th {\n        vertical-align: top;\n    }\n\n    .dataframe thead th {\n        text-align: right;\n    }\n</style>\n<table border=\"1\" class=\"dataframe\">\n  <thead>\n    <tr style=\"text-align: right;\">\n      <th></th>\n      <th>id</th>\n      <th>subreddit</th>\n      <th>author</th>\n      <th>title</th>\n      <th>caption</th>\n      <th>hash</th>\n      <th>permalink</th>\n      <th>original_url</th>\n      <th>image_name</th>\n      <th>path</th>\n      <th>thumbnail_path</th>\n      <th>exists</th>\n      <th>curated</th>\n    </tr>\n  </thead>\n  <tbody>\n    <tr>\n      <th>0</th>\n      <td>12gvw57</td>\n      <td>realasians</td>\n      <td>phoshodoe</td>\n      <td>Like the view?</td>\n      <td></td>\n      <td>29d35ab3ec2380fc8dedc9fd802c5ce2</td>\n      <td>/r/realasians/comments/12gvw57/like_the_view/</td>\n      <td>https://i.redd.it/2j7jg8b0uysa1.jpg</td>\n      <td>29d35ab3ec2380fc8dedc9fd802c5ce2.jpg</td>\n      <td>D:\\data\\images\\realasians\\29d35ab3ec2380fc8ded...</td>\n      <td>D:\\data\\images\\realasians\\thumbnail\\29d35ab3ec...</td>\n      <td>True</td>\n      <td>False</td>\n    </tr>\n    <tr>\n      <th>1</th>\n      <td>12gurwb</td>\n      <td>realasians</td>\n      <td>notaverage22</td>\n      <td>Tank tops are always in fashion</td>\n      <td></td>\n      <td>4971bc097716eb86431b748eb77fdf81</td>\n      <td>/r/realasians/comments/12gurwb/tank_tops_are_a...</td>\n      <td>https://i.redd.it/yrlht9nxmysa1.jpg</td>\n      <td>4971bc097716eb86431b748eb77fdf81.jpg</td>\n      <td>D:\\data\\images\\realasians\\4971bc097716eb86431b...</td>\n      <td>D:\\data\\images\\realasians\\thumbnail\\4971bc0977...</td>\n      <td>True</td>\n      <td>False</td>\n    </tr>\n    <tr>\n      <th>2</th>\n      <td>12gul8c</td>\n      <td>realasians</td>\n      <td>ricecooker276</td>\n      <td>KS2</td>\n      <td></td>\n      <td>1a72d23ec23a94213d1d5d88118da7d8</td>\n      <td>/r/realasians/comments/12gul8c/ks2/</td>\n      <td>https://i.redd.it/1p32g7l94xsa1.jpg</td>\n      <td>1a72d23ec23a94213d1d5d88118da7d8.jpg</td>\n      <td>D:\\data\\images\\realasians\\1a72d23ec23a94213d1d...</td>\n      <td>D:\\data\\images\\realasians\\thumbnail\\1a72d23ec2...</td>\n      <td>True</td>\n      <td>False</td>\n    </tr>\n    <tr>\n      <th>3</th>\n      <td>12gtcel</td>\n      <td>realasians</td>\n      <td>OOO00O0O000</td>\n      <td>🌍</td>\n      <td></td>\n      <td>44ac6b32fcd9c60aaf8aba61d4d1a9a9</td>\n      <td>/r/realasians/comments/12gtcel/_/</td>\n      <td>https://i.redd.it/i276gl0rdysa1.jpg</td>\n      <td>44ac6b32fcd9c60aaf8aba61d4d1a9a9.jpg</td>\n      <td>D:\\data\\images\\realasians\\44ac6b32fcd9c60aaf8a...</td>\n      <td>D:\\data\\images\\realasians\\thumbnail\\44ac6b32fc...</td>\n      <td>True</td>\n      <td>False</td>\n    </tr>\n    <tr>\n      <th>4</th>\n      <td>12gt7fa</td>\n      <td>realasians</td>\n      <td>smolnmighty</td>\n      <td>Lazy Sundays</td>\n      <td></td>\n      <td>51a58273487e67a9cdc5c7d2be473e12</td>\n      <td>/r/realasians/comments/12gt7fa/lazy_sundays/</td>\n      <td>https://i.redd.it/5ljho7qtcysa1.jpg</td>\n      <td>51a58273487e67a9cdc5c7d2be473e12.jpg</td>\n      <td>D:\\data\\images\\realasians\\51a58273487e67a9cdc5...</td>\n      <td>D:\\data\\images\\realasians\\thumbnail\\51a5827348...</td>\n      <td>True</td>\n      <td>False</td>\n    </tr>\n    <tr>\n      <th>...</th>\n      <td>...</td>\n      <td>...</td>\n      <td>...</td>\n      <td>...</td>\n      <td>...</td>\n      <td>...</td>\n      <td>...</td>\n      <td>...</td>\n      <td>...</td>\n      <td>...</td>\n      <td>...</td>\n      <td>...</td>\n      <td>...</td>\n    </tr>\n    <tr>\n      <th>111</th>\n      <td>12fu3tr</td>\n      <td>realasians</td>\n      <td>Impossible-Act6792</td>\n      <td>Cute</td>\n      <td></td>\n      <td>10b92a383163fc494c78382a13942705</td>\n      <td>/r/realasians/comments/12fu3tr/cute/</td>\n      <td>https://i.redd.it/61rm6nl4vqsa1.jpg</td>\n      <td>10b92a383163fc494c78382a13942705.jpg</td>\n      <td>D:\\data\\images\\realasians\\10b92a383163fc494c78...</td>\n      <td>D:\\data\\images\\realasians\\thumbnail\\10b92a3831...</td>\n      <td>True</td>\n      <td>False</td>\n    </tr>\n    <tr>\n      <th>112</th>\n      <td>12ftdwo</td>\n      <td>realasians</td>\n      <td>sfsfw</td>\n      <td>Trying on new shirt</td>\n      <td></td>\n      <td>35a3e44afa15890b9f62f4e5d8895e50</td>\n      <td>/r/realasians/comments/12ftdwo/trying_on_new_s...</td>\n      <td>https://i.redd.it/xtnkp0q29psa1.jpg</td>\n      <td>35a3e44afa15890b9f62f4e5d8895e50.jpg</td>\n      <td>D:\\data\\images\\realasians\\35a3e44afa15890b9f62...</td>\n      <td>D:\\data\\images\\realasians\\thumbnail\\35a3e44afa...</td>\n      <td>True</td>\n      <td>False</td>\n    </tr>\n    <tr>\n      <th>113</th>\n      <td>12ft1ri</td>\n      <td>realasians</td>\n      <td>SKTminion</td>\n      <td>Cruise gal</td>\n      <td></td>\n      <td>ace0f33ad4affe4e0f112bf8dd1f36fe</td>\n      <td>/r/realasians/comments/12ft1ri/cruise_gal/</td>\n      <td>https://i.imgur.com/TPq6yuj.jpg</td>\n      <td>ace0f33ad4affe4e0f112bf8dd1f36fe.jpg</td>\n      <td>D:\\data\\images\\realasians\\ace0f33ad4affe4e0f11...</td>\n      <td>D:\\data\\images\\realasians\\thumbnail\\ace0f33ad4...</td>\n      <td>True</td>\n      <td>False</td>\n    </tr>\n    <tr>\n      <th>114</th>\n      <td>12fst4o</td>\n      <td>realasians</td>\n      <td>dahyunscat</td>\n      <td>Choose one</td>\n      <td></td>\n      <td>959ea8c1956b7ff8a0a4eb61bb161436</td>\n      <td>/r/realasians/comments/12fst4o/choose_one/</td>\n      <td>https://i.redd.it/ye63r1c1nqsa1.jpg</td>\n      <td>959ea8c1956b7ff8a0a4eb61bb161436.jpg</td>\n      <td>D:\\data\\images\\realasians\\959ea8c1956b7ff8a0a4...</td>\n      <td>D:\\data\\images\\realasians\\thumbnail\\959ea8c195...</td>\n      <td>True</td>\n      <td>False</td>\n    </tr>\n    <tr>\n      <th>115</th>\n      <td>12frvjy</td>\n      <td>realasians</td>\n      <td>a_teb89</td>\n      <td>Demure</td>\n      <td></td>\n      <td>9fc9cb3bab671843a80210d6e293bec3</td>\n      <td>/r/realasians/comments/12frvjy/demure/</td>\n      <td>https://i.redd.it/xmjd76awzosa1.jpg</td>\n      <td>9fc9cb3bab671843a80210d6e293bec3.jpg</td>\n      <td>D:\\data\\images\\realasians\\9fc9cb3bab671843a802...</td>\n      <td>D:\\data\\images\\realasians\\thumbnail\\9fc9cb3bab...</td>\n      <td>True</td>\n      <td>False</td>\n    </tr>\n  </tbody>\n</table>\n<p>116 rows × 13 columns</p>\n</div>"
     },
     "metadata": {},
     "output_type": "display_data"
    },
    {
     "name": "stdout",
     "output_type": "stream",
     "text": [
      "CPU times: total: 6.61 s\n",
      "Wall time: 9.39 s\n"
     ]
    }
   ],
   "source": [
    "%%time\n",
    "\n",
    "new_entries_2 = new_entries_1.copy()\n",
    "\n",
    "tqdm.pandas(desc=\"Create-Thumbnail\")\n",
    "with ProgressBar():\n",
    "\tnew_entries_2['thumbnail_path'] = new_entries_2.progress_apply(lambda x: make_thumbnail(x), axis=1)\n",
    "\n",
    "tqdm.pandas(desc=\"Checking-Exists\")\n",
    "with ProgressBar():\n",
    "\tnew_entries_2['exists'] = new_entries_2.progress_apply(lambda x: exists(x), axis=1)\n",
    "\n",
    "display(new_entries_2)"
   ],
   "metadata": {
    "collapsed": false,
    "ExecuteTime": {
     "start_time": "2023-04-09T18:02:37.044630Z",
     "end_time": "2023-04-09T18:02:54.580700Z"
    }
   }
  },
  {
   "cell_type": "code",
   "execution_count": 19,
   "outputs": [
    {
     "name": "stdout",
     "output_type": "stream",
     "text": [
      "CPU times: total: 1min\n",
      "Wall time: 1min 17s\n"
     ]
    }
   ],
   "source": [
    "%%time\n",
    "\n",
    "blip = BlipCaption(1)"
   ],
   "metadata": {
    "collapsed": false,
    "ExecuteTime": {
     "start_time": "2023-04-09T18:02:45.105237Z",
     "end_time": "2023-04-09T18:04:26.397105Z"
    }
   }
  },
  {
   "cell_type": "code",
   "execution_count": 20,
   "outputs": [
    {
     "name": "stdout",
     "output_type": "stream",
     "text": [
      "[                                        ] | 0% Completed | 1.57 ms"
     ]
    },
    {
     "data": {
      "text/plain": "global:   0%|          | 0/6 [00:00<?, ?it/s]",
      "application/vnd.jupyter.widget-view+json": {
       "version_major": 2,
       "version_minor": 0,
       "model_id": "b8201bf3c466475193d43ed0a3df9ce4"
      }
     },
     "metadata": {},
     "output_type": "display_data"
    },
    {
     "name": "stdout",
     "output_type": "stream",
     "text": [
      "[                                        ] | 0% Completed | 58.83 sms"
     ]
    },
    {
     "name": "stderr",
     "output_type": "stream",
     "text": [
      "D:\\workspaces\\General\\venv\\lib\\site-packages\\transformers\\generation\\utils.py:1288: UserWarning: Using `max_length`'s default (20) to control the generation length. This behaviour is deprecated and will be removed from the config in v5 of Transformers -- we recommend using `max_new_tokens` to control the maximum length of the generation.\n",
      "  warnings.warn(\n"
     ]
    },
    {
     "name": "stdout",
     "output_type": "stream",
     "text": [
      "[####################                    ] | 50% Completed | 310.95 s"
     ]
    },
    {
     "name": "stderr",
     "output_type": "stream",
     "text": [
      "D:\\workspaces\\General\\venv\\lib\\site-packages\\transformers\\generation\\utils.py:1288: UserWarning: Using `max_length`'s default (20) to control the generation length. This behaviour is deprecated and will be removed from the config in v5 of Transformers -- we recommend using `max_new_tokens` to control the maximum length of the generation.\n",
      "  warnings.warn(\n"
     ]
    },
    {
     "name": "stdout",
     "output_type": "stream",
     "text": [
      "[##########################              ] | 66% Completed | 317.01 s"
     ]
    },
    {
     "name": "stderr",
     "output_type": "stream",
     "text": [
      "D:\\workspaces\\General\\venv\\lib\\site-packages\\transformers\\generation\\utils.py:1288: UserWarning: Using `max_length`'s default (20) to control the generation length. This behaviour is deprecated and will be removed from the config in v5 of Transformers -- we recommend using `max_new_tokens` to control the maximum length of the generation.\n",
      "  warnings.warn(\n"
     ]
    },
    {
     "name": "stdout",
     "output_type": "stream",
     "text": [
      "[#################################       ] | 83% Completed | 344.77 s"
     ]
    },
    {
     "name": "stderr",
     "output_type": "stream",
     "text": [
      "D:\\workspaces\\General\\venv\\lib\\site-packages\\transformers\\generation\\utils.py:1288: UserWarning: Using `max_length`'s default (20) to control the generation length. This behaviour is deprecated and will be removed from the config in v5 of Transformers -- we recommend using `max_new_tokens` to control the maximum length of the generation.\n",
      "  warnings.warn(\n"
     ]
    },
    {
     "name": "stdout",
     "output_type": "stream",
     "text": [
      "[########################################] | 100% Completed | 354.32 s\n"
     ]
    },
    {
     "data": {
      "text/plain": "          id   subreddit              author                            title  \\\n0    12gvw57  realasians           phoshodoe                   Like the view?   \n1    12gurwb  realasians        notaverage22  Tank tops are always in fashion   \n2    12gul8c  realasians       ricecooker276                              KS2   \n3    12gtcel  realasians         OOO00O0O000                                🌍   \n4    12gt7fa  realasians         smolnmighty                     Lazy Sundays   \n..       ...         ...                 ...                              ...   \n111  12fu3tr  realasians  Impossible-Act6792                             Cute   \n112  12ftdwo  realasians               sfsfw              Trying on new shirt   \n113  12ft1ri  realasians           SKTminion                       Cruise gal   \n114  12fst4o  realasians          dahyunscat                       Choose one   \n115  12frvjy  realasians             a_teb89                           Demure   \n\n                                               caption  \\\n0    araffe woman in a white bikini on a boat in th...   \n1    a close up of a woman in a black top holding a...   \n2         there is a woman taking a selfie in a mirror   \n3    araffe woman in a bikini and a hat taking a se...   \n4    a close up of a person in a black panties with...   \n..                                                 ...   \n111  there is a woman laying on a bed with a white ...   \n112  araffed woman sitting on the floor taking a se...   \n113          araffe woman in a bikini on a cruise ship   \n114  two women in bikinis standing on a beach at night   \n115         there is a woman taking a selfie in a room   \n\n                                 hash  \\\n0    29d35ab3ec2380fc8dedc9fd802c5ce2   \n1    4971bc097716eb86431b748eb77fdf81   \n2    1a72d23ec23a94213d1d5d88118da7d8   \n3    44ac6b32fcd9c60aaf8aba61d4d1a9a9   \n4    51a58273487e67a9cdc5c7d2be473e12   \n..                                ...   \n111  10b92a383163fc494c78382a13942705   \n112  35a3e44afa15890b9f62f4e5d8895e50   \n113  ace0f33ad4affe4e0f112bf8dd1f36fe   \n114  959ea8c1956b7ff8a0a4eb61bb161436   \n115  9fc9cb3bab671843a80210d6e293bec3   \n\n                                             permalink  \\\n0        /r/realasians/comments/12gvw57/like_the_view/   \n1    /r/realasians/comments/12gurwb/tank_tops_are_a...   \n2                  /r/realasians/comments/12gul8c/ks2/   \n3                    /r/realasians/comments/12gtcel/_/   \n4         /r/realasians/comments/12gt7fa/lazy_sundays/   \n..                                                 ...   \n111               /r/realasians/comments/12fu3tr/cute/   \n112  /r/realasians/comments/12ftdwo/trying_on_new_s...   \n113         /r/realasians/comments/12ft1ri/cruise_gal/   \n114         /r/realasians/comments/12fst4o/choose_one/   \n115             /r/realasians/comments/12frvjy/demure/   \n\n                            original_url  \\\n0    https://i.redd.it/2j7jg8b0uysa1.jpg   \n1    https://i.redd.it/yrlht9nxmysa1.jpg   \n2    https://i.redd.it/1p32g7l94xsa1.jpg   \n3    https://i.redd.it/i276gl0rdysa1.jpg   \n4    https://i.redd.it/5ljho7qtcysa1.jpg   \n..                                   ...   \n111  https://i.redd.it/61rm6nl4vqsa1.jpg   \n112  https://i.redd.it/xtnkp0q29psa1.jpg   \n113      https://i.imgur.com/TPq6yuj.jpg   \n114  https://i.redd.it/ye63r1c1nqsa1.jpg   \n115  https://i.redd.it/xmjd76awzosa1.jpg   \n\n                               image_name  \\\n0    29d35ab3ec2380fc8dedc9fd802c5ce2.jpg   \n1    4971bc097716eb86431b748eb77fdf81.jpg   \n2    1a72d23ec23a94213d1d5d88118da7d8.jpg   \n3    44ac6b32fcd9c60aaf8aba61d4d1a9a9.jpg   \n4    51a58273487e67a9cdc5c7d2be473e12.jpg   \n..                                    ...   \n111  10b92a383163fc494c78382a13942705.jpg   \n112  35a3e44afa15890b9f62f4e5d8895e50.jpg   \n113  ace0f33ad4affe4e0f112bf8dd1f36fe.jpg   \n114  959ea8c1956b7ff8a0a4eb61bb161436.jpg   \n115  9fc9cb3bab671843a80210d6e293bec3.jpg   \n\n                                                  path  \\\n0    D:\\data\\images\\realasians\\29d35ab3ec2380fc8ded...   \n1    D:\\data\\images\\realasians\\4971bc097716eb86431b...   \n2    D:\\data\\images\\realasians\\1a72d23ec23a94213d1d...   \n3    D:\\data\\images\\realasians\\44ac6b32fcd9c60aaf8a...   \n4    D:\\data\\images\\realasians\\51a58273487e67a9cdc5...   \n..                                                 ...   \n111  D:\\data\\images\\realasians\\10b92a383163fc494c78...   \n112  D:\\data\\images\\realasians\\35a3e44afa15890b9f62...   \n113  D:\\data\\images\\realasians\\ace0f33ad4affe4e0f11...   \n114  D:\\data\\images\\realasians\\959ea8c1956b7ff8a0a4...   \n115  D:\\data\\images\\realasians\\9fc9cb3bab671843a802...   \n\n                                        thumbnail_path  exists curated  \n0    D:\\data\\images\\realasians\\thumbnail\\29d35ab3ec...    True   False  \n1    D:\\data\\images\\realasians\\thumbnail\\4971bc0977...    True   False  \n2    D:\\data\\images\\realasians\\thumbnail\\1a72d23ec2...    True   False  \n3    D:\\data\\images\\realasians\\thumbnail\\44ac6b32fc...    True   False  \n4    D:\\data\\images\\realasians\\thumbnail\\51a5827348...    True   False  \n..                                                 ...     ...     ...  \n111  D:\\data\\images\\realasians\\thumbnail\\10b92a3831...    True   False  \n112  D:\\data\\images\\realasians\\thumbnail\\35a3e44afa...    True   False  \n113  D:\\data\\images\\realasians\\thumbnail\\ace0f33ad4...    True   False  \n114  D:\\data\\images\\realasians\\thumbnail\\959ea8c195...    True   False  \n115  D:\\data\\images\\realasians\\thumbnail\\9fc9cb3bab...    True   False  \n\n[116 rows x 13 columns]",
      "text/html": "<div>\n<style scoped>\n    .dataframe tbody tr th:only-of-type {\n        vertical-align: middle;\n    }\n\n    .dataframe tbody tr th {\n        vertical-align: top;\n    }\n\n    .dataframe thead th {\n        text-align: right;\n    }\n</style>\n<table border=\"1\" class=\"dataframe\">\n  <thead>\n    <tr style=\"text-align: right;\">\n      <th></th>\n      <th>id</th>\n      <th>subreddit</th>\n      <th>author</th>\n      <th>title</th>\n      <th>caption</th>\n      <th>hash</th>\n      <th>permalink</th>\n      <th>original_url</th>\n      <th>image_name</th>\n      <th>path</th>\n      <th>thumbnail_path</th>\n      <th>exists</th>\n      <th>curated</th>\n    </tr>\n  </thead>\n  <tbody>\n    <tr>\n      <th>0</th>\n      <td>12gvw57</td>\n      <td>realasians</td>\n      <td>phoshodoe</td>\n      <td>Like the view?</td>\n      <td>araffe woman in a white bikini on a boat in th...</td>\n      <td>29d35ab3ec2380fc8dedc9fd802c5ce2</td>\n      <td>/r/realasians/comments/12gvw57/like_the_view/</td>\n      <td>https://i.redd.it/2j7jg8b0uysa1.jpg</td>\n      <td>29d35ab3ec2380fc8dedc9fd802c5ce2.jpg</td>\n      <td>D:\\data\\images\\realasians\\29d35ab3ec2380fc8ded...</td>\n      <td>D:\\data\\images\\realasians\\thumbnail\\29d35ab3ec...</td>\n      <td>True</td>\n      <td>False</td>\n    </tr>\n    <tr>\n      <th>1</th>\n      <td>12gurwb</td>\n      <td>realasians</td>\n      <td>notaverage22</td>\n      <td>Tank tops are always in fashion</td>\n      <td>a close up of a woman in a black top holding a...</td>\n      <td>4971bc097716eb86431b748eb77fdf81</td>\n      <td>/r/realasians/comments/12gurwb/tank_tops_are_a...</td>\n      <td>https://i.redd.it/yrlht9nxmysa1.jpg</td>\n      <td>4971bc097716eb86431b748eb77fdf81.jpg</td>\n      <td>D:\\data\\images\\realasians\\4971bc097716eb86431b...</td>\n      <td>D:\\data\\images\\realasians\\thumbnail\\4971bc0977...</td>\n      <td>True</td>\n      <td>False</td>\n    </tr>\n    <tr>\n      <th>2</th>\n      <td>12gul8c</td>\n      <td>realasians</td>\n      <td>ricecooker276</td>\n      <td>KS2</td>\n      <td>there is a woman taking a selfie in a mirror</td>\n      <td>1a72d23ec23a94213d1d5d88118da7d8</td>\n      <td>/r/realasians/comments/12gul8c/ks2/</td>\n      <td>https://i.redd.it/1p32g7l94xsa1.jpg</td>\n      <td>1a72d23ec23a94213d1d5d88118da7d8.jpg</td>\n      <td>D:\\data\\images\\realasians\\1a72d23ec23a94213d1d...</td>\n      <td>D:\\data\\images\\realasians\\thumbnail\\1a72d23ec2...</td>\n      <td>True</td>\n      <td>False</td>\n    </tr>\n    <tr>\n      <th>3</th>\n      <td>12gtcel</td>\n      <td>realasians</td>\n      <td>OOO00O0O000</td>\n      <td>🌍</td>\n      <td>araffe woman in a bikini and a hat taking a se...</td>\n      <td>44ac6b32fcd9c60aaf8aba61d4d1a9a9</td>\n      <td>/r/realasians/comments/12gtcel/_/</td>\n      <td>https://i.redd.it/i276gl0rdysa1.jpg</td>\n      <td>44ac6b32fcd9c60aaf8aba61d4d1a9a9.jpg</td>\n      <td>D:\\data\\images\\realasians\\44ac6b32fcd9c60aaf8a...</td>\n      <td>D:\\data\\images\\realasians\\thumbnail\\44ac6b32fc...</td>\n      <td>True</td>\n      <td>False</td>\n    </tr>\n    <tr>\n      <th>4</th>\n      <td>12gt7fa</td>\n      <td>realasians</td>\n      <td>smolnmighty</td>\n      <td>Lazy Sundays</td>\n      <td>a close up of a person in a black panties with...</td>\n      <td>51a58273487e67a9cdc5c7d2be473e12</td>\n      <td>/r/realasians/comments/12gt7fa/lazy_sundays/</td>\n      <td>https://i.redd.it/5ljho7qtcysa1.jpg</td>\n      <td>51a58273487e67a9cdc5c7d2be473e12.jpg</td>\n      <td>D:\\data\\images\\realasians\\51a58273487e67a9cdc5...</td>\n      <td>D:\\data\\images\\realasians\\thumbnail\\51a5827348...</td>\n      <td>True</td>\n      <td>False</td>\n    </tr>\n    <tr>\n      <th>...</th>\n      <td>...</td>\n      <td>...</td>\n      <td>...</td>\n      <td>...</td>\n      <td>...</td>\n      <td>...</td>\n      <td>...</td>\n      <td>...</td>\n      <td>...</td>\n      <td>...</td>\n      <td>...</td>\n      <td>...</td>\n      <td>...</td>\n    </tr>\n    <tr>\n      <th>111</th>\n      <td>12fu3tr</td>\n      <td>realasians</td>\n      <td>Impossible-Act6792</td>\n      <td>Cute</td>\n      <td>there is a woman laying on a bed with a white ...</td>\n      <td>10b92a383163fc494c78382a13942705</td>\n      <td>/r/realasians/comments/12fu3tr/cute/</td>\n      <td>https://i.redd.it/61rm6nl4vqsa1.jpg</td>\n      <td>10b92a383163fc494c78382a13942705.jpg</td>\n      <td>D:\\data\\images\\realasians\\10b92a383163fc494c78...</td>\n      <td>D:\\data\\images\\realasians\\thumbnail\\10b92a3831...</td>\n      <td>True</td>\n      <td>False</td>\n    </tr>\n    <tr>\n      <th>112</th>\n      <td>12ftdwo</td>\n      <td>realasians</td>\n      <td>sfsfw</td>\n      <td>Trying on new shirt</td>\n      <td>araffed woman sitting on the floor taking a se...</td>\n      <td>35a3e44afa15890b9f62f4e5d8895e50</td>\n      <td>/r/realasians/comments/12ftdwo/trying_on_new_s...</td>\n      <td>https://i.redd.it/xtnkp0q29psa1.jpg</td>\n      <td>35a3e44afa15890b9f62f4e5d8895e50.jpg</td>\n      <td>D:\\data\\images\\realasians\\35a3e44afa15890b9f62...</td>\n      <td>D:\\data\\images\\realasians\\thumbnail\\35a3e44afa...</td>\n      <td>True</td>\n      <td>False</td>\n    </tr>\n    <tr>\n      <th>113</th>\n      <td>12ft1ri</td>\n      <td>realasians</td>\n      <td>SKTminion</td>\n      <td>Cruise gal</td>\n      <td>araffe woman in a bikini on a cruise ship</td>\n      <td>ace0f33ad4affe4e0f112bf8dd1f36fe</td>\n      <td>/r/realasians/comments/12ft1ri/cruise_gal/</td>\n      <td>https://i.imgur.com/TPq6yuj.jpg</td>\n      <td>ace0f33ad4affe4e0f112bf8dd1f36fe.jpg</td>\n      <td>D:\\data\\images\\realasians\\ace0f33ad4affe4e0f11...</td>\n      <td>D:\\data\\images\\realasians\\thumbnail\\ace0f33ad4...</td>\n      <td>True</td>\n      <td>False</td>\n    </tr>\n    <tr>\n      <th>114</th>\n      <td>12fst4o</td>\n      <td>realasians</td>\n      <td>dahyunscat</td>\n      <td>Choose one</td>\n      <td>two women in bikinis standing on a beach at night</td>\n      <td>959ea8c1956b7ff8a0a4eb61bb161436</td>\n      <td>/r/realasians/comments/12fst4o/choose_one/</td>\n      <td>https://i.redd.it/ye63r1c1nqsa1.jpg</td>\n      <td>959ea8c1956b7ff8a0a4eb61bb161436.jpg</td>\n      <td>D:\\data\\images\\realasians\\959ea8c1956b7ff8a0a4...</td>\n      <td>D:\\data\\images\\realasians\\thumbnail\\959ea8c195...</td>\n      <td>True</td>\n      <td>False</td>\n    </tr>\n    <tr>\n      <th>115</th>\n      <td>12frvjy</td>\n      <td>realasians</td>\n      <td>a_teb89</td>\n      <td>Demure</td>\n      <td>there is a woman taking a selfie in a room</td>\n      <td>9fc9cb3bab671843a80210d6e293bec3</td>\n      <td>/r/realasians/comments/12frvjy/demure/</td>\n      <td>https://i.redd.it/xmjd76awzosa1.jpg</td>\n      <td>9fc9cb3bab671843a80210d6e293bec3.jpg</td>\n      <td>D:\\data\\images\\realasians\\9fc9cb3bab671843a802...</td>\n      <td>D:\\data\\images\\realasians\\thumbnail\\9fc9cb3bab...</td>\n      <td>True</td>\n      <td>False</td>\n    </tr>\n  </tbody>\n</table>\n<p>116 rows × 13 columns</p>\n</div>"
     },
     "metadata": {},
     "output_type": "display_data"
    },
    {
     "name": "stdout",
     "output_type": "stream",
     "text": [
      "CPU times: total: 6min 11s\n",
      "Wall time: 6min 48s\n"
     ]
    }
   ],
   "source": [
    "%%time\n",
    "\n",
    "new_entries_final = new_entries_2.copy()\n",
    "torch.cuda.empty_cache()\n",
    "\n",
    "with pbar:\n",
    "\tddf = dd.from_pandas(new_entries_final, npartitions=6)\n",
    "\tnew_entries_final['caption'] = ddf.apply(lambda x: caption_image(x, blip), meta=('str', object), axis=1).compute()\n",
    "\n",
    "torch.cuda.empty_cache()\n",
    "\n",
    "display(new_entries_final)"
   ],
   "metadata": {
    "collapsed": false,
    "ExecuteTime": {
     "start_time": "2023-04-09T18:04:07.287036Z",
     "end_time": "2023-04-09T18:10:51.180029Z"
    }
   }
  },
  {
   "cell_type": "code",
   "execution_count": 21,
   "outputs": [
    {
     "data": {
      "text/plain": "          id   subreddit              author                            title  \\\n0    12gvw57  realasians           phoshodoe                   Like the view?   \n1    12gurwb  realasians        notaverage22  Tank tops are always in fashion   \n2    12gul8c  realasians       ricecooker276                              KS2   \n3    12gtcel  realasians         OOO00O0O000                                🌍   \n4    12gt7fa  realasians         smolnmighty                     Lazy Sundays   \n..       ...         ...                 ...                              ...   \n111  12fu3tr  realasians  Impossible-Act6792                             Cute   \n112  12ftdwo  realasians               sfsfw              Trying on new shirt   \n113  12ft1ri  realasians           SKTminion                       Cruise gal   \n114  12fst4o  realasians          dahyunscat                       Choose one   \n115  12frvjy  realasians             a_teb89                           Demure   \n\n                                               caption  \\\n0    araffe woman in a white bikini on a boat in th...   \n1    a close up of a woman in a black top holding a...   \n2         there is a woman taking a selfie in a mirror   \n3    araffe woman in a bikini and a hat taking a se...   \n4    a close up of a person in a black panties with...   \n..                                                 ...   \n111  there is a woman laying on a bed with a white ...   \n112  araffed woman sitting on the floor taking a se...   \n113          araffe woman in a bikini on a cruise ship   \n114  two women in bikinis standing on a beach at night   \n115         there is a woman taking a selfie in a room   \n\n                                 hash  \\\n0    29d35ab3ec2380fc8dedc9fd802c5ce2   \n1    4971bc097716eb86431b748eb77fdf81   \n2    1a72d23ec23a94213d1d5d88118da7d8   \n3    44ac6b32fcd9c60aaf8aba61d4d1a9a9   \n4    51a58273487e67a9cdc5c7d2be473e12   \n..                                ...   \n111  10b92a383163fc494c78382a13942705   \n112  35a3e44afa15890b9f62f4e5d8895e50   \n113  ace0f33ad4affe4e0f112bf8dd1f36fe   \n114  959ea8c1956b7ff8a0a4eb61bb161436   \n115  9fc9cb3bab671843a80210d6e293bec3   \n\n                                             permalink  \\\n0        /r/realasians/comments/12gvw57/like_the_view/   \n1    /r/realasians/comments/12gurwb/tank_tops_are_a...   \n2                  /r/realasians/comments/12gul8c/ks2/   \n3                    /r/realasians/comments/12gtcel/_/   \n4         /r/realasians/comments/12gt7fa/lazy_sundays/   \n..                                                 ...   \n111               /r/realasians/comments/12fu3tr/cute/   \n112  /r/realasians/comments/12ftdwo/trying_on_new_s...   \n113         /r/realasians/comments/12ft1ri/cruise_gal/   \n114         /r/realasians/comments/12fst4o/choose_one/   \n115             /r/realasians/comments/12frvjy/demure/   \n\n                            original_url  \\\n0    https://i.redd.it/2j7jg8b0uysa1.jpg   \n1    https://i.redd.it/yrlht9nxmysa1.jpg   \n2    https://i.redd.it/1p32g7l94xsa1.jpg   \n3    https://i.redd.it/i276gl0rdysa1.jpg   \n4    https://i.redd.it/5ljho7qtcysa1.jpg   \n..                                   ...   \n111  https://i.redd.it/61rm6nl4vqsa1.jpg   \n112  https://i.redd.it/xtnkp0q29psa1.jpg   \n113      https://i.imgur.com/TPq6yuj.jpg   \n114  https://i.redd.it/ye63r1c1nqsa1.jpg   \n115  https://i.redd.it/xmjd76awzosa1.jpg   \n\n                               image_name  \\\n0    29d35ab3ec2380fc8dedc9fd802c5ce2.jpg   \n1    4971bc097716eb86431b748eb77fdf81.jpg   \n2    1a72d23ec23a94213d1d5d88118da7d8.jpg   \n3    44ac6b32fcd9c60aaf8aba61d4d1a9a9.jpg   \n4    51a58273487e67a9cdc5c7d2be473e12.jpg   \n..                                    ...   \n111  10b92a383163fc494c78382a13942705.jpg   \n112  35a3e44afa15890b9f62f4e5d8895e50.jpg   \n113  ace0f33ad4affe4e0f112bf8dd1f36fe.jpg   \n114  959ea8c1956b7ff8a0a4eb61bb161436.jpg   \n115  9fc9cb3bab671843a80210d6e293bec3.jpg   \n\n                                                  path  \\\n0    D:\\data\\images\\realasians\\29d35ab3ec2380fc8ded...   \n1    D:\\data\\images\\realasians\\4971bc097716eb86431b...   \n2    D:\\data\\images\\realasians\\1a72d23ec23a94213d1d...   \n3    D:\\data\\images\\realasians\\44ac6b32fcd9c60aaf8a...   \n4    D:\\data\\images\\realasians\\51a58273487e67a9cdc5...   \n..                                                 ...   \n111  D:\\data\\images\\realasians\\10b92a383163fc494c78...   \n112  D:\\data\\images\\realasians\\35a3e44afa15890b9f62...   \n113  D:\\data\\images\\realasians\\ace0f33ad4affe4e0f11...   \n114  D:\\data\\images\\realasians\\959ea8c1956b7ff8a0a4...   \n115  D:\\data\\images\\realasians\\9fc9cb3bab671843a802...   \n\n                                        thumbnail_path  exists curated  \n0    D:\\data\\images\\realasians\\thumbnail\\29d35ab3ec...    True   False  \n1    D:\\data\\images\\realasians\\thumbnail\\4971bc0977...    True   False  \n2    D:\\data\\images\\realasians\\thumbnail\\1a72d23ec2...    True   False  \n3    D:\\data\\images\\realasians\\thumbnail\\44ac6b32fc...    True   False  \n4    D:\\data\\images\\realasians\\thumbnail\\51a5827348...    True   False  \n..                                                 ...     ...     ...  \n111  D:\\data\\images\\realasians\\thumbnail\\10b92a3831...    True   False  \n112  D:\\data\\images\\realasians\\thumbnail\\35a3e44afa...    True   False  \n113  D:\\data\\images\\realasians\\thumbnail\\ace0f33ad4...    True   False  \n114  D:\\data\\images\\realasians\\thumbnail\\959ea8c195...    True   False  \n115  D:\\data\\images\\realasians\\thumbnail\\9fc9cb3bab...    True   False  \n\n[116 rows x 13 columns]",
      "text/html": "<div>\n<style scoped>\n    .dataframe tbody tr th:only-of-type {\n        vertical-align: middle;\n    }\n\n    .dataframe tbody tr th {\n        vertical-align: top;\n    }\n\n    .dataframe thead th {\n        text-align: right;\n    }\n</style>\n<table border=\"1\" class=\"dataframe\">\n  <thead>\n    <tr style=\"text-align: right;\">\n      <th></th>\n      <th>id</th>\n      <th>subreddit</th>\n      <th>author</th>\n      <th>title</th>\n      <th>caption</th>\n      <th>hash</th>\n      <th>permalink</th>\n      <th>original_url</th>\n      <th>image_name</th>\n      <th>path</th>\n      <th>thumbnail_path</th>\n      <th>exists</th>\n      <th>curated</th>\n    </tr>\n  </thead>\n  <tbody>\n    <tr>\n      <th>0</th>\n      <td>12gvw57</td>\n      <td>realasians</td>\n      <td>phoshodoe</td>\n      <td>Like the view?</td>\n      <td>araffe woman in a white bikini on a boat in th...</td>\n      <td>29d35ab3ec2380fc8dedc9fd802c5ce2</td>\n      <td>/r/realasians/comments/12gvw57/like_the_view/</td>\n      <td>https://i.redd.it/2j7jg8b0uysa1.jpg</td>\n      <td>29d35ab3ec2380fc8dedc9fd802c5ce2.jpg</td>\n      <td>D:\\data\\images\\realasians\\29d35ab3ec2380fc8ded...</td>\n      <td>D:\\data\\images\\realasians\\thumbnail\\29d35ab3ec...</td>\n      <td>True</td>\n      <td>False</td>\n    </tr>\n    <tr>\n      <th>1</th>\n      <td>12gurwb</td>\n      <td>realasians</td>\n      <td>notaverage22</td>\n      <td>Tank tops are always in fashion</td>\n      <td>a close up of a woman in a black top holding a...</td>\n      <td>4971bc097716eb86431b748eb77fdf81</td>\n      <td>/r/realasians/comments/12gurwb/tank_tops_are_a...</td>\n      <td>https://i.redd.it/yrlht9nxmysa1.jpg</td>\n      <td>4971bc097716eb86431b748eb77fdf81.jpg</td>\n      <td>D:\\data\\images\\realasians\\4971bc097716eb86431b...</td>\n      <td>D:\\data\\images\\realasians\\thumbnail\\4971bc0977...</td>\n      <td>True</td>\n      <td>False</td>\n    </tr>\n    <tr>\n      <th>2</th>\n      <td>12gul8c</td>\n      <td>realasians</td>\n      <td>ricecooker276</td>\n      <td>KS2</td>\n      <td>there is a woman taking a selfie in a mirror</td>\n      <td>1a72d23ec23a94213d1d5d88118da7d8</td>\n      <td>/r/realasians/comments/12gul8c/ks2/</td>\n      <td>https://i.redd.it/1p32g7l94xsa1.jpg</td>\n      <td>1a72d23ec23a94213d1d5d88118da7d8.jpg</td>\n      <td>D:\\data\\images\\realasians\\1a72d23ec23a94213d1d...</td>\n      <td>D:\\data\\images\\realasians\\thumbnail\\1a72d23ec2...</td>\n      <td>True</td>\n      <td>False</td>\n    </tr>\n    <tr>\n      <th>3</th>\n      <td>12gtcel</td>\n      <td>realasians</td>\n      <td>OOO00O0O000</td>\n      <td>🌍</td>\n      <td>araffe woman in a bikini and a hat taking a se...</td>\n      <td>44ac6b32fcd9c60aaf8aba61d4d1a9a9</td>\n      <td>/r/realasians/comments/12gtcel/_/</td>\n      <td>https://i.redd.it/i276gl0rdysa1.jpg</td>\n      <td>44ac6b32fcd9c60aaf8aba61d4d1a9a9.jpg</td>\n      <td>D:\\data\\images\\realasians\\44ac6b32fcd9c60aaf8a...</td>\n      <td>D:\\data\\images\\realasians\\thumbnail\\44ac6b32fc...</td>\n      <td>True</td>\n      <td>False</td>\n    </tr>\n    <tr>\n      <th>4</th>\n      <td>12gt7fa</td>\n      <td>realasians</td>\n      <td>smolnmighty</td>\n      <td>Lazy Sundays</td>\n      <td>a close up of a person in a black panties with...</td>\n      <td>51a58273487e67a9cdc5c7d2be473e12</td>\n      <td>/r/realasians/comments/12gt7fa/lazy_sundays/</td>\n      <td>https://i.redd.it/5ljho7qtcysa1.jpg</td>\n      <td>51a58273487e67a9cdc5c7d2be473e12.jpg</td>\n      <td>D:\\data\\images\\realasians\\51a58273487e67a9cdc5...</td>\n      <td>D:\\data\\images\\realasians\\thumbnail\\51a5827348...</td>\n      <td>True</td>\n      <td>False</td>\n    </tr>\n    <tr>\n      <th>...</th>\n      <td>...</td>\n      <td>...</td>\n      <td>...</td>\n      <td>...</td>\n      <td>...</td>\n      <td>...</td>\n      <td>...</td>\n      <td>...</td>\n      <td>...</td>\n      <td>...</td>\n      <td>...</td>\n      <td>...</td>\n      <td>...</td>\n    </tr>\n    <tr>\n      <th>111</th>\n      <td>12fu3tr</td>\n      <td>realasians</td>\n      <td>Impossible-Act6792</td>\n      <td>Cute</td>\n      <td>there is a woman laying on a bed with a white ...</td>\n      <td>10b92a383163fc494c78382a13942705</td>\n      <td>/r/realasians/comments/12fu3tr/cute/</td>\n      <td>https://i.redd.it/61rm6nl4vqsa1.jpg</td>\n      <td>10b92a383163fc494c78382a13942705.jpg</td>\n      <td>D:\\data\\images\\realasians\\10b92a383163fc494c78...</td>\n      <td>D:\\data\\images\\realasians\\thumbnail\\10b92a3831...</td>\n      <td>True</td>\n      <td>False</td>\n    </tr>\n    <tr>\n      <th>112</th>\n      <td>12ftdwo</td>\n      <td>realasians</td>\n      <td>sfsfw</td>\n      <td>Trying on new shirt</td>\n      <td>araffed woman sitting on the floor taking a se...</td>\n      <td>35a3e44afa15890b9f62f4e5d8895e50</td>\n      <td>/r/realasians/comments/12ftdwo/trying_on_new_s...</td>\n      <td>https://i.redd.it/xtnkp0q29psa1.jpg</td>\n      <td>35a3e44afa15890b9f62f4e5d8895e50.jpg</td>\n      <td>D:\\data\\images\\realasians\\35a3e44afa15890b9f62...</td>\n      <td>D:\\data\\images\\realasians\\thumbnail\\35a3e44afa...</td>\n      <td>True</td>\n      <td>False</td>\n    </tr>\n    <tr>\n      <th>113</th>\n      <td>12ft1ri</td>\n      <td>realasians</td>\n      <td>SKTminion</td>\n      <td>Cruise gal</td>\n      <td>araffe woman in a bikini on a cruise ship</td>\n      <td>ace0f33ad4affe4e0f112bf8dd1f36fe</td>\n      <td>/r/realasians/comments/12ft1ri/cruise_gal/</td>\n      <td>https://i.imgur.com/TPq6yuj.jpg</td>\n      <td>ace0f33ad4affe4e0f112bf8dd1f36fe.jpg</td>\n      <td>D:\\data\\images\\realasians\\ace0f33ad4affe4e0f11...</td>\n      <td>D:\\data\\images\\realasians\\thumbnail\\ace0f33ad4...</td>\n      <td>True</td>\n      <td>False</td>\n    </tr>\n    <tr>\n      <th>114</th>\n      <td>12fst4o</td>\n      <td>realasians</td>\n      <td>dahyunscat</td>\n      <td>Choose one</td>\n      <td>two women in bikinis standing on a beach at night</td>\n      <td>959ea8c1956b7ff8a0a4eb61bb161436</td>\n      <td>/r/realasians/comments/12fst4o/choose_one/</td>\n      <td>https://i.redd.it/ye63r1c1nqsa1.jpg</td>\n      <td>959ea8c1956b7ff8a0a4eb61bb161436.jpg</td>\n      <td>D:\\data\\images\\realasians\\959ea8c1956b7ff8a0a4...</td>\n      <td>D:\\data\\images\\realasians\\thumbnail\\959ea8c195...</td>\n      <td>True</td>\n      <td>False</td>\n    </tr>\n    <tr>\n      <th>115</th>\n      <td>12frvjy</td>\n      <td>realasians</td>\n      <td>a_teb89</td>\n      <td>Demure</td>\n      <td>there is a woman taking a selfie in a room</td>\n      <td>9fc9cb3bab671843a80210d6e293bec3</td>\n      <td>/r/realasians/comments/12frvjy/demure/</td>\n      <td>https://i.redd.it/xmjd76awzosa1.jpg</td>\n      <td>9fc9cb3bab671843a80210d6e293bec3.jpg</td>\n      <td>D:\\data\\images\\realasians\\9fc9cb3bab671843a802...</td>\n      <td>D:\\data\\images\\realasians\\thumbnail\\9fc9cb3bab...</td>\n      <td>True</td>\n      <td>False</td>\n    </tr>\n  </tbody>\n</table>\n<p>116 rows × 13 columns</p>\n</div>"
     },
     "metadata": {},
     "output_type": "display_data"
    },
    {
     "name": "stdout",
     "output_type": "stream",
     "text": [
      "CPU times: total: 46.9 ms\n",
      "Wall time: 243 ms\n"
     ]
    }
   ],
   "source": [
    "%%time\n",
    "\n",
    "tqdm.pandas(desc=\"Filtering\")\n",
    "writeable_entries = new_entries_final\\\n",
    "\t.where(~new_entries_final['id'].isin(extant_data['id']))\\\n",
    "\t.dropna(how='all')\\\n",
    "\t.reset_index()\\\n",
    "\t.drop('index', axis=1)\n",
    "\n",
    "display(writeable_entries)"
   ],
   "metadata": {
    "collapsed": false,
    "ExecuteTime": {
     "start_time": "2023-04-09T18:10:51.180029Z",
     "end_time": "2023-04-09T18:10:51.923921Z"
    }
   }
  },
  {
   "cell_type": "code",
   "execution_count": 22,
   "outputs": [
    {
     "data": {
      "text/plain": "          id         subreddit                author  \\\n0    128z5ns       celebrities           A-Sexy-Name   \n1    11yk8db  prettyasiangirls          MisoShiru520   \n2    11hfioi     KoreanHotties  Majestic_Painter8660   \n3    1000mjs         spaceporn    MorningStar_imangi   \n4    1000qpd         spaceporn    MorningStar_imangi   \n..       ...               ...                   ...   \n111  12fu3tr        realasians    Impossible-Act6792   \n112  12ftdwo        realasians                 sfsfw   \n113  12ft1ri        realasians             SKTminion   \n114  12fst4o        realasians            dahyunscat   \n115  12frvjy        realasians               a_teb89   \n\n                             title  \\\n0                     Rachel Weisz   \n1                          Library   \n2                 Underboob bikini   \n3    Northern Lights above Lofoten   \n4                    Viking Lights   \n..                             ...   \n111                           Cute   \n112            Trying on new shirt   \n113                     Cruise gal   \n114                     Choose one   \n115                         Demure   \n\n                                               caption  \\\n0    cars are parked on the side of the road in the...   \n1    blonde woman with blonde hair and tattoos on h...   \n2    a man with a beard and a beard sitting in fron...   \n3    a view of a view of a large green and purple a...   \n4    a scene of a boat is sitting on the shore of a...   \n..                                                 ...   \n111  there is a woman laying on a bed with a white ...   \n112  araffed woman sitting on the floor taking a se...   \n113          araffe woman in a bikini on a cruise ship   \n114  two women in bikinis standing on a beach at night   \n115         there is a woman taking a selfie in a room   \n\n                                 hash  \\\n0    f09b1c0c5dea50c934081a04c83d4d33   \n1    9d5b7331b941ecf3fdbc8ad322303825   \n2    a154a56b1b87cf3a0bc93600c86e4585   \n3    2c39ce1290fba541abd0b004b09da6b2   \n4    0f72de47c69ff50eca5fa3990215f4ac   \n..                                ...   \n111  10b92a383163fc494c78382a13942705   \n112  35a3e44afa15890b9f62f4e5d8895e50   \n113  ace0f33ad4affe4e0f112bf8dd1f36fe   \n114  959ea8c1956b7ff8a0a4eb61bb161436   \n115  9fc9cb3bab671843a80210d6e293bec3   \n\n                                             permalink  \\\n0        /r/celebrities/comments/128z5ns/rachel_weisz/   \n1        /r/prettyasiangirls/comments/11yk8db/library/   \n2    /r/KoreanHotties/comments/11hfioi/underboob_bi...   \n3    /r/spaceporn/comments/1000mjs/northern_lights_...   \n4         /r/spaceporn/comments/1000qpd/viking_lights/   \n..                                                 ...   \n111               /r/realasians/comments/12fu3tr/cute/   \n112  /r/realasians/comments/12ftdwo/trying_on_new_s...   \n113         /r/realasians/comments/12ft1ri/cruise_gal/   \n114         /r/realasians/comments/12fst4o/choose_one/   \n115             /r/realasians/comments/12frvjy/demure/   \n\n                            original_url  \\\n0    https://i.redd.it/nv80afddacra1.jpg   \n1    https://i.redd.it/ht4d2wuusapa1.jpg   \n2    https://i.redd.it/cimr17q84jla1.jpg   \n3    https://i.redd.it/7s5aafaqkb9a1.jpg   \n4    https://i.redd.it/abojw7lqlb9a1.jpg   \n..                                   ...   \n111  https://i.redd.it/61rm6nl4vqsa1.jpg   \n112  https://i.redd.it/xtnkp0q29psa1.jpg   \n113      https://i.imgur.com/TPq6yuj.jpg   \n114  https://i.redd.it/ye63r1c1nqsa1.jpg   \n115  https://i.redd.it/xmjd76awzosa1.jpg   \n\n                               image_name  \\\n0    f09b1c0c5dea50c934081a04c83d4d33.jpg   \n1    9d5b7331b941ecf3fdbc8ad322303825.jpg   \n2    a154a56b1b87cf3a0bc93600c86e4585.jpg   \n3                       7s5aafaqkb9a1.jpg   \n4                       abojw7lqlb9a1.jpg   \n..                                    ...   \n111  10b92a383163fc494c78382a13942705.jpg   \n112  35a3e44afa15890b9f62f4e5d8895e50.jpg   \n113  ace0f33ad4affe4e0f112bf8dd1f36fe.jpg   \n114  959ea8c1956b7ff8a0a4eb61bb161436.jpg   \n115  9fc9cb3bab671843a80210d6e293bec3.jpg   \n\n                                                  path  \\\n0    D:\\data\\images\\celebrities\\f09b1c0c5dea50c9340...   \n1    D:\\data\\images\\prettyasiangirls\\9d5b7331b941ec...   \n2    D:\\data\\images\\KoreanHotties\\a154a56b1b87cf3a0...   \n3             /data/images/spaceporn/7s5aafaqkb9a1.jpg   \n4             /data/images/spaceporn/abojw7lqlb9a1.jpg   \n..                                                 ...   \n111  D:\\data\\images\\realasians\\10b92a383163fc494c78...   \n112  D:\\data\\images\\realasians\\35a3e44afa15890b9f62...   \n113  D:\\data\\images\\realasians\\ace0f33ad4affe4e0f11...   \n114  D:\\data\\images\\realasians\\959ea8c1956b7ff8a0a4...   \n115  D:\\data\\images\\realasians\\9fc9cb3bab671843a802...   \n\n                                        thumbnail_path  exists curated  \n0    D:\\data\\images\\celebrities\\thumbnail\\f09b1c0c5...    True   False  \n1    D:\\data\\images\\prettyasiangirls\\thumbnail\\9d5b...    True   False  \n2    D:\\data\\images\\KoreanHotties\\thumbnail\\a154a56...    True   False  \n3    /data/images/spaceporn/thumbnail/7s5aafaqkb9a1...    True   False  \n4    /data/images/spaceporn/thumbnail/abojw7lqlb9a1...    True   False  \n..                                                 ...     ...     ...  \n111  D:\\data\\images\\realasians\\thumbnail\\10b92a3831...    True   False  \n112  D:\\data\\images\\realasians\\thumbnail\\35a3e44afa...    True   False  \n113  D:\\data\\images\\realasians\\thumbnail\\ace0f33ad4...    True   False  \n114  D:\\data\\images\\realasians\\thumbnail\\959ea8c195...    True   False  \n115  D:\\data\\images\\realasians\\thumbnail\\9fc9cb3bab...    True   False  \n\n[29718 rows x 13 columns]",
      "text/html": "<div>\n<style scoped>\n    .dataframe tbody tr th:only-of-type {\n        vertical-align: middle;\n    }\n\n    .dataframe tbody tr th {\n        vertical-align: top;\n    }\n\n    .dataframe thead th {\n        text-align: right;\n    }\n</style>\n<table border=\"1\" class=\"dataframe\">\n  <thead>\n    <tr style=\"text-align: right;\">\n      <th></th>\n      <th>id</th>\n      <th>subreddit</th>\n      <th>author</th>\n      <th>title</th>\n      <th>caption</th>\n      <th>hash</th>\n      <th>permalink</th>\n      <th>original_url</th>\n      <th>image_name</th>\n      <th>path</th>\n      <th>thumbnail_path</th>\n      <th>exists</th>\n      <th>curated</th>\n    </tr>\n  </thead>\n  <tbody>\n    <tr>\n      <th>0</th>\n      <td>128z5ns</td>\n      <td>celebrities</td>\n      <td>A-Sexy-Name</td>\n      <td>Rachel Weisz</td>\n      <td>cars are parked on the side of the road in the...</td>\n      <td>f09b1c0c5dea50c934081a04c83d4d33</td>\n      <td>/r/celebrities/comments/128z5ns/rachel_weisz/</td>\n      <td>https://i.redd.it/nv80afddacra1.jpg</td>\n      <td>f09b1c0c5dea50c934081a04c83d4d33.jpg</td>\n      <td>D:\\data\\images\\celebrities\\f09b1c0c5dea50c9340...</td>\n      <td>D:\\data\\images\\celebrities\\thumbnail\\f09b1c0c5...</td>\n      <td>True</td>\n      <td>False</td>\n    </tr>\n    <tr>\n      <th>1</th>\n      <td>11yk8db</td>\n      <td>prettyasiangirls</td>\n      <td>MisoShiru520</td>\n      <td>Library</td>\n      <td>blonde woman with blonde hair and tattoos on h...</td>\n      <td>9d5b7331b941ecf3fdbc8ad322303825</td>\n      <td>/r/prettyasiangirls/comments/11yk8db/library/</td>\n      <td>https://i.redd.it/ht4d2wuusapa1.jpg</td>\n      <td>9d5b7331b941ecf3fdbc8ad322303825.jpg</td>\n      <td>D:\\data\\images\\prettyasiangirls\\9d5b7331b941ec...</td>\n      <td>D:\\data\\images\\prettyasiangirls\\thumbnail\\9d5b...</td>\n      <td>True</td>\n      <td>False</td>\n    </tr>\n    <tr>\n      <th>2</th>\n      <td>11hfioi</td>\n      <td>KoreanHotties</td>\n      <td>Majestic_Painter8660</td>\n      <td>Underboob bikini</td>\n      <td>a man with a beard and a beard sitting in fron...</td>\n      <td>a154a56b1b87cf3a0bc93600c86e4585</td>\n      <td>/r/KoreanHotties/comments/11hfioi/underboob_bi...</td>\n      <td>https://i.redd.it/cimr17q84jla1.jpg</td>\n      <td>a154a56b1b87cf3a0bc93600c86e4585.jpg</td>\n      <td>D:\\data\\images\\KoreanHotties\\a154a56b1b87cf3a0...</td>\n      <td>D:\\data\\images\\KoreanHotties\\thumbnail\\a154a56...</td>\n      <td>True</td>\n      <td>False</td>\n    </tr>\n    <tr>\n      <th>3</th>\n      <td>1000mjs</td>\n      <td>spaceporn</td>\n      <td>MorningStar_imangi</td>\n      <td>Northern Lights above Lofoten</td>\n      <td>a view of a view of a large green and purple a...</td>\n      <td>2c39ce1290fba541abd0b004b09da6b2</td>\n      <td>/r/spaceporn/comments/1000mjs/northern_lights_...</td>\n      <td>https://i.redd.it/7s5aafaqkb9a1.jpg</td>\n      <td>7s5aafaqkb9a1.jpg</td>\n      <td>/data/images/spaceporn/7s5aafaqkb9a1.jpg</td>\n      <td>/data/images/spaceporn/thumbnail/7s5aafaqkb9a1...</td>\n      <td>True</td>\n      <td>False</td>\n    </tr>\n    <tr>\n      <th>4</th>\n      <td>1000qpd</td>\n      <td>spaceporn</td>\n      <td>MorningStar_imangi</td>\n      <td>Viking Lights</td>\n      <td>a scene of a boat is sitting on the shore of a...</td>\n      <td>0f72de47c69ff50eca5fa3990215f4ac</td>\n      <td>/r/spaceporn/comments/1000qpd/viking_lights/</td>\n      <td>https://i.redd.it/abojw7lqlb9a1.jpg</td>\n      <td>abojw7lqlb9a1.jpg</td>\n      <td>/data/images/spaceporn/abojw7lqlb9a1.jpg</td>\n      <td>/data/images/spaceporn/thumbnail/abojw7lqlb9a1...</td>\n      <td>True</td>\n      <td>False</td>\n    </tr>\n    <tr>\n      <th>...</th>\n      <td>...</td>\n      <td>...</td>\n      <td>...</td>\n      <td>...</td>\n      <td>...</td>\n      <td>...</td>\n      <td>...</td>\n      <td>...</td>\n      <td>...</td>\n      <td>...</td>\n      <td>...</td>\n      <td>...</td>\n      <td>...</td>\n    </tr>\n    <tr>\n      <th>111</th>\n      <td>12fu3tr</td>\n      <td>realasians</td>\n      <td>Impossible-Act6792</td>\n      <td>Cute</td>\n      <td>there is a woman laying on a bed with a white ...</td>\n      <td>10b92a383163fc494c78382a13942705</td>\n      <td>/r/realasians/comments/12fu3tr/cute/</td>\n      <td>https://i.redd.it/61rm6nl4vqsa1.jpg</td>\n      <td>10b92a383163fc494c78382a13942705.jpg</td>\n      <td>D:\\data\\images\\realasians\\10b92a383163fc494c78...</td>\n      <td>D:\\data\\images\\realasians\\thumbnail\\10b92a3831...</td>\n      <td>True</td>\n      <td>False</td>\n    </tr>\n    <tr>\n      <th>112</th>\n      <td>12ftdwo</td>\n      <td>realasians</td>\n      <td>sfsfw</td>\n      <td>Trying on new shirt</td>\n      <td>araffed woman sitting on the floor taking a se...</td>\n      <td>35a3e44afa15890b9f62f4e5d8895e50</td>\n      <td>/r/realasians/comments/12ftdwo/trying_on_new_s...</td>\n      <td>https://i.redd.it/xtnkp0q29psa1.jpg</td>\n      <td>35a3e44afa15890b9f62f4e5d8895e50.jpg</td>\n      <td>D:\\data\\images\\realasians\\35a3e44afa15890b9f62...</td>\n      <td>D:\\data\\images\\realasians\\thumbnail\\35a3e44afa...</td>\n      <td>True</td>\n      <td>False</td>\n    </tr>\n    <tr>\n      <th>113</th>\n      <td>12ft1ri</td>\n      <td>realasians</td>\n      <td>SKTminion</td>\n      <td>Cruise gal</td>\n      <td>araffe woman in a bikini on a cruise ship</td>\n      <td>ace0f33ad4affe4e0f112bf8dd1f36fe</td>\n      <td>/r/realasians/comments/12ft1ri/cruise_gal/</td>\n      <td>https://i.imgur.com/TPq6yuj.jpg</td>\n      <td>ace0f33ad4affe4e0f112bf8dd1f36fe.jpg</td>\n      <td>D:\\data\\images\\realasians\\ace0f33ad4affe4e0f11...</td>\n      <td>D:\\data\\images\\realasians\\thumbnail\\ace0f33ad4...</td>\n      <td>True</td>\n      <td>False</td>\n    </tr>\n    <tr>\n      <th>114</th>\n      <td>12fst4o</td>\n      <td>realasians</td>\n      <td>dahyunscat</td>\n      <td>Choose one</td>\n      <td>two women in bikinis standing on a beach at night</td>\n      <td>959ea8c1956b7ff8a0a4eb61bb161436</td>\n      <td>/r/realasians/comments/12fst4o/choose_one/</td>\n      <td>https://i.redd.it/ye63r1c1nqsa1.jpg</td>\n      <td>959ea8c1956b7ff8a0a4eb61bb161436.jpg</td>\n      <td>D:\\data\\images\\realasians\\959ea8c1956b7ff8a0a4...</td>\n      <td>D:\\data\\images\\realasians\\thumbnail\\959ea8c195...</td>\n      <td>True</td>\n      <td>False</td>\n    </tr>\n    <tr>\n      <th>115</th>\n      <td>12frvjy</td>\n      <td>realasians</td>\n      <td>a_teb89</td>\n      <td>Demure</td>\n      <td>there is a woman taking a selfie in a room</td>\n      <td>9fc9cb3bab671843a80210d6e293bec3</td>\n      <td>/r/realasians/comments/12frvjy/demure/</td>\n      <td>https://i.redd.it/xmjd76awzosa1.jpg</td>\n      <td>9fc9cb3bab671843a80210d6e293bec3.jpg</td>\n      <td>D:\\data\\images\\realasians\\9fc9cb3bab671843a802...</td>\n      <td>D:\\data\\images\\realasians\\thumbnail\\9fc9cb3bab...</td>\n      <td>True</td>\n      <td>False</td>\n    </tr>\n  </tbody>\n</table>\n<p>29718 rows × 13 columns</p>\n</div>"
     },
     "metadata": {},
     "output_type": "display_data"
    },
    {
     "name": "stdout",
     "output_type": "stream",
     "text": [
      "CPU times: total: 62.5 ms\n",
      "Wall time: 187 ms\n"
     ]
    }
   ],
   "source": [
    "%%time\n",
    "\n",
    "combined_result = pd.concat([extant_data, writeable_entries])\n",
    "\n",
    "display(combined_result)"
   ],
   "metadata": {
    "collapsed": false,
    "ExecuteTime": {
     "start_time": "2023-04-09T18:10:51.454343Z",
     "end_time": "2023-04-09T18:10:52.002048Z"
    }
   }
  },
  {
   "cell_type": "code",
   "execution_count": 23,
   "outputs": [
    {
     "data": {
      "text/plain": "[None]"
     },
     "execution_count": 23,
     "metadata": {},
     "output_type": "execute_result"
    }
   ],
   "source": [
    "combined_result.reindex()\n",
    "combined_result.to_csv('processed_raw_data.csv', index=False)\n",
    "f = AzureFileStorageAdapter('data').get_file_storage()\n",
    "f.put('processed_raw_data.csv','data/processed_raw_data.csv', overwrite=True)"
   ],
   "metadata": {
    "collapsed": false,
    "ExecuteTime": {
     "start_time": "2023-04-09T18:10:51.908298Z",
     "end_time": "2023-04-09T18:11:03.692154Z"
    }
   }
  },
  {
   "cell_type": "code",
   "execution_count": 24,
   "outputs": [],
   "source": [
    "final = pd.read_csv(f.open('data/processed_raw_data.csv'))\n",
    "final.to_parquet(\"data/processed_raw_data.parquet\", engine='pyarrow', filesystem=file_system, schema=schema)"
   ],
   "metadata": {
    "collapsed": false,
    "ExecuteTime": {
     "start_time": "2023-04-09T18:11:03.645279Z",
     "end_time": "2023-04-09T18:11:12.839318Z"
    }
   }
  },
  {
   "cell_type": "code",
   "execution_count": 25,
   "outputs": [
    {
     "data": {
      "text/plain": "            id         subreddit                author  \\\n0      128z5ns       celebrities           A-Sexy-Name   \n1      11yk8db  prettyasiangirls          MisoShiru520   \n2      11hfioi     KoreanHotties  Majestic_Painter8660   \n3      1000mjs         spaceporn    MorningStar_imangi   \n4      1000qpd         spaceporn    MorningStar_imangi   \n...        ...               ...                   ...   \n29713  12fu3tr        realasians    Impossible-Act6792   \n29714  12ftdwo        realasians                 sfsfw   \n29715  12ft1ri        realasians             SKTminion   \n29716  12fst4o        realasians            dahyunscat   \n29717  12frvjy        realasians               a_teb89   \n\n                               title  \\\n0                       Rachel Weisz   \n1                            Library   \n2                   Underboob bikini   \n3      Northern Lights above Lofoten   \n4                      Viking Lights   \n...                              ...   \n29713                           Cute   \n29714            Trying on new shirt   \n29715                     Cruise gal   \n29716                     Choose one   \n29717                         Demure   \n\n                                                 caption  \\\n0      cars are parked on the side of the road in the...   \n1      blonde woman with blonde hair and tattoos on h...   \n2      a man with a beard and a beard sitting in fron...   \n3      a view of a view of a large green and purple a...   \n4      a scene of a boat is sitting on the shore of a...   \n...                                                  ...   \n29713  there is a woman laying on a bed with a white ...   \n29714  araffed woman sitting on the floor taking a se...   \n29715          araffe woman in a bikini on a cruise ship   \n29716  two women in bikinis standing on a beach at night   \n29717         there is a woman taking a selfie in a room   \n\n                                   hash  \\\n0      f09b1c0c5dea50c934081a04c83d4d33   \n1      9d5b7331b941ecf3fdbc8ad322303825   \n2      a154a56b1b87cf3a0bc93600c86e4585   \n3      2c39ce1290fba541abd0b004b09da6b2   \n4      0f72de47c69ff50eca5fa3990215f4ac   \n...                                 ...   \n29713  10b92a383163fc494c78382a13942705   \n29714  35a3e44afa15890b9f62f4e5d8895e50   \n29715  ace0f33ad4affe4e0f112bf8dd1f36fe   \n29716  959ea8c1956b7ff8a0a4eb61bb161436   \n29717  9fc9cb3bab671843a80210d6e293bec3   \n\n                                               permalink  \\\n0          /r/celebrities/comments/128z5ns/rachel_weisz/   \n1          /r/prettyasiangirls/comments/11yk8db/library/   \n2      /r/KoreanHotties/comments/11hfioi/underboob_bi...   \n3      /r/spaceporn/comments/1000mjs/northern_lights_...   \n4           /r/spaceporn/comments/1000qpd/viking_lights/   \n...                                                  ...   \n29713               /r/realasians/comments/12fu3tr/cute/   \n29714  /r/realasians/comments/12ftdwo/trying_on_new_s...   \n29715         /r/realasians/comments/12ft1ri/cruise_gal/   \n29716         /r/realasians/comments/12fst4o/choose_one/   \n29717             /r/realasians/comments/12frvjy/demure/   \n\n                              original_url  \\\n0      https://i.redd.it/nv80afddacra1.jpg   \n1      https://i.redd.it/ht4d2wuusapa1.jpg   \n2      https://i.redd.it/cimr17q84jla1.jpg   \n3      https://i.redd.it/7s5aafaqkb9a1.jpg   \n4      https://i.redd.it/abojw7lqlb9a1.jpg   \n...                                    ...   \n29713  https://i.redd.it/61rm6nl4vqsa1.jpg   \n29714  https://i.redd.it/xtnkp0q29psa1.jpg   \n29715      https://i.imgur.com/TPq6yuj.jpg   \n29716  https://i.redd.it/ye63r1c1nqsa1.jpg   \n29717  https://i.redd.it/xmjd76awzosa1.jpg   \n\n                                 image_name  \\\n0      f09b1c0c5dea50c934081a04c83d4d33.jpg   \n1      9d5b7331b941ecf3fdbc8ad322303825.jpg   \n2      a154a56b1b87cf3a0bc93600c86e4585.jpg   \n3                         7s5aafaqkb9a1.jpg   \n4                         abojw7lqlb9a1.jpg   \n...                                     ...   \n29713  10b92a383163fc494c78382a13942705.jpg   \n29714  35a3e44afa15890b9f62f4e5d8895e50.jpg   \n29715  ace0f33ad4affe4e0f112bf8dd1f36fe.jpg   \n29716  959ea8c1956b7ff8a0a4eb61bb161436.jpg   \n29717  9fc9cb3bab671843a80210d6e293bec3.jpg   \n\n                                                    path  \\\n0      D:\\data\\images\\celebrities\\f09b1c0c5dea50c9340...   \n1      D:\\data\\images\\prettyasiangirls\\9d5b7331b941ec...   \n2      D:\\data\\images\\KoreanHotties\\a154a56b1b87cf3a0...   \n3               /data/images/spaceporn/7s5aafaqkb9a1.jpg   \n4               /data/images/spaceporn/abojw7lqlb9a1.jpg   \n...                                                  ...   \n29713  D:\\data\\images\\realasians\\10b92a383163fc494c78...   \n29714  D:\\data\\images\\realasians\\35a3e44afa15890b9f62...   \n29715  D:\\data\\images\\realasians\\ace0f33ad4affe4e0f11...   \n29716  D:\\data\\images\\realasians\\959ea8c1956b7ff8a0a4...   \n29717  D:\\data\\images\\realasians\\9fc9cb3bab671843a802...   \n\n                                          thumbnail_path  exists  curated  \n0      D:\\data\\images\\celebrities\\thumbnail\\f09b1c0c5...    True    False  \n1      D:\\data\\images\\prettyasiangirls\\thumbnail\\9d5b...    True    False  \n2      D:\\data\\images\\KoreanHotties\\thumbnail\\a154a56...    True    False  \n3      /data/images/spaceporn/thumbnail/7s5aafaqkb9a1...    True    False  \n4      /data/images/spaceporn/thumbnail/abojw7lqlb9a1...    True    False  \n...                                                  ...     ...      ...  \n29713  D:\\data\\images\\realasians\\thumbnail\\10b92a3831...    True    False  \n29714  D:\\data\\images\\realasians\\thumbnail\\35a3e44afa...    True    False  \n29715  D:\\data\\images\\realasians\\thumbnail\\ace0f33ad4...    True    False  \n29716  D:\\data\\images\\realasians\\thumbnail\\959ea8c195...    True    False  \n29717  D:\\data\\images\\realasians\\thumbnail\\9fc9cb3bab...    True    False  \n\n[29718 rows x 13 columns]",
      "text/html": "<div>\n<style scoped>\n    .dataframe tbody tr th:only-of-type {\n        vertical-align: middle;\n    }\n\n    .dataframe tbody tr th {\n        vertical-align: top;\n    }\n\n    .dataframe thead th {\n        text-align: right;\n    }\n</style>\n<table border=\"1\" class=\"dataframe\">\n  <thead>\n    <tr style=\"text-align: right;\">\n      <th></th>\n      <th>id</th>\n      <th>subreddit</th>\n      <th>author</th>\n      <th>title</th>\n      <th>caption</th>\n      <th>hash</th>\n      <th>permalink</th>\n      <th>original_url</th>\n      <th>image_name</th>\n      <th>path</th>\n      <th>thumbnail_path</th>\n      <th>exists</th>\n      <th>curated</th>\n    </tr>\n  </thead>\n  <tbody>\n    <tr>\n      <th>0</th>\n      <td>128z5ns</td>\n      <td>celebrities</td>\n      <td>A-Sexy-Name</td>\n      <td>Rachel Weisz</td>\n      <td>cars are parked on the side of the road in the...</td>\n      <td>f09b1c0c5dea50c934081a04c83d4d33</td>\n      <td>/r/celebrities/comments/128z5ns/rachel_weisz/</td>\n      <td>https://i.redd.it/nv80afddacra1.jpg</td>\n      <td>f09b1c0c5dea50c934081a04c83d4d33.jpg</td>\n      <td>D:\\data\\images\\celebrities\\f09b1c0c5dea50c9340...</td>\n      <td>D:\\data\\images\\celebrities\\thumbnail\\f09b1c0c5...</td>\n      <td>True</td>\n      <td>False</td>\n    </tr>\n    <tr>\n      <th>1</th>\n      <td>11yk8db</td>\n      <td>prettyasiangirls</td>\n      <td>MisoShiru520</td>\n      <td>Library</td>\n      <td>blonde woman with blonde hair and tattoos on h...</td>\n      <td>9d5b7331b941ecf3fdbc8ad322303825</td>\n      <td>/r/prettyasiangirls/comments/11yk8db/library/</td>\n      <td>https://i.redd.it/ht4d2wuusapa1.jpg</td>\n      <td>9d5b7331b941ecf3fdbc8ad322303825.jpg</td>\n      <td>D:\\data\\images\\prettyasiangirls\\9d5b7331b941ec...</td>\n      <td>D:\\data\\images\\prettyasiangirls\\thumbnail\\9d5b...</td>\n      <td>True</td>\n      <td>False</td>\n    </tr>\n    <tr>\n      <th>2</th>\n      <td>11hfioi</td>\n      <td>KoreanHotties</td>\n      <td>Majestic_Painter8660</td>\n      <td>Underboob bikini</td>\n      <td>a man with a beard and a beard sitting in fron...</td>\n      <td>a154a56b1b87cf3a0bc93600c86e4585</td>\n      <td>/r/KoreanHotties/comments/11hfioi/underboob_bi...</td>\n      <td>https://i.redd.it/cimr17q84jla1.jpg</td>\n      <td>a154a56b1b87cf3a0bc93600c86e4585.jpg</td>\n      <td>D:\\data\\images\\KoreanHotties\\a154a56b1b87cf3a0...</td>\n      <td>D:\\data\\images\\KoreanHotties\\thumbnail\\a154a56...</td>\n      <td>True</td>\n      <td>False</td>\n    </tr>\n    <tr>\n      <th>3</th>\n      <td>1000mjs</td>\n      <td>spaceporn</td>\n      <td>MorningStar_imangi</td>\n      <td>Northern Lights above Lofoten</td>\n      <td>a view of a view of a large green and purple a...</td>\n      <td>2c39ce1290fba541abd0b004b09da6b2</td>\n      <td>/r/spaceporn/comments/1000mjs/northern_lights_...</td>\n      <td>https://i.redd.it/7s5aafaqkb9a1.jpg</td>\n      <td>7s5aafaqkb9a1.jpg</td>\n      <td>/data/images/spaceporn/7s5aafaqkb9a1.jpg</td>\n      <td>/data/images/spaceporn/thumbnail/7s5aafaqkb9a1...</td>\n      <td>True</td>\n      <td>False</td>\n    </tr>\n    <tr>\n      <th>4</th>\n      <td>1000qpd</td>\n      <td>spaceporn</td>\n      <td>MorningStar_imangi</td>\n      <td>Viking Lights</td>\n      <td>a scene of a boat is sitting on the shore of a...</td>\n      <td>0f72de47c69ff50eca5fa3990215f4ac</td>\n      <td>/r/spaceporn/comments/1000qpd/viking_lights/</td>\n      <td>https://i.redd.it/abojw7lqlb9a1.jpg</td>\n      <td>abojw7lqlb9a1.jpg</td>\n      <td>/data/images/spaceporn/abojw7lqlb9a1.jpg</td>\n      <td>/data/images/spaceporn/thumbnail/abojw7lqlb9a1...</td>\n      <td>True</td>\n      <td>False</td>\n    </tr>\n    <tr>\n      <th>...</th>\n      <td>...</td>\n      <td>...</td>\n      <td>...</td>\n      <td>...</td>\n      <td>...</td>\n      <td>...</td>\n      <td>...</td>\n      <td>...</td>\n      <td>...</td>\n      <td>...</td>\n      <td>...</td>\n      <td>...</td>\n      <td>...</td>\n    </tr>\n    <tr>\n      <th>29713</th>\n      <td>12fu3tr</td>\n      <td>realasians</td>\n      <td>Impossible-Act6792</td>\n      <td>Cute</td>\n      <td>there is a woman laying on a bed with a white ...</td>\n      <td>10b92a383163fc494c78382a13942705</td>\n      <td>/r/realasians/comments/12fu3tr/cute/</td>\n      <td>https://i.redd.it/61rm6nl4vqsa1.jpg</td>\n      <td>10b92a383163fc494c78382a13942705.jpg</td>\n      <td>D:\\data\\images\\realasians\\10b92a383163fc494c78...</td>\n      <td>D:\\data\\images\\realasians\\thumbnail\\10b92a3831...</td>\n      <td>True</td>\n      <td>False</td>\n    </tr>\n    <tr>\n      <th>29714</th>\n      <td>12ftdwo</td>\n      <td>realasians</td>\n      <td>sfsfw</td>\n      <td>Trying on new shirt</td>\n      <td>araffed woman sitting on the floor taking a se...</td>\n      <td>35a3e44afa15890b9f62f4e5d8895e50</td>\n      <td>/r/realasians/comments/12ftdwo/trying_on_new_s...</td>\n      <td>https://i.redd.it/xtnkp0q29psa1.jpg</td>\n      <td>35a3e44afa15890b9f62f4e5d8895e50.jpg</td>\n      <td>D:\\data\\images\\realasians\\35a3e44afa15890b9f62...</td>\n      <td>D:\\data\\images\\realasians\\thumbnail\\35a3e44afa...</td>\n      <td>True</td>\n      <td>False</td>\n    </tr>\n    <tr>\n      <th>29715</th>\n      <td>12ft1ri</td>\n      <td>realasians</td>\n      <td>SKTminion</td>\n      <td>Cruise gal</td>\n      <td>araffe woman in a bikini on a cruise ship</td>\n      <td>ace0f33ad4affe4e0f112bf8dd1f36fe</td>\n      <td>/r/realasians/comments/12ft1ri/cruise_gal/</td>\n      <td>https://i.imgur.com/TPq6yuj.jpg</td>\n      <td>ace0f33ad4affe4e0f112bf8dd1f36fe.jpg</td>\n      <td>D:\\data\\images\\realasians\\ace0f33ad4affe4e0f11...</td>\n      <td>D:\\data\\images\\realasians\\thumbnail\\ace0f33ad4...</td>\n      <td>True</td>\n      <td>False</td>\n    </tr>\n    <tr>\n      <th>29716</th>\n      <td>12fst4o</td>\n      <td>realasians</td>\n      <td>dahyunscat</td>\n      <td>Choose one</td>\n      <td>two women in bikinis standing on a beach at night</td>\n      <td>959ea8c1956b7ff8a0a4eb61bb161436</td>\n      <td>/r/realasians/comments/12fst4o/choose_one/</td>\n      <td>https://i.redd.it/ye63r1c1nqsa1.jpg</td>\n      <td>959ea8c1956b7ff8a0a4eb61bb161436.jpg</td>\n      <td>D:\\data\\images\\realasians\\959ea8c1956b7ff8a0a4...</td>\n      <td>D:\\data\\images\\realasians\\thumbnail\\959ea8c195...</td>\n      <td>True</td>\n      <td>False</td>\n    </tr>\n    <tr>\n      <th>29717</th>\n      <td>12frvjy</td>\n      <td>realasians</td>\n      <td>a_teb89</td>\n      <td>Demure</td>\n      <td>there is a woman taking a selfie in a room</td>\n      <td>9fc9cb3bab671843a80210d6e293bec3</td>\n      <td>/r/realasians/comments/12frvjy/demure/</td>\n      <td>https://i.redd.it/xmjd76awzosa1.jpg</td>\n      <td>9fc9cb3bab671843a80210d6e293bec3.jpg</td>\n      <td>D:\\data\\images\\realasians\\9fc9cb3bab671843a802...</td>\n      <td>D:\\data\\images\\realasians\\thumbnail\\9fc9cb3bab...</td>\n      <td>True</td>\n      <td>False</td>\n    </tr>\n  </tbody>\n</table>\n<p>29718 rows × 13 columns</p>\n</div>"
     },
     "metadata": {},
     "output_type": "display_data"
    }
   ],
   "source": [
    "final = pd.read_parquet(\"data/processed_raw_data.parquet\", engine='pyarrow', filesystem=file_system)\n",
    "display(final)"
   ],
   "metadata": {
    "collapsed": false,
    "ExecuteTime": {
     "start_time": "2023-04-09T18:11:12.823655Z",
     "end_time": "2023-04-09T18:11:13.727205Z"
    }
   }
  }
 ],
 "metadata": {
  "kernelspec": {
   "display_name": "Python 3",
   "language": "python",
   "name": "python3"
  },
  "language_info": {
   "codemirror_mode": {
    "name": "ipython",
    "version": 2
   },
   "file_extension": ".py",
   "mimetype": "text/x-python",
   "name": "python",
   "nbconvert_exporter": "python",
   "pygments_lexer": "ipython2",
   "version": "2.7.6"
  }
 },
 "nbformat": 4,
 "nbformat_minor": 0
}
