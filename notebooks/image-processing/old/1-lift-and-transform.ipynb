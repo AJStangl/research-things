{
 "cells": [
  {
   "cell_type": "code",
   "execution_count": 1,
   "metadata": {
    "collapsed": true,
    "ExecuteTime": {
     "start_time": "2023-04-23T12:11:19.729023Z",
     "end_time": "2023-04-23T12:11:24.243010Z"
    }
   },
   "outputs": [],
   "source": [
    "\n",
    "import hashlib\n",
    "import os\n",
    "import random\n",
    "import time\n",
    "from datetime import datetime\n",
    "from io import BytesIO\n",
    "\n",
    "import pandas as pd\n",
    "import praw\n",
    "import requests\n",
    "import torch\n",
    "from PIL import Image\n",
    "from dask.diagnostics import ProgressBar\n",
    "from pmaw import PushshiftAPI\n",
    "from tqdm import tqdm\n",
    "\n",
    "from shared_code.utility.schemas.pyarrow_schema import schema\n",
    "from shared_code.utility.spark.set_environ import set_azure_env\n",
    "\n",
    "set_azure_env()\n",
    "\n",
    "from shared_code.utility.storage.azure_file_storage import AzureFileStorageAdapter\n",
    "from shared_code.utility.scripts.blip_caption import BlipCaption\n",
    "\n",
    "pbar = ProgressBar()\n",
    "pbar.register()\n",
    "\n",
    "tqdm.pandas()\n",
    "tqdm.pandas(desc=\"global\")\n",
    "\n",
    "from tqdm.dask import TqdmCallback\n",
    "\n",
    "cb = TqdmCallback(desc=\"global\")\n",
    "cb.register()\n",
    "\n",
    "file_system = AzureFileStorageAdapter('data').get_file_storage()"
   ]
  },
  {
   "cell_type": "code",
   "execution_count": 2,
   "outputs": [
    {
     "name": "stdout",
     "output_type": "stream",
     "text": [
      "CPU times: total: 0 ns\n",
      "Wall time: 0 ns\n"
     ]
    }
   ],
   "source": [
    "%%time\n",
    "\n",
    "subs = [\n",
    "\t\"SFWRedheads\",\n",
    "\t\"sfwpetite\",\n",
    "\t\"SFWNextDoorGirls\",\n",
    "\t\"trippinthroughtime\",\n",
    "\t\"fatsquirrelhate\",\n",
    "\t\"itookapicture\",\n",
    "\t\"memes\",\n",
    "\t\"WhitePeopleTwitter\",\n",
    "\t\"CityPorn\",\n",
    "\t\"EarthPorn\",\n",
    "\t\"spaceporn\",\n",
    "\t\"realasians\",\n",
    "\t\"KoreanHotties\",\n",
    "\t\"prettyasiangirls\",\n",
    "\t\"AsianOfficeLady\",\n",
    "\t\"mildlypenis\"\n",
    "]\n"
   ],
   "metadata": {
    "collapsed": false,
    "ExecuteTime": {
     "start_time": "2023-04-23T12:11:24.243010Z",
     "end_time": "2023-04-23T12:11:24.305874Z"
    }
   }
  },
  {
   "cell_type": "code",
   "execution_count": 3,
   "outputs": [
    {
     "data": {
      "text/plain": "            id         subreddit                author  \\\n0      128z5ns       celebrities           A-Sexy-Name   \n1      11yk8db  prettyasiangirls          MisoShiru520   \n2      11hfioi     KoreanHotties  Majestic_Painter8660   \n3      1000mjs         spaceporn    MorningStar_imangi   \n4      1000qpd         spaceporn    MorningStar_imangi   \n...        ...               ...                   ...   \n32087  12vowq9         EarthPorn            jcbeedie98   \n32088  12w3gmx         spaceporn     HeStoleMyBalloons   \n32089  12w9hob     KoreanHotties       LoLsupportsmurf   \n32090  12w9n5p   AsianOfficeLady            King_Oppai   \n32091  12w4men       mildlypenis            Katsooduro   \n\n                                                   title  \\\n0                                           Rachel Weisz   \n1                                                Library   \n2                                       Underboob bikini   \n3                          Northern Lights above Lofoten   \n4                                          Viking Lights   \n...                                                  ...   \n32087  Lush Rainforest Creek, West Vancouver, BC Cana...   \n32088  The launch of a Delta IV Heavy with the final ...   \n32089                               Everyday Korean Girl   \n32090                                              #1249   \n32091                                         Tree Woody   \n\n                                                 caption  \\\n0      cars are parked on the side of the road in the...   \n1      blonde woman with blonde hair and tattoos on h...   \n2      a man with a beard and a beard sitting in fron...   \n3      a view of a view of a large green and purple a...   \n4      a scene of a boat is sitting on the shore of a...   \n...                                                  ...   \n32087  there is a stream running through a forest fil...   \n32088  arafed rocket with a large stack of smoke comi...   \n32089  there is a woman in a black bra top sitting in...   \n32090  arafed woman in a pink suit leaning against a ...   \n32091   there is a tree trunk with a face carved into it   \n\n                                   hash  \\\n0      f09b1c0c5dea50c934081a04c83d4d33   \n1      9d5b7331b941ecf3fdbc8ad322303825   \n2      a154a56b1b87cf3a0bc93600c86e4585   \n3      2c39ce1290fba541abd0b004b09da6b2   \n4      0f72de47c69ff50eca5fa3990215f4ac   \n...                                 ...   \n32087  6ec7bd503710da136ca82ff485fe72b5   \n32088  d5b667054f921f849f39ff012880e8a7   \n32089  9425210986f60470764cbe3fc1033a86   \n32090  5143eea90b793fbb711ab3c6dd5a77d4   \n32091  450e8cdf685bbe991678325dd4ae4c45   \n\n                                               permalink  \\\n0          /r/celebrities/comments/128z5ns/rachel_weisz/   \n1          /r/prettyasiangirls/comments/11yk8db/library/   \n2      /r/KoreanHotties/comments/11hfioi/underboob_bi...   \n3      /r/spaceporn/comments/1000mjs/northern_lights_...   \n4           /r/spaceporn/comments/1000qpd/viking_lights/   \n...                                                  ...   \n32087  /r/EarthPorn/comments/12vowq9/lush_rainforest_...   \n32088  /r/spaceporn/comments/12w3gmx/the_launch_of_a_...   \n32089  /r/KoreanHotties/comments/12w9hob/everyday_kor...   \n32090          /r/AsianOfficeLady/comments/12w9n5p/1249/   \n32091        /r/mildlypenis/comments/12w4men/tree_woody/   \n\n                              original_url  \\\n0      https://i.redd.it/nv80afddacra1.jpg   \n1      https://i.redd.it/ht4d2wuusapa1.jpg   \n2      https://i.redd.it/cimr17q84jla1.jpg   \n3      https://i.redd.it/7s5aafaqkb9a1.jpg   \n4      https://i.redd.it/abojw7lqlb9a1.jpg   \n...                                    ...   \n32087  https://i.redd.it/5u71xc561jva1.jpg   \n32088  https://i.redd.it/osgmavytxlva1.jpg   \n32089  https://i.redd.it/hbuwlnw0lova1.jpg   \n32090  https://i.redd.it/cyiotf2f4nva1.jpg   \n32091  https://i.redd.it/7qhocg8u6mva1.jpg   \n\n                                 image_name  \\\n0      f09b1c0c5dea50c934081a04c83d4d33.jpg   \n1      9d5b7331b941ecf3fdbc8ad322303825.jpg   \n2      a154a56b1b87cf3a0bc93600c86e4585.jpg   \n3                         7s5aafaqkb9a1.jpg   \n4                         abojw7lqlb9a1.jpg   \n...                                     ...   \n32087  6ec7bd503710da136ca82ff485fe72b5.jpg   \n32088  d5b667054f921f849f39ff012880e8a7.jpg   \n32089  9425210986f60470764cbe3fc1033a86.jpg   \n32090  5143eea90b793fbb711ab3c6dd5a77d4.jpg   \n32091  450e8cdf685bbe991678325dd4ae4c45.jpg   \n\n                                                    path  \\\n0      D:\\data\\images\\celebrities\\f09b1c0c5dea50c9340...   \n1      D:\\data\\images\\prettyasiangirls\\9d5b7331b941ec...   \n2                               D:\\ImageDoesNotExist.png   \n3             D:\\data\\images\\spaceporn\\7s5aafaqkb9a1.jpg   \n4             D:\\data\\images\\spaceporn\\abojw7lqlb9a1.jpg   \n...                                                  ...   \n32087  D:\\data\\images\\EarthPorn\\6ec7bd503710da136ca82...   \n32088  D:\\data\\images\\spaceporn\\d5b667054f921f849f39f...   \n32089  D:\\data\\images\\KoreanHotties\\9425210986f604707...   \n32090  D:\\data\\images\\AsianOfficeLady\\5143eea90b793fb...   \n32091  D:\\data\\images\\mildlypenis\\450e8cdf685bbe99167...   \n\n                                          thumbnail_path  exists  curated  \n0      D:\\data\\images\\celebrities\\thumbnail\\f09b1c0c5...    True    False  \n1      D:\\data\\images\\prettyasiangirls\\thumbnail\\9d5b...    True    False  \n2      D:\\data\\images\\KoreanHotties\\thumbnail\\a154a56...   False    False  \n3      /data/images/spaceporn/thumbnail/7s5aafaqkb9a1...    True    False  \n4      /data/images/spaceporn/thumbnail/abojw7lqlb9a1...    True    False  \n...                                                  ...     ...      ...  \n32087                                               None    True    False  \n32088                                               None    True    False  \n32089                                               None    True    False  \n32090                                               None    True    False  \n32091                                               None    True    False  \n\n[32092 rows x 13 columns]",
      "text/html": "<div>\n<style scoped>\n    .dataframe tbody tr th:only-of-type {\n        vertical-align: middle;\n    }\n\n    .dataframe tbody tr th {\n        vertical-align: top;\n    }\n\n    .dataframe thead th {\n        text-align: right;\n    }\n</style>\n<table border=\"1\" class=\"dataframe\">\n  <thead>\n    <tr style=\"text-align: right;\">\n      <th></th>\n      <th>id</th>\n      <th>subreddit</th>\n      <th>author</th>\n      <th>title</th>\n      <th>caption</th>\n      <th>hash</th>\n      <th>permalink</th>\n      <th>original_url</th>\n      <th>image_name</th>\n      <th>path</th>\n      <th>thumbnail_path</th>\n      <th>exists</th>\n      <th>curated</th>\n    </tr>\n  </thead>\n  <tbody>\n    <tr>\n      <th>0</th>\n      <td>128z5ns</td>\n      <td>celebrities</td>\n      <td>A-Sexy-Name</td>\n      <td>Rachel Weisz</td>\n      <td>cars are parked on the side of the road in the...</td>\n      <td>f09b1c0c5dea50c934081a04c83d4d33</td>\n      <td>/r/celebrities/comments/128z5ns/rachel_weisz/</td>\n      <td>https://i.redd.it/nv80afddacra1.jpg</td>\n      <td>f09b1c0c5dea50c934081a04c83d4d33.jpg</td>\n      <td>D:\\data\\images\\celebrities\\f09b1c0c5dea50c9340...</td>\n      <td>D:\\data\\images\\celebrities\\thumbnail\\f09b1c0c5...</td>\n      <td>True</td>\n      <td>False</td>\n    </tr>\n    <tr>\n      <th>1</th>\n      <td>11yk8db</td>\n      <td>prettyasiangirls</td>\n      <td>MisoShiru520</td>\n      <td>Library</td>\n      <td>blonde woman with blonde hair and tattoos on h...</td>\n      <td>9d5b7331b941ecf3fdbc8ad322303825</td>\n      <td>/r/prettyasiangirls/comments/11yk8db/library/</td>\n      <td>https://i.redd.it/ht4d2wuusapa1.jpg</td>\n      <td>9d5b7331b941ecf3fdbc8ad322303825.jpg</td>\n      <td>D:\\data\\images\\prettyasiangirls\\9d5b7331b941ec...</td>\n      <td>D:\\data\\images\\prettyasiangirls\\thumbnail\\9d5b...</td>\n      <td>True</td>\n      <td>False</td>\n    </tr>\n    <tr>\n      <th>2</th>\n      <td>11hfioi</td>\n      <td>KoreanHotties</td>\n      <td>Majestic_Painter8660</td>\n      <td>Underboob bikini</td>\n      <td>a man with a beard and a beard sitting in fron...</td>\n      <td>a154a56b1b87cf3a0bc93600c86e4585</td>\n      <td>/r/KoreanHotties/comments/11hfioi/underboob_bi...</td>\n      <td>https://i.redd.it/cimr17q84jla1.jpg</td>\n      <td>a154a56b1b87cf3a0bc93600c86e4585.jpg</td>\n      <td>D:\\ImageDoesNotExist.png</td>\n      <td>D:\\data\\images\\KoreanHotties\\thumbnail\\a154a56...</td>\n      <td>False</td>\n      <td>False</td>\n    </tr>\n    <tr>\n      <th>3</th>\n      <td>1000mjs</td>\n      <td>spaceporn</td>\n      <td>MorningStar_imangi</td>\n      <td>Northern Lights above Lofoten</td>\n      <td>a view of a view of a large green and purple a...</td>\n      <td>2c39ce1290fba541abd0b004b09da6b2</td>\n      <td>/r/spaceporn/comments/1000mjs/northern_lights_...</td>\n      <td>https://i.redd.it/7s5aafaqkb9a1.jpg</td>\n      <td>7s5aafaqkb9a1.jpg</td>\n      <td>D:\\data\\images\\spaceporn\\7s5aafaqkb9a1.jpg</td>\n      <td>/data/images/spaceporn/thumbnail/7s5aafaqkb9a1...</td>\n      <td>True</td>\n      <td>False</td>\n    </tr>\n    <tr>\n      <th>4</th>\n      <td>1000qpd</td>\n      <td>spaceporn</td>\n      <td>MorningStar_imangi</td>\n      <td>Viking Lights</td>\n      <td>a scene of a boat is sitting on the shore of a...</td>\n      <td>0f72de47c69ff50eca5fa3990215f4ac</td>\n      <td>/r/spaceporn/comments/1000qpd/viking_lights/</td>\n      <td>https://i.redd.it/abojw7lqlb9a1.jpg</td>\n      <td>abojw7lqlb9a1.jpg</td>\n      <td>D:\\data\\images\\spaceporn\\abojw7lqlb9a1.jpg</td>\n      <td>/data/images/spaceporn/thumbnail/abojw7lqlb9a1...</td>\n      <td>True</td>\n      <td>False</td>\n    </tr>\n    <tr>\n      <th>...</th>\n      <td>...</td>\n      <td>...</td>\n      <td>...</td>\n      <td>...</td>\n      <td>...</td>\n      <td>...</td>\n      <td>...</td>\n      <td>...</td>\n      <td>...</td>\n      <td>...</td>\n      <td>...</td>\n      <td>...</td>\n      <td>...</td>\n    </tr>\n    <tr>\n      <th>32087</th>\n      <td>12vowq9</td>\n      <td>EarthPorn</td>\n      <td>jcbeedie98</td>\n      <td>Lush Rainforest Creek, West Vancouver, BC Cana...</td>\n      <td>there is a stream running through a forest fil...</td>\n      <td>6ec7bd503710da136ca82ff485fe72b5</td>\n      <td>/r/EarthPorn/comments/12vowq9/lush_rainforest_...</td>\n      <td>https://i.redd.it/5u71xc561jva1.jpg</td>\n      <td>6ec7bd503710da136ca82ff485fe72b5.jpg</td>\n      <td>D:\\data\\images\\EarthPorn\\6ec7bd503710da136ca82...</td>\n      <td>None</td>\n      <td>True</td>\n      <td>False</td>\n    </tr>\n    <tr>\n      <th>32088</th>\n      <td>12w3gmx</td>\n      <td>spaceporn</td>\n      <td>HeStoleMyBalloons</td>\n      <td>The launch of a Delta IV Heavy with the final ...</td>\n      <td>arafed rocket with a large stack of smoke comi...</td>\n      <td>d5b667054f921f849f39ff012880e8a7</td>\n      <td>/r/spaceporn/comments/12w3gmx/the_launch_of_a_...</td>\n      <td>https://i.redd.it/osgmavytxlva1.jpg</td>\n      <td>d5b667054f921f849f39ff012880e8a7.jpg</td>\n      <td>D:\\data\\images\\spaceporn\\d5b667054f921f849f39f...</td>\n      <td>None</td>\n      <td>True</td>\n      <td>False</td>\n    </tr>\n    <tr>\n      <th>32089</th>\n      <td>12w9hob</td>\n      <td>KoreanHotties</td>\n      <td>LoLsupportsmurf</td>\n      <td>Everyday Korean Girl</td>\n      <td>there is a woman in a black bra top sitting in...</td>\n      <td>9425210986f60470764cbe3fc1033a86</td>\n      <td>/r/KoreanHotties/comments/12w9hob/everyday_kor...</td>\n      <td>https://i.redd.it/hbuwlnw0lova1.jpg</td>\n      <td>9425210986f60470764cbe3fc1033a86.jpg</td>\n      <td>D:\\data\\images\\KoreanHotties\\9425210986f604707...</td>\n      <td>None</td>\n      <td>True</td>\n      <td>False</td>\n    </tr>\n    <tr>\n      <th>32090</th>\n      <td>12w9n5p</td>\n      <td>AsianOfficeLady</td>\n      <td>King_Oppai</td>\n      <td>#1249</td>\n      <td>arafed woman in a pink suit leaning against a ...</td>\n      <td>5143eea90b793fbb711ab3c6dd5a77d4</td>\n      <td>/r/AsianOfficeLady/comments/12w9n5p/1249/</td>\n      <td>https://i.redd.it/cyiotf2f4nva1.jpg</td>\n      <td>5143eea90b793fbb711ab3c6dd5a77d4.jpg</td>\n      <td>D:\\data\\images\\AsianOfficeLady\\5143eea90b793fb...</td>\n      <td>None</td>\n      <td>True</td>\n      <td>False</td>\n    </tr>\n    <tr>\n      <th>32091</th>\n      <td>12w4men</td>\n      <td>mildlypenis</td>\n      <td>Katsooduro</td>\n      <td>Tree Woody</td>\n      <td>there is a tree trunk with a face carved into it</td>\n      <td>450e8cdf685bbe991678325dd4ae4c45</td>\n      <td>/r/mildlypenis/comments/12w4men/tree_woody/</td>\n      <td>https://i.redd.it/7qhocg8u6mva1.jpg</td>\n      <td>450e8cdf685bbe991678325dd4ae4c45.jpg</td>\n      <td>D:\\data\\images\\mildlypenis\\450e8cdf685bbe99167...</td>\n      <td>None</td>\n      <td>True</td>\n      <td>False</td>\n    </tr>\n  </tbody>\n</table>\n<p>32092 rows × 13 columns</p>\n</div>"
     },
     "metadata": {},
     "output_type": "display_data"
    },
    {
     "name": "stdout",
     "output_type": "stream",
     "text": [
      "CPU times: total: 234 ms\n",
      "Wall time: 883 ms\n"
     ]
    }
   ],
   "source": [
    "%%time\n",
    "\n",
    "extant_data = pd.read_parquet(\"data/processed_raw_data.parquet\", engine='pyarrow', filesystem=file_system, schema=schema)\n",
    "display(extant_data)"
   ],
   "metadata": {
    "collapsed": false,
    "ExecuteTime": {
     "start_time": "2023-04-23T12:11:24.274220Z",
     "end_time": "2023-04-23T12:11:25.172622Z"
    }
   }
  },
  {
   "cell_type": "code",
   "execution_count": 4,
   "outputs": [
    {
     "name": "stderr",
     "output_type": "stream",
     "text": [
      "Version 7.6.1 of praw is outdated. Version 7.7.0 was released Saturday February 25, 2023.\n"
     ]
    }
   ],
   "source": [
    "reddit: praw.Reddit = praw.Reddit(client_id='5hVavL0PIRyM_1JSvqT6UQ', client_secret='BjD2kS3WNLnJc59RKY-JJUuc_Z9-JA', user_agent='script:%(bot_name)s:v%(bot_version)s (by /u/%(bot_author)s)')\n",
    "\n",
    "api: PushshiftAPI = PushshiftAPI(praw=reddit, num_workers=12)"
   ],
   "metadata": {
    "collapsed": false,
    "ExecuteTime": {
     "start_time": "2023-04-23T12:11:25.172622Z",
     "end_time": "2023-04-23T12:11:25.219599Z"
    }
   }
  },
  {
   "cell_type": "code",
   "execution_count": 5,
   "outputs": [],
   "source": [
    "from dask.callbacks import Callback\n",
    "from tqdm.autonotebook import tqdm\n",
    "\n",
    "\n",
    "class TQDMDaskProgressBar(Callback, object):\n",
    "    \"\"\"\n",
    "    A tqdm progress bar for dask.\n",
    "    Usage:\n",
    "        ```\n",
    "        with TQDMDaskProgressBar():\n",
    "            da.compute()\n",
    "        ```\n",
    "    Author : wassname\n",
    "    Source : https://gist.github.com/wassname/1837d0365247430e02abda41f0e7f184\n",
    "    See: http://dask.pydata.org/en/latest/diagnostics-local.html?highlight=progress\n",
    "    \"\"\"\n",
    "\n",
    "    def __init__(self, start=None, start_state=None, pretask=None, posttask=None, finish=None, **kwargs):\n",
    "        super(TQDMDaskProgressBar, self).__init__(\n",
    "            start=start,\n",
    "            start_state=start_state,\n",
    "            pretask=pretask,\n",
    "            posttask=posttask,\n",
    "            finish=finish,\n",
    "        )\n",
    "        self.tqdm_args = kwargs\n",
    "        self.states = [\"ready\", \"waiting\", \"running\", \"finished\"]\n",
    "\n",
    "    def _start_state(self, dsk, state):\n",
    "        self._tqdm = tqdm(total=sum(len(state[k]) for k in self.states), **self.tqdm_args)\n",
    "\n",
    "    def _posttask(self, key, result, dsk, state, worker_id):\n",
    "        self._tqdm.update(1)\n",
    "\n",
    "    def _finish(self, dsk, state, errored):\n",
    "        self._tqdm.close()"
   ],
   "metadata": {
    "collapsed": false,
    "ExecuteTime": {
     "start_time": "2023-04-23T12:11:25.188245Z",
     "end_time": "2023-04-23T12:11:25.262466Z"
    }
   }
  },
  {
   "cell_type": "code",
   "execution_count": 6,
   "outputs": [],
   "source": [
    "def filter_by_image_post(item) -> bool:\n",
    "\treturn not (item['selftext'].__contains__('[removed]') or item['selftext'].__contains__('[deleted]') and not item[\n",
    "\t\t'url'].endswith('.jpg'))"
   ],
   "metadata": {
    "collapsed": false,
    "ExecuteTime": {
     "start_time": "2023-04-23T12:11:25.219599Z",
     "end_time": "2023-04-23T12:11:25.310030Z"
    }
   }
  },
  {
   "cell_type": "code",
   "execution_count": 7,
   "outputs": [],
   "source": [
    "def fetch_image(x: object) -> object:\n",
    "\ttry:\n",
    "\t\ttime.sleep(0.1)\n",
    "\t\turl = x['original_url']\n",
    "\t\tsubreddit = x['subreddit']\n",
    "\t\tresponse = requests.get(url)\n",
    "\t\tmd5 = hashlib.md5(response.content).hexdigest()\n",
    "\t\tos.makedirs(f\"D:\\\\data\\\\images\\\\{subreddit}\", exist_ok=True)\n",
    "\t\tout_path = f\"D:\\\\data\\\\images\\\\{subreddit}\\\\{md5}.jpg\"\n",
    "\n",
    "\t\tif os.path.exists(out_path):\n",
    "\t\t\treturn out_path\n",
    "\n",
    "\t\tif md5 in list(extant_data['hash']):\n",
    "\t\t\treturn out_path\n",
    "\n",
    "\t\tif md5 != \"f17b01901c752c1bb04928131d1661af\" or md5 != \"d835884373f4d6c8f24742ceabe74946\":\n",
    "\t\t\traw_image = Image.open(BytesIO(response.content))\n",
    "\t\t\traw_image.save(out_path)\n",
    "\t\t\traw_image.close()\n",
    "\t\t\treturn out_path\n",
    "\t\telse:\n",
    "\t\t\treturn \"\"\n",
    "\texcept Exception as e:\n",
    "\t\tprint(e)\n",
    "\t\treturn \"\""
   ],
   "metadata": {
    "collapsed": false,
    "ExecuteTime": {
     "start_time": "2023-04-23T12:11:25.235141Z",
     "end_time": "2023-04-23T12:11:25.374800Z"
    }
   }
  },
  {
   "cell_type": "code",
   "execution_count": 8,
   "outputs": [],
   "source": [
    "def exists(x: object) -> bool:\n",
    "\ttry:\n",
    "\t\timage_path = os.path.exists(x['path'])\n",
    "\t\treturn image_path\n",
    "\texcept Exception as e:\n",
    "\t\tprint(e)\n",
    "\t\treturn False"
   ],
   "metadata": {
    "collapsed": false,
    "ExecuteTime": {
     "start_time": "2023-04-23T12:11:25.246723Z",
     "end_time": "2023-04-23T12:11:25.374800Z"
    }
   }
  },
  {
   "cell_type": "code",
   "execution_count": 9,
   "outputs": [],
   "source": [
    "def split_hash(x: object) -> str:\n",
    "\ttry:\n",
    "\t\tname = x['image_name']\n",
    "\t\treturn name.split('.')[0]\n",
    "\texcept Exception as e:\n",
    "\t\tprint(e)\n",
    "\t\treturn \"\""
   ],
   "metadata": {
    "collapsed": false,
    "ExecuteTime": {
     "start_time": "2023-04-23T12:11:25.824844Z",
     "end_time": "2023-04-23T12:11:25.840490Z"
    }
   }
  },
  {
   "cell_type": "code",
   "execution_count": 10,
   "outputs": [],
   "source": [
    "def caption_image(x: object, blip_captioning_list: [BlipCaption, BlipCaption]) -> str:\n",
    "\ttry:\n",
    "\t\tpath = x['path']\n",
    "\t\texists_image = bool(x['exists'])\n",
    "\t\tresulting_caption = x['caption']\n",
    "\n",
    "\t\tif not os.path.exists(path):\n",
    "\t\t\treturn \"\"\n",
    "\n",
    "\t\tif not exists_image:\n",
    "\t\t\treturn \"\"\n",
    "\n",
    "\t\tif resulting_caption == None:\n",
    "\t\t\tpass\n",
    "\t\tif resulting_caption is None:\n",
    "\t\t\tpass\n",
    "\t\telse:\n",
    "\t\t\tif len(resulting_caption) > 5:\n",
    "\t\t\t\treturn resulting_caption\n",
    "\t\t\tif resulting_caption != \"\":\n",
    "\t\t\t\treturn resulting_caption\n",
    "\t\t\telse:\n",
    "\t\t\t\tpass\n",
    "\n",
    "\t\tblip_captioning = random.choice(blip_captioning_list)\n",
    "\n",
    "\t\tresulting_caption = blip_captioning.caption_image(path)\n",
    "\n",
    "\t\treturn resulting_caption\n",
    "\n",
    "\texcept Exception as e:\n",
    "\t\tprint(e)\n",
    "\t\treturn \"\"\n",
    "\tfinally:\n",
    "\t\tpass"
   ],
   "metadata": {
    "collapsed": false,
    "ExecuteTime": {
     "start_time": "2023-04-23T12:11:26.374369Z",
     "end_time": "2023-04-23T12:11:26.399595Z"
    }
   }
  },
  {
   "cell_type": "code",
   "execution_count": 11,
   "outputs": [],
   "source": [
    "def get_image_name(x: object) -> str:\n",
    "\ttry:\n",
    "\t\tpath = x['path']\n",
    "\t\tif path == \"\":\n",
    "\t\t\treturn \"\"\n",
    "\t\treturn os.path.basename(path)\n",
    "\texcept Exception as e:\n",
    "\t\tprint(e)\n",
    "\t\treturn \"\""
   ],
   "metadata": {
    "collapsed": false,
    "ExecuteTime": {
     "start_time": "2023-04-23T12:11:26.940037Z",
     "end_time": "2023-04-23T12:11:26.955660Z"
    }
   }
  },
  {
   "cell_type": "code",
   "execution_count": 12,
   "outputs": [
    {
     "name": "stdout",
     "output_type": "stream",
     "text": [
      "Total Number Of Intervals: 19\n",
      "\n"
     ]
    }
   ],
   "source": [
    "# #@title Calculate Time Intervals For Training\n",
    "#\n",
    "# start_date = \"2023-04-08\"\n",
    "# end_date = datetime.today().timestamp()\n",
    "# day_in_seconds = 86400\n",
    "#\n",
    "# start_date_time_stamp: int = int(datetime.strptime(start_date, '%Y-%m-%d').timestamp() - day_in_seconds * 3)\n",
    "#\n",
    "# end_date_time_stamp: int = int(end_date)\n",
    "#\n",
    "# total_number_days_since_start = (end_date_time_stamp - start_date_time_stamp) # // day_in_seconds\n",
    "#\n",
    "# temp = start_date_time_stamp\n",
    "#\n",
    "# intervals = []\n",
    "# while temp < end_date_time_stamp:\n",
    "# \ttemp = temp + day_in_seconds\n",
    "# \tintervals.append(temp)\n",
    "#\n",
    "# print(f\"Total Number Of Intervals: {len(intervals)}\\n\")"
   ],
   "metadata": {
    "collapsed": false,
    "ExecuteTime": {
     "start_time": "2023-04-23T12:11:27.558837Z",
     "end_time": "2023-04-23T12:11:27.576976Z"
    }
   }
  },
  {
   "cell_type": "code",
   "execution_count": 13,
   "outputs": [
    {
     "data": {
      "text/plain": "Posts - SFWRedheads:   0%|          | 0/58 [00:00<?, ?it/s]",
      "application/vnd.jupyter.widget-view+json": {
       "version_major": 2,
       "version_minor": 0,
       "model_id": "24a55b2394e54bad8d2751e8e320d8ab"
      }
     },
     "metadata": {},
     "output_type": "display_data"
    },
    {
     "data": {
      "text/plain": "Posts - sfwpetite:   0%|          | 0/4 [00:00<?, ?it/s]",
      "application/vnd.jupyter.widget-view+json": {
       "version_major": 2,
       "version_minor": 0,
       "model_id": "72c9fd9cff0e40b3a95d5fb37579d9c6"
      }
     },
     "metadata": {},
     "output_type": "display_data"
    },
    {
     "data": {
      "text/plain": "Posts - SFWNextDoorGirls:   0%|          | 0/86 [00:00<?, ?it/s]",
      "application/vnd.jupyter.widget-view+json": {
       "version_major": 2,
       "version_minor": 0,
       "model_id": "46c43c731ee24979965a8561a79d2c51"
      }
     },
     "metadata": {},
     "output_type": "display_data"
    },
    {
     "data": {
      "text/plain": "Posts - trippinthroughtime:   0%|          | 0/2 [00:00<?, ?it/s]",
      "application/vnd.jupyter.widget-view+json": {
       "version_major": 2,
       "version_minor": 0,
       "model_id": "9c73085b6beb447681157c84d99cdda7"
      }
     },
     "metadata": {},
     "output_type": "display_data"
    },
    {
     "data": {
      "text/plain": "Posts - fatsquirrelhate:   0%|          | 0/17 [00:00<?, ?it/s]",
      "application/vnd.jupyter.widget-view+json": {
       "version_major": 2,
       "version_minor": 0,
       "model_id": "ca8e367d28f9484ba9ac57f8c1c1b50d"
      }
     },
     "metadata": {},
     "output_type": "display_data"
    },
    {
     "data": {
      "text/plain": "Posts - oldladiesbakingpies: 0it [00:00, ?it/s]",
      "application/vnd.jupyter.widget-view+json": {
       "version_major": 2,
       "version_minor": 0,
       "model_id": "d266d752399a422bb23099ec04c9538e"
      }
     },
     "metadata": {},
     "output_type": "display_data"
    },
    {
     "data": {
      "text/plain": "Posts - itookapicture:   0%|          | 0/100 [00:00<?, ?it/s]",
      "application/vnd.jupyter.widget-view+json": {
       "version_major": 2,
       "version_minor": 0,
       "model_id": "56b909a90c5a45fa9a5df49ed86d3e8a"
      }
     },
     "metadata": {},
     "output_type": "display_data"
    },
    {
     "data": {
      "text/plain": "Posts - memes:   0%|          | 0/100 [00:00<?, ?it/s]",
      "application/vnd.jupyter.widget-view+json": {
       "version_major": 2,
       "version_minor": 0,
       "model_id": "bd6762d6820f44419c5e7f57a6d1a7d9"
      }
     },
     "metadata": {},
     "output_type": "display_data"
    },
    {
     "data": {
      "text/plain": "Posts - WhitePeopleTwitter:   0%|          | 0/100 [00:00<?, ?it/s]",
      "application/vnd.jupyter.widget-view+json": {
       "version_major": 2,
       "version_minor": 0,
       "model_id": "c27811c495ab49d5a82f941942663910"
      }
     },
     "metadata": {},
     "output_type": "display_data"
    },
    {
     "data": {
      "text/plain": "Posts - CityPorn:   0%|          | 0/52 [00:00<?, ?it/s]",
      "application/vnd.jupyter.widget-view+json": {
       "version_major": 2,
       "version_minor": 0,
       "model_id": "5919cfa5fc9f4e258cc35e11164f7cda"
      }
     },
     "metadata": {},
     "output_type": "display_data"
    },
    {
     "data": {
      "text/plain": "Posts - EarthPorn:   0%|          | 0/44 [00:00<?, ?it/s]",
      "application/vnd.jupyter.widget-view+json": {
       "version_major": 2,
       "version_minor": 0,
       "model_id": "73ac7fca9453466f88a618a7571ad0b3"
      }
     },
     "metadata": {},
     "output_type": "display_data"
    },
    {
     "data": {
      "text/plain": "Posts - spaceporn:   0%|          | 0/13 [00:00<?, ?it/s]",
      "application/vnd.jupyter.widget-view+json": {
       "version_major": 2,
       "version_minor": 0,
       "model_id": "ab161c60494040c2a8ad3a41074aa84e"
      }
     },
     "metadata": {},
     "output_type": "display_data"
    },
    {
     "data": {
      "text/plain": "Posts - realasians:   0%|          | 0/65 [00:00<?, ?it/s]",
      "application/vnd.jupyter.widget-view+json": {
       "version_major": 2,
       "version_minor": 0,
       "model_id": "a354be3591284ee7a7b3f454914e3d26"
      }
     },
     "metadata": {},
     "output_type": "display_data"
    },
    {
     "data": {
      "text/plain": "Posts - KoreanHotties:   0%|          | 0/8 [00:00<?, ?it/s]",
      "application/vnd.jupyter.widget-view+json": {
       "version_major": 2,
       "version_minor": 0,
       "model_id": "1290106c64dd4835bb3e43b95641d8b2"
      }
     },
     "metadata": {},
     "output_type": "display_data"
    },
    {
     "data": {
      "text/plain": "Posts - prettyasiangirls:   0%|          | 0/18 [00:00<?, ?it/s]",
      "application/vnd.jupyter.widget-view+json": {
       "version_major": 2,
       "version_minor": 0,
       "model_id": "dfe498aba65047eba103a5afa199fdfa"
      }
     },
     "metadata": {},
     "output_type": "display_data"
    },
    {
     "data": {
      "text/plain": "Posts - AsianOfficeLady:   0%|          | 0/2 [00:00<?, ?it/s]",
      "application/vnd.jupyter.widget-view+json": {
       "version_major": 2,
       "version_minor": 0,
       "model_id": "d18b9aa1e01040dab9d02d009309e1c0"
      }
     },
     "metadata": {},
     "output_type": "display_data"
    },
    {
     "data": {
      "text/plain": "Posts - mildlypenis:   0%|          | 0/39 [00:00<?, ?it/s]",
      "application/vnd.jupyter.widget-view+json": {
       "version_major": 2,
       "version_minor": 0,
       "model_id": "39567c94ea8f44feabf250f2bde8bb55"
      }
     },
     "metadata": {},
     "output_type": "display_data"
    },
    {
     "data": {
      "text/plain": "           id    subreddit                author  \\\n0     12ob8sz  SFWRedheads               goneh0t   \n1     12obxk2  SFWRedheads        crystalcolette   \n2     12oe9ra  SFWRedheads     Free_Range_Ginger   \n3     12ognj6  SFWRedheads            Puzzled_MJ   \n4     12oh9ne  SFWRedheads          KittyKidKill   \n...       ...          ...                   ...   \n1975  12wchvk  mildlypenis   skrattarforlorar510   \n1976  12wcpqj  mildlypenis             sunspot5b   \n1977  12webvb  mildlypenis        serenity_later   \n1978  12wecrk  mildlypenis   Weird_Succotash8643   \n1979  12wfyzw  mildlypenis  TheQuietKidwithdaMP5   \n\n                                                  title caption hash  \\\n0          Just saying hi 👋whilst I'm having a good day                \n1                            Yes, I'm a natural redhead                \n2                          Spending the day like this 😏                \n3                                 How’s your day going?                \n4     Just one of those days where you don't get dre...                \n...                                                 ...     ...  ...   \n1975                           these hairs in my shower                \n1976   My husband was calibrating his 3D printer and...                \n1977                The inside of my padded bike shorts                \n1978                                    Peppa pig bread                \n1979         Alright, own up. which one of you did this                \n\n                                              permalink  \\\n0     /r/SFWRedheads/comments/12ob8sz/just_saying_hi...   \n1     /r/SFWRedheads/comments/12obxk2/yes_im_a_natur...   \n2     /r/SFWRedheads/comments/12oe9ra/spending_the_d...   \n3     /r/SFWRedheads/comments/12ognj6/hows_your_day_...   \n4     /r/SFWRedheads/comments/12oh9ne/just_one_of_th...   \n...                                                 ...   \n1975  /r/mildlypenis/comments/12wchvk/these_hairs_in...   \n1976  /r/mildlypenis/comments/12wcpqj/my_husband_was...   \n1977  /r/mildlypenis/comments/12webvb/the_inside_of_...   \n1978   /r/mildlypenis/comments/12wecrk/peppa_pig_bread/   \n1979  /r/mildlypenis/comments/12wfyzw/alright_own_up...   \n\n                             original_url image_name path thumbnail_path  \\\n0     https://i.redd.it/5pf8465ad9ua1.jpg                                  \n1     https://i.redd.it/61yzmr72yaua1.png                                  \n2     https://i.redd.it/r0rn6pnr6bua1.jpg                                  \n3     https://i.redd.it/dc07dgwigbua1.jpg                                  \n4     https://i.redd.it/iz1q5gmxjbua1.png                                  \n...                                   ...        ...  ...            ...   \n1975  https://i.redd.it/t2mekfgyvova1.jpg                                  \n1976      https://i.imgur.com/l6DWUSE.jpg                                  \n1977      https://i.imgur.com/RgSARo8.jpg                                  \n1978  https://i.redd.it/o6rebenzymva1.jpg                                  \n1979  https://i.redd.it/8nnuwqqqb8va1.png                                  \n\n      exists  curated  \n0      False    False  \n1      False    False  \n2      False    False  \n3      False    False  \n4      False    False  \n...      ...      ...  \n1975   False    False  \n1976   False    False  \n1977   False    False  \n1978   False    False  \n1979   False    False  \n\n[1980 rows x 13 columns]",
      "text/html": "<div>\n<style scoped>\n    .dataframe tbody tr th:only-of-type {\n        vertical-align: middle;\n    }\n\n    .dataframe tbody tr th {\n        vertical-align: top;\n    }\n\n    .dataframe thead th {\n        text-align: right;\n    }\n</style>\n<table border=\"1\" class=\"dataframe\">\n  <thead>\n    <tr style=\"text-align: right;\">\n      <th></th>\n      <th>id</th>\n      <th>subreddit</th>\n      <th>author</th>\n      <th>title</th>\n      <th>caption</th>\n      <th>hash</th>\n      <th>permalink</th>\n      <th>original_url</th>\n      <th>image_name</th>\n      <th>path</th>\n      <th>thumbnail_path</th>\n      <th>exists</th>\n      <th>curated</th>\n    </tr>\n  </thead>\n  <tbody>\n    <tr>\n      <th>0</th>\n      <td>12ob8sz</td>\n      <td>SFWRedheads</td>\n      <td>goneh0t</td>\n      <td>Just saying hi 👋whilst I'm having a good day</td>\n      <td></td>\n      <td></td>\n      <td>/r/SFWRedheads/comments/12ob8sz/just_saying_hi...</td>\n      <td>https://i.redd.it/5pf8465ad9ua1.jpg</td>\n      <td></td>\n      <td></td>\n      <td></td>\n      <td>False</td>\n      <td>False</td>\n    </tr>\n    <tr>\n      <th>1</th>\n      <td>12obxk2</td>\n      <td>SFWRedheads</td>\n      <td>crystalcolette</td>\n      <td>Yes, I'm a natural redhead</td>\n      <td></td>\n      <td></td>\n      <td>/r/SFWRedheads/comments/12obxk2/yes_im_a_natur...</td>\n      <td>https://i.redd.it/61yzmr72yaua1.png</td>\n      <td></td>\n      <td></td>\n      <td></td>\n      <td>False</td>\n      <td>False</td>\n    </tr>\n    <tr>\n      <th>2</th>\n      <td>12oe9ra</td>\n      <td>SFWRedheads</td>\n      <td>Free_Range_Ginger</td>\n      <td>Spending the day like this 😏</td>\n      <td></td>\n      <td></td>\n      <td>/r/SFWRedheads/comments/12oe9ra/spending_the_d...</td>\n      <td>https://i.redd.it/r0rn6pnr6bua1.jpg</td>\n      <td></td>\n      <td></td>\n      <td></td>\n      <td>False</td>\n      <td>False</td>\n    </tr>\n    <tr>\n      <th>3</th>\n      <td>12ognj6</td>\n      <td>SFWRedheads</td>\n      <td>Puzzled_MJ</td>\n      <td>How’s your day going?</td>\n      <td></td>\n      <td></td>\n      <td>/r/SFWRedheads/comments/12ognj6/hows_your_day_...</td>\n      <td>https://i.redd.it/dc07dgwigbua1.jpg</td>\n      <td></td>\n      <td></td>\n      <td></td>\n      <td>False</td>\n      <td>False</td>\n    </tr>\n    <tr>\n      <th>4</th>\n      <td>12oh9ne</td>\n      <td>SFWRedheads</td>\n      <td>KittyKidKill</td>\n      <td>Just one of those days where you don't get dre...</td>\n      <td></td>\n      <td></td>\n      <td>/r/SFWRedheads/comments/12oh9ne/just_one_of_th...</td>\n      <td>https://i.redd.it/iz1q5gmxjbua1.png</td>\n      <td></td>\n      <td></td>\n      <td></td>\n      <td>False</td>\n      <td>False</td>\n    </tr>\n    <tr>\n      <th>...</th>\n      <td>...</td>\n      <td>...</td>\n      <td>...</td>\n      <td>...</td>\n      <td>...</td>\n      <td>...</td>\n      <td>...</td>\n      <td>...</td>\n      <td>...</td>\n      <td>...</td>\n      <td>...</td>\n      <td>...</td>\n      <td>...</td>\n    </tr>\n    <tr>\n      <th>1975</th>\n      <td>12wchvk</td>\n      <td>mildlypenis</td>\n      <td>skrattarforlorar510</td>\n      <td>these hairs in my shower</td>\n      <td></td>\n      <td></td>\n      <td>/r/mildlypenis/comments/12wchvk/these_hairs_in...</td>\n      <td>https://i.redd.it/t2mekfgyvova1.jpg</td>\n      <td></td>\n      <td></td>\n      <td></td>\n      <td>False</td>\n      <td>False</td>\n    </tr>\n    <tr>\n      <th>1976</th>\n      <td>12wcpqj</td>\n      <td>mildlypenis</td>\n      <td>sunspot5b</td>\n      <td>My husband was calibrating his 3D printer and...</td>\n      <td></td>\n      <td></td>\n      <td>/r/mildlypenis/comments/12wcpqj/my_husband_was...</td>\n      <td>https://i.imgur.com/l6DWUSE.jpg</td>\n      <td></td>\n      <td></td>\n      <td></td>\n      <td>False</td>\n      <td>False</td>\n    </tr>\n    <tr>\n      <th>1977</th>\n      <td>12webvb</td>\n      <td>mildlypenis</td>\n      <td>serenity_later</td>\n      <td>The inside of my padded bike shorts</td>\n      <td></td>\n      <td></td>\n      <td>/r/mildlypenis/comments/12webvb/the_inside_of_...</td>\n      <td>https://i.imgur.com/RgSARo8.jpg</td>\n      <td></td>\n      <td></td>\n      <td></td>\n      <td>False</td>\n      <td>False</td>\n    </tr>\n    <tr>\n      <th>1978</th>\n      <td>12wecrk</td>\n      <td>mildlypenis</td>\n      <td>Weird_Succotash8643</td>\n      <td>Peppa pig bread</td>\n      <td></td>\n      <td></td>\n      <td>/r/mildlypenis/comments/12wecrk/peppa_pig_bread/</td>\n      <td>https://i.redd.it/o6rebenzymva1.jpg</td>\n      <td></td>\n      <td></td>\n      <td></td>\n      <td>False</td>\n      <td>False</td>\n    </tr>\n    <tr>\n      <th>1979</th>\n      <td>12wfyzw</td>\n      <td>mildlypenis</td>\n      <td>TheQuietKidwithdaMP5</td>\n      <td>Alright, own up. which one of you did this</td>\n      <td></td>\n      <td></td>\n      <td>/r/mildlypenis/comments/12wfyzw/alright_own_up...</td>\n      <td>https://i.redd.it/8nnuwqqqb8va1.png</td>\n      <td></td>\n      <td></td>\n      <td></td>\n      <td>False</td>\n      <td>False</td>\n    </tr>\n  </tbody>\n</table>\n<p>1980 rows × 13 columns</p>\n</div>"
     },
     "metadata": {},
     "output_type": "display_data"
    }
   ],
   "source": [
    "from praw.models import ListingGenerator\n",
    "import pandas as pd\n",
    "\n",
    "posts = []\n",
    "for sub in subs:\n",
    "\texisting_data = pd.read_parquet(f\"{sub}\")\n",
    "\ttry:\n",
    "\t\tsubreddit_stream: ListingGenerator = reddit.subreddit(display_name=sub).top(limit=100, time_filter='day')\n",
    "\t\tsubreddit_stream = list(subreddit_stream)\n",
    "\t\tfor submission in tqdm(subreddit_stream, total=len(subreddit_stream), desc=f\"Posts - {sub}\"):\n",
    "\t\t\tif submission is None:\n",
    "\t\t\t\tcontinue\n",
    "\t\t\tif not os.path.exists(f\"{sub}\"):\n",
    "\t\t\t\tos.makedirs(f\"{sub}\")\n",
    "\t\t\telse:\n",
    "\t\t\t\tif submission.id in list(extant_data['id']):\n",
    "\t\t\t\t\tcontinue\n",
    "\t\t\ttry:\n",
    "\t\t\t\tauthor_name = 'Unknown'\n",
    "\t\t\t\tsubreddit_name = sub\n",
    "\t\t\t\ttry:\n",
    "\t\t\t\t\tauthor_name = submission.author.name\n",
    "\t\t\t\texcept Exception as e:\n",
    "\t\t\t\t\tprint(e)\n",
    "\t\t\t\t\tpass\n",
    "\t\t\t\tp = {\n",
    "\t\t\t\t\t'id': submission.id,\n",
    "\t\t\t\t\t'subreddit': subreddit_name,\n",
    "\t\t\t\t\t'author': author_name,\n",
    "\t\t\t\t\t'title': submission.title,\n",
    "\t\t\t\t\t'caption': '',\n",
    "\t\t\t\t\t'hash': '',\n",
    "\t\t\t\t\t'permalink': submission.permalink,\n",
    "\t\t\t\t\t'original_url': submission.url,\n",
    "\t\t\t\t\t'image_name': '',\n",
    "\t\t\t\t\t'path': '',\n",
    "\t\t\t\t\t'thumbnail_path': '',\n",
    "\t\t\t\t\t'exists': False,\n",
    "\t\t\t\t\t'curated': False\n",
    "\t\t\t\t}\n",
    "\t\t\t\tpd.DataFrame([p]).to_parquet(f\"{sub}/{submission.id}.parquet\")\n",
    "\t\t\texcept Exception as e:\n",
    "\t\t\t\tprint(e)\n",
    "\t\t\t\tcontinue\n",
    "\texcept Exception as e:\n",
    "\t\tprint(e)\n",
    "\t\tcontinue\n",
    "\n",
    "\tdfs = [ pd.read_parquet(f\"{sub}/{item}\") for item in os.listdir(f\"{sub}\") if item.endswith(\".parquet\") ]\n",
    "\tf = pd.concat(dfs)\n",
    "\tsub_posts = f.to_dict(orient='records')\n",
    "\tposts.extend(sub_posts)\n",
    "\n",
    "all_data = pd.DataFrame(data=posts)\n",
    "display(all_data)"
   ],
   "metadata": {
    "collapsed": false,
    "ExecuteTime": {
     "start_time": "2023-04-23T12:11:29.253767Z",
     "end_time": "2023-04-23T12:14:18.635682Z"
    }
   }
  },
  {
   "cell_type": "code",
   "execution_count": 14,
   "outputs": [
    {
     "data": {
      "text/plain": "           id    subreddit                author  \\\n0     12ob8sz  SFWRedheads               goneh0t   \n1     12obxk2  SFWRedheads        crystalcolette   \n2     12oe9ra  SFWRedheads     Free_Range_Ginger   \n3     12ognj6  SFWRedheads            Puzzled_MJ   \n4     12oh9ne  SFWRedheads          KittyKidKill   \n...       ...          ...                   ...   \n1975  12wchvk  mildlypenis   skrattarforlorar510   \n1976  12wcpqj  mildlypenis             sunspot5b   \n1977  12webvb  mildlypenis        serenity_later   \n1978  12wecrk  mildlypenis   Weird_Succotash8643   \n1979  12wfyzw  mildlypenis  TheQuietKidwithdaMP5   \n\n                                                  title caption hash  \\\n0          Just saying hi 👋whilst I'm having a good day                \n1                            Yes, I'm a natural redhead                \n2                          Spending the day like this 😏                \n3                                 How’s your day going?                \n4     Just one of those days where you don't get dre...                \n...                                                 ...     ...  ...   \n1975                           these hairs in my shower                \n1976   My husband was calibrating his 3D printer and...                \n1977                The inside of my padded bike shorts                \n1978                                    Peppa pig bread                \n1979         Alright, own up. which one of you did this                \n\n                                              permalink  \\\n0     /r/SFWRedheads/comments/12ob8sz/just_saying_hi...   \n1     /r/SFWRedheads/comments/12obxk2/yes_im_a_natur...   \n2     /r/SFWRedheads/comments/12oe9ra/spending_the_d...   \n3     /r/SFWRedheads/comments/12ognj6/hows_your_day_...   \n4     /r/SFWRedheads/comments/12oh9ne/just_one_of_th...   \n...                                                 ...   \n1975  /r/mildlypenis/comments/12wchvk/these_hairs_in...   \n1976  /r/mildlypenis/comments/12wcpqj/my_husband_was...   \n1977  /r/mildlypenis/comments/12webvb/the_inside_of_...   \n1978   /r/mildlypenis/comments/12wecrk/peppa_pig_bread/   \n1979  /r/mildlypenis/comments/12wfyzw/alright_own_up...   \n\n                             original_url image_name path thumbnail_path  \\\n0     https://i.redd.it/5pf8465ad9ua1.jpg                                  \n1     https://i.redd.it/61yzmr72yaua1.png                                  \n2     https://i.redd.it/r0rn6pnr6bua1.jpg                                  \n3     https://i.redd.it/dc07dgwigbua1.jpg                                  \n4     https://i.redd.it/iz1q5gmxjbua1.png                                  \n...                                   ...        ...  ...            ...   \n1975  https://i.redd.it/t2mekfgyvova1.jpg                                  \n1976      https://i.imgur.com/l6DWUSE.jpg                                  \n1977      https://i.imgur.com/RgSARo8.jpg                                  \n1978  https://i.redd.it/o6rebenzymva1.jpg                                  \n1979  https://i.redd.it/8nnuwqqqb8va1.png                                  \n\n      exists  curated  \n0      False    False  \n1      False    False  \n2      False    False  \n3      False    False  \n4      False    False  \n...      ...      ...  \n1975   False    False  \n1976   False    False  \n1977   False    False  \n1978   False    False  \n1979   False    False  \n\n[1980 rows x 13 columns]",
      "text/html": "<div>\n<style scoped>\n    .dataframe tbody tr th:only-of-type {\n        vertical-align: middle;\n    }\n\n    .dataframe tbody tr th {\n        vertical-align: top;\n    }\n\n    .dataframe thead th {\n        text-align: right;\n    }\n</style>\n<table border=\"1\" class=\"dataframe\">\n  <thead>\n    <tr style=\"text-align: right;\">\n      <th></th>\n      <th>id</th>\n      <th>subreddit</th>\n      <th>author</th>\n      <th>title</th>\n      <th>caption</th>\n      <th>hash</th>\n      <th>permalink</th>\n      <th>original_url</th>\n      <th>image_name</th>\n      <th>path</th>\n      <th>thumbnail_path</th>\n      <th>exists</th>\n      <th>curated</th>\n    </tr>\n  </thead>\n  <tbody>\n    <tr>\n      <th>0</th>\n      <td>12ob8sz</td>\n      <td>SFWRedheads</td>\n      <td>goneh0t</td>\n      <td>Just saying hi 👋whilst I'm having a good day</td>\n      <td></td>\n      <td></td>\n      <td>/r/SFWRedheads/comments/12ob8sz/just_saying_hi...</td>\n      <td>https://i.redd.it/5pf8465ad9ua1.jpg</td>\n      <td></td>\n      <td></td>\n      <td></td>\n      <td>False</td>\n      <td>False</td>\n    </tr>\n    <tr>\n      <th>1</th>\n      <td>12obxk2</td>\n      <td>SFWRedheads</td>\n      <td>crystalcolette</td>\n      <td>Yes, I'm a natural redhead</td>\n      <td></td>\n      <td></td>\n      <td>/r/SFWRedheads/comments/12obxk2/yes_im_a_natur...</td>\n      <td>https://i.redd.it/61yzmr72yaua1.png</td>\n      <td></td>\n      <td></td>\n      <td></td>\n      <td>False</td>\n      <td>False</td>\n    </tr>\n    <tr>\n      <th>2</th>\n      <td>12oe9ra</td>\n      <td>SFWRedheads</td>\n      <td>Free_Range_Ginger</td>\n      <td>Spending the day like this 😏</td>\n      <td></td>\n      <td></td>\n      <td>/r/SFWRedheads/comments/12oe9ra/spending_the_d...</td>\n      <td>https://i.redd.it/r0rn6pnr6bua1.jpg</td>\n      <td></td>\n      <td></td>\n      <td></td>\n      <td>False</td>\n      <td>False</td>\n    </tr>\n    <tr>\n      <th>3</th>\n      <td>12ognj6</td>\n      <td>SFWRedheads</td>\n      <td>Puzzled_MJ</td>\n      <td>How’s your day going?</td>\n      <td></td>\n      <td></td>\n      <td>/r/SFWRedheads/comments/12ognj6/hows_your_day_...</td>\n      <td>https://i.redd.it/dc07dgwigbua1.jpg</td>\n      <td></td>\n      <td></td>\n      <td></td>\n      <td>False</td>\n      <td>False</td>\n    </tr>\n    <tr>\n      <th>4</th>\n      <td>12oh9ne</td>\n      <td>SFWRedheads</td>\n      <td>KittyKidKill</td>\n      <td>Just one of those days where you don't get dre...</td>\n      <td></td>\n      <td></td>\n      <td>/r/SFWRedheads/comments/12oh9ne/just_one_of_th...</td>\n      <td>https://i.redd.it/iz1q5gmxjbua1.png</td>\n      <td></td>\n      <td></td>\n      <td></td>\n      <td>False</td>\n      <td>False</td>\n    </tr>\n    <tr>\n      <th>...</th>\n      <td>...</td>\n      <td>...</td>\n      <td>...</td>\n      <td>...</td>\n      <td>...</td>\n      <td>...</td>\n      <td>...</td>\n      <td>...</td>\n      <td>...</td>\n      <td>...</td>\n      <td>...</td>\n      <td>...</td>\n      <td>...</td>\n    </tr>\n    <tr>\n      <th>1975</th>\n      <td>12wchvk</td>\n      <td>mildlypenis</td>\n      <td>skrattarforlorar510</td>\n      <td>these hairs in my shower</td>\n      <td></td>\n      <td></td>\n      <td>/r/mildlypenis/comments/12wchvk/these_hairs_in...</td>\n      <td>https://i.redd.it/t2mekfgyvova1.jpg</td>\n      <td></td>\n      <td></td>\n      <td></td>\n      <td>False</td>\n      <td>False</td>\n    </tr>\n    <tr>\n      <th>1976</th>\n      <td>12wcpqj</td>\n      <td>mildlypenis</td>\n      <td>sunspot5b</td>\n      <td>My husband was calibrating his 3D printer and...</td>\n      <td></td>\n      <td></td>\n      <td>/r/mildlypenis/comments/12wcpqj/my_husband_was...</td>\n      <td>https://i.imgur.com/l6DWUSE.jpg</td>\n      <td></td>\n      <td></td>\n      <td></td>\n      <td>False</td>\n      <td>False</td>\n    </tr>\n    <tr>\n      <th>1977</th>\n      <td>12webvb</td>\n      <td>mildlypenis</td>\n      <td>serenity_later</td>\n      <td>The inside of my padded bike shorts</td>\n      <td></td>\n      <td></td>\n      <td>/r/mildlypenis/comments/12webvb/the_inside_of_...</td>\n      <td>https://i.imgur.com/RgSARo8.jpg</td>\n      <td></td>\n      <td></td>\n      <td></td>\n      <td>False</td>\n      <td>False</td>\n    </tr>\n    <tr>\n      <th>1978</th>\n      <td>12wecrk</td>\n      <td>mildlypenis</td>\n      <td>Weird_Succotash8643</td>\n      <td>Peppa pig bread</td>\n      <td></td>\n      <td></td>\n      <td>/r/mildlypenis/comments/12wecrk/peppa_pig_bread/</td>\n      <td>https://i.redd.it/o6rebenzymva1.jpg</td>\n      <td></td>\n      <td></td>\n      <td></td>\n      <td>False</td>\n      <td>False</td>\n    </tr>\n    <tr>\n      <th>1979</th>\n      <td>12wfyzw</td>\n      <td>mildlypenis</td>\n      <td>TheQuietKidwithdaMP5</td>\n      <td>Alright, own up. which one of you did this</td>\n      <td></td>\n      <td></td>\n      <td>/r/mildlypenis/comments/12wfyzw/alright_own_up...</td>\n      <td>https://i.redd.it/8nnuwqqqb8va1.png</td>\n      <td></td>\n      <td></td>\n      <td></td>\n      <td>False</td>\n      <td>False</td>\n    </tr>\n  </tbody>\n</table>\n<p>1980 rows × 13 columns</p>\n</div>"
     },
     "metadata": {},
     "output_type": "display_data"
    },
    {
     "name": "stdout",
     "output_type": "stream",
     "text": [
      "CPU times: total: 15.6 ms\n",
      "Wall time: 15.7 ms\n"
     ]
    }
   ],
   "source": [
    "%%time\n",
    "\n",
    "# dfs = []\n",
    "# for sub in subs:\n",
    "# \tdfs.extend( [ pd.read_parquet(f\"{sub}/{item}\") for item in os.listdir(f\"{sub}\") if item.endswith(\".parquet\") ])\n",
    "\n",
    "df = all_data #pd.concat(dfs)\n",
    "display(df)"
   ],
   "metadata": {
    "collapsed": false,
    "ExecuteTime": {
     "start_time": "2023-04-23T13:25:09.880234Z",
     "end_time": "2023-04-23T13:25:09.927214Z"
    }
   }
  },
  {
   "cell_type": "code",
   "execution_count": 15,
   "outputs": [
    {
     "data": {
      "text/plain": "           id    subreddit                author  \\\n0     12ob8sz  SFWRedheads               goneh0t   \n1     12obxk2  SFWRedheads        crystalcolette   \n2     12oe9ra  SFWRedheads     Free_Range_Ginger   \n3     12ognj6  SFWRedheads            Puzzled_MJ   \n4     12oh9ne  SFWRedheads          KittyKidKill   \n...       ...          ...                   ...   \n1975  12wchvk  mildlypenis   skrattarforlorar510   \n1976  12wcpqj  mildlypenis             sunspot5b   \n1977  12webvb  mildlypenis        serenity_later   \n1978  12wecrk  mildlypenis   Weird_Succotash8643   \n1979  12wfyzw  mildlypenis  TheQuietKidwithdaMP5   \n\n                                                  title caption hash  \\\n0          Just saying hi 👋whilst I'm having a good day                \n1                            Yes, I'm a natural redhead                \n2                          Spending the day like this 😏                \n3                                 How’s your day going?                \n4     Just one of those days where you don't get dre...                \n...                                                 ...     ...  ...   \n1975                           these hairs in my shower                \n1976   My husband was calibrating his 3D printer and...                \n1977                The inside of my padded bike shorts                \n1978                                    Peppa pig bread                \n1979         Alright, own up. which one of you did this                \n\n                                              permalink  \\\n0     /r/SFWRedheads/comments/12ob8sz/just_saying_hi...   \n1     /r/SFWRedheads/comments/12obxk2/yes_im_a_natur...   \n2     /r/SFWRedheads/comments/12oe9ra/spending_the_d...   \n3     /r/SFWRedheads/comments/12ognj6/hows_your_day_...   \n4     /r/SFWRedheads/comments/12oh9ne/just_one_of_th...   \n...                                                 ...   \n1975  /r/mildlypenis/comments/12wchvk/these_hairs_in...   \n1976  /r/mildlypenis/comments/12wcpqj/my_husband_was...   \n1977  /r/mildlypenis/comments/12webvb/the_inside_of_...   \n1978   /r/mildlypenis/comments/12wecrk/peppa_pig_bread/   \n1979  /r/mildlypenis/comments/12wfyzw/alright_own_up...   \n\n                             original_url image_name path thumbnail_path  \\\n0     https://i.redd.it/5pf8465ad9ua1.jpg                                  \n1     https://i.redd.it/61yzmr72yaua1.png                                  \n2     https://i.redd.it/r0rn6pnr6bua1.jpg                                  \n3     https://i.redd.it/dc07dgwigbua1.jpg                                  \n4     https://i.redd.it/iz1q5gmxjbua1.png                                  \n...                                   ...        ...  ...            ...   \n1975  https://i.redd.it/t2mekfgyvova1.jpg                                  \n1976      https://i.imgur.com/l6DWUSE.jpg                                  \n1977      https://i.imgur.com/RgSARo8.jpg                                  \n1978  https://i.redd.it/o6rebenzymva1.jpg                                  \n1979  https://i.redd.it/8nnuwqqqb8va1.png                                  \n\n      exists  curated  \n0      False    False  \n1      False    False  \n2      False    False  \n3      False    False  \n4      False    False  \n...      ...      ...  \n1975   False    False  \n1976   False    False  \n1977   False    False  \n1978   False    False  \n1979   False    False  \n\n[1980 rows x 13 columns]",
      "text/html": "<div>\n<style scoped>\n    .dataframe tbody tr th:only-of-type {\n        vertical-align: middle;\n    }\n\n    .dataframe tbody tr th {\n        vertical-align: top;\n    }\n\n    .dataframe thead th {\n        text-align: right;\n    }\n</style>\n<table border=\"1\" class=\"dataframe\">\n  <thead>\n    <tr style=\"text-align: right;\">\n      <th></th>\n      <th>id</th>\n      <th>subreddit</th>\n      <th>author</th>\n      <th>title</th>\n      <th>caption</th>\n      <th>hash</th>\n      <th>permalink</th>\n      <th>original_url</th>\n      <th>image_name</th>\n      <th>path</th>\n      <th>thumbnail_path</th>\n      <th>exists</th>\n      <th>curated</th>\n    </tr>\n  </thead>\n  <tbody>\n    <tr>\n      <th>0</th>\n      <td>12ob8sz</td>\n      <td>SFWRedheads</td>\n      <td>goneh0t</td>\n      <td>Just saying hi 👋whilst I'm having a good day</td>\n      <td></td>\n      <td></td>\n      <td>/r/SFWRedheads/comments/12ob8sz/just_saying_hi...</td>\n      <td>https://i.redd.it/5pf8465ad9ua1.jpg</td>\n      <td></td>\n      <td></td>\n      <td></td>\n      <td>False</td>\n      <td>False</td>\n    </tr>\n    <tr>\n      <th>1</th>\n      <td>12obxk2</td>\n      <td>SFWRedheads</td>\n      <td>crystalcolette</td>\n      <td>Yes, I'm a natural redhead</td>\n      <td></td>\n      <td></td>\n      <td>/r/SFWRedheads/comments/12obxk2/yes_im_a_natur...</td>\n      <td>https://i.redd.it/61yzmr72yaua1.png</td>\n      <td></td>\n      <td></td>\n      <td></td>\n      <td>False</td>\n      <td>False</td>\n    </tr>\n    <tr>\n      <th>2</th>\n      <td>12oe9ra</td>\n      <td>SFWRedheads</td>\n      <td>Free_Range_Ginger</td>\n      <td>Spending the day like this 😏</td>\n      <td></td>\n      <td></td>\n      <td>/r/SFWRedheads/comments/12oe9ra/spending_the_d...</td>\n      <td>https://i.redd.it/r0rn6pnr6bua1.jpg</td>\n      <td></td>\n      <td></td>\n      <td></td>\n      <td>False</td>\n      <td>False</td>\n    </tr>\n    <tr>\n      <th>3</th>\n      <td>12ognj6</td>\n      <td>SFWRedheads</td>\n      <td>Puzzled_MJ</td>\n      <td>How’s your day going?</td>\n      <td></td>\n      <td></td>\n      <td>/r/SFWRedheads/comments/12ognj6/hows_your_day_...</td>\n      <td>https://i.redd.it/dc07dgwigbua1.jpg</td>\n      <td></td>\n      <td></td>\n      <td></td>\n      <td>False</td>\n      <td>False</td>\n    </tr>\n    <tr>\n      <th>4</th>\n      <td>12oh9ne</td>\n      <td>SFWRedheads</td>\n      <td>KittyKidKill</td>\n      <td>Just one of those days where you don't get dre...</td>\n      <td></td>\n      <td></td>\n      <td>/r/SFWRedheads/comments/12oh9ne/just_one_of_th...</td>\n      <td>https://i.redd.it/iz1q5gmxjbua1.png</td>\n      <td></td>\n      <td></td>\n      <td></td>\n      <td>False</td>\n      <td>False</td>\n    </tr>\n    <tr>\n      <th>...</th>\n      <td>...</td>\n      <td>...</td>\n      <td>...</td>\n      <td>...</td>\n      <td>...</td>\n      <td>...</td>\n      <td>...</td>\n      <td>...</td>\n      <td>...</td>\n      <td>...</td>\n      <td>...</td>\n      <td>...</td>\n      <td>...</td>\n    </tr>\n    <tr>\n      <th>1975</th>\n      <td>12wchvk</td>\n      <td>mildlypenis</td>\n      <td>skrattarforlorar510</td>\n      <td>these hairs in my shower</td>\n      <td></td>\n      <td></td>\n      <td>/r/mildlypenis/comments/12wchvk/these_hairs_in...</td>\n      <td>https://i.redd.it/t2mekfgyvova1.jpg</td>\n      <td></td>\n      <td></td>\n      <td></td>\n      <td>False</td>\n      <td>False</td>\n    </tr>\n    <tr>\n      <th>1976</th>\n      <td>12wcpqj</td>\n      <td>mildlypenis</td>\n      <td>sunspot5b</td>\n      <td>My husband was calibrating his 3D printer and...</td>\n      <td></td>\n      <td></td>\n      <td>/r/mildlypenis/comments/12wcpqj/my_husband_was...</td>\n      <td>https://i.imgur.com/l6DWUSE.jpg</td>\n      <td></td>\n      <td></td>\n      <td></td>\n      <td>False</td>\n      <td>False</td>\n    </tr>\n    <tr>\n      <th>1977</th>\n      <td>12webvb</td>\n      <td>mildlypenis</td>\n      <td>serenity_later</td>\n      <td>The inside of my padded bike shorts</td>\n      <td></td>\n      <td></td>\n      <td>/r/mildlypenis/comments/12webvb/the_inside_of_...</td>\n      <td>https://i.imgur.com/RgSARo8.jpg</td>\n      <td></td>\n      <td></td>\n      <td></td>\n      <td>False</td>\n      <td>False</td>\n    </tr>\n    <tr>\n      <th>1978</th>\n      <td>12wecrk</td>\n      <td>mildlypenis</td>\n      <td>Weird_Succotash8643</td>\n      <td>Peppa pig bread</td>\n      <td></td>\n      <td></td>\n      <td>/r/mildlypenis/comments/12wecrk/peppa_pig_bread/</td>\n      <td>https://i.redd.it/o6rebenzymva1.jpg</td>\n      <td></td>\n      <td></td>\n      <td></td>\n      <td>False</td>\n      <td>False</td>\n    </tr>\n    <tr>\n      <th>1979</th>\n      <td>12wfyzw</td>\n      <td>mildlypenis</td>\n      <td>TheQuietKidwithdaMP5</td>\n      <td>Alright, own up. which one of you did this</td>\n      <td></td>\n      <td></td>\n      <td>/r/mildlypenis/comments/12wfyzw/alright_own_up...</td>\n      <td>https://i.redd.it/8nnuwqqqb8va1.png</td>\n      <td></td>\n      <td></td>\n      <td></td>\n      <td>False</td>\n      <td>False</td>\n    </tr>\n  </tbody>\n</table>\n<p>1980 rows × 13 columns</p>\n</div>"
     },
     "metadata": {},
     "output_type": "display_data"
    },
    {
     "data": {
      "text/plain": "           id    subreddit               author  \\\n0     12ob8sz  SFWRedheads              goneh0t   \n1     12oe9ra  SFWRedheads    Free_Range_Ginger   \n2     12ognj6  SFWRedheads           Puzzled_MJ   \n3     12oingd  SFWRedheads              Ovaxx25   \n4     12ok02i  SFWRedheads      Dasharkiss_real   \n...       ...          ...                  ...   \n1483  12w5x14  mildlypenis              Tajjiia   \n1484  12wchvk  mildlypenis  skrattarforlorar510   \n1485  12wcpqj  mildlypenis            sunspot5b   \n1486  12webvb  mildlypenis       serenity_later   \n1487  12wecrk  mildlypenis  Weird_Succotash8643   \n\n                                                  title caption hash  \\\n0          Just saying hi 👋whilst I'm having a good day                \n1                          Spending the day like this 😏                \n2                                 How’s your day going?                \n3                             Finally a sunny Sunday ☀️                \n4     I wanted to buy myself a drink, but I kept get...                \n...                                                 ...     ...  ...   \n1483                      This lamp at my parents house                \n1484                           these hairs in my shower                \n1485   My husband was calibrating his 3D printer and...                \n1486                The inside of my padded bike shorts                \n1487                                    Peppa pig bread                \n\n                                              permalink  \\\n0     /r/SFWRedheads/comments/12ob8sz/just_saying_hi...   \n1     /r/SFWRedheads/comments/12oe9ra/spending_the_d...   \n2     /r/SFWRedheads/comments/12ognj6/hows_your_day_...   \n3     /r/SFWRedheads/comments/12oingd/finally_a_sunn...   \n4     /r/SFWRedheads/comments/12ok02i/i_wanted_to_bu...   \n...                                                 ...   \n1483  /r/mildlypenis/comments/12w5x14/this_lamp_at_m...   \n1484  /r/mildlypenis/comments/12wchvk/these_hairs_in...   \n1485  /r/mildlypenis/comments/12wcpqj/my_husband_was...   \n1486  /r/mildlypenis/comments/12webvb/the_inside_of_...   \n1487   /r/mildlypenis/comments/12wecrk/peppa_pig_bread/   \n\n                             original_url image_name path thumbnail_path  \\\n0     https://i.redd.it/5pf8465ad9ua1.jpg                                  \n1     https://i.redd.it/r0rn6pnr6bua1.jpg                                  \n2     https://i.redd.it/dc07dgwigbua1.jpg                                  \n3     https://i.redd.it/r95de6qzrbua1.jpg                                  \n4         https://i.imgur.com/mzVT9Kj.jpg                                  \n...                                   ...        ...  ...            ...   \n1483  https://i.redd.it/xcvcqcodhmva1.jpg                                  \n1484  https://i.redd.it/t2mekfgyvova1.jpg                                  \n1485      https://i.imgur.com/l6DWUSE.jpg                                  \n1486      https://i.imgur.com/RgSARo8.jpg                                  \n1487  https://i.redd.it/o6rebenzymva1.jpg                                  \n\n     exists curated  \n0     False   False  \n1     False   False  \n2     False   False  \n3     False   False  \n4     False   False  \n...     ...     ...  \n1483  False   False  \n1484  False   False  \n1485  False   False  \n1486  False   False  \n1487  False   False  \n\n[1488 rows x 13 columns]",
      "text/html": "<div>\n<style scoped>\n    .dataframe tbody tr th:only-of-type {\n        vertical-align: middle;\n    }\n\n    .dataframe tbody tr th {\n        vertical-align: top;\n    }\n\n    .dataframe thead th {\n        text-align: right;\n    }\n</style>\n<table border=\"1\" class=\"dataframe\">\n  <thead>\n    <tr style=\"text-align: right;\">\n      <th></th>\n      <th>id</th>\n      <th>subreddit</th>\n      <th>author</th>\n      <th>title</th>\n      <th>caption</th>\n      <th>hash</th>\n      <th>permalink</th>\n      <th>original_url</th>\n      <th>image_name</th>\n      <th>path</th>\n      <th>thumbnail_path</th>\n      <th>exists</th>\n      <th>curated</th>\n    </tr>\n  </thead>\n  <tbody>\n    <tr>\n      <th>0</th>\n      <td>12ob8sz</td>\n      <td>SFWRedheads</td>\n      <td>goneh0t</td>\n      <td>Just saying hi 👋whilst I'm having a good day</td>\n      <td></td>\n      <td></td>\n      <td>/r/SFWRedheads/comments/12ob8sz/just_saying_hi...</td>\n      <td>https://i.redd.it/5pf8465ad9ua1.jpg</td>\n      <td></td>\n      <td></td>\n      <td></td>\n      <td>False</td>\n      <td>False</td>\n    </tr>\n    <tr>\n      <th>1</th>\n      <td>12oe9ra</td>\n      <td>SFWRedheads</td>\n      <td>Free_Range_Ginger</td>\n      <td>Spending the day like this 😏</td>\n      <td></td>\n      <td></td>\n      <td>/r/SFWRedheads/comments/12oe9ra/spending_the_d...</td>\n      <td>https://i.redd.it/r0rn6pnr6bua1.jpg</td>\n      <td></td>\n      <td></td>\n      <td></td>\n      <td>False</td>\n      <td>False</td>\n    </tr>\n    <tr>\n      <th>2</th>\n      <td>12ognj6</td>\n      <td>SFWRedheads</td>\n      <td>Puzzled_MJ</td>\n      <td>How’s your day going?</td>\n      <td></td>\n      <td></td>\n      <td>/r/SFWRedheads/comments/12ognj6/hows_your_day_...</td>\n      <td>https://i.redd.it/dc07dgwigbua1.jpg</td>\n      <td></td>\n      <td></td>\n      <td></td>\n      <td>False</td>\n      <td>False</td>\n    </tr>\n    <tr>\n      <th>3</th>\n      <td>12oingd</td>\n      <td>SFWRedheads</td>\n      <td>Ovaxx25</td>\n      <td>Finally a sunny Sunday ☀️</td>\n      <td></td>\n      <td></td>\n      <td>/r/SFWRedheads/comments/12oingd/finally_a_sunn...</td>\n      <td>https://i.redd.it/r95de6qzrbua1.jpg</td>\n      <td></td>\n      <td></td>\n      <td></td>\n      <td>False</td>\n      <td>False</td>\n    </tr>\n    <tr>\n      <th>4</th>\n      <td>12ok02i</td>\n      <td>SFWRedheads</td>\n      <td>Dasharkiss_real</td>\n      <td>I wanted to buy myself a drink, but I kept get...</td>\n      <td></td>\n      <td></td>\n      <td>/r/SFWRedheads/comments/12ok02i/i_wanted_to_bu...</td>\n      <td>https://i.imgur.com/mzVT9Kj.jpg</td>\n      <td></td>\n      <td></td>\n      <td></td>\n      <td>False</td>\n      <td>False</td>\n    </tr>\n    <tr>\n      <th>...</th>\n      <td>...</td>\n      <td>...</td>\n      <td>...</td>\n      <td>...</td>\n      <td>...</td>\n      <td>...</td>\n      <td>...</td>\n      <td>...</td>\n      <td>...</td>\n      <td>...</td>\n      <td>...</td>\n      <td>...</td>\n      <td>...</td>\n    </tr>\n    <tr>\n      <th>1483</th>\n      <td>12w5x14</td>\n      <td>mildlypenis</td>\n      <td>Tajjiia</td>\n      <td>This lamp at my parents house</td>\n      <td></td>\n      <td></td>\n      <td>/r/mildlypenis/comments/12w5x14/this_lamp_at_m...</td>\n      <td>https://i.redd.it/xcvcqcodhmva1.jpg</td>\n      <td></td>\n      <td></td>\n      <td></td>\n      <td>False</td>\n      <td>False</td>\n    </tr>\n    <tr>\n      <th>1484</th>\n      <td>12wchvk</td>\n      <td>mildlypenis</td>\n      <td>skrattarforlorar510</td>\n      <td>these hairs in my shower</td>\n      <td></td>\n      <td></td>\n      <td>/r/mildlypenis/comments/12wchvk/these_hairs_in...</td>\n      <td>https://i.redd.it/t2mekfgyvova1.jpg</td>\n      <td></td>\n      <td></td>\n      <td></td>\n      <td>False</td>\n      <td>False</td>\n    </tr>\n    <tr>\n      <th>1485</th>\n      <td>12wcpqj</td>\n      <td>mildlypenis</td>\n      <td>sunspot5b</td>\n      <td>My husband was calibrating his 3D printer and...</td>\n      <td></td>\n      <td></td>\n      <td>/r/mildlypenis/comments/12wcpqj/my_husband_was...</td>\n      <td>https://i.imgur.com/l6DWUSE.jpg</td>\n      <td></td>\n      <td></td>\n      <td></td>\n      <td>False</td>\n      <td>False</td>\n    </tr>\n    <tr>\n      <th>1486</th>\n      <td>12webvb</td>\n      <td>mildlypenis</td>\n      <td>serenity_later</td>\n      <td>The inside of my padded bike shorts</td>\n      <td></td>\n      <td></td>\n      <td>/r/mildlypenis/comments/12webvb/the_inside_of_...</td>\n      <td>https://i.imgur.com/RgSARo8.jpg</td>\n      <td></td>\n      <td></td>\n      <td></td>\n      <td>False</td>\n      <td>False</td>\n    </tr>\n    <tr>\n      <th>1487</th>\n      <td>12wecrk</td>\n      <td>mildlypenis</td>\n      <td>Weird_Succotash8643</td>\n      <td>Peppa pig bread</td>\n      <td></td>\n      <td></td>\n      <td>/r/mildlypenis/comments/12wecrk/peppa_pig_bread/</td>\n      <td>https://i.redd.it/o6rebenzymva1.jpg</td>\n      <td></td>\n      <td></td>\n      <td></td>\n      <td>False</td>\n      <td>False</td>\n    </tr>\n  </tbody>\n</table>\n<p>1488 rows × 13 columns</p>\n</div>"
     },
     "metadata": {},
     "output_type": "display_data"
    },
    {
     "name": "stdout",
     "output_type": "stream",
     "text": [
      "CPU times: total: 31.2 ms\n",
      "Wall time: 31.2 ms\n"
     ]
    }
   ],
   "source": [
    "%%time\n",
    "\n",
    "initial = pd.DataFrame({}, columns=schema.names)\n",
    "initial.id = df.id\n",
    "initial.subreddit = df.subreddit\n",
    "initial.author = df.author\n",
    "initial.title = df.title\n",
    "initial.caption = \"\"\n",
    "initial.hash = \"\"\n",
    "initial.permalink = df.permalink\n",
    "initial.original_url = df.original_url\n",
    "initial.image_name = \"\"\n",
    "initial.path = \"\"\n",
    "initial.thumbnail_path = \"\"\n",
    "initial.exists = False\n",
    "initial.curated = False\n",
    "\n",
    "display(initial)\n",
    "\n",
    "filtered_initial = initial.where(initial['original_url'].str.endswith('.jpg')).dropna(how='all').reset_index().drop('index', axis=1)\n",
    "\n",
    "display(filtered_initial)"
   ],
   "metadata": {
    "collapsed": false,
    "ExecuteTime": {
     "start_time": "2023-04-23T13:25:34.724247Z",
     "end_time": "2023-04-23T13:25:34.786698Z"
    }
   }
  },
  {
   "cell_type": "code",
   "execution_count": 20,
   "outputs": [
    {
     "data": {
      "text/plain": "          id    subreddit               author  \\\n0    12pbl8q  SFWRedheads    officiallyviolets   \n1    12vaqh1  SFWRedheads        RedheadHeaven   \n2    12vb7af  SFWRedheads          Swim_Pretty   \n3    12vbxg3  SFWRedheads            bislut997   \n4    12vc45j  SFWRedheads     missgingerisafox   \n..       ...          ...                  ...   \n459  12w5x14  mildlypenis              Tajjiia   \n460  12wchvk  mildlypenis  skrattarforlorar510   \n461  12wcpqj  mildlypenis            sunspot5b   \n462  12webvb  mildlypenis       serenity_later   \n463  12wecrk  mildlypenis  Weird_Succotash8643   \n\n                                                title caption hash  \\\n0                   Finals start today! Wish me luck!                \n1                                 Get on your knees 😈                \n2                 Just your tattooed redhead neighbor                \n3                    So fresh, so clean | Amber Addis                \n4                                       Venus remix 🐆                \n..                                                ...     ...  ...   \n459                     This lamp at my parents house                \n460                          these hairs in my shower                \n461  My husband was calibrating his 3D printer and...                \n462               The inside of my padded bike shorts                \n463                                   Peppa pig bread                \n\n                                             permalink  \\\n0    /r/SFWRedheads/comments/12pbl8q/finals_start_t...   \n1    /r/SFWRedheads/comments/12vaqh1/get_on_your_kn...   \n2    /r/SFWRedheads/comments/12vb7af/just_your_tatt...   \n3    /r/SFWRedheads/comments/12vbxg3/so_fresh_so_cl...   \n4         /r/SFWRedheads/comments/12vc45j/venus_remix/   \n..                                                 ...   \n459  /r/mildlypenis/comments/12w5x14/this_lamp_at_m...   \n460  /r/mildlypenis/comments/12wchvk/these_hairs_in...   \n461  /r/mildlypenis/comments/12wcpqj/my_husband_was...   \n462  /r/mildlypenis/comments/12webvb/the_inside_of_...   \n463   /r/mildlypenis/comments/12wecrk/peppa_pig_bread/   \n\n                            original_url image_name path thumbnail_path  \\\n0    https://i.redd.it/5030bycyugua1.jpg                                  \n1    https://i.redd.it/2kn2d74t4iva1.jpg                                  \n2    https://i.redd.it/3by4k3gl7iva1.jpg                                  \n3        https://i.imgur.com/GJdc00r.jpg                                  \n4    https://i.redd.it/iwb14gjvciva1.jpg                                  \n..                                   ...        ...  ...            ...   \n459  https://i.redd.it/xcvcqcodhmva1.jpg                                  \n460  https://i.redd.it/t2mekfgyvova1.jpg                                  \n461      https://i.imgur.com/l6DWUSE.jpg                                  \n462      https://i.imgur.com/RgSARo8.jpg                                  \n463  https://i.redd.it/o6rebenzymva1.jpg                                  \n\n    exists curated  \n0    False   False  \n1    False   False  \n2    False   False  \n3    False   False  \n4    False   False  \n..     ...     ...  \n459  False   False  \n460  False   False  \n461  False   False  \n462  False   False  \n463  False   False  \n\n[464 rows x 13 columns]",
      "text/html": "<div>\n<style scoped>\n    .dataframe tbody tr th:only-of-type {\n        vertical-align: middle;\n    }\n\n    .dataframe tbody tr th {\n        vertical-align: top;\n    }\n\n    .dataframe thead th {\n        text-align: right;\n    }\n</style>\n<table border=\"1\" class=\"dataframe\">\n  <thead>\n    <tr style=\"text-align: right;\">\n      <th></th>\n      <th>id</th>\n      <th>subreddit</th>\n      <th>author</th>\n      <th>title</th>\n      <th>caption</th>\n      <th>hash</th>\n      <th>permalink</th>\n      <th>original_url</th>\n      <th>image_name</th>\n      <th>path</th>\n      <th>thumbnail_path</th>\n      <th>exists</th>\n      <th>curated</th>\n    </tr>\n  </thead>\n  <tbody>\n    <tr>\n      <th>0</th>\n      <td>12pbl8q</td>\n      <td>SFWRedheads</td>\n      <td>officiallyviolets</td>\n      <td>Finals start today! Wish me luck!</td>\n      <td></td>\n      <td></td>\n      <td>/r/SFWRedheads/comments/12pbl8q/finals_start_t...</td>\n      <td>https://i.redd.it/5030bycyugua1.jpg</td>\n      <td></td>\n      <td></td>\n      <td></td>\n      <td>False</td>\n      <td>False</td>\n    </tr>\n    <tr>\n      <th>1</th>\n      <td>12vaqh1</td>\n      <td>SFWRedheads</td>\n      <td>RedheadHeaven</td>\n      <td>Get on your knees 😈</td>\n      <td></td>\n      <td></td>\n      <td>/r/SFWRedheads/comments/12vaqh1/get_on_your_kn...</td>\n      <td>https://i.redd.it/2kn2d74t4iva1.jpg</td>\n      <td></td>\n      <td></td>\n      <td></td>\n      <td>False</td>\n      <td>False</td>\n    </tr>\n    <tr>\n      <th>2</th>\n      <td>12vb7af</td>\n      <td>SFWRedheads</td>\n      <td>Swim_Pretty</td>\n      <td>Just your tattooed redhead neighbor</td>\n      <td></td>\n      <td></td>\n      <td>/r/SFWRedheads/comments/12vb7af/just_your_tatt...</td>\n      <td>https://i.redd.it/3by4k3gl7iva1.jpg</td>\n      <td></td>\n      <td></td>\n      <td></td>\n      <td>False</td>\n      <td>False</td>\n    </tr>\n    <tr>\n      <th>3</th>\n      <td>12vbxg3</td>\n      <td>SFWRedheads</td>\n      <td>bislut997</td>\n      <td>So fresh, so clean | Amber Addis</td>\n      <td></td>\n      <td></td>\n      <td>/r/SFWRedheads/comments/12vbxg3/so_fresh_so_cl...</td>\n      <td>https://i.imgur.com/GJdc00r.jpg</td>\n      <td></td>\n      <td></td>\n      <td></td>\n      <td>False</td>\n      <td>False</td>\n    </tr>\n    <tr>\n      <th>4</th>\n      <td>12vc45j</td>\n      <td>SFWRedheads</td>\n      <td>missgingerisafox</td>\n      <td>Venus remix 🐆</td>\n      <td></td>\n      <td></td>\n      <td>/r/SFWRedheads/comments/12vc45j/venus_remix/</td>\n      <td>https://i.redd.it/iwb14gjvciva1.jpg</td>\n      <td></td>\n      <td></td>\n      <td></td>\n      <td>False</td>\n      <td>False</td>\n    </tr>\n    <tr>\n      <th>...</th>\n      <td>...</td>\n      <td>...</td>\n      <td>...</td>\n      <td>...</td>\n      <td>...</td>\n      <td>...</td>\n      <td>...</td>\n      <td>...</td>\n      <td>...</td>\n      <td>...</td>\n      <td>...</td>\n      <td>...</td>\n      <td>...</td>\n    </tr>\n    <tr>\n      <th>459</th>\n      <td>12w5x14</td>\n      <td>mildlypenis</td>\n      <td>Tajjiia</td>\n      <td>This lamp at my parents house</td>\n      <td></td>\n      <td></td>\n      <td>/r/mildlypenis/comments/12w5x14/this_lamp_at_m...</td>\n      <td>https://i.redd.it/xcvcqcodhmva1.jpg</td>\n      <td></td>\n      <td></td>\n      <td></td>\n      <td>False</td>\n      <td>False</td>\n    </tr>\n    <tr>\n      <th>460</th>\n      <td>12wchvk</td>\n      <td>mildlypenis</td>\n      <td>skrattarforlorar510</td>\n      <td>these hairs in my shower</td>\n      <td></td>\n      <td></td>\n      <td>/r/mildlypenis/comments/12wchvk/these_hairs_in...</td>\n      <td>https://i.redd.it/t2mekfgyvova1.jpg</td>\n      <td></td>\n      <td></td>\n      <td></td>\n      <td>False</td>\n      <td>False</td>\n    </tr>\n    <tr>\n      <th>461</th>\n      <td>12wcpqj</td>\n      <td>mildlypenis</td>\n      <td>sunspot5b</td>\n      <td>My husband was calibrating his 3D printer and...</td>\n      <td></td>\n      <td></td>\n      <td>/r/mildlypenis/comments/12wcpqj/my_husband_was...</td>\n      <td>https://i.imgur.com/l6DWUSE.jpg</td>\n      <td></td>\n      <td></td>\n      <td></td>\n      <td>False</td>\n      <td>False</td>\n    </tr>\n    <tr>\n      <th>462</th>\n      <td>12webvb</td>\n      <td>mildlypenis</td>\n      <td>serenity_later</td>\n      <td>The inside of my padded bike shorts</td>\n      <td></td>\n      <td></td>\n      <td>/r/mildlypenis/comments/12webvb/the_inside_of_...</td>\n      <td>https://i.imgur.com/RgSARo8.jpg</td>\n      <td></td>\n      <td></td>\n      <td></td>\n      <td>False</td>\n      <td>False</td>\n    </tr>\n    <tr>\n      <th>463</th>\n      <td>12wecrk</td>\n      <td>mildlypenis</td>\n      <td>Weird_Succotash8643</td>\n      <td>Peppa pig bread</td>\n      <td></td>\n      <td></td>\n      <td>/r/mildlypenis/comments/12wecrk/peppa_pig_bread/</td>\n      <td>https://i.redd.it/o6rebenzymva1.jpg</td>\n      <td></td>\n      <td></td>\n      <td></td>\n      <td>False</td>\n      <td>False</td>\n    </tr>\n  </tbody>\n</table>\n<p>464 rows × 13 columns</p>\n</div>"
     },
     "metadata": {},
     "output_type": "display_data"
    },
    {
     "name": "stdout",
     "output_type": "stream",
     "text": [
      "CPU times: total: 156 ms\n",
      "Wall time: 149 ms\n"
     ]
    },
    {
     "data": {
      "text/plain": "<Axes: xlabel='subreddit'>"
     },
     "execution_count": 20,
     "metadata": {},
     "output_type": "execute_result"
    },
    {
     "data": {
      "text/plain": "<Figure size 640x480 with 1 Axes>",
      "image/png": "[encoded data removed]"
     },
     "metadata": {},
     "output_type": "display_data"
    }
   ],
   "source": [
    "%%time\n",
    "\n",
    "tqdm.pandas(desc=\"Filtering Exists For Id List\")\n",
    "with ProgressBar():\n",
    "\textant = extant_data.where((extant_data['exists'].isin([True]))).dropna(how='all').reset_index().drop('index', axis=1)\n",
    "\n",
    "extant_id_list = list(extant.id)\n",
    "\n",
    "tqdm.pandas(desc=\"Filtering Based on Id\")\n",
    "with ProgressBar():\n",
    "\tnew_entries = filtered_initial.where((~filtered_initial['id'].isin(extant_id_list))).dropna(how='all').reset_index().drop('index', axis=1)\n",
    "\n",
    "display(new_entries)\n",
    "\n",
    "new_images_by_sub = new_entries.groupby('subreddit')\n",
    "\n",
    "new_images_by_sub.count().plot.bar(y='id')"
   ],
   "metadata": {
    "collapsed": false,
    "ExecuteTime": {
     "start_time": "2023-04-23T13:27:44.044956Z",
     "end_time": "2023-04-23T13:27:44.392058Z"
    }
   }
  },
  {
   "cell_type": "code",
   "execution_count": 21,
   "outputs": [
    {
     "data": {
      "text/plain": "Fetch-Image:   0%|          | 0/464 [00:00<?, ?it/s]",
      "application/vnd.jupyter.widget-view+json": {
       "version_major": 2,
       "version_minor": 0,
       "model_id": "722d6ab6f40242909062677cb92ab06c"
      }
     },
     "metadata": {},
     "output_type": "display_data"
    },
    {
     "name": "stdout",
     "output_type": "stream",
     "text": [
      "cannot identify image file <_io.BytesIO object at 0x000001E980749F40>\n",
      "cannot write mode RGBA as JPEG\n"
     ]
    },
    {
     "data": {
      "text/plain": "Get-Image-Name:   0%|          | 0/464 [00:00<?, ?it/s]",
      "application/vnd.jupyter.widget-view+json": {
       "version_major": 2,
       "version_minor": 0,
       "model_id": "dff43cf34b58482aa698bf995628996f"
      }
     },
     "metadata": {},
     "output_type": "display_data"
    },
    {
     "data": {
      "text/plain": "Split-Hash:   0%|          | 0/464 [00:00<?, ?it/s]",
      "application/vnd.jupyter.widget-view+json": {
       "version_major": 2,
       "version_minor": 0,
       "model_id": "5399c1453aff47228fe9423012277887"
      }
     },
     "metadata": {},
     "output_type": "display_data"
    },
    {
     "data": {
      "text/plain": "Checking-Exists:   0%|          | 0/464 [00:00<?, ?it/s]",
      "application/vnd.jupyter.widget-view+json": {
       "version_major": 2,
       "version_minor": 0,
       "model_id": "f17ff589554942ecbdca80ac21517495"
      }
     },
     "metadata": {},
     "output_type": "display_data"
    },
    {
     "data": {
      "text/plain": "          id    subreddit               author  \\\n0    12pbl8q  SFWRedheads    officiallyviolets   \n1    12vaqh1  SFWRedheads        RedheadHeaven   \n2    12vb7af  SFWRedheads          Swim_Pretty   \n3    12vbxg3  SFWRedheads            bislut997   \n4    12vc45j  SFWRedheads     missgingerisafox   \n..       ...          ...                  ...   \n459  12w5x14  mildlypenis              Tajjiia   \n460  12wchvk  mildlypenis  skrattarforlorar510   \n461  12wcpqj  mildlypenis            sunspot5b   \n462  12webvb  mildlypenis       serenity_later   \n463  12wecrk  mildlypenis  Weird_Succotash8643   \n\n                                                title caption  \\\n0                   Finals start today! Wish me luck!           \n1                                 Get on your knees 😈           \n2                 Just your tattooed redhead neighbor           \n3                    So fresh, so clean | Amber Addis           \n4                                       Venus remix 🐆           \n..                                                ...     ...   \n459                     This lamp at my parents house           \n460                          these hairs in my shower           \n461  My husband was calibrating his 3D printer and...           \n462               The inside of my padded bike shorts           \n463                                   Peppa pig bread           \n\n                                 hash  \\\n0    1730a0c0b95c91bb19abf6511997d37f   \n1    faf7b13b55ac15f183e6cd427407c4ed   \n2    6bcd35133db6a8686ba1af61c6d80987   \n3    9e02cd5b4f79ddee50d31166e3f2f8cf   \n4    0244419e407a3f46b1427e3bc6fa63af   \n..                                ...   \n459  5e390b908d4a2d723d8ed41c73cfbfc5   \n460  ad08f73639fa5e4444f8521a41fbd858   \n461  ce9346bcee854d4b2b17a4c33af085be   \n462  8895550c586de2beca624932eeccfa2a   \n463  c3882a35ff9dee22cad1ed1784332a1d   \n\n                                             permalink  \\\n0    /r/SFWRedheads/comments/12pbl8q/finals_start_t...   \n1    /r/SFWRedheads/comments/12vaqh1/get_on_your_kn...   \n2    /r/SFWRedheads/comments/12vb7af/just_your_tatt...   \n3    /r/SFWRedheads/comments/12vbxg3/so_fresh_so_cl...   \n4         /r/SFWRedheads/comments/12vc45j/venus_remix/   \n..                                                 ...   \n459  /r/mildlypenis/comments/12w5x14/this_lamp_at_m...   \n460  /r/mildlypenis/comments/12wchvk/these_hairs_in...   \n461  /r/mildlypenis/comments/12wcpqj/my_husband_was...   \n462  /r/mildlypenis/comments/12webvb/the_inside_of_...   \n463   /r/mildlypenis/comments/12wecrk/peppa_pig_bread/   \n\n                            original_url  \\\n0    https://i.redd.it/5030bycyugua1.jpg   \n1    https://i.redd.it/2kn2d74t4iva1.jpg   \n2    https://i.redd.it/3by4k3gl7iva1.jpg   \n3        https://i.imgur.com/GJdc00r.jpg   \n4    https://i.redd.it/iwb14gjvciva1.jpg   \n..                                   ...   \n459  https://i.redd.it/xcvcqcodhmva1.jpg   \n460  https://i.redd.it/t2mekfgyvova1.jpg   \n461      https://i.imgur.com/l6DWUSE.jpg   \n462      https://i.imgur.com/RgSARo8.jpg   \n463  https://i.redd.it/o6rebenzymva1.jpg   \n\n                               image_name  \\\n0    1730a0c0b95c91bb19abf6511997d37f.jpg   \n1    faf7b13b55ac15f183e6cd427407c4ed.jpg   \n2    6bcd35133db6a8686ba1af61c6d80987.jpg   \n3    9e02cd5b4f79ddee50d31166e3f2f8cf.jpg   \n4    0244419e407a3f46b1427e3bc6fa63af.jpg   \n..                                    ...   \n459  5e390b908d4a2d723d8ed41c73cfbfc5.jpg   \n460  ad08f73639fa5e4444f8521a41fbd858.jpg   \n461  ce9346bcee854d4b2b17a4c33af085be.jpg   \n462  8895550c586de2beca624932eeccfa2a.jpg   \n463  c3882a35ff9dee22cad1ed1784332a1d.jpg   \n\n                                                  path thumbnail_path  exists  \\\n0    D:\\data\\images\\SFWRedheads\\1730a0c0b95c91bb19a...                  False   \n1    D:\\data\\images\\SFWRedheads\\faf7b13b55ac15f183e...                   True   \n2    D:\\data\\images\\SFWRedheads\\6bcd35133db6a8686ba...                   True   \n3    D:\\data\\images\\SFWRedheads\\9e02cd5b4f79ddee50d...                   True   \n4    D:\\data\\images\\SFWRedheads\\0244419e407a3f46b14...                   True   \n..                                                 ...            ...     ...   \n459  D:\\data\\images\\mildlypenis\\5e390b908d4a2d723d8...                   True   \n460  D:\\data\\images\\mildlypenis\\ad08f73639fa5e4444f...                   True   \n461  D:\\data\\images\\mildlypenis\\ce9346bcee854d4b2b1...                   True   \n462  D:\\data\\images\\mildlypenis\\8895550c586de2beca6...                   True   \n463  D:\\data\\images\\mildlypenis\\c3882a35ff9dee22cad...                   True   \n\n    curated  \n0     False  \n1     False  \n2     False  \n3     False  \n4     False  \n..      ...  \n459   False  \n460   False  \n461   False  \n462   False  \n463   False  \n\n[464 rows x 13 columns]",
      "text/html": "<div>\n<style scoped>\n    .dataframe tbody tr th:only-of-type {\n        vertical-align: middle;\n    }\n\n    .dataframe tbody tr th {\n        vertical-align: top;\n    }\n\n    .dataframe thead th {\n        text-align: right;\n    }\n</style>\n<table border=\"1\" class=\"dataframe\">\n  <thead>\n    <tr style=\"text-align: right;\">\n      <th></th>\n      <th>id</th>\n      <th>subreddit</th>\n      <th>author</th>\n      <th>title</th>\n      <th>caption</th>\n      <th>hash</th>\n      <th>permalink</th>\n      <th>original_url</th>\n      <th>image_name</th>\n      <th>path</th>\n      <th>thumbnail_path</th>\n      <th>exists</th>\n      <th>curated</th>\n    </tr>\n  </thead>\n  <tbody>\n    <tr>\n      <th>0</th>\n      <td>12pbl8q</td>\n      <td>SFWRedheads</td>\n      <td>officiallyviolets</td>\n      <td>Finals start today! Wish me luck!</td>\n      <td></td>\n      <td>1730a0c0b95c91bb19abf6511997d37f</td>\n      <td>/r/SFWRedheads/comments/12pbl8q/finals_start_t...</td>\n      <td>https://i.redd.it/5030bycyugua1.jpg</td>\n      <td>1730a0c0b95c91bb19abf6511997d37f.jpg</td>\n      <td>D:\\data\\images\\SFWRedheads\\1730a0c0b95c91bb19a...</td>\n      <td></td>\n      <td>False</td>\n      <td>False</td>\n    </tr>\n    <tr>\n      <th>1</th>\n      <td>12vaqh1</td>\n      <td>SFWRedheads</td>\n      <td>RedheadHeaven</td>\n      <td>Get on your knees 😈</td>\n      <td></td>\n      <td>faf7b13b55ac15f183e6cd427407c4ed</td>\n      <td>/r/SFWRedheads/comments/12vaqh1/get_on_your_kn...</td>\n      <td>https://i.redd.it/2kn2d74t4iva1.jpg</td>\n      <td>faf7b13b55ac15f183e6cd427407c4ed.jpg</td>\n      <td>D:\\data\\images\\SFWRedheads\\faf7b13b55ac15f183e...</td>\n      <td></td>\n      <td>True</td>\n      <td>False</td>\n    </tr>\n    <tr>\n      <th>2</th>\n      <td>12vb7af</td>\n      <td>SFWRedheads</td>\n      <td>Swim_Pretty</td>\n      <td>Just your tattooed redhead neighbor</td>\n      <td></td>\n      <td>6bcd35133db6a8686ba1af61c6d80987</td>\n      <td>/r/SFWRedheads/comments/12vb7af/just_your_tatt...</td>\n      <td>https://i.redd.it/3by4k3gl7iva1.jpg</td>\n      <td>6bcd35133db6a8686ba1af61c6d80987.jpg</td>\n      <td>D:\\data\\images\\SFWRedheads\\6bcd35133db6a8686ba...</td>\n      <td></td>\n      <td>True</td>\n      <td>False</td>\n    </tr>\n    <tr>\n      <th>3</th>\n      <td>12vbxg3</td>\n      <td>SFWRedheads</td>\n      <td>bislut997</td>\n      <td>So fresh, so clean | Amber Addis</td>\n      <td></td>\n      <td>9e02cd5b4f79ddee50d31166e3f2f8cf</td>\n      <td>/r/SFWRedheads/comments/12vbxg3/so_fresh_so_cl...</td>\n      <td>https://i.imgur.com/GJdc00r.jpg</td>\n      <td>9e02cd5b4f79ddee50d31166e3f2f8cf.jpg</td>\n      <td>D:\\data\\images\\SFWRedheads\\9e02cd5b4f79ddee50d...</td>\n      <td></td>\n      <td>True</td>\n      <td>False</td>\n    </tr>\n    <tr>\n      <th>4</th>\n      <td>12vc45j</td>\n      <td>SFWRedheads</td>\n      <td>missgingerisafox</td>\n      <td>Venus remix 🐆</td>\n      <td></td>\n      <td>0244419e407a3f46b1427e3bc6fa63af</td>\n      <td>/r/SFWRedheads/comments/12vc45j/venus_remix/</td>\n      <td>https://i.redd.it/iwb14gjvciva1.jpg</td>\n      <td>0244419e407a3f46b1427e3bc6fa63af.jpg</td>\n      <td>D:\\data\\images\\SFWRedheads\\0244419e407a3f46b14...</td>\n      <td></td>\n      <td>True</td>\n      <td>False</td>\n    </tr>\n    <tr>\n      <th>...</th>\n      <td>...</td>\n      <td>...</td>\n      <td>...</td>\n      <td>...</td>\n      <td>...</td>\n      <td>...</td>\n      <td>...</td>\n      <td>...</td>\n      <td>...</td>\n      <td>...</td>\n      <td>...</td>\n      <td>...</td>\n      <td>...</td>\n    </tr>\n    <tr>\n      <th>459</th>\n      <td>12w5x14</td>\n      <td>mildlypenis</td>\n      <td>Tajjiia</td>\n      <td>This lamp at my parents house</td>\n      <td></td>\n      <td>5e390b908d4a2d723d8ed41c73cfbfc5</td>\n      <td>/r/mildlypenis/comments/12w5x14/this_lamp_at_m...</td>\n      <td>https://i.redd.it/xcvcqcodhmva1.jpg</td>\n      <td>5e390b908d4a2d723d8ed41c73cfbfc5.jpg</td>\n      <td>D:\\data\\images\\mildlypenis\\5e390b908d4a2d723d8...</td>\n      <td></td>\n      <td>True</td>\n      <td>False</td>\n    </tr>\n    <tr>\n      <th>460</th>\n      <td>12wchvk</td>\n      <td>mildlypenis</td>\n      <td>skrattarforlorar510</td>\n      <td>these hairs in my shower</td>\n      <td></td>\n      <td>ad08f73639fa5e4444f8521a41fbd858</td>\n      <td>/r/mildlypenis/comments/12wchvk/these_hairs_in...</td>\n      <td>https://i.redd.it/t2mekfgyvova1.jpg</td>\n      <td>ad08f73639fa5e4444f8521a41fbd858.jpg</td>\n      <td>D:\\data\\images\\mildlypenis\\ad08f73639fa5e4444f...</td>\n      <td></td>\n      <td>True</td>\n      <td>False</td>\n    </tr>\n    <tr>\n      <th>461</th>\n      <td>12wcpqj</td>\n      <td>mildlypenis</td>\n      <td>sunspot5b</td>\n      <td>My husband was calibrating his 3D printer and...</td>\n      <td></td>\n      <td>ce9346bcee854d4b2b17a4c33af085be</td>\n      <td>/r/mildlypenis/comments/12wcpqj/my_husband_was...</td>\n      <td>https://i.imgur.com/l6DWUSE.jpg</td>\n      <td>ce9346bcee854d4b2b17a4c33af085be.jpg</td>\n      <td>D:\\data\\images\\mildlypenis\\ce9346bcee854d4b2b1...</td>\n      <td></td>\n      <td>True</td>\n      <td>False</td>\n    </tr>\n    <tr>\n      <th>462</th>\n      <td>12webvb</td>\n      <td>mildlypenis</td>\n      <td>serenity_later</td>\n      <td>The inside of my padded bike shorts</td>\n      <td></td>\n      <td>8895550c586de2beca624932eeccfa2a</td>\n      <td>/r/mildlypenis/comments/12webvb/the_inside_of_...</td>\n      <td>https://i.imgur.com/RgSARo8.jpg</td>\n      <td>8895550c586de2beca624932eeccfa2a.jpg</td>\n      <td>D:\\data\\images\\mildlypenis\\8895550c586de2beca6...</td>\n      <td></td>\n      <td>True</td>\n      <td>False</td>\n    </tr>\n    <tr>\n      <th>463</th>\n      <td>12wecrk</td>\n      <td>mildlypenis</td>\n      <td>Weird_Succotash8643</td>\n      <td>Peppa pig bread</td>\n      <td></td>\n      <td>c3882a35ff9dee22cad1ed1784332a1d</td>\n      <td>/r/mildlypenis/comments/12wecrk/peppa_pig_bread/</td>\n      <td>https://i.redd.it/o6rebenzymva1.jpg</td>\n      <td>c3882a35ff9dee22cad1ed1784332a1d.jpg</td>\n      <td>D:\\data\\images\\mildlypenis\\c3882a35ff9dee22cad...</td>\n      <td></td>\n      <td>True</td>\n      <td>False</td>\n    </tr>\n  </tbody>\n</table>\n<p>464 rows × 13 columns</p>\n</div>"
     },
     "metadata": {},
     "output_type": "display_data"
    },
    {
     "name": "stdout",
     "output_type": "stream",
     "text": [
      "CPU times: total: 39.6 s\n",
      "Wall time: 2min 25s\n"
     ]
    }
   ],
   "source": [
    "%%time\n",
    "\n",
    "new_entries_1 = new_entries.copy()\n",
    "\n",
    "tqdm.pandas(desc=\"Fetch-Image\")\n",
    "with ProgressBar():\n",
    "\tnew_entries_1['path'] = new_entries_1.progress_apply(lambda x: fetch_image(x), axis=1)\n",
    "\n",
    "tqdm.pandas(desc=\"Get-Image-Name\")\n",
    "with ProgressBar():\n",
    "\tnew_entries_1['image_name'] = new_entries_1.progress_apply(lambda x: get_image_name(x), axis=1)\n",
    "\n",
    "tqdm.pandas(desc=\"Split-Hash\")\n",
    "with ProgressBar():\n",
    "\tnew_entries_1['hash'] = new_entries_1.progress_apply(lambda x: split_hash(x), axis=1)\n",
    "\n",
    "tqdm.pandas(desc=\"Checking-Exists\")\n",
    "with ProgressBar():\n",
    "\tnew_entries_1['exists'] = new_entries_1.progress_apply(lambda x: exists(x), axis=1)\n",
    "\n",
    "display(new_entries_1)"
   ],
   "metadata": {
    "collapsed": false,
    "ExecuteTime": {
     "start_time": "2023-04-23T13:27:55.086840Z",
     "end_time": "2023-04-23T13:30:20.233175Z"
    }
   }
  },
  {
   "cell_type": "code",
   "execution_count": 22,
   "outputs": [
    {
     "name": "stdout",
     "output_type": "stream",
     "text": [
      "CPU times: total: 33.6 s\n",
      "Wall time: 30.3 s\n"
     ]
    }
   ],
   "source": [
    "%%time\n",
    "\n",
    "blip_0 = BlipCaption(1)\n",
    "blip_1 = BlipCaption(0)"
   ],
   "metadata": {
    "collapsed": false,
    "ExecuteTime": {
     "start_time": "2023-04-23T13:30:20.233175Z",
     "end_time": "2023-04-23T13:30:50.549773Z"
    }
   }
  },
  {
   "cell_type": "code",
   "execution_count": 23,
   "outputs": [
    {
     "data": {
      "text/plain": "Caption-Image:   0%|          | 0/464 [00:00<?, ?it/s]",
      "application/vnd.jupyter.widget-view+json": {
       "version_major": 2,
       "version_minor": 0,
       "model_id": "922d088254104d8fba6a799f8c1abafa"
      }
     },
     "metadata": {},
     "output_type": "display_data"
    },
    {
     "name": "stderr",
     "output_type": "stream",
     "text": [
      "D:\\workspaces\\General\\venv\\lib\\site-packages\\transformers\\generation\\utils.py:1288: UserWarning: Using `max_length`'s default (20) to control the generation length. This behaviour is deprecated and will be removed from the config in v5 of Transformers -- we recommend using `max_new_tokens` to control the maximum length of the generation.\n",
      "  warnings.warn(\n"
     ]
    },
    {
     "data": {
      "text/plain": "          id    subreddit               author  \\\n0    12pbl8q  SFWRedheads    officiallyviolets   \n1    12vaqh1  SFWRedheads        RedheadHeaven   \n2    12vb7af  SFWRedheads          Swim_Pretty   \n3    12vbxg3  SFWRedheads            bislut997   \n4    12vc45j  SFWRedheads     missgingerisafox   \n..       ...          ...                  ...   \n459  12w5x14  mildlypenis              Tajjiia   \n460  12wchvk  mildlypenis  skrattarforlorar510   \n461  12wcpqj  mildlypenis            sunspot5b   \n462  12webvb  mildlypenis       serenity_later   \n463  12wecrk  mildlypenis  Weird_Succotash8643   \n\n                                                title  \\\n0                   Finals start today! Wish me luck!   \n1                                 Get on your knees 😈   \n2                 Just your tattooed redhead neighbor   \n3                    So fresh, so clean | Amber Addis   \n4                                       Venus remix 🐆   \n..                                                ...   \n459                     This lamp at my parents house   \n460                          these hairs in my shower   \n461  My husband was calibrating his 3D printer and...   \n462               The inside of my padded bike shorts   \n463                                   Peppa pig bread   \n\n                                               caption  \\\n0                                                        \n1    arafed woman in lingerie standing in front of ...   \n2    arafed woman with long red hair taking a selfi...   \n3    arafed woman in a towel brushing her teeth in ...   \n4    woman in a purple bikini drinking a drink on t...   \n..                                                 ...   \n459       there is a green vase with a lamp on a table   \n460      there is a drawing of a hand on a toilet seat   \n461  there is a white object with a long string att...   \n462  there is a blue and black object on the floor ...   \n463  several different shaped doughnuts with faces ...   \n\n                                 hash  \\\n0    1730a0c0b95c91bb19abf6511997d37f   \n1    faf7b13b55ac15f183e6cd427407c4ed   \n2    6bcd35133db6a8686ba1af61c6d80987   \n3    9e02cd5b4f79ddee50d31166e3f2f8cf   \n4    0244419e407a3f46b1427e3bc6fa63af   \n..                                ...   \n459  5e390b908d4a2d723d8ed41c73cfbfc5   \n460  ad08f73639fa5e4444f8521a41fbd858   \n461  ce9346bcee854d4b2b17a4c33af085be   \n462  8895550c586de2beca624932eeccfa2a   \n463  c3882a35ff9dee22cad1ed1784332a1d   \n\n                                             permalink  \\\n0    /r/SFWRedheads/comments/12pbl8q/finals_start_t...   \n1    /r/SFWRedheads/comments/12vaqh1/get_on_your_kn...   \n2    /r/SFWRedheads/comments/12vb7af/just_your_tatt...   \n3    /r/SFWRedheads/comments/12vbxg3/so_fresh_so_cl...   \n4         /r/SFWRedheads/comments/12vc45j/venus_remix/   \n..                                                 ...   \n459  /r/mildlypenis/comments/12w5x14/this_lamp_at_m...   \n460  /r/mildlypenis/comments/12wchvk/these_hairs_in...   \n461  /r/mildlypenis/comments/12wcpqj/my_husband_was...   \n462  /r/mildlypenis/comments/12webvb/the_inside_of_...   \n463   /r/mildlypenis/comments/12wecrk/peppa_pig_bread/   \n\n                            original_url  \\\n0    https://i.redd.it/5030bycyugua1.jpg   \n1    https://i.redd.it/2kn2d74t4iva1.jpg   \n2    https://i.redd.it/3by4k3gl7iva1.jpg   \n3        https://i.imgur.com/GJdc00r.jpg   \n4    https://i.redd.it/iwb14gjvciva1.jpg   \n..                                   ...   \n459  https://i.redd.it/xcvcqcodhmva1.jpg   \n460  https://i.redd.it/t2mekfgyvova1.jpg   \n461      https://i.imgur.com/l6DWUSE.jpg   \n462      https://i.imgur.com/RgSARo8.jpg   \n463  https://i.redd.it/o6rebenzymva1.jpg   \n\n                               image_name  \\\n0    1730a0c0b95c91bb19abf6511997d37f.jpg   \n1    faf7b13b55ac15f183e6cd427407c4ed.jpg   \n2    6bcd35133db6a8686ba1af61c6d80987.jpg   \n3    9e02cd5b4f79ddee50d31166e3f2f8cf.jpg   \n4    0244419e407a3f46b1427e3bc6fa63af.jpg   \n..                                    ...   \n459  5e390b908d4a2d723d8ed41c73cfbfc5.jpg   \n460  ad08f73639fa5e4444f8521a41fbd858.jpg   \n461  ce9346bcee854d4b2b17a4c33af085be.jpg   \n462  8895550c586de2beca624932eeccfa2a.jpg   \n463  c3882a35ff9dee22cad1ed1784332a1d.jpg   \n\n                                                  path thumbnail_path  exists  \\\n0    D:\\data\\images\\SFWRedheads\\1730a0c0b95c91bb19a...                  False   \n1    D:\\data\\images\\SFWRedheads\\faf7b13b55ac15f183e...                   True   \n2    D:\\data\\images\\SFWRedheads\\6bcd35133db6a8686ba...                   True   \n3    D:\\data\\images\\SFWRedheads\\9e02cd5b4f79ddee50d...                   True   \n4    D:\\data\\images\\SFWRedheads\\0244419e407a3f46b14...                   True   \n..                                                 ...            ...     ...   \n459  D:\\data\\images\\mildlypenis\\5e390b908d4a2d723d8...                   True   \n460  D:\\data\\images\\mildlypenis\\ad08f73639fa5e4444f...                   True   \n461  D:\\data\\images\\mildlypenis\\ce9346bcee854d4b2b1...                   True   \n462  D:\\data\\images\\mildlypenis\\8895550c586de2beca6...                   True   \n463  D:\\data\\images\\mildlypenis\\c3882a35ff9dee22cad...                   True   \n\n    curated  \n0     False  \n1     False  \n2     False  \n3     False  \n4     False  \n..      ...  \n459   False  \n460   False  \n461   False  \n462   False  \n463   False  \n\n[464 rows x 13 columns]",
      "text/html": "<div>\n<style scoped>\n    .dataframe tbody tr th:only-of-type {\n        vertical-align: middle;\n    }\n\n    .dataframe tbody tr th {\n        vertical-align: top;\n    }\n\n    .dataframe thead th {\n        text-align: right;\n    }\n</style>\n<table border=\"1\" class=\"dataframe\">\n  <thead>\n    <tr style=\"text-align: right;\">\n      <th></th>\n      <th>id</th>\n      <th>subreddit</th>\n      <th>author</th>\n      <th>title</th>\n      <th>caption</th>\n      <th>hash</th>\n      <th>permalink</th>\n      <th>original_url</th>\n      <th>image_name</th>\n      <th>path</th>\n      <th>thumbnail_path</th>\n      <th>exists</th>\n      <th>curated</th>\n    </tr>\n  </thead>\n  <tbody>\n    <tr>\n      <th>0</th>\n      <td>12pbl8q</td>\n      <td>SFWRedheads</td>\n      <td>officiallyviolets</td>\n      <td>Finals start today! Wish me luck!</td>\n      <td></td>\n      <td>1730a0c0b95c91bb19abf6511997d37f</td>\n      <td>/r/SFWRedheads/comments/12pbl8q/finals_start_t...</td>\n      <td>https://i.redd.it/5030bycyugua1.jpg</td>\n      <td>1730a0c0b95c91bb19abf6511997d37f.jpg</td>\n      <td>D:\\data\\images\\SFWRedheads\\1730a0c0b95c91bb19a...</td>\n      <td></td>\n      <td>False</td>\n      <td>False</td>\n    </tr>\n    <tr>\n      <th>1</th>\n      <td>12vaqh1</td>\n      <td>SFWRedheads</td>\n      <td>RedheadHeaven</td>\n      <td>Get on your knees 😈</td>\n      <td>arafed woman in lingerie standing in front of ...</td>\n      <td>faf7b13b55ac15f183e6cd427407c4ed</td>\n      <td>/r/SFWRedheads/comments/12vaqh1/get_on_your_kn...</td>\n      <td>https://i.redd.it/2kn2d74t4iva1.jpg</td>\n      <td>faf7b13b55ac15f183e6cd427407c4ed.jpg</td>\n      <td>D:\\data\\images\\SFWRedheads\\faf7b13b55ac15f183e...</td>\n      <td></td>\n      <td>True</td>\n      <td>False</td>\n    </tr>\n    <tr>\n      <th>2</th>\n      <td>12vb7af</td>\n      <td>SFWRedheads</td>\n      <td>Swim_Pretty</td>\n      <td>Just your tattooed redhead neighbor</td>\n      <td>arafed woman with long red hair taking a selfi...</td>\n      <td>6bcd35133db6a8686ba1af61c6d80987</td>\n      <td>/r/SFWRedheads/comments/12vb7af/just_your_tatt...</td>\n      <td>https://i.redd.it/3by4k3gl7iva1.jpg</td>\n      <td>6bcd35133db6a8686ba1af61c6d80987.jpg</td>\n      <td>D:\\data\\images\\SFWRedheads\\6bcd35133db6a8686ba...</td>\n      <td></td>\n      <td>True</td>\n      <td>False</td>\n    </tr>\n    <tr>\n      <th>3</th>\n      <td>12vbxg3</td>\n      <td>SFWRedheads</td>\n      <td>bislut997</td>\n      <td>So fresh, so clean | Amber Addis</td>\n      <td>arafed woman in a towel brushing her teeth in ...</td>\n      <td>9e02cd5b4f79ddee50d31166e3f2f8cf</td>\n      <td>/r/SFWRedheads/comments/12vbxg3/so_fresh_so_cl...</td>\n      <td>https://i.imgur.com/GJdc00r.jpg</td>\n      <td>9e02cd5b4f79ddee50d31166e3f2f8cf.jpg</td>\n      <td>D:\\data\\images\\SFWRedheads\\9e02cd5b4f79ddee50d...</td>\n      <td></td>\n      <td>True</td>\n      <td>False</td>\n    </tr>\n    <tr>\n      <th>4</th>\n      <td>12vc45j</td>\n      <td>SFWRedheads</td>\n      <td>missgingerisafox</td>\n      <td>Venus remix 🐆</td>\n      <td>woman in a purple bikini drinking a drink on t...</td>\n      <td>0244419e407a3f46b1427e3bc6fa63af</td>\n      <td>/r/SFWRedheads/comments/12vc45j/venus_remix/</td>\n      <td>https://i.redd.it/iwb14gjvciva1.jpg</td>\n      <td>0244419e407a3f46b1427e3bc6fa63af.jpg</td>\n      <td>D:\\data\\images\\SFWRedheads\\0244419e407a3f46b14...</td>\n      <td></td>\n      <td>True</td>\n      <td>False</td>\n    </tr>\n    <tr>\n      <th>...</th>\n      <td>...</td>\n      <td>...</td>\n      <td>...</td>\n      <td>...</td>\n      <td>...</td>\n      <td>...</td>\n      <td>...</td>\n      <td>...</td>\n      <td>...</td>\n      <td>...</td>\n      <td>...</td>\n      <td>...</td>\n      <td>...</td>\n    </tr>\n    <tr>\n      <th>459</th>\n      <td>12w5x14</td>\n      <td>mildlypenis</td>\n      <td>Tajjiia</td>\n      <td>This lamp at my parents house</td>\n      <td>there is a green vase with a lamp on a table</td>\n      <td>5e390b908d4a2d723d8ed41c73cfbfc5</td>\n      <td>/r/mildlypenis/comments/12w5x14/this_lamp_at_m...</td>\n      <td>https://i.redd.it/xcvcqcodhmva1.jpg</td>\n      <td>5e390b908d4a2d723d8ed41c73cfbfc5.jpg</td>\n      <td>D:\\data\\images\\mildlypenis\\5e390b908d4a2d723d8...</td>\n      <td></td>\n      <td>True</td>\n      <td>False</td>\n    </tr>\n    <tr>\n      <th>460</th>\n      <td>12wchvk</td>\n      <td>mildlypenis</td>\n      <td>skrattarforlorar510</td>\n      <td>these hairs in my shower</td>\n      <td>there is a drawing of a hand on a toilet seat</td>\n      <td>ad08f73639fa5e4444f8521a41fbd858</td>\n      <td>/r/mildlypenis/comments/12wchvk/these_hairs_in...</td>\n      <td>https://i.redd.it/t2mekfgyvova1.jpg</td>\n      <td>ad08f73639fa5e4444f8521a41fbd858.jpg</td>\n      <td>D:\\data\\images\\mildlypenis\\ad08f73639fa5e4444f...</td>\n      <td></td>\n      <td>True</td>\n      <td>False</td>\n    </tr>\n    <tr>\n      <th>461</th>\n      <td>12wcpqj</td>\n      <td>mildlypenis</td>\n      <td>sunspot5b</td>\n      <td>My husband was calibrating his 3D printer and...</td>\n      <td>there is a white object with a long string att...</td>\n      <td>ce9346bcee854d4b2b17a4c33af085be</td>\n      <td>/r/mildlypenis/comments/12wcpqj/my_husband_was...</td>\n      <td>https://i.imgur.com/l6DWUSE.jpg</td>\n      <td>ce9346bcee854d4b2b17a4c33af085be.jpg</td>\n      <td>D:\\data\\images\\mildlypenis\\ce9346bcee854d4b2b1...</td>\n      <td></td>\n      <td>True</td>\n      <td>False</td>\n    </tr>\n    <tr>\n      <th>462</th>\n      <td>12webvb</td>\n      <td>mildlypenis</td>\n      <td>serenity_later</td>\n      <td>The inside of my padded bike shorts</td>\n      <td>there is a blue and black object on the floor ...</td>\n      <td>8895550c586de2beca624932eeccfa2a</td>\n      <td>/r/mildlypenis/comments/12webvb/the_inside_of_...</td>\n      <td>https://i.imgur.com/RgSARo8.jpg</td>\n      <td>8895550c586de2beca624932eeccfa2a.jpg</td>\n      <td>D:\\data\\images\\mildlypenis\\8895550c586de2beca6...</td>\n      <td></td>\n      <td>True</td>\n      <td>False</td>\n    </tr>\n    <tr>\n      <th>463</th>\n      <td>12wecrk</td>\n      <td>mildlypenis</td>\n      <td>Weird_Succotash8643</td>\n      <td>Peppa pig bread</td>\n      <td>several different shaped doughnuts with faces ...</td>\n      <td>c3882a35ff9dee22cad1ed1784332a1d</td>\n      <td>/r/mildlypenis/comments/12wecrk/peppa_pig_bread/</td>\n      <td>https://i.redd.it/o6rebenzymva1.jpg</td>\n      <td>c3882a35ff9dee22cad1ed1784332a1d.jpg</td>\n      <td>D:\\data\\images\\mildlypenis\\c3882a35ff9dee22cad...</td>\n      <td></td>\n      <td>True</td>\n      <td>False</td>\n    </tr>\n  </tbody>\n</table>\n<p>464 rows × 13 columns</p>\n</div>"
     },
     "metadata": {},
     "output_type": "display_data"
    },
    {
     "name": "stdout",
     "output_type": "stream",
     "text": [
      "CPU times: total: 15min 36s\n",
      "Wall time: 8min 33s\n"
     ]
    }
   ],
   "source": [
    "%%time\n",
    "\n",
    "torch.cuda.empty_cache()\n",
    "new_entries_final = new_entries_1.copy()\n",
    "\n",
    "tqdm.pandas(desc=\"Caption-Image\")\n",
    "with ProgressBar():\n",
    "\tnew_entries_final['caption'] = new_entries_1.progress_apply(lambda x: caption_image(x, [blip_0, blip_1]), axis=1)\n",
    "display(new_entries_final)"
   ],
   "metadata": {
    "collapsed": false,
    "ExecuteTime": {
     "start_time": "2023-04-23T13:30:50.549773Z",
     "end_time": "2023-04-23T13:39:24.066424Z"
    }
   }
  },
  {
   "cell_type": "code",
   "execution_count": null,
   "outputs": [],
   "source": [
    "# extant_data.set_index('id', inplace=True)\n",
    "# extant_data.update(new_entries_final.set_index('id'))\n",
    "# extant_data.reset_index()\n",
    "#\n",
    "# display(extant_data)"
   ],
   "metadata": {
    "collapsed": false,
    "ExecuteTime": {
     "start_time": "2023-04-23T11:51:51.678091Z",
     "end_time": "2023-04-23T11:51:51.740597Z"
    }
   }
  },
  {
   "cell_type": "code",
   "execution_count": 24,
   "outputs": [
    {
     "data": {
      "text/plain": "          id    subreddit               author  \\\n0    12vaqh1  SFWRedheads        RedheadHeaven   \n1    12vb7af  SFWRedheads          Swim_Pretty   \n2    12vbxg3  SFWRedheads            bislut997   \n3    12vc45j  SFWRedheads     missgingerisafox   \n4    12vc77j  SFWRedheads           nurselacey   \n..       ...          ...                  ...   \n454  12w5x14  mildlypenis              Tajjiia   \n455  12wchvk  mildlypenis  skrattarforlorar510   \n456  12wcpqj  mildlypenis            sunspot5b   \n457  12webvb  mildlypenis       serenity_later   \n458  12wecrk  mildlypenis  Weird_Succotash8643   \n\n                                                title  \\\n0                                 Get on your knees 😈   \n1                 Just your tattooed redhead neighbor   \n2                    So fresh, so clean | Amber Addis   \n3                                       Venus remix 🐆   \n4                                                   💋   \n..                                                ...   \n454                     This lamp at my parents house   \n455                          these hairs in my shower   \n456  My husband was calibrating his 3D printer and...   \n457               The inside of my padded bike shorts   \n458                                   Peppa pig bread   \n\n                                               caption  \\\n0    arafed woman in lingerie standing in front of ...   \n1    arafed woman with long red hair taking a selfi...   \n2    arafed woman in a towel brushing her teeth in ...   \n3    woman in a purple bikini drinking a drink on t...   \n4    there is a woman with long hair and gloves on ...   \n..                                                 ...   \n454       there is a green vase with a lamp on a table   \n455      there is a drawing of a hand on a toilet seat   \n456  there is a white object with a long string att...   \n457  there is a blue and black object on the floor ...   \n458  several different shaped doughnuts with faces ...   \n\n                                 hash  \\\n0    faf7b13b55ac15f183e6cd427407c4ed   \n1    6bcd35133db6a8686ba1af61c6d80987   \n2    9e02cd5b4f79ddee50d31166e3f2f8cf   \n3    0244419e407a3f46b1427e3bc6fa63af   \n4    0ca7f9778bb6c20ea4a009d52a11b2c9   \n..                                ...   \n454  5e390b908d4a2d723d8ed41c73cfbfc5   \n455  ad08f73639fa5e4444f8521a41fbd858   \n456  ce9346bcee854d4b2b17a4c33af085be   \n457  8895550c586de2beca624932eeccfa2a   \n458  c3882a35ff9dee22cad1ed1784332a1d   \n\n                                             permalink  \\\n0    /r/SFWRedheads/comments/12vaqh1/get_on_your_kn...   \n1    /r/SFWRedheads/comments/12vb7af/just_your_tatt...   \n2    /r/SFWRedheads/comments/12vbxg3/so_fresh_so_cl...   \n3         /r/SFWRedheads/comments/12vc45j/venus_remix/   \n4                   /r/SFWRedheads/comments/12vc77j/_/   \n..                                                 ...   \n454  /r/mildlypenis/comments/12w5x14/this_lamp_at_m...   \n455  /r/mildlypenis/comments/12wchvk/these_hairs_in...   \n456  /r/mildlypenis/comments/12wcpqj/my_husband_was...   \n457  /r/mildlypenis/comments/12webvb/the_inside_of_...   \n458   /r/mildlypenis/comments/12wecrk/peppa_pig_bread/   \n\n                            original_url  \\\n0    https://i.redd.it/2kn2d74t4iva1.jpg   \n1    https://i.redd.it/3by4k3gl7iva1.jpg   \n2        https://i.imgur.com/GJdc00r.jpg   \n3    https://i.redd.it/iwb14gjvciva1.jpg   \n4    https://i.redd.it/8s2drd2ddiva1.jpg   \n..                                   ...   \n454  https://i.redd.it/xcvcqcodhmva1.jpg   \n455  https://i.redd.it/t2mekfgyvova1.jpg   \n456      https://i.imgur.com/l6DWUSE.jpg   \n457      https://i.imgur.com/RgSARo8.jpg   \n458  https://i.redd.it/o6rebenzymva1.jpg   \n\n                               image_name  \\\n0    faf7b13b55ac15f183e6cd427407c4ed.jpg   \n1    6bcd35133db6a8686ba1af61c6d80987.jpg   \n2    9e02cd5b4f79ddee50d31166e3f2f8cf.jpg   \n3    0244419e407a3f46b1427e3bc6fa63af.jpg   \n4    0ca7f9778bb6c20ea4a009d52a11b2c9.jpg   \n..                                    ...   \n454  5e390b908d4a2d723d8ed41c73cfbfc5.jpg   \n455  ad08f73639fa5e4444f8521a41fbd858.jpg   \n456  ce9346bcee854d4b2b17a4c33af085be.jpg   \n457  8895550c586de2beca624932eeccfa2a.jpg   \n458  c3882a35ff9dee22cad1ed1784332a1d.jpg   \n\n                                                  path thumbnail_path exists  \\\n0    D:\\data\\images\\SFWRedheads\\faf7b13b55ac15f183e...                  True   \n1    D:\\data\\images\\SFWRedheads\\6bcd35133db6a8686ba...                  True   \n2    D:\\data\\images\\SFWRedheads\\9e02cd5b4f79ddee50d...                  True   \n3    D:\\data\\images\\SFWRedheads\\0244419e407a3f46b14...                  True   \n4    D:\\data\\images\\SFWRedheads\\0ca7f9778bb6c20ea4a...                  True   \n..                                                 ...            ...    ...   \n454  D:\\data\\images\\mildlypenis\\5e390b908d4a2d723d8...                  True   \n455  D:\\data\\images\\mildlypenis\\ad08f73639fa5e4444f...                  True   \n456  D:\\data\\images\\mildlypenis\\ce9346bcee854d4b2b1...                  True   \n457  D:\\data\\images\\mildlypenis\\8895550c586de2beca6...                  True   \n458  D:\\data\\images\\mildlypenis\\c3882a35ff9dee22cad...                  True   \n\n    curated  \n0     False  \n1     False  \n2     False  \n3     False  \n4     False  \n..      ...  \n454   False  \n455   False  \n456   False  \n457   False  \n458   False  \n\n[459 rows x 13 columns]",
      "text/html": "<div>\n<style scoped>\n    .dataframe tbody tr th:only-of-type {\n        vertical-align: middle;\n    }\n\n    .dataframe tbody tr th {\n        vertical-align: top;\n    }\n\n    .dataframe thead th {\n        text-align: right;\n    }\n</style>\n<table border=\"1\" class=\"dataframe\">\n  <thead>\n    <tr style=\"text-align: right;\">\n      <th></th>\n      <th>id</th>\n      <th>subreddit</th>\n      <th>author</th>\n      <th>title</th>\n      <th>caption</th>\n      <th>hash</th>\n      <th>permalink</th>\n      <th>original_url</th>\n      <th>image_name</th>\n      <th>path</th>\n      <th>thumbnail_path</th>\n      <th>exists</th>\n      <th>curated</th>\n    </tr>\n  </thead>\n  <tbody>\n    <tr>\n      <th>0</th>\n      <td>12vaqh1</td>\n      <td>SFWRedheads</td>\n      <td>RedheadHeaven</td>\n      <td>Get on your knees 😈</td>\n      <td>arafed woman in lingerie standing in front of ...</td>\n      <td>faf7b13b55ac15f183e6cd427407c4ed</td>\n      <td>/r/SFWRedheads/comments/12vaqh1/get_on_your_kn...</td>\n      <td>https://i.redd.it/2kn2d74t4iva1.jpg</td>\n      <td>faf7b13b55ac15f183e6cd427407c4ed.jpg</td>\n      <td>D:\\data\\images\\SFWRedheads\\faf7b13b55ac15f183e...</td>\n      <td></td>\n      <td>True</td>\n      <td>False</td>\n    </tr>\n    <tr>\n      <th>1</th>\n      <td>12vb7af</td>\n      <td>SFWRedheads</td>\n      <td>Swim_Pretty</td>\n      <td>Just your tattooed redhead neighbor</td>\n      <td>arafed woman with long red hair taking a selfi...</td>\n      <td>6bcd35133db6a8686ba1af61c6d80987</td>\n      <td>/r/SFWRedheads/comments/12vb7af/just_your_tatt...</td>\n      <td>https://i.redd.it/3by4k3gl7iva1.jpg</td>\n      <td>6bcd35133db6a8686ba1af61c6d80987.jpg</td>\n      <td>D:\\data\\images\\SFWRedheads\\6bcd35133db6a8686ba...</td>\n      <td></td>\n      <td>True</td>\n      <td>False</td>\n    </tr>\n    <tr>\n      <th>2</th>\n      <td>12vbxg3</td>\n      <td>SFWRedheads</td>\n      <td>bislut997</td>\n      <td>So fresh, so clean | Amber Addis</td>\n      <td>arafed woman in a towel brushing her teeth in ...</td>\n      <td>9e02cd5b4f79ddee50d31166e3f2f8cf</td>\n      <td>/r/SFWRedheads/comments/12vbxg3/so_fresh_so_cl...</td>\n      <td>https://i.imgur.com/GJdc00r.jpg</td>\n      <td>9e02cd5b4f79ddee50d31166e3f2f8cf.jpg</td>\n      <td>D:\\data\\images\\SFWRedheads\\9e02cd5b4f79ddee50d...</td>\n      <td></td>\n      <td>True</td>\n      <td>False</td>\n    </tr>\n    <tr>\n      <th>3</th>\n      <td>12vc45j</td>\n      <td>SFWRedheads</td>\n      <td>missgingerisafox</td>\n      <td>Venus remix 🐆</td>\n      <td>woman in a purple bikini drinking a drink on t...</td>\n      <td>0244419e407a3f46b1427e3bc6fa63af</td>\n      <td>/r/SFWRedheads/comments/12vc45j/venus_remix/</td>\n      <td>https://i.redd.it/iwb14gjvciva1.jpg</td>\n      <td>0244419e407a3f46b1427e3bc6fa63af.jpg</td>\n      <td>D:\\data\\images\\SFWRedheads\\0244419e407a3f46b14...</td>\n      <td></td>\n      <td>True</td>\n      <td>False</td>\n    </tr>\n    <tr>\n      <th>4</th>\n      <td>12vc77j</td>\n      <td>SFWRedheads</td>\n      <td>nurselacey</td>\n      <td>💋</td>\n      <td>there is a woman with long hair and gloves on ...</td>\n      <td>0ca7f9778bb6c20ea4a009d52a11b2c9</td>\n      <td>/r/SFWRedheads/comments/12vc77j/_/</td>\n      <td>https://i.redd.it/8s2drd2ddiva1.jpg</td>\n      <td>0ca7f9778bb6c20ea4a009d52a11b2c9.jpg</td>\n      <td>D:\\data\\images\\SFWRedheads\\0ca7f9778bb6c20ea4a...</td>\n      <td></td>\n      <td>True</td>\n      <td>False</td>\n    </tr>\n    <tr>\n      <th>...</th>\n      <td>...</td>\n      <td>...</td>\n      <td>...</td>\n      <td>...</td>\n      <td>...</td>\n      <td>...</td>\n      <td>...</td>\n      <td>...</td>\n      <td>...</td>\n      <td>...</td>\n      <td>...</td>\n      <td>...</td>\n      <td>...</td>\n    </tr>\n    <tr>\n      <th>454</th>\n      <td>12w5x14</td>\n      <td>mildlypenis</td>\n      <td>Tajjiia</td>\n      <td>This lamp at my parents house</td>\n      <td>there is a green vase with a lamp on a table</td>\n      <td>5e390b908d4a2d723d8ed41c73cfbfc5</td>\n      <td>/r/mildlypenis/comments/12w5x14/this_lamp_at_m...</td>\n      <td>https://i.redd.it/xcvcqcodhmva1.jpg</td>\n      <td>5e390b908d4a2d723d8ed41c73cfbfc5.jpg</td>\n      <td>D:\\data\\images\\mildlypenis\\5e390b908d4a2d723d8...</td>\n      <td></td>\n      <td>True</td>\n      <td>False</td>\n    </tr>\n    <tr>\n      <th>455</th>\n      <td>12wchvk</td>\n      <td>mildlypenis</td>\n      <td>skrattarforlorar510</td>\n      <td>these hairs in my shower</td>\n      <td>there is a drawing of a hand on a toilet seat</td>\n      <td>ad08f73639fa5e4444f8521a41fbd858</td>\n      <td>/r/mildlypenis/comments/12wchvk/these_hairs_in...</td>\n      <td>https://i.redd.it/t2mekfgyvova1.jpg</td>\n      <td>ad08f73639fa5e4444f8521a41fbd858.jpg</td>\n      <td>D:\\data\\images\\mildlypenis\\ad08f73639fa5e4444f...</td>\n      <td></td>\n      <td>True</td>\n      <td>False</td>\n    </tr>\n    <tr>\n      <th>456</th>\n      <td>12wcpqj</td>\n      <td>mildlypenis</td>\n      <td>sunspot5b</td>\n      <td>My husband was calibrating his 3D printer and...</td>\n      <td>there is a white object with a long string att...</td>\n      <td>ce9346bcee854d4b2b17a4c33af085be</td>\n      <td>/r/mildlypenis/comments/12wcpqj/my_husband_was...</td>\n      <td>https://i.imgur.com/l6DWUSE.jpg</td>\n      <td>ce9346bcee854d4b2b17a4c33af085be.jpg</td>\n      <td>D:\\data\\images\\mildlypenis\\ce9346bcee854d4b2b1...</td>\n      <td></td>\n      <td>True</td>\n      <td>False</td>\n    </tr>\n    <tr>\n      <th>457</th>\n      <td>12webvb</td>\n      <td>mildlypenis</td>\n      <td>serenity_later</td>\n      <td>The inside of my padded bike shorts</td>\n      <td>there is a blue and black object on the floor ...</td>\n      <td>8895550c586de2beca624932eeccfa2a</td>\n      <td>/r/mildlypenis/comments/12webvb/the_inside_of_...</td>\n      <td>https://i.imgur.com/RgSARo8.jpg</td>\n      <td>8895550c586de2beca624932eeccfa2a.jpg</td>\n      <td>D:\\data\\images\\mildlypenis\\8895550c586de2beca6...</td>\n      <td></td>\n      <td>True</td>\n      <td>False</td>\n    </tr>\n    <tr>\n      <th>458</th>\n      <td>12wecrk</td>\n      <td>mildlypenis</td>\n      <td>Weird_Succotash8643</td>\n      <td>Peppa pig bread</td>\n      <td>several different shaped doughnuts with faces ...</td>\n      <td>c3882a35ff9dee22cad1ed1784332a1d</td>\n      <td>/r/mildlypenis/comments/12wecrk/peppa_pig_bread/</td>\n      <td>https://i.redd.it/o6rebenzymva1.jpg</td>\n      <td>c3882a35ff9dee22cad1ed1784332a1d.jpg</td>\n      <td>D:\\data\\images\\mildlypenis\\c3882a35ff9dee22cad...</td>\n      <td></td>\n      <td>True</td>\n      <td>False</td>\n    </tr>\n  </tbody>\n</table>\n<p>459 rows × 13 columns</p>\n</div>"
     },
     "metadata": {},
     "output_type": "display_data"
    },
    {
     "name": "stdout",
     "output_type": "stream",
     "text": [
      "CPU times: total: 0 ns\n",
      "Wall time: 6.32 ms\n"
     ]
    }
   ],
   "source": [
    "%%time\n",
    "\n",
    "tqdm.pandas(desc=\"Filtering\")\n",
    "writeable_entries = new_entries_final \\\n",
    "\t.where(~new_entries_final['id'].isin(extant_data['id'])) \\\n",
    "\t.dropna(how='all') \\\n",
    "\t.reset_index() \\\n",
    "\t.drop('index', axis=1)\n",
    "\n",
    "display(writeable_entries)"
   ],
   "metadata": {
    "collapsed": false,
    "ExecuteTime": {
     "start_time": "2023-04-23T13:39:24.068422Z",
     "end_time": "2023-04-23T13:39:24.143280Z"
    }
   }
  },
  {
   "cell_type": "code",
   "execution_count": 25,
   "outputs": [
    {
     "name": "stderr",
     "output_type": "stream",
     "text": [
      "<timed exec>:1: FutureWarning: In a future version, object-dtype columns with all-bool values will not be included in reductions with bool_only=True. Explicitly cast to bool dtype instead.\n"
     ]
    },
    {
     "data": {
      "text/plain": "          id         subreddit                author  \\\n0    128z5ns       celebrities           A-Sexy-Name   \n1    11yk8db  prettyasiangirls          MisoShiru520   \n2    11hfioi     KoreanHotties  Majestic_Painter8660   \n3    1000mjs         spaceporn    MorningStar_imangi   \n4    1000qpd         spaceporn    MorningStar_imangi   \n..       ...               ...                   ...   \n454  12w5x14       mildlypenis               Tajjiia   \n455  12wchvk       mildlypenis   skrattarforlorar510   \n456  12wcpqj       mildlypenis             sunspot5b   \n457  12webvb       mildlypenis        serenity_later   \n458  12wecrk       mildlypenis   Weird_Succotash8643   \n\n                                                title  \\\n0                                        Rachel Weisz   \n1                                             Library   \n2                                    Underboob bikini   \n3                       Northern Lights above Lofoten   \n4                                       Viking Lights   \n..                                                ...   \n454                     This lamp at my parents house   \n455                          these hairs in my shower   \n456  My husband was calibrating his 3D printer and...   \n457               The inside of my padded bike shorts   \n458                                   Peppa pig bread   \n\n                                               caption  \\\n0    cars are parked on the side of the road in the...   \n1    blonde woman with blonde hair and tattoos on h...   \n2    a man with a beard and a beard sitting in fron...   \n3    a view of a view of a large green and purple a...   \n4    a scene of a boat is sitting on the shore of a...   \n..                                                 ...   \n454       there is a green vase with a lamp on a table   \n455      there is a drawing of a hand on a toilet seat   \n456  there is a white object with a long string att...   \n457  there is a blue and black object on the floor ...   \n458  several different shaped doughnuts with faces ...   \n\n                                 hash  \\\n0    f09b1c0c5dea50c934081a04c83d4d33   \n1    9d5b7331b941ecf3fdbc8ad322303825   \n2    a154a56b1b87cf3a0bc93600c86e4585   \n3    2c39ce1290fba541abd0b004b09da6b2   \n4    0f72de47c69ff50eca5fa3990215f4ac   \n..                                ...   \n454  5e390b908d4a2d723d8ed41c73cfbfc5   \n455  ad08f73639fa5e4444f8521a41fbd858   \n456  ce9346bcee854d4b2b17a4c33af085be   \n457  8895550c586de2beca624932eeccfa2a   \n458  c3882a35ff9dee22cad1ed1784332a1d   \n\n                                             permalink  \\\n0        /r/celebrities/comments/128z5ns/rachel_weisz/   \n1        /r/prettyasiangirls/comments/11yk8db/library/   \n2    /r/KoreanHotties/comments/11hfioi/underboob_bi...   \n3    /r/spaceporn/comments/1000mjs/northern_lights_...   \n4         /r/spaceporn/comments/1000qpd/viking_lights/   \n..                                                 ...   \n454  /r/mildlypenis/comments/12w5x14/this_lamp_at_m...   \n455  /r/mildlypenis/comments/12wchvk/these_hairs_in...   \n456  /r/mildlypenis/comments/12wcpqj/my_husband_was...   \n457  /r/mildlypenis/comments/12webvb/the_inside_of_...   \n458   /r/mildlypenis/comments/12wecrk/peppa_pig_bread/   \n\n                            original_url  \\\n0    https://i.redd.it/nv80afddacra1.jpg   \n1    https://i.redd.it/ht4d2wuusapa1.jpg   \n2    https://i.redd.it/cimr17q84jla1.jpg   \n3    https://i.redd.it/7s5aafaqkb9a1.jpg   \n4    https://i.redd.it/abojw7lqlb9a1.jpg   \n..                                   ...   \n454  https://i.redd.it/xcvcqcodhmva1.jpg   \n455  https://i.redd.it/t2mekfgyvova1.jpg   \n456      https://i.imgur.com/l6DWUSE.jpg   \n457      https://i.imgur.com/RgSARo8.jpg   \n458  https://i.redd.it/o6rebenzymva1.jpg   \n\n                               image_name  \\\n0    f09b1c0c5dea50c934081a04c83d4d33.jpg   \n1    9d5b7331b941ecf3fdbc8ad322303825.jpg   \n2    a154a56b1b87cf3a0bc93600c86e4585.jpg   \n3                       7s5aafaqkb9a1.jpg   \n4                       abojw7lqlb9a1.jpg   \n..                                    ...   \n454  5e390b908d4a2d723d8ed41c73cfbfc5.jpg   \n455  ad08f73639fa5e4444f8521a41fbd858.jpg   \n456  ce9346bcee854d4b2b17a4c33af085be.jpg   \n457  8895550c586de2beca624932eeccfa2a.jpg   \n458  c3882a35ff9dee22cad1ed1784332a1d.jpg   \n\n                                                  path  \\\n0    D:\\data\\images\\celebrities\\f09b1c0c5dea50c9340...   \n1    D:\\data\\images\\prettyasiangirls\\9d5b7331b941ec...   \n2                             D:\\ImageDoesNotExist.png   \n3           D:\\data\\images\\spaceporn\\7s5aafaqkb9a1.jpg   \n4           D:\\data\\images\\spaceporn\\abojw7lqlb9a1.jpg   \n..                                                 ...   \n454  D:\\data\\images\\mildlypenis\\5e390b908d4a2d723d8...   \n455  D:\\data\\images\\mildlypenis\\ad08f73639fa5e4444f...   \n456  D:\\data\\images\\mildlypenis\\ce9346bcee854d4b2b1...   \n457  D:\\data\\images\\mildlypenis\\8895550c586de2beca6...   \n458  D:\\data\\images\\mildlypenis\\c3882a35ff9dee22cad...   \n\n                                        thumbnail_path exists curated  \n0    D:\\data\\images\\celebrities\\thumbnail\\f09b1c0c5...   True   False  \n1    D:\\data\\images\\prettyasiangirls\\thumbnail\\9d5b...   True   False  \n2    D:\\data\\images\\KoreanHotties\\thumbnail\\a154a56...  False   False  \n3    /data/images/spaceporn/thumbnail/7s5aafaqkb9a1...   True   False  \n4    /data/images/spaceporn/thumbnail/abojw7lqlb9a1...   True   False  \n..                                                 ...    ...     ...  \n454                                                      True   False  \n455                                                      True   False  \n456                                                      True   False  \n457                                                      True   False  \n458                                                      True   False  \n\n[32551 rows x 13 columns]",
      "text/html": "<div>\n<style scoped>\n    .dataframe tbody tr th:only-of-type {\n        vertical-align: middle;\n    }\n\n    .dataframe tbody tr th {\n        vertical-align: top;\n    }\n\n    .dataframe thead th {\n        text-align: right;\n    }\n</style>\n<table border=\"1\" class=\"dataframe\">\n  <thead>\n    <tr style=\"text-align: right;\">\n      <th></th>\n      <th>id</th>\n      <th>subreddit</th>\n      <th>author</th>\n      <th>title</th>\n      <th>caption</th>\n      <th>hash</th>\n      <th>permalink</th>\n      <th>original_url</th>\n      <th>image_name</th>\n      <th>path</th>\n      <th>thumbnail_path</th>\n      <th>exists</th>\n      <th>curated</th>\n    </tr>\n  </thead>\n  <tbody>\n    <tr>\n      <th>0</th>\n      <td>128z5ns</td>\n      <td>celebrities</td>\n      <td>A-Sexy-Name</td>\n      <td>Rachel Weisz</td>\n      <td>cars are parked on the side of the road in the...</td>\n      <td>f09b1c0c5dea50c934081a04c83d4d33</td>\n      <td>/r/celebrities/comments/128z5ns/rachel_weisz/</td>\n      <td>https://i.redd.it/nv80afddacra1.jpg</td>\n      <td>f09b1c0c5dea50c934081a04c83d4d33.jpg</td>\n      <td>D:\\data\\images\\celebrities\\f09b1c0c5dea50c9340...</td>\n      <td>D:\\data\\images\\celebrities\\thumbnail\\f09b1c0c5...</td>\n      <td>True</td>\n      <td>False</td>\n    </tr>\n    <tr>\n      <th>1</th>\n      <td>11yk8db</td>\n      <td>prettyasiangirls</td>\n      <td>MisoShiru520</td>\n      <td>Library</td>\n      <td>blonde woman with blonde hair and tattoos on h...</td>\n      <td>9d5b7331b941ecf3fdbc8ad322303825</td>\n      <td>/r/prettyasiangirls/comments/11yk8db/library/</td>\n      <td>https://i.redd.it/ht4d2wuusapa1.jpg</td>\n      <td>9d5b7331b941ecf3fdbc8ad322303825.jpg</td>\n      <td>D:\\data\\images\\prettyasiangirls\\9d5b7331b941ec...</td>\n      <td>D:\\data\\images\\prettyasiangirls\\thumbnail\\9d5b...</td>\n      <td>True</td>\n      <td>False</td>\n    </tr>\n    <tr>\n      <th>2</th>\n      <td>11hfioi</td>\n      <td>KoreanHotties</td>\n      <td>Majestic_Painter8660</td>\n      <td>Underboob bikini</td>\n      <td>a man with a beard and a beard sitting in fron...</td>\n      <td>a154a56b1b87cf3a0bc93600c86e4585</td>\n      <td>/r/KoreanHotties/comments/11hfioi/underboob_bi...</td>\n      <td>https://i.redd.it/cimr17q84jla1.jpg</td>\n      <td>a154a56b1b87cf3a0bc93600c86e4585.jpg</td>\n      <td>D:\\ImageDoesNotExist.png</td>\n      <td>D:\\data\\images\\KoreanHotties\\thumbnail\\a154a56...</td>\n      <td>False</td>\n      <td>False</td>\n    </tr>\n    <tr>\n      <th>3</th>\n      <td>1000mjs</td>\n      <td>spaceporn</td>\n      <td>MorningStar_imangi</td>\n      <td>Northern Lights above Lofoten</td>\n      <td>a view of a view of a large green and purple a...</td>\n      <td>2c39ce1290fba541abd0b004b09da6b2</td>\n      <td>/r/spaceporn/comments/1000mjs/northern_lights_...</td>\n      <td>https://i.redd.it/7s5aafaqkb9a1.jpg</td>\n      <td>7s5aafaqkb9a1.jpg</td>\n      <td>D:\\data\\images\\spaceporn\\7s5aafaqkb9a1.jpg</td>\n      <td>/data/images/spaceporn/thumbnail/7s5aafaqkb9a1...</td>\n      <td>True</td>\n      <td>False</td>\n    </tr>\n    <tr>\n      <th>4</th>\n      <td>1000qpd</td>\n      <td>spaceporn</td>\n      <td>MorningStar_imangi</td>\n      <td>Viking Lights</td>\n      <td>a scene of a boat is sitting on the shore of a...</td>\n      <td>0f72de47c69ff50eca5fa3990215f4ac</td>\n      <td>/r/spaceporn/comments/1000qpd/viking_lights/</td>\n      <td>https://i.redd.it/abojw7lqlb9a1.jpg</td>\n      <td>abojw7lqlb9a1.jpg</td>\n      <td>D:\\data\\images\\spaceporn\\abojw7lqlb9a1.jpg</td>\n      <td>/data/images/spaceporn/thumbnail/abojw7lqlb9a1...</td>\n      <td>True</td>\n      <td>False</td>\n    </tr>\n    <tr>\n      <th>...</th>\n      <td>...</td>\n      <td>...</td>\n      <td>...</td>\n      <td>...</td>\n      <td>...</td>\n      <td>...</td>\n      <td>...</td>\n      <td>...</td>\n      <td>...</td>\n      <td>...</td>\n      <td>...</td>\n      <td>...</td>\n      <td>...</td>\n    </tr>\n    <tr>\n      <th>454</th>\n      <td>12w5x14</td>\n      <td>mildlypenis</td>\n      <td>Tajjiia</td>\n      <td>This lamp at my parents house</td>\n      <td>there is a green vase with a lamp on a table</td>\n      <td>5e390b908d4a2d723d8ed41c73cfbfc5</td>\n      <td>/r/mildlypenis/comments/12w5x14/this_lamp_at_m...</td>\n      <td>https://i.redd.it/xcvcqcodhmva1.jpg</td>\n      <td>5e390b908d4a2d723d8ed41c73cfbfc5.jpg</td>\n      <td>D:\\data\\images\\mildlypenis\\5e390b908d4a2d723d8...</td>\n      <td></td>\n      <td>True</td>\n      <td>False</td>\n    </tr>\n    <tr>\n      <th>455</th>\n      <td>12wchvk</td>\n      <td>mildlypenis</td>\n      <td>skrattarforlorar510</td>\n      <td>these hairs in my shower</td>\n      <td>there is a drawing of a hand on a toilet seat</td>\n      <td>ad08f73639fa5e4444f8521a41fbd858</td>\n      <td>/r/mildlypenis/comments/12wchvk/these_hairs_in...</td>\n      <td>https://i.redd.it/t2mekfgyvova1.jpg</td>\n      <td>ad08f73639fa5e4444f8521a41fbd858.jpg</td>\n      <td>D:\\data\\images\\mildlypenis\\ad08f73639fa5e4444f...</td>\n      <td></td>\n      <td>True</td>\n      <td>False</td>\n    </tr>\n    <tr>\n      <th>456</th>\n      <td>12wcpqj</td>\n      <td>mildlypenis</td>\n      <td>sunspot5b</td>\n      <td>My husband was calibrating his 3D printer and...</td>\n      <td>there is a white object with a long string att...</td>\n      <td>ce9346bcee854d4b2b17a4c33af085be</td>\n      <td>/r/mildlypenis/comments/12wcpqj/my_husband_was...</td>\n      <td>https://i.imgur.com/l6DWUSE.jpg</td>\n      <td>ce9346bcee854d4b2b17a4c33af085be.jpg</td>\n      <td>D:\\data\\images\\mildlypenis\\ce9346bcee854d4b2b1...</td>\n      <td></td>\n      <td>True</td>\n      <td>False</td>\n    </tr>\n    <tr>\n      <th>457</th>\n      <td>12webvb</td>\n      <td>mildlypenis</td>\n      <td>serenity_later</td>\n      <td>The inside of my padded bike shorts</td>\n      <td>there is a blue and black object on the floor ...</td>\n      <td>8895550c586de2beca624932eeccfa2a</td>\n      <td>/r/mildlypenis/comments/12webvb/the_inside_of_...</td>\n      <td>https://i.imgur.com/RgSARo8.jpg</td>\n      <td>8895550c586de2beca624932eeccfa2a.jpg</td>\n      <td>D:\\data\\images\\mildlypenis\\8895550c586de2beca6...</td>\n      <td></td>\n      <td>True</td>\n      <td>False</td>\n    </tr>\n    <tr>\n      <th>458</th>\n      <td>12wecrk</td>\n      <td>mildlypenis</td>\n      <td>Weird_Succotash8643</td>\n      <td>Peppa pig bread</td>\n      <td>several different shaped doughnuts with faces ...</td>\n      <td>c3882a35ff9dee22cad1ed1784332a1d</td>\n      <td>/r/mildlypenis/comments/12wecrk/peppa_pig_bread/</td>\n      <td>https://i.redd.it/o6rebenzymva1.jpg</td>\n      <td>c3882a35ff9dee22cad1ed1784332a1d.jpg</td>\n      <td>D:\\data\\images\\mildlypenis\\c3882a35ff9dee22cad...</td>\n      <td></td>\n      <td>True</td>\n      <td>False</td>\n    </tr>\n  </tbody>\n</table>\n<p>32551 rows × 13 columns</p>\n</div>"
     },
     "metadata": {},
     "output_type": "display_data"
    },
    {
     "name": "stdout",
     "output_type": "stream",
     "text": [
      "CPU times: total: 31.2 ms\n",
      "Wall time: 15 ms\n"
     ]
    }
   ],
   "source": [
    "%%time\n",
    "\n",
    "combined_result = pd.concat([extant_data, writeable_entries])\n",
    "\n",
    "display(combined_result)"
   ],
   "metadata": {
    "collapsed": false,
    "ExecuteTime": {
     "start_time": "2023-04-23T13:39:24.107576Z",
     "end_time": "2023-04-23T13:39:24.258132Z"
    }
   }
  },
  {
   "cell_type": "code",
   "execution_count": 26,
   "outputs": [
    {
     "name": "stdout",
     "output_type": "stream",
     "text": [
      "CPU times: total: 625 ms\n",
      "Wall time: 5.76 s\n"
     ]
    },
    {
     "data": {
      "text/plain": "[None]"
     },
     "execution_count": 26,
     "metadata": {},
     "output_type": "execute_result"
    }
   ],
   "source": [
    "%%time\n",
    "\n",
    "combined_result.reindex()\n",
    "combined_result.to_csv('processed_raw_data.csv', index=False)\n",
    "f = AzureFileStorageAdapter('data').get_file_storage()\n",
    "f.put('processed_raw_data.csv', 'data/processed_raw_data.csv', overwrite=True)"
   ],
   "metadata": {
    "collapsed": false,
    "ExecuteTime": {
     "start_time": "2023-04-23T13:39:24.134736Z",
     "end_time": "2023-04-23T13:39:29.909153Z"
    }
   }
  },
  {
   "cell_type": "code",
   "execution_count": 27,
   "outputs": [
    {
     "name": "stdout",
     "output_type": "stream",
     "text": [
      "CPU times: total: 641 ms\n",
      "Wall time: 4.51 s\n"
     ]
    }
   ],
   "source": [
    "%%time\n",
    "\n",
    "final = pd.read_csv(f.open('data/processed_raw_data.csv'))\n",
    "final.to_parquet(\"data/processed_raw_data.parquet\", engine='pyarrow', filesystem=file_system, schema=schema)"
   ],
   "metadata": {
    "collapsed": false,
    "ExecuteTime": {
     "start_time": "2023-04-23T13:39:29.909153Z",
     "end_time": "2023-04-23T13:39:34.431368Z"
    }
   }
  },
  {
   "cell_type": "code",
   "execution_count": 28,
   "outputs": [
    {
     "data": {
      "text/plain": "            id         subreddit                author  \\\n0      128z5ns       celebrities           A-Sexy-Name   \n1      11yk8db  prettyasiangirls          MisoShiru520   \n2      11hfioi     KoreanHotties  Majestic_Painter8660   \n3      1000mjs         spaceporn    MorningStar_imangi   \n4      1000qpd         spaceporn    MorningStar_imangi   \n...        ...               ...                   ...   \n32546  12w5x14       mildlypenis               Tajjiia   \n32547  12wchvk       mildlypenis   skrattarforlorar510   \n32548  12wcpqj       mildlypenis             sunspot5b   \n32549  12webvb       mildlypenis        serenity_later   \n32550  12wecrk       mildlypenis   Weird_Succotash8643   \n\n                                                  title  \\\n0                                          Rachel Weisz   \n1                                               Library   \n2                                      Underboob bikini   \n3                         Northern Lights above Lofoten   \n4                                         Viking Lights   \n...                                                 ...   \n32546                     This lamp at my parents house   \n32547                          these hairs in my shower   \n32548  My husband was calibrating his 3D printer and...   \n32549               The inside of my padded bike shorts   \n32550                                   Peppa pig bread   \n\n                                                 caption  \\\n0      cars are parked on the side of the road in the...   \n1      blonde woman with blonde hair and tattoos on h...   \n2      a man with a beard and a beard sitting in fron...   \n3      a view of a view of a large green and purple a...   \n4      a scene of a boat is sitting on the shore of a...   \n...                                                  ...   \n32546       there is a green vase with a lamp on a table   \n32547      there is a drawing of a hand on a toilet seat   \n32548  there is a white object with a long string att...   \n32549  there is a blue and black object on the floor ...   \n32550  several different shaped doughnuts with faces ...   \n\n                                   hash  \\\n0      f09b1c0c5dea50c934081a04c83d4d33   \n1      9d5b7331b941ecf3fdbc8ad322303825   \n2      a154a56b1b87cf3a0bc93600c86e4585   \n3      2c39ce1290fba541abd0b004b09da6b2   \n4      0f72de47c69ff50eca5fa3990215f4ac   \n...                                 ...   \n32546  5e390b908d4a2d723d8ed41c73cfbfc5   \n32547  ad08f73639fa5e4444f8521a41fbd858   \n32548  ce9346bcee854d4b2b17a4c33af085be   \n32549  8895550c586de2beca624932eeccfa2a   \n32550  c3882a35ff9dee22cad1ed1784332a1d   \n\n                                               permalink  \\\n0          /r/celebrities/comments/128z5ns/rachel_weisz/   \n1          /r/prettyasiangirls/comments/11yk8db/library/   \n2      /r/KoreanHotties/comments/11hfioi/underboob_bi...   \n3      /r/spaceporn/comments/1000mjs/northern_lights_...   \n4           /r/spaceporn/comments/1000qpd/viking_lights/   \n...                                                  ...   \n32546  /r/mildlypenis/comments/12w5x14/this_lamp_at_m...   \n32547  /r/mildlypenis/comments/12wchvk/these_hairs_in...   \n32548  /r/mildlypenis/comments/12wcpqj/my_husband_was...   \n32549  /r/mildlypenis/comments/12webvb/the_inside_of_...   \n32550   /r/mildlypenis/comments/12wecrk/peppa_pig_bread/   \n\n                              original_url  \\\n0      https://i.redd.it/nv80afddacra1.jpg   \n1      https://i.redd.it/ht4d2wuusapa1.jpg   \n2      https://i.redd.it/cimr17q84jla1.jpg   \n3      https://i.redd.it/7s5aafaqkb9a1.jpg   \n4      https://i.redd.it/abojw7lqlb9a1.jpg   \n...                                    ...   \n32546  https://i.redd.it/xcvcqcodhmva1.jpg   \n32547  https://i.redd.it/t2mekfgyvova1.jpg   \n32548      https://i.imgur.com/l6DWUSE.jpg   \n32549      https://i.imgur.com/RgSARo8.jpg   \n32550  https://i.redd.it/o6rebenzymva1.jpg   \n\n                                 image_name  \\\n0      f09b1c0c5dea50c934081a04c83d4d33.jpg   \n1      9d5b7331b941ecf3fdbc8ad322303825.jpg   \n2      a154a56b1b87cf3a0bc93600c86e4585.jpg   \n3                         7s5aafaqkb9a1.jpg   \n4                         abojw7lqlb9a1.jpg   \n...                                     ...   \n32546  5e390b908d4a2d723d8ed41c73cfbfc5.jpg   \n32547  ad08f73639fa5e4444f8521a41fbd858.jpg   \n32548  ce9346bcee854d4b2b17a4c33af085be.jpg   \n32549  8895550c586de2beca624932eeccfa2a.jpg   \n32550  c3882a35ff9dee22cad1ed1784332a1d.jpg   \n\n                                                    path  \\\n0      D:\\data\\images\\celebrities\\f09b1c0c5dea50c9340...   \n1      D:\\data\\images\\prettyasiangirls\\9d5b7331b941ec...   \n2                               D:\\ImageDoesNotExist.png   \n3             D:\\data\\images\\spaceporn\\7s5aafaqkb9a1.jpg   \n4             D:\\data\\images\\spaceporn\\abojw7lqlb9a1.jpg   \n...                                                  ...   \n32546  D:\\data\\images\\mildlypenis\\5e390b908d4a2d723d8...   \n32547  D:\\data\\images\\mildlypenis\\ad08f73639fa5e4444f...   \n32548  D:\\data\\images\\mildlypenis\\ce9346bcee854d4b2b1...   \n32549  D:\\data\\images\\mildlypenis\\8895550c586de2beca6...   \n32550  D:\\data\\images\\mildlypenis\\c3882a35ff9dee22cad...   \n\n                                          thumbnail_path  exists  curated  \n0      D:\\data\\images\\celebrities\\thumbnail\\f09b1c0c5...    True    False  \n1      D:\\data\\images\\prettyasiangirls\\thumbnail\\9d5b...    True    False  \n2      D:\\data\\images\\KoreanHotties\\thumbnail\\a154a56...   False    False  \n3      /data/images/spaceporn/thumbnail/7s5aafaqkb9a1...    True    False  \n4      /data/images/spaceporn/thumbnail/abojw7lqlb9a1...    True    False  \n...                                                  ...     ...      ...  \n32546                                               None    True    False  \n32547                                               None    True    False  \n32548                                               None    True    False  \n32549                                               None    True    False  \n32550                                               None    True    False  \n\n[32551 rows x 13 columns]",
      "text/html": "<div>\n<style scoped>\n    .dataframe tbody tr th:only-of-type {\n        vertical-align: middle;\n    }\n\n    .dataframe tbody tr th {\n        vertical-align: top;\n    }\n\n    .dataframe thead th {\n        text-align: right;\n    }\n</style>\n<table border=\"1\" class=\"dataframe\">\n  <thead>\n    <tr style=\"text-align: right;\">\n      <th></th>\n      <th>id</th>\n      <th>subreddit</th>\n      <th>author</th>\n      <th>title</th>\n      <th>caption</th>\n      <th>hash</th>\n      <th>permalink</th>\n      <th>original_url</th>\n      <th>image_name</th>\n      <th>path</th>\n      <th>thumbnail_path</th>\n      <th>exists</th>\n      <th>curated</th>\n    </tr>\n  </thead>\n  <tbody>\n    <tr>\n      <th>0</th>\n      <td>128z5ns</td>\n      <td>celebrities</td>\n      <td>A-Sexy-Name</td>\n      <td>Rachel Weisz</td>\n      <td>cars are parked on the side of the road in the...</td>\n      <td>f09b1c0c5dea50c934081a04c83d4d33</td>\n      <td>/r/celebrities/comments/128z5ns/rachel_weisz/</td>\n      <td>https://i.redd.it/nv80afddacra1.jpg</td>\n      <td>f09b1c0c5dea50c934081a04c83d4d33.jpg</td>\n      <td>D:\\data\\images\\celebrities\\f09b1c0c5dea50c9340...</td>\n      <td>D:\\data\\images\\celebrities\\thumbnail\\f09b1c0c5...</td>\n      <td>True</td>\n      <td>False</td>\n    </tr>\n    <tr>\n      <th>1</th>\n      <td>11yk8db</td>\n      <td>prettyasiangirls</td>\n      <td>MisoShiru520</td>\n      <td>Library</td>\n      <td>blonde woman with blonde hair and tattoos on h...</td>\n      <td>9d5b7331b941ecf3fdbc8ad322303825</td>\n      <td>/r/prettyasiangirls/comments/11yk8db/library/</td>\n      <td>https://i.redd.it/ht4d2wuusapa1.jpg</td>\n      <td>9d5b7331b941ecf3fdbc8ad322303825.jpg</td>\n      <td>D:\\data\\images\\prettyasiangirls\\9d5b7331b941ec...</td>\n      <td>D:\\data\\images\\prettyasiangirls\\thumbnail\\9d5b...</td>\n      <td>True</td>\n      <td>False</td>\n    </tr>\n    <tr>\n      <th>2</th>\n      <td>11hfioi</td>\n      <td>KoreanHotties</td>\n      <td>Majestic_Painter8660</td>\n      <td>Underboob bikini</td>\n      <td>a man with a beard and a beard sitting in fron...</td>\n      <td>a154a56b1b87cf3a0bc93600c86e4585</td>\n      <td>/r/KoreanHotties/comments/11hfioi/underboob_bi...</td>\n      <td>https://i.redd.it/cimr17q84jla1.jpg</td>\n      <td>a154a56b1b87cf3a0bc93600c86e4585.jpg</td>\n      <td>D:\\ImageDoesNotExist.png</td>\n      <td>D:\\data\\images\\KoreanHotties\\thumbnail\\a154a56...</td>\n      <td>False</td>\n      <td>False</td>\n    </tr>\n    <tr>\n      <th>3</th>\n      <td>1000mjs</td>\n      <td>spaceporn</td>\n      <td>MorningStar_imangi</td>\n      <td>Northern Lights above Lofoten</td>\n      <td>a view of a view of a large green and purple a...</td>\n      <td>2c39ce1290fba541abd0b004b09da6b2</td>\n      <td>/r/spaceporn/comments/1000mjs/northern_lights_...</td>\n      <td>https://i.redd.it/7s5aafaqkb9a1.jpg</td>\n      <td>7s5aafaqkb9a1.jpg</td>\n      <td>D:\\data\\images\\spaceporn\\7s5aafaqkb9a1.jpg</td>\n      <td>/data/images/spaceporn/thumbnail/7s5aafaqkb9a1...</td>\n      <td>True</td>\n      <td>False</td>\n    </tr>\n    <tr>\n      <th>4</th>\n      <td>1000qpd</td>\n      <td>spaceporn</td>\n      <td>MorningStar_imangi</td>\n      <td>Viking Lights</td>\n      <td>a scene of a boat is sitting on the shore of a...</td>\n      <td>0f72de47c69ff50eca5fa3990215f4ac</td>\n      <td>/r/spaceporn/comments/1000qpd/viking_lights/</td>\n      <td>https://i.redd.it/abojw7lqlb9a1.jpg</td>\n      <td>abojw7lqlb9a1.jpg</td>\n      <td>D:\\data\\images\\spaceporn\\abojw7lqlb9a1.jpg</td>\n      <td>/data/images/spaceporn/thumbnail/abojw7lqlb9a1...</td>\n      <td>True</td>\n      <td>False</td>\n    </tr>\n    <tr>\n      <th>...</th>\n      <td>...</td>\n      <td>...</td>\n      <td>...</td>\n      <td>...</td>\n      <td>...</td>\n      <td>...</td>\n      <td>...</td>\n      <td>...</td>\n      <td>...</td>\n      <td>...</td>\n      <td>...</td>\n      <td>...</td>\n      <td>...</td>\n    </tr>\n    <tr>\n      <th>32546</th>\n      <td>12w5x14</td>\n      <td>mildlypenis</td>\n      <td>Tajjiia</td>\n      <td>This lamp at my parents house</td>\n      <td>there is a green vase with a lamp on a table</td>\n      <td>5e390b908d4a2d723d8ed41c73cfbfc5</td>\n      <td>/r/mildlypenis/comments/12w5x14/this_lamp_at_m...</td>\n      <td>https://i.redd.it/xcvcqcodhmva1.jpg</td>\n      <td>5e390b908d4a2d723d8ed41c73cfbfc5.jpg</td>\n      <td>D:\\data\\images\\mildlypenis\\5e390b908d4a2d723d8...</td>\n      <td>None</td>\n      <td>True</td>\n      <td>False</td>\n    </tr>\n    <tr>\n      <th>32547</th>\n      <td>12wchvk</td>\n      <td>mildlypenis</td>\n      <td>skrattarforlorar510</td>\n      <td>these hairs in my shower</td>\n      <td>there is a drawing of a hand on a toilet seat</td>\n      <td>ad08f73639fa5e4444f8521a41fbd858</td>\n      <td>/r/mildlypenis/comments/12wchvk/these_hairs_in...</td>\n      <td>https://i.redd.it/t2mekfgyvova1.jpg</td>\n      <td>ad08f73639fa5e4444f8521a41fbd858.jpg</td>\n      <td>D:\\data\\images\\mildlypenis\\ad08f73639fa5e4444f...</td>\n      <td>None</td>\n      <td>True</td>\n      <td>False</td>\n    </tr>\n    <tr>\n      <th>32548</th>\n      <td>12wcpqj</td>\n      <td>mildlypenis</td>\n      <td>sunspot5b</td>\n      <td>My husband was calibrating his 3D printer and...</td>\n      <td>there is a white object with a long string att...</td>\n      <td>ce9346bcee854d4b2b17a4c33af085be</td>\n      <td>/r/mildlypenis/comments/12wcpqj/my_husband_was...</td>\n      <td>https://i.imgur.com/l6DWUSE.jpg</td>\n      <td>ce9346bcee854d4b2b17a4c33af085be.jpg</td>\n      <td>D:\\data\\images\\mildlypenis\\ce9346bcee854d4b2b1...</td>\n      <td>None</td>\n      <td>True</td>\n      <td>False</td>\n    </tr>\n    <tr>\n      <th>32549</th>\n      <td>12webvb</td>\n      <td>mildlypenis</td>\n      <td>serenity_later</td>\n      <td>The inside of my padded bike shorts</td>\n      <td>there is a blue and black object on the floor ...</td>\n      <td>8895550c586de2beca624932eeccfa2a</td>\n      <td>/r/mildlypenis/comments/12webvb/the_inside_of_...</td>\n      <td>https://i.imgur.com/RgSARo8.jpg</td>\n      <td>8895550c586de2beca624932eeccfa2a.jpg</td>\n      <td>D:\\data\\images\\mildlypenis\\8895550c586de2beca6...</td>\n      <td>None</td>\n      <td>True</td>\n      <td>False</td>\n    </tr>\n    <tr>\n      <th>32550</th>\n      <td>12wecrk</td>\n      <td>mildlypenis</td>\n      <td>Weird_Succotash8643</td>\n      <td>Peppa pig bread</td>\n      <td>several different shaped doughnuts with faces ...</td>\n      <td>c3882a35ff9dee22cad1ed1784332a1d</td>\n      <td>/r/mildlypenis/comments/12wecrk/peppa_pig_bread/</td>\n      <td>https://i.redd.it/o6rebenzymva1.jpg</td>\n      <td>c3882a35ff9dee22cad1ed1784332a1d.jpg</td>\n      <td>D:\\data\\images\\mildlypenis\\c3882a35ff9dee22cad...</td>\n      <td>None</td>\n      <td>True</td>\n      <td>False</td>\n    </tr>\n  </tbody>\n</table>\n<p>32551 rows × 13 columns</p>\n</div>"
     },
     "metadata": {},
     "output_type": "display_data"
    },
    {
     "name": "stdout",
     "output_type": "stream",
     "text": [
      "CPU times: total: 250 ms\n",
      "Wall time: 735 ms\n"
     ]
    }
   ],
   "source": [
    "%%time\n",
    "\n",
    "final = pd.read_parquet(\"data/processed_raw_data.parquet\", engine='pyarrow', filesystem=file_system)\n",
    "display(final)"
   ],
   "metadata": {
    "collapsed": false,
    "ExecuteTime": {
     "start_time": "2023-04-23T13:39:34.431368Z",
     "end_time": "2023-04-23T13:39:35.182704Z"
    }
   }
  }
 ],
 "metadata": {
  "kernelspec": {
   "display_name": "Python 3",
   "language": "python",
   "name": "python3"
  },
  "language_info": {
   "codemirror_mode": {
    "name": "ipython",
    "version": 2
   },
   "file_extension": ".py",
   "mimetype": "text/x-python",
   "name": "python",
   "nbconvert_exporter": "python",
   "pygments_lexer": "ipython2",
   "version": "2.7.6"
  }
 },
 "nbformat": 4,
 "nbformat_minor": 0
}
