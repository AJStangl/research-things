{
 "cells": [
  {
   "cell_type": "code",
   "execution_count": 1,
   "metadata": {
    "collapsed": true,
    "ExecuteTime": {
     "start_time": "2023-04-28T17:52:19.745261Z",
     "end_time": "2023-04-28T17:52:58.733340Z"
    }
   },
   "outputs": [],
   "source": [
    "\n",
    "import hashlib\n",
    "import os\n",
    "import random\n",
    "import time\n",
    "from datetime import datetime\n",
    "from io import BytesIO\n",
    "\n",
    "import pandas as pd\n",
    "import praw\n",
    "import requests\n",
    "import torch\n",
    "from PIL import Image\n",
    "from dask.diagnostics import ProgressBar\n",
    "from pmaw import PushshiftAPI\n",
    "from tqdm import tqdm\n",
    "\n",
    "from shared_code.utility.schemas.pyarrow_schema import schema\n",
    "from shared_code.utility.spark.set_environ import set_azure_env\n",
    "\n",
    "set_azure_env()\n",
    "\n",
    "from shared_code.utility.storage.azure_file_storage import AzureFileStorageAdapter\n",
    "from shared_code.utility.scripts.blip_caption import BlipCaption\n",
    "\n",
    "pbar = ProgressBar()\n",
    "pbar.register()\n",
    "\n",
    "tqdm.pandas()\n",
    "tqdm.pandas(desc=\"global\")\n",
    "\n",
    "from tqdm.dask import TqdmCallback\n",
    "\n",
    "cb = TqdmCallback(desc=\"global\")\n",
    "cb.register()\n",
    "\n",
    "file_system = AzureFileStorageAdapter('data').get_file_storage()"
   ]
  },
  {
   "cell_type": "code",
   "execution_count": 2,
   "outputs": [
    {
     "name": "stdout",
     "output_type": "stream",
     "text": [
      "CPU times: total: 0 ns\n",
      "Wall time: 0 ns\n"
     ]
    }
   ],
   "source": [
    "%%time\n",
    "\n",
    "subs = [\n",
    "\t\"SFWRedheads\",\n",
    "\t\"sfwpetite\",\n",
    "\t\"SFWNextDoorGirls\",\n",
    "\t\"trippinthroughtime\",\n",
    "\t\"fatsquirrelhate\",\n",
    "\t\"itookapicture\",\n",
    "\t\"memes\",\n",
    "\t\"WhitePeopleTwitter\",\n",
    "\t\"CityPorn\",\n",
    "\t\"EarthPorn\",\n",
    "\t\"spaceporn\",\n",
    "\t\"realasians\",\n",
    "\t\"KoreanHotties\",\n",
    "\t\"prettyasiangirls\",\n",
    "\t\"AsianOfficeLady\",\n",
    "\t\"mildlypenis\",\n",
    "\t\"cougars_and_milfs_sfw\",\n",
    "\t\"AsianInvasion\",\n",
    "\t\"sexygirls\",\n",
    "\t\"PrettyGirls\",\n",
    "\t\"gentlemanboners\",\n",
    "\t\"hotofficegirls\",\n",
    "\t\"tightdresses\",\n",
    "\t\"DLAH\"\n",
    "]\n"
   ],
   "metadata": {
    "collapsed": false,
    "ExecuteTime": {
     "start_time": "2023-04-28T17:52:58.702086Z",
     "end_time": "2023-04-28T17:52:58.764584Z"
    }
   }
  },
  {
   "cell_type": "code",
   "execution_count": 3,
   "outputs": [
    {
     "data": {
      "text/plain": "            id         subreddit                author  \\\n0      128z5ns       celebrities           A-Sexy-Name   \n1      11yk8db  prettyasiangirls          MisoShiru520   \n2      11hfioi     KoreanHotties  Majestic_Painter8660   \n3      1000mjs         spaceporn    MorningStar_imangi   \n4      1000qpd         spaceporn    MorningStar_imangi   \n...        ...               ...                   ...   \n41500  131dso7              DLAH        Wallydinger123   \n41501  131eznp              DLAH          Long_dong111   \n41502  131g3am              DLAH       ThrownAwayMiles   \n41503  131jvcx              DLAH              robok212   \n41504  131n2by              DLAH  Dependent_Secret9424   \n\n                               title  \\\n0                       Rachel Weisz   \n1                            Library   \n2                   Underboob bikini   \n3      Northern Lights above Lofoten   \n4                      Viking Lights   \n...                              ...   \n41500                    Happy B Day   \n41501                        Perfect   \n41502             DLAH left or right   \n41503                 Good morning 😍   \n41504           Perfection (Sisters)   \n\n                                                 caption  \\\n0      cars are parked on the side of the road in the...   \n1      blonde woman with blonde hair and tattoos on h...   \n2      a man with a beard and a beard sitting in fron...   \n3      a view of a view of a large green and purple a...   \n4      a scene of a boat is sitting on the shore of a...   \n...                                                  ...   \n41500  there are three women posing for a picture in ...   \n41501  araffe woman in a white dress sitting on a pur...   \n41502  two women in short dresses posing for a pictur...   \n41503      araffe in a pink dress posing on a white wall   \n41504  two women in shorts and sandals taking a selfi...   \n\n                                   hash  \\\n0      f09b1c0c5dea50c934081a04c83d4d33   \n1      9d5b7331b941ecf3fdbc8ad322303825   \n2      a154a56b1b87cf3a0bc93600c86e4585   \n3      2c39ce1290fba541abd0b004b09da6b2   \n4      0f72de47c69ff50eca5fa3990215f4ac   \n...                                 ...   \n41500  ebb4b4a88dc79e2f2f57b10f32bf03c0   \n41501  5c944c6d62b1ae182c5a6a40c64195f4   \n41502  ab1f8fc33c85f4cfce12c810cf22229e   \n41503  01f5058855526ef25888cff88065db4c   \n41504  b162dd1999dbf9ea3c7adccd34624a46   \n\n                                               permalink  \\\n0          /r/celebrities/comments/128z5ns/rachel_weisz/   \n1          /r/prettyasiangirls/comments/11yk8db/library/   \n2      /r/KoreanHotties/comments/11hfioi/underboob_bi...   \n3      /r/spaceporn/comments/1000mjs/northern_lights_...   \n4           /r/spaceporn/comments/1000qpd/viking_lights/   \n...                                                  ...   \n41500              /r/DLAH/comments/131dso7/happy_b_day/   \n41501                  /r/DLAH/comments/131eznp/perfect/   \n41502       /r/DLAH/comments/131g3am/dlah_left_or_right/   \n41503             /r/DLAH/comments/131jvcx/good_morning/   \n41504       /r/DLAH/comments/131n2by/perfection_sisters/   \n\n                              original_url  \\\n0      https://i.redd.it/nv80afddacra1.jpg   \n1      https://i.redd.it/ht4d2wuusapa1.jpg   \n2      https://i.redd.it/cimr17q84jla1.jpg   \n3      https://i.redd.it/7s5aafaqkb9a1.jpg   \n4      https://i.redd.it/abojw7lqlb9a1.jpg   \n...                                    ...   \n41500  https://i.redd.it/36gurz533jwa1.jpg   \n41501  https://i.redd.it/dnbbx4zucjwa1.jpg   \n41502  https://i.redd.it/zpp70oor3lwa1.jpg   \n41503  https://i.redd.it/ozmbfhjv3mwa1.jpg   \n41504  https://i.redd.it/pfg1u0aw1nwa1.jpg   \n\n                                 image_name  \\\n0      f09b1c0c5dea50c934081a04c83d4d33.jpg   \n1      9d5b7331b941ecf3fdbc8ad322303825.jpg   \n2      a154a56b1b87cf3a0bc93600c86e4585.jpg   \n3                         7s5aafaqkb9a1.jpg   \n4                         abojw7lqlb9a1.jpg   \n...                                     ...   \n41500  ebb4b4a88dc79e2f2f57b10f32bf03c0.jpg   \n41501  5c944c6d62b1ae182c5a6a40c64195f4.jpg   \n41502  ab1f8fc33c85f4cfce12c810cf22229e.jpg   \n41503  01f5058855526ef25888cff88065db4c.jpg   \n41504  b162dd1999dbf9ea3c7adccd34624a46.jpg   \n\n                                                    path  \\\n0      D:\\data\\images\\celebrities\\f09b1c0c5dea50c9340...   \n1      D:\\data\\images\\prettyasiangirls\\9d5b7331b941ec...   \n2                               D:\\ImageDoesNotExist.png   \n3             D:\\data\\images\\spaceporn\\7s5aafaqkb9a1.jpg   \n4             D:\\data\\images\\spaceporn\\abojw7lqlb9a1.jpg   \n...                                                  ...   \n41500  D:\\data\\images\\DLAH\\ebb4b4a88dc79e2f2f57b10f32...   \n41501  D:\\data\\images\\DLAH\\5c944c6d62b1ae182c5a6a40c6...   \n41502  D:\\data\\images\\DLAH\\ab1f8fc33c85f4cfce12c810cf...   \n41503  D:\\data\\images\\DLAH\\01f5058855526ef25888cff880...   \n41504  D:\\data\\images\\DLAH\\b162dd1999dbf9ea3c7adccd34...   \n\n                                          thumbnail_path  exists  curated  \n0      D:\\data\\images\\celebrities\\thumbnail\\f09b1c0c5...    True    False  \n1      D:\\data\\images\\prettyasiangirls\\thumbnail\\9d5b...    True    False  \n2      D:\\data\\images\\KoreanHotties\\thumbnail\\a154a56...   False    False  \n3      /data/images/spaceporn/thumbnail/7s5aafaqkb9a1...    True    False  \n4      /data/images/spaceporn/thumbnail/abojw7lqlb9a1...    True    False  \n...                                                  ...     ...      ...  \n41500                                               None    True    False  \n41501                                               None    True    False  \n41502                                               None    True    False  \n41503                                               None    True    False  \n41504                                               None    True    False  \n\n[41505 rows x 13 columns]",
      "text/html": "<div>\n<style scoped>\n    .dataframe tbody tr th:only-of-type {\n        vertical-align: middle;\n    }\n\n    .dataframe tbody tr th {\n        vertical-align: top;\n    }\n\n    .dataframe thead th {\n        text-align: right;\n    }\n</style>\n<table border=\"1\" class=\"dataframe\">\n  <thead>\n    <tr style=\"text-align: right;\">\n      <th></th>\n      <th>id</th>\n      <th>subreddit</th>\n      <th>author</th>\n      <th>title</th>\n      <th>caption</th>\n      <th>hash</th>\n      <th>permalink</th>\n      <th>original_url</th>\n      <th>image_name</th>\n      <th>path</th>\n      <th>thumbnail_path</th>\n      <th>exists</th>\n      <th>curated</th>\n    </tr>\n  </thead>\n  <tbody>\n    <tr>\n      <th>0</th>\n      <td>128z5ns</td>\n      <td>celebrities</td>\n      <td>A-Sexy-Name</td>\n      <td>Rachel Weisz</td>\n      <td>cars are parked on the side of the road in the...</td>\n      <td>f09b1c0c5dea50c934081a04c83d4d33</td>\n      <td>/r/celebrities/comments/128z5ns/rachel_weisz/</td>\n      <td>https://i.redd.it/nv80afddacra1.jpg</td>\n      <td>f09b1c0c5dea50c934081a04c83d4d33.jpg</td>\n      <td>D:\\data\\images\\celebrities\\f09b1c0c5dea50c9340...</td>\n      <td>D:\\data\\images\\celebrities\\thumbnail\\f09b1c0c5...</td>\n      <td>True</td>\n      <td>False</td>\n    </tr>\n    <tr>\n      <th>1</th>\n      <td>11yk8db</td>\n      <td>prettyasiangirls</td>\n      <td>MisoShiru520</td>\n      <td>Library</td>\n      <td>blonde woman with blonde hair and tattoos on h...</td>\n      <td>9d5b7331b941ecf3fdbc8ad322303825</td>\n      <td>/r/prettyasiangirls/comments/11yk8db/library/</td>\n      <td>https://i.redd.it/ht4d2wuusapa1.jpg</td>\n      <td>9d5b7331b941ecf3fdbc8ad322303825.jpg</td>\n      <td>D:\\data\\images\\prettyasiangirls\\9d5b7331b941ec...</td>\n      <td>D:\\data\\images\\prettyasiangirls\\thumbnail\\9d5b...</td>\n      <td>True</td>\n      <td>False</td>\n    </tr>\n    <tr>\n      <th>2</th>\n      <td>11hfioi</td>\n      <td>KoreanHotties</td>\n      <td>Majestic_Painter8660</td>\n      <td>Underboob bikini</td>\n      <td>a man with a beard and a beard sitting in fron...</td>\n      <td>a154a56b1b87cf3a0bc93600c86e4585</td>\n      <td>/r/KoreanHotties/comments/11hfioi/underboob_bi...</td>\n      <td>https://i.redd.it/cimr17q84jla1.jpg</td>\n      <td>a154a56b1b87cf3a0bc93600c86e4585.jpg</td>\n      <td>D:\\ImageDoesNotExist.png</td>\n      <td>D:\\data\\images\\KoreanHotties\\thumbnail\\a154a56...</td>\n      <td>False</td>\n      <td>False</td>\n    </tr>\n    <tr>\n      <th>3</th>\n      <td>1000mjs</td>\n      <td>spaceporn</td>\n      <td>MorningStar_imangi</td>\n      <td>Northern Lights above Lofoten</td>\n      <td>a view of a view of a large green and purple a...</td>\n      <td>2c39ce1290fba541abd0b004b09da6b2</td>\n      <td>/r/spaceporn/comments/1000mjs/northern_lights_...</td>\n      <td>https://i.redd.it/7s5aafaqkb9a1.jpg</td>\n      <td>7s5aafaqkb9a1.jpg</td>\n      <td>D:\\data\\images\\spaceporn\\7s5aafaqkb9a1.jpg</td>\n      <td>/data/images/spaceporn/thumbnail/7s5aafaqkb9a1...</td>\n      <td>True</td>\n      <td>False</td>\n    </tr>\n    <tr>\n      <th>4</th>\n      <td>1000qpd</td>\n      <td>spaceporn</td>\n      <td>MorningStar_imangi</td>\n      <td>Viking Lights</td>\n      <td>a scene of a boat is sitting on the shore of a...</td>\n      <td>0f72de47c69ff50eca5fa3990215f4ac</td>\n      <td>/r/spaceporn/comments/1000qpd/viking_lights/</td>\n      <td>https://i.redd.it/abojw7lqlb9a1.jpg</td>\n      <td>abojw7lqlb9a1.jpg</td>\n      <td>D:\\data\\images\\spaceporn\\abojw7lqlb9a1.jpg</td>\n      <td>/data/images/spaceporn/thumbnail/abojw7lqlb9a1...</td>\n      <td>True</td>\n      <td>False</td>\n    </tr>\n    <tr>\n      <th>...</th>\n      <td>...</td>\n      <td>...</td>\n      <td>...</td>\n      <td>...</td>\n      <td>...</td>\n      <td>...</td>\n      <td>...</td>\n      <td>...</td>\n      <td>...</td>\n      <td>...</td>\n      <td>...</td>\n      <td>...</td>\n      <td>...</td>\n    </tr>\n    <tr>\n      <th>41500</th>\n      <td>131dso7</td>\n      <td>DLAH</td>\n      <td>Wallydinger123</td>\n      <td>Happy B Day</td>\n      <td>there are three women posing for a picture in ...</td>\n      <td>ebb4b4a88dc79e2f2f57b10f32bf03c0</td>\n      <td>/r/DLAH/comments/131dso7/happy_b_day/</td>\n      <td>https://i.redd.it/36gurz533jwa1.jpg</td>\n      <td>ebb4b4a88dc79e2f2f57b10f32bf03c0.jpg</td>\n      <td>D:\\data\\images\\DLAH\\ebb4b4a88dc79e2f2f57b10f32...</td>\n      <td>None</td>\n      <td>True</td>\n      <td>False</td>\n    </tr>\n    <tr>\n      <th>41501</th>\n      <td>131eznp</td>\n      <td>DLAH</td>\n      <td>Long_dong111</td>\n      <td>Perfect</td>\n      <td>araffe woman in a white dress sitting on a pur...</td>\n      <td>5c944c6d62b1ae182c5a6a40c64195f4</td>\n      <td>/r/DLAH/comments/131eznp/perfect/</td>\n      <td>https://i.redd.it/dnbbx4zucjwa1.jpg</td>\n      <td>5c944c6d62b1ae182c5a6a40c64195f4.jpg</td>\n      <td>D:\\data\\images\\DLAH\\5c944c6d62b1ae182c5a6a40c6...</td>\n      <td>None</td>\n      <td>True</td>\n      <td>False</td>\n    </tr>\n    <tr>\n      <th>41502</th>\n      <td>131g3am</td>\n      <td>DLAH</td>\n      <td>ThrownAwayMiles</td>\n      <td>DLAH left or right</td>\n      <td>two women in short dresses posing for a pictur...</td>\n      <td>ab1f8fc33c85f4cfce12c810cf22229e</td>\n      <td>/r/DLAH/comments/131g3am/dlah_left_or_right/</td>\n      <td>https://i.redd.it/zpp70oor3lwa1.jpg</td>\n      <td>ab1f8fc33c85f4cfce12c810cf22229e.jpg</td>\n      <td>D:\\data\\images\\DLAH\\ab1f8fc33c85f4cfce12c810cf...</td>\n      <td>None</td>\n      <td>True</td>\n      <td>False</td>\n    </tr>\n    <tr>\n      <th>41503</th>\n      <td>131jvcx</td>\n      <td>DLAH</td>\n      <td>robok212</td>\n      <td>Good morning 😍</td>\n      <td>araffe in a pink dress posing on a white wall</td>\n      <td>01f5058855526ef25888cff88065db4c</td>\n      <td>/r/DLAH/comments/131jvcx/good_morning/</td>\n      <td>https://i.redd.it/ozmbfhjv3mwa1.jpg</td>\n      <td>01f5058855526ef25888cff88065db4c.jpg</td>\n      <td>D:\\data\\images\\DLAH\\01f5058855526ef25888cff880...</td>\n      <td>None</td>\n      <td>True</td>\n      <td>False</td>\n    </tr>\n    <tr>\n      <th>41504</th>\n      <td>131n2by</td>\n      <td>DLAH</td>\n      <td>Dependent_Secret9424</td>\n      <td>Perfection (Sisters)</td>\n      <td>two women in shorts and sandals taking a selfi...</td>\n      <td>b162dd1999dbf9ea3c7adccd34624a46</td>\n      <td>/r/DLAH/comments/131n2by/perfection_sisters/</td>\n      <td>https://i.redd.it/pfg1u0aw1nwa1.jpg</td>\n      <td>b162dd1999dbf9ea3c7adccd34624a46.jpg</td>\n      <td>D:\\data\\images\\DLAH\\b162dd1999dbf9ea3c7adccd34...</td>\n      <td>None</td>\n      <td>True</td>\n      <td>False</td>\n    </tr>\n  </tbody>\n</table>\n<p>41505 rows × 13 columns</p>\n</div>"
     },
     "metadata": {},
     "output_type": "display_data"
    },
    {
     "name": "stdout",
     "output_type": "stream",
     "text": [
      "CPU times: total: 641 ms\n",
      "Wall time: 1.94 s\n"
     ]
    }
   ],
   "source": [
    "%%time\n",
    "\n",
    "extant_data = pd.read_parquet(\"data/processed_raw_data.parquet\", engine='pyarrow', filesystem=file_system, schema=schema)\n",
    "display(extant_data)"
   ],
   "metadata": {
    "collapsed": false,
    "ExecuteTime": {
     "start_time": "2023-04-28T17:52:58.748962Z",
     "end_time": "2023-04-28T17:53:00.731209Z"
    }
   }
  },
  {
   "cell_type": "code",
   "execution_count": 4,
   "outputs": [
    {
     "name": "stdout",
     "output_type": "stream",
     "text": [
      "CPU times: total: 0 ns\n",
      "Wall time: 15.6 ms\n"
     ]
    },
    {
     "name": "stderr",
     "output_type": "stream",
     "text": [
      "Version 7.6.1 of praw is outdated. Version 7.7.0 was released Saturday February 25, 2023.\n"
     ]
    }
   ],
   "source": [
    "%%time\n",
    "\n",
    "reddit: praw.Reddit = praw.Reddit(client_id='5hVavL0PIRyM_1JSvqT6UQ', client_secret='BjD2kS3WNLnJc59RKY-JJUuc_Z9-JA', user_agent='script:%(bot_name)s:v%(bot_version)s (by /u/%(bot_author)s)')\n",
    "api: PushshiftAPI = PushshiftAPI(praw=reddit, num_workers=12)"
   ],
   "metadata": {
    "collapsed": false,
    "ExecuteTime": {
     "start_time": "2023-04-28T17:53:00.715589Z",
     "end_time": "2023-04-28T17:53:00.825379Z"
    }
   }
  },
  {
   "cell_type": "code",
   "execution_count": 5,
   "outputs": [
    {
     "name": "stdout",
     "output_type": "stream",
     "text": [
      "CPU times: total: 0 ns\n",
      "Wall time: 0 ns\n"
     ]
    }
   ],
   "source": [
    "%%time\n",
    "\n",
    "from dask.callbacks import Callback\n",
    "from tqdm.autonotebook import tqdm\n",
    "\n",
    "\n",
    "class TQDMDaskProgressBar(Callback, object):\n",
    "\t\"\"\"\n",
    "    A tqdm progress bar for dask.\n",
    "    Usage:\n",
    "        ```\n",
    "        with TQDMDaskProgressBar():\n",
    "            da.compute()\n",
    "        ```\n",
    "    Author : wassname\n",
    "    Source : https://gist.github.com/wassname/1837d0365247430e02abda41f0e7f184\n",
    "    See: http://dask.pydata.org/en/latest/diagnostics-local.html?highlight=progress\n",
    "    \"\"\"\n",
    "\n",
    "\tdef __init__(self, start=None, start_state=None, pretask=None, posttask=None, finish=None, **kwargs):\n",
    "\t\tsuper(TQDMDaskProgressBar, self).__init__(\n",
    "\t\t\tstart=start,\n",
    "\t\t\tstart_state=start_state,\n",
    "\t\t\tpretask=pretask,\n",
    "\t\t\tposttask=posttask,\n",
    "\t\t\tfinish=finish,\n",
    "\t\t)\n",
    "\t\tself.tqdm_args = kwargs\n",
    "\t\tself.states = [\"ready\", \"waiting\", \"running\", \"finished\"]\n",
    "\n",
    "\tdef _start_state(self, dsk, state):\n",
    "\t\tself._tqdm = tqdm(total=sum(len(state[k]) for k in self.states), **self.tqdm_args)\n",
    "\n",
    "\tdef _posttask(self, key, result, dsk, state, worker_id):\n",
    "\t\tself._tqdm.update(1)\n",
    "\n",
    "\tdef _finish(self, dsk, state, errored):\n",
    "\t\tself._tqdm.close()"
   ],
   "metadata": {
    "collapsed": false,
    "ExecuteTime": {
     "start_time": "2023-04-28T17:53:00.762859Z",
     "end_time": "2023-04-28T17:53:01.107052Z"
    }
   }
  },
  {
   "cell_type": "code",
   "execution_count": 6,
   "outputs": [],
   "source": [
    "def filter_by_image_post(item) -> bool:\n",
    "\treturn not (item['selftext'].__contains__('[removed]') or item['selftext'].__contains__('[deleted]') and not item[\n",
    "\t\t'url'].endswith('.jpg'))"
   ],
   "metadata": {
    "collapsed": false,
    "ExecuteTime": {
     "start_time": "2023-04-28T17:53:00.778507Z",
     "end_time": "2023-04-28T17:53:01.107052Z"
    }
   }
  },
  {
   "cell_type": "code",
   "execution_count": 7,
   "outputs": [],
   "source": [
    "def fetch_image(x: object) -> object:\n",
    "\ttry:\n",
    "\t\ttime.sleep(0.1)\n",
    "\t\turl = x['original_url']\n",
    "\t\tsubreddit = x['subreddit']\n",
    "\t\tresponse = requests.get(url)\n",
    "\t\tmd5 = hashlib.md5(response.content).hexdigest()\n",
    "\t\tos.makedirs(f\"D:\\\\data\\\\images\\\\{subreddit}\", exist_ok=True)\n",
    "\t\tout_path = f\"D:\\\\data\\\\images\\\\{subreddit}\\\\{md5}.jpg\"\n",
    "\n",
    "\t\tif os.path.exists(out_path):\n",
    "\t\t\treturn out_path\n",
    "\n",
    "\t\tif md5 in list(extant_data['hash']):\n",
    "\t\t\treturn out_path\n",
    "\n",
    "\t\tif md5 != \"f17b01901c752c1bb04928131d1661af\" or md5 != \"d835884373f4d6c8f24742ceabe74946\":\n",
    "\t\t\traw_image = Image.open(BytesIO(response.content))\n",
    "\t\t\traw_image.save(out_path)\n",
    "\t\t\traw_image.close()\n",
    "\t\t\treturn out_path\n",
    "\t\telse:\n",
    "\t\t\treturn \"\"\n",
    "\texcept Exception as e:\n",
    "\t\tprint(e)\n",
    "\t\treturn \"\""
   ],
   "metadata": {
    "collapsed": false,
    "ExecuteTime": {
     "start_time": "2023-04-28T17:53:00.794127Z",
     "end_time": "2023-04-28T17:53:01.107052Z"
    }
   }
  },
  {
   "cell_type": "code",
   "execution_count": 8,
   "outputs": [],
   "source": [
    "def exists(x: object) -> bool:\n",
    "\ttry:\n",
    "\t\timage_path = os.path.exists(x['path'])\n",
    "\t\treturn image_path\n",
    "\texcept Exception as e:\n",
    "\t\tprint(e)\n",
    "\t\treturn False"
   ],
   "metadata": {
    "collapsed": false,
    "ExecuteTime": {
     "start_time": "2023-04-28T17:53:00.809753Z",
     "end_time": "2023-04-28T17:53:01.232222Z"
    }
   }
  },
  {
   "cell_type": "code",
   "execution_count": 9,
   "outputs": [],
   "source": [
    "def split_hash(x: object) -> str:\n",
    "\ttry:\n",
    "\t\tname = x['image_name']\n",
    "\t\treturn name.split('.')[0]\n",
    "\texcept Exception as e:\n",
    "\t\tprint(e)\n",
    "\t\treturn \"\""
   ],
   "metadata": {
    "collapsed": false,
    "ExecuteTime": {
     "start_time": "2023-04-28T17:53:00.825379Z",
     "end_time": "2023-04-28T17:53:01.294727Z"
    }
   }
  },
  {
   "cell_type": "code",
   "execution_count": 10,
   "outputs": [],
   "source": [
    "def caption_image(x: object, blip_captioning_list: [BlipCaption, BlipCaption]) -> str:\n",
    "\ttry:\n",
    "\t\tpath = x['path']\n",
    "\t\texists_image = bool(x['exists'])\n",
    "\t\tresulting_caption = x['caption']\n",
    "\n",
    "\t\tif not os.path.exists(path):\n",
    "\t\t\treturn \"\"\n",
    "\n",
    "\t\tif not exists_image:\n",
    "\t\t\treturn \"\"\n",
    "\n",
    "\t\tif resulting_caption == None:\n",
    "\t\t\tpass\n",
    "\t\tif resulting_caption is None:\n",
    "\t\t\tpass\n",
    "\t\telse:\n",
    "\t\t\tif len(resulting_caption) > 6:\n",
    "\t\t\t\treturn resulting_caption\n",
    "\t\t\tif resulting_caption != \"\":\n",
    "\t\t\t\treturn resulting_caption\n",
    "\t\t\telse:\n",
    "\t\t\t\tpass\n",
    "\n",
    "\t\tblip_captioning = random.choice(blip_captioning_list)\n",
    "\n",
    "\t\tresulting_caption = blip_captioning.caption_image(path)\n",
    "\n",
    "\t\treturn resulting_caption\n",
    "\n",
    "\texcept Exception as e:\n",
    "\t\tprint(e)\n",
    "\t\treturn \"\"\n",
    "\tfinally:\n",
    "\t\tpass"
   ],
   "metadata": {
    "collapsed": false,
    "ExecuteTime": {
     "start_time": "2023-04-28T17:53:00.856625Z",
     "end_time": "2023-04-28T17:53:01.325968Z"
    }
   }
  },
  {
   "cell_type": "code",
   "execution_count": 11,
   "outputs": [],
   "source": [
    "def get_image_name(x: object) -> str:\n",
    "\ttry:\n",
    "\t\tpath = x['path']\n",
    "\t\tif path == \"\":\n",
    "\t\t\treturn \"\"\n",
    "\t\treturn os.path.basename(path)\n",
    "\texcept Exception as e:\n",
    "\t\tprint(e)\n",
    "\t\treturn \"\""
   ],
   "metadata": {
    "collapsed": false,
    "ExecuteTime": {
     "start_time": "2023-04-28T17:53:00.872258Z",
     "end_time": "2023-04-28T17:53:01.388467Z"
    }
   }
  },
  {
   "cell_type": "code",
   "execution_count": 12,
   "outputs": [
    {
     "data": {
      "text/plain": "Creating subs:   0%|          | 0/24 [00:00<?, ?it/s]",
      "application/vnd.jupyter.widget-view+json": {
       "version_major": 2,
       "version_minor": 0,
       "model_id": "18bada78e0a14dd8be5cca9bcb13eab6"
      }
     },
     "metadata": {},
     "output_type": "display_data"
    }
   ],
   "source": [
    "from praw.models import ListingGenerator\n",
    "import pandas as pd\n",
    "\n",
    "posts = []\n",
    "for sub in tqdm(subs, total=len(subs), desc=\"Creating subs\"):\n",
    "\tif not os.path.exists(f\"{sub}\"):\n",
    "\t\tos.makedirs(f\"{sub}\")\n",
    "\texisting_data = pd.read_parquet(f\"{sub}\")\n",
    "\tos.makedirs(f\"{sub}\", exist_ok=True)"
   ],
   "metadata": {
    "collapsed": false,
    "ExecuteTime": {
     "start_time": "2023-04-28T17:53:00.887876Z",
     "end_time": "2023-04-28T17:57:36.472444Z"
    }
   }
  },
  {
   "cell_type": "code",
   "execution_count": 13,
   "outputs": [
    {
     "data": {
      "text/plain": "all:   0%|          | 0/24 [00:00<?, ?it/s]",
      "application/vnd.jupyter.widget-view+json": {
       "version_major": 2,
       "version_minor": 0,
       "model_id": "cab907d7e90d46089d5dc1b22f51f4ed"
      }
     },
     "metadata": {},
     "output_type": "display_data"
    },
    {
     "data": {
      "text/plain": "Posts - SFWRedheads - all:   0%|          | 0/100 [00:00<?, ?it/s]",
      "application/vnd.jupyter.widget-view+json": {
       "version_major": 2,
       "version_minor": 0,
       "model_id": "675e534b3bc24614b87c31ab280a5b50"
      }
     },
     "metadata": {},
     "output_type": "display_data"
    },
    {
     "data": {
      "text/plain": "Posts - sfwpetite - all:   0%|          | 0/100 [00:00<?, ?it/s]",
      "application/vnd.jupyter.widget-view+json": {
       "version_major": 2,
       "version_minor": 0,
       "model_id": "3666a3752e9b466c8cb79bf366cb3672"
      }
     },
     "metadata": {},
     "output_type": "display_data"
    },
    {
     "data": {
      "text/plain": "Posts - SFWNextDoorGirls - all:   0%|          | 0/100 [00:00<?, ?it/s]",
      "application/vnd.jupyter.widget-view+json": {
       "version_major": 2,
       "version_minor": 0,
       "model_id": "15d3032652e34db08a8d52c461ecd1bc"
      }
     },
     "metadata": {},
     "output_type": "display_data"
    },
    {
     "data": {
      "text/plain": "Posts - trippinthroughtime - all:   0%|          | 0/100 [00:00<?, ?it/s]",
      "application/vnd.jupyter.widget-view+json": {
       "version_major": 2,
       "version_minor": 0,
       "model_id": "a4b9881e33be4b3aacf00cf7de4c33d5"
      }
     },
     "metadata": {},
     "output_type": "display_data"
    },
    {
     "data": {
      "text/plain": "Posts - fatsquirrelhate - all:   0%|          | 0/100 [00:00<?, ?it/s]",
      "application/vnd.jupyter.widget-view+json": {
       "version_major": 2,
       "version_minor": 0,
       "model_id": "221482d006b14f56b80d0a2c30b4672e"
      }
     },
     "metadata": {},
     "output_type": "display_data"
    },
    {
     "data": {
      "text/plain": "Posts - itookapicture - all:   0%|          | 0/100 [00:00<?, ?it/s]",
      "application/vnd.jupyter.widget-view+json": {
       "version_major": 2,
       "version_minor": 0,
       "model_id": "cc424df76ac04b2f9410beb42901e4fa"
      }
     },
     "metadata": {},
     "output_type": "display_data"
    },
    {
     "data": {
      "text/plain": "Posts - memes - all:   0%|          | 0/100 [00:00<?, ?it/s]",
      "application/vnd.jupyter.widget-view+json": {
       "version_major": 2,
       "version_minor": 0,
       "model_id": "6f04024f3f3e4e49a4e692f4c3dee7b3"
      }
     },
     "metadata": {},
     "output_type": "display_data"
    },
    {
     "data": {
      "text/plain": "Posts - WhitePeopleTwitter - all:   0%|          | 0/100 [00:00<?, ?it/s]",
      "application/vnd.jupyter.widget-view+json": {
       "version_major": 2,
       "version_minor": 0,
       "model_id": "75fbe444c7134a8d9748a5b56f94f8d6"
      }
     },
     "metadata": {},
     "output_type": "display_data"
    },
    {
     "data": {
      "text/plain": "Posts - CityPorn - all:   0%|          | 0/100 [00:00<?, ?it/s]",
      "application/vnd.jupyter.widget-view+json": {
       "version_major": 2,
       "version_minor": 0,
       "model_id": "1493cefae9914a98b536b590749f4dae"
      }
     },
     "metadata": {},
     "output_type": "display_data"
    },
    {
     "data": {
      "text/plain": "Posts - EarthPorn - all:   0%|          | 0/100 [00:00<?, ?it/s]",
      "application/vnd.jupyter.widget-view+json": {
       "version_major": 2,
       "version_minor": 0,
       "model_id": "4aa528b497444201aec651646f316502"
      }
     },
     "metadata": {},
     "output_type": "display_data"
    },
    {
     "data": {
      "text/plain": "Posts - spaceporn - all:   0%|          | 0/100 [00:00<?, ?it/s]",
      "application/vnd.jupyter.widget-view+json": {
       "version_major": 2,
       "version_minor": 0,
       "model_id": "9b8ae0f1f3eb485fbabfe19cd69e4a72"
      }
     },
     "metadata": {},
     "output_type": "display_data"
    },
    {
     "data": {
      "text/plain": "Posts - realasians - all:   0%|          | 0/100 [00:00<?, ?it/s]",
      "application/vnd.jupyter.widget-view+json": {
       "version_major": 2,
       "version_minor": 0,
       "model_id": "8b9fb7ddc55a4bd9b929344dfb543903"
      }
     },
     "metadata": {},
     "output_type": "display_data"
    },
    {
     "data": {
      "text/plain": "Posts - KoreanHotties - all:   0%|          | 0/100 [00:00<?, ?it/s]",
      "application/vnd.jupyter.widget-view+json": {
       "version_major": 2,
       "version_minor": 0,
       "model_id": "8e7c8d1e514a4fad9c81a350fe85e16c"
      }
     },
     "metadata": {},
     "output_type": "display_data"
    },
    {
     "data": {
      "text/plain": "Posts - prettyasiangirls - all:   0%|          | 0/100 [00:00<?, ?it/s]",
      "application/vnd.jupyter.widget-view+json": {
       "version_major": 2,
       "version_minor": 0,
       "model_id": "18d08d30365447d5be406923250a2c92"
      }
     },
     "metadata": {},
     "output_type": "display_data"
    },
    {
     "data": {
      "text/plain": "Posts - AsianOfficeLady - all:   0%|          | 0/100 [00:00<?, ?it/s]",
      "application/vnd.jupyter.widget-view+json": {
       "version_major": 2,
       "version_minor": 0,
       "model_id": "90d0e355f58941758e13583b3b00a492"
      }
     },
     "metadata": {},
     "output_type": "display_data"
    },
    {
     "data": {
      "text/plain": "Posts - mildlypenis - all:   0%|          | 0/100 [00:00<?, ?it/s]",
      "application/vnd.jupyter.widget-view+json": {
       "version_major": 2,
       "version_minor": 0,
       "model_id": "12d26a36c480484099ec535a59d83d5f"
      }
     },
     "metadata": {},
     "output_type": "display_data"
    },
    {
     "data": {
      "text/plain": "Posts - cougars_and_milfs_sfw - all:   0%|          | 0/100 [00:00<?, ?it/s]",
      "application/vnd.jupyter.widget-view+json": {
       "version_major": 2,
       "version_minor": 0,
       "model_id": "398b0cfb147e4ef0801fc7e292f0f8b6"
      }
     },
     "metadata": {},
     "output_type": "display_data"
    },
    {
     "data": {
      "text/plain": "Posts - AsianInvasion - all:   0%|          | 0/100 [00:00<?, ?it/s]",
      "application/vnd.jupyter.widget-view+json": {
       "version_major": 2,
       "version_minor": 0,
       "model_id": "0025659072a54bdca83f02db97053543"
      }
     },
     "metadata": {},
     "output_type": "display_data"
    },
    {
     "data": {
      "text/plain": "Posts - sexygirls - all:   0%|          | 0/100 [00:00<?, ?it/s]",
      "application/vnd.jupyter.widget-view+json": {
       "version_major": 2,
       "version_minor": 0,
       "model_id": "13c608ea87e94559839e55846d5bacd3"
      }
     },
     "metadata": {},
     "output_type": "display_data"
    },
    {
     "data": {
      "text/plain": "Posts - PrettyGirls - all:   0%|          | 0/100 [00:00<?, ?it/s]",
      "application/vnd.jupyter.widget-view+json": {
       "version_major": 2,
       "version_minor": 0,
       "model_id": "c2400b71c93541b6b043bbe9450d2753"
      }
     },
     "metadata": {},
     "output_type": "display_data"
    },
    {
     "data": {
      "text/plain": "Posts - gentlemanboners - all:   0%|          | 0/100 [00:00<?, ?it/s]",
      "application/vnd.jupyter.widget-view+json": {
       "version_major": 2,
       "version_minor": 0,
       "model_id": "3e29f29332d34c0eb052bf99dd22df8d"
      }
     },
     "metadata": {},
     "output_type": "display_data"
    },
    {
     "data": {
      "text/plain": "Posts - hotofficegirls - all:   0%|          | 0/100 [00:00<?, ?it/s]",
      "application/vnd.jupyter.widget-view+json": {
       "version_major": 2,
       "version_minor": 0,
       "model_id": "0112aacaed5c4029a747fd4d183d3c76"
      }
     },
     "metadata": {},
     "output_type": "display_data"
    },
    {
     "data": {
      "text/plain": "Posts - tightdresses - all:   0%|          | 0/100 [00:00<?, ?it/s]",
      "application/vnd.jupyter.widget-view+json": {
       "version_major": 2,
       "version_minor": 0,
       "model_id": "2652ae3875154cccaed270350ad03c1d"
      }
     },
     "metadata": {},
     "output_type": "display_data"
    },
    {
     "data": {
      "text/plain": "Posts - DLAH - all:   0%|          | 0/100 [00:00<?, ?it/s]",
      "application/vnd.jupyter.widget-view+json": {
       "version_major": 2,
       "version_minor": 0,
       "model_id": "a0c480855ad548968902a52e5308e8c7"
      }
     },
     "metadata": {},
     "output_type": "display_data"
    },
    {
     "data": {
      "text/plain": "year:   0%|          | 0/24 [00:00<?, ?it/s]",
      "application/vnd.jupyter.widget-view+json": {
       "version_major": 2,
       "version_minor": 0,
       "model_id": "f564bfa9ccab446d8a788400e7a33e00"
      }
     },
     "metadata": {},
     "output_type": "display_data"
    },
    {
     "data": {
      "text/plain": "Posts - SFWRedheads - year:   0%|          | 0/100 [00:00<?, ?it/s]",
      "application/vnd.jupyter.widget-view+json": {
       "version_major": 2,
       "version_minor": 0,
       "model_id": "547bcbf639234e0b8bff6e7fca109276"
      }
     },
     "metadata": {},
     "output_type": "display_data"
    },
    {
     "data": {
      "text/plain": "Posts - sfwpetite - year:   0%|          | 0/100 [00:00<?, ?it/s]",
      "application/vnd.jupyter.widget-view+json": {
       "version_major": 2,
       "version_minor": 0,
       "model_id": "9ba45b38694d47928bcd78c194ef7d2a"
      }
     },
     "metadata": {},
     "output_type": "display_data"
    },
    {
     "data": {
      "text/plain": "Posts - SFWNextDoorGirls - year:   0%|          | 0/100 [00:00<?, ?it/s]",
      "application/vnd.jupyter.widget-view+json": {
       "version_major": 2,
       "version_minor": 0,
       "model_id": "3d3ded6ea2104c13bd7bb08720eb5c2c"
      }
     },
     "metadata": {},
     "output_type": "display_data"
    },
    {
     "data": {
      "text/plain": "Posts - trippinthroughtime - year:   0%|          | 0/100 [00:00<?, ?it/s]",
      "application/vnd.jupyter.widget-view+json": {
       "version_major": 2,
       "version_minor": 0,
       "model_id": "bc8dab06b2e7474cadb2df085c237799"
      }
     },
     "metadata": {},
     "output_type": "display_data"
    },
    {
     "data": {
      "text/plain": "Posts - fatsquirrelhate - year:   0%|          | 0/100 [00:00<?, ?it/s]",
      "application/vnd.jupyter.widget-view+json": {
       "version_major": 2,
       "version_minor": 0,
       "model_id": "d46c56523977405d810fdfec8c587f16"
      }
     },
     "metadata": {},
     "output_type": "display_data"
    },
    {
     "data": {
      "text/plain": "Posts - itookapicture - year:   0%|          | 0/100 [00:00<?, ?it/s]",
      "application/vnd.jupyter.widget-view+json": {
       "version_major": 2,
       "version_minor": 0,
       "model_id": "4cc7e0181357404fb43e61c105b6b3e2"
      }
     },
     "metadata": {},
     "output_type": "display_data"
    },
    {
     "data": {
      "text/plain": "Posts - memes - year:   0%|          | 0/100 [00:00<?, ?it/s]",
      "application/vnd.jupyter.widget-view+json": {
       "version_major": 2,
       "version_minor": 0,
       "model_id": "c5cf1c114bde435f9b1142a7f3b5b957"
      }
     },
     "metadata": {},
     "output_type": "display_data"
    },
    {
     "data": {
      "text/plain": "Posts - WhitePeopleTwitter - year:   0%|          | 0/100 [00:00<?, ?it/s]",
      "application/vnd.jupyter.widget-view+json": {
       "version_major": 2,
       "version_minor": 0,
       "model_id": "c8a9750691924edb9b538b3c203b01cb"
      }
     },
     "metadata": {},
     "output_type": "display_data"
    },
    {
     "data": {
      "text/plain": "Posts - CityPorn - year:   0%|          | 0/100 [00:00<?, ?it/s]",
      "application/vnd.jupyter.widget-view+json": {
       "version_major": 2,
       "version_minor": 0,
       "model_id": "159ba9956c734822b97257eb32e72bdb"
      }
     },
     "metadata": {},
     "output_type": "display_data"
    },
    {
     "data": {
      "text/plain": "Posts - EarthPorn - year:   0%|          | 0/100 [00:00<?, ?it/s]",
      "application/vnd.jupyter.widget-view+json": {
       "version_major": 2,
       "version_minor": 0,
       "model_id": "9ee14d10cf4643f191a472adecbc65a8"
      }
     },
     "metadata": {},
     "output_type": "display_data"
    },
    {
     "data": {
      "text/plain": "Posts - spaceporn - year:   0%|          | 0/100 [00:00<?, ?it/s]",
      "application/vnd.jupyter.widget-view+json": {
       "version_major": 2,
       "version_minor": 0,
       "model_id": "ac804c4da7254ed1a70140b0ca872a62"
      }
     },
     "metadata": {},
     "output_type": "display_data"
    },
    {
     "data": {
      "text/plain": "Posts - realasians - year:   0%|          | 0/100 [00:00<?, ?it/s]",
      "application/vnd.jupyter.widget-view+json": {
       "version_major": 2,
       "version_minor": 0,
       "model_id": "747ef9b9367e45fc8c7af290ea107dfd"
      }
     },
     "metadata": {},
     "output_type": "display_data"
    },
    {
     "data": {
      "text/plain": "Posts - KoreanHotties - year:   0%|          | 0/100 [00:00<?, ?it/s]",
      "application/vnd.jupyter.widget-view+json": {
       "version_major": 2,
       "version_minor": 0,
       "model_id": "05fa9a3948ba482b8d1b04a3f9bc14f8"
      }
     },
     "metadata": {},
     "output_type": "display_data"
    },
    {
     "data": {
      "text/plain": "Posts - prettyasiangirls - year:   0%|          | 0/100 [00:00<?, ?it/s]",
      "application/vnd.jupyter.widget-view+json": {
       "version_major": 2,
       "version_minor": 0,
       "model_id": "1aba62f096254b29a657ec08e1bf8147"
      }
     },
     "metadata": {},
     "output_type": "display_data"
    },
    {
     "data": {
      "text/plain": "Posts - AsianOfficeLady - year:   0%|          | 0/100 [00:00<?, ?it/s]",
      "application/vnd.jupyter.widget-view+json": {
       "version_major": 2,
       "version_minor": 0,
       "model_id": "367eec5103484907a3073549dbde1aa7"
      }
     },
     "metadata": {},
     "output_type": "display_data"
    },
    {
     "data": {
      "text/plain": "Posts - mildlypenis - year:   0%|          | 0/100 [00:00<?, ?it/s]",
      "application/vnd.jupyter.widget-view+json": {
       "version_major": 2,
       "version_minor": 0,
       "model_id": "a7f3ab06bfdf463cbb6f6fb8f79b7feb"
      }
     },
     "metadata": {},
     "output_type": "display_data"
    },
    {
     "data": {
      "text/plain": "Posts - cougars_and_milfs_sfw - year:   0%|          | 0/100 [00:00<?, ?it/s]",
      "application/vnd.jupyter.widget-view+json": {
       "version_major": 2,
       "version_minor": 0,
       "model_id": "79af788067044183916cc904fff6ccff"
      }
     },
     "metadata": {},
     "output_type": "display_data"
    },
    {
     "data": {
      "text/plain": "Posts - AsianInvasion - year:   0%|          | 0/100 [00:00<?, ?it/s]",
      "application/vnd.jupyter.widget-view+json": {
       "version_major": 2,
       "version_minor": 0,
       "model_id": "66a8b02999504fa2afb79ec33c891016"
      }
     },
     "metadata": {},
     "output_type": "display_data"
    },
    {
     "data": {
      "text/plain": "Posts - sexygirls - year:   0%|          | 0/100 [00:00<?, ?it/s]",
      "application/vnd.jupyter.widget-view+json": {
       "version_major": 2,
       "version_minor": 0,
       "model_id": "c149bc704f714f229e163a52ac8c03ca"
      }
     },
     "metadata": {},
     "output_type": "display_data"
    },
    {
     "data": {
      "text/plain": "Posts - PrettyGirls - year:   0%|          | 0/100 [00:00<?, ?it/s]",
      "application/vnd.jupyter.widget-view+json": {
       "version_major": 2,
       "version_minor": 0,
       "model_id": "8b3b0edc7440458f87070719581f1ac5"
      }
     },
     "metadata": {},
     "output_type": "display_data"
    },
    {
     "data": {
      "text/plain": "Posts - gentlemanboners - year:   0%|          | 0/100 [00:00<?, ?it/s]",
      "application/vnd.jupyter.widget-view+json": {
       "version_major": 2,
       "version_minor": 0,
       "model_id": "7f6672214f44482d8b6c77a2c80f2fc1"
      }
     },
     "metadata": {},
     "output_type": "display_data"
    },
    {
     "data": {
      "text/plain": "Posts - hotofficegirls - year:   0%|          | 0/100 [00:00<?, ?it/s]",
      "application/vnd.jupyter.widget-view+json": {
       "version_major": 2,
       "version_minor": 0,
       "model_id": "3078d44842d5438b80aa898cc98d0d55"
      }
     },
     "metadata": {},
     "output_type": "display_data"
    },
    {
     "data": {
      "text/plain": "Posts - tightdresses - year:   0%|          | 0/100 [00:00<?, ?it/s]",
      "application/vnd.jupyter.widget-view+json": {
       "version_major": 2,
       "version_minor": 0,
       "model_id": "b7b5c94b98d74d19b833df8ab0efe3de"
      }
     },
     "metadata": {},
     "output_type": "display_data"
    },
    {
     "data": {
      "text/plain": "Posts - DLAH - year:   0%|          | 0/100 [00:00<?, ?it/s]",
      "application/vnd.jupyter.widget-view+json": {
       "version_major": 2,
       "version_minor": 0,
       "model_id": "836f98ca77554f548f070774f52ef459"
      }
     },
     "metadata": {},
     "output_type": "display_data"
    },
    {
     "data": {
      "text/plain": "month:   0%|          | 0/24 [00:00<?, ?it/s]",
      "application/vnd.jupyter.widget-view+json": {
       "version_major": 2,
       "version_minor": 0,
       "model_id": "c7e00ec99f29427a873d3464a0b65f34"
      }
     },
     "metadata": {},
     "output_type": "display_data"
    },
    {
     "data": {
      "text/plain": "Posts - SFWRedheads - month:   0%|          | 0/100 [00:00<?, ?it/s]",
      "application/vnd.jupyter.widget-view+json": {
       "version_major": 2,
       "version_minor": 0,
       "model_id": "ca0f9dbc851a4adf9466297804590a76"
      }
     },
     "metadata": {},
     "output_type": "display_data"
    },
    {
     "data": {
      "text/plain": "Posts - sfwpetite - month:   0%|          | 0/100 [00:00<?, ?it/s]",
      "application/vnd.jupyter.widget-view+json": {
       "version_major": 2,
       "version_minor": 0,
       "model_id": "1488f99a50af4081a95aba716a9642f5"
      }
     },
     "metadata": {},
     "output_type": "display_data"
    },
    {
     "data": {
      "text/plain": "Posts - SFWNextDoorGirls - month:   0%|          | 0/100 [00:00<?, ?it/s]",
      "application/vnd.jupyter.widget-view+json": {
       "version_major": 2,
       "version_minor": 0,
       "model_id": "14662ab25ffc4b58aec2df9a8ac53112"
      }
     },
     "metadata": {},
     "output_type": "display_data"
    },
    {
     "data": {
      "text/plain": "Posts - trippinthroughtime - month:   0%|          | 0/88 [00:00<?, ?it/s]",
      "application/vnd.jupyter.widget-view+json": {
       "version_major": 2,
       "version_minor": 0,
       "model_id": "0f3448a7d61044b885f429ad6744e53b"
      }
     },
     "metadata": {},
     "output_type": "display_data"
    },
    {
     "data": {
      "text/plain": "Posts - fatsquirrelhate - month:   0%|          | 0/100 [00:00<?, ?it/s]",
      "application/vnd.jupyter.widget-view+json": {
       "version_major": 2,
       "version_minor": 0,
       "model_id": "9a2884eb766349638c2c7a19f270df8b"
      }
     },
     "metadata": {},
     "output_type": "display_data"
    },
    {
     "data": {
      "text/plain": "Posts - itookapicture - month:   0%|          | 0/100 [00:00<?, ?it/s]",
      "application/vnd.jupyter.widget-view+json": {
       "version_major": 2,
       "version_minor": 0,
       "model_id": "f6f5dec2d99d4b5d9836e9dfd062652e"
      }
     },
     "metadata": {},
     "output_type": "display_data"
    },
    {
     "data": {
      "text/plain": "Posts - memes - month:   0%|          | 0/100 [00:00<?, ?it/s]",
      "application/vnd.jupyter.widget-view+json": {
       "version_major": 2,
       "version_minor": 0,
       "model_id": "e60a3511480c4dd09725d3ba38fac8e3"
      }
     },
     "metadata": {},
     "output_type": "display_data"
    },
    {
     "data": {
      "text/plain": "Posts - WhitePeopleTwitter - month:   0%|          | 0/100 [00:00<?, ?it/s]",
      "application/vnd.jupyter.widget-view+json": {
       "version_major": 2,
       "version_minor": 0,
       "model_id": "5250010d579148e7ab6fd9a2ba40c48b"
      }
     },
     "metadata": {},
     "output_type": "display_data"
    },
    {
     "data": {
      "text/plain": "Posts - CityPorn - month:   0%|          | 0/100 [00:00<?, ?it/s]",
      "application/vnd.jupyter.widget-view+json": {
       "version_major": 2,
       "version_minor": 0,
       "model_id": "656456c6c58040e1aa54989aebbc21e6"
      }
     },
     "metadata": {},
     "output_type": "display_data"
    },
    {
     "data": {
      "text/plain": "Posts - EarthPorn - month:   0%|          | 0/100 [00:00<?, ?it/s]",
      "application/vnd.jupyter.widget-view+json": {
       "version_major": 2,
       "version_minor": 0,
       "model_id": "e77243aef1664773a36382de2cee6199"
      }
     },
     "metadata": {},
     "output_type": "display_data"
    },
    {
     "data": {
      "text/plain": "Posts - spaceporn - month:   0%|          | 0/100 [00:00<?, ?it/s]",
      "application/vnd.jupyter.widget-view+json": {
       "version_major": 2,
       "version_minor": 0,
       "model_id": "f907e460cc5048d380dd51daf74ad528"
      }
     },
     "metadata": {},
     "output_type": "display_data"
    },
    {
     "data": {
      "text/plain": "Posts - realasians - month:   0%|          | 0/100 [00:00<?, ?it/s]",
      "application/vnd.jupyter.widget-view+json": {
       "version_major": 2,
       "version_minor": 0,
       "model_id": "55329483b5f24c369d8147592f7ded70"
      }
     },
     "metadata": {},
     "output_type": "display_data"
    },
    {
     "data": {
      "text/plain": "Posts - KoreanHotties - month:   0%|          | 0/100 [00:00<?, ?it/s]",
      "application/vnd.jupyter.widget-view+json": {
       "version_major": 2,
       "version_minor": 0,
       "model_id": "ed9bf6adf6274d178be8a12c5d957b7c"
      }
     },
     "metadata": {},
     "output_type": "display_data"
    },
    {
     "data": {
      "text/plain": "Posts - prettyasiangirls - month:   0%|          | 0/100 [00:00<?, ?it/s]",
      "application/vnd.jupyter.widget-view+json": {
       "version_major": 2,
       "version_minor": 0,
       "model_id": "b90ad569a1f44f8b962aa96aa87b846f"
      }
     },
     "metadata": {},
     "output_type": "display_data"
    },
    {
     "data": {
      "text/plain": "Posts - AsianOfficeLady - month:   0%|          | 0/59 [00:00<?, ?it/s]",
      "application/vnd.jupyter.widget-view+json": {
       "version_major": 2,
       "version_minor": 0,
       "model_id": "7cf8835a5a58400789fc99f02467f292"
      }
     },
     "metadata": {},
     "output_type": "display_data"
    },
    {
     "data": {
      "text/plain": "Posts - mildlypenis - month:   0%|          | 0/100 [00:00<?, ?it/s]",
      "application/vnd.jupyter.widget-view+json": {
       "version_major": 2,
       "version_minor": 0,
       "model_id": "ca784e0732b64d11b96660abb00cffa5"
      }
     },
     "metadata": {},
     "output_type": "display_data"
    },
    {
     "data": {
      "text/plain": "Posts - cougars_and_milfs_sfw - month:   0%|          | 0/100 [00:00<?, ?it/s]",
      "application/vnd.jupyter.widget-view+json": {
       "version_major": 2,
       "version_minor": 0,
       "model_id": "d8d97f83b9ef45eaa3435d8faae1d56a"
      }
     },
     "metadata": {},
     "output_type": "display_data"
    },
    {
     "data": {
      "text/plain": "Posts - AsianInvasion - month:   0%|          | 0/84 [00:00<?, ?it/s]",
      "application/vnd.jupyter.widget-view+json": {
       "version_major": 2,
       "version_minor": 0,
       "model_id": "289a836c115240d98a1198013c58ca04"
      }
     },
     "metadata": {},
     "output_type": "display_data"
    },
    {
     "data": {
      "text/plain": "Posts - sexygirls - month:   0%|          | 0/100 [00:00<?, ?it/s]",
      "application/vnd.jupyter.widget-view+json": {
       "version_major": 2,
       "version_minor": 0,
       "model_id": "c0ff1c189e6d41a093517b0171cff46d"
      }
     },
     "metadata": {},
     "output_type": "display_data"
    },
    {
     "data": {
      "text/plain": "Posts - PrettyGirls - month:   0%|          | 0/100 [00:00<?, ?it/s]",
      "application/vnd.jupyter.widget-view+json": {
       "version_major": 2,
       "version_minor": 0,
       "model_id": "8faf8113382d49949dc7deae9faf0e15"
      }
     },
     "metadata": {},
     "output_type": "display_data"
    },
    {
     "data": {
      "text/plain": "Posts - gentlemanboners - month:   0%|          | 0/100 [00:00<?, ?it/s]",
      "application/vnd.jupyter.widget-view+json": {
       "version_major": 2,
       "version_minor": 0,
       "model_id": "ac482f9064994f3c88e16abde0e53b08"
      }
     },
     "metadata": {},
     "output_type": "display_data"
    },
    {
     "data": {
      "text/plain": "Posts - hotofficegirls - month:   0%|          | 0/67 [00:00<?, ?it/s]",
      "application/vnd.jupyter.widget-view+json": {
       "version_major": 2,
       "version_minor": 0,
       "model_id": "1a8bcfeb1b394169a5488ba79377d462"
      }
     },
     "metadata": {},
     "output_type": "display_data"
    },
    {
     "data": {
      "text/plain": "Posts - tightdresses - month:   0%|          | 0/100 [00:00<?, ?it/s]",
      "application/vnd.jupyter.widget-view+json": {
       "version_major": 2,
       "version_minor": 0,
       "model_id": "a7efded16e8a4135933818c4777fd480"
      }
     },
     "metadata": {},
     "output_type": "display_data"
    },
    {
     "data": {
      "text/plain": "Posts - DLAH - month:   0%|          | 0/100 [00:00<?, ?it/s]",
      "application/vnd.jupyter.widget-view+json": {
       "version_major": 2,
       "version_minor": 0,
       "model_id": "ca778551ebb540b78c961c9a8474e31a"
      }
     },
     "metadata": {},
     "output_type": "display_data"
    },
    {
     "data": {
      "text/plain": "week:   0%|          | 0/24 [00:00<?, ?it/s]",
      "application/vnd.jupyter.widget-view+json": {
       "version_major": 2,
       "version_minor": 0,
       "model_id": "392fcae8632c49cdbc665a6e2a5be682"
      }
     },
     "metadata": {},
     "output_type": "display_data"
    },
    {
     "data": {
      "text/plain": "Posts - SFWRedheads - week:   0%|          | 0/100 [00:00<?, ?it/s]",
      "application/vnd.jupyter.widget-view+json": {
       "version_major": 2,
       "version_minor": 0,
       "model_id": "108c0768367d4c78b91a7969b067eeba"
      }
     },
     "metadata": {},
     "output_type": "display_data"
    },
    {
     "data": {
      "text/plain": "Posts - sfwpetite - week:   0%|          | 0/41 [00:00<?, ?it/s]",
      "application/vnd.jupyter.widget-view+json": {
       "version_major": 2,
       "version_minor": 0,
       "model_id": "3fbf03551f0d4aceb4817ec2417fd30b"
      }
     },
     "metadata": {},
     "output_type": "display_data"
    },
    {
     "data": {
      "text/plain": "Posts - SFWNextDoorGirls - week:   0%|          | 0/100 [00:00<?, ?it/s]",
      "application/vnd.jupyter.widget-view+json": {
       "version_major": 2,
       "version_minor": 0,
       "model_id": "018709d71afa40b7ae36f180ab9e4cff"
      }
     },
     "metadata": {},
     "output_type": "display_data"
    },
    {
     "data": {
      "text/plain": "Posts - trippinthroughtime - week:   0%|          | 0/17 [00:00<?, ?it/s]",
      "application/vnd.jupyter.widget-view+json": {
       "version_major": 2,
       "version_minor": 0,
       "model_id": "49a2ede53edf4b278be96fbbbfdf395d"
      }
     },
     "metadata": {},
     "output_type": "display_data"
    },
    {
     "data": {
      "text/plain": "Posts - fatsquirrelhate - week:   0%|          | 0/99 [00:00<?, ?it/s]",
      "application/vnd.jupyter.widget-view+json": {
       "version_major": 2,
       "version_minor": 0,
       "model_id": "08dc499d76ec4f9c87edd8d2168bb92c"
      }
     },
     "metadata": {},
     "output_type": "display_data"
    },
    {
     "data": {
      "text/plain": "Posts - itookapicture - week:   0%|          | 0/100 [00:00<?, ?it/s]",
      "application/vnd.jupyter.widget-view+json": {
       "version_major": 2,
       "version_minor": 0,
       "model_id": "866a7f9cc9a840fcaaae0dba47e6026e"
      }
     },
     "metadata": {},
     "output_type": "display_data"
    },
    {
     "data": {
      "text/plain": "Posts - memes - week:   0%|          | 0/100 [00:00<?, ?it/s]",
      "application/vnd.jupyter.widget-view+json": {
       "version_major": 2,
       "version_minor": 0,
       "model_id": "4d62c580514c42ea80445623c6bcabd1"
      }
     },
     "metadata": {},
     "output_type": "display_data"
    },
    {
     "data": {
      "text/plain": "Posts - WhitePeopleTwitter - week:   0%|          | 0/100 [00:00<?, ?it/s]",
      "application/vnd.jupyter.widget-view+json": {
       "version_major": 2,
       "version_minor": 0,
       "model_id": "789c250b42f24b3da429ede20fc86908"
      }
     },
     "metadata": {},
     "output_type": "display_data"
    },
    {
     "data": {
      "text/plain": "Posts - CityPorn - week:   0%|          | 0/100 [00:00<?, ?it/s]",
      "application/vnd.jupyter.widget-view+json": {
       "version_major": 2,
       "version_minor": 0,
       "model_id": "a28d68f836e04dffa356dbd75e239201"
      }
     },
     "metadata": {},
     "output_type": "display_data"
    },
    {
     "data": {
      "text/plain": "Posts - EarthPorn - week:   0%|          | 0/100 [00:00<?, ?it/s]",
      "application/vnd.jupyter.widget-view+json": {
       "version_major": 2,
       "version_minor": 0,
       "model_id": "1e88f41bc4f74e3db1e99427173ce4fe"
      }
     },
     "metadata": {},
     "output_type": "display_data"
    },
    {
     "data": {
      "text/plain": "Posts - spaceporn - week:   0%|          | 0/100 [00:00<?, ?it/s]",
      "application/vnd.jupyter.widget-view+json": {
       "version_major": 2,
       "version_minor": 0,
       "model_id": "e37ddb2c96054cbbafd4b6efab56500e"
      }
     },
     "metadata": {},
     "output_type": "display_data"
    },
    {
     "data": {
      "text/plain": "Posts - realasians - week:   0%|          | 0/100 [00:00<?, ?it/s]",
      "application/vnd.jupyter.widget-view+json": {
       "version_major": 2,
       "version_minor": 0,
       "model_id": "ad1132ac3f5b40e683551029c7fee6df"
      }
     },
     "metadata": {},
     "output_type": "display_data"
    },
    {
     "data": {
      "text/plain": "Posts - KoreanHotties - week:   0%|          | 0/92 [00:00<?, ?it/s]",
      "application/vnd.jupyter.widget-view+json": {
       "version_major": 2,
       "version_minor": 0,
       "model_id": "f0e86bc227c1416d80be946a65a579b9"
      }
     },
     "metadata": {},
     "output_type": "display_data"
    },
    {
     "data": {
      "text/plain": "Posts - prettyasiangirls - week:   0%|          | 0/100 [00:00<?, ?it/s]",
      "application/vnd.jupyter.widget-view+json": {
       "version_major": 2,
       "version_minor": 0,
       "model_id": "8be691a0dca2455498011163f2cd8df5"
      }
     },
     "metadata": {},
     "output_type": "display_data"
    },
    {
     "data": {
      "text/plain": "Posts - AsianOfficeLady - week:   0%|          | 0/14 [00:00<?, ?it/s]",
      "application/vnd.jupyter.widget-view+json": {
       "version_major": 2,
       "version_minor": 0,
       "model_id": "82ccab030aef4ad6b8a9099d296127a0"
      }
     },
     "metadata": {},
     "output_type": "display_data"
    },
    {
     "data": {
      "text/plain": "Posts - mildlypenis - week:   0%|          | 0/100 [00:00<?, ?it/s]",
      "application/vnd.jupyter.widget-view+json": {
       "version_major": 2,
       "version_minor": 0,
       "model_id": "07a5b9bfb88f4632b7171dd417f00494"
      }
     },
     "metadata": {},
     "output_type": "display_data"
    },
    {
     "data": {
      "text/plain": "Posts - cougars_and_milfs_sfw - week:   0%|          | 0/100 [00:00<?, ?it/s]",
      "application/vnd.jupyter.widget-view+json": {
       "version_major": 2,
       "version_minor": 0,
       "model_id": "4e2c88d856834df8828b0a461aa4b256"
      }
     },
     "metadata": {},
     "output_type": "display_data"
    },
    {
     "data": {
      "text/plain": "Posts - AsianInvasion - week:   0%|          | 0/18 [00:00<?, ?it/s]",
      "application/vnd.jupyter.widget-view+json": {
       "version_major": 2,
       "version_minor": 0,
       "model_id": "c36fb770c82f42488dd886f27875ddec"
      }
     },
     "metadata": {},
     "output_type": "display_data"
    },
    {
     "data": {
      "text/plain": "Posts - sexygirls - week:   0%|          | 0/100 [00:00<?, ?it/s]",
      "application/vnd.jupyter.widget-view+json": {
       "version_major": 2,
       "version_minor": 0,
       "model_id": "05dbaec9c09540488b571b866660a082"
      }
     },
     "metadata": {},
     "output_type": "display_data"
    },
    {
     "data": {
      "text/plain": "Posts - PrettyGirls - week:   0%|          | 0/100 [00:00<?, ?it/s]",
      "application/vnd.jupyter.widget-view+json": {
       "version_major": 2,
       "version_minor": 0,
       "model_id": "4159f82e88e3440eaf029d66c2d370f5"
      }
     },
     "metadata": {},
     "output_type": "display_data"
    },
    {
     "data": {
      "text/plain": "Posts - gentlemanboners - week:   0%|          | 0/100 [00:00<?, ?it/s]",
      "application/vnd.jupyter.widget-view+json": {
       "version_major": 2,
       "version_minor": 0,
       "model_id": "976b3a42616c4ec9a86dfa8b4647f57c"
      }
     },
     "metadata": {},
     "output_type": "display_data"
    },
    {
     "data": {
      "text/plain": "Posts - hotofficegirls - week:   0%|          | 0/10 [00:00<?, ?it/s]",
      "application/vnd.jupyter.widget-view+json": {
       "version_major": 2,
       "version_minor": 0,
       "model_id": "bf1ff469479647cea3fdcd17efc8f5be"
      }
     },
     "metadata": {},
     "output_type": "display_data"
    },
    {
     "data": {
      "text/plain": "Posts - tightdresses - week:   0%|          | 0/100 [00:00<?, ?it/s]",
      "application/vnd.jupyter.widget-view+json": {
       "version_major": 2,
       "version_minor": 0,
       "model_id": "258b21e4736e4a4eb6dd4ea46c7d9501"
      }
     },
     "metadata": {},
     "output_type": "display_data"
    },
    {
     "data": {
      "text/plain": "Posts - DLAH - week:   0%|          | 0/100 [00:00<?, ?it/s]",
      "application/vnd.jupyter.widget-view+json": {
       "version_major": 2,
       "version_minor": 0,
       "model_id": "3cb4dbf05aea4bac98261769c248d6d0"
      }
     },
     "metadata": {},
     "output_type": "display_data"
    },
    {
     "data": {
      "text/plain": "day:   0%|          | 0/24 [00:00<?, ?it/s]",
      "application/vnd.jupyter.widget-view+json": {
       "version_major": 2,
       "version_minor": 0,
       "model_id": "14378b49f70a4606992cdb53710f2820"
      }
     },
     "metadata": {},
     "output_type": "display_data"
    },
    {
     "data": {
      "text/plain": "Posts - SFWRedheads - day:   0%|          | 0/70 [00:00<?, ?it/s]",
      "application/vnd.jupyter.widget-view+json": {
       "version_major": 2,
       "version_minor": 0,
       "model_id": "0efb80e5084e41abb6202a9e4f0657f7"
      }
     },
     "metadata": {},
     "output_type": "display_data"
    },
    {
     "data": {
      "text/plain": "Posts - sfwpetite - day:   0%|          | 0/7 [00:00<?, ?it/s]",
      "application/vnd.jupyter.widget-view+json": {
       "version_major": 2,
       "version_minor": 0,
       "model_id": "2480e194d2714af895725c3698dbbd88"
      }
     },
     "metadata": {},
     "output_type": "display_data"
    },
    {
     "data": {
      "text/plain": "Posts - SFWNextDoorGirls - day:   0%|          | 0/92 [00:00<?, ?it/s]",
      "application/vnd.jupyter.widget-view+json": {
       "version_major": 2,
       "version_minor": 0,
       "model_id": "5b7bbb593bba4fef86c53aafc186632c"
      }
     },
     "metadata": {},
     "output_type": "display_data"
    },
    {
     "data": {
      "text/plain": "Posts - trippinthroughtime - day:   0%|          | 0/2 [00:00<?, ?it/s]",
      "application/vnd.jupyter.widget-view+json": {
       "version_major": 2,
       "version_minor": 0,
       "model_id": "db57a447aa5b42e686837f46c7e4d333"
      }
     },
     "metadata": {},
     "output_type": "display_data"
    },
    {
     "data": {
      "text/plain": "Posts - fatsquirrelhate - day:   0%|          | 0/15 [00:00<?, ?it/s]",
      "application/vnd.jupyter.widget-view+json": {
       "version_major": 2,
       "version_minor": 0,
       "model_id": "8fa8bf53d8e64a3a945653703380c8eb"
      }
     },
     "metadata": {},
     "output_type": "display_data"
    },
    {
     "data": {
      "text/plain": "Posts - itookapicture - day:   0%|          | 0/100 [00:00<?, ?it/s]",
      "application/vnd.jupyter.widget-view+json": {
       "version_major": 2,
       "version_minor": 0,
       "model_id": "8dd4098e50d34f7dae324063e3d89869"
      }
     },
     "metadata": {},
     "output_type": "display_data"
    },
    {
     "data": {
      "text/plain": "Posts - memes - day:   0%|          | 0/100 [00:00<?, ?it/s]",
      "application/vnd.jupyter.widget-view+json": {
       "version_major": 2,
       "version_minor": 0,
       "model_id": "68cc47a2b1ae498faf0bbaa85b5cd47c"
      }
     },
     "metadata": {},
     "output_type": "display_data"
    },
    {
     "data": {
      "text/plain": "Posts - WhitePeopleTwitter - day:   0%|          | 0/100 [00:00<?, ?it/s]",
      "application/vnd.jupyter.widget-view+json": {
       "version_major": 2,
       "version_minor": 0,
       "model_id": "e6066b5fd3b44c90af4d950f46af8025"
      }
     },
     "metadata": {},
     "output_type": "display_data"
    },
    {
     "data": {
      "text/plain": "Posts - CityPorn - day:   0%|          | 0/39 [00:00<?, ?it/s]",
      "application/vnd.jupyter.widget-view+json": {
       "version_major": 2,
       "version_minor": 0,
       "model_id": "46dd8e675ea14460ab29a45d5ed85fbe"
      }
     },
     "metadata": {},
     "output_type": "display_data"
    },
    {
     "data": {
      "text/plain": "Posts - EarthPorn - day:   0%|          | 0/39 [00:00<?, ?it/s]",
      "application/vnd.jupyter.widget-view+json": {
       "version_major": 2,
       "version_minor": 0,
       "model_id": "cd2a7b9f102947768999bcb97bee17fe"
      }
     },
     "metadata": {},
     "output_type": "display_data"
    },
    {
     "data": {
      "text/plain": "Posts - spaceporn - day:   0%|          | 0/11 [00:00<?, ?it/s]",
      "application/vnd.jupyter.widget-view+json": {
       "version_major": 2,
       "version_minor": 0,
       "model_id": "b524a38225e748408a7c5a7365915c79"
      }
     },
     "metadata": {},
     "output_type": "display_data"
    },
    {
     "data": {
      "text/plain": "Posts - realasians - day:   0%|          | 0/44 [00:00<?, ?it/s]",
      "application/vnd.jupyter.widget-view+json": {
       "version_major": 2,
       "version_minor": 0,
       "model_id": "9ca595a5320e4e7fbb262a3723fd1ab5"
      }
     },
     "metadata": {},
     "output_type": "display_data"
    },
    {
     "data": {
      "text/plain": "Posts - KoreanHotties - day:   0%|          | 0/19 [00:00<?, ?it/s]",
      "application/vnd.jupyter.widget-view+json": {
       "version_major": 2,
       "version_minor": 0,
       "model_id": "9412db413a9c45e898bad92cc2ab7903"
      }
     },
     "metadata": {},
     "output_type": "display_data"
    },
    {
     "data": {
      "text/plain": "Posts - prettyasiangirls - day:   0%|          | 0/22 [00:00<?, ?it/s]",
      "application/vnd.jupyter.widget-view+json": {
       "version_major": 2,
       "version_minor": 0,
       "model_id": "fc1e5c6477ac41c9bb8245d404e01b7f"
      }
     },
     "metadata": {},
     "output_type": "display_data"
    },
    {
     "data": {
      "text/plain": "Posts - AsianOfficeLady - day:   0%|          | 0/2 [00:00<?, ?it/s]",
      "application/vnd.jupyter.widget-view+json": {
       "version_major": 2,
       "version_minor": 0,
       "model_id": "b0e1ef6d07bf41c9985872c6cf1ba1e9"
      }
     },
     "metadata": {},
     "output_type": "display_data"
    },
    {
     "data": {
      "text/plain": "Posts - mildlypenis - day:   0%|          | 0/32 [00:00<?, ?it/s]",
      "application/vnd.jupyter.widget-view+json": {
       "version_major": 2,
       "version_minor": 0,
       "model_id": "49944670a0af4d1aadff7911f9890665"
      }
     },
     "metadata": {},
     "output_type": "display_data"
    },
    {
     "data": {
      "text/plain": "Posts - cougars_and_milfs_sfw - day:   0%|          | 0/39 [00:00<?, ?it/s]",
      "application/vnd.jupyter.widget-view+json": {
       "version_major": 2,
       "version_minor": 0,
       "model_id": "eda2aabd4bbf4ae7a91a35159d572a99"
      }
     },
     "metadata": {},
     "output_type": "display_data"
    },
    {
     "data": {
      "text/plain": "Posts - AsianInvasion - day:   0%|          | 0/2 [00:00<?, ?it/s]",
      "application/vnd.jupyter.widget-view+json": {
       "version_major": 2,
       "version_minor": 0,
       "model_id": "c0eed8c458174e2eb00e7737148eed2d"
      }
     },
     "metadata": {},
     "output_type": "display_data"
    },
    {
     "data": {
      "text/plain": "Posts - sexygirls - day:   0%|          | 0/20 [00:00<?, ?it/s]",
      "application/vnd.jupyter.widget-view+json": {
       "version_major": 2,
       "version_minor": 0,
       "model_id": "c2ff7f1d2a3c42709b06ac1688954b0c"
      }
     },
     "metadata": {},
     "output_type": "display_data"
    },
    {
     "data": {
      "text/plain": "Posts - PrettyGirls - day:   0%|          | 0/25 [00:00<?, ?it/s]",
      "application/vnd.jupyter.widget-view+json": {
       "version_major": 2,
       "version_minor": 0,
       "model_id": "d3763f1850b94925a06974657d2e3767"
      }
     },
     "metadata": {},
     "output_type": "display_data"
    },
    {
     "data": {
      "text/plain": "Posts - gentlemanboners - day:   0%|          | 0/28 [00:00<?, ?it/s]",
      "application/vnd.jupyter.widget-view+json": {
       "version_major": 2,
       "version_minor": 0,
       "model_id": "52a9d970478c4c0088565d2ab38232b7"
      }
     },
     "metadata": {},
     "output_type": "display_data"
    },
    {
     "data": {
      "text/plain": "Posts - hotofficegirls - day:   0%|          | 0/1 [00:00<?, ?it/s]",
      "application/vnd.jupyter.widget-view+json": {
       "version_major": 2,
       "version_minor": 0,
       "model_id": "aa723df31a8b4c1bb86e8895b3d0e0a1"
      }
     },
     "metadata": {},
     "output_type": "display_data"
    },
    {
     "data": {
      "text/plain": "Posts - tightdresses - day:   0%|          | 0/44 [00:00<?, ?it/s]",
      "application/vnd.jupyter.widget-view+json": {
       "version_major": 2,
       "version_minor": 0,
       "model_id": "7c601a1fb38740e0b255915b34c3157e"
      }
     },
     "metadata": {},
     "output_type": "display_data"
    },
    {
     "data": {
      "text/plain": "Posts - DLAH - day:   0%|          | 0/42 [00:00<?, ?it/s]",
      "application/vnd.jupyter.widget-view+json": {
       "version_major": 2,
       "version_minor": 0,
       "model_id": "e6d3bc2d5d7a4d5f97861543f5c85794"
      }
     },
     "metadata": {},
     "output_type": "display_data"
    }
   ],
   "source": [
    "for time_filter in ['all', 'year', 'month', 'week', 'day']:\n",
    "\tfor sub in tqdm(subs, desc=f\"{time_filter}\", total=len(subs)):\n",
    "\t\texisting_data = pd.read_parquet(f\"{sub}\")\n",
    "\t\ttry:\n",
    "\t\t\tsubreddit_stream: ListingGenerator = reddit.subreddit(display_name=sub).top(limit=100, time_filter=time_filter)\n",
    "\t\t\tsubreddit_stream = list(subreddit_stream)\n",
    "\t\t\tfor submission in tqdm(subreddit_stream, total=len(subreddit_stream), desc=f\"Posts - {sub} - {time_filter}\"):\n",
    "\t\t\t\tif submission is None:\n",
    "\t\t\t\t\tcontinue\n",
    "\t\t\t\tif not os.path.exists(f\"{sub}\"):\n",
    "\t\t\t\t\tos.makedirs(f\"{sub}\")\n",
    "\t\t\t\telse:\n",
    "\t\t\t\t\tif submission.id in list(extant_data['id']):\n",
    "\t\t\t\t\t\tcontinue\n",
    "\t\t\t\ttry:\n",
    "\t\t\t\t\tauthor_name = 'Unknown'\n",
    "\t\t\t\t\tsubreddit_name = sub\n",
    "\t\t\t\t\ttry:\n",
    "\t\t\t\t\t\tauthor_name = submission.author.name\n",
    "\t\t\t\t\texcept Exception as e:\n",
    "\t\t\t\t\t\tauthor_name = 'Unknown'\n",
    "\t\t\t\t\t\tpass\n",
    "\t\t\t\t\tp = {\n",
    "\t\t\t\t\t\t'id': submission.id,\n",
    "\t\t\t\t\t\t'subreddit': subreddit_name,\n",
    "\t\t\t\t\t\t'author': author_name,\n",
    "\t\t\t\t\t\t'title': submission.title,\n",
    "\t\t\t\t\t\t'caption': '',\n",
    "\t\t\t\t\t\t'hash': '',\n",
    "\t\t\t\t\t\t'permalink': submission.permalink,\n",
    "\t\t\t\t\t\t'original_url': submission.url,\n",
    "\t\t\t\t\t\t'image_name': '',\n",
    "\t\t\t\t\t\t'path': '',\n",
    "\t\t\t\t\t\t'thumbnail_path': '',\n",
    "\t\t\t\t\t\t'exists': False,\n",
    "\t\t\t\t\t\t'curated': False\n",
    "\t\t\t\t\t}\n",
    "\t\t\t\t\tpd.DataFrame([p]).to_parquet(f\"{sub}/{submission.id}-{time_filter}.parquet\")\n",
    "\t\t\t\texcept Exception as e:\n",
    "\t\t\t\t\t# print(e)\n",
    "\t\t\t\t\tcontinue\n",
    "\t\texcept Exception as e:\n",
    "\t\t\tprint(e)\n",
    "\t\t\tcontinue"
   ],
   "metadata": {
    "collapsed": false,
    "ExecuteTime": {
     "start_time": "2023-04-28T17:57:36.490449Z",
     "end_time": "2023-04-28T18:08:50.101772Z"
    }
   }
  },
  {
   "cell_type": "code",
   "execution_count": 14,
   "outputs": [
    {
     "data": {
      "text/plain": "            id    subreddit             author  \\\n0      100zkn4  SFWRedheads  ChanceUnlikely659   \n1      100zkn4  SFWRedheads  ChanceUnlikely659   \n2      100zkn4  SFWRedheads  ChanceUnlikely659   \n3      101h21m  SFWRedheads  ChanceUnlikely659   \n4      101h21m  SFWRedheads  ChanceUnlikely659   \n...        ...          ...                ...   \n11004   zrcokh         DLAH        LetReal1805   \n11005   zufk0e         DLAH           mikano96   \n11006   zvn0a6         DLAH      ThePinkTaco65   \n11007   zxkmz0         DLAH     -SirSpankalot-   \n11008   zz01i9         DLAH     ResponsiveCock   \n\n                                      title caption hash  \\\n0                  Cute mirror pic for you🤍                \n1                  Cute mirror pic for you🤍                \n2                  Cute mirror pic for you🤍                \n3      Do you like my little black dress? 🖤                \n4      Do you like my little black dress? 🖤                \n...                                     ...     ...  ...   \n11004                           Jaw dropper                \n11005                                 Cutie                \n11006                          showing lots                \n11007                     Red wrapped candy                \n11008                        What a stunner                \n\n                                               permalink  \\\n0      /r/SFWRedheads/comments/100zkn4/cute_mirror_pi...   \n1      /r/SFWRedheads/comments/100zkn4/cute_mirror_pi...   \n2      /r/SFWRedheads/comments/100zkn4/cute_mirror_pi...   \n3      /r/SFWRedheads/comments/101h21m/do_you_like_my...   \n4      /r/SFWRedheads/comments/101h21m/do_you_like_my...   \n...                                                  ...   \n11004               /r/DLAH/comments/zrcokh/jaw_dropper/   \n11005                     /r/DLAH/comments/zufk0e/cutie/   \n11006              /r/DLAH/comments/zvn0a6/showing_lots/   \n11007         /r/DLAH/comments/zxkmz0/red_wrapped_candy/   \n11008            /r/DLAH/comments/zz01i9/what_a_stunner/   \n\n                              original_url image_name path thumbnail_path  \\\n0      https://i.redd.it/hhuwwg4yqk9a1.jpg                                  \n1      https://i.redd.it/hhuwwg4yqk9a1.jpg                                  \n2      https://i.redd.it/hhuwwg4yqk9a1.jpg                                  \n3      https://i.redd.it/wirfsk0s9p9a1.jpg                                  \n4      https://i.redd.it/wirfsk0s9p9a1.jpg                                  \n...                                    ...        ...  ...            ...   \n11004  https://i.redd.it/i5h6kx2vm87a1.jpg                                  \n11005  https://i.redd.it/ry23hojujx7a1.jpg                                  \n11006  https://i.redd.it/u9w5hzlgba8a1.jpg                                  \n11007  https://i.redd.it/m5elilvrtq8a1.jpg                                  \n11008  https://i.redd.it/naup5r1zr29a1.jpg                                  \n\n      exists curated  \n0      False   False  \n1      False   False  \n2      False   False  \n3      False   False  \n4      False   False  \n...      ...     ...  \n11004  False   False  \n11005  False   False  \n11006  False   False  \n11007  False   False  \n11008  False   False  \n\n[11009 rows x 13 columns]",
      "text/html": "<div>\n<style scoped>\n    .dataframe tbody tr th:only-of-type {\n        vertical-align: middle;\n    }\n\n    .dataframe tbody tr th {\n        vertical-align: top;\n    }\n\n    .dataframe thead th {\n        text-align: right;\n    }\n</style>\n<table border=\"1\" class=\"dataframe\">\n  <thead>\n    <tr style=\"text-align: right;\">\n      <th></th>\n      <th>id</th>\n      <th>subreddit</th>\n      <th>author</th>\n      <th>title</th>\n      <th>caption</th>\n      <th>hash</th>\n      <th>permalink</th>\n      <th>original_url</th>\n      <th>image_name</th>\n      <th>path</th>\n      <th>thumbnail_path</th>\n      <th>exists</th>\n      <th>curated</th>\n    </tr>\n  </thead>\n  <tbody>\n    <tr>\n      <th>0</th>\n      <td>100zkn4</td>\n      <td>SFWRedheads</td>\n      <td>ChanceUnlikely659</td>\n      <td>Cute mirror pic for you🤍</td>\n      <td></td>\n      <td></td>\n      <td>/r/SFWRedheads/comments/100zkn4/cute_mirror_pi...</td>\n      <td>https://i.redd.it/hhuwwg4yqk9a1.jpg</td>\n      <td></td>\n      <td></td>\n      <td></td>\n      <td>False</td>\n      <td>False</td>\n    </tr>\n    <tr>\n      <th>1</th>\n      <td>100zkn4</td>\n      <td>SFWRedheads</td>\n      <td>ChanceUnlikely659</td>\n      <td>Cute mirror pic for you🤍</td>\n      <td></td>\n      <td></td>\n      <td>/r/SFWRedheads/comments/100zkn4/cute_mirror_pi...</td>\n      <td>https://i.redd.it/hhuwwg4yqk9a1.jpg</td>\n      <td></td>\n      <td></td>\n      <td></td>\n      <td>False</td>\n      <td>False</td>\n    </tr>\n    <tr>\n      <th>2</th>\n      <td>100zkn4</td>\n      <td>SFWRedheads</td>\n      <td>ChanceUnlikely659</td>\n      <td>Cute mirror pic for you🤍</td>\n      <td></td>\n      <td></td>\n      <td>/r/SFWRedheads/comments/100zkn4/cute_mirror_pi...</td>\n      <td>https://i.redd.it/hhuwwg4yqk9a1.jpg</td>\n      <td></td>\n      <td></td>\n      <td></td>\n      <td>False</td>\n      <td>False</td>\n    </tr>\n    <tr>\n      <th>3</th>\n      <td>101h21m</td>\n      <td>SFWRedheads</td>\n      <td>ChanceUnlikely659</td>\n      <td>Do you like my little black dress? 🖤</td>\n      <td></td>\n      <td></td>\n      <td>/r/SFWRedheads/comments/101h21m/do_you_like_my...</td>\n      <td>https://i.redd.it/wirfsk0s9p9a1.jpg</td>\n      <td></td>\n      <td></td>\n      <td></td>\n      <td>False</td>\n      <td>False</td>\n    </tr>\n    <tr>\n      <th>4</th>\n      <td>101h21m</td>\n      <td>SFWRedheads</td>\n      <td>ChanceUnlikely659</td>\n      <td>Do you like my little black dress? 🖤</td>\n      <td></td>\n      <td></td>\n      <td>/r/SFWRedheads/comments/101h21m/do_you_like_my...</td>\n      <td>https://i.redd.it/wirfsk0s9p9a1.jpg</td>\n      <td></td>\n      <td></td>\n      <td></td>\n      <td>False</td>\n      <td>False</td>\n    </tr>\n    <tr>\n      <th>...</th>\n      <td>...</td>\n      <td>...</td>\n      <td>...</td>\n      <td>...</td>\n      <td>...</td>\n      <td>...</td>\n      <td>...</td>\n      <td>...</td>\n      <td>...</td>\n      <td>...</td>\n      <td>...</td>\n      <td>...</td>\n      <td>...</td>\n    </tr>\n    <tr>\n      <th>11004</th>\n      <td>zrcokh</td>\n      <td>DLAH</td>\n      <td>LetReal1805</td>\n      <td>Jaw dropper</td>\n      <td></td>\n      <td></td>\n      <td>/r/DLAH/comments/zrcokh/jaw_dropper/</td>\n      <td>https://i.redd.it/i5h6kx2vm87a1.jpg</td>\n      <td></td>\n      <td></td>\n      <td></td>\n      <td>False</td>\n      <td>False</td>\n    </tr>\n    <tr>\n      <th>11005</th>\n      <td>zufk0e</td>\n      <td>DLAH</td>\n      <td>mikano96</td>\n      <td>Cutie</td>\n      <td></td>\n      <td></td>\n      <td>/r/DLAH/comments/zufk0e/cutie/</td>\n      <td>https://i.redd.it/ry23hojujx7a1.jpg</td>\n      <td></td>\n      <td></td>\n      <td></td>\n      <td>False</td>\n      <td>False</td>\n    </tr>\n    <tr>\n      <th>11006</th>\n      <td>zvn0a6</td>\n      <td>DLAH</td>\n      <td>ThePinkTaco65</td>\n      <td>showing lots</td>\n      <td></td>\n      <td></td>\n      <td>/r/DLAH/comments/zvn0a6/showing_lots/</td>\n      <td>https://i.redd.it/u9w5hzlgba8a1.jpg</td>\n      <td></td>\n      <td></td>\n      <td></td>\n      <td>False</td>\n      <td>False</td>\n    </tr>\n    <tr>\n      <th>11007</th>\n      <td>zxkmz0</td>\n      <td>DLAH</td>\n      <td>-SirSpankalot-</td>\n      <td>Red wrapped candy</td>\n      <td></td>\n      <td></td>\n      <td>/r/DLAH/comments/zxkmz0/red_wrapped_candy/</td>\n      <td>https://i.redd.it/m5elilvrtq8a1.jpg</td>\n      <td></td>\n      <td></td>\n      <td></td>\n      <td>False</td>\n      <td>False</td>\n    </tr>\n    <tr>\n      <th>11008</th>\n      <td>zz01i9</td>\n      <td>DLAH</td>\n      <td>ResponsiveCock</td>\n      <td>What a stunner</td>\n      <td></td>\n      <td></td>\n      <td>/r/DLAH/comments/zz01i9/what_a_stunner/</td>\n      <td>https://i.redd.it/naup5r1zr29a1.jpg</td>\n      <td></td>\n      <td></td>\n      <td></td>\n      <td>False</td>\n      <td>False</td>\n    </tr>\n  </tbody>\n</table>\n<p>11009 rows × 13 columns</p>\n</div>"
     },
     "metadata": {},
     "output_type": "display_data"
    },
    {
     "name": "stdout",
     "output_type": "stream",
     "text": [
      "CPU times: total: 1min 23s\n",
      "Wall time: 27.3 s\n"
     ]
    }
   ],
   "source": [
    "%%time\n",
    "dfs = pd.DataFrame({}, columns=schema.names)\n",
    "data = []\n",
    "for sub in subs:\n",
    "\tdf = pd.read_parquet(f\"{sub}\")\n",
    "\tinitial = pd.DataFrame({}, columns=schema.names)\n",
    "\tinitial.id = df.id\n",
    "\tinitial.subreddit = df.subreddit\n",
    "\tinitial.author = df.author\n",
    "\tinitial.title = df.title\n",
    "\tinitial.caption = \"\"\n",
    "\tinitial.hash = \"\"\n",
    "\tinitial.permalink = df.permalink\n",
    "\tinitial.original_url = df.original_url\n",
    "\tinitial.image_name = \"\"\n",
    "\tinitial.path = \"\"\n",
    "\tinitial.thumbnail_path = \"\"\n",
    "\tinitial.exists = False\n",
    "\tinitial.curated = False\n",
    "\n",
    "\trecords = df.to_dict(orient='records')\n",
    "\tdata.extend(records)\n",
    "\n",
    "initial = pd.DataFrame(data=data, columns=schema.names)\n",
    "filtered_initial = initial.where(initial['original_url'].str.endswith('.jpg')).dropna(how='all').reset_index().drop('index', axis=1)\n",
    "\n",
    "display(filtered_initial)"
   ],
   "metadata": {
    "collapsed": false,
    "ExecuteTime": {
     "start_time": "2023-04-28T18:08:50.127772Z",
     "end_time": "2023-04-28T18:09:17.512873Z"
    }
   }
  },
  {
   "cell_type": "code",
   "execution_count": 15,
   "outputs": [
    {
     "data": {
      "text/plain": "          id    subreddit          author  \\\n0    120ekkv  SFWRedheads        Tana_Lee   \n1    120ekkv  SFWRedheads        Tana_Lee   \n2    12jm6mv  SFWRedheads    Redhotwife88   \n3    12jm6mv  SFWRedheads    Redhotwife88   \n4    12jqjkk  SFWRedheads  crystalcolette   \n..       ...          ...             ...   \n739  132ae8z         DLAH  GasKitchen4573   \n740  132b3de         DLAH  Thin_Data_2134   \n741   wrq8jd         DLAH          zUUmee   \n742   wwp80d         DLAH  -SirSpankalot-   \n743   zufk0e         DLAH        mikano96   \n\n                                        title caption hash  \\\n0                 Have a great weekend boys 😘                \n1                 Have a great weekend boys 😘                \n2           Redhead Mom at 35 years old ! [F]                \n3           Redhead Mom at 35 years old ! [F]                \n4    Red hair, blue eyes and so many freckles                \n..                                        ...     ...  ...   \n739                                Which one?                \n740                           DLAH Four Babes                \n741                           Emma and Olivia                \n742             Italian sports TV is superior                \n743                                     Cutie                \n\n                                             permalink  \\\n0    /r/SFWRedheads/comments/120ekkv/have_a_great_w...   \n1    /r/SFWRedheads/comments/120ekkv/have_a_great_w...   \n2    /r/SFWRedheads/comments/12jm6mv/redhead_mom_at...   \n3    /r/SFWRedheads/comments/12jm6mv/redhead_mom_at...   \n4    /r/SFWRedheads/comments/12jqjkk/red_hair_blue_...   \n..                                                 ...   \n739                /r/DLAH/comments/132ae8z/which_one/   \n740          /r/DLAH/comments/132b3de/dlah_four_babes/   \n741           /r/DLAH/comments/wrq8jd/emma_and_olivia/   \n742  /r/DLAH/comments/wwp80d/italian_sports_tv_is_s...   \n743                     /r/DLAH/comments/zufk0e/cutie/   \n\n                            original_url image_name path thumbnail_path  \\\n0    https://i.redd.it/8w177b9l1ppa1.jpg                                  \n1    https://i.redd.it/8w177b9l1ppa1.jpg                                  \n2        https://i.imgur.com/nWeLBAM.jpg                                  \n3        https://i.imgur.com/nWeLBAM.jpg                                  \n4    https://i.redd.it/jcwet8iloita1.jpg                                  \n..                                   ...        ...  ...            ...   \n739  https://i.redd.it/wqqbma0wiqwa1.jpg                                  \n740  https://i.redd.it/uy5antx3oqwa1.jpg                                  \n741      https://i.imgur.com/vC03BwB.jpg                                  \n742  https://i.redd.it/unosrxq63pj91.jpg                                  \n743  https://i.redd.it/ry23hojujx7a1.jpg                                  \n\n    exists curated  \n0    False   False  \n1    False   False  \n2    False   False  \n3    False   False  \n4    False   False  \n..     ...     ...  \n739  False   False  \n740  False   False  \n741  False   False  \n742  False   False  \n743  False   False  \n\n[744 rows x 13 columns]",
      "text/html": "<div>\n<style scoped>\n    .dataframe tbody tr th:only-of-type {\n        vertical-align: middle;\n    }\n\n    .dataframe tbody tr th {\n        vertical-align: top;\n    }\n\n    .dataframe thead th {\n        text-align: right;\n    }\n</style>\n<table border=\"1\" class=\"dataframe\">\n  <thead>\n    <tr style=\"text-align: right;\">\n      <th></th>\n      <th>id</th>\n      <th>subreddit</th>\n      <th>author</th>\n      <th>title</th>\n      <th>caption</th>\n      <th>hash</th>\n      <th>permalink</th>\n      <th>original_url</th>\n      <th>image_name</th>\n      <th>path</th>\n      <th>thumbnail_path</th>\n      <th>exists</th>\n      <th>curated</th>\n    </tr>\n  </thead>\n  <tbody>\n    <tr>\n      <th>0</th>\n      <td>120ekkv</td>\n      <td>SFWRedheads</td>\n      <td>Tana_Lee</td>\n      <td>Have a great weekend boys 😘</td>\n      <td></td>\n      <td></td>\n      <td>/r/SFWRedheads/comments/120ekkv/have_a_great_w...</td>\n      <td>https://i.redd.it/8w177b9l1ppa1.jpg</td>\n      <td></td>\n      <td></td>\n      <td></td>\n      <td>False</td>\n      <td>False</td>\n    </tr>\n    <tr>\n      <th>1</th>\n      <td>120ekkv</td>\n      <td>SFWRedheads</td>\n      <td>Tana_Lee</td>\n      <td>Have a great weekend boys 😘</td>\n      <td></td>\n      <td></td>\n      <td>/r/SFWRedheads/comments/120ekkv/have_a_great_w...</td>\n      <td>https://i.redd.it/8w177b9l1ppa1.jpg</td>\n      <td></td>\n      <td></td>\n      <td></td>\n      <td>False</td>\n      <td>False</td>\n    </tr>\n    <tr>\n      <th>2</th>\n      <td>12jm6mv</td>\n      <td>SFWRedheads</td>\n      <td>Redhotwife88</td>\n      <td>Redhead Mom at 35 years old ! [F]</td>\n      <td></td>\n      <td></td>\n      <td>/r/SFWRedheads/comments/12jm6mv/redhead_mom_at...</td>\n      <td>https://i.imgur.com/nWeLBAM.jpg</td>\n      <td></td>\n      <td></td>\n      <td></td>\n      <td>False</td>\n      <td>False</td>\n    </tr>\n    <tr>\n      <th>3</th>\n      <td>12jm6mv</td>\n      <td>SFWRedheads</td>\n      <td>Redhotwife88</td>\n      <td>Redhead Mom at 35 years old ! [F]</td>\n      <td></td>\n      <td></td>\n      <td>/r/SFWRedheads/comments/12jm6mv/redhead_mom_at...</td>\n      <td>https://i.imgur.com/nWeLBAM.jpg</td>\n      <td></td>\n      <td></td>\n      <td></td>\n      <td>False</td>\n      <td>False</td>\n    </tr>\n    <tr>\n      <th>4</th>\n      <td>12jqjkk</td>\n      <td>SFWRedheads</td>\n      <td>crystalcolette</td>\n      <td>Red hair, blue eyes and so many freckles</td>\n      <td></td>\n      <td></td>\n      <td>/r/SFWRedheads/comments/12jqjkk/red_hair_blue_...</td>\n      <td>https://i.redd.it/jcwet8iloita1.jpg</td>\n      <td></td>\n      <td></td>\n      <td></td>\n      <td>False</td>\n      <td>False</td>\n    </tr>\n    <tr>\n      <th>...</th>\n      <td>...</td>\n      <td>...</td>\n      <td>...</td>\n      <td>...</td>\n      <td>...</td>\n      <td>...</td>\n      <td>...</td>\n      <td>...</td>\n      <td>...</td>\n      <td>...</td>\n      <td>...</td>\n      <td>...</td>\n      <td>...</td>\n    </tr>\n    <tr>\n      <th>739</th>\n      <td>132ae8z</td>\n      <td>DLAH</td>\n      <td>GasKitchen4573</td>\n      <td>Which one?</td>\n      <td></td>\n      <td></td>\n      <td>/r/DLAH/comments/132ae8z/which_one/</td>\n      <td>https://i.redd.it/wqqbma0wiqwa1.jpg</td>\n      <td></td>\n      <td></td>\n      <td></td>\n      <td>False</td>\n      <td>False</td>\n    </tr>\n    <tr>\n      <th>740</th>\n      <td>132b3de</td>\n      <td>DLAH</td>\n      <td>Thin_Data_2134</td>\n      <td>DLAH Four Babes</td>\n      <td></td>\n      <td></td>\n      <td>/r/DLAH/comments/132b3de/dlah_four_babes/</td>\n      <td>https://i.redd.it/uy5antx3oqwa1.jpg</td>\n      <td></td>\n      <td></td>\n      <td></td>\n      <td>False</td>\n      <td>False</td>\n    </tr>\n    <tr>\n      <th>741</th>\n      <td>wrq8jd</td>\n      <td>DLAH</td>\n      <td>zUUmee</td>\n      <td>Emma and Olivia</td>\n      <td></td>\n      <td></td>\n      <td>/r/DLAH/comments/wrq8jd/emma_and_olivia/</td>\n      <td>https://i.imgur.com/vC03BwB.jpg</td>\n      <td></td>\n      <td></td>\n      <td></td>\n      <td>False</td>\n      <td>False</td>\n    </tr>\n    <tr>\n      <th>742</th>\n      <td>wwp80d</td>\n      <td>DLAH</td>\n      <td>-SirSpankalot-</td>\n      <td>Italian sports TV is superior</td>\n      <td></td>\n      <td></td>\n      <td>/r/DLAH/comments/wwp80d/italian_sports_tv_is_s...</td>\n      <td>https://i.redd.it/unosrxq63pj91.jpg</td>\n      <td></td>\n      <td></td>\n      <td></td>\n      <td>False</td>\n      <td>False</td>\n    </tr>\n    <tr>\n      <th>743</th>\n      <td>zufk0e</td>\n      <td>DLAH</td>\n      <td>mikano96</td>\n      <td>Cutie</td>\n      <td></td>\n      <td></td>\n      <td>/r/DLAH/comments/zufk0e/cutie/</td>\n      <td>https://i.redd.it/ry23hojujx7a1.jpg</td>\n      <td></td>\n      <td></td>\n      <td></td>\n      <td>False</td>\n      <td>False</td>\n    </tr>\n  </tbody>\n</table>\n<p>744 rows × 13 columns</p>\n</div>"
     },
     "metadata": {},
     "output_type": "display_data"
    },
    {
     "name": "stdout",
     "output_type": "stream",
     "text": [
      "CPU times: total: 2.75 s\n",
      "Wall time: 5.93 s\n"
     ]
    },
    {
     "data": {
      "text/plain": "<Axes: xlabel='subreddit'>"
     },
     "execution_count": 15,
     "metadata": {},
     "output_type": "execute_result"
    },
    {
     "data": {
      "text/plain": "<Figure size 640x480 with 1 Axes>",
      "image/png": "[encoded data removed]"
     },
     "metadata": {},
     "output_type": "display_data"
    }
   ],
   "source": [
    "%%time\n",
    "\n",
    "tqdm.pandas(desc=\"Filtering Exists For Id List\")\n",
    "with ProgressBar():\n",
    "\textant = extant_data.where((extant_data['exists'].isin([True]))).dropna(how='all').reset_index().drop('index', axis=1)\n",
    "\n",
    "extant_id_list = list(extant.id)\n",
    "\n",
    "tqdm.pandas(desc=\"Filtering Based on Id\")\n",
    "with ProgressBar():\n",
    "\tnew_entries = filtered_initial.where((~filtered_initial['id'].isin(extant_id_list))).dropna(\n",
    "\t\thow='all').reset_index().drop('index', axis=1)\n",
    "\n",
    "display(new_entries)\n",
    "\n",
    "new_images_by_sub = new_entries.groupby('subreddit')\n",
    "\n",
    "new_images_by_sub.count().plot.bar(y='id')"
   ],
   "metadata": {
    "collapsed": false,
    "ExecuteTime": {
     "start_time": "2023-04-28T18:09:17.497248Z",
     "end_time": "2023-04-28T18:09:24.615077Z"
    }
   }
  },
  {
   "cell_type": "code",
   "execution_count": 16,
   "outputs": [
    {
     "data": {
      "text/plain": "Fetch-Image:   0%|          | 0/744 [00:00<?, ?it/s]",
      "application/vnd.jupyter.widget-view+json": {
       "version_major": 2,
       "version_minor": 0,
       "model_id": "56421a5800f94c49bc22b2393ce9a317"
      }
     },
     "metadata": {},
     "output_type": "display_data"
    },
    {
     "name": "stdout",
     "output_type": "stream",
     "text": [
      "cannot identify image file <_io.BytesIO object at 0x000002427715C130>\n",
      "cannot identify image file <_io.BytesIO object at 0x000002426F3BCB30>\n",
      "cannot identify image file <_io.BytesIO object at 0x000002427715C130>\n",
      "cannot identify image file <_io.BytesIO object at 0x000002426F3BCEF0>\n",
      "cannot write mode P as JPEG\n",
      "cannot write mode P as JPEG\n",
      "cannot write mode P as JPEG\n",
      "cannot write mode P as JPEG\n",
      "Image size (199756800 pixels) exceeds limit of 178956970 pixels, could be decompression bomb DOS attack.\n",
      "cannot write mode RGBA as JPEG\n",
      "cannot write mode RGBA as JPEG\n",
      "cannot write mode RGBA as JPEG\n",
      "cannot write mode P as JPEG\n",
      "cannot write mode P as JPEG\n",
      "cannot write mode P as JPEG\n",
      "HTTPSConnectionPool(host='instagram.fsnc1-1.fna.fbcdn.net', port=443): Max retries exceeded with url: /t51.2885-15/28428436_181683505781847_1434093046173007872_n.jpg (Caused by NewConnectionError('<urllib3.connection.HTTPSConnection object at 0x000002426F37B400>: Failed to establish a new connection: [Errno 11001] getaddrinfo failed'))\n",
      "cannot identify image file <_io.BytesIO object at 0x000002427718A270>\n",
      "cannot identify image file <_io.BytesIO object at 0x000002427718A270>\n",
      "cannot identify image file <_io.BytesIO object at 0x000002427718A270>\n",
      "cannot identify image file <_io.BytesIO object at 0x000002427718A270>\n",
      "cannot identify image file <_io.BytesIO object at 0x000002426F3BCEF0>\n",
      "cannot identify image file <_io.BytesIO object at 0x000002426F214770>\n",
      "cannot write mode RGBA as JPEG\n",
      "cannot write mode P as JPEG\n",
      "cannot write mode P as JPEG\n",
      "cannot write mode P as JPEG\n",
      "cannot write mode P as JPEG\n",
      "cannot write mode P as JPEG\n",
      "cannot write mode P as JPEG\n",
      "cannot write mode P as JPEG\n",
      "cannot identify image file <_io.BytesIO object at 0x00000242773DC8B0>\n",
      "cannot identify image file <_io.BytesIO object at 0x00000242773E2E50>\n",
      "cannot write mode P as JPEG\n",
      "cannot write mode P as JPEG\n",
      "cannot write mode P as JPEG\n",
      "cannot write mode P as JPEG\n",
      "cannot write mode P as JPEG\n",
      "cannot write mode P as JPEG\n",
      "cannot write mode P as JPEG\n",
      "cannot write mode P as JPEG\n",
      "cannot write mode RGBA as JPEG\n",
      "cannot identify image file <_io.BytesIO object at 0x000002426F3BCB30>\n",
      "cannot write mode RGBA as JPEG\n",
      "cannot write mode RGBA as JPEG\n",
      "cannot identify image file <_io.BytesIO object at 0x000002427718A270>\n",
      "cannot write mode RGBA as JPEG\n",
      "cannot write mode P as JPEG\n",
      "cannot write mode P as JPEG\n",
      "cannot write mode P as JPEG\n"
     ]
    },
    {
     "data": {
      "text/plain": "Get-Image-Name:   0%|          | 0/744 [00:00<?, ?it/s]",
      "application/vnd.jupyter.widget-view+json": {
       "version_major": 2,
       "version_minor": 0,
       "model_id": "53034fc95ce9497d9dfd39ad1e6f02dd"
      }
     },
     "metadata": {},
     "output_type": "display_data"
    },
    {
     "data": {
      "text/plain": "Split-Hash:   0%|          | 0/744 [00:00<?, ?it/s]",
      "application/vnd.jupyter.widget-view+json": {
       "version_major": 2,
       "version_minor": 0,
       "model_id": "a09f3577719e4a488a88e54efabd378f"
      }
     },
     "metadata": {},
     "output_type": "display_data"
    },
    {
     "data": {
      "text/plain": "Checking-Exists:   0%|          | 0/744 [00:00<?, ?it/s]",
      "application/vnd.jupyter.widget-view+json": {
       "version_major": 2,
       "version_minor": 0,
       "model_id": "39edbc7b2fd54b42aabd3fa15a23e848"
      }
     },
     "metadata": {},
     "output_type": "display_data"
    },
    {
     "data": {
      "text/plain": "          id    subreddit          author  \\\n0    120ekkv  SFWRedheads        Tana_Lee   \n1    120ekkv  SFWRedheads        Tana_Lee   \n2    12jm6mv  SFWRedheads    Redhotwife88   \n3    12jm6mv  SFWRedheads    Redhotwife88   \n4    12jqjkk  SFWRedheads  crystalcolette   \n..       ...          ...             ...   \n739  132ae8z         DLAH  GasKitchen4573   \n740  132b3de         DLAH  Thin_Data_2134   \n741   wrq8jd         DLAH          zUUmee   \n742   wwp80d         DLAH  -SirSpankalot-   \n743   zufk0e         DLAH        mikano96   \n\n                                        title caption  \\\n0                 Have a great weekend boys 😘           \n1                 Have a great weekend boys 😘           \n2           Redhead Mom at 35 years old ! [F]           \n3           Redhead Mom at 35 years old ! [F]           \n4    Red hair, blue eyes and so many freckles           \n..                                        ...     ...   \n739                                Which one?           \n740                           DLAH Four Babes           \n741                           Emma and Olivia           \n742             Italian sports TV is superior           \n743                                     Cutie           \n\n                                 hash  \\\n0    36994a3127bac74ec622b4fb6ffef7b1   \n1    36994a3127bac74ec622b4fb6ffef7b1   \n2    6516c5e65d8a7c441dcd10db1cd19155   \n3    6516c5e65d8a7c441dcd10db1cd19155   \n4    114e551778963bf6bb8a21ca8901da0e   \n..                                ...   \n739  8fb09c064159c1e78459ac584e5a9957   \n740  a28b0ec4adeea88981a8a5bc8f6c00f2   \n741  996dfcbfa63e4570056b45ff07213cc0   \n742  543a8e67b9c4e28b4330d4b273b2fe17   \n743  416bea723ad0bef186cbcef0c4a44082   \n\n                                             permalink  \\\n0    /r/SFWRedheads/comments/120ekkv/have_a_great_w...   \n1    /r/SFWRedheads/comments/120ekkv/have_a_great_w...   \n2    /r/SFWRedheads/comments/12jm6mv/redhead_mom_at...   \n3    /r/SFWRedheads/comments/12jm6mv/redhead_mom_at...   \n4    /r/SFWRedheads/comments/12jqjkk/red_hair_blue_...   \n..                                                 ...   \n739                /r/DLAH/comments/132ae8z/which_one/   \n740          /r/DLAH/comments/132b3de/dlah_four_babes/   \n741           /r/DLAH/comments/wrq8jd/emma_and_olivia/   \n742  /r/DLAH/comments/wwp80d/italian_sports_tv_is_s...   \n743                     /r/DLAH/comments/zufk0e/cutie/   \n\n                            original_url  \\\n0    https://i.redd.it/8w177b9l1ppa1.jpg   \n1    https://i.redd.it/8w177b9l1ppa1.jpg   \n2        https://i.imgur.com/nWeLBAM.jpg   \n3        https://i.imgur.com/nWeLBAM.jpg   \n4    https://i.redd.it/jcwet8iloita1.jpg   \n..                                   ...   \n739  https://i.redd.it/wqqbma0wiqwa1.jpg   \n740  https://i.redd.it/uy5antx3oqwa1.jpg   \n741      https://i.imgur.com/vC03BwB.jpg   \n742  https://i.redd.it/unosrxq63pj91.jpg   \n743  https://i.redd.it/ry23hojujx7a1.jpg   \n\n                               image_name  \\\n0    36994a3127bac74ec622b4fb6ffef7b1.jpg   \n1    36994a3127bac74ec622b4fb6ffef7b1.jpg   \n2    6516c5e65d8a7c441dcd10db1cd19155.jpg   \n3    6516c5e65d8a7c441dcd10db1cd19155.jpg   \n4    114e551778963bf6bb8a21ca8901da0e.jpg   \n..                                    ...   \n739  8fb09c064159c1e78459ac584e5a9957.jpg   \n740  a28b0ec4adeea88981a8a5bc8f6c00f2.jpg   \n741  996dfcbfa63e4570056b45ff07213cc0.jpg   \n742  543a8e67b9c4e28b4330d4b273b2fe17.jpg   \n743  416bea723ad0bef186cbcef0c4a44082.jpg   \n\n                                                  path thumbnail_path  exists  \\\n0    D:\\data\\images\\SFWRedheads\\36994a3127bac74ec62...                  False   \n1    D:\\data\\images\\SFWRedheads\\36994a3127bac74ec62...                  False   \n2    D:\\data\\images\\SFWRedheads\\6516c5e65d8a7c441dc...                  False   \n3    D:\\data\\images\\SFWRedheads\\6516c5e65d8a7c441dc...                  False   \n4    D:\\data\\images\\SFWRedheads\\114e551778963bf6bb8...                  False   \n..                                                 ...            ...     ...   \n739  D:\\data\\images\\DLAH\\8fb09c064159c1e78459ac584e...                   True   \n740  D:\\data\\images\\DLAH\\a28b0ec4adeea88981a8a5bc8f...                   True   \n741  D:\\data\\images\\DLAH\\996dfcbfa63e4570056b45ff07...                   True   \n742  D:\\data\\images\\DLAH\\543a8e67b9c4e28b4330d4b273...                   True   \n743  D:\\data\\images\\DLAH\\416bea723ad0bef186cbcef0c4...                  False   \n\n    curated  \n0     False  \n1     False  \n2     False  \n3     False  \n4     False  \n..      ...  \n739   False  \n740   False  \n741   False  \n742   False  \n743   False  \n\n[744 rows x 13 columns]",
      "text/html": "<div>\n<style scoped>\n    .dataframe tbody tr th:only-of-type {\n        vertical-align: middle;\n    }\n\n    .dataframe tbody tr th {\n        vertical-align: top;\n    }\n\n    .dataframe thead th {\n        text-align: right;\n    }\n</style>\n<table border=\"1\" class=\"dataframe\">\n  <thead>\n    <tr style=\"text-align: right;\">\n      <th></th>\n      <th>id</th>\n      <th>subreddit</th>\n      <th>author</th>\n      <th>title</th>\n      <th>caption</th>\n      <th>hash</th>\n      <th>permalink</th>\n      <th>original_url</th>\n      <th>image_name</th>\n      <th>path</th>\n      <th>thumbnail_path</th>\n      <th>exists</th>\n      <th>curated</th>\n    </tr>\n  </thead>\n  <tbody>\n    <tr>\n      <th>0</th>\n      <td>120ekkv</td>\n      <td>SFWRedheads</td>\n      <td>Tana_Lee</td>\n      <td>Have a great weekend boys 😘</td>\n      <td></td>\n      <td>36994a3127bac74ec622b4fb6ffef7b1</td>\n      <td>/r/SFWRedheads/comments/120ekkv/have_a_great_w...</td>\n      <td>https://i.redd.it/8w177b9l1ppa1.jpg</td>\n      <td>36994a3127bac74ec622b4fb6ffef7b1.jpg</td>\n      <td>D:\\data\\images\\SFWRedheads\\36994a3127bac74ec62...</td>\n      <td></td>\n      <td>False</td>\n      <td>False</td>\n    </tr>\n    <tr>\n      <th>1</th>\n      <td>120ekkv</td>\n      <td>SFWRedheads</td>\n      <td>Tana_Lee</td>\n      <td>Have a great weekend boys 😘</td>\n      <td></td>\n      <td>36994a3127bac74ec622b4fb6ffef7b1</td>\n      <td>/r/SFWRedheads/comments/120ekkv/have_a_great_w...</td>\n      <td>https://i.redd.it/8w177b9l1ppa1.jpg</td>\n      <td>36994a3127bac74ec622b4fb6ffef7b1.jpg</td>\n      <td>D:\\data\\images\\SFWRedheads\\36994a3127bac74ec62...</td>\n      <td></td>\n      <td>False</td>\n      <td>False</td>\n    </tr>\n    <tr>\n      <th>2</th>\n      <td>12jm6mv</td>\n      <td>SFWRedheads</td>\n      <td>Redhotwife88</td>\n      <td>Redhead Mom at 35 years old ! [F]</td>\n      <td></td>\n      <td>6516c5e65d8a7c441dcd10db1cd19155</td>\n      <td>/r/SFWRedheads/comments/12jm6mv/redhead_mom_at...</td>\n      <td>https://i.imgur.com/nWeLBAM.jpg</td>\n      <td>6516c5e65d8a7c441dcd10db1cd19155.jpg</td>\n      <td>D:\\data\\images\\SFWRedheads\\6516c5e65d8a7c441dc...</td>\n      <td></td>\n      <td>False</td>\n      <td>False</td>\n    </tr>\n    <tr>\n      <th>3</th>\n      <td>12jm6mv</td>\n      <td>SFWRedheads</td>\n      <td>Redhotwife88</td>\n      <td>Redhead Mom at 35 years old ! [F]</td>\n      <td></td>\n      <td>6516c5e65d8a7c441dcd10db1cd19155</td>\n      <td>/r/SFWRedheads/comments/12jm6mv/redhead_mom_at...</td>\n      <td>https://i.imgur.com/nWeLBAM.jpg</td>\n      <td>6516c5e65d8a7c441dcd10db1cd19155.jpg</td>\n      <td>D:\\data\\images\\SFWRedheads\\6516c5e65d8a7c441dc...</td>\n      <td></td>\n      <td>False</td>\n      <td>False</td>\n    </tr>\n    <tr>\n      <th>4</th>\n      <td>12jqjkk</td>\n      <td>SFWRedheads</td>\n      <td>crystalcolette</td>\n      <td>Red hair, blue eyes and so many freckles</td>\n      <td></td>\n      <td>114e551778963bf6bb8a21ca8901da0e</td>\n      <td>/r/SFWRedheads/comments/12jqjkk/red_hair_blue_...</td>\n      <td>https://i.redd.it/jcwet8iloita1.jpg</td>\n      <td>114e551778963bf6bb8a21ca8901da0e.jpg</td>\n      <td>D:\\data\\images\\SFWRedheads\\114e551778963bf6bb8...</td>\n      <td></td>\n      <td>False</td>\n      <td>False</td>\n    </tr>\n    <tr>\n      <th>...</th>\n      <td>...</td>\n      <td>...</td>\n      <td>...</td>\n      <td>...</td>\n      <td>...</td>\n      <td>...</td>\n      <td>...</td>\n      <td>...</td>\n      <td>...</td>\n      <td>...</td>\n      <td>...</td>\n      <td>...</td>\n      <td>...</td>\n    </tr>\n    <tr>\n      <th>739</th>\n      <td>132ae8z</td>\n      <td>DLAH</td>\n      <td>GasKitchen4573</td>\n      <td>Which one?</td>\n      <td></td>\n      <td>8fb09c064159c1e78459ac584e5a9957</td>\n      <td>/r/DLAH/comments/132ae8z/which_one/</td>\n      <td>https://i.redd.it/wqqbma0wiqwa1.jpg</td>\n      <td>8fb09c064159c1e78459ac584e5a9957.jpg</td>\n      <td>D:\\data\\images\\DLAH\\8fb09c064159c1e78459ac584e...</td>\n      <td></td>\n      <td>True</td>\n      <td>False</td>\n    </tr>\n    <tr>\n      <th>740</th>\n      <td>132b3de</td>\n      <td>DLAH</td>\n      <td>Thin_Data_2134</td>\n      <td>DLAH Four Babes</td>\n      <td></td>\n      <td>a28b0ec4adeea88981a8a5bc8f6c00f2</td>\n      <td>/r/DLAH/comments/132b3de/dlah_four_babes/</td>\n      <td>https://i.redd.it/uy5antx3oqwa1.jpg</td>\n      <td>a28b0ec4adeea88981a8a5bc8f6c00f2.jpg</td>\n      <td>D:\\data\\images\\DLAH\\a28b0ec4adeea88981a8a5bc8f...</td>\n      <td></td>\n      <td>True</td>\n      <td>False</td>\n    </tr>\n    <tr>\n      <th>741</th>\n      <td>wrq8jd</td>\n      <td>DLAH</td>\n      <td>zUUmee</td>\n      <td>Emma and Olivia</td>\n      <td></td>\n      <td>996dfcbfa63e4570056b45ff07213cc0</td>\n      <td>/r/DLAH/comments/wrq8jd/emma_and_olivia/</td>\n      <td>https://i.imgur.com/vC03BwB.jpg</td>\n      <td>996dfcbfa63e4570056b45ff07213cc0.jpg</td>\n      <td>D:\\data\\images\\DLAH\\996dfcbfa63e4570056b45ff07...</td>\n      <td></td>\n      <td>True</td>\n      <td>False</td>\n    </tr>\n    <tr>\n      <th>742</th>\n      <td>wwp80d</td>\n      <td>DLAH</td>\n      <td>-SirSpankalot-</td>\n      <td>Italian sports TV is superior</td>\n      <td></td>\n      <td>543a8e67b9c4e28b4330d4b273b2fe17</td>\n      <td>/r/DLAH/comments/wwp80d/italian_sports_tv_is_s...</td>\n      <td>https://i.redd.it/unosrxq63pj91.jpg</td>\n      <td>543a8e67b9c4e28b4330d4b273b2fe17.jpg</td>\n      <td>D:\\data\\images\\DLAH\\543a8e67b9c4e28b4330d4b273...</td>\n      <td></td>\n      <td>True</td>\n      <td>False</td>\n    </tr>\n    <tr>\n      <th>743</th>\n      <td>zufk0e</td>\n      <td>DLAH</td>\n      <td>mikano96</td>\n      <td>Cutie</td>\n      <td></td>\n      <td>416bea723ad0bef186cbcef0c4a44082</td>\n      <td>/r/DLAH/comments/zufk0e/cutie/</td>\n      <td>https://i.redd.it/ry23hojujx7a1.jpg</td>\n      <td>416bea723ad0bef186cbcef0c4a44082.jpg</td>\n      <td>D:\\data\\images\\DLAH\\416bea723ad0bef186cbcef0c4...</td>\n      <td></td>\n      <td>False</td>\n      <td>False</td>\n    </tr>\n  </tbody>\n</table>\n<p>744 rows × 13 columns</p>\n</div>"
     },
     "metadata": {},
     "output_type": "display_data"
    },
    {
     "name": "stdout",
     "output_type": "stream",
     "text": [
      "CPU times: total: 2min 12s\n",
      "Wall time: 5min 19s\n"
     ]
    }
   ],
   "source": [
    "%%time\n",
    "\n",
    "new_entries_1 = new_entries.copy()\n",
    "\n",
    "tqdm.pandas(desc=\"Fetch-Image\")\n",
    "with ProgressBar():\n",
    "\tnew_entries_1['path'] = new_entries_1.progress_apply(lambda x: fetch_image(x), axis=1)\n",
    "\n",
    "tqdm.pandas(desc=\"Get-Image-Name\")\n",
    "with ProgressBar():\n",
    "\tnew_entries_1['image_name'] = new_entries_1.progress_apply(lambda x: get_image_name(x), axis=1)\n",
    "\n",
    "tqdm.pandas(desc=\"Split-Hash\")\n",
    "with ProgressBar():\n",
    "\tnew_entries_1['hash'] = new_entries_1.progress_apply(lambda x: split_hash(x), axis=1)\n",
    "\n",
    "tqdm.pandas(desc=\"Checking-Exists\")\n",
    "with ProgressBar():\n",
    "\tnew_entries_1['exists'] = new_entries_1.progress_apply(lambda x: exists(x), axis=1)\n",
    "\n",
    "display(new_entries_1)"
   ],
   "metadata": {
    "collapsed": false,
    "ExecuteTime": {
     "start_time": "2023-04-28T18:09:24.623075Z",
     "end_time": "2023-04-28T18:14:44.586435Z"
    }
   }
  },
  {
   "cell_type": "code",
   "execution_count": 17,
   "outputs": [
    {
     "name": "stdout",
     "output_type": "stream",
     "text": [
      "CPU times: total: 2min 9s\n",
      "Wall time: 2min 17s\n"
     ]
    }
   ],
   "source": [
    "%%time\n",
    "\n",
    "blip_0 = BlipCaption(1)\n",
    "blip_1 = BlipCaption(0)"
   ],
   "metadata": {
    "collapsed": false,
    "ExecuteTime": {
     "start_time": "2023-04-28T18:14:44.549758Z",
     "end_time": "2023-04-28T18:17:02.521808Z"
    }
   }
  },
  {
   "cell_type": "code",
   "execution_count": null,
   "outputs": [
    {
     "data": {
      "text/plain": "Caption-Image:   0%|          | 0/744 [00:00<?, ?it/s]",
      "application/vnd.jupyter.widget-view+json": {
       "version_major": 2,
       "version_minor": 0,
       "model_id": "52901f6812eb4686b5ffa3c4003eac21"
      }
     },
     "metadata": {},
     "output_type": "display_data"
    },
    {
     "name": "stderr",
     "output_type": "stream",
     "text": [
      "D:\\workspaces\\General\\venv\\lib\\site-packages\\transformers\\generation\\utils.py:1288: UserWarning: Using `max_length`'s default (20) to control the generation length. This behaviour is deprecated and will be removed from the config in v5 of Transformers -- we recommend using `max_new_tokens` to control the maximum length of the generation.\n",
      "  warnings.warn(\n"
     ]
    }
   ],
   "source": [
    "%%time\n",
    "\n",
    "torch.cuda.empty_cache()\n",
    "new_entries_final = new_entries_1.copy()\n",
    "\n",
    "tqdm.pandas(desc=\"Caption-Image\")\n",
    "with ProgressBar():\n",
    "\tnew_entries_final['caption'] = new_entries_1.progress_apply(lambda x: caption_image(x, [blip_0, blip_1]), axis=1)\n",
    "display(new_entries_final)"
   ],
   "metadata": {
    "collapsed": false,
    "ExecuteTime": {
     "start_time": "2023-04-28T06:52:28.049353Z",
     "end_time": "2023-04-28T06:59:27.504391Z"
    },
    "pycharm": {
     "is_executing": true
    }
   }
  },
  {
   "cell_type": "code",
   "execution_count": null,
   "outputs": [],
   "source": [
    "# extant_data.set_index('id', inplace=True)\n",
    "# extant_data.update(new_entries_final.set_index('id'))\n",
    "# extant_data.reset_index()\n",
    "#\n",
    "# display(extant_data)"
   ],
   "metadata": {
    "collapsed": false,
    "ExecuteTime": {
     "start_time": "2023-04-28T06:59:27.504391Z",
     "end_time": "2023-04-28T06:59:27.569290Z"
    },
    "pycharm": {
     "is_executing": true
    }
   }
  },
  {
   "cell_type": "code",
   "execution_count": null,
   "outputs": [],
   "source": [
    "%%time\n",
    "\n",
    "tqdm.pandas(desc=\"Filtering\")\n",
    "writeable_entries = new_entries_final \\\n",
    "\t.where(~new_entries_final['id'].isin(extant_data['id'])) \\\n",
    "\t.dropna(how='all') \\\n",
    "\t.reset_index() \\\n",
    "\t.drop('index', axis=1)\n",
    "\n",
    "display(writeable_entries)"
   ],
   "metadata": {
    "collapsed": false,
    "ExecuteTime": {
     "start_time": "2023-04-28T06:59:27.520017Z",
     "end_time": "2023-04-28T06:59:27.830074Z"
    },
    "pycharm": {
     "is_executing": true
    }
   }
  },
  {
   "cell_type": "code",
   "execution_count": null,
   "outputs": [],
   "source": [
    "%%time\n",
    "\n",
    "combined_result = pd.concat([extant_data, writeable_entries])\n",
    "\n",
    "display(combined_result)"
   ],
   "metadata": {
    "collapsed": false,
    "ExecuteTime": {
     "start_time": "2023-04-28T06:59:27.619954Z",
     "end_time": "2023-04-28T06:59:27.830074Z"
    },
    "pycharm": {
     "is_executing": true
    }
   }
  },
  {
   "cell_type": "code",
   "execution_count": null,
   "outputs": [],
   "source": [
    "%%time\n",
    "\n",
    "combined_result.reindex()\n",
    "combined_result.to_csv('processed_raw_data.csv', index=False)\n",
    "f = AzureFileStorageAdapter('data').get_file_storage()\n",
    "f.put('processed_raw_data.csv', 'data/processed_raw_data.csv', overwrite=True)"
   ],
   "metadata": {
    "collapsed": false,
    "ExecuteTime": {
     "start_time": "2023-04-28T06:59:27.678338Z",
     "end_time": "2023-04-28T06:59:34.521163Z"
    },
    "pycharm": {
     "is_executing": true
    }
   }
  },
  {
   "cell_type": "code",
   "execution_count": null,
   "outputs": [],
   "source": [
    "%%time\n",
    "\n",
    "final = pd.read_csv(f.open('data/processed_raw_data.csv'))\n",
    "final.to_parquet(\"data/processed_raw_data.parquet\", engine='pyarrow', filesystem=file_system, schema=schema)"
   ],
   "metadata": {
    "collapsed": false,
    "ExecuteTime": {
     "start_time": "2023-04-28T06:59:34.521163Z",
     "end_time": "2023-04-28T06:59:39.194459Z"
    },
    "pycharm": {
     "is_executing": true
    }
   }
  },
  {
   "cell_type": "code",
   "execution_count": null,
   "outputs": [],
   "source": [
    "%%time\n",
    "\n",
    "final = pd.read_parquet(\"data/processed_raw_data.parquet\", engine='pyarrow', filesystem=file_system)\n",
    "display(final)"
   ],
   "metadata": {
    "collapsed": false,
    "ExecuteTime": {
     "start_time": "2023-04-28T06:59:39.194459Z",
     "end_time": "2023-04-28T06:59:39.887669Z"
    },
    "pycharm": {
     "is_executing": true
    }
   }
  }
 ],
 "metadata": {
  "kernelspec": {
   "display_name": "Python 3",
   "language": "python",
   "name": "python3"
  },
  "language_info": {
   "codemirror_mode": {
    "name": "ipython",
    "version": 2
   },
   "file_extension": ".py",
   "mimetype": "text/x-python",
   "name": "python",
   "nbconvert_exporter": "python",
   "pygments_lexer": "ipython2",
   "version": "2.7.6"
  }
 },
 "nbformat": 4,
 "nbformat_minor": 0
}
