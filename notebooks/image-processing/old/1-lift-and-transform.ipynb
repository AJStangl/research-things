{
 "cells": [
  {
   "cell_type": "code",
   "execution_count": 1,
   "metadata": {
    "collapsed": true,
    "ExecuteTime": {
     "end_time": "2023-04-30T18:29:03.356930500Z",
     "start_time": "2023-04-30T18:28:49.504098700Z"
    }
   },
   "outputs": [],
   "source": [
    "\n",
    "import hashlib\n",
    "import os\n",
    "import random\n",
    "import time\n",
    "from datetime import datetime\n",
    "from io import BytesIO\n",
    "\n",
    "import pandas as pd\n",
    "import praw\n",
    "import requests\n",
    "import torch\n",
    "from PIL import Image\n",
    "from dask.diagnostics import ProgressBar\n",
    "from pmaw import PushshiftAPI\n",
    "from tqdm import tqdm\n",
    "\n",
    "from shared_code.utility.schemas.pyarrow_schema import schema\n",
    "from shared_code.utility.spark.set_environ import set_azure_env\n",
    "\n",
    "set_azure_env()\n",
    "\n",
    "from shared_code.utility.storage.azure_file_storage import AzureFileStorageAdapter\n",
    "from shared_code.utility.scripts.blip_caption import BlipCaption\n",
    "\n",
    "pbar = ProgressBar()\n",
    "pbar.register()\n",
    "\n",
    "tqdm.pandas()\n",
    "tqdm.pandas(desc=\"global\")\n",
    "\n",
    "from tqdm.dask import TqdmCallback\n",
    "\n",
    "cb = TqdmCallback(desc=\"global\")\n",
    "cb.register()\n",
    "\n",
    "file_system = AzureFileStorageAdapter('data').get_file_storage()"
   ]
  },
  {
   "cell_type": "code",
   "execution_count": 2,
   "outputs": [
    {
     "name": "stdout",
     "output_type": "stream",
     "text": [
      "CPU times: total: 0 ns\n",
      "Wall time: 0 ns\n"
     ]
    }
   ],
   "source": [
    "%%time\n",
    "\n",
    "subs = [\n",
    "\t\"SFWRedheads\",\n",
    "\t\"sfwpetite\",\n",
    "\t\"SFWNextDoorGirls\",\n",
    "\t\"trippinthroughtime\",\n",
    "\t\"fatsquirrelhate\",\n",
    "\t\"itookapicture\",\n",
    "\t\"memes\",\n",
    "\t\"WhitePeopleTwitter\",\n",
    "\t\"CityPorn\",\n",
    "\t\"EarthPorn\",\n",
    "\t\"spaceporn\",\n",
    "\t\"realasians\",\n",
    "\t\"KoreanHotties\",\n",
    "\t\"prettyasiangirls\",\n",
    "\t\"AsianOfficeLady\",\n",
    "\t\"mildlypenis\",\n",
    "\t\"cougars_and_milfs_sfw\",\n",
    "\t\"AsianInvasion\",\n",
    "\t\"sexygirls\",\n",
    "\t\"PrettyGirls\",\n",
    "\t\"gentlemanboners\",\n",
    "\t\"hotofficegirls\",\n",
    "\t\"tightdresses\",\n",
    "\t\"DLAH\"\n",
    "]\n"
   ],
   "metadata": {
    "collapsed": false,
    "ExecuteTime": {
     "end_time": "2023-04-30T18:29:03.372556100Z",
     "start_time": "2023-04-30T18:29:03.356930500Z"
    }
   }
  },
  {
   "cell_type": "code",
   "execution_count": 3,
   "outputs": [
    {
     "data": {
      "text/plain": "            id         subreddit                author  \\\n0      128z5ns       celebrities           A-Sexy-Name   \n1      11yk8db  prettyasiangirls          MisoShiru520   \n2      11hfioi     KoreanHotties  Majestic_Painter8660   \n3      1000mjs         spaceporn    MorningStar_imangi   \n4      1000qpd         spaceporn    MorningStar_imangi   \n...        ...               ...                   ...   \n41500  131dso7              DLAH        Wallydinger123   \n41501  131eznp              DLAH          Long_dong111   \n41502  131g3am              DLAH       ThrownAwayMiles   \n41503  131jvcx              DLAH              robok212   \n41504  131n2by              DLAH  Dependent_Secret9424   \n\n                               title  \\\n0                       Rachel Weisz   \n1                            Library   \n2                   Underboob bikini   \n3      Northern Lights above Lofoten   \n4                      Viking Lights   \n...                              ...   \n41500                    Happy B Day   \n41501                        Perfect   \n41502             DLAH left or right   \n41503                 Good morning 😍   \n41504           Perfection (Sisters)   \n\n                                                 caption  \\\n0      cars are parked on the side of the road in the...   \n1      blonde woman with blonde hair and tattoos on h...   \n2      a man with a beard and a beard sitting in fron...   \n3      a view of a view of a large green and purple a...   \n4      a scene of a boat is sitting on the shore of a...   \n...                                                  ...   \n41500  there are three women posing for a picture in ...   \n41501  araffe woman in a white dress sitting on a pur...   \n41502  two women in short dresses posing for a pictur...   \n41503      araffe in a pink dress posing on a white wall   \n41504  two women in shorts and sandals taking a selfi...   \n\n                                   hash  \\\n0      f09b1c0c5dea50c934081a04c83d4d33   \n1      9d5b7331b941ecf3fdbc8ad322303825   \n2      a154a56b1b87cf3a0bc93600c86e4585   \n3      2c39ce1290fba541abd0b004b09da6b2   \n4      0f72de47c69ff50eca5fa3990215f4ac   \n...                                 ...   \n41500  ebb4b4a88dc79e2f2f57b10f32bf03c0   \n41501  5c944c6d62b1ae182c5a6a40c64195f4   \n41502  ab1f8fc33c85f4cfce12c810cf22229e   \n41503  01f5058855526ef25888cff88065db4c   \n41504  b162dd1999dbf9ea3c7adccd34624a46   \n\n                                               permalink  \\\n0          /r/celebrities/comments/128z5ns/rachel_weisz/   \n1          /r/prettyasiangirls/comments/11yk8db/library/   \n2      /r/KoreanHotties/comments/11hfioi/underboob_bi...   \n3      /r/spaceporn/comments/1000mjs/northern_lights_...   \n4           /r/spaceporn/comments/1000qpd/viking_lights/   \n...                                                  ...   \n41500              /r/DLAH/comments/131dso7/happy_b_day/   \n41501                  /r/DLAH/comments/131eznp/perfect/   \n41502       /r/DLAH/comments/131g3am/dlah_left_or_right/   \n41503             /r/DLAH/comments/131jvcx/good_morning/   \n41504       /r/DLAH/comments/131n2by/perfection_sisters/   \n\n                              original_url  \\\n0      https://i.redd.it/nv80afddacra1.jpg   \n1      https://i.redd.it/ht4d2wuusapa1.jpg   \n2      https://i.redd.it/cimr17q84jla1.jpg   \n3      https://i.redd.it/7s5aafaqkb9a1.jpg   \n4      https://i.redd.it/abojw7lqlb9a1.jpg   \n...                                    ...   \n41500  https://i.redd.it/36gurz533jwa1.jpg   \n41501  https://i.redd.it/dnbbx4zucjwa1.jpg   \n41502  https://i.redd.it/zpp70oor3lwa1.jpg   \n41503  https://i.redd.it/ozmbfhjv3mwa1.jpg   \n41504  https://i.redd.it/pfg1u0aw1nwa1.jpg   \n\n                                 image_name  \\\n0      f09b1c0c5dea50c934081a04c83d4d33.jpg   \n1      9d5b7331b941ecf3fdbc8ad322303825.jpg   \n2      a154a56b1b87cf3a0bc93600c86e4585.jpg   \n3                         7s5aafaqkb9a1.jpg   \n4                         abojw7lqlb9a1.jpg   \n...                                     ...   \n41500  ebb4b4a88dc79e2f2f57b10f32bf03c0.jpg   \n41501  5c944c6d62b1ae182c5a6a40c64195f4.jpg   \n41502  ab1f8fc33c85f4cfce12c810cf22229e.jpg   \n41503  01f5058855526ef25888cff88065db4c.jpg   \n41504  b162dd1999dbf9ea3c7adccd34624a46.jpg   \n\n                                                    path model  exists  \\\n0      D:\\data\\images\\celebrities\\f09b1c0c5dea50c9340...  None    True   \n1      D:\\data\\images\\prettyasiangirls\\9d5b7331b941ec...  None    True   \n2                               D:\\ImageDoesNotExist.png  None   False   \n3             D:\\data\\images\\spaceporn\\7s5aafaqkb9a1.jpg  None    True   \n4             D:\\data\\images\\spaceporn\\abojw7lqlb9a1.jpg  None    True   \n...                                                  ...   ...     ...   \n41500  D:\\data\\images\\DLAH\\ebb4b4a88dc79e2f2f57b10f32...  None    True   \n41501  D:\\data\\images\\DLAH\\5c944c6d62b1ae182c5a6a40c6...  None    True   \n41502  D:\\data\\images\\DLAH\\ab1f8fc33c85f4cfce12c810cf...  None    True   \n41503  D:\\data\\images\\DLAH\\01f5058855526ef25888cff880...  None    True   \n41504  D:\\data\\images\\DLAH\\b162dd1999dbf9ea3c7adccd34...  None    True   \n\n       curated accept  tags  \n0        False   None  None  \n1        False   None  None  \n2        False   None  None  \n3        False   None  None  \n4        False   None  None  \n...        ...    ...   ...  \n41500    False   None  None  \n41501    False   None  None  \n41502    False   None  None  \n41503    False   None  None  \n41504    False   None  None  \n\n[41505 rows x 15 columns]",
      "text/html": "<div>\n<style scoped>\n    .dataframe tbody tr th:only-of-type {\n        vertical-align: middle;\n    }\n\n    .dataframe tbody tr th {\n        vertical-align: top;\n    }\n\n    .dataframe thead th {\n        text-align: right;\n    }\n</style>\n<table border=\"1\" class=\"dataframe\">\n  <thead>\n    <tr style=\"text-align: right;\">\n      <th></th>\n      <th>id</th>\n      <th>subreddit</th>\n      <th>author</th>\n      <th>title</th>\n      <th>caption</th>\n      <th>hash</th>\n      <th>permalink</th>\n      <th>original_url</th>\n      <th>image_name</th>\n      <th>path</th>\n      <th>model</th>\n      <th>exists</th>\n      <th>curated</th>\n      <th>accept</th>\n      <th>tags</th>\n    </tr>\n  </thead>\n  <tbody>\n    <tr>\n      <th>0</th>\n      <td>128z5ns</td>\n      <td>celebrities</td>\n      <td>A-Sexy-Name</td>\n      <td>Rachel Weisz</td>\n      <td>cars are parked on the side of the road in the...</td>\n      <td>f09b1c0c5dea50c934081a04c83d4d33</td>\n      <td>/r/celebrities/comments/128z5ns/rachel_weisz/</td>\n      <td>https://i.redd.it/nv80afddacra1.jpg</td>\n      <td>f09b1c0c5dea50c934081a04c83d4d33.jpg</td>\n      <td>D:\\data\\images\\celebrities\\f09b1c0c5dea50c9340...</td>\n      <td>None</td>\n      <td>True</td>\n      <td>False</td>\n      <td>None</td>\n      <td>None</td>\n    </tr>\n    <tr>\n      <th>1</th>\n      <td>11yk8db</td>\n      <td>prettyasiangirls</td>\n      <td>MisoShiru520</td>\n      <td>Library</td>\n      <td>blonde woman with blonde hair and tattoos on h...</td>\n      <td>9d5b7331b941ecf3fdbc8ad322303825</td>\n      <td>/r/prettyasiangirls/comments/11yk8db/library/</td>\n      <td>https://i.redd.it/ht4d2wuusapa1.jpg</td>\n      <td>9d5b7331b941ecf3fdbc8ad322303825.jpg</td>\n      <td>D:\\data\\images\\prettyasiangirls\\9d5b7331b941ec...</td>\n      <td>None</td>\n      <td>True</td>\n      <td>False</td>\n      <td>None</td>\n      <td>None</td>\n    </tr>\n    <tr>\n      <th>2</th>\n      <td>11hfioi</td>\n      <td>KoreanHotties</td>\n      <td>Majestic_Painter8660</td>\n      <td>Underboob bikini</td>\n      <td>a man with a beard and a beard sitting in fron...</td>\n      <td>a154a56b1b87cf3a0bc93600c86e4585</td>\n      <td>/r/KoreanHotties/comments/11hfioi/underboob_bi...</td>\n      <td>https://i.redd.it/cimr17q84jla1.jpg</td>\n      <td>a154a56b1b87cf3a0bc93600c86e4585.jpg</td>\n      <td>D:\\ImageDoesNotExist.png</td>\n      <td>None</td>\n      <td>False</td>\n      <td>False</td>\n      <td>None</td>\n      <td>None</td>\n    </tr>\n    <tr>\n      <th>3</th>\n      <td>1000mjs</td>\n      <td>spaceporn</td>\n      <td>MorningStar_imangi</td>\n      <td>Northern Lights above Lofoten</td>\n      <td>a view of a view of a large green and purple a...</td>\n      <td>2c39ce1290fba541abd0b004b09da6b2</td>\n      <td>/r/spaceporn/comments/1000mjs/northern_lights_...</td>\n      <td>https://i.redd.it/7s5aafaqkb9a1.jpg</td>\n      <td>7s5aafaqkb9a1.jpg</td>\n      <td>D:\\data\\images\\spaceporn\\7s5aafaqkb9a1.jpg</td>\n      <td>None</td>\n      <td>True</td>\n      <td>False</td>\n      <td>None</td>\n      <td>None</td>\n    </tr>\n    <tr>\n      <th>4</th>\n      <td>1000qpd</td>\n      <td>spaceporn</td>\n      <td>MorningStar_imangi</td>\n      <td>Viking Lights</td>\n      <td>a scene of a boat is sitting on the shore of a...</td>\n      <td>0f72de47c69ff50eca5fa3990215f4ac</td>\n      <td>/r/spaceporn/comments/1000qpd/viking_lights/</td>\n      <td>https://i.redd.it/abojw7lqlb9a1.jpg</td>\n      <td>abojw7lqlb9a1.jpg</td>\n      <td>D:\\data\\images\\spaceporn\\abojw7lqlb9a1.jpg</td>\n      <td>None</td>\n      <td>True</td>\n      <td>False</td>\n      <td>None</td>\n      <td>None</td>\n    </tr>\n    <tr>\n      <th>...</th>\n      <td>...</td>\n      <td>...</td>\n      <td>...</td>\n      <td>...</td>\n      <td>...</td>\n      <td>...</td>\n      <td>...</td>\n      <td>...</td>\n      <td>...</td>\n      <td>...</td>\n      <td>...</td>\n      <td>...</td>\n      <td>...</td>\n      <td>...</td>\n      <td>...</td>\n    </tr>\n    <tr>\n      <th>41500</th>\n      <td>131dso7</td>\n      <td>DLAH</td>\n      <td>Wallydinger123</td>\n      <td>Happy B Day</td>\n      <td>there are three women posing for a picture in ...</td>\n      <td>ebb4b4a88dc79e2f2f57b10f32bf03c0</td>\n      <td>/r/DLAH/comments/131dso7/happy_b_day/</td>\n      <td>https://i.redd.it/36gurz533jwa1.jpg</td>\n      <td>ebb4b4a88dc79e2f2f57b10f32bf03c0.jpg</td>\n      <td>D:\\data\\images\\DLAH\\ebb4b4a88dc79e2f2f57b10f32...</td>\n      <td>None</td>\n      <td>True</td>\n      <td>False</td>\n      <td>None</td>\n      <td>None</td>\n    </tr>\n    <tr>\n      <th>41501</th>\n      <td>131eznp</td>\n      <td>DLAH</td>\n      <td>Long_dong111</td>\n      <td>Perfect</td>\n      <td>araffe woman in a white dress sitting on a pur...</td>\n      <td>5c944c6d62b1ae182c5a6a40c64195f4</td>\n      <td>/r/DLAH/comments/131eznp/perfect/</td>\n      <td>https://i.redd.it/dnbbx4zucjwa1.jpg</td>\n      <td>5c944c6d62b1ae182c5a6a40c64195f4.jpg</td>\n      <td>D:\\data\\images\\DLAH\\5c944c6d62b1ae182c5a6a40c6...</td>\n      <td>None</td>\n      <td>True</td>\n      <td>False</td>\n      <td>None</td>\n      <td>None</td>\n    </tr>\n    <tr>\n      <th>41502</th>\n      <td>131g3am</td>\n      <td>DLAH</td>\n      <td>ThrownAwayMiles</td>\n      <td>DLAH left or right</td>\n      <td>two women in short dresses posing for a pictur...</td>\n      <td>ab1f8fc33c85f4cfce12c810cf22229e</td>\n      <td>/r/DLAH/comments/131g3am/dlah_left_or_right/</td>\n      <td>https://i.redd.it/zpp70oor3lwa1.jpg</td>\n      <td>ab1f8fc33c85f4cfce12c810cf22229e.jpg</td>\n      <td>D:\\data\\images\\DLAH\\ab1f8fc33c85f4cfce12c810cf...</td>\n      <td>None</td>\n      <td>True</td>\n      <td>False</td>\n      <td>None</td>\n      <td>None</td>\n    </tr>\n    <tr>\n      <th>41503</th>\n      <td>131jvcx</td>\n      <td>DLAH</td>\n      <td>robok212</td>\n      <td>Good morning 😍</td>\n      <td>araffe in a pink dress posing on a white wall</td>\n      <td>01f5058855526ef25888cff88065db4c</td>\n      <td>/r/DLAH/comments/131jvcx/good_morning/</td>\n      <td>https://i.redd.it/ozmbfhjv3mwa1.jpg</td>\n      <td>01f5058855526ef25888cff88065db4c.jpg</td>\n      <td>D:\\data\\images\\DLAH\\01f5058855526ef25888cff880...</td>\n      <td>None</td>\n      <td>True</td>\n      <td>False</td>\n      <td>None</td>\n      <td>None</td>\n    </tr>\n    <tr>\n      <th>41504</th>\n      <td>131n2by</td>\n      <td>DLAH</td>\n      <td>Dependent_Secret9424</td>\n      <td>Perfection (Sisters)</td>\n      <td>two women in shorts and sandals taking a selfi...</td>\n      <td>b162dd1999dbf9ea3c7adccd34624a46</td>\n      <td>/r/DLAH/comments/131n2by/perfection_sisters/</td>\n      <td>https://i.redd.it/pfg1u0aw1nwa1.jpg</td>\n      <td>b162dd1999dbf9ea3c7adccd34624a46.jpg</td>\n      <td>D:\\data\\images\\DLAH\\b162dd1999dbf9ea3c7adccd34...</td>\n      <td>None</td>\n      <td>True</td>\n      <td>False</td>\n      <td>None</td>\n      <td>None</td>\n    </tr>\n  </tbody>\n</table>\n<p>41505 rows × 15 columns</p>\n</div>"
     },
     "metadata": {},
     "output_type": "display_data"
    },
    {
     "name": "stdout",
     "output_type": "stream",
     "text": [
      "CPU times: total: 344 ms\n",
      "Wall time: 1.34 s\n"
     ]
    }
   ],
   "source": [
    "%%time\n",
    "\n",
    "extant_data = pd.read_parquet(\"data/processed_raw_data.parquet\", engine='pyarrow', filesystem=file_system, schema=schema)\n",
    "display(extant_data)"
   ],
   "metadata": {
    "collapsed": false,
    "ExecuteTime": {
     "end_time": "2023-04-30T18:29:04.840442700Z",
     "start_time": "2023-04-30T18:29:03.372556100Z"
    }
   }
  },
  {
   "cell_type": "code",
   "execution_count": 4,
   "outputs": [
    {
     "name": "stdout",
     "output_type": "stream",
     "text": [
      "CPU times: total: 31.2 ms\n",
      "Wall time: 139 ms\n"
     ]
    },
    {
     "name": "stderr",
     "output_type": "stream",
     "text": [
      "Version 7.6.1 of praw is outdated. Version 7.7.0 was released Saturday February 25, 2023.\n"
     ]
    }
   ],
   "source": [
    "%%time\n",
    "\n",
    "reddit: praw.Reddit = praw.Reddit(client_id='5hVavL0PIRyM_1JSvqT6UQ', client_secret='BjD2kS3WNLnJc59RKY-JJUuc_Z9-JA', user_agent='script:%(bot_name)s:v%(bot_version)s (by /u/%(bot_author)s)')\n",
    "api: PushshiftAPI = PushshiftAPI(praw=reddit, num_workers=12)"
   ],
   "metadata": {
    "collapsed": false,
    "ExecuteTime": {
     "end_time": "2023-04-30T18:29:04.965467900Z",
     "start_time": "2023-04-30T18:29:04.840442700Z"
    }
   }
  },
  {
   "cell_type": "code",
   "execution_count": 5,
   "outputs": [
    {
     "name": "stdout",
     "output_type": "stream",
     "text": [
      "CPU times: total: 0 ns\n",
      "Wall time: 0 ns\n"
     ]
    }
   ],
   "source": [
    "%%time\n",
    "\n",
    "from dask.callbacks import Callback\n",
    "from tqdm.autonotebook import tqdm\n",
    "\n",
    "\n",
    "class TQDMDaskProgressBar(Callback, object):\n",
    "\t\"\"\"\n",
    "    A tqdm progress bar for dask.\n",
    "    Usage:\n",
    "        ```\n",
    "        with TQDMDaskProgressBar():\n",
    "            da.compute()\n",
    "        ```\n",
    "    Author : wassname\n",
    "    Source : https://gist.github.com/wassname/1837d0365247430e02abda41f0e7f184\n",
    "    See: http://dask.pydata.org/en/latest/diagnostics-local.html?highlight=progress\n",
    "    \"\"\"\n",
    "\n",
    "\tdef __init__(self, start=None, start_state=None, pretask=None, posttask=None, finish=None, **kwargs):\n",
    "\t\tsuper(TQDMDaskProgressBar, self).__init__(\n",
    "\t\t\tstart=start,\n",
    "\t\t\tstart_state=start_state,\n",
    "\t\t\tpretask=pretask,\n",
    "\t\t\tposttask=posttask,\n",
    "\t\t\tfinish=finish,\n",
    "\t\t)\n",
    "\t\tself.tqdm_args = kwargs\n",
    "\t\tself.states = [\"ready\", \"waiting\", \"running\", \"finished\"]\n",
    "\n",
    "\tdef _start_state(self, dsk, state):\n",
    "\t\tself._tqdm = tqdm(total=sum(len(state[k]) for k in self.states), **self.tqdm_args)\n",
    "\n",
    "\tdef _posttask(self, key, result, dsk, state, worker_id):\n",
    "\t\tself._tqdm.update(1)\n",
    "\n",
    "\tdef _finish(self, dsk, state, errored):\n",
    "\t\tself._tqdm.close()"
   ],
   "metadata": {
    "collapsed": false,
    "ExecuteTime": {
     "end_time": "2023-04-30T18:29:04.965467900Z",
     "start_time": "2023-04-30T18:29:04.918588600Z"
    }
   }
  },
  {
   "cell_type": "code",
   "execution_count": 6,
   "outputs": [],
   "source": [
    "def filter_by_image_post(item) -> bool:\n",
    "\treturn not (item['selftext'].__contains__('[removed]') or item['selftext'].__contains__('[deleted]') and not item[\n",
    "\t\t'url'].endswith('.jpg'))"
   ],
   "metadata": {
    "collapsed": false,
    "ExecuteTime": {
     "end_time": "2023-04-30T18:29:05.005130800Z",
     "start_time": "2023-04-30T18:29:04.934214700Z"
    }
   }
  },
  {
   "cell_type": "code",
   "execution_count": 7,
   "outputs": [],
   "source": [
    "def fetch_image(x: object) -> object:\n",
    "\ttry:\n",
    "\t\ttime.sleep(0.1)\n",
    "\t\turl = x['original_url']\n",
    "\t\tsubreddit = x['subreddit']\n",
    "\t\tresponse = requests.get(url)\n",
    "\t\tmd5 = hashlib.md5(response.content).hexdigest()\n",
    "\t\tos.makedirs(f\"D:\\\\data\\\\images\\\\{subreddit}\", exist_ok=True)\n",
    "\t\tout_path = f\"D:\\\\data\\\\images\\\\{subreddit}\\\\{md5}.jpg\"\n",
    "\n",
    "\t\tif os.path.exists(out_path):\n",
    "\t\t\treturn out_path\n",
    "\n",
    "\t\tif md5 in list(extant_data['hash']):\n",
    "\t\t\treturn out_path\n",
    "\n",
    "\t\tif md5 != \"f17b01901c752c1bb04928131d1661af\" or md5 != \"d835884373f4d6c8f24742ceabe74946\":\n",
    "\t\t\traw_image = Image.open(BytesIO(response.content))\n",
    "\t\t\traw_image.save(out_path)\n",
    "\t\t\traw_image.close()\n",
    "\t\t\treturn out_path\n",
    "\t\telse:\n",
    "\t\t\treturn \"\"\n",
    "\texcept Exception as e:\n",
    "\t\tprint(e)\n",
    "\t\treturn \"\""
   ],
   "metadata": {
    "collapsed": false,
    "ExecuteTime": {
     "end_time": "2023-04-30T18:29:05.006143700Z",
     "start_time": "2023-04-30T18:29:04.949839Z"
    }
   }
  },
  {
   "cell_type": "code",
   "execution_count": 8,
   "outputs": [],
   "source": [
    "def exists(x: object) -> bool:\n",
    "\ttry:\n",
    "\t\timage_path = os.path.exists(x['path'])\n",
    "\t\treturn image_path\n",
    "\texcept Exception as e:\n",
    "\t\tprint(e)\n",
    "\t\treturn False"
   ],
   "metadata": {
    "collapsed": false,
    "ExecuteTime": {
     "end_time": "2023-04-30T18:29:05.009278800Z",
     "start_time": "2023-04-30T18:29:04.965467900Z"
    }
   }
  },
  {
   "cell_type": "code",
   "execution_count": 9,
   "outputs": [],
   "source": [
    "def split_hash(x: object) -> str:\n",
    "\ttry:\n",
    "\t\tname = x['image_name']\n",
    "\t\treturn name.split('.')[0]\n",
    "\texcept Exception as e:\n",
    "\t\tprint(e)\n",
    "\t\treturn \"\""
   ],
   "metadata": {
    "collapsed": false,
    "ExecuteTime": {
     "end_time": "2023-04-30T18:29:05.009278800Z",
     "start_time": "2023-04-30T18:29:04.981117800Z"
    }
   }
  },
  {
   "cell_type": "code",
   "execution_count": 10,
   "outputs": [],
   "source": [
    "def caption_image(x: object, blip_captioning_list: [BlipCaption, BlipCaption]) -> str:\n",
    "\ttry:\n",
    "\t\tpath = x['path']\n",
    "\t\texists_image = bool(x['exists'])\n",
    "\t\tresulting_caption = x['caption']\n",
    "\n",
    "\t\tif not os.path.exists(path):\n",
    "\t\t\treturn \"\"\n",
    "\n",
    "\t\tif not exists_image:\n",
    "\t\t\treturn \"\"\n",
    "\n",
    "\t\tif resulting_caption == None:\n",
    "\t\t\tpass\n",
    "\t\tif resulting_caption is None:\n",
    "\t\t\tpass\n",
    "\t\telse:\n",
    "\t\t\tif len(resulting_caption) > 6:\n",
    "\t\t\t\treturn resulting_caption\n",
    "\t\t\tif resulting_caption != \"\":\n",
    "\t\t\t\treturn resulting_caption\n",
    "\t\t\telse:\n",
    "\t\t\t\tpass\n",
    "\n",
    "\t\tblip_captioning = random.choice(blip_captioning_list)\n",
    "\n",
    "\t\tresulting_caption = blip_captioning.caption_image(path)\n",
    "\n",
    "\t\treturn resulting_caption\n",
    "\n",
    "\texcept Exception as e:\n",
    "\t\tprint(e)\n",
    "\t\treturn \"\"\n",
    "\tfinally:\n",
    "\t\tpass"
   ],
   "metadata": {
    "collapsed": false,
    "ExecuteTime": {
     "end_time": "2023-04-30T18:29:05.059289600Z",
     "start_time": "2023-04-30T18:29:05.006143700Z"
    }
   }
  },
  {
   "cell_type": "code",
   "execution_count": 11,
   "outputs": [],
   "source": [
    "def get_image_name(x: object) -> str:\n",
    "\ttry:\n",
    "\t\tpath = x['path']\n",
    "\t\tif path == \"\":\n",
    "\t\t\treturn \"\"\n",
    "\t\treturn os.path.basename(path)\n",
    "\texcept Exception as e:\n",
    "\t\tprint(e)\n",
    "\t\treturn \"\""
   ],
   "metadata": {
    "collapsed": false,
    "ExecuteTime": {
     "end_time": "2023-04-30T18:29:05.074888900Z",
     "start_time": "2023-04-30T18:29:05.017473900Z"
    }
   }
  },
  {
   "cell_type": "code",
   "execution_count": 12,
   "outputs": [
    {
     "data": {
      "text/plain": "Creating subs:   0%|          | 0/24 [00:00<?, ?it/s]",
      "application/vnd.jupyter.widget-view+json": {
       "version_major": 2,
       "version_minor": 0,
       "model_id": "a49d7a7868e14e0e91521d13dfdbfcda"
      }
     },
     "metadata": {},
     "output_type": "display_data"
    }
   ],
   "source": [
    "from praw.models import ListingGenerator\n",
    "import pandas as pd\n",
    "\n",
    "posts = []\n",
    "for sub in tqdm(subs, total=len(subs), desc=\"Creating subs\"):\n",
    "\tif not os.path.exists(f\"{sub}\"):\n",
    "\t\tos.makedirs(f\"{sub}\")\n",
    "\texisting_data = pd.read_parquet(f\"{sub}\")\n",
    "\tos.makedirs(f\"{sub}\", exist_ok=True)"
   ],
   "metadata": {
    "collapsed": false,
    "ExecuteTime": {
     "end_time": "2023-04-30T18:30:09.351932400Z",
     "start_time": "2023-04-30T18:29:05.027993300Z"
    }
   }
  },
  {
   "cell_type": "code",
   "execution_count": null,
   "outputs": [
    {
     "data": {
      "text/plain": "all:   0%|          | 0/24 [00:00<?, ?it/s]",
      "application/vnd.jupyter.widget-view+json": {
       "version_major": 2,
       "version_minor": 0,
       "model_id": "728f237054ac486d833b624c99b94242"
      }
     },
     "metadata": {},
     "output_type": "display_data"
    },
    {
     "data": {
      "text/plain": "Posts - SFWRedheads - all:   0%|          | 0/100 [00:00<?, ?it/s]",
      "application/vnd.jupyter.widget-view+json": {
       "version_major": 2,
       "version_minor": 0,
       "model_id": "db7f27d1fdbd4b228c2f120987e47fb7"
      }
     },
     "metadata": {},
     "output_type": "display_data"
    },
    {
     "data": {
      "text/plain": "Posts - sfwpetite - all:   0%|          | 0/100 [00:00<?, ?it/s]",
      "application/vnd.jupyter.widget-view+json": {
       "version_major": 2,
       "version_minor": 0,
       "model_id": "dd820bb14735407aae4cd0a060d75d32"
      }
     },
     "metadata": {},
     "output_type": "display_data"
    },
    {
     "data": {
      "text/plain": "Posts - SFWNextDoorGirls - all:   0%|          | 0/100 [00:00<?, ?it/s]",
      "application/vnd.jupyter.widget-view+json": {
       "version_major": 2,
       "version_minor": 0,
       "model_id": "e5cf5db89da1454c9415689f7c23277e"
      }
     },
     "metadata": {},
     "output_type": "display_data"
    },
    {
     "data": {
      "text/plain": "Posts - trippinthroughtime - all:   0%|          | 0/100 [00:00<?, ?it/s]",
      "application/vnd.jupyter.widget-view+json": {
       "version_major": 2,
       "version_minor": 0,
       "model_id": "cc6eed1fb4c7449fb4686326195184b7"
      }
     },
     "metadata": {},
     "output_type": "display_data"
    },
    {
     "data": {
      "text/plain": "Posts - fatsquirrelhate - all:   0%|          | 0/100 [00:00<?, ?it/s]",
      "application/vnd.jupyter.widget-view+json": {
       "version_major": 2,
       "version_minor": 0,
       "model_id": "2f62378d22144841912902f32e25209d"
      }
     },
     "metadata": {},
     "output_type": "display_data"
    },
    {
     "data": {
      "text/plain": "Posts - itookapicture - all:   0%|          | 0/100 [00:00<?, ?it/s]",
      "application/vnd.jupyter.widget-view+json": {
       "version_major": 2,
       "version_minor": 0,
       "model_id": "4126b3c0d84e42629790a036b086dd00"
      }
     },
     "metadata": {},
     "output_type": "display_data"
    },
    {
     "data": {
      "text/plain": "Posts - memes - all:   0%|          | 0/100 [00:00<?, ?it/s]",
      "application/vnd.jupyter.widget-view+json": {
       "version_major": 2,
       "version_minor": 0,
       "model_id": "9e5d6ca4c77e44188072e24f37507ead"
      }
     },
     "metadata": {},
     "output_type": "display_data"
    }
   ],
   "source": [
    "for time_filter in ['all', 'year', 'month', 'week', 'day']:\n",
    "\tfor sub in tqdm(subs, desc=f\"{time_filter}\", total=len(subs)):\n",
    "\t\texisting_data = pd.read_parquet(f\"{sub}\")\n",
    "\t\ttry:\n",
    "\t\t\tsubreddit_stream: ListingGenerator = reddit.subreddit(display_name=sub).top(limit=100, time_filter=time_filter)\n",
    "\t\t\tsubreddit_stream = list(subreddit_stream)\n",
    "\t\t\tfor submission in tqdm(subreddit_stream, total=len(subreddit_stream), desc=f\"Posts - {sub} - {time_filter}\"):\n",
    "\t\t\t\tif submission is None:\n",
    "\t\t\t\t\tcontinue\n",
    "\t\t\t\tif not os.path.exists(f\"{sub}\"):\n",
    "\t\t\t\t\tos.makedirs(f\"{sub}\")\n",
    "\t\t\t\telse:\n",
    "\t\t\t\t\tif submission.id in list(extant_data['id']):\n",
    "\t\t\t\t\t\tcontinue\n",
    "\t\t\t\ttry:\n",
    "\t\t\t\t\tauthor_name = 'Unknown'\n",
    "\t\t\t\t\tsubreddit_name = sub\n",
    "\t\t\t\t\ttry:\n",
    "\t\t\t\t\t\tauthor_name = submission.author.name\n",
    "\t\t\t\t\texcept Exception as e:\n",
    "\t\t\t\t\t\tauthor_name = 'Unknown'\n",
    "\t\t\t\t\t\tpass\n",
    "\t\t\t\t\tp = {\n",
    "\t\t\t\t\t\t'id': submission.id,\n",
    "\t\t\t\t\t\t'subreddit': subreddit_name,\n",
    "\t\t\t\t\t\t'author': author_name,\n",
    "\t\t\t\t\t\t'title': submission.title,\n",
    "\t\t\t\t\t\t'caption': '',\n",
    "\t\t\t\t\t\t'hash': '',\n",
    "\t\t\t\t\t\t'permalink': submission.permalink,\n",
    "\t\t\t\t\t\t'original_url': submission.url,\n",
    "\t\t\t\t\t\t'image_name': '',\n",
    "\t\t\t\t\t\t'path': '',\n",
    "\t\t\t\t\t\t'thumbnail_path': '',\n",
    "\t\t\t\t\t\t'exists': False,\n",
    "\t\t\t\t\t\t'curated': False\n",
    "\t\t\t\t\t}\n",
    "\t\t\t\t\tpd.DataFrame([p]).to_parquet(f\"{sub}/{submission.id}-{time_filter}.parquet\")\n",
    "\t\t\t\texcept Exception as e:\n",
    "\t\t\t\t\t# print(e)\n",
    "\t\t\t\t\tcontinue\n",
    "\t\texcept Exception as e:\n",
    "\t\t\tprint(e)\n",
    "\t\t\tcontinue"
   ],
   "metadata": {
    "collapsed": false,
    "is_executing": true,
    "ExecuteTime": {
     "start_time": "2023-04-30T18:30:09.356932500Z"
    }
   }
  },
  {
   "cell_type": "code",
   "execution_count": null,
   "outputs": [],
   "source": [
    "%%time\n",
    "dfs = pd.DataFrame({}, columns=schema.names)\n",
    "data = []\n",
    "for sub in subs:\n",
    "\tdf = pd.read_parquet(f\"{sub}\")\n",
    "\tinitial = pd.DataFrame({}, columns=schema.names)\n",
    "\tinitial.id = df.id\n",
    "\tinitial.subreddit = df.subreddit\n",
    "\tinitial.author = df.author\n",
    "\tinitial.title = df.title\n",
    "\tinitial.caption = \"\"\n",
    "\tinitial.hash = \"\"\n",
    "\tinitial.permalink = df.permalink\n",
    "\tinitial.original_url = df.original_url\n",
    "\tinitial.image_name = \"\"\n",
    "\tinitial.path = \"\"\n",
    "\tinitial.thumbnail_path = \"\"\n",
    "\tinitial.exists = False\n",
    "\tinitial.curated = False\n",
    "\tinitial.accept = False\n",
    "\tinitial.tags = []\n",
    "\n",
    "\trecords = df.to_dict(orient='records')\n",
    "\n",
    "\tdata.extend(records)\n",
    "\n",
    "initial = pd.DataFrame(data=data, columns=schema.names)\n",
    "filtered_initial = initial.where(initial['original_url'].str.endswith('.jpg')).dropna(how='all').reset_index().drop('index', axis=1)\n",
    "\n",
    "display(filtered_initial)"
   ],
   "metadata": {
    "collapsed": false,
    "is_executing": true
   }
  },
  {
   "cell_type": "code",
   "execution_count": null,
   "outputs": [],
   "source": [
    "%%time\n",
    "\n",
    "tqdm.pandas(desc=\"Filtering Exists For Id List\")\n",
    "with ProgressBar():\n",
    "\textant = extant_data.where((extant_data['exists'].isin([True]))).dropna(how='all').reset_index().drop('index', axis=1)\n",
    "\n",
    "extant_id_list = list(extant.id)\n",
    "\n",
    "tqdm.pandas(desc=\"Filtering Based on Id\")\n",
    "with ProgressBar():\n",
    "\tnew_entries = filtered_initial.where((~filtered_initial['id'].isin(extant_id_list))).dropna(\n",
    "\t\thow='all').reset_index().drop('index', axis=1)\n",
    "\n",
    "display(new_entries)\n",
    "\n",
    "new_images_by_sub = new_entries.groupby('subreddit')\n",
    "\n",
    "new_images_by_sub.count().plot.bar(y='id')"
   ],
   "metadata": {
    "collapsed": false,
    "is_executing": true
   }
  },
  {
   "cell_type": "code",
   "execution_count": null,
   "outputs": [],
   "source": [
    "%%time\n",
    "\n",
    "new_entries_1 = new_entries.copy()\n",
    "\n",
    "tqdm.pandas(desc=\"Fetch-Image\")\n",
    "with ProgressBar():\n",
    "\tnew_entries_1['path'] = new_entries_1.progress_apply(lambda x: fetch_image(x), axis=1)\n",
    "\n",
    "tqdm.pandas(desc=\"Get-Image-Name\")\n",
    "with ProgressBar():\n",
    "\tnew_entries_1['image_name'] = new_entries_1.progress_apply(lambda x: get_image_name(x), axis=1)\n",
    "\n",
    "tqdm.pandas(desc=\"Split-Hash\")\n",
    "with ProgressBar():\n",
    "\tnew_entries_1['hash'] = new_entries_1.progress_apply(lambda x: split_hash(x), axis=1)\n",
    "\n",
    "tqdm.pandas(desc=\"Checking-Exists\")\n",
    "with ProgressBar():\n",
    "\tnew_entries_1['exists'] = new_entries_1.progress_apply(lambda x: exists(x), axis=1)\n",
    "\n",
    "display(new_entries_1)"
   ],
   "metadata": {
    "collapsed": false,
    "is_executing": true
   }
  },
  {
   "cell_type": "code",
   "execution_count": null,
   "outputs": [],
   "source": [
    "%%time\n",
    "\n",
    "blip_0 = BlipCaption(1)\n",
    "blip_1 = BlipCaption(0)"
   ],
   "metadata": {
    "collapsed": false,
    "is_executing": true
   }
  },
  {
   "cell_type": "code",
   "execution_count": null,
   "outputs": [],
   "source": [
    "%%time\n",
    "\n",
    "torch.cuda.empty_cache()\n",
    "new_entries_final = new_entries_1.copy()\n",
    "\n",
    "tqdm.pandas(desc=\"Caption-Image\")\n",
    "with ProgressBar():\n",
    "\tnew_entries_final['caption'] = new_entries_1.progress_apply(lambda x: caption_image(x, [blip_0, blip_1]), axis=1)\n",
    "display(new_entries_final)"
   ],
   "metadata": {
    "collapsed": false,
    "pycharm": {
     "is_executing": true
    },
    "is_executing": true
   }
  },
  {
   "cell_type": "code",
   "execution_count": null,
   "outputs": [],
   "source": [
    "# extant_data.set_index('id', inplace=True)\n",
    "# extant_data.update(new_entries_final.set_index('id'))\n",
    "# extant_data.reset_index()\n",
    "#\n",
    "# display(extant_data)"
   ],
   "metadata": {
    "collapsed": false,
    "pycharm": {
     "is_executing": true
    },
    "is_executing": true
   }
  },
  {
   "cell_type": "code",
   "execution_count": null,
   "outputs": [],
   "source": [
    "%%time\n",
    "\n",
    "tqdm.pandas(desc=\"Filtering\")\n",
    "writeable_entries = new_entries_final \\\n",
    "\t.where(~new_entries_final['id'].isin(extant_data['id'])) \\\n",
    "\t.dropna(how='all') \\\n",
    "\t.reset_index() \\\n",
    "\t.drop('index', axis=1)\n",
    "\n",
    "display(writeable_entries)"
   ],
   "metadata": {
    "collapsed": false,
    "pycharm": {
     "is_executing": true
    },
    "is_executing": true
   }
  },
  {
   "cell_type": "code",
   "execution_count": null,
   "outputs": [],
   "source": [
    "%%time\n",
    "\n",
    "combined_result = pd.concat([extant_data, writeable_entries])\n",
    "\n",
    "display(combined_result)"
   ],
   "metadata": {
    "collapsed": false,
    "pycharm": {
     "is_executing": true
    },
    "is_executing": true
   }
  },
  {
   "cell_type": "code",
   "execution_count": null,
   "outputs": [],
   "source": [
    "%%time\n",
    "\n",
    "combined_result.reindex()\n",
    "combined_result.to_csv('processed_raw_data.csv', index=False)\n",
    "f = AzureFileStorageAdapter('data').get_file_storage()\n",
    "f.put('processed_raw_data.csv', 'data/processed_raw_data.csv', overwrite=True)"
   ],
   "metadata": {
    "collapsed": false,
    "pycharm": {
     "is_executing": true
    },
    "is_executing": true
   }
  },
  {
   "cell_type": "code",
   "execution_count": null,
   "outputs": [],
   "source": [
    "%%time\n",
    "\n",
    "final = pd.read_csv(f.open('data/processed_raw_data.csv'))\n",
    "final.to_parquet(\"data/processed_raw_data.parquet\", engine='pyarrow', filesystem=file_system, schema=schema)"
   ],
   "metadata": {
    "collapsed": false,
    "pycharm": {
     "is_executing": true
    },
    "is_executing": true
   }
  },
  {
   "cell_type": "code",
   "execution_count": null,
   "outputs": [],
   "source": [
    "%%time\n",
    "\n",
    "final = pd.read_parquet(\"data/processed_raw_data.parquet\", engine='pyarrow', filesystem=file_system)\n",
    "display(final)"
   ],
   "metadata": {
    "collapsed": false,
    "pycharm": {
     "is_executing": true
    },
    "is_executing": true
   }
  }
 ],
 "metadata": {
  "kernelspec": {
   "display_name": "Python 3",
   "language": "python",
   "name": "python3"
  },
  "language_info": {
   "codemirror_mode": {
    "name": "ipython",
    "version": 2
   },
   "file_extension": ".py",
   "mimetype": "text/x-python",
   "name": "python",
   "nbconvert_exporter": "python",
   "pygments_lexer": "ipython2",
   "version": "2.7.6"
  }
 },
 "nbformat": 4,
 "nbformat_minor": 0
}
