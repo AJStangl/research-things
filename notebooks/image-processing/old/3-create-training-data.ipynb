{
 "cells": [
  {
   "cell_type": "code",
   "execution_count": 1,
   "outputs": [
    {
     "name": "stdout",
     "output_type": "stream",
     "text": [
      "CPU times: total: 4.44 s\n",
      "Wall time: 10.2 s\n"
     ]
    }
   ],
   "source": [
    "%%time\n",
    "\n",
    "import os.path\n",
    "import dask.dataframe as dd\n",
    "import pandas as pd\n",
    "from dask.diagnostics import ProgressBar\n",
    "from tqdm import tqdm\n",
    "from tqdm.dask import TqdmCallback\n",
    "\n",
    "from shared_code.utility.spark.set_environ import set_azure_env\n",
    "\n",
    "set_azure_env()\n",
    "\n",
    "from shared_code.utility.storage.azure_file_storage import AzureFileStorageAdapter\n",
    "\n",
    "fs_adapter = AzureFileStorageAdapter('data')\n",
    "file_system = fs_adapter.get_file_storage()"
   ],
   "metadata": {
    "collapsed": false,
    "ExecuteTime": {
     "start_time": "2023-04-02T16:23:56.059828Z",
     "end_time": "2023-04-02T16:24:06.377220Z"
    }
   }
  },
  {
   "cell_type": "code",
   "execution_count": 2,
   "outputs": [],
   "source": [
    "from typing import List\n",
    "from dataclasses import dataclass\n",
    "\n",
    "\n",
    "@dataclass\n",
    "class DataSources:\n",
    "\tname: str\n",
    "\tdata: List[str]\n",
    "\n",
    "\t@staticmethod\n",
    "\tdef from_dict(obj: dict) -> 'DataSources':\n",
    "\t\t_name = obj.get(\"name\")\n",
    "\t\t_data = [x for x in obj.get(\"data\")]\n",
    "\t\treturn DataSources(_name, _data)"
   ],
   "metadata": {
    "collapsed": false,
    "ExecuteTime": {
     "start_time": "2023-04-02T16:24:06.392844Z",
     "end_time": "2023-04-02T16:24:06.487027Z"
    }
   }
  },
  {
   "cell_type": "code",
   "execution_count": 3,
   "outputs": [],
   "source": [
    "def add_source(x: object, source_list) -> str:\n",
    "\tfor source in source_list:\n",
    "\t\tif x['subreddit'] in source['data']:\n",
    "\t\t\treturn source['name']\n",
    "\treturn \"\""
   ],
   "metadata": {
    "collapsed": false,
    "ExecuteTime": {
     "start_time": "2023-04-02T16:24:06.408474Z",
     "end_time": "2023-04-02T16:24:06.518273Z"
    }
   }
  },
  {
   "cell_type": "code",
   "execution_count": 4,
   "outputs": [],
   "source": [
    "def add_compressed_data(x: object) -> str:\n",
    "\ttry:\n",
    "\t\tdata = open(x['path'], 'rb').read()\n",
    "\t\treturn data\n",
    "\texcept Exception as e:\n",
    "\t\tprint(e)\n",
    "\t\treturn \"\""
   ],
   "metadata": {
    "collapsed": false,
    "ExecuteTime": {
     "start_time": "2023-04-02T16:24:06.439722Z",
     "end_time": "2023-04-02T16:24:06.518273Z"
    }
   }
  },
  {
   "cell_type": "code",
   "execution_count": 5,
   "outputs": [],
   "source": [
    "import shutil\n",
    "\n",
    "def move_file(x: object) -> str:\n",
    "\ttry:\n",
    "\t\ttarget_dir = x['name']\n",
    "\t\tsource_path = x['path']\n",
    "\t\timage_name = x['image_name']\n",
    "\t\tos.makedirs(target_dir, exist_ok=True)\n",
    "\t\tdest_path = f\"{target_dir}\\\\{image_name}\"\n",
    "\t\tif os.path.exists(dest_path):\n",
    "\t\t\treturn dest_path\n",
    "\t\tif source_path is None:\n",
    "\t\t\treturn \"\"\n",
    "\t\tif source_path == \"\":\n",
    "\t\t\treturn \"\"\n",
    "\n",
    "\t\tif os.path.exists(source_path):\n",
    "\t\t\tshutil.copy2(source_path, dest_path)\n",
    "\t\t\treturn dest_path\n",
    "\t\telse:\n",
    "\t\t\treturn \"\"\n",
    "\texcept Exception as e:\n",
    "\t\t# print(e)\n",
    "\t\treturn \"\""
   ],
   "metadata": {
    "collapsed": false,
    "ExecuteTime": {
     "start_time": "2023-04-02T16:24:06.471379Z",
     "end_time": "2023-04-02T16:24:06.518273Z"
    }
   }
  },
  {
   "cell_type": "code",
   "execution_count": 6,
   "outputs": [
    {
     "data": {
      "text/plain": "            id         subreddit                author  \\\n0      128z5ns       celebrities           A-Sexy-Name   \n1      11yk8db  prettyasiangirls          MisoShiru520   \n2      11hfioi     KoreanHotties  Majestic_Painter8660   \n3      1000mjs         spaceporn    MorningStar_imangi   \n4      1000qpd         spaceporn    MorningStar_imangi   \n...        ...               ...                   ...   \n29597  11oz7fi       mildlypenis          Extra-Lie489   \n29598  11oz73d       mildlypenis              DeimosLV   \n29599  11oyzm3       mildlypenis       Mymemesareswell   \n29600  11oyvx1       mildlypenis        LucindaBobinda   \n29601  11oxx6r       mildlypenis             DoggyCube   \n\n                                                   title  \\\n0                                           Rachel Weisz   \n1                                                Library   \n2                                       Underboob bikini   \n3                          Northern Lights above Lofoten   \n4                                          Viking Lights   \n...                                                  ...   \n29597                                              Lenis   \n29598  My friend is making a stuffed animal and this ...   \n29599                    This weird Mickey keychain hand   \n29600                                     Parking lot pp   \n29601  Can't figure out why they didn't approve of th...   \n\n                                                 caption  \\\n0      cars are parked on the side of the road in the...   \n1      blonde woman with blonde hair and tattoos on h...   \n2      a man with a beard and a beard sitting in fron...   \n3      a view of a view of a large green and purple a...   \n4      a scene of a boat is sitting on the shore of a...   \n...                                                  ...   \n29597  there is a small piece of metal with two small...   \n29598    a close up of a blue knitted bagueth on a chair   \n29599  someone is holding a key chain with a mickey m...   \n29600  a close up of a black and white photo of a bla...   \n29601  there is a picture of a video game on the tv s...   \n\n                                   hash  \\\n0      f09b1c0c5dea50c934081a04c83d4d33   \n1      9d5b7331b941ecf3fdbc8ad322303825   \n2      a154a56b1b87cf3a0bc93600c86e4585   \n3      2c39ce1290fba541abd0b004b09da6b2   \n4      0f72de47c69ff50eca5fa3990215f4ac   \n...                                 ...   \n29597  7604c3e55ce8dbf238520683d6e71f89   \n29598  389f8aa0fb191bdeba08c8d2cfff8ce2   \n29599  87563ac0c8ddeeb0ce47bc915b99308b   \n29600  88b596be6de959bd29eed4e8946bb476   \n29601  eb7ed95bedcd44c130938e2f09069f08   \n\n                                               permalink  \\\n0          /r/celebrities/comments/128z5ns/rachel_weisz/   \n1          /r/prettyasiangirls/comments/11yk8db/library/   \n2      /r/KoreanHotties/comments/11hfioi/underboob_bi...   \n3      /r/spaceporn/comments/1000mjs/northern_lights_...   \n4           /r/spaceporn/comments/1000qpd/viking_lights/   \n...                                                  ...   \n29597             /r/mildlypenis/comments/11oz7fi/lenis/   \n29598  /r/mildlypenis/comments/11oz73d/my_friend_is_m...   \n29599  /r/mildlypenis/comments/11oyzm3/this_weird_mic...   \n29600    /r/mildlypenis/comments/11oyvx1/parking_lot_pp/   \n29601  /r/mildlypenis/comments/11oxx6r/cant_figure_ou...   \n\n                              original_url  \\\n0      https://i.redd.it/nv80afddacra1.jpg   \n1      https://i.redd.it/ht4d2wuusapa1.jpg   \n2      https://i.redd.it/cimr17q84jla1.jpg   \n3      https://i.redd.it/7s5aafaqkb9a1.jpg   \n4      https://i.redd.it/abojw7lqlb9a1.jpg   \n...                                    ...   \n29597  https://i.redd.it/pskj3q0ao8na1.jpg   \n29598  https://i.redd.it/gemqhq67o8na1.jpg   \n29599  https://i.redd.it/vrivt8rom8na1.jpg   \n29600  https://i.redd.it/w1vebizwl8na1.jpg   \n29601  https://i.redd.it/92hm0ia2f8na1.jpg   \n\n                                 image_name  \\\n0      f09b1c0c5dea50c934081a04c83d4d33.jpg   \n1      9d5b7331b941ecf3fdbc8ad322303825.jpg   \n2      a154a56b1b87cf3a0bc93600c86e4585.jpg   \n3                         7s5aafaqkb9a1.jpg   \n4                         abojw7lqlb9a1.jpg   \n...                                     ...   \n29597  7604c3e55ce8dbf238520683d6e71f89.jpg   \n29598  389f8aa0fb191bdeba08c8d2cfff8ce2.jpg   \n29599  87563ac0c8ddeeb0ce47bc915b99308b.jpg   \n29600  88b596be6de959bd29eed4e8946bb476.jpg   \n29601  eb7ed95bedcd44c130938e2f09069f08.jpg   \n\n                                                    path  \\\n0      D:\\data\\images\\celebrities\\f09b1c0c5dea50c9340...   \n1      D:\\data\\images\\prettyasiangirls\\9d5b7331b941ec...   \n2      D:\\data\\images\\KoreanHotties\\a154a56b1b87cf3a0...   \n3               /data/images/spaceporn/7s5aafaqkb9a1.jpg   \n4               /data/images/spaceporn/abojw7lqlb9a1.jpg   \n...                                                  ...   \n29597  D:\\data\\images\\mildlypenis\\7604c3e55ce8dbf2385...   \n29598  D:\\data\\images\\mildlypenis\\389f8aa0fb191bdeba0...   \n29599  D:\\data\\images\\mildlypenis\\87563ac0c8ddeeb0ce4...   \n29600  D:\\data\\images\\mildlypenis\\88b596be6de959bd29e...   \n29601  D:\\data\\images\\mildlypenis\\eb7ed95bedcd44c1309...   \n\n                                          thumbnail_path  exists  curated  \n0      D:\\data\\images\\celebrities\\thumbnail\\f09b1c0c5...    True    False  \n1      D:\\data\\images\\prettyasiangirls\\thumbnail\\9d5b...    True    False  \n2      D:\\data\\images\\KoreanHotties\\thumbnail\\a154a56...    True    False  \n3      /data/images/spaceporn/thumbnail/7s5aafaqkb9a1...    True    False  \n4      /data/images/spaceporn/thumbnail/abojw7lqlb9a1...    True    False  \n...                                                  ...     ...      ...  \n29597  D:\\data\\images\\mildlypenis\\thumbnail\\7604c3e55...    True    False  \n29598  D:\\data\\images\\mildlypenis\\thumbnail\\389f8aa0f...    True    False  \n29599  D:\\data\\images\\mildlypenis\\thumbnail\\87563ac0c...    True    False  \n29600  D:\\data\\images\\mildlypenis\\thumbnail\\88b596be6...    True    False  \n29601  D:\\data\\images\\mildlypenis\\thumbnail\\eb7ed95be...    True    False  \n\n[29602 rows x 13 columns]",
      "text/html": "<div>\n<style scoped>\n    .dataframe tbody tr th:only-of-type {\n        vertical-align: middle;\n    }\n\n    .dataframe tbody tr th {\n        vertical-align: top;\n    }\n\n    .dataframe thead th {\n        text-align: right;\n    }\n</style>\n<table border=\"1\" class=\"dataframe\">\n  <thead>\n    <tr style=\"text-align: right;\">\n      <th></th>\n      <th>id</th>\n      <th>subreddit</th>\n      <th>author</th>\n      <th>title</th>\n      <th>caption</th>\n      <th>hash</th>\n      <th>permalink</th>\n      <th>original_url</th>\n      <th>image_name</th>\n      <th>path</th>\n      <th>thumbnail_path</th>\n      <th>exists</th>\n      <th>curated</th>\n    </tr>\n  </thead>\n  <tbody>\n    <tr>\n      <th>0</th>\n      <td>128z5ns</td>\n      <td>celebrities</td>\n      <td>A-Sexy-Name</td>\n      <td>Rachel Weisz</td>\n      <td>cars are parked on the side of the road in the...</td>\n      <td>f09b1c0c5dea50c934081a04c83d4d33</td>\n      <td>/r/celebrities/comments/128z5ns/rachel_weisz/</td>\n      <td>https://i.redd.it/nv80afddacra1.jpg</td>\n      <td>f09b1c0c5dea50c934081a04c83d4d33.jpg</td>\n      <td>D:\\data\\images\\celebrities\\f09b1c0c5dea50c9340...</td>\n      <td>D:\\data\\images\\celebrities\\thumbnail\\f09b1c0c5...</td>\n      <td>True</td>\n      <td>False</td>\n    </tr>\n    <tr>\n      <th>1</th>\n      <td>11yk8db</td>\n      <td>prettyasiangirls</td>\n      <td>MisoShiru520</td>\n      <td>Library</td>\n      <td>blonde woman with blonde hair and tattoos on h...</td>\n      <td>9d5b7331b941ecf3fdbc8ad322303825</td>\n      <td>/r/prettyasiangirls/comments/11yk8db/library/</td>\n      <td>https://i.redd.it/ht4d2wuusapa1.jpg</td>\n      <td>9d5b7331b941ecf3fdbc8ad322303825.jpg</td>\n      <td>D:\\data\\images\\prettyasiangirls\\9d5b7331b941ec...</td>\n      <td>D:\\data\\images\\prettyasiangirls\\thumbnail\\9d5b...</td>\n      <td>True</td>\n      <td>False</td>\n    </tr>\n    <tr>\n      <th>2</th>\n      <td>11hfioi</td>\n      <td>KoreanHotties</td>\n      <td>Majestic_Painter8660</td>\n      <td>Underboob bikini</td>\n      <td>a man with a beard and a beard sitting in fron...</td>\n      <td>a154a56b1b87cf3a0bc93600c86e4585</td>\n      <td>/r/KoreanHotties/comments/11hfioi/underboob_bi...</td>\n      <td>https://i.redd.it/cimr17q84jla1.jpg</td>\n      <td>a154a56b1b87cf3a0bc93600c86e4585.jpg</td>\n      <td>D:\\data\\images\\KoreanHotties\\a154a56b1b87cf3a0...</td>\n      <td>D:\\data\\images\\KoreanHotties\\thumbnail\\a154a56...</td>\n      <td>True</td>\n      <td>False</td>\n    </tr>\n    <tr>\n      <th>3</th>\n      <td>1000mjs</td>\n      <td>spaceporn</td>\n      <td>MorningStar_imangi</td>\n      <td>Northern Lights above Lofoten</td>\n      <td>a view of a view of a large green and purple a...</td>\n      <td>2c39ce1290fba541abd0b004b09da6b2</td>\n      <td>/r/spaceporn/comments/1000mjs/northern_lights_...</td>\n      <td>https://i.redd.it/7s5aafaqkb9a1.jpg</td>\n      <td>7s5aafaqkb9a1.jpg</td>\n      <td>/data/images/spaceporn/7s5aafaqkb9a1.jpg</td>\n      <td>/data/images/spaceporn/thumbnail/7s5aafaqkb9a1...</td>\n      <td>True</td>\n      <td>False</td>\n    </tr>\n    <tr>\n      <th>4</th>\n      <td>1000qpd</td>\n      <td>spaceporn</td>\n      <td>MorningStar_imangi</td>\n      <td>Viking Lights</td>\n      <td>a scene of a boat is sitting on the shore of a...</td>\n      <td>0f72de47c69ff50eca5fa3990215f4ac</td>\n      <td>/r/spaceporn/comments/1000qpd/viking_lights/</td>\n      <td>https://i.redd.it/abojw7lqlb9a1.jpg</td>\n      <td>abojw7lqlb9a1.jpg</td>\n      <td>/data/images/spaceporn/abojw7lqlb9a1.jpg</td>\n      <td>/data/images/spaceporn/thumbnail/abojw7lqlb9a1...</td>\n      <td>True</td>\n      <td>False</td>\n    </tr>\n    <tr>\n      <th>...</th>\n      <td>...</td>\n      <td>...</td>\n      <td>...</td>\n      <td>...</td>\n      <td>...</td>\n      <td>...</td>\n      <td>...</td>\n      <td>...</td>\n      <td>...</td>\n      <td>...</td>\n      <td>...</td>\n      <td>...</td>\n      <td>...</td>\n    </tr>\n    <tr>\n      <th>29597</th>\n      <td>11oz7fi</td>\n      <td>mildlypenis</td>\n      <td>Extra-Lie489</td>\n      <td>Lenis</td>\n      <td>there is a small piece of metal with two small...</td>\n      <td>7604c3e55ce8dbf238520683d6e71f89</td>\n      <td>/r/mildlypenis/comments/11oz7fi/lenis/</td>\n      <td>https://i.redd.it/pskj3q0ao8na1.jpg</td>\n      <td>7604c3e55ce8dbf238520683d6e71f89.jpg</td>\n      <td>D:\\data\\images\\mildlypenis\\7604c3e55ce8dbf2385...</td>\n      <td>D:\\data\\images\\mildlypenis\\thumbnail\\7604c3e55...</td>\n      <td>True</td>\n      <td>False</td>\n    </tr>\n    <tr>\n      <th>29598</th>\n      <td>11oz73d</td>\n      <td>mildlypenis</td>\n      <td>DeimosLV</td>\n      <td>My friend is making a stuffed animal and this ...</td>\n      <td>a close up of a blue knitted bagueth on a chair</td>\n      <td>389f8aa0fb191bdeba08c8d2cfff8ce2</td>\n      <td>/r/mildlypenis/comments/11oz73d/my_friend_is_m...</td>\n      <td>https://i.redd.it/gemqhq67o8na1.jpg</td>\n      <td>389f8aa0fb191bdeba08c8d2cfff8ce2.jpg</td>\n      <td>D:\\data\\images\\mildlypenis\\389f8aa0fb191bdeba0...</td>\n      <td>D:\\data\\images\\mildlypenis\\thumbnail\\389f8aa0f...</td>\n      <td>True</td>\n      <td>False</td>\n    </tr>\n    <tr>\n      <th>29599</th>\n      <td>11oyzm3</td>\n      <td>mildlypenis</td>\n      <td>Mymemesareswell</td>\n      <td>This weird Mickey keychain hand</td>\n      <td>someone is holding a key chain with a mickey m...</td>\n      <td>87563ac0c8ddeeb0ce47bc915b99308b</td>\n      <td>/r/mildlypenis/comments/11oyzm3/this_weird_mic...</td>\n      <td>https://i.redd.it/vrivt8rom8na1.jpg</td>\n      <td>87563ac0c8ddeeb0ce47bc915b99308b.jpg</td>\n      <td>D:\\data\\images\\mildlypenis\\87563ac0c8ddeeb0ce4...</td>\n      <td>D:\\data\\images\\mildlypenis\\thumbnail\\87563ac0c...</td>\n      <td>True</td>\n      <td>False</td>\n    </tr>\n    <tr>\n      <th>29600</th>\n      <td>11oyvx1</td>\n      <td>mildlypenis</td>\n      <td>LucindaBobinda</td>\n      <td>Parking lot pp</td>\n      <td>a close up of a black and white photo of a bla...</td>\n      <td>88b596be6de959bd29eed4e8946bb476</td>\n      <td>/r/mildlypenis/comments/11oyvx1/parking_lot_pp/</td>\n      <td>https://i.redd.it/w1vebizwl8na1.jpg</td>\n      <td>88b596be6de959bd29eed4e8946bb476.jpg</td>\n      <td>D:\\data\\images\\mildlypenis\\88b596be6de959bd29e...</td>\n      <td>D:\\data\\images\\mildlypenis\\thumbnail\\88b596be6...</td>\n      <td>True</td>\n      <td>False</td>\n    </tr>\n    <tr>\n      <th>29601</th>\n      <td>11oxx6r</td>\n      <td>mildlypenis</td>\n      <td>DoggyCube</td>\n      <td>Can't figure out why they didn't approve of th...</td>\n      <td>there is a picture of a video game on the tv s...</td>\n      <td>eb7ed95bedcd44c130938e2f09069f08</td>\n      <td>/r/mildlypenis/comments/11oxx6r/cant_figure_ou...</td>\n      <td>https://i.redd.it/92hm0ia2f8na1.jpg</td>\n      <td>eb7ed95bedcd44c130938e2f09069f08.jpg</td>\n      <td>D:\\data\\images\\mildlypenis\\eb7ed95bedcd44c1309...</td>\n      <td>D:\\data\\images\\mildlypenis\\thumbnail\\eb7ed95be...</td>\n      <td>True</td>\n      <td>False</td>\n    </tr>\n  </tbody>\n</table>\n<p>29602 rows × 13 columns</p>\n</div>"
     },
     "metadata": {},
     "output_type": "display_data"
    },
    {
     "name": "stdout",
     "output_type": "stream",
     "text": [
      "CPU times: total: 719 ms\n",
      "Wall time: 2.02 s\n"
     ]
    }
   ],
   "source": [
    "%%time\n",
    "\n",
    "all_data = pd.read_parquet(\"data/processed_raw_data.parquet\", engine='pyarrow', filesystem=file_system)\n",
    "\n",
    "display(all_data)"
   ],
   "metadata": {
    "collapsed": false,
    "ExecuteTime": {
     "start_time": "2023-04-02T16:24:06.487027Z",
     "end_time": "2023-04-02T16:24:08.523648Z"
    }
   }
  },
  {
   "cell_type": "code",
   "execution_count": 7,
   "outputs": [],
   "source": [
    "def check_if_thumb_and_image_exist(x: object):\n",
    "\ttry:\n",
    "\t\tpath = x['path']\n",
    "\t\tif path is None:\n",
    "\t\t\treturn False\n",
    "\t\tthumb_nail_path = x['thumbnail_path']\n",
    "\t\tif thumb_nail_path is None:\n",
    "\t\t\treturn False\n",
    "\t\tfull_image_exists = os.path.exists(path)\n",
    "\t\tthumbnail_image_exists = os.path.exists(thumb_nail_path)\n",
    "\t\treturn full_image_exists and thumbnail_image_exists\n",
    "\texcept Exception as e:\n",
    "\t\tprint(\"Error In check_if_thumb_and_image_exist: \" + str(e))\n",
    "\t\treturn False"
   ],
   "metadata": {
    "collapsed": false,
    "ExecuteTime": {
     "start_time": "2023-04-02T16:24:08.539274Z",
     "end_time": "2023-04-02T16:24:08.539274Z"
    }
   }
  },
  {
   "cell_type": "code",
   "execution_count": 8,
   "outputs": [
    {
     "data": {
      "text/plain": "            id         subreddit                author  \\\n0      128z5ns       celebrities           A-Sexy-Name   \n1      11yk8db  prettyasiangirls          MisoShiru520   \n2      11hfioi     KoreanHotties  Majestic_Painter8660   \n3      1000mjs         spaceporn    MorningStar_imangi   \n4      1000qpd         spaceporn    MorningStar_imangi   \n...        ...               ...                   ...   \n29597  11oz7fi       mildlypenis          Extra-Lie489   \n29598  11oz73d       mildlypenis              DeimosLV   \n29599  11oyzm3       mildlypenis       Mymemesareswell   \n29600  11oyvx1       mildlypenis        LucindaBobinda   \n29601  11oxx6r       mildlypenis             DoggyCube   \n\n                                                   title  \\\n0                                           Rachel Weisz   \n1                                                Library   \n2                                       Underboob bikini   \n3                          Northern Lights above Lofoten   \n4                                          Viking Lights   \n...                                                  ...   \n29597                                              Lenis   \n29598  My friend is making a stuffed animal and this ...   \n29599                    This weird Mickey keychain hand   \n29600                                     Parking lot pp   \n29601  Can't figure out why they didn't approve of th...   \n\n                                                 caption  \\\n0      cars are parked on the side of the road in the...   \n1      blonde woman with blonde hair and tattoos on h...   \n2      a man with a beard and a beard sitting in fron...   \n3      a view of a view of a large green and purple a...   \n4      a scene of a boat is sitting on the shore of a...   \n...                                                  ...   \n29597  there is a small piece of metal with two small...   \n29598    a close up of a blue knitted bagueth on a chair   \n29599  someone is holding a key chain with a mickey m...   \n29600  a close up of a black and white photo of a bla...   \n29601  there is a picture of a video game on the tv s...   \n\n                                   hash  \\\n0      f09b1c0c5dea50c934081a04c83d4d33   \n1      9d5b7331b941ecf3fdbc8ad322303825   \n2      a154a56b1b87cf3a0bc93600c86e4585   \n3      2c39ce1290fba541abd0b004b09da6b2   \n4      0f72de47c69ff50eca5fa3990215f4ac   \n...                                 ...   \n29597  7604c3e55ce8dbf238520683d6e71f89   \n29598  389f8aa0fb191bdeba08c8d2cfff8ce2   \n29599  87563ac0c8ddeeb0ce47bc915b99308b   \n29600  88b596be6de959bd29eed4e8946bb476   \n29601  eb7ed95bedcd44c130938e2f09069f08   \n\n                                               permalink  \\\n0          /r/celebrities/comments/128z5ns/rachel_weisz/   \n1          /r/prettyasiangirls/comments/11yk8db/library/   \n2      /r/KoreanHotties/comments/11hfioi/underboob_bi...   \n3      /r/spaceporn/comments/1000mjs/northern_lights_...   \n4           /r/spaceporn/comments/1000qpd/viking_lights/   \n...                                                  ...   \n29597             /r/mildlypenis/comments/11oz7fi/lenis/   \n29598  /r/mildlypenis/comments/11oz73d/my_friend_is_m...   \n29599  /r/mildlypenis/comments/11oyzm3/this_weird_mic...   \n29600    /r/mildlypenis/comments/11oyvx1/parking_lot_pp/   \n29601  /r/mildlypenis/comments/11oxx6r/cant_figure_ou...   \n\n                              original_url  \\\n0      https://i.redd.it/nv80afddacra1.jpg   \n1      https://i.redd.it/ht4d2wuusapa1.jpg   \n2      https://i.redd.it/cimr17q84jla1.jpg   \n3      https://i.redd.it/7s5aafaqkb9a1.jpg   \n4      https://i.redd.it/abojw7lqlb9a1.jpg   \n...                                    ...   \n29597  https://i.redd.it/pskj3q0ao8na1.jpg   \n29598  https://i.redd.it/gemqhq67o8na1.jpg   \n29599  https://i.redd.it/vrivt8rom8na1.jpg   \n29600  https://i.redd.it/w1vebizwl8na1.jpg   \n29601  https://i.redd.it/92hm0ia2f8na1.jpg   \n\n                                 image_name  \\\n0      f09b1c0c5dea50c934081a04c83d4d33.jpg   \n1      9d5b7331b941ecf3fdbc8ad322303825.jpg   \n2      a154a56b1b87cf3a0bc93600c86e4585.jpg   \n3                         7s5aafaqkb9a1.jpg   \n4                         abojw7lqlb9a1.jpg   \n...                                     ...   \n29597  7604c3e55ce8dbf238520683d6e71f89.jpg   \n29598  389f8aa0fb191bdeba08c8d2cfff8ce2.jpg   \n29599  87563ac0c8ddeeb0ce47bc915b99308b.jpg   \n29600  88b596be6de959bd29eed4e8946bb476.jpg   \n29601  eb7ed95bedcd44c130938e2f09069f08.jpg   \n\n                                                    path  \\\n0      D:\\data\\images\\celebrities\\f09b1c0c5dea50c9340...   \n1      D:\\data\\images\\prettyasiangirls\\9d5b7331b941ec...   \n2      D:\\data\\images\\KoreanHotties\\a154a56b1b87cf3a0...   \n3               /data/images/spaceporn/7s5aafaqkb9a1.jpg   \n4               /data/images/spaceporn/abojw7lqlb9a1.jpg   \n...                                                  ...   \n29597  D:\\data\\images\\mildlypenis\\7604c3e55ce8dbf2385...   \n29598  D:\\data\\images\\mildlypenis\\389f8aa0fb191bdeba0...   \n29599  D:\\data\\images\\mildlypenis\\87563ac0c8ddeeb0ce4...   \n29600  D:\\data\\images\\mildlypenis\\88b596be6de959bd29e...   \n29601  D:\\data\\images\\mildlypenis\\eb7ed95bedcd44c1309...   \n\n                                          thumbnail_path  exists  curated  \n0      D:\\data\\images\\celebrities\\thumbnail\\f09b1c0c5...    True    False  \n1      D:\\data\\images\\prettyasiangirls\\thumbnail\\9d5b...    True    False  \n2      D:\\data\\images\\KoreanHotties\\thumbnail\\a154a56...    True    False  \n3      /data/images/spaceporn/thumbnail/7s5aafaqkb9a1...    True    False  \n4      /data/images/spaceporn/thumbnail/abojw7lqlb9a1...    True    False  \n...                                                  ...     ...      ...  \n29597  D:\\data\\images\\mildlypenis\\thumbnail\\7604c3e55...    True    False  \n29598  D:\\data\\images\\mildlypenis\\thumbnail\\389f8aa0f...    True    False  \n29599  D:\\data\\images\\mildlypenis\\thumbnail\\87563ac0c...    True    False  \n29600  D:\\data\\images\\mildlypenis\\thumbnail\\88b596be6...    True    False  \n29601  D:\\data\\images\\mildlypenis\\thumbnail\\eb7ed95be...    True    False  \n\n[29602 rows x 13 columns]",
      "text/html": "<div>\n<style scoped>\n    .dataframe tbody tr th:only-of-type {\n        vertical-align: middle;\n    }\n\n    .dataframe tbody tr th {\n        vertical-align: top;\n    }\n\n    .dataframe thead th {\n        text-align: right;\n    }\n</style>\n<table border=\"1\" class=\"dataframe\">\n  <thead>\n    <tr style=\"text-align: right;\">\n      <th></th>\n      <th>id</th>\n      <th>subreddit</th>\n      <th>author</th>\n      <th>title</th>\n      <th>caption</th>\n      <th>hash</th>\n      <th>permalink</th>\n      <th>original_url</th>\n      <th>image_name</th>\n      <th>path</th>\n      <th>thumbnail_path</th>\n      <th>exists</th>\n      <th>curated</th>\n    </tr>\n  </thead>\n  <tbody>\n    <tr>\n      <th>0</th>\n      <td>128z5ns</td>\n      <td>celebrities</td>\n      <td>A-Sexy-Name</td>\n      <td>Rachel Weisz</td>\n      <td>cars are parked on the side of the road in the...</td>\n      <td>f09b1c0c5dea50c934081a04c83d4d33</td>\n      <td>/r/celebrities/comments/128z5ns/rachel_weisz/</td>\n      <td>https://i.redd.it/nv80afddacra1.jpg</td>\n      <td>f09b1c0c5dea50c934081a04c83d4d33.jpg</td>\n      <td>D:\\data\\images\\celebrities\\f09b1c0c5dea50c9340...</td>\n      <td>D:\\data\\images\\celebrities\\thumbnail\\f09b1c0c5...</td>\n      <td>True</td>\n      <td>False</td>\n    </tr>\n    <tr>\n      <th>1</th>\n      <td>11yk8db</td>\n      <td>prettyasiangirls</td>\n      <td>MisoShiru520</td>\n      <td>Library</td>\n      <td>blonde woman with blonde hair and tattoos on h...</td>\n      <td>9d5b7331b941ecf3fdbc8ad322303825</td>\n      <td>/r/prettyasiangirls/comments/11yk8db/library/</td>\n      <td>https://i.redd.it/ht4d2wuusapa1.jpg</td>\n      <td>9d5b7331b941ecf3fdbc8ad322303825.jpg</td>\n      <td>D:\\data\\images\\prettyasiangirls\\9d5b7331b941ec...</td>\n      <td>D:\\data\\images\\prettyasiangirls\\thumbnail\\9d5b...</td>\n      <td>True</td>\n      <td>False</td>\n    </tr>\n    <tr>\n      <th>2</th>\n      <td>11hfioi</td>\n      <td>KoreanHotties</td>\n      <td>Majestic_Painter8660</td>\n      <td>Underboob bikini</td>\n      <td>a man with a beard and a beard sitting in fron...</td>\n      <td>a154a56b1b87cf3a0bc93600c86e4585</td>\n      <td>/r/KoreanHotties/comments/11hfioi/underboob_bi...</td>\n      <td>https://i.redd.it/cimr17q84jla1.jpg</td>\n      <td>a154a56b1b87cf3a0bc93600c86e4585.jpg</td>\n      <td>D:\\data\\images\\KoreanHotties\\a154a56b1b87cf3a0...</td>\n      <td>D:\\data\\images\\KoreanHotties\\thumbnail\\a154a56...</td>\n      <td>True</td>\n      <td>False</td>\n    </tr>\n    <tr>\n      <th>3</th>\n      <td>1000mjs</td>\n      <td>spaceporn</td>\n      <td>MorningStar_imangi</td>\n      <td>Northern Lights above Lofoten</td>\n      <td>a view of a view of a large green and purple a...</td>\n      <td>2c39ce1290fba541abd0b004b09da6b2</td>\n      <td>/r/spaceporn/comments/1000mjs/northern_lights_...</td>\n      <td>https://i.redd.it/7s5aafaqkb9a1.jpg</td>\n      <td>7s5aafaqkb9a1.jpg</td>\n      <td>/data/images/spaceporn/7s5aafaqkb9a1.jpg</td>\n      <td>/data/images/spaceporn/thumbnail/7s5aafaqkb9a1...</td>\n      <td>True</td>\n      <td>False</td>\n    </tr>\n    <tr>\n      <th>4</th>\n      <td>1000qpd</td>\n      <td>spaceporn</td>\n      <td>MorningStar_imangi</td>\n      <td>Viking Lights</td>\n      <td>a scene of a boat is sitting on the shore of a...</td>\n      <td>0f72de47c69ff50eca5fa3990215f4ac</td>\n      <td>/r/spaceporn/comments/1000qpd/viking_lights/</td>\n      <td>https://i.redd.it/abojw7lqlb9a1.jpg</td>\n      <td>abojw7lqlb9a1.jpg</td>\n      <td>/data/images/spaceporn/abojw7lqlb9a1.jpg</td>\n      <td>/data/images/spaceporn/thumbnail/abojw7lqlb9a1...</td>\n      <td>True</td>\n      <td>False</td>\n    </tr>\n    <tr>\n      <th>...</th>\n      <td>...</td>\n      <td>...</td>\n      <td>...</td>\n      <td>...</td>\n      <td>...</td>\n      <td>...</td>\n      <td>...</td>\n      <td>...</td>\n      <td>...</td>\n      <td>...</td>\n      <td>...</td>\n      <td>...</td>\n      <td>...</td>\n    </tr>\n    <tr>\n      <th>29597</th>\n      <td>11oz7fi</td>\n      <td>mildlypenis</td>\n      <td>Extra-Lie489</td>\n      <td>Lenis</td>\n      <td>there is a small piece of metal with two small...</td>\n      <td>7604c3e55ce8dbf238520683d6e71f89</td>\n      <td>/r/mildlypenis/comments/11oz7fi/lenis/</td>\n      <td>https://i.redd.it/pskj3q0ao8na1.jpg</td>\n      <td>7604c3e55ce8dbf238520683d6e71f89.jpg</td>\n      <td>D:\\data\\images\\mildlypenis\\7604c3e55ce8dbf2385...</td>\n      <td>D:\\data\\images\\mildlypenis\\thumbnail\\7604c3e55...</td>\n      <td>True</td>\n      <td>False</td>\n    </tr>\n    <tr>\n      <th>29598</th>\n      <td>11oz73d</td>\n      <td>mildlypenis</td>\n      <td>DeimosLV</td>\n      <td>My friend is making a stuffed animal and this ...</td>\n      <td>a close up of a blue knitted bagueth on a chair</td>\n      <td>389f8aa0fb191bdeba08c8d2cfff8ce2</td>\n      <td>/r/mildlypenis/comments/11oz73d/my_friend_is_m...</td>\n      <td>https://i.redd.it/gemqhq67o8na1.jpg</td>\n      <td>389f8aa0fb191bdeba08c8d2cfff8ce2.jpg</td>\n      <td>D:\\data\\images\\mildlypenis\\389f8aa0fb191bdeba0...</td>\n      <td>D:\\data\\images\\mildlypenis\\thumbnail\\389f8aa0f...</td>\n      <td>True</td>\n      <td>False</td>\n    </tr>\n    <tr>\n      <th>29599</th>\n      <td>11oyzm3</td>\n      <td>mildlypenis</td>\n      <td>Mymemesareswell</td>\n      <td>This weird Mickey keychain hand</td>\n      <td>someone is holding a key chain with a mickey m...</td>\n      <td>87563ac0c8ddeeb0ce47bc915b99308b</td>\n      <td>/r/mildlypenis/comments/11oyzm3/this_weird_mic...</td>\n      <td>https://i.redd.it/vrivt8rom8na1.jpg</td>\n      <td>87563ac0c8ddeeb0ce47bc915b99308b.jpg</td>\n      <td>D:\\data\\images\\mildlypenis\\87563ac0c8ddeeb0ce4...</td>\n      <td>D:\\data\\images\\mildlypenis\\thumbnail\\87563ac0c...</td>\n      <td>True</td>\n      <td>False</td>\n    </tr>\n    <tr>\n      <th>29600</th>\n      <td>11oyvx1</td>\n      <td>mildlypenis</td>\n      <td>LucindaBobinda</td>\n      <td>Parking lot pp</td>\n      <td>a close up of a black and white photo of a bla...</td>\n      <td>88b596be6de959bd29eed4e8946bb476</td>\n      <td>/r/mildlypenis/comments/11oyvx1/parking_lot_pp/</td>\n      <td>https://i.redd.it/w1vebizwl8na1.jpg</td>\n      <td>88b596be6de959bd29eed4e8946bb476.jpg</td>\n      <td>D:\\data\\images\\mildlypenis\\88b596be6de959bd29e...</td>\n      <td>D:\\data\\images\\mildlypenis\\thumbnail\\88b596be6...</td>\n      <td>True</td>\n      <td>False</td>\n    </tr>\n    <tr>\n      <th>29601</th>\n      <td>11oxx6r</td>\n      <td>mildlypenis</td>\n      <td>DoggyCube</td>\n      <td>Can't figure out why they didn't approve of th...</td>\n      <td>there is a picture of a video game on the tv s...</td>\n      <td>eb7ed95bedcd44c130938e2f09069f08</td>\n      <td>/r/mildlypenis/comments/11oxx6r/cant_figure_ou...</td>\n      <td>https://i.redd.it/92hm0ia2f8na1.jpg</td>\n      <td>eb7ed95bedcd44c130938e2f09069f08.jpg</td>\n      <td>D:\\data\\images\\mildlypenis\\eb7ed95bedcd44c1309...</td>\n      <td>D:\\data\\images\\mildlypenis\\thumbnail\\eb7ed95be...</td>\n      <td>True</td>\n      <td>False</td>\n    </tr>\n  </tbody>\n</table>\n<p>29602 rows × 13 columns</p>\n</div>"
     },
     "metadata": {},
     "output_type": "display_data"
    }
   ],
   "source": [
    "all_data['exists'] = all_data.apply(lambda x: check_if_thumb_and_image_exist(x), axis=1)\n",
    "\n",
    "display(all_data)"
   ],
   "metadata": {
    "collapsed": false,
    "ExecuteTime": {
     "start_time": "2023-04-02T16:24:08.539274Z",
     "end_time": "2023-04-02T16:24:34.019489Z"
    }
   }
  },
  {
   "cell_type": "code",
   "execution_count": 9,
   "metadata": {
    "collapsed": true,
    "ExecuteTime": {
     "start_time": "2023-04-02T16:24:34.019489Z",
     "end_time": "2023-04-02T16:24:34.128998Z"
    }
   },
   "outputs": [
    {
     "name": "stdout",
     "output_type": "stream",
     "text": [
      "CPU times: total: 0 ns\n",
      "Wall time: 15.6 ms\n"
     ]
    }
   ],
   "source": [
    "%%time\n",
    "\n",
    "sources = [\n",
    "\t{\"name\": \"CityDiffusion\", \"data\": [\"CityPorn\"]},\n",
    "\t{\"name\": \"NatureDiffusion\", \"data\": [\"EarthPorn\"]},\n",
    "\t{\"name\": \"CosmicDiffusion\", \"data\": [\"spaceporn\"]},\n",
    "\t{\"name\": \"ITAPDiffusion\", \"data\": [\"itookapicture\"]},\n",
    "\t{\"name\": \"MemeDiffusion\", \"data\": [\"memes\"]},\n",
    "\t{\"name\": \"TTTDiffusion\", \"data\": [\"trippinthroughtime\"]},\n",
    "\t{\"name\": \"WallStreetDiffusion\", \"data\": [\"wallstreetbets\"]},\n",
    "\t{\"name\": \"SexyDiffusion\", \"data\": [\"selfies\", \"Amicute\", \"amihot\", \"AmIhotAF\", \"HotGirlNextDoor\"]},\n",
    "\t{\"name\": \"FatSquirrelDiffusion\", \"data\": [\"fatsquirrelhate\"]},\n",
    "\t{\"name\": \"CelebrityDiffusion\", \"data\": [\"celebrities\"]},\n",
    "\t{\"name\": \"OldLadyDiffusion\", \"data\": [\"oldladiesbakingpies\"]},\n",
    "\t{\"name\": \"SWFPetite\", \"data\": [\"sfwpetite\"]},\n",
    "\t{\"name\": \"RedHeadDiffusion\", \"data\": [\"SFWRedheads\"]},\n",
    "\t{\"name\": \"NextDoorGirlsDiffusion\", \"data\": [\"SFWNextDoorGirls\"]},\n",
    "\t{\"name\": \"SexyAsianDiffusion\", \"data\": [\"realasians\", \"KoreanHotties\", \"prettyasiangirls\"]},\n",
    "\t{\"name\": \"AsianOfficeGirlDiffusion\", \"data\": [\"AsianOfficeLady\"]},\n",
    "\t{\"name\": \"MildlyPenisDiffusion\", \"data\": [\"mildlypenis\"]}\n",
    "]\n",
    "sources_df = pd.DataFrame.from_records(sources)"
   ]
  },
  {
   "cell_type": "code",
   "execution_count": 10,
   "outputs": [
    {
     "data": {
      "text/plain": "                                                    path  \\\n0      D:\\data\\images\\celebrities\\f09b1c0c5dea50c9340...   \n1      D:\\data\\images\\prettyasiangirls\\9d5b7331b941ec...   \n2      D:\\data\\images\\KoreanHotties\\a154a56b1b87cf3a0...   \n3               /data/images/spaceporn/7s5aafaqkb9a1.jpg   \n4               /data/images/spaceporn/abojw7lqlb9a1.jpg   \n...                                                  ...   \n29597  D:\\data\\images\\mildlypenis\\7604c3e55ce8dbf2385...   \n29598  D:\\data\\images\\mildlypenis\\389f8aa0fb191bdeba0...   \n29599  D:\\data\\images\\mildlypenis\\87563ac0c8ddeeb0ce4...   \n29600  D:\\data\\images\\mildlypenis\\88b596be6de959bd29e...   \n29601  D:\\data\\images\\mildlypenis\\eb7ed95bedcd44c1309...   \n\n                                 image_name  \\\n0      f09b1c0c5dea50c934081a04c83d4d33.jpg   \n1      9d5b7331b941ecf3fdbc8ad322303825.jpg   \n2      a154a56b1b87cf3a0bc93600c86e4585.jpg   \n3                         7s5aafaqkb9a1.jpg   \n4                         abojw7lqlb9a1.jpg   \n...                                     ...   \n29597  7604c3e55ce8dbf238520683d6e71f89.jpg   \n29598  389f8aa0fb191bdeba08c8d2cfff8ce2.jpg   \n29599  87563ac0c8ddeeb0ce47bc915b99308b.jpg   \n29600  88b596be6de959bd29eed4e8946bb476.jpg   \n29601  eb7ed95bedcd44c130938e2f09069f08.jpg   \n\n                                                 caption  \\\n0      cars are parked on the side of the road in the...   \n1      blonde woman with blonde hair and tattoos on h...   \n2      a man with a beard and a beard sitting in fron...   \n3      a view of a view of a large green and purple a...   \n4      a scene of a boat is sitting on the shore of a...   \n...                                                  ...   \n29597  there is a small piece of metal with two small...   \n29598    a close up of a blue knitted bagueth on a chair   \n29599  someone is holding a key chain with a mickey m...   \n29600  a close up of a black and white photo of a bla...   \n29601  there is a picture of a video game on the tv s...   \n\n                                                   title         subreddit  \\\n0                                           Rachel Weisz       celebrities   \n1                                                Library  prettyasiangirls   \n2                                       Underboob bikini     KoreanHotties   \n3                          Northern Lights above Lofoten         spaceporn   \n4                                          Viking Lights         spaceporn   \n...                                                  ...               ...   \n29597                                              Lenis       mildlypenis   \n29598  My friend is making a stuffed animal and this ...       mildlypenis   \n29599                    This weird Mickey keychain hand       mildlypenis   \n29600                                     Parking lot pp       mildlypenis   \n29601  Can't figure out why they didn't approve of th...       mildlypenis   \n\n      exists                  name  \n0       True    CelebrityDiffusion  \n1       True    SexyAsianDiffusion  \n2       True    SexyAsianDiffusion  \n3       True       CosmicDiffusion  \n4       True       CosmicDiffusion  \n...      ...                   ...  \n29597   True  MildlyPenisDiffusion  \n29598   True  MildlyPenisDiffusion  \n29599   True  MildlyPenisDiffusion  \n29600   True  MildlyPenisDiffusion  \n29601   True  MildlyPenisDiffusion  \n\n[29602 rows x 7 columns]",
      "text/html": "<div>\n<style scoped>\n    .dataframe tbody tr th:only-of-type {\n        vertical-align: middle;\n    }\n\n    .dataframe tbody tr th {\n        vertical-align: top;\n    }\n\n    .dataframe thead th {\n        text-align: right;\n    }\n</style>\n<table border=\"1\" class=\"dataframe\">\n  <thead>\n    <tr style=\"text-align: right;\">\n      <th></th>\n      <th>path</th>\n      <th>image_name</th>\n      <th>caption</th>\n      <th>title</th>\n      <th>subreddit</th>\n      <th>exists</th>\n      <th>name</th>\n    </tr>\n  </thead>\n  <tbody>\n    <tr>\n      <th>0</th>\n      <td>D:\\data\\images\\celebrities\\f09b1c0c5dea50c9340...</td>\n      <td>f09b1c0c5dea50c934081a04c83d4d33.jpg</td>\n      <td>cars are parked on the side of the road in the...</td>\n      <td>Rachel Weisz</td>\n      <td>celebrities</td>\n      <td>True</td>\n      <td>CelebrityDiffusion</td>\n    </tr>\n    <tr>\n      <th>1</th>\n      <td>D:\\data\\images\\prettyasiangirls\\9d5b7331b941ec...</td>\n      <td>9d5b7331b941ecf3fdbc8ad322303825.jpg</td>\n      <td>blonde woman with blonde hair and tattoos on h...</td>\n      <td>Library</td>\n      <td>prettyasiangirls</td>\n      <td>True</td>\n      <td>SexyAsianDiffusion</td>\n    </tr>\n    <tr>\n      <th>2</th>\n      <td>D:\\data\\images\\KoreanHotties\\a154a56b1b87cf3a0...</td>\n      <td>a154a56b1b87cf3a0bc93600c86e4585.jpg</td>\n      <td>a man with a beard and a beard sitting in fron...</td>\n      <td>Underboob bikini</td>\n      <td>KoreanHotties</td>\n      <td>True</td>\n      <td>SexyAsianDiffusion</td>\n    </tr>\n    <tr>\n      <th>3</th>\n      <td>/data/images/spaceporn/7s5aafaqkb9a1.jpg</td>\n      <td>7s5aafaqkb9a1.jpg</td>\n      <td>a view of a view of a large green and purple a...</td>\n      <td>Northern Lights above Lofoten</td>\n      <td>spaceporn</td>\n      <td>True</td>\n      <td>CosmicDiffusion</td>\n    </tr>\n    <tr>\n      <th>4</th>\n      <td>/data/images/spaceporn/abojw7lqlb9a1.jpg</td>\n      <td>abojw7lqlb9a1.jpg</td>\n      <td>a scene of a boat is sitting on the shore of a...</td>\n      <td>Viking Lights</td>\n      <td>spaceporn</td>\n      <td>True</td>\n      <td>CosmicDiffusion</td>\n    </tr>\n    <tr>\n      <th>...</th>\n      <td>...</td>\n      <td>...</td>\n      <td>...</td>\n      <td>...</td>\n      <td>...</td>\n      <td>...</td>\n      <td>...</td>\n    </tr>\n    <tr>\n      <th>29597</th>\n      <td>D:\\data\\images\\mildlypenis\\7604c3e55ce8dbf2385...</td>\n      <td>7604c3e55ce8dbf238520683d6e71f89.jpg</td>\n      <td>there is a small piece of metal with two small...</td>\n      <td>Lenis</td>\n      <td>mildlypenis</td>\n      <td>True</td>\n      <td>MildlyPenisDiffusion</td>\n    </tr>\n    <tr>\n      <th>29598</th>\n      <td>D:\\data\\images\\mildlypenis\\389f8aa0fb191bdeba0...</td>\n      <td>389f8aa0fb191bdeba08c8d2cfff8ce2.jpg</td>\n      <td>a close up of a blue knitted bagueth on a chair</td>\n      <td>My friend is making a stuffed animal and this ...</td>\n      <td>mildlypenis</td>\n      <td>True</td>\n      <td>MildlyPenisDiffusion</td>\n    </tr>\n    <tr>\n      <th>29599</th>\n      <td>D:\\data\\images\\mildlypenis\\87563ac0c8ddeeb0ce4...</td>\n      <td>87563ac0c8ddeeb0ce47bc915b99308b.jpg</td>\n      <td>someone is holding a key chain with a mickey m...</td>\n      <td>This weird Mickey keychain hand</td>\n      <td>mildlypenis</td>\n      <td>True</td>\n      <td>MildlyPenisDiffusion</td>\n    </tr>\n    <tr>\n      <th>29600</th>\n      <td>D:\\data\\images\\mildlypenis\\88b596be6de959bd29e...</td>\n      <td>88b596be6de959bd29eed4e8946bb476.jpg</td>\n      <td>a close up of a black and white photo of a bla...</td>\n      <td>Parking lot pp</td>\n      <td>mildlypenis</td>\n      <td>True</td>\n      <td>MildlyPenisDiffusion</td>\n    </tr>\n    <tr>\n      <th>29601</th>\n      <td>D:\\data\\images\\mildlypenis\\eb7ed95bedcd44c1309...</td>\n      <td>eb7ed95bedcd44c130938e2f09069f08.jpg</td>\n      <td>there is a picture of a video game on the tv s...</td>\n      <td>Can't figure out why they didn't approve of th...</td>\n      <td>mildlypenis</td>\n      <td>True</td>\n      <td>MildlyPenisDiffusion</td>\n    </tr>\n  </tbody>\n</table>\n<p>29602 rows × 7 columns</p>\n</div>"
     },
     "metadata": {},
     "output_type": "display_data"
    },
    {
     "name": "stdout",
     "output_type": "stream",
     "text": [
      "CPU times: total: 5.3 s\n",
      "Wall time: 5.39 s\n"
     ]
    }
   ],
   "source": [
    "%%time\n",
    "\n",
    "smaller_exportable_df = pd.DataFrame(\n",
    "\tdata=[all_data['path'], all_data['image_name'], all_data['caption'], all_data['title'], all_data['subreddit'], all_data['exists']],\n",
    "\tindex=['path', 'image_name', 'caption', 'title', 'subreddit', 'exists']).T\n",
    "\n",
    "with ProgressBar():\n",
    "\tsmaller_exportable_df['name'] = smaller_exportable_df.apply(lambda x: add_source(x, sources), axis=1)\n",
    "\n",
    "display(smaller_exportable_df)"
   ],
   "metadata": {
    "collapsed": false,
    "ExecuteTime": {
     "start_time": "2023-04-02T16:24:34.050739Z",
     "end_time": "2023-04-02T16:24:39.469933Z"
    }
   }
  },
  {
   "cell_type": "code",
   "execution_count": 11,
   "outputs": [
    {
     "data": {
      "text/plain": "                                                    path  \\\n0      D:\\data\\images\\celebrities\\f09b1c0c5dea50c9340...   \n1      D:\\data\\images\\prettyasiangirls\\9d5b7331b941ec...   \n2      D:\\data\\images\\KoreanHotties\\a154a56b1b87cf3a0...   \n3               /data/images/spaceporn/7s5aafaqkb9a1.jpg   \n4               /data/images/spaceporn/abojw7lqlb9a1.jpg   \n...                                                  ...   \n26394  D:\\data\\images\\mildlypenis\\7604c3e55ce8dbf2385...   \n26395  D:\\data\\images\\mildlypenis\\389f8aa0fb191bdeba0...   \n26396  D:\\data\\images\\mildlypenis\\87563ac0c8ddeeb0ce4...   \n26397  D:\\data\\images\\mildlypenis\\88b596be6de959bd29e...   \n26398  D:\\data\\images\\mildlypenis\\eb7ed95bedcd44c1309...   \n\n                                 image_name  \\\n0      f09b1c0c5dea50c934081a04c83d4d33.jpg   \n1      9d5b7331b941ecf3fdbc8ad322303825.jpg   \n2      a154a56b1b87cf3a0bc93600c86e4585.jpg   \n3                         7s5aafaqkb9a1.jpg   \n4                         abojw7lqlb9a1.jpg   \n...                                     ...   \n26394  7604c3e55ce8dbf238520683d6e71f89.jpg   \n26395  389f8aa0fb191bdeba08c8d2cfff8ce2.jpg   \n26396  87563ac0c8ddeeb0ce47bc915b99308b.jpg   \n26397  88b596be6de959bd29eed4e8946bb476.jpg   \n26398  eb7ed95bedcd44c130938e2f09069f08.jpg   \n\n                                                 caption  \\\n0      cars are parked on the side of the road in the...   \n1      blonde woman with blonde hair and tattoos on h...   \n2      a man with a beard and a beard sitting in fron...   \n3      a view of a view of a large green and purple a...   \n4      a scene of a boat is sitting on the shore of a...   \n...                                                  ...   \n26394  there is a small piece of metal with two small...   \n26395    a close up of a blue knitted bagueth on a chair   \n26396  someone is holding a key chain with a mickey m...   \n26397  a close up of a black and white photo of a bla...   \n26398  there is a picture of a video game on the tv s...   \n\n                                                   title         subreddit  \\\n0                                           Rachel Weisz       celebrities   \n1                                                Library  prettyasiangirls   \n2                                       Underboob bikini     KoreanHotties   \n3                          Northern Lights above Lofoten         spaceporn   \n4                                          Viking Lights         spaceporn   \n...                                                  ...               ...   \n26394                                              Lenis       mildlypenis   \n26395  My friend is making a stuffed animal and this ...       mildlypenis   \n26396                    This weird Mickey keychain hand       mildlypenis   \n26397                                     Parking lot pp       mildlypenis   \n26398  Can't figure out why they didn't approve of th...       mildlypenis   \n\n      exists                  name  \n0       True    CelebrityDiffusion  \n1       True    SexyAsianDiffusion  \n2       True    SexyAsianDiffusion  \n3       True       CosmicDiffusion  \n4       True       CosmicDiffusion  \n...      ...                   ...  \n26394   True  MildlyPenisDiffusion  \n26395   True  MildlyPenisDiffusion  \n26396   True  MildlyPenisDiffusion  \n26397   True  MildlyPenisDiffusion  \n26398   True  MildlyPenisDiffusion  \n\n[26399 rows x 7 columns]",
      "text/html": "<div>\n<style scoped>\n    .dataframe tbody tr th:only-of-type {\n        vertical-align: middle;\n    }\n\n    .dataframe tbody tr th {\n        vertical-align: top;\n    }\n\n    .dataframe thead th {\n        text-align: right;\n    }\n</style>\n<table border=\"1\" class=\"dataframe\">\n  <thead>\n    <tr style=\"text-align: right;\">\n      <th></th>\n      <th>path</th>\n      <th>image_name</th>\n      <th>caption</th>\n      <th>title</th>\n      <th>subreddit</th>\n      <th>exists</th>\n      <th>name</th>\n    </tr>\n  </thead>\n  <tbody>\n    <tr>\n      <th>0</th>\n      <td>D:\\data\\images\\celebrities\\f09b1c0c5dea50c9340...</td>\n      <td>f09b1c0c5dea50c934081a04c83d4d33.jpg</td>\n      <td>cars are parked on the side of the road in the...</td>\n      <td>Rachel Weisz</td>\n      <td>celebrities</td>\n      <td>True</td>\n      <td>CelebrityDiffusion</td>\n    </tr>\n    <tr>\n      <th>1</th>\n      <td>D:\\data\\images\\prettyasiangirls\\9d5b7331b941ec...</td>\n      <td>9d5b7331b941ecf3fdbc8ad322303825.jpg</td>\n      <td>blonde woman with blonde hair and tattoos on h...</td>\n      <td>Library</td>\n      <td>prettyasiangirls</td>\n      <td>True</td>\n      <td>SexyAsianDiffusion</td>\n    </tr>\n    <tr>\n      <th>2</th>\n      <td>D:\\data\\images\\KoreanHotties\\a154a56b1b87cf3a0...</td>\n      <td>a154a56b1b87cf3a0bc93600c86e4585.jpg</td>\n      <td>a man with a beard and a beard sitting in fron...</td>\n      <td>Underboob bikini</td>\n      <td>KoreanHotties</td>\n      <td>True</td>\n      <td>SexyAsianDiffusion</td>\n    </tr>\n    <tr>\n      <th>3</th>\n      <td>/data/images/spaceporn/7s5aafaqkb9a1.jpg</td>\n      <td>7s5aafaqkb9a1.jpg</td>\n      <td>a view of a view of a large green and purple a...</td>\n      <td>Northern Lights above Lofoten</td>\n      <td>spaceporn</td>\n      <td>True</td>\n      <td>CosmicDiffusion</td>\n    </tr>\n    <tr>\n      <th>4</th>\n      <td>/data/images/spaceporn/abojw7lqlb9a1.jpg</td>\n      <td>abojw7lqlb9a1.jpg</td>\n      <td>a scene of a boat is sitting on the shore of a...</td>\n      <td>Viking Lights</td>\n      <td>spaceporn</td>\n      <td>True</td>\n      <td>CosmicDiffusion</td>\n    </tr>\n    <tr>\n      <th>...</th>\n      <td>...</td>\n      <td>...</td>\n      <td>...</td>\n      <td>...</td>\n      <td>...</td>\n      <td>...</td>\n      <td>...</td>\n    </tr>\n    <tr>\n      <th>26394</th>\n      <td>D:\\data\\images\\mildlypenis\\7604c3e55ce8dbf2385...</td>\n      <td>7604c3e55ce8dbf238520683d6e71f89.jpg</td>\n      <td>there is a small piece of metal with two small...</td>\n      <td>Lenis</td>\n      <td>mildlypenis</td>\n      <td>True</td>\n      <td>MildlyPenisDiffusion</td>\n    </tr>\n    <tr>\n      <th>26395</th>\n      <td>D:\\data\\images\\mildlypenis\\389f8aa0fb191bdeba0...</td>\n      <td>389f8aa0fb191bdeba08c8d2cfff8ce2.jpg</td>\n      <td>a close up of a blue knitted bagueth on a chair</td>\n      <td>My friend is making a stuffed animal and this ...</td>\n      <td>mildlypenis</td>\n      <td>True</td>\n      <td>MildlyPenisDiffusion</td>\n    </tr>\n    <tr>\n      <th>26396</th>\n      <td>D:\\data\\images\\mildlypenis\\87563ac0c8ddeeb0ce4...</td>\n      <td>87563ac0c8ddeeb0ce47bc915b99308b.jpg</td>\n      <td>someone is holding a key chain with a mickey m...</td>\n      <td>This weird Mickey keychain hand</td>\n      <td>mildlypenis</td>\n      <td>True</td>\n      <td>MildlyPenisDiffusion</td>\n    </tr>\n    <tr>\n      <th>26397</th>\n      <td>D:\\data\\images\\mildlypenis\\88b596be6de959bd29e...</td>\n      <td>88b596be6de959bd29eed4e8946bb476.jpg</td>\n      <td>a close up of a black and white photo of a bla...</td>\n      <td>Parking lot pp</td>\n      <td>mildlypenis</td>\n      <td>True</td>\n      <td>MildlyPenisDiffusion</td>\n    </tr>\n    <tr>\n      <th>26398</th>\n      <td>D:\\data\\images\\mildlypenis\\eb7ed95bedcd44c1309...</td>\n      <td>eb7ed95bedcd44c130938e2f09069f08.jpg</td>\n      <td>there is a picture of a video game on the tv s...</td>\n      <td>Can't figure out why they didn't approve of th...</td>\n      <td>mildlypenis</td>\n      <td>True</td>\n      <td>MildlyPenisDiffusion</td>\n    </tr>\n  </tbody>\n</table>\n<p>26399 rows × 7 columns</p>\n</div>"
     },
     "metadata": {},
     "output_type": "display_data"
    }
   ],
   "source": [
    "foo = smaller_exportable_df.where(smaller_exportable_df['exists'] == True).dropna(how='all').reset_index(drop=True)\n",
    "display(foo)"
   ],
   "metadata": {
    "collapsed": false,
    "ExecuteTime": {
     "start_time": "2023-04-02T16:24:39.469933Z",
     "end_time": "2023-04-02T16:24:39.876099Z"
    }
   }
  },
  {
   "cell_type": "code",
   "execution_count": 12,
   "outputs": [
    {
     "data": {
      "text/plain": "                          path  image_name  caption  title  subreddit  exists\nname                                                                         \n                          2024        2024     2024   2024       2024    2024\nAsianOfficeGirlDiffusion   991         991      991    991        991     991\nCelebrityDiffusion         435         435      435    435        435     435\nCityDiffusion             3172        3172     3172   3172       3172    3172\nCosmicDiffusion           1940        1940     1940   1940       1940    1940\nFatSquirrelDiffusion      1002        1002     1002   1002       1002    1002\nITAPDiffusion             3144        3144     3144   3144       3144    3144\nMemeDiffusion             3162        3162     3162   3162       3162    3162\nMildlyPenisDiffusion       823         823      823    823        823     823\nNatureDiffusion           3786        3786     3786   3786       3786    3786\nNextDoorGirlsDiffusion    1590        1590     1590   1590       1590    1590\nRedHeadDiffusion          1528        1528     1528   1528       1528    1528\nSWFPetite                  440         440      440    440        440     440\nSexyAsianDiffusion         923         923      923    923        923     923\nSexyDiffusion              549         549      549    549        549     549\nTTTDiffusion               600         600      600    600        600     600\nWallStreetDiffusion        290         290      290    290        290     290",
      "text/html": "<div>\n<style scoped>\n    .dataframe tbody tr th:only-of-type {\n        vertical-align: middle;\n    }\n\n    .dataframe tbody tr th {\n        vertical-align: top;\n    }\n\n    .dataframe thead th {\n        text-align: right;\n    }\n</style>\n<table border=\"1\" class=\"dataframe\">\n  <thead>\n    <tr style=\"text-align: right;\">\n      <th></th>\n      <th>path</th>\n      <th>image_name</th>\n      <th>caption</th>\n      <th>title</th>\n      <th>subreddit</th>\n      <th>exists</th>\n    </tr>\n    <tr>\n      <th>name</th>\n      <th></th>\n      <th></th>\n      <th></th>\n      <th></th>\n      <th></th>\n      <th></th>\n    </tr>\n  </thead>\n  <tbody>\n    <tr>\n      <th></th>\n      <td>2024</td>\n      <td>2024</td>\n      <td>2024</td>\n      <td>2024</td>\n      <td>2024</td>\n      <td>2024</td>\n    </tr>\n    <tr>\n      <th>AsianOfficeGirlDiffusion</th>\n      <td>991</td>\n      <td>991</td>\n      <td>991</td>\n      <td>991</td>\n      <td>991</td>\n      <td>991</td>\n    </tr>\n    <tr>\n      <th>CelebrityDiffusion</th>\n      <td>435</td>\n      <td>435</td>\n      <td>435</td>\n      <td>435</td>\n      <td>435</td>\n      <td>435</td>\n    </tr>\n    <tr>\n      <th>CityDiffusion</th>\n      <td>3172</td>\n      <td>3172</td>\n      <td>3172</td>\n      <td>3172</td>\n      <td>3172</td>\n      <td>3172</td>\n    </tr>\n    <tr>\n      <th>CosmicDiffusion</th>\n      <td>1940</td>\n      <td>1940</td>\n      <td>1940</td>\n      <td>1940</td>\n      <td>1940</td>\n      <td>1940</td>\n    </tr>\n    <tr>\n      <th>FatSquirrelDiffusion</th>\n      <td>1002</td>\n      <td>1002</td>\n      <td>1002</td>\n      <td>1002</td>\n      <td>1002</td>\n      <td>1002</td>\n    </tr>\n    <tr>\n      <th>ITAPDiffusion</th>\n      <td>3144</td>\n      <td>3144</td>\n      <td>3144</td>\n      <td>3144</td>\n      <td>3144</td>\n      <td>3144</td>\n    </tr>\n    <tr>\n      <th>MemeDiffusion</th>\n      <td>3162</td>\n      <td>3162</td>\n      <td>3162</td>\n      <td>3162</td>\n      <td>3162</td>\n      <td>3162</td>\n    </tr>\n    <tr>\n      <th>MildlyPenisDiffusion</th>\n      <td>823</td>\n      <td>823</td>\n      <td>823</td>\n      <td>823</td>\n      <td>823</td>\n      <td>823</td>\n    </tr>\n    <tr>\n      <th>NatureDiffusion</th>\n      <td>3786</td>\n      <td>3786</td>\n      <td>3786</td>\n      <td>3786</td>\n      <td>3786</td>\n      <td>3786</td>\n    </tr>\n    <tr>\n      <th>NextDoorGirlsDiffusion</th>\n      <td>1590</td>\n      <td>1590</td>\n      <td>1590</td>\n      <td>1590</td>\n      <td>1590</td>\n      <td>1590</td>\n    </tr>\n    <tr>\n      <th>RedHeadDiffusion</th>\n      <td>1528</td>\n      <td>1528</td>\n      <td>1528</td>\n      <td>1528</td>\n      <td>1528</td>\n      <td>1528</td>\n    </tr>\n    <tr>\n      <th>SWFPetite</th>\n      <td>440</td>\n      <td>440</td>\n      <td>440</td>\n      <td>440</td>\n      <td>440</td>\n      <td>440</td>\n    </tr>\n    <tr>\n      <th>SexyAsianDiffusion</th>\n      <td>923</td>\n      <td>923</td>\n      <td>923</td>\n      <td>923</td>\n      <td>923</td>\n      <td>923</td>\n    </tr>\n    <tr>\n      <th>SexyDiffusion</th>\n      <td>549</td>\n      <td>549</td>\n      <td>549</td>\n      <td>549</td>\n      <td>549</td>\n      <td>549</td>\n    </tr>\n    <tr>\n      <th>TTTDiffusion</th>\n      <td>600</td>\n      <td>600</td>\n      <td>600</td>\n      <td>600</td>\n      <td>600</td>\n      <td>600</td>\n    </tr>\n    <tr>\n      <th>WallStreetDiffusion</th>\n      <td>290</td>\n      <td>290</td>\n      <td>290</td>\n      <td>290</td>\n      <td>290</td>\n      <td>290</td>\n    </tr>\n  </tbody>\n</table>\n</div>"
     },
     "metadata": {},
     "output_type": "display_data"
    }
   ],
   "source": [
    "display(foo.groupby(by=\"name\").count())"
   ],
   "metadata": {
    "collapsed": false,
    "ExecuteTime": {
     "start_time": "2023-04-02T16:24:39.657439Z",
     "end_time": "2023-04-02T16:24:39.876099Z"
    }
   }
  },
  {
   "cell_type": "code",
   "execution_count": 13,
   "outputs": [
    {
     "name": "stderr",
     "output_type": "stream",
     "text": [
      "Copy:   0%|          | 0/26399 [00:00<?, ?it/s]\n"
     ]
    },
    {
     "data": {
      "text/plain": "                                                    path  \\\n0      D:\\data\\images\\celebrities\\f09b1c0c5dea50c9340...   \n1      D:\\data\\images\\prettyasiangirls\\9d5b7331b941ec...   \n2      D:\\data\\images\\KoreanHotties\\a154a56b1b87cf3a0...   \n3               /data/images/spaceporn/7s5aafaqkb9a1.jpg   \n4               /data/images/spaceporn/abojw7lqlb9a1.jpg   \n...                                                  ...   \n26394  D:\\data\\images\\mildlypenis\\7604c3e55ce8dbf2385...   \n26395  D:\\data\\images\\mildlypenis\\389f8aa0fb191bdeba0...   \n26396  D:\\data\\images\\mildlypenis\\87563ac0c8ddeeb0ce4...   \n26397  D:\\data\\images\\mildlypenis\\88b596be6de959bd29e...   \n26398  D:\\data\\images\\mildlypenis\\eb7ed95bedcd44c1309...   \n\n                                 image_name  \\\n0      f09b1c0c5dea50c934081a04c83d4d33.jpg   \n1      9d5b7331b941ecf3fdbc8ad322303825.jpg   \n2      a154a56b1b87cf3a0bc93600c86e4585.jpg   \n3                         7s5aafaqkb9a1.jpg   \n4                         abojw7lqlb9a1.jpg   \n...                                     ...   \n26394  7604c3e55ce8dbf238520683d6e71f89.jpg   \n26395  389f8aa0fb191bdeba08c8d2cfff8ce2.jpg   \n26396  87563ac0c8ddeeb0ce47bc915b99308b.jpg   \n26397  88b596be6de959bd29eed4e8946bb476.jpg   \n26398  eb7ed95bedcd44c130938e2f09069f08.jpg   \n\n                                                 caption  \\\n0      cars are parked on the side of the road in the...   \n1      blonde woman with blonde hair and tattoos on h...   \n2      a man with a beard and a beard sitting in fron...   \n3      a view of a view of a large green and purple a...   \n4      a scene of a boat is sitting on the shore of a...   \n...                                                  ...   \n26394  there is a small piece of metal with two small...   \n26395    a close up of a blue knitted bagueth on a chair   \n26396  someone is holding a key chain with a mickey m...   \n26397  a close up of a black and white photo of a bla...   \n26398  there is a picture of a video game on the tv s...   \n\n                                                   title         subreddit  \\\n0                                           Rachel Weisz       celebrities   \n1                                                Library  prettyasiangirls   \n2                                       Underboob bikini     KoreanHotties   \n3                          Northern Lights above Lofoten         spaceporn   \n4                                          Viking Lights         spaceporn   \n...                                                  ...               ...   \n26394                                              Lenis       mildlypenis   \n26395  My friend is making a stuffed animal and this ...       mildlypenis   \n26396                    This weird Mickey keychain hand       mildlypenis   \n26397                                     Parking lot pp       mildlypenis   \n26398  Can't figure out why they didn't approve of th...       mildlypenis   \n\n      exists                  name image_data  \n0       True    CelebrityDiffusion        NaN  \n1       True    SexyAsianDiffusion        NaN  \n2       True    SexyAsianDiffusion        NaN  \n3       True       CosmicDiffusion        NaN  \n4       True       CosmicDiffusion        NaN  \n...      ...                   ...        ...  \n26394   True  MildlyPenisDiffusion        NaN  \n26395   True  MildlyPenisDiffusion        NaN  \n26396   True  MildlyPenisDiffusion        NaN  \n26397   True  MildlyPenisDiffusion        NaN  \n26398   True  MildlyPenisDiffusion        NaN  \n\n[26399 rows x 8 columns]",
      "text/html": "<div>\n<style scoped>\n    .dataframe tbody tr th:only-of-type {\n        vertical-align: middle;\n    }\n\n    .dataframe tbody tr th {\n        vertical-align: top;\n    }\n\n    .dataframe thead th {\n        text-align: right;\n    }\n</style>\n<table border=\"1\" class=\"dataframe\">\n  <thead>\n    <tr style=\"text-align: right;\">\n      <th></th>\n      <th>path</th>\n      <th>image_name</th>\n      <th>caption</th>\n      <th>title</th>\n      <th>subreddit</th>\n      <th>exists</th>\n      <th>name</th>\n      <th>image_data</th>\n    </tr>\n  </thead>\n  <tbody>\n    <tr>\n      <th>0</th>\n      <td>D:\\data\\images\\celebrities\\f09b1c0c5dea50c9340...</td>\n      <td>f09b1c0c5dea50c934081a04c83d4d33.jpg</td>\n      <td>cars are parked on the side of the road in the...</td>\n      <td>Rachel Weisz</td>\n      <td>celebrities</td>\n      <td>True</td>\n      <td>CelebrityDiffusion</td>\n      <td>NaN</td>\n    </tr>\n    <tr>\n      <th>1</th>\n      <td>D:\\data\\images\\prettyasiangirls\\9d5b7331b941ec...</td>\n      <td>9d5b7331b941ecf3fdbc8ad322303825.jpg</td>\n      <td>blonde woman with blonde hair and tattoos on h...</td>\n      <td>Library</td>\n      <td>prettyasiangirls</td>\n      <td>True</td>\n      <td>SexyAsianDiffusion</td>\n      <td>NaN</td>\n    </tr>\n    <tr>\n      <th>2</th>\n      <td>D:\\data\\images\\KoreanHotties\\a154a56b1b87cf3a0...</td>\n      <td>a154a56b1b87cf3a0bc93600c86e4585.jpg</td>\n      <td>a man with a beard and a beard sitting in fron...</td>\n      <td>Underboob bikini</td>\n      <td>KoreanHotties</td>\n      <td>True</td>\n      <td>SexyAsianDiffusion</td>\n      <td>NaN</td>\n    </tr>\n    <tr>\n      <th>3</th>\n      <td>/data/images/spaceporn/7s5aafaqkb9a1.jpg</td>\n      <td>7s5aafaqkb9a1.jpg</td>\n      <td>a view of a view of a large green and purple a...</td>\n      <td>Northern Lights above Lofoten</td>\n      <td>spaceporn</td>\n      <td>True</td>\n      <td>CosmicDiffusion</td>\n      <td>NaN</td>\n    </tr>\n    <tr>\n      <th>4</th>\n      <td>/data/images/spaceporn/abojw7lqlb9a1.jpg</td>\n      <td>abojw7lqlb9a1.jpg</td>\n      <td>a scene of a boat is sitting on the shore of a...</td>\n      <td>Viking Lights</td>\n      <td>spaceporn</td>\n      <td>True</td>\n      <td>CosmicDiffusion</td>\n      <td>NaN</td>\n    </tr>\n    <tr>\n      <th>...</th>\n      <td>...</td>\n      <td>...</td>\n      <td>...</td>\n      <td>...</td>\n      <td>...</td>\n      <td>...</td>\n      <td>...</td>\n      <td>...</td>\n    </tr>\n    <tr>\n      <th>26394</th>\n      <td>D:\\data\\images\\mildlypenis\\7604c3e55ce8dbf2385...</td>\n      <td>7604c3e55ce8dbf238520683d6e71f89.jpg</td>\n      <td>there is a small piece of metal with two small...</td>\n      <td>Lenis</td>\n      <td>mildlypenis</td>\n      <td>True</td>\n      <td>MildlyPenisDiffusion</td>\n      <td>NaN</td>\n    </tr>\n    <tr>\n      <th>26395</th>\n      <td>D:\\data\\images\\mildlypenis\\389f8aa0fb191bdeba0...</td>\n      <td>389f8aa0fb191bdeba08c8d2cfff8ce2.jpg</td>\n      <td>a close up of a blue knitted bagueth on a chair</td>\n      <td>My friend is making a stuffed animal and this ...</td>\n      <td>mildlypenis</td>\n      <td>True</td>\n      <td>MildlyPenisDiffusion</td>\n      <td>NaN</td>\n    </tr>\n    <tr>\n      <th>26396</th>\n      <td>D:\\data\\images\\mildlypenis\\87563ac0c8ddeeb0ce4...</td>\n      <td>87563ac0c8ddeeb0ce47bc915b99308b.jpg</td>\n      <td>someone is holding a key chain with a mickey m...</td>\n      <td>This weird Mickey keychain hand</td>\n      <td>mildlypenis</td>\n      <td>True</td>\n      <td>MildlyPenisDiffusion</td>\n      <td>NaN</td>\n    </tr>\n    <tr>\n      <th>26397</th>\n      <td>D:\\data\\images\\mildlypenis\\88b596be6de959bd29e...</td>\n      <td>88b596be6de959bd29eed4e8946bb476.jpg</td>\n      <td>a close up of a black and white photo of a bla...</td>\n      <td>Parking lot pp</td>\n      <td>mildlypenis</td>\n      <td>True</td>\n      <td>MildlyPenisDiffusion</td>\n      <td>NaN</td>\n    </tr>\n    <tr>\n      <th>26398</th>\n      <td>D:\\data\\images\\mildlypenis\\eb7ed95bedcd44c1309...</td>\n      <td>eb7ed95bedcd44c130938e2f09069f08.jpg</td>\n      <td>there is a picture of a video game on the tv s...</td>\n      <td>Can't figure out why they didn't approve of th...</td>\n      <td>mildlypenis</td>\n      <td>True</td>\n      <td>MildlyPenisDiffusion</td>\n      <td>NaN</td>\n    </tr>\n  </tbody>\n</table>\n<p>26399 rows × 8 columns</p>\n</div>"
     },
     "metadata": {},
     "output_type": "display_data"
    },
    {
     "name": "stdout",
     "output_type": "stream",
     "text": [
      "CPU times: total: 188 ms\n",
      "Wall time: 203 ms\n"
     ]
    }
   ],
   "source": [
    "%%time\n",
    "\n",
    "smaller_exportable_df = smaller_exportable_df.where(lambda x: x['exists'] == True).dropna(how='all').reset_index(drop=True)\n",
    "\n",
    "# with ProgressBar():\n",
    "with tqdm(total=len(smaller_exportable_df), desc=\"Copy\"):\n",
    "\tsmaller_exportable_df['image_data'] = smaller_exportable_df.apply(lambda x: move_file(x))\n",
    "\t# dask_frame = dd.from_pandas(smaller_exportable_df, npartitions=10)\n",
    "\t# smaller_exportable_df['image_data'] = dask_frame.apply(lambda x: move_file(x), meta=('str', object), axis=1).compute()\n",
    "\n",
    "display(smaller_exportable_df)"
   ],
   "metadata": {
    "collapsed": false,
    "ExecuteTime": {
     "start_time": "2023-04-02T16:24:39.798060Z",
     "end_time": "2023-04-02T16:24:40.194691Z"
    }
   }
  },
  {
   "cell_type": "code",
   "execution_count": 14,
   "outputs": [
    {
     "data": {
      "text/plain": "                                                    path  \\\n0      D:\\data\\images\\celebrities\\f09b1c0c5dea50c9340...   \n1      D:\\data\\images\\prettyasiangirls\\9d5b7331b941ec...   \n2      D:\\data\\images\\KoreanHotties\\a154a56b1b87cf3a0...   \n3               /data/images/spaceporn/7s5aafaqkb9a1.jpg   \n4               /data/images/spaceporn/abojw7lqlb9a1.jpg   \n...                                                  ...   \n24370  D:\\data\\images\\mildlypenis\\7604c3e55ce8dbf2385...   \n24371  D:\\data\\images\\mildlypenis\\389f8aa0fb191bdeba0...   \n24372  D:\\data\\images\\mildlypenis\\87563ac0c8ddeeb0ce4...   \n24373  D:\\data\\images\\mildlypenis\\88b596be6de959bd29e...   \n24374  D:\\data\\images\\mildlypenis\\eb7ed95bedcd44c1309...   \n\n                                 image_name  \\\n0      f09b1c0c5dea50c934081a04c83d4d33.jpg   \n1      9d5b7331b941ecf3fdbc8ad322303825.jpg   \n2      a154a56b1b87cf3a0bc93600c86e4585.jpg   \n3                         7s5aafaqkb9a1.jpg   \n4                         abojw7lqlb9a1.jpg   \n...                                     ...   \n24370  7604c3e55ce8dbf238520683d6e71f89.jpg   \n24371  389f8aa0fb191bdeba08c8d2cfff8ce2.jpg   \n24372  87563ac0c8ddeeb0ce47bc915b99308b.jpg   \n24373  88b596be6de959bd29eed4e8946bb476.jpg   \n24374  eb7ed95bedcd44c130938e2f09069f08.jpg   \n\n                                                 caption  \\\n0      cars are parked on the side of the road in the...   \n1      blonde woman with blonde hair and tattoos on h...   \n2      a man with a beard and a beard sitting in fron...   \n3      a view of a view of a large green and purple a...   \n4      a scene of a boat is sitting on the shore of a...   \n...                                                  ...   \n24370  there is a small piece of metal with two small...   \n24371    a close up of a blue knitted bagueth on a chair   \n24372  someone is holding a key chain with a mickey m...   \n24373  a close up of a black and white photo of a bla...   \n24374  there is a picture of a video game on the tv s...   \n\n                                                   title         subreddit  \\\n0                                           Rachel Weisz       celebrities   \n1                                                Library  prettyasiangirls   \n2                                       Underboob bikini     KoreanHotties   \n3                          Northern Lights above Lofoten         spaceporn   \n4                                          Viking Lights         spaceporn   \n...                                                  ...               ...   \n24370                                              Lenis       mildlypenis   \n24371  My friend is making a stuffed animal and this ...       mildlypenis   \n24372                    This weird Mickey keychain hand       mildlypenis   \n24373                                     Parking lot pp       mildlypenis   \n24374  Can't figure out why they didn't approve of th...       mildlypenis   \n\n      exists                  name image_data  \n0       True    CelebrityDiffusion        NaN  \n1       True    SexyAsianDiffusion        NaN  \n2       True    SexyAsianDiffusion        NaN  \n3       True       CosmicDiffusion        NaN  \n4       True       CosmicDiffusion        NaN  \n...      ...                   ...        ...  \n24370   True  MildlyPenisDiffusion        NaN  \n24371   True  MildlyPenisDiffusion        NaN  \n24372   True  MildlyPenisDiffusion        NaN  \n24373   True  MildlyPenisDiffusion        NaN  \n24374   True  MildlyPenisDiffusion        NaN  \n\n[24375 rows x 8 columns]",
      "text/html": "<div>\n<style scoped>\n    .dataframe tbody tr th:only-of-type {\n        vertical-align: middle;\n    }\n\n    .dataframe tbody tr th {\n        vertical-align: top;\n    }\n\n    .dataframe thead th {\n        text-align: right;\n    }\n</style>\n<table border=\"1\" class=\"dataframe\">\n  <thead>\n    <tr style=\"text-align: right;\">\n      <th></th>\n      <th>path</th>\n      <th>image_name</th>\n      <th>caption</th>\n      <th>title</th>\n      <th>subreddit</th>\n      <th>exists</th>\n      <th>name</th>\n      <th>image_data</th>\n    </tr>\n  </thead>\n  <tbody>\n    <tr>\n      <th>0</th>\n      <td>D:\\data\\images\\celebrities\\f09b1c0c5dea50c9340...</td>\n      <td>f09b1c0c5dea50c934081a04c83d4d33.jpg</td>\n      <td>cars are parked on the side of the road in the...</td>\n      <td>Rachel Weisz</td>\n      <td>celebrities</td>\n      <td>True</td>\n      <td>CelebrityDiffusion</td>\n      <td>NaN</td>\n    </tr>\n    <tr>\n      <th>1</th>\n      <td>D:\\data\\images\\prettyasiangirls\\9d5b7331b941ec...</td>\n      <td>9d5b7331b941ecf3fdbc8ad322303825.jpg</td>\n      <td>blonde woman with blonde hair and tattoos on h...</td>\n      <td>Library</td>\n      <td>prettyasiangirls</td>\n      <td>True</td>\n      <td>SexyAsianDiffusion</td>\n      <td>NaN</td>\n    </tr>\n    <tr>\n      <th>2</th>\n      <td>D:\\data\\images\\KoreanHotties\\a154a56b1b87cf3a0...</td>\n      <td>a154a56b1b87cf3a0bc93600c86e4585.jpg</td>\n      <td>a man with a beard and a beard sitting in fron...</td>\n      <td>Underboob bikini</td>\n      <td>KoreanHotties</td>\n      <td>True</td>\n      <td>SexyAsianDiffusion</td>\n      <td>NaN</td>\n    </tr>\n    <tr>\n      <th>3</th>\n      <td>/data/images/spaceporn/7s5aafaqkb9a1.jpg</td>\n      <td>7s5aafaqkb9a1.jpg</td>\n      <td>a view of a view of a large green and purple a...</td>\n      <td>Northern Lights above Lofoten</td>\n      <td>spaceporn</td>\n      <td>True</td>\n      <td>CosmicDiffusion</td>\n      <td>NaN</td>\n    </tr>\n    <tr>\n      <th>4</th>\n      <td>/data/images/spaceporn/abojw7lqlb9a1.jpg</td>\n      <td>abojw7lqlb9a1.jpg</td>\n      <td>a scene of a boat is sitting on the shore of a...</td>\n      <td>Viking Lights</td>\n      <td>spaceporn</td>\n      <td>True</td>\n      <td>CosmicDiffusion</td>\n      <td>NaN</td>\n    </tr>\n    <tr>\n      <th>...</th>\n      <td>...</td>\n      <td>...</td>\n      <td>...</td>\n      <td>...</td>\n      <td>...</td>\n      <td>...</td>\n      <td>...</td>\n      <td>...</td>\n    </tr>\n    <tr>\n      <th>24370</th>\n      <td>D:\\data\\images\\mildlypenis\\7604c3e55ce8dbf2385...</td>\n      <td>7604c3e55ce8dbf238520683d6e71f89.jpg</td>\n      <td>there is a small piece of metal with two small...</td>\n      <td>Lenis</td>\n      <td>mildlypenis</td>\n      <td>True</td>\n      <td>MildlyPenisDiffusion</td>\n      <td>NaN</td>\n    </tr>\n    <tr>\n      <th>24371</th>\n      <td>D:\\data\\images\\mildlypenis\\389f8aa0fb191bdeba0...</td>\n      <td>389f8aa0fb191bdeba08c8d2cfff8ce2.jpg</td>\n      <td>a close up of a blue knitted bagueth on a chair</td>\n      <td>My friend is making a stuffed animal and this ...</td>\n      <td>mildlypenis</td>\n      <td>True</td>\n      <td>MildlyPenisDiffusion</td>\n      <td>NaN</td>\n    </tr>\n    <tr>\n      <th>24372</th>\n      <td>D:\\data\\images\\mildlypenis\\87563ac0c8ddeeb0ce4...</td>\n      <td>87563ac0c8ddeeb0ce47bc915b99308b.jpg</td>\n      <td>someone is holding a key chain with a mickey m...</td>\n      <td>This weird Mickey keychain hand</td>\n      <td>mildlypenis</td>\n      <td>True</td>\n      <td>MildlyPenisDiffusion</td>\n      <td>NaN</td>\n    </tr>\n    <tr>\n      <th>24373</th>\n      <td>D:\\data\\images\\mildlypenis\\88b596be6de959bd29e...</td>\n      <td>88b596be6de959bd29eed4e8946bb476.jpg</td>\n      <td>a close up of a black and white photo of a bla...</td>\n      <td>Parking lot pp</td>\n      <td>mildlypenis</td>\n      <td>True</td>\n      <td>MildlyPenisDiffusion</td>\n      <td>NaN</td>\n    </tr>\n    <tr>\n      <th>24374</th>\n      <td>D:\\data\\images\\mildlypenis\\eb7ed95bedcd44c1309...</td>\n      <td>eb7ed95bedcd44c130938e2f09069f08.jpg</td>\n      <td>there is a picture of a video game on the tv s...</td>\n      <td>Can't figure out why they didn't approve of th...</td>\n      <td>mildlypenis</td>\n      <td>True</td>\n      <td>MildlyPenisDiffusion</td>\n      <td>NaN</td>\n    </tr>\n  </tbody>\n</table>\n<p>24375 rows × 8 columns</p>\n</div>"
     },
     "metadata": {},
     "output_type": "display_data"
    },
    {
     "name": "stdout",
     "output_type": "stream",
     "text": [
      "CPU times: total: 297 ms\n",
      "Wall time: 314 ms\n"
     ]
    }
   ],
   "source": [
    "%%time\n",
    "\n",
    "filtered_again = smaller_exportable_df.where(lambda x: x['image_data'] != \"\").dropna(how='all').reset_index(drop=True)\n",
    "filtered_again = filtered_again.where(lambda x: x['name'] != \"\").dropna(how='all').reset_index(drop=True)\n",
    "display(filtered_again)"
   ],
   "metadata": {
    "collapsed": false,
    "ExecuteTime": {
     "start_time": "2023-04-02T16:24:40.017174Z",
     "end_time": "2023-04-02T16:24:40.926395Z"
    }
   }
  },
  {
   "cell_type": "code",
   "execution_count": 15,
   "outputs": [
    {
     "data": {
      "text/plain": "                                                    path  \\\n0      D:\\data\\images\\celebrities\\f09b1c0c5dea50c9340...   \n1      D:\\data\\images\\prettyasiangirls\\9d5b7331b941ec...   \n2      D:\\data\\images\\KoreanHotties\\a154a56b1b87cf3a0...   \n3               /data/images/spaceporn/7s5aafaqkb9a1.jpg   \n4               /data/images/spaceporn/abojw7lqlb9a1.jpg   \n...                                                  ...   \n24370  D:\\data\\images\\mildlypenis\\7604c3e55ce8dbf2385...   \n24371  D:\\data\\images\\mildlypenis\\389f8aa0fb191bdeba0...   \n24372  D:\\data\\images\\mildlypenis\\87563ac0c8ddeeb0ce4...   \n24373  D:\\data\\images\\mildlypenis\\88b596be6de959bd29e...   \n24374  D:\\data\\images\\mildlypenis\\eb7ed95bedcd44c1309...   \n\n                                 image_name  \\\n0      f09b1c0c5dea50c934081a04c83d4d33.jpg   \n1      9d5b7331b941ecf3fdbc8ad322303825.jpg   \n2      a154a56b1b87cf3a0bc93600c86e4585.jpg   \n3                         7s5aafaqkb9a1.jpg   \n4                         abojw7lqlb9a1.jpg   \n...                                     ...   \n24370  7604c3e55ce8dbf238520683d6e71f89.jpg   \n24371  389f8aa0fb191bdeba08c8d2cfff8ce2.jpg   \n24372  87563ac0c8ddeeb0ce47bc915b99308b.jpg   \n24373  88b596be6de959bd29eed4e8946bb476.jpg   \n24374  eb7ed95bedcd44c130938e2f09069f08.jpg   \n\n                                                 caption  \\\n0      cars are parked on the side of the road in the...   \n1      blonde woman with blonde hair and tattoos on h...   \n2      a man with a beard and a beard sitting in fron...   \n3      a view of a view of a large green and purple a...   \n4      a scene of a boat is sitting on the shore of a...   \n...                                                  ...   \n24370  there is a small piece of metal with two small...   \n24371    a close up of a blue knitted bagueth on a chair   \n24372  someone is holding a key chain with a mickey m...   \n24373  a close up of a black and white photo of a bla...   \n24374  there is a picture of a video game on the tv s...   \n\n                                                   title         subreddit  \\\n0                                           Rachel Weisz       celebrities   \n1                                                Library  prettyasiangirls   \n2                                       Underboob bikini     KoreanHotties   \n3                          Northern Lights above Lofoten         spaceporn   \n4                                          Viking Lights         spaceporn   \n...                                                  ...               ...   \n24370                                              Lenis       mildlypenis   \n24371  My friend is making a stuffed animal and this ...       mildlypenis   \n24372                    This weird Mickey keychain hand       mildlypenis   \n24373                                     Parking lot pp       mildlypenis   \n24374  Can't figure out why they didn't approve of th...       mildlypenis   \n\n      exists                  name image_data  \n0       True    CelebrityDiffusion        NaN  \n1       True    SexyAsianDiffusion        NaN  \n2       True    SexyAsianDiffusion        NaN  \n3       True       CosmicDiffusion        NaN  \n4       True       CosmicDiffusion        NaN  \n...      ...                   ...        ...  \n24370   True  MildlyPenisDiffusion        NaN  \n24371   True  MildlyPenisDiffusion        NaN  \n24372   True  MildlyPenisDiffusion        NaN  \n24373   True  MildlyPenisDiffusion        NaN  \n24374   True  MildlyPenisDiffusion        NaN  \n\n[24375 rows x 8 columns]",
      "text/html": "<div>\n<style scoped>\n    .dataframe tbody tr th:only-of-type {\n        vertical-align: middle;\n    }\n\n    .dataframe tbody tr th {\n        vertical-align: top;\n    }\n\n    .dataframe thead th {\n        text-align: right;\n    }\n</style>\n<table border=\"1\" class=\"dataframe\">\n  <thead>\n    <tr style=\"text-align: right;\">\n      <th></th>\n      <th>path</th>\n      <th>image_name</th>\n      <th>caption</th>\n      <th>title</th>\n      <th>subreddit</th>\n      <th>exists</th>\n      <th>name</th>\n      <th>image_data</th>\n    </tr>\n  </thead>\n  <tbody>\n    <tr>\n      <th>0</th>\n      <td>D:\\data\\images\\celebrities\\f09b1c0c5dea50c9340...</td>\n      <td>f09b1c0c5dea50c934081a04c83d4d33.jpg</td>\n      <td>cars are parked on the side of the road in the...</td>\n      <td>Rachel Weisz</td>\n      <td>celebrities</td>\n      <td>True</td>\n      <td>CelebrityDiffusion</td>\n      <td>NaN</td>\n    </tr>\n    <tr>\n      <th>1</th>\n      <td>D:\\data\\images\\prettyasiangirls\\9d5b7331b941ec...</td>\n      <td>9d5b7331b941ecf3fdbc8ad322303825.jpg</td>\n      <td>blonde woman with blonde hair and tattoos on h...</td>\n      <td>Library</td>\n      <td>prettyasiangirls</td>\n      <td>True</td>\n      <td>SexyAsianDiffusion</td>\n      <td>NaN</td>\n    </tr>\n    <tr>\n      <th>2</th>\n      <td>D:\\data\\images\\KoreanHotties\\a154a56b1b87cf3a0...</td>\n      <td>a154a56b1b87cf3a0bc93600c86e4585.jpg</td>\n      <td>a man with a beard and a beard sitting in fron...</td>\n      <td>Underboob bikini</td>\n      <td>KoreanHotties</td>\n      <td>True</td>\n      <td>SexyAsianDiffusion</td>\n      <td>NaN</td>\n    </tr>\n    <tr>\n      <th>3</th>\n      <td>/data/images/spaceporn/7s5aafaqkb9a1.jpg</td>\n      <td>7s5aafaqkb9a1.jpg</td>\n      <td>a view of a view of a large green and purple a...</td>\n      <td>Northern Lights above Lofoten</td>\n      <td>spaceporn</td>\n      <td>True</td>\n      <td>CosmicDiffusion</td>\n      <td>NaN</td>\n    </tr>\n    <tr>\n      <th>4</th>\n      <td>/data/images/spaceporn/abojw7lqlb9a1.jpg</td>\n      <td>abojw7lqlb9a1.jpg</td>\n      <td>a scene of a boat is sitting on the shore of a...</td>\n      <td>Viking Lights</td>\n      <td>spaceporn</td>\n      <td>True</td>\n      <td>CosmicDiffusion</td>\n      <td>NaN</td>\n    </tr>\n    <tr>\n      <th>...</th>\n      <td>...</td>\n      <td>...</td>\n      <td>...</td>\n      <td>...</td>\n      <td>...</td>\n      <td>...</td>\n      <td>...</td>\n      <td>...</td>\n    </tr>\n    <tr>\n      <th>24370</th>\n      <td>D:\\data\\images\\mildlypenis\\7604c3e55ce8dbf2385...</td>\n      <td>7604c3e55ce8dbf238520683d6e71f89.jpg</td>\n      <td>there is a small piece of metal with two small...</td>\n      <td>Lenis</td>\n      <td>mildlypenis</td>\n      <td>True</td>\n      <td>MildlyPenisDiffusion</td>\n      <td>NaN</td>\n    </tr>\n    <tr>\n      <th>24371</th>\n      <td>D:\\data\\images\\mildlypenis\\389f8aa0fb191bdeba0...</td>\n      <td>389f8aa0fb191bdeba08c8d2cfff8ce2.jpg</td>\n      <td>a close up of a blue knitted bagueth on a chair</td>\n      <td>My friend is making a stuffed animal and this ...</td>\n      <td>mildlypenis</td>\n      <td>True</td>\n      <td>MildlyPenisDiffusion</td>\n      <td>NaN</td>\n    </tr>\n    <tr>\n      <th>24372</th>\n      <td>D:\\data\\images\\mildlypenis\\87563ac0c8ddeeb0ce4...</td>\n      <td>87563ac0c8ddeeb0ce47bc915b99308b.jpg</td>\n      <td>someone is holding a key chain with a mickey m...</td>\n      <td>This weird Mickey keychain hand</td>\n      <td>mildlypenis</td>\n      <td>True</td>\n      <td>MildlyPenisDiffusion</td>\n      <td>NaN</td>\n    </tr>\n    <tr>\n      <th>24373</th>\n      <td>D:\\data\\images\\mildlypenis\\88b596be6de959bd29e...</td>\n      <td>88b596be6de959bd29eed4e8946bb476.jpg</td>\n      <td>a close up of a black and white photo of a bla...</td>\n      <td>Parking lot pp</td>\n      <td>mildlypenis</td>\n      <td>True</td>\n      <td>MildlyPenisDiffusion</td>\n      <td>NaN</td>\n    </tr>\n    <tr>\n      <th>24374</th>\n      <td>D:\\data\\images\\mildlypenis\\eb7ed95bedcd44c1309...</td>\n      <td>eb7ed95bedcd44c130938e2f09069f08.jpg</td>\n      <td>there is a picture of a video game on the tv s...</td>\n      <td>Can't figure out why they didn't approve of th...</td>\n      <td>mildlypenis</td>\n      <td>True</td>\n      <td>MildlyPenisDiffusion</td>\n      <td>NaN</td>\n    </tr>\n  </tbody>\n</table>\n<p>24375 rows × 8 columns</p>\n</div>"
     },
     "metadata": {},
     "output_type": "display_data"
    },
    {
     "name": "stdout",
     "output_type": "stream",
     "text": [
      "CPU times: total: 422 ms\n",
      "Wall time: 626 ms\n"
     ]
    }
   ],
   "source": [
    "%%time\n",
    "\n",
    "final = filtered_again\n",
    "display(final)\n",
    "\n",
    "grouped = final.groupby('name')\n",
    "groupings = [grouped.get_group(x) for x in grouped.groups]\n",
    "\n",
    "for group in groupings:\n",
    "\tgroup.to_parquet(f\"data/curated/{group['name'].iloc[0]}.parquet\")"
   ],
   "metadata": {
    "collapsed": false,
    "ExecuteTime": {
     "start_time": "2023-04-02T16:24:40.347196Z",
     "end_time": "2023-04-02T16:24:41.775189Z"
    }
   }
  },
  {
   "cell_type": "code",
   "execution_count": 16,
   "outputs": [],
   "source": [
    "lines = []\n",
    "training_lines = []\n",
    "for record in final.to_dict(orient='records'):\n",
    "\tsubreddit = record['subreddit']\n",
    "\tname = record['name']\n",
    "\tprompt = record['title']\n",
    "\tcaption = record['caption']\n",
    "\tline = f\"<|startoftext|><|model|>{name}<|prompt|>{prompt}<|text|>{caption}<|endoftext|>\" + \"\\n\"\n",
    "\tlines.append(line)\n",
    "with open(\"training.txt\", \"wb\") as f:\n",
    "\tfor line in lines:\n",
    "\t\tf.write(line.encode(\"utf-8\"))"
   ],
   "metadata": {
    "collapsed": false,
    "ExecuteTime": {
     "start_time": "2023-04-02T16:24:41.004519Z",
     "end_time": "2023-04-02T16:24:42.401992Z"
    }
   }
  },
  {
   "cell_type": "code",
   "execution_count": 17,
   "outputs": [
    {
     "data": {
      "text/plain": "                                                    path  \\\n21778  D:\\data\\images\\AsianOfficeLady\\8ee1550e8f3782c...   \n21779  D:\\data\\images\\AsianOfficeLady\\22cef92d2735421...   \n21780  D:\\data\\images\\AsianOfficeLady\\98655e2a68ab925...   \n21781  D:\\data\\images\\AsianOfficeLady\\c056ef3a0a9f345...   \n21782  D:\\data\\images\\AsianOfficeLady\\303198c51c0729f...   \n...                                                  ...   \n20541  D:\\data\\images\\wallstreetbets\\d68443295aac5154...   \n20542  D:\\data\\images\\wallstreetbets\\959579cc440ec31a...   \n20543  D:\\data\\images\\wallstreetbets\\07a6f67b65c0452c...   \n20544  D:\\data\\images\\wallstreetbets\\03c75f7d48f92b73...   \n20545  D:\\data\\images\\wallstreetbets\\12657d17c8f3d5f6...   \n\n                                 image_name  \\\n21778  8ee1550e8f3782c6a5e50284f50d2a20.jpg   \n21779  22cef92d27354215a01cc5946aacc697.jpg   \n21780  98655e2a68ab9251d77f5e88025661a1.jpg   \n21781  c056ef3a0a9f34538c29d803cb3be077.jpg   \n21782  303198c51c0729f2e3ce2a6ce85e4dbb.jpg   \n...                                     ...   \n20541  d68443295aac515459b13ad786e9649f.jpg   \n20542  959579cc440ec31a1cbb228fa3e4a3af.jpg   \n20543  07a6f67b65c0452c98aa59c1b57fc75d.jpg   \n20544  03c75f7d48f92b73c5fd14ad5ee46b83.jpg   \n20545  12657d17c8f3d5f6c14959c78dcf3205.jpg   \n\n                                                 caption  \\\n21778  a woman in a suit case standing in front of a ...   \n21779  a woman in a white top and black skirt standin...   \n21780  a woman in a black suit and a white shirt is s...   \n21781  a woman in a suit and glasses is posing for a ...   \n21782  woman in a blue dress with a red dress and a b...   \n...                                                  ...   \n20541  a screenshote of a cell phone showing a messag...   \n20542  a screenshote of a cell phone showing a screen...   \n20543  a screenshote of a dashboard with a bunch of d...   \n20544  a black and white photo of a man in a suit and...   \n20545  a picture taken from a video of a bear in the ...   \n\n                                                   title        subreddit  \\\n21778                                               #956  AsianOfficeLady   \n21779                                               #955  AsianOfficeLady   \n21780                                               #954  AsianOfficeLady   \n21781                                               #953  AsianOfficeLady   \n21782                                               #952  AsianOfficeLady   \n...                                                  ...              ...   \n20541                        ii illegal short selling… 🤔   wallstreetbets   \n20542                         II illegal short selling 🤔   wallstreetbets   \n20543  BAER expected to begin trading in Nasdaq on Ja...   wallstreetbets   \n20544                                Thought of you guys   wallstreetbets   \n20545                   time to yolo on Adani ports puts   wallstreetbets   \n\n       exists                      name image_data  \n21778    True  AsianOfficeGirlDiffusion       None  \n21779    True  AsianOfficeGirlDiffusion       None  \n21780    True  AsianOfficeGirlDiffusion       None  \n21781    True  AsianOfficeGirlDiffusion       None  \n21782    True  AsianOfficeGirlDiffusion       None  \n...       ...                       ...        ...  \n20541    True       WallStreetDiffusion       None  \n20542    True       WallStreetDiffusion       None  \n20543    True       WallStreetDiffusion       None  \n20544    True       WallStreetDiffusion       None  \n20545    True       WallStreetDiffusion       None  \n\n[24375 rows x 8 columns]",
      "text/html": "<div>\n<style scoped>\n    .dataframe tbody tr th:only-of-type {\n        vertical-align: middle;\n    }\n\n    .dataframe tbody tr th {\n        vertical-align: top;\n    }\n\n    .dataframe thead th {\n        text-align: right;\n    }\n</style>\n<table border=\"1\" class=\"dataframe\">\n  <thead>\n    <tr style=\"text-align: right;\">\n      <th></th>\n      <th>path</th>\n      <th>image_name</th>\n      <th>caption</th>\n      <th>title</th>\n      <th>subreddit</th>\n      <th>exists</th>\n      <th>name</th>\n      <th>image_data</th>\n    </tr>\n  </thead>\n  <tbody>\n    <tr>\n      <th>21778</th>\n      <td>D:\\data\\images\\AsianOfficeLady\\8ee1550e8f3782c...</td>\n      <td>8ee1550e8f3782c6a5e50284f50d2a20.jpg</td>\n      <td>a woman in a suit case standing in front of a ...</td>\n      <td>#956</td>\n      <td>AsianOfficeLady</td>\n      <td>True</td>\n      <td>AsianOfficeGirlDiffusion</td>\n      <td>None</td>\n    </tr>\n    <tr>\n      <th>21779</th>\n      <td>D:\\data\\images\\AsianOfficeLady\\22cef92d2735421...</td>\n      <td>22cef92d27354215a01cc5946aacc697.jpg</td>\n      <td>a woman in a white top and black skirt standin...</td>\n      <td>#955</td>\n      <td>AsianOfficeLady</td>\n      <td>True</td>\n      <td>AsianOfficeGirlDiffusion</td>\n      <td>None</td>\n    </tr>\n    <tr>\n      <th>21780</th>\n      <td>D:\\data\\images\\AsianOfficeLady\\98655e2a68ab925...</td>\n      <td>98655e2a68ab9251d77f5e88025661a1.jpg</td>\n      <td>a woman in a black suit and a white shirt is s...</td>\n      <td>#954</td>\n      <td>AsianOfficeLady</td>\n      <td>True</td>\n      <td>AsianOfficeGirlDiffusion</td>\n      <td>None</td>\n    </tr>\n    <tr>\n      <th>21781</th>\n      <td>D:\\data\\images\\AsianOfficeLady\\c056ef3a0a9f345...</td>\n      <td>c056ef3a0a9f34538c29d803cb3be077.jpg</td>\n      <td>a woman in a suit and glasses is posing for a ...</td>\n      <td>#953</td>\n      <td>AsianOfficeLady</td>\n      <td>True</td>\n      <td>AsianOfficeGirlDiffusion</td>\n      <td>None</td>\n    </tr>\n    <tr>\n      <th>21782</th>\n      <td>D:\\data\\images\\AsianOfficeLady\\303198c51c0729f...</td>\n      <td>303198c51c0729f2e3ce2a6ce85e4dbb.jpg</td>\n      <td>woman in a blue dress with a red dress and a b...</td>\n      <td>#952</td>\n      <td>AsianOfficeLady</td>\n      <td>True</td>\n      <td>AsianOfficeGirlDiffusion</td>\n      <td>None</td>\n    </tr>\n    <tr>\n      <th>...</th>\n      <td>...</td>\n      <td>...</td>\n      <td>...</td>\n      <td>...</td>\n      <td>...</td>\n      <td>...</td>\n      <td>...</td>\n      <td>...</td>\n    </tr>\n    <tr>\n      <th>20541</th>\n      <td>D:\\data\\images\\wallstreetbets\\d68443295aac5154...</td>\n      <td>d68443295aac515459b13ad786e9649f.jpg</td>\n      <td>a screenshote of a cell phone showing a messag...</td>\n      <td>ii illegal short selling… 🤔</td>\n      <td>wallstreetbets</td>\n      <td>True</td>\n      <td>WallStreetDiffusion</td>\n      <td>None</td>\n    </tr>\n    <tr>\n      <th>20542</th>\n      <td>D:\\data\\images\\wallstreetbets\\959579cc440ec31a...</td>\n      <td>959579cc440ec31a1cbb228fa3e4a3af.jpg</td>\n      <td>a screenshote of a cell phone showing a screen...</td>\n      <td>II illegal short selling 🤔</td>\n      <td>wallstreetbets</td>\n      <td>True</td>\n      <td>WallStreetDiffusion</td>\n      <td>None</td>\n    </tr>\n    <tr>\n      <th>20543</th>\n      <td>D:\\data\\images\\wallstreetbets\\07a6f67b65c0452c...</td>\n      <td>07a6f67b65c0452c98aa59c1b57fc75d.jpg</td>\n      <td>a screenshote of a dashboard with a bunch of d...</td>\n      <td>BAER expected to begin trading in Nasdaq on Ja...</td>\n      <td>wallstreetbets</td>\n      <td>True</td>\n      <td>WallStreetDiffusion</td>\n      <td>None</td>\n    </tr>\n    <tr>\n      <th>20544</th>\n      <td>D:\\data\\images\\wallstreetbets\\03c75f7d48f92b73...</td>\n      <td>03c75f7d48f92b73c5fd14ad5ee46b83.jpg</td>\n      <td>a black and white photo of a man in a suit and...</td>\n      <td>Thought of you guys</td>\n      <td>wallstreetbets</td>\n      <td>True</td>\n      <td>WallStreetDiffusion</td>\n      <td>None</td>\n    </tr>\n    <tr>\n      <th>20545</th>\n      <td>D:\\data\\images\\wallstreetbets\\12657d17c8f3d5f6...</td>\n      <td>12657d17c8f3d5f6c14959c78dcf3205.jpg</td>\n      <td>a picture taken from a video of a bear in the ...</td>\n      <td>time to yolo on Adani ports puts</td>\n      <td>wallstreetbets</td>\n      <td>True</td>\n      <td>WallStreetDiffusion</td>\n      <td>None</td>\n    </tr>\n  </tbody>\n</table>\n<p>24375 rows × 8 columns</p>\n</div>"
     },
     "metadata": {},
     "output_type": "display_data"
    }
   ],
   "source": [
    "data_paths = os.listdir(\"data/curated\")\n",
    "\n",
    "dfs = []\n",
    "\n",
    "for path in data_paths:\n",
    "\tfoo = os.path.join(\"data\", \"curated\", path)\n",
    "\tdf = pd.read_parquet(foo)\n",
    "\tdfs.append(df)\n",
    "\n",
    "final = pd.concat(dfs)\n",
    "display(final)"
   ],
   "metadata": {
    "collapsed": false,
    "ExecuteTime": {
     "start_time": "2023-04-02T16:24:41.711557Z",
     "end_time": "2023-04-02T16:24:43.184345Z"
    }
   }
  }
 ],
 "metadata": {
  "kernelspec": {
   "display_name": "Python 3",
   "language": "python",
   "name": "python3"
  },
  "language_info": {
   "codemirror_mode": {
    "name": "ipython",
    "version": 2
   },
   "file_extension": ".py",
   "mimetype": "text/x-python",
   "name": "python",
   "nbconvert_exporter": "python",
   "pygments_lexer": "ipython2",
   "version": "2.7.6"
  }
 },
 "nbformat": 4,
 "nbformat_minor": 0
}
