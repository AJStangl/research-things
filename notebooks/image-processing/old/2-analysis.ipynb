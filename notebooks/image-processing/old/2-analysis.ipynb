{
 "cells": [
  {
   "cell_type": "code",
   "execution_count": null,
   "metadata": {
    "collapsed": true,
    "ExecuteTime": {
     "start_time": "2023-03-31T19:09:57.959672Z",
     "end_time": "2023-03-31T19:10:03.457273Z"
    }
   },
   "outputs": [],
   "source": [
    "%%time\n",
    "import os\n",
    "\n",
    "import pandas as pd\n",
    "from pandas.core.groupby import DataFrameGroupBy\n",
    "from dask.diagnostics import ProgressBar\n",
    "from tqdm.dask import TqdmCallback\n",
    "\n",
    "from shared_code.utility.schemas.pyarrow_schema import schema\n",
    "from shared_code.utility.spark.set_environ import set_azure_env\n",
    "\n",
    "cb = TqdmCallback(desc=\"global\")\n",
    "cb.register()\n",
    "\n",
    "set_azure_env()\n",
    "\n",
    "from shared_code.utility.storage.azure_file_storage import AzureFileStorageAdapter\n",
    "\n",
    "file_system = AzureFileStorageAdapter('data').get_file_storage()"
   ]
  },
  {
   "cell_type": "code",
   "execution_count": null,
   "outputs": [],
   "source": [
    "def filter_on_existing_thumbnail_path(x: object) -> bool:\n",
    "\ttry:\n",
    "\t\tpath = x['thumbnail_path']\n",
    "\t\treturn os.path.exists(path)\n",
    "\texcept:\n",
    "\t\treturn False"
   ],
   "metadata": {
    "collapsed": false,
    "ExecuteTime": {
     "start_time": "2023-03-31T19:10:03.462275Z",
     "end_time": "2023-03-31T19:10:03.591275Z"
    }
   }
  },
  {
   "cell_type": "code",
   "execution_count": null,
   "outputs": [],
   "source": [
    "def get_image_bytes(x: object) -> object:\n",
    "\ttry:\n",
    "\t\tpath = x['path']\n",
    "\t\tdata = open(path, 'rb').read()\n",
    "\t\treturn data\n",
    "\texcept:\n",
    "\t\treturn None"
   ],
   "metadata": {
    "collapsed": false,
    "ExecuteTime": {
     "start_time": "2023-03-31T19:10:03.491273Z",
     "end_time": "2023-03-31T19:10:03.620272Z"
    }
   }
  },
  {
   "cell_type": "code",
   "execution_count": null,
   "outputs": [],
   "source": [
    "%%time\n",
    "extant_data = pd.read_parquet(\"data/processed_raw_data.parquet\", engine='pyarrow', filesystem=file_system)\n",
    "display(extant_data)"
   ],
   "metadata": {
    "collapsed": false,
    "ExecuteTime": {
     "start_time": "2023-03-31T19:10:03.523274Z",
     "end_time": "2023-03-31T19:10:05.276275Z"
    }
   }
  },
  {
   "cell_type": "code",
   "execution_count": null,
   "outputs": [],
   "source": [
    "%%time\n",
    "temp = extant_data.copy()\n",
    "temp['exists'] = extant_data.apply(lambda x: filter_on_existing_thumbnail_path(x), axis=1)\n",
    "\n",
    "temp = temp.where(lambda x: x['exists']).dropna(how='all').reset_index(drop=True)\n",
    "temp = temp.where(lambda x: x['caption'] != \"\").dropna(how='all').reset_index(drop=True)\n",
    "\n",
    "grouped: DataFrameGroupBy = temp \\\n",
    "\t.where(lambda x: x['exists']) \\\n",
    "\t.groupby('subreddit')\n",
    "\n",
    "grouped.count().plot.bar(y='id')"
   ],
   "metadata": {
    "collapsed": false,
    "ExecuteTime": {
     "start_time": "2023-03-31T19:10:05.276275Z",
     "end_time": "2023-03-31T19:10:32.198807Z"
    }
   }
  },
  {
   "cell_type": "code",
   "execution_count": null,
   "outputs": [],
   "source": [
    "%%time\n",
    "display(temp)\n",
    "temp.to_csv('processed_raw_data.csv', index=False)\n",
    "file_system.put('processed_raw_data.csv','data/processed_raw_data.csv', overwrite=True)"
   ],
   "metadata": {
    "collapsed": false,
    "ExecuteTime": {
     "start_time": "2023-03-31T19:10:32.200806Z",
     "end_time": "2023-03-31T19:10:38.001684Z"
    }
   }
  },
  {
   "cell_type": "code",
   "execution_count": null,
   "outputs": [],
   "source": [
    "final = pd.read_csv(file_system.open('data/processed_raw_data.csv'))\n",
    "display(final)\n",
    "final.to_parquet(\"data/processed_raw_data.parquet\", engine='pyarrow', filesystem=file_system, schema=schema)"
   ],
   "metadata": {
    "collapsed": false,
    "ExecuteTime": {
     "start_time": "2023-03-31T19:10:38.006683Z",
     "end_time": "2023-03-31T19:10:42.811742Z"
    }
   }
  },
  {
   "cell_type": "code",
   "execution_count": null,
   "outputs": [],
   "source": [
    "check = pd.read_parquet(\"data/processed_raw_data.parquet\", engine='pyarrow', filesystem=file_system)\n",
    "display(check)"
   ],
   "metadata": {
    "collapsed": false,
    "ExecuteTime": {
     "start_time": "2023-03-31T19:10:42.810743Z",
     "end_time": "2023-03-31T19:10:43.546742Z"
    }
   }
  }
 ],
 "metadata": {
  "kernelspec": {
   "display_name": "Python 3",
   "language": "python",
   "name": "python3"
  },
  "language_info": {
   "codemirror_mode": {
    "name": "ipython",
    "version": 2
   },
   "file_extension": ".py",
   "mimetype": "text/x-python",
   "name": "python",
   "nbconvert_exporter": "python",
   "pygments_lexer": "ipython2",
   "version": "2.7.6"
  }
 },
 "nbformat": 4,
 "nbformat_minor": 0
}
