{
 "cells": [
  {
   "cell_type": "code",
   "execution_count": null,
   "outputs": [],
   "source": [
    "import pandas as pd\n",
    "import dask.dataframe as dd\n",
    "import praw\n",
    "from dask.diagnostics import ProgressBar\n",
    "from tqdm import tqdm\n",
    "import hashlib\n",
    "from PIL import Image\n",
    "import requests\n",
    "from io import BytesIO\n",
    "from shared_code.utility.schemas.pyarrow_schema import schema\n",
    "from shared_code.utility.spark.set_environ import set_azure_env\n",
    "import os\n",
    "import torch\n",
    "from datetime import datetime\n",
    "import pandas as pd\n",
    "from pmaw import PushshiftAPI\n",
    "\n",
    "set_azure_env()\n",
    "\n",
    "from shared_code.utility.storage.azure_file_storage import AzureFileStorageAdapter\n",
    "from shared_code.utility.scripts.blip_caption import BlipCaption\n",
    "\n",
    "pbar = ProgressBar()\n",
    "pbar.register()\n",
    "\n",
    "tqdm.pandas()\n",
    "tqdm.pandas(desc=\"global\")\n",
    "\n",
    "from tqdm.dask import TqdmCallback\n",
    "cb = TqdmCallback(desc=\"global\")\n",
    "cb.register()\n",
    "\n",
    "file_system = AzureFileStorageAdapter('data').get_file_storage()"
   ],
   "metadata": {
    "collapsed": false
   }
  },
  {
   "cell_type": "code",
   "execution_count": null,
   "metadata": {
    "collapsed": true
   },
   "outputs": [],
   "source": [
    "def fetch_image(x: object) -> object:\n",
    "\ttry:\n",
    "\t\turl = x['original_url']\n",
    "\t\tsubreddit = x['subreddit']\n",
    "\t\tresponse = requests.get(url)\n",
    "\t\tmd5 = hashlib.md5(response.content).hexdigest()\n",
    "\t\tos.makedirs(f\"D:\\\\data\\\\images\\\\{subreddit}\", exist_ok=True)\n",
    "\t\tout_path = f\"D:\\\\data\\\\images\\\\{subreddit}\\\\{md5}.jpg\"\n",
    "\n",
    "\t\tif os.path.exists(out_path):\n",
    "\t\t\treturn out_path\n",
    "\n",
    "\t\tif md5 in list(extant_data['hash']):\n",
    "\t\t\treturn out_path\n",
    "\n",
    "\t\tif md5 != \"f17b01901c752c1bb04928131d1661af\" or md5 != \"d835884373f4d6c8f24742ceabe74946\":\n",
    "\t\t\traw_image = Image.open(BytesIO(response.content))\n",
    "\t\t\traw_image.save(out_path)\n",
    "\t\t\traw_image.close()\n",
    "\t\t\treturn out_path\n",
    "\t\telse:\n",
    "\t\t\treturn \"\"\n",
    "\texcept Exception as e:\n",
    "\t\tprint(e)\n",
    "\t\treturn \"\""
   ]
  },
  {
   "cell_type": "code",
   "execution_count": null,
   "outputs": [],
   "source": [
    "def make_thumbnail(x: object) -> str:\n",
    "\timage_path = x['path']\n",
    "\tmd5 = x['hash']\n",
    "\tsubreddit = x['subreddit']\n",
    "\tos.makedirs(f\"D:\\\\data\\\\images\\\\{subreddit}\\\\thumbnail\", exist_ok=True)\n",
    "\tout_path = f\"D:\\\\data\\\\images\\\\{subreddit}\\\\thumbnail\\\\{md5}.jpg\"\n",
    "\tif not os.path.exists(image_path):\n",
    "\t\treturn \"\"\n",
    "\tif os.path.exists(out_path):\n",
    "\t\treturn out_path\n",
    "\timg = Image.open(image_path)\n",
    "\ttry:\n",
    "\t\tcopied_image = img.copy()\n",
    "\t\tresult_copy = copied_image.resize((512, 512))\n",
    "\t\tresult_copy.save(out_path)\n",
    "\t\tresult_copy.close()\n",
    "\t\timg.close()\n",
    "\t\treturn out_path\n",
    "\texcept Exception as e:\n",
    "\t\tprint(e)\n",
    "\t\treturn \"\"\n",
    "\tfinally:\n",
    "\t\timg.close()"
   ],
   "metadata": {
    "collapsed": false
   }
  },
  {
   "cell_type": "code",
   "execution_count": null,
   "outputs": [],
   "source": [
    "def exists(x: object) -> bool:\n",
    "\ttry:\n",
    "\t\timage_path = os.path.exists(x['path'])\n",
    "\t\tthumbnail_path = os.path.exists(x['thumbnail_path'])\n",
    "\t\treturn image_path and thumbnail_path\n",
    "\texcept Exception as e:\n",
    "\t\tprint(e)\n",
    "\t\treturn False"
   ],
   "metadata": {
    "collapsed": false
   }
  },
  {
   "cell_type": "code",
   "execution_count": null,
   "outputs": [],
   "source": [
    "def split_hash(x: object) -> str:\n",
    "\ttry:\n",
    "\t\tname = x['image_name']\n",
    "\t\treturn name.split('.')[0]\n",
    "\texcept Exception as e:\n",
    "\t\tprint(e)\n",
    "\t\treturn \"\""
   ],
   "metadata": {
    "collapsed": false
   }
  },
  {
   "cell_type": "code",
   "execution_count": null,
   "outputs": [],
   "source": [
    "def caption_image(x: object, blip_captioning: BlipCaption) -> str:\n",
    "\ttry:\n",
    "\t\tpath = x['path']\n",
    "\t\texists_image = bool(x['exists'])\n",
    "\t\tresulting_caption = x['caption']\n",
    "\n",
    "\t\tif not os.path.exists(path):\n",
    "\t\t\treturn \"\"\n",
    "\n",
    "\t\tif not exists_image:\n",
    "\t\t\treturn \"\"\n",
    "\n",
    "\t\tif len(resulting_caption) > 5:\n",
    "\t\t\treturn resulting_caption\n",
    "\n",
    "\t\tresulting_caption = blip_captioning.caption_image(path)\n",
    "\t\treturn resulting_caption\n",
    "\n",
    "\texcept Exception as e:\n",
    "\t\treturn \"\"\n",
    "\tfinally:\n",
    "\t\tpass"
   ],
   "metadata": {
    "collapsed": false
   }
  },
  {
   "cell_type": "code",
   "execution_count": null,
   "outputs": [],
   "source": [
    "def get_image_name(x: object) -> str:\n",
    "\ttry:\n",
    "\t\tpath = x['path']\n",
    "\t\tif path == \"\":\n",
    "\t\t\treturn \"\"\n",
    "\t\treturn os.path.basename(path)\n",
    "\texcept Exception as e:\n",
    "\t\tprint(e)\n",
    "\t\treturn \"\""
   ],
   "metadata": {
    "collapsed": false
   }
  }
 ],
 "metadata": {
  "kernelspec": {
   "display_name": "Python 3",
   "language": "python",
   "name": "python3"
  },
  "language_info": {
   "codemirror_mode": {
    "name": "ipython",
    "version": 2
   },
   "file_extension": ".py",
   "mimetype": "text/x-python",
   "name": "python",
   "nbconvert_exporter": "python",
   "pygments_lexer": "ipython2",
   "version": "2.7.6"
  }
 },
 "nbformat": 4,
 "nbformat_minor": 0
}
