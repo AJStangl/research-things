{
 "cells": [
  {
   "cell_type": "code",
   "execution_count": 1,
   "metadata": {
    "collapsed": true,
    "ExecuteTime": {
     "start_time": "2023-04-03T15:07:03.770467Z",
     "end_time": "2023-04-03T15:07:26.365776Z"
    }
   },
   "outputs": [],
   "source": [
    "%run 0-0-common.ipynb"
   ]
  },
  {
   "cell_type": "code",
   "execution_count": 2,
   "outputs": [
    {
     "data": {
      "text/plain": "            id         subreddit                author  \\\n0      128z5ns       celebrities           A-Sexy-Name   \n1      11yk8db  prettyasiangirls          MisoShiru520   \n2      11hfioi     KoreanHotties  Majestic_Painter8660   \n3      1000mjs         spaceporn    MorningStar_imangi   \n4      1000qpd         spaceporn    MorningStar_imangi   \n...        ...               ...                   ...   \n29597  11oz7fi       mildlypenis          Extra-Lie489   \n29598  11oz73d       mildlypenis              DeimosLV   \n29599  11oyzm3       mildlypenis       Mymemesareswell   \n29600  11oyvx1       mildlypenis        LucindaBobinda   \n29601  11oxx6r       mildlypenis             DoggyCube   \n\n                                                   title  \\\n0                                           Rachel Weisz   \n1                                                Library   \n2                                       Underboob bikini   \n3                          Northern Lights above Lofoten   \n4                                          Viking Lights   \n...                                                  ...   \n29597                                              Lenis   \n29598  My friend is making a stuffed animal and this ...   \n29599                    This weird Mickey keychain hand   \n29600                                     Parking lot pp   \n29601  Can't figure out why they didn't approve of th...   \n\n                                                 caption  \\\n0      cars are parked on the side of the road in the...   \n1      blonde woman with blonde hair and tattoos on h...   \n2      a man with a beard and a beard sitting in fron...   \n3      a view of a view of a large green and purple a...   \n4      a scene of a boat is sitting on the shore of a...   \n...                                                  ...   \n29597  there is a small piece of metal with two small...   \n29598    a close up of a blue knitted bagueth on a chair   \n29599  someone is holding a key chain with a mickey m...   \n29600  a close up of a black and white photo of a bla...   \n29601  there is a picture of a video game on the tv s...   \n\n                                   hash  \\\n0      f09b1c0c5dea50c934081a04c83d4d33   \n1      9d5b7331b941ecf3fdbc8ad322303825   \n2      a154a56b1b87cf3a0bc93600c86e4585   \n3      2c39ce1290fba541abd0b004b09da6b2   \n4      0f72de47c69ff50eca5fa3990215f4ac   \n...                                 ...   \n29597  7604c3e55ce8dbf238520683d6e71f89   \n29598  389f8aa0fb191bdeba08c8d2cfff8ce2   \n29599  87563ac0c8ddeeb0ce47bc915b99308b   \n29600  88b596be6de959bd29eed4e8946bb476   \n29601  eb7ed95bedcd44c130938e2f09069f08   \n\n                                               permalink  \\\n0          /r/celebrities/comments/128z5ns/rachel_weisz/   \n1          /r/prettyasiangirls/comments/11yk8db/library/   \n2      /r/KoreanHotties/comments/11hfioi/underboob_bi...   \n3      /r/spaceporn/comments/1000mjs/northern_lights_...   \n4           /r/spaceporn/comments/1000qpd/viking_lights/   \n...                                                  ...   \n29597             /r/mildlypenis/comments/11oz7fi/lenis/   \n29598  /r/mildlypenis/comments/11oz73d/my_friend_is_m...   \n29599  /r/mildlypenis/comments/11oyzm3/this_weird_mic...   \n29600    /r/mildlypenis/comments/11oyvx1/parking_lot_pp/   \n29601  /r/mildlypenis/comments/11oxx6r/cant_figure_ou...   \n\n                              original_url  \\\n0      https://i.redd.it/nv80afddacra1.jpg   \n1      https://i.redd.it/ht4d2wuusapa1.jpg   \n2      https://i.redd.it/cimr17q84jla1.jpg   \n3      https://i.redd.it/7s5aafaqkb9a1.jpg   \n4      https://i.redd.it/abojw7lqlb9a1.jpg   \n...                                    ...   \n29597  https://i.redd.it/pskj3q0ao8na1.jpg   \n29598  https://i.redd.it/gemqhq67o8na1.jpg   \n29599  https://i.redd.it/vrivt8rom8na1.jpg   \n29600  https://i.redd.it/w1vebizwl8na1.jpg   \n29601  https://i.redd.it/92hm0ia2f8na1.jpg   \n\n                                 image_name  \\\n0      f09b1c0c5dea50c934081a04c83d4d33.jpg   \n1      9d5b7331b941ecf3fdbc8ad322303825.jpg   \n2      a154a56b1b87cf3a0bc93600c86e4585.jpg   \n3                         7s5aafaqkb9a1.jpg   \n4                         abojw7lqlb9a1.jpg   \n...                                     ...   \n29597  7604c3e55ce8dbf238520683d6e71f89.jpg   \n29598  389f8aa0fb191bdeba08c8d2cfff8ce2.jpg   \n29599  87563ac0c8ddeeb0ce47bc915b99308b.jpg   \n29600  88b596be6de959bd29eed4e8946bb476.jpg   \n29601  eb7ed95bedcd44c130938e2f09069f08.jpg   \n\n                                                    path  \\\n0      D:\\data\\images\\celebrities\\f09b1c0c5dea50c9340...   \n1      D:\\data\\images\\prettyasiangirls\\9d5b7331b941ec...   \n2      D:\\data\\images\\KoreanHotties\\a154a56b1b87cf3a0...   \n3               /data/images/spaceporn/7s5aafaqkb9a1.jpg   \n4               /data/images/spaceporn/abojw7lqlb9a1.jpg   \n...                                                  ...   \n29597  D:\\data\\images\\mildlypenis\\7604c3e55ce8dbf2385...   \n29598  D:\\data\\images\\mildlypenis\\389f8aa0fb191bdeba0...   \n29599  D:\\data\\images\\mildlypenis\\87563ac0c8ddeeb0ce4...   \n29600  D:\\data\\images\\mildlypenis\\88b596be6de959bd29e...   \n29601  D:\\data\\images\\mildlypenis\\eb7ed95bedcd44c1309...   \n\n                                          thumbnail_path  exists  curated  \n0      D:\\data\\images\\celebrities\\thumbnail\\f09b1c0c5...    True    False  \n1      D:\\data\\images\\prettyasiangirls\\thumbnail\\9d5b...    True    False  \n2      D:\\data\\images\\KoreanHotties\\thumbnail\\a154a56...    True    False  \n3      /data/images/spaceporn/thumbnail/7s5aafaqkb9a1...    True    False  \n4      /data/images/spaceporn/thumbnail/abojw7lqlb9a1...    True    False  \n...                                                  ...     ...      ...  \n29597  D:\\data\\images\\mildlypenis\\thumbnail\\7604c3e55...    True    False  \n29598  D:\\data\\images\\mildlypenis\\thumbnail\\389f8aa0f...    True    False  \n29599  D:\\data\\images\\mildlypenis\\thumbnail\\87563ac0c...    True    False  \n29600  D:\\data\\images\\mildlypenis\\thumbnail\\88b596be6...    True    False  \n29601  D:\\data\\images\\mildlypenis\\thumbnail\\eb7ed95be...    True    False  \n\n[29602 rows x 13 columns]",
      "text/html": "<div>\n<style scoped>\n    .dataframe tbody tr th:only-of-type {\n        vertical-align: middle;\n    }\n\n    .dataframe tbody tr th {\n        vertical-align: top;\n    }\n\n    .dataframe thead th {\n        text-align: right;\n    }\n</style>\n<table border=\"1\" class=\"dataframe\">\n  <thead>\n    <tr style=\"text-align: right;\">\n      <th></th>\n      <th>id</th>\n      <th>subreddit</th>\n      <th>author</th>\n      <th>title</th>\n      <th>caption</th>\n      <th>hash</th>\n      <th>permalink</th>\n      <th>original_url</th>\n      <th>image_name</th>\n      <th>path</th>\n      <th>thumbnail_path</th>\n      <th>exists</th>\n      <th>curated</th>\n    </tr>\n  </thead>\n  <tbody>\n    <tr>\n      <th>0</th>\n      <td>128z5ns</td>\n      <td>celebrities</td>\n      <td>A-Sexy-Name</td>\n      <td>Rachel Weisz</td>\n      <td>cars are parked on the side of the road in the...</td>\n      <td>f09b1c0c5dea50c934081a04c83d4d33</td>\n      <td>/r/celebrities/comments/128z5ns/rachel_weisz/</td>\n      <td>https://i.redd.it/nv80afddacra1.jpg</td>\n      <td>f09b1c0c5dea50c934081a04c83d4d33.jpg</td>\n      <td>D:\\data\\images\\celebrities\\f09b1c0c5dea50c9340...</td>\n      <td>D:\\data\\images\\celebrities\\thumbnail\\f09b1c0c5...</td>\n      <td>True</td>\n      <td>False</td>\n    </tr>\n    <tr>\n      <th>1</th>\n      <td>11yk8db</td>\n      <td>prettyasiangirls</td>\n      <td>MisoShiru520</td>\n      <td>Library</td>\n      <td>blonde woman with blonde hair and tattoos on h...</td>\n      <td>9d5b7331b941ecf3fdbc8ad322303825</td>\n      <td>/r/prettyasiangirls/comments/11yk8db/library/</td>\n      <td>https://i.redd.it/ht4d2wuusapa1.jpg</td>\n      <td>9d5b7331b941ecf3fdbc8ad322303825.jpg</td>\n      <td>D:\\data\\images\\prettyasiangirls\\9d5b7331b941ec...</td>\n      <td>D:\\data\\images\\prettyasiangirls\\thumbnail\\9d5b...</td>\n      <td>True</td>\n      <td>False</td>\n    </tr>\n    <tr>\n      <th>2</th>\n      <td>11hfioi</td>\n      <td>KoreanHotties</td>\n      <td>Majestic_Painter8660</td>\n      <td>Underboob bikini</td>\n      <td>a man with a beard and a beard sitting in fron...</td>\n      <td>a154a56b1b87cf3a0bc93600c86e4585</td>\n      <td>/r/KoreanHotties/comments/11hfioi/underboob_bi...</td>\n      <td>https://i.redd.it/cimr17q84jla1.jpg</td>\n      <td>a154a56b1b87cf3a0bc93600c86e4585.jpg</td>\n      <td>D:\\data\\images\\KoreanHotties\\a154a56b1b87cf3a0...</td>\n      <td>D:\\data\\images\\KoreanHotties\\thumbnail\\a154a56...</td>\n      <td>True</td>\n      <td>False</td>\n    </tr>\n    <tr>\n      <th>3</th>\n      <td>1000mjs</td>\n      <td>spaceporn</td>\n      <td>MorningStar_imangi</td>\n      <td>Northern Lights above Lofoten</td>\n      <td>a view of a view of a large green and purple a...</td>\n      <td>2c39ce1290fba541abd0b004b09da6b2</td>\n      <td>/r/spaceporn/comments/1000mjs/northern_lights_...</td>\n      <td>https://i.redd.it/7s5aafaqkb9a1.jpg</td>\n      <td>7s5aafaqkb9a1.jpg</td>\n      <td>/data/images/spaceporn/7s5aafaqkb9a1.jpg</td>\n      <td>/data/images/spaceporn/thumbnail/7s5aafaqkb9a1...</td>\n      <td>True</td>\n      <td>False</td>\n    </tr>\n    <tr>\n      <th>4</th>\n      <td>1000qpd</td>\n      <td>spaceporn</td>\n      <td>MorningStar_imangi</td>\n      <td>Viking Lights</td>\n      <td>a scene of a boat is sitting on the shore of a...</td>\n      <td>0f72de47c69ff50eca5fa3990215f4ac</td>\n      <td>/r/spaceporn/comments/1000qpd/viking_lights/</td>\n      <td>https://i.redd.it/abojw7lqlb9a1.jpg</td>\n      <td>abojw7lqlb9a1.jpg</td>\n      <td>/data/images/spaceporn/abojw7lqlb9a1.jpg</td>\n      <td>/data/images/spaceporn/thumbnail/abojw7lqlb9a1...</td>\n      <td>True</td>\n      <td>False</td>\n    </tr>\n    <tr>\n      <th>...</th>\n      <td>...</td>\n      <td>...</td>\n      <td>...</td>\n      <td>...</td>\n      <td>...</td>\n      <td>...</td>\n      <td>...</td>\n      <td>...</td>\n      <td>...</td>\n      <td>...</td>\n      <td>...</td>\n      <td>...</td>\n      <td>...</td>\n    </tr>\n    <tr>\n      <th>29597</th>\n      <td>11oz7fi</td>\n      <td>mildlypenis</td>\n      <td>Extra-Lie489</td>\n      <td>Lenis</td>\n      <td>there is a small piece of metal with two small...</td>\n      <td>7604c3e55ce8dbf238520683d6e71f89</td>\n      <td>/r/mildlypenis/comments/11oz7fi/lenis/</td>\n      <td>https://i.redd.it/pskj3q0ao8na1.jpg</td>\n      <td>7604c3e55ce8dbf238520683d6e71f89.jpg</td>\n      <td>D:\\data\\images\\mildlypenis\\7604c3e55ce8dbf2385...</td>\n      <td>D:\\data\\images\\mildlypenis\\thumbnail\\7604c3e55...</td>\n      <td>True</td>\n      <td>False</td>\n    </tr>\n    <tr>\n      <th>29598</th>\n      <td>11oz73d</td>\n      <td>mildlypenis</td>\n      <td>DeimosLV</td>\n      <td>My friend is making a stuffed animal and this ...</td>\n      <td>a close up of a blue knitted bagueth on a chair</td>\n      <td>389f8aa0fb191bdeba08c8d2cfff8ce2</td>\n      <td>/r/mildlypenis/comments/11oz73d/my_friend_is_m...</td>\n      <td>https://i.redd.it/gemqhq67o8na1.jpg</td>\n      <td>389f8aa0fb191bdeba08c8d2cfff8ce2.jpg</td>\n      <td>D:\\data\\images\\mildlypenis\\389f8aa0fb191bdeba0...</td>\n      <td>D:\\data\\images\\mildlypenis\\thumbnail\\389f8aa0f...</td>\n      <td>True</td>\n      <td>False</td>\n    </tr>\n    <tr>\n      <th>29599</th>\n      <td>11oyzm3</td>\n      <td>mildlypenis</td>\n      <td>Mymemesareswell</td>\n      <td>This weird Mickey keychain hand</td>\n      <td>someone is holding a key chain with a mickey m...</td>\n      <td>87563ac0c8ddeeb0ce47bc915b99308b</td>\n      <td>/r/mildlypenis/comments/11oyzm3/this_weird_mic...</td>\n      <td>https://i.redd.it/vrivt8rom8na1.jpg</td>\n      <td>87563ac0c8ddeeb0ce47bc915b99308b.jpg</td>\n      <td>D:\\data\\images\\mildlypenis\\87563ac0c8ddeeb0ce4...</td>\n      <td>D:\\data\\images\\mildlypenis\\thumbnail\\87563ac0c...</td>\n      <td>True</td>\n      <td>False</td>\n    </tr>\n    <tr>\n      <th>29600</th>\n      <td>11oyvx1</td>\n      <td>mildlypenis</td>\n      <td>LucindaBobinda</td>\n      <td>Parking lot pp</td>\n      <td>a close up of a black and white photo of a bla...</td>\n      <td>88b596be6de959bd29eed4e8946bb476</td>\n      <td>/r/mildlypenis/comments/11oyvx1/parking_lot_pp/</td>\n      <td>https://i.redd.it/w1vebizwl8na1.jpg</td>\n      <td>88b596be6de959bd29eed4e8946bb476.jpg</td>\n      <td>D:\\data\\images\\mildlypenis\\88b596be6de959bd29e...</td>\n      <td>D:\\data\\images\\mildlypenis\\thumbnail\\88b596be6...</td>\n      <td>True</td>\n      <td>False</td>\n    </tr>\n    <tr>\n      <th>29601</th>\n      <td>11oxx6r</td>\n      <td>mildlypenis</td>\n      <td>DoggyCube</td>\n      <td>Can't figure out why they didn't approve of th...</td>\n      <td>there is a picture of a video game on the tv s...</td>\n      <td>eb7ed95bedcd44c130938e2f09069f08</td>\n      <td>/r/mildlypenis/comments/11oxx6r/cant_figure_ou...</td>\n      <td>https://i.redd.it/92hm0ia2f8na1.jpg</td>\n      <td>eb7ed95bedcd44c130938e2f09069f08.jpg</td>\n      <td>D:\\data\\images\\mildlypenis\\eb7ed95bedcd44c1309...</td>\n      <td>D:\\data\\images\\mildlypenis\\thumbnail\\eb7ed95be...</td>\n      <td>True</td>\n      <td>False</td>\n    </tr>\n  </tbody>\n</table>\n<p>29602 rows × 13 columns</p>\n</div>"
     },
     "metadata": {},
     "output_type": "display_data"
    },
    {
     "name": "stdout",
     "output_type": "stream",
     "text": [
      "CPU times: total: 812 ms\n",
      "Wall time: 2.73 s\n"
     ]
    }
   ],
   "source": [
    "%%time\n",
    "\n",
    "extant_data: pandas.DataFrame = pd.read_parquet(\"data/processed_raw_data.parquet\", engine='pyarrow', filesystem=file_system)\n",
    "\n",
    "display(extant_data)"
   ],
   "metadata": {
    "collapsed": false,
    "ExecuteTime": {
     "start_time": "2023-04-03T15:07:26.369779Z",
     "end_time": "2023-04-03T15:07:29.124776Z"
    }
   }
  },
  {
   "cell_type": "code",
   "execution_count": 56,
   "outputs": [
    {
     "name": "stdout",
     "output_type": "stream",
     "text": [
      "Number Of Images That Exist Before Check\t25478\n",
      "Number Of Images That Do Not Exist Before Check\t4127\n"
     ]
    },
    {
     "name": "stderr",
     "output_type": "stream",
     "text": [
      "global: 100%|██████████| 29605/29605 [00:02<00:00, 11679.86it/s]"
     ]
    },
    {
     "name": "stdout",
     "output_type": "stream",
     "text": [
      "Number Of Images That Exist After Check\t25478\n",
      "Number Of Images That Do Not Exist After Check\t4127\n"
     ]
    },
    {
     "name": "stderr",
     "output_type": "stream",
     "text": [
      "\n"
     ]
    },
    {
     "data": {
      "text/plain": "            id    subreddit              author  \\\n0      1000cej     CityPorn         OtterlyFoxy   \n1      1000glf     AmIhotAF   toolate_sharkbait   \n2      1000j1n    greentext           trent8051   \n3      1000mjs    spaceporn  MorningStar_imangi   \n4      1000qpd    spaceporn  MorningStar_imangi   \n...        ...          ...                 ...   \n29600  11oz7fi  mildlypenis        Extra-Lie489   \n29601  11oz73d  mildlypenis            DeimosLV   \n29602  11oyzm3  mildlypenis     Mymemesareswell   \n29603  11oyvx1  mildlypenis      LucindaBobinda   \n29604  11oxx6r  mildlypenis           DoggyCube   \n\n                                                   title  \\\n0                                    New York in the fog   \n1                         Just looking for entertainment   \n2                                    Anon wants Elon cut   \n3                          Northern Lights above Lofoten   \n4                                          Viking Lights   \n...                                                  ...   \n29600                                              Lenis   \n29601  My friend is making a stuffed animal and this ...   \n29602                    This weird Mickey keychain hand   \n29603                                     Parking lot pp   \n29604  Can't figure out why they didn't approve of th...   \n\n                                                 caption  \\\n0      cars are parked on the side of the road in the...   \n1      blonde woman with blonde hair and tattoos on h...   \n2      a man with a beard and a beard sitting in fron...   \n3      a view of a view of a large green and purple a...   \n4      a scene of a boat is sitting on the shore of a...   \n...                                                  ...   \n29600  there is a small piece of metal with two small...   \n29601    a close up of a blue knitted bagueth on a chair   \n29602  someone is holding a key chain with a mickey m...   \n29603  a close up of a black and white photo of a bla...   \n29604  there is a picture of a video game on the tv s...   \n\n                                   hash  \\\n0      7a8d96e378c15c8ab8440ac311f12c11   \n1      e554c1ed7ffa2740436ac082068b2824   \n2      1dec3dabb5e46cde01855d06089c287a   \n3      2c39ce1290fba541abd0b004b09da6b2   \n4      0f72de47c69ff50eca5fa3990215f4ac   \n...                                 ...   \n29600  7604c3e55ce8dbf238520683d6e71f89   \n29601  389f8aa0fb191bdeba08c8d2cfff8ce2   \n29602  87563ac0c8ddeeb0ce47bc915b99308b   \n29603  88b596be6de959bd29eed4e8946bb476   \n29604  eb7ed95bedcd44c130938e2f09069f08   \n\n                                               permalink  \\\n0      /r/CityPorn/comments/1000cej/new_york_in_the_fog/   \n1      /r/AmIhotAF/comments/1000glf/just_looking_for_...   \n2      /r/greentext/comments/1000j1n/anon_wants_elon_...   \n3      /r/spaceporn/comments/1000mjs/northern_lights_...   \n4           /r/spaceporn/comments/1000qpd/viking_lights/   \n...                                                  ...   \n29600             /r/mildlypenis/comments/11oz7fi/lenis/   \n29601  /r/mildlypenis/comments/11oz73d/my_friend_is_m...   \n29602  /r/mildlypenis/comments/11oyzm3/this_weird_mic...   \n29603    /r/mildlypenis/comments/11oyvx1/parking_lot_pp/   \n29604  /r/mildlypenis/comments/11oxx6r/cant_figure_ou...   \n\n                              original_url  \\\n0      https://i.redd.it/4emw5uldib9a1.jpg   \n1      https://i.redd.it/4xyb1vgbjb9a1.jpg   \n2      https://i.redd.it/3mewbe0wjb9a1.jpg   \n3      https://i.redd.it/7s5aafaqkb9a1.jpg   \n4      https://i.redd.it/abojw7lqlb9a1.jpg   \n...                                    ...   \n29600  https://i.redd.it/pskj3q0ao8na1.jpg   \n29601  https://i.redd.it/gemqhq67o8na1.jpg   \n29602  https://i.redd.it/vrivt8rom8na1.jpg   \n29603  https://i.redd.it/w1vebizwl8na1.jpg   \n29604  https://i.redd.it/92hm0ia2f8na1.jpg   \n\n                                 image_name  \\\n0                         4emw5uldib9a1.jpg   \n1                         4xyb1vgbjb9a1.jpg   \n2                         3mewbe0wjb9a1.jpg   \n3                         7s5aafaqkb9a1.jpg   \n4                         abojw7lqlb9a1.jpg   \n...                                     ...   \n29600  7604c3e55ce8dbf238520683d6e71f89.jpg   \n29601  389f8aa0fb191bdeba08c8d2cfff8ce2.jpg   \n29602  87563ac0c8ddeeb0ce47bc915b99308b.jpg   \n29603  88b596be6de959bd29eed4e8946bb476.jpg   \n29604  eb7ed95bedcd44c130938e2f09069f08.jpg   \n\n                                                    path  \\\n0              D:\\data\\images\\CityPorn\\4emw5uldib9a1.jpg   \n1              D:\\data\\images\\AmIhotAF\\4xyb1vgbjb9a1.jpg   \n2             D:\\data\\images\\greentext\\3mewbe0wjb9a1.jpg   \n3               /data/images/spaceporn/7s5aafaqkb9a1.jpg   \n4               /data/images/spaceporn/abojw7lqlb9a1.jpg   \n...                                                  ...   \n29600  D:\\data\\images\\mildlypenis\\7604c3e55ce8dbf2385...   \n29601  D:\\data\\images\\mildlypenis\\389f8aa0fb191bdeba0...   \n29602  D:\\data\\images\\mildlypenis\\87563ac0c8ddeeb0ce4...   \n29603  D:\\data\\images\\mildlypenis\\88b596be6de959bd29e...   \n29604  D:\\data\\images\\mildlypenis\\eb7ed95bedcd44c1309...   \n\n                                          thumbnail_path  exists  curated  \n0      D:\\data\\images\\CityPorn\\thumbnail\\4emw5uldib9a...    True    False  \n1      D:\\data\\images\\AmIhotAF\\thumbnail\\4xyb1vgbjb9a...    True    False  \n2      D:\\data\\images\\greentext\\thumbnail\\3mewbe0wjb9...    True    False  \n3      /data/images/spaceporn/thumbnail/7s5aafaqkb9a1...    True    False  \n4      /data/images/spaceporn/thumbnail/abojw7lqlb9a1...    True    False  \n...                                                  ...     ...      ...  \n29600  D:\\data\\images\\mildlypenis\\thumbnail\\7604c3e55...    True    False  \n29601  D:\\data\\images\\mildlypenis\\thumbnail\\389f8aa0f...    True    False  \n29602  D:\\data\\images\\mildlypenis\\thumbnail\\87563ac0c...    True    False  \n29603  D:\\data\\images\\mildlypenis\\thumbnail\\88b596be6...    True    False  \n29604  D:\\data\\images\\mildlypenis\\thumbnail\\eb7ed95be...    True    False  \n\n[29605 rows x 13 columns]",
      "text/html": "<div>\n<style scoped>\n    .dataframe tbody tr th:only-of-type {\n        vertical-align: middle;\n    }\n\n    .dataframe tbody tr th {\n        vertical-align: top;\n    }\n\n    .dataframe thead th {\n        text-align: right;\n    }\n</style>\n<table border=\"1\" class=\"dataframe\">\n  <thead>\n    <tr style=\"text-align: right;\">\n      <th></th>\n      <th>id</th>\n      <th>subreddit</th>\n      <th>author</th>\n      <th>title</th>\n      <th>caption</th>\n      <th>hash</th>\n      <th>permalink</th>\n      <th>original_url</th>\n      <th>image_name</th>\n      <th>path</th>\n      <th>thumbnail_path</th>\n      <th>exists</th>\n      <th>curated</th>\n    </tr>\n  </thead>\n  <tbody>\n    <tr>\n      <th>0</th>\n      <td>1000cej</td>\n      <td>CityPorn</td>\n      <td>OtterlyFoxy</td>\n      <td>New York in the fog</td>\n      <td>cars are parked on the side of the road in the...</td>\n      <td>7a8d96e378c15c8ab8440ac311f12c11</td>\n      <td>/r/CityPorn/comments/1000cej/new_york_in_the_fog/</td>\n      <td>https://i.redd.it/4emw5uldib9a1.jpg</td>\n      <td>4emw5uldib9a1.jpg</td>\n      <td>D:\\data\\images\\CityPorn\\4emw5uldib9a1.jpg</td>\n      <td>D:\\data\\images\\CityPorn\\thumbnail\\4emw5uldib9a...</td>\n      <td>True</td>\n      <td>False</td>\n    </tr>\n    <tr>\n      <th>1</th>\n      <td>1000glf</td>\n      <td>AmIhotAF</td>\n      <td>toolate_sharkbait</td>\n      <td>Just looking for entertainment</td>\n      <td>blonde woman with blonde hair and tattoos on h...</td>\n      <td>e554c1ed7ffa2740436ac082068b2824</td>\n      <td>/r/AmIhotAF/comments/1000glf/just_looking_for_...</td>\n      <td>https://i.redd.it/4xyb1vgbjb9a1.jpg</td>\n      <td>4xyb1vgbjb9a1.jpg</td>\n      <td>D:\\data\\images\\AmIhotAF\\4xyb1vgbjb9a1.jpg</td>\n      <td>D:\\data\\images\\AmIhotAF\\thumbnail\\4xyb1vgbjb9a...</td>\n      <td>True</td>\n      <td>False</td>\n    </tr>\n    <tr>\n      <th>2</th>\n      <td>1000j1n</td>\n      <td>greentext</td>\n      <td>trent8051</td>\n      <td>Anon wants Elon cut</td>\n      <td>a man with a beard and a beard sitting in fron...</td>\n      <td>1dec3dabb5e46cde01855d06089c287a</td>\n      <td>/r/greentext/comments/1000j1n/anon_wants_elon_...</td>\n      <td>https://i.redd.it/3mewbe0wjb9a1.jpg</td>\n      <td>3mewbe0wjb9a1.jpg</td>\n      <td>D:\\data\\images\\greentext\\3mewbe0wjb9a1.jpg</td>\n      <td>D:\\data\\images\\greentext\\thumbnail\\3mewbe0wjb9...</td>\n      <td>True</td>\n      <td>False</td>\n    </tr>\n    <tr>\n      <th>3</th>\n      <td>1000mjs</td>\n      <td>spaceporn</td>\n      <td>MorningStar_imangi</td>\n      <td>Northern Lights above Lofoten</td>\n      <td>a view of a view of a large green and purple a...</td>\n      <td>2c39ce1290fba541abd0b004b09da6b2</td>\n      <td>/r/spaceporn/comments/1000mjs/northern_lights_...</td>\n      <td>https://i.redd.it/7s5aafaqkb9a1.jpg</td>\n      <td>7s5aafaqkb9a1.jpg</td>\n      <td>/data/images/spaceporn/7s5aafaqkb9a1.jpg</td>\n      <td>/data/images/spaceporn/thumbnail/7s5aafaqkb9a1...</td>\n      <td>True</td>\n      <td>False</td>\n    </tr>\n    <tr>\n      <th>4</th>\n      <td>1000qpd</td>\n      <td>spaceporn</td>\n      <td>MorningStar_imangi</td>\n      <td>Viking Lights</td>\n      <td>a scene of a boat is sitting on the shore of a...</td>\n      <td>0f72de47c69ff50eca5fa3990215f4ac</td>\n      <td>/r/spaceporn/comments/1000qpd/viking_lights/</td>\n      <td>https://i.redd.it/abojw7lqlb9a1.jpg</td>\n      <td>abojw7lqlb9a1.jpg</td>\n      <td>/data/images/spaceporn/abojw7lqlb9a1.jpg</td>\n      <td>/data/images/spaceporn/thumbnail/abojw7lqlb9a1...</td>\n      <td>True</td>\n      <td>False</td>\n    </tr>\n    <tr>\n      <th>...</th>\n      <td>...</td>\n      <td>...</td>\n      <td>...</td>\n      <td>...</td>\n      <td>...</td>\n      <td>...</td>\n      <td>...</td>\n      <td>...</td>\n      <td>...</td>\n      <td>...</td>\n      <td>...</td>\n      <td>...</td>\n      <td>...</td>\n    </tr>\n    <tr>\n      <th>29600</th>\n      <td>11oz7fi</td>\n      <td>mildlypenis</td>\n      <td>Extra-Lie489</td>\n      <td>Lenis</td>\n      <td>there is a small piece of metal with two small...</td>\n      <td>7604c3e55ce8dbf238520683d6e71f89</td>\n      <td>/r/mildlypenis/comments/11oz7fi/lenis/</td>\n      <td>https://i.redd.it/pskj3q0ao8na1.jpg</td>\n      <td>7604c3e55ce8dbf238520683d6e71f89.jpg</td>\n      <td>D:\\data\\images\\mildlypenis\\7604c3e55ce8dbf2385...</td>\n      <td>D:\\data\\images\\mildlypenis\\thumbnail\\7604c3e55...</td>\n      <td>True</td>\n      <td>False</td>\n    </tr>\n    <tr>\n      <th>29601</th>\n      <td>11oz73d</td>\n      <td>mildlypenis</td>\n      <td>DeimosLV</td>\n      <td>My friend is making a stuffed animal and this ...</td>\n      <td>a close up of a blue knitted bagueth on a chair</td>\n      <td>389f8aa0fb191bdeba08c8d2cfff8ce2</td>\n      <td>/r/mildlypenis/comments/11oz73d/my_friend_is_m...</td>\n      <td>https://i.redd.it/gemqhq67o8na1.jpg</td>\n      <td>389f8aa0fb191bdeba08c8d2cfff8ce2.jpg</td>\n      <td>D:\\data\\images\\mildlypenis\\389f8aa0fb191bdeba0...</td>\n      <td>D:\\data\\images\\mildlypenis\\thumbnail\\389f8aa0f...</td>\n      <td>True</td>\n      <td>False</td>\n    </tr>\n    <tr>\n      <th>29602</th>\n      <td>11oyzm3</td>\n      <td>mildlypenis</td>\n      <td>Mymemesareswell</td>\n      <td>This weird Mickey keychain hand</td>\n      <td>someone is holding a key chain with a mickey m...</td>\n      <td>87563ac0c8ddeeb0ce47bc915b99308b</td>\n      <td>/r/mildlypenis/comments/11oyzm3/this_weird_mic...</td>\n      <td>https://i.redd.it/vrivt8rom8na1.jpg</td>\n      <td>87563ac0c8ddeeb0ce47bc915b99308b.jpg</td>\n      <td>D:\\data\\images\\mildlypenis\\87563ac0c8ddeeb0ce4...</td>\n      <td>D:\\data\\images\\mildlypenis\\thumbnail\\87563ac0c...</td>\n      <td>True</td>\n      <td>False</td>\n    </tr>\n    <tr>\n      <th>29603</th>\n      <td>11oyvx1</td>\n      <td>mildlypenis</td>\n      <td>LucindaBobinda</td>\n      <td>Parking lot pp</td>\n      <td>a close up of a black and white photo of a bla...</td>\n      <td>88b596be6de959bd29eed4e8946bb476</td>\n      <td>/r/mildlypenis/comments/11oyvx1/parking_lot_pp/</td>\n      <td>https://i.redd.it/w1vebizwl8na1.jpg</td>\n      <td>88b596be6de959bd29eed4e8946bb476.jpg</td>\n      <td>D:\\data\\images\\mildlypenis\\88b596be6de959bd29e...</td>\n      <td>D:\\data\\images\\mildlypenis\\thumbnail\\88b596be6...</td>\n      <td>True</td>\n      <td>False</td>\n    </tr>\n    <tr>\n      <th>29604</th>\n      <td>11oxx6r</td>\n      <td>mildlypenis</td>\n      <td>DoggyCube</td>\n      <td>Can't figure out why they didn't approve of th...</td>\n      <td>there is a picture of a video game on the tv s...</td>\n      <td>eb7ed95bedcd44c130938e2f09069f08</td>\n      <td>/r/mildlypenis/comments/11oxx6r/cant_figure_ou...</td>\n      <td>https://i.redd.it/92hm0ia2f8na1.jpg</td>\n      <td>eb7ed95bedcd44c130938e2f09069f08.jpg</td>\n      <td>D:\\data\\images\\mildlypenis\\eb7ed95bedcd44c1309...</td>\n      <td>D:\\data\\images\\mildlypenis\\thumbnail\\eb7ed95be...</td>\n      <td>True</td>\n      <td>False</td>\n    </tr>\n  </tbody>\n</table>\n<p>29605 rows × 13 columns</p>\n</div>"
     },
     "metadata": {},
     "output_type": "display_data"
    },
    {
     "name": "stdout",
     "output_type": "stream",
     "text": [
      "CPU times: total: 2.8 s\n",
      "Wall time: 5.6 s\n"
     ]
    }
   ],
   "source": [
    "%%time\n",
    "\n",
    "print(f\"Number Of Images That Exist Before Check\\t{extant_data['exists'].apply(lambda x: x == True).sum()}\")\n",
    "\n",
    "print(f\"Number Of Images That Do Not Exist Before Check\\t{extant_data['exists'].apply(lambda x: x == False).sum()}\")\n",
    "\n",
    "extant_data['exists'] = extant_data.progress_apply(lambda row: check_if_thumb_and_image_exist(row), axis=1)\n",
    "\n",
    "print(f\"Number Of Images That Exist After Check\\t{extant_data['exists'].apply(lambda x: x == True).sum()}\")\n",
    "\n",
    "print(f\"Number Of Images That Do Not Exist After Check\\t{extant_data['exists'].apply(lambda x: x == False).sum()}\")\n",
    "\n",
    "display(extant_data)\n",
    "\n",
    "extant_data.to_parquet(\"data/processed_raw_data.parquet\", engine='pyarrow', filesystem=file_system)"
   ],
   "metadata": {
    "collapsed": false,
    "ExecuteTime": {
     "start_time": "2023-04-02T14:12:30.351006Z",
     "end_time": "2023-04-02T14:12:35.964063Z"
    }
   }
  },
  {
   "cell_type": "code",
   "execution_count": 57,
   "outputs": [
    {
     "data": {
      "text/plain": "            id    subreddit              author  \\\n0      1000cej     CityPorn         OtterlyFoxy   \n1      1000glf     AmIhotAF   toolate_sharkbait   \n2      1000j1n    greentext           trent8051   \n3      1000mjs    spaceporn  MorningStar_imangi   \n4      1000qpd    spaceporn  MorningStar_imangi   \n...        ...          ...                 ...   \n29600  11oz7fi  mildlypenis        Extra-Lie489   \n29601  11oz73d  mildlypenis            DeimosLV   \n29602  11oyzm3  mildlypenis     Mymemesareswell   \n29603  11oyvx1  mildlypenis      LucindaBobinda   \n29604  11oxx6r  mildlypenis           DoggyCube   \n\n                                                   title  \\\n0                                    New York in the fog   \n1                         Just looking for entertainment   \n2                                    Anon wants Elon cut   \n3                          Northern Lights above Lofoten   \n4                                          Viking Lights   \n...                                                  ...   \n29600                                              Lenis   \n29601  My friend is making a stuffed animal and this ...   \n29602                    This weird Mickey keychain hand   \n29603                                     Parking lot pp   \n29604  Can't figure out why they didn't approve of th...   \n\n                                                 caption  \\\n0      cars are parked on the side of the road in the...   \n1      blonde woman with blonde hair and tattoos on h...   \n2      a man with a beard and a beard sitting in fron...   \n3      a view of a view of a large green and purple a...   \n4      a scene of a boat is sitting on the shore of a...   \n...                                                  ...   \n29600  there is a small piece of metal with two small...   \n29601    a close up of a blue knitted bagueth on a chair   \n29602  someone is holding a key chain with a mickey m...   \n29603  a close up of a black and white photo of a bla...   \n29604  there is a picture of a video game on the tv s...   \n\n                                   hash  \\\n0      7a8d96e378c15c8ab8440ac311f12c11   \n1      e554c1ed7ffa2740436ac082068b2824   \n2      1dec3dabb5e46cde01855d06089c287a   \n3      2c39ce1290fba541abd0b004b09da6b2   \n4      0f72de47c69ff50eca5fa3990215f4ac   \n...                                 ...   \n29600  7604c3e55ce8dbf238520683d6e71f89   \n29601  389f8aa0fb191bdeba08c8d2cfff8ce2   \n29602  87563ac0c8ddeeb0ce47bc915b99308b   \n29603  88b596be6de959bd29eed4e8946bb476   \n29604  eb7ed95bedcd44c130938e2f09069f08   \n\n                                               permalink  \\\n0      /r/CityPorn/comments/1000cej/new_york_in_the_fog/   \n1      /r/AmIhotAF/comments/1000glf/just_looking_for_...   \n2      /r/greentext/comments/1000j1n/anon_wants_elon_...   \n3      /r/spaceporn/comments/1000mjs/northern_lights_...   \n4           /r/spaceporn/comments/1000qpd/viking_lights/   \n...                                                  ...   \n29600             /r/mildlypenis/comments/11oz7fi/lenis/   \n29601  /r/mildlypenis/comments/11oz73d/my_friend_is_m...   \n29602  /r/mildlypenis/comments/11oyzm3/this_weird_mic...   \n29603    /r/mildlypenis/comments/11oyvx1/parking_lot_pp/   \n29604  /r/mildlypenis/comments/11oxx6r/cant_figure_ou...   \n\n                              original_url  \\\n0      https://i.redd.it/4emw5uldib9a1.jpg   \n1      https://i.redd.it/4xyb1vgbjb9a1.jpg   \n2      https://i.redd.it/3mewbe0wjb9a1.jpg   \n3      https://i.redd.it/7s5aafaqkb9a1.jpg   \n4      https://i.redd.it/abojw7lqlb9a1.jpg   \n...                                    ...   \n29600  https://i.redd.it/pskj3q0ao8na1.jpg   \n29601  https://i.redd.it/gemqhq67o8na1.jpg   \n29602  https://i.redd.it/vrivt8rom8na1.jpg   \n29603  https://i.redd.it/w1vebizwl8na1.jpg   \n29604  https://i.redd.it/92hm0ia2f8na1.jpg   \n\n                                 image_name  \\\n0                         4emw5uldib9a1.jpg   \n1                         4xyb1vgbjb9a1.jpg   \n2                         3mewbe0wjb9a1.jpg   \n3                         7s5aafaqkb9a1.jpg   \n4                         abojw7lqlb9a1.jpg   \n...                                     ...   \n29600  7604c3e55ce8dbf238520683d6e71f89.jpg   \n29601  389f8aa0fb191bdeba08c8d2cfff8ce2.jpg   \n29602  87563ac0c8ddeeb0ce47bc915b99308b.jpg   \n29603  88b596be6de959bd29eed4e8946bb476.jpg   \n29604  eb7ed95bedcd44c130938e2f09069f08.jpg   \n\n                                                    path  \\\n0              D:\\data\\images\\CityPorn\\4emw5uldib9a1.jpg   \n1              D:\\data\\images\\AmIhotAF\\4xyb1vgbjb9a1.jpg   \n2             D:\\data\\images\\greentext\\3mewbe0wjb9a1.jpg   \n3               /data/images/spaceporn/7s5aafaqkb9a1.jpg   \n4               /data/images/spaceporn/abojw7lqlb9a1.jpg   \n...                                                  ...   \n29600  D:\\data\\images\\mildlypenis\\7604c3e55ce8dbf2385...   \n29601  D:\\data\\images\\mildlypenis\\389f8aa0fb191bdeba0...   \n29602  D:\\data\\images\\mildlypenis\\87563ac0c8ddeeb0ce4...   \n29603  D:\\data\\images\\mildlypenis\\88b596be6de959bd29e...   \n29604  D:\\data\\images\\mildlypenis\\eb7ed95bedcd44c1309...   \n\n                                          thumbnail_path  exists  curated  \n0      D:\\data\\images\\CityPorn\\thumbnail\\4emw5uldib9a...    True    False  \n1      D:\\data\\images\\AmIhotAF\\thumbnail\\4xyb1vgbjb9a...    True    False  \n2      D:\\data\\images\\greentext\\thumbnail\\3mewbe0wjb9...    True    False  \n3      /data/images/spaceporn/thumbnail/7s5aafaqkb9a1...    True    False  \n4      /data/images/spaceporn/thumbnail/abojw7lqlb9a1...    True    False  \n...                                                  ...     ...      ...  \n29600  D:\\data\\images\\mildlypenis\\thumbnail\\7604c3e55...    True    False  \n29601  D:\\data\\images\\mildlypenis\\thumbnail\\389f8aa0f...    True    False  \n29602  D:\\data\\images\\mildlypenis\\thumbnail\\87563ac0c...    True    False  \n29603  D:\\data\\images\\mildlypenis\\thumbnail\\88b596be6...    True    False  \n29604  D:\\data\\images\\mildlypenis\\thumbnail\\eb7ed95be...    True    False  \n\n[29605 rows x 13 columns]",
      "text/html": "<div>\n<style scoped>\n    .dataframe tbody tr th:only-of-type {\n        vertical-align: middle;\n    }\n\n    .dataframe tbody tr th {\n        vertical-align: top;\n    }\n\n    .dataframe thead th {\n        text-align: right;\n    }\n</style>\n<table border=\"1\" class=\"dataframe\">\n  <thead>\n    <tr style=\"text-align: right;\">\n      <th></th>\n      <th>id</th>\n      <th>subreddit</th>\n      <th>author</th>\n      <th>title</th>\n      <th>caption</th>\n      <th>hash</th>\n      <th>permalink</th>\n      <th>original_url</th>\n      <th>image_name</th>\n      <th>path</th>\n      <th>thumbnail_path</th>\n      <th>exists</th>\n      <th>curated</th>\n    </tr>\n  </thead>\n  <tbody>\n    <tr>\n      <th>0</th>\n      <td>1000cej</td>\n      <td>CityPorn</td>\n      <td>OtterlyFoxy</td>\n      <td>New York in the fog</td>\n      <td>cars are parked on the side of the road in the...</td>\n      <td>7a8d96e378c15c8ab8440ac311f12c11</td>\n      <td>/r/CityPorn/comments/1000cej/new_york_in_the_fog/</td>\n      <td>https://i.redd.it/4emw5uldib9a1.jpg</td>\n      <td>4emw5uldib9a1.jpg</td>\n      <td>D:\\data\\images\\CityPorn\\4emw5uldib9a1.jpg</td>\n      <td>D:\\data\\images\\CityPorn\\thumbnail\\4emw5uldib9a...</td>\n      <td>True</td>\n      <td>False</td>\n    </tr>\n    <tr>\n      <th>1</th>\n      <td>1000glf</td>\n      <td>AmIhotAF</td>\n      <td>toolate_sharkbait</td>\n      <td>Just looking for entertainment</td>\n      <td>blonde woman with blonde hair and tattoos on h...</td>\n      <td>e554c1ed7ffa2740436ac082068b2824</td>\n      <td>/r/AmIhotAF/comments/1000glf/just_looking_for_...</td>\n      <td>https://i.redd.it/4xyb1vgbjb9a1.jpg</td>\n      <td>4xyb1vgbjb9a1.jpg</td>\n      <td>D:\\data\\images\\AmIhotAF\\4xyb1vgbjb9a1.jpg</td>\n      <td>D:\\data\\images\\AmIhotAF\\thumbnail\\4xyb1vgbjb9a...</td>\n      <td>True</td>\n      <td>False</td>\n    </tr>\n    <tr>\n      <th>2</th>\n      <td>1000j1n</td>\n      <td>greentext</td>\n      <td>trent8051</td>\n      <td>Anon wants Elon cut</td>\n      <td>a man with a beard and a beard sitting in fron...</td>\n      <td>1dec3dabb5e46cde01855d06089c287a</td>\n      <td>/r/greentext/comments/1000j1n/anon_wants_elon_...</td>\n      <td>https://i.redd.it/3mewbe0wjb9a1.jpg</td>\n      <td>3mewbe0wjb9a1.jpg</td>\n      <td>D:\\data\\images\\greentext\\3mewbe0wjb9a1.jpg</td>\n      <td>D:\\data\\images\\greentext\\thumbnail\\3mewbe0wjb9...</td>\n      <td>True</td>\n      <td>False</td>\n    </tr>\n    <tr>\n      <th>3</th>\n      <td>1000mjs</td>\n      <td>spaceporn</td>\n      <td>MorningStar_imangi</td>\n      <td>Northern Lights above Lofoten</td>\n      <td>a view of a view of a large green and purple a...</td>\n      <td>2c39ce1290fba541abd0b004b09da6b2</td>\n      <td>/r/spaceporn/comments/1000mjs/northern_lights_...</td>\n      <td>https://i.redd.it/7s5aafaqkb9a1.jpg</td>\n      <td>7s5aafaqkb9a1.jpg</td>\n      <td>/data/images/spaceporn/7s5aafaqkb9a1.jpg</td>\n      <td>/data/images/spaceporn/thumbnail/7s5aafaqkb9a1...</td>\n      <td>True</td>\n      <td>False</td>\n    </tr>\n    <tr>\n      <th>4</th>\n      <td>1000qpd</td>\n      <td>spaceporn</td>\n      <td>MorningStar_imangi</td>\n      <td>Viking Lights</td>\n      <td>a scene of a boat is sitting on the shore of a...</td>\n      <td>0f72de47c69ff50eca5fa3990215f4ac</td>\n      <td>/r/spaceporn/comments/1000qpd/viking_lights/</td>\n      <td>https://i.redd.it/abojw7lqlb9a1.jpg</td>\n      <td>abojw7lqlb9a1.jpg</td>\n      <td>/data/images/spaceporn/abojw7lqlb9a1.jpg</td>\n      <td>/data/images/spaceporn/thumbnail/abojw7lqlb9a1...</td>\n      <td>True</td>\n      <td>False</td>\n    </tr>\n    <tr>\n      <th>...</th>\n      <td>...</td>\n      <td>...</td>\n      <td>...</td>\n      <td>...</td>\n      <td>...</td>\n      <td>...</td>\n      <td>...</td>\n      <td>...</td>\n      <td>...</td>\n      <td>...</td>\n      <td>...</td>\n      <td>...</td>\n      <td>...</td>\n    </tr>\n    <tr>\n      <th>29600</th>\n      <td>11oz7fi</td>\n      <td>mildlypenis</td>\n      <td>Extra-Lie489</td>\n      <td>Lenis</td>\n      <td>there is a small piece of metal with two small...</td>\n      <td>7604c3e55ce8dbf238520683d6e71f89</td>\n      <td>/r/mildlypenis/comments/11oz7fi/lenis/</td>\n      <td>https://i.redd.it/pskj3q0ao8na1.jpg</td>\n      <td>7604c3e55ce8dbf238520683d6e71f89.jpg</td>\n      <td>D:\\data\\images\\mildlypenis\\7604c3e55ce8dbf2385...</td>\n      <td>D:\\data\\images\\mildlypenis\\thumbnail\\7604c3e55...</td>\n      <td>True</td>\n      <td>False</td>\n    </tr>\n    <tr>\n      <th>29601</th>\n      <td>11oz73d</td>\n      <td>mildlypenis</td>\n      <td>DeimosLV</td>\n      <td>My friend is making a stuffed animal and this ...</td>\n      <td>a close up of a blue knitted bagueth on a chair</td>\n      <td>389f8aa0fb191bdeba08c8d2cfff8ce2</td>\n      <td>/r/mildlypenis/comments/11oz73d/my_friend_is_m...</td>\n      <td>https://i.redd.it/gemqhq67o8na1.jpg</td>\n      <td>389f8aa0fb191bdeba08c8d2cfff8ce2.jpg</td>\n      <td>D:\\data\\images\\mildlypenis\\389f8aa0fb191bdeba0...</td>\n      <td>D:\\data\\images\\mildlypenis\\thumbnail\\389f8aa0f...</td>\n      <td>True</td>\n      <td>False</td>\n    </tr>\n    <tr>\n      <th>29602</th>\n      <td>11oyzm3</td>\n      <td>mildlypenis</td>\n      <td>Mymemesareswell</td>\n      <td>This weird Mickey keychain hand</td>\n      <td>someone is holding a key chain with a mickey m...</td>\n      <td>87563ac0c8ddeeb0ce47bc915b99308b</td>\n      <td>/r/mildlypenis/comments/11oyzm3/this_weird_mic...</td>\n      <td>https://i.redd.it/vrivt8rom8na1.jpg</td>\n      <td>87563ac0c8ddeeb0ce47bc915b99308b.jpg</td>\n      <td>D:\\data\\images\\mildlypenis\\87563ac0c8ddeeb0ce4...</td>\n      <td>D:\\data\\images\\mildlypenis\\thumbnail\\87563ac0c...</td>\n      <td>True</td>\n      <td>False</td>\n    </tr>\n    <tr>\n      <th>29603</th>\n      <td>11oyvx1</td>\n      <td>mildlypenis</td>\n      <td>LucindaBobinda</td>\n      <td>Parking lot pp</td>\n      <td>a close up of a black and white photo of a bla...</td>\n      <td>88b596be6de959bd29eed4e8946bb476</td>\n      <td>/r/mildlypenis/comments/11oyvx1/parking_lot_pp/</td>\n      <td>https://i.redd.it/w1vebizwl8na1.jpg</td>\n      <td>88b596be6de959bd29eed4e8946bb476.jpg</td>\n      <td>D:\\data\\images\\mildlypenis\\88b596be6de959bd29e...</td>\n      <td>D:\\data\\images\\mildlypenis\\thumbnail\\88b596be6...</td>\n      <td>True</td>\n      <td>False</td>\n    </tr>\n    <tr>\n      <th>29604</th>\n      <td>11oxx6r</td>\n      <td>mildlypenis</td>\n      <td>DoggyCube</td>\n      <td>Can't figure out why they didn't approve of th...</td>\n      <td>there is a picture of a video game on the tv s...</td>\n      <td>eb7ed95bedcd44c130938e2f09069f08</td>\n      <td>/r/mildlypenis/comments/11oxx6r/cant_figure_ou...</td>\n      <td>https://i.redd.it/92hm0ia2f8na1.jpg</td>\n      <td>eb7ed95bedcd44c130938e2f09069f08.jpg</td>\n      <td>D:\\data\\images\\mildlypenis\\eb7ed95bedcd44c1309...</td>\n      <td>D:\\data\\images\\mildlypenis\\thumbnail\\eb7ed95be...</td>\n      <td>True</td>\n      <td>False</td>\n    </tr>\n  </tbody>\n</table>\n<p>29605 rows × 13 columns</p>\n</div>"
     },
     "metadata": {},
     "output_type": "display_data"
    }
   ],
   "source": [
    "extant_data: pd.DataFrame = pd.read_parquet(\"data/processed_raw_data.parquet\", engine='pyarrow', filesystem=file_system)\n",
    "\n",
    "display(extant_data)"
   ],
   "metadata": {
    "collapsed": false,
    "ExecuteTime": {
     "start_time": "2023-04-02T14:15:01.299993Z",
     "end_time": "2023-04-02T14:15:02.683541Z"
    }
   }
  },
  {
   "cell_type": "code",
   "execution_count": 79,
   "outputs": [],
   "source": [
    "def has_caption(x: object):\n",
    "\ttry:\n",
    "\t\tcaption = x['caption']\n",
    "\t\tif caption is None:\n",
    "\t\t\treturn False\n",
    "\t\treturn len(caption) > 5\n",
    "\texcept Exception as e:\n",
    "\t\tprint(\"Error In has_caption: \" + str(e))\n",
    "\t\treturn False"
   ],
   "metadata": {
    "collapsed": false,
    "ExecuteTime": {
     "start_time": "2023-04-02T14:21:49.328170Z",
     "end_time": "2023-04-02T14:21:49.391161Z"
    }
   }
  },
  {
   "cell_type": "code",
   "execution_count": null,
   "outputs": [],
   "source": [
    "%%time\n",
    "\n",
    "extant_data: pandas.DataFrame = pd.read_parquet(\"data/processed_raw_data.parquet\", engine='pyarrow',\n",
    "\t\t\t\t\t\t\t\t\t\t\t\tfilesystem=file_system)\n",
    "\n",
    "display(extant_data)"
   ],
   "metadata": {
    "collapsed": false
   }
  },
  {
   "cell_type": "code",
   "execution_count": null,
   "outputs": [],
   "source": [
    "%%time\n",
    "\n",
    "print(f\"Number Of Images That Exist Before Check\\t{extant_data['exists'].apply(lambda x: x == True).sum()}\")\n",
    "\n",
    "print(f\"Number Of Images That Do Not Exist Before Check\\t{extant_data['exists'].apply(lambda x: x == False).sum()}\")\n",
    "\n",
    "extant_data['exists'] = extant_data.progress_apply(lambda row: check_if_thumb_and_image_exist(row), axis=1)\n",
    "\n",
    "print(f\"Number Of Images That Exist After Check\\t{extant_data['exists'].apply(lambda x: x == True).sum()}\")\n",
    "\n",
    "print(f\"Number Of Images That Do Not Exist After Check\\t{extant_data['exists'].apply(lambda x: x == False).sum()}\")\n",
    "\n",
    "display(extant_data)\n",
    "\n",
    "extant_data.to_parquet(\"data/processed_raw_data.parquet\", engine='pyarrow', filesystem=file_system)"
   ],
   "metadata": {
    "collapsed": false
   }
  },
  {
   "cell_type": "code",
   "execution_count": null,
   "outputs": [],
   "source": [
    "extant_data: pd.DataFrame = pd.read_parquet(\"data/processed_raw_data.parquet\", engine='pyarrow', filesystem=file_system)\n",
    "\n",
    "display(extant_data)"
   ],
   "metadata": {
    "collapsed": false
   }
  },
  {
   "cell_type": "code",
   "execution_count": 126,
   "outputs": [],
   "source": [
    "def needs_caption(x: object):\n",
    "\ttry:\n",
    "\t\texists = x.get('exists')\n",
    "\t\tcaption = x.get('caption')\n",
    "\t\tif exists is False:\n",
    "\t\t\treturn False\n",
    "\t\tif caption is None:\n",
    "\t\t\tprint(caption)\n",
    "\t\t\treturn True\n",
    "\t\tif len(caption) > 10:\n",
    "\t\t\treturn False\n",
    "\t\tif caption == \"None\":\n",
    "\t\t\treturn True\n",
    "\t\telse:\n",
    "\t\t\treturn False\n",
    "\texcept Exception as e:\n",
    "\t\tprint(\"Error In has_caption: \" + str(e))\n",
    "\t\treturn False"
   ],
   "metadata": {
    "collapsed": false,
    "ExecuteTime": {
     "start_time": "2023-04-02T14:44:46.478366Z",
     "end_time": "2023-04-02T14:44:46.540865Z"
    }
   }
  },
  {
   "cell_type": "code",
   "execution_count": 136,
   "outputs": [
    {
     "data": {
      "text/plain": "           id        subreddit          author  \\\n0     1259t9g  AsianOfficeLady      King_Oppai   \n1     10awlfh  AsianOfficeLady      King_Oppai   \n2      wdz5lh  AsianOfficeLady      King_Oppai   \n3      vubg7h  AsianOfficeLady      King_Oppai   \n4      vsqp5k  AsianOfficeLady      King_Oppai   \n...       ...              ...             ...   \n1869  11pol1i      mildlypenis        wert4890   \n1870  11pndnc      mildlypenis   IgroGuruGroup   \n1871  11pgksr      mildlypenis  the3rdconchord   \n1872  11p250t      mildlypenis  passivecooling   \n1873  11p4ms8      mildlypenis         kkfluff   \n\n                                                  title caption  \\\n0                                                 #1199    None   \n1                                                 #1052    None   \n2                                                  #733    None   \n3                                                  #685    None   \n4                                                  #681    None   \n...                                                 ...     ...   \n1869                                     Blursed_Wabbit    None   \n1870                          Cat's reaction to carrots    None   \n1871                                             Coctus    None   \n1872                         Arches National Park, Utah    None   \n1873  I often feel like my ramshorns look a little…....    None   \n\n                                  hash  \\\n0                                 None   \n1                                 None   \n2                                 None   \n3                                 None   \n4     5111d68e2acffd091aaabd160c73f1cd   \n...                                ...   \n1869  f17b01901c752c1bb04928131d1661af   \n1870                              None   \n1871                              None   \n1872                              None   \n1873                              None   \n\n                                              permalink  \\\n0             /r/AsianOfficeLady/comments/1259t9g/1199/   \n1             /r/AsianOfficeLady/comments/10awlfh/1052/   \n2               /r/AsianOfficeLady/comments/wdz5lh/733/   \n3               /r/AsianOfficeLady/comments/vubg7h/685/   \n4               /r/AsianOfficeLady/comments/vsqp5k/681/   \n...                                                 ...   \n1869    /r/mildlypenis/comments/11pol1i/blursed_wabbit/   \n1870  /r/mildlypenis/comments/11pndnc/cats_reaction_...   \n1871            /r/mildlypenis/comments/11pgksr/coctus/   \n1872  /r/mildlypenis/comments/11p250t/arches_nationa...   \n1873  /r/mildlypenis/comments/11p4ms8/i_often_feel_l...   \n\n                                original_url  \\\n0        https://i.redd.it/0tk8cf865lqa1.png   \n1        https://i.redd.it/9hjkustyrtba1.png   \n2        https://i.redd.it/yb0uy89bj7f91.jpg   \n3        https://i.redd.it/ko4zt48zoca91.png   \n4        https://i.redd.it/enc6h9m5fy991.jpg   \n...                                      ...   \n1869     https://i.redd.it/06uk11u17cna1.jpg   \n1870         https://v.redd.it/zq4z3m0j0dna1   \n1871  https://www.reddit.com/gallery/11pgksr   \n1872     https://i.redd.it/zi578adzt7na1.png   \n1873         https://v.redd.it/amq9ks5ow9na1   \n\n                                image_name  \\\n0                                     .jpg   \n1                                     .jpg   \n2                                     .jpg   \n3                                     .jpg   \n4     5111d68e2acffd091aaabd160c73f1cd.jpg   \n...                                    ...   \n1869  f17b01901c752c1bb04928131d1661af.jpg   \n1870                                  None   \n1871                                  None   \n1872                                  .jpg   \n1873                                  None   \n\n                                                   path thumbnail_path  \\\n0                                                  None           None   \n1                                                  None           None   \n2                                                  None           None   \n3                                                  None           None   \n4     D:\\data\\images\\AsianOfficeLady\\5111d68e2acffd0...           None   \n...                                                 ...            ...   \n1869  D:\\data\\images\\mildlypenis\\f17b01901c752c1bb04...           None   \n1870                                               None           None   \n1871                                               None           None   \n1872                                               None           None   \n1873                                               None           None   \n\n      exists  curated  \n0      False    False  \n1      False    False  \n2      False    False  \n3      False    False  \n4      False    False  \n...      ...      ...  \n1869   False    False  \n1870   False    False  \n1871   False    False  \n1872   False    False  \n1873   False    False  \n\n[1874 rows x 13 columns]",
      "text/html": "<div>\n<style scoped>\n    .dataframe tbody tr th:only-of-type {\n        vertical-align: middle;\n    }\n\n    .dataframe tbody tr th {\n        vertical-align: top;\n    }\n\n    .dataframe thead th {\n        text-align: right;\n    }\n</style>\n<table border=\"1\" class=\"dataframe\">\n  <thead>\n    <tr style=\"text-align: right;\">\n      <th></th>\n      <th>id</th>\n      <th>subreddit</th>\n      <th>author</th>\n      <th>title</th>\n      <th>caption</th>\n      <th>hash</th>\n      <th>permalink</th>\n      <th>original_url</th>\n      <th>image_name</th>\n      <th>path</th>\n      <th>thumbnail_path</th>\n      <th>exists</th>\n      <th>curated</th>\n    </tr>\n  </thead>\n  <tbody>\n    <tr>\n      <th>0</th>\n      <td>1259t9g</td>\n      <td>AsianOfficeLady</td>\n      <td>King_Oppai</td>\n      <td>#1199</td>\n      <td>None</td>\n      <td>None</td>\n      <td>/r/AsianOfficeLady/comments/1259t9g/1199/</td>\n      <td>https://i.redd.it/0tk8cf865lqa1.png</td>\n      <td>.jpg</td>\n      <td>None</td>\n      <td>None</td>\n      <td>False</td>\n      <td>False</td>\n    </tr>\n    <tr>\n      <th>1</th>\n      <td>10awlfh</td>\n      <td>AsianOfficeLady</td>\n      <td>King_Oppai</td>\n      <td>#1052</td>\n      <td>None</td>\n      <td>None</td>\n      <td>/r/AsianOfficeLady/comments/10awlfh/1052/</td>\n      <td>https://i.redd.it/9hjkustyrtba1.png</td>\n      <td>.jpg</td>\n      <td>None</td>\n      <td>None</td>\n      <td>False</td>\n      <td>False</td>\n    </tr>\n    <tr>\n      <th>2</th>\n      <td>wdz5lh</td>\n      <td>AsianOfficeLady</td>\n      <td>King_Oppai</td>\n      <td>#733</td>\n      <td>None</td>\n      <td>None</td>\n      <td>/r/AsianOfficeLady/comments/wdz5lh/733/</td>\n      <td>https://i.redd.it/yb0uy89bj7f91.jpg</td>\n      <td>.jpg</td>\n      <td>None</td>\n      <td>None</td>\n      <td>False</td>\n      <td>False</td>\n    </tr>\n    <tr>\n      <th>3</th>\n      <td>vubg7h</td>\n      <td>AsianOfficeLady</td>\n      <td>King_Oppai</td>\n      <td>#685</td>\n      <td>None</td>\n      <td>None</td>\n      <td>/r/AsianOfficeLady/comments/vubg7h/685/</td>\n      <td>https://i.redd.it/ko4zt48zoca91.png</td>\n      <td>.jpg</td>\n      <td>None</td>\n      <td>None</td>\n      <td>False</td>\n      <td>False</td>\n    </tr>\n    <tr>\n      <th>4</th>\n      <td>vsqp5k</td>\n      <td>AsianOfficeLady</td>\n      <td>King_Oppai</td>\n      <td>#681</td>\n      <td>None</td>\n      <td>5111d68e2acffd091aaabd160c73f1cd</td>\n      <td>/r/AsianOfficeLady/comments/vsqp5k/681/</td>\n      <td>https://i.redd.it/enc6h9m5fy991.jpg</td>\n      <td>5111d68e2acffd091aaabd160c73f1cd.jpg</td>\n      <td>D:\\data\\images\\AsianOfficeLady\\5111d68e2acffd0...</td>\n      <td>None</td>\n      <td>False</td>\n      <td>False</td>\n    </tr>\n    <tr>\n      <th>...</th>\n      <td>...</td>\n      <td>...</td>\n      <td>...</td>\n      <td>...</td>\n      <td>...</td>\n      <td>...</td>\n      <td>...</td>\n      <td>...</td>\n      <td>...</td>\n      <td>...</td>\n      <td>...</td>\n      <td>...</td>\n      <td>...</td>\n    </tr>\n    <tr>\n      <th>1869</th>\n      <td>11pol1i</td>\n      <td>mildlypenis</td>\n      <td>wert4890</td>\n      <td>Blursed_Wabbit</td>\n      <td>None</td>\n      <td>f17b01901c752c1bb04928131d1661af</td>\n      <td>/r/mildlypenis/comments/11pol1i/blursed_wabbit/</td>\n      <td>https://i.redd.it/06uk11u17cna1.jpg</td>\n      <td>f17b01901c752c1bb04928131d1661af.jpg</td>\n      <td>D:\\data\\images\\mildlypenis\\f17b01901c752c1bb04...</td>\n      <td>None</td>\n      <td>False</td>\n      <td>False</td>\n    </tr>\n    <tr>\n      <th>1870</th>\n      <td>11pndnc</td>\n      <td>mildlypenis</td>\n      <td>IgroGuruGroup</td>\n      <td>Cat's reaction to carrots</td>\n      <td>None</td>\n      <td>None</td>\n      <td>/r/mildlypenis/comments/11pndnc/cats_reaction_...</td>\n      <td>https://v.redd.it/zq4z3m0j0dna1</td>\n      <td>None</td>\n      <td>None</td>\n      <td>None</td>\n      <td>False</td>\n      <td>False</td>\n    </tr>\n    <tr>\n      <th>1871</th>\n      <td>11pgksr</td>\n      <td>mildlypenis</td>\n      <td>the3rdconchord</td>\n      <td>Coctus</td>\n      <td>None</td>\n      <td>None</td>\n      <td>/r/mildlypenis/comments/11pgksr/coctus/</td>\n      <td>https://www.reddit.com/gallery/11pgksr</td>\n      <td>None</td>\n      <td>None</td>\n      <td>None</td>\n      <td>False</td>\n      <td>False</td>\n    </tr>\n    <tr>\n      <th>1872</th>\n      <td>11p250t</td>\n      <td>mildlypenis</td>\n      <td>passivecooling</td>\n      <td>Arches National Park, Utah</td>\n      <td>None</td>\n      <td>None</td>\n      <td>/r/mildlypenis/comments/11p250t/arches_nationa...</td>\n      <td>https://i.redd.it/zi578adzt7na1.png</td>\n      <td>.jpg</td>\n      <td>None</td>\n      <td>None</td>\n      <td>False</td>\n      <td>False</td>\n    </tr>\n    <tr>\n      <th>1873</th>\n      <td>11p4ms8</td>\n      <td>mildlypenis</td>\n      <td>kkfluff</td>\n      <td>I often feel like my ramshorns look a little…....</td>\n      <td>None</td>\n      <td>None</td>\n      <td>/r/mildlypenis/comments/11p4ms8/i_often_feel_l...</td>\n      <td>https://v.redd.it/amq9ks5ow9na1</td>\n      <td>None</td>\n      <td>None</td>\n      <td>None</td>\n      <td>False</td>\n      <td>False</td>\n    </tr>\n  </tbody>\n</table>\n<p>1874 rows × 13 columns</p>\n</div>"
     },
     "metadata": {},
     "output_type": "display_data"
    },
    {
     "data": {
      "text/plain": "           id        subreddit          author  \\\n0     1259t9g  AsianOfficeLady      King_Oppai   \n1     10awlfh  AsianOfficeLady      King_Oppai   \n2      wdz5lh  AsianOfficeLady      King_Oppai   \n3      vubg7h  AsianOfficeLady      King_Oppai   \n4      vsqp5k  AsianOfficeLady      King_Oppai   \n...       ...              ...             ...   \n1869  11pol1i      mildlypenis        wert4890   \n1870  11pndnc      mildlypenis   IgroGuruGroup   \n1871  11pgksr      mildlypenis  the3rdconchord   \n1872  11p250t      mildlypenis  passivecooling   \n1873  11p4ms8      mildlypenis         kkfluff   \n\n                                                  title caption  \\\n0                                                 #1199    None   \n1                                                 #1052    None   \n2                                                  #733    None   \n3                                                  #685    None   \n4                                                  #681    None   \n...                                                 ...     ...   \n1869                                     Blursed_Wabbit    None   \n1870                          Cat's reaction to carrots    None   \n1871                                             Coctus    None   \n1872                         Arches National Park, Utah    None   \n1873  I often feel like my ramshorns look a little…....    None   \n\n                                  hash  \\\n0                                 None   \n1                                 None   \n2                                 None   \n3                                 None   \n4     5111d68e2acffd091aaabd160c73f1cd   \n...                                ...   \n1869  f17b01901c752c1bb04928131d1661af   \n1870                              None   \n1871                              None   \n1872                              None   \n1873                              None   \n\n                                              permalink  \\\n0             /r/AsianOfficeLady/comments/1259t9g/1199/   \n1             /r/AsianOfficeLady/comments/10awlfh/1052/   \n2               /r/AsianOfficeLady/comments/wdz5lh/733/   \n3               /r/AsianOfficeLady/comments/vubg7h/685/   \n4               /r/AsianOfficeLady/comments/vsqp5k/681/   \n...                                                 ...   \n1869    /r/mildlypenis/comments/11pol1i/blursed_wabbit/   \n1870  /r/mildlypenis/comments/11pndnc/cats_reaction_...   \n1871            /r/mildlypenis/comments/11pgksr/coctus/   \n1872  /r/mildlypenis/comments/11p250t/arches_nationa...   \n1873  /r/mildlypenis/comments/11p4ms8/i_often_feel_l...   \n\n                                original_url  \\\n0        https://i.redd.it/0tk8cf865lqa1.png   \n1        https://i.redd.it/9hjkustyrtba1.png   \n2        https://i.redd.it/yb0uy89bj7f91.jpg   \n3        https://i.redd.it/ko4zt48zoca91.png   \n4        https://i.redd.it/enc6h9m5fy991.jpg   \n...                                      ...   \n1869     https://i.redd.it/06uk11u17cna1.jpg   \n1870         https://v.redd.it/zq4z3m0j0dna1   \n1871  https://www.reddit.com/gallery/11pgksr   \n1872     https://i.redd.it/zi578adzt7na1.png   \n1873         https://v.redd.it/amq9ks5ow9na1   \n\n                                image_name  \\\n0                                     .jpg   \n1                                     .jpg   \n2                                     .jpg   \n3                                     .jpg   \n4     5111d68e2acffd091aaabd160c73f1cd.jpg   \n...                                    ...   \n1869  f17b01901c752c1bb04928131d1661af.jpg   \n1870                                  None   \n1871                                  None   \n1872                                  .jpg   \n1873                                  None   \n\n                                                   path thumbnail_path  \\\n0                                                  None           None   \n1                                                  None           None   \n2                                                  None           None   \n3                                                  None           None   \n4     D:\\data\\images\\AsianOfficeLady\\5111d68e2acffd0...           None   \n...                                                 ...            ...   \n1869  D:\\data\\images\\mildlypenis\\f17b01901c752c1bb04...           None   \n1870                                               None           None   \n1871                                               None           None   \n1872                                               None           None   \n1873                                               None           None   \n\n      exists  curated  \n0      False    False  \n1      False    False  \n2      False    False  \n3      False    False  \n4      False    False  \n...      ...      ...  \n1869   False    False  \n1870   False    False  \n1871   False    False  \n1872   False    False  \n1873   False    False  \n\n[1874 rows x 13 columns]",
      "text/html": "<div>\n<style scoped>\n    .dataframe tbody tr th:only-of-type {\n        vertical-align: middle;\n    }\n\n    .dataframe tbody tr th {\n        vertical-align: top;\n    }\n\n    .dataframe thead th {\n        text-align: right;\n    }\n</style>\n<table border=\"1\" class=\"dataframe\">\n  <thead>\n    <tr style=\"text-align: right;\">\n      <th></th>\n      <th>id</th>\n      <th>subreddit</th>\n      <th>author</th>\n      <th>title</th>\n      <th>caption</th>\n      <th>hash</th>\n      <th>permalink</th>\n      <th>original_url</th>\n      <th>image_name</th>\n      <th>path</th>\n      <th>thumbnail_path</th>\n      <th>exists</th>\n      <th>curated</th>\n    </tr>\n  </thead>\n  <tbody>\n    <tr>\n      <th>0</th>\n      <td>1259t9g</td>\n      <td>AsianOfficeLady</td>\n      <td>King_Oppai</td>\n      <td>#1199</td>\n      <td>None</td>\n      <td>None</td>\n      <td>/r/AsianOfficeLady/comments/1259t9g/1199/</td>\n      <td>https://i.redd.it/0tk8cf865lqa1.png</td>\n      <td>.jpg</td>\n      <td>None</td>\n      <td>None</td>\n      <td>False</td>\n      <td>False</td>\n    </tr>\n    <tr>\n      <th>1</th>\n      <td>10awlfh</td>\n      <td>AsianOfficeLady</td>\n      <td>King_Oppai</td>\n      <td>#1052</td>\n      <td>None</td>\n      <td>None</td>\n      <td>/r/AsianOfficeLady/comments/10awlfh/1052/</td>\n      <td>https://i.redd.it/9hjkustyrtba1.png</td>\n      <td>.jpg</td>\n      <td>None</td>\n      <td>None</td>\n      <td>False</td>\n      <td>False</td>\n    </tr>\n    <tr>\n      <th>2</th>\n      <td>wdz5lh</td>\n      <td>AsianOfficeLady</td>\n      <td>King_Oppai</td>\n      <td>#733</td>\n      <td>None</td>\n      <td>None</td>\n      <td>/r/AsianOfficeLady/comments/wdz5lh/733/</td>\n      <td>https://i.redd.it/yb0uy89bj7f91.jpg</td>\n      <td>.jpg</td>\n      <td>None</td>\n      <td>None</td>\n      <td>False</td>\n      <td>False</td>\n    </tr>\n    <tr>\n      <th>3</th>\n      <td>vubg7h</td>\n      <td>AsianOfficeLady</td>\n      <td>King_Oppai</td>\n      <td>#685</td>\n      <td>None</td>\n      <td>None</td>\n      <td>/r/AsianOfficeLady/comments/vubg7h/685/</td>\n      <td>https://i.redd.it/ko4zt48zoca91.png</td>\n      <td>.jpg</td>\n      <td>None</td>\n      <td>None</td>\n      <td>False</td>\n      <td>False</td>\n    </tr>\n    <tr>\n      <th>4</th>\n      <td>vsqp5k</td>\n      <td>AsianOfficeLady</td>\n      <td>King_Oppai</td>\n      <td>#681</td>\n      <td>None</td>\n      <td>5111d68e2acffd091aaabd160c73f1cd</td>\n      <td>/r/AsianOfficeLady/comments/vsqp5k/681/</td>\n      <td>https://i.redd.it/enc6h9m5fy991.jpg</td>\n      <td>5111d68e2acffd091aaabd160c73f1cd.jpg</td>\n      <td>D:\\data\\images\\AsianOfficeLady\\5111d68e2acffd0...</td>\n      <td>None</td>\n      <td>False</td>\n      <td>False</td>\n    </tr>\n    <tr>\n      <th>...</th>\n      <td>...</td>\n      <td>...</td>\n      <td>...</td>\n      <td>...</td>\n      <td>...</td>\n      <td>...</td>\n      <td>...</td>\n      <td>...</td>\n      <td>...</td>\n      <td>...</td>\n      <td>...</td>\n      <td>...</td>\n      <td>...</td>\n    </tr>\n    <tr>\n      <th>1869</th>\n      <td>11pol1i</td>\n      <td>mildlypenis</td>\n      <td>wert4890</td>\n      <td>Blursed_Wabbit</td>\n      <td>None</td>\n      <td>f17b01901c752c1bb04928131d1661af</td>\n      <td>/r/mildlypenis/comments/11pol1i/blursed_wabbit/</td>\n      <td>https://i.redd.it/06uk11u17cna1.jpg</td>\n      <td>f17b01901c752c1bb04928131d1661af.jpg</td>\n      <td>D:\\data\\images\\mildlypenis\\f17b01901c752c1bb04...</td>\n      <td>None</td>\n      <td>False</td>\n      <td>False</td>\n    </tr>\n    <tr>\n      <th>1870</th>\n      <td>11pndnc</td>\n      <td>mildlypenis</td>\n      <td>IgroGuruGroup</td>\n      <td>Cat's reaction to carrots</td>\n      <td>None</td>\n      <td>None</td>\n      <td>/r/mildlypenis/comments/11pndnc/cats_reaction_...</td>\n      <td>https://v.redd.it/zq4z3m0j0dna1</td>\n      <td>None</td>\n      <td>None</td>\n      <td>None</td>\n      <td>False</td>\n      <td>False</td>\n    </tr>\n    <tr>\n      <th>1871</th>\n      <td>11pgksr</td>\n      <td>mildlypenis</td>\n      <td>the3rdconchord</td>\n      <td>Coctus</td>\n      <td>None</td>\n      <td>None</td>\n      <td>/r/mildlypenis/comments/11pgksr/coctus/</td>\n      <td>https://www.reddit.com/gallery/11pgksr</td>\n      <td>None</td>\n      <td>None</td>\n      <td>None</td>\n      <td>False</td>\n      <td>False</td>\n    </tr>\n    <tr>\n      <th>1872</th>\n      <td>11p250t</td>\n      <td>mildlypenis</td>\n      <td>passivecooling</td>\n      <td>Arches National Park, Utah</td>\n      <td>None</td>\n      <td>None</td>\n      <td>/r/mildlypenis/comments/11p250t/arches_nationa...</td>\n      <td>https://i.redd.it/zi578adzt7na1.png</td>\n      <td>.jpg</td>\n      <td>None</td>\n      <td>None</td>\n      <td>False</td>\n      <td>False</td>\n    </tr>\n    <tr>\n      <th>1873</th>\n      <td>11p4ms8</td>\n      <td>mildlypenis</td>\n      <td>kkfluff</td>\n      <td>I often feel like my ramshorns look a little…....</td>\n      <td>None</td>\n      <td>None</td>\n      <td>/r/mildlypenis/comments/11p4ms8/i_often_feel_l...</td>\n      <td>https://v.redd.it/amq9ks5ow9na1</td>\n      <td>None</td>\n      <td>None</td>\n      <td>None</td>\n      <td>False</td>\n      <td>False</td>\n    </tr>\n  </tbody>\n</table>\n<p>1874 rows × 13 columns</p>\n</div>"
     },
     "metadata": {},
     "output_type": "display_data"
    }
   ],
   "source": [
    "required_caption = []\n",
    "no_need_for_caption = []\n",
    "\n",
    "records = extant_data.to_dict(orient='records')\n",
    "none_records = [record for record in records if record['caption'] is None or record['caption'] == \"\"]\n",
    "false_records = [record for record in records if record['exists'] == False]\n",
    "\n",
    "none_records_df = pd.DataFrame(data=none_records)\n",
    "false_records_df = pd.DataFrame(data=none_records)"
   ],
   "metadata": {
    "collapsed": false,
    "ExecuteTime": {
     "start_time": "2023-04-02T14:51:32.763634Z",
     "end_time": "2023-04-02T14:51:34.163091Z"
    }
   }
  },
  {
   "cell_type": "code",
   "execution_count": 147,
   "outputs": [
    {
     "name": "stderr",
     "output_type": "stream",
     "text": [
      "global:   0%|          | 6/1874 [00:00<02:42, 11.48it/s]"
     ]
    },
    {
     "name": "stdout",
     "output_type": "stream",
     "text": [
      "image file is truncated (0 bytes not processed)\n"
     ]
    },
    {
     "name": "stderr",
     "output_type": "stream",
     "text": [
      "global:   1%|          | 14/1874 [00:01<02:54, 10.63it/s]"
     ]
    },
    {
     "name": "stdout",
     "output_type": "stream",
     "text": [
      "image file is truncated (1 bytes not processed)\n",
      "image file is truncated (0 bytes not processed)\n",
      "image file is truncated (0 bytes not processed)\n",
      "image_path: D:\\data\\images\\celebrities\\f09b1c0c5dea50c934081a04c83d4d33.jpg\n"
     ]
    },
    {
     "name": "stderr",
     "output_type": "stream",
     "text": [
      "global:  55%|█████▍    | 1025/1874 [00:02<00:00, 902.68it/s]"
     ]
    },
    {
     "name": "stdout",
     "output_type": "stream",
     "text": [
      "image_path: D:\\data\\images\\prettyasiangirls\\9d5b7331b941ecf3fdbc8ad322303825.jpg\n"
     ]
    },
    {
     "name": "stderr",
     "output_type": "stream",
     "text": [
      "global:  72%|███████▏  | 1357/1874 [00:04<00:01, 367.38it/s]"
     ]
    },
    {
     "name": "stdout",
     "output_type": "stream",
     "text": [
      "image_path: D:\\data\\images\\KoreanHotties\\a154a56b1b87cf3a0bc93600c86e4585.jpg\n"
     ]
    },
    {
     "name": "stderr",
     "output_type": "stream",
     "text": [
      "global: 100%|██████████| 1874/1874 [00:06<00:00, 268.25it/s]\n"
     ]
    },
    {
     "data": {
      "text/plain": "        id         subreddit                author             title caption  \\\n0  128z5ns       celebrities           A-Sexy-Name      Rachel Weisz    None   \n1  11yk8db  prettyasiangirls          MisoShiru520           Library    None   \n2  11hfioi     KoreanHotties  Majestic_Painter8660  Underboob bikini    None   \n\n                               hash  \\\n0  f09b1c0c5dea50c934081a04c83d4d33   \n1  9d5b7331b941ecf3fdbc8ad322303825   \n2  a154a56b1b87cf3a0bc93600c86e4585   \n\n                                           permalink  \\\n0      /r/celebrities/comments/128z5ns/rachel_weisz/   \n1      /r/prettyasiangirls/comments/11yk8db/library/   \n2  /r/KoreanHotties/comments/11hfioi/underboob_bi...   \n\n                          original_url                            image_name  \\\n0  https://i.redd.it/nv80afddacra1.jpg  f09b1c0c5dea50c934081a04c83d4d33.jpg   \n1  https://i.redd.it/ht4d2wuusapa1.jpg  9d5b7331b941ecf3fdbc8ad322303825.jpg   \n2  https://i.redd.it/cimr17q84jla1.jpg  a154a56b1b87cf3a0bc93600c86e4585.jpg   \n\n                                                path  \\\n0  D:\\data\\images\\celebrities\\f09b1c0c5dea50c9340...   \n1  D:\\data\\images\\prettyasiangirls\\9d5b7331b941ec...   \n2  D:\\data\\images\\KoreanHotties\\a154a56b1b87cf3a0...   \n\n                                      thumbnail_path  exists  curated  \n0  D:\\data\\images\\celebrities\\thumbnail\\f09b1c0c5...    True    False  \n1  D:\\data\\images\\prettyasiangirls\\thumbnail\\9d5b...    True    False  \n2  D:\\data\\images\\KoreanHotties\\thumbnail\\a154a56...    True    False  ",
      "text/html": "<div>\n<style scoped>\n    .dataframe tbody tr th:only-of-type {\n        vertical-align: middle;\n    }\n\n    .dataframe tbody tr th {\n        vertical-align: top;\n    }\n\n    .dataframe thead th {\n        text-align: right;\n    }\n</style>\n<table border=\"1\" class=\"dataframe\">\n  <thead>\n    <tr style=\"text-align: right;\">\n      <th></th>\n      <th>id</th>\n      <th>subreddit</th>\n      <th>author</th>\n      <th>title</th>\n      <th>caption</th>\n      <th>hash</th>\n      <th>permalink</th>\n      <th>original_url</th>\n      <th>image_name</th>\n      <th>path</th>\n      <th>thumbnail_path</th>\n      <th>exists</th>\n      <th>curated</th>\n    </tr>\n  </thead>\n  <tbody>\n    <tr>\n      <th>0</th>\n      <td>128z5ns</td>\n      <td>celebrities</td>\n      <td>A-Sexy-Name</td>\n      <td>Rachel Weisz</td>\n      <td>None</td>\n      <td>f09b1c0c5dea50c934081a04c83d4d33</td>\n      <td>/r/celebrities/comments/128z5ns/rachel_weisz/</td>\n      <td>https://i.redd.it/nv80afddacra1.jpg</td>\n      <td>f09b1c0c5dea50c934081a04c83d4d33.jpg</td>\n      <td>D:\\data\\images\\celebrities\\f09b1c0c5dea50c9340...</td>\n      <td>D:\\data\\images\\celebrities\\thumbnail\\f09b1c0c5...</td>\n      <td>True</td>\n      <td>False</td>\n    </tr>\n    <tr>\n      <th>1</th>\n      <td>11yk8db</td>\n      <td>prettyasiangirls</td>\n      <td>MisoShiru520</td>\n      <td>Library</td>\n      <td>None</td>\n      <td>9d5b7331b941ecf3fdbc8ad322303825</td>\n      <td>/r/prettyasiangirls/comments/11yk8db/library/</td>\n      <td>https://i.redd.it/ht4d2wuusapa1.jpg</td>\n      <td>9d5b7331b941ecf3fdbc8ad322303825.jpg</td>\n      <td>D:\\data\\images\\prettyasiangirls\\9d5b7331b941ec...</td>\n      <td>D:\\data\\images\\prettyasiangirls\\thumbnail\\9d5b...</td>\n      <td>True</td>\n      <td>False</td>\n    </tr>\n    <tr>\n      <th>2</th>\n      <td>11hfioi</td>\n      <td>KoreanHotties</td>\n      <td>Majestic_Painter8660</td>\n      <td>Underboob bikini</td>\n      <td>None</td>\n      <td>a154a56b1b87cf3a0bc93600c86e4585</td>\n      <td>/r/KoreanHotties/comments/11hfioi/underboob_bi...</td>\n      <td>https://i.redd.it/cimr17q84jla1.jpg</td>\n      <td>a154a56b1b87cf3a0bc93600c86e4585.jpg</td>\n      <td>D:\\data\\images\\KoreanHotties\\a154a56b1b87cf3a0...</td>\n      <td>D:\\data\\images\\KoreanHotties\\thumbnail\\a154a56...</td>\n      <td>True</td>\n      <td>False</td>\n    </tr>\n  </tbody>\n</table>\n</div>"
     },
     "metadata": {},
     "output_type": "display_data"
    }
   ],
   "source": [
    "updated_items = []\n",
    "\n",
    "with tqdm(iterable=none_records, total=len(none_records), desc=\"global\") as pbar:\n",
    "\tfor item in none_records_df.to_dict(orient='records'):\n",
    "\t\tpbar.update(1)\n",
    "\t\tif item['original_url'].endswith('.jpg'):\n",
    "\t\t\timage_path, image_thumbnail_path, md5 = fetch_image(item['subreddit'], item['original_url'],\n",
    "\t\t\t\t\t\t\t\t\t\t\t\t\t\t\t\tlist(extant_data['hash']))\n",
    "\t\t\tif os.path.exists(image_path) is False:\n",
    "\t\t\t\tcontinue\n",
    "\t\t\titem['hash'] = md5\n",
    "\t\t\titem['image_name'] = f\"{md5}.jpg\"\n",
    "\t\t\titem['path'] = f\"{image_path}\"\n",
    "\t\t\tprint(f\"image_path: {image_path}\")\n",
    "\t\t\titem['thumbnail_path'] = f\"{image_thumbnail_path}\"\n",
    "\t\t\titem['exists'] = True\n",
    "\t\t\tupdated_items.append(item)\n",
    "\t\telse:\n",
    "\t\t\tcontinue\n",
    "\n",
    "updated_items_df = pd.DataFrame(data=updated_items)\n",
    "display(updated_items_df)"
   ],
   "metadata": {
    "collapsed": false,
    "ExecuteTime": {
     "start_time": "2023-04-02T15:11:14.761527Z",
     "end_time": "2023-04-02T15:11:21.966447Z"
    }
   }
  },
  {
   "cell_type": "code",
   "execution_count": 150,
   "outputs": [],
   "source": [
    "de_duped = extant_data.drop_duplicates(subset=['id']).reset_index(drop=True)\n",
    "\n",
    "de_duped.to_parquet(\"data/processed_raw_data.parquet\", engine='pyarrow', filesystem=file_system, schema=schema)"
   ],
   "metadata": {
    "collapsed": false,
    "ExecuteTime": {
     "start_time": "2023-04-02T15:12:32.764349Z",
     "end_time": "2023-04-02T15:12:36.285235Z"
    }
   }
  },
  {
   "cell_type": "code",
   "execution_count": 151,
   "outputs": [
    {
     "data": {
      "text/plain": "            id         subreddit                author  \\\n0      128z5ns       celebrities           A-Sexy-Name   \n1      11yk8db  prettyasiangirls          MisoShiru520   \n2      11hfioi     KoreanHotties  Majestic_Painter8660   \n3      1000mjs         spaceporn    MorningStar_imangi   \n4      1000qpd         spaceporn    MorningStar_imangi   \n...        ...               ...                   ...   \n29597  11oz7fi       mildlypenis          Extra-Lie489   \n29598  11oz73d       mildlypenis              DeimosLV   \n29599  11oyzm3       mildlypenis       Mymemesareswell   \n29600  11oyvx1       mildlypenis        LucindaBobinda   \n29601  11oxx6r       mildlypenis             DoggyCube   \n\n                                                   title  \\\n0                                           Rachel Weisz   \n1                                                Library   \n2                                       Underboob bikini   \n3                          Northern Lights above Lofoten   \n4                                          Viking Lights   \n...                                                  ...   \n29597                                              Lenis   \n29598  My friend is making a stuffed animal and this ...   \n29599                    This weird Mickey keychain hand   \n29600                                     Parking lot pp   \n29601  Can't figure out why they didn't approve of th...   \n\n                                                 caption  \\\n0      cars are parked on the side of the road in the...   \n1      blonde woman with blonde hair and tattoos on h...   \n2      a man with a beard and a beard sitting in fron...   \n3      a view of a view of a large green and purple a...   \n4      a scene of a boat is sitting on the shore of a...   \n...                                                  ...   \n29597  there is a small piece of metal with two small...   \n29598    a close up of a blue knitted bagueth on a chair   \n29599  someone is holding a key chain with a mickey m...   \n29600  a close up of a black and white photo of a bla...   \n29601  there is a picture of a video game on the tv s...   \n\n                                   hash  \\\n0      f09b1c0c5dea50c934081a04c83d4d33   \n1      9d5b7331b941ecf3fdbc8ad322303825   \n2      a154a56b1b87cf3a0bc93600c86e4585   \n3      2c39ce1290fba541abd0b004b09da6b2   \n4      0f72de47c69ff50eca5fa3990215f4ac   \n...                                 ...   \n29597  7604c3e55ce8dbf238520683d6e71f89   \n29598  389f8aa0fb191bdeba08c8d2cfff8ce2   \n29599  87563ac0c8ddeeb0ce47bc915b99308b   \n29600  88b596be6de959bd29eed4e8946bb476   \n29601  eb7ed95bedcd44c130938e2f09069f08   \n\n                                               permalink  \\\n0          /r/celebrities/comments/128z5ns/rachel_weisz/   \n1          /r/prettyasiangirls/comments/11yk8db/library/   \n2      /r/KoreanHotties/comments/11hfioi/underboob_bi...   \n3      /r/spaceporn/comments/1000mjs/northern_lights_...   \n4           /r/spaceporn/comments/1000qpd/viking_lights/   \n...                                                  ...   \n29597             /r/mildlypenis/comments/11oz7fi/lenis/   \n29598  /r/mildlypenis/comments/11oz73d/my_friend_is_m...   \n29599  /r/mildlypenis/comments/11oyzm3/this_weird_mic...   \n29600    /r/mildlypenis/comments/11oyvx1/parking_lot_pp/   \n29601  /r/mildlypenis/comments/11oxx6r/cant_figure_ou...   \n\n                              original_url  \\\n0      https://i.redd.it/nv80afddacra1.jpg   \n1      https://i.redd.it/ht4d2wuusapa1.jpg   \n2      https://i.redd.it/cimr17q84jla1.jpg   \n3      https://i.redd.it/7s5aafaqkb9a1.jpg   \n4      https://i.redd.it/abojw7lqlb9a1.jpg   \n...                                    ...   \n29597  https://i.redd.it/pskj3q0ao8na1.jpg   \n29598  https://i.redd.it/gemqhq67o8na1.jpg   \n29599  https://i.redd.it/vrivt8rom8na1.jpg   \n29600  https://i.redd.it/w1vebizwl8na1.jpg   \n29601  https://i.redd.it/92hm0ia2f8na1.jpg   \n\n                                 image_name  \\\n0      f09b1c0c5dea50c934081a04c83d4d33.jpg   \n1      9d5b7331b941ecf3fdbc8ad322303825.jpg   \n2      a154a56b1b87cf3a0bc93600c86e4585.jpg   \n3                         7s5aafaqkb9a1.jpg   \n4                         abojw7lqlb9a1.jpg   \n...                                     ...   \n29597  7604c3e55ce8dbf238520683d6e71f89.jpg   \n29598  389f8aa0fb191bdeba08c8d2cfff8ce2.jpg   \n29599  87563ac0c8ddeeb0ce47bc915b99308b.jpg   \n29600  88b596be6de959bd29eed4e8946bb476.jpg   \n29601  eb7ed95bedcd44c130938e2f09069f08.jpg   \n\n                                                    path  \\\n0      D:\\data\\images\\celebrities\\f09b1c0c5dea50c9340...   \n1      D:\\data\\images\\prettyasiangirls\\9d5b7331b941ec...   \n2      D:\\data\\images\\KoreanHotties\\a154a56b1b87cf3a0...   \n3               /data/images/spaceporn/7s5aafaqkb9a1.jpg   \n4               /data/images/spaceporn/abojw7lqlb9a1.jpg   \n...                                                  ...   \n29597  D:\\data\\images\\mildlypenis\\7604c3e55ce8dbf2385...   \n29598  D:\\data\\images\\mildlypenis\\389f8aa0fb191bdeba0...   \n29599  D:\\data\\images\\mildlypenis\\87563ac0c8ddeeb0ce4...   \n29600  D:\\data\\images\\mildlypenis\\88b596be6de959bd29e...   \n29601  D:\\data\\images\\mildlypenis\\eb7ed95bedcd44c1309...   \n\n                                          thumbnail_path  exists  curated  \n0      D:\\data\\images\\celebrities\\thumbnail\\f09b1c0c5...    True    False  \n1      D:\\data\\images\\prettyasiangirls\\thumbnail\\9d5b...    True    False  \n2      D:\\data\\images\\KoreanHotties\\thumbnail\\a154a56...    True    False  \n3      /data/images/spaceporn/thumbnail/7s5aafaqkb9a1...    True    False  \n4      /data/images/spaceporn/thumbnail/abojw7lqlb9a1...    True    False  \n...                                                  ...     ...      ...  \n29597  D:\\data\\images\\mildlypenis\\thumbnail\\7604c3e55...    True    False  \n29598  D:\\data\\images\\mildlypenis\\thumbnail\\389f8aa0f...    True    False  \n29599  D:\\data\\images\\mildlypenis\\thumbnail\\87563ac0c...    True    False  \n29600  D:\\data\\images\\mildlypenis\\thumbnail\\88b596be6...    True    False  \n29601  D:\\data\\images\\mildlypenis\\thumbnail\\eb7ed95be...    True    False  \n\n[29602 rows x 13 columns]",
      "text/html": "<div>\n<style scoped>\n    .dataframe tbody tr th:only-of-type {\n        vertical-align: middle;\n    }\n\n    .dataframe tbody tr th {\n        vertical-align: top;\n    }\n\n    .dataframe thead th {\n        text-align: right;\n    }\n</style>\n<table border=\"1\" class=\"dataframe\">\n  <thead>\n    <tr style=\"text-align: right;\">\n      <th></th>\n      <th>id</th>\n      <th>subreddit</th>\n      <th>author</th>\n      <th>title</th>\n      <th>caption</th>\n      <th>hash</th>\n      <th>permalink</th>\n      <th>original_url</th>\n      <th>image_name</th>\n      <th>path</th>\n      <th>thumbnail_path</th>\n      <th>exists</th>\n      <th>curated</th>\n    </tr>\n  </thead>\n  <tbody>\n    <tr>\n      <th>0</th>\n      <td>128z5ns</td>\n      <td>celebrities</td>\n      <td>A-Sexy-Name</td>\n      <td>Rachel Weisz</td>\n      <td>cars are parked on the side of the road in the...</td>\n      <td>f09b1c0c5dea50c934081a04c83d4d33</td>\n      <td>/r/celebrities/comments/128z5ns/rachel_weisz/</td>\n      <td>https://i.redd.it/nv80afddacra1.jpg</td>\n      <td>f09b1c0c5dea50c934081a04c83d4d33.jpg</td>\n      <td>D:\\data\\images\\celebrities\\f09b1c0c5dea50c9340...</td>\n      <td>D:\\data\\images\\celebrities\\thumbnail\\f09b1c0c5...</td>\n      <td>True</td>\n      <td>False</td>\n    </tr>\n    <tr>\n      <th>1</th>\n      <td>11yk8db</td>\n      <td>prettyasiangirls</td>\n      <td>MisoShiru520</td>\n      <td>Library</td>\n      <td>blonde woman with blonde hair and tattoos on h...</td>\n      <td>9d5b7331b941ecf3fdbc8ad322303825</td>\n      <td>/r/prettyasiangirls/comments/11yk8db/library/</td>\n      <td>https://i.redd.it/ht4d2wuusapa1.jpg</td>\n      <td>9d5b7331b941ecf3fdbc8ad322303825.jpg</td>\n      <td>D:\\data\\images\\prettyasiangirls\\9d5b7331b941ec...</td>\n      <td>D:\\data\\images\\prettyasiangirls\\thumbnail\\9d5b...</td>\n      <td>True</td>\n      <td>False</td>\n    </tr>\n    <tr>\n      <th>2</th>\n      <td>11hfioi</td>\n      <td>KoreanHotties</td>\n      <td>Majestic_Painter8660</td>\n      <td>Underboob bikini</td>\n      <td>a man with a beard and a beard sitting in fron...</td>\n      <td>a154a56b1b87cf3a0bc93600c86e4585</td>\n      <td>/r/KoreanHotties/comments/11hfioi/underboob_bi...</td>\n      <td>https://i.redd.it/cimr17q84jla1.jpg</td>\n      <td>a154a56b1b87cf3a0bc93600c86e4585.jpg</td>\n      <td>D:\\data\\images\\KoreanHotties\\a154a56b1b87cf3a0...</td>\n      <td>D:\\data\\images\\KoreanHotties\\thumbnail\\a154a56...</td>\n      <td>True</td>\n      <td>False</td>\n    </tr>\n    <tr>\n      <th>3</th>\n      <td>1000mjs</td>\n      <td>spaceporn</td>\n      <td>MorningStar_imangi</td>\n      <td>Northern Lights above Lofoten</td>\n      <td>a view of a view of a large green and purple a...</td>\n      <td>2c39ce1290fba541abd0b004b09da6b2</td>\n      <td>/r/spaceporn/comments/1000mjs/northern_lights_...</td>\n      <td>https://i.redd.it/7s5aafaqkb9a1.jpg</td>\n      <td>7s5aafaqkb9a1.jpg</td>\n      <td>/data/images/spaceporn/7s5aafaqkb9a1.jpg</td>\n      <td>/data/images/spaceporn/thumbnail/7s5aafaqkb9a1...</td>\n      <td>True</td>\n      <td>False</td>\n    </tr>\n    <tr>\n      <th>4</th>\n      <td>1000qpd</td>\n      <td>spaceporn</td>\n      <td>MorningStar_imangi</td>\n      <td>Viking Lights</td>\n      <td>a scene of a boat is sitting on the shore of a...</td>\n      <td>0f72de47c69ff50eca5fa3990215f4ac</td>\n      <td>/r/spaceporn/comments/1000qpd/viking_lights/</td>\n      <td>https://i.redd.it/abojw7lqlb9a1.jpg</td>\n      <td>abojw7lqlb9a1.jpg</td>\n      <td>/data/images/spaceporn/abojw7lqlb9a1.jpg</td>\n      <td>/data/images/spaceporn/thumbnail/abojw7lqlb9a1...</td>\n      <td>True</td>\n      <td>False</td>\n    </tr>\n    <tr>\n      <th>...</th>\n      <td>...</td>\n      <td>...</td>\n      <td>...</td>\n      <td>...</td>\n      <td>...</td>\n      <td>...</td>\n      <td>...</td>\n      <td>...</td>\n      <td>...</td>\n      <td>...</td>\n      <td>...</td>\n      <td>...</td>\n      <td>...</td>\n    </tr>\n    <tr>\n      <th>29597</th>\n      <td>11oz7fi</td>\n      <td>mildlypenis</td>\n      <td>Extra-Lie489</td>\n      <td>Lenis</td>\n      <td>there is a small piece of metal with two small...</td>\n      <td>7604c3e55ce8dbf238520683d6e71f89</td>\n      <td>/r/mildlypenis/comments/11oz7fi/lenis/</td>\n      <td>https://i.redd.it/pskj3q0ao8na1.jpg</td>\n      <td>7604c3e55ce8dbf238520683d6e71f89.jpg</td>\n      <td>D:\\data\\images\\mildlypenis\\7604c3e55ce8dbf2385...</td>\n      <td>D:\\data\\images\\mildlypenis\\thumbnail\\7604c3e55...</td>\n      <td>True</td>\n      <td>False</td>\n    </tr>\n    <tr>\n      <th>29598</th>\n      <td>11oz73d</td>\n      <td>mildlypenis</td>\n      <td>DeimosLV</td>\n      <td>My friend is making a stuffed animal and this ...</td>\n      <td>a close up of a blue knitted bagueth on a chair</td>\n      <td>389f8aa0fb191bdeba08c8d2cfff8ce2</td>\n      <td>/r/mildlypenis/comments/11oz73d/my_friend_is_m...</td>\n      <td>https://i.redd.it/gemqhq67o8na1.jpg</td>\n      <td>389f8aa0fb191bdeba08c8d2cfff8ce2.jpg</td>\n      <td>D:\\data\\images\\mildlypenis\\389f8aa0fb191bdeba0...</td>\n      <td>D:\\data\\images\\mildlypenis\\thumbnail\\389f8aa0f...</td>\n      <td>True</td>\n      <td>False</td>\n    </tr>\n    <tr>\n      <th>29599</th>\n      <td>11oyzm3</td>\n      <td>mildlypenis</td>\n      <td>Mymemesareswell</td>\n      <td>This weird Mickey keychain hand</td>\n      <td>someone is holding a key chain with a mickey m...</td>\n      <td>87563ac0c8ddeeb0ce47bc915b99308b</td>\n      <td>/r/mildlypenis/comments/11oyzm3/this_weird_mic...</td>\n      <td>https://i.redd.it/vrivt8rom8na1.jpg</td>\n      <td>87563ac0c8ddeeb0ce47bc915b99308b.jpg</td>\n      <td>D:\\data\\images\\mildlypenis\\87563ac0c8ddeeb0ce4...</td>\n      <td>D:\\data\\images\\mildlypenis\\thumbnail\\87563ac0c...</td>\n      <td>True</td>\n      <td>False</td>\n    </tr>\n    <tr>\n      <th>29600</th>\n      <td>11oyvx1</td>\n      <td>mildlypenis</td>\n      <td>LucindaBobinda</td>\n      <td>Parking lot pp</td>\n      <td>a close up of a black and white photo of a bla...</td>\n      <td>88b596be6de959bd29eed4e8946bb476</td>\n      <td>/r/mildlypenis/comments/11oyvx1/parking_lot_pp/</td>\n      <td>https://i.redd.it/w1vebizwl8na1.jpg</td>\n      <td>88b596be6de959bd29eed4e8946bb476.jpg</td>\n      <td>D:\\data\\images\\mildlypenis\\88b596be6de959bd29e...</td>\n      <td>D:\\data\\images\\mildlypenis\\thumbnail\\88b596be6...</td>\n      <td>True</td>\n      <td>False</td>\n    </tr>\n    <tr>\n      <th>29601</th>\n      <td>11oxx6r</td>\n      <td>mildlypenis</td>\n      <td>DoggyCube</td>\n      <td>Can't figure out why they didn't approve of th...</td>\n      <td>there is a picture of a video game on the tv s...</td>\n      <td>eb7ed95bedcd44c130938e2f09069f08</td>\n      <td>/r/mildlypenis/comments/11oxx6r/cant_figure_ou...</td>\n      <td>https://i.redd.it/92hm0ia2f8na1.jpg</td>\n      <td>eb7ed95bedcd44c130938e2f09069f08.jpg</td>\n      <td>D:\\data\\images\\mildlypenis\\eb7ed95bedcd44c1309...</td>\n      <td>D:\\data\\images\\mildlypenis\\thumbnail\\eb7ed95be...</td>\n      <td>True</td>\n      <td>False</td>\n    </tr>\n  </tbody>\n</table>\n<p>29602 rows × 13 columns</p>\n</div>"
     },
     "metadata": {},
     "output_type": "display_data"
    }
   ],
   "source": [
    "extant_data: pd.DataFrame = pd.read_parquet(\"data/processed_raw_data.parquet\", engine='pyarrow', filesystem=file_system,\n",
    "\t\t\t\t\t\t\t\t\t\t\tschema=schema)\n",
    "display(extant_data)"
   ],
   "metadata": {
    "collapsed": false,
    "ExecuteTime": {
     "start_time": "2023-04-02T15:12:48.342493Z",
     "end_time": "2023-04-02T15:12:49.484187Z"
    }
   }
  }
 ],
 "metadata": {
  "kernelspec": {
   "display_name": "Python 3",
   "language": "python",
   "name": "python3"
  },
  "language_info": {
   "codemirror_mode": {
    "name": "ipython",
    "version": 2
   },
   "file_extension": ".py",
   "mimetype": "text/x-python",
   "name": "python",
   "nbconvert_exporter": "python",
   "pygments_lexer": "ipython2",
   "version": "2.7.6"
  }
 },
 "nbformat": 4,
 "nbformat_minor": 0
}
