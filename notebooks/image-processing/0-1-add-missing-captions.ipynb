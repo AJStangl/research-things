{
 "cells": [
  {
   "cell_type": "code",
   "execution_count": 2,
   "metadata": {
    "collapsed": true,
    "ExecuteTime": {
     "start_time": "2023-04-09T11:28:22.305080Z",
     "end_time": "2023-04-09T11:28:28.319676Z"
    }
   },
   "outputs": [
    {
     "name": "stdout",
     "output_type": "stream",
     "text": [
      "CPU times: total: 3 s\n",
      "Wall time: 5.99 s\n"
     ]
    }
   ],
   "source": [
    "%%time\n",
    "\n",
    "import os.path\n",
    "\n",
    "%run 0-0-common.ipynb"
   ]
  },
  {
   "cell_type": "code",
   "execution_count": null,
   "outputs": [],
   "source": [
    "%%time\n",
    "submission_data: pd.DataFrame = pd.read_parquet(\"data/text/AskReddit.parquet\", engine='pyarrow', filesystem=file_system)\n",
    "display(submission_data)"
   ],
   "metadata": {
    "collapsed": false,
    "ExecuteTime": {
     "start_time": "2023-04-09T11:28:21.811735Z",
     "end_time": "2023-04-09T11:28:22.312079Z"
    }
   }
  },
  {
   "cell_type": "code",
   "execution_count": 35,
   "outputs": [
    {
     "data": {
      "text/plain": "            id    subreddit           author  \\\n28607  129jown  mildlypenis      mellywheats   \n28608  129j6zk  mildlypenis   Aldous_Hoaxley   \n28609  129iyab  mildlypenis  PhoenixBorealis   \n28610  128rjm1  mildlypenis    itsboobthirty   \n28611  128z9kt  mildlypenis           Cole_A   \n...        ...          ...              ...   \n29597  11oz7fi  mildlypenis     Extra-Lie489   \n29598  11oz73d  mildlypenis         DeimosLV   \n29599  11oyzm3  mildlypenis  Mymemesareswell   \n29600  11oyvx1  mildlypenis   LucindaBobinda   \n29601  11oxx6r  mildlypenis        DoggyCube   \n\n                                                   title  \\\n28607                          Sourdough English muffins   \n28608             This jalapeno found at the supermarket   \n28609                   Kidney stones are really rough 😨   \n28610  Casually walking around a plant nursery and sa...   \n28611   These Easter decorations are getting out of hand   \n...                                                  ...   \n29597                                              Lenis   \n29598  My friend is making a stuffed animal and this ...   \n29599                    This weird Mickey keychain hand   \n29600                                     Parking lot pp   \n29601  Can't figure out why they didn't approve of th...   \n\n                                                 caption  \\\n28607  a close up of a bunch of english muffins on a ...   \n28608  a person holding a green pepperonie pepperonie...   \n28609  a woman in a green dress holding a tray with a...   \n28610  cactus planters are growing in pots with plant...   \n28611      there are two pictures of a bunny on the wall   \n...                                                  ...   \n29597  there is a small piece of metal with two small...   \n29598    a close up of a blue knitted bagueth on a chair   \n29599  someone is holding a key chain with a mickey m...   \n29600  a close up of a black and white photo of a bla...   \n29601  there is a picture of a video game on the tv s...   \n\n                                   hash  \\\n28607  52e1039b4e930e5c3f879309bc626308   \n28608  fdb8066d1bffb12361334642d591e7f5   \n28609  a03a3c52ef9aeac8bc56caff418feb9a   \n28610  ba3d4803c189dfe3d4b4ec818ef2b508   \n28611  f50e250ad34c47e94c13942d3e0a7153   \n...                                 ...   \n29597  7604c3e55ce8dbf238520683d6e71f89   \n29598  389f8aa0fb191bdeba08c8d2cfff8ce2   \n29599  87563ac0c8ddeeb0ce47bc915b99308b   \n29600  88b596be6de959bd29eed4e8946bb476   \n29601  eb7ed95bedcd44c130938e2f09069f08   \n\n                                               permalink  \\\n28607  /r/mildlypenis/comments/129jown/sourdough_engl...   \n28608  /r/mildlypenis/comments/129j6zk/this_jalapeno_...   \n28609  /r/mildlypenis/comments/129iyab/kidney_stones_...   \n28610  /r/mildlypenis/comments/128rjm1/casually_walki...   \n28611  /r/mildlypenis/comments/128z9kt/these_easter_d...   \n...                                                  ...   \n29597             /r/mildlypenis/comments/11oz7fi/lenis/   \n29598  /r/mildlypenis/comments/11oz73d/my_friend_is_m...   \n29599  /r/mildlypenis/comments/11oyzm3/this_weird_mic...   \n29600    /r/mildlypenis/comments/11oyvx1/parking_lot_pp/   \n29601  /r/mildlypenis/comments/11oxx6r/cant_figure_ou...   \n\n                              original_url  \\\n28607  https://i.redd.it/kt7wk38x0fra1.jpg   \n28608  https://i.redd.it/ztd9j3e1ogra1.jpg   \n28609  https://i.redd.it/i3zaj3wu3ira1.jpg   \n28610  https://i.redd.it/lfw3hqdjecra1.jpg   \n28611      https://i.imgur.com/bwEMZ9O.jpg   \n...                                    ...   \n29597  https://i.redd.it/pskj3q0ao8na1.jpg   \n29598  https://i.redd.it/gemqhq67o8na1.jpg   \n29599  https://i.redd.it/vrivt8rom8na1.jpg   \n29600  https://i.redd.it/w1vebizwl8na1.jpg   \n29601  https://i.redd.it/92hm0ia2f8na1.jpg   \n\n                                 image_name  \\\n28607  52e1039b4e930e5c3f879309bc626308.jpg   \n28608  fdb8066d1bffb12361334642d591e7f5.jpg   \n28609  a03a3c52ef9aeac8bc56caff418feb9a.jpg   \n28610  ba3d4803c189dfe3d4b4ec818ef2b508.jpg   \n28611  f50e250ad34c47e94c13942d3e0a7153.jpg   \n...                                     ...   \n29597  7604c3e55ce8dbf238520683d6e71f89.jpg   \n29598  389f8aa0fb191bdeba08c8d2cfff8ce2.jpg   \n29599  87563ac0c8ddeeb0ce47bc915b99308b.jpg   \n29600  88b596be6de959bd29eed4e8946bb476.jpg   \n29601  eb7ed95bedcd44c130938e2f09069f08.jpg   \n\n                                                    path  \\\n28607  D:\\data\\images\\mildlypenis\\52e1039b4e930e5c3f8...   \n28608  D:\\data\\images\\mildlypenis\\fdb8066d1bffb123613...   \n28609  D:\\data\\images\\mildlypenis\\a03a3c52ef9aeac8bc5...   \n28610  D:\\data\\images\\mildlypenis\\ba3d4803c189dfe3d4b...   \n28611  D:\\data\\images\\mildlypenis\\f50e250ad34c47e94c1...   \n...                                                  ...   \n29597  D:\\data\\images\\mildlypenis\\7604c3e55ce8dbf2385...   \n29598  D:\\data\\images\\mildlypenis\\389f8aa0fb191bdeba0...   \n29599  D:\\data\\images\\mildlypenis\\87563ac0c8ddeeb0ce4...   \n29600  D:\\data\\images\\mildlypenis\\88b596be6de959bd29e...   \n29601  D:\\data\\images\\mildlypenis\\eb7ed95bedcd44c1309...   \n\n                                          thumbnail_path  exists  curated  \n28607  D:\\data\\images\\mildlypenis\\thumbnail\\52e1039b4...    True    False  \n28608  D:\\data\\images\\mildlypenis\\thumbnail\\fdb8066d1...    True    False  \n28609  D:\\data\\images\\mildlypenis\\thumbnail\\a03a3c52e...    True    False  \n28610  D:\\data\\images\\mildlypenis\\thumbnail\\ba3d4803c...    True    False  \n28611  D:\\data\\images\\mildlypenis\\thumbnail\\f50e250ad...    True    False  \n...                                                  ...     ...      ...  \n29597  D:\\data\\images\\mildlypenis\\thumbnail\\7604c3e55...    True    False  \n29598  D:\\data\\images\\mildlypenis\\thumbnail\\389f8aa0f...    True    False  \n29599  D:\\data\\images\\mildlypenis\\thumbnail\\87563ac0c...    True    False  \n29600  D:\\data\\images\\mildlypenis\\thumbnail\\88b596be6...    True    False  \n29601  D:\\data\\images\\mildlypenis\\thumbnail\\eb7ed95be...    True    False  \n\n[995 rows x 13 columns]",
      "text/html": "<div>\n<style scoped>\n    .dataframe tbody tr th:only-of-type {\n        vertical-align: middle;\n    }\n\n    .dataframe tbody tr th {\n        vertical-align: top;\n    }\n\n    .dataframe thead th {\n        text-align: right;\n    }\n</style>\n<table border=\"1\" class=\"dataframe\">\n  <thead>\n    <tr style=\"text-align: right;\">\n      <th></th>\n      <th>id</th>\n      <th>subreddit</th>\n      <th>author</th>\n      <th>title</th>\n      <th>caption</th>\n      <th>hash</th>\n      <th>permalink</th>\n      <th>original_url</th>\n      <th>image_name</th>\n      <th>path</th>\n      <th>thumbnail_path</th>\n      <th>exists</th>\n      <th>curated</th>\n    </tr>\n  </thead>\n  <tbody>\n    <tr>\n      <th>28607</th>\n      <td>129jown</td>\n      <td>mildlypenis</td>\n      <td>mellywheats</td>\n      <td>Sourdough English muffins</td>\n      <td>a close up of a bunch of english muffins on a ...</td>\n      <td>52e1039b4e930e5c3f879309bc626308</td>\n      <td>/r/mildlypenis/comments/129jown/sourdough_engl...</td>\n      <td>https://i.redd.it/kt7wk38x0fra1.jpg</td>\n      <td>52e1039b4e930e5c3f879309bc626308.jpg</td>\n      <td>D:\\data\\images\\mildlypenis\\52e1039b4e930e5c3f8...</td>\n      <td>D:\\data\\images\\mildlypenis\\thumbnail\\52e1039b4...</td>\n      <td>True</td>\n      <td>False</td>\n    </tr>\n    <tr>\n      <th>28608</th>\n      <td>129j6zk</td>\n      <td>mildlypenis</td>\n      <td>Aldous_Hoaxley</td>\n      <td>This jalapeno found at the supermarket</td>\n      <td>a person holding a green pepperonie pepperonie...</td>\n      <td>fdb8066d1bffb12361334642d591e7f5</td>\n      <td>/r/mildlypenis/comments/129j6zk/this_jalapeno_...</td>\n      <td>https://i.redd.it/ztd9j3e1ogra1.jpg</td>\n      <td>fdb8066d1bffb12361334642d591e7f5.jpg</td>\n      <td>D:\\data\\images\\mildlypenis\\fdb8066d1bffb123613...</td>\n      <td>D:\\data\\images\\mildlypenis\\thumbnail\\fdb8066d1...</td>\n      <td>True</td>\n      <td>False</td>\n    </tr>\n    <tr>\n      <th>28609</th>\n      <td>129iyab</td>\n      <td>mildlypenis</td>\n      <td>PhoenixBorealis</td>\n      <td>Kidney stones are really rough 😨</td>\n      <td>a woman in a green dress holding a tray with a...</td>\n      <td>a03a3c52ef9aeac8bc56caff418feb9a</td>\n      <td>/r/mildlypenis/comments/129iyab/kidney_stones_...</td>\n      <td>https://i.redd.it/i3zaj3wu3ira1.jpg</td>\n      <td>a03a3c52ef9aeac8bc56caff418feb9a.jpg</td>\n      <td>D:\\data\\images\\mildlypenis\\a03a3c52ef9aeac8bc5...</td>\n      <td>D:\\data\\images\\mildlypenis\\thumbnail\\a03a3c52e...</td>\n      <td>True</td>\n      <td>False</td>\n    </tr>\n    <tr>\n      <th>28610</th>\n      <td>128rjm1</td>\n      <td>mildlypenis</td>\n      <td>itsboobthirty</td>\n      <td>Casually walking around a plant nursery and sa...</td>\n      <td>cactus planters are growing in pots with plant...</td>\n      <td>ba3d4803c189dfe3d4b4ec818ef2b508</td>\n      <td>/r/mildlypenis/comments/128rjm1/casually_walki...</td>\n      <td>https://i.redd.it/lfw3hqdjecra1.jpg</td>\n      <td>ba3d4803c189dfe3d4b4ec818ef2b508.jpg</td>\n      <td>D:\\data\\images\\mildlypenis\\ba3d4803c189dfe3d4b...</td>\n      <td>D:\\data\\images\\mildlypenis\\thumbnail\\ba3d4803c...</td>\n      <td>True</td>\n      <td>False</td>\n    </tr>\n    <tr>\n      <th>28611</th>\n      <td>128z9kt</td>\n      <td>mildlypenis</td>\n      <td>Cole_A</td>\n      <td>These Easter decorations are getting out of hand</td>\n      <td>there are two pictures of a bunny on the wall</td>\n      <td>f50e250ad34c47e94c13942d3e0a7153</td>\n      <td>/r/mildlypenis/comments/128z9kt/these_easter_d...</td>\n      <td>https://i.imgur.com/bwEMZ9O.jpg</td>\n      <td>f50e250ad34c47e94c13942d3e0a7153.jpg</td>\n      <td>D:\\data\\images\\mildlypenis\\f50e250ad34c47e94c1...</td>\n      <td>D:\\data\\images\\mildlypenis\\thumbnail\\f50e250ad...</td>\n      <td>True</td>\n      <td>False</td>\n    </tr>\n    <tr>\n      <th>...</th>\n      <td>...</td>\n      <td>...</td>\n      <td>...</td>\n      <td>...</td>\n      <td>...</td>\n      <td>...</td>\n      <td>...</td>\n      <td>...</td>\n      <td>...</td>\n      <td>...</td>\n      <td>...</td>\n      <td>...</td>\n      <td>...</td>\n    </tr>\n    <tr>\n      <th>29597</th>\n      <td>11oz7fi</td>\n      <td>mildlypenis</td>\n      <td>Extra-Lie489</td>\n      <td>Lenis</td>\n      <td>there is a small piece of metal with two small...</td>\n      <td>7604c3e55ce8dbf238520683d6e71f89</td>\n      <td>/r/mildlypenis/comments/11oz7fi/lenis/</td>\n      <td>https://i.redd.it/pskj3q0ao8na1.jpg</td>\n      <td>7604c3e55ce8dbf238520683d6e71f89.jpg</td>\n      <td>D:\\data\\images\\mildlypenis\\7604c3e55ce8dbf2385...</td>\n      <td>D:\\data\\images\\mildlypenis\\thumbnail\\7604c3e55...</td>\n      <td>True</td>\n      <td>False</td>\n    </tr>\n    <tr>\n      <th>29598</th>\n      <td>11oz73d</td>\n      <td>mildlypenis</td>\n      <td>DeimosLV</td>\n      <td>My friend is making a stuffed animal and this ...</td>\n      <td>a close up of a blue knitted bagueth on a chair</td>\n      <td>389f8aa0fb191bdeba08c8d2cfff8ce2</td>\n      <td>/r/mildlypenis/comments/11oz73d/my_friend_is_m...</td>\n      <td>https://i.redd.it/gemqhq67o8na1.jpg</td>\n      <td>389f8aa0fb191bdeba08c8d2cfff8ce2.jpg</td>\n      <td>D:\\data\\images\\mildlypenis\\389f8aa0fb191bdeba0...</td>\n      <td>D:\\data\\images\\mildlypenis\\thumbnail\\389f8aa0f...</td>\n      <td>True</td>\n      <td>False</td>\n    </tr>\n    <tr>\n      <th>29599</th>\n      <td>11oyzm3</td>\n      <td>mildlypenis</td>\n      <td>Mymemesareswell</td>\n      <td>This weird Mickey keychain hand</td>\n      <td>someone is holding a key chain with a mickey m...</td>\n      <td>87563ac0c8ddeeb0ce47bc915b99308b</td>\n      <td>/r/mildlypenis/comments/11oyzm3/this_weird_mic...</td>\n      <td>https://i.redd.it/vrivt8rom8na1.jpg</td>\n      <td>87563ac0c8ddeeb0ce47bc915b99308b.jpg</td>\n      <td>D:\\data\\images\\mildlypenis\\87563ac0c8ddeeb0ce4...</td>\n      <td>D:\\data\\images\\mildlypenis\\thumbnail\\87563ac0c...</td>\n      <td>True</td>\n      <td>False</td>\n    </tr>\n    <tr>\n      <th>29600</th>\n      <td>11oyvx1</td>\n      <td>mildlypenis</td>\n      <td>LucindaBobinda</td>\n      <td>Parking lot pp</td>\n      <td>a close up of a black and white photo of a bla...</td>\n      <td>88b596be6de959bd29eed4e8946bb476</td>\n      <td>/r/mildlypenis/comments/11oyvx1/parking_lot_pp/</td>\n      <td>https://i.redd.it/w1vebizwl8na1.jpg</td>\n      <td>88b596be6de959bd29eed4e8946bb476.jpg</td>\n      <td>D:\\data\\images\\mildlypenis\\88b596be6de959bd29e...</td>\n      <td>D:\\data\\images\\mildlypenis\\thumbnail\\88b596be6...</td>\n      <td>True</td>\n      <td>False</td>\n    </tr>\n    <tr>\n      <th>29601</th>\n      <td>11oxx6r</td>\n      <td>mildlypenis</td>\n      <td>DoggyCube</td>\n      <td>Can't figure out why they didn't approve of th...</td>\n      <td>there is a picture of a video game on the tv s...</td>\n      <td>eb7ed95bedcd44c130938e2f09069f08</td>\n      <td>/r/mildlypenis/comments/11oxx6r/cant_figure_ou...</td>\n      <td>https://i.redd.it/92hm0ia2f8na1.jpg</td>\n      <td>eb7ed95bedcd44c130938e2f09069f08.jpg</td>\n      <td>D:\\data\\images\\mildlypenis\\eb7ed95bedcd44c1309...</td>\n      <td>D:\\data\\images\\mildlypenis\\thumbnail\\eb7ed95be...</td>\n      <td>True</td>\n      <td>False</td>\n    </tr>\n  </tbody>\n</table>\n<p>995 rows × 13 columns</p>\n</div>"
     },
     "metadata": {},
     "output_type": "display_data"
    },
    {
     "name": "stdout",
     "output_type": "stream",
     "text": [
      "CPU times: total: 78.1 ms\n",
      "Wall time: 78.1 ms\n"
     ]
    }
   ],
   "source": [
    "# %%time\n",
    "#\n",
    "# mildlypenis_df = extant_data.loc[extant_data['subreddit'] == 'mildlypenis']\n",
    "#\n",
    "# display(mildlypenis_df)"
   ],
   "metadata": {
    "collapsed": false,
    "ExecuteTime": {
     "start_time": "2023-04-08T17:47:52.299815Z",
     "end_time": "2023-04-08T17:47:52.711589Z"
    }
   }
  },
  {
   "cell_type": "code",
   "execution_count": 36,
   "outputs": [
    {
     "data": {
      "text/plain": "            id    subreddit           author  \\\n28607  129jown  mildlypenis      mellywheats   \n28608  129j6zk  mildlypenis   Aldous_Hoaxley   \n28609  129iyab  mildlypenis  PhoenixBorealis   \n28610  128rjm1  mildlypenis    itsboobthirty   \n28611  128z9kt  mildlypenis           Cole_A   \n...        ...          ...              ...   \n29597  11oz7fi  mildlypenis     Extra-Lie489   \n29598  11oz73d  mildlypenis         DeimosLV   \n29599  11oyzm3  mildlypenis  Mymemesareswell   \n29600  11oyvx1  mildlypenis   LucindaBobinda   \n29601  11oxx6r  mildlypenis        DoggyCube   \n\n                                                   title  \\\n28607                          Sourdough English muffins   \n28608             This jalapeno found at the supermarket   \n28609                   Kidney stones are really rough 😨   \n28610  Casually walking around a plant nursery and sa...   \n28611   These Easter decorations are getting out of hand   \n...                                                  ...   \n29597                                              Lenis   \n29598  My friend is making a stuffed animal and this ...   \n29599                    This weird Mickey keychain hand   \n29600                                     Parking lot pp   \n29601  Can't figure out why they didn't approve of th...   \n\n                                                 caption  \\\n28607  a close up of a bunch of english muffins on a ...   \n28608  a person holding a green pepperonie pepperonie...   \n28609  a woman in a green dress holding a tray with a...   \n28610  cactus planters are growing in pots with plant...   \n28611      there are two pictures of a bunny on the wall   \n...                                                  ...   \n29597  there is a small piece of metal with two small...   \n29598    a close up of a blue knitted bagueth on a chair   \n29599  someone is holding a key chain with a mickey m...   \n29600  a close up of a black and white photo of a bla...   \n29601  there is a picture of a video game on the tv s...   \n\n                                   hash  \\\n28607  52e1039b4e930e5c3f879309bc626308   \n28608  fdb8066d1bffb12361334642d591e7f5   \n28609  a03a3c52ef9aeac8bc56caff418feb9a   \n28610  ba3d4803c189dfe3d4b4ec818ef2b508   \n28611  f50e250ad34c47e94c13942d3e0a7153   \n...                                 ...   \n29597  7604c3e55ce8dbf238520683d6e71f89   \n29598  389f8aa0fb191bdeba08c8d2cfff8ce2   \n29599  87563ac0c8ddeeb0ce47bc915b99308b   \n29600  88b596be6de959bd29eed4e8946bb476   \n29601  eb7ed95bedcd44c130938e2f09069f08   \n\n                                               permalink  \\\n28607  /r/mildlypenis/comments/129jown/sourdough_engl...   \n28608  /r/mildlypenis/comments/129j6zk/this_jalapeno_...   \n28609  /r/mildlypenis/comments/129iyab/kidney_stones_...   \n28610  /r/mildlypenis/comments/128rjm1/casually_walki...   \n28611  /r/mildlypenis/comments/128z9kt/these_easter_d...   \n...                                                  ...   \n29597             /r/mildlypenis/comments/11oz7fi/lenis/   \n29598  /r/mildlypenis/comments/11oz73d/my_friend_is_m...   \n29599  /r/mildlypenis/comments/11oyzm3/this_weird_mic...   \n29600    /r/mildlypenis/comments/11oyvx1/parking_lot_pp/   \n29601  /r/mildlypenis/comments/11oxx6r/cant_figure_ou...   \n\n                              original_url  \\\n28607  https://i.redd.it/kt7wk38x0fra1.jpg   \n28608  https://i.redd.it/ztd9j3e1ogra1.jpg   \n28609  https://i.redd.it/i3zaj3wu3ira1.jpg   \n28610  https://i.redd.it/lfw3hqdjecra1.jpg   \n28611      https://i.imgur.com/bwEMZ9O.jpg   \n...                                    ...   \n29597  https://i.redd.it/pskj3q0ao8na1.jpg   \n29598  https://i.redd.it/gemqhq67o8na1.jpg   \n29599  https://i.redd.it/vrivt8rom8na1.jpg   \n29600  https://i.redd.it/w1vebizwl8na1.jpg   \n29601  https://i.redd.it/92hm0ia2f8na1.jpg   \n\n                                 image_name  \\\n28607  52e1039b4e930e5c3f879309bc626308.jpg   \n28608  fdb8066d1bffb12361334642d591e7f5.jpg   \n28609  a03a3c52ef9aeac8bc56caff418feb9a.jpg   \n28610  ba3d4803c189dfe3d4b4ec818ef2b508.jpg   \n28611  f50e250ad34c47e94c13942d3e0a7153.jpg   \n...                                     ...   \n29597  7604c3e55ce8dbf238520683d6e71f89.jpg   \n29598  389f8aa0fb191bdeba08c8d2cfff8ce2.jpg   \n29599  87563ac0c8ddeeb0ce47bc915b99308b.jpg   \n29600  88b596be6de959bd29eed4e8946bb476.jpg   \n29601  eb7ed95bedcd44c130938e2f09069f08.jpg   \n\n                                                    path  \\\n28607  D:\\data\\images\\mildlypenis\\52e1039b4e930e5c3f8...   \n28608  D:\\data\\images\\mildlypenis\\fdb8066d1bffb123613...   \n28609  D:\\data\\images\\mildlypenis\\a03a3c52ef9aeac8bc5...   \n28610  D:\\data\\images\\mildlypenis\\ba3d4803c189dfe3d4b...   \n28611  D:\\data\\images\\mildlypenis\\f50e250ad34c47e94c1...   \n...                                                  ...   \n29597  D:\\data\\images\\mildlypenis\\7604c3e55ce8dbf2385...   \n29598  D:\\data\\images\\mildlypenis\\389f8aa0fb191bdeba0...   \n29599  D:\\data\\images\\mildlypenis\\87563ac0c8ddeeb0ce4...   \n29600  D:\\data\\images\\mildlypenis\\88b596be6de959bd29e...   \n29601  D:\\data\\images\\mildlypenis\\eb7ed95bedcd44c1309...   \n\n                                          thumbnail_path  exists  curated  \n28607  D:\\data\\images\\mildlypenis\\thumbnail\\52e1039b4...    True    False  \n28608  D:\\data\\images\\mildlypenis\\thumbnail\\fdb8066d1...    True    False  \n28609  D:\\data\\images\\mildlypenis\\thumbnail\\a03a3c52e...    True    False  \n28610  D:\\data\\images\\mildlypenis\\thumbnail\\ba3d4803c...    True    False  \n28611  D:\\data\\images\\mildlypenis\\thumbnail\\f50e250ad...    True    False  \n...                                                  ...     ...      ...  \n29597  D:\\data\\images\\mildlypenis\\thumbnail\\7604c3e55...    True    False  \n29598  D:\\data\\images\\mildlypenis\\thumbnail\\389f8aa0f...    True    False  \n29599  D:\\data\\images\\mildlypenis\\thumbnail\\87563ac0c...    True    False  \n29600  D:\\data\\images\\mildlypenis\\thumbnail\\88b596be6...    True    False  \n29601  D:\\data\\images\\mildlypenis\\thumbnail\\eb7ed95be...    True    False  \n\n[823 rows x 13 columns]",
      "text/html": "<div>\n<style scoped>\n    .dataframe tbody tr th:only-of-type {\n        vertical-align: middle;\n    }\n\n    .dataframe tbody tr th {\n        vertical-align: top;\n    }\n\n    .dataframe thead th {\n        text-align: right;\n    }\n</style>\n<table border=\"1\" class=\"dataframe\">\n  <thead>\n    <tr style=\"text-align: right;\">\n      <th></th>\n      <th>id</th>\n      <th>subreddit</th>\n      <th>author</th>\n      <th>title</th>\n      <th>caption</th>\n      <th>hash</th>\n      <th>permalink</th>\n      <th>original_url</th>\n      <th>image_name</th>\n      <th>path</th>\n      <th>thumbnail_path</th>\n      <th>exists</th>\n      <th>curated</th>\n    </tr>\n  </thead>\n  <tbody>\n    <tr>\n      <th>28607</th>\n      <td>129jown</td>\n      <td>mildlypenis</td>\n      <td>mellywheats</td>\n      <td>Sourdough English muffins</td>\n      <td>a close up of a bunch of english muffins on a ...</td>\n      <td>52e1039b4e930e5c3f879309bc626308</td>\n      <td>/r/mildlypenis/comments/129jown/sourdough_engl...</td>\n      <td>https://i.redd.it/kt7wk38x0fra1.jpg</td>\n      <td>52e1039b4e930e5c3f879309bc626308.jpg</td>\n      <td>D:\\data\\images\\mildlypenis\\52e1039b4e930e5c3f8...</td>\n      <td>D:\\data\\images\\mildlypenis\\thumbnail\\52e1039b4...</td>\n      <td>True</td>\n      <td>False</td>\n    </tr>\n    <tr>\n      <th>28608</th>\n      <td>129j6zk</td>\n      <td>mildlypenis</td>\n      <td>Aldous_Hoaxley</td>\n      <td>This jalapeno found at the supermarket</td>\n      <td>a person holding a green pepperonie pepperonie...</td>\n      <td>fdb8066d1bffb12361334642d591e7f5</td>\n      <td>/r/mildlypenis/comments/129j6zk/this_jalapeno_...</td>\n      <td>https://i.redd.it/ztd9j3e1ogra1.jpg</td>\n      <td>fdb8066d1bffb12361334642d591e7f5.jpg</td>\n      <td>D:\\data\\images\\mildlypenis\\fdb8066d1bffb123613...</td>\n      <td>D:\\data\\images\\mildlypenis\\thumbnail\\fdb8066d1...</td>\n      <td>True</td>\n      <td>False</td>\n    </tr>\n    <tr>\n      <th>28609</th>\n      <td>129iyab</td>\n      <td>mildlypenis</td>\n      <td>PhoenixBorealis</td>\n      <td>Kidney stones are really rough 😨</td>\n      <td>a woman in a green dress holding a tray with a...</td>\n      <td>a03a3c52ef9aeac8bc56caff418feb9a</td>\n      <td>/r/mildlypenis/comments/129iyab/kidney_stones_...</td>\n      <td>https://i.redd.it/i3zaj3wu3ira1.jpg</td>\n      <td>a03a3c52ef9aeac8bc56caff418feb9a.jpg</td>\n      <td>D:\\data\\images\\mildlypenis\\a03a3c52ef9aeac8bc5...</td>\n      <td>D:\\data\\images\\mildlypenis\\thumbnail\\a03a3c52e...</td>\n      <td>True</td>\n      <td>False</td>\n    </tr>\n    <tr>\n      <th>28610</th>\n      <td>128rjm1</td>\n      <td>mildlypenis</td>\n      <td>itsboobthirty</td>\n      <td>Casually walking around a plant nursery and sa...</td>\n      <td>cactus planters are growing in pots with plant...</td>\n      <td>ba3d4803c189dfe3d4b4ec818ef2b508</td>\n      <td>/r/mildlypenis/comments/128rjm1/casually_walki...</td>\n      <td>https://i.redd.it/lfw3hqdjecra1.jpg</td>\n      <td>ba3d4803c189dfe3d4b4ec818ef2b508.jpg</td>\n      <td>D:\\data\\images\\mildlypenis\\ba3d4803c189dfe3d4b...</td>\n      <td>D:\\data\\images\\mildlypenis\\thumbnail\\ba3d4803c...</td>\n      <td>True</td>\n      <td>False</td>\n    </tr>\n    <tr>\n      <th>28611</th>\n      <td>128z9kt</td>\n      <td>mildlypenis</td>\n      <td>Cole_A</td>\n      <td>These Easter decorations are getting out of hand</td>\n      <td>there are two pictures of a bunny on the wall</td>\n      <td>f50e250ad34c47e94c13942d3e0a7153</td>\n      <td>/r/mildlypenis/comments/128z9kt/these_easter_d...</td>\n      <td>https://i.imgur.com/bwEMZ9O.jpg</td>\n      <td>f50e250ad34c47e94c13942d3e0a7153.jpg</td>\n      <td>D:\\data\\images\\mildlypenis\\f50e250ad34c47e94c1...</td>\n      <td>D:\\data\\images\\mildlypenis\\thumbnail\\f50e250ad...</td>\n      <td>True</td>\n      <td>False</td>\n    </tr>\n    <tr>\n      <th>...</th>\n      <td>...</td>\n      <td>...</td>\n      <td>...</td>\n      <td>...</td>\n      <td>...</td>\n      <td>...</td>\n      <td>...</td>\n      <td>...</td>\n      <td>...</td>\n      <td>...</td>\n      <td>...</td>\n      <td>...</td>\n      <td>...</td>\n    </tr>\n    <tr>\n      <th>29597</th>\n      <td>11oz7fi</td>\n      <td>mildlypenis</td>\n      <td>Extra-Lie489</td>\n      <td>Lenis</td>\n      <td>there is a small piece of metal with two small...</td>\n      <td>7604c3e55ce8dbf238520683d6e71f89</td>\n      <td>/r/mildlypenis/comments/11oz7fi/lenis/</td>\n      <td>https://i.redd.it/pskj3q0ao8na1.jpg</td>\n      <td>7604c3e55ce8dbf238520683d6e71f89.jpg</td>\n      <td>D:\\data\\images\\mildlypenis\\7604c3e55ce8dbf2385...</td>\n      <td>D:\\data\\images\\mildlypenis\\thumbnail\\7604c3e55...</td>\n      <td>True</td>\n      <td>False</td>\n    </tr>\n    <tr>\n      <th>29598</th>\n      <td>11oz73d</td>\n      <td>mildlypenis</td>\n      <td>DeimosLV</td>\n      <td>My friend is making a stuffed animal and this ...</td>\n      <td>a close up of a blue knitted bagueth on a chair</td>\n      <td>389f8aa0fb191bdeba08c8d2cfff8ce2</td>\n      <td>/r/mildlypenis/comments/11oz73d/my_friend_is_m...</td>\n      <td>https://i.redd.it/gemqhq67o8na1.jpg</td>\n      <td>389f8aa0fb191bdeba08c8d2cfff8ce2.jpg</td>\n      <td>D:\\data\\images\\mildlypenis\\389f8aa0fb191bdeba0...</td>\n      <td>D:\\data\\images\\mildlypenis\\thumbnail\\389f8aa0f...</td>\n      <td>True</td>\n      <td>False</td>\n    </tr>\n    <tr>\n      <th>29599</th>\n      <td>11oyzm3</td>\n      <td>mildlypenis</td>\n      <td>Mymemesareswell</td>\n      <td>This weird Mickey keychain hand</td>\n      <td>someone is holding a key chain with a mickey m...</td>\n      <td>87563ac0c8ddeeb0ce47bc915b99308b</td>\n      <td>/r/mildlypenis/comments/11oyzm3/this_weird_mic...</td>\n      <td>https://i.redd.it/vrivt8rom8na1.jpg</td>\n      <td>87563ac0c8ddeeb0ce47bc915b99308b.jpg</td>\n      <td>D:\\data\\images\\mildlypenis\\87563ac0c8ddeeb0ce4...</td>\n      <td>D:\\data\\images\\mildlypenis\\thumbnail\\87563ac0c...</td>\n      <td>True</td>\n      <td>False</td>\n    </tr>\n    <tr>\n      <th>29600</th>\n      <td>11oyvx1</td>\n      <td>mildlypenis</td>\n      <td>LucindaBobinda</td>\n      <td>Parking lot pp</td>\n      <td>a close up of a black and white photo of a bla...</td>\n      <td>88b596be6de959bd29eed4e8946bb476</td>\n      <td>/r/mildlypenis/comments/11oyvx1/parking_lot_pp/</td>\n      <td>https://i.redd.it/w1vebizwl8na1.jpg</td>\n      <td>88b596be6de959bd29eed4e8946bb476.jpg</td>\n      <td>D:\\data\\images\\mildlypenis\\88b596be6de959bd29e...</td>\n      <td>D:\\data\\images\\mildlypenis\\thumbnail\\88b596be6...</td>\n      <td>True</td>\n      <td>False</td>\n    </tr>\n    <tr>\n      <th>29601</th>\n      <td>11oxx6r</td>\n      <td>mildlypenis</td>\n      <td>DoggyCube</td>\n      <td>Can't figure out why they didn't approve of th...</td>\n      <td>there is a picture of a video game on the tv s...</td>\n      <td>eb7ed95bedcd44c130938e2f09069f08</td>\n      <td>/r/mildlypenis/comments/11oxx6r/cant_figure_ou...</td>\n      <td>https://i.redd.it/92hm0ia2f8na1.jpg</td>\n      <td>eb7ed95bedcd44c130938e2f09069f08.jpg</td>\n      <td>D:\\data\\images\\mildlypenis\\eb7ed95bedcd44c1309...</td>\n      <td>D:\\data\\images\\mildlypenis\\thumbnail\\eb7ed95be...</td>\n      <td>True</td>\n      <td>False</td>\n    </tr>\n  </tbody>\n</table>\n<p>823 rows × 13 columns</p>\n</div>"
     },
     "metadata": {},
     "output_type": "display_data"
    }
   ],
   "source": [
    "existing_images = mildlypenis_df.loc[~mildlypenis_df['caption'].isnull() & mildlypenis_df['exists']]\n",
    "display(existing_images)"
   ],
   "metadata": {
    "collapsed": false,
    "ExecuteTime": {
     "start_time": "2023-04-08T17:47:52.424812Z",
     "end_time": "2023-04-08T17:47:52.711589Z"
    }
   }
  },
  {
   "cell_type": "code",
   "execution_count": 37,
   "outputs": [
    {
     "name": "stderr",
     "output_type": "stream",
     "text": [
      "A subdirectory or file MildlyPenisDiffusion already exists.\n"
     ]
    }
   ],
   "source": [
    "!mkdir MildlyPenisDiffusion"
   ],
   "metadata": {
    "collapsed": false,
    "ExecuteTime": {
     "start_time": "2023-04-08T17:47:52.502941Z",
     "end_time": "2023-04-08T17:47:53.611449Z"
    }
   }
  },
  {
   "cell_type": "code",
   "execution_count": 38,
   "outputs": [
    {
     "name": "stdout",
     "output_type": "stream",
     "text": [
      "CPU times: total: 2.05 s\n",
      "Wall time: 7.53 s\n"
     ]
    }
   ],
   "source": [
    "%%time\n",
    "\n",
    "training = []\n",
    "\n",
    "records = existing_images.to_dict(orient='records')\n",
    "for record in records:\n",
    "    if os.path.exists(record['path']):\n",
    "        shutil.copy(record['path'], f'MildlyPenisDiffusion/{record[\"image_name\"]}')\n",
    "        line = {\n",
    "            'file_name': record[\"image_name\"],\n",
    "            'text': [record['title'], record['caption']]\n",
    "        }\n",
    "        training.append(line)\n",
    "\n",
    "pd.DataFrame(data=training).to_json('MildlyPenisDiffusion/metadata.jsonl', orient='records', lines=True)"
   ],
   "metadata": {
    "collapsed": false,
    "ExecuteTime": {
     "start_time": "2023-04-08T17:47:52.831507Z",
     "end_time": "2023-04-08T17:48:00.389786Z"
    }
   }
  },
  {
   "cell_type": "code",
   "execution_count": 39,
   "outputs": [
    {
     "name": "stderr",
     "output_type": "stream",
     "text": [
      "Compress-Archive : The archive file D:\\workspaces\\General\\notebooks\\image-processing\\MildlyPenisDiffusion.zip already \n",
      "exists. Use the -Update parameter to update the existing archive file or use the -Force parameter to overwrite the \n",
      "existing archive file.\n",
      "At line:1 char:1\n",
      "+ Compress-Archive MildlyPenisDiffusion MildlyPenisDiffusion.zip\n",
      "+ ~~~~~~~~~~~~~~~~~~~~~~~~~~~~~~~~~~~~~~~~~~~~~~~~~~~~~~~~~~~~~~\n",
      "    + CategoryInfo          : InvalidArgument: (D:\\workspaces\\G...isDiffusion.zip:String) [Compress-Archive], IOExcept \n",
      "   ion\n",
      "    + FullyQualifiedErrorId : ArchiveFileExists,Compress-Archive\n",
      " \n"
     ]
    }
   ],
   "source": [
    "!powershell Compress-Archive MildlyPenisDiffusion MildlyPenisDiffusion.zip"
   ],
   "metadata": {
    "collapsed": false,
    "ExecuteTime": {
     "start_time": "2023-04-08T17:48:00.389786Z",
     "end_time": "2023-04-08T17:48:13.355046Z"
    }
   }
  },
  {
   "cell_type": "code",
   "execution_count": 40,
   "outputs": [
    {
     "name": "stdout",
     "output_type": "stream",
     "text": [
      "574\n",
      "574\n"
     ]
    }
   ],
   "source": [
    "count = 0\n",
    "with open('MildlyPenisDiffusion/metadata.jsonl', 'r') as f:\n",
    "    count = len(f.readlines())\n",
    "\n",
    "print(len(training))\n",
    "print(count)"
   ],
   "metadata": {
    "collapsed": false,
    "ExecuteTime": {
     "start_time": "2023-04-08T17:48:13.355046Z",
     "end_time": "2023-04-08T17:48:13.542548Z"
    }
   }
  }
 ],
 "metadata": {
  "kernelspec": {
   "display_name": "Python 3",
   "language": "python",
   "name": "python3"
  },
  "language_info": {
   "codemirror_mode": {
    "name": "ipython",
    "version": 2
   },
   "file_extension": ".py",
   "mimetype": "text/x-python",
   "name": "python",
   "nbconvert_exporter": "python",
   "pygments_lexer": "ipython2",
   "version": "2.7.6"
  }
 },
 "nbformat": 4,
 "nbformat_minor": 0
}
