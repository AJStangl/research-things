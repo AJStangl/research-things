{
 "cells": [
  {
   "cell_type": "code",
   "execution_count": 20,
   "outputs": [
    {
     "name": "stdout",
     "output_type": "stream",
     "text": [
      "CPU times: total: 0 ns\n",
      "Wall time: 13.1 ms\n"
     ]
    }
   ],
   "source": [
    "%%time\n",
    "\n",
    "import os.path\n",
    "import dask.dataframe as dd\n",
    "import pandas as pd\n",
    "from dask.diagnostics import ProgressBar\n",
    "from tqdm import tqdm\n",
    "from tqdm.dask import TqdmCallback\n",
    "\n",
    "from shared_code.utility.spark.set_environ import set_azure_env\n",
    "\n",
    "cb = TqdmCallback(desc=\"global\")\n",
    "cb.register()\n",
    "\n",
    "tqdm.pandas()\n",
    "tqdm.pandas(desc=\"global\")\n",
    "\n",
    "pbar = ProgressBar()\n",
    "pbar.register()\n",
    "\n",
    "set_azure_env()\n",
    "\n",
    "from shared_code.utility.storage.azure_file_storage import AzureFileStorageAdapter\n",
    "\n",
    "fs_adapter = AzureFileStorageAdapter('data')\n",
    "file_system = fs_adapter.get_file_storage()"
   ],
   "metadata": {
    "collapsed": false
   }
  },
  {
   "cell_type": "code",
   "execution_count": 21,
   "outputs": [],
   "source": [
    "from typing import List\n",
    "from dataclasses import dataclass\n",
    "\n",
    "\n",
    "@dataclass\n",
    "class DataSources:\n",
    "\tname: str\n",
    "\tdata: List[str]\n",
    "\n",
    "\t@staticmethod\n",
    "\tdef from_dict(obj: dict) -> 'DataSources':\n",
    "\t\t_name = obj.get(\"name\")\n",
    "\t\t_data = [x for x in obj.get(\"data\")]\n",
    "\t\treturn DataSources(_name, _data)"
   ],
   "metadata": {
    "collapsed": false
   }
  },
  {
   "cell_type": "code",
   "execution_count": 22,
   "outputs": [],
   "source": [
    "def add_source(x: object, source_list) -> str:\n",
    "\tfor source in source_list:\n",
    "\t\tif x['subreddit'] in source['data']:\n",
    "\t\t\treturn source['name']\n",
    "\treturn \"\""
   ],
   "metadata": {
    "collapsed": false
   }
  },
  {
   "cell_type": "code",
   "execution_count": 23,
   "outputs": [],
   "source": [
    "def add_compressed_data(x: object) -> str:\n",
    "\ttry:\n",
    "\t\tdata = open(x['path'], 'rb').read()\n",
    "\t\treturn data\n",
    "\texcept Exception as e:\n",
    "\t\tprint(e)\n",
    "\t\treturn \"\""
   ],
   "metadata": {
    "collapsed": false
   }
  },
  {
   "cell_type": "code",
   "execution_count": 24,
   "outputs": [
    {
     "data": {
      "text/plain": "            id      subreddit                author  \\\n0      1000cej       CityPorn           OtterlyFoxy   \n1      1000glf       AmIhotAF     toolate_sharkbait   \n2      1000j1n      greentext             trent8051   \n3      1000mjs      spaceporn    MorningStar_imangi   \n4      1000qpd      spaceporn    MorningStar_imangi   \n...        ...            ...                   ...   \n19763   ywjp42  itookapicture              leflore4   \n19764   ywjli7  itookapicture                Naj183   \n19765   ywjew1  itookapicture  ExaminationHopeful36   \n19766   ywjeai  itookapicture          retrospektor   \n19767   ywj1ef  itookapicture              basil016   \n\n                                                   title  \\\n0                                    New York in the fog   \n1                         Just looking for entertainment   \n2                                    Anon wants Elon cut   \n3                          Northern Lights above Lofoten   \n4                                          Viking Lights   \n...                                                  ...   \n19763  ITAP - Of coach teaching young men to stand st...   \n19764       ITAP of a Turkey Vulture spreading its wings   \n19765           ITAP of my cat looking out of the window   \n19766                       ITAP of an empty beer bottle   \n19767                      ITAP of fall leaves on a tree   \n\n                                                 caption  \\\n0      cars are parked on the side of the road in the...   \n1      blonde woman with blonde hair and tattoos on h...   \n2      a man with a beard and a beard sitting in fron...   \n3      a view of a view of a large green and purple a...   \n4      a scene of a boat is sitting on the shore of a...   \n...                                                  ...   \n19763  there is a man in a black hat and a baseball c...   \n19764  a close up of a large bird with its wings open...   \n19765  a close up of a black cat sitting on a window ...   \n19766     a close up of a candle lit up in a candlelight   \n19767      a close up of a tree with orange leaves on it   \n\n                                   hash  \\\n0      7a8d96e378c15c8ab8440ac311f12c11   \n1      e554c1ed7ffa2740436ac082068b2824   \n2      1dec3dabb5e46cde01855d06089c287a   \n3      2c39ce1290fba541abd0b004b09da6b2   \n4      0f72de47c69ff50eca5fa3990215f4ac   \n...                                 ...   \n19763  f9c5e68a2e6082b0827469253807647e   \n19764  a37c752a3ecdd654cd402280b0a3de7f   \n19765  53f99cb828e71b8a3172fea41d1f2259   \n19766  9d5acf1a16798238d606fc3646d16f75   \n19767  aa650c79d5b82c9121c902140aff9202   \n\n                                               permalink  \\\n0      /r/CityPorn/comments/1000cej/new_york_in_the_fog/   \n1      /r/AmIhotAF/comments/1000glf/just_looking_for_...   \n2      /r/greentext/comments/1000j1n/anon_wants_elon_...   \n3      /r/spaceporn/comments/1000mjs/northern_lights_...   \n4           /r/spaceporn/comments/1000qpd/viking_lights/   \n...                                                  ...   \n19763  /r/itookapicture/comments/ywjp42/itap_of_coach...   \n19764  /r/itookapicture/comments/ywjli7/itap_of_a_tur...   \n19765  /r/itookapicture/comments/ywjew1/itap_of_my_ca...   \n19766  /r/itookapicture/comments/ywjeai/itap_of_an_em...   \n19767  /r/itookapicture/comments/ywj1ef/itap_of_fall_...   \n\n                              original_url  \\\n0      https://i.redd.it/4emw5uldib9a1.jpg   \n1      https://i.redd.it/4xyb1vgbjb9a1.jpg   \n2      https://i.redd.it/3mewbe0wjb9a1.jpg   \n3      https://i.redd.it/7s5aafaqkb9a1.jpg   \n4      https://i.redd.it/abojw7lqlb9a1.jpg   \n...                                    ...   \n19763  https://i.redd.it/8e4ku12iq80a1.jpg   \n19764  https://i.redd.it/35zgwn967a0a1.jpg   \n19765  https://i.redd.it/orn7pcse5a0a1.jpg   \n19766  https://i.redd.it/oyuscvpg5a0a1.jpg   \n19767  https://i.redd.it/38qftp6uk80a1.jpg   \n\n                                 image_name  \\\n0                         4emw5uldib9a1.jpg   \n1                         4xyb1vgbjb9a1.jpg   \n2                         3mewbe0wjb9a1.jpg   \n3                         7s5aafaqkb9a1.jpg   \n4                         abojw7lqlb9a1.jpg   \n...                                     ...   \n19763  f9c5e68a2e6082b0827469253807647e.jpg   \n19764  a37c752a3ecdd654cd402280b0a3de7f.jpg   \n19765  53f99cb828e71b8a3172fea41d1f2259.jpg   \n19766  9d5acf1a16798238d606fc3646d16f75.jpg   \n19767  aa650c79d5b82c9121c902140aff9202.jpg   \n\n                                                    path  \\\n0              D:\\data\\images\\CityPorn\\4emw5uldib9a1.jpg   \n1              D:\\data\\images\\AmIhotAF\\4xyb1vgbjb9a1.jpg   \n2             D:\\data\\images\\greentext\\3mewbe0wjb9a1.jpg   \n3               /data/images/spaceporn/7s5aafaqkb9a1.jpg   \n4               /data/images/spaceporn/abojw7lqlb9a1.jpg   \n...                                                  ...   \n19763  D:\\data\\images\\itookapicture\\f9c5e68a2e6082b08...   \n19764  D:\\data\\images\\itookapicture\\a37c752a3ecdd654c...   \n19765  D:\\data\\images\\itookapicture\\53f99cb828e71b8a3...   \n19766  D:\\data\\images\\itookapicture\\9d5acf1a16798238d...   \n19767  D:\\data\\images\\itookapicture\\aa650c79d5b82c912...   \n\n                                          thumbnail_path  exists  curated  \n0      D:\\data\\images\\CityPorn\\thumbnail\\4emw5uldib9a...    True    False  \n1      D:\\data\\images\\AmIhotAF\\thumbnail\\4xyb1vgbjb9a...    True    False  \n2      D:\\data\\images\\greentext\\thumbnail\\3mewbe0wjb9...    True    False  \n3      /data/images/spaceporn/thumbnail/7s5aafaqkb9a1...    True    False  \n4      /data/images/spaceporn/thumbnail/abojw7lqlb9a1...    True    False  \n...                                                  ...     ...      ...  \n19763  D:\\data\\images\\itookapicture\\thumbnail\\f9c5e68...    True    False  \n19764  D:\\data\\images\\itookapicture\\thumbnail\\a37c752...    True    False  \n19765  D:\\data\\images\\itookapicture\\thumbnail\\53f99cb...    True    False  \n19766  D:\\data\\images\\itookapicture\\thumbnail\\9d5acf1...    True    False  \n19767  D:\\data\\images\\itookapicture\\thumbnail\\aa650c7...    True    False  \n\n[19768 rows x 13 columns]",
      "text/html": "<div>\n<style scoped>\n    .dataframe tbody tr th:only-of-type {\n        vertical-align: middle;\n    }\n\n    .dataframe tbody tr th {\n        vertical-align: top;\n    }\n\n    .dataframe thead th {\n        text-align: right;\n    }\n</style>\n<table border=\"1\" class=\"dataframe\">\n  <thead>\n    <tr style=\"text-align: right;\">\n      <th></th>\n      <th>id</th>\n      <th>subreddit</th>\n      <th>author</th>\n      <th>title</th>\n      <th>caption</th>\n      <th>hash</th>\n      <th>permalink</th>\n      <th>original_url</th>\n      <th>image_name</th>\n      <th>path</th>\n      <th>thumbnail_path</th>\n      <th>exists</th>\n      <th>curated</th>\n    </tr>\n  </thead>\n  <tbody>\n    <tr>\n      <th>0</th>\n      <td>1000cej</td>\n      <td>CityPorn</td>\n      <td>OtterlyFoxy</td>\n      <td>New York in the fog</td>\n      <td>cars are parked on the side of the road in the...</td>\n      <td>7a8d96e378c15c8ab8440ac311f12c11</td>\n      <td>/r/CityPorn/comments/1000cej/new_york_in_the_fog/</td>\n      <td>https://i.redd.it/4emw5uldib9a1.jpg</td>\n      <td>4emw5uldib9a1.jpg</td>\n      <td>D:\\data\\images\\CityPorn\\4emw5uldib9a1.jpg</td>\n      <td>D:\\data\\images\\CityPorn\\thumbnail\\4emw5uldib9a...</td>\n      <td>True</td>\n      <td>False</td>\n    </tr>\n    <tr>\n      <th>1</th>\n      <td>1000glf</td>\n      <td>AmIhotAF</td>\n      <td>toolate_sharkbait</td>\n      <td>Just looking for entertainment</td>\n      <td>blonde woman with blonde hair and tattoos on h...</td>\n      <td>e554c1ed7ffa2740436ac082068b2824</td>\n      <td>/r/AmIhotAF/comments/1000glf/just_looking_for_...</td>\n      <td>https://i.redd.it/4xyb1vgbjb9a1.jpg</td>\n      <td>4xyb1vgbjb9a1.jpg</td>\n      <td>D:\\data\\images\\AmIhotAF\\4xyb1vgbjb9a1.jpg</td>\n      <td>D:\\data\\images\\AmIhotAF\\thumbnail\\4xyb1vgbjb9a...</td>\n      <td>True</td>\n      <td>False</td>\n    </tr>\n    <tr>\n      <th>2</th>\n      <td>1000j1n</td>\n      <td>greentext</td>\n      <td>trent8051</td>\n      <td>Anon wants Elon cut</td>\n      <td>a man with a beard and a beard sitting in fron...</td>\n      <td>1dec3dabb5e46cde01855d06089c287a</td>\n      <td>/r/greentext/comments/1000j1n/anon_wants_elon_...</td>\n      <td>https://i.redd.it/3mewbe0wjb9a1.jpg</td>\n      <td>3mewbe0wjb9a1.jpg</td>\n      <td>D:\\data\\images\\greentext\\3mewbe0wjb9a1.jpg</td>\n      <td>D:\\data\\images\\greentext\\thumbnail\\3mewbe0wjb9...</td>\n      <td>True</td>\n      <td>False</td>\n    </tr>\n    <tr>\n      <th>3</th>\n      <td>1000mjs</td>\n      <td>spaceporn</td>\n      <td>MorningStar_imangi</td>\n      <td>Northern Lights above Lofoten</td>\n      <td>a view of a view of a large green and purple a...</td>\n      <td>2c39ce1290fba541abd0b004b09da6b2</td>\n      <td>/r/spaceporn/comments/1000mjs/northern_lights_...</td>\n      <td>https://i.redd.it/7s5aafaqkb9a1.jpg</td>\n      <td>7s5aafaqkb9a1.jpg</td>\n      <td>/data/images/spaceporn/7s5aafaqkb9a1.jpg</td>\n      <td>/data/images/spaceporn/thumbnail/7s5aafaqkb9a1...</td>\n      <td>True</td>\n      <td>False</td>\n    </tr>\n    <tr>\n      <th>4</th>\n      <td>1000qpd</td>\n      <td>spaceporn</td>\n      <td>MorningStar_imangi</td>\n      <td>Viking Lights</td>\n      <td>a scene of a boat is sitting on the shore of a...</td>\n      <td>0f72de47c69ff50eca5fa3990215f4ac</td>\n      <td>/r/spaceporn/comments/1000qpd/viking_lights/</td>\n      <td>https://i.redd.it/abojw7lqlb9a1.jpg</td>\n      <td>abojw7lqlb9a1.jpg</td>\n      <td>/data/images/spaceporn/abojw7lqlb9a1.jpg</td>\n      <td>/data/images/spaceporn/thumbnail/abojw7lqlb9a1...</td>\n      <td>True</td>\n      <td>False</td>\n    </tr>\n    <tr>\n      <th>...</th>\n      <td>...</td>\n      <td>...</td>\n      <td>...</td>\n      <td>...</td>\n      <td>...</td>\n      <td>...</td>\n      <td>...</td>\n      <td>...</td>\n      <td>...</td>\n      <td>...</td>\n      <td>...</td>\n      <td>...</td>\n      <td>...</td>\n    </tr>\n    <tr>\n      <th>19763</th>\n      <td>ywjp42</td>\n      <td>itookapicture</td>\n      <td>leflore4</td>\n      <td>ITAP - Of coach teaching young men to stand st...</td>\n      <td>there is a man in a black hat and a baseball c...</td>\n      <td>f9c5e68a2e6082b0827469253807647e</td>\n      <td>/r/itookapicture/comments/ywjp42/itap_of_coach...</td>\n      <td>https://i.redd.it/8e4ku12iq80a1.jpg</td>\n      <td>f9c5e68a2e6082b0827469253807647e.jpg</td>\n      <td>D:\\data\\images\\itookapicture\\f9c5e68a2e6082b08...</td>\n      <td>D:\\data\\images\\itookapicture\\thumbnail\\f9c5e68...</td>\n      <td>True</td>\n      <td>False</td>\n    </tr>\n    <tr>\n      <th>19764</th>\n      <td>ywjli7</td>\n      <td>itookapicture</td>\n      <td>Naj183</td>\n      <td>ITAP of a Turkey Vulture spreading its wings</td>\n      <td>a close up of a large bird with its wings open...</td>\n      <td>a37c752a3ecdd654cd402280b0a3de7f</td>\n      <td>/r/itookapicture/comments/ywjli7/itap_of_a_tur...</td>\n      <td>https://i.redd.it/35zgwn967a0a1.jpg</td>\n      <td>a37c752a3ecdd654cd402280b0a3de7f.jpg</td>\n      <td>D:\\data\\images\\itookapicture\\a37c752a3ecdd654c...</td>\n      <td>D:\\data\\images\\itookapicture\\thumbnail\\a37c752...</td>\n      <td>True</td>\n      <td>False</td>\n    </tr>\n    <tr>\n      <th>19765</th>\n      <td>ywjew1</td>\n      <td>itookapicture</td>\n      <td>ExaminationHopeful36</td>\n      <td>ITAP of my cat looking out of the window</td>\n      <td>a close up of a black cat sitting on a window ...</td>\n      <td>53f99cb828e71b8a3172fea41d1f2259</td>\n      <td>/r/itookapicture/comments/ywjew1/itap_of_my_ca...</td>\n      <td>https://i.redd.it/orn7pcse5a0a1.jpg</td>\n      <td>53f99cb828e71b8a3172fea41d1f2259.jpg</td>\n      <td>D:\\data\\images\\itookapicture\\53f99cb828e71b8a3...</td>\n      <td>D:\\data\\images\\itookapicture\\thumbnail\\53f99cb...</td>\n      <td>True</td>\n      <td>False</td>\n    </tr>\n    <tr>\n      <th>19766</th>\n      <td>ywjeai</td>\n      <td>itookapicture</td>\n      <td>retrospektor</td>\n      <td>ITAP of an empty beer bottle</td>\n      <td>a close up of a candle lit up in a candlelight</td>\n      <td>9d5acf1a16798238d606fc3646d16f75</td>\n      <td>/r/itookapicture/comments/ywjeai/itap_of_an_em...</td>\n      <td>https://i.redd.it/oyuscvpg5a0a1.jpg</td>\n      <td>9d5acf1a16798238d606fc3646d16f75.jpg</td>\n      <td>D:\\data\\images\\itookapicture\\9d5acf1a16798238d...</td>\n      <td>D:\\data\\images\\itookapicture\\thumbnail\\9d5acf1...</td>\n      <td>True</td>\n      <td>False</td>\n    </tr>\n    <tr>\n      <th>19767</th>\n      <td>ywj1ef</td>\n      <td>itookapicture</td>\n      <td>basil016</td>\n      <td>ITAP of fall leaves on a tree</td>\n      <td>a close up of a tree with orange leaves on it</td>\n      <td>aa650c79d5b82c9121c902140aff9202</td>\n      <td>/r/itookapicture/comments/ywj1ef/itap_of_fall_...</td>\n      <td>https://i.redd.it/38qftp6uk80a1.jpg</td>\n      <td>aa650c79d5b82c9121c902140aff9202.jpg</td>\n      <td>D:\\data\\images\\itookapicture\\aa650c79d5b82c912...</td>\n      <td>D:\\data\\images\\itookapicture\\thumbnail\\aa650c7...</td>\n      <td>True</td>\n      <td>False</td>\n    </tr>\n  </tbody>\n</table>\n<p>19768 rows × 13 columns</p>\n</div>"
     },
     "metadata": {},
     "output_type": "display_data"
    },
    {
     "name": "stdout",
     "output_type": "stream",
     "text": [
      "CPU times: total: 1.06 s\n",
      "Wall time: 2.36 s\n"
     ]
    }
   ],
   "source": [
    "%%time\n",
    "all_data = pd.read_parquet(\"data/processed_raw_data.parquet\", engine='pyarrow', filesystem=file_system)\n",
    "display(all_data)"
   ],
   "metadata": {
    "collapsed": false
   }
  },
  {
   "cell_type": "code",
   "execution_count": 25,
   "outputs": [
    {
     "data": {
      "text/plain": "            id      subreddit                author  \\\n0      1000cej       CityPorn           OtterlyFoxy   \n1      1000glf       AmIhotAF     toolate_sharkbait   \n2      1000j1n      greentext             trent8051   \n3      1000mjs      spaceporn    MorningStar_imangi   \n4      1000qpd      spaceporn    MorningStar_imangi   \n...        ...            ...                   ...   \n19763   ywjp42  itookapicture              leflore4   \n19764   ywjli7  itookapicture                Naj183   \n19765   ywjew1  itookapicture  ExaminationHopeful36   \n19766   ywjeai  itookapicture          retrospektor   \n19767   ywj1ef  itookapicture              basil016   \n\n                                                   title  \\\n0                                    New York in the fog   \n1                         Just looking for entertainment   \n2                                    Anon wants Elon cut   \n3                          Northern Lights above Lofoten   \n4                                          Viking Lights   \n...                                                  ...   \n19763  ITAP - Of coach teaching young men to stand st...   \n19764       ITAP of a Turkey Vulture spreading its wings   \n19765           ITAP of my cat looking out of the window   \n19766                       ITAP of an empty beer bottle   \n19767                      ITAP of fall leaves on a tree   \n\n                                                 caption  \\\n0      cars are parked on the side of the road in the...   \n1      blonde woman with blonde hair and tattoos on h...   \n2      a man with a beard and a beard sitting in fron...   \n3      a view of a view of a large green and purple a...   \n4      a scene of a boat is sitting on the shore of a...   \n...                                                  ...   \n19763  there is a man in a black hat and a baseball c...   \n19764  a close up of a large bird with its wings open...   \n19765  a close up of a black cat sitting on a window ...   \n19766     a close up of a candle lit up in a candlelight   \n19767      a close up of a tree with orange leaves on it   \n\n                                   hash  \\\n0      7a8d96e378c15c8ab8440ac311f12c11   \n1      e554c1ed7ffa2740436ac082068b2824   \n2      1dec3dabb5e46cde01855d06089c287a   \n3      2c39ce1290fba541abd0b004b09da6b2   \n4      0f72de47c69ff50eca5fa3990215f4ac   \n...                                 ...   \n19763  f9c5e68a2e6082b0827469253807647e   \n19764  a37c752a3ecdd654cd402280b0a3de7f   \n19765  53f99cb828e71b8a3172fea41d1f2259   \n19766  9d5acf1a16798238d606fc3646d16f75   \n19767  aa650c79d5b82c9121c902140aff9202   \n\n                                               permalink  \\\n0      /r/CityPorn/comments/1000cej/new_york_in_the_fog/   \n1      /r/AmIhotAF/comments/1000glf/just_looking_for_...   \n2      /r/greentext/comments/1000j1n/anon_wants_elon_...   \n3      /r/spaceporn/comments/1000mjs/northern_lights_...   \n4           /r/spaceporn/comments/1000qpd/viking_lights/   \n...                                                  ...   \n19763  /r/itookapicture/comments/ywjp42/itap_of_coach...   \n19764  /r/itookapicture/comments/ywjli7/itap_of_a_tur...   \n19765  /r/itookapicture/comments/ywjew1/itap_of_my_ca...   \n19766  /r/itookapicture/comments/ywjeai/itap_of_an_em...   \n19767  /r/itookapicture/comments/ywj1ef/itap_of_fall_...   \n\n                              original_url  \\\n0      https://i.redd.it/4emw5uldib9a1.jpg   \n1      https://i.redd.it/4xyb1vgbjb9a1.jpg   \n2      https://i.redd.it/3mewbe0wjb9a1.jpg   \n3      https://i.redd.it/7s5aafaqkb9a1.jpg   \n4      https://i.redd.it/abojw7lqlb9a1.jpg   \n...                                    ...   \n19763  https://i.redd.it/8e4ku12iq80a1.jpg   \n19764  https://i.redd.it/35zgwn967a0a1.jpg   \n19765  https://i.redd.it/orn7pcse5a0a1.jpg   \n19766  https://i.redd.it/oyuscvpg5a0a1.jpg   \n19767  https://i.redd.it/38qftp6uk80a1.jpg   \n\n                                 image_name  \\\n0                         4emw5uldib9a1.jpg   \n1                         4xyb1vgbjb9a1.jpg   \n2                         3mewbe0wjb9a1.jpg   \n3                         7s5aafaqkb9a1.jpg   \n4                         abojw7lqlb9a1.jpg   \n...                                     ...   \n19763  f9c5e68a2e6082b0827469253807647e.jpg   \n19764  a37c752a3ecdd654cd402280b0a3de7f.jpg   \n19765  53f99cb828e71b8a3172fea41d1f2259.jpg   \n19766  9d5acf1a16798238d606fc3646d16f75.jpg   \n19767  aa650c79d5b82c9121c902140aff9202.jpg   \n\n                                                    path  \\\n0              D:\\data\\images\\CityPorn\\4emw5uldib9a1.jpg   \n1              D:\\data\\images\\AmIhotAF\\4xyb1vgbjb9a1.jpg   \n2             D:\\data\\images\\greentext\\3mewbe0wjb9a1.jpg   \n3               /data/images/spaceporn/7s5aafaqkb9a1.jpg   \n4               /data/images/spaceporn/abojw7lqlb9a1.jpg   \n...                                                  ...   \n19763  D:\\data\\images\\itookapicture\\f9c5e68a2e6082b08...   \n19764  D:\\data\\images\\itookapicture\\a37c752a3ecdd654c...   \n19765  D:\\data\\images\\itookapicture\\53f99cb828e71b8a3...   \n19766  D:\\data\\images\\itookapicture\\9d5acf1a16798238d...   \n19767  D:\\data\\images\\itookapicture\\aa650c79d5b82c912...   \n\n                                          thumbnail_path  exists  curated  \n0      D:\\data\\images\\CityPorn\\thumbnail\\4emw5uldib9a...    True    False  \n1      D:\\data\\images\\AmIhotAF\\thumbnail\\4xyb1vgbjb9a...    True    False  \n2      D:\\data\\images\\greentext\\thumbnail\\3mewbe0wjb9...    True    False  \n3      /data/images/spaceporn/thumbnail/7s5aafaqkb9a1...    True    False  \n4      /data/images/spaceporn/thumbnail/abojw7lqlb9a1...    True    False  \n...                                                  ...     ...      ...  \n19763  D:\\data\\images\\itookapicture\\thumbnail\\f9c5e68...    True    False  \n19764  D:\\data\\images\\itookapicture\\thumbnail\\a37c752...    True    False  \n19765  D:\\data\\images\\itookapicture\\thumbnail\\53f99cb...    True    False  \n19766  D:\\data\\images\\itookapicture\\thumbnail\\9d5acf1...    True    False  \n19767  D:\\data\\images\\itookapicture\\thumbnail\\aa650c7...    True    False  \n\n[19768 rows x 13 columns]",
      "text/html": "<div>\n<style scoped>\n    .dataframe tbody tr th:only-of-type {\n        vertical-align: middle;\n    }\n\n    .dataframe tbody tr th {\n        vertical-align: top;\n    }\n\n    .dataframe thead th {\n        text-align: right;\n    }\n</style>\n<table border=\"1\" class=\"dataframe\">\n  <thead>\n    <tr style=\"text-align: right;\">\n      <th></th>\n      <th>id</th>\n      <th>subreddit</th>\n      <th>author</th>\n      <th>title</th>\n      <th>caption</th>\n      <th>hash</th>\n      <th>permalink</th>\n      <th>original_url</th>\n      <th>image_name</th>\n      <th>path</th>\n      <th>thumbnail_path</th>\n      <th>exists</th>\n      <th>curated</th>\n    </tr>\n  </thead>\n  <tbody>\n    <tr>\n      <th>0</th>\n      <td>1000cej</td>\n      <td>CityPorn</td>\n      <td>OtterlyFoxy</td>\n      <td>New York in the fog</td>\n      <td>cars are parked on the side of the road in the...</td>\n      <td>7a8d96e378c15c8ab8440ac311f12c11</td>\n      <td>/r/CityPorn/comments/1000cej/new_york_in_the_fog/</td>\n      <td>https://i.redd.it/4emw5uldib9a1.jpg</td>\n      <td>4emw5uldib9a1.jpg</td>\n      <td>D:\\data\\images\\CityPorn\\4emw5uldib9a1.jpg</td>\n      <td>D:\\data\\images\\CityPorn\\thumbnail\\4emw5uldib9a...</td>\n      <td>True</td>\n      <td>False</td>\n    </tr>\n    <tr>\n      <th>1</th>\n      <td>1000glf</td>\n      <td>AmIhotAF</td>\n      <td>toolate_sharkbait</td>\n      <td>Just looking for entertainment</td>\n      <td>blonde woman with blonde hair and tattoos on h...</td>\n      <td>e554c1ed7ffa2740436ac082068b2824</td>\n      <td>/r/AmIhotAF/comments/1000glf/just_looking_for_...</td>\n      <td>https://i.redd.it/4xyb1vgbjb9a1.jpg</td>\n      <td>4xyb1vgbjb9a1.jpg</td>\n      <td>D:\\data\\images\\AmIhotAF\\4xyb1vgbjb9a1.jpg</td>\n      <td>D:\\data\\images\\AmIhotAF\\thumbnail\\4xyb1vgbjb9a...</td>\n      <td>True</td>\n      <td>False</td>\n    </tr>\n    <tr>\n      <th>2</th>\n      <td>1000j1n</td>\n      <td>greentext</td>\n      <td>trent8051</td>\n      <td>Anon wants Elon cut</td>\n      <td>a man with a beard and a beard sitting in fron...</td>\n      <td>1dec3dabb5e46cde01855d06089c287a</td>\n      <td>/r/greentext/comments/1000j1n/anon_wants_elon_...</td>\n      <td>https://i.redd.it/3mewbe0wjb9a1.jpg</td>\n      <td>3mewbe0wjb9a1.jpg</td>\n      <td>D:\\data\\images\\greentext\\3mewbe0wjb9a1.jpg</td>\n      <td>D:\\data\\images\\greentext\\thumbnail\\3mewbe0wjb9...</td>\n      <td>True</td>\n      <td>False</td>\n    </tr>\n    <tr>\n      <th>3</th>\n      <td>1000mjs</td>\n      <td>spaceporn</td>\n      <td>MorningStar_imangi</td>\n      <td>Northern Lights above Lofoten</td>\n      <td>a view of a view of a large green and purple a...</td>\n      <td>2c39ce1290fba541abd0b004b09da6b2</td>\n      <td>/r/spaceporn/comments/1000mjs/northern_lights_...</td>\n      <td>https://i.redd.it/7s5aafaqkb9a1.jpg</td>\n      <td>7s5aafaqkb9a1.jpg</td>\n      <td>/data/images/spaceporn/7s5aafaqkb9a1.jpg</td>\n      <td>/data/images/spaceporn/thumbnail/7s5aafaqkb9a1...</td>\n      <td>True</td>\n      <td>False</td>\n    </tr>\n    <tr>\n      <th>4</th>\n      <td>1000qpd</td>\n      <td>spaceporn</td>\n      <td>MorningStar_imangi</td>\n      <td>Viking Lights</td>\n      <td>a scene of a boat is sitting on the shore of a...</td>\n      <td>0f72de47c69ff50eca5fa3990215f4ac</td>\n      <td>/r/spaceporn/comments/1000qpd/viking_lights/</td>\n      <td>https://i.redd.it/abojw7lqlb9a1.jpg</td>\n      <td>abojw7lqlb9a1.jpg</td>\n      <td>/data/images/spaceporn/abojw7lqlb9a1.jpg</td>\n      <td>/data/images/spaceporn/thumbnail/abojw7lqlb9a1...</td>\n      <td>True</td>\n      <td>False</td>\n    </tr>\n    <tr>\n      <th>...</th>\n      <td>...</td>\n      <td>...</td>\n      <td>...</td>\n      <td>...</td>\n      <td>...</td>\n      <td>...</td>\n      <td>...</td>\n      <td>...</td>\n      <td>...</td>\n      <td>...</td>\n      <td>...</td>\n      <td>...</td>\n      <td>...</td>\n    </tr>\n    <tr>\n      <th>19763</th>\n      <td>ywjp42</td>\n      <td>itookapicture</td>\n      <td>leflore4</td>\n      <td>ITAP - Of coach teaching young men to stand st...</td>\n      <td>there is a man in a black hat and a baseball c...</td>\n      <td>f9c5e68a2e6082b0827469253807647e</td>\n      <td>/r/itookapicture/comments/ywjp42/itap_of_coach...</td>\n      <td>https://i.redd.it/8e4ku12iq80a1.jpg</td>\n      <td>f9c5e68a2e6082b0827469253807647e.jpg</td>\n      <td>D:\\data\\images\\itookapicture\\f9c5e68a2e6082b08...</td>\n      <td>D:\\data\\images\\itookapicture\\thumbnail\\f9c5e68...</td>\n      <td>True</td>\n      <td>False</td>\n    </tr>\n    <tr>\n      <th>19764</th>\n      <td>ywjli7</td>\n      <td>itookapicture</td>\n      <td>Naj183</td>\n      <td>ITAP of a Turkey Vulture spreading its wings</td>\n      <td>a close up of a large bird with its wings open...</td>\n      <td>a37c752a3ecdd654cd402280b0a3de7f</td>\n      <td>/r/itookapicture/comments/ywjli7/itap_of_a_tur...</td>\n      <td>https://i.redd.it/35zgwn967a0a1.jpg</td>\n      <td>a37c752a3ecdd654cd402280b0a3de7f.jpg</td>\n      <td>D:\\data\\images\\itookapicture\\a37c752a3ecdd654c...</td>\n      <td>D:\\data\\images\\itookapicture\\thumbnail\\a37c752...</td>\n      <td>True</td>\n      <td>False</td>\n    </tr>\n    <tr>\n      <th>19765</th>\n      <td>ywjew1</td>\n      <td>itookapicture</td>\n      <td>ExaminationHopeful36</td>\n      <td>ITAP of my cat looking out of the window</td>\n      <td>a close up of a black cat sitting on a window ...</td>\n      <td>53f99cb828e71b8a3172fea41d1f2259</td>\n      <td>/r/itookapicture/comments/ywjew1/itap_of_my_ca...</td>\n      <td>https://i.redd.it/orn7pcse5a0a1.jpg</td>\n      <td>53f99cb828e71b8a3172fea41d1f2259.jpg</td>\n      <td>D:\\data\\images\\itookapicture\\53f99cb828e71b8a3...</td>\n      <td>D:\\data\\images\\itookapicture\\thumbnail\\53f99cb...</td>\n      <td>True</td>\n      <td>False</td>\n    </tr>\n    <tr>\n      <th>19766</th>\n      <td>ywjeai</td>\n      <td>itookapicture</td>\n      <td>retrospektor</td>\n      <td>ITAP of an empty beer bottle</td>\n      <td>a close up of a candle lit up in a candlelight</td>\n      <td>9d5acf1a16798238d606fc3646d16f75</td>\n      <td>/r/itookapicture/comments/ywjeai/itap_of_an_em...</td>\n      <td>https://i.redd.it/oyuscvpg5a0a1.jpg</td>\n      <td>9d5acf1a16798238d606fc3646d16f75.jpg</td>\n      <td>D:\\data\\images\\itookapicture\\9d5acf1a16798238d...</td>\n      <td>D:\\data\\images\\itookapicture\\thumbnail\\9d5acf1...</td>\n      <td>True</td>\n      <td>False</td>\n    </tr>\n    <tr>\n      <th>19767</th>\n      <td>ywj1ef</td>\n      <td>itookapicture</td>\n      <td>basil016</td>\n      <td>ITAP of fall leaves on a tree</td>\n      <td>a close up of a tree with orange leaves on it</td>\n      <td>aa650c79d5b82c9121c902140aff9202</td>\n      <td>/r/itookapicture/comments/ywj1ef/itap_of_fall_...</td>\n      <td>https://i.redd.it/38qftp6uk80a1.jpg</td>\n      <td>aa650c79d5b82c9121c902140aff9202.jpg</td>\n      <td>D:\\data\\images\\itookapicture\\aa650c79d5b82c912...</td>\n      <td>D:\\data\\images\\itookapicture\\thumbnail\\aa650c7...</td>\n      <td>True</td>\n      <td>False</td>\n    </tr>\n  </tbody>\n</table>\n<p>19768 rows × 13 columns</p>\n</div>"
     },
     "metadata": {},
     "output_type": "display_data"
    },
    {
     "name": "stdout",
     "output_type": "stream",
     "text": [
      "CPU times: total: 406 ms\n",
      "Wall time: 471 ms\n"
     ]
    }
   ],
   "source": [
    "%%time\n",
    "\n",
    "filtered_on_exist = all_data.where(lambda x: x['exists']).dropna(how='all').reset_index(drop=True)\n",
    "filtered_on_exist = filtered_on_exist.where(lambda x: x['caption'] != \"\").dropna(how='all').reset_index(drop=True)\n",
    "display(filtered_on_exist)"
   ],
   "metadata": {
    "collapsed": false
   }
  },
  {
   "cell_type": "code",
   "execution_count": 26,
   "metadata": {
    "collapsed": true
   },
   "outputs": [
    {
     "data": {
      "text/plain": "                     name                                               data\n0           CityDiffusion                                         [CityPorn]\n1         NatureDiffusion                                        [EarthPorn]\n2         CosmicDiffusion                                        [spaceporn]\n3           ITAPDiffusion                                    [itookapicture]\n4           MemeDiffusion                        [memes, trippinthroughtime]\n5           SexyDiffusion  [sfwpetite, selfies, Amicute, amihot, AmIhotAF...\n6    FatSquirrelDiffusion                                  [fatsquirrelhate]\n7        RedHeadDiffusion                                      [SFWRedheads]\n8  NextDoorGirlsDiffusion                                 [SFWNextDoorGirls]",
      "text/html": "<div>\n<style scoped>\n    .dataframe tbody tr th:only-of-type {\n        vertical-align: middle;\n    }\n\n    .dataframe tbody tr th {\n        vertical-align: top;\n    }\n\n    .dataframe thead th {\n        text-align: right;\n    }\n</style>\n<table border=\"1\" class=\"dataframe\">\n  <thead>\n    <tr style=\"text-align: right;\">\n      <th></th>\n      <th>name</th>\n      <th>data</th>\n    </tr>\n  </thead>\n  <tbody>\n    <tr>\n      <th>0</th>\n      <td>CityDiffusion</td>\n      <td>[CityPorn]</td>\n    </tr>\n    <tr>\n      <th>1</th>\n      <td>NatureDiffusion</td>\n      <td>[EarthPorn]</td>\n    </tr>\n    <tr>\n      <th>2</th>\n      <td>CosmicDiffusion</td>\n      <td>[spaceporn]</td>\n    </tr>\n    <tr>\n      <th>3</th>\n      <td>ITAPDiffusion</td>\n      <td>[itookapicture]</td>\n    </tr>\n    <tr>\n      <th>4</th>\n      <td>MemeDiffusion</td>\n      <td>[memes, trippinthroughtime]</td>\n    </tr>\n    <tr>\n      <th>5</th>\n      <td>SexyDiffusion</td>\n      <td>[sfwpetite, selfies, Amicute, amihot, AmIhotAF...</td>\n    </tr>\n    <tr>\n      <th>6</th>\n      <td>FatSquirrelDiffusion</td>\n      <td>[fatsquirrelhate]</td>\n    </tr>\n    <tr>\n      <th>7</th>\n      <td>RedHeadDiffusion</td>\n      <td>[SFWRedheads]</td>\n    </tr>\n    <tr>\n      <th>8</th>\n      <td>NextDoorGirlsDiffusion</td>\n      <td>[SFWNextDoorGirls]</td>\n    </tr>\n  </tbody>\n</table>\n</div>"
     },
     "metadata": {},
     "output_type": "display_data"
    },
    {
     "name": "stdout",
     "output_type": "stream",
     "text": [
      "CPU times: total: 15.6 ms\n",
      "Wall time: 53 ms\n"
     ]
    }
   ],
   "source": [
    "%%time\n",
    "\n",
    "sources = [\n",
    "\t{\"name\": \"CityDiffusion\", \"data\": [\"CityPorn\"]},\n",
    "\t{\"name\": \"NatureDiffusion\", \"data\": [\"EarthPorn\"]},\n",
    "\t{\"name\": \"CosmicDiffusion\", \"data\": [\"spaceporn\"]},\n",
    "\t{\"name\": \"ITAPDiffusion\", \"data\": [\"itookapicture\"]},\n",
    "\t{\"name\": \"MemeDiffusion\", \"data\": [\"memes\",\"trippinthroughtime\"]},\n",
    "\t{\"name\": \"SexyDiffusion\", \"data\": [\"sfwpetite\",\"selfies\",\"Amicute\",\"amihot\",\"AmIhotAF\",\"HotGirlNextDoor\"]},\n",
    "\t{\"name\": \"FatSquirrelDiffusion\", \"data\": [\"fatsquirrelhate\"]},\n",
    "\t{\"name\": \"RedHeadDiffusion\", \"data\": [\"SFWRedheads\"]},\n",
    "\t{\"name\": \"NextDoorGirlsDiffusion\", \"data\": [\"SFWNextDoorGirls\"]}\n",
    "]\n",
    "sources_df = pd.DataFrame.from_records(sources)\n",
    "display(sources_df)"
   ]
  },
  {
   "cell_type": "code",
   "execution_count": 27,
   "outputs": [
    {
     "name": "stderr",
     "output_type": "stream",
     "text": [
      "global: 100%|██████████| 19768/19768 [00:01<00:00, 10731.80it/s]\n"
     ]
    },
    {
     "data": {
      "text/plain": "                                                    path  \\\n0      D:\\data\\images\\CityPorn\\thumbnail\\4emw5uldib9a...   \n1      D:\\data\\images\\AmIhotAF\\thumbnail\\4xyb1vgbjb9a...   \n2      D:\\data\\images\\greentext\\thumbnail\\3mewbe0wjb9...   \n3      /data/images/spaceporn/thumbnail/7s5aafaqkb9a1...   \n4      /data/images/spaceporn/thumbnail/abojw7lqlb9a1...   \n...                                                  ...   \n19763  D:\\data\\images\\itookapicture\\thumbnail\\f9c5e68...   \n19764  D:\\data\\images\\itookapicture\\thumbnail\\a37c752...   \n19765  D:\\data\\images\\itookapicture\\thumbnail\\53f99cb...   \n19766  D:\\data\\images\\itookapicture\\thumbnail\\9d5acf1...   \n19767  D:\\data\\images\\itookapicture\\thumbnail\\aa650c7...   \n\n                                 image_name  \\\n0                         4emw5uldib9a1.jpg   \n1                         4xyb1vgbjb9a1.jpg   \n2                         3mewbe0wjb9a1.jpg   \n3                         7s5aafaqkb9a1.jpg   \n4                         abojw7lqlb9a1.jpg   \n...                                     ...   \n19763  f9c5e68a2e6082b0827469253807647e.jpg   \n19764  a37c752a3ecdd654cd402280b0a3de7f.jpg   \n19765  53f99cb828e71b8a3172fea41d1f2259.jpg   \n19766  9d5acf1a16798238d606fc3646d16f75.jpg   \n19767  aa650c79d5b82c9121c902140aff9202.jpg   \n\n                                                 caption  \\\n0      cars are parked on the side of the road in the...   \n1      blonde woman with blonde hair and tattoos on h...   \n2      a man with a beard and a beard sitting in fron...   \n3      a view of a view of a large green and purple a...   \n4      a scene of a boat is sitting on the shore of a...   \n...                                                  ...   \n19763  there is a man in a black hat and a baseball c...   \n19764  a close up of a large bird with its wings open...   \n19765  a close up of a black cat sitting on a window ...   \n19766     a close up of a candle lit up in a candlelight   \n19767      a close up of a tree with orange leaves on it   \n\n                                                   title      subreddit  \\\n0                                    New York in the fog       CityPorn   \n1                         Just looking for entertainment       AmIhotAF   \n2                                    Anon wants Elon cut      greentext   \n3                          Northern Lights above Lofoten      spaceporn   \n4                                          Viking Lights      spaceporn   \n...                                                  ...            ...   \n19763  ITAP - Of coach teaching young men to stand st...  itookapicture   \n19764       ITAP of a Turkey Vulture spreading its wings  itookapicture   \n19765           ITAP of my cat looking out of the window  itookapicture   \n19766                       ITAP of an empty beer bottle  itookapicture   \n19767                      ITAP of fall leaves on a tree  itookapicture   \n\n                  name  \n0        CityDiffusion  \n1        SexyDiffusion  \n2                       \n3      CosmicDiffusion  \n4      CosmicDiffusion  \n...                ...  \n19763    ITAPDiffusion  \n19764    ITAPDiffusion  \n19765    ITAPDiffusion  \n19766    ITAPDiffusion  \n19767    ITAPDiffusion  \n\n[19768 rows x 6 columns]",
      "text/html": "<div>\n<style scoped>\n    .dataframe tbody tr th:only-of-type {\n        vertical-align: middle;\n    }\n\n    .dataframe tbody tr th {\n        vertical-align: top;\n    }\n\n    .dataframe thead th {\n        text-align: right;\n    }\n</style>\n<table border=\"1\" class=\"dataframe\">\n  <thead>\n    <tr style=\"text-align: right;\">\n      <th></th>\n      <th>path</th>\n      <th>image_name</th>\n      <th>caption</th>\n      <th>title</th>\n      <th>subreddit</th>\n      <th>name</th>\n    </tr>\n  </thead>\n  <tbody>\n    <tr>\n      <th>0</th>\n      <td>D:\\data\\images\\CityPorn\\thumbnail\\4emw5uldib9a...</td>\n      <td>4emw5uldib9a1.jpg</td>\n      <td>cars are parked on the side of the road in the...</td>\n      <td>New York in the fog</td>\n      <td>CityPorn</td>\n      <td>CityDiffusion</td>\n    </tr>\n    <tr>\n      <th>1</th>\n      <td>D:\\data\\images\\AmIhotAF\\thumbnail\\4xyb1vgbjb9a...</td>\n      <td>4xyb1vgbjb9a1.jpg</td>\n      <td>blonde woman with blonde hair and tattoos on h...</td>\n      <td>Just looking for entertainment</td>\n      <td>AmIhotAF</td>\n      <td>SexyDiffusion</td>\n    </tr>\n    <tr>\n      <th>2</th>\n      <td>D:\\data\\images\\greentext\\thumbnail\\3mewbe0wjb9...</td>\n      <td>3mewbe0wjb9a1.jpg</td>\n      <td>a man with a beard and a beard sitting in fron...</td>\n      <td>Anon wants Elon cut</td>\n      <td>greentext</td>\n      <td></td>\n    </tr>\n    <tr>\n      <th>3</th>\n      <td>/data/images/spaceporn/thumbnail/7s5aafaqkb9a1...</td>\n      <td>7s5aafaqkb9a1.jpg</td>\n      <td>a view of a view of a large green and purple a...</td>\n      <td>Northern Lights above Lofoten</td>\n      <td>spaceporn</td>\n      <td>CosmicDiffusion</td>\n    </tr>\n    <tr>\n      <th>4</th>\n      <td>/data/images/spaceporn/thumbnail/abojw7lqlb9a1...</td>\n      <td>abojw7lqlb9a1.jpg</td>\n      <td>a scene of a boat is sitting on the shore of a...</td>\n      <td>Viking Lights</td>\n      <td>spaceporn</td>\n      <td>CosmicDiffusion</td>\n    </tr>\n    <tr>\n      <th>...</th>\n      <td>...</td>\n      <td>...</td>\n      <td>...</td>\n      <td>...</td>\n      <td>...</td>\n      <td>...</td>\n    </tr>\n    <tr>\n      <th>19763</th>\n      <td>D:\\data\\images\\itookapicture\\thumbnail\\f9c5e68...</td>\n      <td>f9c5e68a2e6082b0827469253807647e.jpg</td>\n      <td>there is a man in a black hat and a baseball c...</td>\n      <td>ITAP - Of coach teaching young men to stand st...</td>\n      <td>itookapicture</td>\n      <td>ITAPDiffusion</td>\n    </tr>\n    <tr>\n      <th>19764</th>\n      <td>D:\\data\\images\\itookapicture\\thumbnail\\a37c752...</td>\n      <td>a37c752a3ecdd654cd402280b0a3de7f.jpg</td>\n      <td>a close up of a large bird with its wings open...</td>\n      <td>ITAP of a Turkey Vulture spreading its wings</td>\n      <td>itookapicture</td>\n      <td>ITAPDiffusion</td>\n    </tr>\n    <tr>\n      <th>19765</th>\n      <td>D:\\data\\images\\itookapicture\\thumbnail\\53f99cb...</td>\n      <td>53f99cb828e71b8a3172fea41d1f2259.jpg</td>\n      <td>a close up of a black cat sitting on a window ...</td>\n      <td>ITAP of my cat looking out of the window</td>\n      <td>itookapicture</td>\n      <td>ITAPDiffusion</td>\n    </tr>\n    <tr>\n      <th>19766</th>\n      <td>D:\\data\\images\\itookapicture\\thumbnail\\9d5acf1...</td>\n      <td>9d5acf1a16798238d606fc3646d16f75.jpg</td>\n      <td>a close up of a candle lit up in a candlelight</td>\n      <td>ITAP of an empty beer bottle</td>\n      <td>itookapicture</td>\n      <td>ITAPDiffusion</td>\n    </tr>\n    <tr>\n      <th>19767</th>\n      <td>D:\\data\\images\\itookapicture\\thumbnail\\aa650c7...</td>\n      <td>aa650c79d5b82c9121c902140aff9202.jpg</td>\n      <td>a close up of a tree with orange leaves on it</td>\n      <td>ITAP of fall leaves on a tree</td>\n      <td>itookapicture</td>\n      <td>ITAPDiffusion</td>\n    </tr>\n  </tbody>\n</table>\n<p>19768 rows × 6 columns</p>\n</div>"
     },
     "metadata": {},
     "output_type": "display_data"
    },
    {
     "name": "stdout",
     "output_type": "stream",
     "text": [
      "CPU times: total: 6.28 s\n",
      "Wall time: 12.3 s\n"
     ]
    }
   ],
   "source": [
    "%%time\n",
    "\n",
    "smaller_exportable_df = pd.DataFrame(\n",
    "\tdata=[filtered_on_exist['thumbnail_path'], filtered_on_exist['image_name'], filtered_on_exist['caption'], filtered_on_exist['title'], filtered_on_exist['subreddit']],\n",
    "\tindex=['path', 'image_name', 'caption', 'title', 'subreddit']).T\n",
    "\n",
    "with ProgressBar():\n",
    "\tsmaller_exportable_df['name'] = smaller_exportable_df.progress_apply(lambda x: add_source(x, sources), axis=1)\n",
    "\n",
    "display(smaller_exportable_df)"
   ],
   "metadata": {
    "collapsed": false
   }
  },
  {
   "cell_type": "code",
   "execution_count": 28,
   "outputs": [
    {
     "name": "stdout",
     "output_type": "stream",
     "text": [
      "[                                        ] | 0% Completed | 147.76 ms"
     ]
    },
    {
     "data": {
      "text/plain": "global:   0%|          | 0/10 [00:00<?, ?it/s]",
      "application/vnd.jupyter.widget-view+json": {
       "version_major": 2,
       "version_minor": 0,
       "model_id": "5f312ab6fb30492288047b4ab89c95ee"
      }
     },
     "metadata": {},
     "output_type": "display_data"
    },
    {
     "data": {
      "text/plain": "global:   0%|          | 0/10 [00:00<?, ?it/s]",
      "application/vnd.jupyter.widget-view+json": {
       "version_major": 2,
       "version_minor": 0,
       "model_id": "7ce74bb0e250403aa3aede312f8e9623"
      }
     },
     "metadata": {},
     "output_type": "display_data"
    },
    {
     "name": "stdout",
     "output_type": "stream",
     "text": [
      "[########################################] | 100% Completed | 24.06 s\n",
      "[########################################] | 100% Completed | 24.14 s\n",
      "[########################################] | 100% Completed | 24.19 s\n"
     ]
    },
    {
     "data": {
      "text/plain": "                                                    path  \\\n0      D:\\data\\images\\CityPorn\\thumbnail\\4emw5uldib9a...   \n1      D:\\data\\images\\AmIhotAF\\thumbnail\\4xyb1vgbjb9a...   \n2      D:\\data\\images\\greentext\\thumbnail\\3mewbe0wjb9...   \n3      /data/images/spaceporn/thumbnail/7s5aafaqkb9a1...   \n4      /data/images/spaceporn/thumbnail/abojw7lqlb9a1...   \n...                                                  ...   \n19763  D:\\data\\images\\itookapicture\\thumbnail\\f9c5e68...   \n19764  D:\\data\\images\\itookapicture\\thumbnail\\a37c752...   \n19765  D:\\data\\images\\itookapicture\\thumbnail\\53f99cb...   \n19766  D:\\data\\images\\itookapicture\\thumbnail\\9d5acf1...   \n19767  D:\\data\\images\\itookapicture\\thumbnail\\aa650c7...   \n\n                                 image_name  \\\n0                         4emw5uldib9a1.jpg   \n1                         4xyb1vgbjb9a1.jpg   \n2                         3mewbe0wjb9a1.jpg   \n3                         7s5aafaqkb9a1.jpg   \n4                         abojw7lqlb9a1.jpg   \n...                                     ...   \n19763  f9c5e68a2e6082b0827469253807647e.jpg   \n19764  a37c752a3ecdd654cd402280b0a3de7f.jpg   \n19765  53f99cb828e71b8a3172fea41d1f2259.jpg   \n19766  9d5acf1a16798238d606fc3646d16f75.jpg   \n19767  aa650c79d5b82c9121c902140aff9202.jpg   \n\n                                                 caption  \\\n0      cars are parked on the side of the road in the...   \n1      blonde woman with blonde hair and tattoos on h...   \n2      a man with a beard and a beard sitting in fron...   \n3      a view of a view of a large green and purple a...   \n4      a scene of a boat is sitting on the shore of a...   \n...                                                  ...   \n19763  there is a man in a black hat and a baseball c...   \n19764  a close up of a large bird with its wings open...   \n19765  a close up of a black cat sitting on a window ...   \n19766     a close up of a candle lit up in a candlelight   \n19767      a close up of a tree with orange leaves on it   \n\n                                                   title      subreddit  \\\n0                                    New York in the fog       CityPorn   \n1                         Just looking for entertainment       AmIhotAF   \n2                                    Anon wants Elon cut      greentext   \n3                          Northern Lights above Lofoten      spaceporn   \n4                                          Viking Lights      spaceporn   \n...                                                  ...            ...   \n19763  ITAP - Of coach teaching young men to stand st...  itookapicture   \n19764       ITAP of a Turkey Vulture spreading its wings  itookapicture   \n19765           ITAP of my cat looking out of the window  itookapicture   \n19766                       ITAP of an empty beer bottle  itookapicture   \n19767                      ITAP of fall leaves on a tree  itookapicture   \n\n                  name                                         image_data  \n0        CityDiffusion  b'\\xff\\xd8\\xff\\xe0\\x00\\x10JFIF\\x00\\x01\\x01\\x00...  \n1        SexyDiffusion  b'\\xff\\xd8\\xff\\xe0\\x00\\x10JFIF\\x00\\x01\\x01\\x00...  \n2                       b'\\xff\\xd8\\xff\\xe0\\x00\\x10JFIF\\x00\\x01\\x01\\x00...  \n3      CosmicDiffusion  b'\\xff\\xd8\\xff\\xe0\\x00\\x10JFIF\\x00\\x01\\x01\\x00...  \n4      CosmicDiffusion  b'\\xff\\xd8\\xff\\xe0\\x00\\x10JFIF\\x00\\x01\\x01\\x00...  \n...                ...                                                ...  \n19763    ITAPDiffusion  b'\\xff\\xd8\\xff\\xe0\\x00\\x10JFIF\\x00\\x01\\x01\\x00...  \n19764    ITAPDiffusion  b'\\xff\\xd8\\xff\\xe0\\x00\\x10JFIF\\x00\\x01\\x01\\x00...  \n19765    ITAPDiffusion  b'\\xff\\xd8\\xff\\xe0\\x00\\x10JFIF\\x00\\x01\\x01\\x00...  \n19766    ITAPDiffusion  b'\\xff\\xd8\\xff\\xe0\\x00\\x10JFIF\\x00\\x01\\x01\\x00...  \n19767    ITAPDiffusion  b'\\xff\\xd8\\xff\\xe0\\x00\\x10JFIF\\x00\\x01\\x01\\x00...  \n\n[19768 rows x 7 columns]",
      "text/html": "<div>\n<style scoped>\n    .dataframe tbody tr th:only-of-type {\n        vertical-align: middle;\n    }\n\n    .dataframe tbody tr th {\n        vertical-align: top;\n    }\n\n    .dataframe thead th {\n        text-align: right;\n    }\n</style>\n<table border=\"1\" class=\"dataframe\">\n  <thead>\n    <tr style=\"text-align: right;\">\n      <th></th>\n      <th>path</th>\n      <th>image_name</th>\n      <th>caption</th>\n      <th>title</th>\n      <th>subreddit</th>\n      <th>name</th>\n      <th>image_data</th>\n    </tr>\n  </thead>\n  <tbody>\n    <tr>\n      <th>0</th>\n      <td>D:\\data\\images\\CityPorn\\thumbnail\\4emw5uldib9a...</td>\n      <td>4emw5uldib9a1.jpg</td>\n      <td>cars are parked on the side of the road in the...</td>\n      <td>New York in the fog</td>\n      <td>CityPorn</td>\n      <td>CityDiffusion</td>\n      <td>b'\\xff\\xd8\\xff\\xe0\\x00\\x10JFIF\\x00\\x01\\x01\\x00...</td>\n    </tr>\n    <tr>\n      <th>1</th>\n      <td>D:\\data\\images\\AmIhotAF\\thumbnail\\4xyb1vgbjb9a...</td>\n      <td>4xyb1vgbjb9a1.jpg</td>\n      <td>blonde woman with blonde hair and tattoos on h...</td>\n      <td>Just looking for entertainment</td>\n      <td>AmIhotAF</td>\n      <td>SexyDiffusion</td>\n      <td>b'\\xff\\xd8\\xff\\xe0\\x00\\x10JFIF\\x00\\x01\\x01\\x00...</td>\n    </tr>\n    <tr>\n      <th>2</th>\n      <td>D:\\data\\images\\greentext\\thumbnail\\3mewbe0wjb9...</td>\n      <td>3mewbe0wjb9a1.jpg</td>\n      <td>a man with a beard and a beard sitting in fron...</td>\n      <td>Anon wants Elon cut</td>\n      <td>greentext</td>\n      <td></td>\n      <td>b'\\xff\\xd8\\xff\\xe0\\x00\\x10JFIF\\x00\\x01\\x01\\x00...</td>\n    </tr>\n    <tr>\n      <th>3</th>\n      <td>/data/images/spaceporn/thumbnail/7s5aafaqkb9a1...</td>\n      <td>7s5aafaqkb9a1.jpg</td>\n      <td>a view of a view of a large green and purple a...</td>\n      <td>Northern Lights above Lofoten</td>\n      <td>spaceporn</td>\n      <td>CosmicDiffusion</td>\n      <td>b'\\xff\\xd8\\xff\\xe0\\x00\\x10JFIF\\x00\\x01\\x01\\x00...</td>\n    </tr>\n    <tr>\n      <th>4</th>\n      <td>/data/images/spaceporn/thumbnail/abojw7lqlb9a1...</td>\n      <td>abojw7lqlb9a1.jpg</td>\n      <td>a scene of a boat is sitting on the shore of a...</td>\n      <td>Viking Lights</td>\n      <td>spaceporn</td>\n      <td>CosmicDiffusion</td>\n      <td>b'\\xff\\xd8\\xff\\xe0\\x00\\x10JFIF\\x00\\x01\\x01\\x00...</td>\n    </tr>\n    <tr>\n      <th>...</th>\n      <td>...</td>\n      <td>...</td>\n      <td>...</td>\n      <td>...</td>\n      <td>...</td>\n      <td>...</td>\n      <td>...</td>\n    </tr>\n    <tr>\n      <th>19763</th>\n      <td>D:\\data\\images\\itookapicture\\thumbnail\\f9c5e68...</td>\n      <td>f9c5e68a2e6082b0827469253807647e.jpg</td>\n      <td>there is a man in a black hat and a baseball c...</td>\n      <td>ITAP - Of coach teaching young men to stand st...</td>\n      <td>itookapicture</td>\n      <td>ITAPDiffusion</td>\n      <td>b'\\xff\\xd8\\xff\\xe0\\x00\\x10JFIF\\x00\\x01\\x01\\x00...</td>\n    </tr>\n    <tr>\n      <th>19764</th>\n      <td>D:\\data\\images\\itookapicture\\thumbnail\\a37c752...</td>\n      <td>a37c752a3ecdd654cd402280b0a3de7f.jpg</td>\n      <td>a close up of a large bird with its wings open...</td>\n      <td>ITAP of a Turkey Vulture spreading its wings</td>\n      <td>itookapicture</td>\n      <td>ITAPDiffusion</td>\n      <td>b'\\xff\\xd8\\xff\\xe0\\x00\\x10JFIF\\x00\\x01\\x01\\x00...</td>\n    </tr>\n    <tr>\n      <th>19765</th>\n      <td>D:\\data\\images\\itookapicture\\thumbnail\\53f99cb...</td>\n      <td>53f99cb828e71b8a3172fea41d1f2259.jpg</td>\n      <td>a close up of a black cat sitting on a window ...</td>\n      <td>ITAP of my cat looking out of the window</td>\n      <td>itookapicture</td>\n      <td>ITAPDiffusion</td>\n      <td>b'\\xff\\xd8\\xff\\xe0\\x00\\x10JFIF\\x00\\x01\\x01\\x00...</td>\n    </tr>\n    <tr>\n      <th>19766</th>\n      <td>D:\\data\\images\\itookapicture\\thumbnail\\9d5acf1...</td>\n      <td>9d5acf1a16798238d606fc3646d16f75.jpg</td>\n      <td>a close up of a candle lit up in a candlelight</td>\n      <td>ITAP of an empty beer bottle</td>\n      <td>itookapicture</td>\n      <td>ITAPDiffusion</td>\n      <td>b'\\xff\\xd8\\xff\\xe0\\x00\\x10JFIF\\x00\\x01\\x01\\x00...</td>\n    </tr>\n    <tr>\n      <th>19767</th>\n      <td>D:\\data\\images\\itookapicture\\thumbnail\\aa650c7...</td>\n      <td>aa650c79d5b82c9121c902140aff9202.jpg</td>\n      <td>a close up of a tree with orange leaves on it</td>\n      <td>ITAP of fall leaves on a tree</td>\n      <td>itookapicture</td>\n      <td>ITAPDiffusion</td>\n      <td>b'\\xff\\xd8\\xff\\xe0\\x00\\x10JFIF\\x00\\x01\\x01\\x00...</td>\n    </tr>\n  </tbody>\n</table>\n<p>19768 rows × 7 columns</p>\n</div>"
     },
     "metadata": {},
     "output_type": "display_data"
    },
    {
     "name": "stdout",
     "output_type": "stream",
     "text": [
      "CPU times: total: 21.9 s\n",
      "Wall time: 25 s\n"
     ]
    }
   ],
   "source": [
    "%%time\n",
    "\n",
    "with cb:\n",
    "\tdask_frame = dd.from_pandas(smaller_exportable_df, npartitions=10)\n",
    "\tsmaller_exportable_df['image_data'] = dask_frame.apply(lambda x: add_compressed_data(x), meta=('str', object), axis=1).compute()\n",
    "\n",
    "display(smaller_exportable_df)"
   ],
   "metadata": {
    "collapsed": false
   }
  },
  {
   "cell_type": "code",
   "execution_count": 29,
   "outputs": [
    {
     "data": {
      "text/plain": "                                                    path  \\\n0      D:\\data\\images\\CityPorn\\thumbnail\\4emw5uldib9a...   \n1      D:\\data\\images\\AmIhotAF\\thumbnail\\4xyb1vgbjb9a...   \n2      /data/images/spaceporn/thumbnail/7s5aafaqkb9a1...   \n3      /data/images/spaceporn/thumbnail/abojw7lqlb9a1...   \n4      D:\\data\\images\\sfwpetite\\thumbnail\\v3ra9g4vrb9...   \n...                                                  ...   \n17736  D:\\data\\images\\itookapicture\\thumbnail\\f9c5e68...   \n17737  D:\\data\\images\\itookapicture\\thumbnail\\a37c752...   \n17738  D:\\data\\images\\itookapicture\\thumbnail\\53f99cb...   \n17739  D:\\data\\images\\itookapicture\\thumbnail\\9d5acf1...   \n17740  D:\\data\\images\\itookapicture\\thumbnail\\aa650c7...   \n\n                                 image_name  \\\n0                         4emw5uldib9a1.jpg   \n1                         4xyb1vgbjb9a1.jpg   \n2                         7s5aafaqkb9a1.jpg   \n3                         abojw7lqlb9a1.jpg   \n4                         v3ra9g4vrb9a1.jpg   \n...                                     ...   \n17736  f9c5e68a2e6082b0827469253807647e.jpg   \n17737  a37c752a3ecdd654cd402280b0a3de7f.jpg   \n17738  53f99cb828e71b8a3172fea41d1f2259.jpg   \n17739  9d5acf1a16798238d606fc3646d16f75.jpg   \n17740  aa650c79d5b82c9121c902140aff9202.jpg   \n\n                                                 caption  \\\n0      cars are parked on the side of the road in the...   \n1      blonde woman with blonde hair and tattoos on h...   \n2      a view of a view of a large green and purple a...   \n3      a scene of a boat is sitting on the shore of a...   \n4      blonde haired woman in a bikini top and bikini...   \n...                                                  ...   \n17736  there is a man in a black hat and a baseball c...   \n17737  a close up of a large bird with its wings open...   \n17738  a close up of a black cat sitting on a window ...   \n17739     a close up of a candle lit up in a candlelight   \n17740      a close up of a tree with orange leaves on it   \n\n                                                   title      subreddit  \\\n0                                    New York in the fog       CityPorn   \n1                         Just looking for entertainment       AmIhotAF   \n2                          Northern Lights above Lofoten      spaceporn   \n3                                          Viking Lights      spaceporn   \n4                                                 Braids      sfwpetite   \n...                                                  ...            ...   \n17736  ITAP - Of coach teaching young men to stand st...  itookapicture   \n17737       ITAP of a Turkey Vulture spreading its wings  itookapicture   \n17738           ITAP of my cat looking out of the window  itookapicture   \n17739                       ITAP of an empty beer bottle  itookapicture   \n17740                      ITAP of fall leaves on a tree  itookapicture   \n\n                  name                                         image_data  \n0        CityDiffusion  b'\\xff\\xd8\\xff\\xe0\\x00\\x10JFIF\\x00\\x01\\x01\\x00...  \n1        SexyDiffusion  b'\\xff\\xd8\\xff\\xe0\\x00\\x10JFIF\\x00\\x01\\x01\\x00...  \n2      CosmicDiffusion  b'\\xff\\xd8\\xff\\xe0\\x00\\x10JFIF\\x00\\x01\\x01\\x00...  \n3      CosmicDiffusion  b'\\xff\\xd8\\xff\\xe0\\x00\\x10JFIF\\x00\\x01\\x01\\x00...  \n4        SexyDiffusion  b'\\xff\\xd8\\xff\\xe0\\x00\\x10JFIF\\x00\\x01\\x01\\x00...  \n...                ...                                                ...  \n17736    ITAPDiffusion  b'\\xff\\xd8\\xff\\xe0\\x00\\x10JFIF\\x00\\x01\\x01\\x00...  \n17737    ITAPDiffusion  b'\\xff\\xd8\\xff\\xe0\\x00\\x10JFIF\\x00\\x01\\x01\\x00...  \n17738    ITAPDiffusion  b'\\xff\\xd8\\xff\\xe0\\x00\\x10JFIF\\x00\\x01\\x01\\x00...  \n17739    ITAPDiffusion  b'\\xff\\xd8\\xff\\xe0\\x00\\x10JFIF\\x00\\x01\\x01\\x00...  \n17740    ITAPDiffusion  b'\\xff\\xd8\\xff\\xe0\\x00\\x10JFIF\\x00\\x01\\x01\\x00...  \n\n[17741 rows x 7 columns]",
      "text/html": "<div>\n<style scoped>\n    .dataframe tbody tr th:only-of-type {\n        vertical-align: middle;\n    }\n\n    .dataframe tbody tr th {\n        vertical-align: top;\n    }\n\n    .dataframe thead th {\n        text-align: right;\n    }\n</style>\n<table border=\"1\" class=\"dataframe\">\n  <thead>\n    <tr style=\"text-align: right;\">\n      <th></th>\n      <th>path</th>\n      <th>image_name</th>\n      <th>caption</th>\n      <th>title</th>\n      <th>subreddit</th>\n      <th>name</th>\n      <th>image_data</th>\n    </tr>\n  </thead>\n  <tbody>\n    <tr>\n      <th>0</th>\n      <td>D:\\data\\images\\CityPorn\\thumbnail\\4emw5uldib9a...</td>\n      <td>4emw5uldib9a1.jpg</td>\n      <td>cars are parked on the side of the road in the...</td>\n      <td>New York in the fog</td>\n      <td>CityPorn</td>\n      <td>CityDiffusion</td>\n      <td>b'\\xff\\xd8\\xff\\xe0\\x00\\x10JFIF\\x00\\x01\\x01\\x00...</td>\n    </tr>\n    <tr>\n      <th>1</th>\n      <td>D:\\data\\images\\AmIhotAF\\thumbnail\\4xyb1vgbjb9a...</td>\n      <td>4xyb1vgbjb9a1.jpg</td>\n      <td>blonde woman with blonde hair and tattoos on h...</td>\n      <td>Just looking for entertainment</td>\n      <td>AmIhotAF</td>\n      <td>SexyDiffusion</td>\n      <td>b'\\xff\\xd8\\xff\\xe0\\x00\\x10JFIF\\x00\\x01\\x01\\x00...</td>\n    </tr>\n    <tr>\n      <th>2</th>\n      <td>/data/images/spaceporn/thumbnail/7s5aafaqkb9a1...</td>\n      <td>7s5aafaqkb9a1.jpg</td>\n      <td>a view of a view of a large green and purple a...</td>\n      <td>Northern Lights above Lofoten</td>\n      <td>spaceporn</td>\n      <td>CosmicDiffusion</td>\n      <td>b'\\xff\\xd8\\xff\\xe0\\x00\\x10JFIF\\x00\\x01\\x01\\x00...</td>\n    </tr>\n    <tr>\n      <th>3</th>\n      <td>/data/images/spaceporn/thumbnail/abojw7lqlb9a1...</td>\n      <td>abojw7lqlb9a1.jpg</td>\n      <td>a scene of a boat is sitting on the shore of a...</td>\n      <td>Viking Lights</td>\n      <td>spaceporn</td>\n      <td>CosmicDiffusion</td>\n      <td>b'\\xff\\xd8\\xff\\xe0\\x00\\x10JFIF\\x00\\x01\\x01\\x00...</td>\n    </tr>\n    <tr>\n      <th>4</th>\n      <td>D:\\data\\images\\sfwpetite\\thumbnail\\v3ra9g4vrb9...</td>\n      <td>v3ra9g4vrb9a1.jpg</td>\n      <td>blonde haired woman in a bikini top and bikini...</td>\n      <td>Braids</td>\n      <td>sfwpetite</td>\n      <td>SexyDiffusion</td>\n      <td>b'\\xff\\xd8\\xff\\xe0\\x00\\x10JFIF\\x00\\x01\\x01\\x00...</td>\n    </tr>\n    <tr>\n      <th>...</th>\n      <td>...</td>\n      <td>...</td>\n      <td>...</td>\n      <td>...</td>\n      <td>...</td>\n      <td>...</td>\n      <td>...</td>\n    </tr>\n    <tr>\n      <th>17736</th>\n      <td>D:\\data\\images\\itookapicture\\thumbnail\\f9c5e68...</td>\n      <td>f9c5e68a2e6082b0827469253807647e.jpg</td>\n      <td>there is a man in a black hat and a baseball c...</td>\n      <td>ITAP - Of coach teaching young men to stand st...</td>\n      <td>itookapicture</td>\n      <td>ITAPDiffusion</td>\n      <td>b'\\xff\\xd8\\xff\\xe0\\x00\\x10JFIF\\x00\\x01\\x01\\x00...</td>\n    </tr>\n    <tr>\n      <th>17737</th>\n      <td>D:\\data\\images\\itookapicture\\thumbnail\\a37c752...</td>\n      <td>a37c752a3ecdd654cd402280b0a3de7f.jpg</td>\n      <td>a close up of a large bird with its wings open...</td>\n      <td>ITAP of a Turkey Vulture spreading its wings</td>\n      <td>itookapicture</td>\n      <td>ITAPDiffusion</td>\n      <td>b'\\xff\\xd8\\xff\\xe0\\x00\\x10JFIF\\x00\\x01\\x01\\x00...</td>\n    </tr>\n    <tr>\n      <th>17738</th>\n      <td>D:\\data\\images\\itookapicture\\thumbnail\\53f99cb...</td>\n      <td>53f99cb828e71b8a3172fea41d1f2259.jpg</td>\n      <td>a close up of a black cat sitting on a window ...</td>\n      <td>ITAP of my cat looking out of the window</td>\n      <td>itookapicture</td>\n      <td>ITAPDiffusion</td>\n      <td>b'\\xff\\xd8\\xff\\xe0\\x00\\x10JFIF\\x00\\x01\\x01\\x00...</td>\n    </tr>\n    <tr>\n      <th>17739</th>\n      <td>D:\\data\\images\\itookapicture\\thumbnail\\9d5acf1...</td>\n      <td>9d5acf1a16798238d606fc3646d16f75.jpg</td>\n      <td>a close up of a candle lit up in a candlelight</td>\n      <td>ITAP of an empty beer bottle</td>\n      <td>itookapicture</td>\n      <td>ITAPDiffusion</td>\n      <td>b'\\xff\\xd8\\xff\\xe0\\x00\\x10JFIF\\x00\\x01\\x01\\x00...</td>\n    </tr>\n    <tr>\n      <th>17740</th>\n      <td>D:\\data\\images\\itookapicture\\thumbnail\\aa650c7...</td>\n      <td>aa650c79d5b82c9121c902140aff9202.jpg</td>\n      <td>a close up of a tree with orange leaves on it</td>\n      <td>ITAP of fall leaves on a tree</td>\n      <td>itookapicture</td>\n      <td>ITAPDiffusion</td>\n      <td>b'\\xff\\xd8\\xff\\xe0\\x00\\x10JFIF\\x00\\x01\\x01\\x00...</td>\n    </tr>\n  </tbody>\n</table>\n<p>17741 rows × 7 columns</p>\n</div>"
     },
     "metadata": {},
     "output_type": "display_data"
    },
    {
     "name": "stdout",
     "output_type": "stream",
     "text": [
      "CPU times: total: 422 ms\n",
      "Wall time: 439 ms\n"
     ]
    }
   ],
   "source": [
    "%%time\n",
    "\n",
    "filtered_again = smaller_exportable_df.where(lambda x: x['image_data'] != \"\").dropna(how='all').reset_index(drop=True)\n",
    "filtered_again = filtered_again.where(lambda x: x['name'] != \"\").dropna(how='all').reset_index(drop=True)\n",
    "display(filtered_again)"
   ],
   "metadata": {
    "collapsed": false
   }
  },
  {
   "cell_type": "code",
   "execution_count": 30,
   "outputs": [
    {
     "data": {
      "text/plain": "                                                    path  \\\n0      D:\\data\\images\\CityPorn\\thumbnail\\4emw5uldib9a...   \n1      D:\\data\\images\\AmIhotAF\\thumbnail\\4xyb1vgbjb9a...   \n2      /data/images/spaceporn/thumbnail/7s5aafaqkb9a1...   \n3      /data/images/spaceporn/thumbnail/abojw7lqlb9a1...   \n4      D:\\data\\images\\sfwpetite\\thumbnail\\v3ra9g4vrb9...   \n...                                                  ...   \n17736  D:\\data\\images\\itookapicture\\thumbnail\\f9c5e68...   \n17737  D:\\data\\images\\itookapicture\\thumbnail\\a37c752...   \n17738  D:\\data\\images\\itookapicture\\thumbnail\\53f99cb...   \n17739  D:\\data\\images\\itookapicture\\thumbnail\\9d5acf1...   \n17740  D:\\data\\images\\itookapicture\\thumbnail\\aa650c7...   \n\n                                 image_name  \\\n0                         4emw5uldib9a1.jpg   \n1                         4xyb1vgbjb9a1.jpg   \n2                         7s5aafaqkb9a1.jpg   \n3                         abojw7lqlb9a1.jpg   \n4                         v3ra9g4vrb9a1.jpg   \n...                                     ...   \n17736  f9c5e68a2e6082b0827469253807647e.jpg   \n17737  a37c752a3ecdd654cd402280b0a3de7f.jpg   \n17738  53f99cb828e71b8a3172fea41d1f2259.jpg   \n17739  9d5acf1a16798238d606fc3646d16f75.jpg   \n17740  aa650c79d5b82c9121c902140aff9202.jpg   \n\n                                                 caption  \\\n0      cars are parked on the side of the road in the...   \n1      blonde woman with blonde hair and tattoos on h...   \n2      a view of a view of a large green and purple a...   \n3      a scene of a boat is sitting on the shore of a...   \n4      blonde haired woman in a bikini top and bikini...   \n...                                                  ...   \n17736  there is a man in a black hat and a baseball c...   \n17737  a close up of a large bird with its wings open...   \n17738  a close up of a black cat sitting on a window ...   \n17739     a close up of a candle lit up in a candlelight   \n17740      a close up of a tree with orange leaves on it   \n\n                                                   title      subreddit  \\\n0                                    New York in the fog       CityPorn   \n1                         Just looking for entertainment       AmIhotAF   \n2                          Northern Lights above Lofoten      spaceporn   \n3                                          Viking Lights      spaceporn   \n4                                                 Braids      sfwpetite   \n...                                                  ...            ...   \n17736  ITAP - Of coach teaching young men to stand st...  itookapicture   \n17737       ITAP of a Turkey Vulture spreading its wings  itookapicture   \n17738           ITAP of my cat looking out of the window  itookapicture   \n17739                       ITAP of an empty beer bottle  itookapicture   \n17740                      ITAP of fall leaves on a tree  itookapicture   \n\n                  name                                         image_data  \n0        CityDiffusion  b'\\xff\\xd8\\xff\\xe0\\x00\\x10JFIF\\x00\\x01\\x01\\x00...  \n1        SexyDiffusion  b'\\xff\\xd8\\xff\\xe0\\x00\\x10JFIF\\x00\\x01\\x01\\x00...  \n2      CosmicDiffusion  b'\\xff\\xd8\\xff\\xe0\\x00\\x10JFIF\\x00\\x01\\x01\\x00...  \n3      CosmicDiffusion  b'\\xff\\xd8\\xff\\xe0\\x00\\x10JFIF\\x00\\x01\\x01\\x00...  \n4        SexyDiffusion  b'\\xff\\xd8\\xff\\xe0\\x00\\x10JFIF\\x00\\x01\\x01\\x00...  \n...                ...                                                ...  \n17736    ITAPDiffusion  b'\\xff\\xd8\\xff\\xe0\\x00\\x10JFIF\\x00\\x01\\x01\\x00...  \n17737    ITAPDiffusion  b'\\xff\\xd8\\xff\\xe0\\x00\\x10JFIF\\x00\\x01\\x01\\x00...  \n17738    ITAPDiffusion  b'\\xff\\xd8\\xff\\xe0\\x00\\x10JFIF\\x00\\x01\\x01\\x00...  \n17739    ITAPDiffusion  b'\\xff\\xd8\\xff\\xe0\\x00\\x10JFIF\\x00\\x01\\x01\\x00...  \n17740    ITAPDiffusion  b'\\xff\\xd8\\xff\\xe0\\x00\\x10JFIF\\x00\\x01\\x01\\x00...  \n\n[17741 rows x 7 columns]",
      "text/html": "<div>\n<style scoped>\n    .dataframe tbody tr th:only-of-type {\n        vertical-align: middle;\n    }\n\n    .dataframe tbody tr th {\n        vertical-align: top;\n    }\n\n    .dataframe thead th {\n        text-align: right;\n    }\n</style>\n<table border=\"1\" class=\"dataframe\">\n  <thead>\n    <tr style=\"text-align: right;\">\n      <th></th>\n      <th>path</th>\n      <th>image_name</th>\n      <th>caption</th>\n      <th>title</th>\n      <th>subreddit</th>\n      <th>name</th>\n      <th>image_data</th>\n    </tr>\n  </thead>\n  <tbody>\n    <tr>\n      <th>0</th>\n      <td>D:\\data\\images\\CityPorn\\thumbnail\\4emw5uldib9a...</td>\n      <td>4emw5uldib9a1.jpg</td>\n      <td>cars are parked on the side of the road in the...</td>\n      <td>New York in the fog</td>\n      <td>CityPorn</td>\n      <td>CityDiffusion</td>\n      <td>b'\\xff\\xd8\\xff\\xe0\\x00\\x10JFIF\\x00\\x01\\x01\\x00...</td>\n    </tr>\n    <tr>\n      <th>1</th>\n      <td>D:\\data\\images\\AmIhotAF\\thumbnail\\4xyb1vgbjb9a...</td>\n      <td>4xyb1vgbjb9a1.jpg</td>\n      <td>blonde woman with blonde hair and tattoos on h...</td>\n      <td>Just looking for entertainment</td>\n      <td>AmIhotAF</td>\n      <td>SexyDiffusion</td>\n      <td>b'\\xff\\xd8\\xff\\xe0\\x00\\x10JFIF\\x00\\x01\\x01\\x00...</td>\n    </tr>\n    <tr>\n      <th>2</th>\n      <td>/data/images/spaceporn/thumbnail/7s5aafaqkb9a1...</td>\n      <td>7s5aafaqkb9a1.jpg</td>\n      <td>a view of a view of a large green and purple a...</td>\n      <td>Northern Lights above Lofoten</td>\n      <td>spaceporn</td>\n      <td>CosmicDiffusion</td>\n      <td>b'\\xff\\xd8\\xff\\xe0\\x00\\x10JFIF\\x00\\x01\\x01\\x00...</td>\n    </tr>\n    <tr>\n      <th>3</th>\n      <td>/data/images/spaceporn/thumbnail/abojw7lqlb9a1...</td>\n      <td>abojw7lqlb9a1.jpg</td>\n      <td>a scene of a boat is sitting on the shore of a...</td>\n      <td>Viking Lights</td>\n      <td>spaceporn</td>\n      <td>CosmicDiffusion</td>\n      <td>b'\\xff\\xd8\\xff\\xe0\\x00\\x10JFIF\\x00\\x01\\x01\\x00...</td>\n    </tr>\n    <tr>\n      <th>4</th>\n      <td>D:\\data\\images\\sfwpetite\\thumbnail\\v3ra9g4vrb9...</td>\n      <td>v3ra9g4vrb9a1.jpg</td>\n      <td>blonde haired woman in a bikini top and bikini...</td>\n      <td>Braids</td>\n      <td>sfwpetite</td>\n      <td>SexyDiffusion</td>\n      <td>b'\\xff\\xd8\\xff\\xe0\\x00\\x10JFIF\\x00\\x01\\x01\\x00...</td>\n    </tr>\n    <tr>\n      <th>...</th>\n      <td>...</td>\n      <td>...</td>\n      <td>...</td>\n      <td>...</td>\n      <td>...</td>\n      <td>...</td>\n      <td>...</td>\n    </tr>\n    <tr>\n      <th>17736</th>\n      <td>D:\\data\\images\\itookapicture\\thumbnail\\f9c5e68...</td>\n      <td>f9c5e68a2e6082b0827469253807647e.jpg</td>\n      <td>there is a man in a black hat and a baseball c...</td>\n      <td>ITAP - Of coach teaching young men to stand st...</td>\n      <td>itookapicture</td>\n      <td>ITAPDiffusion</td>\n      <td>b'\\xff\\xd8\\xff\\xe0\\x00\\x10JFIF\\x00\\x01\\x01\\x00...</td>\n    </tr>\n    <tr>\n      <th>17737</th>\n      <td>D:\\data\\images\\itookapicture\\thumbnail\\a37c752...</td>\n      <td>a37c752a3ecdd654cd402280b0a3de7f.jpg</td>\n      <td>a close up of a large bird with its wings open...</td>\n      <td>ITAP of a Turkey Vulture spreading its wings</td>\n      <td>itookapicture</td>\n      <td>ITAPDiffusion</td>\n      <td>b'\\xff\\xd8\\xff\\xe0\\x00\\x10JFIF\\x00\\x01\\x01\\x00...</td>\n    </tr>\n    <tr>\n      <th>17738</th>\n      <td>D:\\data\\images\\itookapicture\\thumbnail\\53f99cb...</td>\n      <td>53f99cb828e71b8a3172fea41d1f2259.jpg</td>\n      <td>a close up of a black cat sitting on a window ...</td>\n      <td>ITAP of my cat looking out of the window</td>\n      <td>itookapicture</td>\n      <td>ITAPDiffusion</td>\n      <td>b'\\xff\\xd8\\xff\\xe0\\x00\\x10JFIF\\x00\\x01\\x01\\x00...</td>\n    </tr>\n    <tr>\n      <th>17739</th>\n      <td>D:\\data\\images\\itookapicture\\thumbnail\\9d5acf1...</td>\n      <td>9d5acf1a16798238d606fc3646d16f75.jpg</td>\n      <td>a close up of a candle lit up in a candlelight</td>\n      <td>ITAP of an empty beer bottle</td>\n      <td>itookapicture</td>\n      <td>ITAPDiffusion</td>\n      <td>b'\\xff\\xd8\\xff\\xe0\\x00\\x10JFIF\\x00\\x01\\x01\\x00...</td>\n    </tr>\n    <tr>\n      <th>17740</th>\n      <td>D:\\data\\images\\itookapicture\\thumbnail\\aa650c7...</td>\n      <td>aa650c79d5b82c9121c902140aff9202.jpg</td>\n      <td>a close up of a tree with orange leaves on it</td>\n      <td>ITAP of fall leaves on a tree</td>\n      <td>itookapicture</td>\n      <td>ITAPDiffusion</td>\n      <td>b'\\xff\\xd8\\xff\\xe0\\x00\\x10JFIF\\x00\\x01\\x01\\x00...</td>\n    </tr>\n  </tbody>\n</table>\n<p>17741 rows × 7 columns</p>\n</div>"
     },
     "metadata": {},
     "output_type": "display_data"
    },
    {
     "name": "stdout",
     "output_type": "stream",
     "text": [
      "CPU times: total: 10.3 s\n",
      "Wall time: 22.9 s\n"
     ]
    }
   ],
   "source": [
    "%%time\n",
    "\n",
    "final = filtered_again\n",
    "display(final)\n",
    "\n",
    "grouped = final.groupby('name')\n",
    "groupings = [grouped.get_group(x) for x in grouped.groups]\n",
    "\n",
    "for group in groupings:\n",
    "\tgroup.to_parquet(f\"data/curated/{group['name'].iloc[0]}.parquet\")"
   ],
   "metadata": {
    "collapsed": false
   }
  },
  {
   "cell_type": "code",
   "execution_count": 31,
   "outputs": [],
   "source": [
    "lines = []\n",
    "training_lines = []\n",
    "for record in final.to_dict(orient='records'):\n",
    "\tsubreddit = record['subreddit']\n",
    "\tname = record['name']\n",
    "\tprompt = record['title']\n",
    "\tcaption = record['caption']\n",
    "\tline = f\"<|startoftext|><|model|>{name}<|prompt|>{prompt}<|text|>{caption}<|endoftext|>\" + \"\\n\"\n",
    "\tlines.append(line)\n",
    "with open(\"training.txt\", \"wb\") as f:\n",
    "\tfor line in lines:\n",
    "\t\tf.write(line.encode(\"utf-8\"))"
   ],
   "metadata": {
    "collapsed": false
   }
  },
  {
   "cell_type": "code",
   "execution_count": 42,
   "outputs": [
    {
     "data": {
      "text/plain": "                                                    path  \\\n0      D:\\data\\images\\CityPorn\\thumbnail\\4emw5uldib9a...   \n7      D:\\data\\images\\CityPorn\\thumbnail\\slyqoecbzb9a...   \n8      D:\\data\\images\\CityPorn\\thumbnail\\09kuna4hzb9a...   \n13     D:\\data\\images\\CityPorn\\thumbnail\\4y6hzocyec9a...   \n14     D:\\data\\images\\CityPorn\\thumbnail\\8xwnx4dlgc9a...   \n...                                                  ...   \n15863  D:\\data\\images\\trippinthroughtime\\thumbnail\\33...   \n15864  D:\\data\\images\\trippinthroughtime\\thumbnail\\6f...   \n15865  D:\\data\\images\\trippinthroughtime\\thumbnail\\f0...   \n15866  D:\\data\\images\\trippinthroughtime\\thumbnail\\34...   \n15867  D:\\data\\images\\trippinthroughtime\\thumbnail\\34...   \n\n                                 image_name  \\\n0                         4emw5uldib9a1.jpg   \n7                         slyqoecbzb9a1.jpg   \n8                         09kuna4hzb9a1.jpg   \n13                        4y6hzocyec9a1.jpg   \n14                        8xwnx4dlgc9a1.jpg   \n...                                     ...   \n15863  339083838d089fc8fe66c0afea5d7871.jpg   \n15864  6f0b42ae45c3c5a1e3285fe23c5d7295.jpg   \n15865  f040d5fc4198b4ead5a0d275b99533f7.jpg   \n15866  34559f17e64ed6b7933c056b3c3dd635.jpg   \n15867  34f1c2923b049873e19ad73073c7db43.jpg   \n\n                                                 caption  \\\n0      cars are parked on the side of the road in the...   \n7           arafed view of a pier with a pier and a pier   \n8      mountainside view of a town with a flagpole an...   \n13       arafed view of a train on a bridge over a river   \n14     arafed image of a city street scene with peopl...   \n...                                                  ...   \n15863  a painting of a man laying on a horse in a stable   \n15864  a picture taken from a picture of a man with a...   \n15865  a picture taken from a book cover of a woman w...   \n15866     a painting of a painting of a man in a gladion   \n15867  painting of a group of three children in a roo...   \n\n                                                   title           subreddit  \\\n0                                    New York in the fog            CityPorn   \n7                               Pacific Beach California            CityPorn   \n8      Not exactly a city, but Jim Thorpe PA is very ...            CityPorn   \n13                                Wissahickon, Phila, PA            CityPorn   \n14                        2:00am in Nashville, Tennessee            CityPorn   \n...                                                  ...                 ...   \n15863                                He told me \"Neigh!\"  trippinthroughtime   \n15864                      Awww, have a bad dream buddy?  trippinthroughtime   \n15865                    The worst way to start your day  trippinthroughtime   \n15866                    When your rent is too damn high  trippinthroughtime   \n15867  When mom forces you to pray even if you don't ...  trippinthroughtime   \n\n                               name  \\\n0                     CityDiffusion   \n7                     CityDiffusion   \n8                     CityDiffusion   \n13                    CityDiffusion   \n14                    CityDiffusion   \n...                             ...   \n15863  TrippingThroughTimeDiffusion   \n15864  TrippingThroughTimeDiffusion   \n15865  TrippingThroughTimeDiffusion   \n15866  TrippingThroughTimeDiffusion   \n15867  TrippingThroughTimeDiffusion   \n\n                                              image_data  \n0      b'\\xff\\xd8\\xff\\xe0\\x00\\x10JFIF\\x00\\x01\\x01\\x00...  \n7      b'\\xff\\xd8\\xff\\xe0\\x00\\x10JFIF\\x00\\x01\\x01\\x00...  \n8      b'\\xff\\xd8\\xff\\xe0\\x00\\x10JFIF\\x00\\x01\\x01\\x00...  \n13     b'\\xff\\xd8\\xff\\xe0\\x00\\x10JFIF\\x00\\x01\\x01\\x00...  \n14     b'\\xff\\xd8\\xff\\xe0\\x00\\x10JFIF\\x00\\x01\\x01\\x00...  \n...                                                  ...  \n15863  b'\\xff\\xd8\\xff\\xe0\\x00\\x10JFIF\\x00\\x01\\x01\\x00...  \n15864  b'\\xff\\xd8\\xff\\xe0\\x00\\x10JFIF\\x00\\x01\\x01\\x00...  \n15865  b'\\xff\\xd8\\xff\\xe0\\x00\\x10JFIF\\x00\\x01\\x01\\x00...  \n15866  b'\\xff\\xd8\\xff\\xe0\\x00\\x10JFIF\\x00\\x01\\x01\\x00...  \n15867  b'\\xff\\xd8\\xff\\xe0\\x00\\x10JFIF\\x00\\x01\\x01\\x00...  \n\n[18307 rows x 7 columns]",
      "text/html": "<div>\n<style scoped>\n    .dataframe tbody tr th:only-of-type {\n        vertical-align: middle;\n    }\n\n    .dataframe tbody tr th {\n        vertical-align: top;\n    }\n\n    .dataframe thead th {\n        text-align: right;\n    }\n</style>\n<table border=\"1\" class=\"dataframe\">\n  <thead>\n    <tr style=\"text-align: right;\">\n      <th></th>\n      <th>path</th>\n      <th>image_name</th>\n      <th>caption</th>\n      <th>title</th>\n      <th>subreddit</th>\n      <th>name</th>\n      <th>image_data</th>\n    </tr>\n  </thead>\n  <tbody>\n    <tr>\n      <th>0</th>\n      <td>D:\\data\\images\\CityPorn\\thumbnail\\4emw5uldib9a...</td>\n      <td>4emw5uldib9a1.jpg</td>\n      <td>cars are parked on the side of the road in the...</td>\n      <td>New York in the fog</td>\n      <td>CityPorn</td>\n      <td>CityDiffusion</td>\n      <td>b'\\xff\\xd8\\xff\\xe0\\x00\\x10JFIF\\x00\\x01\\x01\\x00...</td>\n    </tr>\n    <tr>\n      <th>7</th>\n      <td>D:\\data\\images\\CityPorn\\thumbnail\\slyqoecbzb9a...</td>\n      <td>slyqoecbzb9a1.jpg</td>\n      <td>arafed view of a pier with a pier and a pier</td>\n      <td>Pacific Beach California</td>\n      <td>CityPorn</td>\n      <td>CityDiffusion</td>\n      <td>b'\\xff\\xd8\\xff\\xe0\\x00\\x10JFIF\\x00\\x01\\x01\\x00...</td>\n    </tr>\n    <tr>\n      <th>8</th>\n      <td>D:\\data\\images\\CityPorn\\thumbnail\\09kuna4hzb9a...</td>\n      <td>09kuna4hzb9a1.jpg</td>\n      <td>mountainside view of a town with a flagpole an...</td>\n      <td>Not exactly a city, but Jim Thorpe PA is very ...</td>\n      <td>CityPorn</td>\n      <td>CityDiffusion</td>\n      <td>b'\\xff\\xd8\\xff\\xe0\\x00\\x10JFIF\\x00\\x01\\x01\\x00...</td>\n    </tr>\n    <tr>\n      <th>13</th>\n      <td>D:\\data\\images\\CityPorn\\thumbnail\\4y6hzocyec9a...</td>\n      <td>4y6hzocyec9a1.jpg</td>\n      <td>arafed view of a train on a bridge over a river</td>\n      <td>Wissahickon, Phila, PA</td>\n      <td>CityPorn</td>\n      <td>CityDiffusion</td>\n      <td>b'\\xff\\xd8\\xff\\xe0\\x00\\x10JFIF\\x00\\x01\\x01\\x00...</td>\n    </tr>\n    <tr>\n      <th>14</th>\n      <td>D:\\data\\images\\CityPorn\\thumbnail\\8xwnx4dlgc9a...</td>\n      <td>8xwnx4dlgc9a1.jpg</td>\n      <td>arafed image of a city street scene with peopl...</td>\n      <td>2:00am in Nashville, Tennessee</td>\n      <td>CityPorn</td>\n      <td>CityDiffusion</td>\n      <td>b'\\xff\\xd8\\xff\\xe0\\x00\\x10JFIF\\x00\\x01\\x01\\x00...</td>\n    </tr>\n    <tr>\n      <th>...</th>\n      <td>...</td>\n      <td>...</td>\n      <td>...</td>\n      <td>...</td>\n      <td>...</td>\n      <td>...</td>\n      <td>...</td>\n    </tr>\n    <tr>\n      <th>15863</th>\n      <td>D:\\data\\images\\trippinthroughtime\\thumbnail\\33...</td>\n      <td>339083838d089fc8fe66c0afea5d7871.jpg</td>\n      <td>a painting of a man laying on a horse in a stable</td>\n      <td>He told me \"Neigh!\"</td>\n      <td>trippinthroughtime</td>\n      <td>TrippingThroughTimeDiffusion</td>\n      <td>b'\\xff\\xd8\\xff\\xe0\\x00\\x10JFIF\\x00\\x01\\x01\\x00...</td>\n    </tr>\n    <tr>\n      <th>15864</th>\n      <td>D:\\data\\images\\trippinthroughtime\\thumbnail\\6f...</td>\n      <td>6f0b42ae45c3c5a1e3285fe23c5d7295.jpg</td>\n      <td>a picture taken from a picture of a man with a...</td>\n      <td>Awww, have a bad dream buddy?</td>\n      <td>trippinthroughtime</td>\n      <td>TrippingThroughTimeDiffusion</td>\n      <td>b'\\xff\\xd8\\xff\\xe0\\x00\\x10JFIF\\x00\\x01\\x01\\x00...</td>\n    </tr>\n    <tr>\n      <th>15865</th>\n      <td>D:\\data\\images\\trippinthroughtime\\thumbnail\\f0...</td>\n      <td>f040d5fc4198b4ead5a0d275b99533f7.jpg</td>\n      <td>a picture taken from a book cover of a woman w...</td>\n      <td>The worst way to start your day</td>\n      <td>trippinthroughtime</td>\n      <td>TrippingThroughTimeDiffusion</td>\n      <td>b'\\xff\\xd8\\xff\\xe0\\x00\\x10JFIF\\x00\\x01\\x01\\x00...</td>\n    </tr>\n    <tr>\n      <th>15866</th>\n      <td>D:\\data\\images\\trippinthroughtime\\thumbnail\\34...</td>\n      <td>34559f17e64ed6b7933c056b3c3dd635.jpg</td>\n      <td>a painting of a painting of a man in a gladion</td>\n      <td>When your rent is too damn high</td>\n      <td>trippinthroughtime</td>\n      <td>TrippingThroughTimeDiffusion</td>\n      <td>b'\\xff\\xd8\\xff\\xe0\\x00\\x10JFIF\\x00\\x01\\x01\\x00...</td>\n    </tr>\n    <tr>\n      <th>15867</th>\n      <td>D:\\data\\images\\trippinthroughtime\\thumbnail\\34...</td>\n      <td>34f1c2923b049873e19ad73073c7db43.jpg</td>\n      <td>painting of a group of three children in a roo...</td>\n      <td>When mom forces you to pray even if you don't ...</td>\n      <td>trippinthroughtime</td>\n      <td>TrippingThroughTimeDiffusion</td>\n      <td>b'\\xff\\xd8\\xff\\xe0\\x00\\x10JFIF\\x00\\x01\\x01\\x00...</td>\n    </tr>\n  </tbody>\n</table>\n<p>18307 rows × 7 columns</p>\n</div>"
     },
     "metadata": {},
     "output_type": "display_data"
    }
   ],
   "source": [
    "data_paths = os.listdir(\"data/curated\")\n",
    "\n",
    "dfs = []\n",
    "\n",
    "for path in data_paths:\n",
    "\tfoo = os.path.join(\"data\", \"curated\", path)\n",
    "\tdf = pd.read_parquet(foo)\n",
    "\tdfs.append(df)\n",
    "\n",
    "final = pd.concat(dfs)\n",
    "display(final)"
   ],
   "metadata": {
    "collapsed": false
   }
  }
 ],
 "metadata": {
  "kernelspec": {
   "display_name": "Python 3",
   "language": "python",
   "name": "python3"
  },
  "language_info": {
   "codemirror_mode": {
    "name": "ipython",
    "version": 2
   },
   "file_extension": ".py",
   "mimetype": "text/x-python",
   "name": "python",
   "nbconvert_exporter": "python",
   "pygments_lexer": "ipython2",
   "version": "2.7.6"
  }
 },
 "nbformat": 4,
 "nbformat_minor": 0
}
