{
 "cells": [
  {
   "cell_type": "code",
   "execution_count": null,
   "metadata": {
    "collapsed": true
   },
   "outputs": [],
   "source": [
    "!nvidia-smi"
   ]
  },
  {
   "cell_type": "code",
   "execution_count": null,
   "outputs": [],
   "source": [
    "!pip install numpy\n",
    "!pip install torch torchvision torchaudio\n",
    "!pip install datasets datasets[audio] datasets[audio]\n",
    "!pip install deepspeed\n",
    "!pip install accelerate\n",
    "!pip install transformers\n",
    "!pip install datasets\n",
    "!pip install ftfy\n",
    "!pip install tensorboard\n",
    "!pip install Jinja2"
   ],
   "metadata": {
    "collapsed": false
   }
  },
  {
   "cell_type": "code",
   "execution_count": null,
   "outputs": [],
   "source": [
    "!pip install git+https://github.com/huggingface/diffusers.git@9baa29e9c047c64756f2d4b9e542677eb8833270\n",
    "!git clone https://github.com/huggingface/diffusers.git\n",
    "!cd diffusers/ && git checkout 9baa29e9c047c64756f2d4b9e542677eb8833270"
   ],
   "metadata": {
    "collapsed": false
   }
  },
  {
   "cell_type": "code",
   "execution_count": null,
   "outputs": [],
   "source": [
    "# model_name = \"CosmicDiffusion\"\n",
    "# model_name = \"MemeDiffusion\"\n",
    "# model_name = \"SexyDiffusion\"\n",
    "# model_name = \"NatureDiffusion\"\n",
    "# model_name = \"CityDiffusion\"\n",
    "# model_name = \"ITAPDiffusion\"\n",
    "# model_name = \"MemeDiffusion\"\n",
    "model_name = \"RedHeadDiffusion\"\n",
    "output_dir = f\"/content/drive/MyDrive/RawData/{model_name}\"\n",
    "data_dir = f\"/content/drive/MyDrive/RawData/data/out/{model_name}\"\n",
    "cache_dir = f\"/content/drive/MyDrive/RawData/{model_name}\"\n",
    "pretrained_model_name_or_path= \"/content/drive/MyDrive/RawData/stable-diffusion-v1-5\""
   ],
   "metadata": {
    "collapsed": false
   }
  },
  {
   "cell_type": "code",
   "execution_count": null,
   "outputs": [],
   "source": [
    "!ls \"/content/drive/MyDrive/RawData/stable-diffusion-v1-5\"\n",
    "!cat /content/drive/MyDrive/RawData/default_config.yaml"
   ],
   "metadata": {
    "collapsed": false
   }
  },
  {
   "cell_type": "code",
   "execution_count": null,
   "outputs": [],
   "source": [
    "!accelerate launch --config_file /content/drive/MyDrive/RawData/default_config.yaml \\\n",
    "/content/diffusers/examples/text_to_image/train_text_to_image.py \\\n",
    "--pretrained_model_name_or_path=$pretrained_model_name_or_path \\\n",
    "--resume_from_checkpoint=/content/drive/MyDrive/RawData/RedHeadDiffusion/checkpoint-4000 \\\n",
    "--train_data_dir=$data_dir \\\n",
    "--use_ema \\\n",
    "--resolution=512 \\\n",
    "--num_train_epochs=300 \\\n",
    "--center_crop \\\n",
    "--train_batch_size=8 \\\n",
    "--gradient_accumulation_steps=5 \\\n",
    "--gradient_checkpointing \\\n",
    "--mixed_precision=\"bf16\" \\\n",
    "--learning_rate=1e-05 \\\n",
    "--checkpointing_steps=100 \\\n",
    "--cache_dir=$cache_dir \\\n",
    "--max_grad_norm=1 \\\n",
    "--lr_scheduler=\"constant\" \\\n",
    "--lr_warmup_steps=10 \\\n",
    "--allow_tf32 \\\n",
    "--seed=1 \\\n",
    "--output_dir=$output_dir"
   ],
   "metadata": {
    "collapsed": false
   }
  }
 ],
 "metadata": {
  "kernelspec": {
   "display_name": "Python 3",
   "language": "python",
   "name": "python3"
  },
  "language_info": {
   "codemirror_mode": {
    "name": "ipython",
    "version": 2
   },
   "file_extension": ".py",
   "mimetype": "text/x-python",
   "name": "python",
   "nbconvert_exporter": "python",
   "pygments_lexer": "ipython2",
   "version": "2.7.6"
  }
 },
 "nbformat": 4,
 "nbformat_minor": 0
}
