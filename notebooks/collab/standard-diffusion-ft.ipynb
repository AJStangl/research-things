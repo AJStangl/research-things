{
 "cells": [
  {
   "cell_type": "code",
   "execution_count": null,
   "metadata": {
    "collapsed": true
   },
   "outputs": [],
   "source": [
    "!nvidia-smi"
   ]
  },
  {
   "cell_type": "code",
   "execution_count": null,
   "outputs": [],
   "source": [
    "!pip install numpy\n",
    "!pip install torch torchvision torchaudio\n",
    "!pip install datasets datasets[audio] datasets[audio]\n",
    "!pip install deepspeed\n",
    "!pip install accelerate\n",
    "!pip install transformers\n",
    "!pip install datasets\n",
    "!pip install ftfy\n",
    "!pip install tensorboard\n",
    "!pip install Jinja2"
   ],
   "metadata": {
    "collapsed": false
   }
  },
  {
   "cell_type": "code",
   "execution_count": null,
   "outputs": [],
   "source": [
    "!pip install xformers"
   ],
   "metadata": {
    "collapsed": false
   }
  },
  {
   "cell_type": "code",
   "execution_count": null,
   "outputs": [],
   "source": [
    "!pip install git+https://github.com/huggingface/diffusers.git@9baa29e9c047c64756f2d4b9e542677eb8833270\n",
    "!git clone https://github.com/huggingface/diffusers.git\n",
    "!cd diffusers/ && git checkout 9baa29e9c047c64756f2d4b9e542677eb8833270"
   ],
   "metadata": {
    "collapsed": false
   }
  },
  {
   "cell_type": "code",
   "execution_count": null,
   "outputs": [],
   "source": [
    "model_name = \"SWFPetite\"\n",
    "version = \"2\"\n",
    "output_dir = f\"/content/drive/MyDrive/RawData/{model_name}-{version}\"\n",
    "data_dir = f\"/content/drive/MyDrive/RawData/data/out/{model_name}\"\n",
    "cache_dir = f\"/content/drive/MyDrive/RawData/{model_name}\"\n",
    "pretrained_model_name_or_path= f\"/content/SWFPetite-1\""
   ],
   "metadata": {
    "collapsed": false
   }
  },
  {
   "cell_type": "code",
   "execution_count": null,
   "outputs": [],
   "source": [
    "!mkdir -p $data_dir"
   ],
   "metadata": {
    "collapsed": false
   }
  },
  {
   "cell_type": "code",
   "execution_count": null,
   "outputs": [],
   "source": [
    "import pandas as pd\n",
    "from PIL import Image\n",
    "from io import BytesIO\n",
    "import os\n",
    "df = pd.read_parquet(f\"/content/drive/MyDrive/RawData/data/out/{model_name}.parquet\")\n",
    "\n",
    "training_lines = []\n",
    "\n",
    "for record in df.to_dict(orient='records'):\n",
    "    image_name = record['image_name']\n",
    "    caption = record['caption']\n",
    "    text = record['title']\n",
    "    out_record = { \"file_name\" : image_name, \"text\": [text, caption] }\n",
    "    image_path = f\"{data_dir}/{image_name}\"\n",
    "    if os.path.exists(image_path):\n",
    "        training_lines.append(out_record)\n",
    "        continue\n",
    "    else:\n",
    "        img = Image.open(BytesIO(record[\"image_data\"]))\n",
    "        img.save(image_path)\n",
    "        img.close()\n",
    "        if os.path.exists(image_path):\n",
    "            training_lines.append(out_record)\n",
    "        else:\n",
    "            continue\n",
    "final = pd.DataFrame(data=training_lines)\n",
    "final.to_json(f\"{data_dir}/metadata.jsonl\", orient=\"records\", lines=True)\n",
    "display(final)"
   ],
   "metadata": {
    "collapsed": false
   }
  },
  {
   "cell_type": "code",
   "execution_count": null,
   "outputs": [],
   "source": [
    "!ls $data_dir | wc -l\n",
    "!cat $data_dir/metadata.jsonl | wc -l"
   ],
   "metadata": {
    "collapsed": false
   }
  },
  {
   "cell_type": "code",
   "execution_count": null,
   "outputs": [],
   "source": [
    "things = []\n",
    "extant_files = os.listdir(data_dir)\n",
    "for f in extant_files:\n",
    "    a = final.loc[final['file_name'].isin([f])]\n",
    "    text = a['text']\n",
    "    im = a['file_name']\n",
    "    try:\n",
    "        record = a.to_dict(orient='records')[0]\n",
    "    except:\n",
    "        continue\n",
    "    things.append(record)\n",
    "some_things = pd.DataFrame(data=things)\n",
    "\n",
    "# sampled = some_things.sample(n=500)\n",
    "\n",
    "some_things.to_json(f\"{data_dir}/metadata.jsonl\", orient=\"records\", lines=True)"
   ],
   "metadata": {
    "collapsed": false
   }
  },
  {
   "cell_type": "code",
   "execution_count": null,
   "outputs": [],
   "source": [
    "!ls $data_dir | wc -l\n",
    "!cat $data_dir/metadata.jsonl | wc -l"
   ],
   "metadata": {
    "collapsed": false
   }
  },
  {
   "cell_type": "code",
   "execution_count": null,
   "outputs": [],
   "source": [
    "!cp -r /content/drive/MyDrive/RawData/SWFPetite-1 /content/"
   ],
   "metadata": {
    "collapsed": false
   }
  },
  {
   "cell_type": "code",
   "execution_count": null,
   "outputs": [],
   "source": [
    "!accelerate launch --config_file /content/drive/MyDrive/RawData/default_config.yaml \\\n",
    "/content/diffusers/examples/text_to_image/train_text_to_image.py \\\n",
    "--pretrained_model_name_or_path=$pretrained_model_name_or_path \\\n",
    "--train_data_dir=$data_dir \\\n",
    "--use_ema \\\n",
    "--resolution=512 \\\n",
    "--center_crop --random_flip \\\n",
    "--num_train_epochs=100 \\\n",
    "--train_batch_size=16 \\\n",
    "--gradient_accumulation_steps=5 \\\n",
    "--gradient_checkpointing \\\n",
    "--mixed_precision=\"bf16\" \\\n",
    "--learning_rate=1e-05 \\\n",
    "--cache_dir=$cache_dir \\\n",
    "--max_grad_norm=1 \\\n",
    "--lr_scheduler=\"constant\" \\\n",
    "--lr_warmup_steps=1 \\\n",
    "--allow_tf32 \\\n",
    "--seed=1 \\\n",
    "--enable_xformers_memory_efficient_attention \\\n",
    "--output_dir=$output_dir"
   ],
   "metadata": {
    "collapsed": false
   }
  },
  {
   "cell_type": "code",
   "execution_count": null,
   "outputs": [],
   "source": [
    "from diffusers import DiffusionPipeline, EulerDiscreteScheduler, DPMSolverMultistepScheduler, StableDiffusionPipeline\n",
    "\n",
    "stable_diffusion = DiffusionPipeline.from_pretrained(\"/content/drive/MyDrive/RawData/SWFPetite-2\", safety_checker=None)\n",
    "\n",
    "diff_pipe: DiffusionPipeline = DiffusionPipeline.from_pretrained(\"/content/drive/MyDrive/RawData/SWFPetite-2\", safety_checker=None)\n",
    "\n",
    "pipe = StableDiffusionPipeline(**diff_pipe.components)\n",
    "\n",
    "pipe.to(\"cuda\")\n",
    "#\n",
    "prompt = \"A busty, gourgous\"\n",
    "#\n",
    "image = pipe(prompt, height=512, width=512, guidance_scale=8, num_inference_steps=50).images[0]\n",
    "#\n",
    "display(image)"
   ],
   "metadata": {
    "collapsed": false
   }
  },
  {
   "cell_type": "code",
   "execution_count": null,
   "outputs": [],
   "source": [
    "from google.colab import runtime\n",
    "runtime.unassign()"
   ],
   "metadata": {
    "collapsed": false
   }
  }
 ],
 "metadata": {
  "kernelspec": {
   "display_name": "Python 3",
   "language": "python",
   "name": "python3"
  },
  "language_info": {
   "codemirror_mode": {
    "name": "ipython",
    "version": 2
   },
   "file_extension": ".py",
   "mimetype": "text/x-python",
   "name": "python",
   "nbconvert_exporter": "python",
   "pygments_lexer": "ipython2",
   "version": "2.7.6"
  }
 },
 "nbformat": 4,
 "nbformat_minor": 0
}
