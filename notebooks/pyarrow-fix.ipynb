{
 "cells": [
  {
   "cell_type": "code",
   "execution_count": 57,
   "outputs": [],
   "source": [
    "from shared_code.utility.schemas.pyarrow_schema import schema\n",
    "\n",
    "from shared_code.utility.spark.set_environ import set_azure_env\n",
    "import pandas as pd\n",
    "\n",
    "set_azure_env()\n",
    "from shared_code.utility.storage.azure_file_storage import AzureFileStorageAdapter"
   ],
   "metadata": {
    "collapsed": false
   }
  },
  {
   "cell_type": "code",
   "execution_count": 64,
   "outputs": [],
   "source": [
    "fs = AzureFileStorageAdapter('data').get_file_storage()"
   ],
   "metadata": {
    "collapsed": false
   }
  },
  {
   "cell_type": "code",
   "execution_count": 66,
   "outputs": [],
   "source": [
    "df = pd.read_parquet(\"data/raw_data.parquet\", engine='pyarrow', filesystem=fs, schema=schema)\n",
    "display(df)"
   ],
   "metadata": {
    "collapsed": false
   }
  },
  {
   "cell_type": "code",
   "execution_count": 67,
   "outputs": [
    {
     "data": {
      "text/plain": "            id           subreddit               author  \\\n0      1000cej            CityPorn          OtterlyFoxy   \n1      1000d16    SFWNextDoorGirls        princessxo699   \n2      1000fg0     HotGirlNextDoor           BlkBrd1312   \n3      1000glf            AmIhotAF    toolate_sharkbait   \n4      1000j1n           greentext            trent8051   \n...        ...                 ...                  ...   \n16080   zzzg13         SFWRedheads     AdConsistent3184   \n16081   zzzlbf  trippinthroughtime     Slipstream_Valet   \n16082   zzzlyl            CityPorn  Particular-Chip2355   \n16083   zzzrv5       RealGirls_SFW           Mary_ford1   \n16084   zzzu28     HotGirlNextDoor       Butter_Luver05   \n\n                                            title  \\\n0                             New York in the fog   \n1             Thoughts about my NYE party outfit?   \n2                                          (IKTR)   \n3                  Just looking for entertainment   \n4                             Anon wants Elon cut   \n...                                           ...   \n16080                           Cute but Deadly 😋   \n16081  He didn't shed light on the topic I guess.   \n16082                              Taipei, Taiwan   \n16083                 My tender body needs caress   \n16084                                      (IKTR)   \n\n                                                 caption  \\\n0      cars are parked on the side of the road in the...   \n1       a woman sitting on a table holding a pink flower   \n2      a woman in a bikini with a cell phone in her hand   \n3      blonde woman with blonde hair and tattoos on h...   \n4      a man with a beard and a beard sitting in fron...   \n...                                                  ...   \n16080  A little girl in a pink dress is sitting on a ...   \n16081    a man in a red dress and a woman in a red dress   \n16082                          Error in captioning image   \n16083  blond woman in black lingersuit sitting on a c...   \n16084  blonde woman in black bikini top and black bik...   \n\n                                   hash  \\\n0      7a8d96e378c15c8ab8440ac311f12c11   \n1      9951b4f82caeb8ba2bd9f79f8d422450   \n2      be8dd55e34216bec1e15e03fa296eacc   \n3      e554c1ed7ffa2740436ac082068b2824   \n4      1dec3dabb5e46cde01855d06089c287a   \n...                                 ...   \n16080  ba89401054b09d3ff2b608705f8a7110   \n16081  5007b937974ae333022c0c91b795ca09   \n16082  3cac9b29f27d5fc26ddcec4e1641649f   \n16083  fb0bf1ab59095edf938ece2e036dae86   \n16084  94dea288ddffb51eb1a786d469b59374   \n\n                                               permalink  \\\n0      /r/CityPorn/comments/1000cej/new_york_in_the_fog/   \n1      /r/SFWNextDoorGirls/comments/1000d16/thoughts_...   \n2              /r/HotGirlNextDoor/comments/1000fg0/iktr/   \n3      /r/AmIhotAF/comments/1000glf/just_looking_for_...   \n4      /r/greentext/comments/1000j1n/anon_wants_elon_...   \n...                                                  ...   \n16080    /r/SFWRedheads/comments/zzzg13/cute_but_deadly/   \n16081  /r/trippinthroughtime/comments/zzzlbf/he_didnt...   \n16082         /r/CityPorn/comments/zzzlyl/taipei_taiwan/   \n16083  /r/RealGirls_SFW/comments/zzzrv5/my_tender_bod...   \n16084           /r/HotGirlNextDoor/comments/zzzu28/iktr/   \n\n                                            original_url  \\\n0                    https://i.redd.it/4emw5uldib9a1.jpg   \n1                        https://i.imgur.com/GgFEagO.jpg   \n2                    https://i.redd.it/nwa7hts2jb9a1.jpg   \n3                    https://i.redd.it/4xyb1vgbjb9a1.jpg   \n4                    https://i.redd.it/3mewbe0wjb9a1.jpg   \n...                                                  ...   \n16080                https://i.redd.it/3rv0ql34bb9a1.jpg   \n16081                    https://i.imgur.com/arCpzQ0.jpg   \n16082  https://upload.wikimedia.org/wikipedia/commons...   \n16083                    https://i.imgur.com/2gxZ9rS.jpg   \n16084                https://i.redd.it/p6yewrl7eb9a1.jpg   \n\n                          image_name  \\\n0                  4emw5uldib9a1.jpg   \n1                        GgFEagO.jpg   \n2                  nwa7hts2jb9a1.jpg   \n3                  4xyb1vgbjb9a1.jpg   \n4                  3mewbe0wjb9a1.jpg   \n...                              ...   \n16080              3rv0ql34bb9a1.jpg   \n16081                    arCpzQ0.jpg   \n16082  Minquan_Bridge2017_TAIWAN.jpg   \n16083                    2gxZ9rS.jpg   \n16084              p6yewrl7eb9a1.jpg   \n\n                                                    path  \\\n0              D:\\data\\images\\CityPorn\\4emw5uldib9a1.jpg   \n1            D:\\data\\images\\SFWNextDoorGirls\\GgFEagO.jpg   \n2       D:\\data\\images\\HotGirlNextDoor\\nwa7hts2jb9a1.jpg   \n3              D:\\data\\images\\AmIhotAF\\4xyb1vgbjb9a1.jpg   \n4             D:\\data\\images\\greentext\\3mewbe0wjb9a1.jpg   \n...                                                  ...   \n16080       D:\\data\\images\\SFWRedheads\\3rv0ql34bb9a1.jpg   \n16081        /data/images/trippinthroughtime/arCpzQ0.jpg   \n16082  D:\\data\\images\\CityPorn\\Minquan_Bridge2017_TAI...   \n16083             /data/images/RealGirls_SFW/2gxZ9rS.jpg   \n16084   D:\\data\\images\\HotGirlNextDoor\\p6yewrl7eb9a1.jpg   \n\n                                          thumbnail_path  exists  curated  \n0      D:\\data\\images\\CityPorn\\thumbnail\\4emw5uldib9a...    True    False  \n1      D:\\data\\images\\SFWNextDoorGirls\\thumbnail\\GgFE...    True    False  \n2      D:\\data\\images\\HotGirlNextDoor\\thumbnail\\nwa7h...    True    False  \n3      D:\\data\\images\\AmIhotAF\\thumbnail\\4xyb1vgbjb9a...    True    False  \n4      D:\\data\\images\\greentext\\thumbnail\\3mewbe0wjb9...    True    False  \n...                                                  ...     ...      ...  \n16080                                                      False    False  \n16081  /data/images/trippinthroughtime/thumbnail/arCp...    True    False  \n16082                                                      False    False  \n16083   /data/images/RealGirls_SFW/thumbnail/2gxZ9rS.jpg    True    False  \n16084  D:\\data\\images\\HotGirlNextDoor\\thumbnail\\p6yew...    True    False  \n\n[16085 rows x 13 columns]",
      "text/html": "<div>\n<style scoped>\n    .dataframe tbody tr th:only-of-type {\n        vertical-align: middle;\n    }\n\n    .dataframe tbody tr th {\n        vertical-align: top;\n    }\n\n    .dataframe thead th {\n        text-align: right;\n    }\n</style>\n<table border=\"1\" class=\"dataframe\">\n  <thead>\n    <tr style=\"text-align: right;\">\n      <th></th>\n      <th>id</th>\n      <th>subreddit</th>\n      <th>author</th>\n      <th>title</th>\n      <th>caption</th>\n      <th>hash</th>\n      <th>permalink</th>\n      <th>original_url</th>\n      <th>image_name</th>\n      <th>path</th>\n      <th>thumbnail_path</th>\n      <th>exists</th>\n      <th>curated</th>\n    </tr>\n  </thead>\n  <tbody>\n    <tr>\n      <th>0</th>\n      <td>1000cej</td>\n      <td>CityPorn</td>\n      <td>OtterlyFoxy</td>\n      <td>New York in the fog</td>\n      <td>cars are parked on the side of the road in the...</td>\n      <td>7a8d96e378c15c8ab8440ac311f12c11</td>\n      <td>/r/CityPorn/comments/1000cej/new_york_in_the_fog/</td>\n      <td>https://i.redd.it/4emw5uldib9a1.jpg</td>\n      <td>4emw5uldib9a1.jpg</td>\n      <td>D:\\data\\images\\CityPorn\\4emw5uldib9a1.jpg</td>\n      <td>D:\\data\\images\\CityPorn\\thumbnail\\4emw5uldib9a...</td>\n      <td>True</td>\n      <td>False</td>\n    </tr>\n    <tr>\n      <th>1</th>\n      <td>1000d16</td>\n      <td>SFWNextDoorGirls</td>\n      <td>princessxo699</td>\n      <td>Thoughts about my NYE party outfit?</td>\n      <td>a woman sitting on a table holding a pink flower</td>\n      <td>9951b4f82caeb8ba2bd9f79f8d422450</td>\n      <td>/r/SFWNextDoorGirls/comments/1000d16/thoughts_...</td>\n      <td>https://i.imgur.com/GgFEagO.jpg</td>\n      <td>GgFEagO.jpg</td>\n      <td>D:\\data\\images\\SFWNextDoorGirls\\GgFEagO.jpg</td>\n      <td>D:\\data\\images\\SFWNextDoorGirls\\thumbnail\\GgFE...</td>\n      <td>True</td>\n      <td>False</td>\n    </tr>\n    <tr>\n      <th>2</th>\n      <td>1000fg0</td>\n      <td>HotGirlNextDoor</td>\n      <td>BlkBrd1312</td>\n      <td>(IKTR)</td>\n      <td>a woman in a bikini with a cell phone in her hand</td>\n      <td>be8dd55e34216bec1e15e03fa296eacc</td>\n      <td>/r/HotGirlNextDoor/comments/1000fg0/iktr/</td>\n      <td>https://i.redd.it/nwa7hts2jb9a1.jpg</td>\n      <td>nwa7hts2jb9a1.jpg</td>\n      <td>D:\\data\\images\\HotGirlNextDoor\\nwa7hts2jb9a1.jpg</td>\n      <td>D:\\data\\images\\HotGirlNextDoor\\thumbnail\\nwa7h...</td>\n      <td>True</td>\n      <td>False</td>\n    </tr>\n    <tr>\n      <th>3</th>\n      <td>1000glf</td>\n      <td>AmIhotAF</td>\n      <td>toolate_sharkbait</td>\n      <td>Just looking for entertainment</td>\n      <td>blonde woman with blonde hair and tattoos on h...</td>\n      <td>e554c1ed7ffa2740436ac082068b2824</td>\n      <td>/r/AmIhotAF/comments/1000glf/just_looking_for_...</td>\n      <td>https://i.redd.it/4xyb1vgbjb9a1.jpg</td>\n      <td>4xyb1vgbjb9a1.jpg</td>\n      <td>D:\\data\\images\\AmIhotAF\\4xyb1vgbjb9a1.jpg</td>\n      <td>D:\\data\\images\\AmIhotAF\\thumbnail\\4xyb1vgbjb9a...</td>\n      <td>True</td>\n      <td>False</td>\n    </tr>\n    <tr>\n      <th>4</th>\n      <td>1000j1n</td>\n      <td>greentext</td>\n      <td>trent8051</td>\n      <td>Anon wants Elon cut</td>\n      <td>a man with a beard and a beard sitting in fron...</td>\n      <td>1dec3dabb5e46cde01855d06089c287a</td>\n      <td>/r/greentext/comments/1000j1n/anon_wants_elon_...</td>\n      <td>https://i.redd.it/3mewbe0wjb9a1.jpg</td>\n      <td>3mewbe0wjb9a1.jpg</td>\n      <td>D:\\data\\images\\greentext\\3mewbe0wjb9a1.jpg</td>\n      <td>D:\\data\\images\\greentext\\thumbnail\\3mewbe0wjb9...</td>\n      <td>True</td>\n      <td>False</td>\n    </tr>\n    <tr>\n      <th>...</th>\n      <td>...</td>\n      <td>...</td>\n      <td>...</td>\n      <td>...</td>\n      <td>...</td>\n      <td>...</td>\n      <td>...</td>\n      <td>...</td>\n      <td>...</td>\n      <td>...</td>\n      <td>...</td>\n      <td>...</td>\n      <td>...</td>\n    </tr>\n    <tr>\n      <th>16080</th>\n      <td>zzzg13</td>\n      <td>SFWRedheads</td>\n      <td>AdConsistent3184</td>\n      <td>Cute but Deadly 😋</td>\n      <td>A little girl in a pink dress is sitting on a ...</td>\n      <td>ba89401054b09d3ff2b608705f8a7110</td>\n      <td>/r/SFWRedheads/comments/zzzg13/cute_but_deadly/</td>\n      <td>https://i.redd.it/3rv0ql34bb9a1.jpg</td>\n      <td>3rv0ql34bb9a1.jpg</td>\n      <td>D:\\data\\images\\SFWRedheads\\3rv0ql34bb9a1.jpg</td>\n      <td></td>\n      <td>False</td>\n      <td>False</td>\n    </tr>\n    <tr>\n      <th>16081</th>\n      <td>zzzlbf</td>\n      <td>trippinthroughtime</td>\n      <td>Slipstream_Valet</td>\n      <td>He didn't shed light on the topic I guess.</td>\n      <td>a man in a red dress and a woman in a red dress</td>\n      <td>5007b937974ae333022c0c91b795ca09</td>\n      <td>/r/trippinthroughtime/comments/zzzlbf/he_didnt...</td>\n      <td>https://i.imgur.com/arCpzQ0.jpg</td>\n      <td>arCpzQ0.jpg</td>\n      <td>/data/images/trippinthroughtime/arCpzQ0.jpg</td>\n      <td>/data/images/trippinthroughtime/thumbnail/arCp...</td>\n      <td>True</td>\n      <td>False</td>\n    </tr>\n    <tr>\n      <th>16082</th>\n      <td>zzzlyl</td>\n      <td>CityPorn</td>\n      <td>Particular-Chip2355</td>\n      <td>Taipei, Taiwan</td>\n      <td>Error in captioning image</td>\n      <td>3cac9b29f27d5fc26ddcec4e1641649f</td>\n      <td>/r/CityPorn/comments/zzzlyl/taipei_taiwan/</td>\n      <td>https://upload.wikimedia.org/wikipedia/commons...</td>\n      <td>Minquan_Bridge2017_TAIWAN.jpg</td>\n      <td>D:\\data\\images\\CityPorn\\Minquan_Bridge2017_TAI...</td>\n      <td></td>\n      <td>False</td>\n      <td>False</td>\n    </tr>\n    <tr>\n      <th>16083</th>\n      <td>zzzrv5</td>\n      <td>RealGirls_SFW</td>\n      <td>Mary_ford1</td>\n      <td>My tender body needs caress</td>\n      <td>blond woman in black lingersuit sitting on a c...</td>\n      <td>fb0bf1ab59095edf938ece2e036dae86</td>\n      <td>/r/RealGirls_SFW/comments/zzzrv5/my_tender_bod...</td>\n      <td>https://i.imgur.com/2gxZ9rS.jpg</td>\n      <td>2gxZ9rS.jpg</td>\n      <td>/data/images/RealGirls_SFW/2gxZ9rS.jpg</td>\n      <td>/data/images/RealGirls_SFW/thumbnail/2gxZ9rS.jpg</td>\n      <td>True</td>\n      <td>False</td>\n    </tr>\n    <tr>\n      <th>16084</th>\n      <td>zzzu28</td>\n      <td>HotGirlNextDoor</td>\n      <td>Butter_Luver05</td>\n      <td>(IKTR)</td>\n      <td>blonde woman in black bikini top and black bik...</td>\n      <td>94dea288ddffb51eb1a786d469b59374</td>\n      <td>/r/HotGirlNextDoor/comments/zzzu28/iktr/</td>\n      <td>https://i.redd.it/p6yewrl7eb9a1.jpg</td>\n      <td>p6yewrl7eb9a1.jpg</td>\n      <td>D:\\data\\images\\HotGirlNextDoor\\p6yewrl7eb9a1.jpg</td>\n      <td>D:\\data\\images\\HotGirlNextDoor\\thumbnail\\p6yew...</td>\n      <td>True</td>\n      <td>False</td>\n    </tr>\n  </tbody>\n</table>\n<p>16085 rows × 13 columns</p>\n</div>"
     },
     "metadata": {},
     "output_type": "display_data"
    }
   ],
   "source": [
    "df.to_parquet(\"data/raw_data.parquet\", engine='pyarrow', filesystem=fs, schema=schema)"
   ],
   "metadata": {
    "collapsed": false
   }
  }
 ],
 "metadata": {
  "kernelspec": {
   "display_name": "Python 3",
   "language": "python",
   "name": "python3"
  },
  "language_info": {
   "codemirror_mode": {
    "name": "ipython",
    "version": 2
   },
   "file_extension": ".py",
   "mimetype": "text/x-python",
   "name": "python",
   "nbconvert_exporter": "python",
   "pygments_lexer": "ipython2",
   "version": "2.7.6"
  }
 },
 "nbformat": 4,
 "nbformat_minor": 0
}
