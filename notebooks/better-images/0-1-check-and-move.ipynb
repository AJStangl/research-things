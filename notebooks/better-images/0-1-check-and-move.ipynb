{
 "cells": [
  {
   "cell_type": "code",
   "execution_count": 6,
   "metadata": {
    "collapsed": true,
    "ExecuteTime": {
     "start_time": "2023-04-09T11:19:33.850806Z",
     "end_time": "2023-04-09T11:19:33.961359Z"
    }
   },
   "outputs": [],
   "source": [
    "import pandas as pd\n",
    "%run D:\\workspaces\\General\\notebooks\\image-processing\\0-0-common.ipynb"
   ]
  },
  {
   "cell_type": "code",
   "execution_count": null,
   "outputs": [],
   "source": [
    "%%time\n",
    "\n",
    "extant_data = pd.read_parquet(\"data/processed_raw_data.parquet\", engine='pyarrow', filesystem=file_system, schema=schema)\n",
    "\n",
    "display(extant_data)"
   ],
   "metadata": {
    "collapsed": false
   }
  },
  {
   "cell_type": "code",
   "execution_count": 10,
   "outputs": [
    {
     "data": {
      "text/plain": "            id         subreddit                author  \\\n0      128z5ns       celebrities           A-Sexy-Name   \n1      11yk8db  prettyasiangirls          MisoShiru520   \n2      11hfioi     KoreanHotties  Majestic_Painter8660   \n3      1000mjs         spaceporn    MorningStar_imangi   \n4      1000qpd         spaceporn    MorningStar_imangi   \n...        ...               ...                   ...   \n29597  11oz7fi       mildlypenis          Extra-Lie489   \n29598  11oz73d       mildlypenis              DeimosLV   \n29599  11oyzm3       mildlypenis       Mymemesareswell   \n29600  11oyvx1       mildlypenis        LucindaBobinda   \n29601  11oxx6r       mildlypenis             DoggyCube   \n\n                                                   title  \\\n0                                           Rachel Weisz   \n1                                                Library   \n2                                       Underboob bikini   \n3                          Northern Lights above Lofoten   \n4                                          Viking Lights   \n...                                                  ...   \n29597                                              Lenis   \n29598  My friend is making a stuffed animal and this ...   \n29599                    This weird Mickey keychain hand   \n29600                                     Parking lot pp   \n29601  Can't figure out why they didn't approve of th...   \n\n                                                 caption  \\\n0      cars are parked on the side of the road in the...   \n1      blonde woman with blonde hair and tattoos on h...   \n2      a man with a beard and a beard sitting in fron...   \n3      a view of a view of a large green and purple a...   \n4      a scene of a boat is sitting on the shore of a...   \n...                                                  ...   \n29597  there is a small piece of metal with two small...   \n29598    a close up of a blue knitted bagueth on a chair   \n29599  someone is holding a key chain with a mickey m...   \n29600  a close up of a black and white photo of a bla...   \n29601  there is a picture of a video game on the tv s...   \n\n                                   hash  \\\n0      f09b1c0c5dea50c934081a04c83d4d33   \n1      9d5b7331b941ecf3fdbc8ad322303825   \n2      a154a56b1b87cf3a0bc93600c86e4585   \n3      2c39ce1290fba541abd0b004b09da6b2   \n4      0f72de47c69ff50eca5fa3990215f4ac   \n...                                 ...   \n29597  7604c3e55ce8dbf238520683d6e71f89   \n29598  389f8aa0fb191bdeba08c8d2cfff8ce2   \n29599  87563ac0c8ddeeb0ce47bc915b99308b   \n29600  88b596be6de959bd29eed4e8946bb476   \n29601  eb7ed95bedcd44c130938e2f09069f08   \n\n                                               permalink  \\\n0          /r/celebrities/comments/128z5ns/rachel_weisz/   \n1          /r/prettyasiangirls/comments/11yk8db/library/   \n2      /r/KoreanHotties/comments/11hfioi/underboob_bi...   \n3      /r/spaceporn/comments/1000mjs/northern_lights_...   \n4           /r/spaceporn/comments/1000qpd/viking_lights/   \n...                                                  ...   \n29597             /r/mildlypenis/comments/11oz7fi/lenis/   \n29598  /r/mildlypenis/comments/11oz73d/my_friend_is_m...   \n29599  /r/mildlypenis/comments/11oyzm3/this_weird_mic...   \n29600    /r/mildlypenis/comments/11oyvx1/parking_lot_pp/   \n29601  /r/mildlypenis/comments/11oxx6r/cant_figure_ou...   \n\n                              original_url  \\\n0      https://i.redd.it/nv80afddacra1.jpg   \n1      https://i.redd.it/ht4d2wuusapa1.jpg   \n2      https://i.redd.it/cimr17q84jla1.jpg   \n3      https://i.redd.it/7s5aafaqkb9a1.jpg   \n4      https://i.redd.it/abojw7lqlb9a1.jpg   \n...                                    ...   \n29597  https://i.redd.it/pskj3q0ao8na1.jpg   \n29598  https://i.redd.it/gemqhq67o8na1.jpg   \n29599  https://i.redd.it/vrivt8rom8na1.jpg   \n29600  https://i.redd.it/w1vebizwl8na1.jpg   \n29601  https://i.redd.it/92hm0ia2f8na1.jpg   \n\n                                 image_name  \\\n0      f09b1c0c5dea50c934081a04c83d4d33.jpg   \n1      9d5b7331b941ecf3fdbc8ad322303825.jpg   \n2      a154a56b1b87cf3a0bc93600c86e4585.jpg   \n3                         7s5aafaqkb9a1.jpg   \n4                         abojw7lqlb9a1.jpg   \n...                                     ...   \n29597  7604c3e55ce8dbf238520683d6e71f89.jpg   \n29598  389f8aa0fb191bdeba08c8d2cfff8ce2.jpg   \n29599  87563ac0c8ddeeb0ce47bc915b99308b.jpg   \n29600  88b596be6de959bd29eed4e8946bb476.jpg   \n29601  eb7ed95bedcd44c130938e2f09069f08.jpg   \n\n                                                    path  exists  \\\n0      D:\\data\\images\\celebrities\\f09b1c0c5dea50c9340...    True   \n1      D:\\data\\images\\prettyasiangirls\\9d5b7331b941ec...    True   \n2      D:\\data\\images\\KoreanHotties\\a154a56b1b87cf3a0...    True   \n3               /data/images/spaceporn/7s5aafaqkb9a1.jpg    True   \n4               /data/images/spaceporn/abojw7lqlb9a1.jpg    True   \n...                                                  ...     ...   \n29597  D:\\data\\images\\mildlypenis\\7604c3e55ce8dbf2385...    True   \n29598  D:\\data\\images\\mildlypenis\\389f8aa0fb191bdeba0...    True   \n29599  D:\\data\\images\\mildlypenis\\87563ac0c8ddeeb0ce4...    True   \n29600  D:\\data\\images\\mildlypenis\\88b596be6de959bd29e...    True   \n29601  D:\\data\\images\\mildlypenis\\eb7ed95bedcd44c1309...    True   \n\n                       name  \n0        CelebrityDiffusion  \n1        SexyAsianDiffusion  \n2        SexyAsianDiffusion  \n3           CosmicDiffusion  \n4           CosmicDiffusion  \n...                     ...  \n29597  MildlyPenisDiffusion  \n29598  MildlyPenisDiffusion  \n29599  MildlyPenisDiffusion  \n29600  MildlyPenisDiffusion  \n29601  MildlyPenisDiffusion  \n\n[29602 rows x 12 columns]",
      "text/html": "<div>\n<style scoped>\n    .dataframe tbody tr th:only-of-type {\n        vertical-align: middle;\n    }\n\n    .dataframe tbody tr th {\n        vertical-align: top;\n    }\n\n    .dataframe thead th {\n        text-align: right;\n    }\n</style>\n<table border=\"1\" class=\"dataframe\">\n  <thead>\n    <tr style=\"text-align: right;\">\n      <th></th>\n      <th>id</th>\n      <th>subreddit</th>\n      <th>author</th>\n      <th>title</th>\n      <th>caption</th>\n      <th>hash</th>\n      <th>permalink</th>\n      <th>original_url</th>\n      <th>image_name</th>\n      <th>path</th>\n      <th>exists</th>\n      <th>name</th>\n    </tr>\n  </thead>\n  <tbody>\n    <tr>\n      <th>0</th>\n      <td>128z5ns</td>\n      <td>celebrities</td>\n      <td>A-Sexy-Name</td>\n      <td>Rachel Weisz</td>\n      <td>cars are parked on the side of the road in the...</td>\n      <td>f09b1c0c5dea50c934081a04c83d4d33</td>\n      <td>/r/celebrities/comments/128z5ns/rachel_weisz/</td>\n      <td>https://i.redd.it/nv80afddacra1.jpg</td>\n      <td>f09b1c0c5dea50c934081a04c83d4d33.jpg</td>\n      <td>D:\\data\\images\\celebrities\\f09b1c0c5dea50c9340...</td>\n      <td>True</td>\n      <td>CelebrityDiffusion</td>\n    </tr>\n    <tr>\n      <th>1</th>\n      <td>11yk8db</td>\n      <td>prettyasiangirls</td>\n      <td>MisoShiru520</td>\n      <td>Library</td>\n      <td>blonde woman with blonde hair and tattoos on h...</td>\n      <td>9d5b7331b941ecf3fdbc8ad322303825</td>\n      <td>/r/prettyasiangirls/comments/11yk8db/library/</td>\n      <td>https://i.redd.it/ht4d2wuusapa1.jpg</td>\n      <td>9d5b7331b941ecf3fdbc8ad322303825.jpg</td>\n      <td>D:\\data\\images\\prettyasiangirls\\9d5b7331b941ec...</td>\n      <td>True</td>\n      <td>SexyAsianDiffusion</td>\n    </tr>\n    <tr>\n      <th>2</th>\n      <td>11hfioi</td>\n      <td>KoreanHotties</td>\n      <td>Majestic_Painter8660</td>\n      <td>Underboob bikini</td>\n      <td>a man with a beard and a beard sitting in fron...</td>\n      <td>a154a56b1b87cf3a0bc93600c86e4585</td>\n      <td>/r/KoreanHotties/comments/11hfioi/underboob_bi...</td>\n      <td>https://i.redd.it/cimr17q84jla1.jpg</td>\n      <td>a154a56b1b87cf3a0bc93600c86e4585.jpg</td>\n      <td>D:\\data\\images\\KoreanHotties\\a154a56b1b87cf3a0...</td>\n      <td>True</td>\n      <td>SexyAsianDiffusion</td>\n    </tr>\n    <tr>\n      <th>3</th>\n      <td>1000mjs</td>\n      <td>spaceporn</td>\n      <td>MorningStar_imangi</td>\n      <td>Northern Lights above Lofoten</td>\n      <td>a view of a view of a large green and purple a...</td>\n      <td>2c39ce1290fba541abd0b004b09da6b2</td>\n      <td>/r/spaceporn/comments/1000mjs/northern_lights_...</td>\n      <td>https://i.redd.it/7s5aafaqkb9a1.jpg</td>\n      <td>7s5aafaqkb9a1.jpg</td>\n      <td>/data/images/spaceporn/7s5aafaqkb9a1.jpg</td>\n      <td>True</td>\n      <td>CosmicDiffusion</td>\n    </tr>\n    <tr>\n      <th>4</th>\n      <td>1000qpd</td>\n      <td>spaceporn</td>\n      <td>MorningStar_imangi</td>\n      <td>Viking Lights</td>\n      <td>a scene of a boat is sitting on the shore of a...</td>\n      <td>0f72de47c69ff50eca5fa3990215f4ac</td>\n      <td>/r/spaceporn/comments/1000qpd/viking_lights/</td>\n      <td>https://i.redd.it/abojw7lqlb9a1.jpg</td>\n      <td>abojw7lqlb9a1.jpg</td>\n      <td>/data/images/spaceporn/abojw7lqlb9a1.jpg</td>\n      <td>True</td>\n      <td>CosmicDiffusion</td>\n    </tr>\n    <tr>\n      <th>...</th>\n      <td>...</td>\n      <td>...</td>\n      <td>...</td>\n      <td>...</td>\n      <td>...</td>\n      <td>...</td>\n      <td>...</td>\n      <td>...</td>\n      <td>...</td>\n      <td>...</td>\n      <td>...</td>\n      <td>...</td>\n    </tr>\n    <tr>\n      <th>29597</th>\n      <td>11oz7fi</td>\n      <td>mildlypenis</td>\n      <td>Extra-Lie489</td>\n      <td>Lenis</td>\n      <td>there is a small piece of metal with two small...</td>\n      <td>7604c3e55ce8dbf238520683d6e71f89</td>\n      <td>/r/mildlypenis/comments/11oz7fi/lenis/</td>\n      <td>https://i.redd.it/pskj3q0ao8na1.jpg</td>\n      <td>7604c3e55ce8dbf238520683d6e71f89.jpg</td>\n      <td>D:\\data\\images\\mildlypenis\\7604c3e55ce8dbf2385...</td>\n      <td>True</td>\n      <td>MildlyPenisDiffusion</td>\n    </tr>\n    <tr>\n      <th>29598</th>\n      <td>11oz73d</td>\n      <td>mildlypenis</td>\n      <td>DeimosLV</td>\n      <td>My friend is making a stuffed animal and this ...</td>\n      <td>a close up of a blue knitted bagueth on a chair</td>\n      <td>389f8aa0fb191bdeba08c8d2cfff8ce2</td>\n      <td>/r/mildlypenis/comments/11oz73d/my_friend_is_m...</td>\n      <td>https://i.redd.it/gemqhq67o8na1.jpg</td>\n      <td>389f8aa0fb191bdeba08c8d2cfff8ce2.jpg</td>\n      <td>D:\\data\\images\\mildlypenis\\389f8aa0fb191bdeba0...</td>\n      <td>True</td>\n      <td>MildlyPenisDiffusion</td>\n    </tr>\n    <tr>\n      <th>29599</th>\n      <td>11oyzm3</td>\n      <td>mildlypenis</td>\n      <td>Mymemesareswell</td>\n      <td>This weird Mickey keychain hand</td>\n      <td>someone is holding a key chain with a mickey m...</td>\n      <td>87563ac0c8ddeeb0ce47bc915b99308b</td>\n      <td>/r/mildlypenis/comments/11oyzm3/this_weird_mic...</td>\n      <td>https://i.redd.it/vrivt8rom8na1.jpg</td>\n      <td>87563ac0c8ddeeb0ce47bc915b99308b.jpg</td>\n      <td>D:\\data\\images\\mildlypenis\\87563ac0c8ddeeb0ce4...</td>\n      <td>True</td>\n      <td>MildlyPenisDiffusion</td>\n    </tr>\n    <tr>\n      <th>29600</th>\n      <td>11oyvx1</td>\n      <td>mildlypenis</td>\n      <td>LucindaBobinda</td>\n      <td>Parking lot pp</td>\n      <td>a close up of a black and white photo of a bla...</td>\n      <td>88b596be6de959bd29eed4e8946bb476</td>\n      <td>/r/mildlypenis/comments/11oyvx1/parking_lot_pp/</td>\n      <td>https://i.redd.it/w1vebizwl8na1.jpg</td>\n      <td>88b596be6de959bd29eed4e8946bb476.jpg</td>\n      <td>D:\\data\\images\\mildlypenis\\88b596be6de959bd29e...</td>\n      <td>True</td>\n      <td>MildlyPenisDiffusion</td>\n    </tr>\n    <tr>\n      <th>29601</th>\n      <td>11oxx6r</td>\n      <td>mildlypenis</td>\n      <td>DoggyCube</td>\n      <td>Can't figure out why they didn't approve of th...</td>\n      <td>there is a picture of a video game on the tv s...</td>\n      <td>eb7ed95bedcd44c130938e2f09069f08</td>\n      <td>/r/mildlypenis/comments/11oxx6r/cant_figure_ou...</td>\n      <td>https://i.redd.it/92hm0ia2f8na1.jpg</td>\n      <td>eb7ed95bedcd44c130938e2f09069f08.jpg</td>\n      <td>D:\\data\\images\\mildlypenis\\eb7ed95bedcd44c1309...</td>\n      <td>True</td>\n      <td>MildlyPenisDiffusion</td>\n    </tr>\n  </tbody>\n</table>\n<p>29602 rows × 12 columns</p>\n</div>"
     },
     "metadata": {},
     "output_type": "display_data"
    }
   ],
   "source": [
    "extant_data['name'] = extant_data.apply(lambda x: add_source(x, sources), axis=1)\n",
    "\n",
    "temp = extant_data.drop(\"curated\", axis=1)\n",
    "temp = temp.drop(\"thumbnail_path\", axis=1)\n",
    "\n",
    "display(temp)"
   ],
   "metadata": {
    "collapsed": false,
    "ExecuteTime": {
     "start_time": "2023-04-09T11:21:44.671165Z",
     "end_time": "2023-04-09T11:21:49.237244Z"
    }
   }
  },
  {
   "cell_type": "code",
   "execution_count": null,
   "outputs": [],
   "source": [],
   "metadata": {
    "collapsed": false
   }
  },
  {
   "cell_type": "code",
   "execution_count": null,
   "outputs": [],
   "source": [],
   "metadata": {
    "collapsed": false
   }
  }
 ],
 "metadata": {
  "kernelspec": {
   "display_name": "Python 3",
   "language": "python",
   "name": "python3"
  },
  "language_info": {
   "codemirror_mode": {
    "name": "ipython",
    "version": 2
   },
   "file_extension": ".py",
   "mimetype": "text/x-python",
   "name": "python",
   "nbconvert_exporter": "python",
   "pygments_lexer": "ipython2",
   "version": "2.7.6"
  }
 },
 "nbformat": 4,
 "nbformat_minor": 0
}
