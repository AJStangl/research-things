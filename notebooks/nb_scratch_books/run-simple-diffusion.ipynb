{
 "cells": [
  {
   "cell_type": "code",
   "execution_count": null,
   "metadata": {
    "collapsed": true
   },
   "outputs": [],
   "source": [
    "!nvidia-smi"
   ]
  },
  {
   "cell_type": "code",
   "execution_count": null,
   "outputs": [],
   "source": [
    "!pip install numpy\n",
    "!pip install torch torchvision torchaudio\n",
    "!pip install pip install datasets datasets[audio] datasets[audio]\n",
    "!pip install deepspeed\n",
    "!pip install accelerate\n",
    "!pip install transformers\n",
    "!pip install datasets\n",
    "!pip install ftfy\n",
    "!pip install tensorboard\n",
    "!pip install Jinja2"
   ],
   "metadata": {
    "collapsed": false
   }
  },
  {
   "cell_type": "code",
   "execution_count": null,
   "outputs": [],
   "source": [
    "!pip install git+https://github.com/huggingface/diffusers.git@9baa29e9c047c64756f2d4b9e542677eb8833270\n",
    "\n",
    "!git clone https://github.com/huggingface/diffusers.git\n",
    "\n",
    "!cd diffusers/ && git checkout 9baa29e9c047c64756f2d4b9e542677eb8833270"
   ],
   "metadata": {
    "collapsed": false
   }
  },
  {
   "cell_type": "code",
   "execution_count": null,
   "outputs": [],
   "source": [
    "output_dir = \"/content/drive/MyDrive/RawData/BigSexyDiffusion-2\"\n",
    "data_dir = \"/content/drive/MyDrive/RawData/data/reddit_training_images\"\n",
    "cache_dir = \"/content/drive/MyDrive/RawData/BigSexyDiffusion-2/cache\"\n",
    "pretrained_model_name_or_path= \"/content/drive/MyDrive/RawData/runwayml/stable-diffusion-v1-5\""
   ],
   "metadata": {
    "collapsed": false
   }
  },
  {
   "cell_type": "code",
   "execution_count": null,
   "outputs": [],
   "source": [
    "!accelerate launch --config_file /content/drive/MyDrive/RawData/default_config.yaml \\\n",
    "/content/diffusers/examples/text_to_image/train_text_to_image.py \\\n",
    "--pretrained_model_name_or_path=$pretrained_model_name_or_path \\\n",
    "--train_data_dir=$data_dir \\\n",
    "--resume_from_checkpoint=\"latest\" \\\n",
    "--use_ema \\\n",
    "--resolution=512 \\\n",
    "--num_train_epochs=100 \\\n",
    "--center_crop \\\n",
    "--train_batch_size=8 \\\n",
    "--gradient_accumulation_steps=5 \\\n",
    "--gradient_checkpointing \\\n",
    "--mixed_precision=\"bf16\" \\\n",
    "--learning_rate=1e-05 \\\n",
    "--checkpointing_steps=500 \\\n",
    "--cache_dir=$cache_dir \\\n",
    "--max_grad_norm=1 \\\n",
    "--lr_scheduler=\"constant\" \\\n",
    "--lr_warmup_steps=10 \\\n",
    "--allow_tf32 \\\n",
    "--seed=1 \\\n",
    "--output_dir=$output_dir"
   ],
   "metadata": {
    "collapsed": false
   }
  },
  {
   "cell_type": "code",
   "execution_count": null,
   "outputs": [],
   "source": [
    "from diffusers import StableDiffusionPipeline\n",
    "import torch\n",
    "\n",
    "pipe: StableDiffusionPipeline = StableDiffusionPipeline.from_pretrained(output_dir,safety_checker=None)\n",
    "\n",
    "\n",
    "pipe.to(\"cuda\")\n",
    "\n",
    "prompt = \"Cute but Deadly 😋\"\n",
    "\n",
    "image = pipe(prompt, height=512, width=512, guidance_scale=20, num_inference_steps=200).images[0]\n",
    "\n",
    "display(image)"
   ],
   "metadata": {
    "collapsed": false
   }
  },
  {
   "cell_type": "code",
   "execution_count": null,
   "outputs": [],
   "source": [
    "pipe.save_pretrained(\"/content/drive/MyDrive/RawData/SexyDiffusion2\")"
   ],
   "metadata": {
    "collapsed": false
   }
  }
 ],
 "metadata": {
  "kernelspec": {
   "display_name": "Python 3",
   "language": "python",
   "name": "python3"
  },
  "language_info": {
   "codemirror_mode": {
    "name": "ipython",
    "version": 2
   },
   "file_extension": ".py",
   "mimetype": "text/x-python",
   "name": "python",
   "nbconvert_exporter": "python",
   "pygments_lexer": "ipython2",
   "version": "2.7.6"
  }
 },
 "nbformat": 4,
 "nbformat_minor": 0
}
