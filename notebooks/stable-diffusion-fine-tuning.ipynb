{
 "cells": [
  {
   "cell_type": "code",
   "execution_count": null,
   "metadata": {
    "collapsed": true
   },
   "outputs": [],
   "source": [
    "!pip install git+https://github.com/huggingface/diffusers.git\n",
    "!git clone https://github.com/huggingface/diffusers.git\n",
    "!cd /content/diffusers/examples/text_to_image/ && pip install -U -r /content/diffusers/examples/text_to_image/requirements.txt\n",
    "!cd /content/\n",
    "!cp -r /content/drive/MyDrive/RawData/data/images ."
   ]
  },
  {
   "cell_type": "code",
   "execution_count": null,
   "outputs": [],
   "source": [
    "!accelerate launch /content/diffusers/examples/text_to_image/train_text_to_image.py \\\n",
    "  --pretrained_model_name_or_path=\"CompVis/stable-diffusion-v1-4\" \\\n",
    "  --dataset_name=\"/content/images\" \\\n",
    "  --use_ema \\\n",
    "  --resolution=512 --center_crop --random_flip \\\n",
    "  --train_batch_size=1 \\\n",
    "  --gradient_accumulation_steps=4 \\\n",
    "  --gradient_checkpointing \\\n",
    "  --mixed_precision=\"fp16\" \\\n",
    "  --max_train_steps=15000 \\\n",
    "  --learning_rate=1e-05 \\\n",
    "  --max_grad_norm=1 \\\n",
    "  --lr_scheduler=\"constant\" --lr_warmup_steps=0 \\\n",
    "  --output_dir=\"/content/sd-test-model\""
   ],
   "metadata": {
    "collapsed": false
   }
  }
 ],
 "metadata": {
  "kernelspec": {
   "display_name": "Python 3",
   "language": "python",
   "name": "python3"
  },
  "language_info": {
   "codemirror_mode": {
    "name": "ipython",
    "version": 2
   },
   "file_extension": ".py",
   "mimetype": "text/x-python",
   "name": "python",
   "nbconvert_exporter": "python",
   "pygments_lexer": "ipython2",
   "version": "2.7.6"
  }
 },
 "nbformat": 4,
 "nbformat_minor": 0
}
