{
 "cells": [
  {
   "cell_type": "code",
   "execution_count": 1,
   "metadata": {
    "collapsed": true,
    "ExecuteTime": {
     "start_time": "2023-04-03T18:03:27.889591Z",
     "end_time": "2023-04-03T18:03:36.264589Z"
    }
   },
   "outputs": [],
   "source": [
    "%run D:\\workspaces\\General\\notebooks\\image-processing\\0-0-common.ipynb"
   ]
  },
  {
   "cell_type": "code",
   "execution_count": 11,
   "outputs": [
    {
     "data": {
      "text/plain": "             Subreddit SubmissionId ParentId          ParentAuthor  \\\n0              dndnext       e3f4y3   e3f4y3                  None   \n1          kingdomcome       e37q2a  f92hjhz               Paul_cz   \n2       onlyfansadvice       x676yi   x676yi  OutlandishnessDull90   \n3       onlyfansadvice       x676yi   x676yi  OutlandishnessDull90   \n4       onlyfansadvice       xcmn88   xcmn88          thegoodhabit   \n...                ...          ...      ...                   ...   \n450859     starcitizen       e3fd12  f92rate           Paarnahkrin   \n450860     starcitizen       e3f4j4   e3f4j4                  None   \n450861     starcitizen       e3fddu  f92pcdq               Nubsly-   \n450862     kingdomcome       e37q2a  f92kjag               Paul_cz   \n450863         dndnext       76mo6z  dof8dwd         EarthAllAlong   \n\n                                               ParentBody CommentId  \\\n0                                                    None   f92mzgh   \n1       Johanka's quest is even better than Teresa's a...   f92jtf9   \n2       boyfriend wants me to quit OF, need advice I’v...   in871ei   \n3       boyfriend wants me to quit OF, need advice I’v...   in8l72l   \n4       Tik Tok Ban...It will happen to you eventually...   io682m9   \n...                                                   ...       ...   \n450859              For ... real ? Well you ruined my day   f92rkls   \n450860                                               None   f92rbak   \n450861  This just in, citizens have been using hammers...   f92qvkg   \n450862                                                 no   f92qp71   \n450863  I dislike this... the reason you have a DM is ...   dofmt6p   \n\n                                              CommentBody  \\\n0       Mechanically there is a disparity but there is...   \n1       I'm busy with the part where you play Henry he...   \n2       I actually really identify with this! My long ...   \n3       Sounds like he probably still loves you and wa...   \n4       Yea mine got banned at 50k it sucks!  But I ju...   \n...                                                   ...   \n450859  You couldn't go inside though, just walk aroun...   \n450860                        Fastest ship in the 'Verse.   \n450861                                Is it purging time?   \n450862                                             Thanks   \n450863  I'll reply to this one because I am in a situa...   \n\n                                           TrainingString  \\\n0                                                    None   \n1                                                    None   \n2       <|soss r/onlyfansadvice|><|sot|>boyfriend want...   \n3       <|soss r/onlyfansadvice|><|sot|>boyfriend want...   \n4       <|soss r/onlyfansadvice|><|sot|>Tik Tok Ban......   \n...                                                   ...   \n450859                                               None   \n450860                                               None   \n450861                                               None   \n450862                                               None   \n450863                                               None   \n\n               CommentAuthor  \\\n0                     Ocbard   \n1                     Ocbard   \n2       Felicity_Freckle_Alt   \n3                 8990couple   \n4               cindyvanessa   \n...                      ...   \n450859                Ocbard   \n450860                Ocbard   \n450861                Ocbard   \n450862                Ocbard   \n450863                Ocbard   \n\n                                          SubmissionTitle  \\\n0                            The Martial/Caster Disparity   \n1                          Just finished A woman’s lot...   \n2                                                    None   \n3                                                    None   \n4                                                    None   \n...                                                   ...   \n450859             That what I call an expo ! Aegis FTW !   \n450860  How is it humanly possible that Idris went out...   \n450861                                   GIB SLEDGEHAMMER   \n450862                     Just finished A woman’s lot...   \n450863           Dealing with the \"Um, Actually!\" Player.   \n\n                                        SubmissionContent SubmissionAuthor  \\\n0       Alright, so I'm new to the subreddit (but not ...  HoboWithAGun012   \n1       Oh man the feels... \\n\\nHow would you all rate...          themjem   \n2                                                    None             None   \n3                                                    None             None   \n4                                                    None             None   \n...                                                   ...              ...   \n450859                                               None             None   \n450860  Kinda impressive, I'm gonna wait for the next ...         DiscoRem   \n450861                    https://v.redd.it/sjxg3m2qxm141         _Nick_M_   \n450862  Oh man the feels... \\n\\nHow would you all rate...          themjem   \n450863  I recently started running games with a couple...       Fluffy_DOW   \n\n           GrandParentAuthor  CommentScore  \n0                       None           7.0  \n1                       None           1.0  \n2       OutlandishnessDull90           NaN  \n3       OutlandishnessDull90           NaN  \n4               thegoodhabit           NaN  \n...                      ...           ...  \n450859           Paarnahkrin          11.0  \n450860                  None           1.0  \n450861               Nubsly-           5.0  \n450862               Paul_cz           1.0  \n450863         EarthAllAlong           3.0  \n\n[450864 rows x 14 columns]",
      "text/html": "<div>\n<style scoped>\n    .dataframe tbody tr th:only-of-type {\n        vertical-align: middle;\n    }\n\n    .dataframe tbody tr th {\n        vertical-align: top;\n    }\n\n    .dataframe thead th {\n        text-align: right;\n    }\n</style>\n<table border=\"1\" class=\"dataframe\">\n  <thead>\n    <tr style=\"text-align: right;\">\n      <th></th>\n      <th>Subreddit</th>\n      <th>SubmissionId</th>\n      <th>ParentId</th>\n      <th>ParentAuthor</th>\n      <th>ParentBody</th>\n      <th>CommentId</th>\n      <th>CommentBody</th>\n      <th>TrainingString</th>\n      <th>CommentAuthor</th>\n      <th>SubmissionTitle</th>\n      <th>SubmissionContent</th>\n      <th>SubmissionAuthor</th>\n      <th>GrandParentAuthor</th>\n      <th>CommentScore</th>\n    </tr>\n  </thead>\n  <tbody>\n    <tr>\n      <th>0</th>\n      <td>dndnext</td>\n      <td>e3f4y3</td>\n      <td>e3f4y3</td>\n      <td>None</td>\n      <td>None</td>\n      <td>f92mzgh</td>\n      <td>Mechanically there is a disparity but there is...</td>\n      <td>None</td>\n      <td>Ocbard</td>\n      <td>The Martial/Caster Disparity</td>\n      <td>Alright, so I'm new to the subreddit (but not ...</td>\n      <td>HoboWithAGun012</td>\n      <td>None</td>\n      <td>7.0</td>\n    </tr>\n    <tr>\n      <th>1</th>\n      <td>kingdomcome</td>\n      <td>e37q2a</td>\n      <td>f92hjhz</td>\n      <td>Paul_cz</td>\n      <td>Johanka's quest is even better than Teresa's a...</td>\n      <td>f92jtf9</td>\n      <td>I'm busy with the part where you play Henry he...</td>\n      <td>None</td>\n      <td>Ocbard</td>\n      <td>Just finished A woman’s lot...</td>\n      <td>Oh man the feels... \\n\\nHow would you all rate...</td>\n      <td>themjem</td>\n      <td>None</td>\n      <td>1.0</td>\n    </tr>\n    <tr>\n      <th>2</th>\n      <td>onlyfansadvice</td>\n      <td>x676yi</td>\n      <td>x676yi</td>\n      <td>OutlandishnessDull90</td>\n      <td>boyfriend wants me to quit OF, need advice I’v...</td>\n      <td>in871ei</td>\n      <td>I actually really identify with this! My long ...</td>\n      <td>&lt;|soss r/onlyfansadvice|&gt;&lt;|sot|&gt;boyfriend want...</td>\n      <td>Felicity_Freckle_Alt</td>\n      <td>None</td>\n      <td>None</td>\n      <td>None</td>\n      <td>OutlandishnessDull90</td>\n      <td>NaN</td>\n    </tr>\n    <tr>\n      <th>3</th>\n      <td>onlyfansadvice</td>\n      <td>x676yi</td>\n      <td>x676yi</td>\n      <td>OutlandishnessDull90</td>\n      <td>boyfriend wants me to quit OF, need advice I’v...</td>\n      <td>in8l72l</td>\n      <td>Sounds like he probably still loves you and wa...</td>\n      <td>&lt;|soss r/onlyfansadvice|&gt;&lt;|sot|&gt;boyfriend want...</td>\n      <td>8990couple</td>\n      <td>None</td>\n      <td>None</td>\n      <td>None</td>\n      <td>OutlandishnessDull90</td>\n      <td>NaN</td>\n    </tr>\n    <tr>\n      <th>4</th>\n      <td>onlyfansadvice</td>\n      <td>xcmn88</td>\n      <td>xcmn88</td>\n      <td>thegoodhabit</td>\n      <td>Tik Tok Ban...It will happen to you eventually...</td>\n      <td>io682m9</td>\n      <td>Yea mine got banned at 50k it sucks!  But I ju...</td>\n      <td>&lt;|soss r/onlyfansadvice|&gt;&lt;|sot|&gt;Tik Tok Ban......</td>\n      <td>cindyvanessa</td>\n      <td>None</td>\n      <td>None</td>\n      <td>None</td>\n      <td>thegoodhabit</td>\n      <td>NaN</td>\n    </tr>\n    <tr>\n      <th>...</th>\n      <td>...</td>\n      <td>...</td>\n      <td>...</td>\n      <td>...</td>\n      <td>...</td>\n      <td>...</td>\n      <td>...</td>\n      <td>...</td>\n      <td>...</td>\n      <td>...</td>\n      <td>...</td>\n      <td>...</td>\n      <td>...</td>\n      <td>...</td>\n    </tr>\n    <tr>\n      <th>450859</th>\n      <td>starcitizen</td>\n      <td>e3fd12</td>\n      <td>f92rate</td>\n      <td>Paarnahkrin</td>\n      <td>For ... real ? Well you ruined my day</td>\n      <td>f92rkls</td>\n      <td>You couldn't go inside though, just walk aroun...</td>\n      <td>None</td>\n      <td>Ocbard</td>\n      <td>That what I call an expo ! Aegis FTW !</td>\n      <td>None</td>\n      <td>None</td>\n      <td>Paarnahkrin</td>\n      <td>11.0</td>\n    </tr>\n    <tr>\n      <th>450860</th>\n      <td>starcitizen</td>\n      <td>e3f4j4</td>\n      <td>e3f4j4</td>\n      <td>None</td>\n      <td>None</td>\n      <td>f92rbak</td>\n      <td>Fastest ship in the 'Verse.</td>\n      <td>None</td>\n      <td>Ocbard</td>\n      <td>How is it humanly possible that Idris went out...</td>\n      <td>Kinda impressive, I'm gonna wait for the next ...</td>\n      <td>DiscoRem</td>\n      <td>None</td>\n      <td>1.0</td>\n    </tr>\n    <tr>\n      <th>450861</th>\n      <td>starcitizen</td>\n      <td>e3fddu</td>\n      <td>f92pcdq</td>\n      <td>Nubsly-</td>\n      <td>This just in, citizens have been using hammers...</td>\n      <td>f92qvkg</td>\n      <td>Is it purging time?</td>\n      <td>None</td>\n      <td>Ocbard</td>\n      <td>GIB SLEDGEHAMMER</td>\n      <td>https://v.redd.it/sjxg3m2qxm141</td>\n      <td>_Nick_M_</td>\n      <td>Nubsly-</td>\n      <td>5.0</td>\n    </tr>\n    <tr>\n      <th>450862</th>\n      <td>kingdomcome</td>\n      <td>e37q2a</td>\n      <td>f92kjag</td>\n      <td>Paul_cz</td>\n      <td>no</td>\n      <td>f92qp71</td>\n      <td>Thanks</td>\n      <td>None</td>\n      <td>Ocbard</td>\n      <td>Just finished A woman’s lot...</td>\n      <td>Oh man the feels... \\n\\nHow would you all rate...</td>\n      <td>themjem</td>\n      <td>Paul_cz</td>\n      <td>1.0</td>\n    </tr>\n    <tr>\n      <th>450863</th>\n      <td>dndnext</td>\n      <td>76mo6z</td>\n      <td>dof8dwd</td>\n      <td>EarthAllAlong</td>\n      <td>I dislike this... the reason you have a DM is ...</td>\n      <td>dofmt6p</td>\n      <td>I'll reply to this one because I am in a situa...</td>\n      <td>None</td>\n      <td>Ocbard</td>\n      <td>Dealing with the \"Um, Actually!\" Player.</td>\n      <td>I recently started running games with a couple...</td>\n      <td>Fluffy_DOW</td>\n      <td>EarthAllAlong</td>\n      <td>3.0</td>\n    </tr>\n  </tbody>\n</table>\n<p>450864 rows × 14 columns</p>\n</div>"
     },
     "metadata": {},
     "output_type": "display_data"
    }
   ],
   "source": [
    "data_frame = pd.read_parquet(\"data/reddit_training.parquet\", engine='pyarrow', filesystem=file_system)\n",
    "display(data_frame)"
   ],
   "metadata": {
    "collapsed": false,
    "ExecuteTime": {
     "start_time": "2023-04-03T18:07:20.043164Z",
     "end_time": "2023-04-03T18:07:30.181700Z"
    }
   }
  },
  {
   "cell_type": "code",
   "execution_count": null,
   "outputs": [],
   "source": [
    "df.groupby(\"CommentAuthor\").count().sort_values(\"CommentBody\", ascending=False).head(100)"
   ],
   "metadata": {
    "collapsed": false,
    "ExecuteTime": {
     "start_time": "2023-03-27T11:47:42.497454Z",
     "end_time": "2023-03-27T11:47:47.665398Z"
    }
   }
  },
  {
   "cell_type": "code",
   "execution_count": 27,
   "outputs": [],
   "source": [
    "def create_training_line(row):\n",
    "    return f\"<|startoftext|><|context|>{row['Subreddit']}<|submission|>{row['SubmissionTitle']}<|comment|>{row['ParentBody']}<|response|>{row['CommentBody']}<|endoftext|>\""
   ],
   "metadata": {
    "collapsed": false,
    "ExecuteTime": {
     "start_time": "2023-03-27T12:03:05.136721Z",
     "end_time": "2023-03-27T12:03:05.183601Z"
    }
   }
  },
  {
   "cell_type": "code",
   "execution_count": 25,
   "outputs": [],
   "source": [
    "filtered_user = df[df[\"CommentAuthor\"] == \"Poem_for_your_sprog\"]"
   ],
   "metadata": {
    "collapsed": false,
    "ExecuteTime": {
     "start_time": "2023-03-27T12:02:59.997978Z",
     "end_time": "2023-03-27T12:03:00.201141Z"
    }
   }
  },
  {
   "cell_type": "code",
   "execution_count": 30,
   "outputs": [
    {
     "name": "stderr",
     "output_type": "stream",
     "text": [
      "C:\\Users\\AJ Stangl\\AppData\\Local\\Temp\\ipykernel_22132\\2709167147.py:1: SettingWithCopyWarning: \n",
      "A value is trying to be set on a copy of a slice from a DataFrame.\n",
      "Try using .loc[row_indexer,col_indexer] = value instead\n",
      "\n",
      "See the caveats in the documentation: https://pandas.pydata.org/pandas-docs/stable/user_guide/indexing.html#returning-a-view-versus-a-copy\n",
      "  filtered_user['line'] = filtered_user.apply(create_training_line, axis=1)\n"
     ]
    }
   ],
   "source": [
    "filtered_user['line'] = filtered_user.apply(create_training_line, axis=1)"
   ],
   "metadata": {
    "collapsed": false,
    "ExecuteTime": {
     "start_time": "2023-03-27T12:03:43.880753Z",
     "end_time": "2023-03-27T12:03:44.577149Z"
    }
   }
  },
  {
   "cell_type": "code",
   "execution_count": 36,
   "outputs": [
    {
     "data": {
      "text/plain": "        Subreddit SubmissionId ParentId       ParentAuthor  \\\n373053  AskReddit       xss2z8  iqm1j7s        tsundokoala   \n373129  AskReddit       yybjxf  iwtgipl     IMakeBandNames   \n373151  AskReddit       yybjxf  iwtdpun     Badmash_askari   \n373152  AskReddit       yvbfn2  iwdeesf      kitrougeslide   \n373153  AskReddit       yu3883  iw7k31i  JenniferSSwindell   \n...           ...          ...      ...                ...   \n416146  AskReddit       z61fnw  ixz21pd          Startup70   \n416147  AskReddit       z61fnw  ixyv0kf        Clcooper423   \n416148  AskReddit       z5g6lv  ixw26i0     gotsthepockets   \n416149  AskReddit       z08637  ix451gy    ItHurtzWhenIPee   \n416150  AskReddit       z08637  ix423w1            dannoh9   \n\n                                               ParentBody CommentId  \\\n373053                        This is wonderfully brutal.   iqm84zx   \n373129                             So, you’re the assman.   iwtncne   \n373151                                     a proctologist   iwtmi0q   \n373152              Negroni spagliato with prosecco in it   iwdnart   \n373153    I'm here to explore a prospective career shift.   iw85nio   \n...                                                   ...       ...   \n416146    60% of the time, it works every time(with Rizz)   ixzbe7q   \n416147  Nothing. Start massaging her legs, works every...   ixzax82   \n416148                                          No don't!   ixw7stq   \n416149  TBS on Dish Network is one of the worst offend...   ix4bk84   \n416150  Making the volume during commercials louder th...   ix4bd1l   \n\n                                              CommentBody TrainingString  \\\n373053  \"I miss you,\" he said,  \\nwith a shake of his ...           None   \n373129  &gt;So, you’re the assman.\\n\\nI love bums,  \\n...           None   \n373151  &gt;a proctologist\\n\\nI love bums,  \\nand I lo...           None   \n373152  &gt;Negroni sbagliato with prosecco in it\\n\\nH...           None   \n373153  He looked at their wages,  \\nthe money they ma...           None   \n...                                                   ...            ...   \n416146  &gt;60% of the time, it works every time.\\n\\n\"...           None   \n416147  &gt;works everytime, 60% of the time.\\n\\n\"Litt...           None   \n416148  Be bold, be brave,  \\nbe strong, be true,  \\nB...           None   \n416149  \"I've thought of a notion,\" the broadcaster sa...           None   \n416150  \"I've thought of a notion,\" the broadcaster sa...           None   \n\n              CommentAuthor  \\\n373053  Poem_for_your_sprog   \n373129  Poem_for_your_sprog   \n373151  Poem_for_your_sprog   \n373152  Poem_for_your_sprog   \n373153  Poem_for_your_sprog   \n...                     ...   \n416146  Poem_for_your_sprog   \n416147  Poem_for_your_sprog   \n416148  Poem_for_your_sprog   \n416149  Poem_for_your_sprog   \n416150  Poem_for_your_sprog   \n\n                                          SubmissionTitle SubmissionContent  \\\n373053  What's the best response to an ex who says \"I ...              None   \n373129                What job seems to attract assholes?              None   \n373151                What job seems to attract assholes?              None   \n373152                  What's the most overrated drink ?              None   \n373153             What profession is typically overpaid?              None   \n...                                                   ...               ...   \n416146   What do you tell your partner when you're horny?              None   \n416147   What do you tell your partner when you're horny?              None   \n416148  People who stand up as soon as the plane lands...              None   \n416149          what is something that SHOULD be a crime?              None   \n416150          what is something that SHOULD be a crime?              None   \n\n           SubmissionAuthor GrandParentAuthor  CommentScore  \\\n373053              kohy1st              None           1.0   \n373129            Curlydoos              None           1.0   \n373151            Curlydoos              None           1.0   \n373152          TripleSgirl              None           1.0   \n373153  midnightlightbright              None           1.0   \n...                     ...               ...           ...   \n416146               gyrox1              None           1.0   \n416147               gyrox1              None           1.0   \n416148          sigurdarson              None           1.0   \n416149           dat1gaymer              None           1.0   \n416150           dat1gaymer              None           1.0   \n\n                                                     line  \n373053  <|startoftext|><|context|>AskReddit<|submissio...  \n373129  <|startoftext|><|context|>AskReddit<|submissio...  \n373151  <|startoftext|><|context|>AskReddit<|submissio...  \n373152  <|startoftext|><|context|>AskReddit<|submissio...  \n373153  <|startoftext|><|context|>AskReddit<|submissio...  \n...                                                   ...  \n416146  <|startoftext|><|context|>AskReddit<|submissio...  \n416147  <|startoftext|><|context|>AskReddit<|submissio...  \n416148  <|startoftext|><|context|>AskReddit<|submissio...  \n416149  <|startoftext|><|context|>AskReddit<|submissio...  \n416150  <|startoftext|><|context|>AskReddit<|submissio...  \n\n[5874 rows x 15 columns]",
      "text/html": "<div>\n<style scoped>\n    .dataframe tbody tr th:only-of-type {\n        vertical-align: middle;\n    }\n\n    .dataframe tbody tr th {\n        vertical-align: top;\n    }\n\n    .dataframe thead th {\n        text-align: right;\n    }\n</style>\n<table border=\"1\" class=\"dataframe\">\n  <thead>\n    <tr style=\"text-align: right;\">\n      <th></th>\n      <th>Subreddit</th>\n      <th>SubmissionId</th>\n      <th>ParentId</th>\n      <th>ParentAuthor</th>\n      <th>ParentBody</th>\n      <th>CommentId</th>\n      <th>CommentBody</th>\n      <th>TrainingString</th>\n      <th>CommentAuthor</th>\n      <th>SubmissionTitle</th>\n      <th>SubmissionContent</th>\n      <th>SubmissionAuthor</th>\n      <th>GrandParentAuthor</th>\n      <th>CommentScore</th>\n      <th>line</th>\n    </tr>\n  </thead>\n  <tbody>\n    <tr>\n      <th>373053</th>\n      <td>AskReddit</td>\n      <td>xss2z8</td>\n      <td>iqm1j7s</td>\n      <td>tsundokoala</td>\n      <td>This is wonderfully brutal.</td>\n      <td>iqm84zx</td>\n      <td>\"I miss you,\" he said,  \\nwith a shake of his ...</td>\n      <td>None</td>\n      <td>Poem_for_your_sprog</td>\n      <td>What's the best response to an ex who says \"I ...</td>\n      <td>None</td>\n      <td>kohy1st</td>\n      <td>None</td>\n      <td>1.0</td>\n      <td>&lt;|startoftext|&gt;&lt;|context|&gt;AskReddit&lt;|submissio...</td>\n    </tr>\n    <tr>\n      <th>373129</th>\n      <td>AskReddit</td>\n      <td>yybjxf</td>\n      <td>iwtgipl</td>\n      <td>IMakeBandNames</td>\n      <td>So, you’re the assman.</td>\n      <td>iwtncne</td>\n      <td>&amp;gt;So, you’re the assman.\\n\\nI love bums,  \\n...</td>\n      <td>None</td>\n      <td>Poem_for_your_sprog</td>\n      <td>What job seems to attract assholes?</td>\n      <td>None</td>\n      <td>Curlydoos</td>\n      <td>None</td>\n      <td>1.0</td>\n      <td>&lt;|startoftext|&gt;&lt;|context|&gt;AskReddit&lt;|submissio...</td>\n    </tr>\n    <tr>\n      <th>373151</th>\n      <td>AskReddit</td>\n      <td>yybjxf</td>\n      <td>iwtdpun</td>\n      <td>Badmash_askari</td>\n      <td>a proctologist</td>\n      <td>iwtmi0q</td>\n      <td>&amp;gt;a proctologist\\n\\nI love bums,  \\nand I lo...</td>\n      <td>None</td>\n      <td>Poem_for_your_sprog</td>\n      <td>What job seems to attract assholes?</td>\n      <td>None</td>\n      <td>Curlydoos</td>\n      <td>None</td>\n      <td>1.0</td>\n      <td>&lt;|startoftext|&gt;&lt;|context|&gt;AskReddit&lt;|submissio...</td>\n    </tr>\n    <tr>\n      <th>373152</th>\n      <td>AskReddit</td>\n      <td>yvbfn2</td>\n      <td>iwdeesf</td>\n      <td>kitrougeslide</td>\n      <td>Negroni spagliato with prosecco in it</td>\n      <td>iwdnart</td>\n      <td>&amp;gt;Negroni sbagliato with prosecco in it\\n\\nH...</td>\n      <td>None</td>\n      <td>Poem_for_your_sprog</td>\n      <td>What's the most overrated drink ?</td>\n      <td>None</td>\n      <td>TripleSgirl</td>\n      <td>None</td>\n      <td>1.0</td>\n      <td>&lt;|startoftext|&gt;&lt;|context|&gt;AskReddit&lt;|submissio...</td>\n    </tr>\n    <tr>\n      <th>373153</th>\n      <td>AskReddit</td>\n      <td>yu3883</td>\n      <td>iw7k31i</td>\n      <td>JenniferSSwindell</td>\n      <td>I'm here to explore a prospective career shift.</td>\n      <td>iw85nio</td>\n      <td>He looked at their wages,  \\nthe money they ma...</td>\n      <td>None</td>\n      <td>Poem_for_your_sprog</td>\n      <td>What profession is typically overpaid?</td>\n      <td>None</td>\n      <td>midnightlightbright</td>\n      <td>None</td>\n      <td>1.0</td>\n      <td>&lt;|startoftext|&gt;&lt;|context|&gt;AskReddit&lt;|submissio...</td>\n    </tr>\n    <tr>\n      <th>...</th>\n      <td>...</td>\n      <td>...</td>\n      <td>...</td>\n      <td>...</td>\n      <td>...</td>\n      <td>...</td>\n      <td>...</td>\n      <td>...</td>\n      <td>...</td>\n      <td>...</td>\n      <td>...</td>\n      <td>...</td>\n      <td>...</td>\n      <td>...</td>\n      <td>...</td>\n    </tr>\n    <tr>\n      <th>416146</th>\n      <td>AskReddit</td>\n      <td>z61fnw</td>\n      <td>ixz21pd</td>\n      <td>Startup70</td>\n      <td>60% of the time, it works every time(with Rizz)</td>\n      <td>ixzbe7q</td>\n      <td>&amp;gt;60% of the time, it works every time.\\n\\n\"...</td>\n      <td>None</td>\n      <td>Poem_for_your_sprog</td>\n      <td>What do you tell your partner when you're horny?</td>\n      <td>None</td>\n      <td>gyrox1</td>\n      <td>None</td>\n      <td>1.0</td>\n      <td>&lt;|startoftext|&gt;&lt;|context|&gt;AskReddit&lt;|submissio...</td>\n    </tr>\n    <tr>\n      <th>416147</th>\n      <td>AskReddit</td>\n      <td>z61fnw</td>\n      <td>ixyv0kf</td>\n      <td>Clcooper423</td>\n      <td>Nothing. Start massaging her legs, works every...</td>\n      <td>ixzax82</td>\n      <td>&amp;gt;works everytime, 60% of the time.\\n\\n\"Litt...</td>\n      <td>None</td>\n      <td>Poem_for_your_sprog</td>\n      <td>What do you tell your partner when you're horny?</td>\n      <td>None</td>\n      <td>gyrox1</td>\n      <td>None</td>\n      <td>1.0</td>\n      <td>&lt;|startoftext|&gt;&lt;|context|&gt;AskReddit&lt;|submissio...</td>\n    </tr>\n    <tr>\n      <th>416148</th>\n      <td>AskReddit</td>\n      <td>z5g6lv</td>\n      <td>ixw26i0</td>\n      <td>gotsthepockets</td>\n      <td>No don't!</td>\n      <td>ixw7stq</td>\n      <td>Be bold, be brave,  \\nbe strong, be true,  \\nB...</td>\n      <td>None</td>\n      <td>Poem_for_your_sprog</td>\n      <td>People who stand up as soon as the plane lands...</td>\n      <td>None</td>\n      <td>sigurdarson</td>\n      <td>None</td>\n      <td>1.0</td>\n      <td>&lt;|startoftext|&gt;&lt;|context|&gt;AskReddit&lt;|submissio...</td>\n    </tr>\n    <tr>\n      <th>416149</th>\n      <td>AskReddit</td>\n      <td>z08637</td>\n      <td>ix451gy</td>\n      <td>ItHurtzWhenIPee</td>\n      <td>TBS on Dish Network is one of the worst offend...</td>\n      <td>ix4bk84</td>\n      <td>\"I've thought of a notion,\" the broadcaster sa...</td>\n      <td>None</td>\n      <td>Poem_for_your_sprog</td>\n      <td>what is something that SHOULD be a crime?</td>\n      <td>None</td>\n      <td>dat1gaymer</td>\n      <td>None</td>\n      <td>1.0</td>\n      <td>&lt;|startoftext|&gt;&lt;|context|&gt;AskReddit&lt;|submissio...</td>\n    </tr>\n    <tr>\n      <th>416150</th>\n      <td>AskReddit</td>\n      <td>z08637</td>\n      <td>ix423w1</td>\n      <td>dannoh9</td>\n      <td>Making the volume during commercials louder th...</td>\n      <td>ix4bd1l</td>\n      <td>\"I've thought of a notion,\" the broadcaster sa...</td>\n      <td>None</td>\n      <td>Poem_for_your_sprog</td>\n      <td>what is something that SHOULD be a crime?</td>\n      <td>None</td>\n      <td>dat1gaymer</td>\n      <td>None</td>\n      <td>1.0</td>\n      <td>&lt;|startoftext|&gt;&lt;|context|&gt;AskReddit&lt;|submissio...</td>\n    </tr>\n  </tbody>\n</table>\n<p>5874 rows × 15 columns</p>\n</div>"
     },
     "metadata": {},
     "output_type": "display_data"
    }
   ],
   "source": [
    "display(filtered_user)\n",
    "\n",
    "records = filtered_user.to_dict(orient=\"records\")\n",
    "\n",
    "with open('foo.txt', 'w', encoding='utf-8') as f:\n",
    "    for record in records:\n",
    "        f.write(f\"{record['line']}\" + \"\\n\")"
   ],
   "metadata": {
    "collapsed": false,
    "ExecuteTime": {
     "start_time": "2023-03-27T12:08:59.176099Z",
     "end_time": "2023-03-27T12:08:59.759015Z"
    }
   }
  }
 ],
 "metadata": {
  "kernelspec": {
   "display_name": "Python 3",
   "language": "python",
   "name": "python3"
  },
  "language_info": {
   "codemirror_mode": {
    "name": "ipython",
    "version": 2
   },
   "file_extension": ".py",
   "mimetype": "text/x-python",
   "name": "python",
   "nbconvert_exporter": "python",
   "pygments_lexer": "ipython2",
   "version": "2.7.6"
  }
 },
 "nbformat": 4,
 "nbformat_minor": 0
}
