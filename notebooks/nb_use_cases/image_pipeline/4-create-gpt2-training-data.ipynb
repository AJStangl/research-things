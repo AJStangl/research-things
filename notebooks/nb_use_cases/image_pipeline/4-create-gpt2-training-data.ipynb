{
 "cells": [
  {
   "cell_type": "code",
   "execution_count": 1,
   "metadata": {
    "collapsed": true
   },
   "outputs": [],
   "source": [
    "import os\n",
    "\n",
    "os.environ[\"CUDA_VISIBLE_DEVICES\"] = \"0\"\n",
    "\n",
    "import pandas\n",
    "\n",
    "from shared_code.utility.spark.set_environ import set_azure_env\n",
    "\n",
    "set_azure_env()\n",
    "\n",
    "from shared_code.utility.storage.table import TableAdapter"
   ]
  },
  {
   "cell_type": "code",
   "execution_count": 2,
   "outputs": [],
   "source": [
    "table_name = \"training\"\n",
    "\n",
    "table_adapter: TableAdapter = TableAdapter()\n",
    "\n",
    "data_path = \"/data/parquet/\"\n",
    "\n",
    "parquet_process_data_path = data_path + \"processed_data.parquet\""
   ],
   "metadata": {
    "collapsed": false
   }
  },
  {
   "cell_type": "code",
   "execution_count": 3,
   "outputs": [
    {
     "name": "stdout",
     "output_type": "stream",
     "text": [
      "Reading from parquet /data/parquet/processed_data.parquet with Updated Primary Captions\n"
     ]
    },
    {
     "data": {
      "text/plain": "             subreddit          file_name  \\\n0             CityPorn  4emw5uldib9a1.jpg   \n3             AmIhotAF  4xyb1vgbjb9a1.jpg   \n4            greentext  3mewbe0wjb9a1.jpg   \n7            sfwpetite  v3ra9g4vrb9a1.jpg   \n10           sfwpetite  ldz8tgpsub9a1.jpg   \n...                ...                ...   \n8592       SFWRedheads  eu6z40qyya9a1.jpg   \n8593  SFWNextDoorGirls        Hzad3q2.jpg   \n8594          CityPorn  dwu7i1dni99a1.jpg   \n8596         greentext        bgho6WK.jpg   \n8599   HotGirlNextDoor  p6yewrl7eb9a1.jpg   \n\n                                                   text  \\\n0                                   New York in the fog   \n3                        Just looking for entertainment   \n4                                   Anon wants Elon cut   \n7                                                Braids   \n10                                      Incredible body   \n...                                                 ...   \n8592  Starting the day with mushroom water in my mus...   \n8593  your new years resolution should be sleeping w...   \n8594                    Ronda's bridge is brutal, Spain   \n8596                        Anon does a little trolling   \n8599                                             (IKTR)   \n\n                                         thumbnail_path  thumbnail_exists  \\\n0     D:\\data\\images\\CityPorn\\thumbnail\\4emw5uldib9a...              True   \n3     D:\\data\\images\\AmIhotAF\\thumbnail\\4xyb1vgbjb9a...              True   \n4     D:\\data\\images\\greentext\\thumbnail\\3mewbe0wjb9...              True   \n7     D:\\data\\images\\sfwpetite\\thumbnail\\v3ra9g4vrb9...              True   \n10    D:\\data\\images\\sfwpetite\\thumbnail\\ldz8tgpsub9...              True   \n...                                                 ...               ...   \n8592  D:\\data\\images\\SFWRedheads\\thumbnail\\eu6z40qyy...              True   \n8593  D:\\data\\images\\SFWNextDoorGirls\\thumbnail\\Hzad...              True   \n8594  D:\\data\\images\\CityPorn\\thumbnail\\dwu7i1dni99a...              True   \n8596     D:\\data\\images\\greentext\\thumbnail\\bgho6WK.jpg              True   \n8599  D:\\data\\images\\HotGirlNextDoor\\thumbnail\\p6yew...              True   \n\n                                        original_image  original_image_exists  \\\n0            D:\\data\\images\\CityPorn\\4emw5uldib9a1.jpg                   True   \n3            D:\\data\\images\\AmIhotAF\\4xyb1vgbjb9a1.jpg                   True   \n4           D:\\data\\images\\greentext\\3mewbe0wjb9a1.jpg                   True   \n7           D:\\data\\images\\sfwpetite\\v3ra9g4vrb9a1.jpg                   True   \n10          D:\\data\\images\\sfwpetite\\ldz8tgpsub9a1.jpg                   True   \n...                                                ...                    ...   \n8592      D:\\data\\images\\SFWRedheads\\eu6z40qyya9a1.jpg                   True   \n8593       D:\\data\\images\\SFWNextDoorGirls\\Hzad3q2.jpg                   True   \n8594         D:\\data\\images\\CityPorn\\dwu7i1dni99a1.jpg                   True   \n8596              D:\\data\\images\\greentext\\bgho6WK.jpg                   True   \n8599  D:\\data\\images\\HotGirlNextDoor\\p6yewrl7eb9a1.jpg                   True   \n\n                                  hash       id  \\\n0     7a8d96e378c15c8ab8440ac311f12c11  1000cej   \n3     e554c1ed7ffa2740436ac082068b2824  1000glf   \n4     1dec3dabb5e46cde01855d06089c287a  1000j1n   \n7     16ca1536c4f6936d3e994df7cb40ab8e  1001ghp   \n10    a0b0ffef01a7abf9de351000026d49f0  1001ssd   \n...                                ...      ...   \n8592  699ab3d71e8b26f7a72ea73bd2a295a0   zzxyrq   \n8593  d159090b1c7b485347cec61c70bc9c54   zzy3sq   \n8594  02ae3631262b2de84b0b24c4275deae9   zzy49v   \n8596  df666b8b2ad543c77b3fdba89becda1a   zzzeoi   \n8599  94dea288ddffb51eb1a786d469b59374   zzzu28   \n\n                                       original_caption  \\\n0      a city street filled with lots of tall buildings   \n3     a beautiful young woman in a black dress posin...   \n4     a collage of photos showing a man in a suit an...   \n7     a beautiful young woman in a bikini posing for...   \n10              a woman in a bikini standing on a beach   \n...                                                 ...   \n8592  A woman in a pink shirt and black pants is tal...   \n8593  A girl in a pink dress is talking to another g...   \n8594  A group of people are standing in front of a l...   \n8596  A man wearing a black shirt and black pants is...   \n8599  A woman in a pink bathing suit is sitting on a...   \n\n                                      thumbnail_caption  \n0      a city street filled with lots of tall buildings  \n3     a beautiful young woman in a black dress posin...  \n4     a collage of photos showing a man in a suit an...  \n7     a beautiful young woman in a bikini posing for...  \n10              a woman in a bikini standing on a beach  \n...                                                 ...  \n8592                a woman holding up a bottle of beer  \n8593  a young woman in a red dress is talking on the...  \n8594     a bridge over a body of water with a waterfall  \n8596         a series of photos showing a man in a suit  \n8599             a woman in a bikini sitting on a beach  \n\n[5401 rows x 11 columns]",
      "text/html": "<div>\n<style scoped>\n    .dataframe tbody tr th:only-of-type {\n        vertical-align: middle;\n    }\n\n    .dataframe tbody tr th {\n        vertical-align: top;\n    }\n\n    .dataframe thead th {\n        text-align: right;\n    }\n</style>\n<table border=\"1\" class=\"dataframe\">\n  <thead>\n    <tr style=\"text-align: right;\">\n      <th></th>\n      <th>subreddit</th>\n      <th>file_name</th>\n      <th>text</th>\n      <th>thumbnail_path</th>\n      <th>thumbnail_exists</th>\n      <th>original_image</th>\n      <th>original_image_exists</th>\n      <th>hash</th>\n      <th>id</th>\n      <th>original_caption</th>\n      <th>thumbnail_caption</th>\n    </tr>\n  </thead>\n  <tbody>\n    <tr>\n      <th>0</th>\n      <td>CityPorn</td>\n      <td>4emw5uldib9a1.jpg</td>\n      <td>New York in the fog</td>\n      <td>D:\\data\\images\\CityPorn\\thumbnail\\4emw5uldib9a...</td>\n      <td>True</td>\n      <td>D:\\data\\images\\CityPorn\\4emw5uldib9a1.jpg</td>\n      <td>True</td>\n      <td>7a8d96e378c15c8ab8440ac311f12c11</td>\n      <td>1000cej</td>\n      <td>a city street filled with lots of tall buildings</td>\n      <td>a city street filled with lots of tall buildings</td>\n    </tr>\n    <tr>\n      <th>3</th>\n      <td>AmIhotAF</td>\n      <td>4xyb1vgbjb9a1.jpg</td>\n      <td>Just looking for entertainment</td>\n      <td>D:\\data\\images\\AmIhotAF\\thumbnail\\4xyb1vgbjb9a...</td>\n      <td>True</td>\n      <td>D:\\data\\images\\AmIhotAF\\4xyb1vgbjb9a1.jpg</td>\n      <td>True</td>\n      <td>e554c1ed7ffa2740436ac082068b2824</td>\n      <td>1000glf</td>\n      <td>a beautiful young woman in a black dress posin...</td>\n      <td>a beautiful young woman in a black dress posin...</td>\n    </tr>\n    <tr>\n      <th>4</th>\n      <td>greentext</td>\n      <td>3mewbe0wjb9a1.jpg</td>\n      <td>Anon wants Elon cut</td>\n      <td>D:\\data\\images\\greentext\\thumbnail\\3mewbe0wjb9...</td>\n      <td>True</td>\n      <td>D:\\data\\images\\greentext\\3mewbe0wjb9a1.jpg</td>\n      <td>True</td>\n      <td>1dec3dabb5e46cde01855d06089c287a</td>\n      <td>1000j1n</td>\n      <td>a collage of photos showing a man in a suit an...</td>\n      <td>a collage of photos showing a man in a suit an...</td>\n    </tr>\n    <tr>\n      <th>7</th>\n      <td>sfwpetite</td>\n      <td>v3ra9g4vrb9a1.jpg</td>\n      <td>Braids</td>\n      <td>D:\\data\\images\\sfwpetite\\thumbnail\\v3ra9g4vrb9...</td>\n      <td>True</td>\n      <td>D:\\data\\images\\sfwpetite\\v3ra9g4vrb9a1.jpg</td>\n      <td>True</td>\n      <td>16ca1536c4f6936d3e994df7cb40ab8e</td>\n      <td>1001ghp</td>\n      <td>a beautiful young woman in a bikini posing for...</td>\n      <td>a beautiful young woman in a bikini posing for...</td>\n    </tr>\n    <tr>\n      <th>10</th>\n      <td>sfwpetite</td>\n      <td>ldz8tgpsub9a1.jpg</td>\n      <td>Incredible body</td>\n      <td>D:\\data\\images\\sfwpetite\\thumbnail\\ldz8tgpsub9...</td>\n      <td>True</td>\n      <td>D:\\data\\images\\sfwpetite\\ldz8tgpsub9a1.jpg</td>\n      <td>True</td>\n      <td>a0b0ffef01a7abf9de351000026d49f0</td>\n      <td>1001ssd</td>\n      <td>a woman in a bikini standing on a beach</td>\n      <td>a woman in a bikini standing on a beach</td>\n    </tr>\n    <tr>\n      <th>...</th>\n      <td>...</td>\n      <td>...</td>\n      <td>...</td>\n      <td>...</td>\n      <td>...</td>\n      <td>...</td>\n      <td>...</td>\n      <td>...</td>\n      <td>...</td>\n      <td>...</td>\n      <td>...</td>\n    </tr>\n    <tr>\n      <th>8592</th>\n      <td>SFWRedheads</td>\n      <td>eu6z40qyya9a1.jpg</td>\n      <td>Starting the day with mushroom water in my mus...</td>\n      <td>D:\\data\\images\\SFWRedheads\\thumbnail\\eu6z40qyy...</td>\n      <td>True</td>\n      <td>D:\\data\\images\\SFWRedheads\\eu6z40qyya9a1.jpg</td>\n      <td>True</td>\n      <td>699ab3d71e8b26f7a72ea73bd2a295a0</td>\n      <td>zzxyrq</td>\n      <td>A woman in a pink shirt and black pants is tal...</td>\n      <td>a woman holding up a bottle of beer</td>\n    </tr>\n    <tr>\n      <th>8593</th>\n      <td>SFWNextDoorGirls</td>\n      <td>Hzad3q2.jpg</td>\n      <td>your new years resolution should be sleeping w...</td>\n      <td>D:\\data\\images\\SFWNextDoorGirls\\thumbnail\\Hzad...</td>\n      <td>True</td>\n      <td>D:\\data\\images\\SFWNextDoorGirls\\Hzad3q2.jpg</td>\n      <td>True</td>\n      <td>d159090b1c7b485347cec61c70bc9c54</td>\n      <td>zzy3sq</td>\n      <td>A girl in a pink dress is talking to another g...</td>\n      <td>a young woman in a red dress is talking on the...</td>\n    </tr>\n    <tr>\n      <th>8594</th>\n      <td>CityPorn</td>\n      <td>dwu7i1dni99a1.jpg</td>\n      <td>Ronda's bridge is brutal, Spain</td>\n      <td>D:\\data\\images\\CityPorn\\thumbnail\\dwu7i1dni99a...</td>\n      <td>True</td>\n      <td>D:\\data\\images\\CityPorn\\dwu7i1dni99a1.jpg</td>\n      <td>True</td>\n      <td>02ae3631262b2de84b0b24c4275deae9</td>\n      <td>zzy49v</td>\n      <td>A group of people are standing in front of a l...</td>\n      <td>a bridge over a body of water with a waterfall</td>\n    </tr>\n    <tr>\n      <th>8596</th>\n      <td>greentext</td>\n      <td>bgho6WK.jpg</td>\n      <td>Anon does a little trolling</td>\n      <td>D:\\data\\images\\greentext\\thumbnail\\bgho6WK.jpg</td>\n      <td>True</td>\n      <td>D:\\data\\images\\greentext\\bgho6WK.jpg</td>\n      <td>True</td>\n      <td>df666b8b2ad543c77b3fdba89becda1a</td>\n      <td>zzzeoi</td>\n      <td>A man wearing a black shirt and black pants is...</td>\n      <td>a series of photos showing a man in a suit</td>\n    </tr>\n    <tr>\n      <th>8599</th>\n      <td>HotGirlNextDoor</td>\n      <td>p6yewrl7eb9a1.jpg</td>\n      <td>(IKTR)</td>\n      <td>D:\\data\\images\\HotGirlNextDoor\\thumbnail\\p6yew...</td>\n      <td>True</td>\n      <td>D:\\data\\images\\HotGirlNextDoor\\p6yewrl7eb9a1.jpg</td>\n      <td>True</td>\n      <td>94dea288ddffb51eb1a786d469b59374</td>\n      <td>zzzu28</td>\n      <td>A woman in a pink bathing suit is sitting on a...</td>\n      <td>a woman in a bikini sitting on a beach</td>\n    </tr>\n  </tbody>\n</table>\n<p>5401 rows × 11 columns</p>\n</div>"
     },
     "metadata": {},
     "output_type": "display_data"
    }
   ],
   "source": [
    "print(f\"Reading from parquet {parquet_process_data_path} with Updated Primary Captions\")\n",
    "\n",
    "processed_with_captions = pandas.read_parquet(parquet_process_data_path)\n",
    "\n",
    "display(processed_with_captions)"
   ],
   "metadata": {
    "collapsed": false
   }
  },
  {
   "cell_type": "code",
   "execution_count": 4,
   "outputs": [],
   "source": [
    "from typing import List\n",
    "from dataclasses import dataclass\n",
    "\n",
    "@dataclass\n",
    "class DataSources:\n",
    "\tname: str\n",
    "\tdata: List[str]\n",
    "\n",
    "\t@staticmethod\n",
    "\tdef from_dict(obj: dict) -> 'DataSources':\n",
    "\t\t_name = obj.get(\"name\")\n",
    "\t\t_data = [x for x in obj.get(\"data\")]\n",
    "\t\treturn DataSources(_name, _data)"
   ],
   "metadata": {
    "collapsed": false
   }
  },
  {
   "cell_type": "code",
   "execution_count": 5,
   "outputs": [],
   "source": [
    "sources = [\n",
    "\t{\"name\": \"CityDiffusion\", \"data\": [\n",
    "\t\t\"CityPorn\"\n",
    "\t]},\n",
    "\t{\"name\": \"NatureDiffusion\",\n",
    "\t \"data\": [\n",
    "\t\t \"EarthPorn\"\n",
    "\t ]},\n",
    "\t{\"name\": \"CosmicDiffusion\",\n",
    "\t \"data\": [\n",
    "\t\t \"SpacePorn\"\n",
    "\t ]},\n",
    "\t{\"name\": \"MemeDiffusion\",\n",
    "\t \"data\": [\n",
    "\t\t \"greentext\",\n",
    "\t\t \"memes\"\n",
    "\t ]},\n",
    "\t{\"name\": \"SexyDiffusion\",\n",
    "\t \"data\": [\n",
    "\t\t \"sfwpetite\",\n",
    "\t\t \"selfies\",\n",
    "\t\t \"Amicute\",\n",
    "\t\t \"amihot\",\n",
    "\t\t \"AmIhotAF\",\n",
    "\t\t \"HotGirlNextDoor\",\n",
    "\t\t \"SFWNextDoorGirls\",\n",
    "\t\t \"SFWRedheads\"]\n",
    "\t }\n",
    "]\n",
    "\n",
    "data_sources = [DataSources.from_dict(x) for x in sources]"
   ],
   "metadata": {
    "collapsed": false
   }
  },
  {
   "cell_type": "code",
   "execution_count": 7,
   "outputs": [],
   "source": [
    "lines = []\n",
    "for record in processed_with_captions.to_dict(orient='records'):\n",
    "\tsubreddit = record['subreddit']\n",
    "\tfor source in data_sources:\n",
    "\t\tif subreddit in source.data:\n",
    "\t\t\tline = f\"<|startoftext|><|model|>{source.name}<|prompt|>{record['text']}<|text|>{record['original_caption']}<|endoftext|>\" + \"\\n\"\n",
    "\t\t\tlines.append(line)\n",
    "with open(\"training.txt\", \"wb\") as f:\n",
    "\tfor line in lines:\n",
    "\t\tf.write(line.encode(\"utf-8\"))"
   ],
   "metadata": {
    "collapsed": false
   }
  },
  {
   "cell_type": "markdown",
   "source": [],
   "metadata": {
    "collapsed": false
   }
  }
 ],
 "metadata": {
  "kernelspec": {
   "display_name": "Python 3",
   "language": "python",
   "name": "python3"
  },
  "language_info": {
   "codemirror_mode": {
    "name": "ipython",
    "version": 2
   },
   "file_extension": ".py",
   "mimetype": "text/x-python",
   "name": "python",
   "nbconvert_exporter": "python",
   "pygments_lexer": "ipython2",
   "version": "2.7.6"
  }
 },
 "nbformat": 4,
 "nbformat_minor": 0
}
