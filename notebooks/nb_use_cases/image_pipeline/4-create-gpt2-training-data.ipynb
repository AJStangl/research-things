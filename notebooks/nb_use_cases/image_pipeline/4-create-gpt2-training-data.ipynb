{
 "cells": [
  {
   "cell_type": "code",
   "execution_count": 1,
   "metadata": {
    "collapsed": true
   },
   "outputs": [],
   "source": [
    "import os\n",
    "\n",
    "os.environ[\"CUDA_VISIBLE_DEVICES\"] = \"0\"\n",
    "\n",
    "import pandas\n",
    "\n",
    "from shared_code.utility.spark.set_environ import set_azure_env\n",
    "\n",
    "set_azure_env()\n",
    "\n",
    "from shared_code.utility.storage.table import TableAdapter"
   ]
  },
  {
   "cell_type": "code",
   "execution_count": 2,
   "outputs": [],
   "source": [
    "table_name = \"training\"\n",
    "\n",
    "table_adapter: TableAdapter = TableAdapter()\n",
    "\n",
    "data_path = \"/data/parquet/\"\n",
    "\n",
    "parquet_process_data_path = data_path + \"processed_data.parquet\""
   ],
   "metadata": {
    "collapsed": false
   }
  },
  {
   "cell_type": "code",
   "execution_count": 3,
   "outputs": [
    {
     "name": "stdout",
     "output_type": "stream",
     "text": [
      "Reading from parquet /data/parquet/processed_data.parquet with Updated Primary Captions\n"
     ]
    },
    {
     "data": {
      "text/plain": "                subreddit          file_name  \\\n0                CityPorn  4emw5uldib9a1.jpg   \n3                AmIhotAF  4xyb1vgbjb9a1.jpg   \n4               greentext  3mewbe0wjb9a1.jpg   \n5               spaceporn  7s5aafaqkb9a1.jpg   \n7               spaceporn  abojw7lqlb9a1.jpg   \n...                   ...                ...   \n11724           spaceporn  abwhhq0w8b9a1.jpg   \n11725           spaceporn  7hzipg1bab9a1.jpg   \n11726           greentext        bgho6WK.jpg   \n11728  trippinthroughtime        arCpzQ0.jpg   \n11730     HotGirlNextDoor  p6yewrl7eb9a1.jpg   \n\n                                                    text  \\\n0                                    New York in the fog   \n3                         Just looking for entertainment   \n4                                    Anon wants Elon cut   \n5                          Northern Lights above Lofoten   \n7                                          Viking Lights   \n...                                                  ...   \n11724           Polaris to Cassiopeia on a cloudy night.   \n11725  The hunt for habitable ocean worlds beyond our...   \n11726                        Anon does a little trolling   \n11728         He didn't shed light on the topic I guess.   \n11730                                             (IKTR)   \n\n                                          thumbnail_path  thumbnail_exists  \\\n0      D:\\data\\images\\CityPorn\\thumbnail\\4emw5uldib9a...              True   \n3      D:\\data\\images\\AmIhotAF\\thumbnail\\4xyb1vgbjb9a...              True   \n4      D:\\data\\images\\greentext\\thumbnail\\3mewbe0wjb9...              True   \n5      D:\\data\\images\\spaceporn\\thumbnail\\7s5aafaqkb9...              True   \n7      D:\\data\\images\\spaceporn\\thumbnail\\abojw7lqlb9...              True   \n...                                                  ...               ...   \n11724  D:\\data\\images\\spaceporn\\thumbnail\\abwhhq0w8b9...              True   \n11725  D:\\data\\images\\spaceporn\\thumbnail\\7hzipg1bab9...              True   \n11726     D:\\data\\images\\greentext\\thumbnail\\bgho6WK.jpg              True   \n11728  D:\\data\\images\\trippinthroughtime\\thumbnail\\ar...              True   \n11730  D:\\data\\images\\HotGirlNextDoor\\thumbnail\\p6yew...              True   \n\n                                         original_image  \\\n0             D:\\data\\images\\CityPorn\\4emw5uldib9a1.jpg   \n3             D:\\data\\images\\AmIhotAF\\4xyb1vgbjb9a1.jpg   \n4            D:\\data\\images\\greentext\\3mewbe0wjb9a1.jpg   \n5            D:\\data\\images\\spaceporn\\7s5aafaqkb9a1.jpg   \n7            D:\\data\\images\\spaceporn\\abojw7lqlb9a1.jpg   \n...                                                 ...   \n11724        D:\\data\\images\\spaceporn\\abwhhq0w8b9a1.jpg   \n11725        D:\\data\\images\\spaceporn\\7hzipg1bab9a1.jpg   \n11726              D:\\data\\images\\greentext\\bgho6WK.jpg   \n11728     D:\\data\\images\\trippinthroughtime\\arCpzQ0.jpg   \n11730  D:\\data\\images\\HotGirlNextDoor\\p6yewrl7eb9a1.jpg   \n\n       original_image_exists                              hash       id  \\\n0                       True  7a8d96e378c15c8ab8440ac311f12c11  1000cej   \n3                       True  e554c1ed7ffa2740436ac082068b2824  1000glf   \n4                       True  1dec3dabb5e46cde01855d06089c287a  1000j1n   \n5                       True  2c39ce1290fba541abd0b004b09da6b2  1000mjs   \n7                       True  0f72de47c69ff50eca5fa3990215f4ac  1000qpd   \n...                      ...                               ...      ...   \n11724                   True  f5973637fc56360c15818ba0ca1f7ffa   zzz6dp   \n11725                   True  5b22bea7582229c1f9b992176a2ca2c6   zzzcn5   \n11726                   True  df666b8b2ad543c77b3fdba89becda1a   zzzeoi   \n11728                   True  5007b937974ae333022c0c91b795ca09   zzzlbf   \n11730                   True  94dea288ddffb51eb1a786d469b59374   zzzu28   \n\n                                        original_caption  \\\n0       a city street filled with lots of tall buildings   \n3      a beautiful young woman in a black dress posin...   \n4      a collage of photos showing a man in a suit an...   \n5            a nighttime view of a large rock formation    \n7           a boat sitting on top of a lush green field    \n...                                                  ...   \n11724   a large amount of light is reflected in the sky    \n11725  a blue and white photo of a blue and white obj...   \n11726  A man wearing a black shirt and black pants is...   \n11728                a man in a red shirt and a red hat    \n11730  A woman in a pink bathing suit is sitting on a...   \n\n                                       thumbnail_caption  \n0       a city street filled with lots of tall buildings  \n3      a beautiful young woman in a black dress posin...  \n4      a collage of photos showing a man in a suit an...  \n5            a nighttime view of a large rock formation   \n7           a boat sitting on top of a lush green field   \n...                                                  ...  \n11724   a large amount of light is reflected in the sky   \n11725  a blue and white photo of a blue and white obj...  \n11726  A man wearing a black shirt and black pants is...  \n11728                a man in a red shirt and a red hat   \n11730  A woman in a pink bathing suit is sitting on a...  \n\n[7901 rows x 11 columns]",
      "text/html": "<div>\n<style scoped>\n    .dataframe tbody tr th:only-of-type {\n        vertical-align: middle;\n    }\n\n    .dataframe tbody tr th {\n        vertical-align: top;\n    }\n\n    .dataframe thead th {\n        text-align: right;\n    }\n</style>\n<table border=\"1\" class=\"dataframe\">\n  <thead>\n    <tr style=\"text-align: right;\">\n      <th></th>\n      <th>subreddit</th>\n      <th>file_name</th>\n      <th>text</th>\n      <th>thumbnail_path</th>\n      <th>thumbnail_exists</th>\n      <th>original_image</th>\n      <th>original_image_exists</th>\n      <th>hash</th>\n      <th>id</th>\n      <th>original_caption</th>\n      <th>thumbnail_caption</th>\n    </tr>\n  </thead>\n  <tbody>\n    <tr>\n      <th>0</th>\n      <td>CityPorn</td>\n      <td>4emw5uldib9a1.jpg</td>\n      <td>New York in the fog</td>\n      <td>D:\\data\\images\\CityPorn\\thumbnail\\4emw5uldib9a...</td>\n      <td>True</td>\n      <td>D:\\data\\images\\CityPorn\\4emw5uldib9a1.jpg</td>\n      <td>True</td>\n      <td>7a8d96e378c15c8ab8440ac311f12c11</td>\n      <td>1000cej</td>\n      <td>a city street filled with lots of tall buildings</td>\n      <td>a city street filled with lots of tall buildings</td>\n    </tr>\n    <tr>\n      <th>3</th>\n      <td>AmIhotAF</td>\n      <td>4xyb1vgbjb9a1.jpg</td>\n      <td>Just looking for entertainment</td>\n      <td>D:\\data\\images\\AmIhotAF\\thumbnail\\4xyb1vgbjb9a...</td>\n      <td>True</td>\n      <td>D:\\data\\images\\AmIhotAF\\4xyb1vgbjb9a1.jpg</td>\n      <td>True</td>\n      <td>e554c1ed7ffa2740436ac082068b2824</td>\n      <td>1000glf</td>\n      <td>a beautiful young woman in a black dress posin...</td>\n      <td>a beautiful young woman in a black dress posin...</td>\n    </tr>\n    <tr>\n      <th>4</th>\n      <td>greentext</td>\n      <td>3mewbe0wjb9a1.jpg</td>\n      <td>Anon wants Elon cut</td>\n      <td>D:\\data\\images\\greentext\\thumbnail\\3mewbe0wjb9...</td>\n      <td>True</td>\n      <td>D:\\data\\images\\greentext\\3mewbe0wjb9a1.jpg</td>\n      <td>True</td>\n      <td>1dec3dabb5e46cde01855d06089c287a</td>\n      <td>1000j1n</td>\n      <td>a collage of photos showing a man in a suit an...</td>\n      <td>a collage of photos showing a man in a suit an...</td>\n    </tr>\n    <tr>\n      <th>5</th>\n      <td>spaceporn</td>\n      <td>7s5aafaqkb9a1.jpg</td>\n      <td>Northern Lights above Lofoten</td>\n      <td>D:\\data\\images\\spaceporn\\thumbnail\\7s5aafaqkb9...</td>\n      <td>True</td>\n      <td>D:\\data\\images\\spaceporn\\7s5aafaqkb9a1.jpg</td>\n      <td>True</td>\n      <td>2c39ce1290fba541abd0b004b09da6b2</td>\n      <td>1000mjs</td>\n      <td>a nighttime view of a large rock formation</td>\n      <td>a nighttime view of a large rock formation</td>\n    </tr>\n    <tr>\n      <th>7</th>\n      <td>spaceporn</td>\n      <td>abojw7lqlb9a1.jpg</td>\n      <td>Viking Lights</td>\n      <td>D:\\data\\images\\spaceporn\\thumbnail\\abojw7lqlb9...</td>\n      <td>True</td>\n      <td>D:\\data\\images\\spaceporn\\abojw7lqlb9a1.jpg</td>\n      <td>True</td>\n      <td>0f72de47c69ff50eca5fa3990215f4ac</td>\n      <td>1000qpd</td>\n      <td>a boat sitting on top of a lush green field</td>\n      <td>a boat sitting on top of a lush green field</td>\n    </tr>\n    <tr>\n      <th>...</th>\n      <td>...</td>\n      <td>...</td>\n      <td>...</td>\n      <td>...</td>\n      <td>...</td>\n      <td>...</td>\n      <td>...</td>\n      <td>...</td>\n      <td>...</td>\n      <td>...</td>\n      <td>...</td>\n    </tr>\n    <tr>\n      <th>11724</th>\n      <td>spaceporn</td>\n      <td>abwhhq0w8b9a1.jpg</td>\n      <td>Polaris to Cassiopeia on a cloudy night.</td>\n      <td>D:\\data\\images\\spaceporn\\thumbnail\\abwhhq0w8b9...</td>\n      <td>True</td>\n      <td>D:\\data\\images\\spaceporn\\abwhhq0w8b9a1.jpg</td>\n      <td>True</td>\n      <td>f5973637fc56360c15818ba0ca1f7ffa</td>\n      <td>zzz6dp</td>\n      <td>a large amount of light is reflected in the sky</td>\n      <td>a large amount of light is reflected in the sky</td>\n    </tr>\n    <tr>\n      <th>11725</th>\n      <td>spaceporn</td>\n      <td>7hzipg1bab9a1.jpg</td>\n      <td>The hunt for habitable ocean worlds beyond our...</td>\n      <td>D:\\data\\images\\spaceporn\\thumbnail\\7hzipg1bab9...</td>\n      <td>True</td>\n      <td>D:\\data\\images\\spaceporn\\7hzipg1bab9a1.jpg</td>\n      <td>True</td>\n      <td>5b22bea7582229c1f9b992176a2ca2c6</td>\n      <td>zzzcn5</td>\n      <td>a blue and white photo of a blue and white obj...</td>\n      <td>a blue and white photo of a blue and white obj...</td>\n    </tr>\n    <tr>\n      <th>11726</th>\n      <td>greentext</td>\n      <td>bgho6WK.jpg</td>\n      <td>Anon does a little trolling</td>\n      <td>D:\\data\\images\\greentext\\thumbnail\\bgho6WK.jpg</td>\n      <td>True</td>\n      <td>D:\\data\\images\\greentext\\bgho6WK.jpg</td>\n      <td>True</td>\n      <td>df666b8b2ad543c77b3fdba89becda1a</td>\n      <td>zzzeoi</td>\n      <td>A man wearing a black shirt and black pants is...</td>\n      <td>A man wearing a black shirt and black pants is...</td>\n    </tr>\n    <tr>\n      <th>11728</th>\n      <td>trippinthroughtime</td>\n      <td>arCpzQ0.jpg</td>\n      <td>He didn't shed light on the topic I guess.</td>\n      <td>D:\\data\\images\\trippinthroughtime\\thumbnail\\ar...</td>\n      <td>True</td>\n      <td>D:\\data\\images\\trippinthroughtime\\arCpzQ0.jpg</td>\n      <td>True</td>\n      <td>5007b937974ae333022c0c91b795ca09</td>\n      <td>zzzlbf</td>\n      <td>a man in a red shirt and a red hat</td>\n      <td>a man in a red shirt and a red hat</td>\n    </tr>\n    <tr>\n      <th>11730</th>\n      <td>HotGirlNextDoor</td>\n      <td>p6yewrl7eb9a1.jpg</td>\n      <td>(IKTR)</td>\n      <td>D:\\data\\images\\HotGirlNextDoor\\thumbnail\\p6yew...</td>\n      <td>True</td>\n      <td>D:\\data\\images\\HotGirlNextDoor\\p6yewrl7eb9a1.jpg</td>\n      <td>True</td>\n      <td>94dea288ddffb51eb1a786d469b59374</td>\n      <td>zzzu28</td>\n      <td>A woman in a pink bathing suit is sitting on a...</td>\n      <td>A woman in a pink bathing suit is sitting on a...</td>\n    </tr>\n  </tbody>\n</table>\n<p>7901 rows × 11 columns</p>\n</div>"
     },
     "metadata": {},
     "output_type": "display_data"
    }
   ],
   "source": [
    "print(f\"Reading from parquet {parquet_process_data_path} with Updated Primary Captions\")\n",
    "\n",
    "processed_with_captions = pandas.read_parquet(parquet_process_data_path)\n",
    "\n",
    "display(processed_with_captions)"
   ],
   "metadata": {
    "collapsed": false
   }
  },
  {
   "cell_type": "code",
   "execution_count": 4,
   "outputs": [],
   "source": [
    "from typing import List\n",
    "from dataclasses import dataclass\n",
    "\n",
    "@dataclass\n",
    "class DataSources:\n",
    "\tname: str\n",
    "\tdata: List[str]\n",
    "\n",
    "\t@staticmethod\n",
    "\tdef from_dict(obj: dict) -> 'DataSources':\n",
    "\t\t_name = obj.get(\"name\")\n",
    "\t\t_data = [x for x in obj.get(\"data\")]\n",
    "\t\treturn DataSources(_name, _data)"
   ],
   "metadata": {
    "collapsed": false
   }
  },
  {
   "cell_type": "code",
   "execution_count": 5,
   "outputs": [],
   "source": [
    "sources = [\n",
    "\t{\"name\": \"CityDiffusion\", \"data\": [\n",
    "\t\t\"CityPorn\"\n",
    "\t]},\n",
    "\t{\"name\": \"NatureDiffusion\",\n",
    "\t \"data\": [\n",
    "\t\t \"EarthPorn\"\n",
    "\t ]},\n",
    "\t{\"name\": \"CosmicDiffusion\",\n",
    "\t \"data\": [\n",
    "\t\t \"SpacePorn\"\n",
    "\t ]},\n",
    "\t{\"name\": \"MemeDiffusion\",\n",
    "\t \"data\": [\n",
    "\t\t \"greentext\",\n",
    "\t\t \"memes\"\n",
    "\t ]},\n",
    "\t{\"name\": \"SexyDiffusion\",\n",
    "\t \"data\": [\n",
    "\t\t \"sfwpetite\",\n",
    "\t\t \"selfies\",\n",
    "\t\t \"Amicute\",\n",
    "\t\t \"amihot\",\n",
    "\t\t \"AmIhotAF\",\n",
    "\t\t \"HotGirlNextDoor\",\n",
    "\t\t \"SFWNextDoorGirls\",\n",
    "\t\t \"SFWRedheads\"]\n",
    "\t }\n",
    "]\n",
    "\n",
    "data_sources = [DataSources.from_dict(x) for x in sources]"
   ],
   "metadata": {
    "collapsed": false
   }
  },
  {
   "cell_type": "code",
   "execution_count": 20,
   "outputs": [
    {
     "data": {
      "text/plain": "              subreddit          file_name  \\\n3              AmIhotAF  4xyb1vgbjb9a1.jpg   \n9             sfwpetite  v3ra9g4vrb9a1.jpg   \n12            sfwpetite  ldz8tgpsub9a1.jpg   \n13          SFWRedheads  qlr6w888ga9a1.jpg   \n17          SFWRedheads  el3s490lzb9a1.jpg   \n...                 ...                ...   \n11706       SFWRedheads  s20oajzpja9a1.jpg   \n11708   HotGirlNextDoor  mrq7di60499a1.jpg   \n11715   HotGirlNextDoor  dozyybyzwa9a1.jpg   \n11717  SFWNextDoorGirls        Hzad3q2.jpg   \n11730   HotGirlNextDoor  p6yewrl7eb9a1.jpg   \n\n                                                    text  \\\n3                         Just looking for entertainment   \n9                                                 Braids   \n12                                       Incredible body   \n13     I heard wearing red on NYE brings good luck......   \n17     Happy New Year to every single person near and...   \n...                                                  ...   \n11706           Good morning! What are your plans today?   \n11708                                     Hotties (IKTR)   \n11715                                 Perfect Day (IKTR)   \n11717  your new years resolution should be sleeping w...   \n11730                                             (IKTR)   \n\n                                          thumbnail_path thumbnail_exists  \\\n3      D:\\data\\images\\AmIhotAF\\thumbnail\\4xyb1vgbjb9a...             True   \n9      D:\\data\\images\\sfwpetite\\thumbnail\\v3ra9g4vrb9...             True   \n12     D:\\data\\images\\sfwpetite\\thumbnail\\ldz8tgpsub9...             True   \n13     D:\\data\\images\\SFWRedheads\\thumbnail\\qlr6w888g...             True   \n17     D:\\data\\images\\SFWRedheads\\thumbnail\\el3s490lz...             True   \n...                                                  ...              ...   \n11706  D:\\data\\images\\SFWRedheads\\thumbnail\\s20oajzpj...             True   \n11708  D:\\data\\images\\HotGirlNextDoor\\thumbnail\\mrq7d...             True   \n11715  D:\\data\\images\\HotGirlNextDoor\\thumbnail\\dozyy...             True   \n11717  D:\\data\\images\\SFWNextDoorGirls\\thumbnail\\Hzad...             True   \n11730  D:\\data\\images\\HotGirlNextDoor\\thumbnail\\p6yew...             True   \n\n                                         original_image original_image_exists  \\\n3             D:\\data\\images\\AmIhotAF\\4xyb1vgbjb9a1.jpg                  True   \n9            D:\\data\\images\\sfwpetite\\v3ra9g4vrb9a1.jpg                  True   \n12           D:\\data\\images\\sfwpetite\\ldz8tgpsub9a1.jpg                  True   \n13         D:\\data\\images\\SFWRedheads\\qlr6w888ga9a1.jpg                  True   \n17         D:\\data\\images\\SFWRedheads\\el3s490lzb9a1.jpg                  True   \n...                                                 ...                   ...   \n11706      D:\\data\\images\\SFWRedheads\\s20oajzpja9a1.jpg                  True   \n11708  D:\\data\\images\\HotGirlNextDoor\\mrq7di60499a1.jpg                  True   \n11715  D:\\data\\images\\HotGirlNextDoor\\dozyybyzwa9a1.jpg                  True   \n11717       D:\\data\\images\\SFWNextDoorGirls\\Hzad3q2.jpg                  True   \n11730  D:\\data\\images\\HotGirlNextDoor\\p6yewrl7eb9a1.jpg                  True   \n\n                                   hash       id  \\\n3      e554c1ed7ffa2740436ac082068b2824  1000glf   \n9      16ca1536c4f6936d3e994df7cb40ab8e  1001ghp   \n12     a0b0ffef01a7abf9de351000026d49f0  1001ssd   \n13     5c64d4d6a1b12586af2e4499dc746bf3  100252z   \n17     1fb785ca16b10f4f7613961f0b88f369  1002cx2   \n...                                 ...      ...   \n11706  8ee5ffd721683d9768d8463a0d455724   zzw558   \n11708  d26c8da063c60fa56c075005f847f7e3   zzwcqy   \n11715  d273d2f322103b2a431e9414e6443dfc   zzxq2l   \n11717  d159090b1c7b485347cec61c70bc9c54   zzy3sq   \n11730  94dea288ddffb51eb1a786d469b59374   zzzu28   \n\n                                        original_caption  \\\n3      a beautiful young woman in a black dress posin...   \n9      a beautiful young woman in a bikini posing for...   \n12               a woman in a bikini standing on a beach   \n13     a beautiful young woman in a bikini posing for...   \n17     a beautiful young woman in a black dress posin...   \n...                                                  ...   \n11706  A woman in a pink dress is standing in front o...   \n11708  A woman in a bikini and a man in a cowboy hat ...   \n11715  A girl in a pink dress is standing in front of...   \n11717  A girl in a pink dress is talking to another g...   \n11730  A woman in a pink bathing suit is sitting on a...   \n\n                                       thumbnail_caption  \n3      a beautiful young woman in a black dress posin...  \n9      a beautiful young woman in a bikini posing for...  \n12               a woman in a bikini standing on a beach  \n13     a beautiful young woman in a bikini posing for...  \n17     a beautiful young woman in a black dress posin...  \n...                                                  ...  \n11706  A woman in a pink dress is standing in front o...  \n11708  A woman in a bikini and a man in a cowboy hat ...  \n11715  A girl in a pink dress is standing in front of...  \n11717  A girl in a pink dress is talking to another g...  \n11730  A woman in a pink bathing suit is sitting on a...  \n\n[2370 rows x 11 columns]",
      "text/html": "<div>\n<style scoped>\n    .dataframe tbody tr th:only-of-type {\n        vertical-align: middle;\n    }\n\n    .dataframe tbody tr th {\n        vertical-align: top;\n    }\n\n    .dataframe thead th {\n        text-align: right;\n    }\n</style>\n<table border=\"1\" class=\"dataframe\">\n  <thead>\n    <tr style=\"text-align: right;\">\n      <th></th>\n      <th>subreddit</th>\n      <th>file_name</th>\n      <th>text</th>\n      <th>thumbnail_path</th>\n      <th>thumbnail_exists</th>\n      <th>original_image</th>\n      <th>original_image_exists</th>\n      <th>hash</th>\n      <th>id</th>\n      <th>original_caption</th>\n      <th>thumbnail_caption</th>\n    </tr>\n  </thead>\n  <tbody>\n    <tr>\n      <th>3</th>\n      <td>AmIhotAF</td>\n      <td>4xyb1vgbjb9a1.jpg</td>\n      <td>Just looking for entertainment</td>\n      <td>D:\\data\\images\\AmIhotAF\\thumbnail\\4xyb1vgbjb9a...</td>\n      <td>True</td>\n      <td>D:\\data\\images\\AmIhotAF\\4xyb1vgbjb9a1.jpg</td>\n      <td>True</td>\n      <td>e554c1ed7ffa2740436ac082068b2824</td>\n      <td>1000glf</td>\n      <td>a beautiful young woman in a black dress posin...</td>\n      <td>a beautiful young woman in a black dress posin...</td>\n    </tr>\n    <tr>\n      <th>9</th>\n      <td>sfwpetite</td>\n      <td>v3ra9g4vrb9a1.jpg</td>\n      <td>Braids</td>\n      <td>D:\\data\\images\\sfwpetite\\thumbnail\\v3ra9g4vrb9...</td>\n      <td>True</td>\n      <td>D:\\data\\images\\sfwpetite\\v3ra9g4vrb9a1.jpg</td>\n      <td>True</td>\n      <td>16ca1536c4f6936d3e994df7cb40ab8e</td>\n      <td>1001ghp</td>\n      <td>a beautiful young woman in a bikini posing for...</td>\n      <td>a beautiful young woman in a bikini posing for...</td>\n    </tr>\n    <tr>\n      <th>12</th>\n      <td>sfwpetite</td>\n      <td>ldz8tgpsub9a1.jpg</td>\n      <td>Incredible body</td>\n      <td>D:\\data\\images\\sfwpetite\\thumbnail\\ldz8tgpsub9...</td>\n      <td>True</td>\n      <td>D:\\data\\images\\sfwpetite\\ldz8tgpsub9a1.jpg</td>\n      <td>True</td>\n      <td>a0b0ffef01a7abf9de351000026d49f0</td>\n      <td>1001ssd</td>\n      <td>a woman in a bikini standing on a beach</td>\n      <td>a woman in a bikini standing on a beach</td>\n    </tr>\n    <tr>\n      <th>13</th>\n      <td>SFWRedheads</td>\n      <td>qlr6w888ga9a1.jpg</td>\n      <td>I heard wearing red on NYE brings good luck......</td>\n      <td>D:\\data\\images\\SFWRedheads\\thumbnail\\qlr6w888g...</td>\n      <td>True</td>\n      <td>D:\\data\\images\\SFWRedheads\\qlr6w888ga9a1.jpg</td>\n      <td>True</td>\n      <td>5c64d4d6a1b12586af2e4499dc746bf3</td>\n      <td>100252z</td>\n      <td>a beautiful young woman in a bikini posing for...</td>\n      <td>a beautiful young woman in a bikini posing for...</td>\n    </tr>\n    <tr>\n      <th>17</th>\n      <td>SFWRedheads</td>\n      <td>el3s490lzb9a1.jpg</td>\n      <td>Happy New Year to every single person near and...</td>\n      <td>D:\\data\\images\\SFWRedheads\\thumbnail\\el3s490lz...</td>\n      <td>True</td>\n      <td>D:\\data\\images\\SFWRedheads\\el3s490lzb9a1.jpg</td>\n      <td>True</td>\n      <td>1fb785ca16b10f4f7613961f0b88f369</td>\n      <td>1002cx2</td>\n      <td>a beautiful young woman in a black dress posin...</td>\n      <td>a beautiful young woman in a black dress posin...</td>\n    </tr>\n    <tr>\n      <th>...</th>\n      <td>...</td>\n      <td>...</td>\n      <td>...</td>\n      <td>...</td>\n      <td>...</td>\n      <td>...</td>\n      <td>...</td>\n      <td>...</td>\n      <td>...</td>\n      <td>...</td>\n      <td>...</td>\n    </tr>\n    <tr>\n      <th>11706</th>\n      <td>SFWRedheads</td>\n      <td>s20oajzpja9a1.jpg</td>\n      <td>Good morning! What are your plans today?</td>\n      <td>D:\\data\\images\\SFWRedheads\\thumbnail\\s20oajzpj...</td>\n      <td>True</td>\n      <td>D:\\data\\images\\SFWRedheads\\s20oajzpja9a1.jpg</td>\n      <td>True</td>\n      <td>8ee5ffd721683d9768d8463a0d455724</td>\n      <td>zzw558</td>\n      <td>A woman in a pink dress is standing in front o...</td>\n      <td>A woman in a pink dress is standing in front o...</td>\n    </tr>\n    <tr>\n      <th>11708</th>\n      <td>HotGirlNextDoor</td>\n      <td>mrq7di60499a1.jpg</td>\n      <td>Hotties (IKTR)</td>\n      <td>D:\\data\\images\\HotGirlNextDoor\\thumbnail\\mrq7d...</td>\n      <td>True</td>\n      <td>D:\\data\\images\\HotGirlNextDoor\\mrq7di60499a1.jpg</td>\n      <td>True</td>\n      <td>d26c8da063c60fa56c075005f847f7e3</td>\n      <td>zzwcqy</td>\n      <td>A woman in a bikini and a man in a cowboy hat ...</td>\n      <td>A woman in a bikini and a man in a cowboy hat ...</td>\n    </tr>\n    <tr>\n      <th>11715</th>\n      <td>HotGirlNextDoor</td>\n      <td>dozyybyzwa9a1.jpg</td>\n      <td>Perfect Day (IKTR)</td>\n      <td>D:\\data\\images\\HotGirlNextDoor\\thumbnail\\dozyy...</td>\n      <td>True</td>\n      <td>D:\\data\\images\\HotGirlNextDoor\\dozyybyzwa9a1.jpg</td>\n      <td>True</td>\n      <td>d273d2f322103b2a431e9414e6443dfc</td>\n      <td>zzxq2l</td>\n      <td>A girl in a pink dress is standing in front of...</td>\n      <td>A girl in a pink dress is standing in front of...</td>\n    </tr>\n    <tr>\n      <th>11717</th>\n      <td>SFWNextDoorGirls</td>\n      <td>Hzad3q2.jpg</td>\n      <td>your new years resolution should be sleeping w...</td>\n      <td>D:\\data\\images\\SFWNextDoorGirls\\thumbnail\\Hzad...</td>\n      <td>True</td>\n      <td>D:\\data\\images\\SFWNextDoorGirls\\Hzad3q2.jpg</td>\n      <td>True</td>\n      <td>d159090b1c7b485347cec61c70bc9c54</td>\n      <td>zzy3sq</td>\n      <td>A girl in a pink dress is talking to another g...</td>\n      <td>A girl in a pink dress is talking to another g...</td>\n    </tr>\n    <tr>\n      <th>11730</th>\n      <td>HotGirlNextDoor</td>\n      <td>p6yewrl7eb9a1.jpg</td>\n      <td>(IKTR)</td>\n      <td>D:\\data\\images\\HotGirlNextDoor\\thumbnail\\p6yew...</td>\n      <td>True</td>\n      <td>D:\\data\\images\\HotGirlNextDoor\\p6yewrl7eb9a1.jpg</td>\n      <td>True</td>\n      <td>94dea288ddffb51eb1a786d469b59374</td>\n      <td>zzzu28</td>\n      <td>A woman in a pink bathing suit is sitting on a...</td>\n      <td>A woman in a pink bathing suit is sitting on a...</td>\n    </tr>\n  </tbody>\n</table>\n<p>2370 rows × 11 columns</p>\n</div>"
     },
     "metadata": {},
     "output_type": "display_data"
    }
   ],
   "source": [
    "foo = processed_with_captions.where(lambda x: x.subreddit.isin([\n",
    "\t\t \"sfwpetite\",\n",
    "\t\t \"selfies\",\n",
    "\t\t \"Amicute\",\n",
    "\t\t \"amihot\",\n",
    "\t\t \"AmIhotAF\",\n",
    "\t\t \"HotGirlNextDoor\",\n",
    "\t\t \"SFWNextDoorGirls\",\n",
    "\t\t \"SFWRedheads\"])).dropna()\n",
    "display(foo)\n",
    "\n",
    "lines = []\n",
    "for record in foo.to_dict(orient='records'):\n",
    "\tsubreddit = record['subreddit']\n",
    "\tfor source in data_sources:\n",
    "\t\tif subreddit in source.data:\n",
    "\t\t\tline = f\"<|startoftext|><|model|>{source.name}<|prompt|>{record['text']}<|text|>{record['original_caption']}<|endoftext|>\" + \"\\n\"\n",
    "\t\t\tlines.append(line)\n",
    "with open(\"training.txt\", \"wb\") as f:\n",
    "\tfor line in lines:\n",
    "\t\tf.write(line.encode(\"utf-8\"))"
   ],
   "metadata": {
    "collapsed": false
   }
  },
  {
   "cell_type": "code",
   "execution_count": 7,
   "outputs": [],
   "source": [
    "lines = []\n",
    "for record in processed_with_captions.to_dict(orient='records'):\n",
    "\tsubreddit = record['subreddit']\n",
    "\tfor source in data_sources:\n",
    "\t\tif subreddit in source.data:\n",
    "\t\t\tline = f\"<|startoftext|><|model|>{source.name}<|prompt|>{record['text']}<|text|>{record['original_caption']}<|endoftext|>\" + \"\\n\"\n",
    "\t\t\tlines.append(line)\n",
    "with open(\"training.txt\", \"wb\") as f:\n",
    "\tfor line in lines:\n",
    "\t\tf.write(line.encode(\"utf-8\"))"
   ],
   "metadata": {
    "collapsed": false
   }
  },
  {
   "cell_type": "markdown",
   "source": [],
   "metadata": {
    "collapsed": false
   }
  }
 ],
 "metadata": {
  "kernelspec": {
   "display_name": "Python 3",
   "language": "python",
   "name": "python3"
  },
  "language_info": {
   "codemirror_mode": {
    "name": "ipython",
    "version": 2
   },
   "file_extension": ".py",
   "mimetype": "text/x-python",
   "name": "python",
   "nbconvert_exporter": "python",
   "pygments_lexer": "ipython2",
   "version": "2.7.6"
  }
 },
 "nbformat": 4,
 "nbformat_minor": 0
}
