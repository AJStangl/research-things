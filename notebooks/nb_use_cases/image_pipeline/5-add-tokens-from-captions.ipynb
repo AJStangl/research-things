{
 "cells": [
  {
   "cell_type": "code",
   "execution_count": 2,
   "metadata": {
    "collapsed": true
   },
   "outputs": [],
   "source": [
    "from shared_code.utility.schemas.spark_table_schema import image_table_schema\n",
    "from shared_code.utility.spark.set_environ import *\n",
    "\n",
    "\n",
    "os.environ['PYSPARK_PYTHON'] = sys.executable\n",
    "os.environ['PYSPARK_DRIVER_PYTHON'] = sys.executable\n",
    "set_azure_env()\n",
    "\n",
    "spark = get_session('add-tokens-from-caption')"
   ]
  },
  {
   "cell_type": "code",
   "execution_count": 3,
   "outputs": [
    {
     "name": "stdout",
     "output_type": "stream",
     "text": [
      "Total Number Of Records From Pre-Processing 6501\n"
     ]
    },
    {
     "data": {
      "text/plain": "  PartitionKey   RowKey                                              image  \\\n0     training  11090tg         D:\\data\\images\\EarthPorn\\vc1wh65itqha1.jpg   \n1     training  11092s0       D:\\data\\images\\SFWRedheads\\8lb4z8n3uqha1.jpg   \n2     training  110961d          D:\\data\\images\\CityPorn\\2czgh0e5vqha1.jpg   \n3     training  1109a10       D:\\data\\images\\SFWRedheads\\hy9j0og8wqha1.jpg   \n4     training  1109ycm          D:\\data\\images\\CityPorn\\7beed5n54rha1.jpg   \n5     training  110b0wt        D:\\data\\images\\SFWNextDoorGirls\\6piZs7j.jpg   \n6     training  110b1an          D:\\data\\images\\CityPorn\\rgotpnatzpha1.jpg   \n7     training  110bipg  D:\\data\\images\\SFWNextDoorGirls\\xywgncrbnrha1.jpg   \n8     training  110c2gi       D:\\data\\images\\SFWRedheads\\99hm504mtrha1.jpg   \n9     training  110c2vo       D:\\data\\images\\SFWRedheads\\kkerxboqtrha1.jpg   \n\n                                                text       id  \\\n0                   Depoe Bay, OR USA [OC] 1080x1920  11090tg   \n1                                    Morning hair xx  11092s0   \n2                       St Paul’s Cathedral. London.  110961d   \n3                 Do you like my natural red curls?!  1109a10   \n4  Taipei, the Seoul of Taiwan (which makes Kaohs...  1109ycm   \n5  A real no makeup moment, cause this is how Sun...  110b0wt   \n6                       Duisburg, Detroit of Germany  110b1an   \n7                                 enjoy your Sunday!  110bipg   \n8                Happy sunday! Sending greetings! ❤️  110c2gi   \n9         The kind of girl you can have a beer with.  110c2vo   \n\n               author                                  url              flair  \\\n0            Bpercell  https://i.redd.it/vc1wh65itqha1.jpg                NaN   \n1        demidiamond4  https://i.redd.it/8lb4z8n3uqha1.jpg                NaN   \n2  OkCardiologist2765  https://i.redd.it/2czgh0e5vqha1.jpg                NaN   \n3          ketunicorn  https://i.redd.it/hy9j0og8wqha1.jpg                NaN   \n4            Ducky118  https://i.redd.it/7beed5n54rha1.jpg                NaN   \n5       princessxo699      https://i.imgur.com/6piZs7j.jpg    Feelin Happy 😃    \n6  Expensive-Team7416  https://i.redd.it/rgotpnatzpha1.jpg                NaN   \n7         trickyalice  https://i.redd.it/xywgncrbnrha1.jpg  Outfit of the Day   \n8         GingeMariia  https://i.redd.it/99hm504mtrha1.jpg                NaN   \n9        MissKatiesss  https://i.redd.it/kkerxboqtrha1.jpg                NaN   \n\n                                           permalink  \\\n0  /r/EarthPorn/comments/11090tg/depoe_bay_or_usa...   \n1   /r/SFWRedheads/comments/11092s0/morning_hair_xx/   \n2  /r/CityPorn/comments/110961d/st_pauls_cathedra...   \n3  /r/SFWRedheads/comments/1109a10/do_you_like_my...   \n4  /r/CityPorn/comments/1109ycm/taipei_the_seoul_...   \n5  /r/SFWNextDoorGirls/comments/110b0wt/a_real_no...   \n6  /r/CityPorn/comments/110b1an/duisburg_detroit_...   \n7  /r/SFWNextDoorGirls/comments/110bipg/enjoy_you...   \n8  /r/SFWRedheads/comments/110c2gi/happy_sunday_s...   \n9  /r/SFWRedheads/comments/110c2vo/the_kind_of_gi...   \n\n                               hash         subreddit  \\\n0  31c6df5a2815d8e5e8c85fe51b08460e         EarthPorn   \n1  afe1ae1ae3e663b0ca62cb3b19a5c3ef       SFWRedheads   \n2  ef3c3f82ec490f8d3ccc06948258a3b4          CityPorn   \n3  9008fe70d17b904fcfc7c6a2232ad569       SFWRedheads   \n4  848b795097dca410c409797c679ab4fa          CityPorn   \n5  5ccd774afb17fb0c44460121ed9ce61d  SFWNextDoorGirls   \n6  3eb930bdf3fac4e5b16617edad9df65a          CityPorn   \n7  9475adbe05427c47772346f8ab672952  SFWNextDoorGirls   \n8  20ced2827eb9e9cd3464835306cfd075       SFWRedheads   \n9  f53572296a0b8fb6654808866440316a       SFWRedheads   \n\n                                             caption  exists  \\\n0  A group of people are sitting on the shore of ...    True   \n1                 A girl in a pink dress is smiling.    True   \n2  A man in a red coat is standing in front of a ...    True   \n3  A girl in a pink dress is standing in front of...    True   \n4                       A bird flies over the water.    True   \n5  A girl in a pink hat and sunglasses is talking...    True   \n6                       A bird flies over the water.    True   \n7  A woman in a pink shirt and jeans is talking t...    True   \n8  A girl in a pink shirt and blue jeans is stand...    True   \n9  A woman in a red dress is talking to a man in ...    True   \n\n          image_name updated_caption  \\\n0  vc1wh65itqha1.jpg             NaN   \n1  8lb4z8n3uqha1.jpg             NaN   \n2  2czgh0e5vqha1.jpg             NaN   \n3  hy9j0og8wqha1.jpg             NaN   \n4  7beed5n54rha1.jpg             NaN   \n5        6piZs7j.jpg             NaN   \n6  rgotpnatzpha1.jpg             NaN   \n7  xywgncrbnrha1.jpg             NaN   \n8  99hm504mtrha1.jpg             NaN   \n9  kkerxboqtrha1.jpg             NaN   \n\n                                         small_image  curated  \n0  D:\\data\\images\\EarthPorn\\thumbnail\\vc1wh65itqh...    False  \n1  D:\\data\\images\\SFWRedheads\\thumbnail\\8lb4z8n3u...    False  \n2  D:\\data\\images\\CityPorn\\thumbnail\\2czgh0e5vqha...    False  \n3  D:\\data\\images\\SFWRedheads\\thumbnail\\hy9j0og8w...    False  \n4  D:\\data\\images\\CityPorn\\thumbnail\\7beed5n54rha...    False  \n5  D:\\data\\images\\SFWNextDoorGirls\\thumbnail\\6piZ...    False  \n6  D:\\data\\images\\CityPorn\\thumbnail\\rgotpnatzpha...    False  \n7  D:\\data\\images\\SFWNextDoorGirls\\thumbnail\\xywg...    False  \n8  D:\\data\\images\\SFWRedheads\\thumbnail\\99hm504mt...    False  \n9  D:\\data\\images\\SFWRedheads\\thumbnail\\kkerxboqt...    False  ",
      "text/html": "<div>\n<style scoped>\n    .dataframe tbody tr th:only-of-type {\n        vertical-align: middle;\n    }\n\n    .dataframe tbody tr th {\n        vertical-align: top;\n    }\n\n    .dataframe thead th {\n        text-align: right;\n    }\n</style>\n<table border=\"1\" class=\"dataframe\">\n  <thead>\n    <tr style=\"text-align: right;\">\n      <th></th>\n      <th>PartitionKey</th>\n      <th>RowKey</th>\n      <th>image</th>\n      <th>text</th>\n      <th>id</th>\n      <th>author</th>\n      <th>url</th>\n      <th>flair</th>\n      <th>permalink</th>\n      <th>hash</th>\n      <th>subreddit</th>\n      <th>caption</th>\n      <th>exists</th>\n      <th>image_name</th>\n      <th>updated_caption</th>\n      <th>small_image</th>\n      <th>curated</th>\n    </tr>\n  </thead>\n  <tbody>\n    <tr>\n      <th>0</th>\n      <td>training</td>\n      <td>11090tg</td>\n      <td>D:\\data\\images\\EarthPorn\\vc1wh65itqha1.jpg</td>\n      <td>Depoe Bay, OR USA [OC] 1080x1920</td>\n      <td>11090tg</td>\n      <td>Bpercell</td>\n      <td>https://i.redd.it/vc1wh65itqha1.jpg</td>\n      <td>NaN</td>\n      <td>/r/EarthPorn/comments/11090tg/depoe_bay_or_usa...</td>\n      <td>31c6df5a2815d8e5e8c85fe51b08460e</td>\n      <td>EarthPorn</td>\n      <td>A group of people are sitting on the shore of ...</td>\n      <td>True</td>\n      <td>vc1wh65itqha1.jpg</td>\n      <td>NaN</td>\n      <td>D:\\data\\images\\EarthPorn\\thumbnail\\vc1wh65itqh...</td>\n      <td>False</td>\n    </tr>\n    <tr>\n      <th>1</th>\n      <td>training</td>\n      <td>11092s0</td>\n      <td>D:\\data\\images\\SFWRedheads\\8lb4z8n3uqha1.jpg</td>\n      <td>Morning hair xx</td>\n      <td>11092s0</td>\n      <td>demidiamond4</td>\n      <td>https://i.redd.it/8lb4z8n3uqha1.jpg</td>\n      <td>NaN</td>\n      <td>/r/SFWRedheads/comments/11092s0/morning_hair_xx/</td>\n      <td>afe1ae1ae3e663b0ca62cb3b19a5c3ef</td>\n      <td>SFWRedheads</td>\n      <td>A girl in a pink dress is smiling.</td>\n      <td>True</td>\n      <td>8lb4z8n3uqha1.jpg</td>\n      <td>NaN</td>\n      <td>D:\\data\\images\\SFWRedheads\\thumbnail\\8lb4z8n3u...</td>\n      <td>False</td>\n    </tr>\n    <tr>\n      <th>2</th>\n      <td>training</td>\n      <td>110961d</td>\n      <td>D:\\data\\images\\CityPorn\\2czgh0e5vqha1.jpg</td>\n      <td>St Paul’s Cathedral. London.</td>\n      <td>110961d</td>\n      <td>OkCardiologist2765</td>\n      <td>https://i.redd.it/2czgh0e5vqha1.jpg</td>\n      <td>NaN</td>\n      <td>/r/CityPorn/comments/110961d/st_pauls_cathedra...</td>\n      <td>ef3c3f82ec490f8d3ccc06948258a3b4</td>\n      <td>CityPorn</td>\n      <td>A man in a red coat is standing in front of a ...</td>\n      <td>True</td>\n      <td>2czgh0e5vqha1.jpg</td>\n      <td>NaN</td>\n      <td>D:\\data\\images\\CityPorn\\thumbnail\\2czgh0e5vqha...</td>\n      <td>False</td>\n    </tr>\n    <tr>\n      <th>3</th>\n      <td>training</td>\n      <td>1109a10</td>\n      <td>D:\\data\\images\\SFWRedheads\\hy9j0og8wqha1.jpg</td>\n      <td>Do you like my natural red curls?!</td>\n      <td>1109a10</td>\n      <td>ketunicorn</td>\n      <td>https://i.redd.it/hy9j0og8wqha1.jpg</td>\n      <td>NaN</td>\n      <td>/r/SFWRedheads/comments/1109a10/do_you_like_my...</td>\n      <td>9008fe70d17b904fcfc7c6a2232ad569</td>\n      <td>SFWRedheads</td>\n      <td>A girl in a pink dress is standing in front of...</td>\n      <td>True</td>\n      <td>hy9j0og8wqha1.jpg</td>\n      <td>NaN</td>\n      <td>D:\\data\\images\\SFWRedheads\\thumbnail\\hy9j0og8w...</td>\n      <td>False</td>\n    </tr>\n    <tr>\n      <th>4</th>\n      <td>training</td>\n      <td>1109ycm</td>\n      <td>D:\\data\\images\\CityPorn\\7beed5n54rha1.jpg</td>\n      <td>Taipei, the Seoul of Taiwan (which makes Kaohs...</td>\n      <td>1109ycm</td>\n      <td>Ducky118</td>\n      <td>https://i.redd.it/7beed5n54rha1.jpg</td>\n      <td>NaN</td>\n      <td>/r/CityPorn/comments/1109ycm/taipei_the_seoul_...</td>\n      <td>848b795097dca410c409797c679ab4fa</td>\n      <td>CityPorn</td>\n      <td>A bird flies over the water.</td>\n      <td>True</td>\n      <td>7beed5n54rha1.jpg</td>\n      <td>NaN</td>\n      <td>D:\\data\\images\\CityPorn\\thumbnail\\7beed5n54rha...</td>\n      <td>False</td>\n    </tr>\n    <tr>\n      <th>5</th>\n      <td>training</td>\n      <td>110b0wt</td>\n      <td>D:\\data\\images\\SFWNextDoorGirls\\6piZs7j.jpg</td>\n      <td>A real no makeup moment, cause this is how Sun...</td>\n      <td>110b0wt</td>\n      <td>princessxo699</td>\n      <td>https://i.imgur.com/6piZs7j.jpg</td>\n      <td>Feelin Happy 😃</td>\n      <td>/r/SFWNextDoorGirls/comments/110b0wt/a_real_no...</td>\n      <td>5ccd774afb17fb0c44460121ed9ce61d</td>\n      <td>SFWNextDoorGirls</td>\n      <td>A girl in a pink hat and sunglasses is talking...</td>\n      <td>True</td>\n      <td>6piZs7j.jpg</td>\n      <td>NaN</td>\n      <td>D:\\data\\images\\SFWNextDoorGirls\\thumbnail\\6piZ...</td>\n      <td>False</td>\n    </tr>\n    <tr>\n      <th>6</th>\n      <td>training</td>\n      <td>110b1an</td>\n      <td>D:\\data\\images\\CityPorn\\rgotpnatzpha1.jpg</td>\n      <td>Duisburg, Detroit of Germany</td>\n      <td>110b1an</td>\n      <td>Expensive-Team7416</td>\n      <td>https://i.redd.it/rgotpnatzpha1.jpg</td>\n      <td>NaN</td>\n      <td>/r/CityPorn/comments/110b1an/duisburg_detroit_...</td>\n      <td>3eb930bdf3fac4e5b16617edad9df65a</td>\n      <td>CityPorn</td>\n      <td>A bird flies over the water.</td>\n      <td>True</td>\n      <td>rgotpnatzpha1.jpg</td>\n      <td>NaN</td>\n      <td>D:\\data\\images\\CityPorn\\thumbnail\\rgotpnatzpha...</td>\n      <td>False</td>\n    </tr>\n    <tr>\n      <th>7</th>\n      <td>training</td>\n      <td>110bipg</td>\n      <td>D:\\data\\images\\SFWNextDoorGirls\\xywgncrbnrha1.jpg</td>\n      <td>enjoy your Sunday!</td>\n      <td>110bipg</td>\n      <td>trickyalice</td>\n      <td>https://i.redd.it/xywgncrbnrha1.jpg</td>\n      <td>Outfit of the Day</td>\n      <td>/r/SFWNextDoorGirls/comments/110bipg/enjoy_you...</td>\n      <td>9475adbe05427c47772346f8ab672952</td>\n      <td>SFWNextDoorGirls</td>\n      <td>A woman in a pink shirt and jeans is talking t...</td>\n      <td>True</td>\n      <td>xywgncrbnrha1.jpg</td>\n      <td>NaN</td>\n      <td>D:\\data\\images\\SFWNextDoorGirls\\thumbnail\\xywg...</td>\n      <td>False</td>\n    </tr>\n    <tr>\n      <th>8</th>\n      <td>training</td>\n      <td>110c2gi</td>\n      <td>D:\\data\\images\\SFWRedheads\\99hm504mtrha1.jpg</td>\n      <td>Happy sunday! Sending greetings! ❤️</td>\n      <td>110c2gi</td>\n      <td>GingeMariia</td>\n      <td>https://i.redd.it/99hm504mtrha1.jpg</td>\n      <td>NaN</td>\n      <td>/r/SFWRedheads/comments/110c2gi/happy_sunday_s...</td>\n      <td>20ced2827eb9e9cd3464835306cfd075</td>\n      <td>SFWRedheads</td>\n      <td>A girl in a pink shirt and blue jeans is stand...</td>\n      <td>True</td>\n      <td>99hm504mtrha1.jpg</td>\n      <td>NaN</td>\n      <td>D:\\data\\images\\SFWRedheads\\thumbnail\\99hm504mt...</td>\n      <td>False</td>\n    </tr>\n    <tr>\n      <th>9</th>\n      <td>training</td>\n      <td>110c2vo</td>\n      <td>D:\\data\\images\\SFWRedheads\\kkerxboqtrha1.jpg</td>\n      <td>The kind of girl you can have a beer with.</td>\n      <td>110c2vo</td>\n      <td>MissKatiesss</td>\n      <td>https://i.redd.it/kkerxboqtrha1.jpg</td>\n      <td>NaN</td>\n      <td>/r/SFWRedheads/comments/110c2vo/the_kind_of_gi...</td>\n      <td>f53572296a0b8fb6654808866440316a</td>\n      <td>SFWRedheads</td>\n      <td>A woman in a red dress is talking to a man in ...</td>\n      <td>True</td>\n      <td>kkerxboqtrha1.jpg</td>\n      <td>NaN</td>\n      <td>D:\\data\\images\\SFWRedheads\\thumbnail\\kkerxboqt...</td>\n      <td>False</td>\n    </tr>\n  </tbody>\n</table>\n</div>"
     },
     "metadata": {},
     "output_type": "display_data"
    }
   ],
   "source": [
    "spark_df = spark.createDataFrame(spark.read.parquet(\"D:\\\\data\\\\processed\\\\reddit_images_vit_captioned.parquet\").collect(),\n",
    "\t\t\t\t\t\t\t\t schema=image_table_schema)\n",
    "\n",
    "print(f\"Total Number Of Records From Pre-Processing {spark_df.count()}\")\n",
    "\n",
    "display(spark_df.limit(10).toPandas())"
   ],
   "metadata": {
    "collapsed": false
   }
  },
  {
   "cell_type": "code",
   "execution_count": 4,
   "outputs": [],
   "source": [
    "import nltk\n",
    "from nltk import TweetTokenizer\n",
    "from nltk import sent_tokenize\n",
    "from collections import OrderedDict\n",
    "from pyspark.sql.functions import udf\n",
    "\n",
    "def get_nlk_tokens(text: str):\n",
    "\ttry:\n",
    "\t\ttokenizer = TweetTokenizer()\n",
    "\n",
    "\t\tfirst_sentence = sent_tokenize(text)[0]\n",
    "\n",
    "\t\t# remove numbers and tokenize the text\n",
    "\t\ttokenized = tokenizer.tokenize(first_sentence.translate({ord(ch): None for ch in '0123456789'}))\n",
    "\n",
    "\t\ttokenized = [i for i in tokenized if len(i) > 1]\n",
    "\n",
    "\t\ttokenized = list(OrderedDict.fromkeys(tokenized))\n",
    "\n",
    "\t\tpos_tagged_text = nltk.pos_tag(tokenized)\n",
    "\n",
    "\t\t# Extract all nouns, verbs and adverbs and append to the existing\n",
    "\t\tprompt_keywords = [i[0] for i in pos_tagged_text if i[1][:2] in ['NN', 'VB', 'RB']]\n",
    "\n",
    "\t\tprompt_keywords = list(OrderedDict.fromkeys(prompt_keywords))\n",
    "\n",
    "\t\treturn pos_tagged_text\n",
    "\texcept Exception as e:\n",
    "\t\tprint(e)\n",
    "\t\treturn [[]]\n",
    "\n",
    "\n",
    "def get_tokens_for_caption(caption: str):\n",
    "\tif caption == 'NaN':\n",
    "\t\treturn []\n",
    "\tif caption == \"\":\n",
    "\t\treturn []\n",
    "\telse:\n",
    "\t\ttokens = get_nlk_tokens(caption)\n",
    "\t\treturn tokens"
   ],
   "metadata": {
    "collapsed": false
   }
  },
  {
   "cell_type": "code",
   "execution_count": 5,
   "outputs": [
    {
     "name": "stdout",
     "output_type": "stream",
     "text": [
      "Total Number Of Records From Pre-Processing 6501\n"
     ]
    }
   ],
   "source": [
    "from shared_code.utility.schemas.spark_table_schema import tokenize_caption_schema, \\\n",
    "\timage_table_schema_with_caption_tokens\n",
    "\n",
    "get_caption_image_name_udf = udf(get_tokens_for_caption, tokenize_caption_schema)\n",
    "\n",
    "updated_captions_collection = spark_df\\\n",
    "\t.withColumn(\"caption_tokens\", get_caption_image_name_udf(\"updated_caption\"))\\\n",
    "\t.withColumn(\"text_tokens\", get_caption_image_name_udf(\"text\"))\\\n",
    "\t.collect()\n",
    "\n",
    "# out_frame = spark.createDataFrame(updated_captions_collection, schema=image_table_schema)\n",
    "out_frame = spark.createDataFrame(updated_captions_collection, schema=image_table_schema_with_caption_tokens)\n",
    "\n",
    "print(f\"Total Number Of Records From Pre-Processing {out_frame.count()}\")"
   ],
   "metadata": {
    "collapsed": false
   }
  },
  {
   "cell_type": "code",
   "execution_count": 7,
   "outputs": [
    {
     "data": {
      "text/plain": "  PartitionKey   RowKey                                       image  \\\n0     training  110jlij  D:\\data\\images\\sfwpetite\\awf8v23xrtha1.jpg   \n1     training  110jpcg  D:\\data\\images\\sfwpetite\\2pdd2lu6bsha1.jpg   \n2     training  110ryuu      D:\\data\\images\\Faces\\avkbiiw6jvha1.jpg   \n3     training  110s1my      D:\\data\\images\\Faces\\6s8l7qasjvha1.jpg   \n4     training  110s46x      D:\\data\\images\\Faces\\z3aohtzbkvha1.jpg   \n5     training  110s84q      D:\\data\\images\\Faces\\02ybtok6lvha1.jpg   \n6     training  110sfyw      D:\\data\\images\\Faces\\d99q53rt4uha1.jpg   \n7     training  110shfq      D:\\data\\images\\Faces\\9ormpks5nvha1.jpg   \n8     training  110sit9      D:\\data\\images\\Faces\\cdp9qi3hnvha1.jpg   \n9     training  110sk89      D:\\data\\images\\Faces\\74thrynsnvha1.jpg   \n\n                                                text       id  \\\n0                                          big smile  110jlij   \n1                                            Ripcurl  110jpcg   \n2                                         Chapter 29  110ryuu   \n3  Smile everyone tomorrow is Monday so smile tod...  110s1my   \n4               21F do you think Italians are cute ?  110s46x   \n5                  Can I be your new girlfriend? f22  110s84q   \n6                           will you make me smile?😊  110sfyw   \n7                                F35 natural make up  110shfq   \n8                                              Hi :)  110sit9   \n9        Super psyched for the Super bowl!!! 🏈🏈 Go 🦅  110sk89   \n\n                author                                  url flair  \\\n0  shoot_score_dribble  https://i.redd.it/awf8v23xrtha1.jpg  None   \n1             benderod  https://i.redd.it/2pdd2lu6bsha1.jpg  None   \n2         yoooooooobro  https://i.redd.it/avkbiiw6jvha1.jpg  Self   \n3         BettyVespoli  https://i.redd.it/6s8l7qasjvha1.jpg  Self   \n4              Pelturr  https://i.redd.it/z3aohtzbkvha1.jpg  Self   \n5            _ani_fan1  https://i.redd.it/02ybtok6lvha1.jpg  Self   \n6      blue-eyed_angel  https://i.redd.it/d99q53rt4uha1.jpg  Self   \n7    Main-Cheetah-4142  https://i.redd.it/9ormpks5nvha1.jpg  Self   \n8          VennieSweet  https://i.redd.it/cdp9qi3hnvha1.jpg  Self   \n9        BalaclavaBrat  https://i.redd.it/74thrynsnvha1.jpg  Self   \n\n                                           permalink  \\\n0           /r/sfwpetite/comments/110jlij/big_smile/   \n1             /r/sfwpetite/comments/110jpcg/ripcurl/   \n2              /r/Faces/comments/110ryuu/chapter_29/   \n3  /r/Faces/comments/110s1my/smile_everyone_tomor...   \n4  /r/Faces/comments/110s46x/21f_do_you_think_ita...   \n5  /r/Faces/comments/110s84q/can_i_be_your_new_gi...   \n6  /r/Faces/comments/110sfyw/will_you_make_me_smile/   \n7     /r/Faces/comments/110shfq/f35_natural_make_up/   \n8                      /r/Faces/comments/110sit9/hi/   \n9  /r/Faces/comments/110sk89/super_psyched_for_th...   \n\n                               hash  subreddit  \\\n0  6f4944cce46ba34dbdf8e47e3f99ad31  sfwpetite   \n1  1fa72c4a1d3c76143db01e26d7a3f8dc  sfwpetite   \n2  7731577d8bcd7d10bf9850e3ebcd2e47      Faces   \n3  b2c2c140280591edfbe87197de199023      Faces   \n4  c71cfe3717dc7ef69d7673a2d59fbd1d      Faces   \n5  07c4493fcfa39af166893108a247e9cb      Faces   \n6  e4a16c262b67e4f576c5eae4c2f2fbf8      Faces   \n7  ffc002fd3345af8781b3f390d35f7ffc      Faces   \n8  7603e8e82df0c29de33bf28fb2a0f8b9      Faces   \n9  2c6c6ad4e46858878f23dcc886e3e774      Faces   \n\n                                             caption  exists  \\\n0  A girl in a pink bathing suit is standing in f...    True   \n1  A blonde haired blonde haired blonde haired bl...    True   \n2  A man in a black shirt and jeans is talking to...    True   \n3  A girl in a pink dress is smiling and holding ...    True   \n4          A man and a woman are sitting on a bench.    True   \n5  A girl in a pink dress is talking to another g...    True   \n6                 A girl in a pink dress is smiling.    True   \n7  A girl in a red dress is standing in front of ...    True   \n8  A woman in a red dress is talking to a man in ...    True   \n9  A woman in a pink shirt and blue jeans is talk...    True   \n\n          image_name                                    updated_caption  \\\n0  awf8v23xrtha1.jpg  a beautiful young woman posing for a picture i...   \n1  2pdd2lu6bsha1.jpg               a woman in a bikini sitting in a car   \n2  avkbiiw6jvha1.jpg  a man with a smile on his face posing for a pi...   \n3  6s8l7qasjvha1.jpg    a woman in a red dress is looking at the camera   \n4  z3aohtzbkvha1.jpg  a woman is sitting on the sidewalk while talki...   \n5  02ybtok6lvha1.jpg            a woman in a pink shirt and a black tie   \n6  d99q53rt4uha1.jpg          a woman smiles as she poses for a picture   \n7  9ormpks5nvha1.jpg        a woman with long hair wearing a pink dress   \n8  cdp9qi3hnvha1.jpg  a woman in a black shirt and black pants posin...   \n9  74thrynsnvha1.jpg              a young woman is posing for a picture   \n\n                                         small_image  curated  \\\n0  D:\\data\\images\\sfwpetite\\thumbnail\\awf8v23xrth...    False   \n1  D:\\data\\images\\sfwpetite\\thumbnail\\2pdd2lu6bsh...    False   \n2   D:\\data\\images\\Faces\\thumbnail\\avkbiiw6jvha1.jpg    False   \n3   D:\\data\\images\\Faces\\thumbnail\\6s8l7qasjvha1.jpg    False   \n4   D:\\data\\images\\Faces\\thumbnail\\z3aohtzbkvha1.jpg    False   \n5   D:\\data\\images\\Faces\\thumbnail\\02ybtok6lvha1.jpg    False   \n6   D:\\data\\images\\Faces\\thumbnail\\d99q53rt4uha1.jpg    False   \n7   D:\\data\\images\\Faces\\thumbnail\\9ormpks5nvha1.jpg    False   \n8   D:\\data\\images\\Faces\\thumbnail\\cdp9qi3hnvha1.jpg    False   \n9   D:\\data\\images\\Faces\\thumbnail\\74thrynsnvha1.jpg    False   \n\n                                      caption_tokens  \\\n0  [(beautiful, JJ), (young, JJ), (woman, NN), (p...   \n1  [(woman, NN), (in, IN), (bikini, NN), (sitting...   \n2  [(man, NN), (with, IN), (smile, NN), (on, IN),...   \n3  [(woman, NN), (in, IN), (red, JJ), (dress, NN)...   \n4  [(woman, NN), (is, VBZ), (sitting, VBG), (on, ...   \n5  [(woman, NN), (in, IN), (pink, NN), (shirt, NN...   \n6  [(woman, NN), (smiles, VBZ), (as, IN), (she, P...   \n7  [(woman, NN), (with, IN), (long, JJ), (hair, N...   \n8  [(woman, NN), (in, IN), (black, JJ), (shirt, N...   \n9  [(young, JJ), (woman, NN), (is, VBZ), (posing,...   \n\n                                         text_tokens  \n0                           [(big, JJ), (smile, NN)]  \n1                                    [(Ripcurl, NN)]  \n2                                    [(Chapter, NN)]  \n3  [(Smile, NNP), (everyone, NN), (tomorrow, NN),...  \n4  [(do, VBP), (you, PRP), (think, VB), (Italians...  \n5  [(Can, MD), (be, VB), (your, PRP$), (new, JJ),...  \n6  [(will, MD), (you, PRP), (make, VB), (me, PRP)...  \n7             [(natural, JJ), (make, VBP), (up, RP)]  \n8                              [(Hi, NNP), (:), NN)]  \n9  [(Super, NNP), (psyched, VBD), (for, IN), (the...  ",
      "text/html": "<div>\n<style scoped>\n    .dataframe tbody tr th:only-of-type {\n        vertical-align: middle;\n    }\n\n    .dataframe tbody tr th {\n        vertical-align: top;\n    }\n\n    .dataframe thead th {\n        text-align: right;\n    }\n</style>\n<table border=\"1\" class=\"dataframe\">\n  <thead>\n    <tr style=\"text-align: right;\">\n      <th></th>\n      <th>PartitionKey</th>\n      <th>RowKey</th>\n      <th>image</th>\n      <th>text</th>\n      <th>id</th>\n      <th>author</th>\n      <th>url</th>\n      <th>flair</th>\n      <th>permalink</th>\n      <th>hash</th>\n      <th>subreddit</th>\n      <th>caption</th>\n      <th>exists</th>\n      <th>image_name</th>\n      <th>updated_caption</th>\n      <th>small_image</th>\n      <th>curated</th>\n      <th>caption_tokens</th>\n      <th>text_tokens</th>\n    </tr>\n  </thead>\n  <tbody>\n    <tr>\n      <th>0</th>\n      <td>training</td>\n      <td>110jlij</td>\n      <td>D:\\data\\images\\sfwpetite\\awf8v23xrtha1.jpg</td>\n      <td>big smile</td>\n      <td>110jlij</td>\n      <td>shoot_score_dribble</td>\n      <td>https://i.redd.it/awf8v23xrtha1.jpg</td>\n      <td>None</td>\n      <td>/r/sfwpetite/comments/110jlij/big_smile/</td>\n      <td>6f4944cce46ba34dbdf8e47e3f99ad31</td>\n      <td>sfwpetite</td>\n      <td>A girl in a pink bathing suit is standing in f...</td>\n      <td>True</td>\n      <td>awf8v23xrtha1.jpg</td>\n      <td>a beautiful young woman posing for a picture i...</td>\n      <td>D:\\data\\images\\sfwpetite\\thumbnail\\awf8v23xrth...</td>\n      <td>False</td>\n      <td>[(beautiful, JJ), (young, JJ), (woman, NN), (p...</td>\n      <td>[(big, JJ), (smile, NN)]</td>\n    </tr>\n    <tr>\n      <th>1</th>\n      <td>training</td>\n      <td>110jpcg</td>\n      <td>D:\\data\\images\\sfwpetite\\2pdd2lu6bsha1.jpg</td>\n      <td>Ripcurl</td>\n      <td>110jpcg</td>\n      <td>benderod</td>\n      <td>https://i.redd.it/2pdd2lu6bsha1.jpg</td>\n      <td>None</td>\n      <td>/r/sfwpetite/comments/110jpcg/ripcurl/</td>\n      <td>1fa72c4a1d3c76143db01e26d7a3f8dc</td>\n      <td>sfwpetite</td>\n      <td>A blonde haired blonde haired blonde haired bl...</td>\n      <td>True</td>\n      <td>2pdd2lu6bsha1.jpg</td>\n      <td>a woman in a bikini sitting in a car</td>\n      <td>D:\\data\\images\\sfwpetite\\thumbnail\\2pdd2lu6bsh...</td>\n      <td>False</td>\n      <td>[(woman, NN), (in, IN), (bikini, NN), (sitting...</td>\n      <td>[(Ripcurl, NN)]</td>\n    </tr>\n    <tr>\n      <th>2</th>\n      <td>training</td>\n      <td>110ryuu</td>\n      <td>D:\\data\\images\\Faces\\avkbiiw6jvha1.jpg</td>\n      <td>Chapter 29</td>\n      <td>110ryuu</td>\n      <td>yoooooooobro</td>\n      <td>https://i.redd.it/avkbiiw6jvha1.jpg</td>\n      <td>Self</td>\n      <td>/r/Faces/comments/110ryuu/chapter_29/</td>\n      <td>7731577d8bcd7d10bf9850e3ebcd2e47</td>\n      <td>Faces</td>\n      <td>A man in a black shirt and jeans is talking to...</td>\n      <td>True</td>\n      <td>avkbiiw6jvha1.jpg</td>\n      <td>a man with a smile on his face posing for a pi...</td>\n      <td>D:\\data\\images\\Faces\\thumbnail\\avkbiiw6jvha1.jpg</td>\n      <td>False</td>\n      <td>[(man, NN), (with, IN), (smile, NN), (on, IN),...</td>\n      <td>[(Chapter, NN)]</td>\n    </tr>\n    <tr>\n      <th>3</th>\n      <td>training</td>\n      <td>110s1my</td>\n      <td>D:\\data\\images\\Faces\\6s8l7qasjvha1.jpg</td>\n      <td>Smile everyone tomorrow is Monday so smile tod...</td>\n      <td>110s1my</td>\n      <td>BettyVespoli</td>\n      <td>https://i.redd.it/6s8l7qasjvha1.jpg</td>\n      <td>Self</td>\n      <td>/r/Faces/comments/110s1my/smile_everyone_tomor...</td>\n      <td>b2c2c140280591edfbe87197de199023</td>\n      <td>Faces</td>\n      <td>A girl in a pink dress is smiling and holding ...</td>\n      <td>True</td>\n      <td>6s8l7qasjvha1.jpg</td>\n      <td>a woman in a red dress is looking at the camera</td>\n      <td>D:\\data\\images\\Faces\\thumbnail\\6s8l7qasjvha1.jpg</td>\n      <td>False</td>\n      <td>[(woman, NN), (in, IN), (red, JJ), (dress, NN)...</td>\n      <td>[(Smile, NNP), (everyone, NN), (tomorrow, NN),...</td>\n    </tr>\n    <tr>\n      <th>4</th>\n      <td>training</td>\n      <td>110s46x</td>\n      <td>D:\\data\\images\\Faces\\z3aohtzbkvha1.jpg</td>\n      <td>21F do you think Italians are cute ?</td>\n      <td>110s46x</td>\n      <td>Pelturr</td>\n      <td>https://i.redd.it/z3aohtzbkvha1.jpg</td>\n      <td>Self</td>\n      <td>/r/Faces/comments/110s46x/21f_do_you_think_ita...</td>\n      <td>c71cfe3717dc7ef69d7673a2d59fbd1d</td>\n      <td>Faces</td>\n      <td>A man and a woman are sitting on a bench.</td>\n      <td>True</td>\n      <td>z3aohtzbkvha1.jpg</td>\n      <td>a woman is sitting on the sidewalk while talki...</td>\n      <td>D:\\data\\images\\Faces\\thumbnail\\z3aohtzbkvha1.jpg</td>\n      <td>False</td>\n      <td>[(woman, NN), (is, VBZ), (sitting, VBG), (on, ...</td>\n      <td>[(do, VBP), (you, PRP), (think, VB), (Italians...</td>\n    </tr>\n    <tr>\n      <th>5</th>\n      <td>training</td>\n      <td>110s84q</td>\n      <td>D:\\data\\images\\Faces\\02ybtok6lvha1.jpg</td>\n      <td>Can I be your new girlfriend? f22</td>\n      <td>110s84q</td>\n      <td>_ani_fan1</td>\n      <td>https://i.redd.it/02ybtok6lvha1.jpg</td>\n      <td>Self</td>\n      <td>/r/Faces/comments/110s84q/can_i_be_your_new_gi...</td>\n      <td>07c4493fcfa39af166893108a247e9cb</td>\n      <td>Faces</td>\n      <td>A girl in a pink dress is talking to another g...</td>\n      <td>True</td>\n      <td>02ybtok6lvha1.jpg</td>\n      <td>a woman in a pink shirt and a black tie</td>\n      <td>D:\\data\\images\\Faces\\thumbnail\\02ybtok6lvha1.jpg</td>\n      <td>False</td>\n      <td>[(woman, NN), (in, IN), (pink, NN), (shirt, NN...</td>\n      <td>[(Can, MD), (be, VB), (your, PRP$), (new, JJ),...</td>\n    </tr>\n    <tr>\n      <th>6</th>\n      <td>training</td>\n      <td>110sfyw</td>\n      <td>D:\\data\\images\\Faces\\d99q53rt4uha1.jpg</td>\n      <td>will you make me smile?😊</td>\n      <td>110sfyw</td>\n      <td>blue-eyed_angel</td>\n      <td>https://i.redd.it/d99q53rt4uha1.jpg</td>\n      <td>Self</td>\n      <td>/r/Faces/comments/110sfyw/will_you_make_me_smile/</td>\n      <td>e4a16c262b67e4f576c5eae4c2f2fbf8</td>\n      <td>Faces</td>\n      <td>A girl in a pink dress is smiling.</td>\n      <td>True</td>\n      <td>d99q53rt4uha1.jpg</td>\n      <td>a woman smiles as she poses for a picture</td>\n      <td>D:\\data\\images\\Faces\\thumbnail\\d99q53rt4uha1.jpg</td>\n      <td>False</td>\n      <td>[(woman, NN), (smiles, VBZ), (as, IN), (she, P...</td>\n      <td>[(will, MD), (you, PRP), (make, VB), (me, PRP)...</td>\n    </tr>\n    <tr>\n      <th>7</th>\n      <td>training</td>\n      <td>110shfq</td>\n      <td>D:\\data\\images\\Faces\\9ormpks5nvha1.jpg</td>\n      <td>F35 natural make up</td>\n      <td>110shfq</td>\n      <td>Main-Cheetah-4142</td>\n      <td>https://i.redd.it/9ormpks5nvha1.jpg</td>\n      <td>Self</td>\n      <td>/r/Faces/comments/110shfq/f35_natural_make_up/</td>\n      <td>ffc002fd3345af8781b3f390d35f7ffc</td>\n      <td>Faces</td>\n      <td>A girl in a red dress is standing in front of ...</td>\n      <td>True</td>\n      <td>9ormpks5nvha1.jpg</td>\n      <td>a woman with long hair wearing a pink dress</td>\n      <td>D:\\data\\images\\Faces\\thumbnail\\9ormpks5nvha1.jpg</td>\n      <td>False</td>\n      <td>[(woman, NN), (with, IN), (long, JJ), (hair, N...</td>\n      <td>[(natural, JJ), (make, VBP), (up, RP)]</td>\n    </tr>\n    <tr>\n      <th>8</th>\n      <td>training</td>\n      <td>110sit9</td>\n      <td>D:\\data\\images\\Faces\\cdp9qi3hnvha1.jpg</td>\n      <td>Hi :)</td>\n      <td>110sit9</td>\n      <td>VennieSweet</td>\n      <td>https://i.redd.it/cdp9qi3hnvha1.jpg</td>\n      <td>Self</td>\n      <td>/r/Faces/comments/110sit9/hi/</td>\n      <td>7603e8e82df0c29de33bf28fb2a0f8b9</td>\n      <td>Faces</td>\n      <td>A woman in a red dress is talking to a man in ...</td>\n      <td>True</td>\n      <td>cdp9qi3hnvha1.jpg</td>\n      <td>a woman in a black shirt and black pants posin...</td>\n      <td>D:\\data\\images\\Faces\\thumbnail\\cdp9qi3hnvha1.jpg</td>\n      <td>False</td>\n      <td>[(woman, NN), (in, IN), (black, JJ), (shirt, N...</td>\n      <td>[(Hi, NNP), (:), NN)]</td>\n    </tr>\n    <tr>\n      <th>9</th>\n      <td>training</td>\n      <td>110sk89</td>\n      <td>D:\\data\\images\\Faces\\74thrynsnvha1.jpg</td>\n      <td>Super psyched for the Super bowl!!! 🏈🏈 Go 🦅</td>\n      <td>110sk89</td>\n      <td>BalaclavaBrat</td>\n      <td>https://i.redd.it/74thrynsnvha1.jpg</td>\n      <td>Self</td>\n      <td>/r/Faces/comments/110sk89/super_psyched_for_th...</td>\n      <td>2c6c6ad4e46858878f23dcc886e3e774</td>\n      <td>Faces</td>\n      <td>A woman in a pink shirt and blue jeans is talk...</td>\n      <td>True</td>\n      <td>74thrynsnvha1.jpg</td>\n      <td>a young woman is posing for a picture</td>\n      <td>D:\\data\\images\\Faces\\thumbnail\\74thrynsnvha1.jpg</td>\n      <td>False</td>\n      <td>[(young, JJ), (woman, NN), (is, VBZ), (posing,...</td>\n      <td>[(Super, NNP), (psyched, VBD), (for, IN), (the...</td>\n    </tr>\n  </tbody>\n</table>\n</div>"
     },
     "metadata": {},
     "output_type": "display_data"
    }
   ],
   "source": [
    "display(out_frame.where('size(caption_tokens) > 0').limit(10).toPandas())"
   ],
   "metadata": {
    "collapsed": false
   }
  },
  {
   "cell_type": "code",
   "execution_count": null,
   "outputs": [],
   "source": [
    "out_frame.write.parquet(\"D:\\\\data\\\\processed\\\\reddit_images_processed_with_caption_tokens.parquet\", mode='overwrite')"
   ],
   "metadata": {
    "collapsed": false
   }
  }
 ],
 "metadata": {
  "kernelspec": {
   "display_name": "Python 3",
   "language": "python",
   "name": "python3"
  },
  "language_info": {
   "codemirror_mode": {
    "name": "ipython",
    "version": 2
   },
   "file_extension": ".py",
   "mimetype": "text/x-python",
   "name": "python",
   "nbconvert_exporter": "python",
   "pygments_lexer": "ipython2",
   "version": "2.7.6"
  }
 },
 "nbformat": 4,
 "nbformat_minor": 0
}
