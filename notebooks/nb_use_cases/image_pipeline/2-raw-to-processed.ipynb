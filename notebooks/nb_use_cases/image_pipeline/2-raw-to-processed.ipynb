{
 "cells": [
  {
   "cell_type": "code",
   "execution_count": 1,
   "metadata": {
    "collapsed": true
   },
   "outputs": [],
   "source": [
    "import os\n",
    "\n",
    "import pandas\n",
    "\n",
    "import dask.dataframe as dd\n",
    "\n",
    "from shared_code.utility.spark.set_environ import set_azure_env\n",
    "\n",
    "set_azure_env()\n",
    "\n",
    "from shared_code.utility.storage.table import TableAdapter"
   ]
  },
  {
   "cell_type": "code",
   "execution_count": 2,
   "outputs": [],
   "source": [
    "from tqdm.dask import TqdmCallback\n",
    "cb = TqdmCallback(desc=\"global\")\n",
    "cb.register()\n",
    "\n",
    "from tqdm.auto import tqdm\n",
    "tqdm.pandas(desc=\"global\")"
   ],
   "metadata": {
    "collapsed": false
   }
  },
  {
   "cell_type": "code",
   "execution_count": 3,
   "outputs": [],
   "source": [
    "from tqdm import tqdm\n",
    "\n",
    "class InnerProgressBar(tqdm):\n",
    "\tdef __init__(self, total, desc):\n",
    "\t\tsuper().__init__(desc=desc)\n",
    "\t\tself.total = total\n",
    "\t\tself.current = 0\n",
    "\n",
    "\tdef update_to(self):\n",
    "\t\tself.update(self.current)"
   ],
   "metadata": {
    "collapsed": false
   }
  },
  {
   "cell_type": "code",
   "execution_count": 4,
   "outputs": [],
   "source": [
    "table_name = \"training\"\n",
    "\n",
    "table_adapter: TableAdapter = TableAdapter()\n",
    "\n",
    "data_path = \"/data/parquet/\"\n",
    "\n",
    "parquet_raw_data_path = data_path + \"raw_data.parquet\"\n",
    "\n",
    "parquet_process_data_path = data_path + \"processed_data.parquet\""
   ],
   "metadata": {
    "collapsed": false
   }
  },
  {
   "cell_type": "code",
   "execution_count": 5,
   "outputs": [
    {
     "name": "stdout",
     "output_type": "stream",
     "text": [
      "Data Path:\t/data/parquet/\n",
      "\n",
      "Exists:\tTrue\n"
     ]
    }
   ],
   "source": [
    "os.makedirs(data_path, exist_ok=True)\n",
    "\n",
    "print(f\"Data Path:\\t{data_path}\\n\\nExists:\\t{os.path.exists(data_path)}\")"
   ],
   "metadata": {
    "collapsed": false
   }
  },
  {
   "cell_type": "code",
   "execution_count": 6,
   "outputs": [
    {
     "name": "stdout",
     "output_type": "stream",
     "text": [
      "Loading from table\n",
      "Saving to parquet /data/parquet/processed_data.parquet\n"
     ]
    }
   ],
   "source": [
    "pandas_df = None\n",
    "if os.path.exists(\"foo\"):\n",
    "\tprint(\"Loading from parquet\")\n",
    "\tpandas_df = pandas.read_parquet(parquet_raw_data_path)\n",
    "\n",
    "\n",
    "else:\n",
    "\tprint(\"Loading from table\")\n",
    "\traw_data = table_adapter.get_all_entities(table_name)\n",
    "\tpandas_df = pandas.DataFrame(list(raw_data))\n",
    "\tprint(f\"Saving to parquet {parquet_process_data_path}\")\n",
    "\tpandas_df.to_parquet(parquet_raw_data_path)"
   ],
   "metadata": {
    "collapsed": false
   }
  },
  {
   "cell_type": "code",
   "execution_count": 7,
   "outputs": [
    {
     "data": {
      "text/plain": "'Initial Dataframe Shape:\\t(16085, 19)'"
     },
     "metadata": {},
     "output_type": "display_data"
    },
    {
     "data": {
      "text/plain": "      PartitionKey   RowKey               author  \\\n0         training  1000cej          OtterlyFoxy   \n1         training  1000d16        princessxo699   \n2         training  1000fg0           BlkBrd1312   \n3         training  1000glf    toolate_sharkbait   \n4         training  1000j1n            trent8051   \n...            ...      ...                  ...   \n16080     training   zzzg13     AdConsistent3184   \n16081     training   zzzlbf     Slipstream_Valet   \n16082     training   zzzlyl  Particular-Chip2355   \n16083     training   zzzrv5           Mary_ford1   \n16084     training   zzzu28       Butter_Luver05   \n\n                                                 caption  curated  exists  \\\n0      cars are parked on the side of the road in the...    False    True   \n1       a woman sitting on a table holding a pink flower    False    True   \n2      a woman in a bikini with a cell phone in her hand    False    True   \n3      blonde woman with blonde hair and tattoos on h...    False    True   \n4      a man with a beard and a beard sitting in fron...    False    True   \n...                                                  ...      ...     ...   \n16080  A little girl in a pink dress is sitting on a ...    False   False   \n16081    a man in a red dress and a woman in a red dress    False    True   \n16082                          Error in captioning image    False   False   \n16083  blond woman in black lingersuit sitting on a c...    False    True   \n16084  blonde woman in black bikini top and black bik...    False    True   \n\n       exits              flair                              hash       id  \\\n0       True                NaN  7a8d96e378c15c8ab8440ac311f12c11  1000cej   \n1       True  Outfit of the Day  9951b4f82caeb8ba2bd9f79f8d422450  1000d16   \n2       True    HotGirlNextDoor  be8dd55e34216bec1e15e03fa296eacc  1000fg0   \n3       True       Female (18+)  e554c1ed7ffa2740436ac082068b2824  1000glf   \n4        NaN                NaN  1dec3dabb5e46cde01855d06089c287a  1000j1n   \n...      ...                ...                               ...      ...   \n16080  False                NaN  ba89401054b09d3ff2b608705f8a7110   zzzg13   \n16081    NaN                NaN  5007b937974ae333022c0c91b795ca09   zzzlbf   \n16082   True                NaN  3cac9b29f27d5fc26ddcec4e1641649f   zzzlyl   \n16083    NaN                NaN  fb0bf1ab59095edf938ece2e036dae86   zzzrv5   \n16084   True    HotGirlNextDoor  94dea288ddffb51eb1a786d469b59374   zzzu28   \n\n                                                   image  \\\n0              D:\\data\\images\\CityPorn\\4emw5uldib9a1.jpg   \n1            D:\\data\\images\\SFWNextDoorGirls\\GgFEagO.jpg   \n2       D:\\data\\images\\HotGirlNextDoor\\nwa7hts2jb9a1.jpg   \n3              D:\\data\\images\\AmIhotAF\\4xyb1vgbjb9a1.jpg   \n4             D:\\data\\images\\greentext\\3mewbe0wjb9a1.jpg   \n...                                                  ...   \n16080       D:\\data\\images\\SFWRedheads\\3rv0ql34bb9a1.jpg   \n16081        /data/images/trippinthroughtime/arCpzQ0.jpg   \n16082  D:\\data\\images\\CityPorn\\Minquan_Bridge2017_TAI...   \n16083             /data/images/RealGirls_SFW/2gxZ9rS.jpg   \n16084   D:\\data\\images\\HotGirlNextDoor\\p6yewrl7eb9a1.jpg   \n\n                          image_name  \\\n0                  4emw5uldib9a1.jpg   \n1                        GgFEagO.jpg   \n2                  nwa7hts2jb9a1.jpg   \n3                  4xyb1vgbjb9a1.jpg   \n4                  3mewbe0wjb9a1.jpg   \n...                              ...   \n16080              3rv0ql34bb9a1.jpg   \n16081                    arCpzQ0.jpg   \n16082  Minquan_Bridge2017_TAIWAN.jpg   \n16083                    2gxZ9rS.jpg   \n16084              p6yewrl7eb9a1.jpg   \n\n                                               permalink  \\\n0      /r/CityPorn/comments/1000cej/new_york_in_the_fog/   \n1      /r/SFWNextDoorGirls/comments/1000d16/thoughts_...   \n2              /r/HotGirlNextDoor/comments/1000fg0/iktr/   \n3      /r/AmIhotAF/comments/1000glf/just_looking_for_...   \n4      /r/greentext/comments/1000j1n/anon_wants_elon_...   \n...                                                  ...   \n16080    /r/SFWRedheads/comments/zzzg13/cute_but_deadly/   \n16081  /r/trippinthroughtime/comments/zzzlbf/he_didnt...   \n16082         /r/CityPorn/comments/zzzlyl/taipei_taiwan/   \n16083  /r/RealGirls_SFW/comments/zzzrv5/my_tender_bod...   \n16084           /r/HotGirlNextDoor/comments/zzzu28/iktr/   \n\n                                             small_image           subreddit  \\\n0      D:\\data\\images\\CityPorn\\thumbnail\\4emw5uldib9a...            CityPorn   \n1      D:\\data\\images\\SFWNextDoorGirls\\thumbnail\\GgFE...    SFWNextDoorGirls   \n2      D:\\data\\images\\HotGirlNextDoor\\thumbnail\\nwa7h...     HotGirlNextDoor   \n3      D:\\data\\images\\AmIhotAF\\thumbnail\\4xyb1vgbjb9a...            AmIhotAF   \n4      D:\\data\\images\\greentext\\thumbnail\\3mewbe0wjb9...           greentext   \n...                                                  ...                 ...   \n16080                                                            SFWRedheads   \n16081  /data/images/trippinthroughtime/thumbnail/arCp...  trippinthroughtime   \n16082                                                               CityPorn   \n16083   /data/images/RealGirls_SFW/thumbnail/2gxZ9rS.jpg       RealGirls_SFW   \n16084  D:\\data\\images\\HotGirlNextDoor\\thumbnail\\p6yew...     HotGirlNextDoor   \n\n                                             text  \\\n0                             New York in the fog   \n1             Thoughts about my NYE party outfit?   \n2                                          (IKTR)   \n3                  Just looking for entertainment   \n4                             Anon wants Elon cut   \n...                                           ...   \n16080                           Cute but Deadly 😋   \n16081  He didn't shed light on the topic I guess.   \n16082                              Taipei, Taiwan   \n16083                 My tender body needs caress   \n16084                                      (IKTR)   \n\n                                         updated_caption  \\\n0      \"cars|NNS\",\"are|VBP\",\"parked|VBN\",\"on|IN\",\"the...   \n1       a woman sitting on a table holding a pink flower   \n2      a woman in a bikini with a cell phone in her hand   \n3      \"blonde|NNS\",\"woman|NN\",\"with|IN\",\"hair|NN\",\"a...   \n4      \"man|NN\",\"with|IN\",\"beard|NN\",\"and|CC\",\"sittin...   \n...                                                  ...   \n16080                                                NaN   \n16081  \"man|NN\",\"in|IN\",\"red|JJ\",\"dress|NN\",\"and|CC\",...   \n16082                                                NaN   \n16083  \"blond|NN\",\"woman|NN\",\"in|IN\",\"black|JJ\",\"ling...   \n16084  \"blonde|NN\",\"woman|NN\",\"in|IN\",\"black|JJ\",\"bik...   \n\n                                            updated_path  \\\n0              D:\\data\\images\\CityPorn\\4emw5uldib9a1.jpg   \n1            D:\\data\\images\\SFWNextDoorGirls\\GgFEagO.jpg   \n2       D:\\data\\images\\HotGirlNextDoor\\nwa7hts2jb9a1.jpg   \n3              D:\\data\\images\\AmIhotAF\\4xyb1vgbjb9a1.jpg   \n4                                                    NaN   \n...                                                  ...   \n16080       D:\\data\\images\\SFWRedheads\\3rv0ql34bb9a1.jpg   \n16081                                                NaN   \n16082  D:\\data\\images\\CityPorn\\Minquan_Bridge2017_TAI...   \n16083                                                NaN   \n16084   D:\\data\\images\\HotGirlNextDoor\\p6yewrl7eb9a1.jpg   \n\n                                                     url  \n0                    https://i.redd.it/4emw5uldib9a1.jpg  \n1                        https://i.imgur.com/GgFEagO.jpg  \n2                    https://i.redd.it/nwa7hts2jb9a1.jpg  \n3                    https://i.redd.it/4xyb1vgbjb9a1.jpg  \n4                    https://i.redd.it/3mewbe0wjb9a1.jpg  \n...                                                  ...  \n16080                https://i.redd.it/3rv0ql34bb9a1.jpg  \n16081                    https://i.imgur.com/arCpzQ0.jpg  \n16082  https://upload.wikimedia.org/wikipedia/commons...  \n16083                    https://i.imgur.com/2gxZ9rS.jpg  \n16084                https://i.redd.it/p6yewrl7eb9a1.jpg  \n\n[16085 rows x 19 columns]",
      "text/html": "<div>\n<style scoped>\n    .dataframe tbody tr th:only-of-type {\n        vertical-align: middle;\n    }\n\n    .dataframe tbody tr th {\n        vertical-align: top;\n    }\n\n    .dataframe thead th {\n        text-align: right;\n    }\n</style>\n<table border=\"1\" class=\"dataframe\">\n  <thead>\n    <tr style=\"text-align: right;\">\n      <th></th>\n      <th>PartitionKey</th>\n      <th>RowKey</th>\n      <th>author</th>\n      <th>caption</th>\n      <th>curated</th>\n      <th>exists</th>\n      <th>exits</th>\n      <th>flair</th>\n      <th>hash</th>\n      <th>id</th>\n      <th>image</th>\n      <th>image_name</th>\n      <th>permalink</th>\n      <th>small_image</th>\n      <th>subreddit</th>\n      <th>text</th>\n      <th>updated_caption</th>\n      <th>updated_path</th>\n      <th>url</th>\n    </tr>\n  </thead>\n  <tbody>\n    <tr>\n      <th>0</th>\n      <td>training</td>\n      <td>1000cej</td>\n      <td>OtterlyFoxy</td>\n      <td>cars are parked on the side of the road in the...</td>\n      <td>False</td>\n      <td>True</td>\n      <td>True</td>\n      <td>NaN</td>\n      <td>7a8d96e378c15c8ab8440ac311f12c11</td>\n      <td>1000cej</td>\n      <td>D:\\data\\images\\CityPorn\\4emw5uldib9a1.jpg</td>\n      <td>4emw5uldib9a1.jpg</td>\n      <td>/r/CityPorn/comments/1000cej/new_york_in_the_fog/</td>\n      <td>D:\\data\\images\\CityPorn\\thumbnail\\4emw5uldib9a...</td>\n      <td>CityPorn</td>\n      <td>New York in the fog</td>\n      <td>\"cars|NNS\",\"are|VBP\",\"parked|VBN\",\"on|IN\",\"the...</td>\n      <td>D:\\data\\images\\CityPorn\\4emw5uldib9a1.jpg</td>\n      <td>https://i.redd.it/4emw5uldib9a1.jpg</td>\n    </tr>\n    <tr>\n      <th>1</th>\n      <td>training</td>\n      <td>1000d16</td>\n      <td>princessxo699</td>\n      <td>a woman sitting on a table holding a pink flower</td>\n      <td>False</td>\n      <td>True</td>\n      <td>True</td>\n      <td>Outfit of the Day</td>\n      <td>9951b4f82caeb8ba2bd9f79f8d422450</td>\n      <td>1000d16</td>\n      <td>D:\\data\\images\\SFWNextDoorGirls\\GgFEagO.jpg</td>\n      <td>GgFEagO.jpg</td>\n      <td>/r/SFWNextDoorGirls/comments/1000d16/thoughts_...</td>\n      <td>D:\\data\\images\\SFWNextDoorGirls\\thumbnail\\GgFE...</td>\n      <td>SFWNextDoorGirls</td>\n      <td>Thoughts about my NYE party outfit?</td>\n      <td>a woman sitting on a table holding a pink flower</td>\n      <td>D:\\data\\images\\SFWNextDoorGirls\\GgFEagO.jpg</td>\n      <td>https://i.imgur.com/GgFEagO.jpg</td>\n    </tr>\n    <tr>\n      <th>2</th>\n      <td>training</td>\n      <td>1000fg0</td>\n      <td>BlkBrd1312</td>\n      <td>a woman in a bikini with a cell phone in her hand</td>\n      <td>False</td>\n      <td>True</td>\n      <td>True</td>\n      <td>HotGirlNextDoor</td>\n      <td>be8dd55e34216bec1e15e03fa296eacc</td>\n      <td>1000fg0</td>\n      <td>D:\\data\\images\\HotGirlNextDoor\\nwa7hts2jb9a1.jpg</td>\n      <td>nwa7hts2jb9a1.jpg</td>\n      <td>/r/HotGirlNextDoor/comments/1000fg0/iktr/</td>\n      <td>D:\\data\\images\\HotGirlNextDoor\\thumbnail\\nwa7h...</td>\n      <td>HotGirlNextDoor</td>\n      <td>(IKTR)</td>\n      <td>a woman in a bikini with a cell phone in her hand</td>\n      <td>D:\\data\\images\\HotGirlNextDoor\\nwa7hts2jb9a1.jpg</td>\n      <td>https://i.redd.it/nwa7hts2jb9a1.jpg</td>\n    </tr>\n    <tr>\n      <th>3</th>\n      <td>training</td>\n      <td>1000glf</td>\n      <td>toolate_sharkbait</td>\n      <td>blonde woman with blonde hair and tattoos on h...</td>\n      <td>False</td>\n      <td>True</td>\n      <td>True</td>\n      <td>Female (18+)</td>\n      <td>e554c1ed7ffa2740436ac082068b2824</td>\n      <td>1000glf</td>\n      <td>D:\\data\\images\\AmIhotAF\\4xyb1vgbjb9a1.jpg</td>\n      <td>4xyb1vgbjb9a1.jpg</td>\n      <td>/r/AmIhotAF/comments/1000glf/just_looking_for_...</td>\n      <td>D:\\data\\images\\AmIhotAF\\thumbnail\\4xyb1vgbjb9a...</td>\n      <td>AmIhotAF</td>\n      <td>Just looking for entertainment</td>\n      <td>\"blonde|NNS\",\"woman|NN\",\"with|IN\",\"hair|NN\",\"a...</td>\n      <td>D:\\data\\images\\AmIhotAF\\4xyb1vgbjb9a1.jpg</td>\n      <td>https://i.redd.it/4xyb1vgbjb9a1.jpg</td>\n    </tr>\n    <tr>\n      <th>4</th>\n      <td>training</td>\n      <td>1000j1n</td>\n      <td>trent8051</td>\n      <td>a man with a beard and a beard sitting in fron...</td>\n      <td>False</td>\n      <td>True</td>\n      <td>NaN</td>\n      <td>NaN</td>\n      <td>1dec3dabb5e46cde01855d06089c287a</td>\n      <td>1000j1n</td>\n      <td>D:\\data\\images\\greentext\\3mewbe0wjb9a1.jpg</td>\n      <td>3mewbe0wjb9a1.jpg</td>\n      <td>/r/greentext/comments/1000j1n/anon_wants_elon_...</td>\n      <td>D:\\data\\images\\greentext\\thumbnail\\3mewbe0wjb9...</td>\n      <td>greentext</td>\n      <td>Anon wants Elon cut</td>\n      <td>\"man|NN\",\"with|IN\",\"beard|NN\",\"and|CC\",\"sittin...</td>\n      <td>NaN</td>\n      <td>https://i.redd.it/3mewbe0wjb9a1.jpg</td>\n    </tr>\n    <tr>\n      <th>...</th>\n      <td>...</td>\n      <td>...</td>\n      <td>...</td>\n      <td>...</td>\n      <td>...</td>\n      <td>...</td>\n      <td>...</td>\n      <td>...</td>\n      <td>...</td>\n      <td>...</td>\n      <td>...</td>\n      <td>...</td>\n      <td>...</td>\n      <td>...</td>\n      <td>...</td>\n      <td>...</td>\n      <td>...</td>\n      <td>...</td>\n      <td>...</td>\n    </tr>\n    <tr>\n      <th>16080</th>\n      <td>training</td>\n      <td>zzzg13</td>\n      <td>AdConsistent3184</td>\n      <td>A little girl in a pink dress is sitting on a ...</td>\n      <td>False</td>\n      <td>False</td>\n      <td>False</td>\n      <td>NaN</td>\n      <td>ba89401054b09d3ff2b608705f8a7110</td>\n      <td>zzzg13</td>\n      <td>D:\\data\\images\\SFWRedheads\\3rv0ql34bb9a1.jpg</td>\n      <td>3rv0ql34bb9a1.jpg</td>\n      <td>/r/SFWRedheads/comments/zzzg13/cute_but_deadly/</td>\n      <td></td>\n      <td>SFWRedheads</td>\n      <td>Cute but Deadly 😋</td>\n      <td>NaN</td>\n      <td>D:\\data\\images\\SFWRedheads\\3rv0ql34bb9a1.jpg</td>\n      <td>https://i.redd.it/3rv0ql34bb9a1.jpg</td>\n    </tr>\n    <tr>\n      <th>16081</th>\n      <td>training</td>\n      <td>zzzlbf</td>\n      <td>Slipstream_Valet</td>\n      <td>a man in a red dress and a woman in a red dress</td>\n      <td>False</td>\n      <td>True</td>\n      <td>NaN</td>\n      <td>NaN</td>\n      <td>5007b937974ae333022c0c91b795ca09</td>\n      <td>zzzlbf</td>\n      <td>/data/images/trippinthroughtime/arCpzQ0.jpg</td>\n      <td>arCpzQ0.jpg</td>\n      <td>/r/trippinthroughtime/comments/zzzlbf/he_didnt...</td>\n      <td>/data/images/trippinthroughtime/thumbnail/arCp...</td>\n      <td>trippinthroughtime</td>\n      <td>He didn't shed light on the topic I guess.</td>\n      <td>\"man|NN\",\"in|IN\",\"red|JJ\",\"dress|NN\",\"and|CC\",...</td>\n      <td>NaN</td>\n      <td>https://i.imgur.com/arCpzQ0.jpg</td>\n    </tr>\n    <tr>\n      <th>16082</th>\n      <td>training</td>\n      <td>zzzlyl</td>\n      <td>Particular-Chip2355</td>\n      <td>Error in captioning image</td>\n      <td>False</td>\n      <td>False</td>\n      <td>True</td>\n      <td>NaN</td>\n      <td>3cac9b29f27d5fc26ddcec4e1641649f</td>\n      <td>zzzlyl</td>\n      <td>D:\\data\\images\\CityPorn\\Minquan_Bridge2017_TAI...</td>\n      <td>Minquan_Bridge2017_TAIWAN.jpg</td>\n      <td>/r/CityPorn/comments/zzzlyl/taipei_taiwan/</td>\n      <td></td>\n      <td>CityPorn</td>\n      <td>Taipei, Taiwan</td>\n      <td>NaN</td>\n      <td>D:\\data\\images\\CityPorn\\Minquan_Bridge2017_TAI...</td>\n      <td>https://upload.wikimedia.org/wikipedia/commons...</td>\n    </tr>\n    <tr>\n      <th>16083</th>\n      <td>training</td>\n      <td>zzzrv5</td>\n      <td>Mary_ford1</td>\n      <td>blond woman in black lingersuit sitting on a c...</td>\n      <td>False</td>\n      <td>True</td>\n      <td>NaN</td>\n      <td>NaN</td>\n      <td>fb0bf1ab59095edf938ece2e036dae86</td>\n      <td>zzzrv5</td>\n      <td>/data/images/RealGirls_SFW/2gxZ9rS.jpg</td>\n      <td>2gxZ9rS.jpg</td>\n      <td>/r/RealGirls_SFW/comments/zzzrv5/my_tender_bod...</td>\n      <td>/data/images/RealGirls_SFW/thumbnail/2gxZ9rS.jpg</td>\n      <td>RealGirls_SFW</td>\n      <td>My tender body needs caress</td>\n      <td>\"blond|NN\",\"woman|NN\",\"in|IN\",\"black|JJ\",\"ling...</td>\n      <td>NaN</td>\n      <td>https://i.imgur.com/2gxZ9rS.jpg</td>\n    </tr>\n    <tr>\n      <th>16084</th>\n      <td>training</td>\n      <td>zzzu28</td>\n      <td>Butter_Luver05</td>\n      <td>blonde woman in black bikini top and black bik...</td>\n      <td>False</td>\n      <td>True</td>\n      <td>True</td>\n      <td>HotGirlNextDoor</td>\n      <td>94dea288ddffb51eb1a786d469b59374</td>\n      <td>zzzu28</td>\n      <td>D:\\data\\images\\HotGirlNextDoor\\p6yewrl7eb9a1.jpg</td>\n      <td>p6yewrl7eb9a1.jpg</td>\n      <td>/r/HotGirlNextDoor/comments/zzzu28/iktr/</td>\n      <td>D:\\data\\images\\HotGirlNextDoor\\thumbnail\\p6yew...</td>\n      <td>HotGirlNextDoor</td>\n      <td>(IKTR)</td>\n      <td>\"blonde|NN\",\"woman|NN\",\"in|IN\",\"black|JJ\",\"bik...</td>\n      <td>D:\\data\\images\\HotGirlNextDoor\\p6yewrl7eb9a1.jpg</td>\n      <td>https://i.redd.it/p6yewrl7eb9a1.jpg</td>\n    </tr>\n  </tbody>\n</table>\n<p>16085 rows × 19 columns</p>\n</div>"
     },
     "metadata": {},
     "output_type": "display_data"
    }
   ],
   "source": [
    "display(f\"Initial Dataframe Shape:\\t{pandas_df.shape}\")\n",
    "\n",
    "display(pandas_df)"
   ],
   "metadata": {
    "collapsed": false
   }
  },
  {
   "cell_type": "code",
   "execution_count": 8,
   "outputs": [
    {
     "name": "stdout",
     "output_type": "stream",
     "text": [
      "Normalizing Dataframe For Processing\n"
     ]
    },
    {
     "data": {
      "text/plain": "'Normalized Dataframe Shape:\\t(16085, 11)'"
     },
     "metadata": {},
     "output_type": "display_data"
    },
    {
     "data": {
      "text/plain": "'Saving to parquet /data/parquet/processed_data.parquet'"
     },
     "metadata": {},
     "output_type": "display_data"
    }
   ],
   "source": [
    "print(\"Normalizing Dataframe For Processing\")\n",
    "\n",
    "subreddit = pandas_df[\"subreddit\"]\n",
    "image = pandas_df[\"image_name\"]\n",
    "text = pandas_df[\"text\"]\n",
    "hash_value = pandas_df[\"hash\"]\n",
    "original_caption = pandas_df[\"caption\"]\n",
    "thumbnail_caption = pandas_df[\"updated_caption\"]\n",
    "comment_id = pandas_df[\"id\"]\n",
    "all_normalized_frame = pandas.DataFrame(\n",
    "\t{\n",
    "\t\t\"subreddit\": subreddit,\n",
    "\t\t\"file_name\": image,\n",
    "\t\t\"text\": text,\n",
    "\t\t\"original_caption\": original_caption,\n",
    "\t\t\"thumbnail_path\": pandas_df.apply(lambda x: f\"D:\\\\data\\\\images\\\\{x['subreddit']}\\\\thumbnail\\\\{x['image_name']}\", axis=1),\n",
    "\t\t\"thumbnail_caption\": thumbnail_caption,\n",
    "\t\t\"thumbnail_exists\": pandas_df.apply(lambda x: os.path.exists(f\"D:\\\\data\\\\images\\\\{x['subreddit']}\\\\thumbnail\\\\{x['image_name']}\"), axis=1),\n",
    "\t\t\"original_image\": pandas_df.apply(lambda x: f\"D:\\\\data\\\\images\\\\{x['subreddit']}\\\\{x['image_name']}\", axis=1),\n",
    "\t\t\"original_image_exists\": pandas_df.apply(lambda x: os.path.exists(f\"D:\\\\data\\\\images\\\\{x['subreddit']}\\\\thumbnail\\\\{x['image_name']}\"), axis=1),\n",
    "\t\t\"hash\": hash_value,\n",
    "\t\t\"id\": comment_id\n",
    "\t}\n",
    ")\n",
    "display(f\"Normalized Dataframe Shape:\\t{all_normalized_frame.shape}\")\n",
    "display(f\"Saving to parquet {parquet_process_data_path}\")\n",
    "all_normalized_frame.to_parquet(parquet_process_data_path)"
   ],
   "metadata": {
    "collapsed": false
   }
  },
  {
   "cell_type": "code",
   "execution_count": 9,
   "outputs": [
    {
     "data": {
      "text/plain": "'Reading from parquet /data/parquet/processed_data.parquet'"
     },
     "metadata": {},
     "output_type": "display_data"
    },
    {
     "data": {
      "text/plain": "                subreddit                      file_name  \\\n0                CityPorn              4emw5uldib9a1.jpg   \n1        SFWNextDoorGirls                    GgFEagO.jpg   \n2         HotGirlNextDoor              nwa7hts2jb9a1.jpg   \n3                AmIhotAF              4xyb1vgbjb9a1.jpg   \n4               greentext              3mewbe0wjb9a1.jpg   \n...                   ...                            ...   \n16080         SFWRedheads              3rv0ql34bb9a1.jpg   \n16081  trippinthroughtime                    arCpzQ0.jpg   \n16082            CityPorn  Minquan_Bridge2017_TAIWAN.jpg   \n16083       RealGirls_SFW                    2gxZ9rS.jpg   \n16084     HotGirlNextDoor              p6yewrl7eb9a1.jpg   \n\n                                             text  \\\n0                             New York in the fog   \n1             Thoughts about my NYE party outfit?   \n2                                          (IKTR)   \n3                  Just looking for entertainment   \n4                             Anon wants Elon cut   \n...                                           ...   \n16080                           Cute but Deadly 😋   \n16081  He didn't shed light on the topic I guess.   \n16082                              Taipei, Taiwan   \n16083                 My tender body needs caress   \n16084                                      (IKTR)   \n\n                                        original_caption  \\\n0      cars are parked on the side of the road in the...   \n1       a woman sitting on a table holding a pink flower   \n2      a woman in a bikini with a cell phone in her hand   \n3      blonde woman with blonde hair and tattoos on h...   \n4      a man with a beard and a beard sitting in fron...   \n...                                                  ...   \n16080  A little girl in a pink dress is sitting on a ...   \n16081    a man in a red dress and a woman in a red dress   \n16082                          Error in captioning image   \n16083  blond woman in black lingersuit sitting on a c...   \n16084  blonde woman in black bikini top and black bik...   \n\n                                          thumbnail_path  \\\n0      D:\\data\\images\\CityPorn\\thumbnail\\4emw5uldib9a...   \n1      D:\\data\\images\\SFWNextDoorGirls\\thumbnail\\GgFE...   \n2      D:\\data\\images\\HotGirlNextDoor\\thumbnail\\nwa7h...   \n3      D:\\data\\images\\AmIhotAF\\thumbnail\\4xyb1vgbjb9a...   \n4      D:\\data\\images\\greentext\\thumbnail\\3mewbe0wjb9...   \n...                                                  ...   \n16080  D:\\data\\images\\SFWRedheads\\thumbnail\\3rv0ql34b...   \n16081  D:\\data\\images\\trippinthroughtime\\thumbnail\\ar...   \n16082  D:\\data\\images\\CityPorn\\thumbnail\\Minquan_Brid...   \n16083  D:\\data\\images\\RealGirls_SFW\\thumbnail\\2gxZ9rS...   \n16084  D:\\data\\images\\HotGirlNextDoor\\thumbnail\\p6yew...   \n\n                                       thumbnail_caption  thumbnail_exists  \\\n0      \"cars|NNS\",\"are|VBP\",\"parked|VBN\",\"on|IN\",\"the...              True   \n1       a woman sitting on a table holding a pink flower             False   \n2      a woman in a bikini with a cell phone in her hand             False   \n3      \"blonde|NNS\",\"woman|NN\",\"with|IN\",\"hair|NN\",\"a...              True   \n4      \"man|NN\",\"with|IN\",\"beard|NN\",\"and|CC\",\"sittin...              True   \n...                                                  ...               ...   \n16080                                                NaN             False   \n16081  \"man|NN\",\"in|IN\",\"red|JJ\",\"dress|NN\",\"and|CC\",...              True   \n16082                                                NaN             False   \n16083  \"blond|NN\",\"woman|NN\",\"in|IN\",\"black|JJ\",\"ling...             False   \n16084  \"blonde|NN\",\"woman|NN\",\"in|IN\",\"black|JJ\",\"bik...              True   \n\n                                          original_image  \\\n0              D:\\data\\images\\CityPorn\\4emw5uldib9a1.jpg   \n1            D:\\data\\images\\SFWNextDoorGirls\\GgFEagO.jpg   \n2       D:\\data\\images\\HotGirlNextDoor\\nwa7hts2jb9a1.jpg   \n3              D:\\data\\images\\AmIhotAF\\4xyb1vgbjb9a1.jpg   \n4             D:\\data\\images\\greentext\\3mewbe0wjb9a1.jpg   \n...                                                  ...   \n16080       D:\\data\\images\\SFWRedheads\\3rv0ql34bb9a1.jpg   \n16081      D:\\data\\images\\trippinthroughtime\\arCpzQ0.jpg   \n16082  D:\\data\\images\\CityPorn\\Minquan_Bridge2017_TAI...   \n16083           D:\\data\\images\\RealGirls_SFW\\2gxZ9rS.jpg   \n16084   D:\\data\\images\\HotGirlNextDoor\\p6yewrl7eb9a1.jpg   \n\n       original_image_exists                              hash       id  \n0                       True  7a8d96e378c15c8ab8440ac311f12c11  1000cej  \n1                      False  9951b4f82caeb8ba2bd9f79f8d422450  1000d16  \n2                      False  be8dd55e34216bec1e15e03fa296eacc  1000fg0  \n3                       True  e554c1ed7ffa2740436ac082068b2824  1000glf  \n4                       True  1dec3dabb5e46cde01855d06089c287a  1000j1n  \n...                      ...                               ...      ...  \n16080                  False  ba89401054b09d3ff2b608705f8a7110   zzzg13  \n16081                   True  5007b937974ae333022c0c91b795ca09   zzzlbf  \n16082                  False  3cac9b29f27d5fc26ddcec4e1641649f   zzzlyl  \n16083                  False  fb0bf1ab59095edf938ece2e036dae86   zzzrv5  \n16084                   True  94dea288ddffb51eb1a786d469b59374   zzzu28  \n\n[16085 rows x 11 columns]",
      "text/html": "<div>\n<style scoped>\n    .dataframe tbody tr th:only-of-type {\n        vertical-align: middle;\n    }\n\n    .dataframe tbody tr th {\n        vertical-align: top;\n    }\n\n    .dataframe thead th {\n        text-align: right;\n    }\n</style>\n<table border=\"1\" class=\"dataframe\">\n  <thead>\n    <tr style=\"text-align: right;\">\n      <th></th>\n      <th>subreddit</th>\n      <th>file_name</th>\n      <th>text</th>\n      <th>original_caption</th>\n      <th>thumbnail_path</th>\n      <th>thumbnail_caption</th>\n      <th>thumbnail_exists</th>\n      <th>original_image</th>\n      <th>original_image_exists</th>\n      <th>hash</th>\n      <th>id</th>\n    </tr>\n  </thead>\n  <tbody>\n    <tr>\n      <th>0</th>\n      <td>CityPorn</td>\n      <td>4emw5uldib9a1.jpg</td>\n      <td>New York in the fog</td>\n      <td>cars are parked on the side of the road in the...</td>\n      <td>D:\\data\\images\\CityPorn\\thumbnail\\4emw5uldib9a...</td>\n      <td>\"cars|NNS\",\"are|VBP\",\"parked|VBN\",\"on|IN\",\"the...</td>\n      <td>True</td>\n      <td>D:\\data\\images\\CityPorn\\4emw5uldib9a1.jpg</td>\n      <td>True</td>\n      <td>7a8d96e378c15c8ab8440ac311f12c11</td>\n      <td>1000cej</td>\n    </tr>\n    <tr>\n      <th>1</th>\n      <td>SFWNextDoorGirls</td>\n      <td>GgFEagO.jpg</td>\n      <td>Thoughts about my NYE party outfit?</td>\n      <td>a woman sitting on a table holding a pink flower</td>\n      <td>D:\\data\\images\\SFWNextDoorGirls\\thumbnail\\GgFE...</td>\n      <td>a woman sitting on a table holding a pink flower</td>\n      <td>False</td>\n      <td>D:\\data\\images\\SFWNextDoorGirls\\GgFEagO.jpg</td>\n      <td>False</td>\n      <td>9951b4f82caeb8ba2bd9f79f8d422450</td>\n      <td>1000d16</td>\n    </tr>\n    <tr>\n      <th>2</th>\n      <td>HotGirlNextDoor</td>\n      <td>nwa7hts2jb9a1.jpg</td>\n      <td>(IKTR)</td>\n      <td>a woman in a bikini with a cell phone in her hand</td>\n      <td>D:\\data\\images\\HotGirlNextDoor\\thumbnail\\nwa7h...</td>\n      <td>a woman in a bikini with a cell phone in her hand</td>\n      <td>False</td>\n      <td>D:\\data\\images\\HotGirlNextDoor\\nwa7hts2jb9a1.jpg</td>\n      <td>False</td>\n      <td>be8dd55e34216bec1e15e03fa296eacc</td>\n      <td>1000fg0</td>\n    </tr>\n    <tr>\n      <th>3</th>\n      <td>AmIhotAF</td>\n      <td>4xyb1vgbjb9a1.jpg</td>\n      <td>Just looking for entertainment</td>\n      <td>blonde woman with blonde hair and tattoos on h...</td>\n      <td>D:\\data\\images\\AmIhotAF\\thumbnail\\4xyb1vgbjb9a...</td>\n      <td>\"blonde|NNS\",\"woman|NN\",\"with|IN\",\"hair|NN\",\"a...</td>\n      <td>True</td>\n      <td>D:\\data\\images\\AmIhotAF\\4xyb1vgbjb9a1.jpg</td>\n      <td>True</td>\n      <td>e554c1ed7ffa2740436ac082068b2824</td>\n      <td>1000glf</td>\n    </tr>\n    <tr>\n      <th>4</th>\n      <td>greentext</td>\n      <td>3mewbe0wjb9a1.jpg</td>\n      <td>Anon wants Elon cut</td>\n      <td>a man with a beard and a beard sitting in fron...</td>\n      <td>D:\\data\\images\\greentext\\thumbnail\\3mewbe0wjb9...</td>\n      <td>\"man|NN\",\"with|IN\",\"beard|NN\",\"and|CC\",\"sittin...</td>\n      <td>True</td>\n      <td>D:\\data\\images\\greentext\\3mewbe0wjb9a1.jpg</td>\n      <td>True</td>\n      <td>1dec3dabb5e46cde01855d06089c287a</td>\n      <td>1000j1n</td>\n    </tr>\n    <tr>\n      <th>...</th>\n      <td>...</td>\n      <td>...</td>\n      <td>...</td>\n      <td>...</td>\n      <td>...</td>\n      <td>...</td>\n      <td>...</td>\n      <td>...</td>\n      <td>...</td>\n      <td>...</td>\n      <td>...</td>\n    </tr>\n    <tr>\n      <th>16080</th>\n      <td>SFWRedheads</td>\n      <td>3rv0ql34bb9a1.jpg</td>\n      <td>Cute but Deadly 😋</td>\n      <td>A little girl in a pink dress is sitting on a ...</td>\n      <td>D:\\data\\images\\SFWRedheads\\thumbnail\\3rv0ql34b...</td>\n      <td>NaN</td>\n      <td>False</td>\n      <td>D:\\data\\images\\SFWRedheads\\3rv0ql34bb9a1.jpg</td>\n      <td>False</td>\n      <td>ba89401054b09d3ff2b608705f8a7110</td>\n      <td>zzzg13</td>\n    </tr>\n    <tr>\n      <th>16081</th>\n      <td>trippinthroughtime</td>\n      <td>arCpzQ0.jpg</td>\n      <td>He didn't shed light on the topic I guess.</td>\n      <td>a man in a red dress and a woman in a red dress</td>\n      <td>D:\\data\\images\\trippinthroughtime\\thumbnail\\ar...</td>\n      <td>\"man|NN\",\"in|IN\",\"red|JJ\",\"dress|NN\",\"and|CC\",...</td>\n      <td>True</td>\n      <td>D:\\data\\images\\trippinthroughtime\\arCpzQ0.jpg</td>\n      <td>True</td>\n      <td>5007b937974ae333022c0c91b795ca09</td>\n      <td>zzzlbf</td>\n    </tr>\n    <tr>\n      <th>16082</th>\n      <td>CityPorn</td>\n      <td>Minquan_Bridge2017_TAIWAN.jpg</td>\n      <td>Taipei, Taiwan</td>\n      <td>Error in captioning image</td>\n      <td>D:\\data\\images\\CityPorn\\thumbnail\\Minquan_Brid...</td>\n      <td>NaN</td>\n      <td>False</td>\n      <td>D:\\data\\images\\CityPorn\\Minquan_Bridge2017_TAI...</td>\n      <td>False</td>\n      <td>3cac9b29f27d5fc26ddcec4e1641649f</td>\n      <td>zzzlyl</td>\n    </tr>\n    <tr>\n      <th>16083</th>\n      <td>RealGirls_SFW</td>\n      <td>2gxZ9rS.jpg</td>\n      <td>My tender body needs caress</td>\n      <td>blond woman in black lingersuit sitting on a c...</td>\n      <td>D:\\data\\images\\RealGirls_SFW\\thumbnail\\2gxZ9rS...</td>\n      <td>\"blond|NN\",\"woman|NN\",\"in|IN\",\"black|JJ\",\"ling...</td>\n      <td>False</td>\n      <td>D:\\data\\images\\RealGirls_SFW\\2gxZ9rS.jpg</td>\n      <td>False</td>\n      <td>fb0bf1ab59095edf938ece2e036dae86</td>\n      <td>zzzrv5</td>\n    </tr>\n    <tr>\n      <th>16084</th>\n      <td>HotGirlNextDoor</td>\n      <td>p6yewrl7eb9a1.jpg</td>\n      <td>(IKTR)</td>\n      <td>blonde woman in black bikini top and black bik...</td>\n      <td>D:\\data\\images\\HotGirlNextDoor\\thumbnail\\p6yew...</td>\n      <td>\"blonde|NN\",\"woman|NN\",\"in|IN\",\"black|JJ\",\"bik...</td>\n      <td>True</td>\n      <td>D:\\data\\images\\HotGirlNextDoor\\p6yewrl7eb9a1.jpg</td>\n      <td>True</td>\n      <td>94dea288ddffb51eb1a786d469b59374</td>\n      <td>zzzu28</td>\n    </tr>\n  </tbody>\n</table>\n<p>16085 rows × 11 columns</p>\n</div>"
     },
     "metadata": {},
     "output_type": "display_data"
    }
   ],
   "source": [
    "display(f\"Reading from parquet {parquet_process_data_path}\")\n",
    "all_normalized_frame = pandas.read_parquet(parquet_process_data_path)\n",
    "display(all_normalized_frame)"
   ],
   "metadata": {
    "collapsed": false
   }
  },
  {
   "cell_type": "code",
   "execution_count": 10,
   "outputs": [
    {
     "data": {
      "text/plain": "'Filtering Subreddits with Images'"
     },
     "metadata": {},
     "output_type": "display_data"
    },
    {
     "data": {
      "text/plain": "              subreddit  count\n3             EarthPorn   1883\n2              CityPorn   1795\n13                memes   1180\n16            spaceporn   1101\n4                 Faces   1028\n9           SFWRedheads    984\n8      SFWNextDoorGirls    848\n12            greentext    713\n17   trippinthroughtime    478\n15            sfwpetite    288\n10               amihot    284\n7         RealGirls_SFW    262\n5       HotGirlNextDoor    262\n0              AmIhotAF    183\n11      fatsquirrelhate    122\n14              selfies     61\n1               Amicute     33\n6   OldLadiesBakingPies      9",
      "text/html": "<div>\n<style scoped>\n    .dataframe tbody tr th:only-of-type {\n        vertical-align: middle;\n    }\n\n    .dataframe tbody tr th {\n        vertical-align: top;\n    }\n\n    .dataframe thead th {\n        text-align: right;\n    }\n</style>\n<table border=\"1\" class=\"dataframe\">\n  <thead>\n    <tr style=\"text-align: right;\">\n      <th></th>\n      <th>subreddit</th>\n      <th>count</th>\n    </tr>\n  </thead>\n  <tbody>\n    <tr>\n      <th>3</th>\n      <td>EarthPorn</td>\n      <td>1883</td>\n    </tr>\n    <tr>\n      <th>2</th>\n      <td>CityPorn</td>\n      <td>1795</td>\n    </tr>\n    <tr>\n      <th>13</th>\n      <td>memes</td>\n      <td>1180</td>\n    </tr>\n    <tr>\n      <th>16</th>\n      <td>spaceporn</td>\n      <td>1101</td>\n    </tr>\n    <tr>\n      <th>4</th>\n      <td>Faces</td>\n      <td>1028</td>\n    </tr>\n    <tr>\n      <th>9</th>\n      <td>SFWRedheads</td>\n      <td>984</td>\n    </tr>\n    <tr>\n      <th>8</th>\n      <td>SFWNextDoorGirls</td>\n      <td>848</td>\n    </tr>\n    <tr>\n      <th>12</th>\n      <td>greentext</td>\n      <td>713</td>\n    </tr>\n    <tr>\n      <th>17</th>\n      <td>trippinthroughtime</td>\n      <td>478</td>\n    </tr>\n    <tr>\n      <th>15</th>\n      <td>sfwpetite</td>\n      <td>288</td>\n    </tr>\n    <tr>\n      <th>10</th>\n      <td>amihot</td>\n      <td>284</td>\n    </tr>\n    <tr>\n      <th>7</th>\n      <td>RealGirls_SFW</td>\n      <td>262</td>\n    </tr>\n    <tr>\n      <th>5</th>\n      <td>HotGirlNextDoor</td>\n      <td>262</td>\n    </tr>\n    <tr>\n      <th>0</th>\n      <td>AmIhotAF</td>\n      <td>183</td>\n    </tr>\n    <tr>\n      <th>11</th>\n      <td>fatsquirrelhate</td>\n      <td>122</td>\n    </tr>\n    <tr>\n      <th>14</th>\n      <td>selfies</td>\n      <td>61</td>\n    </tr>\n    <tr>\n      <th>1</th>\n      <td>Amicute</td>\n      <td>33</td>\n    </tr>\n    <tr>\n      <th>6</th>\n      <td>OldLadiesBakingPies</td>\n      <td>9</td>\n    </tr>\n  </tbody>\n</table>\n</div>"
     },
     "metadata": {},
     "output_type": "display_data"
    },
    {
     "data": {
      "text/plain": "'Total Records 11514'"
     },
     "metadata": {},
     "output_type": "display_data"
    }
   ],
   "source": [
    "display(\"Filtering Subreddits with Images\")\n",
    "filtered_on_exist = all_normalized_frame[(all_normalized_frame[\"thumbnail_exists\"] == True) & (all_normalized_frame[\"original_image_exists\"] == True)]\n",
    "\n",
    "total_images_display = filtered_on_exist.groupby(\"subreddit\").size().reset_index(name=\"count\")\n",
    "display(total_images_display.sort_values(\"count\", ascending=False))\n",
    "display(f\"Total Records {total_images_display['count'].sum()}\")"
   ],
   "metadata": {
    "collapsed": false
   }
  },
  {
   "cell_type": "code",
   "execution_count": 11,
   "outputs": [
    {
     "data": {
      "text/plain": "'Data With Known Images'"
     },
     "metadata": {},
     "output_type": "display_data"
    },
    {
     "data": {
      "text/plain": "                subreddit          file_name  \\\n0                CityPorn  4emw5uldib9a1.jpg   \n3                AmIhotAF  4xyb1vgbjb9a1.jpg   \n4               greentext  3mewbe0wjb9a1.jpg   \n5               spaceporn  7s5aafaqkb9a1.jpg   \n7               spaceporn  abojw7lqlb9a1.jpg   \n...                   ...                ...   \n16077           spaceporn  abwhhq0w8b9a1.jpg   \n16078           spaceporn  7hzipg1bab9a1.jpg   \n16079           greentext        bgho6WK.jpg   \n16081  trippinthroughtime        arCpzQ0.jpg   \n16084     HotGirlNextDoor  p6yewrl7eb9a1.jpg   \n\n                                                    text  \\\n0                                    New York in the fog   \n3                         Just looking for entertainment   \n4                                    Anon wants Elon cut   \n5                          Northern Lights above Lofoten   \n7                                          Viking Lights   \n...                                                  ...   \n16077           Polaris to Cassiopeia on a cloudy night.   \n16078  The hunt for habitable ocean worlds beyond our...   \n16079                        Anon does a little trolling   \n16081         He didn't shed light on the topic I guess.   \n16084                                             (IKTR)   \n\n                                        original_caption  \\\n0      cars are parked on the side of the road in the...   \n3      blonde woman with blonde hair and tattoos on h...   \n4      a man with a beard and a beard sitting in fron...   \n5      a view of a view of a large green and purple a...   \n7      a scene of a boat is sitting on the shore of a...   \n...                                                  ...   \n16077     starrdust sky with a few stars and a few stars   \n16078  a picture taken from the earth's surface of th...   \n16079  a screenshote of a text message from a man who...   \n16081    a man in a red dress and a woman in a red dress   \n16084  blonde woman in black bikini top and black bik...   \n\n                                          thumbnail_path  \\\n0      D:\\data\\images\\CityPorn\\thumbnail\\4emw5uldib9a...   \n3      D:\\data\\images\\AmIhotAF\\thumbnail\\4xyb1vgbjb9a...   \n4      D:\\data\\images\\greentext\\thumbnail\\3mewbe0wjb9...   \n5      D:\\data\\images\\spaceporn\\thumbnail\\7s5aafaqkb9...   \n7      D:\\data\\images\\spaceporn\\thumbnail\\abojw7lqlb9...   \n...                                                  ...   \n16077  D:\\data\\images\\spaceporn\\thumbnail\\abwhhq0w8b9...   \n16078  D:\\data\\images\\spaceporn\\thumbnail\\7hzipg1bab9...   \n16079     D:\\data\\images\\greentext\\thumbnail\\bgho6WK.jpg   \n16081  D:\\data\\images\\trippinthroughtime\\thumbnail\\ar...   \n16084  D:\\data\\images\\HotGirlNextDoor\\thumbnail\\p6yew...   \n\n                                       thumbnail_caption  thumbnail_exists  \\\n0      \"cars|NNS\",\"are|VBP\",\"parked|VBN\",\"on|IN\",\"the...              True   \n3      \"blonde|NNS\",\"woman|NN\",\"with|IN\",\"hair|NN\",\"a...              True   \n4      \"man|NN\",\"with|IN\",\"beard|NN\",\"and|CC\",\"sittin...              True   \n5      \"view|NN\",\"of|IN\",\"large|JJ\",\"green|JJ\",\"and|C...              True   \n7      \"scene|NN\",\"of|IN\",\"boat|NN\",\"is|VBZ\",\"sitting...              True   \n...                                                  ...               ...   \n16077  \"starrdust|NN\",\"sky|NN\",\"with|IN\",\"few|JJ\",\"st...              True   \n16078  \"picture|NN\",\"taken|VBN\",\"from|IN\",\"the|DT\",\"e...              True   \n16079  \"screenshote|NN\",\"of|IN\",\"text|JJ\",\"message|NN...              True   \n16081  \"man|NN\",\"in|IN\",\"red|JJ\",\"dress|NN\",\"and|CC\",...              True   \n16084  \"blonde|NN\",\"woman|NN\",\"in|IN\",\"black|JJ\",\"bik...              True   \n\n                                         original_image  \\\n0             D:\\data\\images\\CityPorn\\4emw5uldib9a1.jpg   \n3             D:\\data\\images\\AmIhotAF\\4xyb1vgbjb9a1.jpg   \n4            D:\\data\\images\\greentext\\3mewbe0wjb9a1.jpg   \n5            D:\\data\\images\\spaceporn\\7s5aafaqkb9a1.jpg   \n7            D:\\data\\images\\spaceporn\\abojw7lqlb9a1.jpg   \n...                                                 ...   \n16077        D:\\data\\images\\spaceporn\\abwhhq0w8b9a1.jpg   \n16078        D:\\data\\images\\spaceporn\\7hzipg1bab9a1.jpg   \n16079              D:\\data\\images\\greentext\\bgho6WK.jpg   \n16081     D:\\data\\images\\trippinthroughtime\\arCpzQ0.jpg   \n16084  D:\\data\\images\\HotGirlNextDoor\\p6yewrl7eb9a1.jpg   \n\n       original_image_exists                              hash       id  \n0                       True  7a8d96e378c15c8ab8440ac311f12c11  1000cej  \n3                       True  e554c1ed7ffa2740436ac082068b2824  1000glf  \n4                       True  1dec3dabb5e46cde01855d06089c287a  1000j1n  \n5                       True  2c39ce1290fba541abd0b004b09da6b2  1000mjs  \n7                       True  0f72de47c69ff50eca5fa3990215f4ac  1000qpd  \n...                      ...                               ...      ...  \n16077                   True  f5973637fc56360c15818ba0ca1f7ffa   zzz6dp  \n16078                   True  5b22bea7582229c1f9b992176a2ca2c6   zzzcn5  \n16079                   True  df666b8b2ad543c77b3fdba89becda1a   zzzeoi  \n16081                   True  5007b937974ae333022c0c91b795ca09   zzzlbf  \n16084                   True  94dea288ddffb51eb1a786d469b59374   zzzu28  \n\n[11514 rows x 11 columns]",
      "text/html": "<div>\n<style scoped>\n    .dataframe tbody tr th:only-of-type {\n        vertical-align: middle;\n    }\n\n    .dataframe tbody tr th {\n        vertical-align: top;\n    }\n\n    .dataframe thead th {\n        text-align: right;\n    }\n</style>\n<table border=\"1\" class=\"dataframe\">\n  <thead>\n    <tr style=\"text-align: right;\">\n      <th></th>\n      <th>subreddit</th>\n      <th>file_name</th>\n      <th>text</th>\n      <th>original_caption</th>\n      <th>thumbnail_path</th>\n      <th>thumbnail_caption</th>\n      <th>thumbnail_exists</th>\n      <th>original_image</th>\n      <th>original_image_exists</th>\n      <th>hash</th>\n      <th>id</th>\n    </tr>\n  </thead>\n  <tbody>\n    <tr>\n      <th>0</th>\n      <td>CityPorn</td>\n      <td>4emw5uldib9a1.jpg</td>\n      <td>New York in the fog</td>\n      <td>cars are parked on the side of the road in the...</td>\n      <td>D:\\data\\images\\CityPorn\\thumbnail\\4emw5uldib9a...</td>\n      <td>\"cars|NNS\",\"are|VBP\",\"parked|VBN\",\"on|IN\",\"the...</td>\n      <td>True</td>\n      <td>D:\\data\\images\\CityPorn\\4emw5uldib9a1.jpg</td>\n      <td>True</td>\n      <td>7a8d96e378c15c8ab8440ac311f12c11</td>\n      <td>1000cej</td>\n    </tr>\n    <tr>\n      <th>3</th>\n      <td>AmIhotAF</td>\n      <td>4xyb1vgbjb9a1.jpg</td>\n      <td>Just looking for entertainment</td>\n      <td>blonde woman with blonde hair and tattoos on h...</td>\n      <td>D:\\data\\images\\AmIhotAF\\thumbnail\\4xyb1vgbjb9a...</td>\n      <td>\"blonde|NNS\",\"woman|NN\",\"with|IN\",\"hair|NN\",\"a...</td>\n      <td>True</td>\n      <td>D:\\data\\images\\AmIhotAF\\4xyb1vgbjb9a1.jpg</td>\n      <td>True</td>\n      <td>e554c1ed7ffa2740436ac082068b2824</td>\n      <td>1000glf</td>\n    </tr>\n    <tr>\n      <th>4</th>\n      <td>greentext</td>\n      <td>3mewbe0wjb9a1.jpg</td>\n      <td>Anon wants Elon cut</td>\n      <td>a man with a beard and a beard sitting in fron...</td>\n      <td>D:\\data\\images\\greentext\\thumbnail\\3mewbe0wjb9...</td>\n      <td>\"man|NN\",\"with|IN\",\"beard|NN\",\"and|CC\",\"sittin...</td>\n      <td>True</td>\n      <td>D:\\data\\images\\greentext\\3mewbe0wjb9a1.jpg</td>\n      <td>True</td>\n      <td>1dec3dabb5e46cde01855d06089c287a</td>\n      <td>1000j1n</td>\n    </tr>\n    <tr>\n      <th>5</th>\n      <td>spaceporn</td>\n      <td>7s5aafaqkb9a1.jpg</td>\n      <td>Northern Lights above Lofoten</td>\n      <td>a view of a view of a large green and purple a...</td>\n      <td>D:\\data\\images\\spaceporn\\thumbnail\\7s5aafaqkb9...</td>\n      <td>\"view|NN\",\"of|IN\",\"large|JJ\",\"green|JJ\",\"and|C...</td>\n      <td>True</td>\n      <td>D:\\data\\images\\spaceporn\\7s5aafaqkb9a1.jpg</td>\n      <td>True</td>\n      <td>2c39ce1290fba541abd0b004b09da6b2</td>\n      <td>1000mjs</td>\n    </tr>\n    <tr>\n      <th>7</th>\n      <td>spaceporn</td>\n      <td>abojw7lqlb9a1.jpg</td>\n      <td>Viking Lights</td>\n      <td>a scene of a boat is sitting on the shore of a...</td>\n      <td>D:\\data\\images\\spaceporn\\thumbnail\\abojw7lqlb9...</td>\n      <td>\"scene|NN\",\"of|IN\",\"boat|NN\",\"is|VBZ\",\"sitting...</td>\n      <td>True</td>\n      <td>D:\\data\\images\\spaceporn\\abojw7lqlb9a1.jpg</td>\n      <td>True</td>\n      <td>0f72de47c69ff50eca5fa3990215f4ac</td>\n      <td>1000qpd</td>\n    </tr>\n    <tr>\n      <th>...</th>\n      <td>...</td>\n      <td>...</td>\n      <td>...</td>\n      <td>...</td>\n      <td>...</td>\n      <td>...</td>\n      <td>...</td>\n      <td>...</td>\n      <td>...</td>\n      <td>...</td>\n      <td>...</td>\n    </tr>\n    <tr>\n      <th>16077</th>\n      <td>spaceporn</td>\n      <td>abwhhq0w8b9a1.jpg</td>\n      <td>Polaris to Cassiopeia on a cloudy night.</td>\n      <td>starrdust sky with a few stars and a few stars</td>\n      <td>D:\\data\\images\\spaceporn\\thumbnail\\abwhhq0w8b9...</td>\n      <td>\"starrdust|NN\",\"sky|NN\",\"with|IN\",\"few|JJ\",\"st...</td>\n      <td>True</td>\n      <td>D:\\data\\images\\spaceporn\\abwhhq0w8b9a1.jpg</td>\n      <td>True</td>\n      <td>f5973637fc56360c15818ba0ca1f7ffa</td>\n      <td>zzz6dp</td>\n    </tr>\n    <tr>\n      <th>16078</th>\n      <td>spaceporn</td>\n      <td>7hzipg1bab9a1.jpg</td>\n      <td>The hunt for habitable ocean worlds beyond our...</td>\n      <td>a picture taken from the earth's surface of th...</td>\n      <td>D:\\data\\images\\spaceporn\\thumbnail\\7hzipg1bab9...</td>\n      <td>\"picture|NN\",\"taken|VBN\",\"from|IN\",\"the|DT\",\"e...</td>\n      <td>True</td>\n      <td>D:\\data\\images\\spaceporn\\7hzipg1bab9a1.jpg</td>\n      <td>True</td>\n      <td>5b22bea7582229c1f9b992176a2ca2c6</td>\n      <td>zzzcn5</td>\n    </tr>\n    <tr>\n      <th>16079</th>\n      <td>greentext</td>\n      <td>bgho6WK.jpg</td>\n      <td>Anon does a little trolling</td>\n      <td>a screenshote of a text message from a man who...</td>\n      <td>D:\\data\\images\\greentext\\thumbnail\\bgho6WK.jpg</td>\n      <td>\"screenshote|NN\",\"of|IN\",\"text|JJ\",\"message|NN...</td>\n      <td>True</td>\n      <td>D:\\data\\images\\greentext\\bgho6WK.jpg</td>\n      <td>True</td>\n      <td>df666b8b2ad543c77b3fdba89becda1a</td>\n      <td>zzzeoi</td>\n    </tr>\n    <tr>\n      <th>16081</th>\n      <td>trippinthroughtime</td>\n      <td>arCpzQ0.jpg</td>\n      <td>He didn't shed light on the topic I guess.</td>\n      <td>a man in a red dress and a woman in a red dress</td>\n      <td>D:\\data\\images\\trippinthroughtime\\thumbnail\\ar...</td>\n      <td>\"man|NN\",\"in|IN\",\"red|JJ\",\"dress|NN\",\"and|CC\",...</td>\n      <td>True</td>\n      <td>D:\\data\\images\\trippinthroughtime\\arCpzQ0.jpg</td>\n      <td>True</td>\n      <td>5007b937974ae333022c0c91b795ca09</td>\n      <td>zzzlbf</td>\n    </tr>\n    <tr>\n      <th>16084</th>\n      <td>HotGirlNextDoor</td>\n      <td>p6yewrl7eb9a1.jpg</td>\n      <td>(IKTR)</td>\n      <td>blonde woman in black bikini top and black bik...</td>\n      <td>D:\\data\\images\\HotGirlNextDoor\\thumbnail\\p6yew...</td>\n      <td>\"blonde|NN\",\"woman|NN\",\"in|IN\",\"black|JJ\",\"bik...</td>\n      <td>True</td>\n      <td>D:\\data\\images\\HotGirlNextDoor\\p6yewrl7eb9a1.jpg</td>\n      <td>True</td>\n      <td>94dea288ddffb51eb1a786d469b59374</td>\n      <td>zzzu28</td>\n    </tr>\n  </tbody>\n</table>\n<p>11514 rows × 11 columns</p>\n</div>"
     },
     "metadata": {},
     "output_type": "display_data"
    }
   ],
   "source": [
    "display(\"Data With Known Images\")\n",
    "display(filtered_on_exist)"
   ],
   "metadata": {
    "collapsed": false
   }
  },
  {
   "cell_type": "code",
   "execution_count": 12,
   "outputs": [],
   "source": [
    "from shared_code.utility.scripts import blip_caption\n",
    "blip_caption = blip_caption.BlipCaption(1)"
   ],
   "metadata": {
    "collapsed": false
   }
  },
  {
   "cell_type": "code",
   "execution_count": 13,
   "outputs": [],
   "source": [
    "def caption_image(image_path) -> str:\n",
    "\ttry:\n",
    "\t\tcaption = blip_caption.caption_image(image_path)\n",
    "\t\treturn caption\n",
    "\texcept Exception as e:\n",
    "\t\tprint(f\":: Error in caption_image: {e}\")\n",
    "\t\treturn \"bruh\""
   ],
   "metadata": {
    "collapsed": false
   }
  },
  {
   "cell_type": "code",
   "execution_count": 14,
   "outputs": [],
   "source": [
    "def wrapper_for_captions(row: object) -> str:\n",
    "\tbruh = \"bruh\"\n",
    "\ttry:\n",
    "\t\tcaption = row[\"original_caption\"]\n",
    "\t\timage_path = row[\"original_image\"]\n",
    "\t\tfoo = row.__dict__['_name']  # Fucking silly\n",
    "\t\tprogress.update()\n",
    "\n",
    "\t\tif caption and len(caption) > 5:\n",
    "\t\t\treturn caption\n",
    "\t\telse:\n",
    "\t\t\treturn blip_caption.caption_image(image_path)\n",
    "\texcept Exception as e:\n",
    "\t\tprint(e)\n",
    "\t\treturn bruh"
   ],
   "metadata": {
    "collapsed": false
   }
  },
  {
   "cell_type": "code",
   "execution_count": 15,
   "outputs": [],
   "source": [
    "def create_tokens(row: object):\n",
    "\tbruh = \"bruh\"\n",
    "\ttry:\n",
    "\t\tcaption = row[\"original_caption\"]\n",
    "\t\tprogress.update()\n",
    "\t\ttokens = blip_caption.get_nlk_tokens(caption)\n",
    "\t\treturn tokens\n",
    "\texcept Exception as e:\n",
    "\t\tprint(e)\n",
    "\t\treturn bruh"
   ],
   "metadata": {
    "collapsed": false
   }
  },
  {
   "cell_type": "code",
   "execution_count": 16,
   "outputs": [
    {
     "data": {
      "text/plain": "                subreddit          file_name  \\\n0                CityPorn  4emw5uldib9a1.jpg   \n3                AmIhotAF  4xyb1vgbjb9a1.jpg   \n4               greentext  3mewbe0wjb9a1.jpg   \n5               spaceporn  7s5aafaqkb9a1.jpg   \n7               spaceporn  abojw7lqlb9a1.jpg   \n...                   ...                ...   \n16077           spaceporn  abwhhq0w8b9a1.jpg   \n16078           spaceporn  7hzipg1bab9a1.jpg   \n16079           greentext        bgho6WK.jpg   \n16081  trippinthroughtime        arCpzQ0.jpg   \n16084     HotGirlNextDoor  p6yewrl7eb9a1.jpg   \n\n                                                    text  \\\n0                                    New York in the fog   \n3                         Just looking for entertainment   \n4                                    Anon wants Elon cut   \n5                          Northern Lights above Lofoten   \n7                                          Viking Lights   \n...                                                  ...   \n16077           Polaris to Cassiopeia on a cloudy night.   \n16078  The hunt for habitable ocean worlds beyond our...   \n16079                        Anon does a little trolling   \n16081         He didn't shed light on the topic I guess.   \n16084                                             (IKTR)   \n\n                                        original_caption  \\\n0      cars are parked on the side of the road in the...   \n3      blonde woman with blonde hair and tattoos on h...   \n4      a man with a beard and a beard sitting in fron...   \n5      a view of a view of a large green and purple a...   \n7      a scene of a boat is sitting on the shore of a...   \n...                                                  ...   \n16077     starrdust sky with a few stars and a few stars   \n16078  a picture taken from the earth's surface of th...   \n16079  a screenshote of a text message from a man who...   \n16081    a man in a red dress and a woman in a red dress   \n16084  blonde woman in black bikini top and black bik...   \n\n                                          thumbnail_path  \\\n0      D:\\data\\images\\CityPorn\\thumbnail\\4emw5uldib9a...   \n3      D:\\data\\images\\AmIhotAF\\thumbnail\\4xyb1vgbjb9a...   \n4      D:\\data\\images\\greentext\\thumbnail\\3mewbe0wjb9...   \n5      D:\\data\\images\\spaceporn\\thumbnail\\7s5aafaqkb9...   \n7      D:\\data\\images\\spaceporn\\thumbnail\\abojw7lqlb9...   \n...                                                  ...   \n16077  D:\\data\\images\\spaceporn\\thumbnail\\abwhhq0w8b9...   \n16078  D:\\data\\images\\spaceporn\\thumbnail\\7hzipg1bab9...   \n16079     D:\\data\\images\\greentext\\thumbnail\\bgho6WK.jpg   \n16081  D:\\data\\images\\trippinthroughtime\\thumbnail\\ar...   \n16084  D:\\data\\images\\HotGirlNextDoor\\thumbnail\\p6yew...   \n\n                                       thumbnail_caption  thumbnail_exists  \\\n0      \"cars|NNS\",\"are|VBP\",\"parked|VBN\",\"on|IN\",\"the...              True   \n3      \"blonde|NNS\",\"woman|NN\",\"with|IN\",\"hair|NN\",\"a...              True   \n4      \"man|NN\",\"with|IN\",\"beard|NN\",\"and|CC\",\"sittin...              True   \n5      \"view|NN\",\"of|IN\",\"large|JJ\",\"green|JJ\",\"and|C...              True   \n7      \"scene|NN\",\"of|IN\",\"boat|NN\",\"is|VBZ\",\"sitting...              True   \n...                                                  ...               ...   \n16077  \"starrdust|NN\",\"sky|NN\",\"with|IN\",\"few|JJ\",\"st...              True   \n16078  \"picture|NN\",\"taken|VBN\",\"from|IN\",\"the|DT\",\"e...              True   \n16079  \"screenshote|NN\",\"of|IN\",\"text|JJ\",\"message|NN...              True   \n16081  \"man|NN\",\"in|IN\",\"red|JJ\",\"dress|NN\",\"and|CC\",...              True   \n16084  \"blonde|NN\",\"woman|NN\",\"in|IN\",\"black|JJ\",\"bik...              True   \n\n                                         original_image  \\\n0             D:\\data\\images\\CityPorn\\4emw5uldib9a1.jpg   \n3             D:\\data\\images\\AmIhotAF\\4xyb1vgbjb9a1.jpg   \n4            D:\\data\\images\\greentext\\3mewbe0wjb9a1.jpg   \n5            D:\\data\\images\\spaceporn\\7s5aafaqkb9a1.jpg   \n7            D:\\data\\images\\spaceporn\\abojw7lqlb9a1.jpg   \n...                                                 ...   \n16077        D:\\data\\images\\spaceporn\\abwhhq0w8b9a1.jpg   \n16078        D:\\data\\images\\spaceporn\\7hzipg1bab9a1.jpg   \n16079              D:\\data\\images\\greentext\\bgho6WK.jpg   \n16081     D:\\data\\images\\trippinthroughtime\\arCpzQ0.jpg   \n16084  D:\\data\\images\\HotGirlNextDoor\\p6yewrl7eb9a1.jpg   \n\n       original_image_exists                              hash       id  \n0                       True  7a8d96e378c15c8ab8440ac311f12c11  1000cej  \n3                       True  e554c1ed7ffa2740436ac082068b2824  1000glf  \n4                       True  1dec3dabb5e46cde01855d06089c287a  1000j1n  \n5                       True  2c39ce1290fba541abd0b004b09da6b2  1000mjs  \n7                       True  0f72de47c69ff50eca5fa3990215f4ac  1000qpd  \n...                      ...                               ...      ...  \n16077                   True  f5973637fc56360c15818ba0ca1f7ffa   zzz6dp  \n16078                   True  5b22bea7582229c1f9b992176a2ca2c6   zzzcn5  \n16079                   True  df666b8b2ad543c77b3fdba89becda1a   zzzeoi  \n16081                   True  5007b937974ae333022c0c91b795ca09   zzzlbf  \n16084                   True  94dea288ddffb51eb1a786d469b59374   zzzu28  \n\n[11514 rows x 11 columns]",
      "text/html": "<div>\n<style scoped>\n    .dataframe tbody tr th:only-of-type {\n        vertical-align: middle;\n    }\n\n    .dataframe tbody tr th {\n        vertical-align: top;\n    }\n\n    .dataframe thead th {\n        text-align: right;\n    }\n</style>\n<table border=\"1\" class=\"dataframe\">\n  <thead>\n    <tr style=\"text-align: right;\">\n      <th></th>\n      <th>subreddit</th>\n      <th>file_name</th>\n      <th>text</th>\n      <th>original_caption</th>\n      <th>thumbnail_path</th>\n      <th>thumbnail_caption</th>\n      <th>thumbnail_exists</th>\n      <th>original_image</th>\n      <th>original_image_exists</th>\n      <th>hash</th>\n      <th>id</th>\n    </tr>\n  </thead>\n  <tbody>\n    <tr>\n      <th>0</th>\n      <td>CityPorn</td>\n      <td>4emw5uldib9a1.jpg</td>\n      <td>New York in the fog</td>\n      <td>cars are parked on the side of the road in the...</td>\n      <td>D:\\data\\images\\CityPorn\\thumbnail\\4emw5uldib9a...</td>\n      <td>\"cars|NNS\",\"are|VBP\",\"parked|VBN\",\"on|IN\",\"the...</td>\n      <td>True</td>\n      <td>D:\\data\\images\\CityPorn\\4emw5uldib9a1.jpg</td>\n      <td>True</td>\n      <td>7a8d96e378c15c8ab8440ac311f12c11</td>\n      <td>1000cej</td>\n    </tr>\n    <tr>\n      <th>3</th>\n      <td>AmIhotAF</td>\n      <td>4xyb1vgbjb9a1.jpg</td>\n      <td>Just looking for entertainment</td>\n      <td>blonde woman with blonde hair and tattoos on h...</td>\n      <td>D:\\data\\images\\AmIhotAF\\thumbnail\\4xyb1vgbjb9a...</td>\n      <td>\"blonde|NNS\",\"woman|NN\",\"with|IN\",\"hair|NN\",\"a...</td>\n      <td>True</td>\n      <td>D:\\data\\images\\AmIhotAF\\4xyb1vgbjb9a1.jpg</td>\n      <td>True</td>\n      <td>e554c1ed7ffa2740436ac082068b2824</td>\n      <td>1000glf</td>\n    </tr>\n    <tr>\n      <th>4</th>\n      <td>greentext</td>\n      <td>3mewbe0wjb9a1.jpg</td>\n      <td>Anon wants Elon cut</td>\n      <td>a man with a beard and a beard sitting in fron...</td>\n      <td>D:\\data\\images\\greentext\\thumbnail\\3mewbe0wjb9...</td>\n      <td>\"man|NN\",\"with|IN\",\"beard|NN\",\"and|CC\",\"sittin...</td>\n      <td>True</td>\n      <td>D:\\data\\images\\greentext\\3mewbe0wjb9a1.jpg</td>\n      <td>True</td>\n      <td>1dec3dabb5e46cde01855d06089c287a</td>\n      <td>1000j1n</td>\n    </tr>\n    <tr>\n      <th>5</th>\n      <td>spaceporn</td>\n      <td>7s5aafaqkb9a1.jpg</td>\n      <td>Northern Lights above Lofoten</td>\n      <td>a view of a view of a large green and purple a...</td>\n      <td>D:\\data\\images\\spaceporn\\thumbnail\\7s5aafaqkb9...</td>\n      <td>\"view|NN\",\"of|IN\",\"large|JJ\",\"green|JJ\",\"and|C...</td>\n      <td>True</td>\n      <td>D:\\data\\images\\spaceporn\\7s5aafaqkb9a1.jpg</td>\n      <td>True</td>\n      <td>2c39ce1290fba541abd0b004b09da6b2</td>\n      <td>1000mjs</td>\n    </tr>\n    <tr>\n      <th>7</th>\n      <td>spaceporn</td>\n      <td>abojw7lqlb9a1.jpg</td>\n      <td>Viking Lights</td>\n      <td>a scene of a boat is sitting on the shore of a...</td>\n      <td>D:\\data\\images\\spaceporn\\thumbnail\\abojw7lqlb9...</td>\n      <td>\"scene|NN\",\"of|IN\",\"boat|NN\",\"is|VBZ\",\"sitting...</td>\n      <td>True</td>\n      <td>D:\\data\\images\\spaceporn\\abojw7lqlb9a1.jpg</td>\n      <td>True</td>\n      <td>0f72de47c69ff50eca5fa3990215f4ac</td>\n      <td>1000qpd</td>\n    </tr>\n    <tr>\n      <th>...</th>\n      <td>...</td>\n      <td>...</td>\n      <td>...</td>\n      <td>...</td>\n      <td>...</td>\n      <td>...</td>\n      <td>...</td>\n      <td>...</td>\n      <td>...</td>\n      <td>...</td>\n      <td>...</td>\n    </tr>\n    <tr>\n      <th>16077</th>\n      <td>spaceporn</td>\n      <td>abwhhq0w8b9a1.jpg</td>\n      <td>Polaris to Cassiopeia on a cloudy night.</td>\n      <td>starrdust sky with a few stars and a few stars</td>\n      <td>D:\\data\\images\\spaceporn\\thumbnail\\abwhhq0w8b9...</td>\n      <td>\"starrdust|NN\",\"sky|NN\",\"with|IN\",\"few|JJ\",\"st...</td>\n      <td>True</td>\n      <td>D:\\data\\images\\spaceporn\\abwhhq0w8b9a1.jpg</td>\n      <td>True</td>\n      <td>f5973637fc56360c15818ba0ca1f7ffa</td>\n      <td>zzz6dp</td>\n    </tr>\n    <tr>\n      <th>16078</th>\n      <td>spaceporn</td>\n      <td>7hzipg1bab9a1.jpg</td>\n      <td>The hunt for habitable ocean worlds beyond our...</td>\n      <td>a picture taken from the earth's surface of th...</td>\n      <td>D:\\data\\images\\spaceporn\\thumbnail\\7hzipg1bab9...</td>\n      <td>\"picture|NN\",\"taken|VBN\",\"from|IN\",\"the|DT\",\"e...</td>\n      <td>True</td>\n      <td>D:\\data\\images\\spaceporn\\7hzipg1bab9a1.jpg</td>\n      <td>True</td>\n      <td>5b22bea7582229c1f9b992176a2ca2c6</td>\n      <td>zzzcn5</td>\n    </tr>\n    <tr>\n      <th>16079</th>\n      <td>greentext</td>\n      <td>bgho6WK.jpg</td>\n      <td>Anon does a little trolling</td>\n      <td>a screenshote of a text message from a man who...</td>\n      <td>D:\\data\\images\\greentext\\thumbnail\\bgho6WK.jpg</td>\n      <td>\"screenshote|NN\",\"of|IN\",\"text|JJ\",\"message|NN...</td>\n      <td>True</td>\n      <td>D:\\data\\images\\greentext\\bgho6WK.jpg</td>\n      <td>True</td>\n      <td>df666b8b2ad543c77b3fdba89becda1a</td>\n      <td>zzzeoi</td>\n    </tr>\n    <tr>\n      <th>16081</th>\n      <td>trippinthroughtime</td>\n      <td>arCpzQ0.jpg</td>\n      <td>He didn't shed light on the topic I guess.</td>\n      <td>a man in a red dress and a woman in a red dress</td>\n      <td>D:\\data\\images\\trippinthroughtime\\thumbnail\\ar...</td>\n      <td>\"man|NN\",\"in|IN\",\"red|JJ\",\"dress|NN\",\"and|CC\",...</td>\n      <td>True</td>\n      <td>D:\\data\\images\\trippinthroughtime\\arCpzQ0.jpg</td>\n      <td>True</td>\n      <td>5007b937974ae333022c0c91b795ca09</td>\n      <td>zzzlbf</td>\n    </tr>\n    <tr>\n      <th>16084</th>\n      <td>HotGirlNextDoor</td>\n      <td>p6yewrl7eb9a1.jpg</td>\n      <td>(IKTR)</td>\n      <td>blonde woman in black bikini top and black bik...</td>\n      <td>D:\\data\\images\\HotGirlNextDoor\\thumbnail\\p6yew...</td>\n      <td>\"blonde|NN\",\"woman|NN\",\"in|IN\",\"black|JJ\",\"bik...</td>\n      <td>True</td>\n      <td>D:\\data\\images\\HotGirlNextDoor\\p6yewrl7eb9a1.jpg</td>\n      <td>True</td>\n      <td>94dea288ddffb51eb1a786d469b59374</td>\n      <td>zzzu28</td>\n    </tr>\n  </tbody>\n</table>\n<p>11514 rows × 11 columns</p>\n</div>"
     },
     "metadata": {},
     "output_type": "display_data"
    }
   ],
   "source": [
    "temp = filtered_on_exist.copy()\n",
    "ddf = dd.from_pandas(temp, npartitions=12)\n",
    "display(temp)"
   ],
   "metadata": {
    "collapsed": false
   }
  },
  {
   "cell_type": "code",
   "execution_count": 17,
   "outputs": [
    {
     "name": "stderr",
     "output_type": "stream",
     "text": [
      "Captioning-Primary-Images: 0it [00:00, ?it/s]"
     ]
    },
    {
     "data": {
      "text/plain": "'Total Images: 11514'"
     },
     "metadata": {},
     "output_type": "display_data"
    },
    {
     "data": {
      "text/plain": "global:   0%|          | 0/12 [00:00<?, ?it/s]",
      "application/vnd.jupyter.widget-view+json": {
       "version_major": 2,
       "version_minor": 0,
       "model_id": "e3a5fa9eee9a4769a6acac6ae9790f2a"
      }
     },
     "metadata": {},
     "output_type": "display_data"
    },
    {
     "name": "stderr",
     "output_type": "stream",
     "text": [
      "Captioning-Primary-Images:  92%|█████████▏| 10556/11514 [00:01<00:00, 19675.51it/s]"
     ]
    }
   ],
   "source": [
    "progress: tqdm = InnerProgressBar(len(temp), \"Captioning-Primary-Images\")\n",
    "display(f\"Total Images: {progress.total}\")\n",
    "temp['new_column'] = ddf.apply(lambda x: wrapper_for_captions(x), axis=1, meta=('str', object)).compute()"
   ],
   "metadata": {
    "collapsed": false
   }
  },
  {
   "cell_type": "code",
   "execution_count": 18,
   "outputs": [
    {
     "data": {
      "text/plain": "'=== Before Drop ==='"
     },
     "metadata": {},
     "output_type": "display_data"
    },
    {
     "data": {
      "text/plain": "                subreddit          file_name  \\\n0                CityPorn  4emw5uldib9a1.jpg   \n3                AmIhotAF  4xyb1vgbjb9a1.jpg   \n4               greentext  3mewbe0wjb9a1.jpg   \n5               spaceporn  7s5aafaqkb9a1.jpg   \n7               spaceporn  abojw7lqlb9a1.jpg   \n...                   ...                ...   \n16077           spaceporn  abwhhq0w8b9a1.jpg   \n16078           spaceporn  7hzipg1bab9a1.jpg   \n16079           greentext        bgho6WK.jpg   \n16081  trippinthroughtime        arCpzQ0.jpg   \n16084     HotGirlNextDoor  p6yewrl7eb9a1.jpg   \n\n                                                    text  \\\n0                                    New York in the fog   \n3                         Just looking for entertainment   \n4                                    Anon wants Elon cut   \n5                          Northern Lights above Lofoten   \n7                                          Viking Lights   \n...                                                  ...   \n16077           Polaris to Cassiopeia on a cloudy night.   \n16078  The hunt for habitable ocean worlds beyond our...   \n16079                        Anon does a little trolling   \n16081         He didn't shed light on the topic I guess.   \n16084                                             (IKTR)   \n\n                                        original_caption  \\\n0      cars are parked on the side of the road in the...   \n3      blonde woman with blonde hair and tattoos on h...   \n4      a man with a beard and a beard sitting in fron...   \n5      a view of a view of a large green and purple a...   \n7      a scene of a boat is sitting on the shore of a...   \n...                                                  ...   \n16077     starrdust sky with a few stars and a few stars   \n16078  a picture taken from the earth's surface of th...   \n16079  a screenshote of a text message from a man who...   \n16081    a man in a red dress and a woman in a red dress   \n16084  blonde woman in black bikini top and black bik...   \n\n                                          thumbnail_path  \\\n0      D:\\data\\images\\CityPorn\\thumbnail\\4emw5uldib9a...   \n3      D:\\data\\images\\AmIhotAF\\thumbnail\\4xyb1vgbjb9a...   \n4      D:\\data\\images\\greentext\\thumbnail\\3mewbe0wjb9...   \n5      D:\\data\\images\\spaceporn\\thumbnail\\7s5aafaqkb9...   \n7      D:\\data\\images\\spaceporn\\thumbnail\\abojw7lqlb9...   \n...                                                  ...   \n16077  D:\\data\\images\\spaceporn\\thumbnail\\abwhhq0w8b9...   \n16078  D:\\data\\images\\spaceporn\\thumbnail\\7hzipg1bab9...   \n16079     D:\\data\\images\\greentext\\thumbnail\\bgho6WK.jpg   \n16081  D:\\data\\images\\trippinthroughtime\\thumbnail\\ar...   \n16084  D:\\data\\images\\HotGirlNextDoor\\thumbnail\\p6yew...   \n\n                                       thumbnail_caption  thumbnail_exists  \\\n0      \"cars|NNS\",\"are|VBP\",\"parked|VBN\",\"on|IN\",\"the...              True   \n3      \"blonde|NNS\",\"woman|NN\",\"with|IN\",\"hair|NN\",\"a...              True   \n4      \"man|NN\",\"with|IN\",\"beard|NN\",\"and|CC\",\"sittin...              True   \n5      \"view|NN\",\"of|IN\",\"large|JJ\",\"green|JJ\",\"and|C...              True   \n7      \"scene|NN\",\"of|IN\",\"boat|NN\",\"is|VBZ\",\"sitting...              True   \n...                                                  ...               ...   \n16077  \"starrdust|NN\",\"sky|NN\",\"with|IN\",\"few|JJ\",\"st...              True   \n16078  \"picture|NN\",\"taken|VBN\",\"from|IN\",\"the|DT\",\"e...              True   \n16079  \"screenshote|NN\",\"of|IN\",\"text|JJ\",\"message|NN...              True   \n16081  \"man|NN\",\"in|IN\",\"red|JJ\",\"dress|NN\",\"and|CC\",...              True   \n16084  \"blonde|NN\",\"woman|NN\",\"in|IN\",\"black|JJ\",\"bik...              True   \n\n                                         original_image  \\\n0             D:\\data\\images\\CityPorn\\4emw5uldib9a1.jpg   \n3             D:\\data\\images\\AmIhotAF\\4xyb1vgbjb9a1.jpg   \n4            D:\\data\\images\\greentext\\3mewbe0wjb9a1.jpg   \n5            D:\\data\\images\\spaceporn\\7s5aafaqkb9a1.jpg   \n7            D:\\data\\images\\spaceporn\\abojw7lqlb9a1.jpg   \n...                                                 ...   \n16077        D:\\data\\images\\spaceporn\\abwhhq0w8b9a1.jpg   \n16078        D:\\data\\images\\spaceporn\\7hzipg1bab9a1.jpg   \n16079              D:\\data\\images\\greentext\\bgho6WK.jpg   \n16081     D:\\data\\images\\trippinthroughtime\\arCpzQ0.jpg   \n16084  D:\\data\\images\\HotGirlNextDoor\\p6yewrl7eb9a1.jpg   \n\n       original_image_exists                              hash       id  \\\n0                       True  7a8d96e378c15c8ab8440ac311f12c11  1000cej   \n3                       True  e554c1ed7ffa2740436ac082068b2824  1000glf   \n4                       True  1dec3dabb5e46cde01855d06089c287a  1000j1n   \n5                       True  2c39ce1290fba541abd0b004b09da6b2  1000mjs   \n7                       True  0f72de47c69ff50eca5fa3990215f4ac  1000qpd   \n...                      ...                               ...      ...   \n16077                   True  f5973637fc56360c15818ba0ca1f7ffa   zzz6dp   \n16078                   True  5b22bea7582229c1f9b992176a2ca2c6   zzzcn5   \n16079                   True  df666b8b2ad543c77b3fdba89becda1a   zzzeoi   \n16081                   True  5007b937974ae333022c0c91b795ca09   zzzlbf   \n16084                   True  94dea288ddffb51eb1a786d469b59374   zzzu28   \n\n                                              new_column  \n0      cars are parked on the side of the road in the...  \n3      blonde woman with blonde hair and tattoos on h...  \n4      a man with a beard and a beard sitting in fron...  \n5      a view of a view of a large green and purple a...  \n7      a scene of a boat is sitting on the shore of a...  \n...                                                  ...  \n16077     starrdust sky with a few stars and a few stars  \n16078  a picture taken from the earth's surface of th...  \n16079  a screenshote of a text message from a man who...  \n16081    a man in a red dress and a woman in a red dress  \n16084  blonde woman in black bikini top and black bik...  \n\n[11514 rows x 12 columns]",
      "text/html": "<div>\n<style scoped>\n    .dataframe tbody tr th:only-of-type {\n        vertical-align: middle;\n    }\n\n    .dataframe tbody tr th {\n        vertical-align: top;\n    }\n\n    .dataframe thead th {\n        text-align: right;\n    }\n</style>\n<table border=\"1\" class=\"dataframe\">\n  <thead>\n    <tr style=\"text-align: right;\">\n      <th></th>\n      <th>subreddit</th>\n      <th>file_name</th>\n      <th>text</th>\n      <th>original_caption</th>\n      <th>thumbnail_path</th>\n      <th>thumbnail_caption</th>\n      <th>thumbnail_exists</th>\n      <th>original_image</th>\n      <th>original_image_exists</th>\n      <th>hash</th>\n      <th>id</th>\n      <th>new_column</th>\n    </tr>\n  </thead>\n  <tbody>\n    <tr>\n      <th>0</th>\n      <td>CityPorn</td>\n      <td>4emw5uldib9a1.jpg</td>\n      <td>New York in the fog</td>\n      <td>cars are parked on the side of the road in the...</td>\n      <td>D:\\data\\images\\CityPorn\\thumbnail\\4emw5uldib9a...</td>\n      <td>\"cars|NNS\",\"are|VBP\",\"parked|VBN\",\"on|IN\",\"the...</td>\n      <td>True</td>\n      <td>D:\\data\\images\\CityPorn\\4emw5uldib9a1.jpg</td>\n      <td>True</td>\n      <td>7a8d96e378c15c8ab8440ac311f12c11</td>\n      <td>1000cej</td>\n      <td>cars are parked on the side of the road in the...</td>\n    </tr>\n    <tr>\n      <th>3</th>\n      <td>AmIhotAF</td>\n      <td>4xyb1vgbjb9a1.jpg</td>\n      <td>Just looking for entertainment</td>\n      <td>blonde woman with blonde hair and tattoos on h...</td>\n      <td>D:\\data\\images\\AmIhotAF\\thumbnail\\4xyb1vgbjb9a...</td>\n      <td>\"blonde|NNS\",\"woman|NN\",\"with|IN\",\"hair|NN\",\"a...</td>\n      <td>True</td>\n      <td>D:\\data\\images\\AmIhotAF\\4xyb1vgbjb9a1.jpg</td>\n      <td>True</td>\n      <td>e554c1ed7ffa2740436ac082068b2824</td>\n      <td>1000glf</td>\n      <td>blonde woman with blonde hair and tattoos on h...</td>\n    </tr>\n    <tr>\n      <th>4</th>\n      <td>greentext</td>\n      <td>3mewbe0wjb9a1.jpg</td>\n      <td>Anon wants Elon cut</td>\n      <td>a man with a beard and a beard sitting in fron...</td>\n      <td>D:\\data\\images\\greentext\\thumbnail\\3mewbe0wjb9...</td>\n      <td>\"man|NN\",\"with|IN\",\"beard|NN\",\"and|CC\",\"sittin...</td>\n      <td>True</td>\n      <td>D:\\data\\images\\greentext\\3mewbe0wjb9a1.jpg</td>\n      <td>True</td>\n      <td>1dec3dabb5e46cde01855d06089c287a</td>\n      <td>1000j1n</td>\n      <td>a man with a beard and a beard sitting in fron...</td>\n    </tr>\n    <tr>\n      <th>5</th>\n      <td>spaceporn</td>\n      <td>7s5aafaqkb9a1.jpg</td>\n      <td>Northern Lights above Lofoten</td>\n      <td>a view of a view of a large green and purple a...</td>\n      <td>D:\\data\\images\\spaceporn\\thumbnail\\7s5aafaqkb9...</td>\n      <td>\"view|NN\",\"of|IN\",\"large|JJ\",\"green|JJ\",\"and|C...</td>\n      <td>True</td>\n      <td>D:\\data\\images\\spaceporn\\7s5aafaqkb9a1.jpg</td>\n      <td>True</td>\n      <td>2c39ce1290fba541abd0b004b09da6b2</td>\n      <td>1000mjs</td>\n      <td>a view of a view of a large green and purple a...</td>\n    </tr>\n    <tr>\n      <th>7</th>\n      <td>spaceporn</td>\n      <td>abojw7lqlb9a1.jpg</td>\n      <td>Viking Lights</td>\n      <td>a scene of a boat is sitting on the shore of a...</td>\n      <td>D:\\data\\images\\spaceporn\\thumbnail\\abojw7lqlb9...</td>\n      <td>\"scene|NN\",\"of|IN\",\"boat|NN\",\"is|VBZ\",\"sitting...</td>\n      <td>True</td>\n      <td>D:\\data\\images\\spaceporn\\abojw7lqlb9a1.jpg</td>\n      <td>True</td>\n      <td>0f72de47c69ff50eca5fa3990215f4ac</td>\n      <td>1000qpd</td>\n      <td>a scene of a boat is sitting on the shore of a...</td>\n    </tr>\n    <tr>\n      <th>...</th>\n      <td>...</td>\n      <td>...</td>\n      <td>...</td>\n      <td>...</td>\n      <td>...</td>\n      <td>...</td>\n      <td>...</td>\n      <td>...</td>\n      <td>...</td>\n      <td>...</td>\n      <td>...</td>\n      <td>...</td>\n    </tr>\n    <tr>\n      <th>16077</th>\n      <td>spaceporn</td>\n      <td>abwhhq0w8b9a1.jpg</td>\n      <td>Polaris to Cassiopeia on a cloudy night.</td>\n      <td>starrdust sky with a few stars and a few stars</td>\n      <td>D:\\data\\images\\spaceporn\\thumbnail\\abwhhq0w8b9...</td>\n      <td>\"starrdust|NN\",\"sky|NN\",\"with|IN\",\"few|JJ\",\"st...</td>\n      <td>True</td>\n      <td>D:\\data\\images\\spaceporn\\abwhhq0w8b9a1.jpg</td>\n      <td>True</td>\n      <td>f5973637fc56360c15818ba0ca1f7ffa</td>\n      <td>zzz6dp</td>\n      <td>starrdust sky with a few stars and a few stars</td>\n    </tr>\n    <tr>\n      <th>16078</th>\n      <td>spaceporn</td>\n      <td>7hzipg1bab9a1.jpg</td>\n      <td>The hunt for habitable ocean worlds beyond our...</td>\n      <td>a picture taken from the earth's surface of th...</td>\n      <td>D:\\data\\images\\spaceporn\\thumbnail\\7hzipg1bab9...</td>\n      <td>\"picture|NN\",\"taken|VBN\",\"from|IN\",\"the|DT\",\"e...</td>\n      <td>True</td>\n      <td>D:\\data\\images\\spaceporn\\7hzipg1bab9a1.jpg</td>\n      <td>True</td>\n      <td>5b22bea7582229c1f9b992176a2ca2c6</td>\n      <td>zzzcn5</td>\n      <td>a picture taken from the earth's surface of th...</td>\n    </tr>\n    <tr>\n      <th>16079</th>\n      <td>greentext</td>\n      <td>bgho6WK.jpg</td>\n      <td>Anon does a little trolling</td>\n      <td>a screenshote of a text message from a man who...</td>\n      <td>D:\\data\\images\\greentext\\thumbnail\\bgho6WK.jpg</td>\n      <td>\"screenshote|NN\",\"of|IN\",\"text|JJ\",\"message|NN...</td>\n      <td>True</td>\n      <td>D:\\data\\images\\greentext\\bgho6WK.jpg</td>\n      <td>True</td>\n      <td>df666b8b2ad543c77b3fdba89becda1a</td>\n      <td>zzzeoi</td>\n      <td>a screenshote of a text message from a man who...</td>\n    </tr>\n    <tr>\n      <th>16081</th>\n      <td>trippinthroughtime</td>\n      <td>arCpzQ0.jpg</td>\n      <td>He didn't shed light on the topic I guess.</td>\n      <td>a man in a red dress and a woman in a red dress</td>\n      <td>D:\\data\\images\\trippinthroughtime\\thumbnail\\ar...</td>\n      <td>\"man|NN\",\"in|IN\",\"red|JJ\",\"dress|NN\",\"and|CC\",...</td>\n      <td>True</td>\n      <td>D:\\data\\images\\trippinthroughtime\\arCpzQ0.jpg</td>\n      <td>True</td>\n      <td>5007b937974ae333022c0c91b795ca09</td>\n      <td>zzzlbf</td>\n      <td>a man in a red dress and a woman in a red dress</td>\n    </tr>\n    <tr>\n      <th>16084</th>\n      <td>HotGirlNextDoor</td>\n      <td>p6yewrl7eb9a1.jpg</td>\n      <td>(IKTR)</td>\n      <td>blonde woman in black bikini top and black bik...</td>\n      <td>D:\\data\\images\\HotGirlNextDoor\\thumbnail\\p6yew...</td>\n      <td>\"blonde|NN\",\"woman|NN\",\"in|IN\",\"black|JJ\",\"bik...</td>\n      <td>True</td>\n      <td>D:\\data\\images\\HotGirlNextDoor\\p6yewrl7eb9a1.jpg</td>\n      <td>True</td>\n      <td>94dea288ddffb51eb1a786d469b59374</td>\n      <td>zzzu28</td>\n      <td>blonde woman in black bikini top and black bik...</td>\n    </tr>\n  </tbody>\n</table>\n<p>11514 rows × 12 columns</p>\n</div>"
     },
     "metadata": {},
     "output_type": "display_data"
    },
    {
     "data": {
      "text/plain": "'=== After Drop ==='"
     },
     "metadata": {},
     "output_type": "display_data"
    },
    {
     "data": {
      "text/plain": "                subreddit          file_name  \\\n0                CityPorn  4emw5uldib9a1.jpg   \n3                AmIhotAF  4xyb1vgbjb9a1.jpg   \n4               greentext  3mewbe0wjb9a1.jpg   \n5               spaceporn  7s5aafaqkb9a1.jpg   \n7               spaceporn  abojw7lqlb9a1.jpg   \n...                   ...                ...   \n16077           spaceporn  abwhhq0w8b9a1.jpg   \n16078           spaceporn  7hzipg1bab9a1.jpg   \n16079           greentext        bgho6WK.jpg   \n16081  trippinthroughtime        arCpzQ0.jpg   \n16084     HotGirlNextDoor  p6yewrl7eb9a1.jpg   \n\n                                                    text  \\\n0                                    New York in the fog   \n3                         Just looking for entertainment   \n4                                    Anon wants Elon cut   \n5                          Northern Lights above Lofoten   \n7                                          Viking Lights   \n...                                                  ...   \n16077           Polaris to Cassiopeia on a cloudy night.   \n16078  The hunt for habitable ocean worlds beyond our...   \n16079                        Anon does a little trolling   \n16081         He didn't shed light on the topic I guess.   \n16084                                             (IKTR)   \n\n                                          thumbnail_path  \\\n0      D:\\data\\images\\CityPorn\\thumbnail\\4emw5uldib9a...   \n3      D:\\data\\images\\AmIhotAF\\thumbnail\\4xyb1vgbjb9a...   \n4      D:\\data\\images\\greentext\\thumbnail\\3mewbe0wjb9...   \n5      D:\\data\\images\\spaceporn\\thumbnail\\7s5aafaqkb9...   \n7      D:\\data\\images\\spaceporn\\thumbnail\\abojw7lqlb9...   \n...                                                  ...   \n16077  D:\\data\\images\\spaceporn\\thumbnail\\abwhhq0w8b9...   \n16078  D:\\data\\images\\spaceporn\\thumbnail\\7hzipg1bab9...   \n16079     D:\\data\\images\\greentext\\thumbnail\\bgho6WK.jpg   \n16081  D:\\data\\images\\trippinthroughtime\\thumbnail\\ar...   \n16084  D:\\data\\images\\HotGirlNextDoor\\thumbnail\\p6yew...   \n\n                                       thumbnail_caption  thumbnail_exists  \\\n0      \"cars|NNS\",\"are|VBP\",\"parked|VBN\",\"on|IN\",\"the...              True   \n3      \"blonde|NNS\",\"woman|NN\",\"with|IN\",\"hair|NN\",\"a...              True   \n4      \"man|NN\",\"with|IN\",\"beard|NN\",\"and|CC\",\"sittin...              True   \n5      \"view|NN\",\"of|IN\",\"large|JJ\",\"green|JJ\",\"and|C...              True   \n7      \"scene|NN\",\"of|IN\",\"boat|NN\",\"is|VBZ\",\"sitting...              True   \n...                                                  ...               ...   \n16077  \"starrdust|NN\",\"sky|NN\",\"with|IN\",\"few|JJ\",\"st...              True   \n16078  \"picture|NN\",\"taken|VBN\",\"from|IN\",\"the|DT\",\"e...              True   \n16079  \"screenshote|NN\",\"of|IN\",\"text|JJ\",\"message|NN...              True   \n16081  \"man|NN\",\"in|IN\",\"red|JJ\",\"dress|NN\",\"and|CC\",...              True   \n16084  \"blonde|NN\",\"woman|NN\",\"in|IN\",\"black|JJ\",\"bik...              True   \n\n                                         original_image  \\\n0             D:\\data\\images\\CityPorn\\4emw5uldib9a1.jpg   \n3             D:\\data\\images\\AmIhotAF\\4xyb1vgbjb9a1.jpg   \n4            D:\\data\\images\\greentext\\3mewbe0wjb9a1.jpg   \n5            D:\\data\\images\\spaceporn\\7s5aafaqkb9a1.jpg   \n7            D:\\data\\images\\spaceporn\\abojw7lqlb9a1.jpg   \n...                                                 ...   \n16077        D:\\data\\images\\spaceporn\\abwhhq0w8b9a1.jpg   \n16078        D:\\data\\images\\spaceporn\\7hzipg1bab9a1.jpg   \n16079              D:\\data\\images\\greentext\\bgho6WK.jpg   \n16081     D:\\data\\images\\trippinthroughtime\\arCpzQ0.jpg   \n16084  D:\\data\\images\\HotGirlNextDoor\\p6yewrl7eb9a1.jpg   \n\n       original_image_exists                              hash       id  \\\n0                       True  7a8d96e378c15c8ab8440ac311f12c11  1000cej   \n3                       True  e554c1ed7ffa2740436ac082068b2824  1000glf   \n4                       True  1dec3dabb5e46cde01855d06089c287a  1000j1n   \n5                       True  2c39ce1290fba541abd0b004b09da6b2  1000mjs   \n7                       True  0f72de47c69ff50eca5fa3990215f4ac  1000qpd   \n...                      ...                               ...      ...   \n16077                   True  f5973637fc56360c15818ba0ca1f7ffa   zzz6dp   \n16078                   True  5b22bea7582229c1f9b992176a2ca2c6   zzzcn5   \n16079                   True  df666b8b2ad543c77b3fdba89becda1a   zzzeoi   \n16081                   True  5007b937974ae333022c0c91b795ca09   zzzlbf   \n16084                   True  94dea288ddffb51eb1a786d469b59374   zzzu28   \n\n                                        original_caption  \n0      cars are parked on the side of the road in the...  \n3      blonde woman with blonde hair and tattoos on h...  \n4      a man with a beard and a beard sitting in fron...  \n5      a view of a view of a large green and purple a...  \n7      a scene of a boat is sitting on the shore of a...  \n...                                                  ...  \n16077     starrdust sky with a few stars and a few stars  \n16078  a picture taken from the earth's surface of th...  \n16079  a screenshote of a text message from a man who...  \n16081    a man in a red dress and a woman in a red dress  \n16084  blonde woman in black bikini top and black bik...  \n\n[11514 rows x 11 columns]",
      "text/html": "<div>\n<style scoped>\n    .dataframe tbody tr th:only-of-type {\n        vertical-align: middle;\n    }\n\n    .dataframe tbody tr th {\n        vertical-align: top;\n    }\n\n    .dataframe thead th {\n        text-align: right;\n    }\n</style>\n<table border=\"1\" class=\"dataframe\">\n  <thead>\n    <tr style=\"text-align: right;\">\n      <th></th>\n      <th>subreddit</th>\n      <th>file_name</th>\n      <th>text</th>\n      <th>thumbnail_path</th>\n      <th>thumbnail_caption</th>\n      <th>thumbnail_exists</th>\n      <th>original_image</th>\n      <th>original_image_exists</th>\n      <th>hash</th>\n      <th>id</th>\n      <th>original_caption</th>\n    </tr>\n  </thead>\n  <tbody>\n    <tr>\n      <th>0</th>\n      <td>CityPorn</td>\n      <td>4emw5uldib9a1.jpg</td>\n      <td>New York in the fog</td>\n      <td>D:\\data\\images\\CityPorn\\thumbnail\\4emw5uldib9a...</td>\n      <td>\"cars|NNS\",\"are|VBP\",\"parked|VBN\",\"on|IN\",\"the...</td>\n      <td>True</td>\n      <td>D:\\data\\images\\CityPorn\\4emw5uldib9a1.jpg</td>\n      <td>True</td>\n      <td>7a8d96e378c15c8ab8440ac311f12c11</td>\n      <td>1000cej</td>\n      <td>cars are parked on the side of the road in the...</td>\n    </tr>\n    <tr>\n      <th>3</th>\n      <td>AmIhotAF</td>\n      <td>4xyb1vgbjb9a1.jpg</td>\n      <td>Just looking for entertainment</td>\n      <td>D:\\data\\images\\AmIhotAF\\thumbnail\\4xyb1vgbjb9a...</td>\n      <td>\"blonde|NNS\",\"woman|NN\",\"with|IN\",\"hair|NN\",\"a...</td>\n      <td>True</td>\n      <td>D:\\data\\images\\AmIhotAF\\4xyb1vgbjb9a1.jpg</td>\n      <td>True</td>\n      <td>e554c1ed7ffa2740436ac082068b2824</td>\n      <td>1000glf</td>\n      <td>blonde woman with blonde hair and tattoos on h...</td>\n    </tr>\n    <tr>\n      <th>4</th>\n      <td>greentext</td>\n      <td>3mewbe0wjb9a1.jpg</td>\n      <td>Anon wants Elon cut</td>\n      <td>D:\\data\\images\\greentext\\thumbnail\\3mewbe0wjb9...</td>\n      <td>\"man|NN\",\"with|IN\",\"beard|NN\",\"and|CC\",\"sittin...</td>\n      <td>True</td>\n      <td>D:\\data\\images\\greentext\\3mewbe0wjb9a1.jpg</td>\n      <td>True</td>\n      <td>1dec3dabb5e46cde01855d06089c287a</td>\n      <td>1000j1n</td>\n      <td>a man with a beard and a beard sitting in fron...</td>\n    </tr>\n    <tr>\n      <th>5</th>\n      <td>spaceporn</td>\n      <td>7s5aafaqkb9a1.jpg</td>\n      <td>Northern Lights above Lofoten</td>\n      <td>D:\\data\\images\\spaceporn\\thumbnail\\7s5aafaqkb9...</td>\n      <td>\"view|NN\",\"of|IN\",\"large|JJ\",\"green|JJ\",\"and|C...</td>\n      <td>True</td>\n      <td>D:\\data\\images\\spaceporn\\7s5aafaqkb9a1.jpg</td>\n      <td>True</td>\n      <td>2c39ce1290fba541abd0b004b09da6b2</td>\n      <td>1000mjs</td>\n      <td>a view of a view of a large green and purple a...</td>\n    </tr>\n    <tr>\n      <th>7</th>\n      <td>spaceporn</td>\n      <td>abojw7lqlb9a1.jpg</td>\n      <td>Viking Lights</td>\n      <td>D:\\data\\images\\spaceporn\\thumbnail\\abojw7lqlb9...</td>\n      <td>\"scene|NN\",\"of|IN\",\"boat|NN\",\"is|VBZ\",\"sitting...</td>\n      <td>True</td>\n      <td>D:\\data\\images\\spaceporn\\abojw7lqlb9a1.jpg</td>\n      <td>True</td>\n      <td>0f72de47c69ff50eca5fa3990215f4ac</td>\n      <td>1000qpd</td>\n      <td>a scene of a boat is sitting on the shore of a...</td>\n    </tr>\n    <tr>\n      <th>...</th>\n      <td>...</td>\n      <td>...</td>\n      <td>...</td>\n      <td>...</td>\n      <td>...</td>\n      <td>...</td>\n      <td>...</td>\n      <td>...</td>\n      <td>...</td>\n      <td>...</td>\n      <td>...</td>\n    </tr>\n    <tr>\n      <th>16077</th>\n      <td>spaceporn</td>\n      <td>abwhhq0w8b9a1.jpg</td>\n      <td>Polaris to Cassiopeia on a cloudy night.</td>\n      <td>D:\\data\\images\\spaceporn\\thumbnail\\abwhhq0w8b9...</td>\n      <td>\"starrdust|NN\",\"sky|NN\",\"with|IN\",\"few|JJ\",\"st...</td>\n      <td>True</td>\n      <td>D:\\data\\images\\spaceporn\\abwhhq0w8b9a1.jpg</td>\n      <td>True</td>\n      <td>f5973637fc56360c15818ba0ca1f7ffa</td>\n      <td>zzz6dp</td>\n      <td>starrdust sky with a few stars and a few stars</td>\n    </tr>\n    <tr>\n      <th>16078</th>\n      <td>spaceporn</td>\n      <td>7hzipg1bab9a1.jpg</td>\n      <td>The hunt for habitable ocean worlds beyond our...</td>\n      <td>D:\\data\\images\\spaceporn\\thumbnail\\7hzipg1bab9...</td>\n      <td>\"picture|NN\",\"taken|VBN\",\"from|IN\",\"the|DT\",\"e...</td>\n      <td>True</td>\n      <td>D:\\data\\images\\spaceporn\\7hzipg1bab9a1.jpg</td>\n      <td>True</td>\n      <td>5b22bea7582229c1f9b992176a2ca2c6</td>\n      <td>zzzcn5</td>\n      <td>a picture taken from the earth's surface of th...</td>\n    </tr>\n    <tr>\n      <th>16079</th>\n      <td>greentext</td>\n      <td>bgho6WK.jpg</td>\n      <td>Anon does a little trolling</td>\n      <td>D:\\data\\images\\greentext\\thumbnail\\bgho6WK.jpg</td>\n      <td>\"screenshote|NN\",\"of|IN\",\"text|JJ\",\"message|NN...</td>\n      <td>True</td>\n      <td>D:\\data\\images\\greentext\\bgho6WK.jpg</td>\n      <td>True</td>\n      <td>df666b8b2ad543c77b3fdba89becda1a</td>\n      <td>zzzeoi</td>\n      <td>a screenshote of a text message from a man who...</td>\n    </tr>\n    <tr>\n      <th>16081</th>\n      <td>trippinthroughtime</td>\n      <td>arCpzQ0.jpg</td>\n      <td>He didn't shed light on the topic I guess.</td>\n      <td>D:\\data\\images\\trippinthroughtime\\thumbnail\\ar...</td>\n      <td>\"man|NN\",\"in|IN\",\"red|JJ\",\"dress|NN\",\"and|CC\",...</td>\n      <td>True</td>\n      <td>D:\\data\\images\\trippinthroughtime\\arCpzQ0.jpg</td>\n      <td>True</td>\n      <td>5007b937974ae333022c0c91b795ca09</td>\n      <td>zzzlbf</td>\n      <td>a man in a red dress and a woman in a red dress</td>\n    </tr>\n    <tr>\n      <th>16084</th>\n      <td>HotGirlNextDoor</td>\n      <td>p6yewrl7eb9a1.jpg</td>\n      <td>(IKTR)</td>\n      <td>D:\\data\\images\\HotGirlNextDoor\\thumbnail\\p6yew...</td>\n      <td>\"blonde|NN\",\"woman|NN\",\"in|IN\",\"black|JJ\",\"bik...</td>\n      <td>True</td>\n      <td>D:\\data\\images\\HotGirlNextDoor\\p6yewrl7eb9a1.jpg</td>\n      <td>True</td>\n      <td>94dea288ddffb51eb1a786d469b59374</td>\n      <td>zzzu28</td>\n      <td>blonde woman in black bikini top and black bik...</td>\n    </tr>\n  </tbody>\n</table>\n<p>11514 rows × 11 columns</p>\n</div>"
     },
     "metadata": {},
     "output_type": "display_data"
    }
   ],
   "source": [
    "display(\"=== Before Drop ===\")\n",
    "display(temp)\n",
    "temp.rename(columns={\"original_caption\": \"original_caption_old\"}, inplace=True)\n",
    "temp.rename(columns={\"new_column\": \"original_caption\"}, inplace=True)\n",
    "temp.drop(columns=[\"original_caption_old\"], inplace=True)\n",
    "display(\"=== After Drop ===\")\n",
    "display(temp)"
   ],
   "metadata": {
    "collapsed": false
   }
  },
  {
   "cell_type": "code",
   "execution_count": 19,
   "outputs": [
    {
     "data": {
      "text/plain": "'Saving to parquet /data/parquet/processed_data.parquet'"
     },
     "metadata": {},
     "output_type": "display_data"
    }
   ],
   "source": [
    "display(f\"Saving to parquet {parquet_process_data_path}\")\n",
    "temp.to_parquet(parquet_process_data_path)\n",
    "del temp"
   ],
   "metadata": {
    "collapsed": false
   }
  },
  {
   "cell_type": "code",
   "execution_count": 20,
   "outputs": [
    {
     "data": {
      "text/plain": "'Reading from parquet /data/parquet/processed_data.parquet with Updated Primary Captions'"
     },
     "metadata": {},
     "output_type": "display_data"
    },
    {
     "data": {
      "text/plain": "                subreddit          file_name  \\\n0                CityPorn  4emw5uldib9a1.jpg   \n3                AmIhotAF  4xyb1vgbjb9a1.jpg   \n4               greentext  3mewbe0wjb9a1.jpg   \n5               spaceporn  7s5aafaqkb9a1.jpg   \n7               spaceporn  abojw7lqlb9a1.jpg   \n...                   ...                ...   \n16077           spaceporn  abwhhq0w8b9a1.jpg   \n16078           spaceporn  7hzipg1bab9a1.jpg   \n16079           greentext        bgho6WK.jpg   \n16081  trippinthroughtime        arCpzQ0.jpg   \n16084     HotGirlNextDoor  p6yewrl7eb9a1.jpg   \n\n                                                    text  \\\n0                                    New York in the fog   \n3                         Just looking for entertainment   \n4                                    Anon wants Elon cut   \n5                          Northern Lights above Lofoten   \n7                                          Viking Lights   \n...                                                  ...   \n16077           Polaris to Cassiopeia on a cloudy night.   \n16078  The hunt for habitable ocean worlds beyond our...   \n16079                        Anon does a little trolling   \n16081         He didn't shed light on the topic I guess.   \n16084                                             (IKTR)   \n\n                                          thumbnail_path  \\\n0      D:\\data\\images\\CityPorn\\thumbnail\\4emw5uldib9a...   \n3      D:\\data\\images\\AmIhotAF\\thumbnail\\4xyb1vgbjb9a...   \n4      D:\\data\\images\\greentext\\thumbnail\\3mewbe0wjb9...   \n5      D:\\data\\images\\spaceporn\\thumbnail\\7s5aafaqkb9...   \n7      D:\\data\\images\\spaceporn\\thumbnail\\abojw7lqlb9...   \n...                                                  ...   \n16077  D:\\data\\images\\spaceporn\\thumbnail\\abwhhq0w8b9...   \n16078  D:\\data\\images\\spaceporn\\thumbnail\\7hzipg1bab9...   \n16079     D:\\data\\images\\greentext\\thumbnail\\bgho6WK.jpg   \n16081  D:\\data\\images\\trippinthroughtime\\thumbnail\\ar...   \n16084  D:\\data\\images\\HotGirlNextDoor\\thumbnail\\p6yew...   \n\n                                       thumbnail_caption  thumbnail_exists  \\\n0      \"cars|NNS\",\"are|VBP\",\"parked|VBN\",\"on|IN\",\"the...              True   \n3      \"blonde|NNS\",\"woman|NN\",\"with|IN\",\"hair|NN\",\"a...              True   \n4      \"man|NN\",\"with|IN\",\"beard|NN\",\"and|CC\",\"sittin...              True   \n5      \"view|NN\",\"of|IN\",\"large|JJ\",\"green|JJ\",\"and|C...              True   \n7      \"scene|NN\",\"of|IN\",\"boat|NN\",\"is|VBZ\",\"sitting...              True   \n...                                                  ...               ...   \n16077  \"starrdust|NN\",\"sky|NN\",\"with|IN\",\"few|JJ\",\"st...              True   \n16078  \"picture|NN\",\"taken|VBN\",\"from|IN\",\"the|DT\",\"e...              True   \n16079  \"screenshote|NN\",\"of|IN\",\"text|JJ\",\"message|NN...              True   \n16081  \"man|NN\",\"in|IN\",\"red|JJ\",\"dress|NN\",\"and|CC\",...              True   \n16084  \"blonde|NN\",\"woman|NN\",\"in|IN\",\"black|JJ\",\"bik...              True   \n\n                                         original_image  \\\n0             D:\\data\\images\\CityPorn\\4emw5uldib9a1.jpg   \n3             D:\\data\\images\\AmIhotAF\\4xyb1vgbjb9a1.jpg   \n4            D:\\data\\images\\greentext\\3mewbe0wjb9a1.jpg   \n5            D:\\data\\images\\spaceporn\\7s5aafaqkb9a1.jpg   \n7            D:\\data\\images\\spaceporn\\abojw7lqlb9a1.jpg   \n...                                                 ...   \n16077        D:\\data\\images\\spaceporn\\abwhhq0w8b9a1.jpg   \n16078        D:\\data\\images\\spaceporn\\7hzipg1bab9a1.jpg   \n16079              D:\\data\\images\\greentext\\bgho6WK.jpg   \n16081     D:\\data\\images\\trippinthroughtime\\arCpzQ0.jpg   \n16084  D:\\data\\images\\HotGirlNextDoor\\p6yewrl7eb9a1.jpg   \n\n       original_image_exists                              hash       id  \\\n0                       True  7a8d96e378c15c8ab8440ac311f12c11  1000cej   \n3                       True  e554c1ed7ffa2740436ac082068b2824  1000glf   \n4                       True  1dec3dabb5e46cde01855d06089c287a  1000j1n   \n5                       True  2c39ce1290fba541abd0b004b09da6b2  1000mjs   \n7                       True  0f72de47c69ff50eca5fa3990215f4ac  1000qpd   \n...                      ...                               ...      ...   \n16077                   True  f5973637fc56360c15818ba0ca1f7ffa   zzz6dp   \n16078                   True  5b22bea7582229c1f9b992176a2ca2c6   zzzcn5   \n16079                   True  df666b8b2ad543c77b3fdba89becda1a   zzzeoi   \n16081                   True  5007b937974ae333022c0c91b795ca09   zzzlbf   \n16084                   True  94dea288ddffb51eb1a786d469b59374   zzzu28   \n\n                                        original_caption  \n0      cars are parked on the side of the road in the...  \n3      blonde woman with blonde hair and tattoos on h...  \n4      a man with a beard and a beard sitting in fron...  \n5      a view of a view of a large green and purple a...  \n7      a scene of a boat is sitting on the shore of a...  \n...                                                  ...  \n16077     starrdust sky with a few stars and a few stars  \n16078  a picture taken from the earth's surface of th...  \n16079  a screenshote of a text message from a man who...  \n16081    a man in a red dress and a woman in a red dress  \n16084  blonde woman in black bikini top and black bik...  \n\n[11514 rows x 11 columns]",
      "text/html": "<div>\n<style scoped>\n    .dataframe tbody tr th:only-of-type {\n        vertical-align: middle;\n    }\n\n    .dataframe tbody tr th {\n        vertical-align: top;\n    }\n\n    .dataframe thead th {\n        text-align: right;\n    }\n</style>\n<table border=\"1\" class=\"dataframe\">\n  <thead>\n    <tr style=\"text-align: right;\">\n      <th></th>\n      <th>subreddit</th>\n      <th>file_name</th>\n      <th>text</th>\n      <th>thumbnail_path</th>\n      <th>thumbnail_caption</th>\n      <th>thumbnail_exists</th>\n      <th>original_image</th>\n      <th>original_image_exists</th>\n      <th>hash</th>\n      <th>id</th>\n      <th>original_caption</th>\n    </tr>\n  </thead>\n  <tbody>\n    <tr>\n      <th>0</th>\n      <td>CityPorn</td>\n      <td>4emw5uldib9a1.jpg</td>\n      <td>New York in the fog</td>\n      <td>D:\\data\\images\\CityPorn\\thumbnail\\4emw5uldib9a...</td>\n      <td>\"cars|NNS\",\"are|VBP\",\"parked|VBN\",\"on|IN\",\"the...</td>\n      <td>True</td>\n      <td>D:\\data\\images\\CityPorn\\4emw5uldib9a1.jpg</td>\n      <td>True</td>\n      <td>7a8d96e378c15c8ab8440ac311f12c11</td>\n      <td>1000cej</td>\n      <td>cars are parked on the side of the road in the...</td>\n    </tr>\n    <tr>\n      <th>3</th>\n      <td>AmIhotAF</td>\n      <td>4xyb1vgbjb9a1.jpg</td>\n      <td>Just looking for entertainment</td>\n      <td>D:\\data\\images\\AmIhotAF\\thumbnail\\4xyb1vgbjb9a...</td>\n      <td>\"blonde|NNS\",\"woman|NN\",\"with|IN\",\"hair|NN\",\"a...</td>\n      <td>True</td>\n      <td>D:\\data\\images\\AmIhotAF\\4xyb1vgbjb9a1.jpg</td>\n      <td>True</td>\n      <td>e554c1ed7ffa2740436ac082068b2824</td>\n      <td>1000glf</td>\n      <td>blonde woman with blonde hair and tattoos on h...</td>\n    </tr>\n    <tr>\n      <th>4</th>\n      <td>greentext</td>\n      <td>3mewbe0wjb9a1.jpg</td>\n      <td>Anon wants Elon cut</td>\n      <td>D:\\data\\images\\greentext\\thumbnail\\3mewbe0wjb9...</td>\n      <td>\"man|NN\",\"with|IN\",\"beard|NN\",\"and|CC\",\"sittin...</td>\n      <td>True</td>\n      <td>D:\\data\\images\\greentext\\3mewbe0wjb9a1.jpg</td>\n      <td>True</td>\n      <td>1dec3dabb5e46cde01855d06089c287a</td>\n      <td>1000j1n</td>\n      <td>a man with a beard and a beard sitting in fron...</td>\n    </tr>\n    <tr>\n      <th>5</th>\n      <td>spaceporn</td>\n      <td>7s5aafaqkb9a1.jpg</td>\n      <td>Northern Lights above Lofoten</td>\n      <td>D:\\data\\images\\spaceporn\\thumbnail\\7s5aafaqkb9...</td>\n      <td>\"view|NN\",\"of|IN\",\"large|JJ\",\"green|JJ\",\"and|C...</td>\n      <td>True</td>\n      <td>D:\\data\\images\\spaceporn\\7s5aafaqkb9a1.jpg</td>\n      <td>True</td>\n      <td>2c39ce1290fba541abd0b004b09da6b2</td>\n      <td>1000mjs</td>\n      <td>a view of a view of a large green and purple a...</td>\n    </tr>\n    <tr>\n      <th>7</th>\n      <td>spaceporn</td>\n      <td>abojw7lqlb9a1.jpg</td>\n      <td>Viking Lights</td>\n      <td>D:\\data\\images\\spaceporn\\thumbnail\\abojw7lqlb9...</td>\n      <td>\"scene|NN\",\"of|IN\",\"boat|NN\",\"is|VBZ\",\"sitting...</td>\n      <td>True</td>\n      <td>D:\\data\\images\\spaceporn\\abojw7lqlb9a1.jpg</td>\n      <td>True</td>\n      <td>0f72de47c69ff50eca5fa3990215f4ac</td>\n      <td>1000qpd</td>\n      <td>a scene of a boat is sitting on the shore of a...</td>\n    </tr>\n    <tr>\n      <th>...</th>\n      <td>...</td>\n      <td>...</td>\n      <td>...</td>\n      <td>...</td>\n      <td>...</td>\n      <td>...</td>\n      <td>...</td>\n      <td>...</td>\n      <td>...</td>\n      <td>...</td>\n      <td>...</td>\n    </tr>\n    <tr>\n      <th>16077</th>\n      <td>spaceporn</td>\n      <td>abwhhq0w8b9a1.jpg</td>\n      <td>Polaris to Cassiopeia on a cloudy night.</td>\n      <td>D:\\data\\images\\spaceporn\\thumbnail\\abwhhq0w8b9...</td>\n      <td>\"starrdust|NN\",\"sky|NN\",\"with|IN\",\"few|JJ\",\"st...</td>\n      <td>True</td>\n      <td>D:\\data\\images\\spaceporn\\abwhhq0w8b9a1.jpg</td>\n      <td>True</td>\n      <td>f5973637fc56360c15818ba0ca1f7ffa</td>\n      <td>zzz6dp</td>\n      <td>starrdust sky with a few stars and a few stars</td>\n    </tr>\n    <tr>\n      <th>16078</th>\n      <td>spaceporn</td>\n      <td>7hzipg1bab9a1.jpg</td>\n      <td>The hunt for habitable ocean worlds beyond our...</td>\n      <td>D:\\data\\images\\spaceporn\\thumbnail\\7hzipg1bab9...</td>\n      <td>\"picture|NN\",\"taken|VBN\",\"from|IN\",\"the|DT\",\"e...</td>\n      <td>True</td>\n      <td>D:\\data\\images\\spaceporn\\7hzipg1bab9a1.jpg</td>\n      <td>True</td>\n      <td>5b22bea7582229c1f9b992176a2ca2c6</td>\n      <td>zzzcn5</td>\n      <td>a picture taken from the earth's surface of th...</td>\n    </tr>\n    <tr>\n      <th>16079</th>\n      <td>greentext</td>\n      <td>bgho6WK.jpg</td>\n      <td>Anon does a little trolling</td>\n      <td>D:\\data\\images\\greentext\\thumbnail\\bgho6WK.jpg</td>\n      <td>\"screenshote|NN\",\"of|IN\",\"text|JJ\",\"message|NN...</td>\n      <td>True</td>\n      <td>D:\\data\\images\\greentext\\bgho6WK.jpg</td>\n      <td>True</td>\n      <td>df666b8b2ad543c77b3fdba89becda1a</td>\n      <td>zzzeoi</td>\n      <td>a screenshote of a text message from a man who...</td>\n    </tr>\n    <tr>\n      <th>16081</th>\n      <td>trippinthroughtime</td>\n      <td>arCpzQ0.jpg</td>\n      <td>He didn't shed light on the topic I guess.</td>\n      <td>D:\\data\\images\\trippinthroughtime\\thumbnail\\ar...</td>\n      <td>\"man|NN\",\"in|IN\",\"red|JJ\",\"dress|NN\",\"and|CC\",...</td>\n      <td>True</td>\n      <td>D:\\data\\images\\trippinthroughtime\\arCpzQ0.jpg</td>\n      <td>True</td>\n      <td>5007b937974ae333022c0c91b795ca09</td>\n      <td>zzzlbf</td>\n      <td>a man in a red dress and a woman in a red dress</td>\n    </tr>\n    <tr>\n      <th>16084</th>\n      <td>HotGirlNextDoor</td>\n      <td>p6yewrl7eb9a1.jpg</td>\n      <td>(IKTR)</td>\n      <td>D:\\data\\images\\HotGirlNextDoor\\thumbnail\\p6yew...</td>\n      <td>\"blonde|NN\",\"woman|NN\",\"in|IN\",\"black|JJ\",\"bik...</td>\n      <td>True</td>\n      <td>D:\\data\\images\\HotGirlNextDoor\\p6yewrl7eb9a1.jpg</td>\n      <td>True</td>\n      <td>94dea288ddffb51eb1a786d469b59374</td>\n      <td>zzzu28</td>\n      <td>blonde woman in black bikini top and black bik...</td>\n    </tr>\n  </tbody>\n</table>\n<p>11514 rows × 11 columns</p>\n</div>"
     },
     "metadata": {},
     "output_type": "display_data"
    }
   ],
   "source": [
    "display(f\"Reading from parquet {parquet_process_data_path} with Updated Primary Captions\")\n",
    "processed_with_captions = pandas.read_parquet(parquet_process_data_path)\n",
    "display(processed_with_captions)"
   ],
   "metadata": {
    "collapsed": false
   }
  },
  {
   "cell_type": "code",
   "execution_count": 21,
   "outputs": [],
   "source": [
    "temp = processed_with_captions.copy()\n",
    "ddf = dd.from_pandas(temp, npartitions=6)"
   ],
   "metadata": {
    "collapsed": false
   }
  },
  {
   "cell_type": "code",
   "execution_count": 22,
   "outputs": [
    {
     "name": "stderr",
     "output_type": "stream",
     "text": [
      "\n",
      "Captioning-Primary-Images: 100%|██████████| 11514/11514 [00:02<00:00, 4872.12it/s] \n"
     ]
    },
    {
     "data": {
      "text/plain": "'Total Images: 11514'"
     },
     "metadata": {},
     "output_type": "display_data"
    },
    {
     "data": {
      "text/plain": "global:   0%|          | 0/6 [00:00<?, ?it/s]",
      "application/vnd.jupyter.widget-view+json": {
       "version_major": 2,
       "version_minor": 0,
       "model_id": "944f6e5318e844d292c6267fc3a4dffe"
      }
     },
     "metadata": {},
     "output_type": "display_data"
    },
    {
     "name": "stderr",
     "output_type": "stream",
     "text": [
      "\n",
      "Captioning-Tokens-For-Image:   0%|          | 7/11514 [00:01<35:06,  5.46it/s]\u001B[A\n",
      "Captioning-Tokens-For-Image:   0%|          | 9/11514 [00:01<31:23,  6.11it/s]\u001B[A\n",
      "Captioning-Tokens-For-Image:   0%|          | 10/11514 [00:01<31:23,  6.11it/s]\u001B[A\n",
      "Captioning-Tokens-For-Image:   0%|          | 18/11514 [00:01<14:24, 13.30it/s]\u001B[A\n",
      "Captioning-Tokens-For-Image:   0%|          | 20/11514 [00:01<07:17, 26.29it/s]\u001B[A\n",
      "Captioning-Tokens-For-Image:   0%|          | 21/11514 [00:01<07:17, 26.29it/s]\u001B[A\n",
      "Captioning-Tokens-For-Image:   0%|          | 24/11514 [00:01<07:16, 26.29it/s]\u001B[A\n",
      "Captioning-Tokens-For-Image:   0%|          | 31/11514 [00:01<06:30, 29.44it/s]\u001B[A\n",
      "Captioning-Tokens-For-Image:   0%|          | 33/11514 [00:01<04:56, 38.72it/s]\u001B[A\n",
      "Captioning-Tokens-For-Image:   0%|          | 35/11514 [00:01<04:56, 38.72it/s]\u001B[A\n",
      "Captioning-Tokens-For-Image:   1%|          | 66/11514 [00:01<01:17, 147.96it/s]\u001B[A\n",
      "Captioning-Tokens-For-Image:   1%|          | 69/11514 [00:01<01:17, 147.96it/s]\u001B[A\n",
      "Captioning-Tokens-For-Image:   1%|          | 70/11514 [00:01<01:17, 147.96it/s]\u001B[A\n",
      "Captioning-Tokens-For-Image:   1%|          | 101/11514 [00:01<00:56, 202.00it/s]\u001B[A\n",
      "Captioning-Tokens-For-Image:   1%|          | 104/11514 [00:01<00:46, 243.12it/s]\u001B[A\n",
      "Captioning-Tokens-For-Image:   1%|          | 106/11514 [00:01<00:46, 243.12it/s]\u001B[A\n",
      "Captioning-Tokens-For-Image:   1%|          | 109/11514 [00:01<00:46, 243.12it/s]\u001B[A\n",
      "Captioning-Tokens-For-Image:   1%|          | 141/11514 [00:02<00:45, 248.61it/s]\u001B[A\n",
      "Captioning-Tokens-For-Image:   1%|          | 143/11514 [00:02<00:45, 248.42it/s]\u001B[A\n",
      "Captioning-Tokens-For-Image:   1%|          | 143/11514 [00:02<00:45, 248.42it/s]\u001B[A\n",
      "Captioning-Tokens-For-Image:   1%|▏         | 145/11514 [00:02<00:45, 248.42it/s]\u001B[A\n",
      "Captioning-Tokens-For-Image:   1%|▏         | 151/11514 [00:02<00:45, 248.42it/s]\u001B[A\n",
      "Captioning-Tokens-For-Image:   2%|▏         | 179/11514 [00:02<00:49, 227.55it/s]\u001B[A\n",
      "Captioning-Tokens-For-Image:   2%|▏         | 184/11514 [00:02<01:03, 179.40it/s]\u001B[A\n",
      "Captioning-Tokens-For-Image:   2%|▏         | 184/11514 [00:02<01:03, 179.40it/s]\u001B[A\n",
      "Captioning-Tokens-For-Image:   2%|▏         | 185/11514 [00:02<01:03, 179.40it/s]\u001B[A\n",
      "Captioning-Tokens-For-Image:   2%|▏         | 187/11514 [00:02<01:03, 179.40it/s]\u001B[A\n",
      "Captioning-Tokens-For-Image:   2%|▏         | 188/11514 [00:02<01:03, 179.40it/s]\u001B[A\n",
      "Captioning-Tokens-For-Image:   2%|▏         | 213/11514 [00:02<01:06, 169.37it/s]\u001B[A\n",
      "Captioning-Tokens-For-Image:   2%|▏         | 216/11514 [00:02<01:08, 164.70it/s]\u001B[A\n",
      "Captioning-Tokens-For-Image:   2%|▏         | 218/11514 [00:02<01:08, 164.70it/s]\u001B[A\n",
      "Captioning-Tokens-For-Image:   2%|▏         | 218/11514 [00:02<01:08, 164.70it/s]\u001B[A\n",
      "Captioning-Tokens-For-Image:   2%|▏         | 221/11514 [00:02<01:08, 164.70it/s]\u001B[A\n",
      "Captioning-Tokens-For-Image:   2%|▏         | 242/11514 [00:02<01:09, 162.95it/s]\u001B[A\n",
      "Captioning-Tokens-For-Image:   2%|▏         | 245/11514 [00:02<01:10, 159.65it/s]\u001B[A\n",
      "Captioning-Tokens-For-Image:   2%|▏         | 247/11514 [00:02<01:10, 159.65it/s]\u001B[A\n",
      "Captioning-Tokens-For-Image:   2%|▏         | 268/11514 [00:02<01:06, 169.81it/s]\u001B[A\n",
      "Captioning-Tokens-For-Image:   2%|▏         | 271/11514 [00:02<01:01, 183.56it/s]\u001B[A\n",
      "Captioning-Tokens-For-Image:   2%|▏         | 271/11514 [00:02<01:01, 183.56it/s]\u001B[A\n",
      "Captioning-Tokens-For-Image:   2%|▏         | 273/11514 [00:02<01:01, 183.56it/s]\u001B[A\n",
      "Captioning-Tokens-For-Image:   2%|▏         | 275/11514 [00:02<01:01, 183.56it/s]\u001B[A\n",
      "Captioning-Tokens-For-Image:   3%|▎         | 297/11514 [00:02<01:02, 180.65it/s]\u001B[A\n",
      "Captioning-Tokens-For-Image:   3%|▎         | 300/11514 [00:02<01:03, 176.66it/s]\u001B[A\n",
      "Captioning-Tokens-For-Image:   3%|▎         | 302/11514 [00:02<01:03, 176.66it/s]\u001B[A\n",
      "Captioning-Tokens-For-Image:   3%|▎         | 303/11514 [00:02<01:03, 176.66it/s]\u001B[A\n",
      "Captioning-Tokens-For-Image:   3%|▎         | 327/11514 [00:02<01:01, 181.02it/s]\u001B[A\n",
      "Captioning-Tokens-For-Image:   3%|▎         | 331/11514 [00:02<00:57, 193.14it/s]\u001B[A\n",
      "Captioning-Tokens-For-Image:   3%|▎         | 334/11514 [00:02<00:57, 193.14it/s]\u001B[A\n",
      "Captioning-Tokens-For-Image:   3%|▎         | 335/11514 [00:02<00:57, 193.14it/s]\u001B[A\n",
      "Captioning-Tokens-For-Image:   3%|▎         | 361/11514 [00:02<00:57, 193.30it/s]\u001B[A\n",
      "Captioning-Tokens-For-Image:   3%|▎         | 363/11514 [00:02<00:56, 195.89it/s]\u001B[A\n",
      "Captioning-Tokens-For-Image:   3%|▎         | 364/11514 [00:02<00:56, 195.89it/s]\u001B[A\n",
      "Captioning-Tokens-For-Image:   3%|▎         | 366/11514 [00:02<00:56, 195.89it/s]\u001B[A\n",
      "Captioning-Tokens-For-Image:   3%|▎         | 367/11514 [00:03<00:56, 195.89it/s]\u001B[A\n",
      "Captioning-Tokens-For-Image:   3%|▎         | 389/11514 [00:03<00:57, 194.46it/s]\u001B[A\n",
      "Captioning-Tokens-For-Image:   3%|▎         | 392/11514 [00:03<00:54, 203.09it/s]\u001B[A\n",
      "Captioning-Tokens-For-Image:   3%|▎         | 393/11514 [00:03<00:54, 203.09it/s]\u001B[A\n",
      "Captioning-Tokens-For-Image:   3%|▎         | 396/11514 [00:03<00:54, 203.09it/s]\u001B[A\n",
      "Captioning-Tokens-For-Image:   4%|▎         | 419/11514 [00:03<00:57, 191.51it/s]\u001B[A\n",
      "Captioning-Tokens-For-Image:   4%|▎         | 422/11514 [00:03<01:01, 180.69it/s]\u001B[A\n",
      "Captioning-Tokens-For-Image:   4%|▎         | 425/11514 [00:03<01:01, 180.69it/s]\u001B[A\n",
      "Captioning-Tokens-For-Image:   4%|▎         | 427/11514 [00:03<01:01, 180.69it/s]\u001B[A\n",
      "Captioning-Tokens-For-Image:   4%|▍         | 450/11514 [00:03<01:01, 179.91it/s]\u001B[A\n",
      "Captioning-Tokens-For-Image:   4%|▍         | 453/11514 [00:03<01:00, 183.35it/s]\u001B[A\n",
      "Captioning-Tokens-For-Image:   4%|▍         | 454/11514 [00:03<01:00, 183.35it/s]\u001B[A\n",
      "Captioning-Tokens-For-Image:   4%|▍         | 477/11514 [00:03<00:59, 185.80it/s]\u001B[A\n",
      "Captioning-Tokens-For-Image:   4%|▍         | 480/11514 [00:03<00:57, 190.33it/s]\u001B[A\n",
      "Captioning-Tokens-For-Image:   4%|▍         | 481/11514 [00:03<00:57, 190.33it/s]\u001B[A\n",
      "Captioning-Tokens-For-Image:   4%|▍         | 506/11514 [00:03<00:55, 198.79it/s]\u001B[A\n",
      "Captioning-Tokens-For-Image:   4%|▍         | 508/11514 [00:03<00:54, 203.33it/s]\u001B[A\n",
      "Captioning-Tokens-For-Image:   4%|▍         | 510/11514 [00:03<00:54, 203.33it/s]\u001B[A\n",
      "Captioning-Tokens-For-Image:   4%|▍         | 513/11514 [00:03<00:54, 203.33it/s]\u001B[A\n",
      "Captioning-Tokens-For-Image:   4%|▍         | 514/11514 [00:03<00:54, 203.33it/s]\u001B[A\n",
      "Captioning-Tokens-For-Image:   5%|▍         | 539/11514 [00:03<00:56, 195.06it/s]\u001B[A\n",
      "Captioning-Tokens-For-Image:   5%|▍         | 542/11514 [00:03<00:55, 195.93it/s]\u001B[A\n",
      "Captioning-Tokens-For-Image:   5%|▍         | 542/11514 [00:03<00:55, 195.93it/s]\u001B[A\n",
      "Captioning-Tokens-For-Image:   5%|▍         | 544/11514 [00:03<00:55, 195.93it/s]\u001B[A\n",
      "Captioning-Tokens-For-Image:   5%|▍         | 548/11514 [00:03<00:55, 195.93it/s]\u001B[A\n",
      "Captioning-Tokens-For-Image:   5%|▍         | 569/11514 [00:03<00:59, 184.65it/s]\u001B[A\n",
      "Captioning-Tokens-For-Image:   5%|▍         | 570/11514 [00:03<01:00, 181.97it/s]\u001B[A\n",
      "Captioning-Tokens-For-Image:   5%|▍         | 573/11514 [00:03<01:00, 181.97it/s]\u001B[A\n",
      "Captioning-Tokens-For-Image:   5%|▌         | 601/11514 [00:03<00:49, 221.13it/s]\u001B[A\n",
      "Captioning-Tokens-For-Image:   5%|▌         | 603/11514 [00:03<00:49, 221.13it/s]\u001B[A\n",
      "Captioning-Tokens-For-Image:   5%|▌         | 603/11514 [00:03<00:49, 221.13it/s]\u001B[A\n",
      "Captioning-Tokens-For-Image:   5%|▌         | 604/11514 [00:03<00:49, 221.13it/s]\u001B[A\n",
      "Captioning-Tokens-For-Image:   5%|▌         | 631/11514 [00:04<00:50, 215.61it/s]\u001B[A\n",
      "Captioning-Tokens-For-Image:   6%|▌         | 634/11514 [00:04<00:49, 220.48it/s]\u001B[A\n",
      "Captioning-Tokens-For-Image:   6%|▌         | 635/11514 [00:04<00:49, 220.48it/s]\u001B[A\n",
      "Captioning-Tokens-For-Image:   6%|▌         | 638/11514 [00:04<00:49, 220.48it/s]\u001B[A\n",
      "Captioning-Tokens-For-Image:   6%|▌         | 639/11514 [00:04<00:49, 220.48it/s]\u001B[A\n",
      "Captioning-Tokens-For-Image:   6%|▌         | 668/11514 [00:04<00:46, 232.99it/s]\u001B[A\n",
      "Captioning-Tokens-For-Image:   6%|▌         | 671/11514 [00:04<00:43, 247.35it/s]\u001B[A\n",
      "Captioning-Tokens-For-Image:   6%|▌         | 671/11514 [00:04<00:43, 247.35it/s]\u001B[A\n",
      "Captioning-Tokens-For-Image:   6%|▌         | 674/11514 [00:04<00:43, 247.35it/s]\u001B[A\n",
      "Captioning-Tokens-For-Image:   6%|▌         | 675/11514 [00:04<00:43, 247.35it/s]\u001B[A\n",
      "Captioning-Tokens-For-Image:   6%|▌         | 703/11514 [00:04<00:48, 224.27it/s]\u001B[A\n",
      "Captioning-Tokens-For-Image:   6%|▌         | 705/11514 [00:04<00:50, 213.34it/s]\u001B[A\n",
      "Captioning-Tokens-For-Image:   6%|▌         | 708/11514 [00:04<00:50, 213.34it/s]\u001B[A\n",
      "Captioning-Tokens-For-Image:   6%|▋         | 740/11514 [00:04<00:44, 240.65it/s]\u001B[A\n",
      "Captioning-Tokens-For-Image:   6%|▋         | 742/11514 [00:04<00:40, 264.43it/s]\u001B[A\n",
      "Captioning-Tokens-For-Image:   6%|▋         | 744/11514 [00:04<00:40, 264.43it/s]\u001B[A\n",
      "Captioning-Tokens-For-Image:   6%|▋         | 748/11514 [00:04<00:40, 264.43it/s]\u001B[A\n",
      "Captioning-Tokens-For-Image:   7%|▋         | 784/11514 [00:04<00:35, 305.80it/s]\u001B[A\n",
      "Captioning-Tokens-For-Image:   7%|▋         | 784/11514 [00:04<00:35, 305.80it/s]\u001B[A\n",
      "Captioning-Tokens-For-Image:   7%|▋         | 786/11514 [00:04<00:35, 305.80it/s]\u001B[A\n",
      "Captioning-Tokens-For-Image:   7%|▋         | 789/11514 [00:04<00:35, 305.80it/s]\u001B[A\n",
      "Captioning-Tokens-For-Image:   7%|▋         | 827/11514 [00:04<00:33, 322.52it/s]\u001B[A\n",
      "Captioning-Tokens-For-Image:   7%|▋         | 829/11514 [00:04<00:33, 322.52it/s]\u001B[A\n",
      "Captioning-Tokens-For-Image:   7%|▋         | 830/11514 [00:04<00:33, 322.52it/s]\u001B[A\n",
      "Captioning-Tokens-For-Image:   8%|▊         | 885/11514 [00:04<00:24, 432.02it/s]\u001B[A\n",
      "Captioning-Tokens-For-Image:   8%|▊         | 886/11514 [00:04<00:23, 445.05it/s]\u001B[A\n",
      "Captioning-Tokens-For-Image:   8%|▊         | 887/11514 [00:04<00:23, 445.05it/s]\u001B[A\n",
      "Captioning-Tokens-For-Image:   8%|▊         | 887/11514 [00:04<00:23, 445.05it/s]\u001B[A\n",
      "Captioning-Tokens-For-Image:   8%|▊         | 890/11514 [00:04<00:23, 445.05it/s]\u001B[A\n",
      "Captioning-Tokens-For-Image:   8%|▊         | 892/11514 [00:04<00:23, 445.05it/s]\u001B[A\n",
      "Captioning-Tokens-For-Image:   8%|▊         | 937/11514 [00:04<00:24, 434.96it/s]\u001B[A\n",
      "Captioning-Tokens-For-Image:   8%|▊         | 939/11514 [00:04<00:25, 412.68it/s]\u001B[A\n",
      "Captioning-Tokens-For-Image:   8%|▊         | 942/11514 [00:04<00:25, 412.68it/s]\u001B[A\n",
      "Captioning-Tokens-For-Image:   9%|▊         | 994/11514 [00:04<00:24, 436.91it/s]\u001B[A\n",
      "Captioning-Tokens-For-Image:   9%|▊         | 997/11514 [00:04<00:23, 445.63it/s]\u001B[A\n",
      "Captioning-Tokens-For-Image:   9%|▊         | 997/11514 [00:04<00:23, 445.63it/s]\u001B[A\n",
      "Captioning-Tokens-For-Image:   9%|▊         | 999/11514 [00:04<00:23, 445.63it/s]\u001B[A\n",
      "Captioning-Tokens-For-Image:   9%|▉         | 1046/11514 [00:05<00:28, 367.34it/s]\u001B[A\n",
      "Captioning-Tokens-For-Image:   9%|▉         | 1050/11514 [00:05<00:30, 340.05it/s]\u001B[A\n",
      "Captioning-Tokens-For-Image:   9%|▉         | 1052/11514 [00:05<00:30, 340.05it/s]\u001B[A\n",
      "Captioning-Tokens-For-Image:   9%|▉         | 1090/11514 [00:05<00:30, 337.27it/s]\u001B[A\n",
      "Captioning-Tokens-For-Image:   9%|▉         | 1091/11514 [00:05<00:30, 337.27it/s]\u001B[A\n",
      "Captioning-Tokens-For-Image:  10%|▉         | 1134/11514 [00:05<00:30, 345.07it/s]\u001B[A\n",
      "Captioning-Tokens-For-Image:  10%|▉         | 1138/11514 [00:05<00:27, 371.21it/s]\u001B[A\n",
      "Captioning-Tokens-For-Image:  10%|▉         | 1139/11514 [00:05<00:27, 371.21it/s]\u001B[A\n",
      "Captioning-Tokens-For-Image:  10%|▉         | 1141/11514 [00:05<00:27, 371.21it/s]\u001B[A\n",
      "Captioning-Tokens-For-Image:  10%|█         | 1187/11514 [00:05<00:27, 379.65it/s]\u001B[A\n",
      "Captioning-Tokens-For-Image:  10%|█         | 1191/11514 [00:05<00:25, 400.86it/s]\u001B[A\n",
      "Captioning-Tokens-For-Image:  10%|█         | 1193/11514 [00:05<00:25, 400.86it/s]\u001B[A\n",
      "Captioning-Tokens-For-Image:  10%|█         | 1196/11514 [00:05<00:25, 400.86it/s]\u001B[A\n",
      "Captioning-Tokens-For-Image:  10%|█         | 1196/11514 [00:05<00:25, 400.86it/s]\u001B[A\n",
      "Captioning-Tokens-For-Image:  11%|█         | 1256/11514 [00:05<00:22, 454.93it/s]\u001B[A\n",
      "Captioning-Tokens-For-Image:  11%|█         | 1258/11514 [00:05<00:21, 474.44it/s]\u001B[A\n",
      "Captioning-Tokens-For-Image:  11%|█         | 1260/11514 [00:05<00:21, 474.44it/s]\u001B[A\n",
      "Captioning-Tokens-For-Image:  12%|█▏        | 1328/11514 [00:05<00:17, 579.02it/s]\u001B[A\n",
      "Captioning-Tokens-For-Image:  12%|█▏        | 1330/11514 [00:05<00:16, 610.07it/s]\u001B[A\n",
      "Captioning-Tokens-For-Image:  12%|█▏        | 1331/11514 [00:05<00:16, 610.07it/s]\u001B[A\n",
      "Captioning-Tokens-For-Image:  12%|█▏        | 1332/11514 [00:05<00:16, 610.07it/s]\u001B[A\n",
      "Captioning-Tokens-For-Image:  12%|█▏        | 1334/11514 [00:05<00:16, 610.07it/s]\u001B[A\n",
      "Captioning-Tokens-For-Image:  12%|█▏        | 1336/11514 [00:05<00:16, 610.07it/s]\u001B[A\n",
      "Captioning-Tokens-For-Image:  12%|█▏        | 1402/11514 [00:05<00:17, 588.08it/s]\u001B[A\n",
      "Captioning-Tokens-For-Image:  12%|█▏        | 1403/11514 [00:05<00:17, 588.08it/s]\u001B[A\n",
      "Captioning-Tokens-For-Image:  12%|█▏        | 1405/11514 [00:05<00:17, 588.08it/s]\u001B[A\n",
      "Captioning-Tokens-For-Image:  13%|█▎        | 1482/11514 [00:05<00:15, 635.89it/s]\u001B[A\n",
      "Captioning-Tokens-For-Image:  13%|█▎        | 1485/11514 [00:05<00:14, 670.09it/s]\u001B[A\n",
      "Captioning-Tokens-For-Image:  13%|█▎        | 1486/11514 [00:05<00:14, 670.09it/s]\u001B[A\n",
      "Captioning-Tokens-For-Image:  13%|█▎        | 1487/11514 [00:05<00:14, 670.09it/s]\u001B[A\n",
      "Captioning-Tokens-For-Image:  13%|█▎        | 1488/11514 [00:05<00:14, 670.09it/s]\u001B[A\n",
      "Captioning-Tokens-For-Image:  13%|█▎        | 1490/11514 [00:05<00:14, 670.09it/s]\u001B[A\n",
      "Captioning-Tokens-For-Image:  14%|█▎        | 1563/11514 [00:05<00:15, 645.69it/s]\u001B[A\n",
      "Captioning-Tokens-For-Image:  14%|█▎        | 1565/11514 [00:06<00:16, 606.04it/s]\u001B[A\n",
      "Captioning-Tokens-For-Image:  14%|█▎        | 1566/11514 [00:06<00:16, 606.04it/s]\u001B[A\n",
      "Captioning-Tokens-For-Image:  14%|█▎        | 1567/11514 [00:06<00:16, 606.04it/s]\u001B[A\n",
      "Captioning-Tokens-For-Image:  14%|█▎        | 1569/11514 [00:06<00:16, 606.04it/s]\u001B[A\n",
      "Captioning-Tokens-For-Image:  14%|█▍        | 1641/11514 [00:06<00:15, 631.45it/s]\u001B[A\n",
      "Captioning-Tokens-For-Image:  14%|█▍        | 1642/11514 [00:06<00:15, 639.41it/s]\u001B[A\n",
      "Captioning-Tokens-For-Image:  14%|█▍        | 1643/11514 [00:06<00:15, 639.41it/s]\u001B[A\n",
      "Captioning-Tokens-For-Image:  14%|█▍        | 1645/11514 [00:06<00:15, 639.41it/s]\u001B[A\n",
      "Captioning-Tokens-For-Image:  14%|█▍        | 1646/11514 [00:06<00:15, 639.41it/s]\u001B[A\n",
      "Captioning-Tokens-For-Image:  14%|█▍        | 1650/11514 [00:06<00:15, 639.41it/s]\u001B[A\n",
      "Captioning-Tokens-For-Image:  15%|█▍        | 1715/11514 [00:06<00:19, 504.75it/s]\u001B[A\n",
      "Captioning-Tokens-For-Image:  15%|█▍        | 1716/11514 [00:06<00:20, 477.29it/s]\u001B[A\n",
      "Captioning-Tokens-For-Image:  15%|█▍        | 1718/11514 [00:06<00:20, 477.29it/s]\u001B[A\n",
      "Captioning-Tokens-For-Image:  15%|█▌        | 1769/11514 [00:06<00:22, 440.74it/s]\u001B[A\n",
      "Captioning-Tokens-For-Image:  15%|█▌        | 1773/11514 [00:06<00:26, 374.00it/s]\u001B[A\n",
      "Captioning-Tokens-For-Image:  15%|█▌        | 1774/11514 [00:06<00:26, 374.00it/s]\u001B[A\n",
      "Captioning-Tokens-For-Image:  15%|█▌        | 1779/11514 [00:06<00:26, 374.00it/s]\u001B[A\n",
      "Captioning-Tokens-For-Image:  16%|█▌        | 1821/11514 [00:06<00:27, 347.25it/s]\u001B[A\n",
      "Captioning-Tokens-For-Image:  16%|█▌        | 1823/11514 [00:06<00:29, 328.37it/s]\u001B[A\n",
      "Captioning-Tokens-For-Image:  16%|█▌        | 1825/11514 [00:06<00:29, 328.37it/s]\u001B[A\n",
      "Captioning-Tokens-For-Image:  16%|█▌        | 1826/11514 [00:06<00:29, 328.37it/s]\u001B[A\n",
      "Captioning-Tokens-For-Image:  16%|█▌        | 1860/11514 [00:06<00:30, 318.33it/s]\u001B[A\n",
      "Captioning-Tokens-For-Image:  16%|█▌        | 1861/11514 [00:06<00:30, 318.33it/s]\u001B[A\n",
      "Captioning-Tokens-For-Image:  17%|█▋        | 1911/11514 [00:06<00:25, 378.89it/s]\u001B[A\n",
      "Captioning-Tokens-For-Image:  17%|█▋        | 1914/11514 [00:06<00:25, 380.14it/s]\u001B[A\n",
      "Captioning-Tokens-For-Image:  17%|█▋        | 1915/11514 [00:06<00:25, 380.14it/s]\u001B[A\n",
      "Captioning-Tokens-For-Image:  17%|█▋        | 1916/11514 [00:06<00:25, 380.14it/s]\u001B[A\n",
      "Captioning-Tokens-For-Image:  17%|█▋        | 1919/11514 [00:06<00:25, 380.14it/s]\u001B[A\n",
      "Captioning-Tokens-For-Image:  17%|█▋        | 1961/11514 [00:06<00:30, 314.85it/s]\u001B[A\n",
      "Captioning-Tokens-For-Image:  17%|█▋        | 1964/11514 [00:06<00:32, 298.09it/s]\u001B[A\n",
      "Captioning-Tokens-For-Image:  17%|█▋        | 1964/11514 [00:06<00:32, 298.09it/s]\u001B[A\n",
      "Captioning-Tokens-For-Image:  17%|█▋        | 1967/11514 [00:06<00:32, 298.09it/s]\u001B[A\n",
      "Captioning-Tokens-For-Image:  17%|█▋        | 1968/11514 [00:06<00:32, 298.09it/s]\u001B[A\n",
      "Captioning-Tokens-For-Image:  18%|█▊        | 2016/11514 [00:07<00:28, 328.43it/s]\u001B[A\n",
      "Captioning-Tokens-For-Image:  18%|█▊        | 2021/11514 [00:07<00:22, 429.46it/s]\u001B[A\n",
      "Captioning-Tokens-For-Image:  18%|█▊        | 2022/11514 [00:07<00:22, 429.46it/s]\u001B[A\n",
      "Captioning-Tokens-For-Image:  18%|█▊        | 2022/11514 [00:07<00:22, 429.46it/s]\u001B[A\n",
      "Captioning-Tokens-For-Image:  18%|█▊        | 2025/11514 [00:07<00:22, 429.46it/s]\u001B[A\n",
      "Captioning-Tokens-For-Image:  18%|█▊        | 2026/11514 [00:07<00:22, 429.46it/s]\u001B[A\n",
      "Captioning-Tokens-For-Image:  18%|█▊        | 2082/11514 [00:07<00:19, 481.16it/s]\u001B[A\n",
      "Captioning-Tokens-For-Image:  18%|█▊        | 2083/11514 [00:07<00:19, 490.92it/s]\u001B[A\n",
      "Captioning-Tokens-For-Image:  18%|█▊        | 2083/11514 [00:07<00:19, 490.92it/s]\u001B[A\n",
      "Captioning-Tokens-For-Image:  18%|█▊        | 2085/11514 [00:07<00:19, 490.92it/s]\u001B[A\n",
      "Captioning-Tokens-For-Image:  18%|█▊        | 2087/11514 [00:07<00:19, 490.92it/s]\u001B[A\n",
      "Captioning-Tokens-For-Image:  18%|█▊        | 2089/11514 [00:07<00:19, 490.92it/s]\u001B[A\n",
      "Captioning-Tokens-For-Image:  19%|█▊        | 2154/11514 [00:07<00:17, 537.39it/s]\u001B[A\n",
      "Captioning-Tokens-For-Image:  19%|█▊        | 2157/11514 [00:07<00:16, 569.27it/s]\u001B[A\n",
      "Captioning-Tokens-For-Image:  19%|█▊        | 2158/11514 [00:07<00:16, 569.27it/s]\u001B[A\n",
      "Captioning-Tokens-For-Image:  19%|█▉        | 2161/11514 [00:07<00:16, 569.27it/s]\u001B[A\n",
      "Captioning-Tokens-For-Image:  19%|█▉        | 2224/11514 [00:07<00:16, 573.42it/s]\u001B[A\n",
      "Captioning-Tokens-For-Image:  19%|█▉        | 2227/11514 [00:07<00:15, 585.97it/s]\u001B[A\n",
      "Captioning-Tokens-For-Image:  19%|█▉        | 2229/11514 [00:07<00:15, 585.97it/s]\u001B[A\n",
      "Captioning-Tokens-For-Image:  19%|█▉        | 2229/11514 [00:07<00:15, 585.97it/s]\u001B[A\n",
      "Captioning-Tokens-For-Image:  19%|█▉        | 2230/11514 [00:07<00:15, 585.97it/s]\u001B[A\n",
      "Captioning-Tokens-For-Image:  20%|█▉        | 2298/11514 [00:07<00:15, 598.88it/s]\u001B[A\n",
      "Captioning-Tokens-For-Image:  20%|█▉        | 2300/11514 [00:07<00:15, 613.34it/s]\u001B[A\n",
      "Captioning-Tokens-For-Image:  20%|█▉        | 2300/11514 [00:07<00:15, 613.34it/s]\u001B[A\n",
      "Captioning-Tokens-For-Image:  20%|█▉        | 2301/11514 [00:07<00:15, 613.34it/s]\u001B[A\n",
      "Captioning-Tokens-For-Image:  20%|█▉        | 2302/11514 [00:07<00:15, 613.34it/s]\u001B[A\n",
      "Captioning-Tokens-For-Image:  20%|██        | 2305/11514 [00:07<00:15, 613.34it/s]\u001B[A\n",
      "Captioning-Tokens-For-Image:  21%|██        | 2370/11514 [00:07<00:15, 599.35it/s]\u001B[A\n",
      "Captioning-Tokens-For-Image:  21%|██        | 2379/11514 [00:07<00:15, 591.41it/s]\u001B[A\n",
      "Captioning-Tokens-For-Image:  21%|██        | 2380/11514 [00:07<00:15, 591.41it/s]\u001B[A\n",
      "Captioning-Tokens-For-Image:  21%|██        | 2384/11514 [00:07<00:15, 591.41it/s]\u001B[A\n",
      "Captioning-Tokens-For-Image:  21%|██▏       | 2449/11514 [00:07<00:16, 554.75it/s]\u001B[A\n",
      "Captioning-Tokens-For-Image:  21%|██▏       | 2453/11514 [00:07<00:17, 521.67it/s]\u001B[A\n",
      "Captioning-Tokens-For-Image:  21%|██▏       | 2456/11514 [00:07<00:17, 521.67it/s]\u001B[A\n",
      "Captioning-Tokens-For-Image:  22%|██▏       | 2515/11514 [00:07<00:17, 524.04it/s]\u001B[A\n",
      "Captioning-Tokens-For-Image:  22%|██▏       | 2517/11514 [00:07<00:16, 534.41it/s]\u001B[A\n",
      "Captioning-Tokens-For-Image:  22%|██▏       | 2519/11514 [00:07<00:16, 534.41it/s]\u001B[A\n",
      "Captioning-Tokens-For-Image:  22%|██▏       | 2523/11514 [00:07<00:16, 534.41it/s]\u001B[A\n",
      "Captioning-Tokens-For-Image:  22%|██▏       | 2587/11514 [00:07<00:15, 560.00it/s]\u001B[A\n",
      "Captioning-Tokens-For-Image:  22%|██▏       | 2590/11514 [00:07<00:14, 599.93it/s]\u001B[A\n",
      "Captioning-Tokens-For-Image:  23%|██▎       | 2592/11514 [00:07<00:14, 599.93it/s]\u001B[A\n",
      "Captioning-Tokens-For-Image:  23%|██▎       | 2670/11514 [00:08<00:13, 647.22it/s]\u001B[A\n",
      "Captioning-Tokens-For-Image:  23%|██▎       | 2672/11514 [00:08<00:13, 664.46it/s]\u001B[A\n",
      "Captioning-Tokens-For-Image:  23%|██▎       | 2674/11514 [00:08<00:13, 664.46it/s]\u001B[A\n",
      "Captioning-Tokens-For-Image:  24%|██▍       | 2750/11514 [00:08<00:13, 673.43it/s]\u001B[A\n",
      "Captioning-Tokens-For-Image:  24%|██▍       | 2753/11514 [00:08<00:12, 687.14it/s]\u001B[A\n",
      "Captioning-Tokens-For-Image:  24%|██▍       | 2754/11514 [00:08<00:12, 687.14it/s]\u001B[A\n",
      "Captioning-Tokens-For-Image:  24%|██▍       | 2757/11514 [00:08<00:12, 687.14it/s]\u001B[A\n",
      "Captioning-Tokens-For-Image:  25%|██▍       | 2830/11514 [00:08<00:12, 669.57it/s]\u001B[A\n",
      "Captioning-Tokens-For-Image:  25%|██▍       | 2832/11514 [00:08<00:12, 671.67it/s]\u001B[A\n",
      "Captioning-Tokens-For-Image:  25%|██▍       | 2833/11514 [00:08<00:12, 671.67it/s]\u001B[A\n",
      "Captioning-Tokens-For-Image:  25%|██▍       | 2835/11514 [00:08<00:12, 671.67it/s]\u001B[A\n",
      "Captioning-Tokens-For-Image:  25%|██▌       | 2905/11514 [00:08<00:12, 663.77it/s]\u001B[A\n",
      "Captioning-Tokens-For-Image:  25%|██▌       | 2906/11514 [00:08<00:12, 665.42it/s]\u001B[A\n",
      "Captioning-Tokens-For-Image:  25%|██▌       | 2909/11514 [00:08<00:12, 665.42it/s]\u001B[A\n",
      "Captioning-Tokens-For-Image:  26%|██▌       | 2980/11514 [00:08<00:12, 660.25it/s]\u001B[A\n",
      "Captioning-Tokens-For-Image:  26%|██▌       | 2980/11514 [00:08<00:12, 660.25it/s]\u001B[A\n",
      "Captioning-Tokens-For-Image:  26%|██▌       | 2982/11514 [00:08<00:12, 660.25it/s]\u001B[A\n",
      "Captioning-Tokens-For-Image:  26%|██▌       | 2985/11514 [00:08<00:12, 660.25it/s]\u001B[A\n",
      "Captioning-Tokens-For-Image:  27%|██▋       | 3053/11514 [00:08<00:13, 638.20it/s]\u001B[A\n",
      "Captioning-Tokens-For-Image:  27%|██▋       | 3053/11514 [00:08<00:13, 638.20it/s]\u001B[A\n",
      "Captioning-Tokens-For-Image:  27%|██▋       | 3133/11514 [00:08<00:12, 670.14it/s]\u001B[A\n",
      "Captioning-Tokens-For-Image:  27%|██▋       | 3137/11514 [00:08<00:11, 705.91it/s]\u001B[A\n",
      "Captioning-Tokens-For-Image:  27%|██▋       | 3139/11514 [00:08<00:11, 705.91it/s]\u001B[A\n",
      "Captioning-Tokens-For-Image:  27%|██▋       | 3142/11514 [00:08<00:11, 705.91it/s]\u001B[A\n",
      "Captioning-Tokens-For-Image:  27%|██▋       | 3142/11514 [00:08<00:11, 705.91it/s]\u001B[A\n",
      "Captioning-Tokens-For-Image:  28%|██▊       | 3219/11514 [00:08<00:12, 648.35it/s]\u001B[A\n",
      "Captioning-Tokens-For-Image:  28%|██▊       | 3220/11514 [00:08<00:12, 648.35it/s]\u001B[A\n",
      "Captioning-Tokens-For-Image:  28%|██▊       | 3222/11514 [00:08<00:12, 648.35it/s]\u001B[A\n",
      "Captioning-Tokens-For-Image:  28%|██▊       | 3225/11514 [00:08<00:12, 648.35it/s]\u001B[A\n",
      "Captioning-Tokens-For-Image:  29%|██▊       | 3293/11514 [00:08<00:13, 628.59it/s]\u001B[A\n",
      "Captioning-Tokens-For-Image:  29%|██▊       | 3297/11514 [00:08<00:12, 636.74it/s]\u001B[A\n",
      "Captioning-Tokens-For-Image:  29%|██▊       | 3298/11514 [00:08<00:12, 636.74it/s]\u001B[A\n",
      "Captioning-Tokens-For-Image:  29%|██▊       | 3300/11514 [00:08<00:12, 636.74it/s]\u001B[A\n",
      "Captioning-Tokens-For-Image:  29%|██▊       | 3302/11514 [00:08<00:12, 636.74it/s]\u001B[A\n",
      "Captioning-Tokens-For-Image:  29%|██▊       | 3305/11514 [00:08<00:12, 636.74it/s]\u001B[A\n",
      "Captioning-Tokens-For-Image:  29%|██▉       | 3370/11514 [00:09<00:13, 584.76it/s]\u001B[A\n",
      "Captioning-Tokens-For-Image:  29%|██▉       | 3374/11514 [00:09<00:16, 487.82it/s]\u001B[A\n",
      "Captioning-Tokens-For-Image:  29%|██▉       | 3375/11514 [00:09<00:16, 487.82it/s]\u001B[A\n",
      "Captioning-Tokens-For-Image:  29%|██▉       | 3378/11514 [00:09<00:16, 487.82it/s]\u001B[A\n",
      "Captioning-Tokens-For-Image:  30%|██▉       | 3434/11514 [00:09<00:17, 469.88it/s]\u001B[A\n",
      "Captioning-Tokens-For-Image:  30%|██▉       | 3436/11514 [00:09<00:16, 478.22it/s]\u001B[A\n",
      "Captioning-Tokens-For-Image:  30%|██▉       | 3437/11514 [00:09<00:16, 478.22it/s]\u001B[A\n",
      "Captioning-Tokens-For-Image:  30%|██▉       | 3437/11514 [00:09<00:16, 478.22it/s]\u001B[A\n",
      "Captioning-Tokens-For-Image:  30%|██▉       | 3439/11514 [00:09<00:16, 478.22it/s]\u001B[A\n",
      "Captioning-Tokens-For-Image:  30%|██▉       | 3440/11514 [00:09<00:16, 478.22it/s]\u001B[A\n",
      "Captioning-Tokens-For-Image:  30%|███       | 3500/11514 [00:09<00:15, 507.26it/s]\u001B[A\n",
      "Captioning-Tokens-For-Image:  30%|███       | 3503/11514 [00:09<00:14, 535.59it/s]\u001B[A\n",
      "Captioning-Tokens-For-Image:  30%|███       | 3503/11514 [00:09<00:14, 535.59it/s]\u001B[A\n",
      "Captioning-Tokens-For-Image:  30%|███       | 3504/11514 [00:09<00:14, 535.59it/s]\u001B[A\n",
      "Captioning-Tokens-For-Image:  30%|███       | 3506/11514 [00:09<00:14, 535.59it/s]\u001B[A\n",
      "Captioning-Tokens-For-Image:  30%|███       | 3508/11514 [00:09<00:14, 535.59it/s]\u001B[A\n",
      "Captioning-Tokens-For-Image:  31%|███       | 3571/11514 [00:09<00:14, 544.92it/s]\u001B[A\n",
      "Captioning-Tokens-For-Image:  31%|███       | 3574/11514 [00:09<00:14, 566.71it/s]\u001B[A\n",
      "Captioning-Tokens-For-Image:  31%|███       | 3575/11514 [00:09<00:14, 566.71it/s]\u001B[A\n",
      "Captioning-Tokens-For-Image:  31%|███       | 3577/11514 [00:09<00:14, 566.71it/s]\u001B[A\n",
      "Captioning-Tokens-For-Image:  31%|███       | 3580/11514 [00:09<00:14, 566.71it/s]\u001B[A\n",
      "Captioning-Tokens-For-Image:  32%|███▏      | 3641/11514 [00:09<00:14, 561.27it/s]\u001B[A\n",
      "Captioning-Tokens-For-Image:  32%|███▏      | 3644/11514 [00:09<00:13, 562.20it/s]\u001B[A\n",
      "Captioning-Tokens-For-Image:  32%|███▏      | 3646/11514 [00:09<00:13, 562.20it/s]\u001B[A\n",
      "Captioning-Tokens-For-Image:  32%|███▏      | 3725/11514 [00:09<00:12, 604.73it/s]\u001B[A\n",
      "Captioning-Tokens-For-Image:  32%|███▏      | 3730/11514 [00:09<00:12, 637.25it/s]\u001B[A\n",
      "Captioning-Tokens-For-Image:  33%|███▎      | 3800/11514 [00:09<00:11, 667.64it/s]\u001B[A\n",
      "Captioning-Tokens-For-Image:  33%|███▎      | 3803/11514 [00:09<00:11, 688.00it/s]\u001B[A\n",
      "Captioning-Tokens-For-Image:  33%|███▎      | 3804/11514 [00:09<00:11, 688.00it/s]\u001B[A\n",
      "Captioning-Tokens-For-Image:  33%|███▎      | 3806/11514 [00:09<00:11, 688.00it/s]\u001B[A\n",
      "Captioning-Tokens-For-Image:  33%|███▎      | 3808/11514 [00:09<00:11, 688.00it/s]\u001B[A\n",
      "Captioning-Tokens-For-Image:  34%|███▎      | 3882/11514 [00:09<00:12, 614.57it/s]\u001B[A\n",
      "Captioning-Tokens-For-Image:  34%|███▍      | 3886/11514 [00:09<00:12, 599.68it/s]\u001B[A\n",
      "Captioning-Tokens-For-Image:  34%|███▍      | 3886/11514 [00:09<00:12, 599.68it/s]\u001B[A\n",
      "Captioning-Tokens-For-Image:  34%|███▍      | 3959/11514 [00:09<00:12, 617.67it/s]\u001B[A\n",
      "Captioning-Tokens-For-Image:  34%|███▍      | 3962/11514 [00:09<00:11, 645.40it/s]\u001B[A\n",
      "Captioning-Tokens-For-Image:  34%|███▍      | 3963/11514 [00:09<00:11, 645.40it/s]\u001B[A\n",
      "Captioning-Tokens-For-Image:  34%|███▍      | 3966/11514 [00:09<00:11, 645.40it/s]\u001B[A\n",
      "Captioning-Tokens-For-Image:  34%|███▍      | 3969/11514 [00:09<00:11, 645.40it/s]\u001B[A\n",
      "Captioning-Tokens-For-Image:  35%|███▌      | 4034/11514 [00:10<00:11, 630.19it/s]\u001B[A\n",
      "Captioning-Tokens-For-Image:  35%|███▌      | 4037/11514 [00:10<00:12, 619.33it/s]\u001B[A\n",
      "Captioning-Tokens-For-Image:  35%|███▌      | 4040/11514 [00:10<00:12, 619.33it/s]\u001B[A\n",
      "Captioning-Tokens-For-Image:  36%|███▌      | 4111/11514 [00:10<00:11, 627.94it/s]\u001B[A\n",
      "Captioning-Tokens-For-Image:  36%|███▌      | 4113/11514 [00:10<00:11, 634.30it/s]\u001B[A\n",
      "Captioning-Tokens-For-Image:  36%|███▌      | 4115/11514 [00:10<00:11, 634.30it/s]\u001B[A\n",
      "Captioning-Tokens-For-Image:  36%|███▋      | 4194/11514 [00:10<00:11, 649.70it/s]\u001B[A\n",
      "Captioning-Tokens-For-Image:  36%|███▋      | 4198/11514 [00:10<00:10, 667.80it/s]\u001B[A\n",
      "Captioning-Tokens-For-Image:  36%|███▋      | 4200/11514 [00:10<00:10, 667.80it/s]\u001B[A\n",
      "Captioning-Tokens-For-Image:  36%|███▋      | 4201/11514 [00:10<00:10, 667.80it/s]\u001B[A\n",
      "Captioning-Tokens-For-Image:  37%|███▋      | 4278/11514 [00:10<00:10, 670.37it/s]\u001B[A\n",
      "Captioning-Tokens-For-Image:  37%|███▋      | 4280/11514 [00:10<00:10, 680.82it/s]\u001B[A\n",
      "Captioning-Tokens-For-Image:  37%|███▋      | 4283/11514 [00:10<00:10, 680.82it/s]\u001B[A\n",
      "Captioning-Tokens-For-Image:  38%|███▊      | 4356/11514 [00:10<00:10, 674.10it/s]\u001B[A\n",
      "Captioning-Tokens-For-Image:  38%|███▊      | 4361/11514 [00:10<00:10, 673.44it/s]\u001B[A\n",
      "Captioning-Tokens-For-Image:  38%|███▊      | 4364/11514 [00:10<00:10, 673.44it/s]\u001B[A\n",
      "Captioning-Tokens-For-Image:  38%|███▊      | 4432/11514 [00:10<00:11, 630.99it/s]\u001B[A\n",
      "Captioning-Tokens-For-Image:  39%|███▊      | 4436/11514 [00:10<00:12, 584.22it/s]\u001B[A\n",
      "Captioning-Tokens-For-Image:  39%|███▊      | 4438/11514 [00:10<00:12, 584.22it/s]\u001B[A\n",
      "Captioning-Tokens-For-Image:  39%|███▊      | 4441/11514 [00:10<00:12, 584.22it/s]\u001B[A\n",
      "Captioning-Tokens-For-Image:  39%|███▉      | 4500/11514 [00:10<00:12, 570.55it/s]\u001B[A\n",
      "Captioning-Tokens-For-Image:  39%|███▉      | 4503/11514 [00:10<00:12, 560.35it/s]\u001B[A\n",
      "Captioning-Tokens-For-Image:  39%|███▉      | 4506/11514 [00:10<00:12, 560.35it/s]\u001B[A\n",
      "Captioning-Tokens-For-Image:  40%|███▉      | 4571/11514 [00:10<00:12, 566.24it/s]\u001B[A\n",
      "Captioning-Tokens-For-Image:  40%|███▉      | 4574/11514 [00:10<00:11, 578.45it/s]\u001B[A\n",
      "Captioning-Tokens-For-Image:  40%|███▉      | 4575/11514 [00:10<00:11, 578.45it/s]\u001B[A\n",
      "Captioning-Tokens-For-Image:  40%|███▉      | 4578/11514 [00:10<00:11, 578.45it/s]\u001B[A\n",
      "Captioning-Tokens-For-Image:  40%|████      | 4640/11514 [00:10<00:11, 586.31it/s]\u001B[A\n",
      "Captioning-Tokens-For-Image:  40%|████      | 4642/11514 [00:10<00:11, 600.21it/s]\u001B[A\n",
      "Captioning-Tokens-For-Image:  40%|████      | 4644/11514 [00:10<00:11, 600.21it/s]\u001B[A\n",
      "Captioning-Tokens-For-Image:  40%|████      | 4647/11514 [00:10<00:11, 600.21it/s]\u001B[A\n",
      "Captioning-Tokens-For-Image:  41%|████      | 4721/11514 [00:11<00:10, 621.10it/s]\u001B[A\n",
      "Captioning-Tokens-For-Image:  41%|████      | 4724/11514 [00:11<00:10, 638.16it/s]\u001B[A\n",
      "Captioning-Tokens-For-Image:  42%|████▏     | 4811/11514 [00:11<00:09, 725.59it/s]\u001B[A\n",
      "Captioning-Tokens-For-Image:  42%|████▏     | 4812/11514 [00:11<00:09, 725.59it/s]\u001B[A\n",
      "Captioning-Tokens-For-Image:  42%|████▏     | 4814/11514 [00:11<00:09, 725.59it/s]\u001B[A\n",
      "Captioning-Tokens-For-Image:  42%|████▏     | 4893/11514 [00:11<00:09, 721.96it/s]\u001B[A\n",
      "Captioning-Tokens-For-Image:  43%|████▎     | 4896/11514 [00:11<00:09, 729.54it/s]\u001B[A\n",
      "Captioning-Tokens-For-Image:  43%|████▎     | 4900/11514 [00:11<00:09, 729.54it/s]\u001B[A\n",
      "Captioning-Tokens-For-Image:  43%|████▎     | 4903/11514 [00:11<00:09, 729.54it/s]\u001B[A\n",
      "Captioning-Tokens-For-Image:  43%|████▎     | 4978/11514 [00:11<00:09, 710.88it/s]\u001B[A\n",
      "Captioning-Tokens-For-Image:  43%|████▎     | 4981/11514 [00:11<00:09, 700.58it/s]\u001B[A\n",
      "Captioning-Tokens-For-Image:  44%|████▍     | 5053/11514 [00:11<00:09, 675.25it/s]\u001B[A\n",
      "Captioning-Tokens-For-Image:  44%|████▍     | 5056/11514 [00:11<00:10, 642.68it/s]\u001B[A\n",
      "Captioning-Tokens-For-Image:  44%|████▍     | 5059/11514 [00:11<00:10, 642.68it/s]\u001B[A\n",
      "Captioning-Tokens-For-Image:  44%|████▍     | 5060/11514 [00:11<00:10, 642.68it/s]\u001B[A\n",
      "Captioning-Tokens-For-Image:  45%|████▍     | 5127/11514 [00:11<00:10, 631.23it/s]\u001B[A\n",
      "Captioning-Tokens-For-Image:  45%|████▍     | 5132/11514 [00:11<00:10, 624.44it/s]\u001B[A\n",
      "Captioning-Tokens-For-Image:  45%|████▍     | 5132/11514 [00:11<00:10, 624.44it/s]\u001B[A\n",
      "Captioning-Tokens-For-Image:  45%|████▌     | 5209/11514 [00:11<00:09, 658.15it/s]\u001B[A\n",
      "Captioning-Tokens-For-Image:  45%|████▌     | 5210/11514 [00:11<00:09, 671.82it/s]\u001B[A\n",
      "Captioning-Tokens-For-Image:  45%|████▌     | 5213/11514 [00:11<00:09, 671.82it/s]\u001B[A\n",
      "Captioning-Tokens-For-Image:  46%|████▌     | 5284/11514 [00:11<00:09, 665.04it/s]\u001B[A\n",
      "Captioning-Tokens-For-Image:  46%|████▌     | 5289/11514 [00:11<00:09, 679.75it/s]\u001B[A\n",
      "Captioning-Tokens-For-Image:  46%|████▌     | 5289/11514 [00:11<00:09, 679.75it/s]\u001B[A\n",
      "Captioning-Tokens-For-Image:  46%|████▌     | 5291/11514 [00:11<00:09, 679.75it/s]\u001B[A\n",
      "Captioning-Tokens-For-Image:  46%|████▌     | 5294/11514 [00:11<00:09, 679.75it/s]\u001B[A\n",
      "Captioning-Tokens-For-Image:  46%|████▌     | 5294/11514 [00:11<00:09, 679.75it/s]\u001B[A\n",
      "Captioning-Tokens-For-Image:  47%|████▋     | 5365/11514 [00:11<00:10, 610.09it/s]\u001B[A\n",
      "Captioning-Tokens-For-Image:  47%|████▋     | 5369/11514 [00:11<00:11, 533.32it/s]\u001B[A\n",
      "Captioning-Tokens-For-Image:  47%|████▋     | 5371/11514 [00:12<00:11, 533.32it/s]\u001B[A\n",
      "Captioning-Tokens-For-Image:  47%|████▋     | 5373/11514 [00:12<00:11, 533.32it/s]\u001B[A\n",
      "Captioning-Tokens-For-Image:  47%|████▋     | 5430/11514 [00:12<00:12, 494.71it/s]\u001B[A\n",
      "Captioning-Tokens-For-Image:  47%|████▋     | 5434/11514 [00:12<00:12, 473.77it/s]\u001B[A\n",
      "Captioning-Tokens-For-Image:  47%|████▋     | 5434/11514 [00:12<00:12, 473.77it/s]\u001B[A\n",
      "Captioning-Tokens-For-Image:  47%|████▋     | 5437/11514 [00:12<00:12, 473.77it/s]\u001B[A\n",
      "Captioning-Tokens-For-Image:  47%|████▋     | 5440/11514 [00:12<00:12, 473.77it/s]\u001B[A\n",
      "Captioning-Tokens-For-Image:  48%|████▊     | 5489/11514 [00:12<00:13, 459.75it/s]\u001B[A\n",
      "Captioning-Tokens-For-Image:  48%|████▊     | 5491/11514 [00:12<00:13, 461.08it/s]\u001B[A\n",
      "Captioning-Tokens-For-Image:  48%|████▊     | 5493/11514 [00:12<00:13, 461.08it/s]\u001B[A\n",
      "Captioning-Tokens-For-Image:  48%|████▊     | 5497/11514 [00:12<00:13, 461.08it/s]\u001B[A\n",
      "Captioning-Tokens-For-Image:  48%|████▊     | 5547/11514 [00:12<00:13, 451.73it/s]\u001B[A\n",
      "Captioning-Tokens-For-Image:  48%|████▊     | 5551/11514 [00:12<00:14, 411.99it/s]\u001B[A\n",
      "Captioning-Tokens-For-Image:  48%|████▊     | 5552/11514 [00:12<00:14, 411.99it/s]\u001B[A\n",
      "Captioning-Tokens-For-Image:  48%|████▊     | 5553/11514 [00:12<00:14, 411.99it/s]\u001B[A\n",
      "Captioning-Tokens-For-Image:  49%|████▊     | 5603/11514 [00:12<00:14, 414.39it/s]\u001B[A\n",
      "Captioning-Tokens-For-Image:  49%|████▊     | 5608/11514 [00:12<00:13, 431.44it/s]\u001B[A\n",
      "Captioning-Tokens-For-Image:  49%|████▊     | 5609/11514 [00:12<00:13, 431.44it/s]\u001B[A\n",
      "Captioning-Tokens-For-Image:  49%|████▊     | 5611/11514 [00:12<00:13, 431.44it/s]\u001B[A\n",
      "Captioning-Tokens-For-Image:  49%|████▉     | 5662/11514 [00:12<00:13, 429.65it/s]\u001B[A\n",
      "Captioning-Tokens-For-Image:  49%|████▉     | 5664/11514 [00:12<00:13, 441.72it/s]\u001B[A\n",
      "Captioning-Tokens-For-Image:  49%|████▉     | 5665/11514 [00:12<00:13, 441.72it/s]\u001B[A\n",
      "Captioning-Tokens-For-Image:  49%|████▉     | 5665/11514 [00:12<00:13, 441.72it/s]\u001B[A\n",
      "Captioning-Tokens-For-Image:  49%|████▉     | 5667/11514 [00:12<00:13, 441.72it/s]\u001B[A\n",
      "Captioning-Tokens-For-Image:  49%|████▉     | 5671/11514 [00:12<00:13, 441.72it/s]\u001B[A\n",
      "Captioning-Tokens-For-Image:  50%|████▉     | 5719/11514 [00:12<00:18, 316.61it/s]\u001B[A\n",
      "Captioning-Tokens-For-Image:  50%|████▉     | 5721/11514 [00:12<00:18, 316.61it/s]\u001B[A\n",
      "Captioning-Tokens-For-Image:  50%|█████     | 5761/11514 [00:12<00:17, 323.98it/s]\u001B[A\n",
      "Captioning-Tokens-For-Image:  50%|█████     | 5764/11514 [00:12<00:16, 350.43it/s]\u001B[A\n",
      "Captioning-Tokens-For-Image:  50%|█████     | 5767/11514 [00:12<00:16, 350.43it/s]\u001B[A\n",
      "Captioning-Tokens-For-Image:  50%|█████     | 5771/11514 [00:12<00:16, 350.43it/s]\u001B[A\n",
      "Captioning-Tokens-For-Image:  50%|█████     | 5811/11514 [00:13<00:18, 303.71it/s]\u001B[A\n",
      "Captioning-Tokens-For-Image:  50%|█████     | 5814/11514 [00:13<00:19, 295.24it/s]\u001B[A\n",
      "Captioning-Tokens-For-Image:  50%|█████     | 5814/11514 [00:13<00:19, 295.24it/s]\u001B[A\n",
      "Captioning-Tokens-For-Image:  51%|█████     | 5817/11514 [00:13<00:19, 295.24it/s]\u001B[A\n",
      "Captioning-Tokens-For-Image:  51%|█████     | 5847/11514 [00:13<00:19, 289.73it/s]\u001B[A\n",
      "Captioning-Tokens-For-Image:  51%|█████     | 5849/11514 [00:13<00:20, 277.20it/s]\u001B[A\n",
      "Captioning-Tokens-For-Image:  51%|█████     | 5888/11514 [00:13<00:18, 311.08it/s]\u001B[A\n",
      "Captioning-Tokens-For-Image:  51%|█████     | 5890/11514 [00:13<00:16, 331.86it/s]\u001B[A\n",
      "Captioning-Tokens-For-Image:  51%|█████     | 5892/11514 [00:13<00:16, 331.86it/s]\u001B[A\n",
      "Captioning-Tokens-For-Image:  51%|█████     | 5892/11514 [00:13<00:16, 331.86it/s]\u001B[A\n",
      "Captioning-Tokens-For-Image:  51%|█████     | 5893/11514 [00:13<00:16, 331.86it/s]\u001B[A\n",
      "Captioning-Tokens-For-Image:  52%|█████▏    | 5930/11514 [00:13<00:18, 300.02it/s]\u001B[A\n",
      "Captioning-Tokens-For-Image:  52%|█████▏    | 5933/11514 [00:13<00:20, 273.82it/s]\u001B[A\n",
      "Captioning-Tokens-For-Image:  52%|█████▏    | 5935/11514 [00:13<00:20, 273.82it/s]\u001B[A\n",
      "Captioning-Tokens-For-Image:  52%|█████▏    | 5966/11514 [00:13<00:20, 267.65it/s]\u001B[A\n",
      "Captioning-Tokens-For-Image:  52%|█████▏    | 5968/11514 [00:13<00:21, 260.58it/s]\u001B[A\n",
      "Captioning-Tokens-For-Image:  52%|█████▏    | 5969/11514 [00:13<00:21, 260.58it/s]\u001B[A\n",
      "Captioning-Tokens-For-Image:  52%|█████▏    | 5972/11514 [00:13<00:21, 260.58it/s]\u001B[A\n",
      "Captioning-Tokens-For-Image:  52%|█████▏    | 6000/11514 [00:13<00:21, 256.19it/s]\u001B[A\n",
      "Captioning-Tokens-For-Image:  52%|█████▏    | 6003/11514 [00:13<00:21, 251.56it/s]\u001B[A\n",
      "Captioning-Tokens-For-Image:  52%|█████▏    | 6005/11514 [00:13<00:21, 251.56it/s]\u001B[A\n",
      "Captioning-Tokens-For-Image:  52%|█████▏    | 6007/11514 [00:13<00:21, 251.56it/s]\u001B[A\n",
      "Captioning-Tokens-For-Image:  52%|█████▏    | 6036/11514 [00:13<00:21, 250.22it/s]\u001B[A\n",
      "Captioning-Tokens-For-Image:  52%|█████▏    | 6039/11514 [00:13<00:21, 251.90it/s]\u001B[A\n",
      "Captioning-Tokens-For-Image:  53%|█████▎    | 6072/11514 [00:13<00:19, 274.98it/s]\u001B[A\n",
      "Captioning-Tokens-For-Image:  53%|█████▎    | 6073/11514 [00:13<00:19, 285.61it/s]\u001B[A\n",
      "Captioning-Tokens-For-Image:  53%|█████▎    | 6075/11514 [00:13<00:19, 285.61it/s]\u001B[A\n",
      "Captioning-Tokens-For-Image:  53%|█████▎    | 6107/11514 [00:13<00:19, 273.18it/s]\u001B[A\n",
      "Captioning-Tokens-For-Image:  53%|█████▎    | 6110/11514 [00:13<00:19, 281.98it/s]\u001B[A\n",
      "Captioning-Tokens-For-Image:  53%|█████▎    | 6111/11514 [00:13<00:19, 281.98it/s]\u001B[A\n",
      "Captioning-Tokens-For-Image:  53%|█████▎    | 6112/11514 [00:13<00:19, 281.98it/s]\u001B[A\n",
      "Captioning-Tokens-For-Image:  53%|█████▎    | 6115/11514 [00:13<00:19, 281.98it/s]\u001B[A\n",
      "Captioning-Tokens-For-Image:  53%|█████▎    | 6115/11514 [00:13<00:19, 281.98it/s]\u001B[A\n",
      "Captioning-Tokens-For-Image:  53%|█████▎    | 6147/11514 [00:14<00:21, 248.23it/s]\u001B[A\n",
      "Captioning-Tokens-For-Image:  53%|█████▎    | 6151/11514 [00:14<00:22, 237.24it/s]\u001B[A\n",
      "Captioning-Tokens-For-Image:  53%|█████▎    | 6151/11514 [00:14<00:22, 237.24it/s]\u001B[A\n",
      "Captioning-Tokens-For-Image:  53%|█████▎    | 6152/11514 [00:14<00:22, 237.24it/s]\u001B[A\n",
      "Captioning-Tokens-For-Image:  53%|█████▎    | 6154/11514 [00:14<00:22, 237.24it/s]\u001B[A\n",
      "Captioning-Tokens-For-Image:  53%|█████▎    | 6157/11514 [00:14<00:22, 237.24it/s]\u001B[A\n",
      "Captioning-Tokens-For-Image:  54%|█████▎    | 6184/11514 [00:14<00:24, 217.48it/s]\u001B[A\n",
      "Captioning-Tokens-For-Image:  54%|█████▎    | 6188/11514 [00:14<00:25, 207.49it/s]\u001B[A\n",
      "Captioning-Tokens-For-Image:  54%|█████▎    | 6188/11514 [00:14<00:25, 207.49it/s]\u001B[A\n",
      "Captioning-Tokens-For-Image:  54%|█████▍    | 6191/11514 [00:14<00:25, 207.49it/s]\u001B[A\n",
      "Captioning-Tokens-For-Image:  54%|█████▍    | 6221/11514 [00:14<00:23, 229.38it/s]\u001B[A\n",
      "Captioning-Tokens-For-Image:  54%|█████▍    | 6222/11514 [00:14<00:23, 229.38it/s]\u001B[A\n",
      "Captioning-Tokens-For-Image:  54%|█████▍    | 6223/11514 [00:14<00:23, 229.38it/s]\u001B[A\n",
      "Captioning-Tokens-For-Image:  54%|█████▍    | 6224/11514 [00:14<00:23, 229.38it/s]\u001B[A\n",
      "Captioning-Tokens-For-Image:  54%|█████▍    | 6227/11514 [00:14<00:23, 229.38it/s]\u001B[A\n",
      "Captioning-Tokens-For-Image:  54%|█████▍    | 6253/11514 [00:14<00:24, 217.92it/s]\u001B[A\n",
      "Captioning-Tokens-For-Image:  54%|█████▍    | 6256/11514 [00:14<00:24, 215.17it/s]\u001B[A\n",
      "Captioning-Tokens-For-Image:  54%|█████▍    | 6257/11514 [00:14<00:24, 215.17it/s]\u001B[A\n",
      "Captioning-Tokens-For-Image:  54%|█████▍    | 6261/11514 [00:14<00:24, 215.17it/s]\u001B[A\n",
      "Captioning-Tokens-For-Image:  55%|█████▍    | 6285/11514 [00:14<00:24, 210.65it/s]\u001B[A\n",
      "Captioning-Tokens-For-Image:  55%|█████▍    | 6288/11514 [00:14<00:23, 223.15it/s]\u001B[A\n",
      "Captioning-Tokens-For-Image:  55%|█████▍    | 6290/11514 [00:14<00:23, 223.15it/s]\u001B[A\n",
      "Captioning-Tokens-For-Image:  55%|█████▍    | 6294/11514 [00:14<00:23, 223.15it/s]\u001B[A\n",
      "Captioning-Tokens-For-Image:  55%|█████▍    | 6295/11514 [00:14<00:23, 223.15it/s]\u001B[A\n",
      "Captioning-Tokens-For-Image:  55%|█████▍    | 6328/11514 [00:14<00:20, 255.52it/s]\u001B[A\n",
      "Captioning-Tokens-For-Image:  55%|█████▍    | 6329/11514 [00:14<00:19, 263.88it/s]\u001B[A\n",
      "Captioning-Tokens-For-Image:  55%|█████▍    | 6330/11514 [00:14<00:19, 263.88it/s]\u001B[A\n",
      "Captioning-Tokens-For-Image:  55%|█████▍    | 6330/11514 [00:14<00:19, 263.88it/s]\u001B[A\n",
      "Captioning-Tokens-For-Image:  55%|█████▍    | 6332/11514 [00:14<00:19, 263.88it/s]\u001B[A\n",
      "Captioning-Tokens-For-Image:  55%|█████▌    | 6335/11514 [00:14<00:19, 263.88it/s]\u001B[A\n",
      "Captioning-Tokens-For-Image:  55%|█████▌    | 6366/11514 [00:14<00:23, 223.78it/s]\u001B[A\n",
      "Captioning-Tokens-For-Image:  55%|█████▌    | 6368/11514 [00:14<00:23, 222.72it/s]\u001B[A\n",
      "Captioning-Tokens-For-Image:  55%|█████▌    | 6368/11514 [00:14<00:23, 222.72it/s]\u001B[A\n",
      "Captioning-Tokens-For-Image:  55%|█████▌    | 6369/11514 [00:14<00:23, 222.72it/s]\u001B[A\n",
      "Captioning-Tokens-For-Image:  55%|█████▌    | 6371/11514 [00:14<00:23, 222.72it/s]\u001B[A\n",
      "Captioning-Tokens-For-Image:  56%|█████▌    | 6403/11514 [00:14<00:20, 249.02it/s]\u001B[A\n",
      "Captioning-Tokens-For-Image:  56%|█████▌    | 6406/11514 [00:14<00:17, 283.79it/s]\u001B[A\n",
      "Captioning-Tokens-For-Image:  56%|█████▌    | 6408/11514 [00:14<00:17, 283.79it/s]\u001B[A\n",
      "Captioning-Tokens-For-Image:  56%|█████▌    | 6412/11514 [00:14<00:17, 283.79it/s]\u001B[A\n",
      "Captioning-Tokens-For-Image:  56%|█████▌    | 6414/11514 [00:14<00:17, 283.79it/s]\u001B[A\n",
      "Captioning-Tokens-For-Image:  56%|█████▌    | 6452/11514 [00:15<00:16, 308.36it/s]\u001B[A\n",
      "Captioning-Tokens-For-Image:  56%|█████▌    | 6455/11514 [00:15<00:15, 334.96it/s]\u001B[A\n",
      "Captioning-Tokens-For-Image:  56%|█████▌    | 6455/11514 [00:15<00:15, 334.96it/s]\u001B[A\n",
      "Captioning-Tokens-For-Image:  56%|█████▌    | 6457/11514 [00:15<00:15, 334.96it/s]\u001B[A\n",
      "Captioning-Tokens-For-Image:  56%|█████▌    | 6459/11514 [00:15<00:15, 334.96it/s]\u001B[A\n",
      "Captioning-Tokens-For-Image:  56%|█████▌    | 6460/11514 [00:15<00:15, 334.96it/s]\u001B[A\n",
      "Captioning-Tokens-For-Image:  57%|█████▋    | 6508/11514 [00:15<00:12, 386.50it/s]\u001B[A\n",
      "Captioning-Tokens-For-Image:  57%|█████▋    | 6510/11514 [00:15<00:12, 399.45it/s]\u001B[A\n",
      "Captioning-Tokens-For-Image:  57%|█████▋    | 6511/11514 [00:15<00:12, 399.45it/s]\u001B[A\n",
      "Captioning-Tokens-For-Image:  57%|█████▋    | 6516/11514 [00:15<00:12, 399.45it/s]\u001B[A\n",
      "Captioning-Tokens-For-Image:  57%|█████▋    | 6560/11514 [00:15<00:12, 384.70it/s]\u001B[A\n",
      "Captioning-Tokens-For-Image:  57%|█████▋    | 6563/11514 [00:15<00:12, 391.75it/s]\u001B[A\n",
      "Captioning-Tokens-For-Image:  57%|█████▋    | 6565/11514 [00:15<00:12, 391.75it/s]\u001B[A\n",
      "Captioning-Tokens-For-Image:  57%|█████▋    | 6565/11514 [00:15<00:12, 391.75it/s]\u001B[A\n",
      "Captioning-Tokens-For-Image:  57%|█████▋    | 6568/11514 [00:15<00:12, 391.75it/s]\u001B[A\n",
      "Captioning-Tokens-For-Image:  57%|█████▋    | 6612/11514 [00:15<00:12, 381.21it/s]\u001B[A\n",
      "Captioning-Tokens-For-Image:  57%|█████▋    | 6615/11514 [00:15<00:13, 363.93it/s]\u001B[A\n",
      "Captioning-Tokens-For-Image:  57%|█████▋    | 6617/11514 [00:15<00:13, 363.93it/s]\u001B[A\n",
      "Captioning-Tokens-For-Image:  57%|█████▋    | 6620/11514 [00:15<00:13, 363.93it/s]\u001B[A\n",
      "Captioning-Tokens-For-Image:  57%|█████▋    | 6620/11514 [00:15<00:13, 363.93it/s]\u001B[A\n",
      "Captioning-Tokens-For-Image:  58%|█████▊    | 6664/11514 [00:15<00:13, 370.79it/s]\u001B[A\n",
      "Captioning-Tokens-For-Image:  58%|█████▊    | 6668/11514 [00:15<00:12, 378.44it/s]\u001B[A\n",
      "Captioning-Tokens-For-Image:  58%|█████▊    | 6718/11514 [00:15<00:11, 423.53it/s]\u001B[A\n",
      "Captioning-Tokens-For-Image:  58%|█████▊    | 6720/11514 [00:15<00:10, 443.34it/s]\u001B[A\n",
      "Captioning-Tokens-For-Image:  58%|█████▊    | 6720/11514 [00:15<00:10, 443.34it/s]\u001B[A\n",
      "Captioning-Tokens-For-Image:  58%|█████▊    | 6721/11514 [00:15<00:10, 443.34it/s]\u001B[A\n",
      "Captioning-Tokens-For-Image:  58%|█████▊    | 6722/11514 [00:15<00:10, 443.34it/s]\u001B[A\n",
      "Captioning-Tokens-For-Image:  58%|█████▊    | 6725/11514 [00:15<00:10, 443.34it/s]\u001B[A\n",
      "Captioning-Tokens-For-Image:  59%|█████▉    | 6775/11514 [00:15<00:11, 410.09it/s]\u001B[A\n",
      "Captioning-Tokens-For-Image:  59%|█████▉    | 6777/11514 [00:15<00:13, 358.29it/s]\u001B[A\n",
      "Captioning-Tokens-For-Image:  59%|█████▉    | 6780/11514 [00:15<00:13, 358.29it/s]\u001B[A\n",
      "Captioning-Tokens-For-Image:  59%|█████▉    | 6818/11514 [00:15<00:13, 350.99it/s]\u001B[A\n",
      "Captioning-Tokens-For-Image:  59%|█████▉    | 6822/11514 [00:15<00:14, 322.53it/s]\u001B[A\n",
      "Captioning-Tokens-For-Image:  59%|█████▉    | 6825/11514 [00:15<00:14, 322.53it/s]\u001B[A\n",
      "Captioning-Tokens-For-Image:  59%|█████▉    | 6827/11514 [00:15<00:14, 322.53it/s]\u001B[A\n",
      "Captioning-Tokens-For-Image:  60%|█████▉    | 6865/11514 [00:16<00:16, 279.59it/s]\u001B[A\n",
      "Captioning-Tokens-For-Image:  60%|█████▉    | 6868/11514 [00:16<00:16, 274.94it/s]\u001B[A\n",
      "Captioning-Tokens-For-Image:  60%|█████▉    | 6868/11514 [00:16<00:16, 274.94it/s]\u001B[A\n",
      "Captioning-Tokens-For-Image:  60%|█████▉    | 6872/11514 [00:16<00:16, 274.94it/s]\u001B[A\n",
      "Captioning-Tokens-For-Image:  60%|█████▉    | 6900/11514 [00:16<00:17, 268.93it/s]\u001B[A\n",
      "Captioning-Tokens-For-Image:  60%|█████▉    | 6905/11514 [00:16<00:18, 249.04it/s]\u001B[A\n",
      "Captioning-Tokens-For-Image:  60%|█████▉    | 6905/11514 [00:16<00:18, 249.04it/s]\u001B[A\n",
      "Captioning-Tokens-For-Image:  60%|█████▉    | 6908/11514 [00:16<00:18, 249.04it/s]\u001B[A\n",
      "Captioning-Tokens-For-Image:  60%|██████    | 6936/11514 [00:16<00:18, 246.98it/s]\u001B[A\n",
      "Captioning-Tokens-For-Image:  60%|██████    | 6937/11514 [00:16<00:18, 252.29it/s]\u001B[A\n",
      "Captioning-Tokens-For-Image:  60%|██████    | 6938/11514 [00:16<00:18, 252.29it/s]\u001B[A\n",
      "Captioning-Tokens-For-Image:  60%|██████    | 6940/11514 [00:16<00:18, 252.29it/s]\u001B[A\n",
      "Captioning-Tokens-For-Image:  60%|██████    | 6942/11514 [00:16<00:18, 252.29it/s]\u001B[A\n",
      "Captioning-Tokens-For-Image:  61%|██████    | 6971/11514 [00:16<00:18, 246.87it/s]\u001B[A\n",
      "Captioning-Tokens-For-Image:  61%|██████    | 6974/11514 [00:16<00:18, 246.87it/s]\u001B[A\n",
      "Captioning-Tokens-For-Image:  61%|██████    | 7002/11514 [00:16<00:18, 246.04it/s]\u001B[A\n",
      "Captioning-Tokens-For-Image:  61%|██████    | 7006/11514 [00:16<00:18, 245.83it/s]\u001B[A\n",
      "Captioning-Tokens-For-Image:  61%|██████    | 7007/11514 [00:16<00:18, 245.83it/s]\u001B[A\n",
      "Captioning-Tokens-For-Image:  61%|██████    | 7035/11514 [00:16<00:17, 249.71it/s]\u001B[A\n",
      "Captioning-Tokens-For-Image:  61%|██████    | 7039/11514 [00:16<00:17, 252.54it/s]\u001B[A\n",
      "Captioning-Tokens-For-Image:  61%|██████    | 7040/11514 [00:16<00:17, 252.54it/s]\u001B[A\n",
      "Captioning-Tokens-For-Image:  61%|██████    | 7041/11514 [00:16<00:17, 252.54it/s]\u001B[A\n",
      "Captioning-Tokens-For-Image:  61%|██████▏   | 7071/11514 [00:16<00:18, 244.37it/s]\u001B[A\n",
      "Captioning-Tokens-For-Image:  61%|██████▏   | 7072/11514 [00:16<00:18, 239.63it/s]\u001B[A\n",
      "Captioning-Tokens-For-Image:  61%|██████▏   | 7075/11514 [00:16<00:18, 239.63it/s]\u001B[A\n",
      "Captioning-Tokens-For-Image:  62%|██████▏   | 7105/11514 [00:16<00:16, 267.96it/s]\u001B[A\n",
      "Captioning-Tokens-For-Image:  62%|██████▏   | 7108/11514 [00:16<00:15, 286.86it/s]\u001B[A\n",
      "Captioning-Tokens-For-Image:  62%|██████▏   | 7108/11514 [00:16<00:15, 286.86it/s]\u001B[A\n",
      "Captioning-Tokens-For-Image:  62%|██████▏   | 7109/11514 [00:16<00:15, 286.86it/s]\u001B[A\n",
      "Captioning-Tokens-For-Image:  62%|██████▏   | 7110/11514 [00:16<00:15, 286.86it/s]\u001B[A\n",
      "Captioning-Tokens-For-Image:  62%|██████▏   | 7112/11514 [00:16<00:15, 286.86it/s]\u001B[A\n",
      "Captioning-Tokens-For-Image:  62%|██████▏   | 7143/11514 [00:16<00:16, 267.96it/s]\u001B[A\n",
      "Captioning-Tokens-For-Image:  62%|██████▏   | 7180/11514 [00:17<00:13, 321.97it/s]\u001B[A\n",
      "Captioning-Tokens-For-Image:  62%|██████▏   | 7180/11514 [00:17<00:13, 321.97it/s]\u001B[A\n",
      "Captioning-Tokens-For-Image:  62%|██████▏   | 7182/11514 [00:17<00:13, 321.97it/s]\u001B[A\n",
      "Captioning-Tokens-For-Image:  63%|██████▎   | 7218/11514 [00:17<00:14, 296.89it/s]\u001B[A\n",
      "Captioning-Tokens-For-Image:  63%|██████▎   | 7221/11514 [00:17<00:14, 288.99it/s]\u001B[A\n",
      "Captioning-Tokens-For-Image:  63%|██████▎   | 7223/11514 [00:17<00:14, 288.99it/s]\u001B[A\n",
      "Captioning-Tokens-For-Image:  63%|██████▎   | 7224/11514 [00:17<00:14, 288.99it/s]\u001B[A\n",
      "Captioning-Tokens-For-Image:  63%|██████▎   | 7227/11514 [00:17<00:14, 288.99it/s]\u001B[A\n",
      "Captioning-Tokens-For-Image:  63%|██████▎   | 7260/11514 [00:17<00:17, 248.24it/s]\u001B[A\n",
      "Captioning-Tokens-For-Image:  63%|██████▎   | 7261/11514 [00:17<00:17, 242.48it/s]\u001B[A\n",
      "Captioning-Tokens-For-Image:  63%|██████▎   | 7263/11514 [00:17<00:17, 242.48it/s]\u001B[A\n",
      "Captioning-Tokens-For-Image:  63%|██████▎   | 7265/11514 [00:17<00:17, 242.48it/s]\u001B[A\n",
      "Captioning-Tokens-For-Image:  63%|██████▎   | 7293/11514 [00:17<00:17, 241.63it/s]\u001B[A\n",
      "Captioning-Tokens-For-Image:  63%|██████▎   | 7294/11514 [00:17<00:17, 241.63it/s]\u001B[A\n",
      "Captioning-Tokens-For-Image:  64%|██████▎   | 7329/11514 [00:17<00:16, 261.53it/s]\u001B[A\n",
      "Captioning-Tokens-For-Image:  64%|██████▎   | 7334/11514 [00:17<00:13, 320.09it/s]\u001B[A\n",
      "Captioning-Tokens-For-Image:  64%|██████▎   | 7334/11514 [00:17<00:13, 320.09it/s]\u001B[A\n",
      "Captioning-Tokens-For-Image:  64%|██████▎   | 7339/11514 [00:17<00:13, 320.09it/s]\u001B[A\n",
      "Captioning-Tokens-For-Image:  64%|██████▎   | 7340/11514 [00:17<00:13, 320.09it/s]\u001B[A\n",
      "Captioning-Tokens-For-Image:  64%|██████▍   | 7374/11514 [00:17<00:20, 197.69it/s]\u001B[A\n",
      "Captioning-Tokens-For-Image:  64%|██████▍   | 7379/11514 [00:17<00:34, 118.71it/s]\u001B[A\n",
      "Captioning-Tokens-For-Image:  64%|██████▍   | 7380/11514 [00:17<00:34, 118.71it/s]\u001B[A\n",
      "Captioning-Tokens-For-Image:  64%|██████▍   | 7381/11514 [00:17<00:34, 118.71it/s]\u001B[A\n",
      "Captioning-Tokens-For-Image:  64%|██████▍   | 7382/11514 [00:17<00:34, 118.71it/s]\u001B[A\n",
      "Captioning-Tokens-For-Image:  64%|██████▍   | 7406/11514 [00:18<00:25, 162.21it/s]\u001B[A\n",
      "Captioning-Tokens-For-Image:  64%|██████▍   | 7408/11514 [00:18<00:23, 174.13it/s]\u001B[A\n",
      "Captioning-Tokens-For-Image:  64%|██████▍   | 7408/11514 [00:18<00:23, 174.13it/s]\u001B[A\n",
      "Captioning-Tokens-For-Image:  64%|██████▍   | 7410/11514 [00:18<00:23, 174.13it/s]\u001B[A\n",
      "Captioning-Tokens-For-Image:  64%|██████▍   | 7413/11514 [00:18<00:23, 174.13it/s]\u001B[A\n",
      "Captioning-Tokens-For-Image:  65%|██████▍   | 7436/11514 [00:18<00:22, 182.16it/s]\u001B[A\n",
      "Captioning-Tokens-For-Image:  65%|██████▍   | 7438/11514 [00:18<00:21, 188.59it/s]\u001B[A\n",
      "Captioning-Tokens-For-Image:  65%|██████▍   | 7439/11514 [00:18<00:21, 188.59it/s]\u001B[A\n",
      "Captioning-Tokens-For-Image:  65%|██████▍   | 7440/11514 [00:18<00:21, 188.59it/s]\u001B[A\n",
      "Captioning-Tokens-For-Image:  65%|██████▍   | 7468/11514 [00:18<00:17, 233.49it/s]\u001B[A\n",
      "Captioning-Tokens-For-Image:  65%|██████▍   | 7470/11514 [00:18<00:16, 249.37it/s]\u001B[A\n",
      "Captioning-Tokens-For-Image:  65%|██████▍   | 7471/11514 [00:18<00:16, 249.37it/s]\u001B[A\n",
      "Captioning-Tokens-For-Image:  65%|██████▍   | 7472/11514 [00:18<00:16, 249.37it/s]\u001B[A\n",
      "Captioning-Tokens-For-Image:  65%|██████▍   | 7475/11514 [00:18<00:16, 249.37it/s]\u001B[A\n",
      "Captioning-Tokens-For-Image:  65%|██████▌   | 7502/11514 [00:18<00:16, 246.22it/s]\u001B[A\n",
      "Captioning-Tokens-For-Image:  65%|██████▌   | 7505/11514 [00:18<00:16, 246.22it/s]\u001B[A\n",
      "Captioning-Tokens-For-Image:  65%|██████▌   | 7535/11514 [00:18<00:15, 255.85it/s]\u001B[A\n",
      "Captioning-Tokens-For-Image:  65%|██████▌   | 7538/11514 [00:18<00:14, 278.78it/s]\u001B[A\n",
      "Captioning-Tokens-For-Image:  65%|██████▌   | 7539/11514 [00:18<00:14, 278.78it/s]\u001B[A\n",
      "Captioning-Tokens-For-Image:  65%|██████▌   | 7540/11514 [00:18<00:14, 278.78it/s]\u001B[A\n",
      "Captioning-Tokens-For-Image:  66%|██████▌   | 7542/11514 [00:18<00:14, 278.78it/s]\u001B[A\n",
      "Captioning-Tokens-For-Image:  66%|██████▌   | 7573/11514 [00:18<00:15, 251.06it/s]\u001B[A\n",
      "Captioning-Tokens-For-Image:  66%|██████▌   | 7576/11514 [00:18<00:16, 238.39it/s]\u001B[A\n",
      "Captioning-Tokens-For-Image:  66%|██████▌   | 7578/11514 [00:18<00:16, 238.39it/s]\u001B[A\n",
      "Captioning-Tokens-For-Image:  66%|██████▌   | 7580/11514 [00:18<00:16, 238.39it/s]\u001B[A\n",
      "Captioning-Tokens-For-Image:  66%|██████▌   | 7605/11514 [00:18<00:16, 236.89it/s]\u001B[A\n",
      "Captioning-Tokens-For-Image:  66%|██████▌   | 7607/11514 [00:18<00:16, 233.54it/s]\u001B[A\n",
      "Captioning-Tokens-For-Image:  66%|██████▌   | 7611/11514 [00:18<00:16, 233.54it/s]\u001B[A\n",
      "Captioning-Tokens-For-Image:  66%|██████▋   | 7636/11514 [00:18<00:17, 226.78it/s]\u001B[A\n",
      "Captioning-Tokens-For-Image:  66%|██████▋   | 7638/11514 [00:18<00:17, 217.94it/s]\u001B[A\n",
      "Captioning-Tokens-For-Image:  66%|██████▋   | 7642/11514 [00:18<00:17, 217.94it/s]\u001B[A\n",
      "Captioning-Tokens-For-Image:  67%|██████▋   | 7667/11514 [00:18<00:16, 226.80it/s]\u001B[A\n",
      "Captioning-Tokens-For-Image:  67%|██████▋   | 7670/11514 [00:18<00:16, 229.64it/s]\u001B[A\n",
      "Captioning-Tokens-For-Image:  67%|██████▋   | 7674/11514 [00:18<00:16, 229.64it/s]\u001B[A\n",
      "Captioning-Tokens-For-Image:  67%|██████▋   | 7701/11514 [00:19<00:17, 223.70it/s]\u001B[A\n",
      "Captioning-Tokens-For-Image:  67%|██████▋   | 7703/11514 [00:19<00:17, 223.40it/s]\u001B[A\n",
      "Captioning-Tokens-For-Image:  67%|██████▋   | 7707/11514 [00:19<00:17, 223.40it/s]\u001B[A\n",
      "Captioning-Tokens-For-Image:  67%|██████▋   | 7708/11514 [00:19<00:17, 223.40it/s]\u001B[A\n",
      "Captioning-Tokens-For-Image:  67%|██████▋   | 7735/11514 [00:19<00:16, 224.13it/s]\u001B[A\n",
      "Captioning-Tokens-For-Image:  67%|██████▋   | 7737/11514 [00:19<00:16, 225.33it/s]\u001B[A\n",
      "Captioning-Tokens-For-Image:  67%|██████▋   | 7739/11514 [00:19<00:16, 225.33it/s]\u001B[A\n",
      "Captioning-Tokens-For-Image:  67%|██████▋   | 7741/11514 [00:19<00:16, 225.33it/s]\u001B[A\n",
      "Captioning-Tokens-For-Image:  67%|██████▋   | 7769/11514 [00:19<00:16, 220.37it/s]\u001B[A\n",
      "Captioning-Tokens-For-Image:  67%|██████▋   | 7771/11514 [00:19<00:16, 222.68it/s]\u001B[A\n",
      "Captioning-Tokens-For-Image:  68%|██████▊   | 7772/11514 [00:19<00:16, 222.68it/s]\u001B[A\n",
      "Captioning-Tokens-For-Image:  68%|██████▊   | 7772/11514 [00:19<00:16, 222.68it/s]\u001B[A\n",
      "Captioning-Tokens-For-Image:  68%|██████▊   | 7775/11514 [00:19<00:16, 222.68it/s]\u001B[A\n",
      "Captioning-Tokens-For-Image:  68%|██████▊   | 7777/11514 [00:19<00:16, 222.68it/s]\u001B[A\n",
      "Captioning-Tokens-For-Image:  68%|██████▊   | 7802/11514 [00:19<00:18, 204.99it/s]\u001B[A\n",
      "Captioning-Tokens-For-Image:  68%|██████▊   | 7807/11514 [00:19<00:20, 183.35it/s]\u001B[A\n",
      "Captioning-Tokens-For-Image:  68%|██████▊   | 7807/11514 [00:19<00:20, 183.35it/s]\u001B[A\n",
      "Captioning-Tokens-For-Image:  68%|██████▊   | 7810/11514 [00:19<00:20, 183.35it/s]\u001B[A\n",
      "Captioning-Tokens-For-Image:  68%|██████▊   | 7834/11514 [00:19<00:18, 196.32it/s]\u001B[A\n",
      "Captioning-Tokens-For-Image:  68%|██████▊   | 7837/11514 [00:19<00:16, 217.52it/s]\u001B[A\n",
      "Captioning-Tokens-For-Image:  68%|██████▊   | 7839/11514 [00:19<00:16, 217.52it/s]\u001B[A\n",
      "Captioning-Tokens-For-Image:  68%|██████▊   | 7865/11514 [00:19<00:16, 220.30it/s]\u001B[A\n",
      "Captioning-Tokens-For-Image:  68%|██████▊   | 7868/11514 [00:19<00:16, 221.22it/s]\u001B[A\n",
      "Captioning-Tokens-For-Image:  68%|██████▊   | 7871/11514 [00:19<00:16, 221.22it/s]\u001B[A\n",
      "Captioning-Tokens-For-Image:  69%|██████▊   | 7899/11514 [00:19<00:15, 238.30it/s]\u001B[A\n",
      "Captioning-Tokens-For-Image:  69%|██████▊   | 7902/11514 [00:19<00:14, 248.30it/s]\u001B[A\n",
      "Captioning-Tokens-For-Image:  69%|██████▊   | 7903/11514 [00:19<00:14, 248.30it/s]\u001B[A\n",
      "Captioning-Tokens-For-Image:  69%|██████▊   | 7905/11514 [00:19<00:14, 248.30it/s]\u001B[A\n",
      "Captioning-Tokens-For-Image:  69%|██████▊   | 7906/11514 [00:19<00:14, 248.30it/s]\u001B[A\n",
      "Captioning-Tokens-For-Image:  69%|██████▊   | 7908/11514 [00:19<00:14, 248.30it/s]\u001B[A\n",
      "Captioning-Tokens-For-Image:  69%|██████▉   | 7936/11514 [00:19<00:16, 218.24it/s]\u001B[A\n",
      "Captioning-Tokens-For-Image:  69%|██████▉   | 7939/11514 [00:19<00:16, 218.24it/s]\u001B[A\n",
      "Captioning-Tokens-For-Image:  69%|██████▉   | 7970/11514 [00:20<00:13, 258.89it/s]\u001B[A\n",
      "Captioning-Tokens-For-Image:  69%|██████▉   | 7970/11514 [00:20<00:13, 258.89it/s]\u001B[A\n",
      "Captioning-Tokens-For-Image:  69%|██████▉   | 7972/11514 [00:20<00:13, 258.89it/s]\u001B[A\n",
      "Captioning-Tokens-For-Image:  69%|██████▉   | 7975/11514 [00:20<00:13, 258.89it/s]\u001B[A\n",
      "Captioning-Tokens-For-Image:  70%|██████▉   | 8004/11514 [00:20<00:14, 248.75it/s]\u001B[A\n",
      "Captioning-Tokens-For-Image:  70%|██████▉   | 8008/11514 [00:20<00:14, 238.31it/s]\u001B[A\n",
      "Captioning-Tokens-For-Image:  70%|██████▉   | 8043/11514 [00:20<00:12, 289.01it/s]\u001B[A\n",
      "Captioning-Tokens-For-Image:  70%|██████▉   | 8044/11514 [00:20<00:11, 299.49it/s]\u001B[A\n",
      "Captioning-Tokens-For-Image:  70%|██████▉   | 8045/11514 [00:20<00:11, 299.49it/s]\u001B[A\n",
      "Captioning-Tokens-For-Image:  70%|██████▉   | 8047/11514 [00:20<00:11, 299.49it/s]\u001B[A\n",
      "Captioning-Tokens-For-Image:  70%|███████   | 8083/11514 [00:20<00:12, 285.48it/s]\u001B[A\n",
      "Captioning-Tokens-For-Image:  70%|███████   | 8087/11514 [00:20<00:12, 282.90it/s]\u001B[A\n",
      "Captioning-Tokens-For-Image:  70%|███████   | 8088/11514 [00:20<00:12, 282.90it/s]\u001B[A\n",
      "Captioning-Tokens-For-Image:  70%|███████   | 8090/11514 [00:20<00:12, 282.90it/s]\u001B[A\n",
      "Captioning-Tokens-For-Image:  70%|███████   | 8092/11514 [00:20<00:12, 282.90it/s]\u001B[A\n",
      "Captioning-Tokens-For-Image:  70%|███████   | 8097/11514 [00:20<00:12, 282.90it/s]\u001B[A\n",
      "Captioning-Tokens-For-Image:  71%|███████   | 8128/11514 [00:20<00:14, 241.21it/s]\u001B[A\n",
      "Captioning-Tokens-For-Image:  71%|███████   | 8130/11514 [00:20<00:14, 231.93it/s]\u001B[A\n",
      "Captioning-Tokens-For-Image:  71%|███████   | 8132/11514 [00:20<00:14, 231.93it/s]\u001B[A\n",
      "Captioning-Tokens-For-Image:  71%|███████   | 8166/11514 [00:20<00:11, 280.33it/s]\u001B[A\n",
      "Captioning-Tokens-For-Image:  71%|███████   | 8169/11514 [00:20<00:11, 301.85it/s]\u001B[A\n",
      "Captioning-Tokens-For-Image:  71%|███████   | 8170/11514 [00:20<00:11, 301.85it/s]\u001B[A\n",
      "Captioning-Tokens-For-Image:  71%|███████   | 8171/11514 [00:20<00:11, 301.85it/s]\u001B[A\n",
      "Captioning-Tokens-For-Image:  71%|███████   | 8173/11514 [00:20<00:11, 301.85it/s]\u001B[A\n",
      "Captioning-Tokens-For-Image:  71%|███████▏  | 8208/11514 [00:20<00:13, 252.09it/s]\u001B[A\n",
      "Captioning-Tokens-For-Image:  71%|███████▏  | 8211/11514 [00:20<00:13, 245.54it/s]\u001B[A\n",
      "Captioning-Tokens-For-Image:  71%|███████▏  | 8213/11514 [00:20<00:13, 245.54it/s]\u001B[A\n",
      "Captioning-Tokens-For-Image:  71%|███████▏  | 8214/11514 [00:20<00:13, 245.54it/s]\u001B[A\n",
      "Captioning-Tokens-For-Image:  71%|███████▏  | 8215/11514 [00:20<00:13, 245.54it/s]\u001B[A\n",
      "Captioning-Tokens-For-Image:  72%|███████▏  | 8241/11514 [00:20<00:14, 228.12it/s]\u001B[A\n",
      "Captioning-Tokens-For-Image:  72%|███████▏  | 8244/11514 [00:20<00:16, 199.41it/s]\u001B[A\n",
      "Captioning-Tokens-For-Image:  72%|███████▏  | 8256/11514 [00:20<00:16, 199.41it/s]\u001B[A\n",
      "Captioning-Tokens-For-Image:  72%|███████▏  | 8259/11514 [00:20<00:16, 199.41it/s]\u001B[A\n",
      "Captioning-Tokens-For-Image:  72%|███████▏  | 8282/11514 [00:21<00:17, 180.82it/s]\u001B[A\n",
      "Captioning-Tokens-For-Image:  72%|███████▏  | 8284/11514 [00:21<00:17, 180.82it/s]\u001B[A\n",
      "Captioning-Tokens-For-Image:  72%|███████▏  | 8311/11514 [00:21<00:15, 210.61it/s]\u001B[A\n",
      "Captioning-Tokens-For-Image:  72%|███████▏  | 8313/11514 [00:21<00:14, 216.95it/s]\u001B[A\n",
      "Captioning-Tokens-For-Image:  72%|███████▏  | 8315/11514 [00:21<00:14, 216.95it/s]\u001B[A\n",
      "Captioning-Tokens-For-Image:  72%|███████▏  | 8315/11514 [00:21<00:14, 216.95it/s]\u001B[A\n",
      "Captioning-Tokens-For-Image:  72%|███████▏  | 8319/11514 [00:21<00:14, 216.95it/s]\u001B[A\n",
      "Captioning-Tokens-For-Image:  72%|███████▏  | 8346/11514 [00:21<00:16, 194.34it/s]\u001B[A\n",
      "Captioning-Tokens-For-Image:  73%|███████▎  | 8348/11514 [00:21<00:16, 192.78it/s]\u001B[A\n",
      "Captioning-Tokens-For-Image:  73%|███████▎  | 8349/11514 [00:21<00:16, 192.78it/s]\u001B[A\n",
      "Captioning-Tokens-For-Image:  73%|███████▎  | 8350/11514 [00:21<00:16, 192.78it/s]\u001B[A\n",
      "Captioning-Tokens-For-Image:  73%|███████▎  | 8377/11514 [00:21<00:14, 211.58it/s]\u001B[A\n",
      "Captioning-Tokens-For-Image:  73%|███████▎  | 8380/11514 [00:21<00:14, 219.36it/s]\u001B[A\n",
      "Captioning-Tokens-For-Image:  73%|███████▎  | 8381/11514 [00:21<00:14, 219.36it/s]\u001B[A\n",
      "Captioning-Tokens-For-Image:  73%|███████▎  | 8414/11514 [00:21<00:12, 258.11it/s]\u001B[A\n",
      "Captioning-Tokens-For-Image:  73%|███████▎  | 8417/11514 [00:21<00:11, 271.78it/s]\u001B[A\n",
      "Captioning-Tokens-For-Image:  73%|███████▎  | 8419/11514 [00:21<00:11, 271.78it/s]\u001B[A\n",
      "Captioning-Tokens-For-Image:  73%|███████▎  | 8420/11514 [00:21<00:11, 271.78it/s]\u001B[A\n",
      "Captioning-Tokens-For-Image:  73%|███████▎  | 8422/11514 [00:21<00:11, 271.78it/s]\u001B[A\n",
      "Captioning-Tokens-For-Image:  73%|███████▎  | 8454/11514 [00:21<00:11, 275.92it/s]\u001B[A\n",
      "Captioning-Tokens-For-Image:  73%|███████▎  | 8456/11514 [00:21<00:10, 283.47it/s]\u001B[A\n",
      "Captioning-Tokens-For-Image:  73%|███████▎  | 8457/11514 [00:21<00:10, 283.47it/s]\u001B[A\n",
      "Captioning-Tokens-For-Image:  73%|███████▎  | 8458/11514 [00:21<00:10, 283.47it/s]\u001B[A\n",
      "Captioning-Tokens-For-Image:  73%|███████▎  | 8459/11514 [00:21<00:10, 283.47it/s]\u001B[A\n",
      "Captioning-Tokens-For-Image:  73%|███████▎  | 8462/11514 [00:21<00:10, 283.47it/s]\u001B[A\n",
      "Captioning-Tokens-For-Image:  74%|███████▎  | 8491/11514 [00:21<00:11, 270.92it/s]\u001B[A\n",
      "Captioning-Tokens-For-Image:  74%|███████▍  | 8494/11514 [00:21<00:11, 255.42it/s]\u001B[A\n",
      "Captioning-Tokens-For-Image:  74%|███████▍  | 8497/11514 [00:21<00:11, 255.42it/s]\u001B[A\n",
      "Captioning-Tokens-For-Image:  74%|███████▍  | 8528/11514 [00:21<00:11, 264.52it/s]\u001B[A\n",
      "Captioning-Tokens-For-Image:  74%|███████▍  | 8533/11514 [00:21<00:10, 275.38it/s]\u001B[A\n",
      "Captioning-Tokens-For-Image:  74%|███████▍  | 8537/11514 [00:21<00:10, 275.38it/s]\u001B[A\n",
      "Captioning-Tokens-For-Image:  74%|███████▍  | 8573/11514 [00:21<00:09, 299.81it/s]\u001B[A\n",
      "Captioning-Tokens-For-Image:  74%|███████▍  | 8575/11514 [00:22<00:09, 310.11it/s]\u001B[A\n",
      "Captioning-Tokens-For-Image:  74%|███████▍  | 8576/11514 [00:22<00:09, 310.11it/s]\u001B[A\n",
      "Captioning-Tokens-For-Image:  74%|███████▍  | 8576/11514 [00:22<00:09, 310.11it/s]\u001B[A\n",
      "Captioning-Tokens-For-Image:  75%|███████▍  | 8578/11514 [00:22<00:09, 310.11it/s]\u001B[A\n",
      "Captioning-Tokens-For-Image:  75%|███████▍  | 8581/11514 [00:22<00:09, 310.11it/s]\u001B[A\n",
      "Captioning-Tokens-For-Image:  75%|███████▍  | 8616/11514 [00:22<00:09, 301.06it/s]\u001B[A\n",
      "Captioning-Tokens-For-Image:  75%|███████▍  | 8618/11514 [00:22<00:09, 301.06it/s]\u001B[A\n",
      "Captioning-Tokens-For-Image:  75%|███████▍  | 8619/11514 [00:22<00:09, 301.06it/s]\u001B[A\n",
      "Captioning-Tokens-For-Image:  75%|███████▌  | 8655/11514 [00:22<00:08, 318.56it/s]\u001B[A\n",
      "Captioning-Tokens-For-Image:  75%|███████▌  | 8659/11514 [00:22<00:08, 318.56it/s]\u001B[A\n",
      "Captioning-Tokens-For-Image:  75%|███████▌  | 8692/11514 [00:22<00:08, 320.01it/s]\u001B[A\n",
      "Captioning-Tokens-For-Image:  76%|███████▌  | 8697/11514 [00:22<00:08, 319.30it/s]\u001B[A\n",
      "Captioning-Tokens-For-Image:  76%|███████▌  | 8697/11514 [00:22<00:08, 319.30it/s]\u001B[A\n",
      "Captioning-Tokens-For-Image:  76%|███████▌  | 8700/11514 [00:22<00:08, 319.30it/s]\u001B[A\n",
      "Captioning-Tokens-For-Image:  76%|███████▌  | 8735/11514 [00:22<00:09, 280.60it/s]\u001B[A\n",
      "Captioning-Tokens-For-Image:  76%|███████▌  | 8738/11514 [00:22<00:10, 264.51it/s]\u001B[A\n",
      "Captioning-Tokens-For-Image:  76%|███████▌  | 8739/11514 [00:22<00:10, 264.51it/s]\u001B[A\n",
      "Captioning-Tokens-For-Image:  76%|███████▌  | 8743/11514 [00:22<00:10, 264.51it/s]\u001B[A\n",
      "Captioning-Tokens-For-Image:  76%|███████▌  | 8771/11514 [00:22<00:10, 261.88it/s]\u001B[A\n",
      "Captioning-Tokens-For-Image:  76%|███████▌  | 8772/11514 [00:22<00:10, 261.03it/s]\u001B[A\n",
      "Captioning-Tokens-For-Image:  76%|███████▌  | 8775/11514 [00:22<00:10, 261.03it/s]\u001B[A\n",
      "Captioning-Tokens-For-Image:  77%|███████▋  | 8823/11514 [00:22<00:06, 407.72it/s]\u001B[A\n",
      "Captioning-Tokens-For-Image:  77%|███████▋  | 8825/11514 [00:22<00:06, 438.09it/s]\u001B[A\n",
      "Captioning-Tokens-For-Image:  77%|███████▋  | 8825/11514 [00:22<00:06, 438.09it/s]\u001B[A\n",
      "Captioning-Tokens-For-Image:  77%|███████▋  | 8826/11514 [00:22<00:06, 438.09it/s]\u001B[A\n",
      "Captioning-Tokens-For-Image:  77%|███████▋  | 8830/11514 [00:22<00:06, 438.09it/s]\u001B[A\n",
      "Captioning-Tokens-For-Image:  77%|███████▋  | 8833/11514 [00:22<00:06, 438.09it/s]\u001B[A\n",
      "Captioning-Tokens-For-Image:  77%|███████▋  | 8879/11514 [00:22<00:06, 418.59it/s]\u001B[A\n",
      "Captioning-Tokens-For-Image:  77%|███████▋  | 8882/11514 [00:22<00:06, 406.26it/s]\u001B[A\n",
      "Captioning-Tokens-For-Image:  78%|███████▊  | 8938/11514 [00:22<00:05, 497.24it/s]\u001B[A\n",
      "Captioning-Tokens-For-Image:  78%|███████▊  | 8939/11514 [00:22<00:05, 505.16it/s]\u001B[A\n",
      "Captioning-Tokens-For-Image:  78%|███████▊  | 8940/11514 [00:22<00:05, 505.16it/s]\u001B[A\n",
      "Captioning-Tokens-For-Image:  78%|███████▊  | 8940/11514 [00:22<00:05, 505.16it/s]\u001B[A\n",
      "Captioning-Tokens-For-Image:  78%|███████▊  | 8943/11514 [00:22<00:05, 505.16it/s]\u001B[A\n",
      "Captioning-Tokens-For-Image:  78%|███████▊  | 8944/11514 [00:22<00:05, 505.16it/s]\u001B[A\n",
      "Captioning-Tokens-For-Image:  78%|███████▊  | 9000/11514 [00:23<00:05, 439.48it/s]\u001B[A\n",
      "Captioning-Tokens-For-Image:  78%|███████▊  | 9002/11514 [00:23<00:06, 413.87it/s]\u001B[A\n",
      "Captioning-Tokens-For-Image:  78%|███████▊  | 9004/11514 [00:23<00:06, 413.87it/s]\u001B[A\n",
      "Captioning-Tokens-For-Image:  78%|███████▊  | 9005/11514 [00:23<00:06, 413.87it/s]\u001B[A\n",
      "Captioning-Tokens-For-Image:  79%|███████▊  | 9052/11514 [00:23<00:05, 427.94it/s]\u001B[A\n",
      "Captioning-Tokens-For-Image:  79%|███████▊  | 9056/11514 [00:23<00:05, 444.98it/s]\u001B[A\n",
      "Captioning-Tokens-For-Image:  79%|███████▊  | 9057/11514 [00:23<00:05, 444.98it/s]\u001B[A\n",
      "Captioning-Tokens-For-Image:  79%|███████▊  | 9060/11514 [00:23<00:05, 444.98it/s]\u001B[A\n",
      "Captioning-Tokens-For-Image:  79%|███████▉  | 9108/11514 [00:23<00:05, 450.66it/s]\u001B[A\n",
      "Captioning-Tokens-For-Image:  79%|███████▉  | 9110/11514 [00:23<00:05, 451.31it/s]\u001B[A\n",
      "Captioning-Tokens-For-Image:  80%|███████▉  | 9159/11514 [00:23<00:05, 455.31it/s]\u001B[A\n",
      "Captioning-Tokens-For-Image:  80%|███████▉  | 9163/11514 [00:23<00:05, 468.21it/s]\u001B[A\n",
      "Captioning-Tokens-For-Image:  80%|███████▉  | 9165/11514 [00:23<00:05, 468.21it/s]\u001B[A\n",
      "Captioning-Tokens-For-Image:  80%|███████▉  | 9166/11514 [00:23<00:05, 468.21it/s]\u001B[A\n",
      "Captioning-Tokens-For-Image:  80%|███████▉  | 9169/11514 [00:23<00:05, 468.21it/s]\u001B[A\n",
      "Captioning-Tokens-For-Image:  80%|████████  | 9218/11514 [00:23<00:05, 450.60it/s]\u001B[A\n",
      "Captioning-Tokens-For-Image:  80%|████████  | 9221/11514 [00:23<00:05, 446.19it/s]\u001B[A\n",
      "Captioning-Tokens-For-Image:  80%|████████  | 9222/11514 [00:23<00:05, 446.19it/s]\u001B[A\n",
      "Captioning-Tokens-For-Image:  80%|████████  | 9225/11514 [00:23<00:05, 446.19it/s]\u001B[A\n",
      "Captioning-Tokens-For-Image:  80%|████████  | 9228/11514 [00:23<00:05, 446.19it/s]\u001B[A\n",
      "Captioning-Tokens-For-Image:  81%|████████  | 9277/11514 [00:23<00:05, 445.99it/s]\u001B[A\n",
      "Captioning-Tokens-For-Image:  81%|████████  | 9280/11514 [00:23<00:04, 450.38it/s]\u001B[A\n",
      "Captioning-Tokens-For-Image:  81%|████████  | 9281/11514 [00:23<00:04, 450.38it/s]\u001B[A\n",
      "Captioning-Tokens-For-Image:  81%|████████  | 9282/11514 [00:23<00:04, 450.38it/s]\u001B[A\n",
      "Captioning-Tokens-For-Image:  81%|████████  | 9283/11514 [00:23<00:04, 450.38it/s]\u001B[A\n",
      "Captioning-Tokens-For-Image:  81%|████████  | 9284/11514 [00:23<00:04, 450.38it/s]\u001B[A\n",
      "Captioning-Tokens-For-Image:  81%|████████  | 9335/11514 [00:23<00:05, 419.94it/s]\u001B[A\n",
      "Captioning-Tokens-For-Image:  81%|████████  | 9337/11514 [00:23<00:05, 416.77it/s]\u001B[A\n",
      "Captioning-Tokens-For-Image:  81%|████████  | 9337/11514 [00:23<00:05, 416.77it/s]\u001B[A\n",
      "Captioning-Tokens-For-Image:  81%|████████  | 9341/11514 [00:23<00:05, 416.77it/s]\u001B[A\n",
      "Captioning-Tokens-For-Image:  81%|████████  | 9341/11514 [00:23<00:05, 416.77it/s]\u001B[A\n",
      "Captioning-Tokens-For-Image:  82%|████████▏ | 9387/11514 [00:23<00:05, 423.34it/s]\u001B[A\n",
      "Captioning-Tokens-For-Image:  82%|████████▏ | 9391/11514 [00:23<00:04, 429.86it/s]\u001B[A\n",
      "Captioning-Tokens-For-Image:  82%|████████▏ | 9392/11514 [00:23<00:04, 429.86it/s]\u001B[A\n",
      "Captioning-Tokens-For-Image:  82%|████████▏ | 9393/11514 [00:23<00:04, 429.86it/s]\u001B[A\n",
      "Captioning-Tokens-For-Image:  82%|████████▏ | 9396/11514 [00:23<00:04, 429.86it/s]\u001B[A\n",
      "Captioning-Tokens-For-Image:  82%|████████▏ | 9440/11514 [00:23<00:04, 419.71it/s]\u001B[A\n",
      "Captioning-Tokens-For-Image:  82%|████████▏ | 9443/11514 [00:23<00:05, 412.02it/s]\u001B[A\n",
      "Captioning-Tokens-For-Image:  82%|████████▏ | 9497/11514 [00:24<00:04, 440.85it/s]\u001B[A\n",
      "Captioning-Tokens-For-Image:  83%|████████▎ | 9561/11514 [00:24<00:03, 533.45it/s]\u001B[A\n",
      "Captioning-Tokens-For-Image:  83%|████████▎ | 9565/11514 [00:24<00:03, 587.59it/s]\u001B[A\n",
      "Captioning-Tokens-For-Image:  83%|████████▎ | 9567/11514 [00:24<00:03, 587.59it/s]\u001B[A\n",
      "Captioning-Tokens-For-Image:  83%|████████▎ | 9567/11514 [00:24<00:03, 587.59it/s]\u001B[A\n",
      "Captioning-Tokens-For-Image:  83%|████████▎ | 9569/11514 [00:24<00:03, 587.59it/s]\u001B[A\n",
      "Captioning-Tokens-For-Image:  84%|████████▎ | 9630/11514 [00:24<00:03, 544.57it/s]\u001B[A\n",
      "Captioning-Tokens-For-Image:  84%|████████▎ | 9632/11514 [00:24<00:03, 500.57it/s]\u001B[A\n",
      "Captioning-Tokens-For-Image:  84%|████████▎ | 9633/11514 [00:24<00:03, 500.57it/s]\u001B[A\n",
      "Captioning-Tokens-For-Image:  84%|████████▍ | 9690/11514 [00:24<00:03, 485.32it/s]\u001B[A\n",
      "Captioning-Tokens-For-Image:  84%|████████▍ | 9691/11514 [00:24<00:03, 485.32it/s]\u001B[A\n",
      "Captioning-Tokens-For-Image:  84%|████████▍ | 9692/11514 [00:24<00:03, 485.32it/s]\u001B[A\n",
      "Captioning-Tokens-For-Image:  84%|████████▍ | 9693/11514 [00:24<00:03, 485.32it/s]\u001B[A\n",
      "Captioning-Tokens-For-Image:  85%|████████▍ | 9746/11514 [00:24<00:03, 473.18it/s]\u001B[A\n",
      "Captioning-Tokens-For-Image:  85%|████████▍ | 9748/11514 [00:24<00:03, 467.77it/s]\u001B[A\n",
      "Captioning-Tokens-For-Image:  85%|████████▍ | 9750/11514 [00:24<00:03, 467.77it/s]\u001B[A\n",
      "Captioning-Tokens-For-Image:  85%|████████▌ | 9800/11514 [00:24<00:03, 445.43it/s]\u001B[A\n",
      "Captioning-Tokens-For-Image:  85%|████████▌ | 9804/11514 [00:24<00:03, 432.19it/s]\u001B[A\n",
      "Captioning-Tokens-For-Image:  85%|████████▌ | 9804/11514 [00:24<00:03, 432.19it/s]\u001B[A\n",
      "Captioning-Tokens-For-Image:  85%|████████▌ | 9806/11514 [00:24<00:03, 432.19it/s]\u001B[A\n",
      "Captioning-Tokens-For-Image:  85%|████████▌ | 9809/11514 [00:24<00:03, 432.19it/s]\u001B[A\n",
      "Captioning-Tokens-For-Image:  86%|████████▌ | 9857/11514 [00:24<00:04, 412.05it/s]\u001B[A\n",
      "Captioning-Tokens-For-Image:  86%|████████▌ | 9859/11514 [00:24<00:04, 409.78it/s]\u001B[A\n",
      "Captioning-Tokens-For-Image:  86%|████████▌ | 9860/11514 [00:24<00:04, 409.78it/s]\u001B[A\n",
      "Captioning-Tokens-For-Image:  86%|████████▌ | 9862/11514 [00:24<00:04, 409.78it/s]\u001B[A\n",
      "Captioning-Tokens-For-Image:  86%|████████▌ | 9863/11514 [00:24<00:04, 409.78it/s]\u001B[A\n",
      "Captioning-Tokens-For-Image:  86%|████████▌ | 9865/11514 [00:24<00:04, 409.78it/s]\u001B[A\n",
      "Captioning-Tokens-For-Image:  86%|████████▌ | 9909/11514 [00:24<00:04, 379.95it/s]\u001B[A\n",
      "Captioning-Tokens-For-Image:  86%|████████▌ | 9911/11514 [00:24<00:04, 374.66it/s]\u001B[A\n",
      "Captioning-Tokens-For-Image:  86%|████████▌ | 9912/11514 [00:24<00:04, 374.66it/s]\u001B[A\n",
      "Captioning-Tokens-For-Image:  86%|████████▌ | 9914/11514 [00:24<00:04, 374.66it/s]\u001B[A\n",
      "Captioning-Tokens-For-Image:  86%|████████▌ | 9918/11514 [00:24<00:04, 374.66it/s]\u001B[A\n",
      "Captioning-Tokens-For-Image:  87%|████████▋ | 9960/11514 [00:24<00:04, 367.29it/s]\u001B[A\n",
      "Captioning-Tokens-For-Image:  87%|████████▋ | 9963/11514 [00:24<00:04, 361.69it/s]\u001B[A\n",
      "Captioning-Tokens-For-Image:  87%|████████▋ | 10031/11514 [00:25<00:02, 542.27it/s]\u001B[A\n",
      "Captioning-Tokens-For-Image:  87%|████████▋ | 10034/11514 [00:25<00:02, 595.10it/s]\u001B[A\n",
      "Captioning-Tokens-For-Image:  87%|████████▋ | 10034/11514 [00:25<00:02, 595.10it/s]\u001B[A\n",
      "Captioning-Tokens-For-Image:  87%|████████▋ | 10036/11514 [00:25<00:02, 595.10it/s]\u001B[A\n",
      "Captioning-Tokens-For-Image:  87%|████████▋ | 10038/11514 [00:25<00:02, 595.10it/s]\u001B[A\n",
      "Captioning-Tokens-For-Image:  88%|████████▊ | 10101/11514 [00:25<00:02, 570.29it/s]\u001B[A\n",
      "Captioning-Tokens-For-Image:  88%|████████▊ | 10105/11514 [00:25<00:02, 538.44it/s]\u001B[A\n",
      "Captioning-Tokens-For-Image:  88%|████████▊ | 10107/11514 [00:25<00:02, 538.44it/s]\u001B[A\n",
      "Captioning-Tokens-For-Image:  88%|████████▊ | 10170/11514 [00:25<00:02, 573.04it/s]\u001B[A\n",
      "Captioning-Tokens-For-Image:  88%|████████▊ | 10173/11514 [00:25<00:02, 585.01it/s]\u001B[A\n",
      "Captioning-Tokens-For-Image:  88%|████████▊ | 10173/11514 [00:25<00:02, 585.01it/s]\u001B[A\n",
      "Captioning-Tokens-For-Image:  88%|████████▊ | 10175/11514 [00:25<00:02, 585.01it/s]\u001B[A\n",
      "Captioning-Tokens-For-Image:  88%|████████▊ | 10177/11514 [00:25<00:02, 585.01it/s]\u001B[A\n",
      "Captioning-Tokens-For-Image:  89%|████████▉ | 10239/11514 [00:25<00:02, 498.63it/s]\u001B[A\n",
      "Captioning-Tokens-For-Image:  89%|████████▉ | 10242/11514 [00:25<00:02, 476.99it/s]\u001B[A\n",
      "Captioning-Tokens-For-Image:  89%|████████▉ | 10242/11514 [00:25<00:02, 476.99it/s]\u001B[A\n",
      "Captioning-Tokens-For-Image:  89%|████████▉ | 10242/11514 [00:25<00:02, 476.99it/s]\u001B[A\n",
      "Captioning-Tokens-For-Image:  89%|████████▉ | 10244/11514 [00:25<00:02, 476.99it/s]\u001B[A\n",
      "Captioning-Tokens-For-Image:  89%|████████▉ | 10246/11514 [00:25<00:02, 476.99it/s]\u001B[A\n",
      "Captioning-Tokens-For-Image:  89%|████████▉ | 10298/11514 [00:25<00:02, 479.31it/s]\u001B[A\n",
      "Captioning-Tokens-For-Image:  89%|████████▉ | 10301/11514 [00:25<00:02, 481.23it/s]\u001B[A\n",
      "Captioning-Tokens-For-Image:  89%|████████▉ | 10301/11514 [00:25<00:02, 481.23it/s]\u001B[A\n",
      "Captioning-Tokens-For-Image:  89%|████████▉ | 10303/11514 [00:25<00:02, 481.23it/s]\u001B[A\n",
      "Captioning-Tokens-For-Image:  90%|████████▉ | 10356/11514 [00:25<00:02, 489.07it/s]\u001B[A\n",
      "Captioning-Tokens-For-Image:  90%|████████▉ | 10360/11514 [00:25<00:02, 491.26it/s]\u001B[A\n",
      "Captioning-Tokens-For-Image:  90%|████████▉ | 10360/11514 [00:25<00:02, 491.26it/s]\u001B[A\n",
      "Captioning-Tokens-For-Image:  90%|████████▉ | 10362/11514 [00:25<00:02, 491.26it/s]\u001B[A\n",
      "Captioning-Tokens-For-Image:  90%|█████████ | 10365/11514 [00:25<00:02, 491.26it/s]\u001B[A\n",
      "Captioning-Tokens-For-Image:  90%|█████████ | 10419/11514 [00:25<00:02, 472.43it/s]\u001B[A\n",
      "Captioning-Tokens-For-Image:  91%|█████████ | 10422/11514 [00:25<00:02, 446.81it/s]\u001B[A\n",
      "Captioning-Tokens-For-Image:  91%|█████████ | 10424/11514 [00:25<00:02, 446.81it/s]\u001B[A\n",
      "Captioning-Tokens-For-Image:  91%|█████████ | 10427/11514 [00:25<00:02, 446.81it/s]\u001B[A\n",
      "Captioning-Tokens-For-Image:  91%|█████████ | 10475/11514 [00:25<00:02, 436.24it/s]\u001B[A\n",
      "Captioning-Tokens-For-Image:  91%|█████████ | 10478/11514 [00:25<00:02, 437.85it/s]\u001B[A\n",
      "Captioning-Tokens-For-Image:  91%|█████████ | 10478/11514 [00:25<00:02, 437.85it/s]\u001B[A\n",
      "Captioning-Tokens-For-Image:  91%|█████████ | 10479/11514 [00:25<00:02, 437.85it/s]\u001B[A\n",
      "Captioning-Tokens-For-Image:  91%|█████████ | 10482/11514 [00:25<00:02, 437.85it/s]\u001B[A\n",
      "Captioning-Tokens-For-Image:  91%|█████████ | 10483/11514 [00:25<00:02, 437.85it/s]\u001B[A\n",
      "Captioning-Tokens-For-Image:  91%|█████████▏| 10528/11514 [00:26<00:02, 412.36it/s]\u001B[A\n",
      "Captioning-Tokens-For-Image:  91%|█████████▏| 10529/11514 [00:26<00:02, 403.29it/s]\u001B[A\n",
      "Captioning-Tokens-For-Image:  91%|█████████▏| 10532/11514 [00:26<00:02, 403.29it/s]\u001B[A\n",
      "Captioning-Tokens-For-Image:  92%|█████████▏| 10575/11514 [00:26<00:02, 389.29it/s]\u001B[A\n",
      "Captioning-Tokens-For-Image:  92%|█████████▏| 10579/11514 [00:26<00:02, 364.52it/s]\u001B[A\n",
      "Captioning-Tokens-For-Image:  92%|█████████▏| 10579/11514 [00:26<00:02, 364.52it/s]\u001B[A\n",
      "Captioning-Tokens-For-Image:  92%|█████████▏| 10582/11514 [00:26<00:02, 364.52it/s]\u001B[A\n",
      "Captioning-Tokens-For-Image:  92%|█████████▏| 10625/11514 [00:26<00:02, 380.98it/s]\u001B[A\n",
      "Captioning-Tokens-For-Image:  92%|█████████▏| 10629/11514 [00:26<00:02, 389.12it/s]\u001B[A\n",
      "Captioning-Tokens-For-Image:  92%|█████████▏| 10630/11514 [00:26<00:02, 389.12it/s]\u001B[A\n",
      "Captioning-Tokens-For-Image:  92%|█████████▏| 10632/11514 [00:26<00:02, 389.12it/s]\u001B[A\n",
      "Captioning-Tokens-For-Image:  93%|█████████▎| 10673/11514 [00:26<00:02, 372.73it/s]\u001B[A\n",
      "Captioning-Tokens-For-Image:  93%|█████████▎| 10676/11514 [00:26<00:02, 358.49it/s]\u001B[A\n",
      "Captioning-Tokens-For-Image:  93%|█████████▎| 10719/11514 [00:26<00:02, 369.57it/s]\u001B[A\n",
      "Captioning-Tokens-For-Image:  93%|█████████▎| 10722/11514 [00:26<00:02, 371.22it/s]\u001B[A\n",
      "Captioning-Tokens-For-Image:  93%|█████████▎| 10724/11514 [00:26<00:02, 371.22it/s]\u001B[A\n",
      "Captioning-Tokens-For-Image:  93%|█████████▎| 10725/11514 [00:26<00:02, 371.22it/s]\u001B[A\n",
      "Captioning-Tokens-For-Image:  93%|█████████▎| 10764/11514 [00:26<00:02, 303.10it/s]\u001B[A\n",
      "Captioning-Tokens-For-Image:  93%|█████████▎| 10765/11514 [00:26<00:02, 286.72it/s]\u001B[A\n",
      "Captioning-Tokens-For-Image:  94%|█████████▎| 10767/11514 [00:26<00:02, 286.72it/s]\u001B[A\n",
      "Captioning-Tokens-For-Image:  94%|█████████▍| 10800/11514 [00:26<00:02, 272.99it/s]\u001B[A\n",
      "Captioning-Tokens-For-Image:  94%|█████████▍| 10802/11514 [00:26<00:02, 272.99it/s]\u001B[A\n",
      "Captioning-Tokens-For-Image:  94%|█████████▍| 10833/11514 [00:26<00:02, 276.55it/s]\u001B[A\n",
      "Captioning-Tokens-For-Image:  94%|█████████▍| 10837/11514 [00:26<00:02, 283.38it/s]\u001B[A\n",
      "Captioning-Tokens-For-Image:  94%|█████████▍| 10838/11514 [00:26<00:02, 283.38it/s]\u001B[A\n",
      "Captioning-Tokens-For-Image:  94%|█████████▍| 10841/11514 [00:26<00:02, 283.38it/s]\u001B[A\n",
      "Captioning-Tokens-For-Image:  94%|█████████▍| 10876/11514 [00:26<00:02, 298.39it/s]\u001B[A\n",
      "Captioning-Tokens-For-Image:  94%|█████████▍| 10879/11514 [00:26<00:02, 308.09it/s]\u001B[A\n",
      "Captioning-Tokens-For-Image:  95%|█████████▍| 10881/11514 [00:27<00:02, 308.09it/s]\u001B[A\n",
      "Captioning-Tokens-For-Image:  95%|█████████▍| 10882/11514 [00:27<00:02, 308.09it/s]\u001B[A\n",
      "Captioning-Tokens-For-Image:  95%|█████████▍| 10915/11514 [00:27<00:01, 301.32it/s]\u001B[A\n",
      "Captioning-Tokens-For-Image:  95%|█████████▍| 10917/11514 [00:27<00:02, 295.97it/s]\u001B[A\n",
      "Captioning-Tokens-For-Image:  95%|█████████▍| 10919/11514 [00:27<00:02, 295.97it/s]\u001B[A\n",
      "Captioning-Tokens-For-Image:  95%|█████████▍| 10924/11514 [00:27<00:01, 295.97it/s]\u001B[A\n",
      "Captioning-Tokens-For-Image:  95%|█████████▌| 10957/11514 [00:27<00:01, 293.69it/s]\u001B[A\n",
      "Captioning-Tokens-For-Image:  95%|█████████▌| 10959/11514 [00:27<00:01, 294.30it/s]\u001B[A\n",
      "Captioning-Tokens-For-Image:  95%|█████████▌| 10960/11514 [00:27<00:01, 294.30it/s]\u001B[A\n",
      "Captioning-Tokens-For-Image:  95%|█████████▌| 10962/11514 [00:27<00:01, 294.30it/s]\u001B[A\n",
      "Captioning-Tokens-For-Image:  95%|█████████▌| 10966/11514 [00:27<00:01, 294.30it/s]\u001B[A\n",
      "Captioning-Tokens-For-Image:  96%|█████████▌| 10997/11514 [00:27<00:01, 284.03it/s]\u001B[A\n",
      "Captioning-Tokens-For-Image:  96%|█████████▌| 11001/11514 [00:27<00:01, 271.68it/s]\u001B[A\n",
      "Captioning-Tokens-For-Image:  96%|█████████▌| 11001/11514 [00:27<00:01, 271.68it/s]\u001B[A\n",
      "Captioning-Tokens-For-Image:  96%|█████████▌| 11049/11514 [00:27<00:01, 382.25it/s]\u001B[A\n",
      "Captioning-Tokens-For-Image:  96%|█████████▌| 11051/11514 [00:27<00:01, 393.66it/s]\u001B[A\n",
      "Captioning-Tokens-For-Image:  96%|█████████▌| 11051/11514 [00:27<00:01, 393.66it/s]\u001B[A\n",
      "Captioning-Tokens-For-Image:  96%|█████████▌| 11054/11514 [00:27<00:01, 393.66it/s]\u001B[A\n",
      "Captioning-Tokens-For-Image:  96%|█████████▌| 11056/11514 [00:27<00:01, 393.66it/s]\u001B[A\n",
      "Captioning-Tokens-For-Image:  96%|█████████▋| 11098/11514 [00:27<00:01, 357.38it/s]\u001B[A\n",
      "Captioning-Tokens-For-Image:  96%|█████████▋| 11102/11514 [00:27<00:01, 305.42it/s]\u001B[A\n",
      "Captioning-Tokens-For-Image:  96%|█████████▋| 11104/11514 [00:27<00:01, 305.42it/s]\u001B[A\n",
      "Captioning-Tokens-For-Image:  96%|█████████▋| 11105/11514 [00:27<00:01, 305.42it/s]\u001B[A\n",
      "Captioning-Tokens-For-Image:  96%|█████████▋| 11106/11514 [00:27<00:01, 305.42it/s]\u001B[A\n",
      "Captioning-Tokens-For-Image:  97%|█████████▋| 11142/11514 [00:27<00:01, 283.13it/s]\u001B[A\n",
      "Captioning-Tokens-For-Image:  97%|█████████▋| 11144/11514 [00:27<00:01, 279.82it/s]\u001B[A\n",
      "Captioning-Tokens-For-Image:  97%|█████████▋| 11145/11514 [00:27<00:01, 279.82it/s]\u001B[A\n",
      "Captioning-Tokens-For-Image:  97%|█████████▋| 11146/11514 [00:27<00:01, 279.82it/s]\u001B[A\n",
      "Captioning-Tokens-For-Image:  97%|█████████▋| 11178/11514 [00:27<00:01, 272.00it/s]\u001B[A\n",
      "Captioning-Tokens-For-Image:  97%|█████████▋| 11179/11514 [00:27<00:01, 272.00it/s]\u001B[A\n",
      "Captioning-Tokens-For-Image:  97%|█████████▋| 11213/11514 [00:27<00:01, 284.71it/s]\u001B[A\n",
      "Captioning-Tokens-For-Image:  97%|█████████▋| 11216/11514 [00:27<00:01, 292.67it/s]\u001B[A\n",
      "Captioning-Tokens-For-Image:  97%|█████████▋| 11217/11514 [00:27<00:01, 292.67it/s]\u001B[A\n",
      "Captioning-Tokens-For-Image:  97%|█████████▋| 11217/11514 [00:27<00:01, 292.67it/s]\u001B[A\n",
      "Captioning-Tokens-For-Image:  97%|█████████▋| 11219/11514 [00:27<00:01, 292.67it/s]\u001B[A\n",
      "Captioning-Tokens-For-Image:  97%|█████████▋| 11221/11514 [00:27<00:01, 292.67it/s]\u001B[A\n",
      "Captioning-Tokens-For-Image:  98%|█████████▊| 11255/11514 [00:28<00:01, 257.85it/s]\u001B[A\n",
      "Captioning-Tokens-For-Image:  98%|█████████▊| 11257/11514 [00:28<00:00, 257.85it/s]\u001B[A\n",
      "Captioning-Tokens-For-Image:  98%|█████████▊| 11290/11514 [00:28<00:00, 260.62it/s]\u001B[A\n",
      "Captioning-Tokens-For-Image:  98%|█████████▊| 11292/11514 [00:28<00:00, 264.57it/s]\u001B[A\n",
      "Captioning-Tokens-For-Image:  98%|█████████▊| 11292/11514 [00:28<00:00, 264.57it/s]\u001B[A\n",
      "Captioning-Tokens-For-Image:  98%|█████████▊| 11294/11514 [00:28<00:00, 264.57it/s]\u001B[A\n",
      "Captioning-Tokens-For-Image:  98%|█████████▊| 11295/11514 [00:28<00:00, 264.57it/s]\u001B[A\n",
      "Captioning-Tokens-For-Image:  98%|█████████▊| 11298/11514 [00:28<00:00, 264.57it/s]\u001B[A\n",
      "Captioning-Tokens-For-Image:  98%|█████████▊| 11329/11514 [00:28<00:00, 244.85it/s]\u001B[A\n",
      "Captioning-Tokens-For-Image:  98%|█████████▊| 11333/11514 [00:28<00:00, 224.20it/s]\u001B[A\n",
      "Captioning-Tokens-For-Image:  98%|█████████▊| 11335/11514 [00:28<00:00, 224.20it/s]\u001B[A\n",
      "Captioning-Tokens-For-Image:  99%|█████████▊| 11364/11514 [00:28<00:00, 242.77it/s]\u001B[A\n",
      "Captioning-Tokens-For-Image:  99%|█████████▊| 11368/11514 [00:28<00:00, 253.43it/s]\u001B[A\n",
      "Captioning-Tokens-For-Image:  99%|█████████▊| 11369/11514 [00:28<00:00, 253.43it/s]\u001B[A\n",
      "Captioning-Tokens-For-Image:  99%|█████████▉| 11371/11514 [00:28<00:00, 253.43it/s]\u001B[A\n",
      "Captioning-Tokens-For-Image:  99%|█████████▉| 11401/11514 [00:28<00:00, 246.78it/s]\u001B[A\n",
      "Captioning-Tokens-For-Image:  99%|█████████▉| 11404/11514 [00:28<00:00, 244.33it/s]\u001B[A\n",
      "Captioning-Tokens-For-Image:  99%|█████████▉| 11404/11514 [00:28<00:00, 244.33it/s]\u001B[A\n",
      "Captioning-Tokens-For-Image:  99%|█████████▉| 11406/11514 [00:28<00:00, 244.33it/s]\u001B[A\n",
      "Captioning-Tokens-For-Image:  99%|█████████▉| 11407/11514 [00:28<00:00, 244.33it/s]\u001B[A\n",
      "Captioning-Tokens-For-Image:  99%|█████████▉| 11433/11514 [00:28<00:00, 237.57it/s]\u001B[A\n",
      "Captioning-Tokens-For-Image: 100%|█████████▉| 11472/11514 [00:28<00:00, 317.85it/s]\u001B[A\n",
      "Captioning-Tokens-For-Image: 100%|█████████▉| 11472/11514 [00:28<00:00, 317.85it/s]\u001B[A\n",
      "Captioning-Tokens-For-Image: 100%|█████████▉| 11473/11514 [00:28<00:00, 317.85it/s]\u001B[A\n",
      "Captioning-Tokens-For-Image: 100%|█████████▉| 11513/11514 [00:28<00:00, 331.70it/s]\u001B[A"
     ]
    }
   ],
   "source": [
    "progress = InnerProgressBar(len(temp), \"Captioning-Tokens-For-Image\")\n",
    "display(f\"Total Images: {progress.total}\")\n",
    "temp['new_column'] = ddf.apply(lambda x: create_tokens(x), axis=1, meta=('str', object)).compute()"
   ],
   "metadata": {
    "collapsed": false
   }
  },
  {
   "cell_type": "code",
   "execution_count": 23,
   "outputs": [
    {
     "data": {
      "text/plain": "'=== Before Drop ==='"
     },
     "metadata": {},
     "output_type": "display_data"
    },
    {
     "data": {
      "text/plain": "                subreddit          file_name  \\\n0                CityPorn  4emw5uldib9a1.jpg   \n3                AmIhotAF  4xyb1vgbjb9a1.jpg   \n4               greentext  3mewbe0wjb9a1.jpg   \n5               spaceporn  7s5aafaqkb9a1.jpg   \n7               spaceporn  abojw7lqlb9a1.jpg   \n...                   ...                ...   \n16077           spaceporn  abwhhq0w8b9a1.jpg   \n16078           spaceporn  7hzipg1bab9a1.jpg   \n16079           greentext        bgho6WK.jpg   \n16081  trippinthroughtime        arCpzQ0.jpg   \n16084     HotGirlNextDoor  p6yewrl7eb9a1.jpg   \n\n                                                    text  \\\n0                                    New York in the fog   \n3                         Just looking for entertainment   \n4                                    Anon wants Elon cut   \n5                          Northern Lights above Lofoten   \n7                                          Viking Lights   \n...                                                  ...   \n16077           Polaris to Cassiopeia on a cloudy night.   \n16078  The hunt for habitable ocean worlds beyond our...   \n16079                        Anon does a little trolling   \n16081         He didn't shed light on the topic I guess.   \n16084                                             (IKTR)   \n\n                                          thumbnail_path  \\\n0      D:\\data\\images\\CityPorn\\thumbnail\\4emw5uldib9a...   \n3      D:\\data\\images\\AmIhotAF\\thumbnail\\4xyb1vgbjb9a...   \n4      D:\\data\\images\\greentext\\thumbnail\\3mewbe0wjb9...   \n5      D:\\data\\images\\spaceporn\\thumbnail\\7s5aafaqkb9...   \n7      D:\\data\\images\\spaceporn\\thumbnail\\abojw7lqlb9...   \n...                                                  ...   \n16077  D:\\data\\images\\spaceporn\\thumbnail\\abwhhq0w8b9...   \n16078  D:\\data\\images\\spaceporn\\thumbnail\\7hzipg1bab9...   \n16079     D:\\data\\images\\greentext\\thumbnail\\bgho6WK.jpg   \n16081  D:\\data\\images\\trippinthroughtime\\thumbnail\\ar...   \n16084  D:\\data\\images\\HotGirlNextDoor\\thumbnail\\p6yew...   \n\n                                       thumbnail_caption  thumbnail_exists  \\\n0      \"cars|NNS\",\"are|VBP\",\"parked|VBN\",\"on|IN\",\"the...              True   \n3      \"blonde|NNS\",\"woman|NN\",\"with|IN\",\"hair|NN\",\"a...              True   \n4      \"man|NN\",\"with|IN\",\"beard|NN\",\"and|CC\",\"sittin...              True   \n5      \"view|NN\",\"of|IN\",\"large|JJ\",\"green|JJ\",\"and|C...              True   \n7      \"scene|NN\",\"of|IN\",\"boat|NN\",\"is|VBZ\",\"sitting...              True   \n...                                                  ...               ...   \n16077  \"starrdust|NN\",\"sky|NN\",\"with|IN\",\"few|JJ\",\"st...              True   \n16078  \"picture|NN\",\"taken|VBN\",\"from|IN\",\"the|DT\",\"e...              True   \n16079  \"screenshote|NN\",\"of|IN\",\"text|JJ\",\"message|NN...              True   \n16081  \"man|NN\",\"in|IN\",\"red|JJ\",\"dress|NN\",\"and|CC\",...              True   \n16084  \"blonde|NN\",\"woman|NN\",\"in|IN\",\"black|JJ\",\"bik...              True   \n\n                                         original_image  \\\n0             D:\\data\\images\\CityPorn\\4emw5uldib9a1.jpg   \n3             D:\\data\\images\\AmIhotAF\\4xyb1vgbjb9a1.jpg   \n4            D:\\data\\images\\greentext\\3mewbe0wjb9a1.jpg   \n5            D:\\data\\images\\spaceporn\\7s5aafaqkb9a1.jpg   \n7            D:\\data\\images\\spaceporn\\abojw7lqlb9a1.jpg   \n...                                                 ...   \n16077        D:\\data\\images\\spaceporn\\abwhhq0w8b9a1.jpg   \n16078        D:\\data\\images\\spaceporn\\7hzipg1bab9a1.jpg   \n16079              D:\\data\\images\\greentext\\bgho6WK.jpg   \n16081     D:\\data\\images\\trippinthroughtime\\arCpzQ0.jpg   \n16084  D:\\data\\images\\HotGirlNextDoor\\p6yewrl7eb9a1.jpg   \n\n       original_image_exists                              hash       id  \\\n0                       True  7a8d96e378c15c8ab8440ac311f12c11  1000cej   \n3                       True  e554c1ed7ffa2740436ac082068b2824  1000glf   \n4                       True  1dec3dabb5e46cde01855d06089c287a  1000j1n   \n5                       True  2c39ce1290fba541abd0b004b09da6b2  1000mjs   \n7                       True  0f72de47c69ff50eca5fa3990215f4ac  1000qpd   \n...                      ...                               ...      ...   \n16077                   True  f5973637fc56360c15818ba0ca1f7ffa   zzz6dp   \n16078                   True  5b22bea7582229c1f9b992176a2ca2c6   zzzcn5   \n16079                   True  df666b8b2ad543c77b3fdba89becda1a   zzzeoi   \n16081                   True  5007b937974ae333022c0c91b795ca09   zzzlbf   \n16084                   True  94dea288ddffb51eb1a786d469b59374   zzzu28   \n\n                                        original_caption  \\\n0      cars are parked on the side of the road in the...   \n3      blonde woman with blonde hair and tattoos on h...   \n4      a man with a beard and a beard sitting in fron...   \n5      a view of a view of a large green and purple a...   \n7      a scene of a boat is sitting on the shore of a...   \n...                                                  ...   \n16077     starrdust sky with a few stars and a few stars   \n16078  a picture taken from the earth's surface of th...   \n16079  a screenshote of a text message from a man who...   \n16081    a man in a red dress and a woman in a red dress   \n16084  blonde woman in black bikini top and black bik...   \n\n                                              new_column  \n0      [(cars, NNS), (are, VBP), (parked, VBN), (on, ...  \n3      [(blonde, NNS), (woman, NN), (with, IN), (hair...  \n4      [(man, NN), (with, IN), (beard, NN), (and, CC)...  \n5      [(view, NN), (of, IN), (large, JJ), (green, JJ...  \n7      [(scene, NN), (of, IN), (boat, NN), (is, VBZ),...  \n...                                                  ...  \n16077  [(starrdust, NN), (sky, NN), (with, IN), (few,...  \n16078  [(picture, NN), (taken, VBN), (from, IN), (the...  \n16079  [(screenshote, NN), (of, IN), (text, JJ), (mes...  \n16081  [(man, NN), (in, IN), (red, JJ), (dress, NN), ...  \n16084  [(blonde, NN), (woman, NN), (in, IN), (black, ...  \n\n[11514 rows x 12 columns]",
      "text/html": "<div>\n<style scoped>\n    .dataframe tbody tr th:only-of-type {\n        vertical-align: middle;\n    }\n\n    .dataframe tbody tr th {\n        vertical-align: top;\n    }\n\n    .dataframe thead th {\n        text-align: right;\n    }\n</style>\n<table border=\"1\" class=\"dataframe\">\n  <thead>\n    <tr style=\"text-align: right;\">\n      <th></th>\n      <th>subreddit</th>\n      <th>file_name</th>\n      <th>text</th>\n      <th>thumbnail_path</th>\n      <th>thumbnail_caption</th>\n      <th>thumbnail_exists</th>\n      <th>original_image</th>\n      <th>original_image_exists</th>\n      <th>hash</th>\n      <th>id</th>\n      <th>original_caption</th>\n      <th>new_column</th>\n    </tr>\n  </thead>\n  <tbody>\n    <tr>\n      <th>0</th>\n      <td>CityPorn</td>\n      <td>4emw5uldib9a1.jpg</td>\n      <td>New York in the fog</td>\n      <td>D:\\data\\images\\CityPorn\\thumbnail\\4emw5uldib9a...</td>\n      <td>\"cars|NNS\",\"are|VBP\",\"parked|VBN\",\"on|IN\",\"the...</td>\n      <td>True</td>\n      <td>D:\\data\\images\\CityPorn\\4emw5uldib9a1.jpg</td>\n      <td>True</td>\n      <td>7a8d96e378c15c8ab8440ac311f12c11</td>\n      <td>1000cej</td>\n      <td>cars are parked on the side of the road in the...</td>\n      <td>[(cars, NNS), (are, VBP), (parked, VBN), (on, ...</td>\n    </tr>\n    <tr>\n      <th>3</th>\n      <td>AmIhotAF</td>\n      <td>4xyb1vgbjb9a1.jpg</td>\n      <td>Just looking for entertainment</td>\n      <td>D:\\data\\images\\AmIhotAF\\thumbnail\\4xyb1vgbjb9a...</td>\n      <td>\"blonde|NNS\",\"woman|NN\",\"with|IN\",\"hair|NN\",\"a...</td>\n      <td>True</td>\n      <td>D:\\data\\images\\AmIhotAF\\4xyb1vgbjb9a1.jpg</td>\n      <td>True</td>\n      <td>e554c1ed7ffa2740436ac082068b2824</td>\n      <td>1000glf</td>\n      <td>blonde woman with blonde hair and tattoos on h...</td>\n      <td>[(blonde, NNS), (woman, NN), (with, IN), (hair...</td>\n    </tr>\n    <tr>\n      <th>4</th>\n      <td>greentext</td>\n      <td>3mewbe0wjb9a1.jpg</td>\n      <td>Anon wants Elon cut</td>\n      <td>D:\\data\\images\\greentext\\thumbnail\\3mewbe0wjb9...</td>\n      <td>\"man|NN\",\"with|IN\",\"beard|NN\",\"and|CC\",\"sittin...</td>\n      <td>True</td>\n      <td>D:\\data\\images\\greentext\\3mewbe0wjb9a1.jpg</td>\n      <td>True</td>\n      <td>1dec3dabb5e46cde01855d06089c287a</td>\n      <td>1000j1n</td>\n      <td>a man with a beard and a beard sitting in fron...</td>\n      <td>[(man, NN), (with, IN), (beard, NN), (and, CC)...</td>\n    </tr>\n    <tr>\n      <th>5</th>\n      <td>spaceporn</td>\n      <td>7s5aafaqkb9a1.jpg</td>\n      <td>Northern Lights above Lofoten</td>\n      <td>D:\\data\\images\\spaceporn\\thumbnail\\7s5aafaqkb9...</td>\n      <td>\"view|NN\",\"of|IN\",\"large|JJ\",\"green|JJ\",\"and|C...</td>\n      <td>True</td>\n      <td>D:\\data\\images\\spaceporn\\7s5aafaqkb9a1.jpg</td>\n      <td>True</td>\n      <td>2c39ce1290fba541abd0b004b09da6b2</td>\n      <td>1000mjs</td>\n      <td>a view of a view of a large green and purple a...</td>\n      <td>[(view, NN), (of, IN), (large, JJ), (green, JJ...</td>\n    </tr>\n    <tr>\n      <th>7</th>\n      <td>spaceporn</td>\n      <td>abojw7lqlb9a1.jpg</td>\n      <td>Viking Lights</td>\n      <td>D:\\data\\images\\spaceporn\\thumbnail\\abojw7lqlb9...</td>\n      <td>\"scene|NN\",\"of|IN\",\"boat|NN\",\"is|VBZ\",\"sitting...</td>\n      <td>True</td>\n      <td>D:\\data\\images\\spaceporn\\abojw7lqlb9a1.jpg</td>\n      <td>True</td>\n      <td>0f72de47c69ff50eca5fa3990215f4ac</td>\n      <td>1000qpd</td>\n      <td>a scene of a boat is sitting on the shore of a...</td>\n      <td>[(scene, NN), (of, IN), (boat, NN), (is, VBZ),...</td>\n    </tr>\n    <tr>\n      <th>...</th>\n      <td>...</td>\n      <td>...</td>\n      <td>...</td>\n      <td>...</td>\n      <td>...</td>\n      <td>...</td>\n      <td>...</td>\n      <td>...</td>\n      <td>...</td>\n      <td>...</td>\n      <td>...</td>\n      <td>...</td>\n    </tr>\n    <tr>\n      <th>16077</th>\n      <td>spaceporn</td>\n      <td>abwhhq0w8b9a1.jpg</td>\n      <td>Polaris to Cassiopeia on a cloudy night.</td>\n      <td>D:\\data\\images\\spaceporn\\thumbnail\\abwhhq0w8b9...</td>\n      <td>\"starrdust|NN\",\"sky|NN\",\"with|IN\",\"few|JJ\",\"st...</td>\n      <td>True</td>\n      <td>D:\\data\\images\\spaceporn\\abwhhq0w8b9a1.jpg</td>\n      <td>True</td>\n      <td>f5973637fc56360c15818ba0ca1f7ffa</td>\n      <td>zzz6dp</td>\n      <td>starrdust sky with a few stars and a few stars</td>\n      <td>[(starrdust, NN), (sky, NN), (with, IN), (few,...</td>\n    </tr>\n    <tr>\n      <th>16078</th>\n      <td>spaceporn</td>\n      <td>7hzipg1bab9a1.jpg</td>\n      <td>The hunt for habitable ocean worlds beyond our...</td>\n      <td>D:\\data\\images\\spaceporn\\thumbnail\\7hzipg1bab9...</td>\n      <td>\"picture|NN\",\"taken|VBN\",\"from|IN\",\"the|DT\",\"e...</td>\n      <td>True</td>\n      <td>D:\\data\\images\\spaceporn\\7hzipg1bab9a1.jpg</td>\n      <td>True</td>\n      <td>5b22bea7582229c1f9b992176a2ca2c6</td>\n      <td>zzzcn5</td>\n      <td>a picture taken from the earth's surface of th...</td>\n      <td>[(picture, NN), (taken, VBN), (from, IN), (the...</td>\n    </tr>\n    <tr>\n      <th>16079</th>\n      <td>greentext</td>\n      <td>bgho6WK.jpg</td>\n      <td>Anon does a little trolling</td>\n      <td>D:\\data\\images\\greentext\\thumbnail\\bgho6WK.jpg</td>\n      <td>\"screenshote|NN\",\"of|IN\",\"text|JJ\",\"message|NN...</td>\n      <td>True</td>\n      <td>D:\\data\\images\\greentext\\bgho6WK.jpg</td>\n      <td>True</td>\n      <td>df666b8b2ad543c77b3fdba89becda1a</td>\n      <td>zzzeoi</td>\n      <td>a screenshote of a text message from a man who...</td>\n      <td>[(screenshote, NN), (of, IN), (text, JJ), (mes...</td>\n    </tr>\n    <tr>\n      <th>16081</th>\n      <td>trippinthroughtime</td>\n      <td>arCpzQ0.jpg</td>\n      <td>He didn't shed light on the topic I guess.</td>\n      <td>D:\\data\\images\\trippinthroughtime\\thumbnail\\ar...</td>\n      <td>\"man|NN\",\"in|IN\",\"red|JJ\",\"dress|NN\",\"and|CC\",...</td>\n      <td>True</td>\n      <td>D:\\data\\images\\trippinthroughtime\\arCpzQ0.jpg</td>\n      <td>True</td>\n      <td>5007b937974ae333022c0c91b795ca09</td>\n      <td>zzzlbf</td>\n      <td>a man in a red dress and a woman in a red dress</td>\n      <td>[(man, NN), (in, IN), (red, JJ), (dress, NN), ...</td>\n    </tr>\n    <tr>\n      <th>16084</th>\n      <td>HotGirlNextDoor</td>\n      <td>p6yewrl7eb9a1.jpg</td>\n      <td>(IKTR)</td>\n      <td>D:\\data\\images\\HotGirlNextDoor\\thumbnail\\p6yew...</td>\n      <td>\"blonde|NN\",\"woman|NN\",\"in|IN\",\"black|JJ\",\"bik...</td>\n      <td>True</td>\n      <td>D:\\data\\images\\HotGirlNextDoor\\p6yewrl7eb9a1.jpg</td>\n      <td>True</td>\n      <td>94dea288ddffb51eb1a786d469b59374</td>\n      <td>zzzu28</td>\n      <td>blonde woman in black bikini top and black bik...</td>\n      <td>[(blonde, NN), (woman, NN), (in, IN), (black, ...</td>\n    </tr>\n  </tbody>\n</table>\n<p>11514 rows × 12 columns</p>\n</div>"
     },
     "metadata": {},
     "output_type": "display_data"
    },
    {
     "data": {
      "text/plain": "'=== After Drop ==='"
     },
     "metadata": {},
     "output_type": "display_data"
    },
    {
     "data": {
      "text/plain": "                subreddit          file_name  \\\n0                CityPorn  4emw5uldib9a1.jpg   \n3                AmIhotAF  4xyb1vgbjb9a1.jpg   \n4               greentext  3mewbe0wjb9a1.jpg   \n5               spaceporn  7s5aafaqkb9a1.jpg   \n7               spaceporn  abojw7lqlb9a1.jpg   \n...                   ...                ...   \n16077           spaceporn  abwhhq0w8b9a1.jpg   \n16078           spaceporn  7hzipg1bab9a1.jpg   \n16079           greentext        bgho6WK.jpg   \n16081  trippinthroughtime        arCpzQ0.jpg   \n16084     HotGirlNextDoor  p6yewrl7eb9a1.jpg   \n\n                                                    text  \\\n0                                    New York in the fog   \n3                         Just looking for entertainment   \n4                                    Anon wants Elon cut   \n5                          Northern Lights above Lofoten   \n7                                          Viking Lights   \n...                                                  ...   \n16077           Polaris to Cassiopeia on a cloudy night.   \n16078  The hunt for habitable ocean worlds beyond our...   \n16079                        Anon does a little trolling   \n16081         He didn't shed light on the topic I guess.   \n16084                                             (IKTR)   \n\n                                          thumbnail_path  thumbnail_exists  \\\n0      D:\\data\\images\\CityPorn\\thumbnail\\4emw5uldib9a...              True   \n3      D:\\data\\images\\AmIhotAF\\thumbnail\\4xyb1vgbjb9a...              True   \n4      D:\\data\\images\\greentext\\thumbnail\\3mewbe0wjb9...              True   \n5      D:\\data\\images\\spaceporn\\thumbnail\\7s5aafaqkb9...              True   \n7      D:\\data\\images\\spaceporn\\thumbnail\\abojw7lqlb9...              True   \n...                                                  ...               ...   \n16077  D:\\data\\images\\spaceporn\\thumbnail\\abwhhq0w8b9...              True   \n16078  D:\\data\\images\\spaceporn\\thumbnail\\7hzipg1bab9...              True   \n16079     D:\\data\\images\\greentext\\thumbnail\\bgho6WK.jpg              True   \n16081  D:\\data\\images\\trippinthroughtime\\thumbnail\\ar...              True   \n16084  D:\\data\\images\\HotGirlNextDoor\\thumbnail\\p6yew...              True   \n\n                                         original_image  \\\n0             D:\\data\\images\\CityPorn\\4emw5uldib9a1.jpg   \n3             D:\\data\\images\\AmIhotAF\\4xyb1vgbjb9a1.jpg   \n4            D:\\data\\images\\greentext\\3mewbe0wjb9a1.jpg   \n5            D:\\data\\images\\spaceporn\\7s5aafaqkb9a1.jpg   \n7            D:\\data\\images\\spaceporn\\abojw7lqlb9a1.jpg   \n...                                                 ...   \n16077        D:\\data\\images\\spaceporn\\abwhhq0w8b9a1.jpg   \n16078        D:\\data\\images\\spaceporn\\7hzipg1bab9a1.jpg   \n16079              D:\\data\\images\\greentext\\bgho6WK.jpg   \n16081     D:\\data\\images\\trippinthroughtime\\arCpzQ0.jpg   \n16084  D:\\data\\images\\HotGirlNextDoor\\p6yewrl7eb9a1.jpg   \n\n       original_image_exists                              hash       id  \\\n0                       True  7a8d96e378c15c8ab8440ac311f12c11  1000cej   \n3                       True  e554c1ed7ffa2740436ac082068b2824  1000glf   \n4                       True  1dec3dabb5e46cde01855d06089c287a  1000j1n   \n5                       True  2c39ce1290fba541abd0b004b09da6b2  1000mjs   \n7                       True  0f72de47c69ff50eca5fa3990215f4ac  1000qpd   \n...                      ...                               ...      ...   \n16077                   True  f5973637fc56360c15818ba0ca1f7ffa   zzz6dp   \n16078                   True  5b22bea7582229c1f9b992176a2ca2c6   zzzcn5   \n16079                   True  df666b8b2ad543c77b3fdba89becda1a   zzzeoi   \n16081                   True  5007b937974ae333022c0c91b795ca09   zzzlbf   \n16084                   True  94dea288ddffb51eb1a786d469b59374   zzzu28   \n\n                                        original_caption  \\\n0      cars are parked on the side of the road in the...   \n3      blonde woman with blonde hair and tattoos on h...   \n4      a man with a beard and a beard sitting in fron...   \n5      a view of a view of a large green and purple a...   \n7      a scene of a boat is sitting on the shore of a...   \n...                                                  ...   \n16077     starrdust sky with a few stars and a few stars   \n16078  a picture taken from the earth's surface of th...   \n16079  a screenshote of a text message from a man who...   \n16081    a man in a red dress and a woman in a red dress   \n16084  blonde woman in black bikini top and black bik...   \n\n                                       thumbnail_caption  \n0      [(cars, NNS), (are, VBP), (parked, VBN), (on, ...  \n3      [(blonde, NNS), (woman, NN), (with, IN), (hair...  \n4      [(man, NN), (with, IN), (beard, NN), (and, CC)...  \n5      [(view, NN), (of, IN), (large, JJ), (green, JJ...  \n7      [(scene, NN), (of, IN), (boat, NN), (is, VBZ),...  \n...                                                  ...  \n16077  [(starrdust, NN), (sky, NN), (with, IN), (few,...  \n16078  [(picture, NN), (taken, VBN), (from, IN), (the...  \n16079  [(screenshote, NN), (of, IN), (text, JJ), (mes...  \n16081  [(man, NN), (in, IN), (red, JJ), (dress, NN), ...  \n16084  [(blonde, NN), (woman, NN), (in, IN), (black, ...  \n\n[11514 rows x 11 columns]",
      "text/html": "<div>\n<style scoped>\n    .dataframe tbody tr th:only-of-type {\n        vertical-align: middle;\n    }\n\n    .dataframe tbody tr th {\n        vertical-align: top;\n    }\n\n    .dataframe thead th {\n        text-align: right;\n    }\n</style>\n<table border=\"1\" class=\"dataframe\">\n  <thead>\n    <tr style=\"text-align: right;\">\n      <th></th>\n      <th>subreddit</th>\n      <th>file_name</th>\n      <th>text</th>\n      <th>thumbnail_path</th>\n      <th>thumbnail_exists</th>\n      <th>original_image</th>\n      <th>original_image_exists</th>\n      <th>hash</th>\n      <th>id</th>\n      <th>original_caption</th>\n      <th>thumbnail_caption</th>\n    </tr>\n  </thead>\n  <tbody>\n    <tr>\n      <th>0</th>\n      <td>CityPorn</td>\n      <td>4emw5uldib9a1.jpg</td>\n      <td>New York in the fog</td>\n      <td>D:\\data\\images\\CityPorn\\thumbnail\\4emw5uldib9a...</td>\n      <td>True</td>\n      <td>D:\\data\\images\\CityPorn\\4emw5uldib9a1.jpg</td>\n      <td>True</td>\n      <td>7a8d96e378c15c8ab8440ac311f12c11</td>\n      <td>1000cej</td>\n      <td>cars are parked on the side of the road in the...</td>\n      <td>[(cars, NNS), (are, VBP), (parked, VBN), (on, ...</td>\n    </tr>\n    <tr>\n      <th>3</th>\n      <td>AmIhotAF</td>\n      <td>4xyb1vgbjb9a1.jpg</td>\n      <td>Just looking for entertainment</td>\n      <td>D:\\data\\images\\AmIhotAF\\thumbnail\\4xyb1vgbjb9a...</td>\n      <td>True</td>\n      <td>D:\\data\\images\\AmIhotAF\\4xyb1vgbjb9a1.jpg</td>\n      <td>True</td>\n      <td>e554c1ed7ffa2740436ac082068b2824</td>\n      <td>1000glf</td>\n      <td>blonde woman with blonde hair and tattoos on h...</td>\n      <td>[(blonde, NNS), (woman, NN), (with, IN), (hair...</td>\n    </tr>\n    <tr>\n      <th>4</th>\n      <td>greentext</td>\n      <td>3mewbe0wjb9a1.jpg</td>\n      <td>Anon wants Elon cut</td>\n      <td>D:\\data\\images\\greentext\\thumbnail\\3mewbe0wjb9...</td>\n      <td>True</td>\n      <td>D:\\data\\images\\greentext\\3mewbe0wjb9a1.jpg</td>\n      <td>True</td>\n      <td>1dec3dabb5e46cde01855d06089c287a</td>\n      <td>1000j1n</td>\n      <td>a man with a beard and a beard sitting in fron...</td>\n      <td>[(man, NN), (with, IN), (beard, NN), (and, CC)...</td>\n    </tr>\n    <tr>\n      <th>5</th>\n      <td>spaceporn</td>\n      <td>7s5aafaqkb9a1.jpg</td>\n      <td>Northern Lights above Lofoten</td>\n      <td>D:\\data\\images\\spaceporn\\thumbnail\\7s5aafaqkb9...</td>\n      <td>True</td>\n      <td>D:\\data\\images\\spaceporn\\7s5aafaqkb9a1.jpg</td>\n      <td>True</td>\n      <td>2c39ce1290fba541abd0b004b09da6b2</td>\n      <td>1000mjs</td>\n      <td>a view of a view of a large green and purple a...</td>\n      <td>[(view, NN), (of, IN), (large, JJ), (green, JJ...</td>\n    </tr>\n    <tr>\n      <th>7</th>\n      <td>spaceporn</td>\n      <td>abojw7lqlb9a1.jpg</td>\n      <td>Viking Lights</td>\n      <td>D:\\data\\images\\spaceporn\\thumbnail\\abojw7lqlb9...</td>\n      <td>True</td>\n      <td>D:\\data\\images\\spaceporn\\abojw7lqlb9a1.jpg</td>\n      <td>True</td>\n      <td>0f72de47c69ff50eca5fa3990215f4ac</td>\n      <td>1000qpd</td>\n      <td>a scene of a boat is sitting on the shore of a...</td>\n      <td>[(scene, NN), (of, IN), (boat, NN), (is, VBZ),...</td>\n    </tr>\n    <tr>\n      <th>...</th>\n      <td>...</td>\n      <td>...</td>\n      <td>...</td>\n      <td>...</td>\n      <td>...</td>\n      <td>...</td>\n      <td>...</td>\n      <td>...</td>\n      <td>...</td>\n      <td>...</td>\n      <td>...</td>\n    </tr>\n    <tr>\n      <th>16077</th>\n      <td>spaceporn</td>\n      <td>abwhhq0w8b9a1.jpg</td>\n      <td>Polaris to Cassiopeia on a cloudy night.</td>\n      <td>D:\\data\\images\\spaceporn\\thumbnail\\abwhhq0w8b9...</td>\n      <td>True</td>\n      <td>D:\\data\\images\\spaceporn\\abwhhq0w8b9a1.jpg</td>\n      <td>True</td>\n      <td>f5973637fc56360c15818ba0ca1f7ffa</td>\n      <td>zzz6dp</td>\n      <td>starrdust sky with a few stars and a few stars</td>\n      <td>[(starrdust, NN), (sky, NN), (with, IN), (few,...</td>\n    </tr>\n    <tr>\n      <th>16078</th>\n      <td>spaceporn</td>\n      <td>7hzipg1bab9a1.jpg</td>\n      <td>The hunt for habitable ocean worlds beyond our...</td>\n      <td>D:\\data\\images\\spaceporn\\thumbnail\\7hzipg1bab9...</td>\n      <td>True</td>\n      <td>D:\\data\\images\\spaceporn\\7hzipg1bab9a1.jpg</td>\n      <td>True</td>\n      <td>5b22bea7582229c1f9b992176a2ca2c6</td>\n      <td>zzzcn5</td>\n      <td>a picture taken from the earth's surface of th...</td>\n      <td>[(picture, NN), (taken, VBN), (from, IN), (the...</td>\n    </tr>\n    <tr>\n      <th>16079</th>\n      <td>greentext</td>\n      <td>bgho6WK.jpg</td>\n      <td>Anon does a little trolling</td>\n      <td>D:\\data\\images\\greentext\\thumbnail\\bgho6WK.jpg</td>\n      <td>True</td>\n      <td>D:\\data\\images\\greentext\\bgho6WK.jpg</td>\n      <td>True</td>\n      <td>df666b8b2ad543c77b3fdba89becda1a</td>\n      <td>zzzeoi</td>\n      <td>a screenshote of a text message from a man who...</td>\n      <td>[(screenshote, NN), (of, IN), (text, JJ), (mes...</td>\n    </tr>\n    <tr>\n      <th>16081</th>\n      <td>trippinthroughtime</td>\n      <td>arCpzQ0.jpg</td>\n      <td>He didn't shed light on the topic I guess.</td>\n      <td>D:\\data\\images\\trippinthroughtime\\thumbnail\\ar...</td>\n      <td>True</td>\n      <td>D:\\data\\images\\trippinthroughtime\\arCpzQ0.jpg</td>\n      <td>True</td>\n      <td>5007b937974ae333022c0c91b795ca09</td>\n      <td>zzzlbf</td>\n      <td>a man in a red dress and a woman in a red dress</td>\n      <td>[(man, NN), (in, IN), (red, JJ), (dress, NN), ...</td>\n    </tr>\n    <tr>\n      <th>16084</th>\n      <td>HotGirlNextDoor</td>\n      <td>p6yewrl7eb9a1.jpg</td>\n      <td>(IKTR)</td>\n      <td>D:\\data\\images\\HotGirlNextDoor\\thumbnail\\p6yew...</td>\n      <td>True</td>\n      <td>D:\\data\\images\\HotGirlNextDoor\\p6yewrl7eb9a1.jpg</td>\n      <td>True</td>\n      <td>94dea288ddffb51eb1a786d469b59374</td>\n      <td>zzzu28</td>\n      <td>blonde woman in black bikini top and black bik...</td>\n      <td>[(blonde, NN), (woman, NN), (in, IN), (black, ...</td>\n    </tr>\n  </tbody>\n</table>\n<p>11514 rows × 11 columns</p>\n</div>"
     },
     "metadata": {},
     "output_type": "display_data"
    }
   ],
   "source": [
    "display(\"=== Before Drop ===\")\n",
    "display(temp)\n",
    "temp.rename(columns={\"thumbnail_caption\": \"thumbnail_caption_old\"}, inplace=True)\n",
    "temp.rename(columns={\"new_column\": \"thumbnail_caption\"}, inplace=True)\n",
    "temp.drop(columns=[\"thumbnail_caption_old\"], inplace=True)\n",
    "display(\"=== After Drop ===\")\n",
    "display(temp)"
   ],
   "metadata": {
    "collapsed": false
   }
  },
  {
   "cell_type": "code",
   "execution_count": 24,
   "outputs": [
    {
     "data": {
      "text/plain": "'Saving to parquet /data/parquet/processed_data.parquet with Updated Thumbnail Captions'"
     },
     "metadata": {},
     "output_type": "display_data"
    }
   ],
   "source": [
    "display(f\"Saving to parquet {parquet_process_data_path} with Updated Thumbnail Captions\")\n",
    "temp.to_parquet(parquet_process_data_path)\n",
    "del temp"
   ],
   "metadata": {
    "collapsed": false
   }
  },
  {
   "cell_type": "code",
   "execution_count": 25,
   "outputs": [
    {
     "data": {
      "text/plain": "'Reading from parquet /data/parquet/processed_data.parquet with Updated Thumbnail Captions'"
     },
     "metadata": {},
     "output_type": "display_data"
    },
    {
     "data": {
      "text/plain": "                subreddit          file_name  \\\n0                CityPorn  4emw5uldib9a1.jpg   \n3                AmIhotAF  4xyb1vgbjb9a1.jpg   \n4               greentext  3mewbe0wjb9a1.jpg   \n5               spaceporn  7s5aafaqkb9a1.jpg   \n7               spaceporn  abojw7lqlb9a1.jpg   \n...                   ...                ...   \n16077           spaceporn  abwhhq0w8b9a1.jpg   \n16078           spaceporn  7hzipg1bab9a1.jpg   \n16079           greentext        bgho6WK.jpg   \n16081  trippinthroughtime        arCpzQ0.jpg   \n16084     HotGirlNextDoor  p6yewrl7eb9a1.jpg   \n\n                                                    text  \\\n0                                    New York in the fog   \n3                         Just looking for entertainment   \n4                                    Anon wants Elon cut   \n5                          Northern Lights above Lofoten   \n7                                          Viking Lights   \n...                                                  ...   \n16077           Polaris to Cassiopeia on a cloudy night.   \n16078  The hunt for habitable ocean worlds beyond our...   \n16079                        Anon does a little trolling   \n16081         He didn't shed light on the topic I guess.   \n16084                                             (IKTR)   \n\n                                          thumbnail_path  thumbnail_exists  \\\n0      D:\\data\\images\\CityPorn\\thumbnail\\4emw5uldib9a...              True   \n3      D:\\data\\images\\AmIhotAF\\thumbnail\\4xyb1vgbjb9a...              True   \n4      D:\\data\\images\\greentext\\thumbnail\\3mewbe0wjb9...              True   \n5      D:\\data\\images\\spaceporn\\thumbnail\\7s5aafaqkb9...              True   \n7      D:\\data\\images\\spaceporn\\thumbnail\\abojw7lqlb9...              True   \n...                                                  ...               ...   \n16077  D:\\data\\images\\spaceporn\\thumbnail\\abwhhq0w8b9...              True   \n16078  D:\\data\\images\\spaceporn\\thumbnail\\7hzipg1bab9...              True   \n16079     D:\\data\\images\\greentext\\thumbnail\\bgho6WK.jpg              True   \n16081  D:\\data\\images\\trippinthroughtime\\thumbnail\\ar...              True   \n16084  D:\\data\\images\\HotGirlNextDoor\\thumbnail\\p6yew...              True   \n\n                                         original_image  \\\n0             D:\\data\\images\\CityPorn\\4emw5uldib9a1.jpg   \n3             D:\\data\\images\\AmIhotAF\\4xyb1vgbjb9a1.jpg   \n4            D:\\data\\images\\greentext\\3mewbe0wjb9a1.jpg   \n5            D:\\data\\images\\spaceporn\\7s5aafaqkb9a1.jpg   \n7            D:\\data\\images\\spaceporn\\abojw7lqlb9a1.jpg   \n...                                                 ...   \n16077        D:\\data\\images\\spaceporn\\abwhhq0w8b9a1.jpg   \n16078        D:\\data\\images\\spaceporn\\7hzipg1bab9a1.jpg   \n16079              D:\\data\\images\\greentext\\bgho6WK.jpg   \n16081     D:\\data\\images\\trippinthroughtime\\arCpzQ0.jpg   \n16084  D:\\data\\images\\HotGirlNextDoor\\p6yewrl7eb9a1.jpg   \n\n       original_image_exists                              hash       id  \\\n0                       True  7a8d96e378c15c8ab8440ac311f12c11  1000cej   \n3                       True  e554c1ed7ffa2740436ac082068b2824  1000glf   \n4                       True  1dec3dabb5e46cde01855d06089c287a  1000j1n   \n5                       True  2c39ce1290fba541abd0b004b09da6b2  1000mjs   \n7                       True  0f72de47c69ff50eca5fa3990215f4ac  1000qpd   \n...                      ...                               ...      ...   \n16077                   True  f5973637fc56360c15818ba0ca1f7ffa   zzz6dp   \n16078                   True  5b22bea7582229c1f9b992176a2ca2c6   zzzcn5   \n16079                   True  df666b8b2ad543c77b3fdba89becda1a   zzzeoi   \n16081                   True  5007b937974ae333022c0c91b795ca09   zzzlbf   \n16084                   True  94dea288ddffb51eb1a786d469b59374   zzzu28   \n\n                                        original_caption  \\\n0      cars are parked on the side of the road in the...   \n3      blonde woman with blonde hair and tattoos on h...   \n4      a man with a beard and a beard sitting in fron...   \n5      a view of a view of a large green and purple a...   \n7      a scene of a boat is sitting on the shore of a...   \n...                                                  ...   \n16077     starrdust sky with a few stars and a few stars   \n16078  a picture taken from the earth's surface of th...   \n16079  a screenshote of a text message from a man who...   \n16081    a man in a red dress and a woman in a red dress   \n16084  blonde woman in black bikini top and black bik...   \n\n                                       thumbnail_caption  \n0      [[cars, NNS], [are, VBP], [parked, VBN], [on, ...  \n3      [[blonde, NNS], [woman, NN], [with, IN], [hair...  \n4      [[man, NN], [with, IN], [beard, NN], [and, CC]...  \n5      [[view, NN], [of, IN], [large, JJ], [green, JJ...  \n7      [[scene, NN], [of, IN], [boat, NN], [is, VBZ],...  \n...                                                  ...  \n16077  [[starrdust, NN], [sky, NN], [with, IN], [few,...  \n16078  [[picture, NN], [taken, VBN], [from, IN], [the...  \n16079  [[screenshote, NN], [of, IN], [text, JJ], [mes...  \n16081  [[man, NN], [in, IN], [red, JJ], [dress, NN], ...  \n16084  [[blonde, NN], [woman, NN], [in, IN], [black, ...  \n\n[11514 rows x 11 columns]",
      "text/html": "<div>\n<style scoped>\n    .dataframe tbody tr th:only-of-type {\n        vertical-align: middle;\n    }\n\n    .dataframe tbody tr th {\n        vertical-align: top;\n    }\n\n    .dataframe thead th {\n        text-align: right;\n    }\n</style>\n<table border=\"1\" class=\"dataframe\">\n  <thead>\n    <tr style=\"text-align: right;\">\n      <th></th>\n      <th>subreddit</th>\n      <th>file_name</th>\n      <th>text</th>\n      <th>thumbnail_path</th>\n      <th>thumbnail_exists</th>\n      <th>original_image</th>\n      <th>original_image_exists</th>\n      <th>hash</th>\n      <th>id</th>\n      <th>original_caption</th>\n      <th>thumbnail_caption</th>\n    </tr>\n  </thead>\n  <tbody>\n    <tr>\n      <th>0</th>\n      <td>CityPorn</td>\n      <td>4emw5uldib9a1.jpg</td>\n      <td>New York in the fog</td>\n      <td>D:\\data\\images\\CityPorn\\thumbnail\\4emw5uldib9a...</td>\n      <td>True</td>\n      <td>D:\\data\\images\\CityPorn\\4emw5uldib9a1.jpg</td>\n      <td>True</td>\n      <td>7a8d96e378c15c8ab8440ac311f12c11</td>\n      <td>1000cej</td>\n      <td>cars are parked on the side of the road in the...</td>\n      <td>[[cars, NNS], [are, VBP], [parked, VBN], [on, ...</td>\n    </tr>\n    <tr>\n      <th>3</th>\n      <td>AmIhotAF</td>\n      <td>4xyb1vgbjb9a1.jpg</td>\n      <td>Just looking for entertainment</td>\n      <td>D:\\data\\images\\AmIhotAF\\thumbnail\\4xyb1vgbjb9a...</td>\n      <td>True</td>\n      <td>D:\\data\\images\\AmIhotAF\\4xyb1vgbjb9a1.jpg</td>\n      <td>True</td>\n      <td>e554c1ed7ffa2740436ac082068b2824</td>\n      <td>1000glf</td>\n      <td>blonde woman with blonde hair and tattoos on h...</td>\n      <td>[[blonde, NNS], [woman, NN], [with, IN], [hair...</td>\n    </tr>\n    <tr>\n      <th>4</th>\n      <td>greentext</td>\n      <td>3mewbe0wjb9a1.jpg</td>\n      <td>Anon wants Elon cut</td>\n      <td>D:\\data\\images\\greentext\\thumbnail\\3mewbe0wjb9...</td>\n      <td>True</td>\n      <td>D:\\data\\images\\greentext\\3mewbe0wjb9a1.jpg</td>\n      <td>True</td>\n      <td>1dec3dabb5e46cde01855d06089c287a</td>\n      <td>1000j1n</td>\n      <td>a man with a beard and a beard sitting in fron...</td>\n      <td>[[man, NN], [with, IN], [beard, NN], [and, CC]...</td>\n    </tr>\n    <tr>\n      <th>5</th>\n      <td>spaceporn</td>\n      <td>7s5aafaqkb9a1.jpg</td>\n      <td>Northern Lights above Lofoten</td>\n      <td>D:\\data\\images\\spaceporn\\thumbnail\\7s5aafaqkb9...</td>\n      <td>True</td>\n      <td>D:\\data\\images\\spaceporn\\7s5aafaqkb9a1.jpg</td>\n      <td>True</td>\n      <td>2c39ce1290fba541abd0b004b09da6b2</td>\n      <td>1000mjs</td>\n      <td>a view of a view of a large green and purple a...</td>\n      <td>[[view, NN], [of, IN], [large, JJ], [green, JJ...</td>\n    </tr>\n    <tr>\n      <th>7</th>\n      <td>spaceporn</td>\n      <td>abojw7lqlb9a1.jpg</td>\n      <td>Viking Lights</td>\n      <td>D:\\data\\images\\spaceporn\\thumbnail\\abojw7lqlb9...</td>\n      <td>True</td>\n      <td>D:\\data\\images\\spaceporn\\abojw7lqlb9a1.jpg</td>\n      <td>True</td>\n      <td>0f72de47c69ff50eca5fa3990215f4ac</td>\n      <td>1000qpd</td>\n      <td>a scene of a boat is sitting on the shore of a...</td>\n      <td>[[scene, NN], [of, IN], [boat, NN], [is, VBZ],...</td>\n    </tr>\n    <tr>\n      <th>...</th>\n      <td>...</td>\n      <td>...</td>\n      <td>...</td>\n      <td>...</td>\n      <td>...</td>\n      <td>...</td>\n      <td>...</td>\n      <td>...</td>\n      <td>...</td>\n      <td>...</td>\n      <td>...</td>\n    </tr>\n    <tr>\n      <th>16077</th>\n      <td>spaceporn</td>\n      <td>abwhhq0w8b9a1.jpg</td>\n      <td>Polaris to Cassiopeia on a cloudy night.</td>\n      <td>D:\\data\\images\\spaceporn\\thumbnail\\abwhhq0w8b9...</td>\n      <td>True</td>\n      <td>D:\\data\\images\\spaceporn\\abwhhq0w8b9a1.jpg</td>\n      <td>True</td>\n      <td>f5973637fc56360c15818ba0ca1f7ffa</td>\n      <td>zzz6dp</td>\n      <td>starrdust sky with a few stars and a few stars</td>\n      <td>[[starrdust, NN], [sky, NN], [with, IN], [few,...</td>\n    </tr>\n    <tr>\n      <th>16078</th>\n      <td>spaceporn</td>\n      <td>7hzipg1bab9a1.jpg</td>\n      <td>The hunt for habitable ocean worlds beyond our...</td>\n      <td>D:\\data\\images\\spaceporn\\thumbnail\\7hzipg1bab9...</td>\n      <td>True</td>\n      <td>D:\\data\\images\\spaceporn\\7hzipg1bab9a1.jpg</td>\n      <td>True</td>\n      <td>5b22bea7582229c1f9b992176a2ca2c6</td>\n      <td>zzzcn5</td>\n      <td>a picture taken from the earth's surface of th...</td>\n      <td>[[picture, NN], [taken, VBN], [from, IN], [the...</td>\n    </tr>\n    <tr>\n      <th>16079</th>\n      <td>greentext</td>\n      <td>bgho6WK.jpg</td>\n      <td>Anon does a little trolling</td>\n      <td>D:\\data\\images\\greentext\\thumbnail\\bgho6WK.jpg</td>\n      <td>True</td>\n      <td>D:\\data\\images\\greentext\\bgho6WK.jpg</td>\n      <td>True</td>\n      <td>df666b8b2ad543c77b3fdba89becda1a</td>\n      <td>zzzeoi</td>\n      <td>a screenshote of a text message from a man who...</td>\n      <td>[[screenshote, NN], [of, IN], [text, JJ], [mes...</td>\n    </tr>\n    <tr>\n      <th>16081</th>\n      <td>trippinthroughtime</td>\n      <td>arCpzQ0.jpg</td>\n      <td>He didn't shed light on the topic I guess.</td>\n      <td>D:\\data\\images\\trippinthroughtime\\thumbnail\\ar...</td>\n      <td>True</td>\n      <td>D:\\data\\images\\trippinthroughtime\\arCpzQ0.jpg</td>\n      <td>True</td>\n      <td>5007b937974ae333022c0c91b795ca09</td>\n      <td>zzzlbf</td>\n      <td>a man in a red dress and a woman in a red dress</td>\n      <td>[[man, NN], [in, IN], [red, JJ], [dress, NN], ...</td>\n    </tr>\n    <tr>\n      <th>16084</th>\n      <td>HotGirlNextDoor</td>\n      <td>p6yewrl7eb9a1.jpg</td>\n      <td>(IKTR)</td>\n      <td>D:\\data\\images\\HotGirlNextDoor\\thumbnail\\p6yew...</td>\n      <td>True</td>\n      <td>D:\\data\\images\\HotGirlNextDoor\\p6yewrl7eb9a1.jpg</td>\n      <td>True</td>\n      <td>94dea288ddffb51eb1a786d469b59374</td>\n      <td>zzzu28</td>\n      <td>blonde woman in black bikini top and black bik...</td>\n      <td>[[blonde, NN], [woman, NN], [in, IN], [black, ...</td>\n    </tr>\n  </tbody>\n</table>\n<p>11514 rows × 11 columns</p>\n</div>"
     },
     "metadata": {},
     "output_type": "display_data"
    }
   ],
   "source": [
    "display(f\"Reading from parquet {parquet_process_data_path} with Updated Thumbnail Captions\")\n",
    "processed_with_captions_more = pandas.read_parquet(parquet_process_data_path)\n",
    "display(processed_with_captions_more)"
   ],
   "metadata": {
    "collapsed": false
   }
  },
  {
   "cell_type": "code",
   "execution_count": 26,
   "outputs": [
    {
     "data": {
      "text/plain": "'Filtering Subreddits with Images By original_caption'"
     },
     "metadata": {},
     "output_type": "display_data"
    },
    {
     "data": {
      "text/plain": "              subreddit  count\n3             EarthPorn   1883\n2              CityPorn   1795\n13                memes   1180\n16            spaceporn   1101\n4                 Faces   1028\n9           SFWRedheads    984\n8      SFWNextDoorGirls    848\n12            greentext    713\n17   trippinthroughtime    478\n15            sfwpetite    288\n10               amihot    284\n7         RealGirls_SFW    262\n5       HotGirlNextDoor    262\n0              AmIhotAF    183\n11      fatsquirrelhate    122\n14              selfies     61\n1               Amicute     33\n6   OldLadiesBakingPies      9",
      "text/html": "<div>\n<style scoped>\n    .dataframe tbody tr th:only-of-type {\n        vertical-align: middle;\n    }\n\n    .dataframe tbody tr th {\n        vertical-align: top;\n    }\n\n    .dataframe thead th {\n        text-align: right;\n    }\n</style>\n<table border=\"1\" class=\"dataframe\">\n  <thead>\n    <tr style=\"text-align: right;\">\n      <th></th>\n      <th>subreddit</th>\n      <th>count</th>\n    </tr>\n  </thead>\n  <tbody>\n    <tr>\n      <th>3</th>\n      <td>EarthPorn</td>\n      <td>1883</td>\n    </tr>\n    <tr>\n      <th>2</th>\n      <td>CityPorn</td>\n      <td>1795</td>\n    </tr>\n    <tr>\n      <th>13</th>\n      <td>memes</td>\n      <td>1180</td>\n    </tr>\n    <tr>\n      <th>16</th>\n      <td>spaceporn</td>\n      <td>1101</td>\n    </tr>\n    <tr>\n      <th>4</th>\n      <td>Faces</td>\n      <td>1028</td>\n    </tr>\n    <tr>\n      <th>9</th>\n      <td>SFWRedheads</td>\n      <td>984</td>\n    </tr>\n    <tr>\n      <th>8</th>\n      <td>SFWNextDoorGirls</td>\n      <td>848</td>\n    </tr>\n    <tr>\n      <th>12</th>\n      <td>greentext</td>\n      <td>713</td>\n    </tr>\n    <tr>\n      <th>17</th>\n      <td>trippinthroughtime</td>\n      <td>478</td>\n    </tr>\n    <tr>\n      <th>15</th>\n      <td>sfwpetite</td>\n      <td>288</td>\n    </tr>\n    <tr>\n      <th>10</th>\n      <td>amihot</td>\n      <td>284</td>\n    </tr>\n    <tr>\n      <th>7</th>\n      <td>RealGirls_SFW</td>\n      <td>262</td>\n    </tr>\n    <tr>\n      <th>5</th>\n      <td>HotGirlNextDoor</td>\n      <td>262</td>\n    </tr>\n    <tr>\n      <th>0</th>\n      <td>AmIhotAF</td>\n      <td>183</td>\n    </tr>\n    <tr>\n      <th>11</th>\n      <td>fatsquirrelhate</td>\n      <td>122</td>\n    </tr>\n    <tr>\n      <th>14</th>\n      <td>selfies</td>\n      <td>61</td>\n    </tr>\n    <tr>\n      <th>1</th>\n      <td>Amicute</td>\n      <td>33</td>\n    </tr>\n    <tr>\n      <th>6</th>\n      <td>OldLadiesBakingPies</td>\n      <td>9</td>\n    </tr>\n  </tbody>\n</table>\n</div>"
     },
     "metadata": {},
     "output_type": "display_data"
    },
    {
     "data": {
      "text/plain": "'Total Records 11514'"
     },
     "metadata": {},
     "output_type": "display_data"
    }
   ],
   "source": [
    "display(\"Filtering Subreddits with Images By original_caption\")\n",
    "filtered_captions = processed_with_captions_more[\n",
    "\t(processed_with_captions_more[\"original_caption\"] != \"bruh\") &\n",
    "\t(~processed_with_captions_more[\"original_caption\"].isna() | ~ processed_with_captions_more[\n",
    "\t\t\"original_caption\"].isnull())\n",
    "\t]\n",
    "\n",
    "filtered_captions_display = filtered_captions.groupby(\"subreddit\").size().reset_index(name=\"count\")\n",
    "\n",
    "display(filtered_captions_display.sort_values(\"count\", ascending=False))\n",
    "display(f\"Total Records {filtered_captions_display['count'].sum()}\")"
   ],
   "metadata": {
    "collapsed": false
   }
  },
  {
   "cell_type": "code",
   "execution_count": 27,
   "outputs": [
    {
     "data": {
      "text/plain": "'Filtering Subreddits with Images By thumbnail_caption'"
     },
     "metadata": {},
     "output_type": "display_data"
    },
    {
     "name": "stderr",
     "output_type": "stream",
     "text": [
      "D:\\workspaces\\General\\venv\\lib\\site-packages\\pandas\\core\\ops\\array_ops.py:75: FutureWarning: elementwise comparison failed; returning scalar instead, but in the future will perform elementwise comparison\n",
      "  result = libops.scalar_compare(x.ravel(), y, op)\n"
     ]
    },
    {
     "data": {
      "text/plain": "              subreddit  count\n3             EarthPorn   1883\n2              CityPorn   1795\n13                memes   1180\n16            spaceporn   1101\n4                 Faces   1028\n9           SFWRedheads    984\n8      SFWNextDoorGirls    848\n12            greentext    713\n17   trippinthroughtime    478\n15            sfwpetite    288\n10               amihot    284\n7         RealGirls_SFW    262\n5       HotGirlNextDoor    262\n0              AmIhotAF    183\n11      fatsquirrelhate    122\n14              selfies     61\n1               Amicute     33\n6   OldLadiesBakingPies      9",
      "text/html": "<div>\n<style scoped>\n    .dataframe tbody tr th:only-of-type {\n        vertical-align: middle;\n    }\n\n    .dataframe tbody tr th {\n        vertical-align: top;\n    }\n\n    .dataframe thead th {\n        text-align: right;\n    }\n</style>\n<table border=\"1\" class=\"dataframe\">\n  <thead>\n    <tr style=\"text-align: right;\">\n      <th></th>\n      <th>subreddit</th>\n      <th>count</th>\n    </tr>\n  </thead>\n  <tbody>\n    <tr>\n      <th>3</th>\n      <td>EarthPorn</td>\n      <td>1883</td>\n    </tr>\n    <tr>\n      <th>2</th>\n      <td>CityPorn</td>\n      <td>1795</td>\n    </tr>\n    <tr>\n      <th>13</th>\n      <td>memes</td>\n      <td>1180</td>\n    </tr>\n    <tr>\n      <th>16</th>\n      <td>spaceporn</td>\n      <td>1101</td>\n    </tr>\n    <tr>\n      <th>4</th>\n      <td>Faces</td>\n      <td>1028</td>\n    </tr>\n    <tr>\n      <th>9</th>\n      <td>SFWRedheads</td>\n      <td>984</td>\n    </tr>\n    <tr>\n      <th>8</th>\n      <td>SFWNextDoorGirls</td>\n      <td>848</td>\n    </tr>\n    <tr>\n      <th>12</th>\n      <td>greentext</td>\n      <td>713</td>\n    </tr>\n    <tr>\n      <th>17</th>\n      <td>trippinthroughtime</td>\n      <td>478</td>\n    </tr>\n    <tr>\n      <th>15</th>\n      <td>sfwpetite</td>\n      <td>288</td>\n    </tr>\n    <tr>\n      <th>10</th>\n      <td>amihot</td>\n      <td>284</td>\n    </tr>\n    <tr>\n      <th>7</th>\n      <td>RealGirls_SFW</td>\n      <td>262</td>\n    </tr>\n    <tr>\n      <th>5</th>\n      <td>HotGirlNextDoor</td>\n      <td>262</td>\n    </tr>\n    <tr>\n      <th>0</th>\n      <td>AmIhotAF</td>\n      <td>183</td>\n    </tr>\n    <tr>\n      <th>11</th>\n      <td>fatsquirrelhate</td>\n      <td>122</td>\n    </tr>\n    <tr>\n      <th>14</th>\n      <td>selfies</td>\n      <td>61</td>\n    </tr>\n    <tr>\n      <th>1</th>\n      <td>Amicute</td>\n      <td>33</td>\n    </tr>\n    <tr>\n      <th>6</th>\n      <td>OldLadiesBakingPies</td>\n      <td>9</td>\n    </tr>\n  </tbody>\n</table>\n</div>"
     },
     "metadata": {},
     "output_type": "display_data"
    },
    {
     "data": {
      "text/plain": "'Total Records 11514'"
     },
     "metadata": {},
     "output_type": "display_data"
    }
   ],
   "source": [
    "display(\"Filtering Subreddits with Images By thumbnail_caption\")\n",
    "filtered_captions_by_thumbnail = filtered_captions[\n",
    "\t(processed_with_captions_more[\"thumbnail_caption\"] != \"bruh\") &\n",
    "\t(~processed_with_captions_more[\"thumbnail_caption\"].isna() | ~ processed_with_captions_more[\n",
    "\t\t\"thumbnail_caption\"].isnull())\n",
    "\t]\n",
    "filtered_captions_by_thumbnail_display = filtered_captions_by_thumbnail.groupby(\"subreddit\").size().reset_index(name=\"count\")\n",
    "display(filtered_captions_by_thumbnail_display.sort_values(\"count\", ascending=False))\n",
    "display(f\"Total Records {filtered_captions_by_thumbnail_display['count'].sum()}\")"
   ],
   "metadata": {
    "collapsed": false
   }
  },
  {
   "cell_type": "code",
   "execution_count": 28,
   "outputs": [
    {
     "data": {
      "text/plain": "'Updating Cloud Storage With Filtered Captioned Images'"
     },
     "metadata": {},
     "output_type": "display_data"
    }
   ],
   "source": [
    "display(\"Updating Cloud Storage With Filtered Captioned Images\")\n",
    "def update_cloud(row):\n",
    "\ttry:\n",
    "\t\t_table_adapter = TableAdapter()\n",
    "\t\tpartition_key = \"training\"\n",
    "\t\trow_key = row[\"id\"]\n",
    "\t\tcaption = row[\"original_caption\"]\n",
    "\t\tupdated_caption = row[\"thumbnail_caption\"]\n",
    "\t\tentity = _table_adapter.get_entity(\"training\", partition_key, row_key)\n",
    "\t\tentity[\"caption\"] = caption\n",
    "\t\tentity[\"updated_caption\"] = updated_caption\n",
    "\t\t_table_adapter.upsert_entity_to_table(\"training\", entity)\n",
    "\t\tprogress.update()\n",
    "\t\treturn \"bruh\"\n",
    "\texcept Exception as e:\n",
    "\t\tprint(e)\n",
    "\t\treturn \"bruh\""
   ],
   "metadata": {
    "collapsed": false
   }
  },
  {
   "cell_type": "code",
   "execution_count": 29,
   "outputs": [
    {
     "data": {
      "text/plain": "                subreddit          file_name  \\\n0                CityPorn  4emw5uldib9a1.jpg   \n3                AmIhotAF  4xyb1vgbjb9a1.jpg   \n4               greentext  3mewbe0wjb9a1.jpg   \n5               spaceporn  7s5aafaqkb9a1.jpg   \n7               spaceporn  abojw7lqlb9a1.jpg   \n...                   ...                ...   \n16077           spaceporn  abwhhq0w8b9a1.jpg   \n16078           spaceporn  7hzipg1bab9a1.jpg   \n16079           greentext        bgho6WK.jpg   \n16081  trippinthroughtime        arCpzQ0.jpg   \n16084     HotGirlNextDoor  p6yewrl7eb9a1.jpg   \n\n                                                    text  \\\n0                                    New York in the fog   \n3                         Just looking for entertainment   \n4                                    Anon wants Elon cut   \n5                          Northern Lights above Lofoten   \n7                                          Viking Lights   \n...                                                  ...   \n16077           Polaris to Cassiopeia on a cloudy night.   \n16078  The hunt for habitable ocean worlds beyond our...   \n16079                        Anon does a little trolling   \n16081         He didn't shed light on the topic I guess.   \n16084                                             (IKTR)   \n\n                                          thumbnail_path  thumbnail_exists  \\\n0      D:\\data\\images\\CityPorn\\thumbnail\\4emw5uldib9a...              True   \n3      D:\\data\\images\\AmIhotAF\\thumbnail\\4xyb1vgbjb9a...              True   \n4      D:\\data\\images\\greentext\\thumbnail\\3mewbe0wjb9...              True   \n5      D:\\data\\images\\spaceporn\\thumbnail\\7s5aafaqkb9...              True   \n7      D:\\data\\images\\spaceporn\\thumbnail\\abojw7lqlb9...              True   \n...                                                  ...               ...   \n16077  D:\\data\\images\\spaceporn\\thumbnail\\abwhhq0w8b9...              True   \n16078  D:\\data\\images\\spaceporn\\thumbnail\\7hzipg1bab9...              True   \n16079     D:\\data\\images\\greentext\\thumbnail\\bgho6WK.jpg              True   \n16081  D:\\data\\images\\trippinthroughtime\\thumbnail\\ar...              True   \n16084  D:\\data\\images\\HotGirlNextDoor\\thumbnail\\p6yew...              True   \n\n                                         original_image  \\\n0             D:\\data\\images\\CityPorn\\4emw5uldib9a1.jpg   \n3             D:\\data\\images\\AmIhotAF\\4xyb1vgbjb9a1.jpg   \n4            D:\\data\\images\\greentext\\3mewbe0wjb9a1.jpg   \n5            D:\\data\\images\\spaceporn\\7s5aafaqkb9a1.jpg   \n7            D:\\data\\images\\spaceporn\\abojw7lqlb9a1.jpg   \n...                                                 ...   \n16077        D:\\data\\images\\spaceporn\\abwhhq0w8b9a1.jpg   \n16078        D:\\data\\images\\spaceporn\\7hzipg1bab9a1.jpg   \n16079              D:\\data\\images\\greentext\\bgho6WK.jpg   \n16081     D:\\data\\images\\trippinthroughtime\\arCpzQ0.jpg   \n16084  D:\\data\\images\\HotGirlNextDoor\\p6yewrl7eb9a1.jpg   \n\n       original_image_exists                              hash       id  \\\n0                       True  7a8d96e378c15c8ab8440ac311f12c11  1000cej   \n3                       True  e554c1ed7ffa2740436ac082068b2824  1000glf   \n4                       True  1dec3dabb5e46cde01855d06089c287a  1000j1n   \n5                       True  2c39ce1290fba541abd0b004b09da6b2  1000mjs   \n7                       True  0f72de47c69ff50eca5fa3990215f4ac  1000qpd   \n...                      ...                               ...      ...   \n16077                   True  f5973637fc56360c15818ba0ca1f7ffa   zzz6dp   \n16078                   True  5b22bea7582229c1f9b992176a2ca2c6   zzzcn5   \n16079                   True  df666b8b2ad543c77b3fdba89becda1a   zzzeoi   \n16081                   True  5007b937974ae333022c0c91b795ca09   zzzlbf   \n16084                   True  94dea288ddffb51eb1a786d469b59374   zzzu28   \n\n                                        original_caption  \\\n0      cars are parked on the side of the road in the...   \n3      blonde woman with blonde hair and tattoos on h...   \n4      a man with a beard and a beard sitting in fron...   \n5      a view of a view of a large green and purple a...   \n7      a scene of a boat is sitting on the shore of a...   \n...                                                  ...   \n16077     starrdust sky with a few stars and a few stars   \n16078  a picture taken from the earth's surface of th...   \n16079  a screenshote of a text message from a man who...   \n16081    a man in a red dress and a woman in a red dress   \n16084  blonde woman in black bikini top and black bik...   \n\n                                       thumbnail_caption  \n0      \"cars|NNS\",\"are|VBP\",\"parked|VBN\",\"on|IN\",\"the...  \n3      \"blonde|NNS\",\"woman|NN\",\"with|IN\",\"hair|NN\",\"a...  \n4      \"man|NN\",\"with|IN\",\"beard|NN\",\"and|CC\",\"sittin...  \n5      \"view|NN\",\"of|IN\",\"large|JJ\",\"green|JJ\",\"and|C...  \n7      \"scene|NN\",\"of|IN\",\"boat|NN\",\"is|VBZ\",\"sitting...  \n...                                                  ...  \n16077  \"starrdust|NN\",\"sky|NN\",\"with|IN\",\"few|JJ\",\"st...  \n16078  \"picture|NN\",\"taken|VBN\",\"from|IN\",\"the|DT\",\"e...  \n16079  \"screenshote|NN\",\"of|IN\",\"text|JJ\",\"message|NN...  \n16081  \"man|NN\",\"in|IN\",\"red|JJ\",\"dress|NN\",\"and|CC\",...  \n16084  \"blonde|NN\",\"woman|NN\",\"in|IN\",\"black|JJ\",\"bik...  \n\n[11514 rows x 11 columns]",
      "text/html": "<div>\n<style scoped>\n    .dataframe tbody tr th:only-of-type {\n        vertical-align: middle;\n    }\n\n    .dataframe tbody tr th {\n        vertical-align: top;\n    }\n\n    .dataframe thead th {\n        text-align: right;\n    }\n</style>\n<table border=\"1\" class=\"dataframe\">\n  <thead>\n    <tr style=\"text-align: right;\">\n      <th></th>\n      <th>subreddit</th>\n      <th>file_name</th>\n      <th>text</th>\n      <th>thumbnail_path</th>\n      <th>thumbnail_exists</th>\n      <th>original_image</th>\n      <th>original_image_exists</th>\n      <th>hash</th>\n      <th>id</th>\n      <th>original_caption</th>\n      <th>thumbnail_caption</th>\n    </tr>\n  </thead>\n  <tbody>\n    <tr>\n      <th>0</th>\n      <td>CityPorn</td>\n      <td>4emw5uldib9a1.jpg</td>\n      <td>New York in the fog</td>\n      <td>D:\\data\\images\\CityPorn\\thumbnail\\4emw5uldib9a...</td>\n      <td>True</td>\n      <td>D:\\data\\images\\CityPorn\\4emw5uldib9a1.jpg</td>\n      <td>True</td>\n      <td>7a8d96e378c15c8ab8440ac311f12c11</td>\n      <td>1000cej</td>\n      <td>cars are parked on the side of the road in the...</td>\n      <td>\"cars|NNS\",\"are|VBP\",\"parked|VBN\",\"on|IN\",\"the...</td>\n    </tr>\n    <tr>\n      <th>3</th>\n      <td>AmIhotAF</td>\n      <td>4xyb1vgbjb9a1.jpg</td>\n      <td>Just looking for entertainment</td>\n      <td>D:\\data\\images\\AmIhotAF\\thumbnail\\4xyb1vgbjb9a...</td>\n      <td>True</td>\n      <td>D:\\data\\images\\AmIhotAF\\4xyb1vgbjb9a1.jpg</td>\n      <td>True</td>\n      <td>e554c1ed7ffa2740436ac082068b2824</td>\n      <td>1000glf</td>\n      <td>blonde woman with blonde hair and tattoos on h...</td>\n      <td>\"blonde|NNS\",\"woman|NN\",\"with|IN\",\"hair|NN\",\"a...</td>\n    </tr>\n    <tr>\n      <th>4</th>\n      <td>greentext</td>\n      <td>3mewbe0wjb9a1.jpg</td>\n      <td>Anon wants Elon cut</td>\n      <td>D:\\data\\images\\greentext\\thumbnail\\3mewbe0wjb9...</td>\n      <td>True</td>\n      <td>D:\\data\\images\\greentext\\3mewbe0wjb9a1.jpg</td>\n      <td>True</td>\n      <td>1dec3dabb5e46cde01855d06089c287a</td>\n      <td>1000j1n</td>\n      <td>a man with a beard and a beard sitting in fron...</td>\n      <td>\"man|NN\",\"with|IN\",\"beard|NN\",\"and|CC\",\"sittin...</td>\n    </tr>\n    <tr>\n      <th>5</th>\n      <td>spaceporn</td>\n      <td>7s5aafaqkb9a1.jpg</td>\n      <td>Northern Lights above Lofoten</td>\n      <td>D:\\data\\images\\spaceporn\\thumbnail\\7s5aafaqkb9...</td>\n      <td>True</td>\n      <td>D:\\data\\images\\spaceporn\\7s5aafaqkb9a1.jpg</td>\n      <td>True</td>\n      <td>2c39ce1290fba541abd0b004b09da6b2</td>\n      <td>1000mjs</td>\n      <td>a view of a view of a large green and purple a...</td>\n      <td>\"view|NN\",\"of|IN\",\"large|JJ\",\"green|JJ\",\"and|C...</td>\n    </tr>\n    <tr>\n      <th>7</th>\n      <td>spaceporn</td>\n      <td>abojw7lqlb9a1.jpg</td>\n      <td>Viking Lights</td>\n      <td>D:\\data\\images\\spaceporn\\thumbnail\\abojw7lqlb9...</td>\n      <td>True</td>\n      <td>D:\\data\\images\\spaceporn\\abojw7lqlb9a1.jpg</td>\n      <td>True</td>\n      <td>0f72de47c69ff50eca5fa3990215f4ac</td>\n      <td>1000qpd</td>\n      <td>a scene of a boat is sitting on the shore of a...</td>\n      <td>\"scene|NN\",\"of|IN\",\"boat|NN\",\"is|VBZ\",\"sitting...</td>\n    </tr>\n    <tr>\n      <th>...</th>\n      <td>...</td>\n      <td>...</td>\n      <td>...</td>\n      <td>...</td>\n      <td>...</td>\n      <td>...</td>\n      <td>...</td>\n      <td>...</td>\n      <td>...</td>\n      <td>...</td>\n      <td>...</td>\n    </tr>\n    <tr>\n      <th>16077</th>\n      <td>spaceporn</td>\n      <td>abwhhq0w8b9a1.jpg</td>\n      <td>Polaris to Cassiopeia on a cloudy night.</td>\n      <td>D:\\data\\images\\spaceporn\\thumbnail\\abwhhq0w8b9...</td>\n      <td>True</td>\n      <td>D:\\data\\images\\spaceporn\\abwhhq0w8b9a1.jpg</td>\n      <td>True</td>\n      <td>f5973637fc56360c15818ba0ca1f7ffa</td>\n      <td>zzz6dp</td>\n      <td>starrdust sky with a few stars and a few stars</td>\n      <td>\"starrdust|NN\",\"sky|NN\",\"with|IN\",\"few|JJ\",\"st...</td>\n    </tr>\n    <tr>\n      <th>16078</th>\n      <td>spaceporn</td>\n      <td>7hzipg1bab9a1.jpg</td>\n      <td>The hunt for habitable ocean worlds beyond our...</td>\n      <td>D:\\data\\images\\spaceporn\\thumbnail\\7hzipg1bab9...</td>\n      <td>True</td>\n      <td>D:\\data\\images\\spaceporn\\7hzipg1bab9a1.jpg</td>\n      <td>True</td>\n      <td>5b22bea7582229c1f9b992176a2ca2c6</td>\n      <td>zzzcn5</td>\n      <td>a picture taken from the earth's surface of th...</td>\n      <td>\"picture|NN\",\"taken|VBN\",\"from|IN\",\"the|DT\",\"e...</td>\n    </tr>\n    <tr>\n      <th>16079</th>\n      <td>greentext</td>\n      <td>bgho6WK.jpg</td>\n      <td>Anon does a little trolling</td>\n      <td>D:\\data\\images\\greentext\\thumbnail\\bgho6WK.jpg</td>\n      <td>True</td>\n      <td>D:\\data\\images\\greentext\\bgho6WK.jpg</td>\n      <td>True</td>\n      <td>df666b8b2ad543c77b3fdba89becda1a</td>\n      <td>zzzeoi</td>\n      <td>a screenshote of a text message from a man who...</td>\n      <td>\"screenshote|NN\",\"of|IN\",\"text|JJ\",\"message|NN...</td>\n    </tr>\n    <tr>\n      <th>16081</th>\n      <td>trippinthroughtime</td>\n      <td>arCpzQ0.jpg</td>\n      <td>He didn't shed light on the topic I guess.</td>\n      <td>D:\\data\\images\\trippinthroughtime\\thumbnail\\ar...</td>\n      <td>True</td>\n      <td>D:\\data\\images\\trippinthroughtime\\arCpzQ0.jpg</td>\n      <td>True</td>\n      <td>5007b937974ae333022c0c91b795ca09</td>\n      <td>zzzlbf</td>\n      <td>a man in a red dress and a woman in a red dress</td>\n      <td>\"man|NN\",\"in|IN\",\"red|JJ\",\"dress|NN\",\"and|CC\",...</td>\n    </tr>\n    <tr>\n      <th>16084</th>\n      <td>HotGirlNextDoor</td>\n      <td>p6yewrl7eb9a1.jpg</td>\n      <td>(IKTR)</td>\n      <td>D:\\data\\images\\HotGirlNextDoor\\thumbnail\\p6yew...</td>\n      <td>True</td>\n      <td>D:\\data\\images\\HotGirlNextDoor\\p6yewrl7eb9a1.jpg</td>\n      <td>True</td>\n      <td>94dea288ddffb51eb1a786d469b59374</td>\n      <td>zzzu28</td>\n      <td>blonde woman in black bikini top and black bik...</td>\n      <td>\"blonde|NN\",\"woman|NN\",\"in|IN\",\"black|JJ\",\"bik...</td>\n    </tr>\n  </tbody>\n</table>\n<p>11514 rows × 11 columns</p>\n</div>"
     },
     "metadata": {},
     "output_type": "display_data"
    }
   ],
   "source": [
    "import json\n",
    "temp = processed_with_captions_more.copy()\n",
    "temp['foo'] = temp.apply(lambda x: \",\".join([json.dumps(\"|\".join([f for f in item.tolist()])) for item in x['thumbnail_caption'].tolist()]), axis=1)\n",
    "temp.rename(columns={\"thumbnail_caption\": \"thumbnail_caption_old\"}, inplace=True)\n",
    "temp.rename(columns={\"foo\": \"thumbnail_caption\"}, inplace=True)\n",
    "temp.drop(columns=[\"thumbnail_caption_old\"], inplace=True)\n",
    "display(temp)"
   ],
   "metadata": {
    "collapsed": false
   }
  },
  {
   "cell_type": "code",
   "execution_count": 30,
   "outputs": [
    {
     "name": "stderr",
     "output_type": "stream",
     "text": [
      "Captioning-Tokens-For-Image: 100%|██████████| 11514/11514 [00:30<00:00, 375.35it/s]\n"
     ]
    },
    {
     "data": {
      "text/plain": "global:   0%|          | 0/12 [00:00<?, ?it/s]",
      "application/vnd.jupyter.widget-view+json": {
       "version_major": 2,
       "version_minor": 0,
       "model_id": "d7f55e22b45f41938540ea5c21b4b03f"
      }
     },
     "metadata": {},
     "output_type": "display_data"
    },
    {
     "name": "stderr",
     "output_type": "stream",
     "text": [
      "upload to cloud: 100%|██████████| 11514/11514 [03:55<00:00, 11.11it/s]"
     ]
    },
    {
     "name": "stdout",
     "output_type": "stream",
     "text": [
      "Process Complete: Items Updated\n"
     ]
    }
   ],
   "source": [
    "progress = InnerProgressBar(len(processed_with_captions_more), \"upload to cloud\")\n",
    "ddf = dd.from_pandas(temp, npartitions=12)\n",
    "ddf.apply(lambda x: update_cloud(x), axis=1, meta=('str', object)).compute()\n",
    "print(\"Process Complete: Items Updated\")"
   ],
   "metadata": {
    "collapsed": false
   }
  }
 ],
 "metadata": {
  "kernelspec": {
   "display_name": "Python 3",
   "language": "python",
   "name": "python3"
  },
  "language_info": {
   "codemirror_mode": {
    "name": "ipython",
    "version": 2
   },
   "file_extension": ".py",
   "mimetype": "text/x-python",
   "name": "python",
   "nbconvert_exporter": "python",
   "pygments_lexer": "ipython2",
   "version": "2.7.6"
  }
 },
 "nbformat": 4,
 "nbformat_minor": 0
}
