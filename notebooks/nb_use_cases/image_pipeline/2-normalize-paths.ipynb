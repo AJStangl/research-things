{
 "cells": [
  {
   "cell_type": "code",
   "execution_count": 74,
   "metadata": {
    "collapsed": true
   },
   "outputs": [],
   "source": [
    "from shared_code.utility.spark.set_environ import *\n",
    "\n",
    "set_azure_env()\n",
    "\n",
    "spark = get_session(\"normalize-paths\")"
   ]
  },
  {
   "cell_type": "code",
   "execution_count": 75,
   "outputs": [],
   "source": [
    "from shared_code.utility.storage.table import TableAdapter\n",
    "\n",
    "table_name = \"training\"\n",
    "table_broker: TableAdapter = TableAdapter()\n",
    "\n",
    "raw_data = table_broker.get_all_entities(table_name)"
   ],
   "metadata": {
    "collapsed": false
   }
  },
  {
   "cell_type": "code",
   "execution_count": 76,
   "outputs": [],
   "source": [
    "from shared_code.utility.schemas.spark_table_schema import *\n",
    "\n",
    "df = spark.createDataFrame(raw_data, schema=image_table_schema)\n",
    "\n",
    "df.createOrReplaceTempView(\"temp_training\")"
   ],
   "metadata": {
    "collapsed": false
   }
  },
  {
   "cell_type": "code",
   "execution_count": 77,
   "outputs": [],
   "source": [
    "import os\n",
    "from pyspark.sql.functions import udf\n",
    "\n",
    "@udf(returnType=StringType())\n",
    "def get_missing_name(path):\n",
    "\ttry:\n",
    "\t\treturn os.path.split(path)[-1]\n",
    "\texcept:\n",
    "\t\treturn \"\""
   ],
   "metadata": {
    "collapsed": false
   }
  },
  {
   "cell_type": "code",
   "execution_count": 78,
   "outputs": [],
   "source": [
    "import os\n",
    "from pyspark.sql.functions import udf\n",
    "@udf(returnType=StringType())\n",
    "def get_correct_path(path, sub, name):\n",
    "\tnormal_path = os.path.normpath(path)\n",
    "\tif \"reddit_images\" in normal_path:\n",
    "\t\tupdated_path = os.path.join(\"D:\", os.sep, \"data\", \"images\", sub, name)\n",
    "\t\treturn updated_path\n",
    "\tif \"raw_reddit_images\" in normal_path:\n",
    "\t\tupdated_path = os.path.join(\"D:\", os.sep, \"data\", \"images\", sub, name)\n",
    "\t\treturn updated_path\n",
    "\telse:\n",
    "\t\tupdated_path = os.path.join(\"D:\", os.sep, \"data\", \"images\", sub, name)\n",
    "\t\treturn updated_path"
   ],
   "metadata": {
    "collapsed": false
   }
  },
  {
   "cell_type": "code",
   "execution_count": 79,
   "outputs": [],
   "source": [
    "import os\n",
    "from pyspark.sql.functions import udf\n",
    "@udf(returnType=BooleanType())\n",
    "def check_if_exists(path):\n",
    "\treturn os.path.exists(path)"
   ],
   "metadata": {
    "collapsed": false
   }
  },
  {
   "cell_type": "code",
   "execution_count": 80,
   "outputs": [],
   "source": [
    "import os\n",
    "from pyspark.sql.functions import udf\n",
    "@udf(returnType=BooleanType())\n",
    "def check_if_curated(curated: bool):\n",
    "\tif curated is None:\n",
    "\t\treturn False\n",
    "\tif curated == \"True\":\n",
    "\t\treturn True\n",
    "\telse:\n",
    "\t\treturn False"
   ],
   "metadata": {
    "collapsed": false
   }
  },
  {
   "cell_type": "code",
   "execution_count": 81,
   "outputs": [],
   "source": [
    "import os\n",
    "from pyspark.sql.functions import udf\n",
    "@udf(returnType=StringType())\n",
    "def get_thumbnail_path(path:str, sub:str, name:str):\n",
    "\tif path == \"\" or path is None or path == \"None\" or path == \"NaN\":\n",
    "\t\texpected_path = os.path.join(\"D:\", os.sep, \"data\", \"images\", sub, \"thumbnails\", name)\n",
    "\t\tif os.path.exists(expected_path):\n",
    "\t\t\tprint(f\"Found thumbnail as expected: {expected_path}\")\n",
    "\t\t\treturn expected_path\n",
    "\t\telse:\n",
    "\t\t\treturn \"\"\n",
    "\telse:\n",
    "\t\tif os.path.exists(path):\n",
    "\t\t\tprint(f\"Found thumbnail already: {path}\")\n",
    "\t\t\treturn path\n",
    "\t\telse:\n",
    "\t\t\treturn \"\""
   ],
   "metadata": {
    "collapsed": false
   }
  },
  {
   "cell_type": "code",
   "execution_count": 82,
   "outputs": [
    {
     "name": "stdout",
     "output_type": "stream",
     "text": [
      "Total missing image names: 0\n"
     ]
    }
   ],
   "source": [
    "missing_names_df = spark.sql(\"\"\"\n",
    "\tselect * from temp_training\n",
    "\twhere image_name is null\n",
    "\"\"\")\n",
    "\n",
    "total_missing_image_names = missing_names_df.count()\n",
    "print(f\"Total missing image names: {total_missing_image_names}\")"
   ],
   "metadata": {
    "collapsed": false
   }
  },
  {
   "cell_type": "code",
   "execution_count": 83,
   "outputs": [
    {
     "data": {
      "text/plain": "Empty DataFrame\nColumns: [PartitionKey, RowKey, image, text, id, author, url, flair, permalink, hash, subreddit, caption, exists, image_name, updated_caption, small_image, curated]\nIndex: []",
      "text/html": "<div>\n<style scoped>\n    .dataframe tbody tr th:only-of-type {\n        vertical-align: middle;\n    }\n\n    .dataframe tbody tr th {\n        vertical-align: top;\n    }\n\n    .dataframe thead th {\n        text-align: right;\n    }\n</style>\n<table border=\"1\" class=\"dataframe\">\n  <thead>\n    <tr style=\"text-align: right;\">\n      <th></th>\n      <th>PartitionKey</th>\n      <th>RowKey</th>\n      <th>image</th>\n      <th>text</th>\n      <th>id</th>\n      <th>author</th>\n      <th>url</th>\n      <th>flair</th>\n      <th>permalink</th>\n      <th>hash</th>\n      <th>subreddit</th>\n      <th>caption</th>\n      <th>exists</th>\n      <th>image_name</th>\n      <th>updated_caption</th>\n      <th>small_image</th>\n      <th>curated</th>\n    </tr>\n  </thead>\n  <tbody>\n  </tbody>\n</table>\n</div>"
     },
     "metadata": {},
     "output_type": "display_data"
    }
   ],
   "source": [
    "named_frame = missing_names_df.withColumn(\"image_name\", get_missing_name(\"image\"))\n",
    "\n",
    "display(named_frame.limit(10).toPandas())"
   ],
   "metadata": {
    "collapsed": false
   }
  },
  {
   "cell_type": "code",
   "execution_count": 84,
   "outputs": [
    {
     "name": "stdout",
     "output_type": "stream",
     "text": [
      "Total records to update: 0\n",
      "No records to update\n"
     ]
    }
   ],
   "source": [
    "records = named_frame.toPandas().to_dict('records')\n",
    "\n",
    "total = len(records)\n",
    "print(f\"Total records to update: {total}\")\n",
    "\n",
    "if total > 0:\n",
    "\tfor i, record in enumerate(records):\n",
    "\t\tif i % 100 == 0:\n",
    "\t\t\tprint(f\"Updating record {i} of {total}\")\n",
    "\t\ttable_broker.upsert_entity_to_table(table_name, record)\n",
    "else:\n",
    "\tprint(\"No records to update\")"
   ],
   "metadata": {
    "collapsed": false
   }
  },
  {
   "cell_type": "code",
   "execution_count": 85,
   "outputs": [
    {
     "data": {
      "text/plain": "  PartitionKey   RowKey                                              image  \\\n0     training  1000cej          D:\\data\\images\\CityPorn\\4emw5uldib9a1.jpg   \n1     training  1000d16        D:\\data\\images\\SFWNextDoorGirls\\GgFEagO.jpg   \n2     training  1000fg0   D:\\data\\images\\HotGirlNextDoor\\nwa7hts2jb9a1.jpg   \n3     training  1000glf          D:\\data\\images\\AmIhotAF\\4xyb1vgbjb9a1.jpg   \n4     training  1000qiq       D:\\data\\images\\SFWRedheads\\0mgrt95plb9a1.jpg   \n5     training  1001fon       D:\\data\\images\\SFWRedheads\\gp4fhsdorb9a1.jpg   \n6     training  1001ghp         D:\\data\\images\\sfwpetite\\v3ra9g4vrb9a1.jpg   \n7     training  1001ih5  D:\\data\\images\\SFWNextDoorGirls\\bhigr5rbsb9a1.jpg   \n8     training  1001kp4          D:\\data\\images\\AmIhotAF\\dn7lcclvsb9a1.jpg   \n9     training  1001ssd         D:\\data\\images\\sfwpetite\\ldz8tgpsub9a1.jpg   \n\n                                             text       id  \\\n0                             New York in the fog  1000cej   \n1             Thoughts about my NYE party outfit?  1000d16   \n2                                          (IKTR)  1000fg0   \n3                  Just looking for entertainment  1000glf   \n4  Who’s going to be my new years kiss tonight? 🤧  1000qiq   \n5                  honk if you like my sweater 😁💕  1001fon   \n6                                          Braids  1001ghp   \n7                                  New Year's Elf  1001ih5   \n8                             Happy New Years Eve  1001kp4   \n9                                 Incredible body  1001ssd   \n\n                author                                  url  \\\n0          OtterlyFoxy  https://i.redd.it/4emw5uldib9a1.jpg   \n1        princessxo699      https://i.imgur.com/GgFEagO.jpg   \n2           BlkBrd1312  https://i.redd.it/nwa7hts2jb9a1.jpg   \n3    toolate_sharkbait  https://i.redd.it/4xyb1vgbjb9a1.jpg   \n4      fireybubbulegum  https://i.redd.it/0mgrt95plb9a1.jpg   \n5            glam_pire  https://i.redd.it/gp4fhsdorb9a1.jpg   \n6           eromorphic  https://i.redd.it/v3ra9g4vrb9a1.jpg   \n7       ms_twine_grace  https://i.redd.it/bhigr5rbsb9a1.jpg   \n8      Hotblondie69420  https://i.redd.it/dn7lcclvsb9a1.jpg   \n9  CertifiedDrinkSpill  https://i.redd.it/ldz8tgpsub9a1.jpg   \n\n               flair                                          permalink  \\\n0                NaN  /r/CityPorn/comments/1000cej/new_york_in_the_fog/   \n1  Outfit of the Day  /r/SFWNextDoorGirls/comments/1000d16/thoughts_...   \n2    HotGirlNextDoor          /r/HotGirlNextDoor/comments/1000fg0/iktr/   \n3       Female (18+)  /r/AmIhotAF/comments/1000glf/just_looking_for_...   \n4                NaN  /r/SFWRedheads/comments/1000qiq/whos_going_to_...   \n5                NaN  /r/SFWRedheads/comments/1001fon/honk_if_you_li...   \n6                NaN              /r/sfwpetite/comments/1001ghp/braids/   \n7                NaN  /r/SFWNextDoorGirls/comments/1001ih5/new_years...   \n8       Female (18+)  /r/AmIhotAF/comments/1001kp4/happy_new_years_eve/   \n9                NaN     /r/sfwpetite/comments/1001ssd/incredible_body/   \n\n                               hash         subreddit  \\\n0  7a8d96e378c15c8ab8440ac311f12c11          CityPorn   \n1  9951b4f82caeb8ba2bd9f79f8d422450  SFWNextDoorGirls   \n2  be8dd55e34216bec1e15e03fa296eacc   HotGirlNextDoor   \n3  e554c1ed7ffa2740436ac082068b2824          AmIhotAF   \n4  7b0be38a08e3316051c6e5a3753bc791       SFWRedheads   \n5  feed678c3b74ed1d0b7011f28e8f283f       SFWRedheads   \n6  16ca1536c4f6936d3e994df7cb40ab8e         sfwpetite   \n7  9ff18e9afb7b566c0d50add45cbfb989  SFWNextDoorGirls   \n8  7137ef4fe19a97c757553bfa62b23a33          AmIhotAF   \n9  a0b0ffef01a7abf9de351000026d49f0         sfwpetite   \n\n                                             caption  exists  \\\n0     A person is riding a bicycle on a city street.    True   \n1  A little girl in a pink dress is holding a pin...    True   \n2  A woman in a pink bathing suit holds a baby in...    True   \n3  A woman in a pink dress is smiling at the camera.    True   \n4  A woman in a red dress is talking to a man in ...   False   \n5  A woman in a red dress is talking to a man in ...   False   \n6  A girl in a pink bathing suit walks down the b...    True   \n7  A little girl in a pink dress is dancing on a ...   False   \n8  A woman in a white dress is talking to a man i...   False   \n9  A woman in a bikini and a man in a white t-shi...    True   \n\n          image_name                                    updated_caption  \\\n0  4emw5uldib9a1.jpg                                                NaN   \n1        GgFEagO.jpg                                                NaN   \n2  nwa7hts2jb9a1.jpg  a woman in a bathing suit with a cell phone in...   \n3  4xyb1vgbjb9a1.jpg                                                NaN   \n4  0mgrt95plb9a1.jpg                                                NaN   \n5  gp4fhsdorb9a1.jpg                                                NaN   \n6  v3ra9g4vrb9a1.jpg  a beautiful young woman in a bikini posing for...   \n7  bhigr5rbsb9a1.jpg                                                NaN   \n8  dn7lcclvsb9a1.jpg                                                NaN   \n9  ldz8tgpsub9a1.jpg                                                NaN   \n\n                                         small_image  curated  \n0  D:\\data\\images\\CityPorn\\thumbnail\\4emw5uldib9a...    False  \n1  D:\\data\\images\\SFWNextDoorGirls\\thumbnail\\GgFE...    False  \n2  D:\\data\\images\\HotGirlNextDoor\\thumbnail\\nwa7h...    False  \n3  D:\\data\\images\\AmIhotAF\\thumbnail\\4xyb1vgbjb9a...    False  \n4                                               None    False  \n5                                               None    False  \n6  D:\\data\\images\\sfwpetite\\thumbnail\\v3ra9g4vrb9...    False  \n7                                               None    False  \n8                                               None    False  \n9  D:\\data\\images\\sfwpetite\\thumbnail\\ldz8tgpsub9...    False  ",
      "text/html": "<div>\n<style scoped>\n    .dataframe tbody tr th:only-of-type {\n        vertical-align: middle;\n    }\n\n    .dataframe tbody tr th {\n        vertical-align: top;\n    }\n\n    .dataframe thead th {\n        text-align: right;\n    }\n</style>\n<table border=\"1\" class=\"dataframe\">\n  <thead>\n    <tr style=\"text-align: right;\">\n      <th></th>\n      <th>PartitionKey</th>\n      <th>RowKey</th>\n      <th>image</th>\n      <th>text</th>\n      <th>id</th>\n      <th>author</th>\n      <th>url</th>\n      <th>flair</th>\n      <th>permalink</th>\n      <th>hash</th>\n      <th>subreddit</th>\n      <th>caption</th>\n      <th>exists</th>\n      <th>image_name</th>\n      <th>updated_caption</th>\n      <th>small_image</th>\n      <th>curated</th>\n    </tr>\n  </thead>\n  <tbody>\n    <tr>\n      <th>0</th>\n      <td>training</td>\n      <td>1000cej</td>\n      <td>D:\\data\\images\\CityPorn\\4emw5uldib9a1.jpg</td>\n      <td>New York in the fog</td>\n      <td>1000cej</td>\n      <td>OtterlyFoxy</td>\n      <td>https://i.redd.it/4emw5uldib9a1.jpg</td>\n      <td>NaN</td>\n      <td>/r/CityPorn/comments/1000cej/new_york_in_the_fog/</td>\n      <td>7a8d96e378c15c8ab8440ac311f12c11</td>\n      <td>CityPorn</td>\n      <td>A person is riding a bicycle on a city street.</td>\n      <td>True</td>\n      <td>4emw5uldib9a1.jpg</td>\n      <td>NaN</td>\n      <td>D:\\data\\images\\CityPorn\\thumbnail\\4emw5uldib9a...</td>\n      <td>False</td>\n    </tr>\n    <tr>\n      <th>1</th>\n      <td>training</td>\n      <td>1000d16</td>\n      <td>D:\\data\\images\\SFWNextDoorGirls\\GgFEagO.jpg</td>\n      <td>Thoughts about my NYE party outfit?</td>\n      <td>1000d16</td>\n      <td>princessxo699</td>\n      <td>https://i.imgur.com/GgFEagO.jpg</td>\n      <td>Outfit of the Day</td>\n      <td>/r/SFWNextDoorGirls/comments/1000d16/thoughts_...</td>\n      <td>9951b4f82caeb8ba2bd9f79f8d422450</td>\n      <td>SFWNextDoorGirls</td>\n      <td>A little girl in a pink dress is holding a pin...</td>\n      <td>True</td>\n      <td>GgFEagO.jpg</td>\n      <td>NaN</td>\n      <td>D:\\data\\images\\SFWNextDoorGirls\\thumbnail\\GgFE...</td>\n      <td>False</td>\n    </tr>\n    <tr>\n      <th>2</th>\n      <td>training</td>\n      <td>1000fg0</td>\n      <td>D:\\data\\images\\HotGirlNextDoor\\nwa7hts2jb9a1.jpg</td>\n      <td>(IKTR)</td>\n      <td>1000fg0</td>\n      <td>BlkBrd1312</td>\n      <td>https://i.redd.it/nwa7hts2jb9a1.jpg</td>\n      <td>HotGirlNextDoor</td>\n      <td>/r/HotGirlNextDoor/comments/1000fg0/iktr/</td>\n      <td>be8dd55e34216bec1e15e03fa296eacc</td>\n      <td>HotGirlNextDoor</td>\n      <td>A woman in a pink bathing suit holds a baby in...</td>\n      <td>True</td>\n      <td>nwa7hts2jb9a1.jpg</td>\n      <td>a woman in a bathing suit with a cell phone in...</td>\n      <td>D:\\data\\images\\HotGirlNextDoor\\thumbnail\\nwa7h...</td>\n      <td>False</td>\n    </tr>\n    <tr>\n      <th>3</th>\n      <td>training</td>\n      <td>1000glf</td>\n      <td>D:\\data\\images\\AmIhotAF\\4xyb1vgbjb9a1.jpg</td>\n      <td>Just looking for entertainment</td>\n      <td>1000glf</td>\n      <td>toolate_sharkbait</td>\n      <td>https://i.redd.it/4xyb1vgbjb9a1.jpg</td>\n      <td>Female (18+)</td>\n      <td>/r/AmIhotAF/comments/1000glf/just_looking_for_...</td>\n      <td>e554c1ed7ffa2740436ac082068b2824</td>\n      <td>AmIhotAF</td>\n      <td>A woman in a pink dress is smiling at the camera.</td>\n      <td>True</td>\n      <td>4xyb1vgbjb9a1.jpg</td>\n      <td>NaN</td>\n      <td>D:\\data\\images\\AmIhotAF\\thumbnail\\4xyb1vgbjb9a...</td>\n      <td>False</td>\n    </tr>\n    <tr>\n      <th>4</th>\n      <td>training</td>\n      <td>1000qiq</td>\n      <td>D:\\data\\images\\SFWRedheads\\0mgrt95plb9a1.jpg</td>\n      <td>Who’s going to be my new years kiss tonight? 🤧</td>\n      <td>1000qiq</td>\n      <td>fireybubbulegum</td>\n      <td>https://i.redd.it/0mgrt95plb9a1.jpg</td>\n      <td>NaN</td>\n      <td>/r/SFWRedheads/comments/1000qiq/whos_going_to_...</td>\n      <td>7b0be38a08e3316051c6e5a3753bc791</td>\n      <td>SFWRedheads</td>\n      <td>A woman in a red dress is talking to a man in ...</td>\n      <td>False</td>\n      <td>0mgrt95plb9a1.jpg</td>\n      <td>NaN</td>\n      <td>None</td>\n      <td>False</td>\n    </tr>\n    <tr>\n      <th>5</th>\n      <td>training</td>\n      <td>1001fon</td>\n      <td>D:\\data\\images\\SFWRedheads\\gp4fhsdorb9a1.jpg</td>\n      <td>honk if you like my sweater 😁💕</td>\n      <td>1001fon</td>\n      <td>glam_pire</td>\n      <td>https://i.redd.it/gp4fhsdorb9a1.jpg</td>\n      <td>NaN</td>\n      <td>/r/SFWRedheads/comments/1001fon/honk_if_you_li...</td>\n      <td>feed678c3b74ed1d0b7011f28e8f283f</td>\n      <td>SFWRedheads</td>\n      <td>A woman in a red dress is talking to a man in ...</td>\n      <td>False</td>\n      <td>gp4fhsdorb9a1.jpg</td>\n      <td>NaN</td>\n      <td>None</td>\n      <td>False</td>\n    </tr>\n    <tr>\n      <th>6</th>\n      <td>training</td>\n      <td>1001ghp</td>\n      <td>D:\\data\\images\\sfwpetite\\v3ra9g4vrb9a1.jpg</td>\n      <td>Braids</td>\n      <td>1001ghp</td>\n      <td>eromorphic</td>\n      <td>https://i.redd.it/v3ra9g4vrb9a1.jpg</td>\n      <td>NaN</td>\n      <td>/r/sfwpetite/comments/1001ghp/braids/</td>\n      <td>16ca1536c4f6936d3e994df7cb40ab8e</td>\n      <td>sfwpetite</td>\n      <td>A girl in a pink bathing suit walks down the b...</td>\n      <td>True</td>\n      <td>v3ra9g4vrb9a1.jpg</td>\n      <td>a beautiful young woman in a bikini posing for...</td>\n      <td>D:\\data\\images\\sfwpetite\\thumbnail\\v3ra9g4vrb9...</td>\n      <td>False</td>\n    </tr>\n    <tr>\n      <th>7</th>\n      <td>training</td>\n      <td>1001ih5</td>\n      <td>D:\\data\\images\\SFWNextDoorGirls\\bhigr5rbsb9a1.jpg</td>\n      <td>New Year's Elf</td>\n      <td>1001ih5</td>\n      <td>ms_twine_grace</td>\n      <td>https://i.redd.it/bhigr5rbsb9a1.jpg</td>\n      <td>NaN</td>\n      <td>/r/SFWNextDoorGirls/comments/1001ih5/new_years...</td>\n      <td>9ff18e9afb7b566c0d50add45cbfb989</td>\n      <td>SFWNextDoorGirls</td>\n      <td>A little girl in a pink dress is dancing on a ...</td>\n      <td>False</td>\n      <td>bhigr5rbsb9a1.jpg</td>\n      <td>NaN</td>\n      <td>None</td>\n      <td>False</td>\n    </tr>\n    <tr>\n      <th>8</th>\n      <td>training</td>\n      <td>1001kp4</td>\n      <td>D:\\data\\images\\AmIhotAF\\dn7lcclvsb9a1.jpg</td>\n      <td>Happy New Years Eve</td>\n      <td>1001kp4</td>\n      <td>Hotblondie69420</td>\n      <td>https://i.redd.it/dn7lcclvsb9a1.jpg</td>\n      <td>Female (18+)</td>\n      <td>/r/AmIhotAF/comments/1001kp4/happy_new_years_eve/</td>\n      <td>7137ef4fe19a97c757553bfa62b23a33</td>\n      <td>AmIhotAF</td>\n      <td>A woman in a white dress is talking to a man i...</td>\n      <td>False</td>\n      <td>dn7lcclvsb9a1.jpg</td>\n      <td>NaN</td>\n      <td>None</td>\n      <td>False</td>\n    </tr>\n    <tr>\n      <th>9</th>\n      <td>training</td>\n      <td>1001ssd</td>\n      <td>D:\\data\\images\\sfwpetite\\ldz8tgpsub9a1.jpg</td>\n      <td>Incredible body</td>\n      <td>1001ssd</td>\n      <td>CertifiedDrinkSpill</td>\n      <td>https://i.redd.it/ldz8tgpsub9a1.jpg</td>\n      <td>NaN</td>\n      <td>/r/sfwpetite/comments/1001ssd/incredible_body/</td>\n      <td>a0b0ffef01a7abf9de351000026d49f0</td>\n      <td>sfwpetite</td>\n      <td>A woman in a bikini and a man in a white t-shi...</td>\n      <td>True</td>\n      <td>ldz8tgpsub9a1.jpg</td>\n      <td>NaN</td>\n      <td>D:\\data\\images\\sfwpetite\\thumbnail\\ldz8tgpsub9...</td>\n      <td>False</td>\n    </tr>\n  </tbody>\n</table>\n</div>"
     },
     "metadata": {},
     "output_type": "display_data"
    }
   ],
   "source": [
    "entities = table_broker.get_all_entities(table_name)\n",
    "data_frame = spark.createDataFrame(entities, schema=image_table_schema)\n",
    "display(data_frame.limit(10).toPandas())"
   ],
   "metadata": {
    "collapsed": false
   }
  },
  {
   "cell_type": "code",
   "execution_count": 86,
   "outputs": [
    {
     "data": {
      "text/plain": "     PartitionKey   RowKey                                            text  \\\n0        training  1000cej                             New York in the fog   \n1        training  1000d16             Thoughts about my NYE party outfit?   \n2        training  1000fg0                                          (IKTR)   \n3        training  1000glf                  Just looking for entertainment   \n4        training  1000qiq  Who’s going to be my new years kiss tonight? 🤧   \n...           ...      ...                                             ...   \n6496     training   zzy49v                 Ronda's bridge is brutal, Spain   \n6497     training   zzyerp                        Good evening everyone ❤️   \n6498     training   zzzg13                               Cute but Deadly 😋   \n6499     training   zzzlyl                                  Taipei, Taiwan   \n6500     training   zzzu28                                          (IKTR)   \n\n           id               author  \\\n0     1000cej          OtterlyFoxy   \n1     1000d16        princessxo699   \n2     1000fg0           BlkBrd1312   \n3     1000glf    toolate_sharkbait   \n4     1000qiq      fireybubbulegum   \n...       ...                  ...   \n6496   zzy49v       Withalstyle968   \n6497   zzyerp         Juliadomaina   \n6498   zzzg13     AdConsistent3184   \n6499   zzzlyl  Particular-Chip2355   \n6500   zzzu28       Butter_Luver05   \n\n                                                    url              flair  \\\n0                   https://i.redd.it/4emw5uldib9a1.jpg                NaN   \n1                       https://i.imgur.com/GgFEagO.jpg  Outfit of the Day   \n2                   https://i.redd.it/nwa7hts2jb9a1.jpg    HotGirlNextDoor   \n3                   https://i.redd.it/4xyb1vgbjb9a1.jpg       Female (18+)   \n4                   https://i.redd.it/0mgrt95plb9a1.jpg                NaN   \n...                                                 ...                ...   \n6496                https://i.redd.it/dwu7i1dni99a1.jpg                NaN   \n6497                https://i.redd.it/hgktc1on2b9a1.jpg       Female (18+)   \n6498                https://i.redd.it/3rv0ql34bb9a1.jpg                NaN   \n6499  https://upload.wikimedia.org/wikipedia/commons...                NaN   \n6500                https://i.redd.it/p6yewrl7eb9a1.jpg    HotGirlNextDoor   \n\n                                              permalink  \\\n0     /r/CityPorn/comments/1000cej/new_york_in_the_fog/   \n1     /r/SFWNextDoorGirls/comments/1000d16/thoughts_...   \n2             /r/HotGirlNextDoor/comments/1000fg0/iktr/   \n3     /r/AmIhotAF/comments/1000glf/just_looking_for_...   \n4     /r/SFWRedheads/comments/1000qiq/whos_going_to_...   \n...                                                 ...   \n6496  /r/CityPorn/comments/zzy49v/rondas_bridge_is_b...   \n6497  /r/AmIhotAF/comments/zzyerp/good_evening_every...   \n6498    /r/SFWRedheads/comments/zzzg13/cute_but_deadly/   \n6499         /r/CityPorn/comments/zzzlyl/taipei_taiwan/   \n6500           /r/HotGirlNextDoor/comments/zzzu28/iktr/   \n\n                                  hash         subreddit  \\\n0     7a8d96e378c15c8ab8440ac311f12c11          CityPorn   \n1     9951b4f82caeb8ba2bd9f79f8d422450  SFWNextDoorGirls   \n2     be8dd55e34216bec1e15e03fa296eacc   HotGirlNextDoor   \n3     e554c1ed7ffa2740436ac082068b2824          AmIhotAF   \n4     7b0be38a08e3316051c6e5a3753bc791       SFWRedheads   \n...                                ...               ...   \n6496  02ae3631262b2de84b0b24c4275deae9          CityPorn   \n6497  9279353b1761d62e7f8ca587a4146abf          AmIhotAF   \n6498  ba89401054b09d3ff2b608705f8a7110       SFWRedheads   \n6499  3cac9b29f27d5fc26ddcec4e1641649f          CityPorn   \n6500  94dea288ddffb51eb1a786d469b59374   HotGirlNextDoor   \n\n                                                caption  exists  \\\n0        A person is riding a bicycle on a city street.    True   \n1     A little girl in a pink dress is holding a pin...    True   \n2     A woman in a pink bathing suit holds a baby in...    True   \n3     A woman in a pink dress is smiling at the camera.    True   \n4     A woman in a red dress is talking to a man in ...   False   \n...                                                 ...     ...   \n6496  A group of people are standing in front of a l...    True   \n6497  A girl in a red jacket is sitting on a red horse.    True   \n6498  A little girl in a pink dress is sitting on a ...   False   \n6499                          Error in captioning image    True   \n6500  A woman in a pink bathing suit is sitting on a...    True   \n\n                         image_name  \\\n0                 4emw5uldib9a1.jpg   \n1                       GgFEagO.jpg   \n2                 nwa7hts2jb9a1.jpg   \n3                 4xyb1vgbjb9a1.jpg   \n4                 0mgrt95plb9a1.jpg   \n...                             ...   \n6496              dwu7i1dni99a1.jpg   \n6497              hgktc1on2b9a1.jpg   \n6498              3rv0ql34bb9a1.jpg   \n6499  Minquan_Bridge2017_TAIWAN.jpg   \n6500              p6yewrl7eb9a1.jpg   \n\n                                        updated_caption  curated  \\\n0                                                   NaN    False   \n1                                                   NaN    False   \n2     a woman in a bathing suit with a cell phone in...    False   \n3                                                   NaN    False   \n4                                                   NaN    False   \n...                                                 ...      ...   \n6496                                                NaN    False   \n6497                                                NaN    False   \n6498                                                NaN    False   \n6499                                                NaN    False   \n6500             a woman in a bikini sitting on a beach    False   \n\n                                                  image  \\\n0             D:\\data\\images\\CityPorn\\4emw5uldib9a1.jpg   \n1           D:\\data\\images\\SFWNextDoorGirls\\GgFEagO.jpg   \n2      D:\\data\\images\\HotGirlNextDoor\\nwa7hts2jb9a1.jpg   \n3             D:\\data\\images\\AmIhotAF\\4xyb1vgbjb9a1.jpg   \n4          D:\\data\\images\\SFWRedheads\\0mgrt95plb9a1.jpg   \n...                                                 ...   \n6496          D:\\data\\images\\CityPorn\\dwu7i1dni99a1.jpg   \n6497          D:\\data\\images\\AmIhotAF\\hgktc1on2b9a1.jpg   \n6498       D:\\data\\images\\SFWRedheads\\3rv0ql34bb9a1.jpg   \n6499  D:\\data\\images\\CityPorn\\Minquan_Bridge2017_TAI...   \n6500   D:\\data\\images\\HotGirlNextDoor\\p6yewrl7eb9a1.jpg   \n\n                                            small_image  \n0     D:\\data\\images\\CityPorn\\thumbnail\\4emw5uldib9a...  \n1     D:\\data\\images\\SFWNextDoorGirls\\thumbnail\\GgFE...  \n2     D:\\data\\images\\HotGirlNextDoor\\thumbnail\\nwa7h...  \n3     D:\\data\\images\\AmIhotAF\\thumbnail\\4xyb1vgbjb9a...  \n4                                                        \n...                                                 ...  \n6496  D:\\data\\images\\CityPorn\\thumbnail\\dwu7i1dni99a...  \n6497  D:\\data\\images\\AmIhotAF\\thumbnail\\hgktc1on2b9a...  \n6498                                                     \n6499                                                     \n6500  D:\\data\\images\\HotGirlNextDoor\\thumbnail\\p6yew...  \n\n[6501 rows x 17 columns]",
      "text/html": "<div>\n<style scoped>\n    .dataframe tbody tr th:only-of-type {\n        vertical-align: middle;\n    }\n\n    .dataframe tbody tr th {\n        vertical-align: top;\n    }\n\n    .dataframe thead th {\n        text-align: right;\n    }\n</style>\n<table border=\"1\" class=\"dataframe\">\n  <thead>\n    <tr style=\"text-align: right;\">\n      <th></th>\n      <th>PartitionKey</th>\n      <th>RowKey</th>\n      <th>text</th>\n      <th>id</th>\n      <th>author</th>\n      <th>url</th>\n      <th>flair</th>\n      <th>permalink</th>\n      <th>hash</th>\n      <th>subreddit</th>\n      <th>caption</th>\n      <th>exists</th>\n      <th>image_name</th>\n      <th>updated_caption</th>\n      <th>curated</th>\n      <th>image</th>\n      <th>small_image</th>\n    </tr>\n  </thead>\n  <tbody>\n    <tr>\n      <th>0</th>\n      <td>training</td>\n      <td>1000cej</td>\n      <td>New York in the fog</td>\n      <td>1000cej</td>\n      <td>OtterlyFoxy</td>\n      <td>https://i.redd.it/4emw5uldib9a1.jpg</td>\n      <td>NaN</td>\n      <td>/r/CityPorn/comments/1000cej/new_york_in_the_fog/</td>\n      <td>7a8d96e378c15c8ab8440ac311f12c11</td>\n      <td>CityPorn</td>\n      <td>A person is riding a bicycle on a city street.</td>\n      <td>True</td>\n      <td>4emw5uldib9a1.jpg</td>\n      <td>NaN</td>\n      <td>False</td>\n      <td>D:\\data\\images\\CityPorn\\4emw5uldib9a1.jpg</td>\n      <td>D:\\data\\images\\CityPorn\\thumbnail\\4emw5uldib9a...</td>\n    </tr>\n    <tr>\n      <th>1</th>\n      <td>training</td>\n      <td>1000d16</td>\n      <td>Thoughts about my NYE party outfit?</td>\n      <td>1000d16</td>\n      <td>princessxo699</td>\n      <td>https://i.imgur.com/GgFEagO.jpg</td>\n      <td>Outfit of the Day</td>\n      <td>/r/SFWNextDoorGirls/comments/1000d16/thoughts_...</td>\n      <td>9951b4f82caeb8ba2bd9f79f8d422450</td>\n      <td>SFWNextDoorGirls</td>\n      <td>A little girl in a pink dress is holding a pin...</td>\n      <td>True</td>\n      <td>GgFEagO.jpg</td>\n      <td>NaN</td>\n      <td>False</td>\n      <td>D:\\data\\images\\SFWNextDoorGirls\\GgFEagO.jpg</td>\n      <td>D:\\data\\images\\SFWNextDoorGirls\\thumbnail\\GgFE...</td>\n    </tr>\n    <tr>\n      <th>2</th>\n      <td>training</td>\n      <td>1000fg0</td>\n      <td>(IKTR)</td>\n      <td>1000fg0</td>\n      <td>BlkBrd1312</td>\n      <td>https://i.redd.it/nwa7hts2jb9a1.jpg</td>\n      <td>HotGirlNextDoor</td>\n      <td>/r/HotGirlNextDoor/comments/1000fg0/iktr/</td>\n      <td>be8dd55e34216bec1e15e03fa296eacc</td>\n      <td>HotGirlNextDoor</td>\n      <td>A woman in a pink bathing suit holds a baby in...</td>\n      <td>True</td>\n      <td>nwa7hts2jb9a1.jpg</td>\n      <td>a woman in a bathing suit with a cell phone in...</td>\n      <td>False</td>\n      <td>D:\\data\\images\\HotGirlNextDoor\\nwa7hts2jb9a1.jpg</td>\n      <td>D:\\data\\images\\HotGirlNextDoor\\thumbnail\\nwa7h...</td>\n    </tr>\n    <tr>\n      <th>3</th>\n      <td>training</td>\n      <td>1000glf</td>\n      <td>Just looking for entertainment</td>\n      <td>1000glf</td>\n      <td>toolate_sharkbait</td>\n      <td>https://i.redd.it/4xyb1vgbjb9a1.jpg</td>\n      <td>Female (18+)</td>\n      <td>/r/AmIhotAF/comments/1000glf/just_looking_for_...</td>\n      <td>e554c1ed7ffa2740436ac082068b2824</td>\n      <td>AmIhotAF</td>\n      <td>A woman in a pink dress is smiling at the camera.</td>\n      <td>True</td>\n      <td>4xyb1vgbjb9a1.jpg</td>\n      <td>NaN</td>\n      <td>False</td>\n      <td>D:\\data\\images\\AmIhotAF\\4xyb1vgbjb9a1.jpg</td>\n      <td>D:\\data\\images\\AmIhotAF\\thumbnail\\4xyb1vgbjb9a...</td>\n    </tr>\n    <tr>\n      <th>4</th>\n      <td>training</td>\n      <td>1000qiq</td>\n      <td>Who’s going to be my new years kiss tonight? 🤧</td>\n      <td>1000qiq</td>\n      <td>fireybubbulegum</td>\n      <td>https://i.redd.it/0mgrt95plb9a1.jpg</td>\n      <td>NaN</td>\n      <td>/r/SFWRedheads/comments/1000qiq/whos_going_to_...</td>\n      <td>7b0be38a08e3316051c6e5a3753bc791</td>\n      <td>SFWRedheads</td>\n      <td>A woman in a red dress is talking to a man in ...</td>\n      <td>False</td>\n      <td>0mgrt95plb9a1.jpg</td>\n      <td>NaN</td>\n      <td>False</td>\n      <td>D:\\data\\images\\SFWRedheads\\0mgrt95plb9a1.jpg</td>\n      <td></td>\n    </tr>\n    <tr>\n      <th>...</th>\n      <td>...</td>\n      <td>...</td>\n      <td>...</td>\n      <td>...</td>\n      <td>...</td>\n      <td>...</td>\n      <td>...</td>\n      <td>...</td>\n      <td>...</td>\n      <td>...</td>\n      <td>...</td>\n      <td>...</td>\n      <td>...</td>\n      <td>...</td>\n      <td>...</td>\n      <td>...</td>\n      <td>...</td>\n    </tr>\n    <tr>\n      <th>6496</th>\n      <td>training</td>\n      <td>zzy49v</td>\n      <td>Ronda's bridge is brutal, Spain</td>\n      <td>zzy49v</td>\n      <td>Withalstyle968</td>\n      <td>https://i.redd.it/dwu7i1dni99a1.jpg</td>\n      <td>NaN</td>\n      <td>/r/CityPorn/comments/zzy49v/rondas_bridge_is_b...</td>\n      <td>02ae3631262b2de84b0b24c4275deae9</td>\n      <td>CityPorn</td>\n      <td>A group of people are standing in front of a l...</td>\n      <td>True</td>\n      <td>dwu7i1dni99a1.jpg</td>\n      <td>NaN</td>\n      <td>False</td>\n      <td>D:\\data\\images\\CityPorn\\dwu7i1dni99a1.jpg</td>\n      <td>D:\\data\\images\\CityPorn\\thumbnail\\dwu7i1dni99a...</td>\n    </tr>\n    <tr>\n      <th>6497</th>\n      <td>training</td>\n      <td>zzyerp</td>\n      <td>Good evening everyone ❤️</td>\n      <td>zzyerp</td>\n      <td>Juliadomaina</td>\n      <td>https://i.redd.it/hgktc1on2b9a1.jpg</td>\n      <td>Female (18+)</td>\n      <td>/r/AmIhotAF/comments/zzyerp/good_evening_every...</td>\n      <td>9279353b1761d62e7f8ca587a4146abf</td>\n      <td>AmIhotAF</td>\n      <td>A girl in a red jacket is sitting on a red horse.</td>\n      <td>True</td>\n      <td>hgktc1on2b9a1.jpg</td>\n      <td>NaN</td>\n      <td>False</td>\n      <td>D:\\data\\images\\AmIhotAF\\hgktc1on2b9a1.jpg</td>\n      <td>D:\\data\\images\\AmIhotAF\\thumbnail\\hgktc1on2b9a...</td>\n    </tr>\n    <tr>\n      <th>6498</th>\n      <td>training</td>\n      <td>zzzg13</td>\n      <td>Cute but Deadly 😋</td>\n      <td>zzzg13</td>\n      <td>AdConsistent3184</td>\n      <td>https://i.redd.it/3rv0ql34bb9a1.jpg</td>\n      <td>NaN</td>\n      <td>/r/SFWRedheads/comments/zzzg13/cute_but_deadly/</td>\n      <td>ba89401054b09d3ff2b608705f8a7110</td>\n      <td>SFWRedheads</td>\n      <td>A little girl in a pink dress is sitting on a ...</td>\n      <td>False</td>\n      <td>3rv0ql34bb9a1.jpg</td>\n      <td>NaN</td>\n      <td>False</td>\n      <td>D:\\data\\images\\SFWRedheads\\3rv0ql34bb9a1.jpg</td>\n      <td></td>\n    </tr>\n    <tr>\n      <th>6499</th>\n      <td>training</td>\n      <td>zzzlyl</td>\n      <td>Taipei, Taiwan</td>\n      <td>zzzlyl</td>\n      <td>Particular-Chip2355</td>\n      <td>https://upload.wikimedia.org/wikipedia/commons...</td>\n      <td>NaN</td>\n      <td>/r/CityPorn/comments/zzzlyl/taipei_taiwan/</td>\n      <td>3cac9b29f27d5fc26ddcec4e1641649f</td>\n      <td>CityPorn</td>\n      <td>Error in captioning image</td>\n      <td>True</td>\n      <td>Minquan_Bridge2017_TAIWAN.jpg</td>\n      <td>NaN</td>\n      <td>False</td>\n      <td>D:\\data\\images\\CityPorn\\Minquan_Bridge2017_TAI...</td>\n      <td></td>\n    </tr>\n    <tr>\n      <th>6500</th>\n      <td>training</td>\n      <td>zzzu28</td>\n      <td>(IKTR)</td>\n      <td>zzzu28</td>\n      <td>Butter_Luver05</td>\n      <td>https://i.redd.it/p6yewrl7eb9a1.jpg</td>\n      <td>HotGirlNextDoor</td>\n      <td>/r/HotGirlNextDoor/comments/zzzu28/iktr/</td>\n      <td>94dea288ddffb51eb1a786d469b59374</td>\n      <td>HotGirlNextDoor</td>\n      <td>A woman in a pink bathing suit is sitting on a...</td>\n      <td>True</td>\n      <td>p6yewrl7eb9a1.jpg</td>\n      <td>a woman in a bikini sitting on a beach</td>\n      <td>False</td>\n      <td>D:\\data\\images\\HotGirlNextDoor\\p6yewrl7eb9a1.jpg</td>\n      <td>D:\\data\\images\\HotGirlNextDoor\\thumbnail\\p6yew...</td>\n    </tr>\n  </tbody>\n</table>\n<p>6501 rows × 17 columns</p>\n</div>"
     },
     "metadata": {},
     "output_type": "display_data"
    }
   ],
   "source": [
    "new_df = data_frame\\\n",
    "\t.withColumn(\"updated_path\", get_correct_path(\"image\", \"subreddit\", \"image_name\"))\\\n",
    "\t.withColumn(\"exists\", check_if_exists(\"updated_path\"))\\\n",
    "\t.withColumn(\"curated\", check_if_curated(\"curated\"))\\\n",
    "\t.withColumn(\"expected_small_image\", get_thumbnail_path(\"small_image\", \"subreddit\", \"image_name\"))\\\n",
    "\t.drop(\"exits\")\\\n",
    "\t.drop(\"image\")\\\n",
    "\t.withColumnRenamed(\"updated_path\", \"image\")\\\n",
    "\t.drop(\"small_image\")\\\n",
    "\t.withColumnRenamed(\"expected_small_image\", \"small_image\")\n",
    "\n",
    "pandas_frame = new_df.toPandas()\n",
    "\n",
    "display(pandas_frame)"
   ],
   "metadata": {
    "collapsed": false
   }
  },
  {
   "cell_type": "code",
   "execution_count": 87,
   "outputs": [
    {
     "name": "stdout",
     "output_type": "stream",
     "text": [
      "Total records to write: 6501\n"
     ]
    },
    {
     "data": {
      "text/plain": "  PartitionKey   RowKey                                              image  \\\n0     training  1000cej          D:\\data\\images\\CityPorn\\4emw5uldib9a1.jpg   \n1     training  1000d16        D:\\data\\images\\SFWNextDoorGirls\\GgFEagO.jpg   \n2     training  1000fg0   D:\\data\\images\\HotGirlNextDoor\\nwa7hts2jb9a1.jpg   \n3     training  1000glf          D:\\data\\images\\AmIhotAF\\4xyb1vgbjb9a1.jpg   \n4     training  1000qiq       D:\\data\\images\\SFWRedheads\\0mgrt95plb9a1.jpg   \n5     training  1001fon       D:\\data\\images\\SFWRedheads\\gp4fhsdorb9a1.jpg   \n6     training  1001ghp         D:\\data\\images\\sfwpetite\\v3ra9g4vrb9a1.jpg   \n7     training  1001ih5  D:\\data\\images\\SFWNextDoorGirls\\bhigr5rbsb9a1.jpg   \n8     training  1001kp4          D:\\data\\images\\AmIhotAF\\dn7lcclvsb9a1.jpg   \n9     training  1001ssd         D:\\data\\images\\sfwpetite\\ldz8tgpsub9a1.jpg   \n\n                                             text       id  \\\n0                             New York in the fog  1000cej   \n1             Thoughts about my NYE party outfit?  1000d16   \n2                                          (IKTR)  1000fg0   \n3                  Just looking for entertainment  1000glf   \n4  Who’s going to be my new years kiss tonight? 🤧  1000qiq   \n5                  honk if you like my sweater 😁💕  1001fon   \n6                                          Braids  1001ghp   \n7                                  New Year's Elf  1001ih5   \n8                             Happy New Years Eve  1001kp4   \n9                                 Incredible body  1001ssd   \n\n                author                                  url  \\\n0          OtterlyFoxy  https://i.redd.it/4emw5uldib9a1.jpg   \n1        princessxo699      https://i.imgur.com/GgFEagO.jpg   \n2           BlkBrd1312  https://i.redd.it/nwa7hts2jb9a1.jpg   \n3    toolate_sharkbait  https://i.redd.it/4xyb1vgbjb9a1.jpg   \n4      fireybubbulegum  https://i.redd.it/0mgrt95plb9a1.jpg   \n5            glam_pire  https://i.redd.it/gp4fhsdorb9a1.jpg   \n6           eromorphic  https://i.redd.it/v3ra9g4vrb9a1.jpg   \n7       ms_twine_grace  https://i.redd.it/bhigr5rbsb9a1.jpg   \n8      Hotblondie69420  https://i.redd.it/dn7lcclvsb9a1.jpg   \n9  CertifiedDrinkSpill  https://i.redd.it/ldz8tgpsub9a1.jpg   \n\n               flair                                          permalink  \\\n0                NaN  /r/CityPorn/comments/1000cej/new_york_in_the_fog/   \n1  Outfit of the Day  /r/SFWNextDoorGirls/comments/1000d16/thoughts_...   \n2    HotGirlNextDoor          /r/HotGirlNextDoor/comments/1000fg0/iktr/   \n3       Female (18+)  /r/AmIhotAF/comments/1000glf/just_looking_for_...   \n4                NaN  /r/SFWRedheads/comments/1000qiq/whos_going_to_...   \n5                NaN  /r/SFWRedheads/comments/1001fon/honk_if_you_li...   \n6                NaN              /r/sfwpetite/comments/1001ghp/braids/   \n7                NaN  /r/SFWNextDoorGirls/comments/1001ih5/new_years...   \n8       Female (18+)  /r/AmIhotAF/comments/1001kp4/happy_new_years_eve/   \n9                NaN     /r/sfwpetite/comments/1001ssd/incredible_body/   \n\n                               hash         subreddit  \\\n0  7a8d96e378c15c8ab8440ac311f12c11          CityPorn   \n1  9951b4f82caeb8ba2bd9f79f8d422450  SFWNextDoorGirls   \n2  be8dd55e34216bec1e15e03fa296eacc   HotGirlNextDoor   \n3  e554c1ed7ffa2740436ac082068b2824          AmIhotAF   \n4  7b0be38a08e3316051c6e5a3753bc791       SFWRedheads   \n5  feed678c3b74ed1d0b7011f28e8f283f       SFWRedheads   \n6  16ca1536c4f6936d3e994df7cb40ab8e         sfwpetite   \n7  9ff18e9afb7b566c0d50add45cbfb989  SFWNextDoorGirls   \n8  7137ef4fe19a97c757553bfa62b23a33          AmIhotAF   \n9  a0b0ffef01a7abf9de351000026d49f0         sfwpetite   \n\n                                             caption  exists  \\\n0     A person is riding a bicycle on a city street.    True   \n1  A little girl in a pink dress is holding a pin...    True   \n2  A woman in a pink bathing suit holds a baby in...    True   \n3  A woman in a pink dress is smiling at the camera.    True   \n4  A woman in a red dress is talking to a man in ...   False   \n5  A woman in a red dress is talking to a man in ...   False   \n6  A girl in a pink bathing suit walks down the b...    True   \n7  A little girl in a pink dress is dancing on a ...   False   \n8  A woman in a white dress is talking to a man i...   False   \n9  A woman in a bikini and a man in a white t-shi...    True   \n\n          image_name                                    updated_caption  \\\n0  4emw5uldib9a1.jpg                                                NaN   \n1        GgFEagO.jpg                                                NaN   \n2  nwa7hts2jb9a1.jpg  a woman in a bathing suit with a cell phone in...   \n3  4xyb1vgbjb9a1.jpg                                                NaN   \n4  0mgrt95plb9a1.jpg                                                NaN   \n5  gp4fhsdorb9a1.jpg                                                NaN   \n6  v3ra9g4vrb9a1.jpg  a beautiful young woman in a bikini posing for...   \n7  bhigr5rbsb9a1.jpg                                                NaN   \n8  dn7lcclvsb9a1.jpg                                                NaN   \n9  ldz8tgpsub9a1.jpg                                                NaN   \n\n                                         small_image  curated  \n0  D:\\data\\images\\CityPorn\\thumbnail\\4emw5uldib9a...    False  \n1  D:\\data\\images\\SFWNextDoorGirls\\thumbnail\\GgFE...    False  \n2  D:\\data\\images\\HotGirlNextDoor\\thumbnail\\nwa7h...    False  \n3  D:\\data\\images\\AmIhotAF\\thumbnail\\4xyb1vgbjb9a...    False  \n4                                                       False  \n5                                                       False  \n6  D:\\data\\images\\sfwpetite\\thumbnail\\v3ra9g4vrb9...    False  \n7                                                       False  \n8                                                       False  \n9  D:\\data\\images\\sfwpetite\\thumbnail\\ldz8tgpsub9...    False  ",
      "text/html": "<div>\n<style scoped>\n    .dataframe tbody tr th:only-of-type {\n        vertical-align: middle;\n    }\n\n    .dataframe tbody tr th {\n        vertical-align: top;\n    }\n\n    .dataframe thead th {\n        text-align: right;\n    }\n</style>\n<table border=\"1\" class=\"dataframe\">\n  <thead>\n    <tr style=\"text-align: right;\">\n      <th></th>\n      <th>PartitionKey</th>\n      <th>RowKey</th>\n      <th>image</th>\n      <th>text</th>\n      <th>id</th>\n      <th>author</th>\n      <th>url</th>\n      <th>flair</th>\n      <th>permalink</th>\n      <th>hash</th>\n      <th>subreddit</th>\n      <th>caption</th>\n      <th>exists</th>\n      <th>image_name</th>\n      <th>updated_caption</th>\n      <th>small_image</th>\n      <th>curated</th>\n    </tr>\n  </thead>\n  <tbody>\n    <tr>\n      <th>0</th>\n      <td>training</td>\n      <td>1000cej</td>\n      <td>D:\\data\\images\\CityPorn\\4emw5uldib9a1.jpg</td>\n      <td>New York in the fog</td>\n      <td>1000cej</td>\n      <td>OtterlyFoxy</td>\n      <td>https://i.redd.it/4emw5uldib9a1.jpg</td>\n      <td>NaN</td>\n      <td>/r/CityPorn/comments/1000cej/new_york_in_the_fog/</td>\n      <td>7a8d96e378c15c8ab8440ac311f12c11</td>\n      <td>CityPorn</td>\n      <td>A person is riding a bicycle on a city street.</td>\n      <td>True</td>\n      <td>4emw5uldib9a1.jpg</td>\n      <td>NaN</td>\n      <td>D:\\data\\images\\CityPorn\\thumbnail\\4emw5uldib9a...</td>\n      <td>False</td>\n    </tr>\n    <tr>\n      <th>1</th>\n      <td>training</td>\n      <td>1000d16</td>\n      <td>D:\\data\\images\\SFWNextDoorGirls\\GgFEagO.jpg</td>\n      <td>Thoughts about my NYE party outfit?</td>\n      <td>1000d16</td>\n      <td>princessxo699</td>\n      <td>https://i.imgur.com/GgFEagO.jpg</td>\n      <td>Outfit of the Day</td>\n      <td>/r/SFWNextDoorGirls/comments/1000d16/thoughts_...</td>\n      <td>9951b4f82caeb8ba2bd9f79f8d422450</td>\n      <td>SFWNextDoorGirls</td>\n      <td>A little girl in a pink dress is holding a pin...</td>\n      <td>True</td>\n      <td>GgFEagO.jpg</td>\n      <td>NaN</td>\n      <td>D:\\data\\images\\SFWNextDoorGirls\\thumbnail\\GgFE...</td>\n      <td>False</td>\n    </tr>\n    <tr>\n      <th>2</th>\n      <td>training</td>\n      <td>1000fg0</td>\n      <td>D:\\data\\images\\HotGirlNextDoor\\nwa7hts2jb9a1.jpg</td>\n      <td>(IKTR)</td>\n      <td>1000fg0</td>\n      <td>BlkBrd1312</td>\n      <td>https://i.redd.it/nwa7hts2jb9a1.jpg</td>\n      <td>HotGirlNextDoor</td>\n      <td>/r/HotGirlNextDoor/comments/1000fg0/iktr/</td>\n      <td>be8dd55e34216bec1e15e03fa296eacc</td>\n      <td>HotGirlNextDoor</td>\n      <td>A woman in a pink bathing suit holds a baby in...</td>\n      <td>True</td>\n      <td>nwa7hts2jb9a1.jpg</td>\n      <td>a woman in a bathing suit with a cell phone in...</td>\n      <td>D:\\data\\images\\HotGirlNextDoor\\thumbnail\\nwa7h...</td>\n      <td>False</td>\n    </tr>\n    <tr>\n      <th>3</th>\n      <td>training</td>\n      <td>1000glf</td>\n      <td>D:\\data\\images\\AmIhotAF\\4xyb1vgbjb9a1.jpg</td>\n      <td>Just looking for entertainment</td>\n      <td>1000glf</td>\n      <td>toolate_sharkbait</td>\n      <td>https://i.redd.it/4xyb1vgbjb9a1.jpg</td>\n      <td>Female (18+)</td>\n      <td>/r/AmIhotAF/comments/1000glf/just_looking_for_...</td>\n      <td>e554c1ed7ffa2740436ac082068b2824</td>\n      <td>AmIhotAF</td>\n      <td>A woman in a pink dress is smiling at the camera.</td>\n      <td>True</td>\n      <td>4xyb1vgbjb9a1.jpg</td>\n      <td>NaN</td>\n      <td>D:\\data\\images\\AmIhotAF\\thumbnail\\4xyb1vgbjb9a...</td>\n      <td>False</td>\n    </tr>\n    <tr>\n      <th>4</th>\n      <td>training</td>\n      <td>1000qiq</td>\n      <td>D:\\data\\images\\SFWRedheads\\0mgrt95plb9a1.jpg</td>\n      <td>Who’s going to be my new years kiss tonight? 🤧</td>\n      <td>1000qiq</td>\n      <td>fireybubbulegum</td>\n      <td>https://i.redd.it/0mgrt95plb9a1.jpg</td>\n      <td>NaN</td>\n      <td>/r/SFWRedheads/comments/1000qiq/whos_going_to_...</td>\n      <td>7b0be38a08e3316051c6e5a3753bc791</td>\n      <td>SFWRedheads</td>\n      <td>A woman in a red dress is talking to a man in ...</td>\n      <td>False</td>\n      <td>0mgrt95plb9a1.jpg</td>\n      <td>NaN</td>\n      <td></td>\n      <td>False</td>\n    </tr>\n    <tr>\n      <th>5</th>\n      <td>training</td>\n      <td>1001fon</td>\n      <td>D:\\data\\images\\SFWRedheads\\gp4fhsdorb9a1.jpg</td>\n      <td>honk if you like my sweater 😁💕</td>\n      <td>1001fon</td>\n      <td>glam_pire</td>\n      <td>https://i.redd.it/gp4fhsdorb9a1.jpg</td>\n      <td>NaN</td>\n      <td>/r/SFWRedheads/comments/1001fon/honk_if_you_li...</td>\n      <td>feed678c3b74ed1d0b7011f28e8f283f</td>\n      <td>SFWRedheads</td>\n      <td>A woman in a red dress is talking to a man in ...</td>\n      <td>False</td>\n      <td>gp4fhsdorb9a1.jpg</td>\n      <td>NaN</td>\n      <td></td>\n      <td>False</td>\n    </tr>\n    <tr>\n      <th>6</th>\n      <td>training</td>\n      <td>1001ghp</td>\n      <td>D:\\data\\images\\sfwpetite\\v3ra9g4vrb9a1.jpg</td>\n      <td>Braids</td>\n      <td>1001ghp</td>\n      <td>eromorphic</td>\n      <td>https://i.redd.it/v3ra9g4vrb9a1.jpg</td>\n      <td>NaN</td>\n      <td>/r/sfwpetite/comments/1001ghp/braids/</td>\n      <td>16ca1536c4f6936d3e994df7cb40ab8e</td>\n      <td>sfwpetite</td>\n      <td>A girl in a pink bathing suit walks down the b...</td>\n      <td>True</td>\n      <td>v3ra9g4vrb9a1.jpg</td>\n      <td>a beautiful young woman in a bikini posing for...</td>\n      <td>D:\\data\\images\\sfwpetite\\thumbnail\\v3ra9g4vrb9...</td>\n      <td>False</td>\n    </tr>\n    <tr>\n      <th>7</th>\n      <td>training</td>\n      <td>1001ih5</td>\n      <td>D:\\data\\images\\SFWNextDoorGirls\\bhigr5rbsb9a1.jpg</td>\n      <td>New Year's Elf</td>\n      <td>1001ih5</td>\n      <td>ms_twine_grace</td>\n      <td>https://i.redd.it/bhigr5rbsb9a1.jpg</td>\n      <td>NaN</td>\n      <td>/r/SFWNextDoorGirls/comments/1001ih5/new_years...</td>\n      <td>9ff18e9afb7b566c0d50add45cbfb989</td>\n      <td>SFWNextDoorGirls</td>\n      <td>A little girl in a pink dress is dancing on a ...</td>\n      <td>False</td>\n      <td>bhigr5rbsb9a1.jpg</td>\n      <td>NaN</td>\n      <td></td>\n      <td>False</td>\n    </tr>\n    <tr>\n      <th>8</th>\n      <td>training</td>\n      <td>1001kp4</td>\n      <td>D:\\data\\images\\AmIhotAF\\dn7lcclvsb9a1.jpg</td>\n      <td>Happy New Years Eve</td>\n      <td>1001kp4</td>\n      <td>Hotblondie69420</td>\n      <td>https://i.redd.it/dn7lcclvsb9a1.jpg</td>\n      <td>Female (18+)</td>\n      <td>/r/AmIhotAF/comments/1001kp4/happy_new_years_eve/</td>\n      <td>7137ef4fe19a97c757553bfa62b23a33</td>\n      <td>AmIhotAF</td>\n      <td>A woman in a white dress is talking to a man i...</td>\n      <td>False</td>\n      <td>dn7lcclvsb9a1.jpg</td>\n      <td>NaN</td>\n      <td></td>\n      <td>False</td>\n    </tr>\n    <tr>\n      <th>9</th>\n      <td>training</td>\n      <td>1001ssd</td>\n      <td>D:\\data\\images\\sfwpetite\\ldz8tgpsub9a1.jpg</td>\n      <td>Incredible body</td>\n      <td>1001ssd</td>\n      <td>CertifiedDrinkSpill</td>\n      <td>https://i.redd.it/ldz8tgpsub9a1.jpg</td>\n      <td>NaN</td>\n      <td>/r/sfwpetite/comments/1001ssd/incredible_body/</td>\n      <td>a0b0ffef01a7abf9de351000026d49f0</td>\n      <td>sfwpetite</td>\n      <td>A woman in a bikini and a man in a white t-shi...</td>\n      <td>True</td>\n      <td>ldz8tgpsub9a1.jpg</td>\n      <td>NaN</td>\n      <td>D:\\data\\images\\sfwpetite\\thumbnail\\ldz8tgpsub9...</td>\n      <td>False</td>\n    </tr>\n  </tbody>\n</table>\n</div>"
     },
     "metadata": {},
     "output_type": "display_data"
    }
   ],
   "source": [
    "writable_df = spark.createDataFrame(pandas_frame.to_dict(orient='records'), schema=image_table_schema)\n",
    "print(f\"Total records to write: {writable_df.count()}\")\n",
    "display(writable_df.limit(10).toPandas())\n",
    "writable_df.write.parquet(\"D:\\\\data\\\\processed\\\\reddit_images.parquet\", mode=\"overwrite\")"
   ],
   "metadata": {
    "collapsed": false
   }
  },
  {
   "cell_type": "code",
   "execution_count": 88,
   "outputs": [
    {
     "data": {
      "text/plain": "  PartitionKey   RowKey                                              image  \\\n0     training  11090tg         D:\\data\\images\\EarthPorn\\vc1wh65itqha1.jpg   \n1     training  11092s0       D:\\data\\images\\SFWRedheads\\8lb4z8n3uqha1.jpg   \n2     training  110961d          D:\\data\\images\\CityPorn\\2czgh0e5vqha1.jpg   \n3     training  1109a10       D:\\data\\images\\SFWRedheads\\hy9j0og8wqha1.jpg   \n4     training  1109ycm          D:\\data\\images\\CityPorn\\7beed5n54rha1.jpg   \n5     training  110b0wt        D:\\data\\images\\SFWNextDoorGirls\\6piZs7j.jpg   \n6     training  110b1an          D:\\data\\images\\CityPorn\\rgotpnatzpha1.jpg   \n7     training  110bipg  D:\\data\\images\\SFWNextDoorGirls\\xywgncrbnrha1.jpg   \n8     training  110c2gi       D:\\data\\images\\SFWRedheads\\99hm504mtrha1.jpg   \n9     training  110c2vo       D:\\data\\images\\SFWRedheads\\kkerxboqtrha1.jpg   \n\n                                                text       id  \\\n0                   Depoe Bay, OR USA [OC] 1080x1920  11090tg   \n1                                    Morning hair xx  11092s0   \n2                       St Paul’s Cathedral. London.  110961d   \n3                 Do you like my natural red curls?!  1109a10   \n4  Taipei, the Seoul of Taiwan (which makes Kaohs...  1109ycm   \n5  A real no makeup moment, cause this is how Sun...  110b0wt   \n6                       Duisburg, Detroit of Germany  110b1an   \n7                                 enjoy your Sunday!  110bipg   \n8                Happy sunday! Sending greetings! ❤️  110c2gi   \n9         The kind of girl you can have a beer with.  110c2vo   \n\n               author                                  url              flair  \\\n0            Bpercell  https://i.redd.it/vc1wh65itqha1.jpg                NaN   \n1        demidiamond4  https://i.redd.it/8lb4z8n3uqha1.jpg                NaN   \n2  OkCardiologist2765  https://i.redd.it/2czgh0e5vqha1.jpg                NaN   \n3          ketunicorn  https://i.redd.it/hy9j0og8wqha1.jpg                NaN   \n4            Ducky118  https://i.redd.it/7beed5n54rha1.jpg                NaN   \n5       princessxo699      https://i.imgur.com/6piZs7j.jpg    Feelin Happy 😃    \n6  Expensive-Team7416  https://i.redd.it/rgotpnatzpha1.jpg                NaN   \n7         trickyalice  https://i.redd.it/xywgncrbnrha1.jpg  Outfit of the Day   \n8         GingeMariia  https://i.redd.it/99hm504mtrha1.jpg                NaN   \n9        MissKatiesss  https://i.redd.it/kkerxboqtrha1.jpg                NaN   \n\n                                           permalink  \\\n0  /r/EarthPorn/comments/11090tg/depoe_bay_or_usa...   \n1   /r/SFWRedheads/comments/11092s0/morning_hair_xx/   \n2  /r/CityPorn/comments/110961d/st_pauls_cathedra...   \n3  /r/SFWRedheads/comments/1109a10/do_you_like_my...   \n4  /r/CityPorn/comments/1109ycm/taipei_the_seoul_...   \n5  /r/SFWNextDoorGirls/comments/110b0wt/a_real_no...   \n6  /r/CityPorn/comments/110b1an/duisburg_detroit_...   \n7  /r/SFWNextDoorGirls/comments/110bipg/enjoy_you...   \n8  /r/SFWRedheads/comments/110c2gi/happy_sunday_s...   \n9  /r/SFWRedheads/comments/110c2vo/the_kind_of_gi...   \n\n                               hash         subreddit  \\\n0  31c6df5a2815d8e5e8c85fe51b08460e         EarthPorn   \n1  afe1ae1ae3e663b0ca62cb3b19a5c3ef       SFWRedheads   \n2  ef3c3f82ec490f8d3ccc06948258a3b4          CityPorn   \n3  9008fe70d17b904fcfc7c6a2232ad569       SFWRedheads   \n4  848b795097dca410c409797c679ab4fa          CityPorn   \n5  5ccd774afb17fb0c44460121ed9ce61d  SFWNextDoorGirls   \n6  3eb930bdf3fac4e5b16617edad9df65a          CityPorn   \n7  9475adbe05427c47772346f8ab672952  SFWNextDoorGirls   \n8  20ced2827eb9e9cd3464835306cfd075       SFWRedheads   \n9  f53572296a0b8fb6654808866440316a       SFWRedheads   \n\n                                             caption  exists  \\\n0  A group of people are sitting on the shore of ...    True   \n1                 A girl in a pink dress is smiling.    True   \n2  A man in a red coat is standing in front of a ...    True   \n3  A girl in a pink dress is standing in front of...    True   \n4                       A bird flies over the water.    True   \n5  A girl in a pink hat and sunglasses is talking...    True   \n6                       A bird flies over the water.    True   \n7  A woman in a pink shirt and jeans is talking t...    True   \n8  A girl in a pink shirt and blue jeans is stand...    True   \n9  A woman in a red dress is talking to a man in ...    True   \n\n          image_name updated_caption  \\\n0  vc1wh65itqha1.jpg             NaN   \n1  8lb4z8n3uqha1.jpg             NaN   \n2  2czgh0e5vqha1.jpg             NaN   \n3  hy9j0og8wqha1.jpg             NaN   \n4  7beed5n54rha1.jpg             NaN   \n5        6piZs7j.jpg             NaN   \n6  rgotpnatzpha1.jpg             NaN   \n7  xywgncrbnrha1.jpg             NaN   \n8  99hm504mtrha1.jpg             NaN   \n9  kkerxboqtrha1.jpg             NaN   \n\n                                         small_image  curated  \n0  D:\\data\\images\\EarthPorn\\thumbnail\\vc1wh65itqh...    False  \n1  D:\\data\\images\\SFWRedheads\\thumbnail\\8lb4z8n3u...    False  \n2  D:\\data\\images\\CityPorn\\thumbnail\\2czgh0e5vqha...    False  \n3  D:\\data\\images\\SFWRedheads\\thumbnail\\hy9j0og8w...    False  \n4  D:\\data\\images\\CityPorn\\thumbnail\\7beed5n54rha...    False  \n5  D:\\data\\images\\SFWNextDoorGirls\\thumbnail\\6piZ...    False  \n6  D:\\data\\images\\CityPorn\\thumbnail\\rgotpnatzpha...    False  \n7  D:\\data\\images\\SFWNextDoorGirls\\thumbnail\\xywg...    False  \n8  D:\\data\\images\\SFWRedheads\\thumbnail\\99hm504mt...    False  \n9  D:\\data\\images\\SFWRedheads\\thumbnail\\kkerxboqt...    False  ",
      "text/html": "<div>\n<style scoped>\n    .dataframe tbody tr th:only-of-type {\n        vertical-align: middle;\n    }\n\n    .dataframe tbody tr th {\n        vertical-align: top;\n    }\n\n    .dataframe thead th {\n        text-align: right;\n    }\n</style>\n<table border=\"1\" class=\"dataframe\">\n  <thead>\n    <tr style=\"text-align: right;\">\n      <th></th>\n      <th>PartitionKey</th>\n      <th>RowKey</th>\n      <th>image</th>\n      <th>text</th>\n      <th>id</th>\n      <th>author</th>\n      <th>url</th>\n      <th>flair</th>\n      <th>permalink</th>\n      <th>hash</th>\n      <th>subreddit</th>\n      <th>caption</th>\n      <th>exists</th>\n      <th>image_name</th>\n      <th>updated_caption</th>\n      <th>small_image</th>\n      <th>curated</th>\n    </tr>\n  </thead>\n  <tbody>\n    <tr>\n      <th>0</th>\n      <td>training</td>\n      <td>11090tg</td>\n      <td>D:\\data\\images\\EarthPorn\\vc1wh65itqha1.jpg</td>\n      <td>Depoe Bay, OR USA [OC] 1080x1920</td>\n      <td>11090tg</td>\n      <td>Bpercell</td>\n      <td>https://i.redd.it/vc1wh65itqha1.jpg</td>\n      <td>NaN</td>\n      <td>/r/EarthPorn/comments/11090tg/depoe_bay_or_usa...</td>\n      <td>31c6df5a2815d8e5e8c85fe51b08460e</td>\n      <td>EarthPorn</td>\n      <td>A group of people are sitting on the shore of ...</td>\n      <td>True</td>\n      <td>vc1wh65itqha1.jpg</td>\n      <td>NaN</td>\n      <td>D:\\data\\images\\EarthPorn\\thumbnail\\vc1wh65itqh...</td>\n      <td>False</td>\n    </tr>\n    <tr>\n      <th>1</th>\n      <td>training</td>\n      <td>11092s0</td>\n      <td>D:\\data\\images\\SFWRedheads\\8lb4z8n3uqha1.jpg</td>\n      <td>Morning hair xx</td>\n      <td>11092s0</td>\n      <td>demidiamond4</td>\n      <td>https://i.redd.it/8lb4z8n3uqha1.jpg</td>\n      <td>NaN</td>\n      <td>/r/SFWRedheads/comments/11092s0/morning_hair_xx/</td>\n      <td>afe1ae1ae3e663b0ca62cb3b19a5c3ef</td>\n      <td>SFWRedheads</td>\n      <td>A girl in a pink dress is smiling.</td>\n      <td>True</td>\n      <td>8lb4z8n3uqha1.jpg</td>\n      <td>NaN</td>\n      <td>D:\\data\\images\\SFWRedheads\\thumbnail\\8lb4z8n3u...</td>\n      <td>False</td>\n    </tr>\n    <tr>\n      <th>2</th>\n      <td>training</td>\n      <td>110961d</td>\n      <td>D:\\data\\images\\CityPorn\\2czgh0e5vqha1.jpg</td>\n      <td>St Paul’s Cathedral. London.</td>\n      <td>110961d</td>\n      <td>OkCardiologist2765</td>\n      <td>https://i.redd.it/2czgh0e5vqha1.jpg</td>\n      <td>NaN</td>\n      <td>/r/CityPorn/comments/110961d/st_pauls_cathedra...</td>\n      <td>ef3c3f82ec490f8d3ccc06948258a3b4</td>\n      <td>CityPorn</td>\n      <td>A man in a red coat is standing in front of a ...</td>\n      <td>True</td>\n      <td>2czgh0e5vqha1.jpg</td>\n      <td>NaN</td>\n      <td>D:\\data\\images\\CityPorn\\thumbnail\\2czgh0e5vqha...</td>\n      <td>False</td>\n    </tr>\n    <tr>\n      <th>3</th>\n      <td>training</td>\n      <td>1109a10</td>\n      <td>D:\\data\\images\\SFWRedheads\\hy9j0og8wqha1.jpg</td>\n      <td>Do you like my natural red curls?!</td>\n      <td>1109a10</td>\n      <td>ketunicorn</td>\n      <td>https://i.redd.it/hy9j0og8wqha1.jpg</td>\n      <td>NaN</td>\n      <td>/r/SFWRedheads/comments/1109a10/do_you_like_my...</td>\n      <td>9008fe70d17b904fcfc7c6a2232ad569</td>\n      <td>SFWRedheads</td>\n      <td>A girl in a pink dress is standing in front of...</td>\n      <td>True</td>\n      <td>hy9j0og8wqha1.jpg</td>\n      <td>NaN</td>\n      <td>D:\\data\\images\\SFWRedheads\\thumbnail\\hy9j0og8w...</td>\n      <td>False</td>\n    </tr>\n    <tr>\n      <th>4</th>\n      <td>training</td>\n      <td>1109ycm</td>\n      <td>D:\\data\\images\\CityPorn\\7beed5n54rha1.jpg</td>\n      <td>Taipei, the Seoul of Taiwan (which makes Kaohs...</td>\n      <td>1109ycm</td>\n      <td>Ducky118</td>\n      <td>https://i.redd.it/7beed5n54rha1.jpg</td>\n      <td>NaN</td>\n      <td>/r/CityPorn/comments/1109ycm/taipei_the_seoul_...</td>\n      <td>848b795097dca410c409797c679ab4fa</td>\n      <td>CityPorn</td>\n      <td>A bird flies over the water.</td>\n      <td>True</td>\n      <td>7beed5n54rha1.jpg</td>\n      <td>NaN</td>\n      <td>D:\\data\\images\\CityPorn\\thumbnail\\7beed5n54rha...</td>\n      <td>False</td>\n    </tr>\n    <tr>\n      <th>5</th>\n      <td>training</td>\n      <td>110b0wt</td>\n      <td>D:\\data\\images\\SFWNextDoorGirls\\6piZs7j.jpg</td>\n      <td>A real no makeup moment, cause this is how Sun...</td>\n      <td>110b0wt</td>\n      <td>princessxo699</td>\n      <td>https://i.imgur.com/6piZs7j.jpg</td>\n      <td>Feelin Happy 😃</td>\n      <td>/r/SFWNextDoorGirls/comments/110b0wt/a_real_no...</td>\n      <td>5ccd774afb17fb0c44460121ed9ce61d</td>\n      <td>SFWNextDoorGirls</td>\n      <td>A girl in a pink hat and sunglasses is talking...</td>\n      <td>True</td>\n      <td>6piZs7j.jpg</td>\n      <td>NaN</td>\n      <td>D:\\data\\images\\SFWNextDoorGirls\\thumbnail\\6piZ...</td>\n      <td>False</td>\n    </tr>\n    <tr>\n      <th>6</th>\n      <td>training</td>\n      <td>110b1an</td>\n      <td>D:\\data\\images\\CityPorn\\rgotpnatzpha1.jpg</td>\n      <td>Duisburg, Detroit of Germany</td>\n      <td>110b1an</td>\n      <td>Expensive-Team7416</td>\n      <td>https://i.redd.it/rgotpnatzpha1.jpg</td>\n      <td>NaN</td>\n      <td>/r/CityPorn/comments/110b1an/duisburg_detroit_...</td>\n      <td>3eb930bdf3fac4e5b16617edad9df65a</td>\n      <td>CityPorn</td>\n      <td>A bird flies over the water.</td>\n      <td>True</td>\n      <td>rgotpnatzpha1.jpg</td>\n      <td>NaN</td>\n      <td>D:\\data\\images\\CityPorn\\thumbnail\\rgotpnatzpha...</td>\n      <td>False</td>\n    </tr>\n    <tr>\n      <th>7</th>\n      <td>training</td>\n      <td>110bipg</td>\n      <td>D:\\data\\images\\SFWNextDoorGirls\\xywgncrbnrha1.jpg</td>\n      <td>enjoy your Sunday!</td>\n      <td>110bipg</td>\n      <td>trickyalice</td>\n      <td>https://i.redd.it/xywgncrbnrha1.jpg</td>\n      <td>Outfit of the Day</td>\n      <td>/r/SFWNextDoorGirls/comments/110bipg/enjoy_you...</td>\n      <td>9475adbe05427c47772346f8ab672952</td>\n      <td>SFWNextDoorGirls</td>\n      <td>A woman in a pink shirt and jeans is talking t...</td>\n      <td>True</td>\n      <td>xywgncrbnrha1.jpg</td>\n      <td>NaN</td>\n      <td>D:\\data\\images\\SFWNextDoorGirls\\thumbnail\\xywg...</td>\n      <td>False</td>\n    </tr>\n    <tr>\n      <th>8</th>\n      <td>training</td>\n      <td>110c2gi</td>\n      <td>D:\\data\\images\\SFWRedheads\\99hm504mtrha1.jpg</td>\n      <td>Happy sunday! Sending greetings! ❤️</td>\n      <td>110c2gi</td>\n      <td>GingeMariia</td>\n      <td>https://i.redd.it/99hm504mtrha1.jpg</td>\n      <td>NaN</td>\n      <td>/r/SFWRedheads/comments/110c2gi/happy_sunday_s...</td>\n      <td>20ced2827eb9e9cd3464835306cfd075</td>\n      <td>SFWRedheads</td>\n      <td>A girl in a pink shirt and blue jeans is stand...</td>\n      <td>True</td>\n      <td>99hm504mtrha1.jpg</td>\n      <td>NaN</td>\n      <td>D:\\data\\images\\SFWRedheads\\thumbnail\\99hm504mt...</td>\n      <td>False</td>\n    </tr>\n    <tr>\n      <th>9</th>\n      <td>training</td>\n      <td>110c2vo</td>\n      <td>D:\\data\\images\\SFWRedheads\\kkerxboqtrha1.jpg</td>\n      <td>The kind of girl you can have a beer with.</td>\n      <td>110c2vo</td>\n      <td>MissKatiesss</td>\n      <td>https://i.redd.it/kkerxboqtrha1.jpg</td>\n      <td>NaN</td>\n      <td>/r/SFWRedheads/comments/110c2vo/the_kind_of_gi...</td>\n      <td>f53572296a0b8fb6654808866440316a</td>\n      <td>SFWRedheads</td>\n      <td>A woman in a red dress is talking to a man in ...</td>\n      <td>True</td>\n      <td>kkerxboqtrha1.jpg</td>\n      <td>NaN</td>\n      <td>D:\\data\\images\\SFWRedheads\\thumbnail\\kkerxboqt...</td>\n      <td>False</td>\n    </tr>\n  </tbody>\n</table>\n</div>"
     },
     "metadata": {},
     "output_type": "display_data"
    }
   ],
   "source": [
    "processed = spark.read.parquet(\"D:\\\\data\\\\processed\\\\reddit_images.parquet\")\n",
    "display(processed.limit(10).toPandas())"
   ],
   "metadata": {
    "collapsed": false
   }
  }
 ],
 "metadata": {
  "kernelspec": {
   "display_name": "Python 3",
   "language": "python",
   "name": "python3"
  },
  "language_info": {
   "codemirror_mode": {
    "name": "ipython",
    "version": 2
   },
   "file_extension": ".py",
   "mimetype": "text/x-python",
   "name": "python",
   "nbconvert_exporter": "python",
   "pygments_lexer": "ipython2",
   "version": "2.7.6"
  }
 },
 "nbformat": 4,
 "nbformat_minor": 0
}
