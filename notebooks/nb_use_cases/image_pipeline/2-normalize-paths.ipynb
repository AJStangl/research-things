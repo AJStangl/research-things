{
 "cells": [
  {
   "cell_type": "code",
   "execution_count": 1,
   "outputs": [],
   "source": [
    "from shared_code.utility.spark.set_environ import *\n",
    "import os\n",
    "os.environ['PYSPARK_PYTHON'] = sys.executable\n",
    "os.environ['PYSPARK_DRIVER_PYTHON'] =  sys.executable\n",
    "\n",
    "set_azure_env()\n",
    "\n",
    "from pyspark.sql.functions import udf\n",
    "from shared_code.utility.storage.table import TableAdapter\n",
    "from shared_code.utility.schemas.spark_table_schema import *\n",
    "\n",
    "spark = get_session('n')\n"
   ],
   "metadata": {
    "collapsed": false
   }
  },
  {
   "cell_type": "code",
   "execution_count": 2,
   "outputs": [],
   "source": [
    "table_broker: TableAdapter = TableAdapter()\n",
    "\n",
    "@udf(returnType=StringType())\n",
    "def get_missing_name(path):\n",
    "\ttry:\n",
    "\t\treturn os.path.split(path)[-1]\n",
    "\texcept:\n",
    "\t\treturn \"\"\n",
    "\n",
    "@udf(returnType=StringType())\n",
    "def get_correct_path(path, sub, name):\n",
    "\tnormal_path = os.path.normpath(path)\n",
    "\tif \"reddit_images\" in normal_path:\n",
    "\t\tupdated_path = os.path.join(\"D:\", os.sep, \"data\", \"images\", sub, name)\n",
    "\t\treturn updated_path\n",
    "\tif \"raw_reddit_images\" in normal_path:\n",
    "\t\tupdated_path = os.path.join(\"D:\", os.sep, \"data\", \"images\", sub, name)\n",
    "\t\treturn updated_path\n",
    "\telse:\n",
    "\t\tupdated_path = os.path.join(\"D:\", os.sep, \"data\", \"images\", sub, name)\n",
    "\t\treturn updated_path\n",
    "\n",
    "@udf(returnType=BooleanType())\n",
    "def check_if_exists(path):\n",
    "\treturn os.path.exists(path)\n",
    "\n",
    "@udf(returnType=BooleanType())\n",
    "def check_if_curated(curated: bool):\n",
    "\tif curated is None:\n",
    "\t\treturn False\n",
    "\tif curated == \"True\":\n",
    "\t\treturn True\n",
    "\telse:\n",
    "\t\treturn False\n",
    "\n",
    "@udf(returnType=StringType())\n",
    "def get_thumbnail_path(path:str, sub:str, name:str):\n",
    "\tif path == \"\" or path is None or path == \"None\" or path == \"NaN\" or len(path) < 5:\n",
    "\t\texpected_path = os.path.join(\"D:\", os.sep, \"data\", \"images\", sub, \"thumbnails\", name)\n",
    "\t\tif os.path.exists(expected_path):\n",
    "\t\t\treturn expected_path\n",
    "\t\telse:\n",
    "\t\t\treturn \"\"\n",
    "\telse:\n",
    "\t\tif os.path.exists(path):\n",
    "\t\t\treturn path\n",
    "\t\telse:\n",
    "\t\t\treturn \"\""
   ],
   "metadata": {
    "collapsed": false
   }
  },
  {
   "cell_type": "code",
   "execution_count": null,
   "outputs": [],
   "source": [
    "def update(thing):\n",
    "\tprint(f\"=== Updating record: {thing} ===\")\n",
    "\ttable_broker.upsert_entity_to_table(\"training\", thing)"
   ],
   "metadata": {
    "collapsed": false
   }
  },
  {
   "cell_type": "code",
   "execution_count": 3,
   "outputs": [
    {
     "name": "stdout",
     "output_type": "stream",
     "text": [
      "=== Total records From Cloud: 8331 ===\n"
     ]
    },
    {
     "data": {
      "text/plain": "  PartitionKey   RowKey                                            text  \\\n0     training  1000cej                             New York in the fog   \n1     training  1000d16             Thoughts about my NYE party outfit?   \n2     training  1000fg0                                          (IKTR)   \n3     training  1000glf                  Just looking for entertainment   \n4     training  1000j1n                             Anon wants Elon cut   \n5     training  1000qiq  Who’s going to be my new years kiss tonight? 🤧   \n6     training  1001fon                  honk if you like my sweater 😁💕   \n7     training  1001ghp                                          Braids   \n8     training  1001ih5                                  New Year's Elf   \n9     training  1001kp4                             Happy New Years Eve   \n\n        id             author                                  url  \\\n0  1000cej        OtterlyFoxy  https://i.redd.it/4emw5uldib9a1.jpg   \n1  1000d16      princessxo699      https://i.imgur.com/GgFEagO.jpg   \n2  1000fg0         BlkBrd1312  https://i.redd.it/nwa7hts2jb9a1.jpg   \n3  1000glf  toolate_sharkbait  https://i.redd.it/4xyb1vgbjb9a1.jpg   \n4  1000j1n          trent8051  https://i.redd.it/3mewbe0wjb9a1.jpg   \n5  1000qiq    fireybubbulegum  https://i.redd.it/0mgrt95plb9a1.jpg   \n6  1001fon          glam_pire  https://i.redd.it/gp4fhsdorb9a1.jpg   \n7  1001ghp         eromorphic  https://i.redd.it/v3ra9g4vrb9a1.jpg   \n8  1001ih5     ms_twine_grace  https://i.redd.it/bhigr5rbsb9a1.jpg   \n9  1001kp4    Hotblondie69420  https://i.redd.it/dn7lcclvsb9a1.jpg   \n\n               flair                                          permalink  \\\n0                NaN  /r/CityPorn/comments/1000cej/new_york_in_the_fog/   \n1  Outfit of the Day  /r/SFWNextDoorGirls/comments/1000d16/thoughts_...   \n2    HotGirlNextDoor          /r/HotGirlNextDoor/comments/1000fg0/iktr/   \n3       Female (18+)  /r/AmIhotAF/comments/1000glf/just_looking_for_...   \n4               None  /r/greentext/comments/1000j1n/anon_wants_elon_...   \n5                NaN  /r/SFWRedheads/comments/1000qiq/whos_going_to_...   \n6                NaN  /r/SFWRedheads/comments/1001fon/honk_if_you_li...   \n7                NaN              /r/sfwpetite/comments/1001ghp/braids/   \n8                NaN  /r/SFWNextDoorGirls/comments/1001ih5/new_years...   \n9       Female (18+)  /r/AmIhotAF/comments/1001kp4/happy_new_years_eve/   \n\n                               hash         subreddit  \\\n0  7a8d96e378c15c8ab8440ac311f12c11          CityPorn   \n1  9951b4f82caeb8ba2bd9f79f8d422450  SFWNextDoorGirls   \n2  be8dd55e34216bec1e15e03fa296eacc   HotGirlNextDoor   \n3  e554c1ed7ffa2740436ac082068b2824          AmIhotAF   \n4  1dec3dabb5e46cde01855d06089c287a         greentext   \n5  7b0be38a08e3316051c6e5a3753bc791       SFWRedheads   \n6  feed678c3b74ed1d0b7011f28e8f283f       SFWRedheads   \n7  16ca1536c4f6936d3e994df7cb40ab8e         sfwpetite   \n8  9ff18e9afb7b566c0d50add45cbfb989  SFWNextDoorGirls   \n9  7137ef4fe19a97c757553bfa62b23a33          AmIhotAF   \n\n                                             caption  exists  \\\n0     A person is riding a bicycle on a city street.    True   \n1  A little girl in a pink dress is holding a pin...    True   \n2  A woman in a pink bathing suit holds a baby in...    True   \n3  A woman in a pink dress is smiling at the camera.    True   \n4  A man and a woman are sitting at a table with ...    True   \n5  A woman in a red dress is talking to a man in ...   False   \n6  A woman in a red dress is talking to a man in ...   False   \n7  A girl in a pink bathing suit walks down the b...    True   \n8  A little girl in a pink dress is dancing on a ...   False   \n9  A woman in a white dress is talking to a man i...   False   \n\n               image                                    updated_caption  \\\n0  4emw5uldib9a1.jpg   a city street filled with lots of tall buildings   \n1        GgFEagO.jpg   a woman sitting on a table holding a pink flower   \n2  nwa7hts2jb9a1.jpg  a woman in a bathing suit with a cell phone in...   \n3  4xyb1vgbjb9a1.jpg  a beautiful young woman in a black dress posin...   \n4  3mewbe0wjb9a1.jpg  a collage of photos showing a man in a suit an...   \n5  0mgrt95plb9a1.jpg                                                NaN   \n6  gp4fhsdorb9a1.jpg                                                NaN   \n7  v3ra9g4vrb9a1.jpg  a beautiful young woman in a bikini posing for...   \n8  bhigr5rbsb9a1.jpg                                                NaN   \n9  dn7lcclvsb9a1.jpg                                                NaN   \n\n                                         small_image  curated  \n0  D:\\data\\images\\CityPorn\\thumbnail\\4emw5uldib9a...    False  \n1  D:\\data\\images\\SFWNextDoorGirls\\thumbnail\\GgFE...    False  \n2  D:\\data\\images\\HotGirlNextDoor\\thumbnail\\nwa7h...    False  \n3  D:\\data\\images\\AmIhotAF\\thumbnail\\4xyb1vgbjb9a...    False  \n4  D:\\data\\images\\greentext\\thumbnail\\3mewbe0wjb9...    False  \n5                                                       False  \n6                                                       False  \n7  D:\\data\\images\\sfwpetite\\thumbnail\\v3ra9g4vrb9...    False  \n8                                                       False  \n9                                                       False  ",
      "text/html": "<div>\n<style scoped>\n    .dataframe tbody tr th:only-of-type {\n        vertical-align: middle;\n    }\n\n    .dataframe tbody tr th {\n        vertical-align: top;\n    }\n\n    .dataframe thead th {\n        text-align: right;\n    }\n</style>\n<table border=\"1\" class=\"dataframe\">\n  <thead>\n    <tr style=\"text-align: right;\">\n      <th></th>\n      <th>PartitionKey</th>\n      <th>RowKey</th>\n      <th>text</th>\n      <th>id</th>\n      <th>author</th>\n      <th>url</th>\n      <th>flair</th>\n      <th>permalink</th>\n      <th>hash</th>\n      <th>subreddit</th>\n      <th>caption</th>\n      <th>exists</th>\n      <th>image</th>\n      <th>updated_caption</th>\n      <th>small_image</th>\n      <th>curated</th>\n    </tr>\n  </thead>\n  <tbody>\n    <tr>\n      <th>0</th>\n      <td>training</td>\n      <td>1000cej</td>\n      <td>New York in the fog</td>\n      <td>1000cej</td>\n      <td>OtterlyFoxy</td>\n      <td>https://i.redd.it/4emw5uldib9a1.jpg</td>\n      <td>NaN</td>\n      <td>/r/CityPorn/comments/1000cej/new_york_in_the_fog/</td>\n      <td>7a8d96e378c15c8ab8440ac311f12c11</td>\n      <td>CityPorn</td>\n      <td>A person is riding a bicycle on a city street.</td>\n      <td>True</td>\n      <td>4emw5uldib9a1.jpg</td>\n      <td>a city street filled with lots of tall buildings</td>\n      <td>D:\\data\\images\\CityPorn\\thumbnail\\4emw5uldib9a...</td>\n      <td>False</td>\n    </tr>\n    <tr>\n      <th>1</th>\n      <td>training</td>\n      <td>1000d16</td>\n      <td>Thoughts about my NYE party outfit?</td>\n      <td>1000d16</td>\n      <td>princessxo699</td>\n      <td>https://i.imgur.com/GgFEagO.jpg</td>\n      <td>Outfit of the Day</td>\n      <td>/r/SFWNextDoorGirls/comments/1000d16/thoughts_...</td>\n      <td>9951b4f82caeb8ba2bd9f79f8d422450</td>\n      <td>SFWNextDoorGirls</td>\n      <td>A little girl in a pink dress is holding a pin...</td>\n      <td>True</td>\n      <td>GgFEagO.jpg</td>\n      <td>a woman sitting on a table holding a pink flower</td>\n      <td>D:\\data\\images\\SFWNextDoorGirls\\thumbnail\\GgFE...</td>\n      <td>False</td>\n    </tr>\n    <tr>\n      <th>2</th>\n      <td>training</td>\n      <td>1000fg0</td>\n      <td>(IKTR)</td>\n      <td>1000fg0</td>\n      <td>BlkBrd1312</td>\n      <td>https://i.redd.it/nwa7hts2jb9a1.jpg</td>\n      <td>HotGirlNextDoor</td>\n      <td>/r/HotGirlNextDoor/comments/1000fg0/iktr/</td>\n      <td>be8dd55e34216bec1e15e03fa296eacc</td>\n      <td>HotGirlNextDoor</td>\n      <td>A woman in a pink bathing suit holds a baby in...</td>\n      <td>True</td>\n      <td>nwa7hts2jb9a1.jpg</td>\n      <td>a woman in a bathing suit with a cell phone in...</td>\n      <td>D:\\data\\images\\HotGirlNextDoor\\thumbnail\\nwa7h...</td>\n      <td>False</td>\n    </tr>\n    <tr>\n      <th>3</th>\n      <td>training</td>\n      <td>1000glf</td>\n      <td>Just looking for entertainment</td>\n      <td>1000glf</td>\n      <td>toolate_sharkbait</td>\n      <td>https://i.redd.it/4xyb1vgbjb9a1.jpg</td>\n      <td>Female (18+)</td>\n      <td>/r/AmIhotAF/comments/1000glf/just_looking_for_...</td>\n      <td>e554c1ed7ffa2740436ac082068b2824</td>\n      <td>AmIhotAF</td>\n      <td>A woman in a pink dress is smiling at the camera.</td>\n      <td>True</td>\n      <td>4xyb1vgbjb9a1.jpg</td>\n      <td>a beautiful young woman in a black dress posin...</td>\n      <td>D:\\data\\images\\AmIhotAF\\thumbnail\\4xyb1vgbjb9a...</td>\n      <td>False</td>\n    </tr>\n    <tr>\n      <th>4</th>\n      <td>training</td>\n      <td>1000j1n</td>\n      <td>Anon wants Elon cut</td>\n      <td>1000j1n</td>\n      <td>trent8051</td>\n      <td>https://i.redd.it/3mewbe0wjb9a1.jpg</td>\n      <td>None</td>\n      <td>/r/greentext/comments/1000j1n/anon_wants_elon_...</td>\n      <td>1dec3dabb5e46cde01855d06089c287a</td>\n      <td>greentext</td>\n      <td>A man and a woman are sitting at a table with ...</td>\n      <td>True</td>\n      <td>3mewbe0wjb9a1.jpg</td>\n      <td>a collage of photos showing a man in a suit an...</td>\n      <td>D:\\data\\images\\greentext\\thumbnail\\3mewbe0wjb9...</td>\n      <td>False</td>\n    </tr>\n    <tr>\n      <th>5</th>\n      <td>training</td>\n      <td>1000qiq</td>\n      <td>Who’s going to be my new years kiss tonight? 🤧</td>\n      <td>1000qiq</td>\n      <td>fireybubbulegum</td>\n      <td>https://i.redd.it/0mgrt95plb9a1.jpg</td>\n      <td>NaN</td>\n      <td>/r/SFWRedheads/comments/1000qiq/whos_going_to_...</td>\n      <td>7b0be38a08e3316051c6e5a3753bc791</td>\n      <td>SFWRedheads</td>\n      <td>A woman in a red dress is talking to a man in ...</td>\n      <td>False</td>\n      <td>0mgrt95plb9a1.jpg</td>\n      <td>NaN</td>\n      <td></td>\n      <td>False</td>\n    </tr>\n    <tr>\n      <th>6</th>\n      <td>training</td>\n      <td>1001fon</td>\n      <td>honk if you like my sweater 😁💕</td>\n      <td>1001fon</td>\n      <td>glam_pire</td>\n      <td>https://i.redd.it/gp4fhsdorb9a1.jpg</td>\n      <td>NaN</td>\n      <td>/r/SFWRedheads/comments/1001fon/honk_if_you_li...</td>\n      <td>feed678c3b74ed1d0b7011f28e8f283f</td>\n      <td>SFWRedheads</td>\n      <td>A woman in a red dress is talking to a man in ...</td>\n      <td>False</td>\n      <td>gp4fhsdorb9a1.jpg</td>\n      <td>NaN</td>\n      <td></td>\n      <td>False</td>\n    </tr>\n    <tr>\n      <th>7</th>\n      <td>training</td>\n      <td>1001ghp</td>\n      <td>Braids</td>\n      <td>1001ghp</td>\n      <td>eromorphic</td>\n      <td>https://i.redd.it/v3ra9g4vrb9a1.jpg</td>\n      <td>NaN</td>\n      <td>/r/sfwpetite/comments/1001ghp/braids/</td>\n      <td>16ca1536c4f6936d3e994df7cb40ab8e</td>\n      <td>sfwpetite</td>\n      <td>A girl in a pink bathing suit walks down the b...</td>\n      <td>True</td>\n      <td>v3ra9g4vrb9a1.jpg</td>\n      <td>a beautiful young woman in a bikini posing for...</td>\n      <td>D:\\data\\images\\sfwpetite\\thumbnail\\v3ra9g4vrb9...</td>\n      <td>False</td>\n    </tr>\n    <tr>\n      <th>8</th>\n      <td>training</td>\n      <td>1001ih5</td>\n      <td>New Year's Elf</td>\n      <td>1001ih5</td>\n      <td>ms_twine_grace</td>\n      <td>https://i.redd.it/bhigr5rbsb9a1.jpg</td>\n      <td>NaN</td>\n      <td>/r/SFWNextDoorGirls/comments/1001ih5/new_years...</td>\n      <td>9ff18e9afb7b566c0d50add45cbfb989</td>\n      <td>SFWNextDoorGirls</td>\n      <td>A little girl in a pink dress is dancing on a ...</td>\n      <td>False</td>\n      <td>bhigr5rbsb9a1.jpg</td>\n      <td>NaN</td>\n      <td></td>\n      <td>False</td>\n    </tr>\n    <tr>\n      <th>9</th>\n      <td>training</td>\n      <td>1001kp4</td>\n      <td>Happy New Years Eve</td>\n      <td>1001kp4</td>\n      <td>Hotblondie69420</td>\n      <td>https://i.redd.it/dn7lcclvsb9a1.jpg</td>\n      <td>Female (18+)</td>\n      <td>/r/AmIhotAF/comments/1001kp4/happy_new_years_eve/</td>\n      <td>7137ef4fe19a97c757553bfa62b23a33</td>\n      <td>AmIhotAF</td>\n      <td>A woman in a white dress is talking to a man i...</td>\n      <td>False</td>\n      <td>dn7lcclvsb9a1.jpg</td>\n      <td>NaN</td>\n      <td></td>\n      <td>False</td>\n    </tr>\n  </tbody>\n</table>\n</div>"
     },
     "metadata": {},
     "output_type": "display_data"
    }
   ],
   "source": [
    "table_name = \"training\"\n",
    "table_adapter: TableAdapter = TableAdapter()\n",
    "raw_data = table_adapter.get_all_entities(table_name)\n",
    "spark_df = spark.createDataFrame(raw_data, schema=image_table_schema)\n",
    "\n",
    "named_frame = spark_df.withColumn(\"image_name\", get_missing_name(\"image\")).drop(\"image\").withColumnRenamed(\"image_name\", \"image\")\n",
    "\n",
    "print(f\"=== Total records From Cloud: {named_frame.count()} ===\")\n",
    "display(named_frame.limit(10).toPandas())"
   ],
   "metadata": {
    "collapsed": false
   }
  },
  {
   "cell_type": "code",
   "execution_count": 4,
   "outputs": [
    {
     "name": "stdout",
     "output_type": "stream",
     "text": [
      "=== Starting Path Normalization ===\n",
      "=== After Normalization ===\n"
     ]
    }
   ],
   "source": [
    "print(\"=== Starting Path Normalization ===\")\n",
    "\n",
    "out_data = spark_df\\\n",
    "\t.withColumn(\"vimage\", get_correct_path(\"image\", \"subreddit\", \"image_name\"))\\\n",
    "\t.withColumn(\"vexists\", check_if_exists(\"image\"))\\\n",
    "\t.withColumn(\"vcurated\", check_if_curated(\"curated\"))\\\n",
    "\t.withColumn(\"vsmall_image\", get_thumbnail_path(\"small_image\", \"subreddit\", \"image_name\"))\n",
    "\n",
    "rows = out_data.rdd.collect()\n",
    "\n",
    "print(\"=== After Normalization ===\")"
   ],
   "metadata": {
    "collapsed": false
   }
  },
  {
   "cell_type": "code",
   "execution_count": 5,
   "outputs": [],
   "source": [
    "out_data_1 = spark.createDataFrame(rows)\\\n",
    "\t.drop(\"image\")\\\n",
    "\t.drop(\"exists\")\\\n",
    "\t.drop(\"curated\")\\\n",
    "\t.drop(\"small_image\")\\\n",
    "\t.withColumnRenamed(\"vimage\", \"image\")\\\n",
    "\t.withColumnRenamed(\"vexists\", \"exists\")\\\n",
    "\t.withColumnRenamed(\"vcurated\", \"curated\")\\\n",
    "\t.withColumnRenamed(\"vsmall_image\", \"small_image\")\\\n",
    "\t.select(\"PartitionKey\", \"RowKey\",\"image\", \"text\", \"id\", \"author\", \"url\", \"flair\", \"permalink\", \"hash\", \"subreddit\", \"caption\", \"exists\", \"image_name\", \"updated_caption\", \"small_image\", \"curated\")"
   ],
   "metadata": {
    "collapsed": false
   }
  },
  {
   "cell_type": "code",
   "execution_count": 6,
   "outputs": [
    {
     "name": "stdout",
     "output_type": "stream",
     "text": [
      "=== After Normalization ===\n"
     ]
    },
    {
     "data": {
      "text/plain": "  PartitionKey   RowKey                                         image  \\\n0     training  10hbca4  D:\\data\\images\\SFWRedheads\\aq6c0qxfjbda1.jpg   \n1     training  10hcdl6  D:\\data\\images\\SFWRedheads\\9e6udfft7ada1.jpg   \n2     training  10hcg26  D:\\data\\images\\SFWRedheads\\zf3ewwy1qbda1.jpg   \n3     training  10hcnni  D:\\data\\images\\SFWRedheads\\97bq87rarbda1.jpg   \n4     training  10hdbuk  D:\\data\\images\\SFWRedheads\\lsyz6i9fwbda1.jpg   \n5     training  10hdj0i    D:\\data\\images\\greentext\\2h10z58igada1.jpg   \n6     training  10hfrpn  D:\\data\\images\\SFWRedheads\\s0zuspu5hcda1.jpg   \n7     training  10hg2vh    D:\\data\\images\\greentext\\opa93o8d2bda1.jpg   \n8     training  10hgca6  D:\\data\\images\\SFWRedheads\\884zlhw9mcda1.jpg   \n9     training  10hgnol          D:\\data\\images\\AmIhotAF\\da9WDxth.jpg   \n\n                                                text       id  \\\n0                            Sticking her tongue out  10hbca4   \n1                           Ready for the weekend :)  10hcdl6   \n2              The temp just realized it’s January 🙄  10hcg26   \n3                           Do you like my red hair?  10hcnni   \n4  I'm back follow me❤️ #red #redhead #redheads #...  10hdbuk   \n5                       /tv/anon watches a 2023 show  10hdj0i   \n6  me and my birthday cake! i made it and I'm so ...  10hfrpn   \n7                            Anon is from the future  10hg2vh   \n8                                          Laid back  10hgca6   \n9              Finally 18y and Daddy threw a party😇🍭  10hgnol   \n\n                author                                  url         flair  \\\n0         HonestRunner  https://i.redd.it/aq6c0qxfjbda1.jpg           NaN   \n1             lynxicat  https://i.redd.it/9e6udfft7ada1.jpg           NaN   \n2       ivymiaexplicit  https://i.redd.it/zf3ewwy1qbda1.jpg           NaN   \n3          Jolenebbyxo  https://i.redd.it/97bq87rarbda1.jpg           NaN   \n4        Ashely6ginger  https://i.redd.it/lsyz6i9fwbda1.jpg           NaN   \n5  AlgerianBeerEnjoyer  https://i.redd.it/2h10z58igada1.jpg          None   \n6            miremi137  https://i.redd.it/s0zuspu5hcda1.jpg           NaN   \n7         Ironzombie39  https://i.redd.it/opa93o8d2bda1.jpg          None   \n8         HonestRunner  https://i.redd.it/884zlhw9mcda1.jpg           NaN   \n9            rosehamil     https://i.imgur.com/da9WDxth.jpg  Female (18+)   \n\n                                           permalink  \\\n0  /r/SFWRedheads/comments/10hbca4/sticking_her_t...   \n1  /r/SFWRedheads/comments/10hcdl6/ready_for_the_...   \n2  /r/SFWRedheads/comments/10hcg26/the_temp_just_...   \n3  /r/SFWRedheads/comments/10hcnni/do_you_like_my...   \n4  /r/SFWRedheads/comments/10hdbuk/im_back_follow...   \n5  /r/greentext/comments/10hdj0i/tvanon_watches_a...   \n6  /r/SFWRedheads/comments/10hfrpn/me_and_my_birt...   \n7  /r/greentext/comments/10hg2vh/anon_is_from_the...   \n8         /r/SFWRedheads/comments/10hgca6/laid_back/   \n9  /r/AmIhotAF/comments/10hgnol/finally_18y_and_d...   \n\n                               hash    subreddit  \\\n0  22373eb7333862b14bdd1d5e8ee40881  SFWRedheads   \n1  b7d58c29b39053d29cf6d9bbca90bec2  SFWRedheads   \n2  da2aa8e3bf15e09384b376cb330137c2  SFWRedheads   \n3  c22d3984139de3e6b1c962f7076b91db  SFWRedheads   \n4  6c33f940b210e48183e5e9d49a6ce0b4  SFWRedheads   \n5  371293dcc94c65310ad6024c8d905eb1    greentext   \n6  fbbe1dec20768ebd858df1b3f3701174  SFWRedheads   \n7  fc2196dcc4e698afbec39912918bfae4    greentext   \n8  113ee7ff496236268c01507712513ec1  SFWRedheads   \n9  8883026a4acc5f77078c7e6e005c06f3     AmIhotAF   \n\n                                             caption  exists  \\\n0                 A girl in a pink dress is smiling.    True   \n1  A girl in a pink shirt and blue jeans is posin...    True   \n2  A girl in a pink shirt and blue jeans is stand...   False   \n3  A girl in a pink dress is talking to a girl in...   False   \n4  A woman in a pink shirt and blue jeans is talk...   False   \n5                                               None    True   \n6  A girl in a pink dress is standing in front of...    True   \n7                                               None    True   \n8                 A girl in a pink dress is smiling.    True   \n9  A woman in a blue bathing suit holds a baby in...   False   \n\n          image_name                                    updated_caption  \\\n0  aq6c0qxfjbda1.jpg  a woman in a black dress is looking at the camera   \n1  9e6udfft7ada1.jpg          a woman in a red shirt with a red bow tie   \n2  zf3ewwy1qbda1.jpg                                                NaN   \n3  97bq87rarbda1.jpg                                                NaN   \n4  lsyz6i9fwbda1.jpg                                                NaN   \n5  2h10z58igada1.jpg                                               None   \n6  s0zuspu5hcda1.jpg        a woman in a pink dress holding a pink cake   \n7  opa93o8d2bda1.jpg                                               None   \n8  884zlhw9mcda1.jpg           a beautiful young woman sitting on a bed   \n9       da9WDxth.jpg                                                NaN   \n\n                                         small_image  curated  \n0  D:\\data\\images\\SFWRedheads\\thumbnail\\aq6c0qxfj...    False  \n1  D:\\data\\images\\SFWRedheads\\thumbnail\\9e6udfft7...    False  \n2                                                       False  \n3                                                       False  \n4                                                       False  \n5  D:\\data\\images\\greentext\\thumbnail\\2h10z58igad...    False  \n6  D:\\data\\images\\SFWRedheads\\thumbnail\\s0zuspu5h...    False  \n7  D:\\data\\images\\greentext\\thumbnail\\opa93o8d2bd...    False  \n8  D:\\data\\images\\SFWRedheads\\thumbnail\\884zlhw9m...    False  \n9                                                       False  ",
      "text/html": "<div>\n<style scoped>\n    .dataframe tbody tr th:only-of-type {\n        vertical-align: middle;\n    }\n\n    .dataframe tbody tr th {\n        vertical-align: top;\n    }\n\n    .dataframe thead th {\n        text-align: right;\n    }\n</style>\n<table border=\"1\" class=\"dataframe\">\n  <thead>\n    <tr style=\"text-align: right;\">\n      <th></th>\n      <th>PartitionKey</th>\n      <th>RowKey</th>\n      <th>image</th>\n      <th>text</th>\n      <th>id</th>\n      <th>author</th>\n      <th>url</th>\n      <th>flair</th>\n      <th>permalink</th>\n      <th>hash</th>\n      <th>subreddit</th>\n      <th>caption</th>\n      <th>exists</th>\n      <th>image_name</th>\n      <th>updated_caption</th>\n      <th>small_image</th>\n      <th>curated</th>\n    </tr>\n  </thead>\n  <tbody>\n    <tr>\n      <th>0</th>\n      <td>training</td>\n      <td>10hbca4</td>\n      <td>D:\\data\\images\\SFWRedheads\\aq6c0qxfjbda1.jpg</td>\n      <td>Sticking her tongue out</td>\n      <td>10hbca4</td>\n      <td>HonestRunner</td>\n      <td>https://i.redd.it/aq6c0qxfjbda1.jpg</td>\n      <td>NaN</td>\n      <td>/r/SFWRedheads/comments/10hbca4/sticking_her_t...</td>\n      <td>22373eb7333862b14bdd1d5e8ee40881</td>\n      <td>SFWRedheads</td>\n      <td>A girl in a pink dress is smiling.</td>\n      <td>True</td>\n      <td>aq6c0qxfjbda1.jpg</td>\n      <td>a woman in a black dress is looking at the camera</td>\n      <td>D:\\data\\images\\SFWRedheads\\thumbnail\\aq6c0qxfj...</td>\n      <td>False</td>\n    </tr>\n    <tr>\n      <th>1</th>\n      <td>training</td>\n      <td>10hcdl6</td>\n      <td>D:\\data\\images\\SFWRedheads\\9e6udfft7ada1.jpg</td>\n      <td>Ready for the weekend :)</td>\n      <td>10hcdl6</td>\n      <td>lynxicat</td>\n      <td>https://i.redd.it/9e6udfft7ada1.jpg</td>\n      <td>NaN</td>\n      <td>/r/SFWRedheads/comments/10hcdl6/ready_for_the_...</td>\n      <td>b7d58c29b39053d29cf6d9bbca90bec2</td>\n      <td>SFWRedheads</td>\n      <td>A girl in a pink shirt and blue jeans is posin...</td>\n      <td>True</td>\n      <td>9e6udfft7ada1.jpg</td>\n      <td>a woman in a red shirt with a red bow tie</td>\n      <td>D:\\data\\images\\SFWRedheads\\thumbnail\\9e6udfft7...</td>\n      <td>False</td>\n    </tr>\n    <tr>\n      <th>2</th>\n      <td>training</td>\n      <td>10hcg26</td>\n      <td>D:\\data\\images\\SFWRedheads\\zf3ewwy1qbda1.jpg</td>\n      <td>The temp just realized it’s January 🙄</td>\n      <td>10hcg26</td>\n      <td>ivymiaexplicit</td>\n      <td>https://i.redd.it/zf3ewwy1qbda1.jpg</td>\n      <td>NaN</td>\n      <td>/r/SFWRedheads/comments/10hcg26/the_temp_just_...</td>\n      <td>da2aa8e3bf15e09384b376cb330137c2</td>\n      <td>SFWRedheads</td>\n      <td>A girl in a pink shirt and blue jeans is stand...</td>\n      <td>False</td>\n      <td>zf3ewwy1qbda1.jpg</td>\n      <td>NaN</td>\n      <td></td>\n      <td>False</td>\n    </tr>\n    <tr>\n      <th>3</th>\n      <td>training</td>\n      <td>10hcnni</td>\n      <td>D:\\data\\images\\SFWRedheads\\97bq87rarbda1.jpg</td>\n      <td>Do you like my red hair?</td>\n      <td>10hcnni</td>\n      <td>Jolenebbyxo</td>\n      <td>https://i.redd.it/97bq87rarbda1.jpg</td>\n      <td>NaN</td>\n      <td>/r/SFWRedheads/comments/10hcnni/do_you_like_my...</td>\n      <td>c22d3984139de3e6b1c962f7076b91db</td>\n      <td>SFWRedheads</td>\n      <td>A girl in a pink dress is talking to a girl in...</td>\n      <td>False</td>\n      <td>97bq87rarbda1.jpg</td>\n      <td>NaN</td>\n      <td></td>\n      <td>False</td>\n    </tr>\n    <tr>\n      <th>4</th>\n      <td>training</td>\n      <td>10hdbuk</td>\n      <td>D:\\data\\images\\SFWRedheads\\lsyz6i9fwbda1.jpg</td>\n      <td>I'm back follow me❤️ #red #redhead #redheads #...</td>\n      <td>10hdbuk</td>\n      <td>Ashely6ginger</td>\n      <td>https://i.redd.it/lsyz6i9fwbda1.jpg</td>\n      <td>NaN</td>\n      <td>/r/SFWRedheads/comments/10hdbuk/im_back_follow...</td>\n      <td>6c33f940b210e48183e5e9d49a6ce0b4</td>\n      <td>SFWRedheads</td>\n      <td>A woman in a pink shirt and blue jeans is talk...</td>\n      <td>False</td>\n      <td>lsyz6i9fwbda1.jpg</td>\n      <td>NaN</td>\n      <td></td>\n      <td>False</td>\n    </tr>\n    <tr>\n      <th>5</th>\n      <td>training</td>\n      <td>10hdj0i</td>\n      <td>D:\\data\\images\\greentext\\2h10z58igada1.jpg</td>\n      <td>/tv/anon watches a 2023 show</td>\n      <td>10hdj0i</td>\n      <td>AlgerianBeerEnjoyer</td>\n      <td>https://i.redd.it/2h10z58igada1.jpg</td>\n      <td>None</td>\n      <td>/r/greentext/comments/10hdj0i/tvanon_watches_a...</td>\n      <td>371293dcc94c65310ad6024c8d905eb1</td>\n      <td>greentext</td>\n      <td>None</td>\n      <td>True</td>\n      <td>2h10z58igada1.jpg</td>\n      <td>None</td>\n      <td>D:\\data\\images\\greentext\\thumbnail\\2h10z58igad...</td>\n      <td>False</td>\n    </tr>\n    <tr>\n      <th>6</th>\n      <td>training</td>\n      <td>10hfrpn</td>\n      <td>D:\\data\\images\\SFWRedheads\\s0zuspu5hcda1.jpg</td>\n      <td>me and my birthday cake! i made it and I'm so ...</td>\n      <td>10hfrpn</td>\n      <td>miremi137</td>\n      <td>https://i.redd.it/s0zuspu5hcda1.jpg</td>\n      <td>NaN</td>\n      <td>/r/SFWRedheads/comments/10hfrpn/me_and_my_birt...</td>\n      <td>fbbe1dec20768ebd858df1b3f3701174</td>\n      <td>SFWRedheads</td>\n      <td>A girl in a pink dress is standing in front of...</td>\n      <td>True</td>\n      <td>s0zuspu5hcda1.jpg</td>\n      <td>a woman in a pink dress holding a pink cake</td>\n      <td>D:\\data\\images\\SFWRedheads\\thumbnail\\s0zuspu5h...</td>\n      <td>False</td>\n    </tr>\n    <tr>\n      <th>7</th>\n      <td>training</td>\n      <td>10hg2vh</td>\n      <td>D:\\data\\images\\greentext\\opa93o8d2bda1.jpg</td>\n      <td>Anon is from the future</td>\n      <td>10hg2vh</td>\n      <td>Ironzombie39</td>\n      <td>https://i.redd.it/opa93o8d2bda1.jpg</td>\n      <td>None</td>\n      <td>/r/greentext/comments/10hg2vh/anon_is_from_the...</td>\n      <td>fc2196dcc4e698afbec39912918bfae4</td>\n      <td>greentext</td>\n      <td>None</td>\n      <td>True</td>\n      <td>opa93o8d2bda1.jpg</td>\n      <td>None</td>\n      <td>D:\\data\\images\\greentext\\thumbnail\\opa93o8d2bd...</td>\n      <td>False</td>\n    </tr>\n    <tr>\n      <th>8</th>\n      <td>training</td>\n      <td>10hgca6</td>\n      <td>D:\\data\\images\\SFWRedheads\\884zlhw9mcda1.jpg</td>\n      <td>Laid back</td>\n      <td>10hgca6</td>\n      <td>HonestRunner</td>\n      <td>https://i.redd.it/884zlhw9mcda1.jpg</td>\n      <td>NaN</td>\n      <td>/r/SFWRedheads/comments/10hgca6/laid_back/</td>\n      <td>113ee7ff496236268c01507712513ec1</td>\n      <td>SFWRedheads</td>\n      <td>A girl in a pink dress is smiling.</td>\n      <td>True</td>\n      <td>884zlhw9mcda1.jpg</td>\n      <td>a beautiful young woman sitting on a bed</td>\n      <td>D:\\data\\images\\SFWRedheads\\thumbnail\\884zlhw9m...</td>\n      <td>False</td>\n    </tr>\n    <tr>\n      <th>9</th>\n      <td>training</td>\n      <td>10hgnol</td>\n      <td>D:\\data\\images\\AmIhotAF\\da9WDxth.jpg</td>\n      <td>Finally 18y and Daddy threw a party😇🍭</td>\n      <td>10hgnol</td>\n      <td>rosehamil</td>\n      <td>https://i.imgur.com/da9WDxth.jpg</td>\n      <td>Female (18+)</td>\n      <td>/r/AmIhotAF/comments/10hgnol/finally_18y_and_d...</td>\n      <td>8883026a4acc5f77078c7e6e005c06f3</td>\n      <td>AmIhotAF</td>\n      <td>A woman in a blue bathing suit holds a baby in...</td>\n      <td>False</td>\n      <td>da9WDxth.jpg</td>\n      <td>NaN</td>\n      <td></td>\n      <td>False</td>\n    </tr>\n  </tbody>\n</table>\n</div>"
     },
     "metadata": {},
     "output_type": "display_data"
    },
    {
     "name": "stdout",
     "output_type": "stream",
     "text": [
      "=== Total records to update: 8331 ===\n",
      "Updating record 0 of 8331\n",
      "Updating record 100 of 8331\n",
      "Updating record 200 of 8331\n",
      "=== Failed to update record: {'PartitionKey': 'training', 'RowKey': 'yx88j6', 'image': 'D:\\\\data\\\\images\\\\AmIhotAF\\\\6yr4enoojf0a1.jpg', 'text': 'F24 I’m down for hook up I do charge add snap stephnie_clarke', 'id': 'yx88j6', 'author': 'Stephanieclarke-555', 'url': 'https://i.redd.it/6yr4enoojf0a1.jpg', 'flair': 'Female (18+)', 'permalink': '/r/AmIhotAF/comments/yx88j6/f24_im_down_for_hook_up_i_do_charge_add_snap/', 'hash': '9e40cc65f8029ccba411c1f77bcdaa5f', 'subreddit': 'AmIhotAF', 'caption': 'A woman in a red dress is posing for a picture with her hair in a ponytail.', 'exists': True, 'image_name': '6yr4enoojf0a1.jpg', 'updated_caption': 'a woman in a pink dress with a tattoo on her arm', 'small_image': 'D:\\\\data\\\\images\\\\AmIhotAF\\\\thumbnail\\\\6yr4enoojf0a1.jpg', 'curated': False} ===\n",
      "Updating record 300 of 8331\n",
      "Updating record 400 of 8331\n",
      "Updating record 500 of 8331\n",
      "Updating record 600 of 8331\n",
      "Updating record 700 of 8331\n",
      "Updating record 800 of 8331\n",
      "Updating record 900 of 8331\n",
      "Updating record 1000 of 8331\n",
      "Updating record 1100 of 8331\n",
      "Updating record 1200 of 8331\n",
      "Updating record 1300 of 8331\n",
      "Updating record 1400 of 8331\n",
      "Updating record 1500 of 8331\n",
      "Updating record 1600 of 8331\n",
      "Updating record 1700 of 8331\n",
      "Updating record 1800 of 8331\n",
      "Updating record 1900 of 8331\n",
      "Updating record 2000 of 8331\n",
      "Updating record 2100 of 8331\n",
      "Updating record 2200 of 8331\n",
      "Updating record 2300 of 8331\n",
      "Updating record 2400 of 8331\n",
      "Updating record 2500 of 8331\n",
      "Updating record 2600 of 8331\n",
      "Updating record 2700 of 8331\n",
      "Updating record 2800 of 8331\n",
      "Updating record 2900 of 8331\n",
      "Updating record 3000 of 8331\n",
      "Updating record 3100 of 8331\n",
      "Updating record 3200 of 8331\n",
      "Updating record 3300 of 8331\n",
      "Updating record 3400 of 8331\n",
      "Updating record 3500 of 8331\n",
      "Updating record 3600 of 8331\n",
      "Updating record 3700 of 8331\n",
      "Updating record 3800 of 8331\n",
      "Updating record 3900 of 8331\n",
      "Updating record 4000 of 8331\n",
      "Updating record 4100 of 8331\n",
      "Updating record 4200 of 8331\n",
      "Updating record 4300 of 8331\n",
      "Updating record 4400 of 8331\n",
      "Updating record 4500 of 8331\n",
      "Updating record 4600 of 8331\n",
      "Updating record 4700 of 8331\n",
      "Updating record 4800 of 8331\n",
      "Updating record 4900 of 8331\n",
      "Updating record 5000 of 8331\n",
      "Updating record 5100 of 8331\n",
      "Updating record 5200 of 8331\n",
      "Updating record 5300 of 8331\n",
      "Updating record 5400 of 8331\n",
      "Updating record 5500 of 8331\n",
      "Updating record 5600 of 8331\n",
      "Updating record 5700 of 8331\n",
      "Updating record 5800 of 8331\n",
      "Updating record 5900 of 8331\n",
      "Updating record 6000 of 8331\n",
      "Updating record 6100 of 8331\n",
      "Updating record 6200 of 8331\n",
      "Updating record 6300 of 8331\n",
      "Updating record 6400 of 8331\n",
      "Updating record 6500 of 8331\n",
      "Updating record 6600 of 8331\n",
      "Updating record 6700 of 8331\n",
      "Updating record 6800 of 8331\n",
      "Updating record 6900 of 8331\n",
      "Updating record 7000 of 8331\n",
      "Updating record 7100 of 8331\n",
      "Updating record 7200 of 8331\n",
      "Updating record 7300 of 8331\n",
      "Updating record 7400 of 8331\n",
      "Updating record 7500 of 8331\n",
      "Updating record 7600 of 8331\n",
      "Updating record 7700 of 8331\n",
      "Updating record 7800 of 8331\n",
      "Updating record 7900 of 8331\n",
      "Updating record 8000 of 8331\n",
      "Updating record 8100 of 8331\n",
      "Updating record 8200 of 8331\n",
      "Updating record 8300 of 8331\n"
     ]
    }
   ],
   "source": [
    "final_df = spark.createDataFrame(out_data_1.collect(), schema=image_table_schema)\n",
    "\n",
    "print(f\"=== Total records to update: {final_df.count()} ===\")\n",
    "for i, record in enumerate(final_df.toPandas().to_dict(orient='records')):\n",
    "\tif i % 100 == final_df.count():\n",
    "\t\tprint(f\"Updating record {i} of {final_df.count()} \")\n",
    "\ttry:\n",
    "\t\ttable_broker.upsert_entity_to_table(table_name, record)\n",
    "\texcept:\n",
    "\t\tprint(f\"=== Failed to update record: {record} ===\")\n",
    "\t\ttable_broker = TableAdapter()\n",
    "\t\tcontinue"
   ],
   "metadata": {
    "collapsed": false
   }
  },
  {
   "cell_type": "code",
   "execution_count": 9,
   "outputs": [
    {
     "name": "stdout",
     "output_type": "stream",
     "text": [
      "Total records to write: 8331\n"
     ]
    },
    {
     "data": {
      "text/plain": "  PartitionKey   RowKey                                         image  \\\n0     training  10hbca4  D:\\data\\images\\SFWRedheads\\aq6c0qxfjbda1.jpg   \n1     training  10hcdl6  D:\\data\\images\\SFWRedheads\\9e6udfft7ada1.jpg   \n2     training  10hcg26  D:\\data\\images\\SFWRedheads\\zf3ewwy1qbda1.jpg   \n3     training  10hcnni  D:\\data\\images\\SFWRedheads\\97bq87rarbda1.jpg   \n4     training  10hdbuk  D:\\data\\images\\SFWRedheads\\lsyz6i9fwbda1.jpg   \n5     training  10hdj0i    D:\\data\\images\\greentext\\2h10z58igada1.jpg   \n6     training  10hfrpn  D:\\data\\images\\SFWRedheads\\s0zuspu5hcda1.jpg   \n7     training  10hg2vh    D:\\data\\images\\greentext\\opa93o8d2bda1.jpg   \n8     training  10hgca6  D:\\data\\images\\SFWRedheads\\884zlhw9mcda1.jpg   \n9     training  10hgnol          D:\\data\\images\\AmIhotAF\\da9WDxth.jpg   \n\n                                                text       id  \\\n0                            Sticking her tongue out  10hbca4   \n1                           Ready for the weekend :)  10hcdl6   \n2              The temp just realized it’s January 🙄  10hcg26   \n3                           Do you like my red hair?  10hcnni   \n4  I'm back follow me❤️ #red #redhead #redheads #...  10hdbuk   \n5                       /tv/anon watches a 2023 show  10hdj0i   \n6  me and my birthday cake! i made it and I'm so ...  10hfrpn   \n7                            Anon is from the future  10hg2vh   \n8                                          Laid back  10hgca6   \n9              Finally 18y and Daddy threw a party😇🍭  10hgnol   \n\n                author                                  url         flair  \\\n0         HonestRunner  https://i.redd.it/aq6c0qxfjbda1.jpg           NaN   \n1             lynxicat  https://i.redd.it/9e6udfft7ada1.jpg           NaN   \n2       ivymiaexplicit  https://i.redd.it/zf3ewwy1qbda1.jpg           NaN   \n3          Jolenebbyxo  https://i.redd.it/97bq87rarbda1.jpg           NaN   \n4        Ashely6ginger  https://i.redd.it/lsyz6i9fwbda1.jpg           NaN   \n5  AlgerianBeerEnjoyer  https://i.redd.it/2h10z58igada1.jpg          None   \n6            miremi137  https://i.redd.it/s0zuspu5hcda1.jpg           NaN   \n7         Ironzombie39  https://i.redd.it/opa93o8d2bda1.jpg          None   \n8         HonestRunner  https://i.redd.it/884zlhw9mcda1.jpg           NaN   \n9            rosehamil     https://i.imgur.com/da9WDxth.jpg  Female (18+)   \n\n                                           permalink  \\\n0  /r/SFWRedheads/comments/10hbca4/sticking_her_t...   \n1  /r/SFWRedheads/comments/10hcdl6/ready_for_the_...   \n2  /r/SFWRedheads/comments/10hcg26/the_temp_just_...   \n3  /r/SFWRedheads/comments/10hcnni/do_you_like_my...   \n4  /r/SFWRedheads/comments/10hdbuk/im_back_follow...   \n5  /r/greentext/comments/10hdj0i/tvanon_watches_a...   \n6  /r/SFWRedheads/comments/10hfrpn/me_and_my_birt...   \n7  /r/greentext/comments/10hg2vh/anon_is_from_the...   \n8         /r/SFWRedheads/comments/10hgca6/laid_back/   \n9  /r/AmIhotAF/comments/10hgnol/finally_18y_and_d...   \n\n                               hash    subreddit  \\\n0  22373eb7333862b14bdd1d5e8ee40881  SFWRedheads   \n1  b7d58c29b39053d29cf6d9bbca90bec2  SFWRedheads   \n2  da2aa8e3bf15e09384b376cb330137c2  SFWRedheads   \n3  c22d3984139de3e6b1c962f7076b91db  SFWRedheads   \n4  6c33f940b210e48183e5e9d49a6ce0b4  SFWRedheads   \n5  371293dcc94c65310ad6024c8d905eb1    greentext   \n6  fbbe1dec20768ebd858df1b3f3701174  SFWRedheads   \n7  fc2196dcc4e698afbec39912918bfae4    greentext   \n8  113ee7ff496236268c01507712513ec1  SFWRedheads   \n9  8883026a4acc5f77078c7e6e005c06f3     AmIhotAF   \n\n                                             caption  exists  \\\n0                 A girl in a pink dress is smiling.    True   \n1  A girl in a pink shirt and blue jeans is posin...    True   \n2  A girl in a pink shirt and blue jeans is stand...   False   \n3  A girl in a pink dress is talking to a girl in...   False   \n4  A woman in a pink shirt and blue jeans is talk...   False   \n5                                               None    True   \n6  A girl in a pink dress is standing in front of...    True   \n7                                               None    True   \n8                 A girl in a pink dress is smiling.    True   \n9  A woman in a blue bathing suit holds a baby in...   False   \n\n          image_name                                    updated_caption  \\\n0  aq6c0qxfjbda1.jpg  a woman in a black dress is looking at the camera   \n1  9e6udfft7ada1.jpg          a woman in a red shirt with a red bow tie   \n2  zf3ewwy1qbda1.jpg                                                NaN   \n3  97bq87rarbda1.jpg                                                NaN   \n4  lsyz6i9fwbda1.jpg                                                NaN   \n5  2h10z58igada1.jpg                                               None   \n6  s0zuspu5hcda1.jpg        a woman in a pink dress holding a pink cake   \n7  opa93o8d2bda1.jpg                                               None   \n8  884zlhw9mcda1.jpg           a beautiful young woman sitting on a bed   \n9       da9WDxth.jpg                                                NaN   \n\n                                         small_image  curated  \n0  D:\\data\\images\\SFWRedheads\\thumbnail\\aq6c0qxfj...    False  \n1  D:\\data\\images\\SFWRedheads\\thumbnail\\9e6udfft7...    False  \n2                                                       False  \n3                                                       False  \n4                                                       False  \n5  D:\\data\\images\\greentext\\thumbnail\\2h10z58igad...    False  \n6  D:\\data\\images\\SFWRedheads\\thumbnail\\s0zuspu5h...    False  \n7  D:\\data\\images\\greentext\\thumbnail\\opa93o8d2bd...    False  \n8  D:\\data\\images\\SFWRedheads\\thumbnail\\884zlhw9m...    False  \n9                                                       False  ",
      "text/html": "<div>\n<style scoped>\n    .dataframe tbody tr th:only-of-type {\n        vertical-align: middle;\n    }\n\n    .dataframe tbody tr th {\n        vertical-align: top;\n    }\n\n    .dataframe thead th {\n        text-align: right;\n    }\n</style>\n<table border=\"1\" class=\"dataframe\">\n  <thead>\n    <tr style=\"text-align: right;\">\n      <th></th>\n      <th>PartitionKey</th>\n      <th>RowKey</th>\n      <th>image</th>\n      <th>text</th>\n      <th>id</th>\n      <th>author</th>\n      <th>url</th>\n      <th>flair</th>\n      <th>permalink</th>\n      <th>hash</th>\n      <th>subreddit</th>\n      <th>caption</th>\n      <th>exists</th>\n      <th>image_name</th>\n      <th>updated_caption</th>\n      <th>small_image</th>\n      <th>curated</th>\n    </tr>\n  </thead>\n  <tbody>\n    <tr>\n      <th>0</th>\n      <td>training</td>\n      <td>10hbca4</td>\n      <td>D:\\data\\images\\SFWRedheads\\aq6c0qxfjbda1.jpg</td>\n      <td>Sticking her tongue out</td>\n      <td>10hbca4</td>\n      <td>HonestRunner</td>\n      <td>https://i.redd.it/aq6c0qxfjbda1.jpg</td>\n      <td>NaN</td>\n      <td>/r/SFWRedheads/comments/10hbca4/sticking_her_t...</td>\n      <td>22373eb7333862b14bdd1d5e8ee40881</td>\n      <td>SFWRedheads</td>\n      <td>A girl in a pink dress is smiling.</td>\n      <td>True</td>\n      <td>aq6c0qxfjbda1.jpg</td>\n      <td>a woman in a black dress is looking at the camera</td>\n      <td>D:\\data\\images\\SFWRedheads\\thumbnail\\aq6c0qxfj...</td>\n      <td>False</td>\n    </tr>\n    <tr>\n      <th>1</th>\n      <td>training</td>\n      <td>10hcdl6</td>\n      <td>D:\\data\\images\\SFWRedheads\\9e6udfft7ada1.jpg</td>\n      <td>Ready for the weekend :)</td>\n      <td>10hcdl6</td>\n      <td>lynxicat</td>\n      <td>https://i.redd.it/9e6udfft7ada1.jpg</td>\n      <td>NaN</td>\n      <td>/r/SFWRedheads/comments/10hcdl6/ready_for_the_...</td>\n      <td>b7d58c29b39053d29cf6d9bbca90bec2</td>\n      <td>SFWRedheads</td>\n      <td>A girl in a pink shirt and blue jeans is posin...</td>\n      <td>True</td>\n      <td>9e6udfft7ada1.jpg</td>\n      <td>a woman in a red shirt with a red bow tie</td>\n      <td>D:\\data\\images\\SFWRedheads\\thumbnail\\9e6udfft7...</td>\n      <td>False</td>\n    </tr>\n    <tr>\n      <th>2</th>\n      <td>training</td>\n      <td>10hcg26</td>\n      <td>D:\\data\\images\\SFWRedheads\\zf3ewwy1qbda1.jpg</td>\n      <td>The temp just realized it’s January 🙄</td>\n      <td>10hcg26</td>\n      <td>ivymiaexplicit</td>\n      <td>https://i.redd.it/zf3ewwy1qbda1.jpg</td>\n      <td>NaN</td>\n      <td>/r/SFWRedheads/comments/10hcg26/the_temp_just_...</td>\n      <td>da2aa8e3bf15e09384b376cb330137c2</td>\n      <td>SFWRedheads</td>\n      <td>A girl in a pink shirt and blue jeans is stand...</td>\n      <td>False</td>\n      <td>zf3ewwy1qbda1.jpg</td>\n      <td>NaN</td>\n      <td></td>\n      <td>False</td>\n    </tr>\n    <tr>\n      <th>3</th>\n      <td>training</td>\n      <td>10hcnni</td>\n      <td>D:\\data\\images\\SFWRedheads\\97bq87rarbda1.jpg</td>\n      <td>Do you like my red hair?</td>\n      <td>10hcnni</td>\n      <td>Jolenebbyxo</td>\n      <td>https://i.redd.it/97bq87rarbda1.jpg</td>\n      <td>NaN</td>\n      <td>/r/SFWRedheads/comments/10hcnni/do_you_like_my...</td>\n      <td>c22d3984139de3e6b1c962f7076b91db</td>\n      <td>SFWRedheads</td>\n      <td>A girl in a pink dress is talking to a girl in...</td>\n      <td>False</td>\n      <td>97bq87rarbda1.jpg</td>\n      <td>NaN</td>\n      <td></td>\n      <td>False</td>\n    </tr>\n    <tr>\n      <th>4</th>\n      <td>training</td>\n      <td>10hdbuk</td>\n      <td>D:\\data\\images\\SFWRedheads\\lsyz6i9fwbda1.jpg</td>\n      <td>I'm back follow me❤️ #red #redhead #redheads #...</td>\n      <td>10hdbuk</td>\n      <td>Ashely6ginger</td>\n      <td>https://i.redd.it/lsyz6i9fwbda1.jpg</td>\n      <td>NaN</td>\n      <td>/r/SFWRedheads/comments/10hdbuk/im_back_follow...</td>\n      <td>6c33f940b210e48183e5e9d49a6ce0b4</td>\n      <td>SFWRedheads</td>\n      <td>A woman in a pink shirt and blue jeans is talk...</td>\n      <td>False</td>\n      <td>lsyz6i9fwbda1.jpg</td>\n      <td>NaN</td>\n      <td></td>\n      <td>False</td>\n    </tr>\n    <tr>\n      <th>5</th>\n      <td>training</td>\n      <td>10hdj0i</td>\n      <td>D:\\data\\images\\greentext\\2h10z58igada1.jpg</td>\n      <td>/tv/anon watches a 2023 show</td>\n      <td>10hdj0i</td>\n      <td>AlgerianBeerEnjoyer</td>\n      <td>https://i.redd.it/2h10z58igada1.jpg</td>\n      <td>None</td>\n      <td>/r/greentext/comments/10hdj0i/tvanon_watches_a...</td>\n      <td>371293dcc94c65310ad6024c8d905eb1</td>\n      <td>greentext</td>\n      <td>None</td>\n      <td>True</td>\n      <td>2h10z58igada1.jpg</td>\n      <td>None</td>\n      <td>D:\\data\\images\\greentext\\thumbnail\\2h10z58igad...</td>\n      <td>False</td>\n    </tr>\n    <tr>\n      <th>6</th>\n      <td>training</td>\n      <td>10hfrpn</td>\n      <td>D:\\data\\images\\SFWRedheads\\s0zuspu5hcda1.jpg</td>\n      <td>me and my birthday cake! i made it and I'm so ...</td>\n      <td>10hfrpn</td>\n      <td>miremi137</td>\n      <td>https://i.redd.it/s0zuspu5hcda1.jpg</td>\n      <td>NaN</td>\n      <td>/r/SFWRedheads/comments/10hfrpn/me_and_my_birt...</td>\n      <td>fbbe1dec20768ebd858df1b3f3701174</td>\n      <td>SFWRedheads</td>\n      <td>A girl in a pink dress is standing in front of...</td>\n      <td>True</td>\n      <td>s0zuspu5hcda1.jpg</td>\n      <td>a woman in a pink dress holding a pink cake</td>\n      <td>D:\\data\\images\\SFWRedheads\\thumbnail\\s0zuspu5h...</td>\n      <td>False</td>\n    </tr>\n    <tr>\n      <th>7</th>\n      <td>training</td>\n      <td>10hg2vh</td>\n      <td>D:\\data\\images\\greentext\\opa93o8d2bda1.jpg</td>\n      <td>Anon is from the future</td>\n      <td>10hg2vh</td>\n      <td>Ironzombie39</td>\n      <td>https://i.redd.it/opa93o8d2bda1.jpg</td>\n      <td>None</td>\n      <td>/r/greentext/comments/10hg2vh/anon_is_from_the...</td>\n      <td>fc2196dcc4e698afbec39912918bfae4</td>\n      <td>greentext</td>\n      <td>None</td>\n      <td>True</td>\n      <td>opa93o8d2bda1.jpg</td>\n      <td>None</td>\n      <td>D:\\data\\images\\greentext\\thumbnail\\opa93o8d2bd...</td>\n      <td>False</td>\n    </tr>\n    <tr>\n      <th>8</th>\n      <td>training</td>\n      <td>10hgca6</td>\n      <td>D:\\data\\images\\SFWRedheads\\884zlhw9mcda1.jpg</td>\n      <td>Laid back</td>\n      <td>10hgca6</td>\n      <td>HonestRunner</td>\n      <td>https://i.redd.it/884zlhw9mcda1.jpg</td>\n      <td>NaN</td>\n      <td>/r/SFWRedheads/comments/10hgca6/laid_back/</td>\n      <td>113ee7ff496236268c01507712513ec1</td>\n      <td>SFWRedheads</td>\n      <td>A girl in a pink dress is smiling.</td>\n      <td>True</td>\n      <td>884zlhw9mcda1.jpg</td>\n      <td>a beautiful young woman sitting on a bed</td>\n      <td>D:\\data\\images\\SFWRedheads\\thumbnail\\884zlhw9m...</td>\n      <td>False</td>\n    </tr>\n    <tr>\n      <th>9</th>\n      <td>training</td>\n      <td>10hgnol</td>\n      <td>D:\\data\\images\\AmIhotAF\\da9WDxth.jpg</td>\n      <td>Finally 18y and Daddy threw a party😇🍭</td>\n      <td>10hgnol</td>\n      <td>rosehamil</td>\n      <td>https://i.imgur.com/da9WDxth.jpg</td>\n      <td>Female (18+)</td>\n      <td>/r/AmIhotAF/comments/10hgnol/finally_18y_and_d...</td>\n      <td>8883026a4acc5f77078c7e6e005c06f3</td>\n      <td>AmIhotAF</td>\n      <td>A woman in a blue bathing suit holds a baby in...</td>\n      <td>False</td>\n      <td>da9WDxth.jpg</td>\n      <td>NaN</td>\n      <td></td>\n      <td>False</td>\n    </tr>\n  </tbody>\n</table>\n</div>"
     },
     "metadata": {},
     "output_type": "display_data"
    }
   ],
   "source": [
    "print(f\"=== Normalization Of Paths Complete ===\")\n",
    "# print(f\"Total records to write: {writable_df.count()}\")\n",
    "# display(writable_df.limit(10).toPandas())\n",
    "# writable_df.write.parquet(\"D:\\\\data\\\\processed\\\\reddit_images.parquet\", mode=\"overwrite\")"
   ],
   "metadata": {
    "collapsed": false
   }
  },
  {
   "cell_type": "code",
   "execution_count": 11,
   "outputs": [
    {
     "name": "stdout",
     "output_type": "stream",
     "text": [
      "=== Total written to Parquet: 8331 for D:\\data\\processed\\reddit_images.parquet ===\n"
     ]
    }
   ],
   "source": [
    "# processed = spark.read.parquet(\"D:\\\\data\\\\processed\\\\reddit_images.parquet\")\n",
    "# print(f\"=== Total written to Parquet: {processed.count()} for D:\\\\data\\\\processed\\\\reddit_images.parquet ===\")"
   ],
   "metadata": {
    "collapsed": false
   }
  }
 ],
 "metadata": {
  "kernelspec": {
   "display_name": "Python 3",
   "language": "python",
   "name": "python3"
  },
  "language_info": {
   "codemirror_mode": {
    "name": "ipython",
    "version": 2
   },
   "file_extension": ".py",
   "mimetype": "text/x-python",
   "name": "python",
   "nbconvert_exporter": "python",
   "pygments_lexer": "ipython2",
   "version": "2.7.6"
  }
 },
 "nbformat": 4,
 "nbformat_minor": 0
}
