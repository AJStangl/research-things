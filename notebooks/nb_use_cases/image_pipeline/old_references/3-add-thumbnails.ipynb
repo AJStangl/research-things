{
 "cells": [
  {
   "cell_type": "code",
   "execution_count": 4,
   "metadata": {
    "collapsed": true
   },
   "outputs": [],
   "source": [
    "from shared_code.utility.spark.set_environ import *\n",
    "set_azure_env()\n",
    "from shared_code.utility.schemas.spark_table_schema import image_table_schema\n",
    "from shared_code.utility.storage.table import TableAdapter\n",
    "\n",
    "\n",
    "os.environ['PYSPARK_PYTHON'] = sys.executable\n",
    "os.environ['PYSPARK_DRIVER_PYTHON'] = sys.executable\n",
    "\n",
    "from shared_code.utility.storage.table import TableAdapter\n",
    "\n",
    "\n",
    "spark = SparkSession \\\n",
    "\t.builder \\\n",
    "\t.appName('add-missing-captions') \\\n",
    "\t.master(\"local[6]\") \\\n",
    "\t.config(\"spark.cores.max\", \"1\") \\\n",
    "\t.config(\"spark.executor.instances\", \"1\") \\\n",
    "\t.config(\"spark.executor.cores\", \"1\") \\\n",
    "\t.config(\"spark.executor.cores\", \"1\") \\\n",
    "\t.config(\"spark.executor.instances\", \"1\") \\\n",
    "\t.config(\"spark.driver.memory\", \"10g\") \\\n",
    "\t.config(\"spark.memory.offHeap.enabled\", True) \\\n",
    "\t.config(\"spark.memory.offHeap.size\", \"10g\") \\\n",
    "\t.config(\"spark.executor.cores\", \"1\").getOrCreate()"
   ]
  },
  {
   "cell_type": "code",
   "execution_count": 5,
   "outputs": [
    {
     "name": "stdout",
     "output_type": "stream",
     "text": [
      "=== Total Number Of Records From Pre-Processing Thumbnail Creation 8600 ===\n"
     ]
    },
    {
     "data": {
      "text/plain": "  PartitionKey   RowKey                                              image  \\\n0     training  1000cej          D:\\data\\images\\CityPorn\\4emw5uldib9a1.jpg   \n1     training  1000d16        D:\\data\\images\\SFWNextDoorGirls\\GgFEagO.jpg   \n2     training  1000fg0   D:\\data\\images\\HotGirlNextDoor\\nwa7hts2jb9a1.jpg   \n3     training  1000glf          D:\\data\\images\\AmIhotAF\\4xyb1vgbjb9a1.jpg   \n4     training  1000j1n         D:\\data\\images\\greentext\\3mewbe0wjb9a1.jpg   \n5     training  1000qiq       D:\\data\\images\\SFWRedheads\\0mgrt95plb9a1.jpg   \n6     training  1001fon       D:\\data\\images\\SFWRedheads\\gp4fhsdorb9a1.jpg   \n7     training  1001ghp         D:\\data\\images\\sfwpetite\\v3ra9g4vrb9a1.jpg   \n8     training  1001ih5  D:\\data\\images\\SFWNextDoorGirls\\bhigr5rbsb9a1.jpg   \n9     training  1001kp4          D:\\data\\images\\AmIhotAF\\dn7lcclvsb9a1.jpg   \n\n                                             text       id             author  \\\n0                             New York in the fog  1000cej        OtterlyFoxy   \n1             Thoughts about my NYE party outfit?  1000d16      princessxo699   \n2                                          (IKTR)  1000fg0         BlkBrd1312   \n3                  Just looking for entertainment  1000glf  toolate_sharkbait   \n4                             Anon wants Elon cut  1000j1n          trent8051   \n5  Who’s going to be my new years kiss tonight? 🤧  1000qiq    fireybubbulegum   \n6                  honk if you like my sweater 😁💕  1001fon          glam_pire   \n7                                          Braids  1001ghp         eromorphic   \n8                                  New Year's Elf  1001ih5     ms_twine_grace   \n9                             Happy New Years Eve  1001kp4    Hotblondie69420   \n\n                                   url              flair  \\\n0  https://i.redd.it/4emw5uldib9a1.jpg                NaN   \n1      https://i.imgur.com/GgFEagO.jpg  Outfit of the Day   \n2  https://i.redd.it/nwa7hts2jb9a1.jpg    HotGirlNextDoor   \n3  https://i.redd.it/4xyb1vgbjb9a1.jpg       Female (18+)   \n4  https://i.redd.it/3mewbe0wjb9a1.jpg               None   \n5  https://i.redd.it/0mgrt95plb9a1.jpg                NaN   \n6  https://i.redd.it/gp4fhsdorb9a1.jpg                NaN   \n7  https://i.redd.it/v3ra9g4vrb9a1.jpg                NaN   \n8  https://i.redd.it/bhigr5rbsb9a1.jpg                NaN   \n9  https://i.redd.it/dn7lcclvsb9a1.jpg       Female (18+)   \n\n                                           permalink  \\\n0  /r/CityPorn/comments/1000cej/new_york_in_the_fog/   \n1  /r/SFWNextDoorGirls/comments/1000d16/thoughts_...   \n2          /r/HotGirlNextDoor/comments/1000fg0/iktr/   \n3  /r/AmIhotAF/comments/1000glf/just_looking_for_...   \n4  /r/greentext/comments/1000j1n/anon_wants_elon_...   \n5  /r/SFWRedheads/comments/1000qiq/whos_going_to_...   \n6  /r/SFWRedheads/comments/1001fon/honk_if_you_li...   \n7              /r/sfwpetite/comments/1001ghp/braids/   \n8  /r/SFWNextDoorGirls/comments/1001ih5/new_years...   \n9  /r/AmIhotAF/comments/1001kp4/happy_new_years_eve/   \n\n                               hash         subreddit  \\\n0  7a8d96e378c15c8ab8440ac311f12c11          CityPorn   \n1  9951b4f82caeb8ba2bd9f79f8d422450  SFWNextDoorGirls   \n2  be8dd55e34216bec1e15e03fa296eacc   HotGirlNextDoor   \n3  e554c1ed7ffa2740436ac082068b2824          AmIhotAF   \n4  1dec3dabb5e46cde01855d06089c287a         greentext   \n5  7b0be38a08e3316051c6e5a3753bc791       SFWRedheads   \n6  feed678c3b74ed1d0b7011f28e8f283f       SFWRedheads   \n7  16ca1536c4f6936d3e994df7cb40ab8e         sfwpetite   \n8  9ff18e9afb7b566c0d50add45cbfb989  SFWNextDoorGirls   \n9  7137ef4fe19a97c757553bfa62b23a33          AmIhotAF   \n\n                                             caption  exists  \\\n0   a city street filled with lots of tall buildings    True   \n1   a woman sitting on a table holding a pink flower    True   \n2  a woman in a bikini with a cell phone in her hand    True   \n3  a beautiful young woman in a black dress posin...    True   \n4  a collage of photos showing a man in a suit an...    True   \n5  A woman in a red dress is talking to a man in ...   False   \n6  A woman in a red dress is talking to a man in ...   False   \n7  a beautiful young woman in a bikini posing for...    True   \n8  A little girl in a pink dress is dancing on a ...   False   \n9  A woman in a white dress is talking to a man i...   False   \n\n          image_name                                    updated_caption  \\\n0  4emw5uldib9a1.jpg   a city street filled with lots of tall buildings   \n1        GgFEagO.jpg   a woman sitting on a table holding a pink flower   \n2  nwa7hts2jb9a1.jpg  a woman in a bikini with a cell phone in her hand   \n3  4xyb1vgbjb9a1.jpg  a beautiful young woman in a black dress posin...   \n4  3mewbe0wjb9a1.jpg  a collage of photos showing a man in a suit an...   \n5  0mgrt95plb9a1.jpg                                                NaN   \n6  gp4fhsdorb9a1.jpg                                                NaN   \n7  v3ra9g4vrb9a1.jpg  a beautiful young woman in a bikini posing for...   \n8  bhigr5rbsb9a1.jpg                                                NaN   \n9  dn7lcclvsb9a1.jpg                                                NaN   \n\n                                         small_image  curated  \n0  D:\\data\\images\\CityPorn\\thumbnail\\4emw5uldib9a...    False  \n1  D:\\data\\images\\SFWNextDoorGirls\\thumbnail\\GgFE...    False  \n2  D:\\data\\images\\HotGirlNextDoor\\thumbnail\\nwa7h...    False  \n3  D:\\data\\images\\AmIhotAF\\thumbnail\\4xyb1vgbjb9a...    False  \n4  D:\\data\\images\\greentext\\thumbnail\\3mewbe0wjb9...    False  \n5                                                       False  \n6                                                       False  \n7  D:\\data\\images\\sfwpetite\\thumbnail\\v3ra9g4vrb9...    False  \n8                                                       False  \n9                                                       False  ",
      "text/html": "<div>\n<style scoped>\n    .dataframe tbody tr th:only-of-type {\n        vertical-align: middle;\n    }\n\n    .dataframe tbody tr th {\n        vertical-align: top;\n    }\n\n    .dataframe thead th {\n        text-align: right;\n    }\n</style>\n<table border=\"1\" class=\"dataframe\">\n  <thead>\n    <tr style=\"text-align: right;\">\n      <th></th>\n      <th>PartitionKey</th>\n      <th>RowKey</th>\n      <th>image</th>\n      <th>text</th>\n      <th>id</th>\n      <th>author</th>\n      <th>url</th>\n      <th>flair</th>\n      <th>permalink</th>\n      <th>hash</th>\n      <th>subreddit</th>\n      <th>caption</th>\n      <th>exists</th>\n      <th>image_name</th>\n      <th>updated_caption</th>\n      <th>small_image</th>\n      <th>curated</th>\n    </tr>\n  </thead>\n  <tbody>\n    <tr>\n      <th>0</th>\n      <td>training</td>\n      <td>1000cej</td>\n      <td>D:\\data\\images\\CityPorn\\4emw5uldib9a1.jpg</td>\n      <td>New York in the fog</td>\n      <td>1000cej</td>\n      <td>OtterlyFoxy</td>\n      <td>https://i.redd.it/4emw5uldib9a1.jpg</td>\n      <td>NaN</td>\n      <td>/r/CityPorn/comments/1000cej/new_york_in_the_fog/</td>\n      <td>7a8d96e378c15c8ab8440ac311f12c11</td>\n      <td>CityPorn</td>\n      <td>a city street filled with lots of tall buildings</td>\n      <td>True</td>\n      <td>4emw5uldib9a1.jpg</td>\n      <td>a city street filled with lots of tall buildings</td>\n      <td>D:\\data\\images\\CityPorn\\thumbnail\\4emw5uldib9a...</td>\n      <td>False</td>\n    </tr>\n    <tr>\n      <th>1</th>\n      <td>training</td>\n      <td>1000d16</td>\n      <td>D:\\data\\images\\SFWNextDoorGirls\\GgFEagO.jpg</td>\n      <td>Thoughts about my NYE party outfit?</td>\n      <td>1000d16</td>\n      <td>princessxo699</td>\n      <td>https://i.imgur.com/GgFEagO.jpg</td>\n      <td>Outfit of the Day</td>\n      <td>/r/SFWNextDoorGirls/comments/1000d16/thoughts_...</td>\n      <td>9951b4f82caeb8ba2bd9f79f8d422450</td>\n      <td>SFWNextDoorGirls</td>\n      <td>a woman sitting on a table holding a pink flower</td>\n      <td>True</td>\n      <td>GgFEagO.jpg</td>\n      <td>a woman sitting on a table holding a pink flower</td>\n      <td>D:\\data\\images\\SFWNextDoorGirls\\thumbnail\\GgFE...</td>\n      <td>False</td>\n    </tr>\n    <tr>\n      <th>2</th>\n      <td>training</td>\n      <td>1000fg0</td>\n      <td>D:\\data\\images\\HotGirlNextDoor\\nwa7hts2jb9a1.jpg</td>\n      <td>(IKTR)</td>\n      <td>1000fg0</td>\n      <td>BlkBrd1312</td>\n      <td>https://i.redd.it/nwa7hts2jb9a1.jpg</td>\n      <td>HotGirlNextDoor</td>\n      <td>/r/HotGirlNextDoor/comments/1000fg0/iktr/</td>\n      <td>be8dd55e34216bec1e15e03fa296eacc</td>\n      <td>HotGirlNextDoor</td>\n      <td>a woman in a bikini with a cell phone in her hand</td>\n      <td>True</td>\n      <td>nwa7hts2jb9a1.jpg</td>\n      <td>a woman in a bikini with a cell phone in her hand</td>\n      <td>D:\\data\\images\\HotGirlNextDoor\\thumbnail\\nwa7h...</td>\n      <td>False</td>\n    </tr>\n    <tr>\n      <th>3</th>\n      <td>training</td>\n      <td>1000glf</td>\n      <td>D:\\data\\images\\AmIhotAF\\4xyb1vgbjb9a1.jpg</td>\n      <td>Just looking for entertainment</td>\n      <td>1000glf</td>\n      <td>toolate_sharkbait</td>\n      <td>https://i.redd.it/4xyb1vgbjb9a1.jpg</td>\n      <td>Female (18+)</td>\n      <td>/r/AmIhotAF/comments/1000glf/just_looking_for_...</td>\n      <td>e554c1ed7ffa2740436ac082068b2824</td>\n      <td>AmIhotAF</td>\n      <td>a beautiful young woman in a black dress posin...</td>\n      <td>True</td>\n      <td>4xyb1vgbjb9a1.jpg</td>\n      <td>a beautiful young woman in a black dress posin...</td>\n      <td>D:\\data\\images\\AmIhotAF\\thumbnail\\4xyb1vgbjb9a...</td>\n      <td>False</td>\n    </tr>\n    <tr>\n      <th>4</th>\n      <td>training</td>\n      <td>1000j1n</td>\n      <td>D:\\data\\images\\greentext\\3mewbe0wjb9a1.jpg</td>\n      <td>Anon wants Elon cut</td>\n      <td>1000j1n</td>\n      <td>trent8051</td>\n      <td>https://i.redd.it/3mewbe0wjb9a1.jpg</td>\n      <td>None</td>\n      <td>/r/greentext/comments/1000j1n/anon_wants_elon_...</td>\n      <td>1dec3dabb5e46cde01855d06089c287a</td>\n      <td>greentext</td>\n      <td>a collage of photos showing a man in a suit an...</td>\n      <td>True</td>\n      <td>3mewbe0wjb9a1.jpg</td>\n      <td>a collage of photos showing a man in a suit an...</td>\n      <td>D:\\data\\images\\greentext\\thumbnail\\3mewbe0wjb9...</td>\n      <td>False</td>\n    </tr>\n    <tr>\n      <th>5</th>\n      <td>training</td>\n      <td>1000qiq</td>\n      <td>D:\\data\\images\\SFWRedheads\\0mgrt95plb9a1.jpg</td>\n      <td>Who’s going to be my new years kiss tonight? 🤧</td>\n      <td>1000qiq</td>\n      <td>fireybubbulegum</td>\n      <td>https://i.redd.it/0mgrt95plb9a1.jpg</td>\n      <td>NaN</td>\n      <td>/r/SFWRedheads/comments/1000qiq/whos_going_to_...</td>\n      <td>7b0be38a08e3316051c6e5a3753bc791</td>\n      <td>SFWRedheads</td>\n      <td>A woman in a red dress is talking to a man in ...</td>\n      <td>False</td>\n      <td>0mgrt95plb9a1.jpg</td>\n      <td>NaN</td>\n      <td></td>\n      <td>False</td>\n    </tr>\n    <tr>\n      <th>6</th>\n      <td>training</td>\n      <td>1001fon</td>\n      <td>D:\\data\\images\\SFWRedheads\\gp4fhsdorb9a1.jpg</td>\n      <td>honk if you like my sweater 😁💕</td>\n      <td>1001fon</td>\n      <td>glam_pire</td>\n      <td>https://i.redd.it/gp4fhsdorb9a1.jpg</td>\n      <td>NaN</td>\n      <td>/r/SFWRedheads/comments/1001fon/honk_if_you_li...</td>\n      <td>feed678c3b74ed1d0b7011f28e8f283f</td>\n      <td>SFWRedheads</td>\n      <td>A woman in a red dress is talking to a man in ...</td>\n      <td>False</td>\n      <td>gp4fhsdorb9a1.jpg</td>\n      <td>NaN</td>\n      <td></td>\n      <td>False</td>\n    </tr>\n    <tr>\n      <th>7</th>\n      <td>training</td>\n      <td>1001ghp</td>\n      <td>D:\\data\\images\\sfwpetite\\v3ra9g4vrb9a1.jpg</td>\n      <td>Braids</td>\n      <td>1001ghp</td>\n      <td>eromorphic</td>\n      <td>https://i.redd.it/v3ra9g4vrb9a1.jpg</td>\n      <td>NaN</td>\n      <td>/r/sfwpetite/comments/1001ghp/braids/</td>\n      <td>16ca1536c4f6936d3e994df7cb40ab8e</td>\n      <td>sfwpetite</td>\n      <td>a beautiful young woman in a bikini posing for...</td>\n      <td>True</td>\n      <td>v3ra9g4vrb9a1.jpg</td>\n      <td>a beautiful young woman in a bikini posing for...</td>\n      <td>D:\\data\\images\\sfwpetite\\thumbnail\\v3ra9g4vrb9...</td>\n      <td>False</td>\n    </tr>\n    <tr>\n      <th>8</th>\n      <td>training</td>\n      <td>1001ih5</td>\n      <td>D:\\data\\images\\SFWNextDoorGirls\\bhigr5rbsb9a1.jpg</td>\n      <td>New Year's Elf</td>\n      <td>1001ih5</td>\n      <td>ms_twine_grace</td>\n      <td>https://i.redd.it/bhigr5rbsb9a1.jpg</td>\n      <td>NaN</td>\n      <td>/r/SFWNextDoorGirls/comments/1001ih5/new_years...</td>\n      <td>9ff18e9afb7b566c0d50add45cbfb989</td>\n      <td>SFWNextDoorGirls</td>\n      <td>A little girl in a pink dress is dancing on a ...</td>\n      <td>False</td>\n      <td>bhigr5rbsb9a1.jpg</td>\n      <td>NaN</td>\n      <td></td>\n      <td>False</td>\n    </tr>\n    <tr>\n      <th>9</th>\n      <td>training</td>\n      <td>1001kp4</td>\n      <td>D:\\data\\images\\AmIhotAF\\dn7lcclvsb9a1.jpg</td>\n      <td>Happy New Years Eve</td>\n      <td>1001kp4</td>\n      <td>Hotblondie69420</td>\n      <td>https://i.redd.it/dn7lcclvsb9a1.jpg</td>\n      <td>Female (18+)</td>\n      <td>/r/AmIhotAF/comments/1001kp4/happy_new_years_eve/</td>\n      <td>7137ef4fe19a97c757553bfa62b23a33</td>\n      <td>AmIhotAF</td>\n      <td>A woman in a white dress is talking to a man i...</td>\n      <td>False</td>\n      <td>dn7lcclvsb9a1.jpg</td>\n      <td>NaN</td>\n      <td></td>\n      <td>False</td>\n    </tr>\n  </tbody>\n</table>\n</div>"
     },
     "metadata": {},
     "output_type": "display_data"
    }
   ],
   "source": [
    "\n",
    "table_name = \"training\"\n",
    "table_adapter: TableAdapter = TableAdapter()\n",
    "raw_data = table_adapter.get_all_entities(table_name)\n",
    "spark_df = spark.createDataFrame(raw_data, schema=image_table_schema)\n",
    "\n",
    "print(f\"=== Total Number Of Records From Pre-Processing Thumbnail Creation {spark_df.count()} ===\")\n",
    "\n",
    "display(spark_df.limit(10).toPandas())"
   ],
   "metadata": {
    "collapsed": false
   }
  },
  {
   "cell_type": "code",
   "execution_count": 6,
   "outputs": [],
   "source": [
    "from pyspark.sql.functions import udf\n",
    "from pyspark.sql.types import StringType\n",
    "import PIL.Image\n",
    "import logging\n",
    "\n",
    "def resize_image(path: str):\n",
    "\timg = PIL.Image.open(path)\n",
    "\ttry:\n",
    "\t\tcopied_image = img.copy()\n",
    "\t\ti = copied_image.resize((512, 512))\n",
    "\t\treturn i\n",
    "\tfinally:\n",
    "\t\timg.close()\n",
    "\n",
    "@udf(returnType=StringType())\n",
    "def get_resized_image(big_image_path, subreddit, image_name):\n",
    "\ttry:\n",
    "\t\texpected_path = os.path.join(\"D:\", os.sep, \"data\", \"images\", subreddit, \"thumbnail\", image_name)\n",
    "\t\tif os.path.exists(expected_path):\n",
    "\t\t\treturn expected_path\n",
    "\t\telse:\n",
    "\t\t\tlogging.info(f\"Resizing image {big_image_path} to {expected_path}...\")\n",
    "\t\t\tr = resize_image(big_image_path)\n",
    "\t\t\tr.save(expected_path)\n",
    "\t\t\tr.close()\n",
    "\t\t\treturn expected_path\n",
    "\texcept Exception as e:\n",
    "\t\tlogging.error(f\"Error resizing image {big_image_path}...\")\n",
    "\t\treturn \"\""
   ],
   "metadata": {
    "collapsed": false
   }
  },
  {
   "cell_type": "code",
   "execution_count": 7,
   "outputs": [
    {
     "name": "stdout",
     "output_type": "stream",
     "text": [
      "=== Total Number of Records Updated To Write: 8600 ===\n"
     ]
    },
    {
     "data": {
      "text/plain": "     PartitionKey   RowKey                                              image  \\\n0        training  1000cej          D:\\data\\images\\CityPorn\\4emw5uldib9a1.jpg   \n1        training  1000d16        D:\\data\\images\\SFWNextDoorGirls\\GgFEagO.jpg   \n2        training  1000fg0   D:\\data\\images\\HotGirlNextDoor\\nwa7hts2jb9a1.jpg   \n3        training  1000glf          D:\\data\\images\\AmIhotAF\\4xyb1vgbjb9a1.jpg   \n4        training  1000j1n         D:\\data\\images\\greentext\\3mewbe0wjb9a1.jpg   \n...           ...      ...                                                ...   \n8595     training   zzyerp          D:\\data\\images\\AmIhotAF\\hgktc1on2b9a1.jpg   \n8596     training   zzzeoi               D:\\data\\images\\greentext\\bgho6WK.jpg   \n8597     training   zzzg13       D:\\data\\images\\SFWRedheads\\3rv0ql34bb9a1.jpg   \n8598     training   zzzlyl  D:\\data\\images\\CityPorn\\Minquan_Bridge2017_TAI...   \n8599     training   zzzu28   D:\\data\\images\\HotGirlNextDoor\\p6yewrl7eb9a1.jpg   \n\n                                     text       id               author  \\\n0                     New York in the fog  1000cej          OtterlyFoxy   \n1     Thoughts about my NYE party outfit?  1000d16        princessxo699   \n2                                  (IKTR)  1000fg0           BlkBrd1312   \n3          Just looking for entertainment  1000glf    toolate_sharkbait   \n4                     Anon wants Elon cut  1000j1n            trent8051   \n...                                   ...      ...                  ...   \n8595             Good evening everyone ❤️   zzyerp         Juliadomaina   \n8596          Anon does a little trolling   zzzeoi  ComprehendApprehend   \n8597                    Cute but Deadly 😋   zzzg13     AdConsistent3184   \n8598                       Taipei, Taiwan   zzzlyl  Particular-Chip2355   \n8599                               (IKTR)   zzzu28       Butter_Luver05   \n\n                                                    url              flair  \\\n0                   https://i.redd.it/4emw5uldib9a1.jpg                NaN   \n1                       https://i.imgur.com/GgFEagO.jpg  Outfit of the Day   \n2                   https://i.redd.it/nwa7hts2jb9a1.jpg    HotGirlNextDoor   \n3                   https://i.redd.it/4xyb1vgbjb9a1.jpg       Female (18+)   \n4                   https://i.redd.it/3mewbe0wjb9a1.jpg               None   \n...                                                 ...                ...   \n8595                https://i.redd.it/hgktc1on2b9a1.jpg       Female (18+)   \n8596                    https://i.imgur.com/bgho6WK.jpg               None   \n8597                https://i.redd.it/3rv0ql34bb9a1.jpg                NaN   \n8598  https://upload.wikimedia.org/wikipedia/commons...                NaN   \n8599                https://i.redd.it/p6yewrl7eb9a1.jpg    HotGirlNextDoor   \n\n                                              permalink  \\\n0     /r/CityPorn/comments/1000cej/new_york_in_the_fog/   \n1     /r/SFWNextDoorGirls/comments/1000d16/thoughts_...   \n2             /r/HotGirlNextDoor/comments/1000fg0/iktr/   \n3     /r/AmIhotAF/comments/1000glf/just_looking_for_...   \n4     /r/greentext/comments/1000j1n/anon_wants_elon_...   \n...                                                 ...   \n8595  /r/AmIhotAF/comments/zzyerp/good_evening_every...   \n8596  /r/greentext/comments/zzzeoi/anon_does_a_littl...   \n8597    /r/SFWRedheads/comments/zzzg13/cute_but_deadly/   \n8598         /r/CityPorn/comments/zzzlyl/taipei_taiwan/   \n8599           /r/HotGirlNextDoor/comments/zzzu28/iktr/   \n\n                                  hash         subreddit  \\\n0     7a8d96e378c15c8ab8440ac311f12c11          CityPorn   \n1     9951b4f82caeb8ba2bd9f79f8d422450  SFWNextDoorGirls   \n2     be8dd55e34216bec1e15e03fa296eacc   HotGirlNextDoor   \n3     e554c1ed7ffa2740436ac082068b2824          AmIhotAF   \n4     1dec3dabb5e46cde01855d06089c287a         greentext   \n...                                ...               ...   \n8595  9279353b1761d62e7f8ca587a4146abf          AmIhotAF   \n8596  df666b8b2ad543c77b3fdba89becda1a         greentext   \n8597  ba89401054b09d3ff2b608705f8a7110       SFWRedheads   \n8598  3cac9b29f27d5fc26ddcec4e1641649f          CityPorn   \n8599  94dea288ddffb51eb1a786d469b59374   HotGirlNextDoor   \n\n                                                caption  exists  \\\n0      a city street filled with lots of tall buildings    True   \n1      a woman sitting on a table holding a pink flower    True   \n2     a woman in a bikini with a cell phone in her hand    True   \n3     a beautiful young woman in a black dress posin...    True   \n4     a collage of photos showing a man in a suit an...    True   \n...                                                 ...     ...   \n8595  A girl in a red jacket is sitting on a red horse.    True   \n8596  A man wearing a black shirt and black pants is...    True   \n8597  A little girl in a pink dress is sitting on a ...   False   \n8598                          Error in captioning image   False   \n8599  A woman in a pink bathing suit is sitting on a...    True   \n\n                         image_name  \\\n0                 4emw5uldib9a1.jpg   \n1                       GgFEagO.jpg   \n2                 nwa7hts2jb9a1.jpg   \n3                 4xyb1vgbjb9a1.jpg   \n4                 3mewbe0wjb9a1.jpg   \n...                             ...   \n8595              hgktc1on2b9a1.jpg   \n8596                    bgho6WK.jpg   \n8597              3rv0ql34bb9a1.jpg   \n8598  Minquan_Bridge2017_TAIWAN.jpg   \n8599              p6yewrl7eb9a1.jpg   \n\n                                        updated_caption  \\\n0      a city street filled with lots of tall buildings   \n1      a woman sitting on a table holding a pink flower   \n2     a woman in a bikini with a cell phone in her hand   \n3     a beautiful young woman in a black dress posin...   \n4     a collage of photos showing a man in a suit an...   \n...                                                 ...   \n8595  a woman in a bikini with a cell phone in her hand   \n8596         a series of photos showing a man in a suit   \n8597                                                NaN   \n8598                                                NaN   \n8599             a woman in a bikini sitting on a beach   \n\n                                            small_image  curated  \n0     D:\\data\\images\\CityPorn\\thumbnail\\4emw5uldib9a...    False  \n1     D:\\data\\images\\SFWNextDoorGirls\\thumbnail\\GgFE...    False  \n2     D:\\data\\images\\HotGirlNextDoor\\thumbnail\\nwa7h...    False  \n3     D:\\data\\images\\AmIhotAF\\thumbnail\\4xyb1vgbjb9a...    False  \n4     D:\\data\\images\\greentext\\thumbnail\\3mewbe0wjb9...    False  \n...                                                 ...      ...  \n8595  D:\\data\\images\\AmIhotAF\\thumbnail\\hgktc1on2b9a...    False  \n8596     D:\\data\\images\\greentext\\thumbnail\\bgho6WK.jpg    False  \n8597                                                       False  \n8598                                                       False  \n8599  D:\\data\\images\\HotGirlNextDoor\\thumbnail\\p6yew...    False  \n\n[8600 rows x 17 columns]",
      "text/html": "<div>\n<style scoped>\n    .dataframe tbody tr th:only-of-type {\n        vertical-align: middle;\n    }\n\n    .dataframe tbody tr th {\n        vertical-align: top;\n    }\n\n    .dataframe thead th {\n        text-align: right;\n    }\n</style>\n<table border=\"1\" class=\"dataframe\">\n  <thead>\n    <tr style=\"text-align: right;\">\n      <th></th>\n      <th>PartitionKey</th>\n      <th>RowKey</th>\n      <th>image</th>\n      <th>text</th>\n      <th>id</th>\n      <th>author</th>\n      <th>url</th>\n      <th>flair</th>\n      <th>permalink</th>\n      <th>hash</th>\n      <th>subreddit</th>\n      <th>caption</th>\n      <th>exists</th>\n      <th>image_name</th>\n      <th>updated_caption</th>\n      <th>small_image</th>\n      <th>curated</th>\n    </tr>\n  </thead>\n  <tbody>\n    <tr>\n      <th>0</th>\n      <td>training</td>\n      <td>1000cej</td>\n      <td>D:\\data\\images\\CityPorn\\4emw5uldib9a1.jpg</td>\n      <td>New York in the fog</td>\n      <td>1000cej</td>\n      <td>OtterlyFoxy</td>\n      <td>https://i.redd.it/4emw5uldib9a1.jpg</td>\n      <td>NaN</td>\n      <td>/r/CityPorn/comments/1000cej/new_york_in_the_fog/</td>\n      <td>7a8d96e378c15c8ab8440ac311f12c11</td>\n      <td>CityPorn</td>\n      <td>a city street filled with lots of tall buildings</td>\n      <td>True</td>\n      <td>4emw5uldib9a1.jpg</td>\n      <td>a city street filled with lots of tall buildings</td>\n      <td>D:\\data\\images\\CityPorn\\thumbnail\\4emw5uldib9a...</td>\n      <td>False</td>\n    </tr>\n    <tr>\n      <th>1</th>\n      <td>training</td>\n      <td>1000d16</td>\n      <td>D:\\data\\images\\SFWNextDoorGirls\\GgFEagO.jpg</td>\n      <td>Thoughts about my NYE party outfit?</td>\n      <td>1000d16</td>\n      <td>princessxo699</td>\n      <td>https://i.imgur.com/GgFEagO.jpg</td>\n      <td>Outfit of the Day</td>\n      <td>/r/SFWNextDoorGirls/comments/1000d16/thoughts_...</td>\n      <td>9951b4f82caeb8ba2bd9f79f8d422450</td>\n      <td>SFWNextDoorGirls</td>\n      <td>a woman sitting on a table holding a pink flower</td>\n      <td>True</td>\n      <td>GgFEagO.jpg</td>\n      <td>a woman sitting on a table holding a pink flower</td>\n      <td>D:\\data\\images\\SFWNextDoorGirls\\thumbnail\\GgFE...</td>\n      <td>False</td>\n    </tr>\n    <tr>\n      <th>2</th>\n      <td>training</td>\n      <td>1000fg0</td>\n      <td>D:\\data\\images\\HotGirlNextDoor\\nwa7hts2jb9a1.jpg</td>\n      <td>(IKTR)</td>\n      <td>1000fg0</td>\n      <td>BlkBrd1312</td>\n      <td>https://i.redd.it/nwa7hts2jb9a1.jpg</td>\n      <td>HotGirlNextDoor</td>\n      <td>/r/HotGirlNextDoor/comments/1000fg0/iktr/</td>\n      <td>be8dd55e34216bec1e15e03fa296eacc</td>\n      <td>HotGirlNextDoor</td>\n      <td>a woman in a bikini with a cell phone in her hand</td>\n      <td>True</td>\n      <td>nwa7hts2jb9a1.jpg</td>\n      <td>a woman in a bikini with a cell phone in her hand</td>\n      <td>D:\\data\\images\\HotGirlNextDoor\\thumbnail\\nwa7h...</td>\n      <td>False</td>\n    </tr>\n    <tr>\n      <th>3</th>\n      <td>training</td>\n      <td>1000glf</td>\n      <td>D:\\data\\images\\AmIhotAF\\4xyb1vgbjb9a1.jpg</td>\n      <td>Just looking for entertainment</td>\n      <td>1000glf</td>\n      <td>toolate_sharkbait</td>\n      <td>https://i.redd.it/4xyb1vgbjb9a1.jpg</td>\n      <td>Female (18+)</td>\n      <td>/r/AmIhotAF/comments/1000glf/just_looking_for_...</td>\n      <td>e554c1ed7ffa2740436ac082068b2824</td>\n      <td>AmIhotAF</td>\n      <td>a beautiful young woman in a black dress posin...</td>\n      <td>True</td>\n      <td>4xyb1vgbjb9a1.jpg</td>\n      <td>a beautiful young woman in a black dress posin...</td>\n      <td>D:\\data\\images\\AmIhotAF\\thumbnail\\4xyb1vgbjb9a...</td>\n      <td>False</td>\n    </tr>\n    <tr>\n      <th>4</th>\n      <td>training</td>\n      <td>1000j1n</td>\n      <td>D:\\data\\images\\greentext\\3mewbe0wjb9a1.jpg</td>\n      <td>Anon wants Elon cut</td>\n      <td>1000j1n</td>\n      <td>trent8051</td>\n      <td>https://i.redd.it/3mewbe0wjb9a1.jpg</td>\n      <td>None</td>\n      <td>/r/greentext/comments/1000j1n/anon_wants_elon_...</td>\n      <td>1dec3dabb5e46cde01855d06089c287a</td>\n      <td>greentext</td>\n      <td>a collage of photos showing a man in a suit an...</td>\n      <td>True</td>\n      <td>3mewbe0wjb9a1.jpg</td>\n      <td>a collage of photos showing a man in a suit an...</td>\n      <td>D:\\data\\images\\greentext\\thumbnail\\3mewbe0wjb9...</td>\n      <td>False</td>\n    </tr>\n    <tr>\n      <th>...</th>\n      <td>...</td>\n      <td>...</td>\n      <td>...</td>\n      <td>...</td>\n      <td>...</td>\n      <td>...</td>\n      <td>...</td>\n      <td>...</td>\n      <td>...</td>\n      <td>...</td>\n      <td>...</td>\n      <td>...</td>\n      <td>...</td>\n      <td>...</td>\n      <td>...</td>\n      <td>...</td>\n      <td>...</td>\n    </tr>\n    <tr>\n      <th>8595</th>\n      <td>training</td>\n      <td>zzyerp</td>\n      <td>D:\\data\\images\\AmIhotAF\\hgktc1on2b9a1.jpg</td>\n      <td>Good evening everyone ❤️</td>\n      <td>zzyerp</td>\n      <td>Juliadomaina</td>\n      <td>https://i.redd.it/hgktc1on2b9a1.jpg</td>\n      <td>Female (18+)</td>\n      <td>/r/AmIhotAF/comments/zzyerp/good_evening_every...</td>\n      <td>9279353b1761d62e7f8ca587a4146abf</td>\n      <td>AmIhotAF</td>\n      <td>A girl in a red jacket is sitting on a red horse.</td>\n      <td>True</td>\n      <td>hgktc1on2b9a1.jpg</td>\n      <td>a woman in a bikini with a cell phone in her hand</td>\n      <td>D:\\data\\images\\AmIhotAF\\thumbnail\\hgktc1on2b9a...</td>\n      <td>False</td>\n    </tr>\n    <tr>\n      <th>8596</th>\n      <td>training</td>\n      <td>zzzeoi</td>\n      <td>D:\\data\\images\\greentext\\bgho6WK.jpg</td>\n      <td>Anon does a little trolling</td>\n      <td>zzzeoi</td>\n      <td>ComprehendApprehend</td>\n      <td>https://i.imgur.com/bgho6WK.jpg</td>\n      <td>None</td>\n      <td>/r/greentext/comments/zzzeoi/anon_does_a_littl...</td>\n      <td>df666b8b2ad543c77b3fdba89becda1a</td>\n      <td>greentext</td>\n      <td>A man wearing a black shirt and black pants is...</td>\n      <td>True</td>\n      <td>bgho6WK.jpg</td>\n      <td>a series of photos showing a man in a suit</td>\n      <td>D:\\data\\images\\greentext\\thumbnail\\bgho6WK.jpg</td>\n      <td>False</td>\n    </tr>\n    <tr>\n      <th>8597</th>\n      <td>training</td>\n      <td>zzzg13</td>\n      <td>D:\\data\\images\\SFWRedheads\\3rv0ql34bb9a1.jpg</td>\n      <td>Cute but Deadly 😋</td>\n      <td>zzzg13</td>\n      <td>AdConsistent3184</td>\n      <td>https://i.redd.it/3rv0ql34bb9a1.jpg</td>\n      <td>NaN</td>\n      <td>/r/SFWRedheads/comments/zzzg13/cute_but_deadly/</td>\n      <td>ba89401054b09d3ff2b608705f8a7110</td>\n      <td>SFWRedheads</td>\n      <td>A little girl in a pink dress is sitting on a ...</td>\n      <td>False</td>\n      <td>3rv0ql34bb9a1.jpg</td>\n      <td>NaN</td>\n      <td></td>\n      <td>False</td>\n    </tr>\n    <tr>\n      <th>8598</th>\n      <td>training</td>\n      <td>zzzlyl</td>\n      <td>D:\\data\\images\\CityPorn\\Minquan_Bridge2017_TAI...</td>\n      <td>Taipei, Taiwan</td>\n      <td>zzzlyl</td>\n      <td>Particular-Chip2355</td>\n      <td>https://upload.wikimedia.org/wikipedia/commons...</td>\n      <td>NaN</td>\n      <td>/r/CityPorn/comments/zzzlyl/taipei_taiwan/</td>\n      <td>3cac9b29f27d5fc26ddcec4e1641649f</td>\n      <td>CityPorn</td>\n      <td>Error in captioning image</td>\n      <td>False</td>\n      <td>Minquan_Bridge2017_TAIWAN.jpg</td>\n      <td>NaN</td>\n      <td></td>\n      <td>False</td>\n    </tr>\n    <tr>\n      <th>8599</th>\n      <td>training</td>\n      <td>zzzu28</td>\n      <td>D:\\data\\images\\HotGirlNextDoor\\p6yewrl7eb9a1.jpg</td>\n      <td>(IKTR)</td>\n      <td>zzzu28</td>\n      <td>Butter_Luver05</td>\n      <td>https://i.redd.it/p6yewrl7eb9a1.jpg</td>\n      <td>HotGirlNextDoor</td>\n      <td>/r/HotGirlNextDoor/comments/zzzu28/iktr/</td>\n      <td>94dea288ddffb51eb1a786d469b59374</td>\n      <td>HotGirlNextDoor</td>\n      <td>A woman in a pink bathing suit is sitting on a...</td>\n      <td>True</td>\n      <td>p6yewrl7eb9a1.jpg</td>\n      <td>a woman in a bikini sitting on a beach</td>\n      <td>D:\\data\\images\\HotGirlNextDoor\\thumbnail\\p6yew...</td>\n      <td>False</td>\n    </tr>\n  </tbody>\n</table>\n<p>8600 rows × 17 columns</p>\n</div>"
     },
     "metadata": {},
     "output_type": "display_data"
    },
    {
     "name": "stdout",
     "output_type": "stream",
     "text": [
      "== Updating Parent Cloud Table Thumbnails ==\n"
     ]
    }
   ],
   "source": [
    "result = spark_df \\\n",
    "\t.withColumn(\"small_image\", get_resized_image(\"image\", \"subreddit\", \"image_name\")).collect()\n",
    "\n",
    "print(f\"=== Total Number of Records Updated To Write: {len(result)} ===\")\n",
    "\n",
    "writeable_df = spark.createDataFrame(result, schema=image_table_schema)\n",
    "\n",
    "display(writeable_df.toPandas())\n",
    "\n",
    "records = writeable_df.toPandas().to_dict(orient=\"records\")\n",
    "\n",
    "table_adapter = TableAdapter()\n",
    "\n",
    "print(\"== Updating Parent Cloud Table Thumbnails ==\")\n",
    "for i, record in enumerate(records):\n",
    "\tif i % 100 == len(records):\n",
    "\t\tprint(f\"Updating record {i} of {records} \")\n",
    "\ttry:\n",
    "\t\ttable_adapter.upsert_entity_to_table(table_name, record)\n",
    "\texcept:\n",
    "\t\tprint(f\"=== Failed to update record: {record} ===\")\n",
    "\t\ttable_broker = TableAdapter()\n",
    "\t\tcontinue\n",
    "print(\"== Finished Updating Parent Cloud Table Thumbnails ==\")"
   ],
   "metadata": {
    "collapsed": false
   }
  }
 ],
 "metadata": {
  "kernelspec": {
   "display_name": "Python 3",
   "language": "python",
   "name": "python3"
  },
  "language_info": {
   "codemirror_mode": {
    "name": "ipython",
    "version": 2
   },
   "file_extension": ".py",
   "mimetype": "text/x-python",
   "name": "python",
   "nbconvert_exporter": "python",
   "pygments_lexer": "ipython2",
   "version": "2.7.6"
  }
 },
 "nbformat": 4,
 "nbformat_minor": 0
}
