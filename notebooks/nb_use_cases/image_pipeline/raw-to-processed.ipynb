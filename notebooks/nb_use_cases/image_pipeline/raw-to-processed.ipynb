{
 "cells": [
  {
   "cell_type": "code",
   "execution_count": 1,
   "metadata": {
    "collapsed": true
   },
   "outputs": [],
   "source": [
    "import os\n",
    "\n",
    "import pandas\n",
    "\n",
    "import dask.dataframe as dd\n",
    "\n",
    "from shared_code.utility.spark.set_environ import set_azure_env\n",
    "\n",
    "set_azure_env()\n",
    "\n",
    "from shared_code.utility.storage.table import TableAdapter"
   ]
  },
  {
   "cell_type": "code",
   "execution_count": 2,
   "outputs": [
    {
     "name": "stderr",
     "output_type": "stream",
     "text": [
      "C:\\Users\\AJ Stangl\\AppData\\Local\\Temp\\ipykernel_20508\\1542666549.py:7: TqdmDeprecationWarning: This function will be removed in tqdm==5.0.0\n",
      "Please use `tqdm.notebook.tqdm` instead of `tqdm.tqdm_notebook`\n",
      "  tqdm_notebook().pandas()\n"
     ]
    },
    {
     "data": {
      "text/plain": "0it [00:00, ?it/s]",
      "application/vnd.jupyter.widget-view+json": {
       "version_major": 2,
       "version_minor": 0,
       "model_id": "6b07644caf3d4d4b8ebed43fbec7c569"
      }
     },
     "metadata": {},
     "output_type": "display_data"
    }
   ],
   "source": [
    "from tqdm.dask import TqdmCallback\n",
    "\n",
    "cb = TqdmCallback(desc=\"global\")\n",
    "cb.register()\n",
    "\n",
    "from tqdm import tqdm_notebook, tqdm\n",
    "\n",
    "tqdm_notebook().pandas()\n",
    "tqdm.pandas(desc=\"global\")"
   ],
   "metadata": {
    "collapsed": false
   }
  },
  {
   "cell_type": "code",
   "execution_count": 3,
   "outputs": [],
   "source": [
    "from tqdm import tqdm\n",
    "\n",
    "class InnerProgressBar(tqdm):\n",
    "\tdef __init__(self, total, desc):\n",
    "\t\tsuper().__init__(desc=desc)\n",
    "\t\tself.total = total\n",
    "\t\tself.current = 0\n",
    "\n",
    "\tdef update_to(self):\n",
    "\t\tself.update(self.current)"
   ],
   "metadata": {
    "collapsed": false
   }
  },
  {
   "cell_type": "code",
   "execution_count": 4,
   "outputs": [],
   "source": [
    "table_name = \"training\"\n",
    "\n",
    "table_adapter: TableAdapter = TableAdapter()\n",
    "\n",
    "data_path = \"/data/parquet/\"\n",
    "\n",
    "parquet_raw_data_path = data_path + \"raw_data.parquet\"\n",
    "\n",
    "parquet_process_data_path = data_path + \"processed_data.parquet\""
   ],
   "metadata": {
    "collapsed": false
   }
  },
  {
   "cell_type": "code",
   "execution_count": 5,
   "outputs": [
    {
     "name": "stdout",
     "output_type": "stream",
     "text": [
      "Data Path:\t/data/parquet/\n",
      "\n",
      "Exists:\tTrue\n"
     ]
    }
   ],
   "source": [
    "os.makedirs(data_path, exist_ok=True)\n",
    "\n",
    "print(f\"Data Path:\\t{data_path}\\n\\nExists:\\t{os.path.exists(data_path)}\")"
   ],
   "metadata": {
    "collapsed": false
   }
  },
  {
   "cell_type": "code",
   "execution_count": 6,
   "outputs": [
    {
     "name": "stdout",
     "output_type": "stream",
     "text": [
      "Loading from parquet\n"
     ]
    }
   ],
   "source": [
    "pandas_df = None\n",
    "if os.path.exists(\"foo\"):\n",
    "\tprint(\"Loading from parquet\")\n",
    "\tpandas_df = pandas.read_parquet(parquet_raw_data_path)\n",
    "\n",
    "\n",
    "else:\n",
    "\tprint(\"Loading from table\")\n",
    "\traw_data = table_adapter.get_all_entities(table_name)\n",
    "\tpandas_df = pandas.DataFrame(list(raw_data))\n",
    "\tprint(f\"Saving to parquet {parquet_process_data_path}\")\n",
    "\tpandas_df.to_parquet(parquet_raw_data_path)"
   ],
   "metadata": {
    "collapsed": false
   }
  },
  {
   "cell_type": "code",
   "execution_count": 7,
   "outputs": [
    {
     "name": "stdout",
     "output_type": "stream",
     "text": [
      "Initial Dataframe Shape:\t(8600, 19)\n"
     ]
    },
    {
     "data": {
      "text/plain": "     PartitionKey   RowKey               author  \\\n0        training  1000cej          OtterlyFoxy   \n1        training  1000d16        princessxo699   \n2        training  1000fg0           BlkBrd1312   \n3        training  1000glf    toolate_sharkbait   \n4        training  1000j1n            trent8051   \n...           ...      ...                  ...   \n8595     training   zzyerp         Juliadomaina   \n8596     training   zzzeoi  ComprehendApprehend   \n8597     training   zzzg13     AdConsistent3184   \n8598     training   zzzlyl  Particular-Chip2355   \n8599     training   zzzu28       Butter_Luver05   \n\n                                                caption  curated  exists  \\\n0      a city street filled with lots of tall buildings    False    True   \n1      a woman sitting on a table holding a pink flower    False    True   \n2     a woman in a bikini with a cell phone in her hand    False    True   \n3     a beautiful young woman in a black dress posin...    False    True   \n4     a collage of photos showing a man in a suit an...    False    True   \n...                                                 ...      ...     ...   \n8595  A girl in a red jacket is sitting on a red horse.    False    True   \n8596  A man wearing a black shirt and black pants is...    False    True   \n8597  A little girl in a pink dress is sitting on a ...    False   False   \n8598                          Error in captioning image    False   False   \n8599  A woman in a pink bathing suit is sitting on a...    False    True   \n\n      exits              flair                              hash       id  \\\n0      True                NaN  7a8d96e378c15c8ab8440ac311f12c11  1000cej   \n1      True  Outfit of the Day  9951b4f82caeb8ba2bd9f79f8d422450  1000d16   \n2      True    HotGirlNextDoor  be8dd55e34216bec1e15e03fa296eacc  1000fg0   \n3      True       Female (18+)  e554c1ed7ffa2740436ac082068b2824  1000glf   \n4      None               None  1dec3dabb5e46cde01855d06089c287a  1000j1n   \n...     ...                ...                               ...      ...   \n8595   True       Female (18+)  9279353b1761d62e7f8ca587a4146abf   zzyerp   \n8596   None               None  df666b8b2ad543c77b3fdba89becda1a   zzzeoi   \n8597  False                NaN  ba89401054b09d3ff2b608705f8a7110   zzzg13   \n8598   True                NaN  3cac9b29f27d5fc26ddcec4e1641649f   zzzlyl   \n8599   True    HotGirlNextDoor  94dea288ddffb51eb1a786d469b59374   zzzu28   \n\n                                                  image  \\\n0             D:\\data\\images\\CityPorn\\4emw5uldib9a1.jpg   \n1           D:\\data\\images\\SFWNextDoorGirls\\GgFEagO.jpg   \n2      D:\\data\\images\\HotGirlNextDoor\\nwa7hts2jb9a1.jpg   \n3             D:\\data\\images\\AmIhotAF\\4xyb1vgbjb9a1.jpg   \n4            D:\\data\\images\\greentext\\3mewbe0wjb9a1.jpg   \n...                                                 ...   \n8595          D:\\data\\images\\AmIhotAF\\hgktc1on2b9a1.jpg   \n8596               D:\\data\\images\\greentext\\bgho6WK.jpg   \n8597       D:\\data\\images\\SFWRedheads\\3rv0ql34bb9a1.jpg   \n8598  D:\\data\\images\\CityPorn\\Minquan_Bridge2017_TAI...   \n8599   D:\\data\\images\\HotGirlNextDoor\\p6yewrl7eb9a1.jpg   \n\n                         image_name  \\\n0                 4emw5uldib9a1.jpg   \n1                       GgFEagO.jpg   \n2                 nwa7hts2jb9a1.jpg   \n3                 4xyb1vgbjb9a1.jpg   \n4                 3mewbe0wjb9a1.jpg   \n...                             ...   \n8595              hgktc1on2b9a1.jpg   \n8596                    bgho6WK.jpg   \n8597              3rv0ql34bb9a1.jpg   \n8598  Minquan_Bridge2017_TAIWAN.jpg   \n8599              p6yewrl7eb9a1.jpg   \n\n                                              permalink  \\\n0     /r/CityPorn/comments/1000cej/new_york_in_the_fog/   \n1     /r/SFWNextDoorGirls/comments/1000d16/thoughts_...   \n2             /r/HotGirlNextDoor/comments/1000fg0/iktr/   \n3     /r/AmIhotAF/comments/1000glf/just_looking_for_...   \n4     /r/greentext/comments/1000j1n/anon_wants_elon_...   \n...                                                 ...   \n8595  /r/AmIhotAF/comments/zzyerp/good_evening_every...   \n8596  /r/greentext/comments/zzzeoi/anon_does_a_littl...   \n8597    /r/SFWRedheads/comments/zzzg13/cute_but_deadly/   \n8598         /r/CityPorn/comments/zzzlyl/taipei_taiwan/   \n8599           /r/HotGirlNextDoor/comments/zzzu28/iktr/   \n\n                                            small_image         subreddit  \\\n0     D:\\data\\images\\CityPorn\\thumbnail\\4emw5uldib9a...          CityPorn   \n1     D:\\data\\images\\SFWNextDoorGirls\\thumbnail\\GgFE...  SFWNextDoorGirls   \n2     D:\\data\\images\\HotGirlNextDoor\\thumbnail\\nwa7h...   HotGirlNextDoor   \n3     D:\\data\\images\\AmIhotAF\\thumbnail\\4xyb1vgbjb9a...          AmIhotAF   \n4     D:\\data\\images\\greentext\\thumbnail\\3mewbe0wjb9...         greentext   \n...                                                 ...               ...   \n8595  D:\\data\\images\\AmIhotAF\\thumbnail\\hgktc1on2b9a...          AmIhotAF   \n8596     D:\\data\\images\\greentext\\thumbnail\\bgho6WK.jpg         greentext   \n8597                                                          SFWRedheads   \n8598                                                             CityPorn   \n8599  D:\\data\\images\\HotGirlNextDoor\\thumbnail\\p6yew...   HotGirlNextDoor   \n\n                                     text  \\\n0                     New York in the fog   \n1     Thoughts about my NYE party outfit?   \n2                                  (IKTR)   \n3          Just looking for entertainment   \n4                     Anon wants Elon cut   \n...                                   ...   \n8595             Good evening everyone ❤️   \n8596          Anon does a little trolling   \n8597                    Cute but Deadly 😋   \n8598                       Taipei, Taiwan   \n8599                               (IKTR)   \n\n                                        updated_caption  \\\n0      a city street filled with lots of tall buildings   \n1      a woman sitting on a table holding a pink flower   \n2     a woman in a bikini with a cell phone in her hand   \n3     a beautiful young woman in a black dress posin...   \n4     a collage of photos showing a man in a suit an...   \n...                                                 ...   \n8595  a woman in a bikini with a cell phone in her hand   \n8596         a series of photos showing a man in a suit   \n8597                                                NaN   \n8598                                                NaN   \n8599             a woman in a bikini sitting on a beach   \n\n                                           updated_path  \\\n0             D:\\data\\images\\CityPorn\\4emw5uldib9a1.jpg   \n1           D:\\data\\images\\SFWNextDoorGirls\\GgFEagO.jpg   \n2      D:\\data\\images\\HotGirlNextDoor\\nwa7hts2jb9a1.jpg   \n3             D:\\data\\images\\AmIhotAF\\4xyb1vgbjb9a1.jpg   \n4                                                  None   \n...                                                 ...   \n8595          D:\\data\\images\\AmIhotAF\\hgktc1on2b9a1.jpg   \n8596                                               None   \n8597       D:\\data\\images\\SFWRedheads\\3rv0ql34bb9a1.jpg   \n8598  D:\\data\\images\\CityPorn\\Minquan_Bridge2017_TAI...   \n8599   D:\\data\\images\\HotGirlNextDoor\\p6yewrl7eb9a1.jpg   \n\n                                                    url  \n0                   https://i.redd.it/4emw5uldib9a1.jpg  \n1                       https://i.imgur.com/GgFEagO.jpg  \n2                   https://i.redd.it/nwa7hts2jb9a1.jpg  \n3                   https://i.redd.it/4xyb1vgbjb9a1.jpg  \n4                   https://i.redd.it/3mewbe0wjb9a1.jpg  \n...                                                 ...  \n8595                https://i.redd.it/hgktc1on2b9a1.jpg  \n8596                    https://i.imgur.com/bgho6WK.jpg  \n8597                https://i.redd.it/3rv0ql34bb9a1.jpg  \n8598  https://upload.wikimedia.org/wikipedia/commons...  \n8599                https://i.redd.it/p6yewrl7eb9a1.jpg  \n\n[8600 rows x 19 columns]",
      "text/html": "<div>\n<style scoped>\n    .dataframe tbody tr th:only-of-type {\n        vertical-align: middle;\n    }\n\n    .dataframe tbody tr th {\n        vertical-align: top;\n    }\n\n    .dataframe thead th {\n        text-align: right;\n    }\n</style>\n<table border=\"1\" class=\"dataframe\">\n  <thead>\n    <tr style=\"text-align: right;\">\n      <th></th>\n      <th>PartitionKey</th>\n      <th>RowKey</th>\n      <th>author</th>\n      <th>caption</th>\n      <th>curated</th>\n      <th>exists</th>\n      <th>exits</th>\n      <th>flair</th>\n      <th>hash</th>\n      <th>id</th>\n      <th>image</th>\n      <th>image_name</th>\n      <th>permalink</th>\n      <th>small_image</th>\n      <th>subreddit</th>\n      <th>text</th>\n      <th>updated_caption</th>\n      <th>updated_path</th>\n      <th>url</th>\n    </tr>\n  </thead>\n  <tbody>\n    <tr>\n      <th>0</th>\n      <td>training</td>\n      <td>1000cej</td>\n      <td>OtterlyFoxy</td>\n      <td>a city street filled with lots of tall buildings</td>\n      <td>False</td>\n      <td>True</td>\n      <td>True</td>\n      <td>NaN</td>\n      <td>7a8d96e378c15c8ab8440ac311f12c11</td>\n      <td>1000cej</td>\n      <td>D:\\data\\images\\CityPorn\\4emw5uldib9a1.jpg</td>\n      <td>4emw5uldib9a1.jpg</td>\n      <td>/r/CityPorn/comments/1000cej/new_york_in_the_fog/</td>\n      <td>D:\\data\\images\\CityPorn\\thumbnail\\4emw5uldib9a...</td>\n      <td>CityPorn</td>\n      <td>New York in the fog</td>\n      <td>a city street filled with lots of tall buildings</td>\n      <td>D:\\data\\images\\CityPorn\\4emw5uldib9a1.jpg</td>\n      <td>https://i.redd.it/4emw5uldib9a1.jpg</td>\n    </tr>\n    <tr>\n      <th>1</th>\n      <td>training</td>\n      <td>1000d16</td>\n      <td>princessxo699</td>\n      <td>a woman sitting on a table holding a pink flower</td>\n      <td>False</td>\n      <td>True</td>\n      <td>True</td>\n      <td>Outfit of the Day</td>\n      <td>9951b4f82caeb8ba2bd9f79f8d422450</td>\n      <td>1000d16</td>\n      <td>D:\\data\\images\\SFWNextDoorGirls\\GgFEagO.jpg</td>\n      <td>GgFEagO.jpg</td>\n      <td>/r/SFWNextDoorGirls/comments/1000d16/thoughts_...</td>\n      <td>D:\\data\\images\\SFWNextDoorGirls\\thumbnail\\GgFE...</td>\n      <td>SFWNextDoorGirls</td>\n      <td>Thoughts about my NYE party outfit?</td>\n      <td>a woman sitting on a table holding a pink flower</td>\n      <td>D:\\data\\images\\SFWNextDoorGirls\\GgFEagO.jpg</td>\n      <td>https://i.imgur.com/GgFEagO.jpg</td>\n    </tr>\n    <tr>\n      <th>2</th>\n      <td>training</td>\n      <td>1000fg0</td>\n      <td>BlkBrd1312</td>\n      <td>a woman in a bikini with a cell phone in her hand</td>\n      <td>False</td>\n      <td>True</td>\n      <td>True</td>\n      <td>HotGirlNextDoor</td>\n      <td>be8dd55e34216bec1e15e03fa296eacc</td>\n      <td>1000fg0</td>\n      <td>D:\\data\\images\\HotGirlNextDoor\\nwa7hts2jb9a1.jpg</td>\n      <td>nwa7hts2jb9a1.jpg</td>\n      <td>/r/HotGirlNextDoor/comments/1000fg0/iktr/</td>\n      <td>D:\\data\\images\\HotGirlNextDoor\\thumbnail\\nwa7h...</td>\n      <td>HotGirlNextDoor</td>\n      <td>(IKTR)</td>\n      <td>a woman in a bikini with a cell phone in her hand</td>\n      <td>D:\\data\\images\\HotGirlNextDoor\\nwa7hts2jb9a1.jpg</td>\n      <td>https://i.redd.it/nwa7hts2jb9a1.jpg</td>\n    </tr>\n    <tr>\n      <th>3</th>\n      <td>training</td>\n      <td>1000glf</td>\n      <td>toolate_sharkbait</td>\n      <td>a beautiful young woman in a black dress posin...</td>\n      <td>False</td>\n      <td>True</td>\n      <td>True</td>\n      <td>Female (18+)</td>\n      <td>e554c1ed7ffa2740436ac082068b2824</td>\n      <td>1000glf</td>\n      <td>D:\\data\\images\\AmIhotAF\\4xyb1vgbjb9a1.jpg</td>\n      <td>4xyb1vgbjb9a1.jpg</td>\n      <td>/r/AmIhotAF/comments/1000glf/just_looking_for_...</td>\n      <td>D:\\data\\images\\AmIhotAF\\thumbnail\\4xyb1vgbjb9a...</td>\n      <td>AmIhotAF</td>\n      <td>Just looking for entertainment</td>\n      <td>a beautiful young woman in a black dress posin...</td>\n      <td>D:\\data\\images\\AmIhotAF\\4xyb1vgbjb9a1.jpg</td>\n      <td>https://i.redd.it/4xyb1vgbjb9a1.jpg</td>\n    </tr>\n    <tr>\n      <th>4</th>\n      <td>training</td>\n      <td>1000j1n</td>\n      <td>trent8051</td>\n      <td>a collage of photos showing a man in a suit an...</td>\n      <td>False</td>\n      <td>True</td>\n      <td>None</td>\n      <td>None</td>\n      <td>1dec3dabb5e46cde01855d06089c287a</td>\n      <td>1000j1n</td>\n      <td>D:\\data\\images\\greentext\\3mewbe0wjb9a1.jpg</td>\n      <td>3mewbe0wjb9a1.jpg</td>\n      <td>/r/greentext/comments/1000j1n/anon_wants_elon_...</td>\n      <td>D:\\data\\images\\greentext\\thumbnail\\3mewbe0wjb9...</td>\n      <td>greentext</td>\n      <td>Anon wants Elon cut</td>\n      <td>a collage of photos showing a man in a suit an...</td>\n      <td>None</td>\n      <td>https://i.redd.it/3mewbe0wjb9a1.jpg</td>\n    </tr>\n    <tr>\n      <th>...</th>\n      <td>...</td>\n      <td>...</td>\n      <td>...</td>\n      <td>...</td>\n      <td>...</td>\n      <td>...</td>\n      <td>...</td>\n      <td>...</td>\n      <td>...</td>\n      <td>...</td>\n      <td>...</td>\n      <td>...</td>\n      <td>...</td>\n      <td>...</td>\n      <td>...</td>\n      <td>...</td>\n      <td>...</td>\n      <td>...</td>\n      <td>...</td>\n    </tr>\n    <tr>\n      <th>8595</th>\n      <td>training</td>\n      <td>zzyerp</td>\n      <td>Juliadomaina</td>\n      <td>A girl in a red jacket is sitting on a red horse.</td>\n      <td>False</td>\n      <td>True</td>\n      <td>True</td>\n      <td>Female (18+)</td>\n      <td>9279353b1761d62e7f8ca587a4146abf</td>\n      <td>zzyerp</td>\n      <td>D:\\data\\images\\AmIhotAF\\hgktc1on2b9a1.jpg</td>\n      <td>hgktc1on2b9a1.jpg</td>\n      <td>/r/AmIhotAF/comments/zzyerp/good_evening_every...</td>\n      <td>D:\\data\\images\\AmIhotAF\\thumbnail\\hgktc1on2b9a...</td>\n      <td>AmIhotAF</td>\n      <td>Good evening everyone ❤️</td>\n      <td>a woman in a bikini with a cell phone in her hand</td>\n      <td>D:\\data\\images\\AmIhotAF\\hgktc1on2b9a1.jpg</td>\n      <td>https://i.redd.it/hgktc1on2b9a1.jpg</td>\n    </tr>\n    <tr>\n      <th>8596</th>\n      <td>training</td>\n      <td>zzzeoi</td>\n      <td>ComprehendApprehend</td>\n      <td>A man wearing a black shirt and black pants is...</td>\n      <td>False</td>\n      <td>True</td>\n      <td>None</td>\n      <td>None</td>\n      <td>df666b8b2ad543c77b3fdba89becda1a</td>\n      <td>zzzeoi</td>\n      <td>D:\\data\\images\\greentext\\bgho6WK.jpg</td>\n      <td>bgho6WK.jpg</td>\n      <td>/r/greentext/comments/zzzeoi/anon_does_a_littl...</td>\n      <td>D:\\data\\images\\greentext\\thumbnail\\bgho6WK.jpg</td>\n      <td>greentext</td>\n      <td>Anon does a little trolling</td>\n      <td>a series of photos showing a man in a suit</td>\n      <td>None</td>\n      <td>https://i.imgur.com/bgho6WK.jpg</td>\n    </tr>\n    <tr>\n      <th>8597</th>\n      <td>training</td>\n      <td>zzzg13</td>\n      <td>AdConsistent3184</td>\n      <td>A little girl in a pink dress is sitting on a ...</td>\n      <td>False</td>\n      <td>False</td>\n      <td>False</td>\n      <td>NaN</td>\n      <td>ba89401054b09d3ff2b608705f8a7110</td>\n      <td>zzzg13</td>\n      <td>D:\\data\\images\\SFWRedheads\\3rv0ql34bb9a1.jpg</td>\n      <td>3rv0ql34bb9a1.jpg</td>\n      <td>/r/SFWRedheads/comments/zzzg13/cute_but_deadly/</td>\n      <td></td>\n      <td>SFWRedheads</td>\n      <td>Cute but Deadly 😋</td>\n      <td>NaN</td>\n      <td>D:\\data\\images\\SFWRedheads\\3rv0ql34bb9a1.jpg</td>\n      <td>https://i.redd.it/3rv0ql34bb9a1.jpg</td>\n    </tr>\n    <tr>\n      <th>8598</th>\n      <td>training</td>\n      <td>zzzlyl</td>\n      <td>Particular-Chip2355</td>\n      <td>Error in captioning image</td>\n      <td>False</td>\n      <td>False</td>\n      <td>True</td>\n      <td>NaN</td>\n      <td>3cac9b29f27d5fc26ddcec4e1641649f</td>\n      <td>zzzlyl</td>\n      <td>D:\\data\\images\\CityPorn\\Minquan_Bridge2017_TAI...</td>\n      <td>Minquan_Bridge2017_TAIWAN.jpg</td>\n      <td>/r/CityPorn/comments/zzzlyl/taipei_taiwan/</td>\n      <td></td>\n      <td>CityPorn</td>\n      <td>Taipei, Taiwan</td>\n      <td>NaN</td>\n      <td>D:\\data\\images\\CityPorn\\Minquan_Bridge2017_TAI...</td>\n      <td>https://upload.wikimedia.org/wikipedia/commons...</td>\n    </tr>\n    <tr>\n      <th>8599</th>\n      <td>training</td>\n      <td>zzzu28</td>\n      <td>Butter_Luver05</td>\n      <td>A woman in a pink bathing suit is sitting on a...</td>\n      <td>False</td>\n      <td>True</td>\n      <td>True</td>\n      <td>HotGirlNextDoor</td>\n      <td>94dea288ddffb51eb1a786d469b59374</td>\n      <td>zzzu28</td>\n      <td>D:\\data\\images\\HotGirlNextDoor\\p6yewrl7eb9a1.jpg</td>\n      <td>p6yewrl7eb9a1.jpg</td>\n      <td>/r/HotGirlNextDoor/comments/zzzu28/iktr/</td>\n      <td>D:\\data\\images\\HotGirlNextDoor\\thumbnail\\p6yew...</td>\n      <td>HotGirlNextDoor</td>\n      <td>(IKTR)</td>\n      <td>a woman in a bikini sitting on a beach</td>\n      <td>D:\\data\\images\\HotGirlNextDoor\\p6yewrl7eb9a1.jpg</td>\n      <td>https://i.redd.it/p6yewrl7eb9a1.jpg</td>\n    </tr>\n  </tbody>\n</table>\n<p>8600 rows × 19 columns</p>\n</div>"
     },
     "metadata": {},
     "output_type": "display_data"
    }
   ],
   "source": [
    "print(f\"Initial Dataframe Shape:\\t{pandas_df.shape}\")\n",
    "\n",
    "display(pandas_df)"
   ],
   "metadata": {
    "collapsed": false
   }
  },
  {
   "cell_type": "code",
   "execution_count": 8,
   "outputs": [
    {
     "name": "stdout",
     "output_type": "stream",
     "text": [
      "Normalizing Dataframe For Processing\n",
      "Normalized Dataframe Shape:\t(8600, 11)\n",
      "Saving to parquet /data/parquet/processed_data.parquet\n"
     ]
    }
   ],
   "source": [
    "print(\"Normalizing Dataframe For Processing\")\n",
    "\n",
    "subreddit = pandas_df[\"subreddit\"]\n",
    "image = pandas_df[\"image_name\"]\n",
    "text = pandas_df[\"text\"]\n",
    "hash_value = pandas_df[\"hash\"]\n",
    "original_caption = pandas_df[\"caption\"]\n",
    "thumbnail_caption = pandas_df[\"updated_caption\"]\n",
    "comment_id = pandas_df[\"id\"]\n",
    "all_normalized_frame = pandas.DataFrame(\n",
    "\t{\n",
    "\t\t\"subreddit\": subreddit,\n",
    "\t\t\"file_name\": image,\n",
    "\t\t\"text\": text,\n",
    "\t\t\"original_caption\": original_caption,\n",
    "\t\t\"thumbnail_path\": pandas_df.apply(lambda x: f\"D:\\\\data\\\\images\\\\{x['subreddit']}\\\\thumbnail\\\\{x['image_name']}\",\n",
    "\t\t\t\t\t\t\t\t\t\t  axis=1),\n",
    "\t\t\"thumbnail_caption\": thumbnail_caption,\n",
    "\t\t\"thumbnail_exists\": pandas_df.apply(\n",
    "\t\t\tlambda x: os.path.exists(f\"D:\\\\data\\\\images\\\\{x['subreddit']}\\\\thumbnail\\\\{x['image_name']}\"), axis=1),\n",
    "\t\t\"original_image\": pandas_df.apply(lambda x: f\"D:\\\\data\\\\images\\\\{x['subreddit']}\\\\{x['image_name']}\", axis=1),\n",
    "\t\t\"original_image_exists\": pandas_df.apply(\n",
    "\t\t\tlambda x: os.path.exists(f\"D:\\\\data\\\\images\\\\{x['subreddit']}\\\\thumbnail\\\\{x['image_name']}\"), axis=1),\n",
    "\t\t\"hash\": hash_value,\n",
    "\t\t\"id\": comment_id\n",
    "\t}\n",
    ")\n",
    "print(f\"Normalized Dataframe Shape:\\t{all_normalized_frame.shape}\")\n",
    "print(f\"Saving to parquet {parquet_process_data_path}\")\n",
    "all_normalized_frame.to_parquet(parquet_process_data_path)"
   ],
   "metadata": {
    "collapsed": false
   }
  },
  {
   "cell_type": "code",
   "execution_count": 9,
   "outputs": [
    {
     "name": "stdout",
     "output_type": "stream",
     "text": [
      "Reading from parquet /data/parquet/processed_data.parquet\n"
     ]
    },
    {
     "data": {
      "text/plain": "             subreddit                      file_name  \\\n0             CityPorn              4emw5uldib9a1.jpg   \n1     SFWNextDoorGirls                    GgFEagO.jpg   \n2      HotGirlNextDoor              nwa7hts2jb9a1.jpg   \n3             AmIhotAF              4xyb1vgbjb9a1.jpg   \n4            greentext              3mewbe0wjb9a1.jpg   \n...                ...                            ...   \n8595          AmIhotAF              hgktc1on2b9a1.jpg   \n8596         greentext                    bgho6WK.jpg   \n8597       SFWRedheads              3rv0ql34bb9a1.jpg   \n8598          CityPorn  Minquan_Bridge2017_TAIWAN.jpg   \n8599   HotGirlNextDoor              p6yewrl7eb9a1.jpg   \n\n                                     text  \\\n0                     New York in the fog   \n1     Thoughts about my NYE party outfit?   \n2                                  (IKTR)   \n3          Just looking for entertainment   \n4                     Anon wants Elon cut   \n...                                   ...   \n8595             Good evening everyone ❤️   \n8596          Anon does a little trolling   \n8597                    Cute but Deadly 😋   \n8598                       Taipei, Taiwan   \n8599                               (IKTR)   \n\n                                       original_caption  \\\n0      a city street filled with lots of tall buildings   \n1      a woman sitting on a table holding a pink flower   \n2     a woman in a bikini with a cell phone in her hand   \n3     a beautiful young woman in a black dress posin...   \n4     a collage of photos showing a man in a suit an...   \n...                                                 ...   \n8595  A girl in a red jacket is sitting on a red horse.   \n8596  A man wearing a black shirt and black pants is...   \n8597  A little girl in a pink dress is sitting on a ...   \n8598                          Error in captioning image   \n8599  A woman in a pink bathing suit is sitting on a...   \n\n                                         thumbnail_path  \\\n0     D:\\data\\images\\CityPorn\\thumbnail\\4emw5uldib9a...   \n1     D:\\data\\images\\SFWNextDoorGirls\\thumbnail\\GgFE...   \n2     D:\\data\\images\\HotGirlNextDoor\\thumbnail\\nwa7h...   \n3     D:\\data\\images\\AmIhotAF\\thumbnail\\4xyb1vgbjb9a...   \n4     D:\\data\\images\\greentext\\thumbnail\\3mewbe0wjb9...   \n...                                                 ...   \n8595  D:\\data\\images\\AmIhotAF\\thumbnail\\hgktc1on2b9a...   \n8596     D:\\data\\images\\greentext\\thumbnail\\bgho6WK.jpg   \n8597  D:\\data\\images\\SFWRedheads\\thumbnail\\3rv0ql34b...   \n8598  D:\\data\\images\\CityPorn\\thumbnail\\Minquan_Brid...   \n8599  D:\\data\\images\\HotGirlNextDoor\\thumbnail\\p6yew...   \n\n                                      thumbnail_caption  thumbnail_exists  \\\n0      a city street filled with lots of tall buildings              True   \n1      a woman sitting on a table holding a pink flower             False   \n2     a woman in a bikini with a cell phone in her hand             False   \n3     a beautiful young woman in a black dress posin...              True   \n4     a collage of photos showing a man in a suit an...              True   \n...                                                 ...               ...   \n8595  a woman in a bikini with a cell phone in her hand             False   \n8596         a series of photos showing a man in a suit              True   \n8597                                                NaN             False   \n8598                                                NaN             False   \n8599             a woman in a bikini sitting on a beach              True   \n\n                                         original_image  \\\n0             D:\\data\\images\\CityPorn\\4emw5uldib9a1.jpg   \n1           D:\\data\\images\\SFWNextDoorGirls\\GgFEagO.jpg   \n2      D:\\data\\images\\HotGirlNextDoor\\nwa7hts2jb9a1.jpg   \n3             D:\\data\\images\\AmIhotAF\\4xyb1vgbjb9a1.jpg   \n4            D:\\data\\images\\greentext\\3mewbe0wjb9a1.jpg   \n...                                                 ...   \n8595          D:\\data\\images\\AmIhotAF\\hgktc1on2b9a1.jpg   \n8596               D:\\data\\images\\greentext\\bgho6WK.jpg   \n8597       D:\\data\\images\\SFWRedheads\\3rv0ql34bb9a1.jpg   \n8598  D:\\data\\images\\CityPorn\\Minquan_Bridge2017_TAI...   \n8599   D:\\data\\images\\HotGirlNextDoor\\p6yewrl7eb9a1.jpg   \n\n      original_image_exists                              hash       id  \n0                      True  7a8d96e378c15c8ab8440ac311f12c11  1000cej  \n1                     False  9951b4f82caeb8ba2bd9f79f8d422450  1000d16  \n2                     False  be8dd55e34216bec1e15e03fa296eacc  1000fg0  \n3                      True  e554c1ed7ffa2740436ac082068b2824  1000glf  \n4                      True  1dec3dabb5e46cde01855d06089c287a  1000j1n  \n...                     ...                               ...      ...  \n8595                  False  9279353b1761d62e7f8ca587a4146abf   zzyerp  \n8596                   True  df666b8b2ad543c77b3fdba89becda1a   zzzeoi  \n8597                  False  ba89401054b09d3ff2b608705f8a7110   zzzg13  \n8598                  False  3cac9b29f27d5fc26ddcec4e1641649f   zzzlyl  \n8599                   True  94dea288ddffb51eb1a786d469b59374   zzzu28  \n\n[8600 rows x 11 columns]",
      "text/html": "<div>\n<style scoped>\n    .dataframe tbody tr th:only-of-type {\n        vertical-align: middle;\n    }\n\n    .dataframe tbody tr th {\n        vertical-align: top;\n    }\n\n    .dataframe thead th {\n        text-align: right;\n    }\n</style>\n<table border=\"1\" class=\"dataframe\">\n  <thead>\n    <tr style=\"text-align: right;\">\n      <th></th>\n      <th>subreddit</th>\n      <th>file_name</th>\n      <th>text</th>\n      <th>original_caption</th>\n      <th>thumbnail_path</th>\n      <th>thumbnail_caption</th>\n      <th>thumbnail_exists</th>\n      <th>original_image</th>\n      <th>original_image_exists</th>\n      <th>hash</th>\n      <th>id</th>\n    </tr>\n  </thead>\n  <tbody>\n    <tr>\n      <th>0</th>\n      <td>CityPorn</td>\n      <td>4emw5uldib9a1.jpg</td>\n      <td>New York in the fog</td>\n      <td>a city street filled with lots of tall buildings</td>\n      <td>D:\\data\\images\\CityPorn\\thumbnail\\4emw5uldib9a...</td>\n      <td>a city street filled with lots of tall buildings</td>\n      <td>True</td>\n      <td>D:\\data\\images\\CityPorn\\4emw5uldib9a1.jpg</td>\n      <td>True</td>\n      <td>7a8d96e378c15c8ab8440ac311f12c11</td>\n      <td>1000cej</td>\n    </tr>\n    <tr>\n      <th>1</th>\n      <td>SFWNextDoorGirls</td>\n      <td>GgFEagO.jpg</td>\n      <td>Thoughts about my NYE party outfit?</td>\n      <td>a woman sitting on a table holding a pink flower</td>\n      <td>D:\\data\\images\\SFWNextDoorGirls\\thumbnail\\GgFE...</td>\n      <td>a woman sitting on a table holding a pink flower</td>\n      <td>False</td>\n      <td>D:\\data\\images\\SFWNextDoorGirls\\GgFEagO.jpg</td>\n      <td>False</td>\n      <td>9951b4f82caeb8ba2bd9f79f8d422450</td>\n      <td>1000d16</td>\n    </tr>\n    <tr>\n      <th>2</th>\n      <td>HotGirlNextDoor</td>\n      <td>nwa7hts2jb9a1.jpg</td>\n      <td>(IKTR)</td>\n      <td>a woman in a bikini with a cell phone in her hand</td>\n      <td>D:\\data\\images\\HotGirlNextDoor\\thumbnail\\nwa7h...</td>\n      <td>a woman in a bikini with a cell phone in her hand</td>\n      <td>False</td>\n      <td>D:\\data\\images\\HotGirlNextDoor\\nwa7hts2jb9a1.jpg</td>\n      <td>False</td>\n      <td>be8dd55e34216bec1e15e03fa296eacc</td>\n      <td>1000fg0</td>\n    </tr>\n    <tr>\n      <th>3</th>\n      <td>AmIhotAF</td>\n      <td>4xyb1vgbjb9a1.jpg</td>\n      <td>Just looking for entertainment</td>\n      <td>a beautiful young woman in a black dress posin...</td>\n      <td>D:\\data\\images\\AmIhotAF\\thumbnail\\4xyb1vgbjb9a...</td>\n      <td>a beautiful young woman in a black dress posin...</td>\n      <td>True</td>\n      <td>D:\\data\\images\\AmIhotAF\\4xyb1vgbjb9a1.jpg</td>\n      <td>True</td>\n      <td>e554c1ed7ffa2740436ac082068b2824</td>\n      <td>1000glf</td>\n    </tr>\n    <tr>\n      <th>4</th>\n      <td>greentext</td>\n      <td>3mewbe0wjb9a1.jpg</td>\n      <td>Anon wants Elon cut</td>\n      <td>a collage of photos showing a man in a suit an...</td>\n      <td>D:\\data\\images\\greentext\\thumbnail\\3mewbe0wjb9...</td>\n      <td>a collage of photos showing a man in a suit an...</td>\n      <td>True</td>\n      <td>D:\\data\\images\\greentext\\3mewbe0wjb9a1.jpg</td>\n      <td>True</td>\n      <td>1dec3dabb5e46cde01855d06089c287a</td>\n      <td>1000j1n</td>\n    </tr>\n    <tr>\n      <th>...</th>\n      <td>...</td>\n      <td>...</td>\n      <td>...</td>\n      <td>...</td>\n      <td>...</td>\n      <td>...</td>\n      <td>...</td>\n      <td>...</td>\n      <td>...</td>\n      <td>...</td>\n      <td>...</td>\n    </tr>\n    <tr>\n      <th>8595</th>\n      <td>AmIhotAF</td>\n      <td>hgktc1on2b9a1.jpg</td>\n      <td>Good evening everyone ❤️</td>\n      <td>A girl in a red jacket is sitting on a red horse.</td>\n      <td>D:\\data\\images\\AmIhotAF\\thumbnail\\hgktc1on2b9a...</td>\n      <td>a woman in a bikini with a cell phone in her hand</td>\n      <td>False</td>\n      <td>D:\\data\\images\\AmIhotAF\\hgktc1on2b9a1.jpg</td>\n      <td>False</td>\n      <td>9279353b1761d62e7f8ca587a4146abf</td>\n      <td>zzyerp</td>\n    </tr>\n    <tr>\n      <th>8596</th>\n      <td>greentext</td>\n      <td>bgho6WK.jpg</td>\n      <td>Anon does a little trolling</td>\n      <td>A man wearing a black shirt and black pants is...</td>\n      <td>D:\\data\\images\\greentext\\thumbnail\\bgho6WK.jpg</td>\n      <td>a series of photos showing a man in a suit</td>\n      <td>True</td>\n      <td>D:\\data\\images\\greentext\\bgho6WK.jpg</td>\n      <td>True</td>\n      <td>df666b8b2ad543c77b3fdba89becda1a</td>\n      <td>zzzeoi</td>\n    </tr>\n    <tr>\n      <th>8597</th>\n      <td>SFWRedheads</td>\n      <td>3rv0ql34bb9a1.jpg</td>\n      <td>Cute but Deadly 😋</td>\n      <td>A little girl in a pink dress is sitting on a ...</td>\n      <td>D:\\data\\images\\SFWRedheads\\thumbnail\\3rv0ql34b...</td>\n      <td>NaN</td>\n      <td>False</td>\n      <td>D:\\data\\images\\SFWRedheads\\3rv0ql34bb9a1.jpg</td>\n      <td>False</td>\n      <td>ba89401054b09d3ff2b608705f8a7110</td>\n      <td>zzzg13</td>\n    </tr>\n    <tr>\n      <th>8598</th>\n      <td>CityPorn</td>\n      <td>Minquan_Bridge2017_TAIWAN.jpg</td>\n      <td>Taipei, Taiwan</td>\n      <td>Error in captioning image</td>\n      <td>D:\\data\\images\\CityPorn\\thumbnail\\Minquan_Brid...</td>\n      <td>NaN</td>\n      <td>False</td>\n      <td>D:\\data\\images\\CityPorn\\Minquan_Bridge2017_TAI...</td>\n      <td>False</td>\n      <td>3cac9b29f27d5fc26ddcec4e1641649f</td>\n      <td>zzzlyl</td>\n    </tr>\n    <tr>\n      <th>8599</th>\n      <td>HotGirlNextDoor</td>\n      <td>p6yewrl7eb9a1.jpg</td>\n      <td>(IKTR)</td>\n      <td>A woman in a pink bathing suit is sitting on a...</td>\n      <td>D:\\data\\images\\HotGirlNextDoor\\thumbnail\\p6yew...</td>\n      <td>a woman in a bikini sitting on a beach</td>\n      <td>True</td>\n      <td>D:\\data\\images\\HotGirlNextDoor\\p6yewrl7eb9a1.jpg</td>\n      <td>True</td>\n      <td>94dea288ddffb51eb1a786d469b59374</td>\n      <td>zzzu28</td>\n    </tr>\n  </tbody>\n</table>\n<p>8600 rows × 11 columns</p>\n</div>"
     },
     "metadata": {},
     "output_type": "display_data"
    }
   ],
   "source": [
    "print(f\"Reading from parquet {parquet_process_data_path}\")\n",
    "all_normalized_frame = pandas.read_parquet(parquet_process_data_path)\n",
    "display(all_normalized_frame)"
   ],
   "metadata": {
    "collapsed": false
   }
  },
  {
   "cell_type": "code",
   "execution_count": 10,
   "outputs": [
    {
     "name": "stdout",
     "output_type": "stream",
     "text": [
      "Filtering Subreddits with Images\n"
     ]
    },
    {
     "data": {
      "text/plain": "           subreddit  count\n3          EarthPorn    929\n7        SFWRedheads    883\n2           CityPorn    846\n4              Faces    742\n6   SFWNextDoorGirls    538\n9          greentext    530\n11         sfwpetite    265\n5    HotGirlNextDoor    262\n0           AmIhotAF    208\n10           selfies     95\n8             amihot     69\n1            Amicute     34",
      "text/html": "<div>\n<style scoped>\n    .dataframe tbody tr th:only-of-type {\n        vertical-align: middle;\n    }\n\n    .dataframe tbody tr th {\n        vertical-align: top;\n    }\n\n    .dataframe thead th {\n        text-align: right;\n    }\n</style>\n<table border=\"1\" class=\"dataframe\">\n  <thead>\n    <tr style=\"text-align: right;\">\n      <th></th>\n      <th>subreddit</th>\n      <th>count</th>\n    </tr>\n  </thead>\n  <tbody>\n    <tr>\n      <th>3</th>\n      <td>EarthPorn</td>\n      <td>929</td>\n    </tr>\n    <tr>\n      <th>7</th>\n      <td>SFWRedheads</td>\n      <td>883</td>\n    </tr>\n    <tr>\n      <th>2</th>\n      <td>CityPorn</td>\n      <td>846</td>\n    </tr>\n    <tr>\n      <th>4</th>\n      <td>Faces</td>\n      <td>742</td>\n    </tr>\n    <tr>\n      <th>6</th>\n      <td>SFWNextDoorGirls</td>\n      <td>538</td>\n    </tr>\n    <tr>\n      <th>9</th>\n      <td>greentext</td>\n      <td>530</td>\n    </tr>\n    <tr>\n      <th>11</th>\n      <td>sfwpetite</td>\n      <td>265</td>\n    </tr>\n    <tr>\n      <th>5</th>\n      <td>HotGirlNextDoor</td>\n      <td>262</td>\n    </tr>\n    <tr>\n      <th>0</th>\n      <td>AmIhotAF</td>\n      <td>208</td>\n    </tr>\n    <tr>\n      <th>10</th>\n      <td>selfies</td>\n      <td>95</td>\n    </tr>\n    <tr>\n      <th>8</th>\n      <td>amihot</td>\n      <td>69</td>\n    </tr>\n    <tr>\n      <th>1</th>\n      <td>Amicute</td>\n      <td>34</td>\n    </tr>\n  </tbody>\n</table>\n</div>"
     },
     "metadata": {},
     "output_type": "display_data"
    },
    {
     "name": "stdout",
     "output_type": "stream",
     "text": [
      "Total Records 5401\n"
     ]
    }
   ],
   "source": [
    "print(\"Filtering Subreddits with Images\")\n",
    "filtered_on_exist = all_normalized_frame[\n",
    "\t(all_normalized_frame[\"thumbnail_exists\"] == True) &\n",
    "\t(all_normalized_frame[\"original_image_exists\"] == True)\n",
    "\t]\n",
    "\n",
    "total_images_display = filtered_on_exist.groupby(\"subreddit\").size().reset_index(name=\"count\")\n",
    "display(total_images_display.sort_values(\"count\", ascending=False))\n",
    "print(f\"Total Records {total_images_display['count'].sum()}\")"
   ],
   "metadata": {
    "collapsed": false
   }
  },
  {
   "cell_type": "code",
   "execution_count": 11,
   "outputs": [
    {
     "name": "stdout",
     "output_type": "stream",
     "text": [
      "Data With Known Images\n"
     ]
    },
    {
     "data": {
      "text/plain": "             subreddit          file_name  \\\n0             CityPorn  4emw5uldib9a1.jpg   \n3             AmIhotAF  4xyb1vgbjb9a1.jpg   \n4            greentext  3mewbe0wjb9a1.jpg   \n7            sfwpetite  v3ra9g4vrb9a1.jpg   \n10           sfwpetite  ldz8tgpsub9a1.jpg   \n...                ...                ...   \n8592       SFWRedheads  eu6z40qyya9a1.jpg   \n8593  SFWNextDoorGirls        Hzad3q2.jpg   \n8594          CityPorn  dwu7i1dni99a1.jpg   \n8596         greentext        bgho6WK.jpg   \n8599   HotGirlNextDoor  p6yewrl7eb9a1.jpg   \n\n                                                   text  \\\n0                                   New York in the fog   \n3                        Just looking for entertainment   \n4                                   Anon wants Elon cut   \n7                                                Braids   \n10                                      Incredible body   \n...                                                 ...   \n8592  Starting the day with mushroom water in my mus...   \n8593  your new years resolution should be sleeping w...   \n8594                    Ronda's bridge is brutal, Spain   \n8596                        Anon does a little trolling   \n8599                                             (IKTR)   \n\n                                       original_caption  \\\n0      a city street filled with lots of tall buildings   \n3     a beautiful young woman in a black dress posin...   \n4     a collage of photos showing a man in a suit an...   \n7     a beautiful young woman in a bikini posing for...   \n10              a woman in a bikini standing on a beach   \n...                                                 ...   \n8592  A woman in a pink shirt and black pants is tal...   \n8593  A girl in a pink dress is talking to another g...   \n8594  A group of people are standing in front of a l...   \n8596  A man wearing a black shirt and black pants is...   \n8599  A woman in a pink bathing suit is sitting on a...   \n\n                                         thumbnail_path  \\\n0     D:\\data\\images\\CityPorn\\thumbnail\\4emw5uldib9a...   \n3     D:\\data\\images\\AmIhotAF\\thumbnail\\4xyb1vgbjb9a...   \n4     D:\\data\\images\\greentext\\thumbnail\\3mewbe0wjb9...   \n7     D:\\data\\images\\sfwpetite\\thumbnail\\v3ra9g4vrb9...   \n10    D:\\data\\images\\sfwpetite\\thumbnail\\ldz8tgpsub9...   \n...                                                 ...   \n8592  D:\\data\\images\\SFWRedheads\\thumbnail\\eu6z40qyy...   \n8593  D:\\data\\images\\SFWNextDoorGirls\\thumbnail\\Hzad...   \n8594  D:\\data\\images\\CityPorn\\thumbnail\\dwu7i1dni99a...   \n8596     D:\\data\\images\\greentext\\thumbnail\\bgho6WK.jpg   \n8599  D:\\data\\images\\HotGirlNextDoor\\thumbnail\\p6yew...   \n\n                                      thumbnail_caption  thumbnail_exists  \\\n0      a city street filled with lots of tall buildings              True   \n3     a beautiful young woman in a black dress posin...              True   \n4     a collage of photos showing a man in a suit an...              True   \n7     a beautiful young woman in a bikini posing for...              True   \n10              a woman in a bikini standing on a beach              True   \n...                                                 ...               ...   \n8592                a woman holding up a bottle of beer              True   \n8593  a young woman in a red dress is talking on the...              True   \n8594     a bridge over a body of water with a waterfall              True   \n8596         a series of photos showing a man in a suit              True   \n8599             a woman in a bikini sitting on a beach              True   \n\n                                        original_image  original_image_exists  \\\n0            D:\\data\\images\\CityPorn\\4emw5uldib9a1.jpg                   True   \n3            D:\\data\\images\\AmIhotAF\\4xyb1vgbjb9a1.jpg                   True   \n4           D:\\data\\images\\greentext\\3mewbe0wjb9a1.jpg                   True   \n7           D:\\data\\images\\sfwpetite\\v3ra9g4vrb9a1.jpg                   True   \n10          D:\\data\\images\\sfwpetite\\ldz8tgpsub9a1.jpg                   True   \n...                                                ...                    ...   \n8592      D:\\data\\images\\SFWRedheads\\eu6z40qyya9a1.jpg                   True   \n8593       D:\\data\\images\\SFWNextDoorGirls\\Hzad3q2.jpg                   True   \n8594         D:\\data\\images\\CityPorn\\dwu7i1dni99a1.jpg                   True   \n8596              D:\\data\\images\\greentext\\bgho6WK.jpg                   True   \n8599  D:\\data\\images\\HotGirlNextDoor\\p6yewrl7eb9a1.jpg                   True   \n\n                                  hash       id  \n0     7a8d96e378c15c8ab8440ac311f12c11  1000cej  \n3     e554c1ed7ffa2740436ac082068b2824  1000glf  \n4     1dec3dabb5e46cde01855d06089c287a  1000j1n  \n7     16ca1536c4f6936d3e994df7cb40ab8e  1001ghp  \n10    a0b0ffef01a7abf9de351000026d49f0  1001ssd  \n...                                ...      ...  \n8592  699ab3d71e8b26f7a72ea73bd2a295a0   zzxyrq  \n8593  d159090b1c7b485347cec61c70bc9c54   zzy3sq  \n8594  02ae3631262b2de84b0b24c4275deae9   zzy49v  \n8596  df666b8b2ad543c77b3fdba89becda1a   zzzeoi  \n8599  94dea288ddffb51eb1a786d469b59374   zzzu28  \n\n[5401 rows x 11 columns]",
      "text/html": "<div>\n<style scoped>\n    .dataframe tbody tr th:only-of-type {\n        vertical-align: middle;\n    }\n\n    .dataframe tbody tr th {\n        vertical-align: top;\n    }\n\n    .dataframe thead th {\n        text-align: right;\n    }\n</style>\n<table border=\"1\" class=\"dataframe\">\n  <thead>\n    <tr style=\"text-align: right;\">\n      <th></th>\n      <th>subreddit</th>\n      <th>file_name</th>\n      <th>text</th>\n      <th>original_caption</th>\n      <th>thumbnail_path</th>\n      <th>thumbnail_caption</th>\n      <th>thumbnail_exists</th>\n      <th>original_image</th>\n      <th>original_image_exists</th>\n      <th>hash</th>\n      <th>id</th>\n    </tr>\n  </thead>\n  <tbody>\n    <tr>\n      <th>0</th>\n      <td>CityPorn</td>\n      <td>4emw5uldib9a1.jpg</td>\n      <td>New York in the fog</td>\n      <td>a city street filled with lots of tall buildings</td>\n      <td>D:\\data\\images\\CityPorn\\thumbnail\\4emw5uldib9a...</td>\n      <td>a city street filled with lots of tall buildings</td>\n      <td>True</td>\n      <td>D:\\data\\images\\CityPorn\\4emw5uldib9a1.jpg</td>\n      <td>True</td>\n      <td>7a8d96e378c15c8ab8440ac311f12c11</td>\n      <td>1000cej</td>\n    </tr>\n    <tr>\n      <th>3</th>\n      <td>AmIhotAF</td>\n      <td>4xyb1vgbjb9a1.jpg</td>\n      <td>Just looking for entertainment</td>\n      <td>a beautiful young woman in a black dress posin...</td>\n      <td>D:\\data\\images\\AmIhotAF\\thumbnail\\4xyb1vgbjb9a...</td>\n      <td>a beautiful young woman in a black dress posin...</td>\n      <td>True</td>\n      <td>D:\\data\\images\\AmIhotAF\\4xyb1vgbjb9a1.jpg</td>\n      <td>True</td>\n      <td>e554c1ed7ffa2740436ac082068b2824</td>\n      <td>1000glf</td>\n    </tr>\n    <tr>\n      <th>4</th>\n      <td>greentext</td>\n      <td>3mewbe0wjb9a1.jpg</td>\n      <td>Anon wants Elon cut</td>\n      <td>a collage of photos showing a man in a suit an...</td>\n      <td>D:\\data\\images\\greentext\\thumbnail\\3mewbe0wjb9...</td>\n      <td>a collage of photos showing a man in a suit an...</td>\n      <td>True</td>\n      <td>D:\\data\\images\\greentext\\3mewbe0wjb9a1.jpg</td>\n      <td>True</td>\n      <td>1dec3dabb5e46cde01855d06089c287a</td>\n      <td>1000j1n</td>\n    </tr>\n    <tr>\n      <th>7</th>\n      <td>sfwpetite</td>\n      <td>v3ra9g4vrb9a1.jpg</td>\n      <td>Braids</td>\n      <td>a beautiful young woman in a bikini posing for...</td>\n      <td>D:\\data\\images\\sfwpetite\\thumbnail\\v3ra9g4vrb9...</td>\n      <td>a beautiful young woman in a bikini posing for...</td>\n      <td>True</td>\n      <td>D:\\data\\images\\sfwpetite\\v3ra9g4vrb9a1.jpg</td>\n      <td>True</td>\n      <td>16ca1536c4f6936d3e994df7cb40ab8e</td>\n      <td>1001ghp</td>\n    </tr>\n    <tr>\n      <th>10</th>\n      <td>sfwpetite</td>\n      <td>ldz8tgpsub9a1.jpg</td>\n      <td>Incredible body</td>\n      <td>a woman in a bikini standing on a beach</td>\n      <td>D:\\data\\images\\sfwpetite\\thumbnail\\ldz8tgpsub9...</td>\n      <td>a woman in a bikini standing on a beach</td>\n      <td>True</td>\n      <td>D:\\data\\images\\sfwpetite\\ldz8tgpsub9a1.jpg</td>\n      <td>True</td>\n      <td>a0b0ffef01a7abf9de351000026d49f0</td>\n      <td>1001ssd</td>\n    </tr>\n    <tr>\n      <th>...</th>\n      <td>...</td>\n      <td>...</td>\n      <td>...</td>\n      <td>...</td>\n      <td>...</td>\n      <td>...</td>\n      <td>...</td>\n      <td>...</td>\n      <td>...</td>\n      <td>...</td>\n      <td>...</td>\n    </tr>\n    <tr>\n      <th>8592</th>\n      <td>SFWRedheads</td>\n      <td>eu6z40qyya9a1.jpg</td>\n      <td>Starting the day with mushroom water in my mus...</td>\n      <td>A woman in a pink shirt and black pants is tal...</td>\n      <td>D:\\data\\images\\SFWRedheads\\thumbnail\\eu6z40qyy...</td>\n      <td>a woman holding up a bottle of beer</td>\n      <td>True</td>\n      <td>D:\\data\\images\\SFWRedheads\\eu6z40qyya9a1.jpg</td>\n      <td>True</td>\n      <td>699ab3d71e8b26f7a72ea73bd2a295a0</td>\n      <td>zzxyrq</td>\n    </tr>\n    <tr>\n      <th>8593</th>\n      <td>SFWNextDoorGirls</td>\n      <td>Hzad3q2.jpg</td>\n      <td>your new years resolution should be sleeping w...</td>\n      <td>A girl in a pink dress is talking to another g...</td>\n      <td>D:\\data\\images\\SFWNextDoorGirls\\thumbnail\\Hzad...</td>\n      <td>a young woman in a red dress is talking on the...</td>\n      <td>True</td>\n      <td>D:\\data\\images\\SFWNextDoorGirls\\Hzad3q2.jpg</td>\n      <td>True</td>\n      <td>d159090b1c7b485347cec61c70bc9c54</td>\n      <td>zzy3sq</td>\n    </tr>\n    <tr>\n      <th>8594</th>\n      <td>CityPorn</td>\n      <td>dwu7i1dni99a1.jpg</td>\n      <td>Ronda's bridge is brutal, Spain</td>\n      <td>A group of people are standing in front of a l...</td>\n      <td>D:\\data\\images\\CityPorn\\thumbnail\\dwu7i1dni99a...</td>\n      <td>a bridge over a body of water with a waterfall</td>\n      <td>True</td>\n      <td>D:\\data\\images\\CityPorn\\dwu7i1dni99a1.jpg</td>\n      <td>True</td>\n      <td>02ae3631262b2de84b0b24c4275deae9</td>\n      <td>zzy49v</td>\n    </tr>\n    <tr>\n      <th>8596</th>\n      <td>greentext</td>\n      <td>bgho6WK.jpg</td>\n      <td>Anon does a little trolling</td>\n      <td>A man wearing a black shirt and black pants is...</td>\n      <td>D:\\data\\images\\greentext\\thumbnail\\bgho6WK.jpg</td>\n      <td>a series of photos showing a man in a suit</td>\n      <td>True</td>\n      <td>D:\\data\\images\\greentext\\bgho6WK.jpg</td>\n      <td>True</td>\n      <td>df666b8b2ad543c77b3fdba89becda1a</td>\n      <td>zzzeoi</td>\n    </tr>\n    <tr>\n      <th>8599</th>\n      <td>HotGirlNextDoor</td>\n      <td>p6yewrl7eb9a1.jpg</td>\n      <td>(IKTR)</td>\n      <td>A woman in a pink bathing suit is sitting on a...</td>\n      <td>D:\\data\\images\\HotGirlNextDoor\\thumbnail\\p6yew...</td>\n      <td>a woman in a bikini sitting on a beach</td>\n      <td>True</td>\n      <td>D:\\data\\images\\HotGirlNextDoor\\p6yewrl7eb9a1.jpg</td>\n      <td>True</td>\n      <td>94dea288ddffb51eb1a786d469b59374</td>\n      <td>zzzu28</td>\n    </tr>\n  </tbody>\n</table>\n<p>5401 rows × 11 columns</p>\n</div>"
     },
     "metadata": {},
     "output_type": "display_data"
    }
   ],
   "source": [
    "print(\"Data With Known Images\")\n",
    "display(filtered_on_exist)"
   ],
   "metadata": {
    "collapsed": false
   }
  },
  {
   "cell_type": "code",
   "execution_count": 12,
   "outputs": [],
   "source": [
    "from transformers import VisionEncoderDecoderModel, ViTFeatureExtractor, GPT2TokenizerFast\n",
    "import torch\n",
    "from PIL import Image\n",
    "\n",
    "model = VisionEncoderDecoderModel.from_pretrained(pretrained_model_name_or_path=\"D:\\\\models\\\\vit-gpt2-image-captioning\")\n",
    "feature_extractor = ViTFeatureExtractor.from_pretrained(\n",
    "\tpretrained_model_name_or_path=\"D:\\\\models\\\\vit-gpt2-image-captioning\")\n",
    "tokenizer = GPT2TokenizerFast.from_pretrained(pretrained_model_name_or_path=\"D:\\\\models\\\\vit-gpt2-image-captioning\")\n",
    "\n",
    "\n",
    "def caption_image(image_path: str, index: int) -> str:\n",
    "\ttry:\n",
    "\t\tdevice = torch.device(f\"cpu\")\n",
    "\n",
    "\t\tmodel.to(device)\n",
    "\n",
    "\t\timg = Image.open(image_path)\n",
    "\t\tif img.mode != 'RGB':\n",
    "\t\t\timg = img.convert(mode=\"RGB\")\n",
    "\n",
    "\t\tpixel_values = feature_extractor(images=[img], return_tensors=\"pt\").pixel_values\n",
    "\n",
    "\t\tpixel_values = pixel_values.to(device)\n",
    "\n",
    "\t\tmax_length = 50\n",
    "\t\tnum_beams = 1\n",
    "\n",
    "\t\t# get model prediction\n",
    "\t\toutput_ids = model.generate(pixel_values, num_beams=num_beams, max_length=max_length)\n",
    "\n",
    "\t\t# decode the generated prediction\n",
    "\t\tpredictions = tokenizer.decode(output_ids[0], skip_special_tokens=True)\n",
    "\t\treturn predictions\n",
    "\n",
    "\texcept Exception as e:\n",
    "\t\tprint(f\":: Error in caption_image: {e}\")\n",
    "\t\treturn \"bruh\"\n",
    "\tfinally:\n",
    "\t\tpass"
   ],
   "metadata": {
    "collapsed": false
   }
  },
  {
   "cell_type": "code",
   "execution_count": 13,
   "outputs": [],
   "source": [
    "def wrapper_for_blip_thumbnail(row: object) -> str:\n",
    "\tbruh = \"bruh\"\n",
    "\ttry:\n",
    "\t\tcaption = row[\"thumbnail_caption\"]\n",
    "\t\timage_path = row[\"thumbnail_path\"]\n",
    "\t\tfoo = row.__dict__['_name']  # Fucking silly\n",
    "\t\trow_index = int(foo)\n",
    "\t\tprogress.update()\n",
    "\n",
    "\t\tif caption and len(caption) > 5:\n",
    "\t\t\treturn caption\n",
    "\t\telse:\n",
    "\t\t\treturn caption_image(image_path, row_index)\n",
    "\texcept Exception as e:\n",
    "\t\tprint(e)\n",
    "\t\treturn bruh"
   ],
   "metadata": {
    "collapsed": false
   }
  },
  {
   "cell_type": "code",
   "execution_count": 14,
   "outputs": [],
   "source": [
    "def wrapper_for_blip(row: object) -> str:\n",
    "\tbruh = \"bruh\"\n",
    "\ttry:\n",
    "\t\tcaption = row[\"original_caption\"]\n",
    "\t\timage_path = row[\"original_image\"]\n",
    "\t\tfoo = row.__dict__['_name']  # Fucking silly\n",
    "\t\trow_index = int(foo)\n",
    "\t\tprogress.update()\n",
    "\n",
    "\t\tif caption and len(caption) > 5:\n",
    "\t\t\treturn caption\n",
    "\t\telse:\n",
    "\t\t\treturn caption_image(image_path, row_index)\n",
    "\texcept Exception as e:\n",
    "\t\tprint(e)\n",
    "\t\treturn bruh"
   ],
   "metadata": {
    "collapsed": false
   }
  },
  {
   "cell_type": "code",
   "execution_count": 15,
   "outputs": [],
   "source": [
    "temp = filtered_on_exist.copy()\n",
    "ddf = dd.from_pandas(temp, npartitions=12)"
   ],
   "metadata": {
    "collapsed": false
   }
  },
  {
   "cell_type": "code",
   "execution_count": 16,
   "outputs": [
    {
     "name": "stderr",
     "output_type": "stream",
     "text": [
      "Captioning-Primary-Images: 0it [00:00, ?it/s]"
     ]
    },
    {
     "name": "stdout",
     "output_type": "stream",
     "text": [
      "Total Images: 5401\n"
     ]
    },
    {
     "data": {
      "text/plain": "global:   0%|          | 0/12 [00:00<?, ?it/s]",
      "application/vnd.jupyter.widget-view+json": {
       "version_major": 2,
       "version_minor": 0,
       "model_id": "fdaf3caee5544bd3b194218818607c5d"
      }
     },
     "metadata": {},
     "output_type": "display_data"
    },
    {
     "name": "stderr",
     "output_type": "stream",
     "text": [
      "Captioning-Primary-Images:  87%|████████▋ | 4718/5401 [00:00<00:00, 4695.24it/s]"
     ]
    }
   ],
   "source": [
    "progress: tqdm = InnerProgressBar(len(temp), \"Captioning-Primary-Images\")\n",
    "print(f\"Total Images: {progress.total}\")\n",
    "temp['new_column'] = ddf.apply(lambda x: wrapper_for_blip(x), axis=1, meta=('str', object)).compute()"
   ],
   "metadata": {
    "collapsed": false
   }
  },
  {
   "cell_type": "code",
   "execution_count": 17,
   "outputs": [
    {
     "name": "stdout",
     "output_type": "stream",
     "text": [
      "=== Before Drop ===\n"
     ]
    },
    {
     "data": {
      "text/plain": "             subreddit          file_name  \\\n0             CityPorn  4emw5uldib9a1.jpg   \n3             AmIhotAF  4xyb1vgbjb9a1.jpg   \n4            greentext  3mewbe0wjb9a1.jpg   \n7            sfwpetite  v3ra9g4vrb9a1.jpg   \n10           sfwpetite  ldz8tgpsub9a1.jpg   \n...                ...                ...   \n8592       SFWRedheads  eu6z40qyya9a1.jpg   \n8593  SFWNextDoorGirls        Hzad3q2.jpg   \n8594          CityPorn  dwu7i1dni99a1.jpg   \n8596         greentext        bgho6WK.jpg   \n8599   HotGirlNextDoor  p6yewrl7eb9a1.jpg   \n\n                                                   text  \\\n0                                   New York in the fog   \n3                        Just looking for entertainment   \n4                                   Anon wants Elon cut   \n7                                                Braids   \n10                                      Incredible body   \n...                                                 ...   \n8592  Starting the day with mushroom water in my mus...   \n8593  your new years resolution should be sleeping w...   \n8594                    Ronda's bridge is brutal, Spain   \n8596                        Anon does a little trolling   \n8599                                             (IKTR)   \n\n                                       original_caption  \\\n0      a city street filled with lots of tall buildings   \n3     a beautiful young woman in a black dress posin...   \n4     a collage of photos showing a man in a suit an...   \n7     a beautiful young woman in a bikini posing for...   \n10              a woman in a bikini standing on a beach   \n...                                                 ...   \n8592  A woman in a pink shirt and black pants is tal...   \n8593  A girl in a pink dress is talking to another g...   \n8594  A group of people are standing in front of a l...   \n8596  A man wearing a black shirt and black pants is...   \n8599  A woman in a pink bathing suit is sitting on a...   \n\n                                         thumbnail_path  \\\n0     D:\\data\\images\\CityPorn\\thumbnail\\4emw5uldib9a...   \n3     D:\\data\\images\\AmIhotAF\\thumbnail\\4xyb1vgbjb9a...   \n4     D:\\data\\images\\greentext\\thumbnail\\3mewbe0wjb9...   \n7     D:\\data\\images\\sfwpetite\\thumbnail\\v3ra9g4vrb9...   \n10    D:\\data\\images\\sfwpetite\\thumbnail\\ldz8tgpsub9...   \n...                                                 ...   \n8592  D:\\data\\images\\SFWRedheads\\thumbnail\\eu6z40qyy...   \n8593  D:\\data\\images\\SFWNextDoorGirls\\thumbnail\\Hzad...   \n8594  D:\\data\\images\\CityPorn\\thumbnail\\dwu7i1dni99a...   \n8596     D:\\data\\images\\greentext\\thumbnail\\bgho6WK.jpg   \n8599  D:\\data\\images\\HotGirlNextDoor\\thumbnail\\p6yew...   \n\n                                      thumbnail_caption  thumbnail_exists  \\\n0      a city street filled with lots of tall buildings              True   \n3     a beautiful young woman in a black dress posin...              True   \n4     a collage of photos showing a man in a suit an...              True   \n7     a beautiful young woman in a bikini posing for...              True   \n10              a woman in a bikini standing on a beach              True   \n...                                                 ...               ...   \n8592                a woman holding up a bottle of beer              True   \n8593  a young woman in a red dress is talking on the...              True   \n8594     a bridge over a body of water with a waterfall              True   \n8596         a series of photos showing a man in a suit              True   \n8599             a woman in a bikini sitting on a beach              True   \n\n                                        original_image  original_image_exists  \\\n0            D:\\data\\images\\CityPorn\\4emw5uldib9a1.jpg                   True   \n3            D:\\data\\images\\AmIhotAF\\4xyb1vgbjb9a1.jpg                   True   \n4           D:\\data\\images\\greentext\\3mewbe0wjb9a1.jpg                   True   \n7           D:\\data\\images\\sfwpetite\\v3ra9g4vrb9a1.jpg                   True   \n10          D:\\data\\images\\sfwpetite\\ldz8tgpsub9a1.jpg                   True   \n...                                                ...                    ...   \n8592      D:\\data\\images\\SFWRedheads\\eu6z40qyya9a1.jpg                   True   \n8593       D:\\data\\images\\SFWNextDoorGirls\\Hzad3q2.jpg                   True   \n8594         D:\\data\\images\\CityPorn\\dwu7i1dni99a1.jpg                   True   \n8596              D:\\data\\images\\greentext\\bgho6WK.jpg                   True   \n8599  D:\\data\\images\\HotGirlNextDoor\\p6yewrl7eb9a1.jpg                   True   \n\n                                  hash       id  \\\n0     7a8d96e378c15c8ab8440ac311f12c11  1000cej   \n3     e554c1ed7ffa2740436ac082068b2824  1000glf   \n4     1dec3dabb5e46cde01855d06089c287a  1000j1n   \n7     16ca1536c4f6936d3e994df7cb40ab8e  1001ghp   \n10    a0b0ffef01a7abf9de351000026d49f0  1001ssd   \n...                                ...      ...   \n8592  699ab3d71e8b26f7a72ea73bd2a295a0   zzxyrq   \n8593  d159090b1c7b485347cec61c70bc9c54   zzy3sq   \n8594  02ae3631262b2de84b0b24c4275deae9   zzy49v   \n8596  df666b8b2ad543c77b3fdba89becda1a   zzzeoi   \n8599  94dea288ddffb51eb1a786d469b59374   zzzu28   \n\n                                             new_column  \n0      a city street filled with lots of tall buildings  \n3     a beautiful young woman in a black dress posin...  \n4     a collage of photos showing a man in a suit an...  \n7     a beautiful young woman in a bikini posing for...  \n10              a woman in a bikini standing on a beach  \n...                                                 ...  \n8592  A woman in a pink shirt and black pants is tal...  \n8593  A girl in a pink dress is talking to another g...  \n8594  A group of people are standing in front of a l...  \n8596  A man wearing a black shirt and black pants is...  \n8599  A woman in a pink bathing suit is sitting on a...  \n\n[5401 rows x 12 columns]",
      "text/html": "<div>\n<style scoped>\n    .dataframe tbody tr th:only-of-type {\n        vertical-align: middle;\n    }\n\n    .dataframe tbody tr th {\n        vertical-align: top;\n    }\n\n    .dataframe thead th {\n        text-align: right;\n    }\n</style>\n<table border=\"1\" class=\"dataframe\">\n  <thead>\n    <tr style=\"text-align: right;\">\n      <th></th>\n      <th>subreddit</th>\n      <th>file_name</th>\n      <th>text</th>\n      <th>original_caption</th>\n      <th>thumbnail_path</th>\n      <th>thumbnail_caption</th>\n      <th>thumbnail_exists</th>\n      <th>original_image</th>\n      <th>original_image_exists</th>\n      <th>hash</th>\n      <th>id</th>\n      <th>new_column</th>\n    </tr>\n  </thead>\n  <tbody>\n    <tr>\n      <th>0</th>\n      <td>CityPorn</td>\n      <td>4emw5uldib9a1.jpg</td>\n      <td>New York in the fog</td>\n      <td>a city street filled with lots of tall buildings</td>\n      <td>D:\\data\\images\\CityPorn\\thumbnail\\4emw5uldib9a...</td>\n      <td>a city street filled with lots of tall buildings</td>\n      <td>True</td>\n      <td>D:\\data\\images\\CityPorn\\4emw5uldib9a1.jpg</td>\n      <td>True</td>\n      <td>7a8d96e378c15c8ab8440ac311f12c11</td>\n      <td>1000cej</td>\n      <td>a city street filled with lots of tall buildings</td>\n    </tr>\n    <tr>\n      <th>3</th>\n      <td>AmIhotAF</td>\n      <td>4xyb1vgbjb9a1.jpg</td>\n      <td>Just looking for entertainment</td>\n      <td>a beautiful young woman in a black dress posin...</td>\n      <td>D:\\data\\images\\AmIhotAF\\thumbnail\\4xyb1vgbjb9a...</td>\n      <td>a beautiful young woman in a black dress posin...</td>\n      <td>True</td>\n      <td>D:\\data\\images\\AmIhotAF\\4xyb1vgbjb9a1.jpg</td>\n      <td>True</td>\n      <td>e554c1ed7ffa2740436ac082068b2824</td>\n      <td>1000glf</td>\n      <td>a beautiful young woman in a black dress posin...</td>\n    </tr>\n    <tr>\n      <th>4</th>\n      <td>greentext</td>\n      <td>3mewbe0wjb9a1.jpg</td>\n      <td>Anon wants Elon cut</td>\n      <td>a collage of photos showing a man in a suit an...</td>\n      <td>D:\\data\\images\\greentext\\thumbnail\\3mewbe0wjb9...</td>\n      <td>a collage of photos showing a man in a suit an...</td>\n      <td>True</td>\n      <td>D:\\data\\images\\greentext\\3mewbe0wjb9a1.jpg</td>\n      <td>True</td>\n      <td>1dec3dabb5e46cde01855d06089c287a</td>\n      <td>1000j1n</td>\n      <td>a collage of photos showing a man in a suit an...</td>\n    </tr>\n    <tr>\n      <th>7</th>\n      <td>sfwpetite</td>\n      <td>v3ra9g4vrb9a1.jpg</td>\n      <td>Braids</td>\n      <td>a beautiful young woman in a bikini posing for...</td>\n      <td>D:\\data\\images\\sfwpetite\\thumbnail\\v3ra9g4vrb9...</td>\n      <td>a beautiful young woman in a bikini posing for...</td>\n      <td>True</td>\n      <td>D:\\data\\images\\sfwpetite\\v3ra9g4vrb9a1.jpg</td>\n      <td>True</td>\n      <td>16ca1536c4f6936d3e994df7cb40ab8e</td>\n      <td>1001ghp</td>\n      <td>a beautiful young woman in a bikini posing for...</td>\n    </tr>\n    <tr>\n      <th>10</th>\n      <td>sfwpetite</td>\n      <td>ldz8tgpsub9a1.jpg</td>\n      <td>Incredible body</td>\n      <td>a woman in a bikini standing on a beach</td>\n      <td>D:\\data\\images\\sfwpetite\\thumbnail\\ldz8tgpsub9...</td>\n      <td>a woman in a bikini standing on a beach</td>\n      <td>True</td>\n      <td>D:\\data\\images\\sfwpetite\\ldz8tgpsub9a1.jpg</td>\n      <td>True</td>\n      <td>a0b0ffef01a7abf9de351000026d49f0</td>\n      <td>1001ssd</td>\n      <td>a woman in a bikini standing on a beach</td>\n    </tr>\n    <tr>\n      <th>...</th>\n      <td>...</td>\n      <td>...</td>\n      <td>...</td>\n      <td>...</td>\n      <td>...</td>\n      <td>...</td>\n      <td>...</td>\n      <td>...</td>\n      <td>...</td>\n      <td>...</td>\n      <td>...</td>\n      <td>...</td>\n    </tr>\n    <tr>\n      <th>8592</th>\n      <td>SFWRedheads</td>\n      <td>eu6z40qyya9a1.jpg</td>\n      <td>Starting the day with mushroom water in my mus...</td>\n      <td>A woman in a pink shirt and black pants is tal...</td>\n      <td>D:\\data\\images\\SFWRedheads\\thumbnail\\eu6z40qyy...</td>\n      <td>a woman holding up a bottle of beer</td>\n      <td>True</td>\n      <td>D:\\data\\images\\SFWRedheads\\eu6z40qyya9a1.jpg</td>\n      <td>True</td>\n      <td>699ab3d71e8b26f7a72ea73bd2a295a0</td>\n      <td>zzxyrq</td>\n      <td>A woman in a pink shirt and black pants is tal...</td>\n    </tr>\n    <tr>\n      <th>8593</th>\n      <td>SFWNextDoorGirls</td>\n      <td>Hzad3q2.jpg</td>\n      <td>your new years resolution should be sleeping w...</td>\n      <td>A girl in a pink dress is talking to another g...</td>\n      <td>D:\\data\\images\\SFWNextDoorGirls\\thumbnail\\Hzad...</td>\n      <td>a young woman in a red dress is talking on the...</td>\n      <td>True</td>\n      <td>D:\\data\\images\\SFWNextDoorGirls\\Hzad3q2.jpg</td>\n      <td>True</td>\n      <td>d159090b1c7b485347cec61c70bc9c54</td>\n      <td>zzy3sq</td>\n      <td>A girl in a pink dress is talking to another g...</td>\n    </tr>\n    <tr>\n      <th>8594</th>\n      <td>CityPorn</td>\n      <td>dwu7i1dni99a1.jpg</td>\n      <td>Ronda's bridge is brutal, Spain</td>\n      <td>A group of people are standing in front of a l...</td>\n      <td>D:\\data\\images\\CityPorn\\thumbnail\\dwu7i1dni99a...</td>\n      <td>a bridge over a body of water with a waterfall</td>\n      <td>True</td>\n      <td>D:\\data\\images\\CityPorn\\dwu7i1dni99a1.jpg</td>\n      <td>True</td>\n      <td>02ae3631262b2de84b0b24c4275deae9</td>\n      <td>zzy49v</td>\n      <td>A group of people are standing in front of a l...</td>\n    </tr>\n    <tr>\n      <th>8596</th>\n      <td>greentext</td>\n      <td>bgho6WK.jpg</td>\n      <td>Anon does a little trolling</td>\n      <td>A man wearing a black shirt and black pants is...</td>\n      <td>D:\\data\\images\\greentext\\thumbnail\\bgho6WK.jpg</td>\n      <td>a series of photos showing a man in a suit</td>\n      <td>True</td>\n      <td>D:\\data\\images\\greentext\\bgho6WK.jpg</td>\n      <td>True</td>\n      <td>df666b8b2ad543c77b3fdba89becda1a</td>\n      <td>zzzeoi</td>\n      <td>A man wearing a black shirt and black pants is...</td>\n    </tr>\n    <tr>\n      <th>8599</th>\n      <td>HotGirlNextDoor</td>\n      <td>p6yewrl7eb9a1.jpg</td>\n      <td>(IKTR)</td>\n      <td>A woman in a pink bathing suit is sitting on a...</td>\n      <td>D:\\data\\images\\HotGirlNextDoor\\thumbnail\\p6yew...</td>\n      <td>a woman in a bikini sitting on a beach</td>\n      <td>True</td>\n      <td>D:\\data\\images\\HotGirlNextDoor\\p6yewrl7eb9a1.jpg</td>\n      <td>True</td>\n      <td>94dea288ddffb51eb1a786d469b59374</td>\n      <td>zzzu28</td>\n      <td>A woman in a pink bathing suit is sitting on a...</td>\n    </tr>\n  </tbody>\n</table>\n<p>5401 rows × 12 columns</p>\n</div>"
     },
     "metadata": {},
     "output_type": "display_data"
    },
    {
     "name": "stdout",
     "output_type": "stream",
     "text": [
      "=== After Drop ===\n"
     ]
    },
    {
     "data": {
      "text/plain": "             subreddit          file_name  \\\n0             CityPorn  4emw5uldib9a1.jpg   \n3             AmIhotAF  4xyb1vgbjb9a1.jpg   \n4            greentext  3mewbe0wjb9a1.jpg   \n7            sfwpetite  v3ra9g4vrb9a1.jpg   \n10           sfwpetite  ldz8tgpsub9a1.jpg   \n...                ...                ...   \n8592       SFWRedheads  eu6z40qyya9a1.jpg   \n8593  SFWNextDoorGirls        Hzad3q2.jpg   \n8594          CityPorn  dwu7i1dni99a1.jpg   \n8596         greentext        bgho6WK.jpg   \n8599   HotGirlNextDoor  p6yewrl7eb9a1.jpg   \n\n                                                   text  \\\n0                                   New York in the fog   \n3                        Just looking for entertainment   \n4                                   Anon wants Elon cut   \n7                                                Braids   \n10                                      Incredible body   \n...                                                 ...   \n8592  Starting the day with mushroom water in my mus...   \n8593  your new years resolution should be sleeping w...   \n8594                    Ronda's bridge is brutal, Spain   \n8596                        Anon does a little trolling   \n8599                                             (IKTR)   \n\n                                         thumbnail_path  \\\n0     D:\\data\\images\\CityPorn\\thumbnail\\4emw5uldib9a...   \n3     D:\\data\\images\\AmIhotAF\\thumbnail\\4xyb1vgbjb9a...   \n4     D:\\data\\images\\greentext\\thumbnail\\3mewbe0wjb9...   \n7     D:\\data\\images\\sfwpetite\\thumbnail\\v3ra9g4vrb9...   \n10    D:\\data\\images\\sfwpetite\\thumbnail\\ldz8tgpsub9...   \n...                                                 ...   \n8592  D:\\data\\images\\SFWRedheads\\thumbnail\\eu6z40qyy...   \n8593  D:\\data\\images\\SFWNextDoorGirls\\thumbnail\\Hzad...   \n8594  D:\\data\\images\\CityPorn\\thumbnail\\dwu7i1dni99a...   \n8596     D:\\data\\images\\greentext\\thumbnail\\bgho6WK.jpg   \n8599  D:\\data\\images\\HotGirlNextDoor\\thumbnail\\p6yew...   \n\n                                      thumbnail_caption  thumbnail_exists  \\\n0      a city street filled with lots of tall buildings              True   \n3     a beautiful young woman in a black dress posin...              True   \n4     a collage of photos showing a man in a suit an...              True   \n7     a beautiful young woman in a bikini posing for...              True   \n10              a woman in a bikini standing on a beach              True   \n...                                                 ...               ...   \n8592                a woman holding up a bottle of beer              True   \n8593  a young woman in a red dress is talking on the...              True   \n8594     a bridge over a body of water with a waterfall              True   \n8596         a series of photos showing a man in a suit              True   \n8599             a woman in a bikini sitting on a beach              True   \n\n                                        original_image  original_image_exists  \\\n0            D:\\data\\images\\CityPorn\\4emw5uldib9a1.jpg                   True   \n3            D:\\data\\images\\AmIhotAF\\4xyb1vgbjb9a1.jpg                   True   \n4           D:\\data\\images\\greentext\\3mewbe0wjb9a1.jpg                   True   \n7           D:\\data\\images\\sfwpetite\\v3ra9g4vrb9a1.jpg                   True   \n10          D:\\data\\images\\sfwpetite\\ldz8tgpsub9a1.jpg                   True   \n...                                                ...                    ...   \n8592      D:\\data\\images\\SFWRedheads\\eu6z40qyya9a1.jpg                   True   \n8593       D:\\data\\images\\SFWNextDoorGirls\\Hzad3q2.jpg                   True   \n8594         D:\\data\\images\\CityPorn\\dwu7i1dni99a1.jpg                   True   \n8596              D:\\data\\images\\greentext\\bgho6WK.jpg                   True   \n8599  D:\\data\\images\\HotGirlNextDoor\\p6yewrl7eb9a1.jpg                   True   \n\n                                  hash       id  \\\n0     7a8d96e378c15c8ab8440ac311f12c11  1000cej   \n3     e554c1ed7ffa2740436ac082068b2824  1000glf   \n4     1dec3dabb5e46cde01855d06089c287a  1000j1n   \n7     16ca1536c4f6936d3e994df7cb40ab8e  1001ghp   \n10    a0b0ffef01a7abf9de351000026d49f0  1001ssd   \n...                                ...      ...   \n8592  699ab3d71e8b26f7a72ea73bd2a295a0   zzxyrq   \n8593  d159090b1c7b485347cec61c70bc9c54   zzy3sq   \n8594  02ae3631262b2de84b0b24c4275deae9   zzy49v   \n8596  df666b8b2ad543c77b3fdba89becda1a   zzzeoi   \n8599  94dea288ddffb51eb1a786d469b59374   zzzu28   \n\n                                       original_caption  \n0      a city street filled with lots of tall buildings  \n3     a beautiful young woman in a black dress posin...  \n4     a collage of photos showing a man in a suit an...  \n7     a beautiful young woman in a bikini posing for...  \n10              a woman in a bikini standing on a beach  \n...                                                 ...  \n8592  A woman in a pink shirt and black pants is tal...  \n8593  A girl in a pink dress is talking to another g...  \n8594  A group of people are standing in front of a l...  \n8596  A man wearing a black shirt and black pants is...  \n8599  A woman in a pink bathing suit is sitting on a...  \n\n[5401 rows x 11 columns]",
      "text/html": "<div>\n<style scoped>\n    .dataframe tbody tr th:only-of-type {\n        vertical-align: middle;\n    }\n\n    .dataframe tbody tr th {\n        vertical-align: top;\n    }\n\n    .dataframe thead th {\n        text-align: right;\n    }\n</style>\n<table border=\"1\" class=\"dataframe\">\n  <thead>\n    <tr style=\"text-align: right;\">\n      <th></th>\n      <th>subreddit</th>\n      <th>file_name</th>\n      <th>text</th>\n      <th>thumbnail_path</th>\n      <th>thumbnail_caption</th>\n      <th>thumbnail_exists</th>\n      <th>original_image</th>\n      <th>original_image_exists</th>\n      <th>hash</th>\n      <th>id</th>\n      <th>original_caption</th>\n    </tr>\n  </thead>\n  <tbody>\n    <tr>\n      <th>0</th>\n      <td>CityPorn</td>\n      <td>4emw5uldib9a1.jpg</td>\n      <td>New York in the fog</td>\n      <td>D:\\data\\images\\CityPorn\\thumbnail\\4emw5uldib9a...</td>\n      <td>a city street filled with lots of tall buildings</td>\n      <td>True</td>\n      <td>D:\\data\\images\\CityPorn\\4emw5uldib9a1.jpg</td>\n      <td>True</td>\n      <td>7a8d96e378c15c8ab8440ac311f12c11</td>\n      <td>1000cej</td>\n      <td>a city street filled with lots of tall buildings</td>\n    </tr>\n    <tr>\n      <th>3</th>\n      <td>AmIhotAF</td>\n      <td>4xyb1vgbjb9a1.jpg</td>\n      <td>Just looking for entertainment</td>\n      <td>D:\\data\\images\\AmIhotAF\\thumbnail\\4xyb1vgbjb9a...</td>\n      <td>a beautiful young woman in a black dress posin...</td>\n      <td>True</td>\n      <td>D:\\data\\images\\AmIhotAF\\4xyb1vgbjb9a1.jpg</td>\n      <td>True</td>\n      <td>e554c1ed7ffa2740436ac082068b2824</td>\n      <td>1000glf</td>\n      <td>a beautiful young woman in a black dress posin...</td>\n    </tr>\n    <tr>\n      <th>4</th>\n      <td>greentext</td>\n      <td>3mewbe0wjb9a1.jpg</td>\n      <td>Anon wants Elon cut</td>\n      <td>D:\\data\\images\\greentext\\thumbnail\\3mewbe0wjb9...</td>\n      <td>a collage of photos showing a man in a suit an...</td>\n      <td>True</td>\n      <td>D:\\data\\images\\greentext\\3mewbe0wjb9a1.jpg</td>\n      <td>True</td>\n      <td>1dec3dabb5e46cde01855d06089c287a</td>\n      <td>1000j1n</td>\n      <td>a collage of photos showing a man in a suit an...</td>\n    </tr>\n    <tr>\n      <th>7</th>\n      <td>sfwpetite</td>\n      <td>v3ra9g4vrb9a1.jpg</td>\n      <td>Braids</td>\n      <td>D:\\data\\images\\sfwpetite\\thumbnail\\v3ra9g4vrb9...</td>\n      <td>a beautiful young woman in a bikini posing for...</td>\n      <td>True</td>\n      <td>D:\\data\\images\\sfwpetite\\v3ra9g4vrb9a1.jpg</td>\n      <td>True</td>\n      <td>16ca1536c4f6936d3e994df7cb40ab8e</td>\n      <td>1001ghp</td>\n      <td>a beautiful young woman in a bikini posing for...</td>\n    </tr>\n    <tr>\n      <th>10</th>\n      <td>sfwpetite</td>\n      <td>ldz8tgpsub9a1.jpg</td>\n      <td>Incredible body</td>\n      <td>D:\\data\\images\\sfwpetite\\thumbnail\\ldz8tgpsub9...</td>\n      <td>a woman in a bikini standing on a beach</td>\n      <td>True</td>\n      <td>D:\\data\\images\\sfwpetite\\ldz8tgpsub9a1.jpg</td>\n      <td>True</td>\n      <td>a0b0ffef01a7abf9de351000026d49f0</td>\n      <td>1001ssd</td>\n      <td>a woman in a bikini standing on a beach</td>\n    </tr>\n    <tr>\n      <th>...</th>\n      <td>...</td>\n      <td>...</td>\n      <td>...</td>\n      <td>...</td>\n      <td>...</td>\n      <td>...</td>\n      <td>...</td>\n      <td>...</td>\n      <td>...</td>\n      <td>...</td>\n      <td>...</td>\n    </tr>\n    <tr>\n      <th>8592</th>\n      <td>SFWRedheads</td>\n      <td>eu6z40qyya9a1.jpg</td>\n      <td>Starting the day with mushroom water in my mus...</td>\n      <td>D:\\data\\images\\SFWRedheads\\thumbnail\\eu6z40qyy...</td>\n      <td>a woman holding up a bottle of beer</td>\n      <td>True</td>\n      <td>D:\\data\\images\\SFWRedheads\\eu6z40qyya9a1.jpg</td>\n      <td>True</td>\n      <td>699ab3d71e8b26f7a72ea73bd2a295a0</td>\n      <td>zzxyrq</td>\n      <td>A woman in a pink shirt and black pants is tal...</td>\n    </tr>\n    <tr>\n      <th>8593</th>\n      <td>SFWNextDoorGirls</td>\n      <td>Hzad3q2.jpg</td>\n      <td>your new years resolution should be sleeping w...</td>\n      <td>D:\\data\\images\\SFWNextDoorGirls\\thumbnail\\Hzad...</td>\n      <td>a young woman in a red dress is talking on the...</td>\n      <td>True</td>\n      <td>D:\\data\\images\\SFWNextDoorGirls\\Hzad3q2.jpg</td>\n      <td>True</td>\n      <td>d159090b1c7b485347cec61c70bc9c54</td>\n      <td>zzy3sq</td>\n      <td>A girl in a pink dress is talking to another g...</td>\n    </tr>\n    <tr>\n      <th>8594</th>\n      <td>CityPorn</td>\n      <td>dwu7i1dni99a1.jpg</td>\n      <td>Ronda's bridge is brutal, Spain</td>\n      <td>D:\\data\\images\\CityPorn\\thumbnail\\dwu7i1dni99a...</td>\n      <td>a bridge over a body of water with a waterfall</td>\n      <td>True</td>\n      <td>D:\\data\\images\\CityPorn\\dwu7i1dni99a1.jpg</td>\n      <td>True</td>\n      <td>02ae3631262b2de84b0b24c4275deae9</td>\n      <td>zzy49v</td>\n      <td>A group of people are standing in front of a l...</td>\n    </tr>\n    <tr>\n      <th>8596</th>\n      <td>greentext</td>\n      <td>bgho6WK.jpg</td>\n      <td>Anon does a little trolling</td>\n      <td>D:\\data\\images\\greentext\\thumbnail\\bgho6WK.jpg</td>\n      <td>a series of photos showing a man in a suit</td>\n      <td>True</td>\n      <td>D:\\data\\images\\greentext\\bgho6WK.jpg</td>\n      <td>True</td>\n      <td>df666b8b2ad543c77b3fdba89becda1a</td>\n      <td>zzzeoi</td>\n      <td>A man wearing a black shirt and black pants is...</td>\n    </tr>\n    <tr>\n      <th>8599</th>\n      <td>HotGirlNextDoor</td>\n      <td>p6yewrl7eb9a1.jpg</td>\n      <td>(IKTR)</td>\n      <td>D:\\data\\images\\HotGirlNextDoor\\thumbnail\\p6yew...</td>\n      <td>a woman in a bikini sitting on a beach</td>\n      <td>True</td>\n      <td>D:\\data\\images\\HotGirlNextDoor\\p6yewrl7eb9a1.jpg</td>\n      <td>True</td>\n      <td>94dea288ddffb51eb1a786d469b59374</td>\n      <td>zzzu28</td>\n      <td>A woman in a pink bathing suit is sitting on a...</td>\n    </tr>\n  </tbody>\n</table>\n<p>5401 rows × 11 columns</p>\n</div>"
     },
     "metadata": {},
     "output_type": "display_data"
    }
   ],
   "source": [
    "print(\"=== Before Drop ===\")\n",
    "display(temp)\n",
    "temp.rename(columns={\"original_caption\": \"original_caption_old\"}, inplace=True)\n",
    "\n",
    "temp.rename(columns={\"new_column\": \"original_caption\"}, inplace=True)\n",
    "temp.drop(columns=[\"original_caption_old\"], inplace=True)\n",
    "print(\"=== After Drop ===\")\n",
    "display(temp)"
   ],
   "metadata": {
    "collapsed": false
   }
  },
  {
   "cell_type": "code",
   "execution_count": 18,
   "outputs": [
    {
     "name": "stdout",
     "output_type": "stream",
     "text": [
      "Saving to parquet /data/parquet/processed_data.parquet\n"
     ]
    }
   ],
   "source": [
    "print(f\"Saving to parquet {parquet_process_data_path}\")\n",
    "temp.to_parquet(parquet_process_data_path)\n",
    "del temp"
   ],
   "metadata": {
    "collapsed": false
   }
  },
  {
   "cell_type": "code",
   "execution_count": 19,
   "outputs": [
    {
     "name": "stdout",
     "output_type": "stream",
     "text": [
      "Reading from parquet /data/parquet/processed_data.parquet with Updated Primary Captions\n"
     ]
    },
    {
     "data": {
      "text/plain": "             subreddit          file_name  \\\n0             CityPorn  4emw5uldib9a1.jpg   \n3             AmIhotAF  4xyb1vgbjb9a1.jpg   \n4            greentext  3mewbe0wjb9a1.jpg   \n7            sfwpetite  v3ra9g4vrb9a1.jpg   \n10           sfwpetite  ldz8tgpsub9a1.jpg   \n...                ...                ...   \n8592       SFWRedheads  eu6z40qyya9a1.jpg   \n8593  SFWNextDoorGirls        Hzad3q2.jpg   \n8594          CityPorn  dwu7i1dni99a1.jpg   \n8596         greentext        bgho6WK.jpg   \n8599   HotGirlNextDoor  p6yewrl7eb9a1.jpg   \n\n                                                   text  \\\n0                                   New York in the fog   \n3                        Just looking for entertainment   \n4                                   Anon wants Elon cut   \n7                                                Braids   \n10                                      Incredible body   \n...                                                 ...   \n8592  Starting the day with mushroom water in my mus...   \n8593  your new years resolution should be sleeping w...   \n8594                    Ronda's bridge is brutal, Spain   \n8596                        Anon does a little trolling   \n8599                                             (IKTR)   \n\n                                         thumbnail_path  \\\n0     D:\\data\\images\\CityPorn\\thumbnail\\4emw5uldib9a...   \n3     D:\\data\\images\\AmIhotAF\\thumbnail\\4xyb1vgbjb9a...   \n4     D:\\data\\images\\greentext\\thumbnail\\3mewbe0wjb9...   \n7     D:\\data\\images\\sfwpetite\\thumbnail\\v3ra9g4vrb9...   \n10    D:\\data\\images\\sfwpetite\\thumbnail\\ldz8tgpsub9...   \n...                                                 ...   \n8592  D:\\data\\images\\SFWRedheads\\thumbnail\\eu6z40qyy...   \n8593  D:\\data\\images\\SFWNextDoorGirls\\thumbnail\\Hzad...   \n8594  D:\\data\\images\\CityPorn\\thumbnail\\dwu7i1dni99a...   \n8596     D:\\data\\images\\greentext\\thumbnail\\bgho6WK.jpg   \n8599  D:\\data\\images\\HotGirlNextDoor\\thumbnail\\p6yew...   \n\n                                      thumbnail_caption  thumbnail_exists  \\\n0      a city street filled with lots of tall buildings              True   \n3     a beautiful young woman in a black dress posin...              True   \n4     a collage of photos showing a man in a suit an...              True   \n7     a beautiful young woman in a bikini posing for...              True   \n10              a woman in a bikini standing on a beach              True   \n...                                                 ...               ...   \n8592                a woman holding up a bottle of beer              True   \n8593  a young woman in a red dress is talking on the...              True   \n8594     a bridge over a body of water with a waterfall              True   \n8596         a series of photos showing a man in a suit              True   \n8599             a woman in a bikini sitting on a beach              True   \n\n                                        original_image  original_image_exists  \\\n0            D:\\data\\images\\CityPorn\\4emw5uldib9a1.jpg                   True   \n3            D:\\data\\images\\AmIhotAF\\4xyb1vgbjb9a1.jpg                   True   \n4           D:\\data\\images\\greentext\\3mewbe0wjb9a1.jpg                   True   \n7           D:\\data\\images\\sfwpetite\\v3ra9g4vrb9a1.jpg                   True   \n10          D:\\data\\images\\sfwpetite\\ldz8tgpsub9a1.jpg                   True   \n...                                                ...                    ...   \n8592      D:\\data\\images\\SFWRedheads\\eu6z40qyya9a1.jpg                   True   \n8593       D:\\data\\images\\SFWNextDoorGirls\\Hzad3q2.jpg                   True   \n8594         D:\\data\\images\\CityPorn\\dwu7i1dni99a1.jpg                   True   \n8596              D:\\data\\images\\greentext\\bgho6WK.jpg                   True   \n8599  D:\\data\\images\\HotGirlNextDoor\\p6yewrl7eb9a1.jpg                   True   \n\n                                  hash       id  \\\n0     7a8d96e378c15c8ab8440ac311f12c11  1000cej   \n3     e554c1ed7ffa2740436ac082068b2824  1000glf   \n4     1dec3dabb5e46cde01855d06089c287a  1000j1n   \n7     16ca1536c4f6936d3e994df7cb40ab8e  1001ghp   \n10    a0b0ffef01a7abf9de351000026d49f0  1001ssd   \n...                                ...      ...   \n8592  699ab3d71e8b26f7a72ea73bd2a295a0   zzxyrq   \n8593  d159090b1c7b485347cec61c70bc9c54   zzy3sq   \n8594  02ae3631262b2de84b0b24c4275deae9   zzy49v   \n8596  df666b8b2ad543c77b3fdba89becda1a   zzzeoi   \n8599  94dea288ddffb51eb1a786d469b59374   zzzu28   \n\n                                       original_caption  \n0      a city street filled with lots of tall buildings  \n3     a beautiful young woman in a black dress posin...  \n4     a collage of photos showing a man in a suit an...  \n7     a beautiful young woman in a bikini posing for...  \n10              a woman in a bikini standing on a beach  \n...                                                 ...  \n8592  A woman in a pink shirt and black pants is tal...  \n8593  A girl in a pink dress is talking to another g...  \n8594  A group of people are standing in front of a l...  \n8596  A man wearing a black shirt and black pants is...  \n8599  A woman in a pink bathing suit is sitting on a...  \n\n[5401 rows x 11 columns]",
      "text/html": "<div>\n<style scoped>\n    .dataframe tbody tr th:only-of-type {\n        vertical-align: middle;\n    }\n\n    .dataframe tbody tr th {\n        vertical-align: top;\n    }\n\n    .dataframe thead th {\n        text-align: right;\n    }\n</style>\n<table border=\"1\" class=\"dataframe\">\n  <thead>\n    <tr style=\"text-align: right;\">\n      <th></th>\n      <th>subreddit</th>\n      <th>file_name</th>\n      <th>text</th>\n      <th>thumbnail_path</th>\n      <th>thumbnail_caption</th>\n      <th>thumbnail_exists</th>\n      <th>original_image</th>\n      <th>original_image_exists</th>\n      <th>hash</th>\n      <th>id</th>\n      <th>original_caption</th>\n    </tr>\n  </thead>\n  <tbody>\n    <tr>\n      <th>0</th>\n      <td>CityPorn</td>\n      <td>4emw5uldib9a1.jpg</td>\n      <td>New York in the fog</td>\n      <td>D:\\data\\images\\CityPorn\\thumbnail\\4emw5uldib9a...</td>\n      <td>a city street filled with lots of tall buildings</td>\n      <td>True</td>\n      <td>D:\\data\\images\\CityPorn\\4emw5uldib9a1.jpg</td>\n      <td>True</td>\n      <td>7a8d96e378c15c8ab8440ac311f12c11</td>\n      <td>1000cej</td>\n      <td>a city street filled with lots of tall buildings</td>\n    </tr>\n    <tr>\n      <th>3</th>\n      <td>AmIhotAF</td>\n      <td>4xyb1vgbjb9a1.jpg</td>\n      <td>Just looking for entertainment</td>\n      <td>D:\\data\\images\\AmIhotAF\\thumbnail\\4xyb1vgbjb9a...</td>\n      <td>a beautiful young woman in a black dress posin...</td>\n      <td>True</td>\n      <td>D:\\data\\images\\AmIhotAF\\4xyb1vgbjb9a1.jpg</td>\n      <td>True</td>\n      <td>e554c1ed7ffa2740436ac082068b2824</td>\n      <td>1000glf</td>\n      <td>a beautiful young woman in a black dress posin...</td>\n    </tr>\n    <tr>\n      <th>4</th>\n      <td>greentext</td>\n      <td>3mewbe0wjb9a1.jpg</td>\n      <td>Anon wants Elon cut</td>\n      <td>D:\\data\\images\\greentext\\thumbnail\\3mewbe0wjb9...</td>\n      <td>a collage of photos showing a man in a suit an...</td>\n      <td>True</td>\n      <td>D:\\data\\images\\greentext\\3mewbe0wjb9a1.jpg</td>\n      <td>True</td>\n      <td>1dec3dabb5e46cde01855d06089c287a</td>\n      <td>1000j1n</td>\n      <td>a collage of photos showing a man in a suit an...</td>\n    </tr>\n    <tr>\n      <th>7</th>\n      <td>sfwpetite</td>\n      <td>v3ra9g4vrb9a1.jpg</td>\n      <td>Braids</td>\n      <td>D:\\data\\images\\sfwpetite\\thumbnail\\v3ra9g4vrb9...</td>\n      <td>a beautiful young woman in a bikini posing for...</td>\n      <td>True</td>\n      <td>D:\\data\\images\\sfwpetite\\v3ra9g4vrb9a1.jpg</td>\n      <td>True</td>\n      <td>16ca1536c4f6936d3e994df7cb40ab8e</td>\n      <td>1001ghp</td>\n      <td>a beautiful young woman in a bikini posing for...</td>\n    </tr>\n    <tr>\n      <th>10</th>\n      <td>sfwpetite</td>\n      <td>ldz8tgpsub9a1.jpg</td>\n      <td>Incredible body</td>\n      <td>D:\\data\\images\\sfwpetite\\thumbnail\\ldz8tgpsub9...</td>\n      <td>a woman in a bikini standing on a beach</td>\n      <td>True</td>\n      <td>D:\\data\\images\\sfwpetite\\ldz8tgpsub9a1.jpg</td>\n      <td>True</td>\n      <td>a0b0ffef01a7abf9de351000026d49f0</td>\n      <td>1001ssd</td>\n      <td>a woman in a bikini standing on a beach</td>\n    </tr>\n    <tr>\n      <th>...</th>\n      <td>...</td>\n      <td>...</td>\n      <td>...</td>\n      <td>...</td>\n      <td>...</td>\n      <td>...</td>\n      <td>...</td>\n      <td>...</td>\n      <td>...</td>\n      <td>...</td>\n      <td>...</td>\n    </tr>\n    <tr>\n      <th>8592</th>\n      <td>SFWRedheads</td>\n      <td>eu6z40qyya9a1.jpg</td>\n      <td>Starting the day with mushroom water in my mus...</td>\n      <td>D:\\data\\images\\SFWRedheads\\thumbnail\\eu6z40qyy...</td>\n      <td>a woman holding up a bottle of beer</td>\n      <td>True</td>\n      <td>D:\\data\\images\\SFWRedheads\\eu6z40qyya9a1.jpg</td>\n      <td>True</td>\n      <td>699ab3d71e8b26f7a72ea73bd2a295a0</td>\n      <td>zzxyrq</td>\n      <td>A woman in a pink shirt and black pants is tal...</td>\n    </tr>\n    <tr>\n      <th>8593</th>\n      <td>SFWNextDoorGirls</td>\n      <td>Hzad3q2.jpg</td>\n      <td>your new years resolution should be sleeping w...</td>\n      <td>D:\\data\\images\\SFWNextDoorGirls\\thumbnail\\Hzad...</td>\n      <td>a young woman in a red dress is talking on the...</td>\n      <td>True</td>\n      <td>D:\\data\\images\\SFWNextDoorGirls\\Hzad3q2.jpg</td>\n      <td>True</td>\n      <td>d159090b1c7b485347cec61c70bc9c54</td>\n      <td>zzy3sq</td>\n      <td>A girl in a pink dress is talking to another g...</td>\n    </tr>\n    <tr>\n      <th>8594</th>\n      <td>CityPorn</td>\n      <td>dwu7i1dni99a1.jpg</td>\n      <td>Ronda's bridge is brutal, Spain</td>\n      <td>D:\\data\\images\\CityPorn\\thumbnail\\dwu7i1dni99a...</td>\n      <td>a bridge over a body of water with a waterfall</td>\n      <td>True</td>\n      <td>D:\\data\\images\\CityPorn\\dwu7i1dni99a1.jpg</td>\n      <td>True</td>\n      <td>02ae3631262b2de84b0b24c4275deae9</td>\n      <td>zzy49v</td>\n      <td>A group of people are standing in front of a l...</td>\n    </tr>\n    <tr>\n      <th>8596</th>\n      <td>greentext</td>\n      <td>bgho6WK.jpg</td>\n      <td>Anon does a little trolling</td>\n      <td>D:\\data\\images\\greentext\\thumbnail\\bgho6WK.jpg</td>\n      <td>a series of photos showing a man in a suit</td>\n      <td>True</td>\n      <td>D:\\data\\images\\greentext\\bgho6WK.jpg</td>\n      <td>True</td>\n      <td>df666b8b2ad543c77b3fdba89becda1a</td>\n      <td>zzzeoi</td>\n      <td>A man wearing a black shirt and black pants is...</td>\n    </tr>\n    <tr>\n      <th>8599</th>\n      <td>HotGirlNextDoor</td>\n      <td>p6yewrl7eb9a1.jpg</td>\n      <td>(IKTR)</td>\n      <td>D:\\data\\images\\HotGirlNextDoor\\thumbnail\\p6yew...</td>\n      <td>a woman in a bikini sitting on a beach</td>\n      <td>True</td>\n      <td>D:\\data\\images\\HotGirlNextDoor\\p6yewrl7eb9a1.jpg</td>\n      <td>True</td>\n      <td>94dea288ddffb51eb1a786d469b59374</td>\n      <td>zzzu28</td>\n      <td>A woman in a pink bathing suit is sitting on a...</td>\n    </tr>\n  </tbody>\n</table>\n<p>5401 rows × 11 columns</p>\n</div>"
     },
     "metadata": {},
     "output_type": "display_data"
    }
   ],
   "source": [
    "print(f\"Reading from parquet {parquet_process_data_path} with Updated Primary Captions\")\n",
    "processed_with_captions = pandas.read_parquet(parquet_process_data_path)\n",
    "display(processed_with_captions)"
   ],
   "metadata": {
    "collapsed": false
   }
  },
  {
   "cell_type": "code",
   "execution_count": 20,
   "outputs": [],
   "source": [
    "temp = processed_with_captions.copy()\n",
    "ddf = dd.from_pandas(temp, npartitions=12)"
   ],
   "metadata": {
    "collapsed": false
   }
  },
  {
   "cell_type": "code",
   "execution_count": 21,
   "outputs": [
    {
     "name": "stderr",
     "output_type": "stream",
     "text": [
      "\n",
      "Captioning-Primary-Images: 100%|██████████| 5401/5401 [00:01<00:00, 3260.63it/s]"
     ]
    },
    {
     "name": "stdout",
     "output_type": "stream",
     "text": [
      "Total Images: 5401\n"
     ]
    },
    {
     "name": "stderr",
     "output_type": "stream",
     "text": [
      "\n"
     ]
    },
    {
     "data": {
      "text/plain": "global:   0%|          | 0/12 [00:00<?, ?it/s]",
      "application/vnd.jupyter.widget-view+json": {
       "version_major": 2,
       "version_minor": 0,
       "model_id": "34387927240c40f492fe02bf19c48363"
      }
     },
     "metadata": {},
     "output_type": "display_data"
    },
    {
     "name": "stderr",
     "output_type": "stream",
     "text": [
      "\n",
      "Captioning-Thumbnails-Images:  26%|██▌       | 1396/5401 [00:00<00:00, 12900.58it/s]\u001B[A\n",
      "Captioning-Thumbnails-Images:  29%|██▊       | 1548/5401 [00:00<00:00, 12218.63it/s]\u001B[A\n",
      "Captioning-Thumbnails-Images:  37%|███▋      | 1997/5401 [00:00<00:00, 12218.63it/s]\u001B[A\n",
      "Captioning-Thumbnails-Images:  39%|███▉      | 2100/5401 [00:00<00:00, 12218.63it/s]\u001B[A\n",
      "Captioning-Thumbnails-Images:  40%|████      | 2180/5401 [00:00<00:00, 12218.63it/s]\u001B[A\n",
      "Captioning-Thumbnails-Images:  42%|████▏     | 2258/5401 [00:00<00:00, 12218.63it/s]\u001B[A\n",
      "Captioning-Thumbnails-Images:  50%|█████     | 2707/5401 [00:00<00:00, 12218.63it/s]\u001B[A\n",
      "Captioning-Thumbnails-Images:  58%|█████▊    | 3156/5401 [00:00<00:00, 12218.63it/s]\u001B[A\n",
      "Captioning-Thumbnails-Images:  67%|██████▋   | 3605/5401 [00:00<00:00, 12218.63it/s]\u001B[A\n",
      "Captioning-Thumbnails-Images:  75%|███████▌  | 4054/5401 [00:00<00:00, 12218.63it/s]\u001B[A\n",
      "Captioning-Thumbnails-Images:  83%|████████▎ | 4503/5401 [00:00<00:00, 12218.63it/s]\u001B[A\n",
      "Captioning-Thumbnails-Images:  92%|█████████▏| 4952/5401 [00:00<00:00, 12218.63it/s]\u001B[A"
     ]
    }
   ],
   "source": [
    "progress = InnerProgressBar(len(temp), \"Captioning-Thumbnails-Images\")\n",
    "print(f\"Total Images: {progress.total}\")\n",
    "temp['new_column'] = ddf.apply(lambda x: wrapper_for_blip_thumbnail(x), axis=1, meta=('str', object)).compute()"
   ],
   "metadata": {
    "collapsed": false
   }
  },
  {
   "cell_type": "code",
   "execution_count": 22,
   "outputs": [
    {
     "data": {
      "text/plain": "             subreddit          file_name  \\\n0             CityPorn  4emw5uldib9a1.jpg   \n3             AmIhotAF  4xyb1vgbjb9a1.jpg   \n4            greentext  3mewbe0wjb9a1.jpg   \n7            sfwpetite  v3ra9g4vrb9a1.jpg   \n10           sfwpetite  ldz8tgpsub9a1.jpg   \n...                ...                ...   \n8592       SFWRedheads  eu6z40qyya9a1.jpg   \n8593  SFWNextDoorGirls        Hzad3q2.jpg   \n8594          CityPorn  dwu7i1dni99a1.jpg   \n8596         greentext        bgho6WK.jpg   \n8599   HotGirlNextDoor  p6yewrl7eb9a1.jpg   \n\n                                                   text  \\\n0                                   New York in the fog   \n3                        Just looking for entertainment   \n4                                   Anon wants Elon cut   \n7                                                Braids   \n10                                      Incredible body   \n...                                                 ...   \n8592  Starting the day with mushroom water in my mus...   \n8593  your new years resolution should be sleeping w...   \n8594                    Ronda's bridge is brutal, Spain   \n8596                        Anon does a little trolling   \n8599                                             (IKTR)   \n\n                                         thumbnail_path  \\\n0     D:\\data\\images\\CityPorn\\thumbnail\\4emw5uldib9a...   \n3     D:\\data\\images\\AmIhotAF\\thumbnail\\4xyb1vgbjb9a...   \n4     D:\\data\\images\\greentext\\thumbnail\\3mewbe0wjb9...   \n7     D:\\data\\images\\sfwpetite\\thumbnail\\v3ra9g4vrb9...   \n10    D:\\data\\images\\sfwpetite\\thumbnail\\ldz8tgpsub9...   \n...                                                 ...   \n8592  D:\\data\\images\\SFWRedheads\\thumbnail\\eu6z40qyy...   \n8593  D:\\data\\images\\SFWNextDoorGirls\\thumbnail\\Hzad...   \n8594  D:\\data\\images\\CityPorn\\thumbnail\\dwu7i1dni99a...   \n8596     D:\\data\\images\\greentext\\thumbnail\\bgho6WK.jpg   \n8599  D:\\data\\images\\HotGirlNextDoor\\thumbnail\\p6yew...   \n\n                                      thumbnail_caption  thumbnail_exists  \\\n0      a city street filled with lots of tall buildings              True   \n3     a beautiful young woman in a black dress posin...              True   \n4     a collage of photos showing a man in a suit an...              True   \n7     a beautiful young woman in a bikini posing for...              True   \n10              a woman in a bikini standing on a beach              True   \n...                                                 ...               ...   \n8592                a woman holding up a bottle of beer              True   \n8593  a young woman in a red dress is talking on the...              True   \n8594     a bridge over a body of water with a waterfall              True   \n8596         a series of photos showing a man in a suit              True   \n8599             a woman in a bikini sitting on a beach              True   \n\n                                        original_image  original_image_exists  \\\n0            D:\\data\\images\\CityPorn\\4emw5uldib9a1.jpg                   True   \n3            D:\\data\\images\\AmIhotAF\\4xyb1vgbjb9a1.jpg                   True   \n4           D:\\data\\images\\greentext\\3mewbe0wjb9a1.jpg                   True   \n7           D:\\data\\images\\sfwpetite\\v3ra9g4vrb9a1.jpg                   True   \n10          D:\\data\\images\\sfwpetite\\ldz8tgpsub9a1.jpg                   True   \n...                                                ...                    ...   \n8592      D:\\data\\images\\SFWRedheads\\eu6z40qyya9a1.jpg                   True   \n8593       D:\\data\\images\\SFWNextDoorGirls\\Hzad3q2.jpg                   True   \n8594         D:\\data\\images\\CityPorn\\dwu7i1dni99a1.jpg                   True   \n8596              D:\\data\\images\\greentext\\bgho6WK.jpg                   True   \n8599  D:\\data\\images\\HotGirlNextDoor\\p6yewrl7eb9a1.jpg                   True   \n\n                                  hash       id  \\\n0     7a8d96e378c15c8ab8440ac311f12c11  1000cej   \n3     e554c1ed7ffa2740436ac082068b2824  1000glf   \n4     1dec3dabb5e46cde01855d06089c287a  1000j1n   \n7     16ca1536c4f6936d3e994df7cb40ab8e  1001ghp   \n10    a0b0ffef01a7abf9de351000026d49f0  1001ssd   \n...                                ...      ...   \n8592  699ab3d71e8b26f7a72ea73bd2a295a0   zzxyrq   \n8593  d159090b1c7b485347cec61c70bc9c54   zzy3sq   \n8594  02ae3631262b2de84b0b24c4275deae9   zzy49v   \n8596  df666b8b2ad543c77b3fdba89becda1a   zzzeoi   \n8599  94dea288ddffb51eb1a786d469b59374   zzzu28   \n\n                                       original_caption  \\\n0      a city street filled with lots of tall buildings   \n3     a beautiful young woman in a black dress posin...   \n4     a collage of photos showing a man in a suit an...   \n7     a beautiful young woman in a bikini posing for...   \n10              a woman in a bikini standing on a beach   \n...                                                 ...   \n8592  A woman in a pink shirt and black pants is tal...   \n8593  A girl in a pink dress is talking to another g...   \n8594  A group of people are standing in front of a l...   \n8596  A man wearing a black shirt and black pants is...   \n8599  A woman in a pink bathing suit is sitting on a...   \n\n                                             new_column  \n0      a city street filled with lots of tall buildings  \n3     a beautiful young woman in a black dress posin...  \n4     a collage of photos showing a man in a suit an...  \n7     a beautiful young woman in a bikini posing for...  \n10              a woman in a bikini standing on a beach  \n...                                                 ...  \n8592                a woman holding up a bottle of beer  \n8593  a young woman in a red dress is talking on the...  \n8594     a bridge over a body of water with a waterfall  \n8596         a series of photos showing a man in a suit  \n8599             a woman in a bikini sitting on a beach  \n\n[5401 rows x 12 columns]",
      "text/html": "<div>\n<style scoped>\n    .dataframe tbody tr th:only-of-type {\n        vertical-align: middle;\n    }\n\n    .dataframe tbody tr th {\n        vertical-align: top;\n    }\n\n    .dataframe thead th {\n        text-align: right;\n    }\n</style>\n<table border=\"1\" class=\"dataframe\">\n  <thead>\n    <tr style=\"text-align: right;\">\n      <th></th>\n      <th>subreddit</th>\n      <th>file_name</th>\n      <th>text</th>\n      <th>thumbnail_path</th>\n      <th>thumbnail_caption</th>\n      <th>thumbnail_exists</th>\n      <th>original_image</th>\n      <th>original_image_exists</th>\n      <th>hash</th>\n      <th>id</th>\n      <th>original_caption</th>\n      <th>new_column</th>\n    </tr>\n  </thead>\n  <tbody>\n    <tr>\n      <th>0</th>\n      <td>CityPorn</td>\n      <td>4emw5uldib9a1.jpg</td>\n      <td>New York in the fog</td>\n      <td>D:\\data\\images\\CityPorn\\thumbnail\\4emw5uldib9a...</td>\n      <td>a city street filled with lots of tall buildings</td>\n      <td>True</td>\n      <td>D:\\data\\images\\CityPorn\\4emw5uldib9a1.jpg</td>\n      <td>True</td>\n      <td>7a8d96e378c15c8ab8440ac311f12c11</td>\n      <td>1000cej</td>\n      <td>a city street filled with lots of tall buildings</td>\n      <td>a city street filled with lots of tall buildings</td>\n    </tr>\n    <tr>\n      <th>3</th>\n      <td>AmIhotAF</td>\n      <td>4xyb1vgbjb9a1.jpg</td>\n      <td>Just looking for entertainment</td>\n      <td>D:\\data\\images\\AmIhotAF\\thumbnail\\4xyb1vgbjb9a...</td>\n      <td>a beautiful young woman in a black dress posin...</td>\n      <td>True</td>\n      <td>D:\\data\\images\\AmIhotAF\\4xyb1vgbjb9a1.jpg</td>\n      <td>True</td>\n      <td>e554c1ed7ffa2740436ac082068b2824</td>\n      <td>1000glf</td>\n      <td>a beautiful young woman in a black dress posin...</td>\n      <td>a beautiful young woman in a black dress posin...</td>\n    </tr>\n    <tr>\n      <th>4</th>\n      <td>greentext</td>\n      <td>3mewbe0wjb9a1.jpg</td>\n      <td>Anon wants Elon cut</td>\n      <td>D:\\data\\images\\greentext\\thumbnail\\3mewbe0wjb9...</td>\n      <td>a collage of photos showing a man in a suit an...</td>\n      <td>True</td>\n      <td>D:\\data\\images\\greentext\\3mewbe0wjb9a1.jpg</td>\n      <td>True</td>\n      <td>1dec3dabb5e46cde01855d06089c287a</td>\n      <td>1000j1n</td>\n      <td>a collage of photos showing a man in a suit an...</td>\n      <td>a collage of photos showing a man in a suit an...</td>\n    </tr>\n    <tr>\n      <th>7</th>\n      <td>sfwpetite</td>\n      <td>v3ra9g4vrb9a1.jpg</td>\n      <td>Braids</td>\n      <td>D:\\data\\images\\sfwpetite\\thumbnail\\v3ra9g4vrb9...</td>\n      <td>a beautiful young woman in a bikini posing for...</td>\n      <td>True</td>\n      <td>D:\\data\\images\\sfwpetite\\v3ra9g4vrb9a1.jpg</td>\n      <td>True</td>\n      <td>16ca1536c4f6936d3e994df7cb40ab8e</td>\n      <td>1001ghp</td>\n      <td>a beautiful young woman in a bikini posing for...</td>\n      <td>a beautiful young woman in a bikini posing for...</td>\n    </tr>\n    <tr>\n      <th>10</th>\n      <td>sfwpetite</td>\n      <td>ldz8tgpsub9a1.jpg</td>\n      <td>Incredible body</td>\n      <td>D:\\data\\images\\sfwpetite\\thumbnail\\ldz8tgpsub9...</td>\n      <td>a woman in a bikini standing on a beach</td>\n      <td>True</td>\n      <td>D:\\data\\images\\sfwpetite\\ldz8tgpsub9a1.jpg</td>\n      <td>True</td>\n      <td>a0b0ffef01a7abf9de351000026d49f0</td>\n      <td>1001ssd</td>\n      <td>a woman in a bikini standing on a beach</td>\n      <td>a woman in a bikini standing on a beach</td>\n    </tr>\n    <tr>\n      <th>...</th>\n      <td>...</td>\n      <td>...</td>\n      <td>...</td>\n      <td>...</td>\n      <td>...</td>\n      <td>...</td>\n      <td>...</td>\n      <td>...</td>\n      <td>...</td>\n      <td>...</td>\n      <td>...</td>\n      <td>...</td>\n    </tr>\n    <tr>\n      <th>8592</th>\n      <td>SFWRedheads</td>\n      <td>eu6z40qyya9a1.jpg</td>\n      <td>Starting the day with mushroom water in my mus...</td>\n      <td>D:\\data\\images\\SFWRedheads\\thumbnail\\eu6z40qyy...</td>\n      <td>a woman holding up a bottle of beer</td>\n      <td>True</td>\n      <td>D:\\data\\images\\SFWRedheads\\eu6z40qyya9a1.jpg</td>\n      <td>True</td>\n      <td>699ab3d71e8b26f7a72ea73bd2a295a0</td>\n      <td>zzxyrq</td>\n      <td>A woman in a pink shirt and black pants is tal...</td>\n      <td>a woman holding up a bottle of beer</td>\n    </tr>\n    <tr>\n      <th>8593</th>\n      <td>SFWNextDoorGirls</td>\n      <td>Hzad3q2.jpg</td>\n      <td>your new years resolution should be sleeping w...</td>\n      <td>D:\\data\\images\\SFWNextDoorGirls\\thumbnail\\Hzad...</td>\n      <td>a young woman in a red dress is talking on the...</td>\n      <td>True</td>\n      <td>D:\\data\\images\\SFWNextDoorGirls\\Hzad3q2.jpg</td>\n      <td>True</td>\n      <td>d159090b1c7b485347cec61c70bc9c54</td>\n      <td>zzy3sq</td>\n      <td>A girl in a pink dress is talking to another g...</td>\n      <td>a young woman in a red dress is talking on the...</td>\n    </tr>\n    <tr>\n      <th>8594</th>\n      <td>CityPorn</td>\n      <td>dwu7i1dni99a1.jpg</td>\n      <td>Ronda's bridge is brutal, Spain</td>\n      <td>D:\\data\\images\\CityPorn\\thumbnail\\dwu7i1dni99a...</td>\n      <td>a bridge over a body of water with a waterfall</td>\n      <td>True</td>\n      <td>D:\\data\\images\\CityPorn\\dwu7i1dni99a1.jpg</td>\n      <td>True</td>\n      <td>02ae3631262b2de84b0b24c4275deae9</td>\n      <td>zzy49v</td>\n      <td>A group of people are standing in front of a l...</td>\n      <td>a bridge over a body of water with a waterfall</td>\n    </tr>\n    <tr>\n      <th>8596</th>\n      <td>greentext</td>\n      <td>bgho6WK.jpg</td>\n      <td>Anon does a little trolling</td>\n      <td>D:\\data\\images\\greentext\\thumbnail\\bgho6WK.jpg</td>\n      <td>a series of photos showing a man in a suit</td>\n      <td>True</td>\n      <td>D:\\data\\images\\greentext\\bgho6WK.jpg</td>\n      <td>True</td>\n      <td>df666b8b2ad543c77b3fdba89becda1a</td>\n      <td>zzzeoi</td>\n      <td>A man wearing a black shirt and black pants is...</td>\n      <td>a series of photos showing a man in a suit</td>\n    </tr>\n    <tr>\n      <th>8599</th>\n      <td>HotGirlNextDoor</td>\n      <td>p6yewrl7eb9a1.jpg</td>\n      <td>(IKTR)</td>\n      <td>D:\\data\\images\\HotGirlNextDoor\\thumbnail\\p6yew...</td>\n      <td>a woman in a bikini sitting on a beach</td>\n      <td>True</td>\n      <td>D:\\data\\images\\HotGirlNextDoor\\p6yewrl7eb9a1.jpg</td>\n      <td>True</td>\n      <td>94dea288ddffb51eb1a786d469b59374</td>\n      <td>zzzu28</td>\n      <td>A woman in a pink bathing suit is sitting on a...</td>\n      <td>a woman in a bikini sitting on a beach</td>\n    </tr>\n  </tbody>\n</table>\n<p>5401 rows × 12 columns</p>\n</div>"
     },
     "metadata": {},
     "output_type": "display_data"
    },
    {
     "data": {
      "text/plain": "             subreddit          file_name  \\\n0             CityPorn  4emw5uldib9a1.jpg   \n3             AmIhotAF  4xyb1vgbjb9a1.jpg   \n4            greentext  3mewbe0wjb9a1.jpg   \n7            sfwpetite  v3ra9g4vrb9a1.jpg   \n10           sfwpetite  ldz8tgpsub9a1.jpg   \n...                ...                ...   \n8592       SFWRedheads  eu6z40qyya9a1.jpg   \n8593  SFWNextDoorGirls        Hzad3q2.jpg   \n8594          CityPorn  dwu7i1dni99a1.jpg   \n8596         greentext        bgho6WK.jpg   \n8599   HotGirlNextDoor  p6yewrl7eb9a1.jpg   \n\n                                                   text  \\\n0                                   New York in the fog   \n3                        Just looking for entertainment   \n4                                   Anon wants Elon cut   \n7                                                Braids   \n10                                      Incredible body   \n...                                                 ...   \n8592  Starting the day with mushroom water in my mus...   \n8593  your new years resolution should be sleeping w...   \n8594                    Ronda's bridge is brutal, Spain   \n8596                        Anon does a little trolling   \n8599                                             (IKTR)   \n\n                                         thumbnail_path  thumbnail_exists  \\\n0     D:\\data\\images\\CityPorn\\thumbnail\\4emw5uldib9a...              True   \n3     D:\\data\\images\\AmIhotAF\\thumbnail\\4xyb1vgbjb9a...              True   \n4     D:\\data\\images\\greentext\\thumbnail\\3mewbe0wjb9...              True   \n7     D:\\data\\images\\sfwpetite\\thumbnail\\v3ra9g4vrb9...              True   \n10    D:\\data\\images\\sfwpetite\\thumbnail\\ldz8tgpsub9...              True   \n...                                                 ...               ...   \n8592  D:\\data\\images\\SFWRedheads\\thumbnail\\eu6z40qyy...              True   \n8593  D:\\data\\images\\SFWNextDoorGirls\\thumbnail\\Hzad...              True   \n8594  D:\\data\\images\\CityPorn\\thumbnail\\dwu7i1dni99a...              True   \n8596     D:\\data\\images\\greentext\\thumbnail\\bgho6WK.jpg              True   \n8599  D:\\data\\images\\HotGirlNextDoor\\thumbnail\\p6yew...              True   \n\n                                        original_image  original_image_exists  \\\n0            D:\\data\\images\\CityPorn\\4emw5uldib9a1.jpg                   True   \n3            D:\\data\\images\\AmIhotAF\\4xyb1vgbjb9a1.jpg                   True   \n4           D:\\data\\images\\greentext\\3mewbe0wjb9a1.jpg                   True   \n7           D:\\data\\images\\sfwpetite\\v3ra9g4vrb9a1.jpg                   True   \n10          D:\\data\\images\\sfwpetite\\ldz8tgpsub9a1.jpg                   True   \n...                                                ...                    ...   \n8592      D:\\data\\images\\SFWRedheads\\eu6z40qyya9a1.jpg                   True   \n8593       D:\\data\\images\\SFWNextDoorGirls\\Hzad3q2.jpg                   True   \n8594         D:\\data\\images\\CityPorn\\dwu7i1dni99a1.jpg                   True   \n8596              D:\\data\\images\\greentext\\bgho6WK.jpg                   True   \n8599  D:\\data\\images\\HotGirlNextDoor\\p6yewrl7eb9a1.jpg                   True   \n\n                                  hash       id  \\\n0     7a8d96e378c15c8ab8440ac311f12c11  1000cej   \n3     e554c1ed7ffa2740436ac082068b2824  1000glf   \n4     1dec3dabb5e46cde01855d06089c287a  1000j1n   \n7     16ca1536c4f6936d3e994df7cb40ab8e  1001ghp   \n10    a0b0ffef01a7abf9de351000026d49f0  1001ssd   \n...                                ...      ...   \n8592  699ab3d71e8b26f7a72ea73bd2a295a0   zzxyrq   \n8593  d159090b1c7b485347cec61c70bc9c54   zzy3sq   \n8594  02ae3631262b2de84b0b24c4275deae9   zzy49v   \n8596  df666b8b2ad543c77b3fdba89becda1a   zzzeoi   \n8599  94dea288ddffb51eb1a786d469b59374   zzzu28   \n\n                                       original_caption  \\\n0      a city street filled with lots of tall buildings   \n3     a beautiful young woman in a black dress posin...   \n4     a collage of photos showing a man in a suit an...   \n7     a beautiful young woman in a bikini posing for...   \n10              a woman in a bikini standing on a beach   \n...                                                 ...   \n8592  A woman in a pink shirt and black pants is tal...   \n8593  A girl in a pink dress is talking to another g...   \n8594  A group of people are standing in front of a l...   \n8596  A man wearing a black shirt and black pants is...   \n8599  A woman in a pink bathing suit is sitting on a...   \n\n                                      thumbnail_caption  \n0      a city street filled with lots of tall buildings  \n3     a beautiful young woman in a black dress posin...  \n4     a collage of photos showing a man in a suit an...  \n7     a beautiful young woman in a bikini posing for...  \n10              a woman in a bikini standing on a beach  \n...                                                 ...  \n8592                a woman holding up a bottle of beer  \n8593  a young woman in a red dress is talking on the...  \n8594     a bridge over a body of water with a waterfall  \n8596         a series of photos showing a man in a suit  \n8599             a woman in a bikini sitting on a beach  \n\n[5401 rows x 11 columns]",
      "text/html": "<div>\n<style scoped>\n    .dataframe tbody tr th:only-of-type {\n        vertical-align: middle;\n    }\n\n    .dataframe tbody tr th {\n        vertical-align: top;\n    }\n\n    .dataframe thead th {\n        text-align: right;\n    }\n</style>\n<table border=\"1\" class=\"dataframe\">\n  <thead>\n    <tr style=\"text-align: right;\">\n      <th></th>\n      <th>subreddit</th>\n      <th>file_name</th>\n      <th>text</th>\n      <th>thumbnail_path</th>\n      <th>thumbnail_exists</th>\n      <th>original_image</th>\n      <th>original_image_exists</th>\n      <th>hash</th>\n      <th>id</th>\n      <th>original_caption</th>\n      <th>thumbnail_caption</th>\n    </tr>\n  </thead>\n  <tbody>\n    <tr>\n      <th>0</th>\n      <td>CityPorn</td>\n      <td>4emw5uldib9a1.jpg</td>\n      <td>New York in the fog</td>\n      <td>D:\\data\\images\\CityPorn\\thumbnail\\4emw5uldib9a...</td>\n      <td>True</td>\n      <td>D:\\data\\images\\CityPorn\\4emw5uldib9a1.jpg</td>\n      <td>True</td>\n      <td>7a8d96e378c15c8ab8440ac311f12c11</td>\n      <td>1000cej</td>\n      <td>a city street filled with lots of tall buildings</td>\n      <td>a city street filled with lots of tall buildings</td>\n    </tr>\n    <tr>\n      <th>3</th>\n      <td>AmIhotAF</td>\n      <td>4xyb1vgbjb9a1.jpg</td>\n      <td>Just looking for entertainment</td>\n      <td>D:\\data\\images\\AmIhotAF\\thumbnail\\4xyb1vgbjb9a...</td>\n      <td>True</td>\n      <td>D:\\data\\images\\AmIhotAF\\4xyb1vgbjb9a1.jpg</td>\n      <td>True</td>\n      <td>e554c1ed7ffa2740436ac082068b2824</td>\n      <td>1000glf</td>\n      <td>a beautiful young woman in a black dress posin...</td>\n      <td>a beautiful young woman in a black dress posin...</td>\n    </tr>\n    <tr>\n      <th>4</th>\n      <td>greentext</td>\n      <td>3mewbe0wjb9a1.jpg</td>\n      <td>Anon wants Elon cut</td>\n      <td>D:\\data\\images\\greentext\\thumbnail\\3mewbe0wjb9...</td>\n      <td>True</td>\n      <td>D:\\data\\images\\greentext\\3mewbe0wjb9a1.jpg</td>\n      <td>True</td>\n      <td>1dec3dabb5e46cde01855d06089c287a</td>\n      <td>1000j1n</td>\n      <td>a collage of photos showing a man in a suit an...</td>\n      <td>a collage of photos showing a man in a suit an...</td>\n    </tr>\n    <tr>\n      <th>7</th>\n      <td>sfwpetite</td>\n      <td>v3ra9g4vrb9a1.jpg</td>\n      <td>Braids</td>\n      <td>D:\\data\\images\\sfwpetite\\thumbnail\\v3ra9g4vrb9...</td>\n      <td>True</td>\n      <td>D:\\data\\images\\sfwpetite\\v3ra9g4vrb9a1.jpg</td>\n      <td>True</td>\n      <td>16ca1536c4f6936d3e994df7cb40ab8e</td>\n      <td>1001ghp</td>\n      <td>a beautiful young woman in a bikini posing for...</td>\n      <td>a beautiful young woman in a bikini posing for...</td>\n    </tr>\n    <tr>\n      <th>10</th>\n      <td>sfwpetite</td>\n      <td>ldz8tgpsub9a1.jpg</td>\n      <td>Incredible body</td>\n      <td>D:\\data\\images\\sfwpetite\\thumbnail\\ldz8tgpsub9...</td>\n      <td>True</td>\n      <td>D:\\data\\images\\sfwpetite\\ldz8tgpsub9a1.jpg</td>\n      <td>True</td>\n      <td>a0b0ffef01a7abf9de351000026d49f0</td>\n      <td>1001ssd</td>\n      <td>a woman in a bikini standing on a beach</td>\n      <td>a woman in a bikini standing on a beach</td>\n    </tr>\n    <tr>\n      <th>...</th>\n      <td>...</td>\n      <td>...</td>\n      <td>...</td>\n      <td>...</td>\n      <td>...</td>\n      <td>...</td>\n      <td>...</td>\n      <td>...</td>\n      <td>...</td>\n      <td>...</td>\n      <td>...</td>\n    </tr>\n    <tr>\n      <th>8592</th>\n      <td>SFWRedheads</td>\n      <td>eu6z40qyya9a1.jpg</td>\n      <td>Starting the day with mushroom water in my mus...</td>\n      <td>D:\\data\\images\\SFWRedheads\\thumbnail\\eu6z40qyy...</td>\n      <td>True</td>\n      <td>D:\\data\\images\\SFWRedheads\\eu6z40qyya9a1.jpg</td>\n      <td>True</td>\n      <td>699ab3d71e8b26f7a72ea73bd2a295a0</td>\n      <td>zzxyrq</td>\n      <td>A woman in a pink shirt and black pants is tal...</td>\n      <td>a woman holding up a bottle of beer</td>\n    </tr>\n    <tr>\n      <th>8593</th>\n      <td>SFWNextDoorGirls</td>\n      <td>Hzad3q2.jpg</td>\n      <td>your new years resolution should be sleeping w...</td>\n      <td>D:\\data\\images\\SFWNextDoorGirls\\thumbnail\\Hzad...</td>\n      <td>True</td>\n      <td>D:\\data\\images\\SFWNextDoorGirls\\Hzad3q2.jpg</td>\n      <td>True</td>\n      <td>d159090b1c7b485347cec61c70bc9c54</td>\n      <td>zzy3sq</td>\n      <td>A girl in a pink dress is talking to another g...</td>\n      <td>a young woman in a red dress is talking on the...</td>\n    </tr>\n    <tr>\n      <th>8594</th>\n      <td>CityPorn</td>\n      <td>dwu7i1dni99a1.jpg</td>\n      <td>Ronda's bridge is brutal, Spain</td>\n      <td>D:\\data\\images\\CityPorn\\thumbnail\\dwu7i1dni99a...</td>\n      <td>True</td>\n      <td>D:\\data\\images\\CityPorn\\dwu7i1dni99a1.jpg</td>\n      <td>True</td>\n      <td>02ae3631262b2de84b0b24c4275deae9</td>\n      <td>zzy49v</td>\n      <td>A group of people are standing in front of a l...</td>\n      <td>a bridge over a body of water with a waterfall</td>\n    </tr>\n    <tr>\n      <th>8596</th>\n      <td>greentext</td>\n      <td>bgho6WK.jpg</td>\n      <td>Anon does a little trolling</td>\n      <td>D:\\data\\images\\greentext\\thumbnail\\bgho6WK.jpg</td>\n      <td>True</td>\n      <td>D:\\data\\images\\greentext\\bgho6WK.jpg</td>\n      <td>True</td>\n      <td>df666b8b2ad543c77b3fdba89becda1a</td>\n      <td>zzzeoi</td>\n      <td>A man wearing a black shirt and black pants is...</td>\n      <td>a series of photos showing a man in a suit</td>\n    </tr>\n    <tr>\n      <th>8599</th>\n      <td>HotGirlNextDoor</td>\n      <td>p6yewrl7eb9a1.jpg</td>\n      <td>(IKTR)</td>\n      <td>D:\\data\\images\\HotGirlNextDoor\\thumbnail\\p6yew...</td>\n      <td>True</td>\n      <td>D:\\data\\images\\HotGirlNextDoor\\p6yewrl7eb9a1.jpg</td>\n      <td>True</td>\n      <td>94dea288ddffb51eb1a786d469b59374</td>\n      <td>zzzu28</td>\n      <td>A woman in a pink bathing suit is sitting on a...</td>\n      <td>a woman in a bikini sitting on a beach</td>\n    </tr>\n  </tbody>\n</table>\n<p>5401 rows × 11 columns</p>\n</div>"
     },
     "metadata": {},
     "output_type": "display_data"
    }
   ],
   "source": [
    "print(\"=== Before Drop ===\")\n",
    "display(temp)\n",
    "temp.rename(columns={\"thumbnail_caption\": \"thumbnail_caption_old\"}, inplace=True)\n",
    "temp.rename(columns={\"new_column\": \"thumbnail_caption\"}, inplace=True)\n",
    "temp.drop(columns=[\"thumbnail_caption_old\"], inplace=True)\n",
    "print(\"=== After Drop ===\")\n",
    "display(temp)"
   ],
   "metadata": {
    "collapsed": false
   }
  },
  {
   "cell_type": "code",
   "execution_count": 23,
   "outputs": [
    {
     "name": "stdout",
     "output_type": "stream",
     "text": [
      "Saving to parquet /data/parquet/processed_data.parquet with Updated Thumbnail Captions\n"
     ]
    },
    {
     "data": {
      "text/plain": "             subreddit          file_name  \\\n0             CityPorn  4emw5uldib9a1.jpg   \n3             AmIhotAF  4xyb1vgbjb9a1.jpg   \n4            greentext  3mewbe0wjb9a1.jpg   \n7            sfwpetite  v3ra9g4vrb9a1.jpg   \n10           sfwpetite  ldz8tgpsub9a1.jpg   \n...                ...                ...   \n8592       SFWRedheads  eu6z40qyya9a1.jpg   \n8593  SFWNextDoorGirls        Hzad3q2.jpg   \n8594          CityPorn  dwu7i1dni99a1.jpg   \n8596         greentext        bgho6WK.jpg   \n8599   HotGirlNextDoor  p6yewrl7eb9a1.jpg   \n\n                                                   text  \\\n0                                   New York in the fog   \n3                        Just looking for entertainment   \n4                                   Anon wants Elon cut   \n7                                                Braids   \n10                                      Incredible body   \n...                                                 ...   \n8592  Starting the day with mushroom water in my mus...   \n8593  your new years resolution should be sleeping w...   \n8594                    Ronda's bridge is brutal, Spain   \n8596                        Anon does a little trolling   \n8599                                             (IKTR)   \n\n                                         thumbnail_path  thumbnail_exists  \\\n0     D:\\data\\images\\CityPorn\\thumbnail\\4emw5uldib9a...              True   \n3     D:\\data\\images\\AmIhotAF\\thumbnail\\4xyb1vgbjb9a...              True   \n4     D:\\data\\images\\greentext\\thumbnail\\3mewbe0wjb9...              True   \n7     D:\\data\\images\\sfwpetite\\thumbnail\\v3ra9g4vrb9...              True   \n10    D:\\data\\images\\sfwpetite\\thumbnail\\ldz8tgpsub9...              True   \n...                                                 ...               ...   \n8592  D:\\data\\images\\SFWRedheads\\thumbnail\\eu6z40qyy...              True   \n8593  D:\\data\\images\\SFWNextDoorGirls\\thumbnail\\Hzad...              True   \n8594  D:\\data\\images\\CityPorn\\thumbnail\\dwu7i1dni99a...              True   \n8596     D:\\data\\images\\greentext\\thumbnail\\bgho6WK.jpg              True   \n8599  D:\\data\\images\\HotGirlNextDoor\\thumbnail\\p6yew...              True   \n\n                                        original_image  original_image_exists  \\\n0            D:\\data\\images\\CityPorn\\4emw5uldib9a1.jpg                   True   \n3            D:\\data\\images\\AmIhotAF\\4xyb1vgbjb9a1.jpg                   True   \n4           D:\\data\\images\\greentext\\3mewbe0wjb9a1.jpg                   True   \n7           D:\\data\\images\\sfwpetite\\v3ra9g4vrb9a1.jpg                   True   \n10          D:\\data\\images\\sfwpetite\\ldz8tgpsub9a1.jpg                   True   \n...                                                ...                    ...   \n8592      D:\\data\\images\\SFWRedheads\\eu6z40qyya9a1.jpg                   True   \n8593       D:\\data\\images\\SFWNextDoorGirls\\Hzad3q2.jpg                   True   \n8594         D:\\data\\images\\CityPorn\\dwu7i1dni99a1.jpg                   True   \n8596              D:\\data\\images\\greentext\\bgho6WK.jpg                   True   \n8599  D:\\data\\images\\HotGirlNextDoor\\p6yewrl7eb9a1.jpg                   True   \n\n                                  hash       id  \\\n0     7a8d96e378c15c8ab8440ac311f12c11  1000cej   \n3     e554c1ed7ffa2740436ac082068b2824  1000glf   \n4     1dec3dabb5e46cde01855d06089c287a  1000j1n   \n7     16ca1536c4f6936d3e994df7cb40ab8e  1001ghp   \n10    a0b0ffef01a7abf9de351000026d49f0  1001ssd   \n...                                ...      ...   \n8592  699ab3d71e8b26f7a72ea73bd2a295a0   zzxyrq   \n8593  d159090b1c7b485347cec61c70bc9c54   zzy3sq   \n8594  02ae3631262b2de84b0b24c4275deae9   zzy49v   \n8596  df666b8b2ad543c77b3fdba89becda1a   zzzeoi   \n8599  94dea288ddffb51eb1a786d469b59374   zzzu28   \n\n                                       original_caption  \\\n0      a city street filled with lots of tall buildings   \n3     a beautiful young woman in a black dress posin...   \n4     a collage of photos showing a man in a suit an...   \n7     a beautiful young woman in a bikini posing for...   \n10              a woman in a bikini standing on a beach   \n...                                                 ...   \n8592  A woman in a pink shirt and black pants is tal...   \n8593  A girl in a pink dress is talking to another g...   \n8594  A group of people are standing in front of a l...   \n8596  A man wearing a black shirt and black pants is...   \n8599  A woman in a pink bathing suit is sitting on a...   \n\n                                      thumbnail_caption  \n0      a city street filled with lots of tall buildings  \n3     a beautiful young woman in a black dress posin...  \n4     a collage of photos showing a man in a suit an...  \n7     a beautiful young woman in a bikini posing for...  \n10              a woman in a bikini standing on a beach  \n...                                                 ...  \n8592                a woman holding up a bottle of beer  \n8593  a young woman in a red dress is talking on the...  \n8594     a bridge over a body of water with a waterfall  \n8596         a series of photos showing a man in a suit  \n8599             a woman in a bikini sitting on a beach  \n\n[5401 rows x 11 columns]",
      "text/html": "<div>\n<style scoped>\n    .dataframe tbody tr th:only-of-type {\n        vertical-align: middle;\n    }\n\n    .dataframe tbody tr th {\n        vertical-align: top;\n    }\n\n    .dataframe thead th {\n        text-align: right;\n    }\n</style>\n<table border=\"1\" class=\"dataframe\">\n  <thead>\n    <tr style=\"text-align: right;\">\n      <th></th>\n      <th>subreddit</th>\n      <th>file_name</th>\n      <th>text</th>\n      <th>thumbnail_path</th>\n      <th>thumbnail_exists</th>\n      <th>original_image</th>\n      <th>original_image_exists</th>\n      <th>hash</th>\n      <th>id</th>\n      <th>original_caption</th>\n      <th>thumbnail_caption</th>\n    </tr>\n  </thead>\n  <tbody>\n    <tr>\n      <th>0</th>\n      <td>CityPorn</td>\n      <td>4emw5uldib9a1.jpg</td>\n      <td>New York in the fog</td>\n      <td>D:\\data\\images\\CityPorn\\thumbnail\\4emw5uldib9a...</td>\n      <td>True</td>\n      <td>D:\\data\\images\\CityPorn\\4emw5uldib9a1.jpg</td>\n      <td>True</td>\n      <td>7a8d96e378c15c8ab8440ac311f12c11</td>\n      <td>1000cej</td>\n      <td>a city street filled with lots of tall buildings</td>\n      <td>a city street filled with lots of tall buildings</td>\n    </tr>\n    <tr>\n      <th>3</th>\n      <td>AmIhotAF</td>\n      <td>4xyb1vgbjb9a1.jpg</td>\n      <td>Just looking for entertainment</td>\n      <td>D:\\data\\images\\AmIhotAF\\thumbnail\\4xyb1vgbjb9a...</td>\n      <td>True</td>\n      <td>D:\\data\\images\\AmIhotAF\\4xyb1vgbjb9a1.jpg</td>\n      <td>True</td>\n      <td>e554c1ed7ffa2740436ac082068b2824</td>\n      <td>1000glf</td>\n      <td>a beautiful young woman in a black dress posin...</td>\n      <td>a beautiful young woman in a black dress posin...</td>\n    </tr>\n    <tr>\n      <th>4</th>\n      <td>greentext</td>\n      <td>3mewbe0wjb9a1.jpg</td>\n      <td>Anon wants Elon cut</td>\n      <td>D:\\data\\images\\greentext\\thumbnail\\3mewbe0wjb9...</td>\n      <td>True</td>\n      <td>D:\\data\\images\\greentext\\3mewbe0wjb9a1.jpg</td>\n      <td>True</td>\n      <td>1dec3dabb5e46cde01855d06089c287a</td>\n      <td>1000j1n</td>\n      <td>a collage of photos showing a man in a suit an...</td>\n      <td>a collage of photos showing a man in a suit an...</td>\n    </tr>\n    <tr>\n      <th>7</th>\n      <td>sfwpetite</td>\n      <td>v3ra9g4vrb9a1.jpg</td>\n      <td>Braids</td>\n      <td>D:\\data\\images\\sfwpetite\\thumbnail\\v3ra9g4vrb9...</td>\n      <td>True</td>\n      <td>D:\\data\\images\\sfwpetite\\v3ra9g4vrb9a1.jpg</td>\n      <td>True</td>\n      <td>16ca1536c4f6936d3e994df7cb40ab8e</td>\n      <td>1001ghp</td>\n      <td>a beautiful young woman in a bikini posing for...</td>\n      <td>a beautiful young woman in a bikini posing for...</td>\n    </tr>\n    <tr>\n      <th>10</th>\n      <td>sfwpetite</td>\n      <td>ldz8tgpsub9a1.jpg</td>\n      <td>Incredible body</td>\n      <td>D:\\data\\images\\sfwpetite\\thumbnail\\ldz8tgpsub9...</td>\n      <td>True</td>\n      <td>D:\\data\\images\\sfwpetite\\ldz8tgpsub9a1.jpg</td>\n      <td>True</td>\n      <td>a0b0ffef01a7abf9de351000026d49f0</td>\n      <td>1001ssd</td>\n      <td>a woman in a bikini standing on a beach</td>\n      <td>a woman in a bikini standing on a beach</td>\n    </tr>\n    <tr>\n      <th>...</th>\n      <td>...</td>\n      <td>...</td>\n      <td>...</td>\n      <td>...</td>\n      <td>...</td>\n      <td>...</td>\n      <td>...</td>\n      <td>...</td>\n      <td>...</td>\n      <td>...</td>\n      <td>...</td>\n    </tr>\n    <tr>\n      <th>8592</th>\n      <td>SFWRedheads</td>\n      <td>eu6z40qyya9a1.jpg</td>\n      <td>Starting the day with mushroom water in my mus...</td>\n      <td>D:\\data\\images\\SFWRedheads\\thumbnail\\eu6z40qyy...</td>\n      <td>True</td>\n      <td>D:\\data\\images\\SFWRedheads\\eu6z40qyya9a1.jpg</td>\n      <td>True</td>\n      <td>699ab3d71e8b26f7a72ea73bd2a295a0</td>\n      <td>zzxyrq</td>\n      <td>A woman in a pink shirt and black pants is tal...</td>\n      <td>a woman holding up a bottle of beer</td>\n    </tr>\n    <tr>\n      <th>8593</th>\n      <td>SFWNextDoorGirls</td>\n      <td>Hzad3q2.jpg</td>\n      <td>your new years resolution should be sleeping w...</td>\n      <td>D:\\data\\images\\SFWNextDoorGirls\\thumbnail\\Hzad...</td>\n      <td>True</td>\n      <td>D:\\data\\images\\SFWNextDoorGirls\\Hzad3q2.jpg</td>\n      <td>True</td>\n      <td>d159090b1c7b485347cec61c70bc9c54</td>\n      <td>zzy3sq</td>\n      <td>A girl in a pink dress is talking to another g...</td>\n      <td>a young woman in a red dress is talking on the...</td>\n    </tr>\n    <tr>\n      <th>8594</th>\n      <td>CityPorn</td>\n      <td>dwu7i1dni99a1.jpg</td>\n      <td>Ronda's bridge is brutal, Spain</td>\n      <td>D:\\data\\images\\CityPorn\\thumbnail\\dwu7i1dni99a...</td>\n      <td>True</td>\n      <td>D:\\data\\images\\CityPorn\\dwu7i1dni99a1.jpg</td>\n      <td>True</td>\n      <td>02ae3631262b2de84b0b24c4275deae9</td>\n      <td>zzy49v</td>\n      <td>A group of people are standing in front of a l...</td>\n      <td>a bridge over a body of water with a waterfall</td>\n    </tr>\n    <tr>\n      <th>8596</th>\n      <td>greentext</td>\n      <td>bgho6WK.jpg</td>\n      <td>Anon does a little trolling</td>\n      <td>D:\\data\\images\\greentext\\thumbnail\\bgho6WK.jpg</td>\n      <td>True</td>\n      <td>D:\\data\\images\\greentext\\bgho6WK.jpg</td>\n      <td>True</td>\n      <td>df666b8b2ad543c77b3fdba89becda1a</td>\n      <td>zzzeoi</td>\n      <td>A man wearing a black shirt and black pants is...</td>\n      <td>a series of photos showing a man in a suit</td>\n    </tr>\n    <tr>\n      <th>8599</th>\n      <td>HotGirlNextDoor</td>\n      <td>p6yewrl7eb9a1.jpg</td>\n      <td>(IKTR)</td>\n      <td>D:\\data\\images\\HotGirlNextDoor\\thumbnail\\p6yew...</td>\n      <td>True</td>\n      <td>D:\\data\\images\\HotGirlNextDoor\\p6yewrl7eb9a1.jpg</td>\n      <td>True</td>\n      <td>94dea288ddffb51eb1a786d469b59374</td>\n      <td>zzzu28</td>\n      <td>A woman in a pink bathing suit is sitting on a...</td>\n      <td>a woman in a bikini sitting on a beach</td>\n    </tr>\n  </tbody>\n</table>\n<p>5401 rows × 11 columns</p>\n</div>"
     },
     "execution_count": 23,
     "metadata": {},
     "output_type": "execute_result"
    }
   ],
   "source": [
    "print(f\"Saving to parquet {parquet_process_data_path} with Updated Thumbnail Captions\")\n",
    "temp.to_parquet(parquet_process_data_path)\n",
    "del temp"
   ],
   "metadata": {
    "collapsed": false
   }
  },
  {
   "cell_type": "code",
   "execution_count": 24,
   "outputs": [
    {
     "name": "stdout",
     "output_type": "stream",
     "text": [
      "Reading from parquet /data/parquet/processed_data.parquet with Updated Thumbnail Captions\n"
     ]
    },
    {
     "data": {
      "text/plain": "             subreddit          file_name  \\\n0             CityPorn  4emw5uldib9a1.jpg   \n3             AmIhotAF  4xyb1vgbjb9a1.jpg   \n4            greentext  3mewbe0wjb9a1.jpg   \n7            sfwpetite  v3ra9g4vrb9a1.jpg   \n10           sfwpetite  ldz8tgpsub9a1.jpg   \n...                ...                ...   \n8592       SFWRedheads  eu6z40qyya9a1.jpg   \n8593  SFWNextDoorGirls        Hzad3q2.jpg   \n8594          CityPorn  dwu7i1dni99a1.jpg   \n8596         greentext        bgho6WK.jpg   \n8599   HotGirlNextDoor  p6yewrl7eb9a1.jpg   \n\n                                                   text  \\\n0                                   New York in the fog   \n3                        Just looking for entertainment   \n4                                   Anon wants Elon cut   \n7                                                Braids   \n10                                      Incredible body   \n...                                                 ...   \n8592  Starting the day with mushroom water in my mus...   \n8593  your new years resolution should be sleeping w...   \n8594                    Ronda's bridge is brutal, Spain   \n8596                        Anon does a little trolling   \n8599                                             (IKTR)   \n\n                                         thumbnail_path  thumbnail_exists  \\\n0     D:\\data\\images\\CityPorn\\thumbnail\\4emw5uldib9a...              True   \n3     D:\\data\\images\\AmIhotAF\\thumbnail\\4xyb1vgbjb9a...              True   \n4     D:\\data\\images\\greentext\\thumbnail\\3mewbe0wjb9...              True   \n7     D:\\data\\images\\sfwpetite\\thumbnail\\v3ra9g4vrb9...              True   \n10    D:\\data\\images\\sfwpetite\\thumbnail\\ldz8tgpsub9...              True   \n...                                                 ...               ...   \n8592  D:\\data\\images\\SFWRedheads\\thumbnail\\eu6z40qyy...              True   \n8593  D:\\data\\images\\SFWNextDoorGirls\\thumbnail\\Hzad...              True   \n8594  D:\\data\\images\\CityPorn\\thumbnail\\dwu7i1dni99a...              True   \n8596     D:\\data\\images\\greentext\\thumbnail\\bgho6WK.jpg              True   \n8599  D:\\data\\images\\HotGirlNextDoor\\thumbnail\\p6yew...              True   \n\n                                        original_image  original_image_exists  \\\n0            D:\\data\\images\\CityPorn\\4emw5uldib9a1.jpg                   True   \n3            D:\\data\\images\\AmIhotAF\\4xyb1vgbjb9a1.jpg                   True   \n4           D:\\data\\images\\greentext\\3mewbe0wjb9a1.jpg                   True   \n7           D:\\data\\images\\sfwpetite\\v3ra9g4vrb9a1.jpg                   True   \n10          D:\\data\\images\\sfwpetite\\ldz8tgpsub9a1.jpg                   True   \n...                                                ...                    ...   \n8592      D:\\data\\images\\SFWRedheads\\eu6z40qyya9a1.jpg                   True   \n8593       D:\\data\\images\\SFWNextDoorGirls\\Hzad3q2.jpg                   True   \n8594         D:\\data\\images\\CityPorn\\dwu7i1dni99a1.jpg                   True   \n8596              D:\\data\\images\\greentext\\bgho6WK.jpg                   True   \n8599  D:\\data\\images\\HotGirlNextDoor\\p6yewrl7eb9a1.jpg                   True   \n\n                                  hash       id  \\\n0     7a8d96e378c15c8ab8440ac311f12c11  1000cej   \n3     e554c1ed7ffa2740436ac082068b2824  1000glf   \n4     1dec3dabb5e46cde01855d06089c287a  1000j1n   \n7     16ca1536c4f6936d3e994df7cb40ab8e  1001ghp   \n10    a0b0ffef01a7abf9de351000026d49f0  1001ssd   \n...                                ...      ...   \n8592  699ab3d71e8b26f7a72ea73bd2a295a0   zzxyrq   \n8593  d159090b1c7b485347cec61c70bc9c54   zzy3sq   \n8594  02ae3631262b2de84b0b24c4275deae9   zzy49v   \n8596  df666b8b2ad543c77b3fdba89becda1a   zzzeoi   \n8599  94dea288ddffb51eb1a786d469b59374   zzzu28   \n\n                                       original_caption  \\\n0      a city street filled with lots of tall buildings   \n3     a beautiful young woman in a black dress posin...   \n4     a collage of photos showing a man in a suit an...   \n7     a beautiful young woman in a bikini posing for...   \n10              a woman in a bikini standing on a beach   \n...                                                 ...   \n8592  A woman in a pink shirt and black pants is tal...   \n8593  A girl in a pink dress is talking to another g...   \n8594  A group of people are standing in front of a l...   \n8596  A man wearing a black shirt and black pants is...   \n8599  A woman in a pink bathing suit is sitting on a...   \n\n                                      thumbnail_caption  \n0      a city street filled with lots of tall buildings  \n3     a beautiful young woman in a black dress posin...  \n4     a collage of photos showing a man in a suit an...  \n7     a beautiful young woman in a bikini posing for...  \n10              a woman in a bikini standing on a beach  \n...                                                 ...  \n8592                a woman holding up a bottle of beer  \n8593  a young woman in a red dress is talking on the...  \n8594     a bridge over a body of water with a waterfall  \n8596         a series of photos showing a man in a suit  \n8599             a woman in a bikini sitting on a beach  \n\n[5401 rows x 11 columns]",
      "text/html": "<div>\n<style scoped>\n    .dataframe tbody tr th:only-of-type {\n        vertical-align: middle;\n    }\n\n    .dataframe tbody tr th {\n        vertical-align: top;\n    }\n\n    .dataframe thead th {\n        text-align: right;\n    }\n</style>\n<table border=\"1\" class=\"dataframe\">\n  <thead>\n    <tr style=\"text-align: right;\">\n      <th></th>\n      <th>subreddit</th>\n      <th>file_name</th>\n      <th>text</th>\n      <th>thumbnail_path</th>\n      <th>thumbnail_exists</th>\n      <th>original_image</th>\n      <th>original_image_exists</th>\n      <th>hash</th>\n      <th>id</th>\n      <th>original_caption</th>\n      <th>thumbnail_caption</th>\n    </tr>\n  </thead>\n  <tbody>\n    <tr>\n      <th>0</th>\n      <td>CityPorn</td>\n      <td>4emw5uldib9a1.jpg</td>\n      <td>New York in the fog</td>\n      <td>D:\\data\\images\\CityPorn\\thumbnail\\4emw5uldib9a...</td>\n      <td>True</td>\n      <td>D:\\data\\images\\CityPorn\\4emw5uldib9a1.jpg</td>\n      <td>True</td>\n      <td>7a8d96e378c15c8ab8440ac311f12c11</td>\n      <td>1000cej</td>\n      <td>a city street filled with lots of tall buildings</td>\n      <td>a city street filled with lots of tall buildings</td>\n    </tr>\n    <tr>\n      <th>3</th>\n      <td>AmIhotAF</td>\n      <td>4xyb1vgbjb9a1.jpg</td>\n      <td>Just looking for entertainment</td>\n      <td>D:\\data\\images\\AmIhotAF\\thumbnail\\4xyb1vgbjb9a...</td>\n      <td>True</td>\n      <td>D:\\data\\images\\AmIhotAF\\4xyb1vgbjb9a1.jpg</td>\n      <td>True</td>\n      <td>e554c1ed7ffa2740436ac082068b2824</td>\n      <td>1000glf</td>\n      <td>a beautiful young woman in a black dress posin...</td>\n      <td>a beautiful young woman in a black dress posin...</td>\n    </tr>\n    <tr>\n      <th>4</th>\n      <td>greentext</td>\n      <td>3mewbe0wjb9a1.jpg</td>\n      <td>Anon wants Elon cut</td>\n      <td>D:\\data\\images\\greentext\\thumbnail\\3mewbe0wjb9...</td>\n      <td>True</td>\n      <td>D:\\data\\images\\greentext\\3mewbe0wjb9a1.jpg</td>\n      <td>True</td>\n      <td>1dec3dabb5e46cde01855d06089c287a</td>\n      <td>1000j1n</td>\n      <td>a collage of photos showing a man in a suit an...</td>\n      <td>a collage of photos showing a man in a suit an...</td>\n    </tr>\n    <tr>\n      <th>7</th>\n      <td>sfwpetite</td>\n      <td>v3ra9g4vrb9a1.jpg</td>\n      <td>Braids</td>\n      <td>D:\\data\\images\\sfwpetite\\thumbnail\\v3ra9g4vrb9...</td>\n      <td>True</td>\n      <td>D:\\data\\images\\sfwpetite\\v3ra9g4vrb9a1.jpg</td>\n      <td>True</td>\n      <td>16ca1536c4f6936d3e994df7cb40ab8e</td>\n      <td>1001ghp</td>\n      <td>a beautiful young woman in a bikini posing for...</td>\n      <td>a beautiful young woman in a bikini posing for...</td>\n    </tr>\n    <tr>\n      <th>10</th>\n      <td>sfwpetite</td>\n      <td>ldz8tgpsub9a1.jpg</td>\n      <td>Incredible body</td>\n      <td>D:\\data\\images\\sfwpetite\\thumbnail\\ldz8tgpsub9...</td>\n      <td>True</td>\n      <td>D:\\data\\images\\sfwpetite\\ldz8tgpsub9a1.jpg</td>\n      <td>True</td>\n      <td>a0b0ffef01a7abf9de351000026d49f0</td>\n      <td>1001ssd</td>\n      <td>a woman in a bikini standing on a beach</td>\n      <td>a woman in a bikini standing on a beach</td>\n    </tr>\n    <tr>\n      <th>...</th>\n      <td>...</td>\n      <td>...</td>\n      <td>...</td>\n      <td>...</td>\n      <td>...</td>\n      <td>...</td>\n      <td>...</td>\n      <td>...</td>\n      <td>...</td>\n      <td>...</td>\n      <td>...</td>\n    </tr>\n    <tr>\n      <th>8592</th>\n      <td>SFWRedheads</td>\n      <td>eu6z40qyya9a1.jpg</td>\n      <td>Starting the day with mushroom water in my mus...</td>\n      <td>D:\\data\\images\\SFWRedheads\\thumbnail\\eu6z40qyy...</td>\n      <td>True</td>\n      <td>D:\\data\\images\\SFWRedheads\\eu6z40qyya9a1.jpg</td>\n      <td>True</td>\n      <td>699ab3d71e8b26f7a72ea73bd2a295a0</td>\n      <td>zzxyrq</td>\n      <td>A woman in a pink shirt and black pants is tal...</td>\n      <td>a woman holding up a bottle of beer</td>\n    </tr>\n    <tr>\n      <th>8593</th>\n      <td>SFWNextDoorGirls</td>\n      <td>Hzad3q2.jpg</td>\n      <td>your new years resolution should be sleeping w...</td>\n      <td>D:\\data\\images\\SFWNextDoorGirls\\thumbnail\\Hzad...</td>\n      <td>True</td>\n      <td>D:\\data\\images\\SFWNextDoorGirls\\Hzad3q2.jpg</td>\n      <td>True</td>\n      <td>d159090b1c7b485347cec61c70bc9c54</td>\n      <td>zzy3sq</td>\n      <td>A girl in a pink dress is talking to another g...</td>\n      <td>a young woman in a red dress is talking on the...</td>\n    </tr>\n    <tr>\n      <th>8594</th>\n      <td>CityPorn</td>\n      <td>dwu7i1dni99a1.jpg</td>\n      <td>Ronda's bridge is brutal, Spain</td>\n      <td>D:\\data\\images\\CityPorn\\thumbnail\\dwu7i1dni99a...</td>\n      <td>True</td>\n      <td>D:\\data\\images\\CityPorn\\dwu7i1dni99a1.jpg</td>\n      <td>True</td>\n      <td>02ae3631262b2de84b0b24c4275deae9</td>\n      <td>zzy49v</td>\n      <td>A group of people are standing in front of a l...</td>\n      <td>a bridge over a body of water with a waterfall</td>\n    </tr>\n    <tr>\n      <th>8596</th>\n      <td>greentext</td>\n      <td>bgho6WK.jpg</td>\n      <td>Anon does a little trolling</td>\n      <td>D:\\data\\images\\greentext\\thumbnail\\bgho6WK.jpg</td>\n      <td>True</td>\n      <td>D:\\data\\images\\greentext\\bgho6WK.jpg</td>\n      <td>True</td>\n      <td>df666b8b2ad543c77b3fdba89becda1a</td>\n      <td>zzzeoi</td>\n      <td>A man wearing a black shirt and black pants is...</td>\n      <td>a series of photos showing a man in a suit</td>\n    </tr>\n    <tr>\n      <th>8599</th>\n      <td>HotGirlNextDoor</td>\n      <td>p6yewrl7eb9a1.jpg</td>\n      <td>(IKTR)</td>\n      <td>D:\\data\\images\\HotGirlNextDoor\\thumbnail\\p6yew...</td>\n      <td>True</td>\n      <td>D:\\data\\images\\HotGirlNextDoor\\p6yewrl7eb9a1.jpg</td>\n      <td>True</td>\n      <td>94dea288ddffb51eb1a786d469b59374</td>\n      <td>zzzu28</td>\n      <td>A woman in a pink bathing suit is sitting on a...</td>\n      <td>a woman in a bikini sitting on a beach</td>\n    </tr>\n  </tbody>\n</table>\n<p>5401 rows × 11 columns</p>\n</div>"
     },
     "metadata": {},
     "output_type": "display_data"
    }
   ],
   "source": [
    "print(f\"Reading from parquet {parquet_process_data_path} with Updated Thumbnail Captions\")\n",
    "processed_with_captions_more = pandas.read_parquet(parquet_process_data_path)\n",
    "display(processed_with_captions_more)"
   ],
   "metadata": {
    "collapsed": false
   }
  },
  {
   "cell_type": "code",
   "execution_count": 25,
   "outputs": [
    {
     "name": "stdout",
     "output_type": "stream",
     "text": [
      "Filtering Subreddits with Images By original_caption\n"
     ]
    },
    {
     "data": {
      "text/plain": "           subreddit  count\n3          EarthPorn    929\n7        SFWRedheads    883\n2           CityPorn    846\n4              Faces    742\n6   SFWNextDoorGirls    538\n9          greentext    530\n11         sfwpetite    265\n5    HotGirlNextDoor    262\n0           AmIhotAF    208\n10           selfies     95\n8             amihot     69\n1            Amicute     34",
      "text/html": "<div>\n<style scoped>\n    .dataframe tbody tr th:only-of-type {\n        vertical-align: middle;\n    }\n\n    .dataframe tbody tr th {\n        vertical-align: top;\n    }\n\n    .dataframe thead th {\n        text-align: right;\n    }\n</style>\n<table border=\"1\" class=\"dataframe\">\n  <thead>\n    <tr style=\"text-align: right;\">\n      <th></th>\n      <th>subreddit</th>\n      <th>count</th>\n    </tr>\n  </thead>\n  <tbody>\n    <tr>\n      <th>3</th>\n      <td>EarthPorn</td>\n      <td>929</td>\n    </tr>\n    <tr>\n      <th>7</th>\n      <td>SFWRedheads</td>\n      <td>883</td>\n    </tr>\n    <tr>\n      <th>2</th>\n      <td>CityPorn</td>\n      <td>846</td>\n    </tr>\n    <tr>\n      <th>4</th>\n      <td>Faces</td>\n      <td>742</td>\n    </tr>\n    <tr>\n      <th>6</th>\n      <td>SFWNextDoorGirls</td>\n      <td>538</td>\n    </tr>\n    <tr>\n      <th>9</th>\n      <td>greentext</td>\n      <td>530</td>\n    </tr>\n    <tr>\n      <th>11</th>\n      <td>sfwpetite</td>\n      <td>265</td>\n    </tr>\n    <tr>\n      <th>5</th>\n      <td>HotGirlNextDoor</td>\n      <td>262</td>\n    </tr>\n    <tr>\n      <th>0</th>\n      <td>AmIhotAF</td>\n      <td>208</td>\n    </tr>\n    <tr>\n      <th>10</th>\n      <td>selfies</td>\n      <td>95</td>\n    </tr>\n    <tr>\n      <th>8</th>\n      <td>amihot</td>\n      <td>69</td>\n    </tr>\n    <tr>\n      <th>1</th>\n      <td>Amicute</td>\n      <td>34</td>\n    </tr>\n  </tbody>\n</table>\n</div>"
     },
     "metadata": {},
     "output_type": "display_data"
    },
    {
     "name": "stdout",
     "output_type": "stream",
     "text": [
      "Total Records 5401\n"
     ]
    }
   ],
   "source": [
    "print(\"Filtering Subreddits with Images By original_caption\")\n",
    "filtered_captions = processed_with_captions_more[\n",
    "\t(processed_with_captions_more[\"original_caption\"] != \"bruh\") &\n",
    "\t(~processed_with_captions_more[\"original_caption\"].isna() | ~ processed_with_captions_more[\n",
    "\t\t\"original_caption\"].isnull())\n",
    "\t]\n",
    "\n",
    "filtered_captions_display = filtered_captions.groupby(\"subreddit\").size().reset_index(name=\"count\")\n",
    "\n",
    "display(filtered_captions_display.sort_values(\"count\", ascending=False))\n",
    "print(f\"Total Records {filtered_captions_display['count'].sum()}\")"
   ],
   "metadata": {
    "collapsed": false
   }
  },
  {
   "cell_type": "code",
   "execution_count": 27,
   "outputs": [
    {
     "name": "stdout",
     "output_type": "stream",
     "text": [
      "Filtering Subreddits with Images By thumbnail_caption\n"
     ]
    },
    {
     "data": {
      "text/plain": "           subreddit  count\n3          EarthPorn    929\n7        SFWRedheads    883\n2           CityPorn    846\n4              Faces    742\n6   SFWNextDoorGirls    538\n9          greentext    530\n11         sfwpetite    265\n5    HotGirlNextDoor    262\n0           AmIhotAF    208\n10           selfies     95\n8             amihot     69\n1            Amicute     34",
      "text/html": "<div>\n<style scoped>\n    .dataframe tbody tr th:only-of-type {\n        vertical-align: middle;\n    }\n\n    .dataframe tbody tr th {\n        vertical-align: top;\n    }\n\n    .dataframe thead th {\n        text-align: right;\n    }\n</style>\n<table border=\"1\" class=\"dataframe\">\n  <thead>\n    <tr style=\"text-align: right;\">\n      <th></th>\n      <th>subreddit</th>\n      <th>count</th>\n    </tr>\n  </thead>\n  <tbody>\n    <tr>\n      <th>3</th>\n      <td>EarthPorn</td>\n      <td>929</td>\n    </tr>\n    <tr>\n      <th>7</th>\n      <td>SFWRedheads</td>\n      <td>883</td>\n    </tr>\n    <tr>\n      <th>2</th>\n      <td>CityPorn</td>\n      <td>846</td>\n    </tr>\n    <tr>\n      <th>4</th>\n      <td>Faces</td>\n      <td>742</td>\n    </tr>\n    <tr>\n      <th>6</th>\n      <td>SFWNextDoorGirls</td>\n      <td>538</td>\n    </tr>\n    <tr>\n      <th>9</th>\n      <td>greentext</td>\n      <td>530</td>\n    </tr>\n    <tr>\n      <th>11</th>\n      <td>sfwpetite</td>\n      <td>265</td>\n    </tr>\n    <tr>\n      <th>5</th>\n      <td>HotGirlNextDoor</td>\n      <td>262</td>\n    </tr>\n    <tr>\n      <th>0</th>\n      <td>AmIhotAF</td>\n      <td>208</td>\n    </tr>\n    <tr>\n      <th>10</th>\n      <td>selfies</td>\n      <td>95</td>\n    </tr>\n    <tr>\n      <th>8</th>\n      <td>amihot</td>\n      <td>69</td>\n    </tr>\n    <tr>\n      <th>1</th>\n      <td>Amicute</td>\n      <td>34</td>\n    </tr>\n  </tbody>\n</table>\n</div>"
     },
     "metadata": {},
     "output_type": "display_data"
    },
    {
     "name": "stdout",
     "output_type": "stream",
     "text": [
      "Total Records 5401\n"
     ]
    }
   ],
   "source": [
    "print(\"Filtering Subreddits with Images By thumbnail_caption\")\n",
    "filtered_captions_by_thumbnail = filtered_captions[\n",
    "\t(processed_with_captions_more[\"thumbnail_caption\"] != \"bruh\") &\n",
    "\t(~processed_with_captions_more[\"thumbnail_caption\"].isna() | ~ processed_with_captions_more[\n",
    "\t\t\"thumbnail_caption\"].isnull())\n",
    "\t]\n",
    "\n",
    "filtered_captions_by_thumbnail_display = filtered_captions_by_thumbnail.groupby(\"subreddit\").size().reset_index(\n",
    "\tname=\"count\")\n",
    "display(filtered_captions_by_thumbnail_display.sort_values(\"count\", ascending=False))\n",
    "print(f\"Total Records {filtered_captions_by_thumbnail_display['count'].sum()}\")"
   ],
   "metadata": {
    "collapsed": false
   }
  },
  {
   "cell_type": "code",
   "execution_count": null,
   "outputs": [],
   "source": [
    "print(\"Updating Cloud Storage With Filtered Captioned Images\")\n",
    "def update_cloud(row):\n",
    "\ttry:\n",
    "\t\t_table_adapter = TableAdapter()\n",
    "\t\tpartition_key = \"training\"\n",
    "\t\trow_key = row[\"id\"]\n",
    "\t\tcaption = row[\"original_caption\"]\n",
    "\t\tupdated_caption = row[\"thumbnail_caption\"]\n",
    "\t\tentity = _table_adapter.get_entity(\"training\", partition_key, row_key)\n",
    "\t\tentity[\"caption\"] = caption\n",
    "\t\tentity[\"updated_caption\"] = updated_caption\n",
    "\t\t_table_adapter.upsert_entity_to_table(\"training\", entity)\n",
    "\t\tprogress.update()\n",
    "\t\treturn \"bruh\"\n",
    "\texcept Exception as e:\n",
    "\t\tprint(e)\n",
    "\t\treturn \"bruh\""
   ],
   "metadata": {
    "collapsed": false
   }
  },
  {
   "cell_type": "code",
   "execution_count": null,
   "outputs": [],
   "source": [
    "progress = InnerProgressBar(len(processed_with_captions_more), \"upload to cloud\")\n",
    "temp = processed_with_captions_more.copy()\n",
    "ddf = dd.from_pandas(temp, npartitions=12)"
   ],
   "metadata": {
    "collapsed": false
   }
  },
  {
   "cell_type": "code",
   "execution_count": null,
   "outputs": [],
   "source": [
    "ddf.apply(lambda x: update_cloud(x), axis=1, meta=('str', object)).compute()"
   ],
   "metadata": {
    "collapsed": false
   }
  },
  {
   "cell_type": "code",
   "execution_count": null,
   "outputs": [],
   "source": [
    "print(\"Process Complete: Items Updated\")"
   ],
   "metadata": {
    "collapsed": false
   }
  }
 ],
 "metadata": {
  "kernelspec": {
   "display_name": "Python 3",
   "language": "python",
   "name": "python3"
  },
  "language_info": {
   "codemirror_mode": {
    "name": "ipython",
    "version": 2
   },
   "file_extension": ".py",
   "mimetype": "text/x-python",
   "name": "python",
   "nbconvert_exporter": "python",
   "pygments_lexer": "ipython2",
   "version": "2.7.6"
  }
 },
 "nbformat": 4,
 "nbformat_minor": 0
}
