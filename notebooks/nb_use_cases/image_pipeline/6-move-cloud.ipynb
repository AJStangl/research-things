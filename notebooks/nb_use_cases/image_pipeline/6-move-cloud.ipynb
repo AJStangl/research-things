{
 "cells": [
  {
   "cell_type": "code",
   "execution_count": 1,
   "metadata": {
    "collapsed": true
   },
   "outputs": [],
   "source": [
    "from shared_code.utility.schemas.spark_table_schema import image_table_schema,image_table_schema_with_caption_tokens\n",
    "from shared_code.utility.spark.set_environ import *\n",
    "from shared_code.utility.storage.blob import BlobAdapter\n",
    "os.environ['PYSPARK_PYTHON'] = sys.executable\n",
    "os.environ['PYSPARK_DRIVER_PYTHON'] = sys.executable\n",
    "\n",
    "set_azure_env()\n",
    "\n",
    "spark = get_session('cloud-mover')"
   ]
  },
  {
   "cell_type": "code",
   "execution_count": 2,
   "outputs": [
    {
     "data": {
      "text/plain": "  PartitionKey   RowKey                                              image  \\\n0     training  110sqfl  D:\\data\\images\\SFWNextDoorGirls\\gwi4xae6pvha1.jpg   \n1     training  110sxa0  D:\\data\\images\\SFWNextDoorGirls\\athgu0lpqvha1.jpg   \n2     training  110sxyb             D:\\data\\images\\Faces\\fouhu3hb9uha1.jpg   \n3     training  110t034          D:\\data\\images\\CityPorn\\lismgrhcrvha1.jpg   \n4     training  110t2ax                   D:\\data\\images\\Faces\\gMnFY6t.jpg   \n5     training  110t3eq             D:\\data\\images\\Faces\\xi6cfzkkauha1.jpg   \n6     training  110t52t       D:\\data\\images\\SFWRedheads\\xuf4kk4hsvha1.jpg   \n7     training  110t5c2             D:\\data\\images\\Faces\\kqs5yy60buha1.jpg   \n8     training  110t5wi          D:\\data\\images\\CityPorn\\4i1yvjbnsvha1.jpg   \n9     training  110t90p                   D:\\data\\images\\Faces\\vlxRgIN.jpg   \n\n                                                text       id  \\\n0                          Ready for the big game❤️💚  110sqfl   \n1             Pretending to be shy, did I succeed? 😜  110sxa0   \n2    My ass knows what it wants and it wants you. ;)  110sxyb   \n3                 Washington, the Bogota of Colombia  110t034   \n4                                                  😛  110t2ax   \n5                                 F18.. Be honest...  110t3eq   \n6                              Fansly coming soon...  110t52t   \n7                         Mandatory Elevator Selfie😂  110t5c2   \n8                               Bishopsgate - London  110t5wi   \n9  Too shy to speak, but my cuteness does the tal...  110t90p   \n\n               author                                  url flair  \\\n0         TaylorRae30  https://i.redd.it/gwi4xae6pvha1.jpg   NaN   \n1      texassageember  https://i.redd.it/athgu0lpqvha1.jpg   NaN   \n2     ResoluteGlitter  https://i.redd.it/fouhu3hb9uha1.jpg  Self   \n3     Bloxburgian1945  https://i.redd.it/lismgrhcrvha1.jpg   NaN   \n4    postalTimalia716      https://i.imgur.com/gMnFY6t.jpg  Self   \n5  SockBeneficial2643  https://i.redd.it/xi6cfzkkauha1.jpg  Self   \n6        EmoryJade777  https://i.redd.it/xuf4kk4hsvha1.jpg   NaN   \n7       itsmeSexyLove  https://i.redd.it/kqs5yy60buha1.jpg  Self   \n8      Holly-Mitchell  https://i.redd.it/4i1yvjbnsvha1.jpg   NaN   \n9     BeguilingBeauty      https://i.imgur.com/vlxRgIN.jpg  Self   \n\n                                           permalink  \\\n0  /r/SFWNextDoorGirls/comments/110sqfl/ready_for...   \n1  /r/SFWNextDoorGirls/comments/110sxa0/pretendin...   \n2  /r/Faces/comments/110sxyb/my_ass_knows_what_it...   \n3  /r/CityPorn/comments/110t034/washington_the_bo...   \n4                       /r/Faces/comments/110t2ax/_/   \n5           /r/Faces/comments/110t3eq/f18_be_honest/   \n6  /r/SFWRedheads/comments/110t52t/fansly_coming_...   \n7  /r/Faces/comments/110t5c2/mandatory_elevator_s...   \n8   /r/CityPorn/comments/110t5wi/bishopsgate_london/   \n9  /r/Faces/comments/110t90p/too_shy_to_speak_but...   \n\n                               hash         subreddit  \\\n0  e96bc0f370ea29f2aa404fde5de604a8  SFWNextDoorGirls   \n1  08ab1dfc840e049b9bb73eb3158b1c4e  SFWNextDoorGirls   \n2  4dc3258bf974e0925e2a9ffa72cc368e             Faces   \n3  4bdb5ebed7bbc0954be55f8c49f9191f          CityPorn   \n4  d54a462a3fba88657de72d3a719114b5             Faces   \n5  9d7c9f37659f71e82b5cdb49b9badfc6             Faces   \n6  abbc50da58591e7afa7c52316fe89a30       SFWRedheads   \n7  6f43221a106c1276d8dca07caf3365f7             Faces   \n8  be1faf6295b0f561e4af590ddebc9257          CityPorn   \n9  35d275ba8a1d70bf52ec07d76d81c31e             Faces   \n\n                                             caption  exists  \\\n0  A woman in a pink dress is talking to a man in...    True   \n1  A girl in a pink shirt and blue jeans is talki...    True   \n2  A woman in a white dress is talking to a man i...    True   \n3  A man in a blue shirt is sitting on the side o...    True   \n4  A girl in a pink shirt and blue jeans is smoki...    True   \n5  A girl in a pink dress is smiling and holding ...    True   \n6                 A girl in a pink dress is smiling.    True   \n7  A woman in a white shirt and blue jeans is tal...    True   \n8  A group of people are standing in front of a b...    True   \n9  A little girl in a pink shirt and blue jeans i...    True   \n\n          image_name                                    updated_caption  \\\n0  gwi4xae6pvha1.jpg              a woman holding a bottle in her mouth   \n1  athgu0lpqvha1.jpg                  a woman in a red dress is smiling   \n2  fouhu3hb9uha1.jpg          a woman wearing glasses and a black shirt   \n3  lismgrhcrvha1.jpg  a man and woman standing next to each other ne...   \n4        gMnFY6t.jpg    a woman in a white dress holding a white object   \n5  xi6cfzkkauha1.jpg       a woman with long hair is wearing a pink wig   \n6  xuf4kk4hsvha1.jpg  a woman is looking at her reflection in the mi...   \n7  kqs5yy60buha1.jpg          a woman holding a smart phone in her hand   \n8  4i1yvjbnsvha1.jpg               a large building with a large window   \n9        vlxRgIN.jpg              a woman sitting on a couch with a dog   \n\n                                         small_image  curated  \\\n0  D:\\data\\images\\SFWNextDoorGirls\\thumbnail\\gwi4...    False   \n1  D:\\data\\images\\SFWNextDoorGirls\\thumbnail\\athg...    False   \n2   D:\\data\\images\\Faces\\thumbnail\\fouhu3hb9uha1.jpg    False   \n3  D:\\data\\images\\CityPorn\\thumbnail\\lismgrhcrvha...    False   \n4         D:\\data\\images\\Faces\\thumbnail\\gMnFY6t.jpg    False   \n5   D:\\data\\images\\Faces\\thumbnail\\xi6cfzkkauha1.jpg    False   \n6  D:\\data\\images\\SFWRedheads\\thumbnail\\xuf4kk4hs...    False   \n7   D:\\data\\images\\Faces\\thumbnail\\kqs5yy60buha1.jpg    False   \n8  D:\\data\\images\\CityPorn\\thumbnail\\4i1yvjbnsvha...    False   \n9         D:\\data\\images\\Faces\\thumbnail\\vlxRgIN.jpg    False   \n\n                                      caption_tokens  \\\n0  [(woman, NN), (holding, VBG), (bottle, NN), (i...   \n1  [(woman, NN), (in, IN), (red, JJ), (dress, NN)...   \n2  [(woman, NN), (wearing, VBG), (glasses, NNS), ...   \n3  [(man, NN), (and, CC), (woman, NN), (standing,...   \n4  [(woman, NN), (in, IN), (white, JJ), (dress, N...   \n5  [(woman, NN), (with, IN), (long, JJ), (hair, N...   \n6  [(woman, NN), (is, VBZ), (looking, VBG), (at, ...   \n7  [(woman, NN), (holding, VBG), (smart, JJ), (ph...   \n8  [(large, JJ), (building, VBG), (with, IN), (wi...   \n9  [(woman, NN), (sitting, VBG), (on, IN), (couch...   \n\n                                         text_tokens  \n0  [(Ready, JJ), (for, IN), (the, DT), (big, JJ),...  \n1  [(Pretending, VBG), (to, TO), (be, VB), (shy, ...  \n2  [(My, PRP$), (ass, NN), (knows, VBZ), (what, W...  \n3  [(Washington, NNP), (the, DT), (Bogota, NNP), ...  \n4                                                 []  \n5     [(.., RB), (Be, NNP), (honest, JJS), (..., :)]  \n6  [(Fansly, RB), (coming, VBG), (soon, RB), (......  \n7  [(Mandatory, JJ), (Elevator, NNP), (Selfie, NNP)]  \n8                [(Bishopsgate, NNP), (London, NNP)]  \n9  [(Too, RB), (shy, JJ), (to, TO), (speak, VB), ...  ",
      "text/html": "<div>\n<style scoped>\n    .dataframe tbody tr th:only-of-type {\n        vertical-align: middle;\n    }\n\n    .dataframe tbody tr th {\n        vertical-align: top;\n    }\n\n    .dataframe thead th {\n        text-align: right;\n    }\n</style>\n<table border=\"1\" class=\"dataframe\">\n  <thead>\n    <tr style=\"text-align: right;\">\n      <th></th>\n      <th>PartitionKey</th>\n      <th>RowKey</th>\n      <th>image</th>\n      <th>text</th>\n      <th>id</th>\n      <th>author</th>\n      <th>url</th>\n      <th>flair</th>\n      <th>permalink</th>\n      <th>hash</th>\n      <th>subreddit</th>\n      <th>caption</th>\n      <th>exists</th>\n      <th>image_name</th>\n      <th>updated_caption</th>\n      <th>small_image</th>\n      <th>curated</th>\n      <th>caption_tokens</th>\n      <th>text_tokens</th>\n    </tr>\n  </thead>\n  <tbody>\n    <tr>\n      <th>0</th>\n      <td>training</td>\n      <td>110sqfl</td>\n      <td>D:\\data\\images\\SFWNextDoorGirls\\gwi4xae6pvha1.jpg</td>\n      <td>Ready for the big game❤️💚</td>\n      <td>110sqfl</td>\n      <td>TaylorRae30</td>\n      <td>https://i.redd.it/gwi4xae6pvha1.jpg</td>\n      <td>NaN</td>\n      <td>/r/SFWNextDoorGirls/comments/110sqfl/ready_for...</td>\n      <td>e96bc0f370ea29f2aa404fde5de604a8</td>\n      <td>SFWNextDoorGirls</td>\n      <td>A woman in a pink dress is talking to a man in...</td>\n      <td>True</td>\n      <td>gwi4xae6pvha1.jpg</td>\n      <td>a woman holding a bottle in her mouth</td>\n      <td>D:\\data\\images\\SFWNextDoorGirls\\thumbnail\\gwi4...</td>\n      <td>False</td>\n      <td>[(woman, NN), (holding, VBG), (bottle, NN), (i...</td>\n      <td>[(Ready, JJ), (for, IN), (the, DT), (big, JJ),...</td>\n    </tr>\n    <tr>\n      <th>1</th>\n      <td>training</td>\n      <td>110sxa0</td>\n      <td>D:\\data\\images\\SFWNextDoorGirls\\athgu0lpqvha1.jpg</td>\n      <td>Pretending to be shy, did I succeed? 😜</td>\n      <td>110sxa0</td>\n      <td>texassageember</td>\n      <td>https://i.redd.it/athgu0lpqvha1.jpg</td>\n      <td>NaN</td>\n      <td>/r/SFWNextDoorGirls/comments/110sxa0/pretendin...</td>\n      <td>08ab1dfc840e049b9bb73eb3158b1c4e</td>\n      <td>SFWNextDoorGirls</td>\n      <td>A girl in a pink shirt and blue jeans is talki...</td>\n      <td>True</td>\n      <td>athgu0lpqvha1.jpg</td>\n      <td>a woman in a red dress is smiling</td>\n      <td>D:\\data\\images\\SFWNextDoorGirls\\thumbnail\\athg...</td>\n      <td>False</td>\n      <td>[(woman, NN), (in, IN), (red, JJ), (dress, NN)...</td>\n      <td>[(Pretending, VBG), (to, TO), (be, VB), (shy, ...</td>\n    </tr>\n    <tr>\n      <th>2</th>\n      <td>training</td>\n      <td>110sxyb</td>\n      <td>D:\\data\\images\\Faces\\fouhu3hb9uha1.jpg</td>\n      <td>My ass knows what it wants and it wants you. ;)</td>\n      <td>110sxyb</td>\n      <td>ResoluteGlitter</td>\n      <td>https://i.redd.it/fouhu3hb9uha1.jpg</td>\n      <td>Self</td>\n      <td>/r/Faces/comments/110sxyb/my_ass_knows_what_it...</td>\n      <td>4dc3258bf974e0925e2a9ffa72cc368e</td>\n      <td>Faces</td>\n      <td>A woman in a white dress is talking to a man i...</td>\n      <td>True</td>\n      <td>fouhu3hb9uha1.jpg</td>\n      <td>a woman wearing glasses and a black shirt</td>\n      <td>D:\\data\\images\\Faces\\thumbnail\\fouhu3hb9uha1.jpg</td>\n      <td>False</td>\n      <td>[(woman, NN), (wearing, VBG), (glasses, NNS), ...</td>\n      <td>[(My, PRP$), (ass, NN), (knows, VBZ), (what, W...</td>\n    </tr>\n    <tr>\n      <th>3</th>\n      <td>training</td>\n      <td>110t034</td>\n      <td>D:\\data\\images\\CityPorn\\lismgrhcrvha1.jpg</td>\n      <td>Washington, the Bogota of Colombia</td>\n      <td>110t034</td>\n      <td>Bloxburgian1945</td>\n      <td>https://i.redd.it/lismgrhcrvha1.jpg</td>\n      <td>NaN</td>\n      <td>/r/CityPorn/comments/110t034/washington_the_bo...</td>\n      <td>4bdb5ebed7bbc0954be55f8c49f9191f</td>\n      <td>CityPorn</td>\n      <td>A man in a blue shirt is sitting on the side o...</td>\n      <td>True</td>\n      <td>lismgrhcrvha1.jpg</td>\n      <td>a man and woman standing next to each other ne...</td>\n      <td>D:\\data\\images\\CityPorn\\thumbnail\\lismgrhcrvha...</td>\n      <td>False</td>\n      <td>[(man, NN), (and, CC), (woman, NN), (standing,...</td>\n      <td>[(Washington, NNP), (the, DT), (Bogota, NNP), ...</td>\n    </tr>\n    <tr>\n      <th>4</th>\n      <td>training</td>\n      <td>110t2ax</td>\n      <td>D:\\data\\images\\Faces\\gMnFY6t.jpg</td>\n      <td>😛</td>\n      <td>110t2ax</td>\n      <td>postalTimalia716</td>\n      <td>https://i.imgur.com/gMnFY6t.jpg</td>\n      <td>Self</td>\n      <td>/r/Faces/comments/110t2ax/_/</td>\n      <td>d54a462a3fba88657de72d3a719114b5</td>\n      <td>Faces</td>\n      <td>A girl in a pink shirt and blue jeans is smoki...</td>\n      <td>True</td>\n      <td>gMnFY6t.jpg</td>\n      <td>a woman in a white dress holding a white object</td>\n      <td>D:\\data\\images\\Faces\\thumbnail\\gMnFY6t.jpg</td>\n      <td>False</td>\n      <td>[(woman, NN), (in, IN), (white, JJ), (dress, N...</td>\n      <td>[]</td>\n    </tr>\n    <tr>\n      <th>5</th>\n      <td>training</td>\n      <td>110t3eq</td>\n      <td>D:\\data\\images\\Faces\\xi6cfzkkauha1.jpg</td>\n      <td>F18.. Be honest...</td>\n      <td>110t3eq</td>\n      <td>SockBeneficial2643</td>\n      <td>https://i.redd.it/xi6cfzkkauha1.jpg</td>\n      <td>Self</td>\n      <td>/r/Faces/comments/110t3eq/f18_be_honest/</td>\n      <td>9d7c9f37659f71e82b5cdb49b9badfc6</td>\n      <td>Faces</td>\n      <td>A girl in a pink dress is smiling and holding ...</td>\n      <td>True</td>\n      <td>xi6cfzkkauha1.jpg</td>\n      <td>a woman with long hair is wearing a pink wig</td>\n      <td>D:\\data\\images\\Faces\\thumbnail\\xi6cfzkkauha1.jpg</td>\n      <td>False</td>\n      <td>[(woman, NN), (with, IN), (long, JJ), (hair, N...</td>\n      <td>[(.., RB), (Be, NNP), (honest, JJS), (..., :)]</td>\n    </tr>\n    <tr>\n      <th>6</th>\n      <td>training</td>\n      <td>110t52t</td>\n      <td>D:\\data\\images\\SFWRedheads\\xuf4kk4hsvha1.jpg</td>\n      <td>Fansly coming soon...</td>\n      <td>110t52t</td>\n      <td>EmoryJade777</td>\n      <td>https://i.redd.it/xuf4kk4hsvha1.jpg</td>\n      <td>NaN</td>\n      <td>/r/SFWRedheads/comments/110t52t/fansly_coming_...</td>\n      <td>abbc50da58591e7afa7c52316fe89a30</td>\n      <td>SFWRedheads</td>\n      <td>A girl in a pink dress is smiling.</td>\n      <td>True</td>\n      <td>xuf4kk4hsvha1.jpg</td>\n      <td>a woman is looking at her reflection in the mi...</td>\n      <td>D:\\data\\images\\SFWRedheads\\thumbnail\\xuf4kk4hs...</td>\n      <td>False</td>\n      <td>[(woman, NN), (is, VBZ), (looking, VBG), (at, ...</td>\n      <td>[(Fansly, RB), (coming, VBG), (soon, RB), (......</td>\n    </tr>\n    <tr>\n      <th>7</th>\n      <td>training</td>\n      <td>110t5c2</td>\n      <td>D:\\data\\images\\Faces\\kqs5yy60buha1.jpg</td>\n      <td>Mandatory Elevator Selfie😂</td>\n      <td>110t5c2</td>\n      <td>itsmeSexyLove</td>\n      <td>https://i.redd.it/kqs5yy60buha1.jpg</td>\n      <td>Self</td>\n      <td>/r/Faces/comments/110t5c2/mandatory_elevator_s...</td>\n      <td>6f43221a106c1276d8dca07caf3365f7</td>\n      <td>Faces</td>\n      <td>A woman in a white shirt and blue jeans is tal...</td>\n      <td>True</td>\n      <td>kqs5yy60buha1.jpg</td>\n      <td>a woman holding a smart phone in her hand</td>\n      <td>D:\\data\\images\\Faces\\thumbnail\\kqs5yy60buha1.jpg</td>\n      <td>False</td>\n      <td>[(woman, NN), (holding, VBG), (smart, JJ), (ph...</td>\n      <td>[(Mandatory, JJ), (Elevator, NNP), (Selfie, NNP)]</td>\n    </tr>\n    <tr>\n      <th>8</th>\n      <td>training</td>\n      <td>110t5wi</td>\n      <td>D:\\data\\images\\CityPorn\\4i1yvjbnsvha1.jpg</td>\n      <td>Bishopsgate - London</td>\n      <td>110t5wi</td>\n      <td>Holly-Mitchell</td>\n      <td>https://i.redd.it/4i1yvjbnsvha1.jpg</td>\n      <td>NaN</td>\n      <td>/r/CityPorn/comments/110t5wi/bishopsgate_london/</td>\n      <td>be1faf6295b0f561e4af590ddebc9257</td>\n      <td>CityPorn</td>\n      <td>A group of people are standing in front of a b...</td>\n      <td>True</td>\n      <td>4i1yvjbnsvha1.jpg</td>\n      <td>a large building with a large window</td>\n      <td>D:\\data\\images\\CityPorn\\thumbnail\\4i1yvjbnsvha...</td>\n      <td>False</td>\n      <td>[(large, JJ), (building, VBG), (with, IN), (wi...</td>\n      <td>[(Bishopsgate, NNP), (London, NNP)]</td>\n    </tr>\n    <tr>\n      <th>9</th>\n      <td>training</td>\n      <td>110t90p</td>\n      <td>D:\\data\\images\\Faces\\vlxRgIN.jpg</td>\n      <td>Too shy to speak, but my cuteness does the tal...</td>\n      <td>110t90p</td>\n      <td>BeguilingBeauty</td>\n      <td>https://i.imgur.com/vlxRgIN.jpg</td>\n      <td>Self</td>\n      <td>/r/Faces/comments/110t90p/too_shy_to_speak_but...</td>\n      <td>35d275ba8a1d70bf52ec07d76d81c31e</td>\n      <td>Faces</td>\n      <td>A little girl in a pink shirt and blue jeans i...</td>\n      <td>True</td>\n      <td>vlxRgIN.jpg</td>\n      <td>a woman sitting on a couch with a dog</td>\n      <td>D:\\data\\images\\Faces\\thumbnail\\vlxRgIN.jpg</td>\n      <td>False</td>\n      <td>[(woman, NN), (sitting, VBG), (on, IN), (couch...</td>\n      <td>[(Too, RB), (shy, JJ), (to, TO), (speak, VB), ...</td>\n    </tr>\n  </tbody>\n</table>\n</div>"
     },
     "execution_count": 2,
     "metadata": {},
     "output_type": "execute_result"
    }
   ],
   "source": [
    "spark.read.parquet(\"D:\\\\data\\\\processed\\\\reddit_images_processed_with_caption_tokens.parquet\", schema=image_table_schema_with_caption_tokens).createOrReplaceTempView(\"reddit_images_processed_with_caption_tokens\")\n",
    "\n",
    "existing_images_not_curated = spark.sql(\"\"\"\n",
    "select * from\n",
    "reddit_images_processed_with_caption_tokens\n",
    "where small_image is not null\n",
    "and small_image != ''\n",
    "and small_image != 'None'\n",
    "and small_image != 'Nan'\n",
    "and updated_caption != 'None'\n",
    "and exists\n",
    "and not curated\n",
    "\"\"\")\n",
    "\n",
    "existing_images_not_curated.limit(10).toPandas()"
   ],
   "metadata": {
    "collapsed": false
   }
  },
  {
   "cell_type": "code",
   "execution_count": 3,
   "outputs": [],
   "source": [
    "foo = existing_images_not_curated.rdd.map(lambda x: ({'image_path': x['small_image'], 'name': x['image_name'], 'sub':x['subreddit']})).collect()"
   ],
   "metadata": {
    "collapsed": false
   }
  },
  {
   "cell_type": "code",
   "execution_count": 6,
   "outputs": [
    {
     "name": "stdout",
     "output_type": "stream",
     "text": [
      "Total items: 4638\n",
      "Remaining: 4600\n",
      "Remaining: 4500\n",
      "Remaining: 4400\n",
      "Remaining: 4300\n",
      "Remaining: 4200\n",
      "Remaining: 4100\n",
      "Remaining: 4000\n",
      "Remaining: 3900\n",
      "Remaining: 3800\n",
      "Remaining: 3700\n",
      "Remaining: 3600\n",
      "Remaining: 3500\n",
      "Remaining: 3400\n",
      "Remaining: 3300\n",
      "Remaining: 3200\n",
      "Remaining: 3100\n",
      "Remaining: 3000\n",
      "Remaining: 2900\n",
      "Remaining: 2800\n",
      "Remaining: 2700\n",
      "Remaining: 2600\n",
      "Remaining: 2500\n",
      "Remaining: 2400\n",
      "Remaining: 2300\n",
      "Remaining: 2200\n",
      "Remaining: 2100\n",
      "Remaining: 2000\n",
      "Remaining: 1900\n",
      "Remaining: 1800\n",
      "Remaining: 1700\n",
      "Remaining: 1600\n",
      "Remaining: 1500\n",
      "Remaining: 1400\n",
      "Remaining: 1300\n",
      "Remaining: 1200\n",
      "Remaining: 1100\n",
      "Remaining: 1000\n",
      "Remaining: 900\n",
      "Remaining: 800\n",
      "Remaining: 700\n",
      "Remaining: 600\n",
      "Remaining: 500\n",
      "Remaining: 400\n",
      "Remaining: 300\n",
      "Remaining: 200\n",
      "Remaining: 100\n"
     ]
    }
   ],
   "source": [
    "blob_container_name = 'unprocessed'\n",
    "blob_adapter = BlobAdapter(blob_container_name)\n",
    "\n",
    "container_client = blob_adapter.get_container_client()\n",
    "\n",
    "present_containers = container_client.list_containers()\n",
    "\n",
    "total_items = len(foo)\n",
    "print(f\"Total items: {total_items}\")\n",
    "for elem in foo:\n",
    "    if total_items % 100 == 0:\n",
    "        print(f\"Remaining: {total_items}\")\n",
    "    data = elem['image_path']\n",
    "    with open(data, \"rb\") as f:\n",
    "        data = f.read()\n",
    "        out_path = f\"{elem['sub']}/{elem['name']}\"\n",
    "        blob_adapter.upload_blob(data=data, blob_name=out_path)\n",
    "        total_items -= 1"
   ],
   "metadata": {
    "collapsed": false
   }
  },
  {
   "cell_type": "code",
   "execution_count": 12,
   "outputs": [
    {
     "name": "stderr",
     "output_type": "stream",
     "text": [
      "D:\\workspaces\\General\\venv\\lib\\site-packages\\pyspark\\sql\\pandas\\conversion.py:474: FutureWarning: iteritems is deprecated and will be removed in a future version. Use .items instead.\n",
      "  for column, series in pdf.iteritems():\n",
      "D:\\workspaces\\General\\venv\\lib\\site-packages\\pyspark\\sql\\pandas\\conversion.py:486: FutureWarning: iteritems is deprecated and will be removed in a future version. Use .items instead.\n",
      "  for column, series in pdf.iteritems():\n"
     ]
    }
   ],
   "source": [
    "foo = spark.createDataFrame(foo).toPandas()\n",
    "foo.to_csv(\"D:\\\\data\\\\processed\\\\manifest.csv\", index=False)\n",
    "with open(\"D:\\\\data\\\\processed\\\\manifest.csv\", \"rb\") as f:\n",
    "    data = f.read()\n",
    "    blob_adapter.upload_blob(data=data, blob_name=\"manifest.csv\")"
   ],
   "metadata": {
    "collapsed": false
   }
  }
 ],
 "metadata": {
  "kernelspec": {
   "display_name": "Python 3",
   "language": "python",
   "name": "python3"
  },
  "language_info": {
   "codemirror_mode": {
    "name": "ipython",
    "version": 2
   },
   "file_extension": ".py",
   "mimetype": "text/x-python",
   "name": "python",
   "nbconvert_exporter": "python",
   "pygments_lexer": "ipython2",
   "version": "2.7.6"
  }
 },
 "nbformat": 4,
 "nbformat_minor": 0
}
