{
 "cells": [
  {
   "cell_type": "code",
   "execution_count": null,
   "metadata": {
    "collapsed": true
   },
   "outputs": [],
   "source": [
    "from shared_code.utility.schemas.spark_table_schema import image_table_schema,image_table_schema_with_caption_tokens\n",
    "from shared_code.utility.spark.set_environ import *\n",
    "from shared_code.utility.storage.blob import BlobAdapter\n",
    "os.environ['PYSPARK_PYTHON'] = sys.executable\n",
    "os.environ['PYSPARK_DRIVER_PYTHON'] = sys.executable\n",
    "\n",
    "set_azure_env()\n",
    "\n",
    "spark = get_session('cloud-mover')"
   ]
  },
  {
   "cell_type": "code",
   "execution_count": null,
   "outputs": [],
   "source": [
    "spark.read.parquet(\"D:\\\\data\\\\processed\\\\reddit_images_processed_with_caption_tokens.parquet\", schema=image_table_schema_with_caption_tokens).createOrReplaceTempView(\"reddit_images_processed_with_caption_tokens\")\n",
    "\n",
    "existing_images_not_curated = spark.sql(\"\"\"\n",
    "select * from\n",
    "reddit_images_processed_with_caption_tokens\n",
    "where small_image is not null\n",
    "and small_image != ''\n",
    "and small_image != 'None'\n",
    "and small_image != 'Nan'\n",
    "and length(updated_caption)  > 5\n",
    "and length(caption) > 5\n",
    "and updated_caption not like '%Error%'\n",
    "and exists == True\n",
    "and not curated\n",
    "\"\"\")\n",
    "\n",
    "print(f\"Total images (Not Curated): {existing_images_not_curated.count()}\")\n",
    "\n",
    "existing_images_not_curated.limit(10).toPandas()"
   ],
   "metadata": {
    "collapsed": false
   }
  },
  {
   "cell_type": "code",
   "execution_count": null,
   "outputs": [],
   "source": [
    "foo = existing_images_not_curated.rdd.map(lambda x: ({'image_path': x['small_image'], 'name': x['image_name'], 'sub':x['subreddit'], 'caption': x['updated_caption'], 'text': x['text']})).collect()"
   ],
   "metadata": {
    "collapsed": false
   }
  },
  {
   "cell_type": "code",
   "execution_count": null,
   "outputs": [],
   "source": [
    "blob_container_name = 'unprocessed'\n",
    "blob_adapter = BlobAdapter(blob_container_name)\n",
    "\n",
    "container_client = blob_adapter.get_container_client()\n",
    "\n",
    "total_items = len(foo)\n",
    "print(f\"Total items: {total_items}\")\n",
    "for elem in foo:\n",
    "    if total_items % 100 == 0:\n",
    "        print(f\"Remaining: {total_items}\")\n",
    "    data = elem['image_path']\n",
    "    with open(data, \"rb\") as f:\n",
    "        data = f.read()\n",
    "        out_path = f\"{elem['sub']}/{elem['name']}\"\n",
    "        blob_adapter.upload_blob(data=data, blob_name=out_path)\n",
    "        total_items -= 1"
   ],
   "metadata": {
    "collapsed": false
   }
  },
  {
   "cell_type": "code",
   "execution_count": null,
   "outputs": [],
   "source": [
    "foo.to_csv(\"D:\\\\data\\\\processed\\\\manifest.csv\", index=False)\n",
    "with open(\"D:\\\\data\\\\processed\\\\manifest.csv\", \"rb\") as f:\n",
    "    data = f.read()\n",
    "    blob_adapter.upload_blob(data=data, blob_name=\"manifest.csv\")"
   ],
   "metadata": {
    "collapsed": false
   }
  }
 ],
 "metadata": {
  "kernelspec": {
   "display_name": "Python 3",
   "language": "python",
   "name": "python3"
  },
  "language_info": {
   "codemirror_mode": {
    "name": "ipython",
    "version": 2
   },
   "file_extension": ".py",
   "mimetype": "text/x-python",
   "name": "python",
   "nbconvert_exporter": "python",
   "pygments_lexer": "ipython2",
   "version": "2.7.6"
  }
 },
 "nbformat": 4,
 "nbformat_minor": 0
}
