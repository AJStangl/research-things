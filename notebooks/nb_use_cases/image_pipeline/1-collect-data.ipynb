{
 "cells": [
  {
   "cell_type": "code",
   "execution_count": null,
   "metadata": {
    "collapsed": true,
    "pycharm": {
     "is_executing": true
    }
   },
   "outputs": [],
   "source": [
    "import logging\n",
    "import os\n",
    "\n",
    "import sys\n",
    "from pyspark.sql import SparkSession\n",
    "from pyspark.sql.functions import udf\n",
    "\n",
    "from shared_code.utility.spark.set_environ import set_azure_env\n",
    "\n",
    "set_azure_env()\n",
    "\n",
    "from shared_code.utility.scripts.reddit_collector import RedditDataCollector\n",
    "\n",
    "logging.basicConfig(level=logging.INFO)\n",
    "logging.getLogger(\"azure.storage\").setLevel(logging.WARNING)\n",
    "logging.getLogger(\"diffusers\").setLevel(logging.WARNING)\n",
    "logging.getLogger(\"azure.core\").setLevel(logging.WARNING)\n",
    "\n",
    "os.environ['PYSPARK_PYTHON'] = sys.executable\n",
    "os.environ['PYSPARK_DRIVER_PYTHON'] = sys.executable\n",
    "spark_session = SparkSession \\\n",
    "\t.builder \\\n",
    "\t.appName(\"collect-reddit-data\") \\\n",
    "\t.master(\"local[12]\") \\\n",
    "\t.config(\"spark.cores.max\", 12) \\\n",
    "\t.config(\"spark.executor.memory\", \"10g\") \\\n",
    "\t.config(\"spark.driver.memory\", \"10g\") \\\n",
    "\t.config(\"spark.memory.offHeap.enabled\", True) \\\n",
    "\t.config(\"spark.memory.offHeap.size\", \"10g\") \\\n",
    "\t.getOrCreate()"
   ]
  },
  {
   "cell_type": "code",
   "execution_count": null,
   "outputs": [],
   "source": [
    "table_name = \"training\"\n",
    "image_out_dir = \"/data/images/\""
   ],
   "metadata": {
    "collapsed": false
   }
  },
  {
   "cell_type": "code",
   "execution_count": null,
   "outputs": [],
   "source": [
    "subreddits = \"greentext+selfies+Faces+EarthPorn+CityPorn+sfwpetite+SFWNextDoorGirls+SFWRedheads\"\n",
    "subs = subreddits.split(\"+\")"
   ],
   "metadata": {
    "collapsed": false
   }
  },
  {
   "cell_type": "code",
   "execution_count": null,
   "outputs": [],
   "source": [
    "from pyspark.sql.types import IntegerType\n",
    "\n",
    "collector: RedditDataCollector = RedditDataCollector(image_out_dir=image_out_dir, table_name=table_name)\n",
    "\n",
    "def download_subreddit_images(subreddit) -> int:\n",
    "\ttry:\n",
    "\t\tcount = collector.download_subreddit_images(subreddit)\n",
    "\t\treturn count\n",
    "\texcept Exception as e:\n",
    "\t\tlogging.error(f\"Error downloading images for {subreddit}: {e}\")\n",
    "\t\treturn 0\n",
    "\n",
    "download_subreddit_images_udf = udf(download_subreddit_images, IntegerType())"
   ],
   "metadata": {
    "collapsed": false
   }
  },
  {
   "cell_type": "code",
   "execution_count": null,
   "outputs": [],
   "source": [
    "logging.getLogger(\"azure.storage\").setLevel(logging.WARNING)\n",
    "\n",
    "data = []\n",
    "\n",
    "for sub in subs:\n",
    "\ttry:\n",
    "\t\tnum_images_collected = collector.download_subreddit_images(sub)\n",
    "\t\tresult = {\n",
    "\t\t\t\"subreddit\": sub,\n",
    "\t\t\t\"count\": num_images_collected\n",
    "\t\t}\n",
    "\t\tdata.append(result)\n",
    "\texcept Exception as e:\n",
    "\t\tlogging.error(f\"Error downloading images for {sub}: {e}\")\n",
    "\t\tcontinue\n",
    "\n",
    "spark_session.createDataFrame(data=data).show()"
   ],
   "metadata": {
    "collapsed": false
   }
  }
 ],
 "metadata": {
  "kernelspec": {
   "display_name": "Python 3",
   "language": "python",
   "name": "python3"
  },
  "language_info": {
   "codemirror_mode": {
    "name": "ipython",
    "version": 2
   },
   "file_extension": ".py",
   "mimetype": "text/x-python",
   "name": "python",
   "nbconvert_exporter": "python",
   "pygments_lexer": "ipython2",
   "version": "2.7.6"
  }
 },
 "nbformat": 4,
 "nbformat_minor": 0
}
