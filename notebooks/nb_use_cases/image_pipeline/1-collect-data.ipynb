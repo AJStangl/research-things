{
 "cells": [
  {
   "cell_type": "code",
   "execution_count": 16,
   "metadata": {
    "collapsed": true
   },
   "outputs": [],
   "source": [
    "import pandas\n",
    "\n",
    "from shared_code.utility.spark.set_environ import set_azure_env\n",
    "import logging\n",
    "logging.basicConfig(level=logging.INFO)\n",
    "logging.getLogger(\"azure.storage\").setLevel(logging.WARNING)\n",
    "\n",
    "set_azure_env()"
   ]
  },
  {
   "cell_type": "code",
   "execution_count": 17,
   "outputs": [],
   "source": [
    "table_name = \"training\"\n",
    "image_out_dir = \"/data/images/\""
   ],
   "metadata": {
    "collapsed": false
   }
  },
  {
   "cell_type": "code",
   "execution_count": 18,
   "outputs": [],
   "source": [
    "from shared_code.utility.scripts.reddit_collector import RedditDataCollector\n",
    "collector: RedditDataCollector = RedditDataCollector(image_out_dir=image_out_dir, table_name=table_name)"
   ],
   "metadata": {
    "collapsed": false
   }
  },
  {
   "cell_type": "code",
   "execution_count": 19,
   "outputs": [
    {
     "data": {
      "text/plain": "                sub\n0         greentext\n1             Faces\n2         EarthPorn\n3          CityPorn\n4         sfwpetite\n5  SFWNextDoorGirls\n6       SFWRedheads",
      "text/html": "<div>\n<style scoped>\n    .dataframe tbody tr th:only-of-type {\n        vertical-align: middle;\n    }\n\n    .dataframe tbody tr th {\n        vertical-align: top;\n    }\n\n    .dataframe thead th {\n        text-align: right;\n    }\n</style>\n<table border=\"1\" class=\"dataframe\">\n  <thead>\n    <tr style=\"text-align: right;\">\n      <th></th>\n      <th>sub</th>\n    </tr>\n  </thead>\n  <tbody>\n    <tr>\n      <th>0</th>\n      <td>greentext</td>\n    </tr>\n    <tr>\n      <th>1</th>\n      <td>Faces</td>\n    </tr>\n    <tr>\n      <th>2</th>\n      <td>EarthPorn</td>\n    </tr>\n    <tr>\n      <th>3</th>\n      <td>CityPorn</td>\n    </tr>\n    <tr>\n      <th>4</th>\n      <td>sfwpetite</td>\n    </tr>\n    <tr>\n      <th>5</th>\n      <td>SFWNextDoorGirls</td>\n    </tr>\n    <tr>\n      <th>6</th>\n      <td>SFWRedheads</td>\n    </tr>\n  </tbody>\n</table>\n</div>"
     },
     "metadata": {},
     "output_type": "display_data"
    }
   ],
   "source": [
    "subreddits = \"greentext+Faces+EarthPorn+CityPorn+sfwpetite+SFWNextDoorGirls+SFWRedheads\"\n",
    "subs = subreddits.split(\"+\")\n",
    "foo = [{\"sub\": item} for item in subs]\n",
    "\n",
    "df = pandas.DataFrame.from_records(foo, columns=[\"sub\"])\n",
    "display(df)"
   ],
   "metadata": {
    "collapsed": false
   }
  },
  {
   "cell_type": "code",
   "execution_count": 20,
   "outputs": [],
   "source": [
    "import dask.dataframe as dd\n",
    "ddf = dd.from_pandas(df, npartitions=4)"
   ],
   "metadata": {
    "collapsed": false
   }
  },
  {
   "cell_type": "code",
   "execution_count": null,
   "outputs": [
    {
     "name": "stderr",
     "output_type": "stream",
     "text": [
      "INFO:azure.core.pipeline.policies.http_logging_policy:Request URL: 'https://ajdevreddit.table.core.windows.net/training()'\n",
      "Request method: 'GET'\n",
      "Request headers:\n",
      "    'x-ms-version': 'REDACTED'\n",
      "    'DataServiceVersion': 'REDACTED'\n",
      "    'Accept': 'application/json;odata=minimalmetadata'\n",
      "    'x-ms-client-request-id': 'f5271b8e-b0a1-11ed-89a2-e848b8c82000'\n",
      "    'x-ms-date': 'REDACTED'\n",
      "    'Date': 'Sun, 19 Feb 2023 22:08:36 GMT'\n",
      "    'User-Agent': 'azsdk-python-data-tables/12.4.1 Python/3.9.6 (Windows-10-10.0.22000-SP0)'\n",
      "    'Authorization': 'REDACTED'\n",
      "No body was attached to the request\n",
      "INFO:azure.core.pipeline.policies.http_logging_policy:Response status: 200\n",
      "Response headers:\n",
      "    'Cache-Control': 'no-cache'\n",
      "    'Transfer-Encoding': 'chunked'\n",
      "    'Content-Type': 'application/json;odata=minimalmetadata;streaming=true;charset=utf-8'\n",
      "    'Server': 'Windows-Azure-Table/1.0 Microsoft-HTTPAPI/2.0'\n",
      "    'x-ms-request-id': 'aae1ca78-6002-0030-3eae-4461a0000000'\n",
      "    'x-ms-client-request-id': 'f5271b8e-b0a1-11ed-89a2-e848b8c82000'\n",
      "    'x-ms-version': 'REDACTED'\n",
      "    'X-Content-Type-Options': 'REDACTED'\n",
      "    'x-ms-continuation-NextPartitionKey': 'REDACTED'\n",
      "    'x-ms-continuation-NextRowKey': 'REDACTED'\n",
      "    'Date': 'Sun, 19 Feb 2023 22:08:38 GMT'\n",
      "INFO:azure.core.pipeline.policies.http_logging_policy:Request URL: 'https://ajdevreddit.table.core.windows.net/training()?NextPartitionKey=REDACTED&NextRowKey=REDACTED'\n",
      "Request method: 'GET'\n",
      "Request headers:\n",
      "    'x-ms-version': 'REDACTED'\n",
      "    'DataServiceVersion': 'REDACTED'\n",
      "    'Accept': 'application/json;odata=minimalmetadata'\n",
      "    'x-ms-client-request-id': 'f58734e9-b0a1-11ed-90c7-e848b8c82000'\n",
      "    'x-ms-date': 'REDACTED'\n",
      "    'Date': 'Sun, 19 Feb 2023 22:08:37 GMT'\n",
      "    'User-Agent': 'azsdk-python-data-tables/12.4.1 Python/3.9.6 (Windows-10-10.0.22000-SP0)'\n",
      "    'Authorization': 'REDACTED'\n",
      "No body was attached to the request\n",
      "INFO:azure.core.pipeline.policies.http_logging_policy:Response status: 200\n",
      "Response headers:\n",
      "    'Cache-Control': 'no-cache'\n",
      "    'Transfer-Encoding': 'chunked'\n",
      "    'Content-Type': 'application/json;odata=minimalmetadata;streaming=true;charset=utf-8'\n",
      "    'Server': 'Windows-Azure-Table/1.0 Microsoft-HTTPAPI/2.0'\n",
      "    'x-ms-request-id': 'aae1ca9f-6002-0030-5eae-4461a0000000'\n",
      "    'x-ms-client-request-id': 'f58734e9-b0a1-11ed-90c7-e848b8c82000'\n",
      "    'x-ms-version': 'REDACTED'\n",
      "    'X-Content-Type-Options': 'REDACTED'\n",
      "    'x-ms-continuation-NextPartitionKey': 'REDACTED'\n",
      "    'x-ms-continuation-NextRowKey': 'REDACTED'\n",
      "    'Date': 'Sun, 19 Feb 2023 22:08:39 GMT'\n",
      "INFO:azure.core.pipeline.policies.http_logging_policy:Request URL: 'https://ajdevreddit.table.core.windows.net/training()?NextPartitionKey=REDACTED&NextRowKey=REDACTED'\n",
      "Request method: 'GET'\n",
      "Request headers:\n",
      "    'x-ms-version': 'REDACTED'\n",
      "    'DataServiceVersion': 'REDACTED'\n",
      "    'Accept': 'application/json;odata=minimalmetadata'\n",
      "    'x-ms-client-request-id': 'f5bf1e12-b0a1-11ed-9faa-e848b8c82000'\n",
      "    'x-ms-date': 'REDACTED'\n",
      "    'Date': 'Sun, 19 Feb 2023 22:08:37 GMT'\n",
      "    'User-Agent': 'azsdk-python-data-tables/12.4.1 Python/3.9.6 (Windows-10-10.0.22000-SP0)'\n",
      "    'Authorization': 'REDACTED'\n",
      "No body was attached to the request\n",
      "INFO:azure.core.pipeline.policies.http_logging_policy:Response status: 200\n",
      "Response headers:\n",
      "    'Cache-Control': 'no-cache'\n",
      "    'Transfer-Encoding': 'chunked'\n",
      "    'Content-Type': 'application/json;odata=minimalmetadata;streaming=true;charset=utf-8'\n",
      "    'Server': 'Windows-Azure-Table/1.0 Microsoft-HTTPAPI/2.0'\n",
      "    'x-ms-request-id': 'aae1cac0-6002-0030-7bae-4461a0000000'\n",
      "    'x-ms-client-request-id': 'f5bf1e12-b0a1-11ed-9faa-e848b8c82000'\n",
      "    'x-ms-version': 'REDACTED'\n",
      "    'X-Content-Type-Options': 'REDACTED'\n",
      "    'x-ms-continuation-NextPartitionKey': 'REDACTED'\n",
      "    'x-ms-continuation-NextRowKey': 'REDACTED'\n",
      "    'Date': 'Sun, 19 Feb 2023 22:08:39 GMT'\n",
      "INFO:azure.core.pipeline.policies.http_logging_policy:Request URL: 'https://ajdevreddit.table.core.windows.net/training()?NextPartitionKey=REDACTED&NextRowKey=REDACTED'\n",
      "Request method: 'GET'\n",
      "Request headers:\n",
      "    'x-ms-version': 'REDACTED'\n",
      "    'DataServiceVersion': 'REDACTED'\n",
      "    'Accept': 'application/json;odata=minimalmetadata'\n",
      "    'x-ms-client-request-id': 'f621f6f3-b0a1-11ed-9399-e848b8c82000'\n",
      "    'x-ms-date': 'REDACTED'\n",
      "    'Date': 'Sun, 19 Feb 2023 22:08:38 GMT'\n",
      "    'User-Agent': 'azsdk-python-data-tables/12.4.1 Python/3.9.6 (Windows-10-10.0.22000-SP0)'\n",
      "    'Authorization': 'REDACTED'\n",
      "No body was attached to the request\n",
      "INFO:azure.core.pipeline.policies.http_logging_policy:Response status: 200\n",
      "Response headers:\n",
      "    'Cache-Control': 'no-cache'\n",
      "    'Transfer-Encoding': 'chunked'\n",
      "    'Content-Type': 'application/json;odata=minimalmetadata;streaming=true;charset=utf-8'\n",
      "    'Server': 'Windows-Azure-Table/1.0 Microsoft-HTTPAPI/2.0'\n",
      "    'x-ms-request-id': 'aae1cae5-6002-0030-1cae-4461a0000000'\n",
      "    'x-ms-client-request-id': 'f621f6f3-b0a1-11ed-9399-e848b8c82000'\n",
      "    'x-ms-version': 'REDACTED'\n",
      "    'X-Content-Type-Options': 'REDACTED'\n",
      "    'x-ms-continuation-NextPartitionKey': 'REDACTED'\n",
      "    'x-ms-continuation-NextRowKey': 'REDACTED'\n",
      "    'Date': 'Sun, 19 Feb 2023 22:08:40 GMT'\n",
      "INFO:azure.core.pipeline.policies.http_logging_policy:Request URL: 'https://ajdevreddit.table.core.windows.net/training()?NextPartitionKey=REDACTED&NextRowKey=REDACTED'\n",
      "Request method: 'GET'\n",
      "Request headers:\n",
      "    'x-ms-version': 'REDACTED'\n",
      "    'DataServiceVersion': 'REDACTED'\n",
      "    'Accept': 'application/json;odata=minimalmetadata'\n",
      "    'x-ms-client-request-id': 'f654fd71-b0a1-11ed-bd00-e848b8c82000'\n",
      "    'x-ms-date': 'REDACTED'\n",
      "    'Date': 'Sun, 19 Feb 2023 22:08:38 GMT'\n",
      "    'User-Agent': 'azsdk-python-data-tables/12.4.1 Python/3.9.6 (Windows-10-10.0.22000-SP0)'\n",
      "    'Authorization': 'REDACTED'\n",
      "No body was attached to the request\n",
      "INFO:azure.core.pipeline.policies.http_logging_policy:Response status: 200\n",
      "Response headers:\n",
      "    'Cache-Control': 'no-cache'\n",
      "    'Transfer-Encoding': 'chunked'\n",
      "    'Content-Type': 'application/json;odata=minimalmetadata;streaming=true;charset=utf-8'\n",
      "    'Server': 'Windows-Azure-Table/1.0 Microsoft-HTTPAPI/2.0'\n",
      "    'x-ms-request-id': 'aae1cafa-6002-0030-2dae-4461a0000000'\n",
      "    'x-ms-client-request-id': 'f654fd71-b0a1-11ed-bd00-e848b8c82000'\n",
      "    'x-ms-version': 'REDACTED'\n",
      "    'X-Content-Type-Options': 'REDACTED'\n",
      "    'x-ms-continuation-NextPartitionKey': 'REDACTED'\n",
      "    'x-ms-continuation-NextRowKey': 'REDACTED'\n",
      "    'Date': 'Sun, 19 Feb 2023 22:08:40 GMT'\n",
      "INFO:azure.core.pipeline.policies.http_logging_policy:Request URL: 'https://ajdevreddit.table.core.windows.net/training()?NextPartitionKey=REDACTED&NextRowKey=REDACTED'\n",
      "Request method: 'GET'\n",
      "Request headers:\n",
      "    'x-ms-version': 'REDACTED'\n",
      "    'DataServiceVersion': 'REDACTED'\n",
      "    'Accept': 'application/json;odata=minimalmetadata'\n",
      "    'x-ms-client-request-id': 'f683b7e2-b0a1-11ed-86cb-e848b8c82000'\n",
      "    'x-ms-date': 'REDACTED'\n",
      "    'Date': 'Sun, 19 Feb 2023 22:08:39 GMT'\n",
      "    'User-Agent': 'azsdk-python-data-tables/12.4.1 Python/3.9.6 (Windows-10-10.0.22000-SP0)'\n",
      "    'Authorization': 'REDACTED'\n",
      "No body was attached to the request\n",
      "INFO:azure.core.pipeline.policies.http_logging_policy:Response status: 200\n",
      "Response headers:\n",
      "    'Cache-Control': 'no-cache'\n",
      "    'Transfer-Encoding': 'chunked'\n",
      "    'Content-Type': 'application/json;odata=minimalmetadata;streaming=true;charset=utf-8'\n",
      "    'Server': 'Windows-Azure-Table/1.0 Microsoft-HTTPAPI/2.0'\n",
      "    'x-ms-request-id': 'aae1cb1e-6002-0030-4dae-4461a0000000'\n",
      "    'x-ms-client-request-id': 'f683b7e2-b0a1-11ed-86cb-e848b8c82000'\n",
      "    'x-ms-version': 'REDACTED'\n",
      "    'X-Content-Type-Options': 'REDACTED'\n",
      "    'x-ms-continuation-NextPartitionKey': 'REDACTED'\n",
      "    'x-ms-continuation-NextRowKey': 'REDACTED'\n",
      "    'Date': 'Sun, 19 Feb 2023 22:08:40 GMT'\n",
      "INFO:azure.core.pipeline.policies.http_logging_policy:Request URL: 'https://ajdevreddit.table.core.windows.net/training()?NextPartitionKey=REDACTED&NextRowKey=REDACTED'\n",
      "Request method: 'GET'\n",
      "Request headers:\n",
      "    'x-ms-version': 'REDACTED'\n",
      "    'DataServiceVersion': 'REDACTED'\n",
      "    'Accept': 'application/json;odata=minimalmetadata'\n",
      "    'x-ms-client-request-id': 'f6b40abe-b0a1-11ed-817c-e848b8c82000'\n",
      "    'x-ms-date': 'REDACTED'\n",
      "    'Date': 'Sun, 19 Feb 2023 22:08:39 GMT'\n",
      "    'User-Agent': 'azsdk-python-data-tables/12.4.1 Python/3.9.6 (Windows-10-10.0.22000-SP0)'\n",
      "    'Authorization': 'REDACTED'\n",
      "No body was attached to the request\n",
      "INFO:azure.core.pipeline.policies.http_logging_policy:Response status: 200\n",
      "Response headers:\n",
      "    'Cache-Control': 'no-cache'\n",
      "    'Transfer-Encoding': 'chunked'\n",
      "    'Content-Type': 'application/json;odata=minimalmetadata;streaming=true;charset=utf-8'\n",
      "    'Server': 'Windows-Azure-Table/1.0 Microsoft-HTTPAPI/2.0'\n",
      "    'x-ms-request-id': 'aae1cb34-6002-0030-5fae-4461a0000000'\n",
      "    'x-ms-client-request-id': 'f6b40abe-b0a1-11ed-817c-e848b8c82000'\n",
      "    'x-ms-version': 'REDACTED'\n",
      "    'X-Content-Type-Options': 'REDACTED'\n",
      "    'Date': 'Sun, 19 Feb 2023 22:08:41 GMT'\n",
      "INFO:root:== Starting greentext==\n",
      "INFO:shared_code.utility.scripts.image_analysis::: Current Device: 0\n",
      "INFO:shared_code.utility.scripts.image_analysis::: Current Device: 0\n",
      "INFO:shared_code.utility.scripts.image_analysis::: Current Device: 0\n"
     ]
    },
    {
     "name": "stdout",
     "output_type": "stream",
     "text": [
      ":: Predicting image: /data/images/greentext/QIRfI06.jpg\n",
      ":: Predicting image: /data/images/greentext/QIRfI06.jpg\n"
     ]
    }
   ],
   "source": [
    "logging.getLogger(\"azure.storage\").setLevel(logging.WARNING)\n",
    "for sub in subs:\n",
    "    collector.download_subreddit_images(sub)\n",
    "# ddf.map_partitions(lambda x: x.apply(lambda row: collector.download_subreddit_images(row[\"sub\"]), axis=1)).compute()"
   ],
   "metadata": {
    "collapsed": false
   }
  }
 ],
 "metadata": {
  "kernelspec": {
   "display_name": "Python 3",
   "language": "python",
   "name": "python3"
  },
  "language_info": {
   "codemirror_mode": {
    "name": "ipython",
    "version": 2
   },
   "file_extension": ".py",
   "mimetype": "text/x-python",
   "name": "python",
   "nbconvert_exporter": "python",
   "pygments_lexer": "ipython2",
   "version": "2.7.6"
  }
 },
 "nbformat": 4,
 "nbformat_minor": 0
}
