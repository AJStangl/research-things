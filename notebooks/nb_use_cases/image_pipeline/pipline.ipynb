{
 "cells": [
  {
   "cell_type": "code",
   "execution_count": null,
   "metadata": {
    "collapsed": true,
    "pycharm": {
     "is_executing": true
    }
   },
   "outputs": [
    {
     "data": {
      "text/plain": "                sub\n0         greentext\n1             Faces\n2         EarthPorn\n3          CityPorn\n4         sfwpetite\n5  SFWNextDoorGirls\n6       SFWRedheads",
      "text/html": "<div>\n<style scoped>\n    .dataframe tbody tr th:only-of-type {\n        vertical-align: middle;\n    }\n\n    .dataframe tbody tr th {\n        vertical-align: top;\n    }\n\n    .dataframe thead th {\n        text-align: right;\n    }\n</style>\n<table border=\"1\" class=\"dataframe\">\n  <thead>\n    <tr style=\"text-align: right;\">\n      <th></th>\n      <th>sub</th>\n    </tr>\n  </thead>\n  <tbody>\n    <tr>\n      <th>0</th>\n      <td>greentext</td>\n    </tr>\n    <tr>\n      <th>1</th>\n      <td>Faces</td>\n    </tr>\n    <tr>\n      <th>2</th>\n      <td>EarthPorn</td>\n    </tr>\n    <tr>\n      <th>3</th>\n      <td>CityPorn</td>\n    </tr>\n    <tr>\n      <th>4</th>\n      <td>sfwpetite</td>\n    </tr>\n    <tr>\n      <th>5</th>\n      <td>SFWNextDoorGirls</td>\n    </tr>\n    <tr>\n      <th>6</th>\n      <td>SFWRedheads</td>\n    </tr>\n  </tbody>\n</table>\n</div>"
     },
     "metadata": {},
     "output_type": "display_data"
    },
    {
     "name": "stderr",
     "output_type": "stream",
     "text": [
      "INFO:azure.core.pipeline.policies.http_logging_policy:Request URL: 'https://ajdevreddit.table.core.windows.net/training()'\n",
      "Request method: 'GET'\n",
      "Request headers:\n",
      "    'x-ms-version': 'REDACTED'\n",
      "    'DataServiceVersion': 'REDACTED'\n",
      "    'Accept': 'application/json;odata=minimalmetadata'\n",
      "    'x-ms-client-request-id': '4e71ac43-b0a2-11ed-9973-e848b8c82000'\n",
      "    'x-ms-date': 'REDACTED'\n",
      "    'Date': 'Sun, 19 Feb 2023 22:11:06 GMT'\n",
      "    'User-Agent': 'azsdk-python-data-tables/12.4.1 Python/3.9.6 (Windows-10-10.0.22000-SP0)'\n",
      "    'Authorization': 'REDACTED'\n",
      "No body was attached to the request\n",
      "INFO:azure.core.pipeline.policies.http_logging_policy:Response status: 200\n",
      "Response headers:\n",
      "    'Cache-Control': 'no-cache'\n",
      "    'Transfer-Encoding': 'chunked'\n",
      "    'Content-Type': 'application/json;odata=minimalmetadata;streaming=true;charset=utf-8'\n",
      "    'Server': 'Windows-Azure-Table/1.0 Microsoft-HTTPAPI/2.0'\n",
      "    'x-ms-request-id': 'a1e3d281-e002-0063-33af-444294000000'\n",
      "    'x-ms-client-request-id': '4e71ac43-b0a2-11ed-9973-e848b8c82000'\n",
      "    'x-ms-version': 'REDACTED'\n",
      "    'X-Content-Type-Options': 'REDACTED'\n",
      "    'x-ms-continuation-NextPartitionKey': 'REDACTED'\n",
      "    'x-ms-continuation-NextRowKey': 'REDACTED'\n",
      "    'Date': 'Sun, 19 Feb 2023 22:11:08 GMT'\n",
      "INFO:azure.core.pipeline.policies.http_logging_policy:Request URL: 'https://ajdevreddit.table.core.windows.net/training()?NextPartitionKey=REDACTED&NextRowKey=REDACTED'\n",
      "Request method: 'GET'\n",
      "Request headers:\n",
      "    'x-ms-version': 'REDACTED'\n",
      "    'DataServiceVersion': 'REDACTED'\n",
      "    'Accept': 'application/json;odata=minimalmetadata'\n",
      "    'x-ms-client-request-id': '4edebc43-b0a2-11ed-9305-e848b8c82000'\n",
      "    'x-ms-date': 'REDACTED'\n",
      "    'Date': 'Sun, 19 Feb 2023 22:11:07 GMT'\n",
      "    'User-Agent': 'azsdk-python-data-tables/12.4.1 Python/3.9.6 (Windows-10-10.0.22000-SP0)'\n",
      "    'Authorization': 'REDACTED'\n",
      "No body was attached to the request\n",
      "INFO:azure.core.pipeline.policies.http_logging_policy:Response status: 200\n",
      "Response headers:\n",
      "    'Cache-Control': 'no-cache'\n",
      "    'Transfer-Encoding': 'chunked'\n",
      "    'Content-Type': 'application/json;odata=minimalmetadata;streaming=true;charset=utf-8'\n",
      "    'Server': 'Windows-Azure-Table/1.0 Microsoft-HTTPAPI/2.0'\n",
      "    'x-ms-request-id': 'a1e3d2ca-e002-0063-6faf-444294000000'\n",
      "    'x-ms-client-request-id': '4edebc43-b0a2-11ed-9305-e848b8c82000'\n",
      "    'x-ms-version': 'REDACTED'\n",
      "    'X-Content-Type-Options': 'REDACTED'\n",
      "    'x-ms-continuation-NextPartitionKey': 'REDACTED'\n",
      "    'x-ms-continuation-NextRowKey': 'REDACTED'\n",
      "    'Date': 'Sun, 19 Feb 2023 22:11:09 GMT'\n",
      "INFO:azure.core.pipeline.policies.http_logging_policy:Request URL: 'https://ajdevreddit.table.core.windows.net/training()?NextPartitionKey=REDACTED&NextRowKey=REDACTED'\n",
      "Request method: 'GET'\n",
      "Request headers:\n",
      "    'x-ms-version': 'REDACTED'\n",
      "    'DataServiceVersion': 'REDACTED'\n",
      "    'Accept': 'application/json;odata=minimalmetadata'\n",
      "    'x-ms-client-request-id': '4f1139d4-b0a2-11ed-a2a5-e848b8c82000'\n",
      "    'x-ms-date': 'REDACTED'\n",
      "    'Date': 'Sun, 19 Feb 2023 22:11:07 GMT'\n",
      "    'User-Agent': 'azsdk-python-data-tables/12.4.1 Python/3.9.6 (Windows-10-10.0.22000-SP0)'\n",
      "    'Authorization': 'REDACTED'\n",
      "No body was attached to the request\n",
      "INFO:azure.core.pipeline.policies.http_logging_policy:Response status: 200\n",
      "Response headers:\n",
      "    'Cache-Control': 'no-cache'\n",
      "    'Transfer-Encoding': 'chunked'\n",
      "    'Content-Type': 'application/json;odata=minimalmetadata;streaming=true;charset=utf-8'\n",
      "    'Server': 'Windows-Azure-Table/1.0 Microsoft-HTTPAPI/2.0'\n",
      "    'x-ms-request-id': 'a1e3d2dd-e002-0063-01af-444294000000'\n",
      "    'x-ms-client-request-id': '4f1139d4-b0a2-11ed-a2a5-e848b8c82000'\n",
      "    'x-ms-version': 'REDACTED'\n",
      "    'X-Content-Type-Options': 'REDACTED'\n",
      "    'x-ms-continuation-NextPartitionKey': 'REDACTED'\n",
      "    'x-ms-continuation-NextRowKey': 'REDACTED'\n",
      "    'Date': 'Sun, 19 Feb 2023 22:11:09 GMT'\n",
      "INFO:azure.core.pipeline.policies.http_logging_policy:Request URL: 'https://ajdevreddit.table.core.windows.net/training()?NextPartitionKey=REDACTED&NextRowKey=REDACTED'\n",
      "Request method: 'GET'\n",
      "Request headers:\n",
      "    'x-ms-version': 'REDACTED'\n",
      "    'DataServiceVersion': 'REDACTED'\n",
      "    'Accept': 'application/json;odata=minimalmetadata'\n",
      "    'x-ms-client-request-id': '4f44b99e-b0a2-11ed-b12b-e848b8c82000'\n",
      "    'x-ms-date': 'REDACTED'\n",
      "    'Date': 'Sun, 19 Feb 2023 22:11:07 GMT'\n",
      "    'User-Agent': 'azsdk-python-data-tables/12.4.1 Python/3.9.6 (Windows-10-10.0.22000-SP0)'\n",
      "    'Authorization': 'REDACTED'\n",
      "No body was attached to the request\n",
      "INFO:azure.core.pipeline.policies.http_logging_policy:Response status: 200\n",
      "Response headers:\n",
      "    'Cache-Control': 'no-cache'\n",
      "    'Transfer-Encoding': 'chunked'\n",
      "    'Content-Type': 'application/json;odata=minimalmetadata;streaming=true;charset=utf-8'\n",
      "    'Server': 'Windows-Azure-Table/1.0 Microsoft-HTTPAPI/2.0'\n",
      "    'x-ms-request-id': 'a1e3d307-e002-0063-26af-444294000000'\n",
      "    'x-ms-client-request-id': '4f44b99e-b0a2-11ed-b12b-e848b8c82000'\n",
      "    'x-ms-version': 'REDACTED'\n",
      "    'X-Content-Type-Options': 'REDACTED'\n",
      "    'x-ms-continuation-NextPartitionKey': 'REDACTED'\n",
      "    'x-ms-continuation-NextRowKey': 'REDACTED'\n",
      "    'Date': 'Sun, 19 Feb 2023 22:11:09 GMT'\n",
      "INFO:azure.core.pipeline.policies.http_logging_policy:Request URL: 'https://ajdevreddit.table.core.windows.net/training()?NextPartitionKey=REDACTED&NextRowKey=REDACTED'\n",
      "Request method: 'GET'\n",
      "Request headers:\n",
      "    'x-ms-version': 'REDACTED'\n",
      "    'DataServiceVersion': 'REDACTED'\n",
      "    'Accept': 'application/json;odata=minimalmetadata'\n",
      "    'x-ms-client-request-id': '4f78ada1-b0a2-11ed-b662-e848b8c82000'\n",
      "    'x-ms-date': 'REDACTED'\n",
      "    'Date': 'Sun, 19 Feb 2023 22:11:08 GMT'\n",
      "    'User-Agent': 'azsdk-python-data-tables/12.4.1 Python/3.9.6 (Windows-10-10.0.22000-SP0)'\n",
      "    'Authorization': 'REDACTED'\n",
      "No body was attached to the request\n",
      "INFO:azure.core.pipeline.policies.http_logging_policy:Response status: 200\n",
      "Response headers:\n",
      "    'Cache-Control': 'no-cache'\n",
      "    'Transfer-Encoding': 'chunked'\n",
      "    'Content-Type': 'application/json;odata=minimalmetadata;streaming=true;charset=utf-8'\n",
      "    'Server': 'Windows-Azure-Table/1.0 Microsoft-HTTPAPI/2.0'\n",
      "    'x-ms-request-id': 'a1e3d334-e002-0063-4caf-444294000000'\n",
      "    'x-ms-client-request-id': '4f78ada1-b0a2-11ed-b662-e848b8c82000'\n",
      "    'x-ms-version': 'REDACTED'\n",
      "    'X-Content-Type-Options': 'REDACTED'\n",
      "    'x-ms-continuation-NextPartitionKey': 'REDACTED'\n",
      "    'x-ms-continuation-NextRowKey': 'REDACTED'\n",
      "    'Date': 'Sun, 19 Feb 2023 22:11:10 GMT'\n",
      "INFO:azure.core.pipeline.policies.http_logging_policy:Request URL: 'https://ajdevreddit.table.core.windows.net/training()?NextPartitionKey=REDACTED&NextRowKey=REDACTED'\n",
      "Request method: 'GET'\n",
      "Request headers:\n",
      "    'x-ms-version': 'REDACTED'\n",
      "    'DataServiceVersion': 'REDACTED'\n",
      "    'Accept': 'application/json;odata=minimalmetadata'\n",
      "    'x-ms-client-request-id': '4fabb97c-b0a2-11ed-b697-e848b8c82000'\n",
      "    'x-ms-date': 'REDACTED'\n",
      "    'Date': 'Sun, 19 Feb 2023 22:11:08 GMT'\n",
      "    'User-Agent': 'azsdk-python-data-tables/12.4.1 Python/3.9.6 (Windows-10-10.0.22000-SP0)'\n",
      "    'Authorization': 'REDACTED'\n",
      "No body was attached to the request\n",
      "INFO:azure.core.pipeline.policies.http_logging_policy:Response status: 200\n",
      "Response headers:\n",
      "    'Cache-Control': 'no-cache'\n",
      "    'Transfer-Encoding': 'chunked'\n",
      "    'Content-Type': 'application/json;odata=minimalmetadata;streaming=true;charset=utf-8'\n",
      "    'Server': 'Windows-Azure-Table/1.0 Microsoft-HTTPAPI/2.0'\n",
      "    'x-ms-request-id': 'a1e3d362-e002-0063-70af-444294000000'\n",
      "    'x-ms-client-request-id': '4fabb97c-b0a2-11ed-b697-e848b8c82000'\n",
      "    'x-ms-version': 'REDACTED'\n",
      "    'X-Content-Type-Options': 'REDACTED'\n",
      "    'x-ms-continuation-NextPartitionKey': 'REDACTED'\n",
      "    'x-ms-continuation-NextRowKey': 'REDACTED'\n",
      "    'Date': 'Sun, 19 Feb 2023 22:11:10 GMT'\n",
      "INFO:azure.core.pipeline.policies.http_logging_policy:Request URL: 'https://ajdevreddit.table.core.windows.net/training()?NextPartitionKey=REDACTED&NextRowKey=REDACTED'\n",
      "Request method: 'GET'\n",
      "Request headers:\n",
      "    'x-ms-version': 'REDACTED'\n",
      "    'DataServiceVersion': 'REDACTED'\n",
      "    'Accept': 'application/json;odata=minimalmetadata'\n",
      "    'x-ms-client-request-id': '4fe1acf9-b0a2-11ed-8926-e848b8c82000'\n",
      "    'x-ms-date': 'REDACTED'\n",
      "    'Date': 'Sun, 19 Feb 2023 22:11:08 GMT'\n",
      "    'User-Agent': 'azsdk-python-data-tables/12.4.1 Python/3.9.6 (Windows-10-10.0.22000-SP0)'\n",
      "    'Authorization': 'REDACTED'\n",
      "No body was attached to the request\n",
      "INFO:azure.core.pipeline.policies.http_logging_policy:Response status: 200\n",
      "Response headers:\n",
      "    'Cache-Control': 'no-cache'\n",
      "    'Transfer-Encoding': 'chunked'\n",
      "    'Content-Type': 'application/json;odata=minimalmetadata;streaming=true;charset=utf-8'\n",
      "    'Server': 'Windows-Azure-Table/1.0 Microsoft-HTTPAPI/2.0'\n",
      "    'x-ms-request-id': 'a1e3d37a-e002-0063-03af-444294000000'\n",
      "    'x-ms-client-request-id': '4fe1acf9-b0a2-11ed-8926-e848b8c82000'\n",
      "    'x-ms-version': 'REDACTED'\n",
      "    'X-Content-Type-Options': 'REDACTED'\n",
      "    'Date': 'Sun, 19 Feb 2023 22:11:10 GMT'\n",
      "INFO:root:== Starting greentext==\n",
      "INFO:shared_code.utility.scripts.image_analysis::: Current Device: 0\n",
      "INFO:shared_code.utility.scripts.image_analysis::: Current Device: 0\n"
     ]
    },
    {
     "name": "stdout",
     "output_type": "stream",
     "text": [
      ":: Predicting image: /data/images/greentext/QIRfI06.jpg\n"
     ]
    },
    {
     "name": "stderr",
     "output_type": "stream",
     "text": [
      "INFO:root:Resizing image /data/images/greentext/QIRfI06.jpg to /data/images/greentext/thumbnail/QIRfI06.jpg...\n",
      "INFO:root:{'PartitionKey': 'training', 'RowKey': '10105oc', 'image': '/data/images/greentext/QIRfI06.jpg', 'text': 'Anon becomes an adult', 'id': '10105oc', 'author': 'One-Interaction-8843', 'url': 'https://i.imgur.com/QIRfI06.jpg', 'subreddit': 'greentext', 'flair': None, 'permalink': '/r/greentext/comments/10105oc/anon_becomes_an_adult/', 'hash': 'f45c514b96a5c6cecc837795e2d6bf73', 'caption': 'A man in a blue shirt is sitting on a red couch.', 'updated_caption': 'a collage of photos of a person with a cat on their lap', 'exists': True, 'small_image': '/data/images/greentext/thumbnail/QIRfI06.jpg', 'image_name': 'QIRfI06.jpg', 'curated': False}\n",
      "INFO:azure.core.pipeline.policies.http_logging_policy:Request URL: 'https://ajdevreddit.table.core.windows.net/training(PartitionKey='training',RowKey='10105oc')'\n",
      "Request method: 'PATCH'\n",
      "Request headers:\n",
      "    'x-ms-version': 'REDACTED'\n",
      "    'DataServiceVersion': 'REDACTED'\n",
      "    'Content-Type': 'application/json'\n",
      "    'Accept': 'application/json'\n",
      "    'Content-Length': '1137'\n",
      "    'x-ms-client-request-id': '6da50094-b0a2-11ed-88b6-e848b8c82000'\n",
      "    'x-ms-date': 'REDACTED'\n",
      "    'Date': 'Sun, 19 Feb 2023 22:11:58 GMT'\n",
      "    'User-Agent': 'azsdk-python-data-tables/12.4.1 Python/3.9.6 (Windows-10-10.0.22000-SP0)'\n",
      "    'Authorization': 'REDACTED'\n",
      "A body is sent with the request\n",
      "INFO:azure.core.pipeline.policies.http_logging_policy:Response status: 204\n",
      "Response headers:\n",
      "    'Cache-Control': 'no-cache'\n",
      "    'Content-Length': '0'\n",
      "    'ETag': 'W/\"datetime'2023-02-19T22%3A12%3A01.101432Z'\"'\n",
      "    'Server': 'Windows-Azure-Table/1.0 Microsoft-HTTPAPI/2.0'\n",
      "    'x-ms-request-id': 'a1e3eb1c-e002-0063-39af-444294000000'\n",
      "    'x-ms-client-request-id': '6da50094-b0a2-11ed-88b6-e848b8c82000'\n",
      "    'x-ms-version': 'REDACTED'\n",
      "    'X-Content-Type-Options': 'REDACTED'\n",
      "    'Date': 'Sun, 19 Feb 2023 22:12:00 GMT'\n",
      "INFO:root:File downloaded\tQIRfI06.jpg\tcount\t1\n"
     ]
    },
    {
     "name": "stdout",
     "output_type": "stream",
     "text": [
      ":: Decoding output for image: /data/images/greentext/QIRfI06.jpg\n",
      ":: Completed prediction for image: /data/images/greentext/QIRfI06.jpg\n"
     ]
    },
    {
     "name": "stderr",
     "output_type": "stream",
     "text": [
      "INFO:shared_code.utility.scripts.image_analysis::: Current Device: 0\n",
      "INFO:shared_code.utility.scripts.image_analysis::: Current Device: 0\n"
     ]
    },
    {
     "name": "stdout",
     "output_type": "stream",
     "text": [
      ":: Predicting image: /data/images/greentext/4nilltghyg9a1.jpg\n"
     ]
    },
    {
     "name": "stderr",
     "output_type": "stream",
     "text": [
      "INFO:root:Resizing image /data/images/greentext/4nilltghyg9a1.jpg to /data/images/greentext/thumbnail/4nilltghyg9a1.jpg...\n",
      "INFO:root:{'PartitionKey': 'training', 'RowKey': '100yzlb', 'image': '/data/images/greentext/4nilltghyg9a1.jpg', 'text': 'Mongolian weaving forum', 'id': '100yzlb', 'author': 'Economy_Breadfruit34', 'url': 'https://i.redd.it/4nilltghyg9a1.jpg', 'subreddit': 'greentext', 'flair': None, 'permalink': '/r/greentext/comments/100yzlb/mongolian_weaving_forum/', 'hash': '649664cdc314a30ded5a6946fdf42186', 'caption': 'A man in a red shirt is standing in front of a building with a fountain in the background.', 'updated_caption': 'a cake with a picture of a man on it', 'exists': True, 'small_image': '/data/images/greentext/thumbnail/4nilltghyg9a1.jpg', 'image_name': '4nilltghyg9a1.jpg', 'curated': False}\n",
      "INFO:azure.core.pipeline.policies.http_logging_policy:Request URL: 'https://ajdevreddit.table.core.windows.net/training(PartitionKey='training',RowKey='100yzlb')'\n",
      "Request method: 'PATCH'\n",
      "Request headers:\n",
      "    'x-ms-version': 'REDACTED'\n",
      "    'DataServiceVersion': 'REDACTED'\n",
      "    'Content-Type': 'application/json'\n",
      "    'Accept': 'application/json'\n",
      "    'Content-Length': '1186'\n",
      "    'x-ms-client-request-id': '89a9103f-b0a2-11ed-909e-e848b8c82000'\n",
      "    'x-ms-date': 'REDACTED'\n",
      "    'Date': 'Sun, 19 Feb 2023 22:12:45 GMT'\n",
      "    'User-Agent': 'azsdk-python-data-tables/12.4.1 Python/3.9.6 (Windows-10-10.0.22000-SP0)'\n",
      "    'Authorization': 'REDACTED'\n",
      "A body is sent with the request\n"
     ]
    },
    {
     "name": "stdout",
     "output_type": "stream",
     "text": [
      ":: Decoding output for image: /data/images/greentext/4nilltghyg9a1.jpg\n",
      ":: Completed prediction for image: /data/images/greentext/4nilltghyg9a1.jpg\n"
     ]
    },
    {
     "name": "stderr",
     "output_type": "stream",
     "text": [
      "INFO:azure.core.pipeline.policies.http_logging_policy:Response status: 204\n",
      "Response headers:\n",
      "    'Cache-Control': 'no-cache'\n",
      "    'Content-Length': '0'\n",
      "    'ETag': 'W/\"datetime'2023-02-19T22%3A12%3A48.2322997Z'\"'\n",
      "    'Server': 'Windows-Azure-Table/1.0 Microsoft-HTTPAPI/2.0'\n",
      "    'x-ms-request-id': 'a1e40252-e002-0063-29af-444294000000'\n",
      "    'x-ms-client-request-id': '89a9103f-b0a2-11ed-909e-e848b8c82000'\n",
      "    'x-ms-version': 'REDACTED'\n",
      "    'X-Content-Type-Options': 'REDACTED'\n",
      "    'Date': 'Sun, 19 Feb 2023 22:12:47 GMT'\n",
      "INFO:root:File downloaded\t4nilltghyg9a1.jpg\tcount\t2\n",
      "INFO:shared_code.utility.scripts.image_analysis::: Current Device: 0\n",
      "INFO:shared_code.utility.scripts.image_analysis::: Current Device: 0\n"
     ]
    },
    {
     "name": "stdout",
     "output_type": "stream",
     "text": [
      ":: Predicting image: /data/images/greentext/mzr5srozfk9a1.jpg\n"
     ]
    },
    {
     "name": "stderr",
     "output_type": "stream",
     "text": [
      "INFO:root:Resizing image /data/images/greentext/mzr5srozfk9a1.jpg to /data/images/greentext/thumbnail/mzr5srozfk9a1.jpg...\n",
      "INFO:root:{'PartitionKey': 'training', 'RowKey': '100y7gq', 'image': '/data/images/greentext/mzr5srozfk9a1.jpg', 'text': 'Anon is confused', 'id': '100y7gq', 'author': 'thereasonyousuffer', 'url': 'https://i.redd.it/mzr5srozfk9a1.jpg', 'subreddit': 'greentext', 'flair': None, 'permalink': '/r/greentext/comments/100y7gq/anon_is_confused/', 'hash': 'e0f361a3fc459e24821a53faf8308c01', 'caption': 'A man in a red shirt and blue jeans is standing in front of a blue, red, and yellow firetruck.', 'updated_caption': 'a collage of photos showing different types of food', 'exists': True, 'small_image': '/data/images/greentext/thumbnail/mzr5srozfk9a1.jpg', 'image_name': 'mzr5srozfk9a1.jpg', 'curated': False}\n",
      "INFO:azure.core.pipeline.policies.http_logging_policy:Request URL: 'https://ajdevreddit.table.core.windows.net/training(PartitionKey='training',RowKey='100y7gq')'\n",
      "Request method: 'PATCH'\n",
      "Request headers:\n",
      "    'x-ms-version': 'REDACTED'\n",
      "    'DataServiceVersion': 'REDACTED'\n",
      "    'Content-Type': 'application/json'\n",
      "    'Accept': 'application/json'\n",
      "    'Content-Length': '1189'\n",
      "    'x-ms-client-request-id': 'aa465659-b0a2-11ed-8b0f-e848b8c82000'\n",
      "    'x-ms-date': 'REDACTED'\n",
      "    'Date': 'Sun, 19 Feb 2023 22:13:40 GMT'\n",
      "    'User-Agent': 'azsdk-python-data-tables/12.4.1 Python/3.9.6 (Windows-10-10.0.22000-SP0)'\n",
      "    'Authorization': 'REDACTED'\n",
      "A body is sent with the request\n",
      "INFO:azure.core.pipeline.policies.http_logging_policy:Response status: 204\n",
      "Response headers:\n",
      "    'Cache-Control': 'no-cache'\n",
      "    'Content-Length': '0'\n",
      "    'ETag': 'W/\"datetime'2023-02-19T22%3A13%3A42.835868Z'\"'\n",
      "    'Server': 'Windows-Azure-Table/1.0 Microsoft-HTTPAPI/2.0'\n",
      "    'x-ms-request-id': 'a1e41e36-e002-0063-0daf-444294000000'\n",
      "    'x-ms-client-request-id': 'aa465659-b0a2-11ed-8b0f-e848b8c82000'\n",
      "    'x-ms-version': 'REDACTED'\n",
      "    'X-Content-Type-Options': 'REDACTED'\n",
      "    'Date': 'Sun, 19 Feb 2023 22:13:42 GMT'\n",
      "INFO:root:File downloaded\tmzr5srozfk9a1.jpg\tcount\t3\n"
     ]
    },
    {
     "name": "stdout",
     "output_type": "stream",
     "text": [
      ":: Decoding output for image: /data/images/greentext/mzr5srozfk9a1.jpg\n",
      ":: Completed prediction for image: /data/images/greentext/mzr5srozfk9a1.jpg\n"
     ]
    },
    {
     "name": "stderr",
     "output_type": "stream",
     "text": [
      "INFO:shared_code.utility.scripts.image_analysis::: Current Device: 0\n",
      "INFO:shared_code.utility.scripts.image_analysis::: Current Device: 0\n"
     ]
    },
    {
     "name": "stdout",
     "output_type": "stream",
     "text": [
      ":: Predicting image: /data/images/greentext/MnKzRgp.jpg\n"
     ]
    },
    {
     "name": "stderr",
     "output_type": "stream",
     "text": [
      "INFO:root:Resizing image /data/images/greentext/MnKzRgp.jpg to /data/images/greentext/thumbnail/MnKzRgp.jpg...\n",
      "INFO:root:{'PartitionKey': 'training', 'RowKey': '100xsg7', 'image': '/data/images/greentext/MnKzRgp.jpg', 'text': 'Anon goes to the pool', 'id': '100xsg7', 'author': 'bartholomewjohnson', 'url': 'https://i.imgur.com/MnKzRgp.jpg', 'subreddit': 'greentext', 'flair': None, 'permalink': '/r/greentext/comments/100xsg7/anon_goes_to_the_pool/', 'hash': '3417fa29c3afb857b64225b69b6a6620', 'caption': 'A man wearing a black shirt and black pants is sitting on a red couch.', 'updated_caption': 'a close up of a picture of a person on a computer', 'exists': True, 'small_image': '/data/images/greentext/thumbnail/MnKzRgp.jpg', 'image_name': 'MnKzRgp.jpg', 'curated': False}\n",
      "INFO:azure.core.pipeline.policies.http_logging_policy:Request URL: 'https://ajdevreddit.table.core.windows.net/training(PartitionKey='training',RowKey='100xsg7')'\n",
      "Request method: 'PATCH'\n",
      "Request headers:\n",
      "    'x-ms-version': 'REDACTED'\n",
      "    'DataServiceVersion': 'REDACTED'\n",
      "    'Content-Type': 'application/json'\n",
      "    'Accept': 'application/json'\n",
      "    'Content-Length': '1151'\n",
      "    'x-ms-client-request-id': 'c6cf4d62-b0a2-11ed-9061-e848b8c82000'\n",
      "    'x-ms-date': 'REDACTED'\n",
      "    'Date': 'Sun, 19 Feb 2023 22:14:28 GMT'\n",
      "    'User-Agent': 'azsdk-python-data-tables/12.4.1 Python/3.9.6 (Windows-10-10.0.22000-SP0)'\n",
      "    'Authorization': 'REDACTED'\n",
      "A body is sent with the request\n",
      "INFO:azure.core.pipeline.policies.http_logging_policy:Response status: 204\n",
      "Response headers:\n",
      "    'Cache-Control': 'no-cache'\n",
      "    'Content-Length': '0'\n",
      "    'ETag': 'W/\"datetime'2023-02-19T22%3A14%3A30.6963191Z'\"'\n",
      "    'Server': 'Windows-Azure-Table/1.0 Microsoft-HTTPAPI/2.0'\n",
      "    'x-ms-request-id': 'a1e43a4a-e002-0063-06af-444294000000'\n",
      "    'x-ms-client-request-id': 'c6cf4d62-b0a2-11ed-9061-e848b8c82000'\n",
      "    'x-ms-version': 'REDACTED'\n",
      "    'X-Content-Type-Options': 'REDACTED'\n",
      "    'Date': 'Sun, 19 Feb 2023 22:14:30 GMT'\n",
      "INFO:root:File downloaded\tMnKzRgp.jpg\tcount\t4\n"
     ]
    },
    {
     "name": "stdout",
     "output_type": "stream",
     "text": [
      ":: Decoding output for image: /data/images/greentext/MnKzRgp.jpg\n",
      ":: Completed prediction for image: /data/images/greentext/MnKzRgp.jpg\n"
     ]
    },
    {
     "name": "stderr",
     "output_type": "stream",
     "text": [
      "INFO:shared_code.utility.scripts.image_analysis::: Current Device: 0\n",
      "INFO:shared_code.utility.scripts.image_analysis::: Current Device: 0\n"
     ]
    },
    {
     "name": "stdout",
     "output_type": "stream",
     "text": [
      ":: Predicting image: /data/images/greentext/vsih0lvn3k9a1.jpg\n"
     ]
    },
    {
     "name": "stderr",
     "output_type": "stream",
     "text": [
      "INFO:root:Resizing image /data/images/greentext/vsih0lvn3k9a1.jpg to /data/images/greentext/thumbnail/vsih0lvn3k9a1.jpg...\n",
      "INFO:root:{'PartitionKey': 'training', 'RowKey': '100wn2y', 'image': '/data/images/greentext/vsih0lvn3k9a1.jpg', 'text': 'Anon needs his meds', 'id': '100wn2y', 'author': 'Random_alien69', 'url': 'https://i.redd.it/vsih0lvn3k9a1.jpg', 'subreddit': 'greentext', 'flair': None, 'permalink': '/r/greentext/comments/100wn2y/anon_needs_his_meds/', 'hash': 'e3ba9985f7252ab173393a45bc7a8a4f', 'caption': 'A man wearing a black shirt and black pants is standing in front of a fire hydrant.', 'updated_caption': 'a poster of a man on a computer screen', 'exists': True, 'small_image': '/data/images/greentext/thumbnail/vsih0lvn3k9a1.jpg', 'image_name': 'vsih0lvn3k9a1.jpg', 'curated': False}\n",
      "INFO:azure.core.pipeline.policies.http_logging_policy:Request URL: 'https://ajdevreddit.table.core.windows.net/training(PartitionKey='training',RowKey='100wn2y')'\n",
      "Request method: 'PATCH'\n",
      "Request headers:\n",
      "    'x-ms-version': 'REDACTED'\n",
      "    'DataServiceVersion': 'REDACTED'\n",
      "    'Content-Type': 'application/json'\n",
      "    'Accept': 'application/json'\n",
      "    'Content-Length': '1167'\n",
      "    'x-ms-client-request-id': 'e7f84b5e-b0a2-11ed-a0ca-e848b8c82000'\n",
      "    'x-ms-date': 'REDACTED'\n",
      "    'Date': 'Sun, 19 Feb 2023 22:15:24 GMT'\n",
      "    'User-Agent': 'azsdk-python-data-tables/12.4.1 Python/3.9.6 (Windows-10-10.0.22000-SP0)'\n",
      "    'Authorization': 'REDACTED'\n",
      "A body is sent with the request\n",
      "INFO:azure.core.pipeline.policies.http_logging_policy:Response status: 204\n",
      "Response headers:\n",
      "    'Cache-Control': 'no-cache'\n",
      "    'Content-Length': '0'\n",
      "    'ETag': 'W/\"datetime'2023-02-19T22%3A15%3A26.3243011Z'\"'\n",
      "    'Server': 'Windows-Azure-Table/1.0 Microsoft-HTTPAPI/2.0'\n",
      "    'x-ms-request-id': 'a1e4588b-e002-0063-73af-444294000000'\n",
      "    'x-ms-client-request-id': 'e7f84b5e-b0a2-11ed-a0ca-e848b8c82000'\n",
      "    'x-ms-version': 'REDACTED'\n",
      "    'X-Content-Type-Options': 'REDACTED'\n",
      "    'Date': 'Sun, 19 Feb 2023 22:15:25 GMT'\n",
      "INFO:root:File downloaded\tvsih0lvn3k9a1.jpg\tcount\t5\n"
     ]
    },
    {
     "name": "stdout",
     "output_type": "stream",
     "text": [
      ":: Decoding output for image: /data/images/greentext/vsih0lvn3k9a1.jpg\n",
      ":: Completed prediction for image: /data/images/greentext/vsih0lvn3k9a1.jpg\n"
     ]
    },
    {
     "name": "stderr",
     "output_type": "stream",
     "text": [
      "INFO:shared_code.utility.scripts.image_analysis::: Current Device: 0\n",
      "INFO:shared_code.utility.scripts.image_analysis::: Current Device: 0\n"
     ]
    },
    {
     "name": "stdout",
     "output_type": "stream",
     "text": [
      ":: Predicting image: /data/images/greentext/o5kv6v0yvh9a1.jpg\n"
     ]
    },
    {
     "name": "stderr",
     "output_type": "stream",
     "text": [
      "INFO:root:Resizing image /data/images/greentext/o5kv6v0yvh9a1.jpg to /data/images/greentext/thumbnail/o5kv6v0yvh9a1.jpg...\n",
      "INFO:root:{'PartitionKey': 'training', 'RowKey': '100t48d', 'image': '/data/images/greentext/o5kv6v0yvh9a1.jpg', 'text': 'Anon is the King of Comedy (1982)', 'id': '100t48d', 'author': '4typical', 'url': 'https://i.redd.it/o5kv6v0yvh9a1.jpg', 'subreddit': 'greentext', 'flair': None, 'permalink': '/r/greentext/comments/100t48d/anon_is_the_king_of_comedy_1982/', 'hash': '17dd998e54765d56626e83d3273a83cf', 'caption': 'A man in a blue shirt and blue jeans is sitting on a red couch.', 'updated_caption': 'a collage of images of a person with a computer', 'exists': True, 'small_image': '/data/images/greentext/thumbnail/o5kv6v0yvh9a1.jpg', 'image_name': 'o5kv6v0yvh9a1.jpg', 'curated': False}\n",
      "INFO:azure.core.pipeline.policies.http_logging_policy:Request URL: 'https://ajdevreddit.table.core.windows.net/training(PartitionKey='training',RowKey='100t48d')'\n",
      "Request method: 'PATCH'\n",
      "Request headers:\n",
      "    'x-ms-version': 'REDACTED'\n",
      "    'DataServiceVersion': 'REDACTED'\n",
      "    'Content-Type': 'application/json'\n",
      "    'Accept': 'application/json'\n",
      "    'Content-Length': '1176'\n",
      "    'x-ms-client-request-id': '0b74569c-b0a3-11ed-90bc-e848b8c82000'\n",
      "    'x-ms-date': 'REDACTED'\n",
      "    'Date': 'Sun, 19 Feb 2023 22:16:23 GMT'\n",
      "    'User-Agent': 'azsdk-python-data-tables/12.4.1 Python/3.9.6 (Windows-10-10.0.22000-SP0)'\n",
      "    'Authorization': 'REDACTED'\n",
      "A body is sent with the request\n",
      "INFO:azure.core.pipeline.policies.http_logging_policy:Response status: 204\n",
      "Response headers:\n",
      "    'Cache-Control': 'no-cache'\n",
      "    'Content-Length': '0'\n",
      "    'ETag': 'W/\"datetime'2023-02-19T22%3A16%3A25.8620352Z'\"'\n",
      "    'Server': 'Windows-Azure-Table/1.0 Microsoft-HTTPAPI/2.0'\n",
      "    'x-ms-request-id': 'a1e47260-e002-0063-1daf-444294000000'\n",
      "    'x-ms-client-request-id': '0b74569c-b0a3-11ed-90bc-e848b8c82000'\n",
      "    'x-ms-version': 'REDACTED'\n",
      "    'X-Content-Type-Options': 'REDACTED'\n",
      "    'Date': 'Sun, 19 Feb 2023 22:16:25 GMT'\n",
      "INFO:root:File downloaded\to5kv6v0yvh9a1.jpg\tcount\t6\n"
     ]
    },
    {
     "name": "stdout",
     "output_type": "stream",
     "text": [
      ":: Decoding output for image: /data/images/greentext/o5kv6v0yvh9a1.jpg\n",
      ":: Completed prediction for image: /data/images/greentext/o5kv6v0yvh9a1.jpg\n"
     ]
    },
    {
     "name": "stderr",
     "output_type": "stream",
     "text": [
      "INFO:shared_code.utility.scripts.image_analysis::: Current Device: 0\n",
      "INFO:shared_code.utility.scripts.image_analysis::: Current Device: 0\n"
     ]
    },
    {
     "name": "stdout",
     "output_type": "stream",
     "text": [
      ":: Predicting image: /data/images/greentext/povzvzsj2j9a1.jpg\n"
     ]
    },
    {
     "name": "stderr",
     "output_type": "stream",
     "text": [
      "INFO:root:Resizing image /data/images/greentext/povzvzsj2j9a1.jpg to /data/images/greentext/thumbnail/povzvzsj2j9a1.jpg...\n",
      "INFO:root:{'PartitionKey': 'training', 'RowKey': '100rpnh', 'image': '/data/images/greentext/povzvzsj2j9a1.jpg', 'text': 'Life as Chad:', 'id': '100rpnh', 'author': 'CSNfundedHoesNDrip', 'url': 'https://i.redd.it/povzvzsj2j9a1.jpg', 'subreddit': 'greentext', 'flair': None, 'permalink': '/r/greentext/comments/100rpnh/life_as_chad/', 'hash': '41c1fc7e8a78a3b5434235b01f322f7a', 'caption': 'A man in a blue shirt is standing in front of a fire hydrant.', 'updated_caption': 'a collage of photos of a person holding a computer', 'exists': True, 'small_image': '/data/images/greentext/thumbnail/povzvzsj2j9a1.jpg', 'image_name': 'povzvzsj2j9a1.jpg', 'curated': False}\n",
      "INFO:azure.core.pipeline.policies.http_logging_policy:Request URL: 'https://ajdevreddit.table.core.windows.net/training(PartitionKey='training',RowKey='100rpnh')'\n",
      "Request method: 'PATCH'\n",
      "Request headers:\n",
      "    'x-ms-version': 'REDACTED'\n",
      "    'DataServiceVersion': 'REDACTED'\n",
      "    'Content-Type': 'application/json'\n",
      "    'Accept': 'application/json'\n",
      "    'Content-Length': '1148'\n",
      "    'x-ms-client-request-id': '2d57d09c-b0a3-11ed-a292-e848b8c82000'\n",
      "    'x-ms-date': 'REDACTED'\n",
      "    'Date': 'Sun, 19 Feb 2023 22:17:20 GMT'\n",
      "    'User-Agent': 'azsdk-python-data-tables/12.4.1 Python/3.9.6 (Windows-10-10.0.22000-SP0)'\n",
      "    'Authorization': 'REDACTED'\n",
      "A body is sent with the request\n",
      "INFO:azure.core.pipeline.policies.http_logging_policy:Response status: 204\n",
      "Response headers:\n",
      "    'Cache-Control': 'no-cache'\n",
      "    'Content-Length': '0'\n",
      "    'ETag': 'W/\"datetime'2023-02-19T22%3A17%3A22.7163142Z'\"'\n",
      "    'Server': 'Windows-Azure-Table/1.0 Microsoft-HTTPAPI/2.0'\n",
      "    'x-ms-request-id': 'a1e4897a-e002-0063-54af-444294000000'\n",
      "    'x-ms-client-request-id': '2d57d09c-b0a3-11ed-a292-e848b8c82000'\n",
      "    'x-ms-version': 'REDACTED'\n",
      "    'X-Content-Type-Options': 'REDACTED'\n",
      "    'Date': 'Sun, 19 Feb 2023 22:17:22 GMT'\n",
      "INFO:root:File downloaded\tpovzvzsj2j9a1.jpg\tcount\t7\n"
     ]
    },
    {
     "name": "stdout",
     "output_type": "stream",
     "text": [
      ":: Decoding output for image: /data/images/greentext/povzvzsj2j9a1.jpg\n",
      ":: Completed prediction for image: /data/images/greentext/povzvzsj2j9a1.jpg\n"
     ]
    },
    {
     "name": "stderr",
     "output_type": "stream",
     "text": [
      "INFO:shared_code.utility.scripts.image_analysis::: Current Device: 0\n",
      "INFO:shared_code.utility.scripts.image_analysis::: Current Device: 0\n"
     ]
    },
    {
     "name": "stdout",
     "output_type": "stream",
     "text": [
      ":: Predicting image: /data/images/greentext/57mcsqntfh9a1.jpg\n"
     ]
    },
    {
     "name": "stderr",
     "output_type": "stream",
     "text": [
      "INFO:root:Resizing image /data/images/greentext/57mcsqntfh9a1.jpg to /data/images/greentext/thumbnail/57mcsqntfh9a1.jpg...\n",
      "INFO:root:{'PartitionKey': 'training', 'RowKey': '100r0ty', 'image': '/data/images/greentext/57mcsqntfh9a1.jpg', 'text': 'Anon has a dog', 'id': '100r0ty', 'author': '234RK', 'url': 'https://i.redd.it/57mcsqntfh9a1.jpg', 'subreddit': 'greentext', 'flair': None, 'permalink': '/r/greentext/comments/100r0ty/anon_has_a_dog/', 'hash': '896859a48685677d75c73f4ec066c26a', 'caption': 'A man in a black shirt and blue jeans is sitting on a red couch.', 'updated_caption': 'a cartoon of a cat on a computer screen', 'exists': True, 'small_image': '/data/images/greentext/thumbnail/57mcsqntfh9a1.jpg', 'image_name': '57mcsqntfh9a1.jpg', 'curated': False}\n",
      "INFO:azure.core.pipeline.policies.http_logging_policy:Request URL: 'https://ajdevreddit.table.core.windows.net/training(PartitionKey='training',RowKey='100r0ty')'\n",
      "Request method: 'PATCH'\n",
      "Request headers:\n",
      "    'x-ms-version': 'REDACTED'\n",
      "    'DataServiceVersion': 'REDACTED'\n",
      "    'Content-Type': 'application/json'\n",
      "    'Accept': 'application/json'\n",
      "    'Content-Length': '1130'\n",
      "    'x-ms-client-request-id': '4dd4edaa-b0a3-11ed-a863-e848b8c82000'\n",
      "    'x-ms-date': 'REDACTED'\n",
      "    'Date': 'Sun, 19 Feb 2023 22:18:15 GMT'\n",
      "    'User-Agent': 'azsdk-python-data-tables/12.4.1 Python/3.9.6 (Windows-10-10.0.22000-SP0)'\n",
      "    'Authorization': 'REDACTED'\n",
      "A body is sent with the request\n",
      "INFO:azure.core.pipeline.policies.http_logging_policy:Response status: 204\n",
      "Response headers:\n",
      "    'Cache-Control': 'no-cache'\n",
      "    'Content-Length': '0'\n",
      "    'ETag': 'W/\"datetime'2023-02-19T22%3A18%3A17.2338131Z'\"'\n",
      "    'Server': 'Windows-Azure-Table/1.0 Microsoft-HTTPAPI/2.0'\n",
      "    'x-ms-request-id': 'a1e4a082-e002-0063-69b0-444294000000'\n",
      "    'x-ms-client-request-id': '4dd4edaa-b0a3-11ed-a863-e848b8c82000'\n",
      "    'x-ms-version': 'REDACTED'\n",
      "    'X-Content-Type-Options': 'REDACTED'\n",
      "    'Date': 'Sun, 19 Feb 2023 22:18:16 GMT'\n",
      "INFO:root:File downloaded\t57mcsqntfh9a1.jpg\tcount\t8\n"
     ]
    },
    {
     "name": "stdout",
     "output_type": "stream",
     "text": [
      ":: Decoding output for image: /data/images/greentext/57mcsqntfh9a1.jpg\n",
      ":: Completed prediction for image: /data/images/greentext/57mcsqntfh9a1.jpg\n"
     ]
    },
    {
     "name": "stderr",
     "output_type": "stream",
     "text": [
      "INFO:shared_code.utility.scripts.image_analysis::: Current Device: 0\n",
      "INFO:shared_code.utility.scripts.image_analysis::: Current Device: 0\n"
     ]
    },
    {
     "name": "stdout",
     "output_type": "stream",
     "text": [
      ":: Predicting image: /data/images/greentext/nrWGlsq.jpg\n"
     ]
    },
    {
     "name": "stderr",
     "output_type": "stream",
     "text": [
      "INFO:root:Resizing image /data/images/greentext/nrWGlsq.jpg to /data/images/greentext/thumbnail/nrWGlsq.jpg...\n",
      "INFO:root:{'PartitionKey': 'training', 'RowKey': '100qde5', 'image': '/data/images/greentext/nrWGlsq.jpg', 'text': 'Anon is trans.', 'id': '100qde5', 'author': 'Need125kUSD', 'url': 'https://i.imgur.com/nrWGlsq.jpg', 'subreddit': 'greentext', 'flair': None, 'permalink': '/r/greentext/comments/100qde5/anon_is_trans/', 'hash': '78e856ec56c761deef224d176ab10d33', 'caption': 'A man wearing a black shirt and black pants is standing in front of a fire hydrant.', 'updated_caption': 'a close up of a picture of a person on a computer', 'exists': True, 'small_image': '/data/images/greentext/thumbnail/nrWGlsq.jpg', 'image_name': 'nrWGlsq.jpg', 'curated': False}\n",
      "INFO:azure.core.pipeline.policies.http_logging_policy:Request URL: 'https://ajdevreddit.table.core.windows.net/training(PartitionKey='training',RowKey='100qde5')'\n",
      "Request method: 'PATCH'\n",
      "Request headers:\n",
      "    'x-ms-version': 'REDACTED'\n",
      "    'DataServiceVersion': 'REDACTED'\n",
      "    'Content-Type': 'application/json'\n",
      "    'Accept': 'application/json'\n",
      "    'Content-Length': '1142'\n",
      "    'x-ms-client-request-id': '73cc7791-b0a3-11ed-8613-e848b8c82000'\n",
      "    'x-ms-date': 'REDACTED'\n",
      "    'Date': 'Sun, 19 Feb 2023 22:19:18 GMT'\n",
      "    'User-Agent': 'azsdk-python-data-tables/12.4.1 Python/3.9.6 (Windows-10-10.0.22000-SP0)'\n",
      "    'Authorization': 'REDACTED'\n",
      "A body is sent with the request\n",
      "INFO:azure.core.pipeline.policies.http_logging_policy:Response status: 204\n",
      "Response headers:\n",
      "    'Cache-Control': 'no-cache'\n",
      "    'Content-Length': '0'\n",
      "    'ETag': 'W/\"datetime'2023-02-19T22%3A19%3A20.917976Z'\"'\n",
      "    'Server': 'Windows-Azure-Table/1.0 Microsoft-HTTPAPI/2.0'\n",
      "    'x-ms-request-id': 'a1e4bf8a-e002-0063-42b0-444294000000'\n",
      "    'x-ms-client-request-id': '73cc7791-b0a3-11ed-8613-e848b8c82000'\n",
      "    'x-ms-version': 'REDACTED'\n",
      "    'X-Content-Type-Options': 'REDACTED'\n",
      "    'Date': 'Sun, 19 Feb 2023 22:19:20 GMT'\n",
      "INFO:root:File downloaded\tnrWGlsq.jpg\tcount\t9\n"
     ]
    },
    {
     "name": "stdout",
     "output_type": "stream",
     "text": [
      ":: Decoding output for image: /data/images/greentext/nrWGlsq.jpg\n",
      ":: Completed prediction for image: /data/images/greentext/nrWGlsq.jpg\n"
     ]
    },
    {
     "name": "stderr",
     "output_type": "stream",
     "text": [
      "INFO:shared_code.utility.scripts.image_analysis::: Current Device: 0\n",
      "INFO:shared_code.utility.scripts.image_analysis::: Current Device: 0\n"
     ]
    },
    {
     "name": "stdout",
     "output_type": "stream",
     "text": [
      ":: Predicting image: /data/images/greentext/aw2hxpgx6h9a1.jpg\n"
     ]
    }
   ],
   "source": [
    "base_path = 'D:\\\\workspaces\\\\General\\\\notebooks\\\\nb_use_cases\\\\image_pipeline\\\\'\n",
    "notebook_name = f'{base_path}1-collect-data.ipynb'\n",
    "%run $notebook_name"
   ]
  },
  {
   "cell_type": "code",
   "execution_count": null,
   "outputs": [],
   "source": [
    "base_path = 'D:\\\\workspaces\\\\General\\\\notebooks\\\\nb_use_cases\\\\image_pipeline\\\\'\n",
    "notebook_name = base_path + '2-normalize-paths.ipynb'\n",
    "%run $notebook_name"
   ],
   "metadata": {
    "collapsed": false
   }
  },
  {
   "cell_type": "code",
   "execution_count": null,
   "outputs": [],
   "source": [
    "base_path = 'D:\\\\workspaces\\\\General\\\\notebooks\\\\nb_use_cases\\\\image_pipeline\\\\'\n",
    "notebook_name = base_path + '3-add-thumbnails.ipynb'\n",
    "%run $notebook_name"
   ],
   "metadata": {
    "collapsed": false
   }
  },
  {
   "cell_type": "code",
   "execution_count": null,
   "outputs": [],
   "source": [
    "base_path = 'D:\\\\workspaces\\\\General\\\\notebooks\\\\nb_use_cases\\\\image_pipeline\\\\'\n",
    "notebook_name = base_path + '4-add-missing-captions.ipynb'\n",
    "%run $notebook_name"
   ],
   "metadata": {
    "collapsed": false
   }
  },
  {
   "cell_type": "code",
   "execution_count": null,
   "outputs": [],
   "source": [
    "base_path = 'D:\\\\workspaces\\\\General\\\\notebooks\\\\nb_use_cases\\\\image_pipeline\\\\'\n",
    "notebook_name = base_path + '5-add-tokens-from-captions.ipynb'\n",
    "%run $notebook_name"
   ],
   "metadata": {
    "collapsed": false
   }
  }
 ],
 "metadata": {
  "kernelspec": {
   "display_name": "Python 3",
   "language": "python",
   "name": "python3"
  },
  "language_info": {
   "codemirror_mode": {
    "name": "ipython",
    "version": 2
   },
   "file_extension": ".py",
   "mimetype": "text/x-python",
   "name": "python",
   "nbconvert_exporter": "python",
   "pygments_lexer": "ipython2",
   "version": "2.7.6"
  }
 },
 "nbformat": 4,
 "nbformat_minor": 0
}
