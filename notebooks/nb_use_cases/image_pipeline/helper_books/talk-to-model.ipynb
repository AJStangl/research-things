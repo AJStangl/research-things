{
 "cells": [
  {
   "cell_type": "code",
   "execution_count": 1,
   "metadata": {
    "collapsed": true
   },
   "outputs": [],
   "source": [
    "import os\n",
    "\n",
    "os.environ[\"CUDA_VISIBLE_DEVICES\"] = \"1\"\n",
    "import torch\n",
    "from transformers import GPT2Tokenizer, GPT2LMHeadModel\n",
    "\n",
    "prompt_model_path = \"D:\\\\models\\\\SportsFanBotGhostGPT\"\n",
    "tokenizer = GPT2Tokenizer.from_pretrained(prompt_model_path)\n",
    "model = GPT2LMHeadModel.from_pretrained(prompt_model_path)"
   ]
  },
  {
   "cell_type": "code",
   "execution_count": 27,
   "outputs": [],
   "source": [
    "def validate_message(message):\n",
    "\timport re\n",
    "\tstart_end_regex = re.compile(\"<\\|startoftext\\|>(.+?)<\\|endoftext\\|>\")\n",
    "\tprompt_regex = re.compile(\"<\\|prompt\\|>(.+?)<\\|text\\|>\")\n",
    "\ttext_regex = re.compile(\"<\\|text\\|>(.+?)<\\|endoftext\\|>\")\n",
    "\tfound_start_end = start_end_regex.findall(message)\n",
    "\tif len(found_start_end) == 0:\n",
    "\t\treturn \"\", \"\"\n",
    "\n",
    "\tgenerated_prompt = \"\"\n",
    "\tgenerated_text = \"\"\n",
    "\n",
    "\tfound_prompt = prompt_regex.findall(message)\n",
    "\tif len(found_prompt) > 0:\n",
    "\t\tgenerated_prompt = found_prompt[0]\n",
    "\n",
    "\tfound_text = text_regex.findall(message)\n",
    "\tif len(found_text) > 0:\n",
    "\t\tgenerated_text = found_text[0]\n",
    "\n",
    "\n",
    "\treturn generated_prompt.strip(), generated_text.strip()"
   ],
   "metadata": {
    "collapsed": false
   }
  },
  {
   "cell_type": "code",
   "execution_count": 29,
   "outputs": [],
   "source": [
    "def generate_prompt(model_name):\n",
    "\tquestion = f\"<|startoftext|> <|model|> {model_name} <|prompt|>\"\n",
    "\n",
    "\tprompt = f\"{question}\"\n",
    "\n",
    "\tdevice = torch.device(f\"cuda\" if torch.cuda.is_available() else \"cpu\")\n",
    "\n",
    "\tgeneration_prompt = tokenizer(prompt, add_special_tokens=False, return_tensors=\"pt\")\n",
    "\n",
    "\tmodel.to(device)\n",
    "\n",
    "\tgeneration_prompt.to(device)\n",
    "\n",
    "\tinputs = generation_prompt.input_ids\n",
    "\n",
    "\tattention_mask = generation_prompt['attention_mask']\n",
    "\n",
    "\tsample_outputs = model.generate(inputs=inputs,\n",
    "\t\t\t\t\t\t\t\t\tattention_mask=attention_mask,\n",
    "\t\t\t\t\t\t\t\t\tdo_sample=True,\n",
    "\t\t\t\t\t\t\t\t\tmax_length=1024,\n",
    "\t\t\t\t\t\t\t\t\tnum_return_sequences=1,\n",
    "\t\t\t\t\t\t\t\t\trepetition_penalty=1.1)\n",
    "\tresult = \"\"\n",
    "\tfor i, sample_output in enumerate(sample_outputs):\n",
    "\t\tresult = tokenizer.decode(sample_output, skip_special_tokens=False)\n",
    "\t\tcleaned_prompt_text_pair = validate_message(result)\n",
    "\t\treturn cleaned_prompt_text_pair"
   ],
   "metadata": {
    "collapsed": false
   }
  },
  {
   "cell_type": "code",
   "execution_count": 31,
   "outputs": [
    {
     "name": "stderr",
     "output_type": "stream",
     "text": [
      "Setting `pad_token_id` to `eos_token_id`:50256 for open-end generation.\n"
     ]
    },
    {
     "name": "stdout",
     "output_type": "stream",
     "text": [
      "Nike, Barcelona, Spain\n",
      "A group of people are walking down the street in front.\n"
     ]
    }
   ],
   "source": [
    "text, prompt = generate_prompt(\"CityDiffusion\")\n",
    "print(text)\n",
    "print(prompt)"
   ],
   "metadata": {
    "collapsed": false
   }
  }
 ],
 "metadata": {
  "kernelspec": {
   "display_name": "Python 3",
   "language": "python",
   "name": "python3"
  },
  "language_info": {
   "codemirror_mode": {
    "name": "ipython",
    "version": 2
   },
   "file_extension": ".py",
   "mimetype": "text/x-python",
   "name": "python",
   "nbconvert_exporter": "python",
   "pygments_lexer": "ipython2",
   "version": "2.7.6"
  }
 },
 "nbformat": 4,
 "nbformat_minor": 0
}
