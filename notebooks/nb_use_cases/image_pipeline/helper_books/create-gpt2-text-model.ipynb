{
 "cells": [
  {
   "cell_type": "code",
   "execution_count": null,
   "metadata": {
    "collapsed": true
   },
   "outputs": [],
   "source": [
    "from torch.utils.data import Dataset, random_split\n",
    "from transformers import GPT2LMHeadModel\n",
    "from transformers import TrainingArguments, Trainer\n",
    "import torch\n",
    "import random"
   ]
  },
  {
   "cell_type": "code",
   "execution_count": null,
   "outputs": [],
   "source": [
    "class CustomDataset(Dataset):\n",
    "\t_input_id: str = 'input_ids'\n",
    "\t_attention_mask: str = 'attention_mask'\n",
    "\n",
    "\tdef __init__(self, text_list, _tokenizer, _max_length, truncation=False):\n",
    "\t\tself.input_ids = []\n",
    "\t\tself.attention_mask = []\n",
    "\t\tself.labels = []\n",
    "\t\tfor text in text_list:\n",
    "\t\t\tencodings_dict = _tokenizer(text, truncation=truncation, max_length=_max_length)\n",
    "\t\t\tself.input_ids.append(torch.tensor(encodings_dict[self._input_id]))\n",
    "\t\t\tself.attention_mask.append(torch.tensor(encodings_dict[self._attention_mask]))\n",
    "\n",
    "\tdef __len__(self):\n",
    "\t\treturn len(self.input_ids)\n",
    "\n",
    "\tdef __getitem__(self, index):\n",
    "\t\treturn self.input_ids[index], self.attention_mask[index]"
   ],
   "metadata": {
    "collapsed": false
   }
  },
  {
   "cell_type": "code",
   "execution_count": null,
   "outputs": [],
   "source": [
    "model_type = \"\"\n",
    "\n",
    "model_name = f\"sd-prompt-bot{model_type}-local\"\n",
    "\n",
    "parent_directory = \"/models/\"\n",
    "\n",
    "model_output_dir = f\"{parent_directory}/{model_name}\"\n",
    "\n",
    "tokenizer_path = f\"{model_output_dir}\""
   ],
   "metadata": {
    "collapsed": false
   }
  },
  {
   "cell_type": "code",
   "execution_count": null,
   "outputs": [],
   "source": [
    "data_lines = []\n",
    "with open('training.txt', 'r', encoding=\"UTF-8\") as f:\n",
    "\tlines = f.readlines()\n",
    "\tfor line in lines:\n",
    "\t\tfoo = line\n",
    "\t\tprint(foo)\n",
    "\t\tdata_lines.append(foo)\n",
    "\n",
    "random.shuffle(data_lines)"
   ],
   "metadata": {
    "collapsed": false
   }
  },
  {
   "cell_type": "code",
   "execution_count": null,
   "outputs": [],
   "source": [
    "from transformers import GPT2Tokenizer\n",
    "\n",
    "tokenizer = GPT2Tokenizer.from_pretrained(f\"gpt2{model_type}\")\n",
    "\n",
    "model = GPT2LMHeadModel.from_pretrained(f\"gpt2{model_type}\")\n",
    "\n",
    "special_tokens_dict = {\n",
    "    \"bos_token\": \"<|startoftext|>\",\n",
    "    \"eos_token\": \"<|endoftext|>\",\n",
    "    \"additional_special_tokens\": [\n",
    "        \"<|endoftext|>\",\n",
    "        \"<|startoftext|>\",\n",
    "        \"<|model|>\",\n",
    "        \"<|prompt|>\",\n",
    "        \"<|text|>\"\n",
    "    ]\n",
    "}\n",
    "\n",
    "num_added_toks = tokenizer.add_special_tokens(special_tokens_dict)\n",
    "\n",
    "print(\"We have added\", num_added_toks, \"tokens\")\n",
    "\n",
    "print(f\"EOS TOKEN: {tokenizer.eos_token}\")\n",
    "print(f\"BOS TOKEN: {tokenizer.bos_token}\")\n",
    "print(f\"Additional Special Tokens: {tokenizer.additional_special_tokens}\")\n",
    "\n",
    "print(\"Resizing Token Embeddings\")\n",
    "model.resize_token_embeddings(len(tokenizer))\n",
    "\n",
    "print(\"Saving Model\")\n",
    "model.save_pretrained(model_output_dir)\n",
    "\n",
    "print(\"Saving Tokenizer\")\n",
    "tokenizer.save_pretrained(tokenizer_path)\n",
    "\n",
    "print(\"Loading Model\")\n",
    "model = GPT2LMHeadModel.from_pretrained(model_output_dir)\n",
    "\n",
    "print(\"Loading Tokenizer\")\n",
    "tokenizer = GPT2Tokenizer.from_pretrained(tokenizer_path)"
   ],
   "metadata": {
    "collapsed": false
   }
  },
  {
   "cell_type": "code",
   "execution_count": null,
   "outputs": [],
   "source": [
    "model.cuda()\n",
    "\n",
    "generator = torch.Generator()\n",
    "\n",
    "generator.manual_seed(0)\n",
    "\n",
    "print(f\":: Total Number Of Samples {len(data_lines)}\")\n",
    "max_length = max([len(tokenizer.encode(prompt)) for prompt in data_lines])\n",
    "\n",
    "print(f\":: Max Length Of Sample {max_length}\")\n",
    "dataset = CustomDataset(data_lines, tokenizer, max_length, False)\n",
    "\n",
    "train_size = int(0.9 * len(dataset))\n",
    "\n",
    "train_dataset, eval_dataset = random_split(dataset, [train_size, len(dataset) - train_size], generator=generator)"
   ],
   "metadata": {
    "collapsed": false
   }
  },
  {
   "cell_type": "code",
   "execution_count": null,
   "outputs": [],
   "source": [
    "training_args = TrainingArguments(output_dir=model_output_dir)\n",
    "training_args.num_train_epochs = 5\n",
    "training_args.per_device_train_batch_size = 1\n",
    "training_args.per_device_eval_batch_size = 1\n",
    "training_args.logging_steps=50\n",
    "training_args.save_steps=8000\n",
    "training_args.weight_decay=0.0\n",
    "training_args.fp16=True\n",
    "training_args.auto_find_batch_size=True\n",
    "training_args.gradient_accumulation_steps=50\n",
    "training_args.learning_rate=1e-4"
   ],
   "metadata": {
    "collapsed": false
   }
  },
  {
   "cell_type": "code",
   "execution_count": null,
   "outputs": [],
   "source": [
    "trainer: Trainer = Trainer(\n",
    "\tmodel=model,\n",
    "\ttokenizer=tokenizer,\n",
    "\targs=training_args,\n",
    "\ttrain_dataset=train_dataset,\n",
    "\teval_dataset=eval_dataset,\n",
    "\tdata_collator=lambda data: {\n",
    "\t\t'input_ids': torch.stack([x[0] for x in data]),\n",
    "\t\t'attention_mask': torch.stack([x[1] for x in data]),\n",
    "\t\t'labels': torch.stack([x[0] for x in data])\n",
    "\t}\n",
    ")"
   ],
   "metadata": {
    "collapsed": false
   }
  },
  {
   "cell_type": "code",
   "execution_count": null,
   "outputs": [],
   "source": [
    "trainer.train()\n",
    "\n",
    "trainer.save_model(model_output_dir)"
   ],
   "metadata": {
    "collapsed": false
   }
  },
  {
   "cell_type": "code",
   "execution_count": null,
   "outputs": [],
   "source": [
    "tokenizer = GPT2Tokenizer.from_pretrained(tokenizer_path)\n",
    "\n",
    "model = GPT2LMHeadModel.from_pretrained(model_output_dir)"
   ],
   "metadata": {
    "collapsed": false
   }
  },
  {
   "cell_type": "code",
   "execution_count": null,
   "outputs": [],
   "source": [
    "question = \"<|startoftext|> <|model|> SexyDiffusion\"\n",
    "\n",
    "prompt = f\"{question}\"\n",
    "\n",
    "device = torch.device(f\"cuda\" if torch.cuda.is_available() else \"cpu\")\n",
    "\n",
    "generation_prompt = tokenizer(prompt, add_special_tokens=False, return_tensors=\"pt\")\n",
    "\n",
    "model.to(device)\n",
    "\n",
    "generation_prompt.to(device)\n",
    "\n",
    "inputs = generation_prompt.input_ids\n",
    "\n",
    "attention_mask = generation_prompt['attention_mask']\n",
    "\n",
    "sample_outputs = model.generate(inputs=inputs,\n",
    "\t\t\t\t\t\t\t\tattention_mask=attention_mask,\n",
    "\t\t\t\t\t\t\t\tdo_sample=True,\n",
    "\t\t\t\t\t\t\t\tmax_length=50,\n",
    "\t\t\t\t\t\t\t\tnum_return_sequences=1,\n",
    "\t\t\t\t\t\t\t\trepetition_penalty=1.1)\n",
    "result = \"\"\n",
    "for i, sample_output in enumerate(sample_outputs):\n",
    "\tresult = tokenizer.decode(sample_output, skip_special_tokens=False)\n",
    "\tprint(result)"
   ],
   "metadata": {
    "collapsed": false
   }
  }
 ],
 "metadata": {
  "kernelspec": {
   "display_name": "Python 3",
   "language": "python",
   "name": "python3"
  },
  "language_info": {
   "codemirror_mode": {
    "name": "ipython",
    "version": 2
   },
   "file_extension": ".py",
   "mimetype": "text/x-python",
   "name": "python",
   "nbconvert_exporter": "python",
   "pygments_lexer": "ipython2",
   "version": "2.7.6"
  }
 },
 "nbformat": 4,
 "nbformat_minor": 0
}
