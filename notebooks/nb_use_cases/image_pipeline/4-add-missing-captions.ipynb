{
 "cells": [
  {
   "cell_type": "code",
   "execution_count": 1,
   "metadata": {
    "collapsed": true
   },
   "outputs": [],
   "source": [
    "import os.path\n",
    "\n",
    "from shared_code.utility.schemas.spark_table_schema import image_table_schema\n",
    "from shared_code.utility.spark.set_environ import *\n",
    "\n",
    "os.environ['PYSPARK_PYTHON'] = sys.executable\n",
    "os.environ['PYSPARK_DRIVER_PYTHON'] = sys.executable\n",
    "set_azure_env()\n",
    "\n",
    "spark = SparkSession \\\n",
    "\t.builder \\\n",
    "\t.appName('add-missing-captions') \\\n",
    "\t.master(\"local[6]\") \\\n",
    "\t.config(\"spark.cores.max\", \"1\") \\\n",
    "\t.config(\"spark.executor.instances\", \"1\") \\\n",
    "\t.config(\"spark.executor.cores\", \"1\") \\\n",
    "\t.config(\"spark.executor.cores\", \"1\") \\\n",
    "\t.config(\"spark.executor.instances\", \"1\") \\\n",
    "\t.config(\"spark.executor.cores\", \"1\")\n",
    "\n",
    "\n",
    "spark_context = spark.getOrCreate()\n"
   ]
  },
  {
   "cell_type": "code",
   "execution_count": 3,
   "outputs": [
    {
     "name": "stdout",
     "output_type": "stream",
     "text": [
      "Total Number Of Records From Pre-Processing 6501\n"
     ]
    },
    {
     "data": {
      "text/plain": "  PartitionKey   RowKey                                              image  \\\n0     training  11090tg         D:\\data\\images\\EarthPorn\\vc1wh65itqha1.jpg   \n1     training  11092s0       D:\\data\\images\\SFWRedheads\\8lb4z8n3uqha1.jpg   \n2     training  110961d          D:\\data\\images\\CityPorn\\2czgh0e5vqha1.jpg   \n3     training  1109a10       D:\\data\\images\\SFWRedheads\\hy9j0og8wqha1.jpg   \n4     training  1109ycm          D:\\data\\images\\CityPorn\\7beed5n54rha1.jpg   \n5     training  110b0wt        D:\\data\\images\\SFWNextDoorGirls\\6piZs7j.jpg   \n6     training  110b1an          D:\\data\\images\\CityPorn\\rgotpnatzpha1.jpg   \n7     training  110bipg  D:\\data\\images\\SFWNextDoorGirls\\xywgncrbnrha1.jpg   \n8     training  110c2gi       D:\\data\\images\\SFWRedheads\\99hm504mtrha1.jpg   \n9     training  110c2vo       D:\\data\\images\\SFWRedheads\\kkerxboqtrha1.jpg   \n\n                                                text       id  \\\n0                   Depoe Bay, OR USA [OC] 1080x1920  11090tg   \n1                                    Morning hair xx  11092s0   \n2                       St Paul’s Cathedral. London.  110961d   \n3                 Do you like my natural red curls?!  1109a10   \n4  Taipei, the Seoul of Taiwan (which makes Kaohs...  1109ycm   \n5  A real no makeup moment, cause this is how Sun...  110b0wt   \n6                       Duisburg, Detroit of Germany  110b1an   \n7                                 enjoy your Sunday!  110bipg   \n8                Happy sunday! Sending greetings! ❤️  110c2gi   \n9         The kind of girl you can have a beer with.  110c2vo   \n\n               author                                  url              flair  \\\n0            Bpercell  https://i.redd.it/vc1wh65itqha1.jpg                NaN   \n1        demidiamond4  https://i.redd.it/8lb4z8n3uqha1.jpg                NaN   \n2  OkCardiologist2765  https://i.redd.it/2czgh0e5vqha1.jpg                NaN   \n3          ketunicorn  https://i.redd.it/hy9j0og8wqha1.jpg                NaN   \n4            Ducky118  https://i.redd.it/7beed5n54rha1.jpg                NaN   \n5       princessxo699      https://i.imgur.com/6piZs7j.jpg    Feelin Happy 😃    \n6  Expensive-Team7416  https://i.redd.it/rgotpnatzpha1.jpg                NaN   \n7         trickyalice  https://i.redd.it/xywgncrbnrha1.jpg  Outfit of the Day   \n8         GingeMariia  https://i.redd.it/99hm504mtrha1.jpg                NaN   \n9        MissKatiesss  https://i.redd.it/kkerxboqtrha1.jpg                NaN   \n\n                                           permalink  \\\n0  /r/EarthPorn/comments/11090tg/depoe_bay_or_usa...   \n1   /r/SFWRedheads/comments/11092s0/morning_hair_xx/   \n2  /r/CityPorn/comments/110961d/st_pauls_cathedra...   \n3  /r/SFWRedheads/comments/1109a10/do_you_like_my...   \n4  /r/CityPorn/comments/1109ycm/taipei_the_seoul_...   \n5  /r/SFWNextDoorGirls/comments/110b0wt/a_real_no...   \n6  /r/CityPorn/comments/110b1an/duisburg_detroit_...   \n7  /r/SFWNextDoorGirls/comments/110bipg/enjoy_you...   \n8  /r/SFWRedheads/comments/110c2gi/happy_sunday_s...   \n9  /r/SFWRedheads/comments/110c2vo/the_kind_of_gi...   \n\n                               hash         subreddit  \\\n0  31c6df5a2815d8e5e8c85fe51b08460e         EarthPorn   \n1  afe1ae1ae3e663b0ca62cb3b19a5c3ef       SFWRedheads   \n2  ef3c3f82ec490f8d3ccc06948258a3b4          CityPorn   \n3  9008fe70d17b904fcfc7c6a2232ad569       SFWRedheads   \n4  848b795097dca410c409797c679ab4fa          CityPorn   \n5  5ccd774afb17fb0c44460121ed9ce61d  SFWNextDoorGirls   \n6  3eb930bdf3fac4e5b16617edad9df65a          CityPorn   \n7  9475adbe05427c47772346f8ab672952  SFWNextDoorGirls   \n8  20ced2827eb9e9cd3464835306cfd075       SFWRedheads   \n9  f53572296a0b8fb6654808866440316a       SFWRedheads   \n\n                                             caption  exists  \\\n0  A group of people are sitting on the shore of ...    True   \n1                 A girl in a pink dress is smiling.    True   \n2  A man in a red coat is standing in front of a ...    True   \n3  A girl in a pink dress is standing in front of...    True   \n4                       A bird flies over the water.    True   \n5  A girl in a pink hat and sunglasses is talking...    True   \n6                       A bird flies over the water.    True   \n7  A woman in a pink shirt and jeans is talking t...    True   \n8  A girl in a pink shirt and blue jeans is stand...    True   \n9  A woman in a red dress is talking to a man in ...    True   \n\n          image_name updated_caption  \\\n0  vc1wh65itqha1.jpg             NaN   \n1  8lb4z8n3uqha1.jpg             NaN   \n2  2czgh0e5vqha1.jpg             NaN   \n3  hy9j0og8wqha1.jpg             NaN   \n4  7beed5n54rha1.jpg             NaN   \n5        6piZs7j.jpg             NaN   \n6  rgotpnatzpha1.jpg             NaN   \n7  xywgncrbnrha1.jpg             NaN   \n8  99hm504mtrha1.jpg             NaN   \n9  kkerxboqtrha1.jpg             NaN   \n\n                                         small_image  curated  \n0  D:\\data\\images\\EarthPorn\\thumbnail\\vc1wh65itqh...    False  \n1  D:\\data\\images\\SFWRedheads\\thumbnail\\8lb4z8n3u...    False  \n2  D:\\data\\images\\CityPorn\\thumbnail\\2czgh0e5vqha...    False  \n3  D:\\data\\images\\SFWRedheads\\thumbnail\\hy9j0og8w...    False  \n4  D:\\data\\images\\CityPorn\\thumbnail\\7beed5n54rha...    False  \n5  D:\\data\\images\\SFWNextDoorGirls\\thumbnail\\6piZ...    False  \n6  D:\\data\\images\\CityPorn\\thumbnail\\rgotpnatzpha...    False  \n7  D:\\data\\images\\SFWNextDoorGirls\\thumbnail\\xywg...    False  \n8  D:\\data\\images\\SFWRedheads\\thumbnail\\99hm504mt...    False  \n9  D:\\data\\images\\SFWRedheads\\thumbnail\\kkerxboqt...    False  ",
      "text/html": "<div>\n<style scoped>\n    .dataframe tbody tr th:only-of-type {\n        vertical-align: middle;\n    }\n\n    .dataframe tbody tr th {\n        vertical-align: top;\n    }\n\n    .dataframe thead th {\n        text-align: right;\n    }\n</style>\n<table border=\"1\" class=\"dataframe\">\n  <thead>\n    <tr style=\"text-align: right;\">\n      <th></th>\n      <th>PartitionKey</th>\n      <th>RowKey</th>\n      <th>image</th>\n      <th>text</th>\n      <th>id</th>\n      <th>author</th>\n      <th>url</th>\n      <th>flair</th>\n      <th>permalink</th>\n      <th>hash</th>\n      <th>subreddit</th>\n      <th>caption</th>\n      <th>exists</th>\n      <th>image_name</th>\n      <th>updated_caption</th>\n      <th>small_image</th>\n      <th>curated</th>\n    </tr>\n  </thead>\n  <tbody>\n    <tr>\n      <th>0</th>\n      <td>training</td>\n      <td>11090tg</td>\n      <td>D:\\data\\images\\EarthPorn\\vc1wh65itqha1.jpg</td>\n      <td>Depoe Bay, OR USA [OC] 1080x1920</td>\n      <td>11090tg</td>\n      <td>Bpercell</td>\n      <td>https://i.redd.it/vc1wh65itqha1.jpg</td>\n      <td>NaN</td>\n      <td>/r/EarthPorn/comments/11090tg/depoe_bay_or_usa...</td>\n      <td>31c6df5a2815d8e5e8c85fe51b08460e</td>\n      <td>EarthPorn</td>\n      <td>A group of people are sitting on the shore of ...</td>\n      <td>True</td>\n      <td>vc1wh65itqha1.jpg</td>\n      <td>NaN</td>\n      <td>D:\\data\\images\\EarthPorn\\thumbnail\\vc1wh65itqh...</td>\n      <td>False</td>\n    </tr>\n    <tr>\n      <th>1</th>\n      <td>training</td>\n      <td>11092s0</td>\n      <td>D:\\data\\images\\SFWRedheads\\8lb4z8n3uqha1.jpg</td>\n      <td>Morning hair xx</td>\n      <td>11092s0</td>\n      <td>demidiamond4</td>\n      <td>https://i.redd.it/8lb4z8n3uqha1.jpg</td>\n      <td>NaN</td>\n      <td>/r/SFWRedheads/comments/11092s0/morning_hair_xx/</td>\n      <td>afe1ae1ae3e663b0ca62cb3b19a5c3ef</td>\n      <td>SFWRedheads</td>\n      <td>A girl in a pink dress is smiling.</td>\n      <td>True</td>\n      <td>8lb4z8n3uqha1.jpg</td>\n      <td>NaN</td>\n      <td>D:\\data\\images\\SFWRedheads\\thumbnail\\8lb4z8n3u...</td>\n      <td>False</td>\n    </tr>\n    <tr>\n      <th>2</th>\n      <td>training</td>\n      <td>110961d</td>\n      <td>D:\\data\\images\\CityPorn\\2czgh0e5vqha1.jpg</td>\n      <td>St Paul’s Cathedral. London.</td>\n      <td>110961d</td>\n      <td>OkCardiologist2765</td>\n      <td>https://i.redd.it/2czgh0e5vqha1.jpg</td>\n      <td>NaN</td>\n      <td>/r/CityPorn/comments/110961d/st_pauls_cathedra...</td>\n      <td>ef3c3f82ec490f8d3ccc06948258a3b4</td>\n      <td>CityPorn</td>\n      <td>A man in a red coat is standing in front of a ...</td>\n      <td>True</td>\n      <td>2czgh0e5vqha1.jpg</td>\n      <td>NaN</td>\n      <td>D:\\data\\images\\CityPorn\\thumbnail\\2czgh0e5vqha...</td>\n      <td>False</td>\n    </tr>\n    <tr>\n      <th>3</th>\n      <td>training</td>\n      <td>1109a10</td>\n      <td>D:\\data\\images\\SFWRedheads\\hy9j0og8wqha1.jpg</td>\n      <td>Do you like my natural red curls?!</td>\n      <td>1109a10</td>\n      <td>ketunicorn</td>\n      <td>https://i.redd.it/hy9j0og8wqha1.jpg</td>\n      <td>NaN</td>\n      <td>/r/SFWRedheads/comments/1109a10/do_you_like_my...</td>\n      <td>9008fe70d17b904fcfc7c6a2232ad569</td>\n      <td>SFWRedheads</td>\n      <td>A girl in a pink dress is standing in front of...</td>\n      <td>True</td>\n      <td>hy9j0og8wqha1.jpg</td>\n      <td>NaN</td>\n      <td>D:\\data\\images\\SFWRedheads\\thumbnail\\hy9j0og8w...</td>\n      <td>False</td>\n    </tr>\n    <tr>\n      <th>4</th>\n      <td>training</td>\n      <td>1109ycm</td>\n      <td>D:\\data\\images\\CityPorn\\7beed5n54rha1.jpg</td>\n      <td>Taipei, the Seoul of Taiwan (which makes Kaohs...</td>\n      <td>1109ycm</td>\n      <td>Ducky118</td>\n      <td>https://i.redd.it/7beed5n54rha1.jpg</td>\n      <td>NaN</td>\n      <td>/r/CityPorn/comments/1109ycm/taipei_the_seoul_...</td>\n      <td>848b795097dca410c409797c679ab4fa</td>\n      <td>CityPorn</td>\n      <td>A bird flies over the water.</td>\n      <td>True</td>\n      <td>7beed5n54rha1.jpg</td>\n      <td>NaN</td>\n      <td>D:\\data\\images\\CityPorn\\thumbnail\\7beed5n54rha...</td>\n      <td>False</td>\n    </tr>\n    <tr>\n      <th>5</th>\n      <td>training</td>\n      <td>110b0wt</td>\n      <td>D:\\data\\images\\SFWNextDoorGirls\\6piZs7j.jpg</td>\n      <td>A real no makeup moment, cause this is how Sun...</td>\n      <td>110b0wt</td>\n      <td>princessxo699</td>\n      <td>https://i.imgur.com/6piZs7j.jpg</td>\n      <td>Feelin Happy 😃</td>\n      <td>/r/SFWNextDoorGirls/comments/110b0wt/a_real_no...</td>\n      <td>5ccd774afb17fb0c44460121ed9ce61d</td>\n      <td>SFWNextDoorGirls</td>\n      <td>A girl in a pink hat and sunglasses is talking...</td>\n      <td>True</td>\n      <td>6piZs7j.jpg</td>\n      <td>NaN</td>\n      <td>D:\\data\\images\\SFWNextDoorGirls\\thumbnail\\6piZ...</td>\n      <td>False</td>\n    </tr>\n    <tr>\n      <th>6</th>\n      <td>training</td>\n      <td>110b1an</td>\n      <td>D:\\data\\images\\CityPorn\\rgotpnatzpha1.jpg</td>\n      <td>Duisburg, Detroit of Germany</td>\n      <td>110b1an</td>\n      <td>Expensive-Team7416</td>\n      <td>https://i.redd.it/rgotpnatzpha1.jpg</td>\n      <td>NaN</td>\n      <td>/r/CityPorn/comments/110b1an/duisburg_detroit_...</td>\n      <td>3eb930bdf3fac4e5b16617edad9df65a</td>\n      <td>CityPorn</td>\n      <td>A bird flies over the water.</td>\n      <td>True</td>\n      <td>rgotpnatzpha1.jpg</td>\n      <td>NaN</td>\n      <td>D:\\data\\images\\CityPorn\\thumbnail\\rgotpnatzpha...</td>\n      <td>False</td>\n    </tr>\n    <tr>\n      <th>7</th>\n      <td>training</td>\n      <td>110bipg</td>\n      <td>D:\\data\\images\\SFWNextDoorGirls\\xywgncrbnrha1.jpg</td>\n      <td>enjoy your Sunday!</td>\n      <td>110bipg</td>\n      <td>trickyalice</td>\n      <td>https://i.redd.it/xywgncrbnrha1.jpg</td>\n      <td>Outfit of the Day</td>\n      <td>/r/SFWNextDoorGirls/comments/110bipg/enjoy_you...</td>\n      <td>9475adbe05427c47772346f8ab672952</td>\n      <td>SFWNextDoorGirls</td>\n      <td>A woman in a pink shirt and jeans is talking t...</td>\n      <td>True</td>\n      <td>xywgncrbnrha1.jpg</td>\n      <td>NaN</td>\n      <td>D:\\data\\images\\SFWNextDoorGirls\\thumbnail\\xywg...</td>\n      <td>False</td>\n    </tr>\n    <tr>\n      <th>8</th>\n      <td>training</td>\n      <td>110c2gi</td>\n      <td>D:\\data\\images\\SFWRedheads\\99hm504mtrha1.jpg</td>\n      <td>Happy sunday! Sending greetings! ❤️</td>\n      <td>110c2gi</td>\n      <td>GingeMariia</td>\n      <td>https://i.redd.it/99hm504mtrha1.jpg</td>\n      <td>NaN</td>\n      <td>/r/SFWRedheads/comments/110c2gi/happy_sunday_s...</td>\n      <td>20ced2827eb9e9cd3464835306cfd075</td>\n      <td>SFWRedheads</td>\n      <td>A girl in a pink shirt and blue jeans is stand...</td>\n      <td>True</td>\n      <td>99hm504mtrha1.jpg</td>\n      <td>NaN</td>\n      <td>D:\\data\\images\\SFWRedheads\\thumbnail\\99hm504mt...</td>\n      <td>False</td>\n    </tr>\n    <tr>\n      <th>9</th>\n      <td>training</td>\n      <td>110c2vo</td>\n      <td>D:\\data\\images\\SFWRedheads\\kkerxboqtrha1.jpg</td>\n      <td>The kind of girl you can have a beer with.</td>\n      <td>110c2vo</td>\n      <td>MissKatiesss</td>\n      <td>https://i.redd.it/kkerxboqtrha1.jpg</td>\n      <td>NaN</td>\n      <td>/r/SFWRedheads/comments/110c2vo/the_kind_of_gi...</td>\n      <td>f53572296a0b8fb6654808866440316a</td>\n      <td>SFWRedheads</td>\n      <td>A woman in a red dress is talking to a man in ...</td>\n      <td>True</td>\n      <td>kkerxboqtrha1.jpg</td>\n      <td>NaN</td>\n      <td>D:\\data\\images\\SFWRedheads\\thumbnail\\kkerxboqt...</td>\n      <td>False</td>\n    </tr>\n  </tbody>\n</table>\n</div>"
     },
     "metadata": {},
     "output_type": "display_data"
    }
   ],
   "source": [
    "data = []\n",
    "# if os.path.exists(\"D:\\\\data\\\\processed\\\\reddit_images_vit_captioned.parquet\") and os.path.getsize(\"D:\\\\data\\\\processed\\\\reddit_images_vit_captioned.parquet\") > 0:\n",
    "# \tdata = spark_context.read.parquet(\"D:\\\\data\\\\processed\\\\reddit_images_vit_captioned.parquet\")\n",
    "# else:\n",
    "spark_df = spark_context.read.parquet(\"D:\\\\data\\\\processed\\\\reddit_images_processed.parquet\", schema=image_table_schema)\n",
    "\n",
    "print(f\"Total Number Of Records From Pre-Processing {spark_df.count()}\")\n",
    "\n",
    "display(spark_df.limit(10).toPandas())"
   ],
   "metadata": {
    "collapsed": false
   }
  },
  {
   "cell_type": "code",
   "execution_count": 4,
   "outputs": [],
   "source": [
    "from shared_code.utility.scripts.image_analysis import ImageCaption\n",
    "import random\n",
    "from pyspark.sql.types import StringType\n",
    "from pyspark.sql.functions import udf\n",
    "from shared_code.utility.storage.table import TableAdapter\n",
    "\n",
    "table_adapter: TableAdapter = TableAdapter()\n",
    "caption_instance = ImageCaption()\n",
    "\n",
    "\n",
    "def get_caption_image_name(image_path: str, caption: str, row_key: str, partition_key: str):\n",
    "\tif not os.path.exists(image_path):\n",
    "\t\treturn \"\"\n",
    "\ttry:\n",
    "\t\tif caption is None or caption == \"\" or caption == \"NaN\":\n",
    "\t\t\tprint(f\"Caption is empty for image {image_path} - {caption}\")\n",
    "\t\t\tcaption = caption_instance.caption_image_vit(image_path, random.choice([1, 2]))\n",
    "\t\t\tprint(f\"Caption is completed for image {image_path} - {caption}\")\n",
    "\t\t\tentity = table_adapter.get_entity(\"training\", partition_key, row_key)\n",
    "\t\t\tentity[\"updated_caption\"] = caption\n",
    "\t\t\ttable_adapter.upsert_entity_to_table(\"training\", entity)\n",
    "\t\t\treturn caption\n",
    "\t\telse:\n",
    "\t\t\treturn caption\n",
    "\texcept:\n",
    "\t\treturn \"\""
   ],
   "metadata": {
    "collapsed": false
   }
  },
  {
   "cell_type": "code",
   "execution_count": null,
   "outputs": [
    {
     "name": "stdout",
     "output_type": "stream",
     "text": [
      "4700\n"
     ]
    }
   ],
   "source": [
    "get_caption_image_name_udf = udf(get_caption_image_name, StringType())\n",
    "\n",
    "print(spark_df.where(\"updated_caption == 'NaN'\").count())\n",
    "\n",
    "spark_df.withColumn(\"updated_caption\", get_caption_image_name_udf(\"small_image\", \"updated_caption\", \"RowKey\", \"PartitionKey\")).write.parquet(\"D:\\\\data\\\\processed\\\\reddit_images_vit_captioned.parquet\", mode=\"append\")"
   ],
   "metadata": {
    "collapsed": false,
    "pycharm": {
     "is_executing": true
    }
   }
  },
  {
   "cell_type": "code",
   "execution_count": null,
   "outputs": [],
   "source": [
    "new_frame = spark_context.createDataFrame(spark.read.parquet(\"D:\\\\data\\\\processed\\\\reddit_images_vit_captioned.parquet\").collect(), schema=image_table_schema)\n",
    "\n",
    "display(new_frame.limit(10).toPandas())"
   ],
   "metadata": {
    "collapsed": false
   }
  },
  {
   "cell_type": "code",
   "execution_count": null,
   "outputs": [],
   "source": [
    "from shared_code.utility.storage.table import TableAdapter\n",
    "\n",
    "table_adapter: TableAdapter = TableAdapter()\n",
    "\n",
    "records = new_frame.toPandas().to_dict('records')\n",
    "\n",
    "for record in records:\n",
    "\ttable_adapter.upsert_entity_to_table(\"training\", record)"
   ],
   "metadata": {
    "collapsed": false
   }
  }
 ],
 "metadata": {
  "kernelspec": {
   "display_name": "Python 3",
   "language": "python",
   "name": "python3"
  },
  "language_info": {
   "codemirror_mode": {
    "name": "ipython",
    "version": 2
   },
   "file_extension": ".py",
   "mimetype": "text/x-python",
   "name": "python",
   "nbconvert_exporter": "python",
   "pygments_lexer": "ipython2",
   "version": "2.7.6"
  }
 },
 "nbformat": 4,
 "nbformat_minor": 0
}
